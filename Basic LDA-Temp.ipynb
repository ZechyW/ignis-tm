{
 "cells": [
  {
   "cell_type": "markdown",
   "metadata": {},
   "source": [
    "Basic Text Pre-processing and Topic Modelling\n",
    "======"
   ]
  },
  {
   "cell_type": "code",
   "execution_count": 1,
   "metadata": {
    "ExecuteTime": {
     "end_time": "2020-06-03T07:09:55.690789Z",
     "start_time": "2020-06-03T07:09:52.159846Z"
    }
   },
   "outputs": [],
   "source": [
    "import glob\n",
    "import math\n",
    "import re\n",
    "import threading\n",
    "import time\n",
    "\n",
    "import gensim\n",
    "import nltk\n",
    "import pyLDAvis\n",
    "import tomotopy as tp\n",
    "import tqdm"
   ]
  },
  {
   "cell_type": "code",
   "execution_count": 2,
   "metadata": {
    "ExecuteTime": {
     "end_time": "2020-06-03T07:09:55.740774Z",
     "start_time": "2020-06-03T07:09:55.691769Z"
    }
   },
   "outputs": [],
   "source": [
    "# Interactively print the documents in the corpus at various stages\n",
    "import ipywidgets as widgets\n",
    "\n",
    "\n",
    "def show_all(doc_list):\n",
    "    return widgets.interact(\n",
    "        lambda doc: print(doc_list[doc]), doc=(0, len(doc_list) - 1)\n",
    "    )"
   ]
  },
  {
   "cell_type": "markdown",
   "metadata": {},
   "source": [
    "Data ingestion\n",
    "-----"
   ]
  },
  {
   "cell_type": "code",
   "execution_count": 3,
   "metadata": {
    "ExecuteTime": {
     "end_time": "2020-06-03T07:09:55.757756Z",
     "start_time": "2020-06-03T07:09:55.741763Z"
    }
   },
   "outputs": [],
   "source": [
    "data_files = glob.glob(\"./data/bbc/*/*.txt\")"
   ]
  },
  {
   "cell_type": "code",
   "execution_count": 4,
   "metadata": {
    "ExecuteTime": {
     "end_time": "2020-06-03T07:09:55.960538Z",
     "start_time": "2020-06-03T07:09:55.758745Z"
    },
    "scrolled": false
   },
   "outputs": [
    {
     "name": "stderr",
     "output_type": "stream",
     "text": [
      "100%|██████████| 2225/2225 [00:00<00:00, 11600.45it/s]\n"
     ]
    }
   ],
   "source": [
    "raw_docs = []\n",
    "for file in tqdm.tqdm(data_files):\n",
    "    with open(file) as f:\n",
    "        doc = f.read()\n",
    "        raw_docs.append(doc)"
   ]
  },
  {
   "cell_type": "code",
   "execution_count": 5,
   "metadata": {
    "ExecuteTime": {
     "end_time": "2020-06-03T07:09:55.990542Z",
     "start_time": "2020-06-03T07:09:55.961538Z"
    },
    "scrolled": true
   },
   "outputs": [
    {
     "data": {
      "application/vnd.jupyter.widget-view+json": {
       "model_id": "0fe8c35836ff4b11915447eb902fe885",
       "version_major": 2,
       "version_minor": 0
      },
      "text/plain": [
       "interactive(children=(IntSlider(value=1112, description='doc', max=2224), Output()), _dom_classes=('widget-int…"
      ]
     },
     "metadata": {},
     "output_type": "display_data"
    },
    {
     "data": {
      "text/plain": [
       "<function __main__.show_all.<locals>.<lambda>(doc)>"
      ]
     },
     "execution_count": 5,
     "metadata": {},
     "output_type": "execute_result"
    }
   ],
   "source": [
    "show_all(raw_docs)"
   ]
  },
  {
   "cell_type": "markdown",
   "metadata": {},
   "source": [
    "Text pre-processing and tokenisation\n",
    "------"
   ]
  },
  {
   "cell_type": "markdown",
   "metadata": {},
   "source": [
    "- Naive tokenisation (by whitespace)\n",
    "- Remove single apostrophes\n",
    "- Strip leading/trailing non-informative punctuation from tokens"
   ]
  },
  {
   "cell_type": "code",
   "execution_count": 6,
   "metadata": {
    "ExecuteTime": {
     "end_time": "2020-06-03T07:09:56.322199Z",
     "start_time": "2020-06-03T07:09:55.993540Z"
    }
   },
   "outputs": [],
   "source": [
    "remove_punctuation = \"'\\\"()[]?!,.:;<>/|_\"\n",
    "\n",
    "\n",
    "def naive_tokenise(doc):\n",
    "    new_tokens = []\n",
    "\n",
    "    tokens = doc.split()\n",
    "    for token in tokens:\n",
    "        token = token.strip(remove_punctuation)\n",
    "        token = token.replace(\"'\", \"\")\n",
    "        token = token.strip()\n",
    "        \n",
    "        if token != \"\":\n",
    "            new_tokens.append(token)\n",
    "\n",
    "    return new_tokens\n",
    "\n",
    "\n",
    "docs = [naive_tokenise(doc) for doc in raw_docs]"
   ]
  },
  {
   "cell_type": "code",
   "execution_count": 7,
   "metadata": {
    "ExecuteTime": {
     "end_time": "2020-06-03T07:09:56.367171Z",
     "start_time": "2020-06-03T07:09:56.323198Z"
    }
   },
   "outputs": [
    {
     "data": {
      "application/vnd.jupyter.widget-view+json": {
       "model_id": "8c32ef78af5a468daa59f7651703a620",
       "version_major": 2,
       "version_minor": 0
      },
      "text/plain": [
       "interactive(children=(IntSlider(value=1112, description='doc', max=2224), Output()), _dom_classes=('widget-int…"
      ]
     },
     "metadata": {},
     "output_type": "display_data"
    },
    {
     "data": {
      "text/plain": [
       "<function __main__.show_all.<locals>.<lambda>(doc)>"
      ]
     },
     "execution_count": 7,
     "metadata": {},
     "output_type": "execute_result"
    }
   ],
   "source": [
    "display_docs = [\" \".join(doc) for doc in docs]\n",
    "show_all(display_docs)"
   ]
  },
  {
   "cell_type": "markdown",
   "metadata": {},
   "source": [
    "Chunk into significant bigrams/trigrams based on collocation frequency\n",
    "\n",
    "- Min count: Must appear in at least 0.1% of the documents\n",
    "\n",
    "- Scoring: \"default\" or \"npmi\"\n",
    "\n",
    "- Threshold: Intuitively, higher threshold means fewer phrases. With the default scorer, this is greater than or equal to 0; with the NPMI scorer, this is in the range -1 to 1.\n",
    "\n",
    "- Common terms: These terms will be ignored if they come between normal words. E.g., if `common_terms` includes the word \"of\", then when the phraser sees \"Wheel of Fortune\" it actually evaluates _\"Wheel Fortune\"_ as an n-gram, putting \"of\" back in only at the output level."
   ]
  },
  {
   "cell_type": "code",
   "execution_count": 8,
   "metadata": {
    "ExecuteTime": {
     "end_time": "2020-06-03T07:09:56.373166Z",
     "start_time": "2020-06-03T07:09:56.368170Z"
    }
   },
   "outputs": [],
   "source": [
    "min_count = math.ceil(len(docs) / 1000)\n",
    "scoring = \"npmi\"\n",
    "# We want a relatively high threshold so that we don't start littering spurious n-grams all over our corpus, diluting our results.\n",
    "# E.g., we want \"Lord_of_the_Rings\", but not \"slightly_better_than_analysts\"\n",
    "threshold = 0.8\n",
    "common_terms = [\"a\", \"an\", \"the\", \"of\", \"on\", \"in\", \"at\"]"
   ]
  },
  {
   "cell_type": "markdown",
   "metadata": {},
   "source": [
    "This could take a while, so set up a threaded function with a basic progress indicator in the main thread"
   ]
  },
  {
   "cell_type": "code",
   "execution_count": 9,
   "metadata": {
    "ExecuteTime": {
     "end_time": "2020-06-03T07:09:56.386159Z",
     "start_time": "2020-06-03T07:09:56.375164Z"
    }
   },
   "outputs": [],
   "source": [
    "def find_ngrams(docs, results):\n",
    "    bigram = gensim.models.Phrases(\n",
    "        docs,\n",
    "        min_count=min_count,\n",
    "        threshold=threshold,\n",
    "        scoring=scoring,\n",
    "        common_terms=common_terms,\n",
    "    )\n",
    "    trigram = gensim.models.Phrases(\n",
    "        bigram[docs],\n",
    "        min_count=min_count,\n",
    "        threshold=threshold,\n",
    "        scoring=scoring,\n",
    "        common_terms=common_terms,\n",
    "    )\n",
    "\n",
    "    # Finalise the bigram/trigram generators for efficiency\n",
    "    bigram_mod = gensim.models.phrases.Phraser(bigram)\n",
    "    trigram_mod = gensim.models.phrases.Phraser(trigram)\n",
    "\n",
    "    results[0] = bigram_mod\n",
    "    results[1] = trigram_mod"
   ]
  },
  {
   "cell_type": "code",
   "execution_count": 10,
   "metadata": {
    "ExecuteTime": {
     "end_time": "2020-06-03T07:10:11.861182Z",
     "start_time": "2020-06-03T07:09:56.388150Z"
    }
   },
   "outputs": [
    {
     "name": "stdout",
     "output_type": "stream",
     "text": [
      "Generating n-grams . . . . . . . . . . Done. (12.511s)\n",
      "Applying n-grams... Done.\n"
     ]
    }
   ],
   "source": [
    "print(\"Generating n-grams \", flush=True, end=\"\")\n",
    "\n",
    "start_time = time.perf_counter()\n",
    "\n",
    "results = [None, None]\n",
    "t = threading.Thread(target=find_ngrams, args=(docs, results))\n",
    "t.start()\n",
    "\n",
    "progress_countdown = 1.0\n",
    "\n",
    "while t.isAlive():\n",
    "    time.sleep(0.1)\n",
    "    progress_countdown -= 0.1\n",
    "    if progress_countdown <= 0:\n",
    "        print(\". \", flush=True, end=\"\")\n",
    "        progress_countdown = 1\n",
    "\n",
    "elapsed = time.perf_counter() - start_time\n",
    "print(f\"Done. ({elapsed:.3f}s)\")\n",
    "\n",
    "print(\"Applying n-grams... \", flush=True, end=\"\")\n",
    "bigram_mod = results[0]\n",
    "trigram_mod = results[1]\n",
    "\n",
    "docs = [trigram_mod[bigram_mod[doc]] for doc in docs]\n",
    "print(\"Done.\")"
   ]
  },
  {
   "cell_type": "code",
   "execution_count": 11,
   "metadata": {
    "ExecuteTime": {
     "end_time": "2020-06-03T07:10:11.916131Z",
     "start_time": "2020-06-03T07:10:11.862182Z"
    }
   },
   "outputs": [
    {
     "data": {
      "application/vnd.jupyter.widget-view+json": {
       "model_id": "abb9fe74efb1432fa2b2086d23a75421",
       "version_major": 2,
       "version_minor": 0
      },
      "text/plain": [
       "interactive(children=(IntSlider(value=1112, description='doc', max=2224), Output()), _dom_classes=('widget-int…"
      ]
     },
     "metadata": {},
     "output_type": "display_data"
    },
    {
     "data": {
      "text/plain": [
       "<function __main__.show_all.<locals>.<lambda>(doc)>"
      ]
     },
     "execution_count": 11,
     "metadata": {},
     "output_type": "execute_result"
    }
   ],
   "source": [
    "display_docs = [\" \".join(doc) for doc in docs]\n",
    "show_all(display_docs)"
   ]
  },
  {
   "cell_type": "markdown",
   "metadata": {},
   "source": [
    "Second-pass tokenisation\n",
    "- Case folding\n",
    "- Remove stop words (optional), remove purely numeric/non-alphabetic tokens\n",
    "- Remove single letters/numbers (assuming meaningful tokens would have been picked up earlier by the phraser)"
   ]
  },
  {
   "cell_type": "code",
   "execution_count": 12,
   "metadata": {
    "ExecuteTime": {
     "end_time": "2020-06-03T07:10:12.776247Z",
     "start_time": "2020-06-03T07:10:11.917124Z"
    }
   },
   "outputs": [],
   "source": [
    "# stopset = set(nltk.corpus.stopwords.words(\"english\"))\n",
    "# Testing term weighting\n",
    "stopset = []\n",
    "\n",
    "\n",
    "def second_tokenise(tokens):\n",
    "    new_tokens = []\n",
    "    for token in tokens:\n",
    "        token = token.casefold()\n",
    "        if token in stopset or re.match(\"^[^a-z]+$\", token) or len(token) <= 1:\n",
    "            continue\n",
    "        new_tokens.append(token)\n",
    "\n",
    "    return new_tokens\n",
    "\n",
    "\n",
    "docs = [second_tokenise(doc) for doc in docs]"
   ]
  },
  {
   "cell_type": "code",
   "execution_count": 13,
   "metadata": {
    "ExecuteTime": {
     "end_time": "2020-06-03T07:10:12.819292Z",
     "start_time": "2020-06-03T07:10:12.777238Z"
    }
   },
   "outputs": [
    {
     "data": {
      "application/vnd.jupyter.widget-view+json": {
       "model_id": "d6c48c1ef1ed4b7ca20b3fefd93be289",
       "version_major": 2,
       "version_minor": 0
      },
      "text/plain": [
       "interactive(children=(IntSlider(value=1112, description='doc', max=2224), Output()), _dom_classes=('widget-int…"
      ]
     },
     "metadata": {},
     "output_type": "display_data"
    },
    {
     "data": {
      "text/plain": [
       "<function __main__.show_all.<locals>.<lambda>(doc)>"
      ]
     },
     "execution_count": 13,
     "metadata": {},
     "output_type": "execute_result"
    }
   ],
   "source": [
    "display_docs = [\" \".join(doc) for doc in docs]\n",
    "show_all(display_docs)"
   ]
  },
  {
   "cell_type": "markdown",
   "metadata": {},
   "source": [
    "Model training (LDA)\n",
    "----"
   ]
  },
  {
   "cell_type": "markdown",
   "metadata": {},
   "source": [
    "Add processed docs to the LDA model and train it.\n",
    "\n",
    "The random seed and parallelisation can affect results, so setting both the seed and number of workers is necessary for reproducibility."
   ]
  },
  {
   "cell_type": "code",
   "execution_count": 24,
   "metadata": {
    "ExecuteTime": {
     "end_time": "2020-06-03T07:12:42.426354Z",
     "start_time": "2020-06-03T07:12:42.421359Z"
    }
   },
   "outputs": [],
   "source": [
    "# Persistence\n",
    "model_seed = 11399\n",
    "num_workers = 10\n",
    "\n",
    "# Model options\n",
    "model_file = \"model.bin\"\n",
    "num_topics = 20\n",
    "\n",
    "# Training iterations\n",
    "load_saved_model = False\n",
    "burn_in = 0\n",
    "train_batch = 10\n",
    "train_total = 2500\n",
    "\n",
    "# Extended training\n",
    "train_until_min_ll = False\n",
    "max_iterations = 10000"
   ]
  },
  {
   "cell_type": "code",
   "execution_count": 25,
   "metadata": {
    "ExecuteTime": {
     "end_time": "2020-06-03T07:13:21.642403Z",
     "start_time": "2020-06-03T07:12:42.428910Z"
    },
    "scrolled": false
   },
   "outputs": [
    {
     "name": "stderr",
     "output_type": "stream",
     "text": [
      "100%|██████████| 2225/2225 [00:00<00:00, 14747.00it/s]\n"
     ]
    },
    {
     "name": "stdout",
     "output_type": "stream",
     "text": [
      "Num docs: 2225, Vocab size: 34384, Num words: 805379\n",
      "Removed top words: []\n",
      "Training model...\n",
      "Iteration: 10\tLog-likelihood: -22.677888419721707\tTime: 0.159s\n",
      "Iteration: 20\tLog-likelihood: -22.07540857048148\tTime: 0.149s\n",
      "Iteration: 30\tLog-likelihood: -21.804846460684498\tTime: 0.150s\n",
      "Iteration: 40\tLog-likelihood: -21.619040925487955\tTime: 0.152s\n",
      "Iteration: 50\tLog-likelihood: -21.47973015310507\tTime: 0.152s\n",
      "Iteration: 60\tLog-likelihood: -21.37217531561843\tTime: 0.154s\n",
      "Iteration: 70\tLog-likelihood: -21.27384627189861\tTime: 0.153s\n",
      "Iteration: 80\tLog-likelihood: -21.196773924312883\tTime: 0.148s\n",
      "Iteration: 90\tLog-likelihood: -21.131574705105177\tTime: 0.147s\n",
      "Iteration: 100\tLog-likelihood: -21.068046530214072\tTime: 0.152s\n",
      "Iteration: 110\tLog-likelihood: -21.009791986889958\tTime: 0.149s\n",
      "Iteration: 120\tLog-likelihood: -20.960465545538238\tTime: 0.149s\n",
      "Iteration: 130\tLog-likelihood: -20.92751689081927\tTime: 0.150s\n",
      "Iteration: 140\tLog-likelihood: -20.889633040538527\tTime: 0.150s\n",
      "Iteration: 150\tLog-likelihood: -20.853151734309616\tTime: 0.150s\n",
      "Iteration: 160\tLog-likelihood: -20.821254536680417\tTime: 0.149s\n",
      "Iteration: 170\tLog-likelihood: -20.79659118094832\tTime: 0.149s\n",
      "Iteration: 180\tLog-likelihood: -20.771760235126973\tTime: 0.149s\n",
      "Iteration: 190\tLog-likelihood: -20.744706634919407\tTime: 0.149s\n",
      "Iteration: 200\tLog-likelihood: -20.724009894106267\tTime: 0.149s\n",
      "Iteration: 210\tLog-likelihood: -20.70392360680565\tTime: 0.148s\n",
      "Iteration: 220\tLog-likelihood: -20.68874299924941\tTime: 0.149s\n",
      "Iteration: 230\tLog-likelihood: -20.66967452843398\tTime: 0.148s\n",
      "Iteration: 240\tLog-likelihood: -20.655366557971064\tTime: 0.149s\n",
      "Iteration: 250\tLog-likelihood: -20.63402186524806\tTime: 0.148s\n",
      "Iteration: 260\tLog-likelihood: -20.62140752260578\tTime: 0.150s\n",
      "Iteration: 270\tLog-likelihood: -20.609049957316408\tTime: 0.149s\n",
      "Iteration: 280\tLog-likelihood: -20.596406960635633\tTime: 0.148s\n",
      "Iteration: 290\tLog-likelihood: -20.580433979774917\tTime: 0.149s\n",
      "Iteration: 300\tLog-likelihood: -20.569947538610545\tTime: 0.148s\n",
      "Iteration: 310\tLog-likelihood: -20.55507059599178\tTime: 0.148s\n",
      "Iteration: 320\tLog-likelihood: -20.545264121086298\tTime: 0.148s\n",
      "Iteration: 330\tLog-likelihood: -20.53745645409016\tTime: 0.149s\n",
      "Iteration: 340\tLog-likelihood: -20.53148408755435\tTime: 0.148s\n",
      "Iteration: 350\tLog-likelihood: -20.524685706791274\tTime: 0.148s\n",
      "Iteration: 360\tLog-likelihood: -20.516164389285443\tTime: 0.148s\n",
      "Iteration: 370\tLog-likelihood: -20.500229689907236\tTime: 0.147s\n",
      "Iteration: 380\tLog-likelihood: -20.493032844868715\tTime: 0.147s\n",
      "Iteration: 390\tLog-likelihood: -20.488960785888402\tTime: 0.149s\n",
      "Iteration: 400\tLog-likelihood: -20.47605220072381\tTime: 0.149s\n",
      "Iteration: 410\tLog-likelihood: -20.473210580454026\tTime: 0.149s\n",
      "Iteration: 420\tLog-likelihood: -20.46499074306929\tTime: 0.148s\n",
      "Iteration: 430\tLog-likelihood: -20.455842619537115\tTime: 0.148s\n",
      "Iteration: 440\tLog-likelihood: -20.450892396955332\tTime: 0.171s\n",
      "Iteration: 450\tLog-likelihood: -20.440159204211962\tTime: 0.163s\n",
      "Iteration: 460\tLog-likelihood: -20.436111448723402\tTime: 0.167s\n",
      "Iteration: 470\tLog-likelihood: -20.431766370421283\tTime: 0.157s\n",
      "Iteration: 480\tLog-likelihood: -20.424275323466265\tTime: 0.161s\n",
      "Iteration: 490\tLog-likelihood: -20.416914538024763\tTime: 0.165s\n",
      "Iteration: 500\tLog-likelihood: -20.414219445766438\tTime: 0.160s\n",
      "Iteration: 510\tLog-likelihood: -20.411548681022662\tTime: 0.165s\n",
      "Iteration: 520\tLog-likelihood: -20.394916889096773\tTime: 0.152s\n",
      "Iteration: 530\tLog-likelihood: -20.39768647156003\tTime: 0.148s\n",
      "Iteration: 540\tLog-likelihood: -20.388727566326263\tTime: 0.166s\n",
      "Iteration: 550\tLog-likelihood: -20.383034595532717\tTime: 0.151s\n",
      "Iteration: 560\tLog-likelihood: -20.378913489875014\tTime: 0.161s\n",
      "Iteration: 570\tLog-likelihood: -20.373473287475857\tTime: 0.146s\n",
      "Iteration: 580\tLog-likelihood: -20.367044191555024\tTime: 0.150s\n",
      "Iteration: 590\tLog-likelihood: -20.358611487383094\tTime: 0.145s\n",
      "Iteration: 600\tLog-likelihood: -20.35156802473909\tTime: 0.146s\n",
      "Iteration: 610\tLog-likelihood: -20.342573756777266\tTime: 0.145s\n",
      "Iteration: 620\tLog-likelihood: -20.342214789402867\tTime: 0.147s\n",
      "Iteration: 630\tLog-likelihood: -20.34236702715784\tTime: 0.148s\n",
      "Iteration: 640\tLog-likelihood: -20.33680039161386\tTime: 0.149s\n",
      "Iteration: 650\tLog-likelihood: -20.335762626047412\tTime: 0.149s\n",
      "Iteration: 660\tLog-likelihood: -20.335535351573743\tTime: 0.148s\n",
      "Iteration: 670\tLog-likelihood: -20.32798374684293\tTime: 0.150s\n",
      "Iteration: 680\tLog-likelihood: -20.325242816245954\tTime: 0.147s\n",
      "Iteration: 690\tLog-likelihood: -20.322819370569714\tTime: 0.148s\n",
      "Iteration: 700\tLog-likelihood: -20.317312673972104\tTime: 0.149s\n",
      "Iteration: 710\tLog-likelihood: -20.317356998071148\tTime: 0.150s\n",
      "Iteration: 720\tLog-likelihood: -20.31768540169367\tTime: 0.147s\n",
      "Iteration: 730\tLog-likelihood: -20.31139162410324\tTime: 0.152s\n",
      "Iteration: 740\tLog-likelihood: -20.302272017775884\tTime: 0.166s\n",
      "Iteration: 750\tLog-likelihood: -20.307390846286264\tTime: 0.155s\n",
      "Iteration: 760\tLog-likelihood: -20.298513917553862\tTime: 0.162s\n",
      "Iteration: 770\tLog-likelihood: -20.29912058205807\tTime: 0.146s\n",
      "Iteration: 780\tLog-likelihood: -20.301650522359285\tTime: 0.150s\n",
      "Iteration: 790\tLog-likelihood: -20.29924238640244\tTime: 0.146s\n",
      "Iteration: 800\tLog-likelihood: -20.29718597502935\tTime: 0.148s\n",
      "Iteration: 810\tLog-likelihood: -20.29126184391524\tTime: 0.142s\n",
      "Iteration: 820\tLog-likelihood: -20.288557935005926\tTime: 0.148s\n",
      "Iteration: 830\tLog-likelihood: -20.279727054534753\tTime: 0.149s\n",
      "Iteration: 840\tLog-likelihood: -20.286922798014565\tTime: 0.147s\n",
      "Iteration: 850\tLog-likelihood: -20.282503483016406\tTime: 0.145s\n",
      "Iteration: 860\tLog-likelihood: -20.28145420508849\tTime: 0.147s\n",
      "Iteration: 870\tLog-likelihood: -20.278829118326374\tTime: 0.149s\n",
      "Iteration: 880\tLog-likelihood: -20.273639957244868\tTime: 0.148s\n",
      "Iteration: 890\tLog-likelihood: -20.27790443413902\tTime: 0.149s\n",
      "Iteration: 900\tLog-likelihood: -20.267297352843325\tTime: 0.149s\n",
      "Iteration: 910\tLog-likelihood: -20.270799478826444\tTime: 0.148s\n",
      "Iteration: 920\tLog-likelihood: -20.26653319174576\tTime: 0.146s\n",
      "Iteration: 930\tLog-likelihood: -20.268490760153657\tTime: 0.148s\n",
      "Iteration: 940\tLog-likelihood: -20.26750239385314\tTime: 0.147s\n",
      "Iteration: 950\tLog-likelihood: -20.270472509364886\tTime: 0.149s\n",
      "Iteration: 960\tLog-likelihood: -20.26787244131111\tTime: 0.148s\n",
      "Iteration: 970\tLog-likelihood: -20.26440835320491\tTime: 0.148s\n",
      "Iteration: 980\tLog-likelihood: -20.26124680296707\tTime: 0.147s\n",
      "Iteration: 990\tLog-likelihood: -20.25724780725899\tTime: 0.148s\n",
      "Iteration: 1000\tLog-likelihood: -20.25779602065353\tTime: 0.159s\n",
      "Iteration: 1010\tLog-likelihood: -20.25961000848266\tTime: 0.146s\n",
      "Iteration: 1020\tLog-likelihood: -20.258172799446392\tTime: 0.147s\n",
      "Iteration: 1030\tLog-likelihood: -20.254108193507633\tTime: 0.148s\n",
      "Iteration: 1040\tLog-likelihood: -20.25125995625331\tTime: 0.145s\n",
      "Iteration: 1050\tLog-likelihood: -20.246442295319987\tTime: 0.149s\n",
      "Iteration: 1060\tLog-likelihood: -20.246353448044893\tTime: 0.147s\n",
      "Iteration: 1070\tLog-likelihood: -20.2515464412288\tTime: 0.147s\n",
      "Iteration: 1080\tLog-likelihood: -20.252100000030957\tTime: 0.148s\n",
      "Iteration: 1090\tLog-likelihood: -20.246288933059986\tTime: 0.147s\n",
      "Iteration: 1100\tLog-likelihood: -20.246616058263314\tTime: 0.148s\n",
      "Iteration: 1110\tLog-likelihood: -20.244363813350763\tTime: 0.148s\n",
      "Iteration: 1120\tLog-likelihood: -20.243903774803126\tTime: 0.152s\n",
      "Iteration: 1130\tLog-likelihood: -20.24115941471842\tTime: 0.146s\n",
      "Iteration: 1140\tLog-likelihood: -20.23742606893195\tTime: 0.148s\n",
      "Iteration: 1150\tLog-likelihood: -20.240116563222227\tTime: 0.149s\n",
      "Iteration: 1160\tLog-likelihood: -20.239062017022654\tTime: 0.167s\n",
      "Iteration: 1170\tLog-likelihood: -20.23455500207389\tTime: 0.151s\n",
      "Iteration: 1180\tLog-likelihood: -20.237667238404335\tTime: 0.147s\n",
      "Iteration: 1190\tLog-likelihood: -20.239781425015924\tTime: 0.148s\n",
      "Iteration: 1200\tLog-likelihood: -20.24010891751229\tTime: 0.148s\n",
      "Iteration: 1210\tLog-likelihood: -20.236002003065213\tTime: 0.147s\n",
      "Iteration: 1220\tLog-likelihood: -20.23919824773539\tTime: 0.148s\n",
      "Iteration: 1230\tLog-likelihood: -20.23864701481071\tTime: 0.147s\n",
      "Iteration: 1240\tLog-likelihood: -20.2399594981148\tTime: 0.147s\n",
      "Iteration: 1250\tLog-likelihood: -20.239406744470944\tTime: 0.157s\n",
      "Iteration: 1260\tLog-likelihood: -20.233820106930658\tTime: 0.148s\n",
      "Iteration: 1270\tLog-likelihood: -20.234897170826915\tTime: 0.147s\n"
     ]
    },
    {
     "name": "stdout",
     "output_type": "stream",
     "text": [
      "Iteration: 1280\tLog-likelihood: -20.228860334357393\tTime: 0.147s\n",
      "Iteration: 1290\tLog-likelihood: -20.228725862496663\tTime: 0.149s\n",
      "Iteration: 1300\tLog-likelihood: -20.22920593715187\tTime: 0.147s\n",
      "Iteration: 1310\tLog-likelihood: -20.22760738162664\tTime: 0.162s\n",
      "Iteration: 1320\tLog-likelihood: -20.23186990583289\tTime: 0.153s\n",
      "Iteration: 1330\tLog-likelihood: -20.229841266507798\tTime: 0.161s\n",
      "Iteration: 1340\tLog-likelihood: -20.222484648368418\tTime: 0.145s\n",
      "Iteration: 1350\tLog-likelihood: -20.227890681624487\tTime: 0.149s\n",
      "Iteration: 1360\tLog-likelihood: -20.224676851625695\tTime: 0.156s\n",
      "Iteration: 1370\tLog-likelihood: -20.229095778375836\tTime: 0.159s\n",
      "Iteration: 1380\tLog-likelihood: -20.225347898786303\tTime: 0.146s\n",
      "Iteration: 1390\tLog-likelihood: -20.2249415937564\tTime: 0.148s\n",
      "Iteration: 1400\tLog-likelihood: -20.223942932770573\tTime: 0.147s\n",
      "Iteration: 1410\tLog-likelihood: -20.222594482011583\tTime: 0.147s\n",
      "Iteration: 1420\tLog-likelihood: -20.21946493159511\tTime: 0.148s\n",
      "Iteration: 1430\tLog-likelihood: -20.217515066633084\tTime: 0.144s\n",
      "Iteration: 1440\tLog-likelihood: -20.216116251371478\tTime: 0.144s\n",
      "Iteration: 1450\tLog-likelihood: -20.215249577839614\tTime: 0.148s\n",
      "Iteration: 1460\tLog-likelihood: -20.214547325893395\tTime: 0.147s\n",
      "Iteration: 1470\tLog-likelihood: -20.2163795841861\tTime: 0.146s\n",
      "Iteration: 1480\tLog-likelihood: -20.213749683239737\tTime: 0.149s\n",
      "Iteration: 1490\tLog-likelihood: -20.213735378152116\tTime: 0.147s\n",
      "Iteration: 1500\tLog-likelihood: -20.213769733006554\tTime: 0.147s\n",
      "Iteration: 1510\tLog-likelihood: -20.213545132643148\tTime: 0.146s\n",
      "Iteration: 1520\tLog-likelihood: -20.213634135439207\tTime: 0.147s\n",
      "Iteration: 1530\tLog-likelihood: -20.214140077691606\tTime: 0.147s\n",
      "Iteration: 1540\tLog-likelihood: -20.21152819542824\tTime: 0.146s\n",
      "Iteration: 1550\tLog-likelihood: -20.20855997747873\tTime: 0.147s\n",
      "Iteration: 1560\tLog-likelihood: -20.208754569907853\tTime: 0.147s\n",
      "Iteration: 1570\tLog-likelihood: -20.207330909348947\tTime: 0.147s\n",
      "Iteration: 1580\tLog-likelihood: -20.202407833297727\tTime: 0.147s\n",
      "Iteration: 1590\tLog-likelihood: -20.207088355242067\tTime: 0.147s\n",
      "Iteration: 1600\tLog-likelihood: -20.20868093378967\tTime: 0.146s\n",
      "Iteration: 1610\tLog-likelihood: -20.203633652759372\tTime: 0.147s\n",
      "Iteration: 1620\tLog-likelihood: -20.20110045880305\tTime: 0.147s\n",
      "Iteration: 1630\tLog-likelihood: -20.203838612121015\tTime: 0.147s\n",
      "Iteration: 1640\tLog-likelihood: -20.201324666447572\tTime: 0.147s\n",
      "Iteration: 1650\tLog-likelihood: -20.206701450366772\tTime: 0.146s\n",
      "Iteration: 1660\tLog-likelihood: -20.20111885375081\tTime: 0.146s\n",
      "Iteration: 1670\tLog-likelihood: -20.198755101193626\tTime: 0.150s\n",
      "Iteration: 1680\tLog-likelihood: -20.198881415618025\tTime: 0.165s\n",
      "Iteration: 1690\tLog-likelihood: -20.20077403972326\tTime: 0.149s\n",
      "Iteration: 1700\tLog-likelihood: -20.200608417837362\tTime: 0.162s\n",
      "Iteration: 1710\tLog-likelihood: -20.19909068020468\tTime: 0.144s\n",
      "Iteration: 1720\tLog-likelihood: -20.19499167215751\tTime: 0.147s\n",
      "Iteration: 1730\tLog-likelihood: -20.200551177762506\tTime: 0.147s\n",
      "Iteration: 1740\tLog-likelihood: -20.194219339352355\tTime: 0.148s\n",
      "Iteration: 1750\tLog-likelihood: -20.188755103414845\tTime: 0.148s\n",
      "Iteration: 1760\tLog-likelihood: -20.192311500901756\tTime: 0.147s\n",
      "Iteration: 1770\tLog-likelihood: -20.191536205063347\tTime: 0.147s\n",
      "Iteration: 1780\tLog-likelihood: -20.19186686069551\tTime: 0.147s\n",
      "Iteration: 1790\tLog-likelihood: -20.188839774319813\tTime: 0.146s\n",
      "Iteration: 1800\tLog-likelihood: -20.18954528221609\tTime: 0.147s\n",
      "Iteration: 1810\tLog-likelihood: -20.192984397164036\tTime: 0.148s\n",
      "Iteration: 1820\tLog-likelihood: -20.1889367452677\tTime: 0.149s\n",
      "Iteration: 1830\tLog-likelihood: -20.183942973882942\tTime: 0.146s\n",
      "Iteration: 1840\tLog-likelihood: -20.183551204016297\tTime: 0.147s\n",
      "Iteration: 1850\tLog-likelihood: -20.181639309737896\tTime: 0.147s\n",
      "Iteration: 1860\tLog-likelihood: -20.180166752501517\tTime: 0.147s\n",
      "Iteration: 1870\tLog-likelihood: -20.179028659738705\tTime: 0.148s\n",
      "Iteration: 1880\tLog-likelihood: -20.183858905651523\tTime: 0.148s\n",
      "Iteration: 1890\tLog-likelihood: -20.18532797312509\tTime: 0.146s\n",
      "Iteration: 1900\tLog-likelihood: -20.181895026432134\tTime: 0.146s\n",
      "Iteration: 1910\tLog-likelihood: -20.18528179377711\tTime: 0.146s\n",
      "Iteration: 1920\tLog-likelihood: -20.185539558227624\tTime: 0.147s\n",
      "Iteration: 1930\tLog-likelihood: -20.18316574242085\tTime: 0.147s\n",
      "Iteration: 1940\tLog-likelihood: -20.18048630928211\tTime: 0.151s\n",
      "Iteration: 1950\tLog-likelihood: -20.174232249989497\tTime: 0.146s\n",
      "Iteration: 1960\tLog-likelihood: -20.18066864990656\tTime: 0.145s\n",
      "Iteration: 1970\tLog-likelihood: -20.176868067413974\tTime: 0.156s\n",
      "Iteration: 1980\tLog-likelihood: -20.17998011897486\tTime: 0.157s\n",
      "Iteration: 1990\tLog-likelihood: -20.176066135224815\tTime: 0.148s\n",
      "Iteration: 2000\tLog-likelihood: -20.180446426958415\tTime: 0.147s\n",
      "Iteration: 2010\tLog-likelihood: -20.176916437872986\tTime: 0.149s\n",
      "Iteration: 2020\tLog-likelihood: -20.175436417670927\tTime: 0.151s\n",
      "Iteration: 2030\tLog-likelihood: -20.174931966419305\tTime: 0.163s\n",
      "Iteration: 2040\tLog-likelihood: -20.17390749353537\tTime: 0.147s\n",
      "Iteration: 2050\tLog-likelihood: -20.17764990012094\tTime: 0.162s\n",
      "Iteration: 2060\tLog-likelihood: -20.174498420331098\tTime: 0.153s\n",
      "Iteration: 2070\tLog-likelihood: -20.171059324933786\tTime: 0.158s\n",
      "Iteration: 2080\tLog-likelihood: -20.169426337279646\tTime: 0.159s\n",
      "Iteration: 2090\tLog-likelihood: -20.17201106606075\tTime: 0.145s\n",
      "Iteration: 2100\tLog-likelihood: -20.165533290861994\tTime: 0.147s\n",
      "Iteration: 2110\tLog-likelihood: -20.169615917805682\tTime: 0.147s\n",
      "Iteration: 2120\tLog-likelihood: -20.173646048101674\tTime: 0.149s\n",
      "Iteration: 2130\tLog-likelihood: -20.171275911032122\tTime: 0.157s\n",
      "Iteration: 2140\tLog-likelihood: -20.16644435249722\tTime: 0.159s\n",
      "Iteration: 2150\tLog-likelihood: -20.16407697238444\tTime: 0.154s\n",
      "Iteration: 2160\tLog-likelihood: -20.166246652357405\tTime: 0.147s\n",
      "Iteration: 2170\tLog-likelihood: -20.164823373565472\tTime: 0.145s\n",
      "Iteration: 2180\tLog-likelihood: -20.1662899214167\tTime: 0.148s\n",
      "Iteration: 2190\tLog-likelihood: -20.169369245800144\tTime: 0.147s\n",
      "Iteration: 2200\tLog-likelihood: -20.16366184827393\tTime: 0.147s\n",
      "Iteration: 2210\tLog-likelihood: -20.167528825095797\tTime: 0.147s\n",
      "Iteration: 2220\tLog-likelihood: -20.161545919483785\tTime: 0.147s\n",
      "Iteration: 2230\tLog-likelihood: -20.16783671263232\tTime: 0.147s\n",
      "Iteration: 2240\tLog-likelihood: -20.160848068464166\tTime: 0.147s\n",
      "Iteration: 2250\tLog-likelihood: -20.161385623516264\tTime: 0.148s\n",
      "Iteration: 2260\tLog-likelihood: -20.164057932206422\tTime: 0.148s\n",
      "Iteration: 2270\tLog-likelihood: -20.15879801522885\tTime: 0.148s\n",
      "Iteration: 2280\tLog-likelihood: -20.16008806611974\tTime: 0.147s\n",
      "Iteration: 2290\tLog-likelihood: -20.15844343201087\tTime: 0.147s\n",
      "Iteration: 2300\tLog-likelihood: -20.157603264241008\tTime: 0.147s\n",
      "Iteration: 2310\tLog-likelihood: -20.15870922787593\tTime: 0.148s\n",
      "Iteration: 2320\tLog-likelihood: -20.158016587216707\tTime: 0.149s\n",
      "Iteration: 2330\tLog-likelihood: -20.156029157709632\tTime: 0.149s\n",
      "Iteration: 2340\tLog-likelihood: -20.157671573016344\tTime: 0.149s\n",
      "Iteration: 2350\tLog-likelihood: -20.154599871242286\tTime: 0.147s\n",
      "Iteration: 2360\tLog-likelihood: -20.155789871511463\tTime: 0.147s\n",
      "Iteration: 2370\tLog-likelihood: -20.153105067425468\tTime: 0.149s\n",
      "Iteration: 2380\tLog-likelihood: -20.160502906539197\tTime: 0.148s\n",
      "Iteration: 2390\tLog-likelihood: -20.154864428039307\tTime: 0.145s\n",
      "Iteration: 2400\tLog-likelihood: -20.148352931735108\tTime: 0.146s\n",
      "Iteration: 2410\tLog-likelihood: -20.15536895878957\tTime: 0.146s\n",
      "Iteration: 2420\tLog-likelihood: -20.154113749340446\tTime: 0.148s\n",
      "Iteration: 2430\tLog-likelihood: -20.15363580582769\tTime: 0.148s\n",
      "Iteration: 2440\tLog-likelihood: -20.15551231648685\tTime: 0.147s\n",
      "Iteration: 2450\tLog-likelihood: -20.15564788255646\tTime: 0.149s\n",
      "Iteration: 2460\tLog-likelihood: -20.150724883362596\tTime: 0.156s\n",
      "Iteration: 2470\tLog-likelihood: -20.15564207039489\tTime: 0.161s\n",
      "Iteration: 2480\tLog-likelihood: -20.154051720576096\tTime: 0.145s\n",
      "Iteration: 2490\tLog-likelihood: -20.154503307583987\tTime: 0.147s\n",
      "Iteration: 2500\tLog-likelihood: -20.151709396020294\tTime: 0.145s\n",
      "Saved to 'model.bin'.\n"
     ]
    }
   ],
   "source": [
    "if load_saved_model:\n",
    "    model = tp.LDAModel.load(model_file)\n",
    "    print(f\"Loaded from '{model_file}'.\")\n",
    "else:\n",
    "    model = tp.LDAModel(tw=tp.TermWeight.IDF, seed=model_seed, k=num_topics)\n",
    "    \n",
    "    model.burn_in = burn_in\n",
    "\n",
    "    for doc in tqdm.tqdm(docs):\n",
    "        model.add_doc(doc)\n",
    "\n",
    "    model.train(0, workers=num_workers, parallel=tp.ParallelScheme.PARTITION)\n",
    "    print(\n",
    "        f\"Num docs: {len(model.docs)}, Vocab size: {model.num_vocabs}, \"\n",
    "        f\"Num words: {model.num_words}\"\n",
    "    )\n",
    "    print(f\"Removed top words: {model.removed_top_words}\")\n",
    "\n",
    "    print(\"Training model...\", flush=True)\n",
    "\n",
    "    try:\n",
    "        for i in range(0, train_total, train_batch):\n",
    "            start_time = time.perf_counter()\n",
    "            model.train(\n",
    "                train_batch, workers=num_workers, parallel=tp.ParallelScheme.PARTITION\n",
    "            )\n",
    "            elapsed = time.perf_counter() - start_time\n",
    "            print(\n",
    "                f\"Iteration: {i + train_batch}\\tLog-likelihood: {model.ll_per_word}\\t\"\n",
    "                f\"Time: {elapsed:.3f}s\",\n",
    "                flush=True,\n",
    "            )\n",
    "    except KeyboardInterrupt:\n",
    "        print(\"Stopping train sequence.\")\n",
    "    model.save(model_file)\n",
    "    print(f\"Saved to '{model_file}'.\")"
   ]
  },
  {
   "cell_type": "code",
   "execution_count": 26,
   "metadata": {
    "ExecuteTime": {
     "end_time": "2020-06-03T07:13:21.651357Z",
     "start_time": "2020-06-03T07:13:21.643356Z"
    },
    "scrolled": false
   },
   "outputs": [],
   "source": [
    "if train_until_min_ll and not load_saved_model:\n",
    "    print(\"Continuing to train until minimum log-likelihood...\")\n",
    "    print(\"(N.B.: This may not correlate with increased human interpretability)\")\n",
    "    print()\n",
    "    last_ll = model.ll_per_word\n",
    "    i = 0\n",
    "    consecutive_loss = 0\n",
    "\n",
    "    while True:\n",
    "        try:\n",
    "            start_time = time.perf_counter()\n",
    "            model.train(\n",
    "                train_batch, workers=num_workers, parallel=tp.ParallelScheme.PARTITION\n",
    "            )\n",
    "            i += train_batch\n",
    "            elapsed = time.perf_counter() - start_time\n",
    "            print(\n",
    "                f\"Iteration: {i}\\tLog-likelihood: {model.ll_per_word}\\t\"\n",
    "                f\"Time: {elapsed:.3f}s\",\n",
    "                flush=True,\n",
    "            )\n",
    "\n",
    "            if model.ll_per_word < last_ll:\n",
    "                consecutive_loss += 1\n",
    "            else:\n",
    "                consecutive_loss = 0\n",
    "                model.save(model_file)\n",
    "            last_ll = model.ll_per_word\n",
    "\n",
    "            if consecutive_loss == 2 or i >= max_iterations:\n",
    "                break\n",
    "\n",
    "        except KeyboardInterrupt:\n",
    "            print(\"Stopping extended train sequence.\")\n",
    "            break\n",
    "\n",
    "    model = tp.LDAModel.load(model_file)\n",
    "    print(f\"Best recent model saved at '{model_file}' (LL: {model.ll_per_word}).\")"
   ]
  },
  {
   "cell_type": "markdown",
   "metadata": {},
   "source": [
    "Topic labelling"
   ]
  },
  {
   "cell_type": "code",
   "execution_count": 27,
   "metadata": {
    "ExecuteTime": {
     "end_time": "2020-06-03T07:13:26.029075Z",
     "start_time": "2020-06-03T07:13:21.652919Z"
    }
   },
   "outputs": [
    {
     "name": "stdout",
     "output_type": "stream",
     "text": [
      "Extracting suggested topic labels...\n",
      "Done.\n"
     ]
    }
   ],
   "source": [
    "print(\"Extracting suggested topic labels...\", flush=True)\n",
    "# extractor = tp.label.PMIExtractor(min_cf=10, min_df=5, max_len=5, max_cand=10000)\n",
    "extractor = tp.label.PMIExtractor(min_cf=5, min_df=3, max_len=5, max_cand=20000)\n",
    "candidates = extractor.extract(model)\n",
    "# labeler = tp.label.FoRelevance(model, candidates, min_df=5, smoothing=1e-2,\n",
    "# mu=0.25)\n",
    "labeler = tp.label.FoRelevance(\n",
    "    model, candidates, min_df=3, smoothing=1e-2, mu=0.25, workers=num_workers\n",
    ")\n",
    "print(\"Done.\")"
   ]
  },
  {
   "cell_type": "markdown",
   "metadata": {},
   "source": [
    "Print results\n",
    "------"
   ]
  },
  {
   "cell_type": "code",
   "execution_count": 28,
   "metadata": {
    "ExecuteTime": {
     "end_time": "2020-06-03T07:13:26.038080Z",
     "start_time": "2020-06-03T07:13:26.031074Z"
    }
   },
   "outputs": [],
   "source": [
    "def print_topic(topic_id):\n",
    "    # Labels\n",
    "    labels = \", \".join(\n",
    "        label for label, score in labeler.get_topic_labels(topic_id, top_n=10)\n",
    "    )\n",
    "    print(f\"Suggested labels: {labels}\")\n",
    "\n",
    "    # Print this topic\n",
    "    words_probs = model.get_topic_words(topic_id, top_n=10)\n",
    "    words = [x[0] for x in words_probs]\n",
    "\n",
    "    words = \", \".join(words)\n",
    "    print(words)"
   ]
  },
  {
   "cell_type": "code",
   "execution_count": 29,
   "metadata": {
    "ExecuteTime": {
     "end_time": "2020-06-03T07:13:26.292875Z",
     "start_time": "2020-06-03T07:13:26.041605Z"
    },
    "scrolled": false
   },
   "outputs": [
    {
     "name": "stdout",
     "output_type": "stream",
     "text": [
      "[Topic 1]\n",
      "Suggested labels: web, catalogues, tailored, or blogs, the web, find what, indexing, people find, search engine, rss\n",
      "search, tv, google, web, blogs, blog, television, online, show, viewers\n",
      "\n",
      "[Topic 2]\n",
      "Suggested labels: government, governments, countries, minister, the government, economic, policy, areas, mr, government has\n",
      "eu, government, countries, aid, report, european, foreign, children, education, president\n",
      "\n",
      "[Topic 3]\n",
      "Suggested labels: first novel, originals, the originals, creatures, reopening, shows such as, shows such, cgi, it can do, pollard\n",
      "ballet, she, book, argentina, bnp, bates, murray, novel, books, disney\n",
      "\n",
      "[Topic 4]\n",
      "Suggested labels: portable, video, gaming, sony, mobile, digital, gadgets, multimedia, pc, devices\n",
      "mobile, games, phones, phone, gaming, apple, game, video, mobiles, gadget\n",
      "\n",
      "[Topic 5]\n",
      "Suggested labels: anti-virus, viruses, malicious, users, security, phishing, virus, sophos, program, security firm\n",
      "security, software, e-mail, users, microsoft, spam, virus, site, program, programs\n",
      "\n",
      "[Topic 6]\n",
      "Suggested labels: him, his, win, me, game, modern day, my, side, played, im\n",
      "his, he, me, him, my, im, after, great, got, am\n",
      "\n",
      "[Topic 7]\n",
      "Suggested labels: internment, law, charge or, or trial, without charge or trial, without charge or, charge or trial, detention, suspects, detentions\n",
      "police, lord, law, bill, hunting, court, parliament, human_rights, legal, ban\n",
      "\n",
      "[Topic 8]\n",
      "Suggested labels: etc, you, do, how, what, these, people, can, in reality, your\n",
      "you, we, not, they, if, what, do, are, there, can\n",
      "\n",
      "[Topic 9]\n",
      "Suggested labels: film, actor, actress, oscar, comedy, films, awards, starring, best film, best director\n",
      "film, best, awards, actor, award, films, actress, comedy, oscar, her\n",
      "\n",
      "[Topic 10]\n",
      "Suggested labels: six_nations, capt, fly-half, lock, flanker, wing, line-out, oconnell, worsley, coach\n",
      "wales, england, ireland, rugby, six_nations, robinson, france, scotland, italy, coach\n",
      "\n",
      "[Topic 11]\n",
      "Suggested labels: charges, to submit, criminal charges, to submit to, submit to, guilty, face trial, statements, prosecutors, lawyer\n",
      "ukip, kilroy-silk, charges, fraud, court, ebbers, drugs, iaaf, mci, greek\n",
      "\n",
      "[Topic 12]\n",
      "Suggested labels: growth, economy, economic, prices, economist, economic growth, economists, interest rates, rates, rate\n",
      "growth, economy, economic, prices, sales, dollar, rise, bank, china, market\n",
      "\n",
      "[Topic 13]\n",
      "Suggested labels: champion, the womens, defending champion, womens, swede, the semi-finals, championships, first man, comfortably, semi-finals\n",
      "her, she, roddick, champion, olympic, seed, holmes, race, win, nadal\n",
      "\n",
      "[Topic 14]\n",
      "Suggested labels: shares, the company, company, shareholders, firm, investors, state-owned, unit, analysts, bankruptcy\n",
      "yukos, company, shares, firm, oil, deal, euros, russian, bankruptcy, lse\n",
      "\n",
      "[Topic 15]\n",
      "Suggested labels: striker, chelsea, arsenal, keeper, free-kick, header, manchester_united, premiership, fa, defender\n",
      "club, chelsea, liverpool, arsenal, football, united, cup, gerrard, manager, mourinho\n",
      "\n",
      "[Topic 16]\n",
      "Suggested labels: new_zealand rugby, sa, supercomputing, treatments, smit, the springboks, world it is, nairobi, captains, springboks\n",
      "new_zealand, women, africa, qantas, mcconnell, drug, mcdonalds, african, super_bowl, hiv/aids\n",
      "\n",
      "[Topic 17]\n",
      "Suggested labels: album, band, rock, hip-hop, music, eminem, pop, the band, artists, franz_ferdinand\n",
      "music, album, band, song, chart, rock, singer, artists, urban, pop\n",
      "\n",
      "[Topic 18]\n",
      "Suggested labels: ghosn, porsche, wearable, honda, chrysler, mg, longbridge, car market, emissions, marque\n",
      "car, vehicles, china, bmw, arms, cars, robots, embargo, ukraine, gm\n",
      "\n",
      "[Topic 19]\n",
      "Suggested labels: labour, election, tory, tories, labours, the tories, party, general election, mr blair, michael howard\n",
      "mr, labour, election, party, blair, howard, brown, tax, tory, tories\n",
      "\n",
      "[Topic 20]\n",
      "Suggested labels: technology, digital, broadband, technologies, content, users, video, devices, network, internet\n",
      "broadband, technology, digital, music, services, content, service, software, bt, net\n",
      "\n"
     ]
    }
   ],
   "source": [
    "for k in range(model.k):\n",
    "    print(f\"[Topic {k+1}]\")\n",
    "    print_topic(k)\n",
    "    print()"
   ]
  },
  {
   "cell_type": "markdown",
   "metadata": {},
   "source": [
    "Visualise\n",
    "--------\n",
    "- Present data in the format expected by pyLDAvis"
   ]
  },
  {
   "cell_type": "code",
   "execution_count": 30,
   "metadata": {
    "ExecuteTime": {
     "end_time": "2020-06-03T07:13:26.376849Z",
     "start_time": "2020-06-03T07:13:26.293873Z"
    },
    "scrolled": false
   },
   "outputs": [],
   "source": [
    "model_data = {\n",
    "    \"topic_term_dists\": [model.get_topic_word_dist(k) for k in range(model.k)],\n",
    "    \"doc_topic_dists\": [model.docs[n].get_topic_dist() for n in range(len(model.docs))],\n",
    "    \"doc_lengths\": [len(model.docs[n].words) for n in range(len(model.docs))],\n",
    "    \"vocab\": model.vocabs,\n",
    "    \"term_frequency\": model.vocab_freq,\n",
    "}"
   ]
  },
  {
   "cell_type": "markdown",
   "metadata": {},
   "source": [
    "Again, this could take a while"
   ]
  },
  {
   "cell_type": "code",
   "execution_count": 31,
   "metadata": {
    "ExecuteTime": {
     "end_time": "2020-06-03T07:13:26.384822Z",
     "start_time": "2020-06-03T07:13:26.379827Z"
    }
   },
   "outputs": [],
   "source": [
    "def prepare_vis(model_data, results):\n",
    "    vis_data = pyLDAvis.prepare(**model_data, mds=\"pcoa\")\n",
    "    results[0] = vis_data"
   ]
  },
  {
   "cell_type": "code",
   "execution_count": 32,
   "metadata": {
    "ExecuteTime": {
     "end_time": "2020-06-03T07:13:46.786891Z",
     "start_time": "2020-06-03T07:13:26.388817Z"
    }
   },
   "outputs": [
    {
     "name": "stdout",
     "output_type": "stream",
     "text": [
      "Preparing LDA visualisation . . . . . . . . . . . . . . . . Done.\n"
     ]
    }
   ],
   "source": [
    "print(\"Preparing LDA visualisation\", flush=True, end=\"\")\n",
    "\n",
    "results = [None]\n",
    "t = threading.Thread(target=prepare_vis, args=(model_data, results))\n",
    "t.start()\n",
    "\n",
    "progress_countdown = 1.0\n",
    "\n",
    "while t.isAlive():\n",
    "    time.sleep(0.1)\n",
    "    progress_countdown -= 0.1\n",
    "    if progress_countdown <= 0:\n",
    "        print(\" .\", flush=True, end=\"\")\n",
    "        progress_countdown = 1\n",
    "\n",
    "print(\" Done.\")\n",
    "\n",
    "vis_data = results[0]"
   ]
  },
  {
   "cell_type": "code",
   "execution_count": 33,
   "metadata": {
    "ExecuteTime": {
     "end_time": "2020-06-03T07:13:46.813842Z",
     "start_time": "2020-06-03T07:13:46.792847Z"
    }
   },
   "outputs": [
    {
     "data": {
      "text/html": [
       "\n",
       "<link rel=\"stylesheet\" type=\"text/css\" href=\"https://cdn.rawgit.com/bmabey/pyLDAvis/files/ldavis.v1.0.0.css\">\n",
       "\n",
       "\n",
       "<div id=\"ldavis_el872028364181546967146703654\"></div>\n",
       "<script type=\"text/javascript\">\n",
       "\n",
       "var ldavis_el872028364181546967146703654_data = {\"mdsDat\": {\"x\": [0.00691432775782772, -0.06670825190649364, 0.04265609715741808, 0.09540324593076381, 0.08179373062122589, 0.20114189793440024, 0.10325509727633647, -0.04500781847707146, 0.12089863783465127, 0.04645243219807998, -0.25502150035632326, -0.2730225549927275, 0.0029457695469841346, -0.22791286637749864, 0.18528396773382044, -0.024454180948158502, 0.1361701134475252, 0.022364212272080915, -0.04841397981433947, -0.1047383768385014], \"y\": [-0.09395957723502688, -0.11577706682091528, -0.20155620010145459, -0.1302437490184314, -0.10398196207114972, 0.055583648021071935, -0.1161376104996226, 0.12723629608889103, 0.1590402134983011, -0.1758068105617411, -0.020984226642594167, -0.011402611052901112, -0.15386647339920434, 0.008723679234135135, 0.05481915395602877, 0.17062627480192222, 0.16878922256584333, 0.13212851765737757, 0.1035323066362842, 0.14323697494318371], \"topics\": [1, 2, 3, 4, 5, 6, 7, 8, 9, 10, 11, 12, 13, 14, 15, 16, 17, 18, 19, 20], \"cluster\": [1, 1, 1, 1, 1, 1, 1, 1, 1, 1, 1, 1, 1, 1, 1, 1, 1, 1, 1, 1], \"Freq\": [23.39384562058635, 10.713651564279818, 6.6609952938232935, 6.61543571746947, 6.392417032152675, 5.1556580208893825, 4.4211855216137455, 4.127357522448892, 3.9000286564332556, 3.436541746053213, 3.2572764019101794, 3.2002976872056133, 3.116541548355786, 3.029127530060461, 2.9616912214137114, 2.9408770454232993, 2.5262143281349467, 1.4406560103130241, 1.3591829451643078, 1.3510185862685773]}, \"tinfo\": {\"Term\": [\"mobile\", \"film\", \"music\", \"labour\", \"election\", \"mr\", \"party\", \"games\", \"she\", \"blair\", \"best\", \"we\", \"tv\", \"search\", \"her\", \"game\", \"wales\", \"england\", \"growth\", \"broadband\", \"economy\", \"he\", \"software\", \"you\", \"ireland\", \"government\", \"users\", \"yukos\", \"club\", \"phones\", \"every\", \"does\", \"important\", \"keep\", \"things\", \"rather\", \"allow\", \"why\", \"within\", \"call\", \"fact\", \"hours\", \"quite\", \"everyone\", \"leave\", \"particularly\", \"step\", \"often\", \"easy\", \"looks\", \"response\", \"serious\", \"example\", \"probably\", \"thousands\", \"actually\", \"approach\", \"talk\", \"successful\", \"towards\", \"do\", \"far\", \"give\", \"you\", \"see\", \"these\", \"way\", \"even\", \"what\", \"look\", \"might\", \"making\", \"how\", \"if\", \"potential\", \"better\", \"them\", \"we\", \"like\", \"not\", \"there\", \"only\", \"because\", \"any\", \"where\", \"can\", \"want\", \"or\", \"they\", \"are\", \"all\", \"about\", \"this\", \"that\", \"our\", \"many\", \"some\", \"so\", \"have\", \"would\", \"more\", \"just\", \"ive\", \"finally\", \"wasnt\", \"contest\", \"ill\", \"trip\", \"appearance\", \"foot\", \"van\", \"determined\", \"comeback\", \"feels\", \"pulled\", \"knee\", \"likes\", \"graham\", \"walk\", \"couldnt\", \"thank\", \"guys\", \"flying\", \"phil\", \"shape\", \"pleased\", \"badly\", \"proud\", \"plenty\", \"nick\", \"entered\", \"jamie\", \"am\", \"me\", \"hes\", \"saturday\", \"johnson\", \"im\", \"didnt\", \"him\", \"became\", \"got\", \"great\", \"host\", \"playing\", \"left\", \"return\", \"smith\", \"happened\", \"his\", \"my\", \"career\", \"hope\", \"came\", \"james\", \"went\", \"he\", \"man\", \"after\", \"former\", \"since\", \"final\", \"behind\", \"first\", \"week\", \"had\", \"was\", \"back\", \"good\", \"again\", \"three\", \"two\", \"tory\", \"tories\", \"chancellor\", \"tony_blair\", \"labours\", \"conservative\", \"lib_dems\", \"politics\", \"conservatives\", \"asylum\", \"elections\", \"partys\", \"milburn\", \"lib_dem\", \"gordon_brown\", \"blairs\", \"manifesto\", \"downing_street\", \"jewish\", \"referendum\", \"elected\", \"prescott\", \"westminster\", \"democracy\", \"constituency\", \"pensioners\", \"hague\", \"mcletchie\", \"muslims\", \"pre-election\", \"blair\", \"cabinet\", \"kennedy\", \"labour\", \"election\", \"party\", \"brown\", \"howard\", \"prime_minister\", \"leader\", \"immigration\", \"voters\", \"parties\", \"mr\", \"tax\", \"vote\", \"campaign\", \"political\", \"britain\", \"public\", \"plans\", \"government\", \"he\", \"general\", \"his\", \"turkey\", \"imf\", \"states\", \"councils\", \"donations\", \"indonesia\", \"pupils\", \"sri_lanka\", \"climate\", \"g8\", \"register\", \"subsidies\", \"departments\", \"poorest\", \"thailand\", \"g7\", \"teachers\", \"wto\", \"palestinian\", \"tourism\", \"reconstruction\", \"wages\", \"iran\", \"rebate\", \"turkish\", \"internal\", \"audit\", \"freeze\", \"regulation\", \"egypt\", \"eu\", \"aid\", \"students\", \"parents\", \"countries\", \"authority\", \"education\", \"disaster\", \"funding\", \"commission\", \"social\", \"tsunami\", \"children\", \"nations\", \"benefit\", \"schools\", \"payments\", \"foreign\", \"poverty\", \"report\", \"fund\", \"president\", \"government\", \"child\", \"european\", \"minister\", \"ms\", \"department\", \"country\", \"state\", \"areas\", \"local\", \"trade\", \"uk\", \"health\", \"she\", \"dollar\", \"inflation\", \"minimum_wage\", \"economist\", \"japans\", \"currency\", \"crude\", \"mortgage\", \"gdp\", \"economists\", \"lending\", \"fiscal\", \"ons\", \"imports\", \"economies\", \"recession\", \"barrel\", \"sectors\", \"boom\", \"deficits\", \"mpc\", \"jobless\", \"federal_reserve\", \"sharply\", \"weaker\", \"slowing\", \"eurozone\", \"halifax\", \"surplus\", \"sluggish\", \"exports\", \"forecast\", \"deficit\", \"growth\", \"slowdown\", \"prices\", \"index\", \"yen\", \"economy\", \"rose\", \"rates\", \"trillion\", \"markets\", \"rise\", \"economic\", \"unemployment\", \"rate\", \"quarter\", \"china\", \"sales\", \"euro\", \"fall\", \"bank\", \"figures\", \"spending\", \"jobs\", \"market\", \"increase\", \"oil\", \"demand\", \"fell\", \"year\", \"december\", \"interest\", \"us\", \"budget\", \"analysts\", \"broadband\", \"technologies\", \"high-definition\", \"p2p\", \"wi-fi\", \"ibm\", \"speeds\", \"satellite\", \"patents\", \"patent\", \"itunes\", \"file-sharing\", \"copyright\", \"hd\", \"blu-ray\", \"hdtv\", \"peer-to-peer\", \"high-speed\", \"processor\", \"uwb\", \"iptv\", \"ofcom\", \"providers\", \"linux\", \"directive\", \"downloading\", \"exeem\", \"subscription\", \"formats\", \"connected\", \"dvds\", \"bt\", \"3g\", \"technology\", \"dvd\", \"digital\", \"content\", \"download\", \"networks\", \"network\", \"customers\", \"services\", \"wireless\", \"service\", \"access\", \"software\", \"operators\", \"systems\", \"net\", \"music\", \"users\", \"internet\", \"data\", \"consumers\", \"devices\", \"video\", \"industry\", \"phone\", \"people\", \"yukos\", \"bankruptcy\", \"lse\", \"airline\", \"fiat\", \"gazprom\", \"shareholders\", \"airlines\", \"yugansk\", \"deutsche_boerse\", \"rosneft\", \"creditors\", \"boeing\", \"euronext\", \"merger\", \"aircraft\", \"flights\", \"airbus\", \"barclays\", \"fosters\", \"baikal\", \"shareholder\", \"yuganskneftegas\", \"cairn\", \"aviation\", \"planes\", \"wmc\", \"corp\", \"filing\", \"khodorkovsky\", \"takeover\", \"stake\", \"gas\", \"shares\", \"euros\", \"unit\", \"indias\", \"company\", \"russian\", \"firm\", \"oil\", \"deal\", \"bid\", \"assets\", \"chief_executive\", \"investors\", \"sale\", \"share\", \"group\", \"investment\", \"market\", \"its\", \"offer\", \"actor\", \"actress\", \"comedy\", \"oscar\", \"aviator\", \"oscars\", \"starring\", \"sideways\", \"vera_drake\", \"nominees\", \"million_dollar_baby\", \"bafta\", \"actors\", \"jamie_foxx\", \"nomination\", \"scorsese\", \"bollywood\", \"imelda_staunton\", \"screenplay\", \"hilary_swank\", \"sundance\", \"hanks\", \"premiere\", \"takings\", \"dicaprio\", \"swank\", \"finding_neverland\", \"golden_globe\", \"film_festival\", \"bookmakers\", \"film\", \"drama\", \"box_office\", \"theatre\", \"award\", \"awards\", \"films\", \"cinema\", \"category\", \"nominated\", \"academy\", \"hollywood\", \"ceremony\", \"supporting\", \"festival\", \"best\", \"nominations\", \"movie\", \"stars\", \"musical\", \"director\", \"star\", \"her\", \"prize\", \"won\", \"gaming\", \"mobiles\", \"gadgets\", \"gamers\", \"nintendo\", \"xbox\", \"console\", \"handsets\", \"ds\", \"mac_mini\", \"multimedia\", \"consoles\", \"playstation\", \"psp\", \"vodafone\", \"handset\", \"laptop\", \"ces\", \"nokia\", \"ea\", \"gartner\", \"sonys\", \"t-mobile\", \"halo_2\", \"3d\", \"hp\", \"half-life_2\", \"motorola\", \"commodore\", \"ericsson\", \"mobile\", \"gadget\", \"phones\", \"apple\", \"games\", \"portable\", \"cameras\", \"sony\", \"phone\", \"camera\", \"video\", \"machine\", \"game\", \"chip\", \"pc\", \"device\", \"computer\", \"music\", \"market\", \"digital\", \"lords\", \"arrested\", \"house_of_lords\", \"officers\", \"detainees\", \"forsyth\", \"terrorists\", \"animals\", \"detained\", \"suspects\", \"falconer\", \"speaker\", \"hunts\", \"detention\", \"goldsmith\", \"policing\", \"terror_suspects\", \"sentences\", \"mubanga\", \"ira\", \"casinos\", \"khan\", \"guantanamo_bay\", \"custody\", \"bail\", \"liberties\", \"animal\", \"goldsmiths\", \"woolf\", \"convention_on_human_rights\", \"hunting\", \"arrest\", \"murder\", \"police\", \"hunt\", \"human_rights\", \"lord\", \"prison\", \"law\", \"terror\", \"powers\", \"legislation\", \"parliament\", \"bill\", \"ban\", \"civil\", \"clarke\", \"trial\", \"court\", \"laws\", \"judge\", \"legal\", \"advice\", \"mps\", \"orders\", \"secretary\", \"home\", \"government\", \"case\", \"house\", \"evidence\", \"chelsea\", \"arsenal\", \"gerrard\", \"mourinho\", \"glazer\", \"manchester_united\", \"champions_league\", \"parry\", \"striker\", \"rangers\", \"fa\", \"bellamy\", \"wenger\", \"southampton\", \"everton\", \"real_madrid\", \"keeper\", \"defender\", \"uefa\", \"benitez\", \"souness\", \"giggs\", \"gallas\", \"anfield\", \"uniteds\", \"charlton\", \"midfielder\", \"header\", \"juninho\", \"subs_not_used\", \"liverpool\", \"ferguson\", \"barcelona\", \"club\", \"football\", \"premiership\", \"goals\", \"united\", \"newcastle\", \"clubs\", \"manager\", \"goal\", \"boss\", \"cup\", \"season\", \"players\", \"game\", \"side\", \"we\", \"rugby\", \"six_nations\", \"henson\", \"ruddock\", \"wasps\", \"ogara\", \"flanker\", \"ulster\", \"fly-half\", \"capt\", \"hodgson\", \"gloucester\", \"murphy\", \"dallaglio\", \"twickenham\", \"regiments\", \"oconnor\", \"odriscoll\", \"cueto\", \"easterby\", \"munster\", \"oconnell\", \"corry\", \"full-back\", \"stade_toulousain\", \"martyn\", \"tindall\", \"paterson\", \"leinster\", \"lansdowne_road\", \"robinson\", \"lions\", \"ireland\", \"wales\", \"dawson\", \"wing\", \"england\", \"italy\", \"squad\", \"penalty\", \"bath\", \"irish\", \"scotland\", \"france\", \"coach\", \"captain\", \"cardiff\", \"side\", \"dublin\", \"williams\", \"jones\", \"try\", \"game\", \"players\", \"injury\", \"welsh\", \"against\", \"minutes\", \"cup\", \"ball\", \"victory\", \"ukip\", \"kilroy-silk\", \"ebbers\", \"mci\", \"lawsuit\", \"worldcom\", \"kenteris\", \"marsh\", \"sec\", \"veritas\", \"thanou\", \"doping\", \"balco\", \"conte\", \"parmalat\", \"livingstone\", \"argonaut\", \"pleaded_guilty\", \"tps\", \"qwest\", \"verizon\", \"listings\", \"hockney\", \"aragones\", \"disciplinary\", \"fannie_mae\", \"worldcoms\", \"fsa\", \"ahold\", \"ukips\", \"iaaf\", \"charges\", \"smoking\", \"sullivan\", \"greek\", \"accounting\", \"fraud\", \"apologise\", \"prosecutors\", \"investigation\", \"banned\", \"tobacco\", \"drugs\", \"lawyers\", \"tribunal\", \"court\", \"allegations\", \"trial\", \"case\", \"guilty\", \"ruling\", \"mr\", \"suspended\", \"decision\", \"us\", \"roddick\", \"nadal\", \"australian_open\", \"indoor\", \"henman\", \"marathon\", \"federer\", \"moya\", \"mcilroy\", \"800m\", \"davenport\", \"1500m\", \"mirza\", \"agassi\", \"ac\", \"dubai\", \"60m\", \"safin\", \"lewis-francis\", \"rusedski\", \"semi-finals\", \"indoor_championships\", \"finals\", \"clijsters\", \"lleyton_hewitt\", \"roger_federer\", \"sotherton\", \"60m_hurdles\", \"10,000m\", \"gb\", \"tennis\", \"seed\", \"championships\", \"radcliffe\", \"wimbledon\", \"holmes\", \"champion\", \"mens\", \"serena\", \"olympic\", \"medal\", \"womens\", \"race\", \"her\", \"athens\", \"she\", \"title\", \"match\", \"win\", \"final\", \"round\", \"davis\", \"world\", \"cup\", \"gold\", \"open\", \"won\", \"set\", \"second\", \"spam\", \"viruses\", \"spyware\", \"malicious\", \"anti-virus\", \"bittorrent\", \"spammers\", \"lycos\", \"screensaver\", \"firefox\", \"addresses\", \"cabir\", \"worm\", \"phishing\", \"domains\", \"internet_explorer\", \"ie\", \"hackers\", \"anti-spam\", \"tags\", \"patches\", \"seafarers\", \"bot_nets\", \"server\", \"scams\", \"denial\", \"anti-spyware\", \"junk_mail\", \"circulating\", \"sophos\", \"virus\", \"e-mails\", \"e-mail\", \"infected\", \"domain\", \"program\", \"windows\", \"traffic\", \"programs\", \"security\", \"messages\", \"microsoft\", \"fake\", \"site\", \"software\", \"users\", \"machines\", \"attacks\", \"sites\", \"websites\", \"computer\", \"pcs\", \"net\", \"data\", \"information\", \"system\", \"hip-hop\", \"angels\", \"concert\", \"musicians\", \"rapper\", \"elvis\", \"joss_stone\", \"r&b\", \"gig\", \"millan\", \"50_cent\", \"franz_ferdinand\", \"brit\", \"u2\", \"grammy\", \"band_aid\", \"guitarist\", \"usher\", \"kapranos\", \"scissor_sisters\", \"top_of_the_pops\", \"fightstar\", \"jazz\", \"alicia_keys\", \"jamelia\", \"musician\", \"concerts\", \"hendrix\", \"reggae\", \"joy_division\", \"album\", \"rap\", \"band\", \"song\", \"bands\", \"pop\", \"urban\", \"rock\", \"chart\", \"albums\", \"singer\", \"artists\", \"artist\", \"soul\", \"music\", \"songs\", \"singles\", \"robbie\", \"charts\", \"single\", \"best\", \"awards\", \"number\", \"show\", \"her\", \"record\", \"radio\", \"google\", \"blogs\", \"blog\", \"yahoo\", \"broadcasting\", \"ask_jeeves\", \"bloggers\", \"simonetti\", \"broadcasts\", \"broadcaster\", \"bloglines\", \"blogger\", \"blogging\", \"freeview\", \"forensic\", \"bjorn\", \"csi\", \"queries\", \"viewing\", \"eastenders\", \"terrestrial\", \"nielsen\", \"dtt\", \"googles\", \"blinkx\", \"nbc\", \"journals\", \"eviction\", \"ad\", \"fictional\", \"search\", \"viewers\", \"ebay\", \"sky\", \"engine\", \"channels\", \"web\", \"channel\", \"tv\", \"television\", \"desktop\", \"broadcasters\", \"broadcast\", \"engines\", \"programmes\", \"online\", \"show\", \"sites\", \"shows\", \"radio\", \"information\", \"site\", \"bbc\", \"million\", \"she\", \"people\", \"audience\", \"dr\", \"users\", \"bmw\", \"embargo\", \"ukraine\", \"hsdpa\", \"rover\", \"nissan\", \"carmaker\", \"espn\", \"coal\", \"ripguard\", \"paniccia\", \"renault\", \"mock\", \"ghosn\", \"macrovision\", \"asimo\", \"cocoa\", \"mitsubishi\", \"yushchenko\", \"confess\", \"inbev\", \"yangtze\", \"toyota\", \"saab\", \"metal_slug\", \"honda\", \"tiananmen_square\", \"pulses\", \"three_gorges_dam\", \"cursor\", \"vehicles\", \"robots\", \"arms\", \"robot\", \"car\", \"mercedes\", \"cars\", \"laser\", \"plant\", \"ford\", \"brain\", \"rovers\", \"silicon\", \"gm\", \"china\", \"factory\", \"chinese\", \"vehicle\", \"cafes\", \"light\", \"used\", \"qantas\", \"mcdonalds\", \"super_bowl\", \"hiv/aids\", \"binge_drinking\", \"umaga\", \"hiv\", \"sevens\", \"drinks\", \"drunk\", \"donofrio\", \"tate\", \"samoa\", \"gallery\", \"fiji\", \"ppi\", \"bat\", \"indecency\", \"axa\", \"leaflet\", \"st_helens\", \"blue_gene/l\", \"lomu\", \"sculthorpe\", \"pernod\", \"melcher\", \"ozzy\", \"phytopharm\", \"with-profits\", \"newry\", \"mcconnell\", \"swansea\", \"new_zealand\", \"drinking\", \"african\", \"ink\", \"drug\", \"africa\", \"women\", \"nuclear\", \"drink\", \"all_blacks\", \"stern\", \"safety\", \"south\", \"food\", \"australia\", \"health\", \"treatment\", \"research\", \"ballet\", \"bnp\", \"bates\", \"viotti\", \"painkiller\", \"four-kings\", \"tevez\", \"bogdanovic\", \"la_fenice\", \"nair\", \"aguas_argentinas\", \"magic_roundabout\", \"stan_lee\", \"kok\", \"danish\", \"whitbread\", \"buenos_aires\", \"rossignol\", \"corinthians\", \"kiely\", \"hailey\", \"formula\", \"poetry\", \"literary\", \"originals\", \"santander\", \"superhero\", \"lees\", \"pesos\", \"burton\", \"marvel\", \"dancers\", \"orchestra\", \"murray\", \"argentina\", \"lisbon\", \"novel\", \"disney\", \"sun\", \"grid\", \"book\", \"spider-man\", \"books\", \"star_wars\", \"argentine\", \"she\", \"lee\", \"bond\", \"character\", \"prize\", \"born\", \"her\", \"prince\"], \"Freq\": [659.0, 707.0, 788.0, 700.0, 665.0, 1398.0, 586.0, 615.0, 827.0, 495.0, 689.0, 994.0, 509.0, 349.0, 699.0, 669.0, 446.0, 505.0, 465.0, 388.0, 477.0, 1186.0, 452.0, 956.0, 344.0, 737.0, 458.0, 349.0, 381.0, 353.0, 305.90810430984266, 294.099833200434, 283.02922534917985, 256.0961924633369, 251.67036645259788, 250.57805191374695, 240.65533942546918, 234.3266049783336, 231.94266139833178, 206.17338217690272, 204.93937382437755, 197.78352915745222, 186.4578066395038, 172.93019296469535, 164.37171114655638, 164.0161057356905, 162.13355207624278, 161.71727714701422, 160.447560198721, 157.98192333558762, 157.46136307553644, 156.58389233001975, 156.43564024230704, 155.17161517399035, 145.95170180813412, 143.67777930698523, 143.25337782079595, 142.18685769756127, 141.80641200124862, 141.6761129145409, 561.3469339874493, 301.01247337726335, 297.3792772960516, 893.2349938469473, 385.069915596547, 396.3688786016963, 436.1438236138827, 383.2362748170518, 571.086124472784, 282.7129586155314, 252.78575558773136, 271.6230049525651, 424.0083406914102, 586.2524073621108, 186.1964407751474, 301.42053401342366, 482.5435027660118, 788.5435325825276, 450.66647441830906, 596.2323457265304, 545.8934469500962, 425.4207165505606, 415.1814741203118, 401.6452842409915, 347.2263274536265, 539.1917682438425, 367.20473843518306, 516.8993832280458, 594.2763569450731, 556.9991273103387, 450.31509130761845, 473.17679592523064, 460.9935845602574, 479.03559384636463, 395.6522939433778, 393.34979140519835, 405.4795276126271, 403.89413614941134, 411.224531802284, 432.6219207850832, 423.9190253339363, 396.55044847624663, 208.72032480855862, 105.24484441691799, 105.24484441691799, 96.4385462244139, 91.45057139919518, 88.34507847170133, 88.34773037813292, 78.0532305127008, 77.32668348869588, 77.00573249477259, 75.17290854948926, 74.95697405476696, 73.2138930339527, 72.39509683299887, 71.92987308860694, 71.66895161299875, 71.10778209481387, 70.00183163928936, 69.22340167316639, 69.0471151886164, 68.86959817930175, 68.0139967315095, 68.0139967315095, 67.5526051928132, 65.33805237533258, 63.53252096707438, 62.63366531816686, 61.25803908227986, 60.79161997097369, 59.542863349598015, 259.6221820881216, 381.15565860407617, 180.69445529430345, 178.22201462145074, 157.95692918904507, 295.2118110904792, 177.9856333254349, 362.4387440923129, 146.10144085521785, 266.36837087748484, 266.75444425548386, 140.7313906018477, 222.37020955716142, 217.4920276762506, 205.24634747337524, 135.84230978730704, 113.24306453029594, 539.949686166493, 327.0009970037645, 161.8580442715167, 162.49614921151806, 205.91649628275832, 128.53028050820328, 179.99453280816567, 479.8498521505602, 165.1979094750025, 287.3892496428938, 210.8939840234521, 219.14332159472147, 198.69766544256476, 163.70445421471186, 251.23142959736762, 206.48460696512586, 252.68640207909982, 235.74887660253336, 209.21233381241962, 198.21899633166265, 168.91056843412915, 177.3019437210905, 177.49280062336408, 350.0412467778732, 329.4728538702441, 324.99347333478033, 215.81651372885935, 213.9755632478465, 197.2741206378394, 181.5460762541586, 174.3657498407772, 172.69914418772615, 160.26617708236643, 148.94125766926135, 144.75735651839886, 133.4723323181115, 133.3172980721836, 127.96064753764631, 117.00085550747427, 108.94477046657566, 96.94467391469277, 95.2100627869435, 94.18722022751167, 91.64747274315046, 90.48942488279641, 82.28505680527734, 73.25142038894097, 72.51467047258487, 69.37699442291839, 64.93996351771717, 62.341740942934486, 59.51992281253178, 59.12739089080035, 489.4538064113791, 164.98096935107245, 223.06302822386917, 678.9815982333253, 642.1712321594899, 561.1870478266408, 386.50099963198585, 392.15095617384503, 297.20744437047404, 281.33069851259313, 207.74867496370854, 194.48611476200702, 206.5460353971055, 776.5695356146764, 358.2479443660969, 210.67874976583678, 256.95654711936265, 208.1836876677797, 226.17722805171633, 242.232815380206, 235.1574980633051, 271.7099566999892, 297.62111051264617, 195.1470462870658, 205.07548336346184, 118.99107040908875, 111.0555370675405, 108.6704806477123, 107.35489244838428, 94.19326062596171, 88.77329304079701, 78.4513325003046, 77.84216694484448, 74.1213265935546, 69.19353073722074, 67.59844005588823, 65.7175450301901, 65.3809350218482, 64.90309754884073, 64.6973070080759, 63.94270861129582, 61.936762555024416, 61.6506852953597, 61.6506852953597, 61.33666523063905, 60.54488832697657, 59.14622843217374, 59.14622843217374, 56.71898178815231, 56.33276322157794, 56.05870664031464, 55.74301186807677, 55.52996426140395, 55.52100767749701, 54.07963033576406, 382.05715409364194, 216.72300662680925, 159.15672207686777, 146.32283051556624, 277.5392285846785, 74.08582899680985, 178.05769441061037, 130.68023115354188, 104.21518801081253, 146.72307320694225, 129.90278230308235, 141.5515763937499, 188.80720778025045, 148.64206472734705, 98.22567100690074, 133.13103534997228, 81.8686600258893, 189.21710174902205, 102.55021860766867, 202.46721395193805, 112.61849817502402, 164.5151410594642, 278.8551021045465, 99.22486974050224, 189.80395647878046, 140.52774705440433, 146.6893929779847, 111.41808023191766, 136.55287218061264, 126.42238033030257, 109.70958083856681, 123.70351128394827, 118.77428882491456, 128.12540901243048, 115.24833480766625, 126.58795308017227, 260.7035274417956, 143.91635477630618, 124.63907750224546, 119.02695053736437, 111.38870264890001, 103.88553668089675, 103.60750934367294, 84.28837333625077, 83.2688698420474, 81.45944458064672, 77.98209503664413, 73.5869400207287, 67.58914811947743, 65.54922412273673, 60.20722503766673, 58.487672586511614, 55.020008568441455, 54.6869367571066, 53.68254292309856, 52.26988259437182, 49.41008721837666, 48.3761363477747, 47.65743556118079, 44.58236199013361, 43.90739890495798, 43.90739890495798, 43.558426288982815, 41.54928800013317, 41.159295743389706, 39.726158558630694, 157.0084647795453, 105.91931732115184, 185.2106784984903, 437.13775292327915, 85.20525580631114, 321.6152726012319, 115.0063185068857, 99.10522617768555, 424.9470800928678, 198.4125777740254, 227.85094270120817, 88.84087619393857, 163.36873868752156, 257.4880766766726, 328.3138206946206, 117.87323418288565, 225.0505550808085, 198.0288007959898, 248.55979584845278, 315.43621871930327, 138.92515633036072, 155.08526455603118, 254.75129227483419, 212.5701555650173, 214.98815670367864, 171.58512137267059, 229.49731429120303, 172.14523965267648, 187.99291774480372, 148.34649995335621, 139.07051114156948, 198.36667940917974, 153.02874450650154, 153.01699721019736, 191.70448799914882, 154.7386354057983, 146.52985250213587, 388.01517143184964, 177.8490347182703, 163.0053141860441, 126.04195903714108, 116.32379570251281, 111.52965312517134, 107.50488939539787, 100.41727643576456, 100.2026883695098, 92.16845548199454, 91.96546886102298, 89.7403696629334, 86.61553004377704, 84.33000665150419, 78.50286171827634, 78.43635643319045, 76.053202044924, 73.15153072759642, 71.93733313212876, 71.5558727772819, 70.35097083984738, 69.1818448593049, 68.94728780535647, 68.29541709670058, 67.39907493231465, 64.28778000052641, 62.22308528528356, 59.871699521350926, 58.51645252091732, 57.04100487947879, 128.99341505654016, 200.54258316523547, 146.28456681783723, 372.2888709497047, 181.80452815183207, 323.0283221761069, 221.58503325523907, 156.2475303158119, 183.89978784146058, 185.9228091984591, 157.4755239632955, 225.80811402425763, 124.72511765453038, 219.3388194267341, 169.63931063510464, 211.72471354440745, 116.98579350611382, 126.7988856667718, 192.2084335814076, 241.8118243988658, 189.1751003619224, 157.08049475140285, 154.2998893495409, 135.78312223704327, 130.2942947840154, 136.73285521940954, 128.87987557870198, 129.53523155487838, 131.8728551043438, 348.9542882381229, 158.49580310510956, 155.06064649919142, 148.73548938417022, 145.47067125938176, 143.83316348356914, 140.2082518325767, 140.1171050759555, 120.13552077868846, 119.6190915794259, 112.53352146483235, 97.63227863649196, 95.25304485305021, 86.39268306752933, 74.13334481488376, 71.71638055214574, 68.5515510991992, 68.49600828530218, 68.48086137568357, 67.36006882452038, 66.11959330277469, 64.55658477700736, 64.21525700336046, 54.174402121430845, 53.27607514183355, 52.69330048869967, 51.74845085813094, 50.05282189464383, 49.69075106250445, 48.478169233923396, 140.70029840393104, 129.9843116859714, 103.55138747981606, 254.21871719879172, 179.36537601509133, 126.87519085874038, 106.48226060217567, 271.9655229688812, 164.34304081571133, 230.15129755750758, 200.25411677129, 195.67071332236299, 145.58743594195894, 86.9511953063234, 120.18030655086126, 107.99640438503545, 120.05675187431714, 115.42235300061508, 120.5919841337959, 111.7388931965156, 122.23510463966427, 125.70438531782663, 109.54672001609774, 247.2105764971311, 209.74364047076034, 177.24950948334228, 167.91602482298538, 154.20898183728193, 124.80043816610053, 113.80815476707245, 83.48523085558968, 81.67041714452068, 81.17355767517738, 77.2894210580632, 75.75181680558991, 74.49761369630002, 67.4119117710164, 65.36413592733633, 59.40512323706242, 56.62846228372183, 52.43235376885504, 50.5599109534863, 50.099087088443234, 47.56854172765966, 45.49381270700887, 43.83719266735197, 43.11887598932205, 41.16144456338181, 40.75725913310444, 39.85379173688885, 39.77157390517033, 39.32524632166814, 38.99526049156827, 660.7913154054555, 121.59919018176622, 127.21565179203016, 122.83174561381647, 246.99340316021855, 267.90162298876567, 226.671938321622, 90.49089751797193, 119.31725256658619, 111.10180813183058, 106.32286473731781, 111.50723963863122, 116.4056361080516, 84.26032915109141, 120.0648907409416, 324.86075605769486, 112.00823979704252, 123.26140982617208, 114.88469522672489, 102.55582061536222, 146.81493401953236, 121.77386534359012, 162.07095073853318, 109.59623810749277, 123.50104349892638, 261.7199796467255, 204.41086288782378, 189.39281507694807, 152.9492569825499, 151.28505262917267, 145.45717072501907, 137.87709060754992, 130.70031080591824, 127.94023478230234, 127.1120452315335, 121.13045929194747, 106.56904783584953, 102.98176224627461, 97.13736686674362, 92.82035094650867, 84.72979381627756, 84.26477639738, 83.05048014486238, 74.87800652317776, 74.77359426101529, 73.06436911294223, 72.46993519259289, 63.48909111592008, 62.60121025158607, 60.44270229146859, 55.98956355582213, 55.054731180450574, 54.08395749651297, 50.39104929040226, 46.25947355546692, 641.6005599926062, 193.98009471842795, 331.77379885730966, 255.94166742198195, 433.4478079414796, 138.56164656380514, 118.5044364143313, 164.5861524266084, 262.4761476272922, 124.57581529044676, 215.3775657350784, 118.92400155268395, 237.6616158451961, 104.81160597246952, 132.56937586446432, 111.5778891518991, 118.53057421813942, 131.15714462032187, 114.1435771438362, 107.90221478313418, 118.23437307565771, 103.26696729792484, 88.42635741279716, 86.36944268598486, 74.56122397874316, 73.96380240851803, 71.24128657581468, 66.76450097972199, 66.24567275703767, 65.0466344485611, 64.57981728753649, 64.11760772273126, 62.38006707792311, 58.54241629726968, 58.223428866696544, 56.99392242545735, 55.67286981373891, 55.07150439891761, 48.227948063401556, 47.215440071524064, 43.55703122799542, 43.035854097867784, 42.03854795141902, 42.03854795141902, 41.30473508890944, 41.30473508890944, 38.989189219902755, 38.88407802838602, 38.88407802838602, 37.99741218891726, 166.94630562362016, 101.06476829591514, 96.26291839759213, 302.64818551822316, 83.52057560982196, 128.72413617995917, 284.8328857370954, 83.91676444278431, 249.38767264762228, 74.36959952954068, 107.29135783136914, 92.89625416922757, 129.72494474395373, 168.3164951880279, 119.01653025542305, 98.91706781310458, 100.7914315109618, 118.79362570545284, 139.11183619485828, 102.21329703912238, 89.41301453441719, 122.87398403353407, 85.83095968222483, 107.67830569513065, 82.47390374192055, 102.54768608503026, 106.40691201553336, 108.03664135299832, 92.28232902708936, 89.98346072313971, 88.52177654177689, 275.22602777412914, 206.4792879315328, 144.2234934638594, 129.25858100163106, 124.53593555408268, 123.56986465449832, 120.64371381372365, 118.55267764932776, 109.14965434119851, 107.13845016548251, 100.04969940447853, 85.12200929412587, 85.03897058822662, 81.58872610118644, 78.26361077406183, 69.38783896515505, 68.71977898582259, 67.29812824387649, 66.79521114732431, 66.50531780266198, 63.4448574286752, 62.54466777085834, 61.09520715557946, 61.05311059353035, 60.35327662757869, 57.63850036983819, 57.589190221053734, 55.631584033146936, 55.42395367421841, 52.33325853787772, 221.48843476728985, 111.36186166025637, 89.16807405658749, 298.02711875488114, 171.25748782235453, 120.81125715339387, 97.73512145571333, 148.65309992985408, 106.10089085002137, 99.36047509149833, 135.90443830439636, 122.36462762264539, 112.06455418555785, 145.6073904550763, 114.58204098389814, 116.09471973864427, 117.96959262229176, 95.1434648150976, 90.2087301446776, 283.07976095933975, 203.92519095704006, 78.34731439620127, 77.33591642820795, 75.3530463861475, 73.84244571856684, 70.40583025002844, 68.63963304731932, 66.62382249244348, 66.15229126390581, 65.0563185742679, 58.25928470245201, 57.5063458355578, 56.53846247103039, 56.42253755099855, 56.371947548624036, 55.47300581485326, 54.99011434023078, 50.91707304110912, 49.953561540962475, 49.75433415082854, 48.96677443889299, 48.88055239154829, 48.717752203598614, 48.26189007306805, 47.78184316085667, 47.78184316085667, 47.49295804409459, 45.16646606301134, 44.52151854756783, 192.68416444366173, 133.23653078744954, 283.86188359628704, 330.4163040779434, 59.49009805203689, 72.24408369929876, 312.8009972772417, 151.64191779842565, 133.80744766596635, 109.44638713227329, 78.26199552742803, 131.61378594734543, 154.14327235236638, 177.49135660601104, 147.01065813146624, 104.67598395463114, 91.58144297465886, 144.17016452483412, 65.06979723919473, 124.62815278672481, 110.83110091019677, 111.59139123057956, 145.53998335781174, 122.65382243308416, 97.79607969814269, 81.24767583956982, 108.52998194572555, 88.83665028948182, 91.253442124151, 84.12576687975786, 85.12710085795496, 241.73517321343076, 212.90950613408341, 128.7685662198011, 107.92481991686572, 104.60911921938396, 101.90861811620015, 94.43454031529171, 88.5944805119296, 85.57251734160333, 79.60393933443564, 76.95242370641432, 69.71842849977341, 67.45458305725724, 63.98605258633545, 63.42125274601045, 59.06436817004207, 55.44318909362704, 54.88446130158334, 52.59431144201797, 49.96480479746862, 44.29931492116197, 44.29931492116197, 43.12779239321085, 42.076279019693246, 41.6124919979612, 41.241834067072865, 39.377630504868605, 38.49265430541065, 38.478315739040916, 35.95492383623136, 111.72477669200372, 155.62854938816594, 58.533417515131205, 82.52244976301454, 107.40187571637773, 77.74083739023044, 154.74945238078786, 68.13468168539909, 67.90559773874021, 98.74894392980026, 74.98479370103561, 67.89809387926651, 118.19870223231099, 76.9011940863625, 65.69486372527162, 140.49848947951205, 73.87580041330175, 95.07248525310344, 98.6843078816856, 72.66487385692267, 75.78901574924143, 107.25820369044182, 71.99447648012534, 72.77649084453046, 72.84026780592968, 216.7362307863978, 117.96160191787935, 111.49629730041951, 111.39516686172487, 107.78598486752034, 100.12029307029977, 77.90230944683157, 67.62758979234398, 66.06032928218505, 65.16445241965532, 63.490631191123484, 63.34295144075155, 60.947266548376234, 58.910116439780154, 58.80917344797818, 57.92493533341998, 57.21339828929943, 55.43882151585827, 53.11845619307917, 43.47638400184208, 43.45554899571245, 43.45554899571245, 41.37615801386582, 41.06126143471878, 40.38871618437599, 39.93546391771464, 39.68000504416751, 37.220383720768446, 36.64999986702992, 36.64999986702992, 114.82442255981105, 149.39972897772859, 88.15063317070728, 71.2253261656785, 82.40659579515973, 131.59163799161195, 187.79105651558794, 103.72478321197893, 53.89508275062378, 155.54453348999263, 77.03252178363482, 95.4626808439844, 130.89365392585162, 252.4338442329698, 101.96695169428209, 220.33816483408614, 117.9056518605247, 109.31034844030441, 121.42159890636181, 102.4140636551566, 84.71334565728105, 85.46859758885353, 110.46711161595513, 95.1987669795365, 79.9081559243534, 87.18498630264585, 87.79326850995496, 86.98883164979021, 83.0946565360268, 193.0990888298225, 134.643377384456, 127.92839071486956, 110.51697660327028, 105.32561751550794, 95.97611946421709, 84.27261896497154, 75.39451787629541, 75.39451787629541, 64.67928542815127, 61.61196455654324, 59.17039053839439, 57.891805626541526, 57.60850870901214, 54.59722520062448, 50.389502334337635, 46.6725090432889, 43.850689026237376, 43.78349417414586, 42.87723838693694, 42.287796413891186, 41.86829371509523, 40.42615634442403, 40.08025752816124, 39.93871459069498, 38.39302194999335, 38.39302194999335, 35.99372587312449, 35.24054539055002, 34.57591116174206, 176.46195668360798, 112.87089019118419, 214.66368795767653, 84.20029799927721, 89.0620529807558, 140.7747979511936, 135.01741151113248, 113.73755327647062, 140.65317077036838, 243.5314939026019, 135.2699184245297, 193.74812256772006, 72.71903090828374, 160.8086606939607, 223.98519509611992, 202.16132458426392, 111.42307133165528, 128.05566050828466, 139.53275673111375, 107.74829766748478, 127.93778766418264, 94.64689543662158, 130.91288847471293, 117.27410514719922, 110.8202448149662, 101.41797500695385, 107.62430857724058, 103.65753603890984, 89.14706746865359, 86.66630843291594, 74.77903313517558, 72.53637221670988, 69.47469789260369, 64.57223146304494, 60.102268126556005, 57.36371790170438, 55.231996643346626, 55.15277766350617, 53.814194735716775, 53.38858504499996, 51.21358976403113, 43.72619120237648, 42.05714683786799, 41.9926990405895, 40.155833417117215, 39.08130640250017, 38.704719831956815, 37.83486896264354, 37.69626470021262, 34.739394908120204, 34.52154133487848, 34.30592122399911, 34.170173587503264, 33.60353315672728, 33.60353315672728, 32.43047184887672, 269.54592910070426, 94.5446897465879, 249.4995841749223, 240.61444074912404, 83.28775267472602, 121.91863313803864, 125.1049181177992, 145.74186769829706, 167.47384251464877, 61.119144238614595, 144.98826992362538, 129.8879356713855, 77.23016708496107, 63.372547835307174, 415.5745733663291, 106.87020344815575, 95.20294900935689, 78.2315964610271, 69.89550426056094, 95.3592913747225, 112.62904000938626, 87.8092621166496, 90.19680029368743, 88.07909194363282, 84.72649949606517, 77.93074632345547, 75.55673024447326, 187.85900772863286, 151.87604936859907, 147.24039962776325, 106.10645615858571, 88.93387825675401, 85.36017390277921, 62.470606989866305, 59.24093800003177, 52.66203914524343, 48.795380092622665, 47.90591899689709, 45.329000560816006, 45.329000560816006, 41.809849201725044, 40.47435721104606, 40.47435721104606, 39.49538296914776, 39.22186005106915, 38.94373973098161, 38.53029093908578, 37.634446536603875, 36.442970946928824, 36.19097126020265, 35.28256157299259, 35.0783431282685, 34.60802250760591, 33.840206632062895, 33.840206632062895, 31.21165565276051, 30.3036225688062, 322.26707065415707, 127.92757831775842, 56.44952624549413, 107.33224054171737, 87.07077694763302, 70.27053413132369, 176.3336027525578, 81.82907545675728, 289.80640911940066, 142.9230956981626, 78.13373061974778, 59.39494741446983, 77.39001261542516, 63.05672955881242, 96.81926828295433, 140.56999328754844, 136.60145713281133, 99.78623873759577, 86.25447162648119, 92.42835854973217, 91.37327255298854, 79.78989436126666, 85.8378678941032, 82.4450373201436, 91.49524463637421, 75.9688729912363, 66.0459551341524, 66.93946175415991, 67.47044865903402, 77.41041985598194, 60.78086828779882, 58.749687199602896, 52.23327612346402, 50.60590097191788, 44.417850682149684, 38.61293705396465, 36.55086146444056, 36.43053337912593, 36.03583424240421, 33.26414956243138, 31.341550381535487, 31.341550381535487, 31.341550381535487, 30.492467583971433, 30.492467583971433, 30.459711740266986, 29.97743495890932, 28.73008432610531, 27.720782903998604, 27.720782903998604, 26.11861556916225, 24.46682144266811, 24.100118083951266, 22.177416245565826, 21.690499615831882, 21.690499615831882, 21.690499615831882, 20.895682107545454, 20.895682107545454, 82.33420804229954, 60.96990395026274, 76.10911190636894, 55.53276888292192, 135.83380752354375, 35.067555293423446, 61.927628088410245, 43.551062169151486, 47.59052091932261, 41.96519306153731, 36.43053337912593, 40.03409492111201, 44.06325550417373, 57.78699768077673, 80.77089656725708, 45.17434182716725, 56.71428094525821, 37.94265928957719, 34.15387121829201, 48.24317401366241, 42.85624926476207, 58.02047657879532, 53.53617124549187, 52.88145732468124, 52.773722300924184, 46.2363345525031, 42.883443221235204, 41.38635202973857, 41.36976996055088, 40.25865918064092, 37.83880107132505, 36.38973314260652, 33.05141547743379, 31.636645874116223, 30.27183657209238, 29.203363578140113, 29.012236497550617, 27.74951422276986, 26.770083830898894, 26.375121677563463, 26.375121677563463, 25.22719187344734, 25.194119489527974, 25.194119489527974, 24.60787733150971, 24.60787733150971, 24.60787733150971, 22.395216076258336, 22.395216076258336, 22.395216076258336, 21.532390305558067, 56.14741640635591, 35.41194668473894, 81.28167885701626, 29.19858215148839, 53.23105199699288, 49.41020784263903, 53.862164632731584, 69.91899563196527, 77.8834353371339, 47.881792699356865, 36.115071276030804, 38.43029107447972, 30.69088427012864, 36.970462387059925, 44.95665554450598, 36.22151663993404, 36.671574795364485, 34.59198043993171, 32.27669437437568, 33.04221709321948, 77.8961289164731, 51.66442207359977, 48.686542992442185, 32.416418232928216, 30.54281355688765, 29.71536904729635, 29.683450424297305, 29.21346206445385, 27.014322395089593, 26.71548970245722, 26.71548970245722, 26.71548970245722, 25.4529876984809, 23.747528980617137, 22.78385460242296, 21.612226557250967, 21.137721100430984, 20.77956825877705, 20.77956825877705, 20.77956825877705, 20.77956825877705, 20.505853209427798, 19.97161592200539, 19.97161592200539, 19.47692286717224, 18.91117990504421, 18.789512163991024, 17.818243844020547, 17.818243844020547, 17.818243844020547, 31.895860174403605, 25.4529876984809, 28.18234790975086, 47.1777718000786, 52.82077863219043, 40.225602340258696, 46.08124460895722, 40.432246226453074, 39.420094758721106, 30.530554312765705, 65.69752485803437, 30.170166990162084, 43.319714965602024, 30.672750397509763, 32.73159658438985, 66.03820466668374, 32.204874702565235, 31.694001928247733, 31.825529759840823, 33.7067777794474, 29.22510821969844, 32.41897952571749, 27.91064820007902], \"Total\": [659.0, 707.0, 788.0, 700.0, 665.0, 1398.0, 586.0, 615.0, 827.0, 495.0, 689.0, 994.0, 509.0, 349.0, 699.0, 669.0, 446.0, 505.0, 465.0, 388.0, 477.0, 1186.0, 452.0, 956.0, 344.0, 737.0, 458.0, 349.0, 381.0, 353.0, 305.9881513463537, 294.1798751314392, 283.1092466089149, 256.17621247721047, 251.7503864664715, 250.65807192762057, 240.7353763528121, 234.4066249922072, 232.02269430195025, 206.25346254734714, 205.01939501950216, 197.8635695618478, 186.537835736404, 173.01021297856897, 164.45176586937757, 164.09614300612603, 162.2135720901164, 161.79729716088784, 160.5275838327833, 158.061951560491, 157.5414001459816, 156.6639200440425, 156.51567521749567, 155.25166017235279, 146.03173420171896, 143.7578262160022, 143.33339783466957, 142.26689152172932, 141.88643201512224, 141.75615357006524, 562.5886257126435, 303.7354604006969, 301.35629703841676, 956.493416839867, 401.5881514922972, 415.05616985304124, 459.36558948470685, 404.51354348048125, 622.2525403755475, 293.7774811836892, 260.8432321194349, 284.2543368905913, 462.7909445445371, 665.1440640669344, 188.65422590873683, 327.0045233443897, 560.1093898966535, 994.9533559315009, 537.3434797058293, 756.1802660103723, 682.165865470217, 508.98222606712307, 495.2723743078608, 483.69025990261304, 397.85627374084964, 732.9894720668087, 430.1234653874121, 699.1846882728688, 879.4397057136222, 822.6093590238778, 602.2335027666729, 651.4805545907083, 634.5950039593323, 682.1887862294379, 494.7238062205356, 528.4127345733725, 566.9337786297696, 565.7976714832175, 608.5798899547208, 762.6010585297357, 719.6729175689006, 549.331287991268, 208.80048231918275, 105.32501029003392, 105.32501046627621, 96.51870373503803, 91.53072890981932, 88.42523598232546, 88.42789735054833, 78.13340103606232, 77.40685454739861, 77.08589000539672, 75.25306644061911, 75.03713234732965, 73.29405292999651, 72.47526300532809, 72.01003239080113, 71.74912227348267, 71.18796939557319, 70.08199105244204, 69.30356903808782, 69.1272807186513, 68.94976817534378, 68.09415424213363, 68.09415466618167, 67.6327804099821, 65.41822416947669, 63.612689452143535, 62.71382474481921, 61.3382121494769, 60.87177931765064, 59.623038661784214, 275.1605063972932, 413.0068743277385, 190.2218670786208, 192.34147455724502, 174.20620761937118, 353.5056709231971, 202.07808604067725, 479.7765809550802, 166.1869858043731, 343.37202085686937, 348.20631267547753, 161.70939761969888, 288.5355388234654, 282.9589837225504, 269.8341320639927, 162.4255400978015, 129.3942204984977, 1030.7888939765319, 554.189163013814, 212.78869746299227, 214.5444626617659, 310.12908046364265, 160.2613875934621, 266.0257610886379, 1186.3181682440313, 233.63756837779437, 569.9717153974916, 364.25110406037436, 396.1828331171023, 336.9825953876688, 242.54134470212813, 574.3186751619481, 393.61956184028685, 685.5150578766539, 625.5579107087101, 459.0276209177639, 467.0914316821442, 281.38568086494456, 444.96495186717243, 508.293256747399, 350.1210186631829, 329.55263277172327, 325.07324522009003, 215.89628561416907, 214.05533893628618, 197.3538925231491, 181.625851725196, 174.44553035059866, 172.77893293660412, 160.3459794618361, 149.02103899478254, 144.83713473696326, 133.55211633276485, 133.39706995749333, 128.0404239895677, 117.080627392784, 109.02454554532967, 97.02445174576023, 95.28983467225322, 94.2669921128214, 91.72724504641019, 90.56920163079651, 82.36483282062505, 73.3312034863291, 72.59445228220032, 69.45676630822811, 65.0197354030269, 62.42151282824418, 59.59969469784148, 59.207162776110046, 495.31798067015393, 166.63459238172348, 226.03785788171064, 700.1749374150689, 665.1362071237872, 586.3591986925758, 422.9249344899523, 431.6536715905954, 325.0162239924456, 325.9201591325991, 231.530284942241, 214.81838880401494, 248.84770149007915, 1398.0710955610555, 534.0412678120437, 265.63495370797335, 371.19225355709136, 283.749093429613, 359.80207046834744, 474.18307703831596, 446.33551533952647, 737.1282227631101, 1186.3181682440313, 316.3992511513327, 1030.7888939765319, 119.07116011123361, 111.13563340463534, 108.75057364438976, 107.43499115053542, 94.27335041649191, 88.8533795576982, 78.53141901720579, 77.92226169072548, 74.20142645699633, 69.27362467843163, 67.67852657278942, 65.79763801245596, 65.46102153874939, 64.98319343640088, 64.777409141084, 64.02279750738923, 62.01685696141278, 61.73077181226088, 61.73077181226088, 61.41675825378578, 60.62498542939076, 59.22631820927755, 59.22632157267692, 56.799068305053495, 56.412849738479125, 56.13879791566515, 55.82309838497795, 55.610052452641945, 55.60109419439819, 54.15971685266524, 406.70662897492394, 234.74613934199638, 170.13125094584683, 164.9539916333743, 346.550387876739, 77.48000944323557, 219.8838803783573, 156.50025816098704, 119.65227442574297, 183.61561041406964, 158.32310110471252, 183.259932784367, 281.2000566976632, 202.9588376921548, 119.75044453485846, 189.62216639367145, 92.31207704462405, 343.41421779889896, 133.53455658536618, 412.3543159053981, 156.4756878371142, 297.7272610330057, 737.1282227631101, 129.68944523105142, 465.3105455116022, 275.1231033233382, 333.1931286819912, 174.5542325317718, 356.777122972709, 305.8902384752128, 178.9941840238468, 319.18963451176324, 274.6164187543728, 632.0750136836546, 238.41400728050795, 827.9101211547917, 260.78361572508396, 143.9964334175185, 124.71916306978379, 119.10702917857667, 111.46879180940677, 103.96561532210904, 103.68759200347355, 84.36846701637982, 83.3489611079456, 81.53954026046299, 78.06218407723043, 73.6670252754976, 67.66923658531701, 65.62930519139405, 60.28731610548394, 58.56776242022514, 55.10008720965374, 54.76702264329149, 53.762621955209376, 52.349969087888866, 49.49016585958895, 48.456214988986986, 47.73751774929916, 44.6624406313459, 43.98748361966562, 43.9874851329485, 43.638504930195104, 41.629370042050944, 41.239378058465704, 39.8062427735213, 160.30271157563124, 107.39442425098079, 191.74956089793693, 465.4543189420304, 86.98415765766211, 345.85687653157066, 120.16959011516462, 102.89405942693435, 477.8389986130006, 217.10822987761216, 257.6454734970707, 94.65063120436925, 187.819084164354, 320.66010026799086, 425.278674962573, 132.3654995641771, 290.76631916239194, 253.66409155809794, 336.5492093086513, 506.33891977464197, 171.56108651226785, 205.20538169321728, 421.8149657678547, 336.15881705438295, 347.3825689497988, 297.44984438817596, 541.4752217223927, 300.9256555642737, 388.3230232482386, 237.86740686147945, 201.9637925188328, 618.7201903755431, 292.89661888523557, 297.2918858310095, 801.5378111485936, 330.60807072102057, 290.2563042276554, 388.0952087133351, 177.9290707256258, 163.0853718784105, 126.1219949608846, 116.40382847851116, 111.6096963294686, 107.58493389135971, 100.49731399797194, 100.2827215640009, 92.24848825799289, 92.0455128343761, 89.8204136103905, 86.69557464234555, 84.41003942750254, 78.58289449427468, 78.51639439726594, 76.13324797979072, 73.23157033632623, 72.0173659081271, 71.63590555328025, 70.43100764359359, 69.26188401950456, 69.02733509558409, 68.37546146328793, 67.479107708313, 64.36782103564273, 62.3031180612819, 59.95173550843466, 58.59648529691566, 57.12105332911631, 130.851128711721, 220.8166630761538, 165.1434669606749, 549.1808144667543, 232.794333880873, 479.78502315450356, 301.0270483405359, 194.44135953928358, 263.3296368622946, 272.13931031632984, 246.0148867280286, 443.29023055359283, 173.96221651800298, 441.2071013041599, 297.4708326023402, 452.6645879507389, 159.24014769760956, 188.3407999402471, 456.35217502858706, 788.6150580860916, 458.8783819349795, 316.5305130100164, 375.8233092245385, 255.8386427860731, 235.61729378690245, 402.5633822462387, 380.47447424731575, 464.1260833687877, 913.7517412775314, 349.03467668154707, 158.57617268521733, 155.14103547722144, 148.81588109929422, 145.55105035773667, 143.91356053794618, 140.28862141268448, 140.19747674889283, 120.2158903587962, 119.69947904541586, 112.61390096724618, 97.7126482165997, 95.33341845141844, 86.47305634754761, 74.21372283796657, 71.7967549270165, 68.63192067930694, 68.57638409469926, 68.56123095579132, 67.44043840462813, 66.19996288288243, 64.63696396564228, 64.29562978170593, 54.25477327674731, 53.356446411003866, 52.77367006880743, 51.828820438238694, 50.13319469009211, 49.7711206426122, 48.55853881403115, 142.3198506949899, 140.42196009110637, 112.76701702702401, 314.53390263510215, 223.65969837653574, 148.86121904632438, 124.63129470622512, 460.2659219067757, 239.57691552731242, 435.67032857305196, 388.3230232482386, 403.3258118690241, 256.6924566804235, 105.65547774908241, 200.0619376396964, 176.31729596965235, 255.68178441926773, 256.7078869294505, 385.65455210664203, 244.2872632945605, 541.4752217223927, 705.5714607467022, 335.7358630007281, 247.291113195289, 209.824181008647, 177.3300461815002, 167.99656482847914, 154.2895202278119, 124.8809748642584, 113.88869146523032, 83.56576755374755, 81.75095384267856, 81.25410320299845, 77.36996777088758, 75.83235600835606, 74.57815997640351, 67.49245929529899, 65.44467932728065, 59.485659935220305, 56.708998981879716, 52.512902017104096, 50.640458641775886, 50.17962378660112, 47.64907842581754, 45.57434940516676, 43.917734104097576, 43.199412687479935, 41.24198126153969, 40.83780022100991, 39.93432843504674, 39.85211226012467, 39.40578580937816, 39.07579718972615, 707.4366619600997, 126.33056974211898, 135.76598565663127, 140.73671285001276, 321.17662444043714, 359.4613679805143, 298.28503869638877, 102.4634025679125, 143.90213838477862, 132.69453799083107, 126.4521852896141, 136.13346103558646, 145.87862212526255, 96.74343229148742, 161.7697441395535, 689.879666845305, 154.45003272903202, 198.24390631387408, 182.75262434370606, 150.22472561525365, 356.2857414214714, 257.1301551120379, 699.3003079860682, 209.32925437990863, 426.53083988232964, 261.80001916073894, 204.4909077743091, 189.47285584888826, 153.02929649656332, 151.36509214318608, 145.53721940716528, 137.95714545897957, 130.7803582501294, 128.02027429631573, 127.19209760128207, 121.21051501563481, 106.64909756905676, 103.06180995936239, 97.21741094713663, 92.90039208891662, 84.80984024661548, 84.34481591139338, 83.13051965887576, 74.95805250616573, 74.85363377502867, 73.14441538552308, 72.54998359237514, 63.56913724999935, 62.681251325366375, 60.522753067123745, 56.06960348778553, 55.13477711203691, 54.16400037823157, 50.47108961058204, 46.33951306948031, 659.5296502029507, 197.4905789416042, 353.5318028873382, 295.58891646832643, 615.2487026857596, 164.02608865182123, 137.4859532441503, 220.25304215671613, 464.1260833687877, 160.13379182989325, 402.5633822462387, 161.52585258912617, 669.8685567943295, 137.6770188835726, 260.9553768644008, 177.75955679266653, 369.90246801573204, 788.6150580860916, 541.4752217223927, 479.78502315450356, 118.31445767295197, 103.34704768571697, 88.50644151633473, 86.44952144198264, 74.6412985116851, 74.04387694145997, 71.32136648939306, 66.84457551266392, 66.3257472899796, 65.12671549302931, 64.65989182047842, 64.19768618246124, 62.460143236814496, 58.62249742061489, 58.30350339963849, 57.073999837508744, 55.752944346680856, 55.151578931859554, 48.30802648981791, 47.29551665863348, 43.63710817975113, 43.11592863080973, 42.11862248436096, 42.11862248436096, 41.38480962185138, 41.38480962185138, 39.06926869843082, 38.964152979277976, 38.96415336019611, 38.07749590564672, 169.13019339689876, 106.46864083801452, 101.96033987227393, 346.7639156431518, 91.92239188334948, 153.4904772549494, 398.9694006105282, 96.08739326957813, 362.88042489182266, 85.8592798812605, 144.36503604177085, 122.75301172083815, 217.76999621562092, 334.7305159674179, 204.94205207117398, 150.5049923582604, 165.02585191719976, 235.3560260405045, 345.6463253917605, 186.748318806309, 139.60357234482828, 320.73808900266454, 138.26577884288838, 291.3221160087759, 124.62668832983421, 304.9912016623836, 508.2390164738827, 737.1282227631101, 306.2509171191075, 278.9543228792395, 228.4711189089252, 275.30632217823523, 206.55958090827414, 144.30379333879588, 129.33888973342735, 124.61623478444143, 123.65017836035484, 120.7240083124878, 118.63297932563322, 109.22996025500306, 107.21875637053967, 100.12999533229909, 85.20230266751452, 85.11926980428525, 81.66901907792776, 78.34392349477227, 69.46813194189637, 68.80009319146778, 67.37842581893908, 66.87550884831674, 66.5856124237489, 63.525150405416525, 62.624960747599665, 61.175500132320785, 61.1334165629377, 60.43356960432001, 57.718794909920625, 57.66948640357267, 55.71188661435534, 55.504247034092124, 52.413551514619044, 236.2233772410417, 115.5080933726621, 93.08408321487454, 381.09031664062945, 219.4405088798478, 143.97206442616172, 115.72593685078296, 233.39842074027663, 144.40077892915608, 134.17362792440315, 245.54479892337793, 203.47548409515844, 184.79055604174877, 332.13169474695803, 265.7424538211584, 467.4582167311877, 669.8685567943295, 305.16593755245844, 994.9533559315009, 283.16021078807546, 204.00566039341643, 78.42777052998423, 77.41637671090355, 75.43350453667381, 73.92290201653776, 70.48628213419614, 68.72008324314189, 66.70427312057299, 66.23274790425381, 65.1367684030036, 58.339737791723756, 57.586795664293504, 56.618912299766095, 56.50299148185863, 56.45239737735974, 55.55345564358896, 55.070564168966484, 50.99752286984482, 50.034015067219286, 49.83478397956424, 49.04722426762869, 48.961002220283994, 48.798202032334316, 48.34234070953747, 47.86229579800474, 47.86229646352569, 47.573407872830295, 45.246919051071124, 44.60196919847634, 195.87634177124372, 140.97853347895546, 344.4009617699148, 446.7636968433506, 61.765531593668236, 79.53342938684399, 505.3772002292475, 204.26490462682855, 184.49413423046244, 143.84638362585017, 92.00895111723267, 202.426319809535, 262.5119894582457, 328.764025715219, 251.21755186650503, 155.5187179808117, 124.99325066505733, 305.16593755245844, 74.09889562910459, 280.2462046165423, 226.86975620552943, 280.1478622275322, 669.8685567943295, 467.4582167311877, 260.43330827343163, 134.28102599498334, 543.1325981923014, 267.4601363970903, 332.13169474695803, 196.47006551051336, 242.86149307916216, 241.81548126631847, 212.9898209679678, 128.84888104002152, 108.00513826554845, 104.68943905087686, 101.98893112941488, 94.51486341304084, 88.67479412069207, 85.65282539449103, 79.68424738732334, 77.03273325889786, 69.79874418128666, 67.53489427159909, 64.06636344388387, 63.50156529582884, 59.1446810513125, 55.52349714651474, 54.964769354471045, 52.67461991285568, 50.045114077697605, 44.37962633191783, 44.37962816974665, 43.20810396650654, 42.15658793896621, 41.692802857464436, 41.322143792846084, 39.457940939176595, 38.572965538371875, 38.55862831861474, 36.03523188911906, 115.7552087365618, 173.0723642970853, 61.0396229907843, 89.65841786349581, 121.14869120720456, 85.36554022779963, 192.14445473998222, 73.98146251973672, 73.80050066979942, 115.9855301767519, 85.8342733033232, 75.38925900521285, 170.36568926248395, 91.10564852985347, 72.2616643746273, 345.6463253917605, 98.04746031226951, 235.3560260405045, 306.2509171191075, 104.13867639788062, 145.6516919544374, 1398.0710955610555, 124.26407446052357, 319.0502642463011, 801.5378111485936, 216.8165068966173, 118.04189058933933, 111.57657341063899, 111.47544378898792, 107.86626097773981, 100.2005742707691, 77.98259484215576, 67.70786590256346, 66.14060539240452, 65.24473645452483, 63.57091359085724, 63.42322755097103, 61.02754265859571, 58.99039455298085, 58.88944955819766, 58.00521503619168, 57.29368112382446, 55.51909800658346, 53.19873230329865, 43.55666011206156, 43.53582510593193, 43.53582510593193, 41.45643731202163, 41.14153754493826, 40.468994662457206, 40.01574795460359, 39.760283141816394, 37.300659830987925, 36.7302759772494, 36.7302759772494, 116.59909912717829, 153.10824634126283, 91.48065733404512, 73.39291526926455, 86.05517042228573, 141.78509214167758, 218.50489599849635, 116.48773840377521, 56.23465701175424, 207.77065380421203, 90.42076451874883, 123.4581949116031, 233.76461028296816, 699.3003079860682, 165.69633760296256, 827.9101211547917, 250.03915139798775, 294.08187985253767, 460.67752053759557, 336.9825953876688, 175.16750758965406, 183.4547294993746, 584.9741358107623, 332.13169474695803, 155.33140633756787, 302.33017340757647, 426.53083988232964, 462.6834944379794, 401.00926545674776, 193.1792981687881, 134.72359228572492, 128.00860504752282, 110.59718137620138, 105.40582736371731, 96.05632423714819, 84.35282373790264, 75.47472658784443, 75.47472951953556, 64.75949062334801, 61.69217009573913, 59.250596159756256, 57.97201365597266, 57.688717607387346, 54.6774332803054, 50.46970710726874, 46.75271381622, 43.93089379916848, 43.863702295082945, 42.95744548938926, 42.36800118682229, 41.94849848802633, 40.50636192260923, 40.160462301092345, 40.01891936362608, 38.47322672292445, 38.47322672292445, 36.073930646055594, 35.32075016348112, 34.65611593467317, 192.0201913392445, 120.63910476550053, 245.5207347677866, 91.44481434218395, 98.05865642628257, 166.0527823341071, 158.77944060783534, 138.24824342094905, 181.56787441574366, 379.8837237691812, 183.80163047206796, 313.4900767546726, 86.77459521718852, 270.17096860517955, 452.6645879507389, 458.8783819349795, 175.40147811777618, 222.85977979426391, 266.0239728901815, 169.72576405471207, 369.90246801573204, 178.98028406052217, 456.35217502858706, 375.8233092245385, 380.7005576433471, 430.2366225719573, 107.70470544637743, 103.73791517699273, 89.22745452685918, 86.74669241801624, 74.85942392256136, 72.61675135479277, 69.5550846780725, 64.65261382199671, 60.1826472646389, 57.44409703978728, 55.31237578142952, 55.233159200604106, 53.89457538119901, 53.46896418308285, 51.29396972428683, 43.80657034045937, 42.13752597595089, 42.0730835445543, 40.23621255520011, 39.16168704017891, 38.785102667597165, 37.91524976067547, 37.77664383829552, 34.8197740462031, 34.601920472961375, 34.386304440776506, 34.25055272558616, 33.68391271369829, 33.683913080389786, 32.510851809132426, 272.60379070918384, 96.62891238625356, 264.6582804324527, 257.4094065409169, 86.91082852017895, 132.22318248922235, 140.55017267481696, 166.84049442020293, 201.33707781624815, 65.06603068667478, 177.88229845523648, 161.43040941733332, 87.63597679077155, 70.12399201501567, 788.6150580860916, 162.52811084104627, 138.29247084511962, 103.18383008935548, 94.39876314284395, 215.72289189885902, 689.879666845305, 359.4613679805143, 495.1194551490382, 479.4364504618811, 699.3003079860682, 368.7939599231309, 321.83081362363436, 187.93920782541042, 151.9562859809344, 147.3206042500683, 106.1866605278974, 89.01408227100613, 85.44037680047397, 62.550815585151376, 59.3211385035783, 52.742244422079466, 48.87558451545129, 47.98611868724462, 45.40920353554479, 45.409205136367255, 41.89004889207257, 40.55455729954905, 40.55455734928611, 39.5755842927917, 39.30206219044095, 39.02393942132914, 38.61050027839748, 37.7146462269514, 36.5231743365723, 36.27117498653684, 35.36276126334012, 35.15854324140837, 34.6882293366217, 33.92040960049541, 33.92041388549368, 31.29185534310804, 30.383826681513483, 349.79483160457613, 141.6238931965105, 58.87881262864441, 122.13787787453687, 98.63203709988422, 77.9380487521048, 246.64929670090928, 100.75136883916828, 509.0966058549851, 210.0801409377856, 97.44192693157417, 71.45402644730657, 113.90941799570338, 83.20279257197403, 170.63638955106586, 390.0545238750328, 479.4364504618811, 266.0239728901815, 224.26177387625987, 321.83081362363436, 380.7005576433471, 270.17096860517955, 497.57278777102727, 442.14426434979083, 827.9101211547917, 913.7517412775314, 169.96068754922098, 227.58645932576053, 458.8783819349795, 77.4909362816158, 60.8613892093014, 58.830209723153864, 52.313793393629155, 50.6864219186094, 44.49837079012334, 38.6934534795985, 36.63138474888823, 36.511049804759786, 36.116350668038066, 33.34466598806523, 31.42206680716934, 31.422067557085363, 31.422067588966396, 30.572984009605285, 30.572984009605285, 30.540231546254716, 30.057952604137352, 28.810602247233568, 27.801299329632457, 27.801299329632457, 26.199132794268863, 24.547337868301963, 24.180637298304017, 22.25793267119968, 21.771018535240465, 21.7710193383856, 21.771020592489116, 20.976199370164803, 20.97620097405507, 84.40281227299431, 65.95220620860837, 91.8320710612615, 67.55533711596877, 205.80831189776083, 40.1075517996721, 91.08292503874708, 55.85088469683354, 63.46464508428099, 55.777517607862706, 44.08412297112969, 51.86289167877975, 62.95405455129321, 128.49978938579287, 336.5492093086513, 80.02825147528029, 150.17695155987423, 53.59293973097233, 41.8887042184299, 146.30443294365264, 407.2956198823894, 58.10095582436154, 53.616656822541074, 52.96193494391913, 52.85420031989845, 46.31681382831134, 42.963920840473094, 41.46682964897646, 41.45024915323321, 40.339138496740325, 37.91927906716544, 36.470210761844406, 33.1319008480319, 31.717127048819354, 30.352314972002226, 29.283845175635577, 29.092716602873015, 27.829992637102997, 26.85056268339599, 26.455601815566574, 26.455603964308516, 25.307669492685225, 25.27459710876586, 25.27459710876586, 24.688355357177606, 24.68835612319017, 24.688356544452525, 22.475693695496222, 22.475693695496222, 22.475693695496222, 21.612868301398457, 63.29584750262523, 40.43195088679616, 153.57724025816896, 34.28562268921548, 98.85532103904796, 89.43343789244184, 112.712710653931, 193.6308631860208, 242.27754888823324, 107.10412077671711, 57.38099745780166, 67.02208755285365, 41.29632154612746, 94.7928734631718, 281.0831304993663, 105.24452915651243, 145.828064066642, 238.41400728050795, 95.10825587348499, 295.5835129754262, 77.97674691411117, 51.745043330652244, 48.76716054271444, 32.497035360408134, 30.62343152889885, 29.795986174776267, 29.764071163442733, 29.29407919193377, 27.09493952256951, 26.796109454288924, 26.796112442411033, 26.796113512088237, 25.53360643281114, 23.82814650474437, 22.864483051214457, 21.692843684730885, 21.218339840475178, 20.86018538625697, 20.860186967454133, 20.860186991809748, 20.860188562481532, 20.586476424776382, 20.05223304948531, 20.05223304948531, 19.55753999465216, 18.99179703252413, 18.870132889327337, 17.898860971500465, 17.898864168661323, 17.89886419556282, 37.2158873687566, 28.2358051277863, 33.249640030132255, 77.54974372552181, 98.10236301875446, 64.40409746630586, 86.6439475829107, 69.33784244639735, 74.51785062981543, 45.2108598265328, 234.82926134821176, 47.97382559141896, 110.33831649025288, 51.94712546640005, 62.43569532865183, 827.9101211547917, 77.65401378946625, 94.03480105187978, 104.39285636995103, 209.32925437990863, 74.48926728569968, 699.3003079860682, 109.4922209124276], \"Category\": [\"Default\", \"Default\", \"Default\", \"Default\", \"Default\", \"Default\", \"Default\", \"Default\", \"Default\", \"Default\", \"Default\", \"Default\", \"Default\", \"Default\", \"Default\", \"Default\", \"Default\", \"Default\", \"Default\", \"Default\", \"Default\", \"Default\", \"Default\", \"Default\", \"Default\", \"Default\", \"Default\", \"Default\", \"Default\", \"Default\", \"Topic1\", \"Topic1\", \"Topic1\", \"Topic1\", \"Topic1\", \"Topic1\", \"Topic1\", \"Topic1\", \"Topic1\", \"Topic1\", \"Topic1\", \"Topic1\", \"Topic1\", \"Topic1\", \"Topic1\", \"Topic1\", \"Topic1\", \"Topic1\", \"Topic1\", \"Topic1\", \"Topic1\", \"Topic1\", \"Topic1\", \"Topic1\", \"Topic1\", \"Topic1\", \"Topic1\", \"Topic1\", \"Topic1\", \"Topic1\", \"Topic1\", \"Topic1\", \"Topic1\", \"Topic1\", \"Topic1\", \"Topic1\", \"Topic1\", \"Topic1\", \"Topic1\", \"Topic1\", \"Topic1\", \"Topic1\", \"Topic1\", \"Topic1\", \"Topic1\", \"Topic1\", \"Topic1\", \"Topic1\", \"Topic1\", \"Topic1\", \"Topic1\", \"Topic1\", \"Topic1\", \"Topic1\", \"Topic1\", \"Topic1\", \"Topic1\", \"Topic1\", \"Topic1\", \"Topic1\", \"Topic1\", \"Topic1\", \"Topic1\", \"Topic1\", \"Topic1\", \"Topic1\", \"Topic1\", \"Topic1\", \"Topic1\", \"Topic1\", \"Topic1\", \"Topic1\", \"Topic2\", \"Topic2\", \"Topic2\", \"Topic2\", \"Topic2\", \"Topic2\", \"Topic2\", \"Topic2\", \"Topic2\", \"Topic2\", \"Topic2\", \"Topic2\", \"Topic2\", \"Topic2\", \"Topic2\", \"Topic2\", \"Topic2\", \"Topic2\", \"Topic2\", \"Topic2\", \"Topic2\", \"Topic2\", \"Topic2\", \"Topic2\", \"Topic2\", \"Topic2\", \"Topic2\", \"Topic2\", \"Topic2\", \"Topic2\", \"Topic2\", \"Topic2\", \"Topic2\", \"Topic2\", \"Topic2\", \"Topic2\", \"Topic2\", \"Topic2\", \"Topic2\", \"Topic2\", \"Topic2\", \"Topic2\", \"Topic2\", \"Topic2\", \"Topic2\", \"Topic2\", \"Topic2\", \"Topic2\", \"Topic2\", \"Topic2\", \"Topic2\", \"Topic2\", \"Topic2\", \"Topic2\", \"Topic2\", \"Topic2\", \"Topic2\", \"Topic2\", \"Topic2\", \"Topic2\", \"Topic2\", \"Topic2\", \"Topic2\", \"Topic2\", \"Topic2\", \"Topic2\", \"Topic2\", \"Topic2\", \"Topic2\", \"Topic2\", \"Topic3\", \"Topic3\", \"Topic3\", \"Topic3\", \"Topic3\", \"Topic3\", \"Topic3\", \"Topic3\", \"Topic3\", \"Topic3\", \"Topic3\", \"Topic3\", \"Topic3\", \"Topic3\", \"Topic3\", \"Topic3\", \"Topic3\", \"Topic3\", \"Topic3\", \"Topic3\", \"Topic3\", \"Topic3\", \"Topic3\", \"Topic3\", \"Topic3\", \"Topic3\", \"Topic3\", \"Topic3\", \"Topic3\", \"Topic3\", \"Topic3\", \"Topic3\", \"Topic3\", \"Topic3\", \"Topic3\", \"Topic3\", \"Topic3\", \"Topic3\", \"Topic3\", \"Topic3\", \"Topic3\", \"Topic3\", \"Topic3\", \"Topic3\", \"Topic3\", \"Topic3\", \"Topic3\", \"Topic3\", \"Topic3\", \"Topic3\", \"Topic3\", \"Topic3\", \"Topic3\", \"Topic3\", \"Topic3\", \"Topic4\", \"Topic4\", \"Topic4\", \"Topic4\", \"Topic4\", \"Topic4\", \"Topic4\", \"Topic4\", \"Topic4\", \"Topic4\", \"Topic4\", \"Topic4\", \"Topic4\", \"Topic4\", \"Topic4\", \"Topic4\", \"Topic4\", \"Topic4\", \"Topic4\", \"Topic4\", \"Topic4\", \"Topic4\", \"Topic4\", \"Topic4\", \"Topic4\", \"Topic4\", \"Topic4\", \"Topic4\", \"Topic4\", \"Topic4\", \"Topic4\", \"Topic4\", \"Topic4\", \"Topic4\", \"Topic4\", \"Topic4\", \"Topic4\", \"Topic4\", \"Topic4\", \"Topic4\", \"Topic4\", \"Topic4\", \"Topic4\", \"Topic4\", \"Topic4\", \"Topic4\", \"Topic4\", \"Topic4\", \"Topic4\", \"Topic4\", \"Topic4\", \"Topic4\", \"Topic4\", \"Topic4\", \"Topic4\", \"Topic4\", \"Topic4\", \"Topic4\", \"Topic4\", \"Topic4\", \"Topic4\", \"Topic4\", \"Topic4\", \"Topic4\", \"Topic4\", \"Topic4\", \"Topic5\", \"Topic5\", \"Topic5\", \"Topic5\", \"Topic5\", \"Topic5\", \"Topic5\", \"Topic5\", \"Topic5\", \"Topic5\", \"Topic5\", \"Topic5\", \"Topic5\", \"Topic5\", \"Topic5\", \"Topic5\", \"Topic5\", \"Topic5\", \"Topic5\", \"Topic5\", \"Topic5\", \"Topic5\", \"Topic5\", \"Topic5\", \"Topic5\", \"Topic5\", \"Topic5\", \"Topic5\", \"Topic5\", \"Topic5\", \"Topic5\", \"Topic5\", \"Topic5\", \"Topic5\", \"Topic5\", \"Topic5\", \"Topic5\", \"Topic5\", \"Topic5\", \"Topic5\", \"Topic5\", \"Topic5\", \"Topic5\", \"Topic5\", \"Topic5\", \"Topic5\", \"Topic5\", \"Topic5\", \"Topic5\", \"Topic5\", \"Topic5\", \"Topic5\", \"Topic5\", \"Topic5\", \"Topic5\", \"Topic5\", \"Topic5\", \"Topic5\", \"Topic5\", \"Topic5\", \"Topic5\", \"Topic5\", \"Topic5\", \"Topic5\", \"Topic5\", \"Topic5\", \"Topic5\", \"Topic6\", \"Topic6\", \"Topic6\", \"Topic6\", \"Topic6\", \"Topic6\", \"Topic6\", \"Topic6\", \"Topic6\", \"Topic6\", \"Topic6\", \"Topic6\", \"Topic6\", \"Topic6\", \"Topic6\", \"Topic6\", \"Topic6\", \"Topic6\", \"Topic6\", \"Topic6\", \"Topic6\", \"Topic6\", \"Topic6\", \"Topic6\", \"Topic6\", \"Topic6\", \"Topic6\", \"Topic6\", \"Topic6\", \"Topic6\", \"Topic6\", \"Topic6\", \"Topic6\", \"Topic6\", \"Topic6\", \"Topic6\", \"Topic6\", \"Topic6\", \"Topic6\", \"Topic6\", \"Topic6\", \"Topic6\", \"Topic6\", \"Topic6\", \"Topic6\", \"Topic6\", \"Topic6\", \"Topic6\", \"Topic6\", \"Topic6\", \"Topic6\", \"Topic6\", \"Topic6\", \"Topic6\", \"Topic6\", \"Topic6\", \"Topic6\", \"Topic6\", \"Topic6\", \"Topic7\", \"Topic7\", \"Topic7\", \"Topic7\", \"Topic7\", \"Topic7\", \"Topic7\", \"Topic7\", \"Topic7\", \"Topic7\", \"Topic7\", \"Topic7\", \"Topic7\", \"Topic7\", \"Topic7\", \"Topic7\", \"Topic7\", \"Topic7\", \"Topic7\", \"Topic7\", \"Topic7\", \"Topic7\", \"Topic7\", \"Topic7\", \"Topic7\", \"Topic7\", \"Topic7\", \"Topic7\", \"Topic7\", \"Topic7\", \"Topic7\", \"Topic7\", \"Topic7\", \"Topic7\", \"Topic7\", \"Topic7\", \"Topic7\", \"Topic7\", \"Topic7\", \"Topic7\", \"Topic7\", \"Topic7\", \"Topic7\", \"Topic7\", \"Topic7\", \"Topic7\", \"Topic7\", \"Topic7\", \"Topic7\", \"Topic7\", \"Topic7\", \"Topic7\", \"Topic7\", \"Topic8\", \"Topic8\", \"Topic8\", \"Topic8\", \"Topic8\", \"Topic8\", \"Topic8\", \"Topic8\", \"Topic8\", \"Topic8\", \"Topic8\", \"Topic8\", \"Topic8\", \"Topic8\", \"Topic8\", \"Topic8\", \"Topic8\", \"Topic8\", \"Topic8\", \"Topic8\", \"Topic8\", \"Topic8\", \"Topic8\", \"Topic8\", \"Topic8\", \"Topic8\", \"Topic8\", \"Topic8\", \"Topic8\", \"Topic8\", \"Topic8\", \"Topic8\", \"Topic8\", \"Topic8\", \"Topic8\", \"Topic8\", \"Topic8\", \"Topic8\", \"Topic8\", \"Topic8\", \"Topic8\", \"Topic8\", \"Topic8\", \"Topic8\", \"Topic8\", \"Topic8\", \"Topic8\", \"Topic8\", \"Topic8\", \"Topic8\", \"Topic8\", \"Topic8\", \"Topic8\", \"Topic8\", \"Topic8\", \"Topic9\", \"Topic9\", \"Topic9\", \"Topic9\", \"Topic9\", \"Topic9\", \"Topic9\", \"Topic9\", \"Topic9\", \"Topic9\", \"Topic9\", \"Topic9\", \"Topic9\", \"Topic9\", \"Topic9\", \"Topic9\", \"Topic9\", \"Topic9\", \"Topic9\", \"Topic9\", \"Topic9\", \"Topic9\", \"Topic9\", \"Topic9\", \"Topic9\", \"Topic9\", \"Topic9\", \"Topic9\", \"Topic9\", \"Topic9\", \"Topic9\", \"Topic9\", \"Topic9\", \"Topic9\", \"Topic9\", \"Topic9\", \"Topic9\", \"Topic9\", \"Topic9\", \"Topic9\", \"Topic9\", \"Topic9\", \"Topic9\", \"Topic9\", \"Topic9\", \"Topic9\", \"Topic9\", \"Topic9\", \"Topic9\", \"Topic9\", \"Topic10\", \"Topic10\", \"Topic10\", \"Topic10\", \"Topic10\", \"Topic10\", \"Topic10\", \"Topic10\", \"Topic10\", \"Topic10\", \"Topic10\", \"Topic10\", \"Topic10\", \"Topic10\", \"Topic10\", \"Topic10\", \"Topic10\", \"Topic10\", \"Topic10\", \"Topic10\", \"Topic10\", \"Topic10\", \"Topic10\", \"Topic10\", \"Topic10\", \"Topic10\", \"Topic10\", \"Topic10\", \"Topic10\", \"Topic10\", \"Topic10\", \"Topic10\", \"Topic10\", \"Topic10\", \"Topic10\", \"Topic10\", \"Topic10\", \"Topic10\", \"Topic10\", \"Topic10\", \"Topic10\", \"Topic10\", \"Topic10\", \"Topic10\", \"Topic10\", \"Topic10\", \"Topic10\", \"Topic10\", \"Topic10\", \"Topic10\", \"Topic10\", \"Topic10\", \"Topic10\", \"Topic10\", \"Topic10\", \"Topic10\", \"Topic10\", \"Topic10\", \"Topic10\", \"Topic10\", \"Topic10\", \"Topic11\", \"Topic11\", \"Topic11\", \"Topic11\", \"Topic11\", \"Topic11\", \"Topic11\", \"Topic11\", \"Topic11\", \"Topic11\", \"Topic11\", \"Topic11\", \"Topic11\", \"Topic11\", \"Topic11\", \"Topic11\", \"Topic11\", \"Topic11\", \"Topic11\", \"Topic11\", \"Topic11\", \"Topic11\", \"Topic11\", \"Topic11\", \"Topic11\", \"Topic11\", \"Topic11\", \"Topic11\", \"Topic11\", \"Topic11\", \"Topic11\", \"Topic11\", \"Topic11\", \"Topic11\", \"Topic11\", \"Topic11\", \"Topic11\", \"Topic11\", \"Topic11\", \"Topic11\", \"Topic11\", \"Topic11\", \"Topic11\", \"Topic11\", \"Topic11\", \"Topic11\", \"Topic11\", \"Topic11\", \"Topic11\", \"Topic12\", \"Topic12\", \"Topic12\", \"Topic12\", \"Topic12\", \"Topic12\", \"Topic12\", \"Topic12\", \"Topic12\", \"Topic12\", \"Topic12\", \"Topic12\", \"Topic12\", \"Topic12\", \"Topic12\", \"Topic12\", \"Topic12\", \"Topic12\", \"Topic12\", \"Topic12\", \"Topic12\", \"Topic12\", \"Topic12\", \"Topic12\", \"Topic12\", \"Topic12\", \"Topic12\", \"Topic12\", \"Topic12\", \"Topic12\", \"Topic12\", \"Topic12\", \"Topic12\", \"Topic12\", \"Topic12\", \"Topic12\", \"Topic12\", \"Topic12\", \"Topic12\", \"Topic12\", \"Topic12\", \"Topic12\", \"Topic12\", \"Topic12\", \"Topic12\", \"Topic12\", \"Topic12\", \"Topic12\", \"Topic12\", \"Topic12\", \"Topic12\", \"Topic12\", \"Topic12\", \"Topic12\", \"Topic12\", \"Topic12\", \"Topic12\", \"Topic12\", \"Topic12\", \"Topic12\", \"Topic12\", \"Topic13\", \"Topic13\", \"Topic13\", \"Topic13\", \"Topic13\", \"Topic13\", \"Topic13\", \"Topic13\", \"Topic13\", \"Topic13\", \"Topic13\", \"Topic13\", \"Topic13\", \"Topic13\", \"Topic13\", \"Topic13\", \"Topic13\", \"Topic13\", \"Topic13\", \"Topic13\", \"Topic13\", \"Topic13\", \"Topic13\", \"Topic13\", \"Topic13\", \"Topic13\", \"Topic13\", \"Topic13\", \"Topic13\", \"Topic13\", \"Topic13\", \"Topic13\", \"Topic13\", \"Topic13\", \"Topic13\", \"Topic13\", \"Topic13\", \"Topic13\", \"Topic13\", \"Topic13\", \"Topic13\", \"Topic13\", \"Topic13\", \"Topic13\", \"Topic13\", \"Topic13\", \"Topic13\", \"Topic13\", \"Topic13\", \"Topic13\", \"Topic13\", \"Topic13\", \"Topic13\", \"Topic13\", \"Topic13\", \"Topic14\", \"Topic14\", \"Topic14\", \"Topic14\", \"Topic14\", \"Topic14\", \"Topic14\", \"Topic14\", \"Topic14\", \"Topic14\", \"Topic14\", \"Topic14\", \"Topic14\", \"Topic14\", \"Topic14\", \"Topic14\", \"Topic14\", \"Topic14\", \"Topic14\", \"Topic14\", \"Topic14\", \"Topic14\", \"Topic14\", \"Topic14\", \"Topic14\", \"Topic14\", \"Topic14\", \"Topic14\", \"Topic14\", \"Topic14\", \"Topic14\", \"Topic14\", \"Topic14\", \"Topic14\", \"Topic14\", \"Topic14\", \"Topic14\", \"Topic14\", \"Topic14\", \"Topic14\", \"Topic14\", \"Topic14\", \"Topic14\", \"Topic14\", \"Topic14\", \"Topic14\", \"Topic14\", \"Topic14\", \"Topic14\", \"Topic14\", \"Topic14\", \"Topic14\", \"Topic14\", \"Topic14\", \"Topic14\", \"Topic14\", \"Topic14\", \"Topic14\", \"Topic14\", \"Topic15\", \"Topic15\", \"Topic15\", \"Topic15\", \"Topic15\", \"Topic15\", \"Topic15\", \"Topic15\", \"Topic15\", \"Topic15\", \"Topic15\", \"Topic15\", \"Topic15\", \"Topic15\", \"Topic15\", \"Topic15\", \"Topic15\", \"Topic15\", \"Topic15\", \"Topic15\", \"Topic15\", \"Topic15\", \"Topic15\", \"Topic15\", \"Topic15\", \"Topic15\", \"Topic15\", \"Topic15\", \"Topic15\", \"Topic15\", \"Topic15\", \"Topic15\", \"Topic15\", \"Topic15\", \"Topic15\", \"Topic15\", \"Topic15\", \"Topic15\", \"Topic15\", \"Topic15\", \"Topic15\", \"Topic15\", \"Topic15\", \"Topic15\", \"Topic15\", \"Topic15\", \"Topic15\", \"Topic15\", \"Topic15\", \"Topic15\", \"Topic15\", \"Topic15\", \"Topic15\", \"Topic15\", \"Topic15\", \"Topic15\", \"Topic16\", \"Topic16\", \"Topic16\", \"Topic16\", \"Topic16\", \"Topic16\", \"Topic16\", \"Topic16\", \"Topic16\", \"Topic16\", \"Topic16\", \"Topic16\", \"Topic16\", \"Topic16\", \"Topic16\", \"Topic16\", \"Topic16\", \"Topic16\", \"Topic16\", \"Topic16\", \"Topic16\", \"Topic16\", \"Topic16\", \"Topic16\", \"Topic16\", \"Topic16\", \"Topic16\", \"Topic16\", \"Topic16\", \"Topic16\", \"Topic16\", \"Topic16\", \"Topic16\", \"Topic16\", \"Topic16\", \"Topic16\", \"Topic16\", \"Topic16\", \"Topic16\", \"Topic16\", \"Topic16\", \"Topic16\", \"Topic16\", \"Topic16\", \"Topic16\", \"Topic16\", \"Topic16\", \"Topic16\", \"Topic16\", \"Topic16\", \"Topic16\", \"Topic16\", \"Topic16\", \"Topic16\", \"Topic16\", \"Topic16\", \"Topic16\", \"Topic17\", \"Topic17\", \"Topic17\", \"Topic17\", \"Topic17\", \"Topic17\", \"Topic17\", \"Topic17\", \"Topic17\", \"Topic17\", \"Topic17\", \"Topic17\", \"Topic17\", \"Topic17\", \"Topic17\", \"Topic17\", \"Topic17\", \"Topic17\", \"Topic17\", \"Topic17\", \"Topic17\", \"Topic17\", \"Topic17\", \"Topic17\", \"Topic17\", \"Topic17\", \"Topic17\", \"Topic17\", \"Topic17\", \"Topic17\", \"Topic17\", \"Topic17\", \"Topic17\", \"Topic17\", \"Topic17\", \"Topic17\", \"Topic17\", \"Topic17\", \"Topic17\", \"Topic17\", \"Topic17\", \"Topic17\", \"Topic17\", \"Topic17\", \"Topic17\", \"Topic17\", \"Topic17\", \"Topic17\", \"Topic17\", \"Topic17\", \"Topic17\", \"Topic17\", \"Topic17\", \"Topic17\", \"Topic17\", \"Topic17\", \"Topic17\", \"Topic17\", \"Topic17\", \"Topic18\", \"Topic18\", \"Topic18\", \"Topic18\", \"Topic18\", \"Topic18\", \"Topic18\", \"Topic18\", \"Topic18\", \"Topic18\", \"Topic18\", \"Topic18\", \"Topic18\", \"Topic18\", \"Topic18\", \"Topic18\", \"Topic18\", \"Topic18\", \"Topic18\", \"Topic18\", \"Topic18\", \"Topic18\", \"Topic18\", \"Topic18\", \"Topic18\", \"Topic18\", \"Topic18\", \"Topic18\", \"Topic18\", \"Topic18\", \"Topic18\", \"Topic18\", \"Topic18\", \"Topic18\", \"Topic18\", \"Topic18\", \"Topic18\", \"Topic18\", \"Topic18\", \"Topic18\", \"Topic18\", \"Topic18\", \"Topic18\", \"Topic18\", \"Topic18\", \"Topic18\", \"Topic18\", \"Topic18\", \"Topic18\", \"Topic18\", \"Topic18\", \"Topic19\", \"Topic19\", \"Topic19\", \"Topic19\", \"Topic19\", \"Topic19\", \"Topic19\", \"Topic19\", \"Topic19\", \"Topic19\", \"Topic19\", \"Topic19\", \"Topic19\", \"Topic19\", \"Topic19\", \"Topic19\", \"Topic19\", \"Topic19\", \"Topic19\", \"Topic19\", \"Topic19\", \"Topic19\", \"Topic19\", \"Topic19\", \"Topic19\", \"Topic19\", \"Topic19\", \"Topic19\", \"Topic19\", \"Topic19\", \"Topic19\", \"Topic19\", \"Topic19\", \"Topic19\", \"Topic19\", \"Topic19\", \"Topic19\", \"Topic19\", \"Topic19\", \"Topic19\", \"Topic19\", \"Topic19\", \"Topic19\", \"Topic19\", \"Topic19\", \"Topic19\", \"Topic19\", \"Topic19\", \"Topic19\", \"Topic19\", \"Topic20\", \"Topic20\", \"Topic20\", \"Topic20\", \"Topic20\", \"Topic20\", \"Topic20\", \"Topic20\", \"Topic20\", \"Topic20\", \"Topic20\", \"Topic20\", \"Topic20\", \"Topic20\", \"Topic20\", \"Topic20\", \"Topic20\", \"Topic20\", \"Topic20\", \"Topic20\", \"Topic20\", \"Topic20\", \"Topic20\", \"Topic20\", \"Topic20\", \"Topic20\", \"Topic20\", \"Topic20\", \"Topic20\", \"Topic20\", \"Topic20\", \"Topic20\", \"Topic20\", \"Topic20\", \"Topic20\", \"Topic20\", \"Topic20\", \"Topic20\", \"Topic20\", \"Topic20\", \"Topic20\", \"Topic20\", \"Topic20\", \"Topic20\", \"Topic20\", \"Topic20\", \"Topic20\", \"Topic20\", \"Topic20\", \"Topic20\", \"Topic20\", \"Topic20\", \"Topic20\"], \"logprob\": [30.0, 29.0, 28.0, 27.0, 26.0, 25.0, 24.0, 23.0, 22.0, 21.0, 20.0, 19.0, 18.0, 17.0, 16.0, 15.0, 14.0, 13.0, 12.0, 11.0, 10.0, 9.0, 8.0, 7.0, 6.0, 5.0, 4.0, 3.0, 2.0, 1.0, -6.4231, -6.4625, -6.5008, -6.6008, -6.6183, -6.6226, -6.663, -6.6897, -6.6999, -6.8177, -6.8237, -6.8592, -6.9182, -6.9935, -7.0443, -7.0464, -7.058, -7.0605, -7.0684, -7.0839, -7.0872, -7.0928, -7.0937, -7.1019, -7.1631, -7.1788, -7.1818, -7.1892, -7.1919, -7.1928, -5.816, -6.4392, -6.4514, -5.3515, -6.193, -6.164, -6.0684, -6.1977, -5.7988, -6.502, -6.6138, -6.542, -6.0966, -5.7726, -6.9196, -6.4379, -5.9673, -5.4762, -6.0357, -5.7558, -5.844, -6.0933, -6.1177, -6.1508, -6.2964, -5.8563, -6.2405, -5.8985, -5.759, -5.8238, -6.0364, -5.9869, -6.013, -5.9746, -6.1658, -6.1717, -6.1413, -6.1452, -6.1272, -6.0765, -6.0968, -6.1636, -6.0244, -6.7091, -6.7091, -6.7965, -6.8496, -6.8842, -6.8842, -7.008, -7.0174, -7.0216, -7.0456, -7.0485, -7.072, -7.0833, -7.0897, -7.0934, -7.1012, -7.1169, -7.1281, -7.1306, -7.1332, -7.1457, -7.1457, -7.1525, -7.1859, -7.2139, -7.2281, -7.2503, -7.258, -7.2787, -5.8062, -5.4222, -6.1686, -6.1824, -6.3031, -5.6777, -6.1837, -5.4726, -6.3811, -5.7806, -5.7791, -6.4186, -5.9611, -5.9833, -6.0412, -6.4539, -6.6359, -5.074, -5.5755, -6.2787, -6.2748, -6.038, -6.5093, -6.1725, -5.192, -6.2583, -5.7046, -6.0141, -5.9757, -6.0736, -6.2674, -5.8391, -6.0352, -5.8333, -5.9027, -6.0221, -6.0761, -6.2361, -6.1876, -6.1865, -5.0321, -5.0927, -5.1064, -5.5158, -5.5243, -5.6056, -5.6887, -5.729, -5.7386, -5.8133, -5.8866, -5.9151, -5.9963, -5.9974, -6.0385, -6.128, -6.1993, -6.316, -6.3341, -6.3449, -6.3722, -6.3849, -6.48, -6.5963, -6.6064, -6.6506, -6.7167, -6.7576, -6.8039, -6.8105, -4.6969, -5.7844, -5.4827, -4.3696, -4.4253, -4.5601, -4.933, -4.9185, -5.1958, -5.2507, -5.5539, -5.6198, -5.5597, -4.2353, -5.009, -5.5398, -5.3413, -5.5518, -5.4689, -5.4003, -5.4299, -5.2854, -5.1944, -5.6164, -5.5668, -6.1043, -6.1733, -6.195, -6.2072, -6.338, -6.3972, -6.5208, -6.5286, -6.5776, -6.6464, -6.6697, -6.698, -6.7031, -6.7104, -6.7136, -6.7253, -6.7572, -6.7618, -6.7618, -6.7669, -6.7799, -6.8033, -6.8033, -6.8452, -6.852, -6.8569, -6.8626, -6.8664, -6.8666, -6.8929, -4.9377, -5.5047, -5.8134, -5.8975, -5.2574, -6.5781, -5.7012, -6.0106, -6.2369, -5.8948, -6.0165, -5.9307, -5.6426, -5.8818, -6.2961, -5.992, -6.4782, -5.6404, -6.253, -5.5727, -6.1593, -5.7803, -5.2526, -6.2859, -5.6373, -5.9379, -5.895, -6.17, -5.9666, -6.0437, -6.1855, -6.0654, -6.1061, -6.0303, -6.1362, -6.0424, -5.2856, -5.8798, -6.0236, -6.0697, -6.136, -6.2057, -6.2084, -6.4148, -6.427, -6.4489, -6.4925, -6.5506, -6.6356, -6.6662, -6.7512, -6.7802, -6.8413, -6.8474, -6.8659, -6.8926, -6.9489, -6.97, -6.985, -7.0517, -7.0669, -7.0669, -7.0749, -7.1221, -7.1316, -7.167, -5.7927, -6.1863, -5.6275, -4.7688, -6.404, -5.0757, -6.104, -6.2528, -4.7971, -5.5587, -5.4203, -6.3622, -5.753, -5.2981, -5.0551, -6.0794, -5.4327, -5.5606, -5.3333, -5.0951, -5.9151, -5.805, -5.3087, -5.4898, -5.4784, -5.7039, -5.4131, -5.7007, -5.6126, -5.8495, -5.914, -5.5589, -5.8184, -5.8185, -5.5931, -5.8073, -5.8618, -4.673, -5.4531, -5.5402, -5.7974, -5.8776, -5.9197, -5.9565, -6.0247, -6.0268, -6.1104, -6.1126, -6.1371, -6.1725, -6.1993, -6.2709, -6.2717, -6.3026, -6.3415, -6.3582, -6.3635, -6.3805, -6.3973, -6.4007, -6.4102, -6.4234, -6.4706, -6.5033, -6.5418, -6.5647, -6.5902, -5.7742, -5.333, -5.6485, -4.7143, -5.4311, -4.8563, -5.2332, -5.5826, -5.4196, -5.4087, -5.5747, -5.2143, -5.8079, -5.2434, -5.5003, -5.2787, -5.872, -5.7914, -5.3754, -5.1458, -5.3913, -5.5772, -5.5951, -5.7229, -5.7642, -5.716, -5.7751, -5.7701, -5.7522, -4.6254, -5.4146, -5.4365, -5.4782, -5.5003, -5.5117, -5.5372, -5.5378, -5.6917, -5.696, -5.7571, -5.8991, -5.9238, -6.0214, -6.1745, -6.2076, -6.2527, -6.2535, -6.2538, -6.2703, -6.2889, -6.3128, -6.3181, -6.4881, -6.5048, -6.5158, -6.5339, -6.5672, -6.5745, -6.5992, -5.5337, -5.6129, -5.8403, -4.9421, -5.2909, -5.6371, -5.8123, -4.8746, -5.3784, -5.0416, -5.1807, -5.2039, -5.4995, -6.015, -5.6913, -5.7982, -5.6924, -5.7317, -5.6879, -5.7642, -5.6744, -5.6464, -5.784, -4.9013, -5.0657, -5.234, -5.2881, -5.3732, -5.5848, -5.677, -5.9869, -6.0089, -6.015, -6.064, -6.0841, -6.1008, -6.2007, -6.2316, -6.3272, -6.375, -6.452, -6.4884, -6.4975, -6.5494, -6.594, -6.6311, -6.6476, -6.694, -6.7039, -6.7263, -6.7284, -6.7397, -6.7481, -3.9181, -5.6108, -5.5657, -5.6007, -4.9022, -4.8209, -4.988, -5.9063, -5.6298, -5.7011, -5.7451, -5.6975, -5.6545, -5.9776, -5.6235, -4.6282, -5.693, -5.5972, -5.6676, -5.7811, -5.4224, -5.6094, -5.3235, -5.7147, -5.5953, -4.7876, -5.0348, -5.1111, -5.3248, -5.3357, -5.375, -5.4285, -5.482, -5.5033, -5.5098, -5.558, -5.6861, -5.7203, -5.7788, -5.8242, -5.9154, -5.9209, -5.9354, -6.039, -6.0404, -6.0636, -6.0717, -6.204, -6.2181, -6.2532, -6.3297, -6.3466, -6.3644, -6.4351, -6.5206, -3.8909, -5.0871, -4.5504, -4.8099, -4.2831, -5.4236, -5.5799, -5.2515, -4.7847, -5.53, -4.9825, -5.5764, -4.884, -5.7027, -5.4678, -5.6402, -5.5797, -5.4785, -5.6174, -5.6737, -5.4557, -5.5911, -5.7462, -5.7697, -5.9168, -5.9248, -5.9623, -6.0272, -6.035, -6.0533, -6.0605, -6.0677, -6.0951, -6.1586, -6.1641, -6.1854, -6.2089, -6.2197, -6.3524, -6.3737, -6.4543, -6.4663, -6.4898, -6.4898, -6.5074, -6.5074, -6.5651, -6.5678, -6.5678, -6.5909, -5.1107, -5.6126, -5.6613, -4.5158, -5.8033, -5.3707, -4.5765, -5.7986, -4.7094, -5.9193, -5.5528, -5.6969, -5.363, -5.1025, -5.4491, -5.6341, -5.6153, -5.451, -5.2931, -5.6013, -5.7351, -5.4172, -5.776, -5.5492, -5.8159, -5.5981, -5.5611, -5.5459, -5.7035, -5.7288, -5.7451, -4.5572, -4.8446, -5.2034, -5.313, -5.3502, -5.358, -5.382, -5.3994, -5.4821, -5.5007, -5.5691, -5.7307, -5.7317, -5.7731, -5.8147, -5.9351, -5.9448, -5.9657, -5.9732, -5.9775, -6.0246, -6.0389, -6.0624, -6.0631, -6.0746, -6.1206, -6.1215, -6.1561, -6.1598, -6.2172, -4.7744, -5.462, -5.6843, -4.4776, -5.0316, -5.3806, -5.5925, -5.1732, -5.5104, -5.576, -5.2629, -5.3678, -5.4557, -5.1939, -5.4335, -5.4204, -5.4044, -5.6194, -5.6727, -4.5114, -4.8394, -5.796, -5.809, -5.835, -5.8552, -5.9029, -5.9283, -5.9581, -5.9652, -5.9819, -6.0923, -6.1053, -6.1222, -6.1243, -6.1252, -6.1413, -6.15, -6.227, -6.2461, -6.2501, -6.266, -6.2678, -6.2711, -6.2805, -6.2905, -6.2905, -6.2966, -6.3468, -6.3612, -4.8961, -5.265, -4.5087, -4.3568, -6.0713, -5.8771, -4.4116, -5.1356, -5.2608, -5.4617, -5.7971, -5.2773, -5.1193, -4.9782, -5.1667, -5.5063, -5.6399, -5.1862, -5.9817, -5.3318, -5.4491, -5.4423, -5.1767, -5.3478, -5.5743, -5.7597, -5.4701, -5.6704, -5.6435, -5.7248, -5.713, -4.6428, -4.7698, -5.2726, -5.4492, -5.4804, -5.5066, -5.5827, -5.6466, -5.6813, -5.7536, -5.7874, -5.8862, -5.9192, -5.972, -5.9808, -6.052, -6.1153, -6.1254, -6.168, -6.2193, -6.3397, -6.3397, -6.3665, -6.3912, -6.4022, -6.4112, -6.4574, -6.4802, -6.4805, -6.5484, -5.4146, -5.0832, -6.061, -5.7176, -5.4541, -5.7773, -5.0888, -5.9092, -5.9125, -5.5381, -5.8134, -5.9126, -5.3583, -5.7881, -5.9456, -5.1854, -5.8283, -5.576, -5.5387, -5.8448, -5.8027, -5.4554, -5.854, -5.8432, -5.8424, -4.7235, -5.3318, -5.3882, -5.3891, -5.422, -5.4958, -5.7467, -5.8882, -5.9116, -5.9253, -5.9513, -5.9536, -5.9922, -6.0262, -6.0279, -6.043, -6.0554, -6.0869, -6.1297, -6.33, -6.3304, -6.3304, -6.3795, -6.3871, -6.4036, -6.4149, -6.4213, -6.4853, -6.5008, -6.5008, -5.3588, -5.0956, -5.6231, -5.8363, -5.6905, -5.2225, -4.8669, -5.4604, -6.1151, -5.0553, -5.758, -5.5435, -5.2278, -4.571, -5.4775, -4.707, -5.3323, -5.408, -5.3029, -5.4732, -5.6629, -5.654, -5.3975, -5.5462, -5.7213, -5.6342, -5.6272, -5.6364, -5.6822, -4.8165, -5.177, -5.2282, -5.3745, -5.4226, -5.5156, -5.6456, -5.7569, -5.7569, -5.9102, -5.9588, -5.9993, -6.0211, -6.026, -6.0797, -6.1599, -6.2365, -6.2989, -6.3004, -6.3213, -6.3352, -6.3451, -6.3802, -6.3888, -6.3923, -6.4318, -6.4318, -6.4963, -6.5175, -6.5365, -4.9066, -5.3534, -4.7106, -5.6465, -5.5903, -5.1325, -5.1743, -5.3458, -5.1334, -4.5844, -5.1724, -4.8131, -5.7931, -4.9995, -4.6681, -4.7706, -5.3663, -5.2272, -5.1414, -5.3999, -5.2281, -5.5295, -5.2051, -5.3152, -5.3718, -5.4604, -5.394, -5.4315, -5.5823, -5.6106, -5.7581, -5.7885, -5.8317, -5.9048, -5.9766, -6.0232, -6.0611, -6.0625, -6.0871, -6.095, -6.1366, -6.2947, -6.3336, -6.3351, -6.3799, -6.407, -6.4167, -6.4394, -6.4431, -6.5247, -6.531, -6.5373, -6.5413, -6.558, -6.558, -6.5935, -4.4759, -5.5235, -4.5532, -4.5894, -5.6503, -5.2693, -5.2435, -5.0908, -4.9518, -5.9598, -5.096, -5.2059, -5.7258, -5.9236, -4.043, -5.401, -5.5166, -5.7129, -5.8256, -5.515, -5.3485, -5.5975, -5.5706, -5.5944, -5.6332, -5.7168, -5.7477, -4.6849, -4.8976, -4.9286, -5.2562, -5.4327, -5.4738, -5.7859, -5.839, -5.9567, -6.033, -6.0514, -6.1067, -6.1067, -6.1875, -6.22, -6.22, -6.2445, -6.2514, -6.2585, -6.2692, -6.2927, -6.3249, -6.3318, -6.3572, -6.3631, -6.3765, -6.399, -6.399, -6.4798, -6.5094, -4.1453, -5.0692, -5.8873, -5.2447, -5.4539, -5.6683, -4.7483, -5.516, -4.2514, -4.9583, -5.5622, -5.8364, -5.5718, -5.7766, -5.3478, -4.9749, -5.0036, -5.3176, -5.4633, -5.3942, -5.4057, -5.5412, -5.4682, -5.5085, -5.4043, -5.5903, -5.7303, -5.7168, -5.7089, -5.0099, -5.2517, -5.2857, -5.4033, -5.4349, -5.5654, -5.7054, -5.7603, -5.7636, -5.7745, -5.8545, -5.9141, -5.9141, -5.9141, -5.9415, -5.9415, -5.9426, -5.9586, -6.0011, -6.0368, -6.0368, -6.0964, -6.1617, -6.1768, -6.2599, -6.2821, -6.2821, -6.2821, -6.3195, -6.3195, -4.9482, -5.2486, -5.0268, -5.342, -4.4476, -5.8017, -5.233, -5.5851, -5.4964, -5.6222, -5.7636, -5.6693, -5.5734, -5.3022, -4.9674, -5.5485, -5.321, -5.7229, -5.8281, -5.4828, -5.6012, -5.24, -5.3204, -5.3327, -5.3348, -5.467, -5.5423, -5.5778, -5.5782, -5.6055, -5.6675, -5.7065, -5.8027, -5.8465, -5.8906, -5.9265, -5.9331, -5.9776, -6.0135, -6.0284, -6.0284, -6.0729, -6.0742, -6.0742, -6.0977, -6.0977, -6.0977, -6.1919, -6.1919, -6.1919, -6.2312, -5.2728, -5.7337, -4.9029, -5.9267, -5.3262, -5.4006, -5.3144, -5.0535, -4.9456, -5.4321, -5.7141, -5.652, -5.8768, -5.6907, -5.4951, -5.7111, -5.6988, -5.7572, -5.8265, -5.803, -4.9394, -5.35, -5.4094, -5.8161, -5.8756, -5.9031, -5.9042, -5.9201, -5.9984, -6.0095, -6.0095, -6.0095, -6.0579, -6.1273, -6.1687, -6.2215, -6.2437, -6.2608, -6.2608, -6.2608, -6.2608, -6.2741, -6.3005, -6.3005, -6.3255, -6.355, -6.3615, -6.4145, -6.4145, -6.4145, -5.8323, -6.0579, -5.9561, -5.4408, -5.3279, -5.6003, -5.4644, -5.5951, -5.6205, -5.876, -5.1097, -5.8879, -5.5262, -5.8714, -5.8064, -5.1045, -5.8227, -5.8386, -5.8345, -5.7771, -5.9197, -5.816, -5.9658], \"loglift\": [30.0, 29.0, 28.0, 27.0, 26.0, 25.0, 24.0, 23.0, 22.0, 21.0, 20.0, 19.0, 18.0, 17.0, 16.0, 15.0, 14.0, 13.0, 12.0, 11.0, 10.0, 9.0, 8.0, 7.0, 6.0, 5.0, 4.0, 3.0, 2.0, 1.0, 1.4524, 1.4524, 1.4524, 1.4524, 1.4524, 1.4524, 1.4524, 1.4523, 1.4523, 1.4523, 1.4523, 1.4523, 1.4523, 1.4522, 1.4522, 1.4522, 1.4522, 1.4522, 1.4522, 1.4522, 1.4522, 1.4522, 1.4522, 1.4522, 1.4521, 1.4521, 1.4521, 1.4521, 1.4521, 1.4521, 1.4505, 1.4437, 1.4394, 1.3843, 1.4107, 1.4066, 1.4008, 1.3987, 1.3669, 1.4143, 1.4213, 1.4072, 1.3652, 1.3264, 1.4396, 1.3712, 1.3036, 1.2202, 1.2768, 1.215, 1.2298, 1.2734, 1.2763, 1.2668, 1.3166, 1.1456, 1.2945, 1.1506, 1.0607, 1.0628, 1.162, 1.1329, 1.1331, 1.0992, 1.2292, 1.1575, 1.1175, 1.1156, 1.0607, 0.8858, 0.9234, 1.1268, 2.2333, 2.2329, 2.2329, 2.2328, 2.2328, 2.2327, 2.2327, 2.2326, 2.2326, 2.2326, 2.2326, 2.2326, 2.2325, 2.2325, 2.2325, 2.2325, 2.2325, 2.2325, 2.2325, 2.2325, 2.2325, 2.2325, 2.2325, 2.2325, 2.2324, 2.2324, 2.2324, 2.2323, 2.2323, 2.2323, 2.1755, 2.1534, 2.1823, 2.1574, 2.1357, 2.0534, 2.1067, 1.9532, 2.1048, 1.9797, 1.9672, 2.0947, 1.9732, 1.9705, 1.96, 2.0549, 2.1003, 1.587, 1.7061, 1.9601, 1.9558, 1.8241, 2.013, 1.843, 1.3285, 1.887, 1.5489, 1.6872, 1.6415, 1.7054, 1.8405, 1.4068, 1.5885, 1.2356, 1.2578, 1.4479, 1.3765, 1.7233, 1.3135, 1.1815, 2.7087, 2.7086, 2.7086, 2.7085, 2.7085, 2.7085, 2.7084, 2.7084, 2.7084, 2.7084, 2.7084, 2.7083, 2.7083, 2.7083, 2.7083, 2.7082, 2.7082, 2.7081, 2.7081, 2.708, 2.708, 2.708, 2.7079, 2.7078, 2.7078, 2.7077, 2.7077, 2.7076, 2.7075, 2.7075, 2.697, 2.6989, 2.6956, 2.6782, 2.6738, 2.665, 2.6188, 2.6129, 2.6194, 2.5618, 2.6005, 2.6095, 2.5226, 2.1209, 2.3096, 2.4771, 2.3411, 2.3992, 2.2447, 2.0372, 2.0681, 1.7109, 1.3261, 2.2256, 1.0942, 2.7151, 2.715, 2.715, 2.715, 2.7149, 2.7149, 2.7147, 2.7147, 2.7147, 2.7146, 2.7146, 2.7145, 2.7145, 2.7145, 2.7145, 2.7145, 2.7145, 2.7145, 2.7145, 2.7144, 2.7144, 2.7144, 2.7144, 2.7143, 2.7143, 2.7143, 2.7143, 2.7143, 2.7143, 2.7143, 2.6532, 2.6359, 2.6491, 2.5959, 2.4937, 2.671, 2.5048, 2.5354, 2.5776, 2.4915, 2.5179, 2.4575, 2.3174, 2.4043, 2.5176, 2.3621, 2.5957, 2.1197, 2.4517, 2.0044, 2.3869, 2.1226, 1.7437, 2.448, 1.819, 2.0439, 1.8953, 2.2668, 1.7554, 1.8322, 2.2262, 1.7679, 1.8776, 1.1198, 1.9888, 0.8378, 2.7497, 2.7495, 2.7494, 2.7494, 2.7493, 2.7493, 2.7493, 2.7491, 2.7491, 2.7491, 2.749, 2.749, 2.7489, 2.7488, 2.7487, 2.7487, 2.7486, 2.7486, 2.7486, 2.7485, 2.7484, 2.7484, 2.7484, 2.7483, 2.7482, 2.7482, 2.7482, 2.7481, 2.7481, 2.748, 2.7293, 2.7362, 2.7153, 2.6873, 2.7294, 2.6774, 2.7061, 2.7125, 2.6327, 2.66, 2.6272, 2.6867, 2.6106, 2.5306, 2.4913, 2.6341, 2.4939, 2.5024, 2.447, 2.2768, 2.539, 2.47, 2.2458, 2.2917, 2.2702, 2.1999, 1.8916, 2.1915, 2.0246, 2.2779, 2.3769, 1.6125, 2.1009, 2.0859, 1.3195, 1.9908, 2.0665, 2.9649, 2.9646, 2.9646, 2.9644, 2.9644, 2.9643, 2.9643, 2.9643, 2.9643, 2.9642, 2.9642, 2.9642, 2.9641, 2.9641, 2.964, 2.964, 2.964, 2.964, 2.964, 2.9639, 2.9639, 2.9639, 2.9639, 2.9639, 2.9639, 2.9638, 2.9638, 2.9637, 2.9637, 2.9637, 2.9508, 2.8688, 2.8438, 2.5763, 2.7178, 2.5695, 2.6587, 2.7464, 2.606, 2.5841, 2.5189, 2.2905, 2.6323, 2.2662, 2.4034, 2.2052, 2.6567, 2.5694, 2.1004, 1.7829, 2.079, 2.2644, 2.0748, 2.3316, 2.3726, 1.8852, 1.8825, 1.6889, 1.0293, 3.1185, 3.1182, 3.1182, 3.1182, 3.1182, 3.1182, 3.1182, 3.1182, 3.1181, 3.1181, 3.118, 3.1179, 3.1179, 3.1178, 3.1177, 3.1176, 3.1176, 3.1176, 3.1176, 3.1176, 3.1175, 3.1175, 3.1175, 3.1173, 3.1172, 3.1172, 3.1172, 3.1171, 3.1171, 3.1171, 3.1073, 3.0415, 3.0335, 2.9059, 2.898, 2.9589, 2.9614, 2.5926, 2.7418, 2.4806, 2.4565, 2.3954, 2.5516, 2.9239, 2.6091, 2.6286, 2.3628, 2.3194, 1.9562, 2.3366, 1.6304, 1.3937, 1.9988, 3.1872, 3.1871, 3.1871, 3.187, 3.187, 3.1869, 3.1868, 3.1866, 3.1865, 3.1865, 3.1865, 3.1865, 3.1864, 3.1863, 3.1863, 3.1862, 3.1861, 3.186, 3.1859, 3.1859, 3.1858, 3.1858, 3.1857, 3.1857, 3.1856, 3.1855, 3.1855, 3.1855, 3.1855, 3.1855, 3.1193, 3.1493, 3.1225, 3.0514, 2.9249, 2.8935, 2.913, 3.0633, 3.0002, 3.0099, 3.0141, 2.988, 2.9618, 3.0494, 2.8894, 2.4344, 2.8662, 2.7123, 2.7233, 2.8058, 2.301, 2.4401, 1.7255, 2.5404, 1.9481, 3.2439, 3.2438, 3.2438, 3.2437, 3.2436, 3.2436, 3.2436, 3.2436, 3.2435, 3.2435, 3.2435, 3.2434, 3.2434, 3.2433, 3.2433, 3.2432, 3.2432, 3.2432, 3.2431, 3.2431, 3.2431, 3.2431, 3.2429, 3.2429, 3.2429, 3.2427, 3.2427, 3.2427, 3.2426, 3.2424, 3.2166, 3.2262, 3.1807, 3.1002, 2.8939, 3.0755, 3.0956, 2.9528, 2.6742, 2.9931, 2.6187, 2.938, 2.2079, 2.9714, 2.5669, 2.7785, 2.1061, 1.4503, 1.6873, 1.7521, 3.37, 3.3699, 3.3698, 3.3698, 3.3696, 3.3696, 3.3696, 3.3695, 3.3695, 3.3695, 3.3695, 3.3694, 3.3694, 3.3693, 3.3693, 3.3693, 3.3693, 3.3692, 3.369, 3.369, 3.3689, 3.3688, 3.3688, 3.3688, 3.3688, 3.3688, 3.3686, 3.3686, 3.3686, 3.3686, 3.3577, 3.3186, 3.3132, 3.2346, 3.2748, 3.1947, 3.0337, 3.2353, 2.9956, 3.227, 3.0739, 3.092, 2.8527, 2.6832, 2.8272, 2.951, 2.8776, 2.687, 2.4606, 2.768, 2.9252, 2.4112, 2.8939, 2.3754, 2.9579, 2.2807, 1.807, 1.4504, 2.1711, 2.2393, 2.4225, 3.424, 3.4239, 3.4237, 3.4236, 3.4236, 3.4236, 3.4236, 3.4236, 3.4235, 3.4235, 3.4235, 3.4233, 3.4233, 3.4233, 3.4232, 3.4231, 3.4231, 3.4231, 3.4231, 3.4231, 3.423, 3.423, 3.423, 3.423, 3.4229, 3.4229, 3.4229, 3.4228, 3.4228, 3.4227, 3.3599, 3.3877, 3.3813, 3.1784, 3.1764, 3.2489, 3.2553, 2.9731, 3.1161, 3.1239, 2.8327, 2.9157, 2.9241, 2.5996, 2.583, 2.0314, 1.6876, 2.2588, 1.0237, 3.4416, 3.4415, 3.4409, 3.4409, 3.4408, 3.4408, 3.4408, 3.4407, 3.4407, 3.4407, 3.4407, 3.4405, 3.4405, 3.4405, 3.4405, 3.4405, 3.4405, 3.4405, 3.4403, 3.4403, 3.4403, 3.4403, 3.4403, 3.4403, 3.4402, 3.4402, 3.4402, 3.4402, 3.4401, 3.4401, 3.4255, 3.3854, 3.2486, 3.1402, 3.4044, 3.3458, 2.9622, 3.144, 3.1207, 3.1686, 3.2801, 3.0114, 2.9095, 2.8255, 2.9061, 3.046, 3.1309, 2.6921, 3.312, 2.6316, 2.7255, 2.5214, 1.9153, 2.104, 2.4625, 2.9395, 1.8316, 2.3397, 2.15, 2.5937, 2.3936, 3.4681, 3.4681, 3.4678, 3.4677, 3.4677, 3.4676, 3.4676, 3.4675, 3.4675, 3.4674, 3.4674, 3.4673, 3.4672, 3.4672, 3.4672, 3.4671, 3.467, 3.467, 3.4669, 3.4668, 3.4666, 3.4666, 3.4666, 3.4665, 3.4665, 3.4665, 3.4664, 3.4663, 3.4663, 3.4662, 3.433, 3.3622, 3.4265, 3.3855, 3.348, 3.3749, 3.252, 3.3861, 3.3852, 3.3075, 3.3333, 3.3638, 3.1029, 3.2989, 3.3732, 2.5682, 3.1854, 2.562, 2.336, 3.1086, 2.8152, 0.9008, 2.9226, 1.9905, 1.0702, 3.4965, 3.4962, 3.4962, 3.4962, 3.4961, 3.4961, 3.4959, 3.4957, 3.4957, 3.4957, 3.4956, 3.4956, 3.4956, 3.4955, 3.4955, 3.4955, 3.4955, 3.4954, 3.4954, 3.495, 3.495, 3.495, 3.4949, 3.4949, 3.4949, 3.4949, 3.4949, 3.4947, 3.4947, 3.4947, 3.4815, 3.4724, 3.4598, 3.4669, 3.4536, 3.4223, 3.3454, 3.3808, 3.4544, 3.2074, 3.3366, 3.2397, 2.917, 2.478, 3.0114, 2.1731, 2.7452, 2.5072, 2.1635, 2.3059, 2.7704, 2.7331, 1.83, 2.2473, 2.8322, 2.2534, 1.9162, 1.8256, 1.9229, 3.519, 3.5188, 3.5188, 3.5187, 3.5186, 3.5186, 3.5184, 3.5183, 3.5183, 3.5182, 3.5181, 3.518, 3.518, 3.518, 3.5179, 3.5178, 3.5177, 3.5176, 3.5176, 3.5175, 3.5175, 3.5175, 3.5174, 3.5174, 3.5174, 3.5173, 3.5173, 3.5172, 3.5171, 3.5171, 3.4349, 3.4528, 3.3851, 3.4369, 3.4232, 3.3543, 3.3573, 3.3242, 3.2641, 3.0748, 3.2128, 3.0382, 3.3427, 3.0006, 2.8158, 2.6997, 3.0657, 2.9653, 2.8741, 3.065, 2.4577, 2.8823, 2.2707, 2.3548, 2.2853, 2.0743, 3.5257, 3.5257, 3.5255, 3.5255, 3.5254, 3.5253, 3.5253, 3.5252, 3.5251, 3.525, 3.525, 3.525, 3.525, 3.5249, 3.5249, 3.5246, 3.5245, 3.5245, 3.5245, 3.5244, 3.5244, 3.5243, 3.5243, 3.5241, 3.5241, 3.5241, 3.5241, 3.5241, 3.5241, 3.524, 3.5152, 3.5046, 3.4675, 3.459, 3.4839, 3.4453, 3.41, 3.3912, 3.3423, 3.4639, 3.322, 3.309, 3.4, 3.4252, 2.8858, 3.1072, 3.1531, 3.2496, 3.2259, 2.7101, 1.714, 2.117, 1.8236, 1.8321, 1.4158, 1.972, 2.0773, 3.678, 3.6779, 3.6779, 3.6777, 3.6775, 3.6775, 3.6772, 3.6771, 3.6769, 3.6768, 3.6768, 3.6767, 3.6767, 3.6765, 3.6765, 3.6765, 3.6764, 3.6764, 3.6764, 3.6764, 3.6763, 3.6762, 3.6762, 3.6762, 3.6762, 3.6761, 3.6761, 3.6761, 3.6759, 3.6758, 3.5965, 3.5767, 3.6363, 3.5492, 3.5538, 3.5749, 3.3428, 3.4704, 3.115, 3.2933, 3.4576, 3.4936, 3.2919, 3.4012, 3.1117, 2.6579, 2.4229, 2.6979, 2.7229, 2.4308, 2.2514, 2.4588, 1.9212, 1.9989, 1.4758, 1.1912, 2.7332, 2.4547, 1.7613, 4.239, 4.2387, 4.2387, 4.2385, 4.2385, 4.2382, 4.238, 4.2379, 4.2379, 4.2378, 4.2376, 4.2375, 4.2375, 4.2375, 4.2374, 4.2374, 4.2374, 4.2374, 4.2373, 4.2372, 4.2372, 4.237, 4.2368, 4.2367, 4.2364, 4.2364, 4.2364, 4.2364, 4.2362, 4.2362, 4.2152, 4.1615, 4.0523, 4.0441, 3.8245, 4.1058, 3.8543, 3.9913, 3.9522, 3.9555, 4.0494, 3.9812, 3.8833, 3.4409, 2.8129, 3.6682, 3.2663, 3.8947, 4.0359, 3.1306, 1.9884, 4.2969, 4.2968, 4.2968, 4.2968, 4.2965, 4.2964, 4.2963, 4.2963, 4.2963, 4.2961, 4.2961, 4.2958, 4.2957, 4.2956, 4.2955, 4.2955, 4.2954, 4.2953, 4.2952, 4.2952, 4.2951, 4.2951, 4.2951, 4.295, 4.295, 4.295, 4.2947, 4.2947, 4.2947, 4.2945, 4.1784, 4.1657, 3.662, 4.1377, 3.6793, 3.7049, 3.5599, 3.2797, 3.1634, 3.4932, 3.8353, 3.7421, 4.0015, 3.3567, 2.4653, 3.2316, 2.9178, 2.3679, 3.2176, 2.1071, 4.3033, 4.3027, 4.3026, 4.3018, 4.3017, 4.3016, 4.3016, 4.3015, 4.3013, 4.3013, 4.3013, 4.3013, 4.3011, 4.3009, 4.3008, 4.3006, 4.3005, 4.3004, 4.3004, 4.3004, 4.3004, 4.3004, 4.3003, 4.3003, 4.3002, 4.3, 4.3, 4.2998, 4.2998, 4.2998, 4.15, 4.2005, 4.139, 3.8073, 3.6852, 3.8336, 3.6729, 3.7649, 3.6675, 3.9117, 3.0305, 3.8405, 3.3694, 3.7774, 3.6585, 1.7756, 3.4242, 3.2168, 3.1164, 2.4781, 3.3687, 1.233, 2.9375]}, \"token.table\": {\"Topic\": [14, 14, 9, 6, 9, 16, 14, 14, 14, 1, 3, 5, 7, 8, 9, 13, 15, 17, 14, 1, 8, 4, 6, 10, 13, 15, 17, 5, 13, 16, 8, 8, 8, 1, 17, 15, 1, 7, 10, 2, 3, 4, 12, 19, 4, 12, 14, 19, 2, 3, 4, 5, 7, 9, 10, 11, 12, 13, 14, 15, 19, 1, 2, 14, 1, 2, 3, 5, 7, 10, 11, 12, 13, 14, 15, 14, 20, 13, 4, 19, 7, 7, 7, 7, 16, 17, 16, 17, 16, 1, 2, 3, 13, 16, 12, 19, 3, 13, 1, 2, 4, 5, 6, 7, 9, 11, 16, 10, 10, 15, 15, 15, 1, 3, 11, 13, 16, 13, 19, 2, 6, 9, 1, 13, 1, 4, 5, 6, 8, 9, 11, 12, 15, 16, 19, 1, 4, 6, 4, 12, 14, 16, 20, 4, 14, 20, 13, 1, 10, 18, 10, 16, 10, 11, 9, 16, 19, 6, 9, 16, 18, 17, 5, 7, 3, 13, 14, 2, 4, 10, 15, 20, 3, 8, 9, 16, 17, 4, 2, 7, 12, 14, 17, 19, 14, 4, 12, 7, 8, 2, 8, 16, 1, 8, 14, 16, 19, 1, 2, 3, 5, 7, 9, 11, 12, 14, 15, 2, 8, 7, 10, 13, 1, 11, 12, 14, 20, 9, 10, 13, 14, 19, 1, 16, 16, 6, 16, 4, 5, 7, 13, 16, 7, 4, 13, 2, 11, 7, 5, 19, 20, 2, 12, 1, 2, 3, 6, 8, 10, 17, 18, 2, 13, 18, 1, 2, 14, 15, 20, 2, 4, 6, 7, 15, 17, 11, 1, 4, 7, 11, 1, 2, 5, 8, 11, 14, 16, 1, 14, 2, 3, 7, 11, 1, 3, 7, 8, 10, 19, 15, 17, 3, 12, 3, 17, 17, 17, 17, 17, 17, 17, 6, 19, 18, 20, 7, 20, 8, 7, 8, 19, 20, 1, 3, 8, 20, 8, 1, 3, 13, 20, 5, 1, 16, 20, 2, 3, 7, 11, 13, 15, 8, 9, 16, 4, 18, 16, 2, 3, 6, 8, 10, 14, 16, 17, 6, 6, 8, 17, 17, 1, 17, 17, 17, 3, 8, 11, 6, 15, 3, 4, 5, 20, 20, 3, 6, 15, 9, 18, 7, 1, 1, 2, 5, 7, 15, 8, 9, 17, 9, 10, 17, 1, 2, 3, 15, 1, 6, 9, 11, 12, 15, 12, 2, 11, 12, 1, 16, 18, 20, 2, 12, 2, 8, 16, 18, 5, 9, 18, 1, 7, 10, 13, 10, 8, 10, 15, 16, 17, 8, 13, 16, 9, 2, 13, 14, 11, 12, 14, 3, 2, 14, 17, 15, 17, 2, 3, 17, 18, 20, 1, 13, 11, 8, 16, 19, 8, 9, 16, 11, 1, 6, 7, 11, 3, 4, 1, 4, 8, 17, 20, 5, 15, 18, 5, 7, 8, 18, 3, 9, 12, 15, 18, 8, 9, 15, 4, 7, 10, 3, 8, 10, 14, 4, 2, 4, 11, 12, 1, 11, 2, 11, 12, 13, 14, 18, 18, 2, 8, 4, 10, 13, 9, 4, 6, 7, 8, 9, 13, 15, 16, 18, 19, 4, 6, 9, 15, 18, 16, 16, 18, 6, 3, 3, 9, 9, 3, 5, 6, 9, 15, 13, 1, 6, 17, 2, 10, 6, 20, 7, 12, 2, 4, 4, 5, 6, 15, 19, 1, 2, 3, 4, 5, 10, 14, 16, 2, 7, 10, 13, 14, 7, 5, 17, 12, 11, 12, 14, 5, 18, 10, 6, 7, 15, 12, 16, 20, 20, 5, 6, 15, 18, 14, 3, 8, 10, 14, 1, 12, 1, 3, 4, 7, 11, 2, 5, 7, 10, 13, 15, 1, 2, 7, 10, 13, 11, 5, 12, 5, 1, 5, 6, 7, 3, 15, 2, 4, 5, 13, 4, 6, 17, 10, 10, 10, 2, 7, 6, 9, 6, 9, 8, 2, 6, 14, 1, 6, 9, 16, 17, 6, 1, 5, 8, 20, 3, 4, 9, 13, 6, 20, 1, 4, 1, 5, 15, 17, 15, 4, 19, 13, 3, 6, 15, 16, 6, 3, 6, 17, 18, 19, 2, 8, 1, 19, 1, 19, 19, 8, 13, 16, 19, 1, 13, 19, 19, 9, 17, 14, 2, 12, 6, 8, 16, 6, 20, 3, 6, 15, 9, 15, 9, 17, 12, 1, 15, 17, 13, 3, 4, 5, 5, 5, 5, 3, 5, 3, 4, 4, 3, 3, 5, 3, 16, 18, 5, 9, 17, 17, 18, 2, 4, 5, 10, 11, 12, 2, 9, 18, 3, 4, 2, 5, 7, 2, 3, 4, 5, 6, 7, 9, 10, 11, 14, 5, 7, 9, 13, 5, 1, 9, 11, 1, 1, 17, 1, 5, 10, 13, 1, 6, 1, 5, 11, 1, 16, 18, 19, 1, 15, 10, 1, 5, 7, 13, 1, 14, 5, 14, 2, 2, 5, 7, 11, 17, 8, 16, 7, 17, 16, 1, 3, 5, 9, 17, 19, 6, 7, 6, 8, 9, 8, 6, 8, 9, 2, 4, 5, 12, 14, 2, 14, 8, 15, 1, 6, 7, 13, 15, 2, 3, 4, 5, 6, 8, 9, 10, 12, 14, 15, 16, 17, 18, 19, 5, 12, 7, 12, 2, 1, 4, 13, 19, 2, 2, 11, 2, 18, 5, 8, 4, 5, 8, 10, 17, 6, 2, 3, 7, 10, 13, 20, 10, 7, 20, 4, 5, 6, 7, 8, 11, 12, 14, 16, 13, 15, 17, 4, 13, 12, 4, 7, 1, 4, 4, 4, 9, 17, 9, 11, 19, 2, 9, 11, 12, 14, 9, 6, 9, 11, 12, 13, 14, 9, 9, 2, 4, 7, 7, 14, 5, 1, 3, 5, 13, 11, 18, 16, 11, 1, 3, 5, 11, 12, 7, 18, 1, 6, 11, 12, 4, 11, 14, 2, 4, 13, 14, 20, 8, 10, 10, 1, 2, 11, 17, 17, 3, 1, 2, 3, 4, 5, 7, 10, 2, 16, 1, 2, 14, 2, 13, 19, 20, 2, 4, 6, 7, 9, 10, 11, 13, 15, 16, 19, 5, 6, 10, 10, 13, 16, 2, 15, 1, 2, 3, 4, 5, 7, 10, 11, 13, 15, 3, 20, 9, 5, 9, 9, 9, 8, 2, 10, 1, 2, 4, 5, 6, 7, 10, 11, 12, 13, 15, 17, 6, 6, 1, 2, 3, 6, 10, 11, 13, 20, 11, 1, 3, 4, 19, 16, 14, 12, 4, 8, 10, 13, 14, 16, 17, 20, 2, 16, 6, 6, 8, 2, 3, 11, 13, 16, 1, 2, 3, 4, 8, 10, 11, 12, 13, 14, 16, 20, 19, 19, 13, 12, 6, 8, 4, 14, 1, 3, 6, 8, 9, 10, 11, 12, 14, 15, 16, 18, 2, 4, 5, 6, 2, 9, 13, 1, 3, 5, 6, 8, 9, 10, 16, 17, 10, 1, 9, 3, 8, 11, 13, 9, 18, 4, 10, 10, 17, 10, 15, 10, 13, 14, 6, 15, 1, 3, 11, 13, 14, 2, 1, 2, 9, 14, 8, 4, 3, 10, 1, 5, 18, 1, 3, 4, 5, 6, 19, 5, 17, 4, 7, 4, 14, 14, 4, 6, 7, 8, 9, 16, 18, 15, 19, 5, 1, 6, 10, 13, 15, 17, 2, 11, 12, 14, 1, 9, 19, 1, 5, 7, 4, 6, 10, 13, 15, 17, 15, 10, 13, 17, 1, 4, 5, 7, 9, 5, 7, 8, 6, 10, 4, 1, 5, 12, 2, 7, 9, 12, 5, 12, 14, 20, 1, 2, 4, 5, 6, 7, 8, 9, 13, 15, 16, 17, 18, 6, 2, 16, 2, 8, 13, 16, 2, 8, 5, 16, 3, 5, 3, 4, 5, 7, 9, 2, 14, 2, 5, 8, 11, 12, 13, 16, 18, 16, 17, 16, 1, 8, 10, 13, 11, 15, 1, 2, 16, 1, 11, 3, 8, 13, 10, 7, 20, 13, 2, 20, 20, 3, 4, 5, 3, 12, 9, 6, 18, 1, 4, 7, 10, 13, 3, 4, 10, 13, 15, 13, 10, 13, 1, 3, 16, 19, 1, 2, 6, 20, 20, 2, 3, 5, 12, 13, 15, 6, 7, 10, 13, 15, 16, 20, 4, 10, 12, 5, 14, 3, 3, 10, 1, 5, 13, 18, 1, 9, 14, 17, 2, 6, 1, 12, 2, 7, 20, 13, 20, 3, 11, 13, 14, 3, 4, 6, 10, 16, 19, 1, 12, 1, 3, 8, 9, 10, 19, 10, 7, 15, 9, 9, 15, 6, 9, 10, 15, 18, 20, 1, 8, 18, 15, 2, 8, 10, 15, 18, 1, 11, 13, 15, 11, 3, 1, 4, 6, 15, 17, 14, 5, 6, 7, 9, 13, 15, 17, 19, 4, 5, 6, 13, 12, 9, 20, 3, 5, 11, 12, 14, 19, 20, 11, 14, 19, 19, 13, 14, 3, 2, 14, 12, 14, 20, 19, 10, 14, 14, 18, 7, 9, 15, 18, 6, 9, 15, 11, 1, 12, 3, 16, 4, 5, 6, 7, 8, 9, 15, 16, 17, 8, 5, 3, 4, 5, 10, 13, 1, 11, 12, 14, 14, 18, 7, 9, 9, 18, 1, 4, 5, 6, 7, 8, 9, 14, 16, 5, 9, 11, 6, 8, 9, 20, 14, 5, 3, 10, 3, 4, 5, 6, 7, 8, 9, 10, 13, 15, 17, 18, 19, 1, 3, 4, 6, 13, 16, 17, 10, 9, 12, 8, 10, 12, 12, 20, 6, 9, 16, 6, 8, 16, 16, 16, 3, 1, 2, 14, 14, 20, 1, 4, 5, 12, 17, 5, 6, 11, 14, 15, 17, 4, 6, 7, 15, 17, 19, 6, 15, 17, 12, 19, 4, 11, 12, 19, 2, 17, 9, 18, 9, 8, 10, 16, 8, 8, 16, 8, 1, 2, 3, 10, 11, 13, 14, 17, 18, 8, 9, 15, 20, 4, 19, 1, 5, 6, 8, 9, 12, 14, 15, 16, 12, 12, 12, 6, 1, 6, 7, 11, 10, 1, 12, 5, 7, 13, 14, 19, 5, 6, 9, 15, 17, 1, 5, 9, 11, 12, 14, 5, 1, 6, 14, 6, 7, 9, 1, 6, 8, 10, 11, 15, 16, 17, 16, 20, 5, 10, 20, 8, 8, 1, 3, 4, 7, 11, 20, 19, 6, 20, 4, 18, 4, 8, 3, 10, 13, 11, 1, 1, 3, 3, 13, 15, 16, 3, 15, 6, 6, 12, 4, 13, 6, 9, 15, 3, 6, 9, 15, 6, 2, 4, 11, 12, 3, 1, 3, 4, 6, 9, 10, 15, 17, 19, 20, 2, 15, 1, 6, 9, 13, 15, 9, 15, 19, 7, 1, 3, 4, 5, 6, 7, 10, 15, 7, 18, 1, 6, 9, 11, 12, 14, 2, 4, 9, 12, 9, 13, 2, 2, 20, 3, 8, 10, 15, 16, 19, 10, 3, 4, 7, 3, 4, 6, 13, 16, 6, 9, 1, 11, 3, 4, 16, 2, 4, 6, 10, 20, 19, 3, 8, 3, 11, 12, 3, 4, 5, 6, 7, 8, 9, 11, 13, 5, 6, 3, 4, 8, 10, 16, 20, 10, 13, 1, 8, 14, 16, 20, 1, 6, 5, 6, 15, 4, 6, 17, 20, 6, 15, 10, 13, 2, 6, 9, 1, 3, 5, 7, 10, 13, 16, 17, 2, 18, 4, 19, 1, 5, 6, 12, 14, 17, 1, 13, 16, 1, 2, 14, 8, 14, 1, 6, 9, 16, 17, 11, 13, 16, 16, 4, 5, 6, 15, 3, 5, 6, 1, 11, 4, 5, 4, 2, 3, 5, 6, 14, 16, 3, 16, 12, 4, 4, 18, 3, 4, 5, 6, 9, 10, 17, 4, 5, 6, 9, 15, 17, 18, 19, 20, 1, 2, 3, 4, 6, 7, 10, 13, 18, 1, 5, 2, 11, 16, 12, 13, 18, 4, 9, 18, 1, 18, 8, 16, 14, 14, 2, 5, 7, 20, 1, 11, 14, 18, 11, 18, 12, 12, 2, 10, 13, 14, 7, 8, 14, 15, 20, 18, 9, 10, 18, 19, 14, 5, 7, 9, 12, 16, 5, 6, 7, 8, 9, 13, 16, 18, 19, 20, 6, 2, 12, 15, 3, 4, 16, 8, 2, 4, 12, 8, 15, 19, 15, 1, 17, 2, 5, 11, 12, 14, 13, 2, 5, 6, 7, 8, 10, 11, 12, 14, 16, 19, 3, 4, 10, 5, 4, 5, 10, 15, 1, 8, 11, 9, 14, 14, 10, 10, 14, 1, 15, 3, 4, 5, 6, 10, 14, 15, 17, 1, 3, 4, 5, 6, 7, 15, 17, 1, 4, 5, 6, 8, 12, 14, 16, 19, 2, 1, 5, 6, 7, 17, 7, 7, 5, 7, 5, 1, 4, 6, 8, 10, 13, 14, 16, 17, 20, 2, 3, 5, 6, 8, 9, 15, 16, 17, 18, 1, 4, 8, 9, 16, 17, 1, 11, 12, 8, 9, 18, 17, 2, 4, 5, 7, 9, 17, 8, 13, 16, 17, 1, 9, 16, 14, 16, 2, 15, 17, 18, 4, 9, 15, 16, 17, 12, 2, 8, 17, 5, 20, 5, 5, 2, 12, 2, 13, 1, 2, 6, 4, 9, 20, 6, 15, 17, 1, 2, 4, 5, 6, 14, 15, 8, 9, 16, 6, 16, 6, 8, 9, 16, 9, 15, 14, 1, 16, 11, 2, 4, 5, 12, 19, 11, 15, 15, 10, 6, 1, 3, 5, 6, 8, 9, 20, 15, 11, 12, 14, 4, 19, 12, 1, 3, 7, 20, 2, 8, 16, 6, 20, 8, 2, 8, 16, 1, 4, 5, 7, 10, 13, 20, 4, 1, 1, 19, 11, 1, 4, 20, 11, 6, 4, 1, 13, 17, 2, 18, 20, 8, 19, 20, 4, 8, 5, 10, 2, 13, 17, 8, 11, 19, 1, 3, 4, 6, 13, 15, 4, 6, 15, 9, 15, 7, 19, 8, 1, 19, 3, 4, 7, 4, 6, 4, 6, 9, 15, 17, 18, 2, 8, 13, 17, 14, 17, 17, 4, 10, 10, 10, 20, 4, 2, 13, 1, 2, 3, 5, 6, 7, 9, 10, 13, 15, 8, 20, 1, 9, 11, 12, 16, 1, 2, 3, 14, 1, 15, 1, 3, 6, 10, 11, 12, 13, 15, 16, 17, 1, 1, 2, 3, 5, 6, 8, 9, 11, 14, 15, 18, 1, 1, 2, 5, 6, 8, 9, 10, 12, 13, 14, 16, 18, 18, 12, 2, 8, 9, 14, 5, 13, 3, 16, 3, 3, 4, 1, 18, 13, 3, 4, 5, 8, 9, 15, 16, 1, 15, 2, 19, 6, 10, 13, 4, 13, 5, 6, 2, 1, 12, 15, 3, 4, 16, 19, 4, 4, 6, 8, 9, 16, 17, 12, 1, 2, 3, 4, 5, 7, 8, 9, 11, 12, 13, 14, 15, 16, 18, 16, 11, 3, 4, 5, 6, 8, 9, 10, 16, 19, 13, 13, 18, 12, 19, 3, 5, 1, 7, 3, 4, 7, 11, 11, 1, 16, 1, 2, 4, 5, 6, 7, 8, 9, 10, 13, 14, 15, 16, 17, 1, 6, 9, 10, 15, 18, 19, 6, 15, 17, 16, 6, 2, 10, 11, 18, 5, 18, 8, 13, 13, 2, 12, 14, 6, 9, 10, 12, 16, 16, 17, 17, 20, 5, 14, 15, 15, 9, 1, 3, 17, 3, 8, 17, 4, 2, 3, 5, 10, 12, 2, 1, 6, 11, 1, 2, 3, 4, 5, 7, 8, 9, 10, 12, 13, 14, 15, 16, 17, 18, 19, 20, 2, 12, 1, 2, 14, 1, 2, 11, 12, 16, 5, 6, 15, 17, 15, 17, 20, 2, 3, 4, 5, 6, 7, 15, 2, 4, 12, 11, 2, 3, 7, 8, 9, 13, 20, 3, 1, 3, 1, 2, 19, 20, 1, 6, 2, 12, 14, 16, 20, 11, 14, 1, 2, 3, 8, 11, 12, 14, 6, 9, 15, 2, 12, 6, 9, 19, 1, 7, 1, 4, 19, 9, 13, 14, 19, 2, 4, 6, 8, 13, 14, 16, 10, 1, 2, 4, 5, 6, 14, 16, 20, 13, 13, 15, 1, 2, 3, 4, 6, 7, 10, 4, 9, 17, 18, 2, 3, 4, 5, 6, 7, 8, 9, 10, 14, 15, 16, 17, 18, 19, 5, 6, 1, 2, 7, 7, 7, 18], \"Freq\": [1.0073433704369024, 0.9933269313575867, 0.9913627017835098, 0.8840797803691897, 0.11505147826722331, 0.9943525155624503, 0.9948741097087173, 0.9919395573067544, 0.9962489471515391, 0.7260385542852642, 0.05372378308664746, 0.07060840062816523, 0.026094408927800194, 0.019954548003611915, 0.021489513234658985, 0.023024478465706055, 0.026094408927800194, 0.032234269851988476, 1.0018772537802902, 0.15816254937938712, 0.8382615117107517, 0.18153040258635153, 0.5714846007348104, 0.09748854953711472, 0.016808370609847363, 0.07059515656135894, 0.06387180831741998, 0.046857314899266395, 0.9137176405356946, 0.046857314899266395, 0.998822791520781, 0.9922475966611882, 1.000837934839101, 1.0016845954781892, 0.9906731211713747, 1.004989772669419, 0.36885482746928566, 0.014464895194873947, 0.6219904933795797, 0.036151261657472, 0.12394718282561827, 0.36151261657471995, 0.11878271687455084, 0.36151261657471995, 0.33382118082409507, 0.060694760149835464, 0.07081055350814137, 0.5361370479902133, 0.5035337583372003, 0.07544234009930177, 0.02280814933234705, 0.07193339404817146, 0.05438866379251989, 0.003508946051130315, 0.052634190766954726, 0.05614313681808504, 0.050879717741389566, 0.06842444799704114, 0.026317095383477363, 0.00701789210226063, 0.005263419076695473, 0.3162918586561515, 0.6005991473358383, 0.08529218660390603, 0.10678791918039972, 0.09942323509899284, 0.07548801183442048, 0.08101152489547565, 0.003682342040703439, 0.10310557713969629, 0.1141526032618066, 0.2006876412183374, 0.11231143224145487, 0.07180566979371705, 0.034982249386682665, 1.0001628306962842, 1.0076088484113936, 0.9855122357051003, 0.9244028490021622, 0.07667857733658488, 0.9915950060314741, 1.0028308392655088, 1.00123722615722, 0.9985914386373264, 0.9904484427659277, 0.011004982697399196, 0.9375091634795623, 0.061476010719971295, 1.0051759656325672, 0.7472184757783997, 0.19095583269892435, 0.031549224532865766, 0.014944369515567994, 0.014944369515567994, 0.43269317711315075, 0.5669772665620596, 0.2447794152297556, 0.7547365302917465, 1.001099230413066, 0.944903043696963, 0.05451363713636325, 0.5064489482533484, 0.10335692821496907, 0.3169612465259051, 0.07579508069097732, 0.9978176164454944, 1.0025264130531264, 0.9982270285383253, 1.0023251623059022, 1.0031073005192344, 0.987699843157619, 0.9961498583724698, 0.8311103888693961, 0.09510218380097568, 0.02687670411766704, 0.037213898009077435, 0.00826975511312832, 0.9191491717517616, 0.08110139750750837, 0.9951610593108184, 0.13532307123662454, 0.866067655914397, 0.9976739696420639, 0.9962855642113893, 0.6771136188639352, 0.0644291235184714, 0.0437631782389617, 0.09725150719769267, 0.018234657599567373, 0.03403802751919243, 0.009725150719769267, 0.006078219199855792, 0.030391095999278958, 0.015803369919625058, 0.0048625753598846334, 0.2681651376650602, 0.6145451071490964, 0.12290902142981927, 0.04077373752185063, 0.20386868760925314, 0.17328838446786515, 0.04077373752185063, 0.5402520221645208, 0.11211535265448849, 0.3683790158647479, 0.5285438053711601, 0.9905716106978394, 0.05444720937050938, 0.11978386061512063, 0.8275975824317425, 0.9486361355327648, 0.04696218492736459, 0.9966419196920616, 0.9972909467292024, 0.07987587126132346, 0.8786345838745582, 0.034232516254852914, 0.07433543681957311, 0.1238923946992885, 0.8053005655453753, 0.9812584859421878, 0.9948457998786409, 0.17982976751212515, 0.8234310407134151, 0.9978422941255073, 0.38624873021246375, 0.6155839137761141, 0.17051080295906343, 0.1121781598414891, 0.13461379180978691, 0.5743521783884242, 0.004487126393659564, 0.09413941677169531, 0.24711596902570018, 0.12944169806108105, 0.13532541160931202, 0.3883250941832432, 1.003168968046203, 0.2605808439083054, 0.07543129692082524, 0.2537234532791395, 0.14400520321248456, 0.006857390629165931, 0.2537234532791395, 0.9948324868472435, 0.9550850668676655, 0.03871966487301347, 0.9933195249125445, 0.9981235262940451, 0.043589722709089396, 0.7690472506532201, 0.18681309732466886, 0.0027819401167310086, 0.7455599512839103, 0.005563880233462017, 0.24481073027232877, 0.9827786259128494, 0.17863848767107313, 0.4553102917470035, 0.08714072569320641, 0.05446295355825401, 0.043570362846603206, 0.026142217707961924, 0.056641471700584166, 0.058819989842914325, 0.026142217707961924, 0.013071108853980962, 0.9936069165009247, 1.0022107184910023, 0.996979410951692, 0.9907016698791771, 0.9920797348190411, 0.07125767461634425, 0.4224562137968981, 0.4275460476980655, 0.08143734241867914, 1.0002982053856957, 0.014638284186586241, 0.5806519394012543, 0.30252453985611566, 0.048794280621954136, 0.048794280621954136, 0.05667685883657197, 0.9408358566870947, 1.0044155399073087, 0.046024184421061876, 0.9550018267370338, 0.0521555700612758, 0.6045304711647878, 0.19913944932487126, 0.11142326331272558, 0.035560615950869866, 0.9963665872655341, 0.12815393637839675, 0.8737768389436142, 0.04297190090776779, 0.9561247951978334, 0.9918141645363223, 0.9981835380900049, 1.0061087821730268, 1.004774513313762, 0.15215910876064637, 0.8477436059521726, 0.2612683072608531, 0.15274147193711413, 0.21906342685717684, 0.03617561177457966, 0.07637073596855706, 0.08240000459765368, 0.1728390340341028, 0.00200975620969887, 0.8785284797924177, 0.08424245696639622, 0.03610391012845552, 0.8379227704350747, 0.07066818545837979, 0.02624818317025535, 0.04845818431431757, 0.014133637091675958, 0.6761733765491118, 0.012369025180776434, 0.1484283021693172, 0.05772211751029003, 0.07009114269106646, 0.0371070755423293, 0.9976256197170638, 0.1419618947222482, 0.8183685695753132, 0.03340279875817605, 1.0062233801142197, 0.10581555524576598, 0.11016413970792074, 0.020293394156722242, 0.4710966500667664, 0.033339147543186544, 0.09566885816740486, 0.16379668140782952, 0.9204765638149822, 0.07950960351890213, 0.21815989735030966, 0.08180996150636612, 0.5687740180918788, 0.13245422339125942, 0.24497318316798383, 0.1344365029580399, 0.07767442393131195, 0.041824689809167974, 0.5018962777100157, 0.9931598527159983, 0.9994136332240954, 0.9863256465972531, 0.9872445965688428, 0.012113430632746537, 0.9993113515482497, 0.995490619724493, 0.9978237650347667, 0.9909885330795446, 0.9911941102606161, 0.9909884981439693, 1.000289277673109, 1.0002876749637792, 1.0053078409545695, 0.989135450603459, 0.99366459736876, 1.0049271708541931, 0.9965026067790872, 0.9899611389043167, 1.005131478660261, 0.2764933802077763, 0.3296651840938871, 0.05317180388611083, 0.3402995448711093, 0.24272954602313687, 0.31086415543314017, 0.16607811043688311, 0.2810552638162637, 0.9980602522487735, 0.3262692521068163, 0.13594552171117344, 0.14500855649191835, 0.3897104955720305, 1.0044152988853183, 0.45644159539917045, 0.1476722808644375, 0.3893178313698807, 0.11905370312879872, 0.04329225568319953, 0.11364217116839877, 0.6060915795647934, 0.11364217116839877, 0.9874992001607876, 0.9354331232949502, 0.03682807572027363, 0.022096845432164176, 0.1814712295680495, 0.8166205330562227, 1.0019561267169341, 0.06948264629899983, 0.6281231225429585, 0.03891028192743991, 0.05558611703919987, 0.06670334044703985, 0.08059986970683981, 0.016675835111759962, 0.0444688936313599, 0.9997546769163917, 0.22825153931504338, 0.087789053582709, 0.6759757125868593, 1.0025455549183127, 0.16794015112429447, 0.8257057430277811, 0.9998417972679507, 1.0048870801905545, 0.9150560027081927, 0.03783177272178574, 0.04965420169734379, 0.9102573927162392, 0.09057287489713824, 0.3508686274567239, 0.1814837728224434, 0.4688330797913121, 0.9897098527916551, 1.0056504034743308, 0.9901905579246175, 0.012002309793025667, 0.99577057150479, 0.1909822743211096, 0.8116746658647158, 0.9953041315747881, 0.9987711113102455, 0.15154979961806564, 0.6642395472621601, 0.10963176993647301, 0.051591421146575535, 0.025795710573287767, 0.03746866873903588, 0.7805972653965808, 0.18109856557200674, 0.8655429677872432, 0.03636735158769929, 0.10182858444555802, 0.09429076082434143, 0.07273858692163482, 0.6923635866244499, 0.140089130367593, 0.7353448044488046, 0.10914208600353316, 0.0804922884276057, 0.023192693275750794, 0.008185656450264986, 0.0422925583263691, 0.9964859089858347, 0.295784331283361, 0.02572037663333574, 0.6751598866250632, 0.20407339049000262, 0.10689558549476329, 0.6608090739676276, 0.024294451248809835, 0.2640142553651128, 0.7360397422300115, 0.7613186317293693, 0.21617689542932708, 0.02349748863362251, 1.0079224388839607, 0.17566409942580927, 0.14272708078347005, 0.6806983852750109, 0.3265296343948837, 0.048979445159232554, 0.300407263643293, 0.32326433805093485, 1.0083161289871463, 0.8269508802003135, 0.055593336484054685, 0.041695002363041016, 0.06254250354456152, 0.013898334121013671, 0.7951816264098898, 0.06855014020774912, 0.1302452663947233, 0.9984299429450058, 0.08695457332054815, 0.05491867788666199, 0.8603926202243712, 1.0022861375410748, 0.03279381770340133, 0.9619519859664392, 0.9997746808721818, 0.14888135191438287, 0.02977627038287657, 0.8138847237986263, 0.10264562852279453, 0.8981492495744522, 0.40232637998867415, 0.06705439666477903, 0.13410879332955805, 0.08621279571185875, 0.30653438475327555, 0.09822480942606673, 0.9013570747333183, 1.0048719847758125, 0.15397064632224566, 0.8294547721230654, 0.014900385127959258, 0.06356015481813905, 0.19068046445441716, 0.7415351395449556, 0.998887340560102, 0.24492414988125855, 0.12995975299821882, 0.5998142446071638, 0.019993808153572126, 0.23132183152262517, 0.763362044024663, 0.12446654673910973, 0.6721193523911926, 0.04623043164595504, 0.07467992804346583, 0.08179230214284354, 0.73986208587892, 0.02079933574760016, 0.24067802793651613, 0.3196229481383688, 0.24637602252332594, 0.059929302775944146, 0.37955225091431294, 0.014526752657909538, 0.7626545145402508, 0.05810701063163815, 0.1162140212632763, 0.050843634302683384, 0.8783623981289146, 0.11711498641718861, 0.9909189311666219, 0.25912761689103864, 0.08637587229701288, 0.657785489031098, 0.3514600853513605, 0.03635793986393384, 0.6120253210428863, 0.9965597409969508, 0.9972854099090256, 0.11283414487949131, 0.04198479809469444, 0.7819668645136839, 0.06297719714204165, 0.2608560306628952, 0.7378499153036179, 0.05174797661792395, 0.17116638419774846, 0.58515019714114, 0.079612271719883, 0.1114571804078362, 0.9860028728975861, 0.9823108234973101, 0.9966371278595165, 0.9981388028221546, 0.8005855257540567, 0.13070784093943785, 0.07080008050886216, 0.9906661493893473, 0.01955391344793695, 0.07604299674197704, 0.5909627175376501, 0.010863285248853861, 0.02824454164702004, 0.07604299674197704, 0.09559691018991398, 0.052143769194498535, 0.030417198696790812, 0.01955391344793695, 0.013517076614334319, 0.2649347016409527, 0.3217064234211568, 0.34603716132695855, 0.054068306457337276, 0.9974508459524561, 0.9926847100076435, 1.0071471720803982, 0.9978807581082437, 0.9982068125506691, 1.0012794792723774, 1.0003106366174646, 1.0032902522284919, 1.005586483609287, 0.2071618244329004, 0.5315850589221596, 0.11726141005635872, 0.14462240573617577, 0.9989641452968998, 0.059795291151503296, 0.7374752575352073, 0.2026395977912056, 0.9946258733803349, 0.9979647846108696, 1.003511429030955, 1.0067023863575144, 0.9973431836746994, 1.0007965069738676, 0.9988300695911924, 0.9959511222007184, 0.8021921478814763, 0.08079633144129977, 0.04328374898641059, 0.031741415923367766, 0.04328374898641059, 0.154157866237985, 0.08128323856184665, 0.23544110479983166, 0.38399323044734446, 0.014014351476180456, 0.039240184133305274, 0.061663146495194006, 0.03363444354283309, 0.03182443784852173, 0.08968705211856123, 0.40214516917677456, 0.4050382998902765, 0.06654200641054543, 1.0029407839071491, 1.0030129737849056, 0.9854560759347641, 1.0000485735387874, 0.4395846656888117, 0.27398770258686206, 0.28603111808518566, 1.0003307312497927, 1.0011345727462453, 0.9971836095920514, 0.638172762990415, 0.21136932277389542, 0.1463326080742353, 1.0067307492276831, 0.1062480770930013, 0.8854006424416775, 1.0059269631629981, 0.22084846246301082, 0.4097670267385984, 0.3113165073273767, 0.05587732182799069, 0.9910192640217248, 0.10901872115577255, 0.21258650625375647, 0.2180374423115451, 0.46332956491203336, 0.03238051949681634, 0.955225325156082, 0.27273235871083146, 0.06694339713811318, 0.11405171364271133, 0.48595947552111785, 0.05950524190054504, 0.20143626179282637, 0.5223686110898718, 0.11266773964683507, 0.03414173928691972, 0.061455130716455496, 0.06828347857383944, 0.41686221546999375, 0.19119244468924523, 0.05955174506714196, 0.10343197827450973, 0.22880407315270332, 0.9943835758354463, 0.9648001233153826, 0.03129081481022862, 0.9933148176782814, 0.17236493448585868, 0.6221953732660265, 0.07987643305442232, 0.12612068377014052, 0.9954834576471823, 0.987699843157619, 0.045831028465860124, 0.6359055199638092, 0.27498617079516074, 0.04010214990762761, 0.9929573121849848, 0.1949879338217748, 0.8004767809525491, 0.9950886751632753, 1.004805670526468, 1.0064395512984807, 0.9988857882371118, 1.002510628759463, 0.37128805444187984, 0.6300645772347052, 0.5517421828873686, 0.44563791694749005, 0.9941326470228201, 0.8808476143433461, 0.014845746309157519, 0.10392022416410264, 0.0020842668106335893, 0.6732181798346494, 0.22510081554842765, 0.022926934916969482, 0.0771178719934428, 0.9928999104377018, 0.5024057355925741, 0.03368083143637368, 0.41259018509557766, 0.05052124715456053, 0.14057484798120443, 0.8370593220698991, 0.019169297451982422, 1.0073681096371905, 0.4182420302797694, 0.5768855590065786, 0.9971762214164369, 0.0017774977208849143, 0.9993885539200844, 1.000829746432936, 0.9076200229900908, 0.09178180007764963, 1.0058994488282023, 0.9971004486921885, 0.9871069908283517, 1.0028833730617075, 0.9997479836750399, 0.8022984429322654, 0.12857346841863226, 0.06685820357768878, 0.9942856379208633, 0.22409066053881574, 0.20651492245734, 0.2943936128647187, 0.13181803561106809, 0.14060590465180595, 0.03957870221124306, 0.9657203339543307, 0.3659748162350006, 0.627385399260001, 0.14583372293753752, 0.8458355930377176, 0.9915928175618394, 0.07097691071030053, 0.3371403258739275, 0.11533747990423837, 0.4790941472945286, 0.18783124782066482, 0.6926277263387015, 0.11739452988791552, 1.0021287570549953, 0.9998416321443836, 0.9925236779167618, 0.9999100936667776, 0.12145930008253696, 0.8772060561516558, 0.7818059699560136, 0.19759931108778364, 0.02147818598780257, 0.9858531697055573, 0.015284545266752825, 0.03258380603807819, 0.08960546660471504, 0.8756897872733516, 0.06631348944067911, 0.9366780383495924, 1.0019553656594846, 1.0100879221660966, 0.9993201611508973, 0.9967134381507113, 0.03396807630300283, 0.9511061364840793, 1.001172838745348, 0.10816437011342801, 0.11992136686488758, 0.7712589868957476, 0.9952342196660202, 0.999101403340216, 0.9933830843448526, 0.11091602015289763, 0.8894209163204055, 0.19100990908351265, 0.8095181861158394, 0.9970510028126673, 1.0029735435033704, 0.9652158356799821, 0.03457938352124547, 0.999858818627729, 1.0052776892116082, 1.0022774831876071, 0.060832161399280715, 0.060832161399280715, 0.8820663402895704, 0.7571861238371568, 0.24037654724989105, 0.10487216276468017, 0.07519136198222351, 0.08508496224304239, 0.05540416146058575, 0.06134032161707708, 0.6193393763272621, 1.0021064060191218, 0.9926733569907985, 1.0100628260066788, 0.06146936936585169, 0.9392519639102138, 0.19235131154080365, 0.8102070395203548, 0.9945294364796552, 0.14613896172336904, 0.030087433295987745, 0.4083294518741194, 0.07951678799653904, 0.040832945187411936, 0.04298204756569678, 0.04942935470055129, 0.04728025232226645, 0.0042982047565696775, 0.1504371664799387, 0.15201665855222737, 0.80032299649555, 0.04023970373441313, 0.004471078192712571, 1.0082838555166624, 0.9468162591161319, 0.05191420741890018, 0.995610080789543, 1.0000387225897283, 0.9999409689266712, 1.0023462601245074, 0.24948448745822333, 0.11379994164761063, 0.38954595410143644, 0.24948448745822333, 0.9967052806897515, 0.9951347850522706, 0.018714592975456888, 0.9793970323822438, 0.9987017343617397, 0.9999053990989472, 0.2873985071022626, 0.5623014269392095, 0.13745145991847343, 0.16133754314796098, 0.8412600464143679, 1.0052599559007283, 0.20954616124193634, 0.7553408137790729, 0.034112165783571034, 0.9922040880923062, 0.9909939379580895, 0.00987701599293777, 1.0054984478262843, 1.000223192853219, 0.9995051470362998, 0.28222880591175686, 0.6882421758198983, 0.029708295359132303, 0.9609716233639343, 0.03462960804915079, 0.7417950781728374, 0.2596282773604931, 0.9962140406655788, 0.9873674015608108, 1.002235254676139, 0.12196615980287413, 0.11601659103200222, 0.6336290740978583, 0.07734439402133482, 0.05354611893784718, 0.9903071070778732, 1.0019993939282943, 1.0045986378131064, 0.039579515037318255, 0.934359265702406, 0.02685752806103739, 0.9897023799667107, 0.1877398888148726, 0.7610170493031443, 0.050287470218269445, 0.590534949649456, 0.041545172337147655, 0.04451268464694392, 0.017805073858777568, 0.30268625559921863, 0.9969142154447559, 0.9889899532710383, 1.001644489028032, 1.0037138861707673, 0.08951722768850574, 0.12853755770657235, 0.5279221120091364, 0.0757453465056587, 0.17673914184653697, 0.4370395929215122, 0.012188355181078029, 0.05571819511349956, 0.07138893748917131, 0.03830625914053095, 0.045271033529718396, 0.07313013108646817, 0.022635516764859198, 0.045271033529718396, 0.08357729267024934, 0.019153129570265475, 0.031341484751343504, 0.024376710362156058, 0.0034823871945937226, 0.033082678348640364, 1.004519996881334, 0.9931010386777057, 1.0053630922324461, 1.0044334023233032, 1.0007285278251912, 0.41807398781333543, 0.08551513387090952, 0.1520269046593947, 0.3420605354836381, 0.9982926503352804, 0.21873810011205297, 0.7792544816491888, 0.2509971866877504, 0.7529915600632512, 0.9870158598949046, 0.009311470376367025, 0.5503557808741545, 0.19509966835221348, 0.058238706970809996, 0.192187733003673, 0.9863256478069058, 1.006886329462248, 0.579270721894715, 0.11805043147617414, 0.057652536302317606, 0.06039789517385654, 0.18393904439310854, 1.0200871468575328, 0.9994074197182481, 0.9934692238804026, 1.0068470237577316, 0.12470950831924323, 0.066917297146911, 0.09125085974578773, 0.018250171949157547, 0.04258373454803427, 0.027375257923736317, 0.5383800725001476, 0.08516746909606854, 0.9957786372538047, 0.8066847425274509, 0.1925634546678431, 1.0026247548244862, 1.0070121772981628, 0.9851459297885226, 1.0041353566168683, 0.7221569149939069, 0.28119384300647704, 0.12536326678277313, 0.8691853163605604, 0.9996439157881754, 0.9960500886202823, 0.9823253394652495, 0.015190598032967774, 0.9975043609979396, 0.9971312023286907, 0.9883924843186686, 0.17764679173698955, 0.3552935834739791, 0.17615396155432575, 0.21795320666891155, 0.0731486789505251, 0.9998085562880179, 0.02112966665878497, 0.7037804356349148, 0.08614402560889256, 0.08776938458264526, 0.04551005126507532, 0.05526220510759146, 1.0007638686960458, 0.9980256129635885, 0.044339206018030757, 0.03547136481442461, 0.9222554851750397, 1.000600634587392, 1.0073433704369024, 0.9958132518593285, 0.2623267902751811, 0.6163099289597628, 0.07269296597986946, 0.04740845607382791, 0.9978947653989758, 0.9865677970499115, 0.9969651174725539, 1.0059886544905292, 0.985544363661127, 0.009954993572334616, 0.003318331190778205, 1.003079576398873, 0.9941765629297711, 0.5525300884878327, 0.4513626074971028, 0.18675468530758582, 0.02948758189067145, 0.5995808317769861, 0.18184008832580725, 0.10369326294997121, 0.8468283140914316, 0.051846631474985604, 0.057940632948633095, 0.18025974695130295, 0.1416326583188809, 0.5150278484322941, 0.09656772158105516, 1.0037109134620024, 0.9947944225999913, 1.0009199999995146, 0.5523543839604599, 0.4238998760626785, 0.02354999311459325, 1.0003234672280095, 0.9897417155680038, 0.9996842872874976, 0.22424657608342688, 0.7746699901063838, 0.3689995737517871, 0.37849588631157577, 0.06918742007846009, 0.037985250239154555, 0.146514536636739, 1.0034965964539757, 0.9942689223340099, 0.16943977708694505, 0.7667867878341411, 0.06605279445762265, 0.11556047251105125, 0.8832121827630346, 0.33177869338368526, 0.6856759663262829, 0.14261467860177438, 0.07260383637908513, 0.046673894815126155, 0.3137522929239036, 0.031115929876750773, 0.0985337779430441, 0.015557964938375387, 0.054452877284313854, 0.062231859753501546, 0.127056713663399, 0.03370892403314667, 0.9388676443980442, 0.06015627927493189, 0.9971836095920514, 0.2976799885717666, 0.7009883601851278, 0.9967362588864525, 0.9981587483649279, 1.0015730661239775, 0.23923617448751774, 0.36906556186184136, 0.11961808724375887, 0.011670057292074036, 0.05251525781433316, 0.053974014975842415, 0.07439661523697198, 0.01896384309962031, 0.0481389863298054, 0.01312881445358329, 0.9996964705730564, 1.006702309382281, 0.9975554972905207, 1.008903088314204, 1.0050852315149081, 1.002242189736846, 1.0016794704710206, 0.9873975292535576, 0.8733002105091081, 0.12365312715173213, 0.6753427229259563, 0.1445989285096938, 0.02300437499017856, 0.02464754463233417, 0.018074866063711725, 0.02300437499017856, 0.013145357137244892, 0.026290714274489785, 0.014788526779400504, 0.02136120534802295, 0.00985901785293367, 0.004929508926466835, 0.9951422907715295, 0.9934231009812656, 0.25035442257418555, 0.40461320820070396, 0.251197366757937, 0.008429441837514666, 0.026131269696295464, 0.03203187898255573, 0.0227594929612896, 0.004214720918757333, 1.0051714885844563, 0.10066522631685228, 0.27263498794147495, 0.4823542094349172, 0.14680345504540956, 1.0093839242782852, 1.0012398596284688, 0.9945456752487859, 0.0657800368091879, 0.23166012963235738, 0.010010005601398158, 0.081510045611385, 0.36036020165033367, 0.12155006801697764, 0.08294004641158474, 0.04576002560639158, 0.9515204680710588, 0.047313172445522265, 0.9994765203192217, 0.9968378346215613, 0.9964203839517609, 0.7545178617917843, 0.09587796033818254, 0.10004656730940786, 0.045854676683478604, 1.0027417052244723, 0.026193530176523917, 0.5238706035304783, 0.19887680319212603, 0.002910392241835991, 0.02231300718740926, 0.01940261494557327, 0.04947666811121184, 0.039775360638425204, 0.0213428764401306, 0.031044183912917234, 0.04947666811121184, 0.01358183046190129, 0.9887420945143806, 1.0027585258923435, 0.9951836820549252, 0.9979002887868583, 0.18364331450784743, 0.8227220489951566, 0.07052927673106552, 0.9309864528500648, 0.24397969455454446, 0.13773047273240413, 0.11805469091348926, 0.04918945454728719, 0.04918945454728719, 0.2085632872804977, 0.08263828363944248, 0.035416407274046775, 0.03344882909215529, 0.027546094546480826, 0.013773047273240413, 1.0105177194346184, 0.7550882366765932, 0.1724584244261355, 0.02330519249001831, 0.04661038498003662, 0.8719344829395609, 0.05565539252805708, 0.07420719003740944, 1.0006895177240271, 0.10395967232439779, 0.322633465834338, 0.05377224430572299, 0.0394329791575302, 0.046602611731626595, 0.322633465834338, 0.0430177954445784, 0.0681115094539158, 0.9942779134754699, 0.9161804157972152, 0.08427131183040423, 0.9081354470020466, 0.05560012940828857, 0.020850048528108213, 0.013900032352072142, 0.9987586235062159, 0.9940017082824016, 0.16287655395373302, 0.8404430184012625, 0.9138143414131011, 0.08702993727743821, 0.9874050082122249, 0.011825209679188322, 0.992633010221096, 0.9675590517476584, 0.03455568041955923, 1.0034970408787713, 1.0052892370002746, 0.8810121470783057, 0.04660644464066122, 0.03457897505597445, 0.022551505471287685, 0.015034336980858458, 0.9942016313412928, 0.08486426800920492, 0.8344986354238485, 0.008486426800920493, 0.0707202233410041, 0.9902328380759259, 0.9987795687082511, 0.8983705956734299, 0.10365814565462653, 0.9996141185417876, 1.0056483122520479, 1.0071471720803982, 0.0631385182641626, 0.16615399543200685, 0.12295395661968507, 0.5715697442861035, 0.07310775799008301, 1.005565518993627, 0.9569808791874023, 0.041607864312495746, 0.14442600506099798, 0.8505086964703215, 1.0016501391734525, 0.995734990838988, 0.9876923176572823, 0.25494482958914116, 0.33905034038143517, 0.1471846438865145, 0.06570743030647969, 0.1287865634007002, 0.05782253866970213, 0.007884891636777563, 0.918586806745261, 0.07654890056210509, 1.000024768547365, 0.10244271834383939, 0.20225870031988802, 0.07617535466593185, 0.08930903650488563, 0.29156773682477366, 0.23903300946895858, 0.10367337488049885, 0.21118650438620135, 0.3762959532699588, 0.3071803700162929, 0.1677225023826091, 0.2795375039710152, 0.5478935077831897, 0.4776450578295214, 0.5146457313233576, 0.0067273951806974845, 0.9975275937351978, 0.49600273448213134, 0.037911037030481376, 0.01579626542936724, 0.24642174069812894, 0.20535145058177412, 0.9906932864446703, 0.07759588619619, 0.85355474815809, 0.06897412106327999, 0.11871269753852016, 0.15964811048283747, 0.25379956025476724, 0.4584766249763538, 0.01228062388329519, 0.3743251598604364, 0.6125320797716233, 0.017014779993656203, 0.9938804276977742, 0.9937516982684333, 0.9961786994926031, 0.1596975795809306, 0.0145179617800846, 0.8246202291088053, 0.13832193376012314, 0.1086815193829539, 0.10374145032009235, 0.6520891162977234, 0.14686810764094294, 0.7441317453807775, 0.07832965740850291, 0.03426922511622002, 0.3288114853093346, 0.10346223460164407, 0.02551123592917251, 0.09779307106182795, 0.06944725336274739, 0.17857865150420757, 0.04251872654862085, 0.05102247185834502, 0.01700749061944834, 0.022676654159264453, 0.015590199734494312, 0.028345817699080567, 0.019842072389356397, 0.9995055398902716, 1.0009555422410963, 1.0115045500826954, 0.8049349998593335, 0.09359709300689924, 0.04367864340321964, 0.056158255804139544, 1.0063224107102982, 0.9927034916131248, 0.9957944120341026, 1.0059125464575562, 0.9969583883396367, 0.9905850056779987, 0.07060013779195233, 0.19835276808215177, 0.5782487476293238, 0.05379058117482082, 0.09749542837936273, 0.906971124388514, 0.09184517715326725, 0.00440781537709268, 0.08374849216476092, 0.05730159990220483, 0.044078153770926796, 0.4892675068572874, 0.21598295347754132, 0.09256412291894628, 0.013223446131278039, 0.9920194953303321, 1.0023463867459734, 0.9842867294855397, 0.14326280956907703, 0.05014198334917695, 0.6375195025823928, 0.16475223100443856, 0.9909151630544163, 0.9979505796919949, 0.7226968655867105, 0.278520454495634, 0.9941293541265582, 0.9993121434831653, 1.0029056182812992, 0.9865604022698693, 0.013272113035020664, 0.9945525667133345, 0.9973112342818268, 0.9884976190043477, 1.0067023851821246, 1.0000477911666668, 0.9934424107534022, 1.0072122057509345, 0.9964960422779158, 0.9697576472913422, 0.0057128580105528255, 0.024279646544849508, 0.999741473692919, 1.008924063414161, 0.9959118304110638, 0.214857831977733, 0.787812050585021, 0.044091659131984644, 0.10196196174271449, 0.0413359304362356, 0.686176445241511, 0.12676352000445584, 0.1070960109726264, 0.14457961481304563, 0.5461896559603946, 0.11780561206988904, 0.0803220082294698, 1.0029664974035464, 0.15366774975991182, 0.845172623679515, 0.1288659164618059, 0.8621743458516061, 0.009204708318700421, 0.9827785460909085, 0.9972528974256415, 0.43783956991817585, 0.14165397850293926, 0.41208430109945965, 1.0056505846187964, 0.7668956014231904, 0.05654529780078823, 0.053011216688238966, 0.07068162225098529, 0.014136324450197057, 0.035340811125492644, 0.1870685211930085, 0.17459728644680794, 0.3834904684456674, 0.16212605170060737, 0.062356173731002836, 0.028060278178951275, 0.003117808686550142, 0.24439318905042637, 0.7576188860563218, 0.9945428538285133, 0.999203403312814, 0.9962643413725419, 0.9970233982079227, 1.0020599946056694, 0.9907016698791771, 0.4579492135129236, 0.10252594332378887, 0.10936100621204146, 0.3280830186361244, 0.8393141761893187, 0.1302704929783865, 0.029776112680774056, 0.0018610070425483785, 0.9998606806514586, 0.9945088273592197, 0.05674622797231891, 0.9434060400398019, 0.1707965864400917, 0.20185051124738113, 0.621078496145788, 0.9914458911576586, 0.9973951504874092, 0.06349921915092273, 0.9355551621569282, 0.9975537774700826, 0.9884110127674536, 0.4354778005639697, 0.388483793308865, 0.1033868159612302, 0.05325987488911859, 0.018797602902041854, 0.989135450603459, 0.9633141344249242, 0.037443305578353944, 0.9996080551968429, 0.19550371502335634, 0.06015498923795579, 0.015038747309488948, 0.7143404972007251, 0.015038747309488948, 0.9973421872598088, 0.9990909208721754, 0.9937101251066885, 0.9984897049038042, 0.7367241719670763, 0.2662112554166746, 0.03990844361813038, 0.30786513648272007, 0.017103618693484448, 0.6328338916589246, 0.9812584859421878, 1.0076088081885377, 0.9568895341241251, 0.042215714740770224, 0.0035179762283975187, 1.0036422141937633, 0.7062220393134433, 0.13696427429109204, 0.11128347286151229, 0.025680801429579757, 0.02140066785798313, 0.39911250586326136, 0.5538704163000362, 0.004072576590441442, 0.04072576590441442, 1.0028291236153795, 0.9997748622091759, 0.7437368070194194, 0.08516070309382665, 0.08516070309382665, 0.08326824302507493, 0.001892460068751703, 0.9979982722431601, 0.4229187058118152, 0.07756587617509274, 0.22531040222288845, 0.21053594961810887, 0.022161678907169354, 0.018468065755974462, 0.011080839453584677, 0.009234032877987231, 0.10648545161948873, 0.8678564306988332, 0.021297090323897747, 1.0036673993160368, 1.0028770914495289, 0.1343512234561842, 0.8598478301195788, 0.040804962230305365, 0.010201240557576341, 0.2516306004202164, 0.2516306004202164, 0.3706450735919404, 0.051006202787881705, 0.020402481115152683, 0.031597649433749174, 0.07899412358437292, 0.8847341841449768, 1.007149703099313, 0.9999524257305628, 0.9978741441574306, 0.993247314761435, 0.9225028048750111, 0.07748055054068335, 0.0331782198034606, 0.8515743082888221, 0.11059406601153533, 1.0126230944123942, 0.11159972867649637, 0.892797829411971, 0.12466480190498383, 0.8726536133348868, 0.9971201709091835, 0.2611511109924266, 0.7344874996661999, 0.9884116519260826, 0.2520015970452006, 0.1307856389728256, 0.6188393648958089, 1.0057311694110536, 0.969931241628521, 0.030669762581139005, 0.9958659110171705, 0.9922690570019808, 0.16510448259993252, 0.1583193668766476, 0.14927254591226774, 0.033925578616424486, 0.018093641928759726, 0.19450665073416706, 0.04297239958080435, 0.04975751530408925, 0.1854598297697872, 0.9952181992374205, 1.0022517544481844, 0.23625787589204675, 0.5124978538581322, 0.0835989407002627, 0.14175472553522805, 0.025443155865297343, 0.28041562010067056, 0.28789336997002174, 0.33275986918612904, 0.09721074830156579, 0.9995486847840197, 0.9980719710054579, 0.027292177075679665, 0.973420982365908, 0.9975993662522594, 0.9865677980508896, 0.5891565315981294, 0.06530744571960397, 0.07642360669315358, 0.10977208961380241, 0.026400882312180327, 0.002779040243387403, 0.11533017010057722, 0.0013895201216937015, 0.012505681095243313, 0.9956326453542378, 0.9969721516674112, 0.9973798311232931, 0.1916830671195293, 0.6204478225184764, 0.0756643685998142, 0.11097440727972747, 1.0043146256870206, 0.9900956917182371, 0.6316032662431201, 0.37072365627313575, 0.5557657278424633, 0.0650896798374056, 0.011444339312071316, 0.05293006931832983, 0.05436061173233875, 0.0200275937961248, 0.045777357248285265, 0.05149952690432092, 0.07653401914947693, 0.03290247552220503, 0.01573596655409806, 0.011444339312071316, 0.007152712070044572, 0.24610351457236407, 0.003001262372833708, 0.44118556880655513, 0.0360151484740045, 0.13505680677751689, 0.027011361355503374, 0.11104670779484721, 0.9936236995754145, 0.9982632281068383, 1.0033152751400207, 0.05884641035442036, 0.9415425656707258, 1.0071753312706493, 0.386848473751009, 0.6060626088765808, 0.3068670798492175, 0.16611399776961777, 0.527507046352374, 0.046596856618183954, 0.6856394616675638, 0.272924445906506, 0.9887657470885877, 1.0029200834628151, 1.006716566321153, 0.28510120829638386, 0.590051234891883, 0.12450622387626889, 0.99964512098942, 1.0076089607731633, 0.14781322331725014, 0.7341390091423423, 0.07390661165862507, 0.04434396699517504, 1.0089877941117378, 0.1249035352936126, 0.42072769783111613, 0.03944322167166714, 0.015339030650092777, 0.2870590021660219, 0.11394708482926062, 0.03674588573174592, 0.6834734746104741, 0.05511882859761888, 0.06246800574396807, 0.13595977720745991, 0.025722120012222145, 0.6987439856464801, 0.2544339512951857, 0.049367781594588274, 0.4688194675133201, 0.5274219009524851, 0.055401363201266735, 0.7340680624167842, 0.20775511200475025, 1.0179120926108864, 0.9944861100833409, 0.985675551315691, 0.9975880030328214, 0.9888002463624139, 1.0005596129092444, 0.8365076790701806, 0.02260831565054542, 0.13564989390327253, 0.9932052638678712, 0.725153617781962, 0.27193260666823577, 0.9968727338930365, 0.7881718510647101, 0.062154491610807674, 0.0647993635942463, 0.055542311652211115, 0.01190192392547381, 0.006612179958596561, 0.007934615950315874, 0.0013224359917193122, 0.0013224359917193122, 0.2539127153566949, 0.12695635767834745, 0.08079040943167566, 0.5309084048367257, 0.5508658263765491, 0.44816202823854845, 0.3696077746428169, 0.08886744308351882, 0.056552009234966526, 0.07876887000584623, 0.058571723850501044, 0.03433514846408682, 0.09088715769905334, 0.04241400692622489, 0.18177431539810668, 0.9990371673762615, 0.9900374218457312, 0.9987186590507775, 0.99621893017766, 0.2978531965760927, 0.2621108129869616, 0.327638516233702, 0.11616274666467616, 0.9948001858832229, 1.0012528196865402, 1.0010429512554173, 0.4841330252000523, 0.515035133191545, 0.22621096453924328, 0.750827882300467, 0.024064996227579072, 0.01538246484207501, 0.2409919491925085, 0.26150190231527515, 0.12305971873660008, 0.3614879237887627, 0.8349996880715286, 0.03143528237445754, 0.027505872077650352, 0.02947057722605395, 0.03536469267126474, 0.03929410296807193, 1.0048879436413616, 0.6052984984508794, 0.10584454617720294, 0.2877648599192705, 0.734739333589279, 0.06279823364010931, 0.20723417101236072, 0.739432668751796, 0.07151186351564759, 0.0071511863515647586, 0.0386164062984497, 0.022883796325007227, 0.06293043989376988, 0.014302372703129517, 0.04433735537970151, 0.15037756786145007, 0.8421143800241204, 0.3370064675781462, 0.6579650081287616, 0.9714923249649693, 1.0000204478676358, 1.000953108637012, 0.8004466229859839, 0.1030878226572858, 0.016170638848201694, 0.0343626075524286, 0.042447926976529445, 0.0020213298560252117, 0.9788351940571453, 0.9990327225562643, 1.0122967431244858, 1.0043613287155702, 0.9896635345458673, 0.8850952835654846, 0.11518363279276854, 0.40409607167769995, 0.5969601058875112, 0.9921015286238655, 1.003093749111361, 0.9994141056312187, 0.16877793023004645, 0.8318340847052289, 0.9567514268572574, 0.011938074844921216, 0.011938074844921216, 0.01875983189916191, 1.001124471727037, 0.9913141716268468, 0.9973063162043595, 0.9971807549736227, 0.9879468825449065, 0.8882911383345957, 0.10832818760177997, 0.34105447862163313, 0.5096656815356989, 0.1532829117400598, 0.07822090613771683, 0.10056973646277878, 0.29053479422580536, 0.5307847202202214, 0.9982498056588089, 0.013903721105718409, 0.09037418718716966, 0.13208535050432488, 0.7577528002616534, 0.993423732020562, 0.4235286046721278, 0.10068380266107431, 0.08207918695196274, 0.14445936903545445, 0.06456896040221069, 0.031737285621425596, 0.07004090619900821, 0.08317357611132226, 1.0126231116909845, 1.0056504049857953, 0.9986172933171499, 1.0053958972485946, 0.030164217228178938, 0.2800963028330901, 0.5645017795559201, 0.049555499732008255, 0.07541054307044734, 0.9390951458638649, 0.06222919641266575, 0.9788351940571453, 1.0042886903809698, 0.16131362512174222, 0.526509748661242, 0.11650428481014717, 0.006721401046739259, 0.0336070052336963, 0.08289727957645086, 0.0716949444985521, 0.002240467015579753, 0.2521088706751927, 0.7563266120255782, 0.017113829030414515, 0.1925305765921633, 0.20108749110737056, 0.24815052094101048, 0.26312512134262317, 0.07915145926566713, 0.7694026216154475, 0.024260443023910505, 0.1490284357183074, 0.05545244119750973, 0.9994002632072272, 1.0006409677679489, 1.0054296095442454, 1.0045631925073175, 0.9973951504874092, 0.046140902435953854, 0.020186644815729814, 0.8737933398808762, 0.023070451217976927, 0.01441903201123558, 0.023070451217976927, 0.9987034404856954, 0.7330419896181857, 0.1762120167351408, 0.0881060083675704, 0.9974460202579956, 1.0002586293887752, 0.052940791986840714, 0.022688910851503163, 0.9226823746277952, 0.152414778682357, 0.8474261694739049, 0.9859307370616716, 0.010601405774856684, 0.2171722492032303, 0.7713359195838869, 0.014977396496774502, 0.03463442490710348, 0.12468392966557253, 0.020780654944262088, 0.7411766930120145, 0.06926884981420696, 0.9968130647907986, 0.9965010521295637, 1.001873181701666, 0.04167475144511241, 0.8404408208097669, 0.11807846242781848, 0.9937152848810917, 0.554198495050503, 0.17129771665197363, 0.040305345094582036, 0.11083969901010059, 0.06381679639975489, 0.02351145130517285, 0.013435115031527344, 0.020152672547291018, 0.9310209564984812, 0.06939286632286816, 0.9138005369445903, 0.08614954557053377, 0.3744558257959896, 0.21919365412448172, 0.15526217167150788, 0.25572592981189535, 0.8742041712416287, 0.12488631017737553, 0.10987475242355582, 0.5254879463735279, 0.09076609982815481, 0.11465191557240607, 0.1624235470609086, 0.9983790178341835, 0.9997588649916846, 0.030110907686808477, 0.12044363074723391, 0.849127596767999, 0.12306870800097063, 0.29888114800235727, 0.56846022267115, 0.005860414666712887, 0.2258108717300978, 0.7765690954620437, 0.08130026145547974, 0.9214029631621037, 1.0060885736979859, 0.9996039960756671, 0.997763662444633, 0.14762230747923488, 0.5103514058567834, 0.05904892299169395, 0.03163335160269319, 0.1180978459833879, 0.03585113181638561, 0.029524461495846976, 0.0674844834190788, 0.9959880383436107, 1.0105176239459293, 0.9932330394145894, 0.9982624068239646, 0.0827866485595588, 0.7805598292758401, 0.06307554175966384, 0.055191099039705864, 0.01971110679989495, 0.9923143424643398, 0.9971167472042294, 0.9990985318241544, 1.0053731188496065, 0.2566684492035428, 0.1839457219292057, 0.5603927807610685, 0.027250586690314497, 0.9673958275061646, 0.20196947355082775, 0.11186001612045846, 0.1615755788406622, 0.23614892292096784, 0.2858644856411716, 0.9979597191951783, 0.0206977389128155, 0.9831425983587363, 1.0018778674757645, 0.055027006037326, 0.7738172723998968, 0.137567515093315, 0.03439187877332875, 0.08926995567908355, 0.8849369519491761, 0.02716911694580804, 1.0013641215291809, 0.9932611986415883, 1.0035375878679444, 0.990305888482619, 1.0061858088369524, 0.1925194219959535, 0.09219239926566787, 0.28200028010674877, 0.062365446562069445, 0.1572693869826099, 0.2115002100800616, 0.997167703065121, 1.0093839132898794, 0.99198621496381, 1.0047500062943129, 1.0071744236580509, 0.9865678215962217, 0.07032786824681411, 0.4898699788226362, 0.16005652773412865, 0.08002826386706433, 0.08245336277212688, 0.043651780291126, 0.07275296715187667, 0.2503522583350314, 0.05751335664453424, 0.1522412381767083, 0.15900751542900643, 0.0744290497752796, 0.1488580995505592, 0.03383138626149073, 0.11164357466291941, 0.016915693130745365, 0.9965634420826529, 0.7597259784443544, 0.048177744974520036, 0.033353823443898485, 0.037059803826553876, 0.07041362727045236, 0.048177744974520036, 0.007411960765310775, 0.9967784489327978, 0.1964697196419134, 0.8014717134598689, 0.2229031426734439, 0.01938288197160382, 0.7559323968925489, 0.9853155223074215, 0.010210523547227165, 0.010210523547227165, 0.029605358886252067, 0.14802679443126032, 0.8289500488150578, 0.07581247523676286, 0.9249121978885069, 0.12586872313570105, 0.8750873132291598, 1.0008463059663173, 0.9996064560727078, 0.08751395564650241, 0.9119875377898672, 1.0034285201865631, 1.0067024626653196, 0.3082763506945589, 0.20551756712970592, 0.48524981127847233, 1.0061866288745758, 0.23137930824073058, 0.7712643608024352, 0.9946215939237453, 0.9994342044469117, 0.08925402668213868, 0.39134457852937726, 0.521792771372503, 0.9872198623441422, 0.6845400761548062, 0.04591427340062724, 0.2253973421485337, 0.03756622369142229, 0.004174024854602477, 0.9925296717338097, 0.042197264982731526, 0.43252196607299814, 0.13714111119387745, 0.3903247010902666, 0.9906501001417223, 0.03128889302055862, 0.4693333953083793, 0.2737778139298879, 0.058666674413547414, 0.16035557673036294, 0.6221129518153535, 0.033574349780511145, 0.029624426276921596, 0.027649464525126823, 0.07702350831999616, 0.035549311532305915, 0.11454778160409684, 0.05924885255384319, 1.00891861834602, 1.0004319216060398, 0.9950514697538884, 0.925437430537236, 0.07278721363776014, 0.9995272395175349, 0.29532412304445105, 0.7013947922305712, 0.995871295329718, 0.9918356804690545, 0.17903944157748905, 0.23617968888945362, 0.5866398724028364, 1.0070998835292442, 0.9937100865076611, 1.0126231431099273, 1.0012277319529892, 0.07718810445582003, 0.9205396161027426, 0.14299559386763833, 0.037630419438852196, 0.4327498235468002, 0.14299559386763833, 0.24459772635253926, 1.004053276747264, 0.17954697360419422, 0.12468539833624598, 0.12468539833624598, 0.014962247800349517, 0.05735528323467315, 0.037405619500873795, 0.06982382306829775, 0.10224202663572171, 0.20697776123816833, 0.047380451367773475, 0.029924495600699035, 0.5475567789816578, 0.1180361918762855, 0.3377146600904835, 1.0042539715592345, 0.1658402191463171, 0.01052953772357569, 0.18163452573168065, 0.6423018011381171, 0.9586936232290325, 0.009960453228353585, 0.03237147299214915, 0.026125307392551565, 0.9731677003725459, 0.9876923176572823, 0.9972515939743659, 0.03556525648555049, 0.9602619251098634, 1.0021452288176054, 0.9960044707680573, 0.04079716746805292, 0.1314575396192816, 0.02039858373402646, 0.4963655375279772, 0.07932782563232511, 0.0385306581642722, 0.12239150240415875, 0.07252829772098296, 0.04060545159662353, 0.24137685115770655, 0.09249019530342027, 0.0609081773949353, 0.5098240033798288, 0.006767575266103922, 0.03834959317458889, 0.011279292110173204, 0.45819659129512696, 0.11454914782378174, 0.06483914027761231, 0.07564566365721435, 0.030258265462885743, 0.04106478884248779, 0.1880335068050757, 0.028096960786965334, 0.9891376008002092, 0.9986172870983825, 0.19477391442102907, 0.1012824354989351, 0.1636100881136644, 0.44798000316836684, 0.08959600063367337, 1.0056165390835914, 0.9979426598552462, 0.1907584508294082, 0.8075441085111614, 1.0075580143826082, 0.048314423242231785, 0.15339829379408593, 0.02053362987794851, 0.10629173113290992, 0.0905895435791846, 0.0676401925391245, 0.2657293278322748, 0.05918516847173393, 0.10991531287607731, 0.07971879834968244, 0.10846067283767027, 0.0896886333080735, 0.037544079059193554, 0.03128673254932796, 0.10637489066771508, 0.11263223717758067, 0.006257346509865593, 0.1835488309560574, 0.28575215728386205, 0.03962986122914875, 0.32105337773582043, 0.008918149381550567, 0.12931316603248322, 0.08026334443395511, 0.07580426974317982, 0.3834804234066744, 0.21627577615425872, 0.3113060414341603, 0.47187442070020086, 0.9932296732225471, 0.30180740756767827, 0.6989224175251496, 0.9945864406570868, 0.5527750868884033, 0.07572261464224703, 0.20697514668880854, 0.07067444033276389, 0.047957655940089786, 0.04290948163060665, 0.12367728656000153, 0.005621694843636433, 0.8151457523272828, 0.05621694843636433, 0.4589220880944607, 0.1019826862432135, 0.4403797815047855, 0.31093522110945404, 0.6869499071022822, 0.0814299186680942, 0.5959189502528711, 0.29610879515670613, 0.029610879515670614, 0.07142213460530293, 0.018795298580342876, 0.5262683602496006, 0.011277179148205725, 0.3759059716068575, 0.999972253743325, 0.0327498730910398, 0.09006215100035944, 0.8760591051853146, 0.9771894364319647, 0.02299269262192858, 1.0002845097193822, 1.0048675085358116, 0.8373067432505389, 0.16623001520415112, 0.032765602112286275, 0.9665852623124451, 0.7140361658628411, 0.21739219901269669, 0.06892923383329407, 0.8211056952075487, 0.13895634841973903, 0.04421338358809878, 0.46833793860426925, 0.4948476332422468, 0.0375554007371348, 0.7143691472729855, 0.07408272638386516, 0.05291623313133226, 0.07408272638386516, 0.061735605319887636, 0.010583246626266451, 0.012347121063977527, 0.011654585744608873, 0.05438806680817474, 0.9362517214835794, 0.3445557799829989, 0.6583476510389443, 0.19522999355170909, 0.03632185926543425, 0.7491383473495814, 0.018160929632717124, 0.9924192458062396, 1.009922752623954, 1.0060290530962415, 0.0998231817507065, 0.8984086357563584, 0.9917331891059679, 0.25970964486666187, 0.06048032825661989, 0.4055739659561569, 0.11384532377716686, 0.1600949865616409, 1.004052710878729, 0.9990718561953184, 0.9958172859867866, 0.9969206649925142, 1.003858031916062, 0.08060277775205917, 0.27635238086420283, 0.6189141863104543, 0.025908035706019017, 0.12506819971166142, 0.25013639942332283, 0.6253409985583072, 0.9999327775853848, 0.2059686079370522, 0.726310354304342, 0.07046294482057049, 1.0009976392828928, 0.9878428358338506, 0.9929184084900976, 0.0356069662947019, 0.0356069662947019, 0.9257811236622494, 0.9791017992614844, 0.3422391277353535, 0.47446788163310366, 0.1827868068586547, 0.4042572098350855, 0.5967606430898881, 1.000977344926328, 0.1915157176302699, 0.6292659293566011, 0.17510008469053248, 0.1503807386247388, 0.4119124579721106, 0.07192122282052725, 0.2059562289860553, 0.03269146491842148, 0.09807439475526444, 0.02942231842657933, 1.0022935635854746, 0.9986833895131922, 0.26636755013913627, 0.7506721867557478, 0.9978947144678418, 0.047022519116998784, 0.9345725674503508, 0.017633444668874544, 0.992109836050631, 1.0008050557862258, 1.0030755205453687, 1.0008004146926865, 0.9257357198335443, 0.07807409685343145, 0.36232929119398133, 0.10735682702043892, 0.5233645317246397, 1.007364708526919, 1.0007187247996354, 1.0068821513570851, 0.12403942795666033, 0.8682759956966223, 0.9941954008587052, 0.9980543239119303, 0.2655634795757763, 0.5794112281653302, 0.15290018521029547, 1.003971804997142, 0.12366457443518629, 0.865652021046304, 0.23010593428373755, 0.11389081595861757, 0.20453860825221115, 0.21383581771822074, 0.0023243023665023995, 0.23475453901674234, 0.10088095625604186, 0.6743095497114378, 0.22300000856598726, 0.9910469565166333, 1.000990620138743, 0.9907261658261678, 0.014052853415974011, 0.9953839028108424, 0.9981240082012437, 0.9960189169756093, 0.6703601792174578, 0.1816339033075235, 0.14792864289994181, 0.9997281874277624, 1.000398637918385, 0.03823877208891694, 0.6773725341465288, 0.14385061881068756, 0.06737307463285366, 0.05462681726988135, 0.020029832998956495, 0.13804255780934685, 0.0856815876058015, 0.0952017640064461, 0.6806926126460896, 0.9862854932915553, 0.017152791187679223, 1.0075661262028406, 0.1281166114508822, 0.8618753861241166, 1.0044312575096108, 0.9954941063917943, 1.0079266319201334, 1.0034362420767895, 0.9956197199898755, 0.9995750733809762, 0.7021516765872193, 0.05716892565115147, 0.027851527881330204, 0.05716892565115147, 0.04690783643171403, 0.019056308550383823, 0.016124568773401696, 0.010261089219437443, 0.020522178438874886, 0.04251022676624083, 0.8739723808320342, 0.12789839719493185, 0.8623315529295428, 0.04820486941842165, 0.044634138350390415, 0.028565848544249865, 0.01606828980614055, 0.8003918513624867, 0.0938188250681303, 0.0938188250681303, 0.010261433991826751, 0.9540877326078818, 0.045776936665529684, 0.6754300449943844, 0.07049943230581117, 0.0568543808917832, 0.04320932947775523, 0.035249716152905584, 0.02615301521022027, 0.02615301521022027, 0.01705631426753496, 0.02046757712104195, 0.0284271904458916, 1.0009915120172486, 0.7264475722685376, 0.0835178336881399, 0.03624358820428713, 0.06303232731180371, 0.029940355473106757, 0.028364547290311667, 0.009454849096770555, 0.0015758081827950926, 0.01733389001074602, 0.003151616365590185, 0.0015758081827950926, 0.9997826896880159, 0.16855260102011008, 0.3977841384074598, 0.12809997677528365, 0.029215784176819082, 0.058431568353638164, 0.040452624244826416, 0.020226312122413208, 0.03595788821762348, 0.03820525623122495, 0.029215784176819082, 0.05618420034003669, 1.0011346492953843, 1.010517682156052, 1.0028770775046127, 0.3359473887603188, 0.07198872616292545, 0.11998121027154243, 0.47192609373473354, 0.09285142329779339, 0.90198525489285, 1.0004803898572683, 1.0055407184104832, 0.9983230819093287, 0.9996543519048214, 0.9932142583614776, 1.0017201823257305, 0.9777027606317856, 1.0061771700998057, 0.03277298582809769, 0.43333170150484723, 0.40055871567674955, 0.018207214348943162, 0.06554597165619538, 0.03277298582809769, 0.018207214348943162, 0.17360075908467731, 0.8246036056522171, 0.6624030629244629, 0.33645869862829864, 0.08922652354941583, 0.505616966780023, 0.40364379700926206, 0.08303157769649623, 0.9133473546614584, 0.9403001212726365, 0.06339101941163842, 0.9951910110546897, 0.524722904651718, 0.3997888797346423, 0.07496041495024543, 0.08185095220813905, 0.7748556809037164, 0.04911057132488343, 0.0927644125025576, 0.9994023732433015, 0.9926816365350619, 0.16106962619066742, 0.11785582404195177, 0.10999876910582165, 0.04124953841468312, 0.5696364828694336, 0.9910979672285117, 0.1534547211960414, 0.3482241750217862, 0.04131473262970345, 0.0629557830547862, 0.0314778915273931, 0.06885788771617242, 0.04328210085016552, 0.05902104661386207, 0.011804209322772414, 0.051151573732013796, 0.053118941952475865, 0.04131473262970345, 0.005902104661386207, 0.013771577543234484, 0.01573894576369655, 0.9912292263325492, 1.0018615357673857, 0.13764189078282785, 0.2025076094276088, 0.16928370475589172, 0.17402997685185131, 0.06644780934343414, 0.07277617213804691, 0.05537317445286178, 0.10758216750841718, 0.014238816287878743, 1.0007630559165, 0.9990222932593449, 1.0028861069448016, 1.0040732889665998, 1.0008397548180221, 0.10576774194254548, 0.8914709678014547, 0.14778865940331834, 0.8531436247373377, 0.12853557408335547, 0.2185104759417043, 0.0171380765444474, 0.6383933512806655, 0.9928256826932655, 0.1067234547957807, 0.8893621232981725, 0.033685248062482964, 0.14472180649066754, 0.08608452282634535, 0.23953954177765663, 0.04740886764349454, 0.10355094774763282, 0.04865646942358651, 0.03992325696294277, 0.02994244272220708, 0.0910749299467132, 0.019961628481471386, 0.013723619581011579, 0.05614208010413828, 0.04491366408331062, 0.47140207413829266, 0.11294008026229928, 0.08838788890092987, 0.04664916358660188, 0.13012661421525787, 0.10557442285388846, 0.044193944450464935, 0.4118738372529832, 0.4402037837307016, 0.14600818569285648, 0.9982629382399104, 1.005082569193586, 0.9947439467760639, 0.11195504538692978, 0.18659174231154965, 0.7090486207838886, 0.02369589289905597, 0.9715316088612947, 1.0030464006303916, 1.0039625474674043, 0.9914459322149632, 0.33764101076851905, 0.34999373067468437, 0.31293557095618835, 0.340319080278892, 0.5340773887588451, 0.01738856614563682, 0.012420404389740585, 0.09439507336202844, 0.09885337624897993, 0.9038022971335308, 0.99938654524161, 0.9847052091092074, 0.03645449966057482, 0.04166228532637122, 0.9165702771801668, 1.0020516652620788, 1.0010722011914444, 0.10164324996808416, 0.7943231756765096, 0.1054078147817169, 0.9030884231097731, 0.0837917093607006, 0.0139652848934501, 0.9961787560645278, 0.09177110917849686, 0.06714959208182697, 0.011191598680304496, 0.08953278944243596, 0.7386455129000966, 0.9973595342419631, 0.8532433813380611, 0.08834672613309624, 0.058122846140194896, 0.15186443712680756, 0.3772632332834377, 0.10230867343279668, 0.017584303246261927, 0.044760044626848544, 0.03357003347013641, 0.03836575253729875, 0.031971460447748956, 0.05914720182833558, 0.001598573022387448, 0.04156289858207365, 0.02557716835819917, 0.02557716835819917, 0.007992865111937239, 0.012788584179099585, 0.007992865111937239, 0.011190011156712136, 0.009591438134324688, 0.9969142137766008, 0.9942531566134111, 0.9491350897421003, 0.03483064549512294, 0.015238407404116288, 0.7930019988337221, 0.05427390106086311, 0.09045650176810519, 0.057289117786466615, 0.005025361209339177, 1.000284544131749, 0.03243471644559734, 0.25136905245337937, 0.7135637618031415, 0.6363205998895111, 0.33583587216390864, 0.02945928703192181, 0.523347973451547, 0.16767459343593252, 0.10670201400468433, 0.06605362771718554, 0.03556733800156144, 0.06605362771718554, 0.030486289715624098, 0.08936482210411703, 0.3053298088557332, 0.6032125492027899, 0.9985987919708488, 0.6766262006483849, 0.10901199899335089, 0.011277103344139746, 0.07893972340897823, 0.07142165451288507, 0.037590344480465825, 0.011277103344139746, 0.9955705267875722, 0.9176338591649379, 0.08196029214958289, 0.8721742571439863, 0.12316005360246492, 0.0025134704816829577, 1.0141593384312872, 0.9982653007686079, 0.9965307972788394, 0.16414138440497805, 0.44603637066570123, 0.2212340398501878, 0.13916334764769878, 0.03211461868793049, 0.046481809057740464, 0.9528770856836796, 0.10636507712123354, 0.10636507712123354, 0.06295075992889332, 0.1193893722789356, 0.17148655290974388, 0.16931583705012684, 0.26265661901365833, 0.1070667583594012, 0.04408631226563579, 0.8502360222658331, 0.08801330527258647, 0.9052797113751752, 0.7185468344907184, 0.2816703591203616, 0.9788351940571453, 0.9999021893008417, 1.003302787142634, 0.2930523291398887, 0.38385727619731896, 0.3219448122945256, 0.02429972349869541, 0.06479926266318776, 0.7694912441253546, 0.137698433159274, 0.3165070081151541, 0.0070334890692256465, 0.01875597085126839, 0.29071754819466006, 0.07267938704866501, 0.2063156793639523, 0.09377985425634196, 1.0009199902144035, 0.22223204760980184, 0.2666784571317622, 0.1538529560375551, 0.0427369322326542, 0.05812222783640971, 0.18804250182367846, 0.0427369322326542, 0.02564215933959252, 1.0001085301165777, 0.9883942008052955, 1.000482756113897, 0.5677935994933008, 0.045895556541028934, 0.2019404487805273, 0.043272953310112994, 0.02753733392461736, 0.0603198743110666, 0.05245206461831878, 1.0043613287155702, 0.9963087146411509, 0.9982421471117988, 0.9923992600887758, 0.1551589902726968, 0.027476071194123392, 0.0888931715103992, 0.3200154174374371, 0.04363846601419597, 0.058184621352261295, 0.03717350808616694, 0.06949829772631211, 0.008081197410036291, 0.04525470549620323, 0.017778634302079842, 0.058184621352261295, 0.024243592230108874, 0.025859831712116133, 0.021011113266094356, 0.9621546720129208, 0.038874936242946294, 0.9336185532257596, 0.06586558662175011, 0.9982041445756309, 0.9954020237034829, 0.9999006497524063, 1.0065738907899648], \"Term\": [\"10,000m\", \"1500m\", \"3d\", \"3g\", \"3g\", \"50_cent\", \"60m\", \"60m_hurdles\", \"800m\", \"about\", \"about\", \"about\", \"about\", \"about\", \"about\", \"about\", \"about\", \"about\", \"ac\", \"academy\", \"academy\", \"access\", \"access\", \"access\", \"access\", \"access\", \"access\", \"accounting\", \"accounting\", \"accounting\", \"actor\", \"actors\", \"actress\", \"actually\", \"ad\", \"addresses\", \"advice\", \"advice\", \"advice\", \"africa\", \"africa\", \"africa\", \"africa\", \"africa\", \"african\", \"african\", \"african\", \"african\", \"after\", \"after\", \"after\", \"after\", \"after\", \"after\", \"after\", \"after\", \"after\", \"after\", \"after\", \"after\", \"after\", \"again\", \"again\", \"again\", \"against\", \"against\", \"against\", \"against\", \"against\", \"against\", \"against\", \"against\", \"against\", \"against\", \"against\", \"agassi\", \"aguas_argentinas\", \"ahold\", \"aid\", \"aid\", \"airbus\", \"aircraft\", \"airline\", \"airlines\", \"album\", \"album\", \"albums\", \"albums\", \"alicia_keys\", \"all\", \"all\", \"all\", \"all\", \"all\", \"all_blacks\", \"all_blacks\", \"allegations\", \"allegations\", \"allow\", \"am\", \"am\", \"analysts\", \"analysts\", \"analysts\", \"analysts\", \"anfield\", \"angels\", \"animal\", \"animals\", \"anti-spam\", \"anti-spyware\", \"anti-virus\", \"any\", \"any\", \"any\", \"any\", \"any\", \"apologise\", \"apologise\", \"appearance\", \"apple\", \"apple\", \"approach\", \"aragones\", \"are\", \"are\", \"are\", \"are\", \"are\", \"are\", \"are\", \"are\", \"are\", \"are\", \"are\", \"areas\", \"areas\", \"areas\", \"argentina\", \"argentina\", \"argentina\", \"argentina\", \"argentina\", \"argentine\", \"argentine\", \"argentine\", \"argonaut\", \"arms\", \"arms\", \"arms\", \"arrest\", \"arrest\", \"arrested\", \"arsenal\", \"artist\", \"artist\", \"artist\", \"artists\", \"artists\", \"artists\", \"asimo\", \"ask_jeeves\", \"assets\", \"assets\", \"asylum\", \"athens\", \"athens\", \"attacks\", \"attacks\", \"attacks\", \"attacks\", \"attacks\", \"audience\", \"audience\", \"audience\", \"audience\", \"audience\", \"audit\", \"australia\", \"australia\", \"australia\", \"australia\", \"australia\", \"australia\", \"australian_open\", \"authority\", \"authority\", \"aviation\", \"aviator\", \"award\", \"award\", \"award\", \"awards\", \"awards\", \"awards\", \"awards\", \"axa\", \"back\", \"back\", \"back\", \"back\", \"back\", \"back\", \"back\", \"back\", \"back\", \"back\", \"badly\", \"bafta\", \"baikal\", \"bail\", \"balco\", \"ball\", \"ball\", \"ball\", \"ball\", \"ballet\", \"ban\", \"ban\", \"ban\", \"ban\", \"ban\", \"band\", \"band\", \"band_aid\", \"bands\", \"bands\", \"bank\", \"bank\", \"bank\", \"bank\", \"bank\", \"bankruptcy\", \"banned\", \"banned\", \"barcelona\", \"barcelona\", \"barclays\", \"barrel\", \"bat\", \"bates\", \"bath\", \"bath\", \"bbc\", \"bbc\", \"bbc\", \"bbc\", \"bbc\", \"bbc\", \"bbc\", \"bbc\", \"became\", \"became\", \"became\", \"because\", \"because\", \"because\", \"because\", \"because\", \"behind\", \"behind\", \"behind\", \"behind\", \"behind\", \"behind\", \"bellamy\", \"benefit\", \"benefit\", \"benefit\", \"benitez\", \"best\", \"best\", \"best\", \"best\", \"best\", \"best\", \"best\", \"better\", \"better\", \"bid\", \"bid\", \"bid\", \"bid\", \"bill\", \"bill\", \"bill\", \"bill\", \"bill\", \"binge_drinking\", \"bittorrent\", \"bjorn\", \"blair\", \"blair\", \"blairs\", \"blinkx\", \"blog\", \"blogger\", \"bloggers\", \"blogging\", \"bloglines\", \"blogs\", \"blu-ray\", \"blue_gene/l\", \"bmw\", \"bnp\", \"boeing\", \"bogdanovic\", \"bollywood\", \"bond\", \"bond\", \"bond\", \"bond\", \"book\", \"book\", \"book\", \"book\", \"bookmakers\", \"books\", \"books\", \"books\", \"books\", \"boom\", \"born\", \"born\", \"born\", \"boss\", \"boss\", \"boss\", \"boss\", \"boss\", \"bot_nets\", \"box_office\", \"box_office\", \"box_office\", \"brain\", \"brain\", \"brit\", \"britain\", \"britain\", \"britain\", \"britain\", \"britain\", \"britain\", \"britain\", \"britain\", \"broadband\", \"broadcast\", \"broadcast\", \"broadcast\", \"broadcaster\", \"broadcasters\", \"broadcasters\", \"broadcasting\", \"broadcasts\", \"brown\", \"brown\", \"brown\", \"bt\", \"bt\", \"budget\", \"budget\", \"budget\", \"buenos_aires\", \"burton\", \"cabinet\", \"cabinet\", \"cabir\", \"cafes\", \"cafes\", \"cairn\", \"call\", \"came\", \"came\", \"came\", \"came\", \"came\", \"camera\", \"camera\", \"camera\", \"cameras\", \"cameras\", \"cameras\", \"campaign\", \"campaign\", \"campaign\", \"campaign\", \"can\", \"can\", \"can\", \"can\", \"can\", \"can\", \"capt\", \"captain\", \"captain\", \"captain\", \"car\", \"car\", \"car\", \"car\", \"cardiff\", \"cardiff\", \"career\", \"career\", \"career\", \"carmaker\", \"cars\", \"cars\", \"cars\", \"case\", \"case\", \"case\", \"case\", \"casinos\", \"category\", \"category\", \"category\", \"category\", \"category\", \"ceremony\", \"ceremony\", \"ceremony\", \"ces\", \"champion\", \"champion\", \"champion\", \"champions_league\", \"championships\", \"championships\", \"chancellor\", \"channel\", \"channel\", \"channel\", \"channels\", \"channels\", \"character\", \"character\", \"character\", \"character\", \"character\", \"charges\", \"charges\", \"charlton\", \"chart\", \"chart\", \"chart\", \"charts\", \"charts\", \"charts\", \"chelsea\", \"chief_executive\", \"chief_executive\", \"chief_executive\", \"chief_executive\", \"child\", \"child\", \"children\", \"children\", \"children\", \"children\", \"children\", \"china\", \"china\", \"china\", \"chinese\", \"chinese\", \"chinese\", \"chinese\", \"chip\", \"chip\", \"chip\", \"chip\", \"chip\", \"cinema\", \"cinema\", \"circulating\", \"civil\", \"civil\", \"civil\", \"clarke\", \"clarke\", \"clarke\", \"clijsters\", \"climate\", \"club\", \"club\", \"club\", \"club\", \"clubs\", \"clubs\", \"coach\", \"coach\", \"coach\", \"coach\", \"coach\", \"coal\", \"cocoa\", \"comeback\", \"comedy\", \"commission\", \"commission\", \"commission\", \"commodore\", \"company\", \"company\", \"company\", \"company\", \"company\", \"company\", \"company\", \"company\", \"company\", \"company\", \"computer\", \"computer\", \"computer\", \"computer\", \"computer\", \"concert\", \"concerts\", \"confess\", \"connected\", \"conservative\", \"conservatives\", \"console\", \"consoles\", \"constituency\", \"consumers\", \"consumers\", \"consumers\", \"consumers\", \"conte\", \"content\", \"content\", \"content\", \"contest\", \"convention_on_human_rights\", \"copyright\", \"corinthians\", \"corp\", \"corry\", \"couldnt\", \"councils\", \"countries\", \"countries\", \"countries\", \"countries\", \"countries\", \"country\", \"country\", \"country\", \"country\", \"country\", \"country\", \"country\", \"country\", \"court\", \"court\", \"court\", \"court\", \"court\", \"creditors\", \"crude\", \"csi\", \"cueto\", \"cup\", \"cup\", \"cup\", \"currency\", \"cursor\", \"custody\", \"customers\", \"customers\", \"customers\", \"dallaglio\", \"dancers\", \"dancers\", \"danish\", \"data\", \"data\", \"data\", \"data\", \"davenport\", \"davis\", \"davis\", \"davis\", \"davis\", \"dawson\", \"dawson\", \"deal\", \"deal\", \"deal\", \"deal\", \"deal\", \"december\", \"december\", \"december\", \"december\", \"december\", \"december\", \"decision\", \"decision\", \"decision\", \"decision\", \"decision\", \"defender\", \"deficit\", \"deficit\", \"deficits\", \"demand\", \"demand\", \"demand\", \"demand\", \"democracy\", \"denial\", \"department\", \"department\", \"department\", \"department\", \"departments\", \"desktop\", \"desktop\", \"detained\", \"detainees\", \"detention\", \"determined\", \"deutsche_boerse\", \"device\", \"device\", \"devices\", \"devices\", \"dicaprio\", \"didnt\", \"didnt\", \"didnt\", \"digital\", \"digital\", \"digital\", \"digital\", \"digital\", \"directive\", \"director\", \"director\", \"director\", \"director\", \"disaster\", \"disaster\", \"disaster\", \"disciplinary\", \"disney\", \"disney\", \"do\", \"do\", \"does\", \"dollar\", \"domain\", \"domain\", \"domains\", \"donations\", \"donofrio\", \"doping\", \"downing_street\", \"download\", \"download\", \"download\", \"downloading\", \"dr\", \"dr\", \"dr\", \"dr\", \"dr\", \"drama\", \"drama\", \"drink\", \"drink\", \"drinking\", \"drinking\", \"drinks\", \"drug\", \"drug\", \"drug\", \"drug\", \"drugs\", \"drugs\", \"drugs\", \"drunk\", \"ds\", \"dtt\", \"dubai\", \"dublin\", \"dublin\", \"dvd\", \"dvd\", \"dvd\", \"dvds\", \"dvds\", \"e-mail\", \"e-mail\", \"e-mail\", \"e-mails\", \"e-mails\", \"ea\", \"eastenders\", \"easterby\", \"easy\", \"ebay\", \"ebay\", \"ebbers\", \"economic\", \"economic\", \"economic\", \"economies\", \"economist\", \"economists\", \"economy\", \"economy\", \"education\", \"education\", \"egypt\", \"elected\", \"election\", \"election\", \"elections\", \"elvis\", \"embargo\", \"engine\", \"engine\", \"engine\", \"engines\", \"engines\", \"england\", \"england\", \"england\", \"england\", \"england\", \"england\", \"entered\", \"ericsson\", \"espn\", \"eu\", \"eu\", \"euro\", \"euro\", \"euronext\", \"european\", \"european\", \"european\", \"european\", \"european\", \"european\", \"european\", \"european\", \"european\", \"european\", \"euros\", \"euros\", \"euros\", \"euros\", \"eurozone\", \"even\", \"even\", \"everton\", \"every\", \"everyone\", \"eviction\", \"evidence\", \"evidence\", \"evidence\", \"evidence\", \"example\", \"exeem\", \"exports\", \"exports\", \"fa\", \"fact\", \"factory\", \"factory\", \"factory\", \"fake\", \"fake\", \"falconer\", \"fall\", \"fall\", \"fall\", \"fannie_mae\", \"far\", \"far\", \"federal_reserve\", \"federer\", \"feels\", \"fell\", \"fell\", \"fell\", \"ferguson\", \"ferguson\", \"festival\", \"festival\", \"fiat\", \"fictional\", \"fightstar\", \"figures\", \"figures\", \"figures\", \"figures\", \"figures\", \"fiji\", \"file-sharing\", \"filing\", \"film\", \"film\", \"film\", \"film_festival\", \"films\", \"films\", \"films\", \"final\", \"final\", \"final\", \"final\", \"final\", \"finally\", \"finals\", \"finding_neverland\", \"firefox\", \"firm\", \"firm\", \"firm\", \"firm\", \"firm\", \"first\", \"first\", \"first\", \"first\", \"first\", \"first\", \"first\", \"first\", \"first\", \"first\", \"first\", \"first\", \"first\", \"first\", \"first\", \"fiscal\", \"flanker\", \"flights\", \"fly-half\", \"flying\", \"food\", \"food\", \"food\", \"food\", \"foot\", \"football\", \"football\", \"ford\", \"ford\", \"forecast\", \"forecast\", \"foreign\", \"foreign\", \"foreign\", \"foreign\", \"forensic\", \"formats\", \"former\", \"former\", \"former\", \"former\", \"former\", \"formula\", \"forsyth\", \"fosters\", \"four-kings\", \"france\", \"france\", \"france\", \"france\", \"france\", \"france\", \"france\", \"france\", \"franz_ferdinand\", \"fraud\", \"fraud\", \"freeview\", \"freeze\", \"fsa\", \"full-back\", \"fund\", \"fund\", \"funding\", \"funding\", \"g7\", \"g8\", \"gadget\", \"gadget\", \"gadgets\", \"gallas\", \"gallery\", \"game\", \"game\", \"game\", \"game\", \"game\", \"gamers\", \"games\", \"games\", \"games\", \"games\", \"games\", \"games\", \"gaming\", \"gartner\", \"gas\", \"gas\", \"gas\", \"gazprom\", \"gb\", \"gdp\", \"general\", \"general\", \"general\", \"general\", \"gerrard\", \"ghosn\", \"gig\", \"giggs\", \"give\", \"give\", \"give\", \"glazer\", \"gloucester\", \"gm\", \"gm\", \"goal\", \"goal\", \"goal\", \"goal\", \"goals\", \"goals\", \"goals\", \"gold\", \"gold\", \"gold\", \"gold\", \"gold\", \"golden_globe\", \"goldsmith\", \"goldsmiths\", \"good\", \"good\", \"good\", \"google\", \"googles\", \"gordon_brown\", \"got\", \"got\", \"government\", \"government\", \"government\", \"government\", \"government\", \"graham\", \"grammy\", \"great\", \"great\", \"great\", \"greek\", \"greek\", \"grid\", \"grid\", \"group\", \"group\", \"group\", \"group\", \"group\", \"group\", \"group\", \"group\", \"group\", \"group\", \"group\", \"growth\", \"growth\", \"guantanamo_bay\", \"guilty\", \"guilty\", \"guitarist\", \"guys\", \"hackers\", \"had\", \"had\", \"had\", \"had\", \"had\", \"had\", \"had\", \"had\", \"had\", \"had\", \"hague\", \"hailey\", \"half-life_2\", \"halifax\", \"halo_2\", \"handset\", \"handsets\", \"hanks\", \"happened\", \"happened\", \"have\", \"have\", \"have\", \"have\", \"have\", \"have\", \"have\", \"have\", \"have\", \"have\", \"have\", \"have\", \"hd\", \"hdtv\", \"he\", \"he\", \"he\", \"he\", \"he\", \"he\", \"he\", \"he\", \"header\", \"health\", \"health\", \"health\", \"health\", \"hendrix\", \"henman\", \"henson\", \"her\", \"her\", \"her\", \"her\", \"her\", \"her\", \"her\", \"her\", \"hes\", \"hes\", \"high-definition\", \"high-speed\", \"hilary_swank\", \"him\", \"him\", \"him\", \"him\", \"hip-hop\", \"his\", \"his\", \"his\", \"his\", \"his\", \"his\", \"his\", \"his\", \"his\", \"his\", \"his\", \"his\", \"hiv\", \"hiv/aids\", \"hockney\", \"hodgson\", \"hollywood\", \"hollywood\", \"holmes\", \"holmes\", \"home\", \"home\", \"home\", \"home\", \"home\", \"home\", \"home\", \"home\", \"home\", \"home\", \"home\", \"honda\", \"hope\", \"hope\", \"hope\", \"hope\", \"host\", \"host\", \"host\", \"hours\", \"house\", \"house\", \"house\", \"house\", \"house\", \"house\", \"house\", \"house\", \"house_of_lords\", \"how\", \"how\", \"howard\", \"howard\", \"howard\", \"howard\", \"hp\", \"hsdpa\", \"human_rights\", \"human_rights\", \"hunt\", \"hunt\", \"hunting\", \"hunting\", \"hunts\", \"iaaf\", \"iaaf\", \"ibm\", \"ie\", \"if\", \"if\", \"if\", \"if\", \"if\", \"ill\", \"im\", \"im\", \"im\", \"im\", \"imelda_staunton\", \"imf\", \"immigration\", \"immigration\", \"important\", \"imports\", \"inbev\", \"increase\", \"increase\", \"increase\", \"increase\", \"increase\", \"indecency\", \"index\", \"index\", \"indias\", \"indias\", \"indonesia\", \"indoor\", \"indoor_championships\", \"industry\", \"industry\", \"industry\", \"industry\", \"industry\", \"industry\", \"industry\", \"infected\", \"infected\", \"inflation\", \"information\", \"information\", \"information\", \"information\", \"information\", \"information\", \"injury\", \"injury\", \"injury\", \"injury\", \"ink\", \"ink\", \"ink\", \"interest\", \"interest\", \"interest\", \"internal\", \"internet\", \"internet\", \"internet\", \"internet\", \"internet\", \"internet_explorer\", \"investigation\", \"investigation\", \"investigation\", \"investment\", \"investment\", \"investment\", \"investment\", \"investment\", \"investors\", \"investors\", \"investors\", \"iptv\", \"ira\", \"iran\", \"ireland\", \"ireland\", \"ireland\", \"irish\", \"irish\", \"irish\", \"irish\", \"italy\", \"italy\", \"italy\", \"italy\", \"its\", \"its\", \"its\", \"its\", \"its\", \"its\", \"its\", \"its\", \"its\", \"its\", \"its\", \"its\", \"its\", \"itunes\", \"ive\", \"jamelia\", \"james\", \"james\", \"james\", \"james\", \"jamie\", \"jamie_foxx\", \"japans\", \"jazz\", \"jewish\", \"jobless\", \"jobs\", \"jobs\", \"jobs\", \"jobs\", \"jobs\", \"johnson\", \"johnson\", \"jones\", \"jones\", \"jones\", \"jones\", \"jones\", \"jones\", \"jones\", \"jones\", \"joss_stone\", \"journals\", \"joy_division\", \"judge\", \"judge\", \"judge\", \"judge\", \"juninho\", \"junk_mail\", \"just\", \"just\", \"kapranos\", \"keep\", \"keeper\", \"kennedy\", \"kennedy\", \"kenteris\", \"khan\", \"khodorkovsky\", \"kiely\", \"kilroy-silk\", \"knee\", \"kok\", \"la_fenice\", \"labour\", \"labour\", \"labour\", \"labours\", \"lansdowne_road\", \"laptop\", \"laser\", \"laser\", \"law\", \"law\", \"law\", \"law\", \"law\", \"laws\", \"laws\", \"laws\", \"laws\", \"laws\", \"lawsuit\", \"lawyers\", \"lawyers\", \"leader\", \"leader\", \"leader\", \"leaflet\", \"leave\", \"lee\", \"lee\", \"lee\", \"lees\", \"left\", \"left\", \"left\", \"left\", \"left\", \"left\", \"legal\", \"legal\", \"legal\", \"legal\", \"legal\", \"legal\", \"legal\", \"legislation\", \"legislation\", \"leinster\", \"lending\", \"lewis-francis\", \"lib_dem\", \"lib_dems\", \"liberties\", \"light\", \"light\", \"light\", \"light\", \"like\", \"like\", \"like\", \"like\", \"likes\", \"linux\", \"lions\", \"lions\", \"lisbon\", \"lisbon\", \"lisbon\", \"listings\", \"literary\", \"liverpool\", \"liverpool\", \"livingstone\", \"lleyton_hewitt\", \"local\", \"local\", \"local\", \"local\", \"local\", \"lomu\", \"look\", \"look\", \"looks\", \"lord\", \"lord\", \"lord\", \"lord\", \"lord\", \"lords\", \"lse\", \"lycos\", \"mac_mini\", \"machine\", \"machine\", \"machines\", \"machines\", \"machines\", \"machines\", \"macrovision\", \"magic_roundabout\", \"making\", \"making\", \"making\", \"malicious\", \"man\", \"man\", \"man\", \"man\", \"man\", \"manager\", \"manager\", \"manager\", \"manager\", \"manchester_united\", \"manifesto\", \"many\", \"many\", \"many\", \"many\", \"many\", \"marathon\", \"market\", \"market\", \"market\", \"market\", \"market\", \"market\", \"market\", \"market\", \"markets\", \"markets\", \"markets\", \"marsh\", \"martyn\", \"marvel\", \"marvel\", \"match\", \"match\", \"match\", \"match\", \"match\", \"match\", \"match\", \"mcconnell\", \"mcconnell\", \"mcconnell\", \"mcdonalds\", \"mci\", \"mcilroy\", \"mcletchie\", \"me\", \"me\", \"medal\", \"medal\", \"medal\", \"melcher\", \"mens\", \"mens\", \"mercedes\", \"mercedes\", \"merger\", \"messages\", \"messages\", \"metal_slug\", \"microsoft\", \"microsoft\", \"microsoft\", \"midfielder\", \"might\", \"might\", \"milburn\", \"millan\", \"million\", \"million\", \"million\", \"million\", \"million\", \"million\", \"million\", \"million\", \"million\", \"million_dollar_baby\", \"minimum_wage\", \"minister\", \"minister\", \"minister\", \"minister\", \"minister\", \"minutes\", \"minutes\", \"minutes\", \"minutes\", \"mirza\", \"mitsubishi\", \"mobile\", \"mobile\", \"mobiles\", \"mock\", \"more\", \"more\", \"more\", \"more\", \"more\", \"more\", \"more\", \"more\", \"more\", \"mortgage\", \"motorola\", \"mourinho\", \"movie\", \"movie\", \"movie\", \"movie\", \"moya\", \"mpc\", \"mps\", \"mps\", \"mr\", \"mr\", \"mr\", \"mr\", \"mr\", \"mr\", \"mr\", \"mr\", \"mr\", \"mr\", \"mr\", \"mr\", \"mr\", \"ms\", \"ms\", \"ms\", \"ms\", \"ms\", \"ms\", \"ms\", \"mubanga\", \"multimedia\", \"munster\", \"murder\", \"murder\", \"murphy\", \"murray\", \"murray\", \"music\", \"music\", \"music\", \"musical\", \"musical\", \"musical\", \"musician\", \"musicians\", \"muslims\", \"my\", \"my\", \"my\", \"nadal\", \"nair\", \"nations\", \"nations\", \"nations\", \"nations\", \"nbc\", \"net\", \"net\", \"net\", \"net\", \"net\", \"net\", \"network\", \"network\", \"network\", \"network\", \"network\", \"network\", \"networks\", \"networks\", \"networks\", \"new_zealand\", \"new_zealand\", \"newcastle\", \"newcastle\", \"newcastle\", \"newry\", \"nick\", \"nielsen\", \"nintendo\", \"nissan\", \"nokia\", \"nominated\", \"nominated\", \"nominated\", \"nomination\", \"nominations\", \"nominations\", \"nominees\", \"not\", \"not\", \"not\", \"not\", \"not\", \"not\", \"not\", \"not\", \"not\", \"novel\", \"novel\", \"novel\", \"novel\", \"nuclear\", \"nuclear\", \"number\", \"number\", \"number\", \"number\", \"number\", \"number\", \"number\", \"number\", \"number\", \"oconnell\", \"oconnor\", \"odriscoll\", \"ofcom\", \"offer\", \"offer\", \"offer\", \"offer\", \"officers\", \"often\", \"ogara\", \"oil\", \"oil\", \"olympic\", \"olympic\", \"olympic\", \"online\", \"online\", \"online\", \"online\", \"online\", \"only\", \"only\", \"only\", \"only\", \"only\", \"only\", \"ons\", \"open\", \"open\", \"open\", \"operators\", \"operators\", \"operators\", \"or\", \"or\", \"or\", \"or\", \"or\", \"or\", \"or\", \"or\", \"orchestra\", \"orchestra\", \"orders\", \"orders\", \"originals\", \"oscar\", \"oscars\", \"our\", \"our\", \"our\", \"our\", \"our\", \"our\", \"ozzy\", \"p2p\", \"painkiller\", \"palestinian\", \"paniccia\", \"parents\", \"parents\", \"parliament\", \"parliament\", \"parmalat\", \"parry\", \"particularly\", \"parties\", \"parties\", \"party\", \"party\", \"party\", \"party\", \"partys\", \"patches\", \"patent\", \"patents\", \"paterson\", \"payments\", \"payments\", \"pc\", \"pc\", \"pc\", \"pcs\", \"pcs\", \"pcs\", \"pcs\", \"peer-to-peer\", \"penalty\", \"penalty\", \"penalty\", \"penalty\", \"pensioners\", \"people\", \"people\", \"people\", \"people\", \"people\", \"people\", \"people\", \"people\", \"pernod\", \"pesos\", \"phil\", \"phishing\", \"phone\", \"phone\", \"phone\", \"phone\", \"phone\", \"phones\", \"phones\", \"phytopharm\", \"planes\", \"plans\", \"plans\", \"plans\", \"plans\", \"plans\", \"plans\", \"plans\", \"plans\", \"plant\", \"plant\", \"players\", \"players\", \"players\", \"players\", \"players\", \"players\", \"playing\", \"playing\", \"playing\", \"playing\", \"playstation\", \"pleaded_guilty\", \"pleased\", \"plenty\", \"poetry\", \"police\", \"police\", \"police\", \"police\", \"police\", \"police\", \"policing\", \"political\", \"political\", \"political\", \"politics\", \"poorest\", \"pop\", \"pop\", \"pop\", \"portable\", \"portable\", \"potential\", \"potential\", \"poverty\", \"poverty\", \"poverty\", \"powers\", \"powers\", \"powers\", \"powers\", \"powers\", \"ppi\", \"pre-election\", \"premiere\", \"premiership\", \"premiership\", \"premiership\", \"prescott\", \"president\", \"president\", \"president\", \"president\", \"president\", \"president\", \"president\", \"president\", \"prices\", \"prices\", \"prime_minister\", \"prime_minister\", \"prince\", \"prince\", \"prince\", \"prince\", \"prison\", \"prison\", \"prize\", \"prize\", \"prize\", \"prize\", \"prize\", \"probably\", \"processor\", \"program\", \"program\", \"program\", \"programmes\", \"programmes\", \"programmes\", \"programmes\", \"programs\", \"programs\", \"prosecutors\", \"prosecutors\", \"proud\", \"providers\", \"psp\", \"public\", \"public\", \"public\", \"public\", \"public\", \"public\", \"public\", \"public\", \"pulled\", \"pulses\", \"pupils\", \"qantas\", \"quarter\", \"quarter\", \"quarter\", \"quarter\", \"quarter\", \"queries\", \"quite\", \"qwest\", \"r&b\", \"race\", \"race\", \"race\", \"radcliffe\", \"radcliffe\", \"radio\", \"radio\", \"radio\", \"radio\", \"radio\", \"rangers\", \"rap\", \"rap\", \"rapper\", \"rate\", \"rate\", \"rate\", \"rate\", \"rates\", \"rates\", \"rates\", \"rather\", \"real_madrid\", \"rebate\", \"recession\", \"reconstruction\", \"record\", \"record\", \"record\", \"record\", \"record\", \"record\", \"referendum\", \"reggae\", \"regiments\", \"register\", \"regulation\", \"renault\", \"report\", \"report\", \"report\", \"report\", \"report\", \"report\", \"report\", \"research\", \"research\", \"research\", \"research\", \"research\", \"research\", \"research\", \"research\", \"research\", \"response\", \"return\", \"return\", \"return\", \"return\", \"return\", \"return\", \"return\", \"ripguard\", \"rise\", \"rise\", \"robbie\", \"robbie\", \"robbie\", \"robinson\", \"robinson\", \"robinson\", \"robot\", \"robot\", \"robot\", \"robots\", \"robots\", \"rock\", \"rock\", \"roddick\", \"roger_federer\", \"rose\", \"rose\", \"rosneft\", \"rossignol\", \"round\", \"round\", \"round\", \"rover\", \"rovers\", \"rovers\", \"ruddock\", \"rugby\", \"ruling\", \"ruling\", \"ruling\", \"rusedski\", \"russian\", \"russian\", \"russian\", \"russian\", \"russian\", \"saab\", \"safety\", \"safety\", \"safety\", \"safety\", \"safin\", \"sale\", \"sale\", \"sale\", \"sale\", \"sale\", \"sales\", \"sales\", \"sales\", \"sales\", \"sales\", \"sales\", \"sales\", \"sales\", \"samoa\", \"santander\", \"satellite\", \"saturday\", \"saturday\", \"scams\", \"schools\", \"schools\", \"scissor_sisters\", \"scorsese\", \"scotland\", \"scotland\", \"scotland\", \"screenplay\", \"screensaver\", \"sculthorpe\", \"seafarers\", \"search\", \"search\", \"season\", \"season\", \"season\", \"season\", \"season\", \"sec\", \"second\", \"second\", \"second\", \"second\", \"second\", \"second\", \"second\", \"second\", \"second\", \"second\", \"second\", \"secretary\", \"secretary\", \"secretary\", \"sectors\", \"security\", \"security\", \"security\", \"security\", \"see\", \"see\", \"see\", \"seed\", \"seed\", \"semi-finals\", \"sentences\", \"serena\", \"serena\", \"serious\", \"server\", \"service\", \"service\", \"service\", \"service\", \"service\", \"service\", \"service\", \"service\", \"services\", \"services\", \"services\", \"services\", \"services\", \"services\", \"services\", \"services\", \"set\", \"set\", \"set\", \"set\", \"set\", \"set\", \"set\", \"set\", \"sevens\", \"shape\", \"share\", \"share\", \"share\", \"share\", \"share\", \"shareholder\", \"shareholders\", \"shares\", \"shares\", \"sharply\", \"she\", \"she\", \"she\", \"she\", \"she\", \"she\", \"she\", \"she\", \"she\", \"she\", \"show\", \"show\", \"show\", \"show\", \"show\", \"show\", \"show\", \"show\", \"show\", \"show\", \"shows\", \"shows\", \"shows\", \"shows\", \"shows\", \"shows\", \"side\", \"side\", \"side\", \"sideways\", \"silicon\", \"silicon\", \"simonetti\", \"since\", \"since\", \"since\", \"since\", \"since\", \"since\", \"singer\", \"singer\", \"singer\", \"singer\", \"single\", \"single\", \"single\", \"singles\", \"singles\", \"site\", \"site\", \"site\", \"site\", \"sites\", \"sites\", \"sites\", \"sites\", \"sites\", \"six_nations\", \"sky\", \"sky\", \"sky\", \"slowdown\", \"slowdown\", \"slowing\", \"sluggish\", \"smith\", \"smith\", \"smoking\", \"smoking\", \"so\", \"so\", \"so\", \"social\", \"social\", \"social\", \"software\", \"software\", \"software\", \"some\", \"some\", \"some\", \"some\", \"some\", \"some\", \"some\", \"song\", \"song\", \"song\", \"songs\", \"songs\", \"sony\", \"sony\", \"sony\", \"sony\", \"sonys\", \"sophos\", \"sotherton\", \"soul\", \"soul\", \"souness\", \"south\", \"south\", \"south\", \"south\", \"south\", \"southampton\", \"spam\", \"spammers\", \"speaker\", \"speeds\", \"spending\", \"spending\", \"spending\", \"spending\", \"spider-man\", \"spider-man\", \"spider-man\", \"spyware\", \"squad\", \"squad\", \"squad\", \"sri_lanka\", \"st_helens\", \"stade_toulousain\", \"stake\", \"stake\", \"stake\", \"stan_lee\", \"star\", \"star\", \"star\", \"star_wars\", \"star_wars\", \"starring\", \"stars\", \"stars\", \"stars\", \"state\", \"state\", \"state\", \"state\", \"state\", \"state\", \"state\", \"states\", \"step\", \"stern\", \"stern\", \"striker\", \"students\", \"students\", \"students\", \"subs_not_used\", \"subscription\", \"subsidies\", \"successful\", \"sullivan\", \"sullivan\", \"sun\", \"sun\", \"sun\", \"sundance\", \"super_bowl\", \"superhero\", \"supporting\", \"supporting\", \"surplus\", \"suspects\", \"suspended\", \"suspended\", \"suspended\", \"swank\", \"swansea\", \"swansea\", \"system\", \"system\", \"system\", \"system\", \"system\", \"system\", \"systems\", \"systems\", \"systems\", \"t-mobile\", \"tags\", \"takeover\", \"takeover\", \"takings\", \"talk\", \"tate\", \"tax\", \"tax\", \"tax\", \"teachers\", \"technologies\", \"technology\", \"technology\", \"technology\", \"technology\", \"technology\", \"technology\", \"television\", \"television\", \"television\", \"television\", \"tennis\", \"tennis\", \"terrestrial\", \"terror\", \"terror\", \"terror_suspects\", \"terrorists\", \"tevez\", \"thailand\", \"thank\", \"thanou\", \"that\", \"that\", \"that\", \"that\", \"that\", \"that\", \"that\", \"that\", \"that\", \"that\", \"theatre\", \"theatre\", \"them\", \"them\", \"them\", \"them\", \"them\", \"there\", \"there\", \"there\", \"there\", \"these\", \"these\", \"they\", \"they\", \"they\", \"they\", \"they\", \"they\", \"they\", \"they\", \"they\", \"they\", \"things\", \"this\", \"this\", \"this\", \"this\", \"this\", \"this\", \"this\", \"this\", \"this\", \"this\", \"this\", \"thousands\", \"three\", \"three\", \"three\", \"three\", \"three\", \"three\", \"three\", \"three\", \"three\", \"three\", \"three\", \"three_gorges_dam\", \"tiananmen_square\", \"tindall\", \"title\", \"title\", \"title\", \"title\", \"tobacco\", \"tobacco\", \"tony_blair\", \"top_of_the_pops\", \"tories\", \"tory\", \"tourism\", \"towards\", \"toyota\", \"tps\", \"trade\", \"trade\", \"trade\", \"trade\", \"trade\", \"trade\", \"trade\", \"traffic\", \"traffic\", \"treatment\", \"treatment\", \"trial\", \"trial\", \"trial\", \"tribunal\", \"tribunal\", \"trillion\", \"trillion\", \"trip\", \"try\", \"try\", \"try\", \"tsunami\", \"tsunami\", \"tsunami\", \"tsunami\", \"turkey\", \"turkish\", \"tv\", \"tv\", \"tv\", \"tv\", \"tv\", \"twickenham\", \"two\", \"two\", \"two\", \"two\", \"two\", \"two\", \"two\", \"two\", \"two\", \"two\", \"two\", \"two\", \"two\", \"two\", \"two\", \"u2\", \"uefa\", \"uk\", \"uk\", \"uk\", \"uk\", \"uk\", \"uk\", \"uk\", \"uk\", \"uk\", \"ukip\", \"ukips\", \"ukraine\", \"ulster\", \"umaga\", \"unemployment\", \"unemployment\", \"unit\", \"unit\", \"united\", \"united\", \"united\", \"united\", \"uniteds\", \"urban\", \"urban\", \"us\", \"us\", \"us\", \"us\", \"us\", \"us\", \"us\", \"us\", \"us\", \"us\", \"us\", \"us\", \"us\", \"us\", \"used\", \"used\", \"used\", \"used\", \"used\", \"used\", \"used\", \"users\", \"users\", \"users\", \"usher\", \"uwb\", \"van\", \"vehicle\", \"vehicle\", \"vehicle\", \"vehicles\", \"vehicles\", \"vera_drake\", \"veritas\", \"verizon\", \"victory\", \"victory\", \"victory\", \"video\", \"video\", \"video\", \"video\", \"video\", \"viewers\", \"viewers\", \"viewing\", \"viotti\", \"virus\", \"virus\", \"virus\", \"viruses\", \"vodafone\", \"vote\", \"vote\", \"vote\", \"voters\", \"voters\", \"voters\", \"wages\", \"wales\", \"wales\", \"wales\", \"wales\", \"wales\", \"walk\", \"want\", \"want\", \"want\", \"was\", \"was\", \"was\", \"was\", \"was\", \"was\", \"was\", \"was\", \"was\", \"was\", \"was\", \"was\", \"was\", \"was\", \"was\", \"was\", \"was\", \"was\", \"wasnt\", \"wasps\", \"way\", \"way\", \"way\", \"we\", \"we\", \"we\", \"we\", \"we\", \"weaker\", \"web\", \"web\", \"web\", \"websites\", \"websites\", \"websites\", \"week\", \"week\", \"week\", \"week\", \"week\", \"week\", \"week\", \"welsh\", \"welsh\", \"welsh\", \"wenger\", \"went\", \"went\", \"went\", \"went\", \"went\", \"went\", \"went\", \"westminster\", \"what\", \"what\", \"where\", \"where\", \"where\", \"whitbread\", \"why\", \"wi-fi\", \"williams\", \"williams\", \"williams\", \"williams\", \"williams\", \"wimbledon\", \"wimbledon\", \"win\", \"win\", \"win\", \"win\", \"win\", \"win\", \"win\", \"windows\", \"windows\", \"windows\", \"wing\", \"wing\", \"wireless\", \"wireless\", \"with-profits\", \"within\", \"wmc\", \"women\", \"women\", \"women\", \"womens\", \"womens\", \"womens\", \"womens\", \"won\", \"won\", \"won\", \"won\", \"won\", \"won\", \"won\", \"woolf\", \"world\", \"world\", \"world\", \"world\", \"world\", \"world\", \"world\", \"world\", \"worldcom\", \"worldcoms\", \"worm\", \"would\", \"would\", \"would\", \"would\", \"would\", \"would\", \"would\", \"wto\", \"xbox\", \"yahoo\", \"yangtze\", \"year\", \"year\", \"year\", \"year\", \"year\", \"year\", \"year\", \"year\", \"year\", \"year\", \"year\", \"year\", \"year\", \"year\", \"year\", \"yen\", \"yen\", \"you\", \"you\", \"yugansk\", \"yuganskneftegas\", \"yukos\", \"yushchenko\"]}, \"R\": 30, \"lambda.step\": 0.01, \"plot.opts\": {\"xlab\": \"PC1\", \"ylab\": \"PC2\"}, \"topic.order\": [8, 6, 19, 2, 12, 20, 14, 9, 4, 7, 15, 10, 11, 13, 5, 17, 1, 18, 16, 3]};\n",
       "\n",
       "function LDAvis_load_lib(url, callback){\n",
       "  var s = document.createElement('script');\n",
       "  s.src = url;\n",
       "  s.async = true;\n",
       "  s.onreadystatechange = s.onload = callback;\n",
       "  s.onerror = function(){console.warn(\"failed to load library \" + url);};\n",
       "  document.getElementsByTagName(\"head\")[0].appendChild(s);\n",
       "}\n",
       "\n",
       "if(typeof(LDAvis) !== \"undefined\"){\n",
       "   // already loaded: just create the visualization\n",
       "   !function(LDAvis){\n",
       "       new LDAvis(\"#\" + \"ldavis_el872028364181546967146703654\", ldavis_el872028364181546967146703654_data);\n",
       "   }(LDAvis);\n",
       "}else if(typeof define === \"function\" && define.amd){\n",
       "   // require.js is available: use it to load d3/LDAvis\n",
       "   require.config({paths: {d3: \"https://cdnjs.cloudflare.com/ajax/libs/d3/3.5.5/d3.min\"}});\n",
       "   require([\"d3\"], function(d3){\n",
       "      window.d3 = d3;\n",
       "      LDAvis_load_lib(\"https://cdn.rawgit.com/bmabey/pyLDAvis/files/ldavis.v1.0.0.js\", function(){\n",
       "        new LDAvis(\"#\" + \"ldavis_el872028364181546967146703654\", ldavis_el872028364181546967146703654_data);\n",
       "      });\n",
       "    });\n",
       "}else{\n",
       "    // require.js not available: dynamically load d3 & LDAvis\n",
       "    LDAvis_load_lib(\"https://cdnjs.cloudflare.com/ajax/libs/d3/3.5.5/d3.min.js\", function(){\n",
       "         LDAvis_load_lib(\"https://cdn.rawgit.com/bmabey/pyLDAvis/files/ldavis.v1.0.0.js\", function(){\n",
       "                 new LDAvis(\"#\" + \"ldavis_el872028364181546967146703654\", ldavis_el872028364181546967146703654_data);\n",
       "            })\n",
       "         });\n",
       "}\n",
       "</script>"
      ],
      "text/plain": [
       "<IPython.core.display.HTML object>"
      ]
     },
     "execution_count": 33,
     "metadata": {},
     "output_type": "execute_result"
    }
   ],
   "source": [
    "pyLDAvis.display(vis_data, local=False)"
   ]
  },
  {
   "cell_type": "markdown",
   "metadata": {},
   "source": [
    "Iterate\n",
    "--------\n",
    "- See what the main topics might be, slice initial corpus and re-run LDA to get sub-topics"
   ]
  }
 ],
 "metadata": {
  "kernelspec": {
   "display_name": "Python 3",
   "language": "python",
   "name": "python3"
  },
  "language_info": {
   "codemirror_mode": {
    "name": "ipython",
    "version": 3
   },
   "file_extension": ".py",
   "mimetype": "text/x-python",
   "name": "python",
   "nbconvert_exporter": "python",
   "pygments_lexer": "ipython3",
   "version": "3.7.6"
  }
 },
 "nbformat": 4,
 "nbformat_minor": 4
}
