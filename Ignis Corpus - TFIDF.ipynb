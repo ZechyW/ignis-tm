{
 "cells": [
  {
   "cell_type": "markdown",
   "metadata": {},
   "source": [
    "Ignis: Text Pre-processing\n",
    "=========================="
   ]
  },
  {
   "cell_type": "code",
   "execution_count": 1,
   "metadata": {
    "ExecuteTime": {
     "end_time": "2020-06-19T09:15:52.859363Z",
     "start_time": "2020-06-19T09:15:51.334958Z"
    }
   },
   "outputs": [],
   "source": [
    "import collections\n",
    "import glob\n",
    "import pathlib\n",
    "import re\n",
    "import threading\n",
    "import time\n",
    "\n",
    "import gensim\n",
    "import tqdm"
   ]
  },
  {
   "cell_type": "code",
   "execution_count": 2,
   "metadata": {
    "ExecuteTime": {
     "end_time": "2020-06-19T09:15:52.926330Z",
     "start_time": "2020-06-19T09:15:52.862328Z"
    }
   },
   "outputs": [
    {
     "data": {
      "text/html": [
       "\n",
       "<style>\n",
       "   .jupyter-widgets-output-area .output_scroll {\n",
       "        height: unset !important;\n",
       "        border-radius: unset !important;\n",
       "        -webkit-box-shadow: unset !important;\n",
       "        box-shadow: unset !important;\n",
       "    }\n",
       "    .jupyter-widgets-output-area  {\n",
       "        height: auto !important;\n",
       "    }\n",
       "</style>\n"
      ],
      "text/plain": [
       "<IPython.core.display.HTML object>"
      ]
     },
     "metadata": {},
     "output_type": "display_data"
    }
   ],
   "source": [
    "# Jupyter notebook setup\n",
    "import ipywidgets as widgets\n",
    "from IPython.core.display import display, HTML\n",
    "\n",
    "# Custom styling:\n",
    "# - Prevent vertical scrollbars in output subareas\n",
    "style = \"\"\"\n",
    "<style>\n",
    "   .jupyter-widgets-output-area .output_scroll {\n",
    "        height: unset !important;\n",
    "        border-radius: unset !important;\n",
    "        -webkit-box-shadow: unset !important;\n",
    "        box-shadow: unset !important;\n",
    "    }\n",
    "    .jupyter-widgets-output-area  {\n",
    "        height: auto !important;\n",
    "    }\n",
    "</style>\n",
    "\"\"\"\n",
    "display(HTML(style))"
   ]
  },
  {
   "cell_type": "markdown",
   "metadata": {},
   "source": [
    "Data ingestion\n",
    "--------------------\n",
    "\n",
    "We will track the contents and filename of each document, then tokenise them all and feed them into an `ignis.Corpus` that will be saved.\n",
    "\n",
    "We should, by all accounts, actually be preparing a separate text cleaning function and running the raw text through it immediately, but this way we can see the effects of each step of the data cleaning."
   ]
  },
  {
   "cell_type": "code",
   "execution_count": 3,
   "metadata": {
    "ExecuteTime": {
     "end_time": "2020-06-19T09:15:52.946362Z",
     "start_time": "2020-06-19T09:15:52.928381Z"
    }
   },
   "outputs": [],
   "source": [
    "raw_files = glob.glob(\"./data/bbc/*/*.txt\")"
   ]
  },
  {
   "cell_type": "code",
   "execution_count": 4,
   "metadata": {
    "ExecuteTime": {
     "end_time": "2020-06-19T09:15:52.953344Z",
     "start_time": "2020-06-19T09:15:52.948365Z"
    }
   },
   "outputs": [],
   "source": [
    "RawDocument = collections.namedtuple(\"RawDocument\", \"metadata, tokens, human_readable\")"
   ]
  },
  {
   "cell_type": "code",
   "execution_count": 5,
   "metadata": {
    "ExecuteTime": {
     "end_time": "2020-06-19T09:15:53.260349Z",
     "start_time": "2020-06-19T09:15:52.957331Z"
    }
   },
   "outputs": [
    {
     "name": "stderr",
     "output_type": "stream",
     "text": [
      "100%|██████████| 2225/2225 [00:00<00:00, 7889.08it/s]\n"
     ]
    }
   ],
   "source": [
    "raw_docs = []\n",
    "for file in tqdm.tqdm(raw_files):\n",
    "    filename = pathlib.Path(file).as_posix()\n",
    "\n",
    "    metadata = {\"filename\": filename}\n",
    "\n",
    "    with open(file) as f:\n",
    "        tokens = f.read()\n",
    "\n",
    "    raw_doc = RawDocument(metadata, tokens, human_readable=tokens)\n",
    "\n",
    "    raw_docs.append(raw_doc)"
   ]
  },
  {
   "cell_type": "code",
   "execution_count": 6,
   "metadata": {
    "ExecuteTime": {
     "end_time": "2020-06-19T09:15:53.297366Z",
     "start_time": "2020-06-19T09:15:53.264332Z"
    },
    "scrolled": false
   },
   "outputs": [
    {
     "data": {
      "application/vnd.jupyter.widget-view+json": {
       "model_id": "a375017d32d5478a98498b7ee9185fd9",
       "version_major": 2,
       "version_minor": 0
      },
      "text/plain": [
       "interactive(children=(IntSlider(value=0, description='doc_id', max=2224), Output()), _dom_classes=('widget-int…"
      ]
     },
     "metadata": {},
     "output_type": "display_data"
    },
    {
     "data": {
      "text/plain": [
       "<function __main__.show_raw_doc(doc_id=0)>"
      ]
     },
     "execution_count": 6,
     "metadata": {},
     "output_type": "execute_result"
    }
   ],
   "source": [
    "def show_raw_doc(doc_id=0):\n",
    "    print(raw_docs[doc_id].metadata)\n",
    "    print()\n",
    "    print(raw_docs[doc_id].tokens)\n",
    "\n",
    "\n",
    "widgets.interact(show_raw_doc, doc_id=(0, len(raw_docs) - 1))"
   ]
  },
  {
   "cell_type": "markdown",
   "metadata": {},
   "source": [
    "Text pre-processing and tokenisation\n",
    "------"
   ]
  },
  {
   "cell_type": "markdown",
   "metadata": {},
   "source": [
    "### Naive tokenisation (by whitespace)\n",
    "- Case folding\n",
    "- Strip leading/trailing non-informative punctuation from tokens\n",
    "- Remove single apostrophes\n",
    "- Remove single brackets within words\n",
    "  - For dealing with cases like \"the recipient(s)\" -- Which will get tokenised to \"the recipient(s\" otherwise"
   ]
  },
  {
   "cell_type": "code",
   "execution_count": 7,
   "metadata": {
    "ExecuteTime": {
     "end_time": "2020-06-19T09:15:53.309333Z",
     "start_time": "2020-06-19T09:15:53.299366Z"
    }
   },
   "outputs": [],
   "source": [
    "strip_punctuation = \"'\\\"()[]<>?!,.:;/|_\"\n",
    "bracket_pairs = [\n",
    "    [\"(\", \")\"],\n",
    "    [\"[\", \"]\"],\n",
    "]\n",
    "\n",
    "\n",
    "def naive_tokenise(doc):\n",
    "    \"\"\"\n",
    "    Naively tokenises a document.\n",
    "    \n",
    "    Returns\n",
    "    -------\n",
    "    str\n",
    "        The document as a string of space-separated tokens\n",
    "    \"\"\"\n",
    "    new_tokens = []\n",
    "\n",
    "    tokens = doc.split()\n",
    "    for token in tokens:\n",
    "        token = token.casefold()\n",
    "        token = token.strip(strip_punctuation)\n",
    "        token = token.replace(\"'\", \"\")\n",
    "\n",
    "        for bracket_pair in bracket_pairs:\n",
    "            if bracket_pair[0] in token and bracket_pair[1] not in token:\n",
    "                token = token.replace(bracket_pair[0], \"\")\n",
    "            if bracket_pair[1] in token and bracket_pair[0] not in token:\n",
    "                token = token.replace(bracket_pair[1], \"\")\n",
    "\n",
    "        if token != \"\":\n",
    "            new_tokens.append(token)\n",
    "\n",
    "    return new_tokens"
   ]
  },
  {
   "cell_type": "code",
   "execution_count": 8,
   "metadata": {
    "ExecuteTime": {
     "end_time": "2020-06-19T09:15:53.321338Z",
     "start_time": "2020-06-19T09:15:53.312353Z"
    }
   },
   "outputs": [
    {
     "data": {
      "text/plain": [
       "['this',\n",
       " 'is',\n",
       " 'a',\n",
       " 't(e)st',\n",
       " 'of',\n",
       " 'the',\n",
       " 'systems',\n",
       " 'tokenisation',\n",
       " 'operations']"
      ]
     },
     "execution_count": 8,
     "metadata": {},
     "output_type": "execute_result"
    }
   ],
   "source": [
    "naive_tokenise('This is a t(e)st of the system\\'s \"tokenisation\" operation(s).')"
   ]
  },
  {
   "cell_type": "code",
   "execution_count": 9,
   "metadata": {
    "ExecuteTime": {
     "end_time": "2020-06-19T09:15:54.023416Z",
     "start_time": "2020-06-19T09:15:53.323333Z"
    }
   },
   "outputs": [],
   "source": [
    "naive_docs = []\n",
    "for raw_doc in raw_docs:\n",
    "    naive_docs.append(raw_doc._replace(tokens=naive_tokenise(raw_doc.tokens)))"
   ]
  },
  {
   "cell_type": "code",
   "execution_count": 10,
   "metadata": {
    "ExecuteTime": {
     "end_time": "2020-06-19T09:15:54.057393Z",
     "start_time": "2020-06-19T09:15:54.024385Z"
    }
   },
   "outputs": [
    {
     "data": {
      "application/vnd.jupyter.widget-view+json": {
       "model_id": "56332403a9e34083913ea031db5114f7",
       "version_major": 2,
       "version_minor": 0
      },
      "text/plain": [
       "interactive(children=(IntSlider(value=0, description='doc_id', max=2224), Output()), _dom_classes=('widget-int…"
      ]
     },
     "metadata": {},
     "output_type": "display_data"
    },
    {
     "data": {
      "text/plain": [
       "<function __main__.show_naive_doc(doc_id=0)>"
      ]
     },
     "execution_count": 10,
     "metadata": {},
     "output_type": "execute_result"
    }
   ],
   "source": [
    "def show_naive_doc(doc_id=0):\n",
    "    print(naive_docs[doc_id].metadata)\n",
    "    print()\n",
    "    print(\" \".join(naive_docs[doc_id].tokens))\n",
    "\n",
    "\n",
    "widgets.interact(show_naive_doc, doc_id=(0, len(naive_docs) - 1))"
   ]
  },
  {
   "cell_type": "markdown",
   "metadata": {},
   "source": [
    "### Automated n-gram detection\n",
    "\n",
    "Chunk into significant bigrams based on collocation frequency\n",
    "\n",
    "(N.B.: Gensim implies that the input to the Phraser should be a list of single sentences, but we will feed it a list of documents instead.)\n",
    "\n",
    "- Min count: How many documents the n-grams need to appear in\n",
    "\n",
    "- Scoring: \"default\" or \"npmi\"\n",
    "\n",
    "- Threshold: Intuitively, higher threshold means fewer phrases.\n",
    "  - With the default scorer, this is greater than or equal to 0; with the NPMI scorer, this is in the range -1 to 1.\n",
    "\n",
    "- Common terms: These terms will be ignored if they come between normal words.\n",
    "  - E.g., if `common_terms` includes the word \"of\", then when the phraser sees \"Wheel of Fortune\" it actually evaluates _\"Wheel Fortune\"_ as an n-gram, putting \"of\" back in only at the output level to give _wheel_of_fortune_.\n",
    "  - With the `common_terms` option set properly,  there do not seem to be many significant trigrams and above left to pick up -- We stick with bigrams to save on runtime."
   ]
  },
  {
   "cell_type": "code",
   "execution_count": 11,
   "metadata": {
    "ExecuteTime": {
     "end_time": "2020-06-19T09:15:54.065342Z",
     "start_time": "2020-06-19T09:15:54.059395Z"
    }
   },
   "outputs": [],
   "source": [
    "min_count = 5\n",
    "scoring = \"npmi\"\n",
    "# We want a relatively high threshold so that we don't start littering spurious n-grams all over our corpus, diluting our results.\n",
    "# E.g., we want \"Lord_of_the_Rings\", but not \"slightly_better_than_analysts\"\n",
    "threshold = 0.7\n",
    "common_terms = [\"a\", \"an\", \"the\", \"of\", \"on\", \"in\", \"at\"]"
   ]
  },
  {
   "cell_type": "markdown",
   "metadata": {},
   "source": [
    "This could take a while, so set up a threaded function with a basic progress indicator in the main thread"
   ]
  },
  {
   "cell_type": "code",
   "execution_count": 12,
   "metadata": {
    "ExecuteTime": {
     "end_time": "2020-06-19T09:15:54.078344Z",
     "start_time": "2020-06-19T09:15:54.068344Z"
    }
   },
   "outputs": [],
   "source": [
    "def find_phrases(docs, results, trigrams=False):\n",
    "    # Build, finalise, and apply the bigram model\n",
    "    bigram_model = gensim.models.Phrases(\n",
    "        docs,\n",
    "        min_count=min_count,\n",
    "        threshold=threshold,\n",
    "        scoring=scoring,\n",
    "        common_terms=common_terms,\n",
    "    )\n",
    "    bigram_model = gensim.models.phrases.Phraser(bigram_model)\n",
    "\n",
    "    bigram_docs = bigram_model[docs]\n",
    "\n",
    "    results[0] = bigram_docs\n",
    "\n",
    "    if trigrams:\n",
    "        # Repeat to get trigrams\n",
    "        trigram_model = gensim.models.Phrases(\n",
    "            bigram_docs,\n",
    "            min_count=min_count,\n",
    "            threshold=threshold,\n",
    "            scoring=scoring,\n",
    "            common_terms=common_terms,\n",
    "        )\n",
    "        trigram_model = gensim.models.phrases.Phraser(trigram_model)\n",
    "\n",
    "        trigram_docs = trigram_model[docs]\n",
    "\n",
    "        results[0] = trigram_docs"
   ]
  },
  {
   "cell_type": "code",
   "execution_count": 13,
   "metadata": {
    "ExecuteTime": {
     "end_time": "2020-06-19T09:16:01.441096Z",
     "start_time": "2020-06-19T09:15:54.081355Z"
    },
    "scrolled": true
   },
   "outputs": [
    {
     "name": "stdout",
     "output_type": "stream",
     "text": [
      "Finding phrases . . . . Done. (5.492s)\n"
     ]
    }
   ],
   "source": [
    "print(\"Finding phrases\", flush=True, end=\"\")\n",
    "start_time = time.perf_counter()\n",
    "\n",
    "# Just send the textual content through the Phraser, not the document metadata\n",
    "for_phrasing = [naive_doc.tokens for naive_doc in naive_docs]\n",
    "\n",
    "# Will contain the documents after trigram processing\n",
    "results = [None]\n",
    "t = threading.Thread(target=find_phrases, args=(for_phrasing, results, False))\n",
    "t.start()\n",
    "\n",
    "progress_countdown = 1.0\n",
    "\n",
    "while t.isAlive():\n",
    "    time.sleep(0.1)\n",
    "    progress_countdown -= 0.1\n",
    "    if progress_countdown <= 0:\n",
    "        print(\" .\", flush=True, end=\"\")\n",
    "        progress_countdown = 1\n",
    "\n",
    "elapsed = time.perf_counter() - start_time\n",
    "print(f\" Done. ({elapsed:.3f}s)\")\n",
    "\n",
    "after_phrasing = results[0]\n",
    "\n",
    "# Put metadata back in\n",
    "phrased_docs = []\n",
    "for index, tokens in enumerate(after_phrasing):\n",
    "    phrased_docs.append(naive_docs[index]._replace(tokens=tokens))"
   ]
  },
  {
   "cell_type": "code",
   "execution_count": 14,
   "metadata": {
    "ExecuteTime": {
     "end_time": "2020-06-19T09:16:01.480044Z",
     "start_time": "2020-06-19T09:16:01.442039Z"
    },
    "scrolled": false
   },
   "outputs": [
    {
     "data": {
      "application/vnd.jupyter.widget-view+json": {
       "model_id": "f55c7c2c943f48558b18ff6305626346",
       "version_major": 2,
       "version_minor": 0
      },
      "text/plain": [
       "interactive(children=(IntSlider(value=0, description='doc_id', max=2224), Output()), _dom_classes=('widget-int…"
      ]
     },
     "metadata": {},
     "output_type": "display_data"
    },
    {
     "data": {
      "text/plain": [
       "<function __main__.show_phrased_doc(doc_id=0)>"
      ]
     },
     "execution_count": 14,
     "metadata": {},
     "output_type": "execute_result"
    }
   ],
   "source": [
    "def show_phrased_doc(doc_id=0):\n",
    "    print(phrased_docs[doc_id].metadata)\n",
    "    print()\n",
    "    print(\" \".join(phrased_docs[doc_id].tokens))\n",
    "\n",
    "\n",
    "widgets.interact(show_phrased_doc, doc_id=(0, len(phrased_docs) - 1))"
   ]
  },
  {
   "cell_type": "code",
   "execution_count": 15,
   "metadata": {
    "ExecuteTime": {
     "end_time": "2020-06-19T09:16:01.683062Z",
     "start_time": "2020-06-19T09:16:01.482070Z"
    },
    "scrolled": false
   },
   "outputs": [
    {
     "name": "stdout",
     "output_type": "stream",
     "text": [
      "lord_of_the_rings\n",
      "house_of_lords\n",
      "tens_of_thousands\n",
      "chambers_of_commerce\n",
      "billions_of_dollars\n",
      "weapons_of_mass\n",
      "tip_of_the_iceberg\n",
      "prisoner_of_azkaban\n",
      "tells_the_story\n",
      "shaun_of_the_dead\n",
      "pirates_of_the_caribbean\n",
      "passion_of_the_christ\n",
      "meet_the_fockers\n",
      "dismantle_an_atomic\n",
      "hall_of_fame\n",
      "phantom_of_the_opera\n",
      "hepburn_in_the_aviator\n",
      "miscarriages_of_justice\n",
      "convention_on_human\n",
      "hands_of_extremists\n",
      "code_of_conduct\n",
      "archbishop_of_canterbury\n",
      "prevention_of_terrorism\n",
      "tests_in_tel\n",
      "faking_a_motorcycle\n",
      "icing_on_the_cake\n",
      "capt_a_persico\n",
      "blogs_in_existence\n",
      "hitting_the_shelves\n"
     ]
    }
   ],
   "source": [
    "# Trigrams and above in the corpus (with `common_terms` set properly)\n",
    "seen_tokens = set()\n",
    "for document in phrased_docs:\n",
    "    for token in document.tokens:\n",
    "        if token.count(\"_\") >= 2:\n",
    "            if token not in seen_tokens:\n",
    "                print(token)\n",
    "                seen_tokens.add(token)"
   ]
  },
  {
   "cell_type": "code",
   "execution_count": 16,
   "metadata": {
    "ExecuteTime": {
     "end_time": "2020-06-19T09:16:02.053089Z",
     "start_time": "2020-06-19T09:16:01.685045Z"
    }
   },
   "outputs": [
    {
     "name": "stdout",
     "output_type": "stream",
     "text": [
      "Done\n"
     ]
    }
   ],
   "source": [
    "# Does Gensim's Phraser completely replace all the relevant original tokens, or is it a partial replacement for some reason?\n",
    "ngrams = [token.split(\"_\") for token in seen_tokens]\n",
    "first_tokens = [ngram[0] for ngram in ngrams]\n",
    "\n",
    "test_docs = [\n",
    "    [\"a\", \"test\"],\n",
    "    [\"flash\", \"memory\"],\n",
    "    [\"another\", \"boop\"],\n",
    "    [\"bot\", \"nets\"],\n",
    "    [\"ehh\"]\n",
    "]\n",
    "\n",
    "actual_docs = [list(document.tokens) for document in phrased_docs]\n",
    "\n",
    "def test_ngrams(doc_tokens_list):\n",
    "    for tokens in doc_tokens_list:\n",
    "        for index, token in enumerate(tokens):\n",
    "            if token in first_tokens:\n",
    "                possibles = [ngram for ngram in ngrams if ngram[0] == token]\n",
    "                for possible in possibles:\n",
    "                    # Check this ngram\n",
    "                    if tokens[index:len(possible)] == possible:\n",
    "                        print(f\"Found: {possible}\")          \n",
    "                        \n",
    "test_ngrams(test_docs)\n",
    "test_ngrams(actual_docs)\n",
    "print(\"Done\")"
   ]
  },
  {
   "cell_type": "markdown",
   "metadata": {},
   "source": [
    "### Post-phrasing cleaning\n",
    "\n",
    "- Remove stop words (optional)\n",
    "- Remove purely numeric/non-alphabetic/single-character tokens\n",
    "  - Under the assumption that significant tokens, like the \"19\" in \"Covid 19\" or the \"11\" in \"Chapter 11 (bankruptcy)\" would have been picked up by the phraser"
   ]
  },
  {
   "cell_type": "code",
   "execution_count": 17,
   "metadata": {
    "ExecuteTime": {
     "end_time": "2020-06-19T09:16:02.298134Z",
     "start_time": "2020-06-19T09:16:02.055052Z"
    }
   },
   "outputs": [],
   "source": [
    "# Stoplist based on TF-IDF\n",
    "# Not theoretically needed if using term weighting during the training process, but stopword\n",
    "# removal could still help with runtimes and interpretability\n",
    "\n",
    "\n",
    "import collections\n",
    "import math\n",
    "\n",
    "# Calculate IDF (For calculations of this size, the overhead of Pandas/Numpy is probably not worth it)\n",
    "df_dict = {}\n",
    "for doc in phrased_docs:\n",
    "    for token in set(doc.tokens):\n",
    "        if token in df_dict:\n",
    "            df_dict[token] += 1\n",
    "        else:\n",
    "            df_dict[token] = 1\n",
    "\n",
    "# While we're at it, we could remove document-level hapax legomena\n",
    "hapax = [token for token, count in df_dict.items() if count == 1]\n",
    "\n",
    "token_idf = {}\n",
    "for token in df_dict:\n",
    "    token_idf[token] = math.log(len(phrased_docs) / df_dict[token])\n",
    "\n",
    "\n",
    "def tf_idf(tokens, token_idf):\n",
    "    \"\"\"\n",
    "    Calculates the TF-IDF for each unique term in the given list of document tokens\n",
    "    \n",
    "    Parameters\n",
    "    ----------\n",
    "    tokens: iterable of str\n",
    "        Tokens that make up a single document\n",
    "    token_idf: dict\n",
    "        Mapping of terms to their global IDF values\n",
    "    \"\"\"\n",
    "    token_tf_idf = {}\n",
    "    counts = collections.Counter(tokens)\n",
    "    for token in set(tokens):\n",
    "        token_tf = counts[token] / len(tokens)\n",
    "        # In particular, accessing a Pandas Series by string index is much slower than accessing a Dictionary by key\n",
    "        token_tf_idf[token] = token_tf * token_idf[token]\n",
    "    return token_tf_idf"
   ]
  },
  {
   "cell_type": "code",
   "execution_count": 18,
   "metadata": {
    "ExecuteTime": {
     "end_time": "2020-06-19T09:16:02.748054Z",
     "start_time": "2020-06-19T09:16:02.302050Z"
    }
   },
   "outputs": [
    {
     "name": "stdout",
     "output_type": "stream",
     "text": [
      "Stopwords, ordered by TF-IDF:\n",
      "the, to, a, of, and, in, for, on, said, is, has, with, it, at, by, that, was, be, have, as, but, from, an, which, will, been, this, also, are, its, not, up, had, were, who, he, their, more, would, out, one, after, they, last, about, over, -, than, year, all, two, when, there, new, could, other, into, years, his, we, now, first, if, time, or, made, us, only, no, some, being, so, while, added, before, make, three, well, told, can, back, take, because, them, most, what, next, get, just, way, world, do, people, i, since, against, such, very, any, set, many, like, still\n",
      "(103)\n",
      "Also removing document-level hapaxes:\n",
      "$639m, year-earlier, search-engine, 464,000, $42.09bn, $10.9bn, $3.36bn, $284m, catwoman, $11.1bn, warners, bertelsmanns, timewarner, aols, â£600m, loosening, $1.2974, $1.2871, sinche, half-point, greenspans, moscow-based, firestone, â£479m, $540m, rosnefts, broughton, brul, 274.5, surcharge, controllable, surcharges, $141m, short-haul, a321, eddington, yields, cargo, â£125m, â£59m, â£106m, ballantines, baskin-robbins, jacobs, $9.7bn, domecqs, seagram, 8.2bn, pernods, brandy, glenmorangie, courvoisier, chivas, ricard, domecq, dunkin, regal, 1.8bn, donuts, pernod, stolichnaya, similar-sized, sheard, hesitant, patchier, escapes, cowed, ethiopians, faos, fertilizers, 11.49, 965,000, 387,500, 14.27, lactating, fortified, supplementary, josserand, crops, rains, distributions, 89,000, vegetable, infiltration, $204m, doubleclick, dwarfed, outperformance, $187m, $86m, 14.5, importers, megawati, kerosene, susilo, acehs, indrawati, $6.58bn, bambang, sukarnoputri, 59.2, mulyani, yudhoyonos, bailouts, 472bn, badly-needed, â£2.77bn, daimlerchrylser, 36,000, nishioka, 540bn, peugeots, hollinger, 90-day, broadsheet, pearsons, fitzpatrick, nuj, consultative, 521, â£150m, barclay, littlewoods, axing, mulling, maclennan, misleads, cawley, iata, pay-out, eraa, eu-based, preposterous, eraas, marja, overbooking, â£173, quillinan-meiland, elaa, tooling-up, overbalancing, 15.7%, â£53m, disclosing, 38m, 4bn-euro, 12bn, unwinding, 136m, 77m, 43.41, 43.305, bhanu, buoying, creditworthiness, baweja, bbb-, bb+, kong-based, kobita, maran, bharti, 74%, sanjay, gartners, dayanidhi, whampoa, â£10.6bn, essar, manmohan, televentures, hutchison, 13.3%, canned, diemont, sunovate, churn, frustrates, offshoring, cara, vivaldi, â£21.5m, pinewood, demerge, â£392.1m, grosvenor, deluxe, distributes, mecca, demerged, demerger, 4.464, isabelle, one-euro, brunt, kronawitter, hirings, hypovereinsbank, naude, reiterating, 0.7-0.8%, dollar-denominated, â£56.4bn, 24.4%, $671.7bn, $1.76, marie-pierre, ripert, ixis, $162bn, 30.5%, $180.7bn, â£484bn, astronomical, 35.7%, $496.5bn, spurring, $1.15, confiscatory, previously-unknown, 19,924, silverade, gmc, envoys, savana, isuzu, srx, ascenders, accumulator, fragments, pickups, avalanche, windshield, kodiak, 17,815, raniers, coupes, trailblazers, 155,465, xlr, yukon, nhtsa, accelerator, hydraulic, mittal_steel, $32bn, ispat, spokeman, â£16.7bn, workforces, lakshmi, isg, 24.1bn, mittals, 155,000, $44.45, $1.64, middleton, 294.3m, orin, non-opec, $1.32, industrialized, $47.10, $47, beleaguered, triggers, iea, trample, hectare, hectares, hato, agrarian, ortiz, cojedes, farmland, landowners, 12,900, latifundios, not-too-distant, 2.0%, cotis, turbulence, export-led, koen, oecds, bi-annual, oecd, ncb, iseq, mcalinden, 6661.89, eircom, 189, ufjs, $29bn, ufj-mtfg, mtfg, persisting, largest-ever, sumitomos, deepening, leibovich, 24.2, $10.2bn, 2019, 15.3%, 12.1, technology-sharing, woodley, nanjing, mather, wpps, omnicom, wpp, 14.1%, outperform, cordiant, medias, ogilvy, rubicam, $1.04bn, â£546m, â£532m, delegations, signifies, certify, onerous, sox, dined, scolded, seibu, futon, businessmen, soy, rebuilt, sauce, nagano, tsutsumi, share-ownership, inheriting, yoshiaki, untouchable, tsutsumis, 35.8bn, hannes, wittig, 364m, 1.17bn, $1.85bn, 14.96bn, oao, telesystems, saronno, capita, 0.22, â£30.7m, tempts, 61.1bn, $58.16m, changyu, liqueur, north-eastern, illva, yantai, 481.42m, shenzhen, shirts, 115.5, sportswear, umbro, â£15.4m, 222%, $29.4m, 1.76%, â£24.5m, replica, mcguigan, lapsed, soon-to-retire, baby-boom, clouding, retirees, â£1.30, spindler, plunges, gigajoule, â£51.6m, â£1.18, geological, northumberland, de-facto, al-gosaibi, ghazi, pitiful, saud, uproar, highly-educated, al-faisal, annualised, periodically, iizuka, dai-ichi, $53.03, silliere, $53, gallon, $1.4850, $53.09, refinery, meti, yamanaka, -which, resilient, preyed, -may, $4bn, 193, ryanair/boeing, bonderman, re-listing, $18.34bn, apcom, 7.3%, closed-door, stockmarket, â£9.6bn, finanziaria, 11.3%, quotation, depreciates, wernle, â£12,556, â£15,690, c180, beetle, mini-workers, â£280m, modernised, tapers, 116i, â£17,730, cowley, the-car, reithofer, â£11,500, 189,000, second-hand, rapidly-rising, 86.7bn, â£39.1bn, nestles, â£451m, $74.6bn, brabeck-letmathe, perrier, $861m, nestle, petcare, 1.53bn, -best, mediobanca, 2.3bn, â£1.05bn, sportscar, 775m, wholly-, underfunding, kickstarting, enel, juddering, small-, brain-drain, 6.5bn, â£2.89bn, â£3.24bn, glocer, â£610m, â£234m, $6.13bn, mong-koo, 920,000, chung, colen, â£910m, 22.3bn, 9.4%, 280,000, garrow, 6.8bn, 418bn-rand, bmw-brand, high-powered, 80,600, 3-series, 95,000, rolls-royces, 14,800, assembling, rolls-royce, awoken, carlsson, electroluxs, electrolux, ulf, zanussi, aeg, straberg, cookers, spennymoor, high-cost, frigidaire, aycliffe, orchestrated, whistleblower, malpractice, bewlay, inactive, 813,200, 28.52, 1.41, claimant, 296,000, ostwald, monument, 3.24, â£458m, docklands, a$68m, multiplex, $874m, redevelopment, 1.2bn, a$4.50, writeback, multiplexs, reaffirming, a$67.7m, paring, a$35.1m, a$4.67, rourke, grocery, parul, lamberty, medium-distance, rhein-main, schulte-strathaus, politicial, crisis...only, dz, 97.5, munich-based, sinn, hans-werner, weidensteiner, bernd, ifo, least-developed, â£158.8bn, 230.9bn, $300bn, protectionism, timeframe, majumdar, discouraging, citu, speculatively, 538,000, townships, meters, vancheshwar, specifying, chittabrata, dlf, anshuman, brick-making, construct, cb, prevailing, airliner, pinning, rolled-out, 840, 777-200lr, ferried, learmount, â£98m, non-stop, $186m, 143m, twin-aisle, jumbos, offically, 777, twin-engine, 767, planemaker, $3.25bn, cl, $17.04, highfields, virginia-based, boston-based, public-company, highfield, cut-price, 19.6%, third-type, 31.8%, distilled, suntory, sorrows, malt, 30.6bn, $291m, beer-flavoured, happoshu, beer-like, peptides, â£154m, well-established, non-beer, potatoes, shinnama, shochu, soybean, asahi, kirin, month-on-month, overhang, inching, seung, destatis, onward, ecbs, turkish-austrian, finans, mtn, atinc, ozkan, inward, posture, turkey-iran, intifada, investment-friendly, lukashov, dmitry, split-up, pre-payment, oganesyan, cnpc, veb, aton, deadlocked, capital-raising, â£1.06bn, juchemich, extricate, voided, $546m, internet-related, home-shopping, â£290m, 246,570, 635,173, occurs, near-400,000, enarsa, food-for-oil, pdvsa, formalised, $240m, petrobras, sur, dingolfing, audi, 3,600, fuel-injection, bosch, sindelfingen, defective, mothercare, 950p, 873p, rumour, beh, bracknell-based, dhl-owner, burberry, britten, logistics, â£328m, exel, 109,000, tibbett, $480,000, backdated, $27m, $327, expatriates, labourers, â£8.82bn, 50.9, remittance, boes, â£6.4bn, 83,000, cips, lena, 53.3, prebon, komileva, 51.8, policymakers, yamane, pmi, two-tier, 53.7, 48.3, affable, â£5.8bn, higher-return, â£6.1bn, brokerages, $901m, gartmore, metlife, benmosche, metlifes, citigroups, quint, citibank, travelers, diplomacy, tanase, accumulation, 0619, 105.6, junya, $1.29, destabilising, forthright, cooperatives, top-up, dominique, distil, bussereau, reschedule, vintners, growers, burgundy, lemetayer, vines, 15m, fnsea, viticulture, 3.5m, overproduction, $119bn, solidity, hessel, speculative, outweight, $113bn, alludes, seizures, ehud, $180, olmert, irancell, $500, dogusoy, congested, interconnection, part-turkish, ruhi, 38.4%, $81.8bn, defaulted, 15.6%, $102.6bn, â£53.51bn, irrational, 10.3%, bondholders, $41bn, reside, smaller-than-expected, january-to-march, 4.7bn, 966m, 93%, norvasc, big-name, annoucement, pfizers, $915,000, 705m, hypertension, â£486,000, finian, congo, burren, onshore, energys, 105.17, $1.3006, carsten, 2100gmt, fritsch, $166bn, commerzbank, 105.28, four-nation, snows, $1.2944, self-sustaining, carrick, seventy-year, deutschland, sedan, redesigned, 12.7%, koreas, g6, petrol-price, nibble, gas-electric, 17.6%, first-quarter, fared, laneve, cobalt, gas-guzzling, automaker, 1.27, doctoring, ill-timed, 0.25%, 2-3%, well-flagged, 29.4bn, 2000-1, titan, funnelling, benin, anti-bribery, $15.5m, tolerates, slogans, $2.1m, lam, kerekou, titans, $337m, price-rigging, bigger-than-expected, placement, mmcs, upper-teens, layoffs, $618m, $232m, â£352m, $360m, $676m, â£195.3m, brooklyn, sebok, â£149bn, plaza, smoker, ohlemeyer, racketeer, altrias, porsches, astons, vantage, v8, db9, 911, gaydon, stronghold, normanton, ex-aide, liberias, post-conflict, liberians, liberian, liberia, 14-year, provide...continued, power-sharing, 56.4, 55.3, â£274.73m, $527.61m, 984m, flies, 0.30, 380m, grinds, spurts, shirakawa, hiromichi, organizational, slimfast, 510.75, beverage, sweere, wane, 2.9bn, slips, write-down, atkins, petercam, low-carbohydrate, dove, 50.50, cescau, 650m, simplification, â£1.99bn, burgmans, unilevers, dual-ownership, 72bn, pagesjaunes, equant, 5.4, 578m, 18.3bn, 47.2bn, breton, â£12.5bn, $23.4bn, 43.9bn, telekoms, overcharged, raps, overstating, implicating, allergies, discontinued, paxil, 771, garnier, 1218, anti-depressants, wellbutrin, â£6.2bn, cross-selling, shimbun, yoshifumi, 717,000, nozaki, 5.3%, â£537bn, smfg, keizai, $1,000bn, 740, daiwa, heronry, nihon, nishikawa, nikkocitigroup, fuso, 784m, 374m, 785m, rabb, jeep, chryslers, 506m, unfavourably, mercedes-benzs, 475m, 142bn, schrempp, mini-car, daimerchryslers, 2.5bn, seasonality, 47.1%, 10.8bn, 117.7bn, 9.5bn, 39.4bn, 19bn, â£722m, svanberg, 6.3bn, all-communicating, 20.7, 131.9, carl-henric, kronor, 45.6%, opts, widely-expected, clamour, mpcs, â£591,000, tech-production, naira, spraying, 154m, beans, south-western, ibadan, osagie, 91m, seedlings, nurseries, grower, bello, $1.2bn-worth, adamu, edo, cocoa, avery, cibc, obstruct, 10,385.48, geopolitics, 0.01%, feds, sohn, shenfeld, 0.89, market-timing, quick-fire, â£277m, industry-wide, $140m, cfd, cfds, hussey, fleetboston, boa, $50-100,000, banc, ex-columbia, $47bn, ex-managers, bacap, tambone, harms, gustafson, palombo, boas, $515m, metrovias, mediating, otoku, softbank, cut-rate, â£38.4m, fast-rising, $71.5m, undervaluation, a$246bn, vaile, fivefold, woodside, a$8.4bn, 590, 0.67%, â£9.4bn, â£347m, â£801m, â£1.13bn, 1405, â£1.04bn, varley, â£15.2bn, accrued, shearman, a$431m, a$458.4m, gregg, a$720, a$500m, â£191m, a$30m, $357.6m, a$245m, $563, amman, changeable, road-show, itpc, dassault, pranab, mikoyan-gurevich, hcl, snecma, orion, aeronautics, collaborations, 240, dinesh, keskar, â£18.8bn, p-3, conformity, mukerjee, f-16, lukoil, ntv, cashflow, landes, rosneft-owned, london-listed, swallowed, bogdanchikov, gazprom-rosneft, surgutneftegaz, industrially, 719m, rijk, 1.16bn, 8.6bn, inbevs, unearned, meted, cfa, ephraim, fidelis, non-existent, yaounde, nanga, exemplary, inoni, utgoff, 169,000, vance, 45.4, 139,000, 10,360, 96,000, labor, 198,000, 128,000, eaton, kristiansen, wool, brie, cuisine, ham, cheeses, feta, designation, re-merchandising, shepherds, 115,000, resell, rock-bottom, heartland, annulled, ex-soviet, kuchmas, hensel, yanukovich, jilted, yushchenkos, bridgewell, purvin, gertz, 0710, $51.39, snowfalls, shum, 38.9, 4.875, stubbornly-high, ruerup, ilo-based, working-age, democrat-green, 11.7%, 3.97, internationally-accepted, 5.216, hartz-iv, sheffield-based, much-higher, cia, baoshan, thyssenkrupp, 22.5bn, jfe, uncharted, 17.58, 16.87, arcleor, corus, takahashi, tinto, 55.57, arcelor, dolce, smbc, kazuhiro, steelmakers, cvrd, cvrds, 72%, vale, trans-atlantic, van-style, x5, car-style, mini-van, accura, seven-seat, x3, $1.3218, 104.76, $1.9094, 0950, steadied, $850bn, $1.78bn, carbonated, snapple, â£933m, confectionery, stitzer, mid-2003, $49.74, $51.43, retreated, shihab-eldin, adnan, winn-dixies, off-load, lynchs, 920, $1.87bn, merchandising, $15.1m, â£980m, grocers, synonym, altar, politeness, unchartered, prioritised, wim, knowledge-based, shaming, scarcely, faming, sacrificed, koks, kok, hofheinz, backseat, barroso, brussels-based, fully-operational, rhb, malays, scouting, gt, gtv, six-cylinder, lilliu, 156, arese, sportwagon, romeos, powertrain, sporty, montezemolo, â£104m, opels, cadillacs, vauxhalls, unalloyed, saabs, trollhaettan, badged, inroads, bls, desperately-needed, upmarket, 24-hours, ruesselsheim, 151m, carl-peter, tysabri, evaluations, goodbody, $18.90, ireland-based, biogen, idec, four-fold, yamanouchi, $38.65, elan, avonex, $28.63, re-initiation, pml, multifocal, 151.5, leukoencephalopathy, elans, tysabri-treated, dosing, idecs, 19.84%, pans, warranted, snowfall, furness, 79,000, overvalued, 82,000, 48,000, â£152,879, â£7.2bn, collapsing, persists, homeowners, 0-5%, loynes, leeway, vote-catching, â£10.5bn, 1998/9, correcting, 2004/05, bluntly, macys, $15.6bn, sped, federated, bloomingdales, barnards, federateds, fukui, 11,740.60, best-performing, 104.53, pullback, flat-screen, eight-month, fertiliser, platon, contradictions, lebedev, uk-dutch, â£3.12bn, sheikhdom, qatargas-4, exxonmobil, $12.8bn, qatargas-2, 7.8, qatars, 102.16bn, sourced, 80bn, 100bn, 102.8bn, perilously, vis, communists, income-tax, budgeted, $2,300, $5,700, $2.35bn, 71.56bn, 830bn, 6.2, soured, recapitalised, evade, 550m, patriarch, tankers, ex-boeing, seattle-based, revoked, steered, sears, refuelling, druyuns, druyun, â£131,961, darleen, favouring, exited, underpinning, $6.8bn, rationale, poors, shepherdson, stategist, inflationary, 94.2, downshifting, cherney, barometer, arbitrator, quarter-point, traction, brusca, maidenhead, $13.99bn, souza, crossrail, berkshire, cross-london, â£7.5bn, beiruts, redeveloped, blom, solidere, assassinated, $8.08, rafik, lebanons, shudders, hariri, 642.80, cbis, sme, 17.3, goyal, 16.4bn, rapidly-growing, â£180,126, 13.7%, â£178,906, back-end, sweetener, faraj, anais, â£0.48, whiff, $158.8m, $2.48bn, $0.98, 1.88bn, â£83.3m, 364.4m, 120.7m, malta, bdb, unece, 4.25%, fragility, heinekens, 798m, 537m, carlsberg, high-impact, 456m, â£371m, medium-to-long, 3.4bn, 10bn, $701m, 36bn, amstel, 125m, 9.26bn, hydroelectric-power, overheat, electrics, $365m, 6.2bn, 103.3, isae, 104.4, exane, statistic, wealthier, hiv-positive, profiteers, re-sold, re-selling, coating, pills, dye, â£280.2m, buy-to-let, 458.5p, bingley, medium-term, housebuilder, â£450.7m, $532m, wimpeys, 325.5p, wimpey, b&b, johannesson, counterfeiting, pinpointing, irishmen, malcom, billionaires, stalking, mansoor, softening, 104.16, rock-steady, mohi-uddin, $1.90, 1.3187, loan-for-oil, khristenko, aleksey, 9.9%, non-wage, touati, buffets, itrec, chambre, addink, bolts, charbonnier, submarine, specialises, beck-crespel, boscholt, stueker, cranes, sawicki, fixings, huisman, sunken, armentieres, hugues, schneider, -and, bhs, financier, roses, mid-market, drkw, high-street, rebidding, reseach, m&s, paulsmeier, m&ss, spike, carolina-based, vermont, leahys, schumer, schmaler, tracy, 1,050-1,125, 271, 17.2, goya, hiten, 16.2, ex-travel, $443m, â£230.8m, $24-$26, eduardo, rejoiced, riggs, allende, pinochets, $16m, contreras, pinochet, baltasar, augusto, garzon, 1973-90, equatorial, $4.50, snapping, notebaert, $1.50, massaged, 0.41, agile, umberto, underperformed, demel, morchio, toutai, ccf, claquin, bextra, cox-2, merck, celebrex, $1.4bn, mercks, vioxx, therapies, fdas, cardiovascular, inhibitors, vioxx-related, mihkail, â£47m, 27.2m, magazin, 134.7m, westfallen, suspending, halser, 2.05, dortmunds, peter-thilo, schechter, 35m, 2006-2007, mismanagement, $89m, deferring, â£21.8bn, â£5.1bn, â£17.9bn, robustly, 4.1%, hikes, record-busting, niesr, conceal, resold, permitting, annul, perchesk, appraisal, 30-month, reshuffled, 1130p, legitimise, saakashvili, georgian, moneys, shevardnadze, eduard, -thought, -are, warped, pardon, cubans, suffocate, peso, periodic, castros, disrepair, exiles, barrioneuvo, underscores, fidel, decentralise, importing, cubas, barrionuevo, hexals, novartis, kuhlhoff, â£3.9bn, $31, sandoz, teva, 67.7%, chemically, drugmakers, 57.85, hexal, eon, 5.65bn, capellas, tabling, unconscionable, unhappiness, then-named, fiduciary, breuer, deutsches, slager, standoff, $2.5, belt-tightening, â£1.3, medicaid, needy, austere, $230bn, $587m, discretionary, disclaimer, easymobile, easygroup, easyjet, easygroups, easyjets, intercity, haji-ioannou, airtime, 8.7%, float, with-profit, 235.75, 16.2%, re-orders, $259.8m, gorillaz, 8-9%, numis, sinas, sina, shanda, better-known, vickers, $230m, nyse, $27.24, 3,217, 113.5m, ounces, $413.50, feasibility, ounce, reade, disconcerted, matshushita, old-style, liquid-crystal, ensued, unfashionable, towering, self-interest, atrium, intellect-enhancing, insights, intellectuals, toiling, measurably, 1723, 1776s, reared, environs, enlightenment, birthplace, philosopher, balmoral, knighthood, laissez-faire, gratitude, kirk, ponder, societal, emanation, mozart, 684bn, shigas, nominally, ghosns, $6.4bn, shiga, 331bn, nissans, toshiyuki, japan-based, australasia, characterized, yanukovych, rybachuk, eternal, sympathetic, veron-reville, moscow-backed, vice-prime, frayed, shaped, non-nato, long-serving, soothe, absas, $8.5bn, 20-25%, â£4.4bn, interest-payment, westfalen, molsiris, $39m, â£266m, 548p, â£8.7bn, operationally, 8.5, reaping, buybacks, $16.2bn, uk-listed, progressively, $2.89bn, $3.65bn, $1.8m, 3.997, $17.5bn, regretted, barrick, wrested, russian-registered, waller, trutnev, $7.5bn, yuri, russian-owned, tenders, kulakov, barr, â£308m, â£182.5m, maximisation, â£40m-â£50m, blb, 797p, $339m, rhode, revenue-sharing, hultman, claes, vue, blbs, mid-morning, wembleys, greyhound, fan-based, 270.25p, non-competition, deliverable, takeovers, 3.75p, -0.1%, pay-day, big-ticket, 8.3%, arches, all-woman, vitality, revamping, pedometers, salads, jelly-legged, fattening, pounder, catchphrase, 105,000, 36-page, 13.6%, moratoriums, slba, â£135m, gooneratne, alvarez, sidestepped, chides, bide, 11-14, saliva, â£49m, bats, paion, desmoteplase, clotting, morrow, tsuda, 58,000, appoints, tetsuro, shiro, tsusaka, long-living, expectancies, ppis, lower-skilled, uk-issued, card-present, â£116.4m, card-not-present, 83%, clump, mutates, â£402.4m, pins, entitle, â£38, â£52, â£42m, pibs, â£370m, 1998/99, sudell, 2002/03, â£8.2bn, 49.7%, paternalistic, 280, â£163,748, underlining, 262%, â£3.3, under-secretary, â£5.38bn, $50bn, unpayable, write-off, â£26.69bn, impede, yea, 76-year-old, mclean, anson, debt-free, 305, drainage, gripes, router/access, rockwool, uplights, bracing, water-and-weather-tight, tub, solver, prettier, brighten, well-insulated, fluorescent, marianne, multi-function, dimmable, workspace, veneer, slab, barn, outer, renovated, washers, fittings, trusses, like-minded, plasterboard, introspective, docking, downlights, mariannes, petersen, washing, congenial, â£32.26, five-cent, mismatch, duopoly, outfitting, mitigate, aurora, unambiguous, carnivals, â£36.20, blinked, princesss, p&o, equip, capitol, 2018, bode, fixate, rearranging, persuasions, dispassionate, indigent, ill-serve, harmless, toothless, interest-sensitive, re-evaluation, aging, detail-oriented, unfamiliar, hands-on, 40.7bn, schweitzer, renaults, megane, clio, 1.7bn, logan, completions, 469, july-september, 436, million-pound, 28,041, â£182,920, july-to-september, â£187,971, 11.8%, 36,185, â£1.38, $2.18, beale, pro-growth, sunset, $4.5, 20-year, $2.58, $2.57, wafer, lenovos, mis-steps, direct-sales, hk$327m, stiffening, unprofitability, us$42m, hk$6.31bn, hewlett-packard, $20.15, reverberations, lavender, panayis, plus.net, highly-regulated, freedom2surf, ovum, strafford, higher-speed, ipstream, $2.95bn, tyres, â£1.57bn, activision, ubisoft, 19.9%, valuations, one-million, $18bn, tevfik, evren, tamed, embarks, serdengecti, hayriye, aksoy, one-lira, denominations, slimmed-down, sureyya, zeros, dizzyingly-high, $14bn, $445.1bn, iadb, â£227bn;331bn, eclac, calculators, notional, confifi, minuscule, hard-hit, delaware*, unforeseeable, gresik, one-quarter, adhi, far-away, afield, twitched, bankruptcies, moines, msci, trillion-dollar, semen, karya, unguessable, rubbing, contagion, costliest, cac, airasia, mediterranne, 5.07, cheered, tui, reisurance, 9,300, goetti, wrought, unfolding, 39.10, 10,847.66, 3.817.69, floiran, woest, 16.29, 20.54, analsyts, tanco, kinki, travel-related, dax, mcivor, low-risk, split-capital, anothers, 780, split-caps, waive, fsas, salutary, vendetta, soundness, unrealistically, trebled, report*, rectitude, siphoning, overlook, clearly-defined, rigour, wilder, greased, $53m, complexities, opaque, healthiest, non-payment, attribute, undeclared, alarmingly, looking-glass, antagonistic, comprise, saffron, notification, invests, 5.25%, 5.35%, firstsaver, non-taxpayer, ladybird, payable, â£250, â£1,200, r85, multiples, instant-access, denominated, â£514m, welle, bookrunners, â£690m, $40.15, over-production, $30-35, 4,751, khelil, eia, deplete, mid-september, early-winter, chakib, calmed, crudes, harden, $43.25, matchday, attendances, ofex, money-earning, saturation, 1992/93, 60,000-seater, soccerex, durability, tadeu, da_silva, 24,997, paschoal, 17.25%, pillars, buoyancy, bovespa, brasilia, palocci, buonomo, tov, orthodox, $48.64, 2.11%, $8.2, $500bn, tokyos, steepest, persuasive, takers, drift, apec, $44.38, $800bn, diminished, unaltered, $52m, 227, $172.55, searchable, $85, 19.6, $393.9m, $12.33, closely-watched, lockup, spd, 227,000, zdf, jasperneite, warburg, 5.037, 572,900, schleswig-holstein, rhine-westphalia, million-2, naik, ntpc, 54bn, energy-starved, suhas, 865, rupees$1.2bn, abdullatif, 9bn, moghadam, oriental, reza, richness, plentiful, xenophobic, â£10.8bn, banging, over-egged, 16.5bn, 33.5bn, 134%, sener, assertions, $21bn, deppler, uneducated, at&ts, 3,400, 12,800, post-takeover, 5,125, 1,700, 163,000, 1875, rhiel, alois, hessen, undervaluing, reckers, amex, off-loading, amassing, aefa, marquis, kain, axas, â£46,998, policyholder, endowment, $24,000, defies, â£12,700, gorges, shutdown, amidst, pessimism, kamiyama, 11,488.76, 30-40%, bechtels, hadis, baghdad-based, blackwatchs, brookings, geo-scientists, aberdeen-based, uneasily, pharmacies, blackwatch, multinationals, haves, baathist, second-most, kirkuk, hadi, exceptions, halliburton, baghdads, fulfilling, laggards, twenties, chuckles, re-devise, 114, unfold, eaten, procreative, 140%, childbirth, 130%, toshitsune, toshitsunes, 101-year-old, genes, sutras, 2030, centenarians, sexagenarian, outlive, 127, shigeo, yuji, shimizu, torao, morioka, osaka, roukis, â£2.86bn, $43.7bn, immelt, 0.24%, ges, $5.37bn, 10-15%, decelerate, 12-18, 5,196, columbias, corr, transforms, 5.11%, disgorgement, preclude, blixt, sentelle, tobacco-free, disgorge, distancing, preconditions, vehemently, longden, debt-laden, $422bn, 10,137, $1.26, $50.88, ghriskey, dow, tax-cutting, 2,004, disappointingly, business-friendly, dips, 7.7%, quickening, non-manufacturers, 10,227, mfa, consenus, liberalised, rockwell, hard-pressed, multi-fibre, rags, pendleton, oyens, eeghen, 790m, 550, retrenchment, geijsen, 2,850, questionsmarks, pricked, incorrect, supervision, underwrite, ineffectiveness, government-backed, yuganskneftgas, zack, irreparable, guidant, stent, implant, overlapping, pacemakers, expirations, artery, antitrust, defibrillators, $76, stents, tubes, combats, j&j, unblocked, $25bn, vowing, unfreeze, farhat, lockerbie, unfrozen, libyan, gadaravice, tripoli, libya, â£309m, hoodia, calorific, dixey, bushmen, erling, kalahari, phytopharms, refsum, berta, alencar, â£1.2bn, varig, $725m, varigs, beaudoin, snowmobile, 135, $133m, bombardiers, plane-making, tellier, montreal-based, seating, 2.20, 75,000, telliers, reshape, $94, lulas, licensee, kenney, n-c, shouldered, production-sharing, $20.40, 247p, tonne, over-ambitious, refutes, â£10.50, 1115, catapulted, forgeard, camus, deplored, 747, overrun, lci, $1.32bn, hertrich, lagardere, co-head, destabilise, â£686m, 1,692, tarceva, astrazeneca, placebo, anglo-swedish, pill, mckillop, jefferies, exanta, anti-coagulant, genentech, spinners, iressa, aztrazeneca, crestor, â£135.6m, nikes, second-quarter, converse, sneakers, $4.9bn, $179.1m, $2.8bn, $261.9m, beaverton, made-made, $42bn, $37bn, 191, catastrophes, man-made, $105bn, typhoons, twenty-one, â£54bn, reclaim, $1.87, $0.85, everasia, khurmala, petrel, suba-luhais, iog, petrels, 44p, himrin, 97p, ironhorse, eighties, â£258.5m, outbid, shadrin, state-sponsored, tver, freshwater, collison, sberbank, expropriation, injunctions, state-backed, tass, 246.75bn, $9.37bn, kiknavelidze, retaliate, rainsford, kaha, impound, 4.66bn, bottles, alcobev, strongbow, s&n, kronenbourg, non-convertible, 2.47bn, post-merger, ale, redeemable, froggatt, $106m:â£54.6m, s&ns, der, seiferts, spiegel, clearnet, pence-a-share, 8,500, bluewater, mobbed, enochs, manchesters, heaving, footfall, walton, screwed, maximov, 583p, 533p, applicant, al-jibouri, afghanistans, assad, menezes, all-cash, chalone, â£9.28bn, â£134m, winemaking, $260m, diageos, smirnoff, $69.4m, â£8.89bn, 2000/01, cpi, 0%, â£2.98bn, swathe, indulge, â£4.29m, â£25bn, shipside, â£6,500, remedies, recourses, 261bn, yuganksneftegas, surgutneftegas, 25m, jagran, indy, hindi-language, $34.1m, dainik, 260,000, raines, admonished, underwriting, $4.4bn, armando, gw_pharma, gw, 8.5p, spray, cannabis-based, satifex, biotech, cannabidiol, sativexs, 113.5p, pharmas, sativex, arthritis, tetrahydrocannabinol, non-defence, â£211.6bn, surveyors, surveyor, stabilised, rics, anticipating, lengthened, unsold, drayton, implies, kirchners, aara, boorman, baez, beneath, loath, halting, hopeless, savers, hideous, mattresses, scathes, argentines, leased, â£30,800, refrain, secretarial, reveta, thomsen, impedes, objectivity, disney-owned, $60,000, shamrock, bowers, renationalising, sovlink, muddying, cloak-and-dagger, cowboy, state-ownership, yukoss, kraus, year-end, moscows, agreed-to, envisioned, contrack, contracks, arlington, col, schnaible, $325m, $18.4bn, permissive, lt, pco, 7e7s, 200-, 7e7, 300-seat, pre-sale, a350, super-economical, villalba, merrills, meritocracy, merrill, â£55,000, $14.6m, 42-year-old, â£7.5m, villalbas, unequal, stephanie, victimisation, asbestosis, hardie, hellicar, asbestos, terminally, meredith, sufferer, chairwoman, hardies, asbestos-related, â£568m, mongolia, junhuai, $50.4m, befall, huatai, 417m, huiqin, yilis, yili, mengniu, maharajas, underserved, patel, praful, pricier, â£931m, 110m, orimulsion, importer, tons, quick-growing, lovell, jarvis, pfi, piccadilly, offloading, mid-january, â£146m, amey, â£230m, ferrovial, jubilee, refinancing, $281m, paws, violators, 1.47m, 800%, plugs, chongqing, $258bn, â£140bn, 200bn, recognized, lifan, motorbikes, $177,600, transports, $560m, $234,000, â£291m, $1.40, abnormal, $1.3516, coordinated, upturns, $1.35, gaymard, euro/dollar, $1.3509, generale, people...there, $510m, siriwan, displacement, wolfensohn, shinawatra, societe, 9.0, juthamas, bermuda-based, maldive, incalculable, claimants, 38,000, â£281m, $640m, gelb, newsome, re, â£5.17bn, nameless, prudential, nonethless, hostilities, $64.4m, aberration, april-july, â£97m, april-september, two-way, threefold, 6-6.5%, mid-year, $186.3m, india-pakistan, plastics, mineta, stranding, undelivered, seventh-largest, flight-crew, airlines-, understaffed, court-imposed, sickout, comairs, mountains, luggage, comair, disarray, paycuts, $12.05bn, ji-chang, dongwon, ex-parent, yungmin, yoo, 99.3%, mediate, liquidated, kdb, issuer, $1.354, $1.364, 1800, $40-40.25, mercantile, $2.86, densely, nymex, $41.32, 570, $13, bombay-based, feud-hit, dhirubhai, nanik, buy-back, rupani, â£6.80, milverton, epidemics, diarrhoea, $4.1m, polluted, thrived, epicentre, crescent, â£2.1m, reinsurer, waterborne, country-by-country, stricken, southeast, 3m, palestinian-israeli, faster-than-expected, â£425,000, inter-ethnic, nazarbayev, foundation-kazakhstan, abish-uly, uzbekistan, belarus, market-based, militancy, topple, nursultan, kazakh, khordokovsky, contends, â£5.18bn, gazproms, protracted, escondida, 16-year, chiles, patricio, codelco, $14.2bn, cartagena, 5.5, cochilco, analyzing, expansions, malls, lynn, feel-good, tescos, infants, groceries, gosport, 10.38am, â£269bn, jemma, cromwell, â£268bn, fatos, euro-atlantic, 912km, macedonian, balkans, burgas, mobil, opic, eximbank, us-registered, bosphorus, ambo, dardanelles, macedonia, vlore, straits, nano, balkan, â£173m, condom-maker, mister, benckiser, 16.75, reckitt, antiseptics, analgesic, seton, meltus, three-way, cough, syndol, gloves, hosiery, ssl, 293.5p, gpw, sauber, durex, condom, deodorant, kimberly-clark, surgical, $100m-share, a$6.35, swiss-based, presuming, 7.4bn, sweetening, tommie, a$7.17, vanadium, ferrochrome, a$8.24, mim, pervan, michelmore, gonsalves, value-creating, bergman, coking, â£1.5m, disparate, â£28.5m, â£20.6m, 31p, bskybs, 4.76%, wearside, 42.3%, â£1.53m, 37.6%, $2.8m, â£42.5m, premiums, fer, guaranty, pbgcs, oklahoma, â£23bn, laureate, firmer, nobel, congressmen, logue, roundtable, pbgc, sharpe, near-total, â£183.75m, $353.3m, ivanovo, non-voting, alfa-eco, 98.8%, alfa-ecos, 259.7m, hoegaarden, nikolaev, omsk, kharkov, leuven-based, volzhsky, 97.3%, novocheboksarsk, saransk, staropramen, chernigov, klin, swallows, 57.8, trending, 58.6, 58.1, 67.4, 52.7, 74.0, 72.0, indexs, 57.6, 61.5, malagasy, exchangeable, 1,893, ariary, pre-colonial, quiksilver, rossignol, 17.70, k2, skis, snowboards, surfwear, boix-vives, ski-maker, 16.60, 102.55, hovers, $1.3652, mackel, $1.3667, hovered, $480m, sejong, chong-gyu, redemptions, â£499m, $960m, laah, 140.55, 141.60, $1.3666, mazanec, $1.3636, visakhapatnam, vws, co-sign, satyanarayana, thay, naftohaz, $58, niyazov, saparmurat, turkmen, $14, boyko, yury, 46%-owned, ipc, hogged, chadha, ill-equipped, chada, $39.20, $1.33, $42.30, rebounded, $42.12, employer-employee, cowardly, fomc, apprised, $1.3270, yamarone, argus, daw, risk-taking, 46-year, $1.8832, wolfson, nexts, end-of-season, â£420m, 12.4%, $779m-798m, menswear, locality, â£425m, 13.4%, ft-30, firming, lyle, goodwin, sagging, gent, lyles, repurchase, $4.9m, $10.48, ivankoe, $1.83, dunking, 6.6%, krispy_kreme, franchisee, 14.87%, doughnuts, $3.8m, karstadtquelle, flat-rate, onstart, unadjusted, 4.483, 4.64, 206,900, non-seasonally, pro-chavez, arnoldo, vindicate, classifying, rangel, squatters, communist-style, ranchers, vicente, alexandria, mohieldin, privatising, public-sector, misr, mahmoud, caire, technocrat, banque, reform-minded, â£7.74m, californians, $14m, $14.5m, renews, lockyer, vadim, wranglings, mitroshin, luxembourg-based, pence-per-share, 200p, malaysian, shrivelled, laura_ashley, metrojaya, furnishing, 8.51%, half-year, 10.75p, lillian, mohd-saaid, co-chief, â£118m, khoo, $376m, husk, navarednam, ainum, peng, $94m, â£530m, liquidating, â£264, first-class, saturday-night, deltas, 6,900, $646m, non-refundable, simplifares, icbcs, non-performing, â£24bn, 19.1%, icbc, 74.7bn, homilies, lee-harwood, pro-sustainability, non-financial, generalities, salterbaxter, lexicon, verified, greenpeace, csr, â£691m, $320m, destitute, side-effect, sunil, mendis, 793,000, entities, siberian, clawing, douglas-westwood, sakhalin-1, wray, agrochemical, monsanto, bribing, â£799,000, genetically-modified, waiving, invoice, jakarta-based, investigative, high-ranking, chemicals-and-crops, instructed, non-competitive, conveyed, stearns, pretences, chubb, robustness, recoverys, berson, sails, sidgmore, litigations, $54m, elson, machinations, aycock, kellett, â£28.85m, shockwave, areen, stiles, bobbitt, porter, hevesi, clifford, galesi, wareham, clerical, $984m, houston-based, financings, 6.87%, shave, $10.44, â£162,086, 6.2%, eagle, nordstrom, 9.3%, perkins, neilsen/net, $220bn, larger-than-forecast, 32.2%, upscale, middle-income, costco, 3-5%, zale, outfitters, retailmetrics, 8.8%, desertion, bebe, dearth, $23.2bn, faring, claires, pier, trendy, â£9.49m, deccans, atrs, avions, 72-500, atr, $17.6m, bagnato, 449,603, naamsa, overpaid, 51.4%, chartereds, 925p, paid...the, kfb, koram, decisiveness, standard_chartered, newbridge, $3.3bn, accretive, $44bn, asia-wide, dealerships, 136,000, cordes, eckhard, 3.9, 1.06, banda, $2.2bn, 20-30bn, fallers, defrayed, 1,011.15, jse, flattened, $3.2bn, $14.1bn, majlis, hardliners, 1,070, 1,546, $175.6bn, expediency, hard-line, decision-maker, rials, â£93.6bn, khatamis, modestly, $14.3bn, breakers, epp, abeyance, ecs, buckling, â£89m, boardrooms, â£378.8m, $145m, fastow, plaintiff, retrieved, enrons, 2001alleging, $168m, lerach, $155m, stabilises, â£262,825, 21.7%, â£139,544, â£116,542, 26.2%, â£111,314, â£180,444, flats, â£180,226, â£192,713, â£96bn, $28.4bn, 76,200, $6.2bn, â£3.8bn, 605, privately-held, haute-couture, veer, jeroen, inquire, â£522,000, over-stated, boyntons, intervening, â£82.7m, boynton, vijver, lpg, â£21bn, yadavaran, nioc, jufeyr, $40bn, mid-december, $17.65, domicile, sydney-, $31.22, $5.4bn, massachussetts, hebrew, netanyahu, then-us, shultz, klein, binyamin, mandelsons, eu-us, airliners, a380s, triple-decker, a300s, freight-carrying, nortels, $8.6m, $434m, $732m, restatement, 1.46%, restatements, 2001-2002, qualitatively, gref, hustlers, iliaronovs, illarionov, privatized, kommersant, swindle, nationalise, 2.572, labour-intensive, â£165bn, $150bn, us-china, $593.4bn, $43.4bn, rebates, $124bn, 420bn, xuren, $63.8bn, $311bn, 8.30, xie, 35.4%, benazir, military-backed, anti-musharraf, zardari, indian-administered, kses, lakhani, jubilant, bhuttos, abuzz, defusing, 8%-10%, 6709.93, 225.79, mma, countrywide, yaseen, baglihar, kse, asif, $55.5bn, wyss, â£29bn, ballooned, tabak, crescenzi, $500.5bn, jd, clean-burning, cayenne, burnish, pickup, hybrids, highlander, hybridise, normal-engined, four-wheel-drive, $3,000, deceleration, mariner, under-used, psa, trouble-hit, citroen, jeddah, 1,088, evalution, thadao, abd, $717m, hinged, â£379m, asses, 23,500, ifzal, adb, 645,000, chino, normalcy, 4.17, perpetual, startled, reline, a$846m, lensworth, back-flip, brl, a$4.25, a$3.1bn, mondavi, trustees, oatleys, scratching, $2.4bn, dirk, trichet, 210bn, xings, wangli, stmc, add...since, manly, cigarette-making, stma, xing, salesmen, schilbe, nineteenth, trinkaus, sputter, burkhardt, $54bn, $19.7bn, $95.6bn, $1.3280, 1650, tacitly, â£31.7bn, $1,8923, $19.6bn, $155.8bn, dales, â£24.8bn, â£16.9bn, â£36.3bn, â£1.9bn, narrows, â£27.9bn, trade-in-services, prognosis, garments, duty-free, 6,650, lesothos, macaefa, unceremoniously, agoa, tw, maloti, bangaldesh, vogue, mafeca, lance, friedmann, oreo, krafts, cookies, sugary, kool-aid, nutritionally, reformulating, calorie-heavy, pepsico, low-fat, 59.5%, self-imposed, nevzlin, exile, re-positioning, aer_lingus, seamus, aviation-related, buy-out, kearney, enlargement, uniformity, gooch, uneven, mid-sized, â£82.8bn, harmed, filings, $155.2bn, zoellick, tires, consolidated, foodservice, bowman, bailin, nettle, rymer, hannigan, â£428m, damuro, seafood, tyson, improperly, kelley, ahold, redgate, $5.15, averts, breier, rosemead, unfiltered, â£3.90, taurel, lillys, bevington, â£265.9bn, $349.4bn, maury, showrooms, $4.06, 367,000, non-store, a$4.76, a$2.6bn, ohoy, a$5.44, 39m, a$584m, unrivalled, 3.1bn, a$4.17-a-share, colorectal, hose, cantalupo, lovin, prayers, abbreviated, straight-talking, go-getter, mccafe, throat, whittle, leahy, lean, comerica, littman, 178,000, cary, inflation-fighting, congruent, 77.6%, wieting, utilisation, contemplated, db, overpaying, 45.25, bourses, empire-building, $492m, willmean, 370, 648m, 870, sourcing, mijatov, atomstroieksport, back-taxes, rouble, 2001-2003, $35.7m, â£19.1m, align, pacts, ecofin, competences, tanzi, indictments, fausto, book-keeping, tanzis, $4.8bn, tonna, calisto, triggering, constrained, bootle, deloittes, drawn-out, oracle, mourning, aggarwal, notifying, $10.3bn, funereal, ogden, placate, candles, oracles, peoplesofts, peoplesoft, easygoing, circling, outriders, clogged, impassable, bays, 250%, jacking, $48, yan, reorganising, fume, hourly, â£26, parking, unclogging, motorcades, beijingers, choking, attaining, waggoner, gmac, $6.0-$6.5, $4.0-$5.0, firmed, leasing, $142m, whitman, pyykkonen, $205.4m, meg, $3.27bn, $935.8m, $1.62, $778.2m, $648.4m, $1.48, $4.35bn, $4.2bn, janco, $92.9, $1.52, $4.37bn, tyco, looting, kozlowski, amr, amrs, $14.35, â£206m, arpey, $387m, $761m, cut-throat, $111m, pre-market, $51.2bn, $3.7bn, $3.8bn, $48.8bn, â£481.5m, $193bn, $838m, $569m, $345m, alitalia, barot, $495m, alitalias, iberia, az, â£275m, romes, 330m, owing, 6-7%, babacan, $18.6bn, â£5.19bn, swelled, $3.7m, strand, alwaleed, alwaleeds, renovating, irish-based, connaught, fairmont, claridges, decades-long, mahinda, solheim, rajapakse, pre-tsunami, kumaratunga, hambantota, negotiator, clergy, mekong, scenic, outs, vice-director, crackdowns, salween, stoppages, xiluodi, 4,200, uk-published, fujian, damming, nu, yue, banca, paschi, nazionale, siena, nigerian-owned, lavoro, 32.8%, depository, fend, godfrey, jetstar, sydney-listed, 15-month, amf, vivendis, jean-rene, messier, fourtou, jean-marie, cegetel, jean-bernard, $1.3m, â£690,000, functioning, riyals, 372, 205, nccis, ncci, publicly-listed, 1800s, 1831, 1865, ingrained, plantation, intertwined, descendants, 1,250, dimon, louisiana, slavery, mubarak, hosni, israeli-egyptian, thaw, 62,000, $470m, receivable, full-hybrid, $7.2bn, breakthroughs, freestyle, zephyr, $45.9bn, mustang, 6,798,000, 1,751,000, lr3/discovery, $170.8bn, v50, $697m, delivering...more, $104m, $153m, fords, â£1.87bn, $44.7bn, montego, visteon, s40, $793m, 20.9bn, $98m, 4.1bn, shah, ask-raymond, 2.7bn, apurva, vivek, 4.3bn, wipro, premji, azim, non-specialist, averages, november-december, non-seasonally-adjusted, morrisons, low-prevalence, 130,000-strong, 104, proactively, prevalence, demography, non-discrimination, unaids, 10-19%, 2,200, eurodisney, â£175m, $328m, al-walid, 253m, 12.4, arabian, mickey, â£775, pester, stump, individuality, 142, markfield, 138p, â£429m, pre-cast, leicestershire-based, underpriced, aggregates, holcim, escorts, 18.2, quarries, ready-mixed, ambuja, acc, asphalt, reaffirmed, dhiru, â£9.1bn, anand, ipcl, confidant, bhai, 745bn, yassir, pre-empted, $750m, shimon, desktops, 20c, ritzier, knotty, conciliatory, barosso, peres, iraq-related, â£197bn, $855bn, $368bn, $348bn, envisages, cbo, $2-$3.8, bafin, anti-money, â£7.6bn, $332, 895.4, recife, 10.6%, 10.9%, filho, hegedus, belo, ibge, â£179.3, lopes, janeir, horizonte, bisnis, mahendra, bakries, alwi, $3.4bn, $48bn, shihab, previously-pledged, siregar, prefering, italaudit, consob, touche, plurality, 22,953, kull, untrammelled, willey, pipa, globescan, 1.3040, 0730, 102.975, tacit, extort, elgindy, contended, egyptian-born, royer, colludes, crusader, marshals, crime-fighting, extortion, sobbed, mauskopf, picker, roslynn, elgindys, foreknowledge, xuebing, $190bn, china-published, â£64m, loans-for-favours, jiabao, frontrunners, worthiness, harbin, wen, jiulin, late-november, caos, $648m, debacle, cao, $220m, $30m, â£117m, $550m, changi, $1.03bn, jean-louis, randall, containers, passenger-only, eurostar, eurotunnel, vehicle-carrying, â£548m, 789m, 200-plus, cross-channel, lounge, 39.9%, 25.01%, vido, futurology, water-supply, impoverish, clarin, suezs, aguas_argentinas, aguas, 242m, renegotiate, â£72.3m, water-concession, dinars, $2.77, tiaret, butane, sidi, watan, canister, maghnia, algerias, algiers, ammar, bouira, 874.2m, mahindra, luring, 2.39bn, maruti, 1.41bn, 17.8%, â£29.32m, 30.1bn, $54.98m, tractor, 136.069, five-day, life-extending, anti-davos, converge, 440,000, 20.1%, 19.2%, $214.6bn;â£114.5bn, 22,201bn, 17.9%, 6.962, 13-month, 1.14, stronger-than-expected, 18.6%, 20.5%, 20,479.5bn, 12.011, $208m, amusategui, corcostegui, orchestrate, 160m, botin, banco, hispano, reconvened, santanders, botins, â£111m, rubinsohn, classify, outturn, quarrying, 1.0%, nine-strong, vouch, healthsouth, overstated, co-founded, clinics, healthsouths, oxley, scrushy, sarbanes, two-pronged, hedged, dipiazza, ifrs, low-wage, exchange-listed, over-regulation, pwcs, 1,300, ready-to-wear, couture, haute, spruce, unwrapped, plates, wonky, dimmed, adornments, photography, mundane, wentworth, foyer, decorating, sculptor, jammed, parken, bicentennial, frederik, keitel, christensen, pele, duckling, jarre, fairy-tale, authorship, odense, mermaid, recognizes, fairytale, andersens, 350%, spoiled, madeley, sebolds, paperbacks, finnigans, booker-shortlisted, mitchells, oconnors, under-threes, hitches, nannys, rscs, theatregoers, barnett, whatsonstage.com, festens, shakespearean, rigg, 5/4, anglias, reilly, bechtler, mcdonagh, arditti, calico, garai, pillowman, sweeney, bursary, wintour, bondy, buds, iphigenia, albee, hildegard, wishaw, ferris, festen, aulis, eldridge, pam, romola, luc, macneil, shulman, christianity, virgil, gospels, theories, cicero, rebuttals, magdalene, fantasise, tacitus, clergyman, crucified, manuscripts, anatomical, ssempgani, slang, monologues, ngos, lesbianism, unnatural, expunge, vagina, ensler, kampala, glorified, mukasa, kefa, ugandas, ugandan, coxon, testino, hirst, chalayan, rcas, bradburn, loach, lyric, glens, preacher, sermons, orator, dilapidated, yeats, ocasey, omalley, bible-thumping, paisley, beacon, antrim, belfasts, belisha, soho, phantom, embankment, ballymena-born, schindlers, stranmillis, ridgeway, dup, 6/4, waterstones, erotica, suzie, mysticism, doore, hollinghursts, fergus, smarties, 4children, riddells, illustrations, eccleshare, grindleys, king-smith, under-five, eight-year-olds, riddell, six-, eights, abnormality, kunzru, stewarts, provoking, memoir, armand, cultured, zadie, elegance, armistead, five-strong, mutants, lerois, leroi, mutant, sayle, varieties, inquisitiveness, seberg, snow-logged, rusty, haileys, brolin, memorably, aiport, zero-eight, daydreaming, professions, panoply, self-critical, hailey, nassau, harassed, bestsellers, moneychangers, bisset, womanising, providence, visualised, â£318, $600, page-turners, authorial, mid-thirties, painstaking, bedfordshire, spoofed, coetzee, kazuo, stanislaw, ismail, mcewan, mahfouz, tabucchi, commends, oe, ozick, rushdie, ishiguro, naguib, lessing, lem, kadare, eloy, gunter, roth, kenzaburo, updike, kundera, bellow, 18-strong, muriel, salman, yehoshua, basquiat, lichtenstein, versace, lichtensteins, cunanan, sothebys, $10.3m, townhouse, warhol, $3.4m, clemente, 2001fetched, masterpieces, â£5.5m, versaces, six-storey, juxtaposed, impressionist, tobias, slater, ethel, lange, wingfield, menagerie, domineering, heathers, leveaux, polynesia, fetched, omai, â£12.5m, caricatures, noble, â£10.3m, exhibited, 1776, wrangle, 1774, ashton, ballerina, russes, markova, diphtheria, diaghilevs, governess, markova-dolin, ballets, tow, ballerinas, uncles, 1910, markovas, lilian, sylphides, prima, 1935-37, alicia, diaghilev, dolin, stravinsky, re-formed, lightness, kickboxing, hobbies, perfecting, rad, carving, dainty, darcey, nurture, re-ignite, bussell, fonteyn, antoinette, trew, sibley, nureyev, boyles, francisco, tucks, paraguayan, honourary, roths, snobbery, arc, blumes, wildfire, 1965-2003, godless, 9-11, onan, 1920s, contagious, fictionalised, paraguay, â£5,390, hautman, napkin, narratives, 420,000, amazon.co.uk, voldemort, wizardry, half-blood, potters, manuscript, rowlings, pre-order, bookshops, terrell, witchcraft, pinks, saumarez, rubens, greco, caravaggio, urbino, pre-11, raphaels, alton, pedestrianisation, tolstoy, alva, tussauds, 1,466, excerpt, synopsis, ontario, cavanagh, northwest, erotic, robinov, cuarons, tambien, burnett, enlists, rasheed, strangers, hand-held, musings, saddams, oday, pax, cfca, southeastern, laud, 13.7, 14.2, dens, stupidity, daffodils, one-hour, deplorable, monolithic, merrier, disdain, twenty-first, glasses, egalitarian, ski, xdance, unpatriotic, story-telling, star-struck, slamdance, viewpoints, redfords, sundances, corduroy, so-and, downtown, myriad, corny, oldman, marvelling, featurette, winsome, crookshanks, conjuring, calamity, scabbers, pawlikowskis, co-chairmen, laundrette, ladykillers, deakins, fellner, stauntons, firth, cattrall, pegg, leighs, takuo, vie, miyagishima, 267, elegant, gollum, mince, embodied, three-metre, pies, wintry, claus, castaway, zemeckis, eight-year-old, â£162m, perpetuated, cannibals, dominicans, conquerors, cannibalism, caribs, up...we, 1600s, $305m, dominicas, dominica, carib, practised, colonisation, anjelica, schmidt, selma, salles, â£3,650, robbing, $7,000, christs, pierson, commercialisation, â£322m, screenings, chihwaseon, hazlewood, cinematographically, forceful, kwon-taek, dornford-mays, berlins, stylised, reticent, besides, daze, jnr, purlie, hernandez, hasna, nora, paramedics, 65-year, poitier, 3.35m, reno, â£3.77m, 885,000, fiancailles, â£611,000, figaros, best-paid, figaro, uncredited, depardieu, 3.55m, dimanche, â£2.45m, â£2.31m, applauds, kigali, rusesabagina, peck, rusesabaginas, raoul, 55th, cheadles, malloy, annals, anchor, newscasters, afi, self-censor, affiliates, freefall, kowalski, milestones, 13-strong, hypnotic, brokaw, antoine, detonated, firework, pancake, squibs, fuqua, dudas, disobeys, stepchild, educates, atlanta, morehouse, gatekeepers, â£24.8m, graces, $46.8m, bruer, $7m, $19.5m, â£38.9m, $75m, â£48.3m, $73.4m, â£14.9m, majeed, anurag, zaidi, hussain, kashyaps, kashyap, mihir, memon, post-production, lotterys, winstone, peeled, one-disc, schama, present-day, thrill-a-minute, knightly, titchmarsh, guinevere, corleone, warmed, tango, gangster-style, marchak, glorify, caan, moustache, bertoluccis, schulberg, drawn-on, sported, budd, pencil, duvall, islamist, burgle, slain, booy, fortuyns, dutch-moroccan, pim, fortuyn, self-image, laing, uninterrupted, themed, constraints, bulletins, displacing, snicket, spanglish, whisked, â£15.5m, olaf, entertained, connelly, handler, $30.2m, carrey, bosom, luminosity, mira, intuition, becky_sharp, witherspoon, nairs, thackerays, non-actors, masala, makepeace, visceral, climber, intuitively, mesmerised, clear-sightedness, red-headed, witherspoons, next-best, minx, self-fulfilling, irresistibility, carts, salaam, nair, carriage, underfed, reese, fleshiness, minx-like, indian-style, thackeray, prophesy, song-and-dance, orfevres, backer, academie, torreton, dutronc, poelvoorde, emmanuelle, quai, auteuil, desplechins, yolande, devos, moreau, kechiches, lequipier, singer/actor, amalric, terzian, karin, viard, vicissitudes, bleeps, canopy, mink, erected, humorously, counterterrorism, receded, seven-second, sarin, disapproved, cates, eyelashes, high-visibility, twice-nominated, $14.3m, charms, osella, $110, $1.25, $5.80, $9.4, billion-plus, $6.25, dramatist, impoverished, tunisian-born, alienated, kechiche, cesars, pleasures, travails, introduces, forestier, marivaux, suburb, 18th-century, schoolteacher, wistful, jakamoko, isitt, featherboy, dom, pre-school, joko, toto, balamory, playschool, floella, debbie, bungalow, turban, collingwood, mccourt, american-themed, darins, hoskins, croooner, bosworth, spacey, blethyn, sings, darin, brenda, $24.1m, historys, sandals, grandiosity, mata, â£12.7m, â£17.m, barrier-breaking, bravado, scorn, gore, vidal, blood-and-sinew, $21.6m, hectoring, unwieldy, $33.1m, bisexuality, hamstrung, swords, $13.5, bleached, jolies, â£11.4m, accent, buttnumbathon, jfk, bisexual, earring, bonham-carter, pavlikowsky, minghella, hickox, bifa, birthistle, â£63.3m, â£6.6m, 1,796, $12.7m, danner, $165.8m, $121.9m, $9.4m, â£86.1m, $44.7m, â£23.2m, ock, waynes, wilmas, molina, tongue-in-cheek, erin, blooper, torment, dunst, hellraisers, gaudy, leans, tobey, po-faced, heart-wrenching, non-essential, 349, scrubbed, uncut, discreet, jacoba, â£306,814, 5,808, pavlik, furlong, mid-to-late, paltrow, rained, mudslides, 3,300, $110.2m, male-orientated, bruckheimer, â£8.8m, â£77m, â£2.4m, $17.1m, $4.7m, sixth-place, cages, â£56.7m, savaged, luncheon, vinod, dias, dsouza, mumbais, kerala, ordained, zubair, hoardings, sins, pande, picturesque, communitys, portraying, dolphy, witchs, moving_castle, miyazaki, animator, bunuels, oherlihy, crusoe, welles, packard, orson, macduff, 1987s, omni, township, beheaded, scholls, anti-nazi, rothemund, 40-strong, gestapo, condemning, interrogations, transcripts, yimou, carradine, mirroring, prehistoric, tomiyama, fascinate, ryuhei, matsuoka, atomic_bomb, 2,271st, godzillas, proclaim, lizard, shogo, masahiro, filmmakers, kitamura, pullman, iconoclastic, weitz, guises, anti-religiosity, pullmans, bridgetothestars.net, curtails, god-like, belacqua, spyglass, blasphemy, lyra, overthrow, unviable, anti-religious, modification, globes, bateman, dramas, nip/tuck, felicity, comedies, mcshane, demille, huffman, teri, deadwood, musical/comedy, cecil, jagger, sopranos, hatcher, marcia, pasadena, anti-bush, snubbed, inwhich, cryptography, protagonist, whodunit, semiotics, medieval, bankable, transsexual, brandon, caouette, kassell, molester, aaltra, handicapped, fipresci, paedophile, pixar, teena, tarnation, satyajit, â£6.7m, $42.8m, â£5.6m, $11.2m, $10.7m, â£65.8m, $12.8m, â£23.7m, $12.2m, $14.7m, $125.4m, â£90m, $8.5m, â£6.2m, $163m, 20-30, bratt, budding, forty-two, ellie, carruth, hurosawa, mogwai, â£1.25m, fanclub, zutons, revelatory, under-produced, notables, streetwise, 40th, razorlights, 44th, vocalist, radiohead, enemys, jupitus, mother-of-nine, stilwell, sensationalist, courthouse, $40,000, plying, â£21,000, molestation, â£1.33m, molesting, stand-by, juror, dismantle, divo, 5s, maroon, minogues, shakurs, protegees, suge, parole, barstow, marijuana, assaulting, destaing, fondation, bastille, claptons, anne-aymone, accompaniment, aznavour, giscard, valery, lenfance, 2,700-strong, out-selling, brocksteins, 1000th, sonybmgs, wind-up, trevin, brownsville, skeens, hagerstown, herald-mail, â£38,660, 13-year-old, evanescence, censored, $74,500, discharged, 0700, strenuously, spiked, drugged, wander, kimmel, broadus, deceitful, rape, snoop, gin, simons, mastered, germano, springsteens, ragovoy, whitney, dirt, run-dmc, ll, sigel, def, dmx, beanie, flu-like, aneurysm, accoustic, ruptured, stub, merle, wolverton, self-penned, crediting, congestive, unrequited, manifest, truncated, correspond, marley, jamaican-style, marleys, exodus, rollers, goth, scottish-based, eurythmics, lowly, subconsciously, weathers, slims, maracana, fallow, peppe, masochistic, horizons, palookaville, landlocked, me-and-zoe-gate, outgunned, pacing, 360,000, superclubs, consciously, fatboy, valium, prodigys, revellers, rattling, jolly, accumulates, pap, scrub, mcfaddens, corporal, withdraws, fintians, fogarty, implied, fictitious, collaborator, gram, chords, cooder, kokomo, ry, papas, melcher, mid-1960s, mamas, belfast-born, thrills, glasgow-based, christies, crooner, futureheads, divos, doves, maries, akons, alouds, operatic, akon, hotly-tipped, highest-charting, disco-rock, chili, lapping, home-town, peppers, enormity, boyzone, aimlessly, suddenness, barbados, sing-along, olivia, newton-john, gibb, idol-type, chopin, sustenance, bands/artists, state-funded, wagner, nea, moulds, debussy, angst, self-sufficient, megastars, privately-funded, napalm, allotting, louder, twiddling, 300-strong, macmillan, gorbachev, fraternities, southernplayalisticadillacmuzik, displace, exponents, platinum, stakonia, crowns, dog-breeding, bois, spans, 1xtras, awakening, korns, bakersfield, happiness, untouchables, 1,000-strong, seated, autograph, stabbing, darnell, kenard, scuffle, vibe, sickening, slades, whams, mistletoe, sleigh, moped, ticket-holder, 24-26, 112,000, purchasers, touts, 153,000, latifah, degeneres, milian, ticketmaster, croke, mcd, 59.50, courageously, 24-carat, lamented, impulse, chalfont, trouble-free, daisy, couldve, arses, accomplice, disturbed, wifes, burglary, 0845, 505, sapphire, ski-mask, break-in, hindsight, quad, stalkers, light-coloured, sapphires, handmade, bedside, necklace, slept, well-built, colon, muller, 555, 30ft, unheard, xfm, gobsmacked, martikas, lopezs, raitt, dickie, $0.99, salsa, lynyrd, j-lo, rican, skynyrd, â£0.53, mavis, velvet, betts, salsa/merengue, mic, half-step, flutist, horowitz, yauch, newtons, punk-rappers, lower-court, flautist, pike, sharkey, 14-year-olds, lucie, silvas, singer-songwriters, feargal, yoxall, bmr, bmrs, rigueur, roderick, spectors, clarksons, lana, cutler, lindblom, civilly, grobans, hoobastank, maroon5, seacrest, josh, tirade, gestures, lantern, crotch, docked, shady, obie, mosh, trice, $110,00, $2,115, â£16,000, â£1,140, â£59,000, $110,000, â£600,000, divulge, butterfields, â£27,000, colosseum, skateboards, linkin, tor, bennington, pharrell, xzibit, bicycles, anastasia, open-air, d12, valle, winkler, altercation, 0200, jostled, nevermind, unplugged, smells, krist, wrangles, grohl, novoselic, biographer, r&b-soul, ciaras, dylan, re-issued, sugababes, $144m, â£3.99, 79p, 72,000, wikid, fledging, gutted, brushes, greed, reel-to-reel, â£29,000, â£267,000, jj, vibraphone, gown, fitzgerald, sablan, theolonius, hampton, saxophone, beloned, ella, handwritten, trombone, monk, bruni, coltrane, guernseys, paedophilia, self-facilitating, webmaster, brooker, send-up, co-write, hates, node, satire, brass, guerrilla, character-driven, $100,000, vetted, schenck, pre-taped, wraz-tvs, â£52,590, trivialises, impostor, independently-produced, us$100,000, wraz-tv, 182, â£52,000, a-listers, bitches, flanimals, six-part, deconstruct, zeitgeist, stiller, 171, bozell, sleaze, 2,881, jeannie, breast-baring, kedas, peddlers, smut, 3,056, ptc, raunch, residue, baretta, criminalist, bonny, bakley, dowell, emmy, goings-on, emmer, coupling, â£17,320, profanities, â£293,264, $3, â£266,582, politcians, adjourned, legisation, brownbeck, $32,500, superbowl, revoke, â£1.6, celine, dion, ruslana, pitting, iglesias, nana, lulu, eurovision, mouskouri, dossiers, stalked, emails, mistaken, csi:ny, rosencrantz, satchell, recommissioning, rowetta, recommissioned, most-watched, 542,000, rocking, cbs-owned, vicki, nipple-baring, arquette, six-year-run, thirteen, joeys, aniston, phoebe, courteney, earl, misel, flatt, texan-born, hillbillies, banjo, jed, clampett, bluegrass, anniversaries, daugher, scoggins, scruggs, bransons, materialistic, grogin, 12-episode, apprentice, plank, 91st, 1/3, escaping, clubbing, ex-wife, loopy, argumentative, stallones, sylvesters, aladdins, curiosity, scarf, dylans, â£350, eccentricity, raquel, vintage, ostentation, â£1,950, peculiarly, open-fronted, sipped, deckchair, detakats, stalls, perched, hellewell, toothbrush, sofas, unshowbusiness-like, toothbrushes, gregarious, wedgburg, â£4,250, stripy, upholstered, smoked, trickle, custom-made, camden, clutter, deterring, wandered, burgess, bartering, thurman, leno, superstars, ditched, commercial-free, uma, 5,300, blige, co-present, 2.9, bakula, coupon, full-page, voyager, quantum, nx-01, upn, $23,000, upns, relaunched, kash, totp2, andi, roly, bestow, portman, ex-big, nortons, outens, 1/2, nineteen-year-old, housemate, hide-and-seek, kenzies, 4/6, 1/5, skates, gascoigne, skater, liberty-x, rink, smillie, stipulated, torvill, jayne, skating, pinsents, jennie, buerks, kaplinskys, unwell, natasha, sharapovas, esther, rantzen, whimsical, tele-ho, old-time, whittington, cyril, astell, secombe, 1947s, sorely, reciting, pointon, fletchers, misprints, emperor, gardens, nickleby, revue, guernsey, droll, pantos, gardening, odes, consummate, life-size, dancefloor, vies, cohens, threes, lucerne, 3-8, varirty, agatha, supernanny, borat, flashmob, hells, warmonger, dysfunctions, houck, spin-offs, backlogged, instantaneously, toxicology, forensics, juggernaut, 200,000-300,000, forensic_science, mcfeeley, near-infallibility, attorneys, jittery, pathologist, re-recorded, sizable, cantonese, telethon, â£525,000, ledgendary, kember, heir, listens, commited, totallyradio.com, knowledgeable, onemusic, lamacq, nellie, keaveney, keaveneys, brooksides, 1989s, neaptide, runcorn, fridges, jock, viacom-owned, cancels, &#163;1.8m, â£907,000, halftime, $1.7m, infinity, â£293,000, anderton, appleton,31, appletons, barratt, two/sky, one/channel, buffalo, misfit, boosh, geordie, mcavoy, stoppard, subscription-free, scrutinise, danniella, non-celebrity, 50p, slashing, suitcase, 20-1, nielsens, publicity-seeking, sunita, 40-1, cola, sharma, pistol, 9p, greers, ex-e17, westbrook, lydon, detectives, sitcoms, dolores, castor, troiani, $18, â£9.25, moms, champ, rdfs, wholescale, rdf, 25-minute, â£27.2m, $85m, 11.9m, tufnell, 12.3, mcpartlin, 15.3m, beanstalk, pascuale, new-type, 49.2%, cricketer, 62.2%, 10.9m, 10.9, bon, krim, vh1s, astronaut, light-headed, throw-up, rat-eating, spiders, hand-written, four-page, â£1.3m, doorway, ofcoms, unbalanced, insidious, cbe, redmond, mersey, hollyoaks, school-based, tamsin, 1.8, coogans, risers, greig, detaching, icrc, 200-page, wambo, pro-democracy, buenos, luandas, sahundi, gera, gripped, joaquim, lapete, tabloid-size, aries, reunified, gazetta, angolas, cannings, headmaster, burchills, volcanic, pompei, sants, belsen, two-part, schooldays, bex, supervolcano, yellowstone, archangel, merges, stevenson, barron, erupt, volcano, conman, docu-drama, genghis, frys, eruption, midsomer, erupts, fingersmith, marple, epipsodes, mongolian, wiedersehen, nettles, hollinghurst, poliakoffs, highbrow, beachgoer, crest, x-files, baywatch, 12-year, hasselhoff, knots, howlers, operas, mind-numbingly, makeover, sirius, rantings, restriction-free, cidatel, $1.75m, pennsylvania, 25-54, citadel, syndicated, infomercial, â£950,000, shefrin, 75-year-old, bloopers, 1956-87, bandstand, frankin, holly, news_website, interactives, roms, endemol, 1/14, aroused, 2/9, adjudicator, â£2.7m, respiratory, emphysema, carsoni, fargas, dismally, bookies, tether, troublemaker, putrid, folllowing, sorrells, rations, 3/1, huggy, guest-starred, crockett, fastest-rising, off-beat, ballykissangel, 2/1, 1/4, 0300, underestimated, stallone, anti-mccririck, 7/4, compound, daughter-in-law, 5.9, drifted, unscripted, 6.3, berman, gail, poor-rating, edgar, nesbit, bierce, tarrant, fireside, poe, corbijn, co-executive, sucessor, manchester-based, depeche, dutch-born, curtiss, headlining, alison, twin-engined, post-mortem, aaliyahs, blackground, 320kg, aaliyah, penski, cessna, timeslot, parfitt, mid-week, bissell, therese, adler, pyjama, thou, romance, connick, zolas, emile, pajama, raquin, supervisor, charisma, ackerman, shalt, gennaro, castaldo, symphony, uniting, filthy/gorgeous, erasure, rayne, regains, royalty, reading/leeds, rename, tet, disused, sebadoh, arresting, domino, abatement, smog, humming, contravening, damndest, post-rock, muso, stacks, wheres, posteriors, raiding, anti-gun, 10,500, asha, letisha, glamorised, roni, charlene, jama, beth, barrow, parted, clutterbuck, warwicks, busteds, rennie, amicable, crabbe, 13-date, fightstars, pop-punk, fan-base, hindered, coinciding, riotous, post-busted, 4pm, chiefly, long-rumoured, eccleshall, outselling, galvanize, 1,001st, 10/1, wyman, eliza, youssou, cigala, flamenco, malian, nomadic, carthy, lagrimas, bebo, ndour, tinariwen, negrasmusic, chango, sulimanovic, zephaniah, spasiuk, senegalese, valdes, totp, kombou, dazur, schoolgirl, french-canadian, cote, francophone, roch, nrj, elephunk, clad, jenifer, voisine, goa, self-financed, figurehead, yself, plath, fuerteventura, lipstick, homelessness, b-side, singer/guitarist, dredd, flicker, sherry, compilation, severn, ten-year, self-harm, manic, name-checked, disorders, stadium-conquering, skeleton, richey, articulated, raw_t, hacienda, detested, proliferated, despondent, f4, five-date, indecent, profanity, anti-gay, dem, weh, swore, fi, taskforce, patois, jive, $9.3m, cutting-edge, reimbursed, aborted, illinois, 82-date, onyx, gay-bashing, tok, homophobic, picketing, vp, capleton, outrage!s, buju, kartel, j-flag, jammins, vybz, yearwood, violently, seventeen-year-old, wolstenholme, teignmouth, hysteria, absolution, tendons, rheumatic, motley, ex-girlfriend, mantooth, degenerative, crue, â£5.4, hisss, disputing, angels...i, siouxsie, coffin, sioux, bohemian, drake, years.perhaps, oversentimental, lyrically, division.those, appelas, second-rate, wuthering, meanings, snobby, rhapsody, ditty, orrible, slushy, mediocre, redifining, brainwashed, best...we, goodlooks, picnic, suede, discos, lackluster, facsimile, biassed, embarassment, artisic, ridiculuous, overrated, folks, siblings, pleeease, booo, serene, bites, lp, catergory, matronic, non-fans, afro, pre-teens, years....its, speechless, moguls, kinky, mediocrity, robs, pavlovian, sisterhood, middle-of-the-road, all-rounder, bane, slow-dance, soppy, cunning, duetted, aspirational, frontwoman, 25year, discisions, sops, boringly, claptrap, baffling, 125,000, mcalmont, half-baked, bargaining, nope, presneted, buzzcocks, kidding, down-to-earth, motherhood, birmingham-born, rah, nspcc, teja, digga, jamelias, fickle, songwriter/guitarist, nmes, kasabians, blends, lsf, sideburns, badlands, well-received, rocknroll, rutland, karloff, guerilla, meighan, getaway, primal, arse, armenian, farmhouse, serpents, cutt, pizzorno, sensibility, pigeonholing, uber-category, btw, london/manchester, soul/rnb, oversensitive, benson, brushstroke, sub-category, bebop, melody, originates, sidestep, crunk, condesending, invoked, hay, reignited, northing, colourblind, ragtime, tuff, puting, comapnies, cities-, despise, clumping, funk, fueled, syncopated, kravitz, irrelevent, terri, acknowledging, sub-genres, ty, multi-cultural, originate, characterise, pigeonhole, flailing, hendrixs, seattles, demolish, run-down, janie, stepsister, weitzman, â£535, narcotics, opiates, ex-hole, sober, concurrently, bean, oxycodone, injecting, jaw, wests, rhymes, near-fatal, clich&#233;d, jamz, dmc, hova, izzo, sinks, mase, madd, kanye, critically, twista, york-born, meghan, aguileras, maya, bratman, dirrty, grammy-winning, marmalade, clinging, coarse, catsuit, edginess, flag-waving, youthful, 26th, bonos, macphisto, schoolfriends, olives, hewson, mcguinness, speaker-climbing, cliche, churning, anthemic, corresponding, achtung, zooropa, re-invented, alter-egos, stadium-filling, explorations, scouts, drum-throwing, ireland-only, fathead, sha, cocker, pickett, newman, encompassed, progeny, orbison, carmichaels, trait, arranger, first-generation, indisputably, cochran, whatd, hoagy, manfred, hallelujah, redding, winwood, pop-oriented, tear-stained, mayfield, burdon, baptist, cooke, milt, rap/sung, stardust, lennox, mayer, transmigration, gladys, replicate, agnetha, ulvaeus, andersson, sos, stromstedt, niklas, cirkus, lyngstad, anni-frid, faltskog, soulman, fifth-placed, kerrang, flower, judas, sabbaths, clog, rejoined, lostprophets, gravestone, glam, pistols, cemetery, 41-year-old, aids-related, auctioneers, monterey, much-loved, 2.6bn, endangering, realties, good-selling, plummeted, renner, zombic, cd:uk, sm:tv, deeley, lyttelton, mtsensk, clancy, cadle, drury, gielgud, ades, hytner, swamp, othello, whishaw, conleth, hecuba, paule, pryce, emilia, mear, gambon, donmar, dreyfuss, sadlers, choreographer, tempest, killamangiro, waldens, carlish, disconnect, punches, occurrence, rocker, documentary-maker, bouncers, frenzied, 50-minute, hammerstein, nazism, trapp, novice, viennese, volksoper, edelweiss, goat-herds, nun, nazi-occupied, alpine, austro-australian, yodelling, kitsch, filmgoers, lederhosen, occ, bard, orleans, c-murder, corey, second-degree, rakosky, yall, withering, tru, siemssen, parish, smouldering, gentlemen, footswitch, conti, plate-spinning, hatchets, carousing, elegantly, helmets, sketching, laughs, rehearsing, faint-hearted, ramble, contis, flustered, boycott, herre, fullness, occupied, jonesboro, vile, nellys, homie, spiral, rivalries, jadas, jadakiss, editor-in-chief, xxl, escorted, violator, hylands, angus, playboyz, rundown, punctuate, rapport, butters, verbalicious, maniacs, cassette, 103, grandma, cheeky, between-song, stereophonics, recorders, ejecting, topper, disloyalty, inferno, tryin, masscre, concurrent, fairground, nina, luna, electra, sexiest, imbruglia, goodrem, noll, cher, bellahouston, tent, rems, kick-start, lomond, hampden, balloch, 9-10, ticketweb, â£77,800, compton, negativity, â£53,400, jayceon, g-unity, $103,500, mmf, mmfs, benchmarks, speedily, $1,300, hindering, time-specific, mccune, orkneys, â£680, pythons, sinatras, requiem, dragoon, mozarts, requesting, ac/dcs, bo, farndon, endearingly, shakin, inductee, contemporaries, stabbers, goin, pretenders, diddley, sledge, medley, astoria, waldorf, hynde, messianic, gospel-style, timberlake, overdoses, lotta, ojays, bb, rowdy, piano-pounder, mullet, mocked, honeyman-scott, lomas, healy, re-schedule, billys, haydn, mower, gwnne, daldry, elliots, familiarise, smernicki, aeroplane, stewardess, rugby-tackled, mirvish, tolkien, hobbits, varttina, torontos, impresarios, warchus, conjuction, dame_julie, ark, dumpty, lamda, humpty, pl, mcclelland, $17.7m, â£73m, â£12.8m, $7.4m, $42.9m, â£22.8m, â£3.9m, $7.6m, $5.4m, $137m, â£15.2m, 204.3m, $19.35m, â£10.2m, â£53.2m, â£109m, gratified, co-created, exaggeration, fry, self-confessed, humma, rickman, voyage, storys, malkovich, intergalactic, kavula, aamir, bhi, annabelle, determines, non-indian, polly, bernath, improvised, amitabh, bristols, bachchan, langrishe, kisna, bilingual, dil, backdrop, eastwards, heart-throbs, non-asian, toby, antonia, kahey, lagaan, subhash, sweetheart, ghai, adarsh, squid, costner, duane, baumbach, noah, drunkard, kudrows, coming-of-age, matador, comedy/drama, hopwood, endings, gyllenhaal, decamp, whale, charlottes, winfrey, cleese, ten-year-old, eb, dakota, buscemi, winick, goose, phinnaeus, wilbur, oprah, libertine, samuelson, knightley, twenty-seven, co-productions, paver, torak, seven-figure, biochemistry, breathes, cub, ridley, enchanting, primeval, work-in-progress, pavers, 6000, surfer, indestructible, headaches, ingrown, dandruff, rekindled, romitaand, affectionately, sate, toenails, irradiated, panther, sidekick, nerdy, syllables, astronauts, acne, 1922, comic-strips, closet, northstar, claws, swansong, superheroes, kirby, discouraged, thor, brawn, lieberman, joan, cosmic, grappled, superteam, byline, kinnaree, ravages, mothballed, pusan, cinemagoers, carpets, conspicuously, offputting, eclectic, premieres, damme, prater, toned, kinnarees, attain, fundraisers, subtitles, praters, visibly, awfully, beresford, cazalets, regulars, rowlands, guildhall, carved, hove, sid, bless, patsy, well-loved, put-upon, hard-done-by, potts, bardem, chan-chook, barratie, geislerova, laurie, miranda, baldrick, blackadder, poignant, trench, gs, dumbed-down, bemoan, fussy, dumbing, f-word, vegetating, corbett, slamming, sketches, sketchbook, good-natured, $7.2m, madea, â£10.9m, â£4.9m, â£11.8m, philandering, cravens, $22.7m, $9.5m, â£3.74m, cheerleader, elise, â£6.1m, werewolf, gun-toting, ranger, cursed, jana, commissioning, daytime, in-house, flourishing, bogart, littlefeather, skolsky, 5,700, 2,530, fonda, opal, cruz, statuettes, hitchcock, 8.45pm, dresses, hepburns, humphrey, demure, hobsons, jolson, 1927, overheard, movie-makers, glitz, casablanca, suspense-filled, admittance, sr, movie-making, statues, fifty-five, banquet, herrick, 1939, sacheen, dorothy, 1944, cavalcade, streaked, receipt, bounded, culturally, tootsie, 67-year-old, craphouse, hoffman, willy, sleepy, poorly-received, barries, depps, unconventional, retarded, grape, kentucky, mannerisms, roald, barrie, b-52s, wonka, idiosyncratic, gilliams, snuff, depp, surefire, brasco, loathing, chocolat, infiltrating, dahls, scissorhands, spiritually, readings, genet, patti, proust, ex-smiths, birkin, exploitative, 58-year-old, eno, manzerana, 10-12, roxy, manzanera, 1972s, supergrass, offspring, â£64.5m, â£81.5m, cfx, sillermans, hardcastle, ckx, $156m, drive-in, holiff, rpm, dabbled, cashs, nashville, statler, katie, jameson, â£17.7, melua, $33.6, 174.6, uk-signed, 26,000, leon, dickinson, pixies, 26-28, babyshamblers, maidens, heavyweights, richfield, dohertys, wetherby, bramham, marilyn, â£125, fiddler, charlatans, nme/radio, ex-childrens, corellis, mandolin, joness, filmmaker, pellets, pietro, swallowing, scoured, quirkier, amenabar, colombian-born, alejandro, smuggles, condoms, therons, bogota, 1999s, contrasting, eluded, benings, grifters, swanks, gangster, sex-starved, seductive, burnham, bugsy, surburban, bening, myra, akroyd, buzzes, deliciously, 1988s, carolyn, neurotic, inflammatory, bush-baiting, foreign-language, makeup, us$370m, aramaic, semi-mythical, well-paced, bunker, epic-style, palme, snubbing, dor, punky, nominating, tinseltown, bugging, kidmans, kidman, eucalyptus, crowe, magistrate, fawcett, somali-dutch, depardon, ayaan, iraqi-german, hamer, hirsi, angadias, co-produce, percept, diamonds, 60-year-old, romancing, nile, douglass, swashbuckling, $881m, â£468m, edna, â£306m, $576m, annies, brittany, gambles, punter, bana, salmon, wagers, 6-9, â£870, enigma, 7,500, angolan/french/portuguese, 11-day, 24-year, tug-of-love, mcallisters, salt, leonardo, dicaprios, commemorate, critters, juliet, teds, 2,277th, idaho, uptight, â£7.2m, â£750,000, ex-cia, kurosawa, chieko, musicologist, rubiks, recreated, 1728, dinosaur, recreates, bachs, 216, fragment, aria, rifkin, cantata, palaeontologists, soprano, hara, bwv, maclaine, weissler, pre-broadway, applegates, verdon, fiscally, gwen, applegate, digney, longtime, wardrobe, ephemera, souvenir, scrapbook, britney, stepdaughter, â£700m, bedingfield, victorias, dhani, craymer, remortgaged, â£340m, â£67m, â£75, zomba, lloyd-webbers, neal, mcgurk, flemings, americanised, reinvigorate, broccoli, niven, pitted, baccarat, zorro, banderas, bergerac, purvis, sadistic, nemesis, casino_royale, chiffre, zealand-born, minder, bipin, iranian-born, negar, bihari, jawani, topless, chadti, skillset, highly-qualified, 78%, underpinned, shoo-in, outdone, rings-style, drakes, lavished, heavily-nominated, airbrushes, ufo, terrahawks, clangers, life-like, rehashing, gobo, saturated, magic_roundabout, expat, muffin, chorton, puppet, mock-authentic, reinventing, noggin, roundabout, fireman, thundercats, miserably, bod, bearded, flat-cell, seam, remakes, c4, targetted, mega, mungo, wisp, antics, wombling, pugwash, citreon, nog, recyclers, moderately, nesbits, yaffle, $42m, cg-animated, luv, apalling, rentaghost, pludering, twitch, yesteryear, rework, 10-15, repackage, pandy, yoffi, bagpuss, clowns, torch....hmmmmm, entice, now-defunct, otherworldliness, scarlet, cuddly, galactica, mr.benn, extortionate, re-watched, trippy, clunkiness, re-gurgitation, clipping, morph, â£11m, 1977s, toons, banana, cartoons, less-than-successful, gandalf, remodel, daring, $$$, mannequins, makeovers, smiled, dungeons, sacred, drivel, midge, childhoods, grearest, repackaging, he-man, bod.....oh, backfiring, sarcastic, reviewers, furry, grannies, fingerbobs, re-workings, plany, mysterious, saphire, remaking, disneyfying, postman, krusty, sprung, catweazle, misty-eyed, starsky, fingermouse, willow, stop-motion, everthing, torch, wheelies, organ, grandpas, e.g, dearest, battlestar, postgates, papamichael, m.a.s.k, childrent, a-team, supermarionation, rushden, dougal, chorlton, joes, puppets, reinvention, inventiveness, sunshine, reserved, caramel-coloured, rooting, micha, armani, shimmering, hepburn_in_the_aviator, schiffer, ear-piercing, australian-born, sparkled, chilly, limos, sienna, floaty, throngs, frock, floor-length, oc, sequins, screamed, carpet.\"its, crowed, nominated...ive, hotly, gunpoint, beaded, bio-pic, pinnies, masonry, actor-director, â£75,000, cordoned, swansea-born, trodden, â£340,000, benefactors, repertory, over-estimation, poulton, assassin, jackal, first-week, outshining, sixth-highest, $458, â£42.4m, â£242.7m, dreamworks, â£29.7m, swollen, waltzing, dobson, apologising, ballroom, chelsom, braved, glands, boasted, lowell, showtime, ate, libelled, spurlocks, 25lb, libelling, goldwyn, supersize, â£40,000, supersized, liver, mclibel, foreruns, schraders, merrin, â£40.7m, shelving, harlin, skarsgard, frankenheimer, stellan, $76m, schrader, 11-26, verne, renny, cliffhanger, sydow, harlins, $370m, â£48m, bestowing, $45m, amadeus, nikki, $90m, $436m, $259m, â£137m, rocco, vested, â£952m, â£52.7m, minions, â£16.1m, movie-going, $10.85m, $7.7m, $31.8m, hollwood, â£4.1m, satans, â£5.73m, â£16.8m, $30.5m, mendelsohn, tarantino-directed, er, csis, buhecha, mohabbatein, trademarks, â£26,000, inlay, conterfeit, jayanti, counterfeiters, amarishi, weeklys, karger, cert, industry-related, unprintable, tv-viewing, glitzy, tents, showering, pep, adore, guilds, strauss, cinema-goers, ton, gatherings, gant, gaydos, kane, imelda, darabont, errigo, flip, scoop, ide, shawshank, academys, lars, trier, outwards, dogville, mckendrys, prostitutes, bittersweet, calcutta, hepburn, oiled, indescribable, neverlands, lado, otro, abortionist, foreverman, stans, briggs, evergreen, spawn, hunted, kites, frailties, bashir, `dont, legrand, sneddon, schaffel, whore, kite, bashirs, neverland, plied, sulpice, skeletons, langdons, illuminati, vatican, brotherhood, 400-year-old, closets, symbologist, booksellers, braced, curzon, 60-minute, 2046, beautys, omagh, cluedo, lynda, second-unit, $60m, rubble, â£31.3m, halloween, babysitting, trailblazed, obst, voorhees, krueger, mask-wearing, stalk, â£507, â£4.4m, â£788,439, munchies, 596, re-entered, jody, quizzing, soft-spoken, clip, lachaise, clean-cut, archivist, pere, apartment, coroner, darkest, erupting, 12a, pg, clones, lava, pg-13, molten, hell-like, sith, anakin, volcanoes, under-13s, vabres, gale, veritable, weave, renaud, donnedieu, $70m, â£72m, $138m, $30.1m, diesels, â£36.4m, â£15.6m, $36.5m, vin, 957, $18.1m, inventor, $9.8m, pacifier, â£34.1m, $65.5m, newmarket, recut, $239,850, â£125,000, hobbit, $291, brody, sebold, â£152, adrien, bombed, serenity, buffy, firefly, whedon, dc, slayer, gidley, â£102.80, â£1,400, beith, deletions, decries, 80p, eoc, reimburses, evaluated, taster, 60p, thefirst, abortive, â£28.7m, follet, joni, wiggle, melons, ex-tory, barracking, breasts, babes, endure, sexist, jeered, teather, birkbeck, lovenduski, four-letter, ex-no, swears, tbwas, malarkey, missive, mcfadyen, shd, fuck, tbwa, re-joined, messaged, twats, trev, circs, shirking, super-casino, addaction, criss-crossing, jailings, conlons, jailing, conlon, discredited, explosives, healed, quashed, rifts, planting, sincerity, confesses, passable, bremners, inference, falsehood, whod, cockerell, despaired, sanitise, inserted, three-monthly, ramrodded, sunset_clause, uneasy, chevening, caruana, gibraltars, gibraltarians, moratinos, dominick, chilcott, pons, gibraltar, mirrored, postgraduates, liaises, statisticians, instruct, commemoration, soviets, perished, brazenly, hier, insensitivity, hated, lower-ranking, rabbi, wiesenthal, jamess, drunkenness, macdonell, one-sentence, mcconnells, drank, wiser, ill-judged, scotsman, incurred, pilloried, distortion, ill-advised, convener, misrepresent, problematically, woodhead, qcas, scuppered, half-hearted, dissenter, revert, tomlinsons, 14-19, qca, step-change, four-tier, sea-change, upheaval, publicised, decidedly, high-skilled, e-universities, â£44,914, â£14m, e-university, â£4.2m, cardboard, shantytown, kibera, huts, narobi, allaying, hornsey, overcrowded, interpreted, characteristically, julys, perthshire, appointees, well-governed, reasoned, pretoria, consuls, counter-, 6,100, timor, pyongyang, kabul, oporto, mbabane, bordeaux, â£86m, redeployed, 776, 31,000, â£885m, academically, absences, country-wide, 146, unfaithful, grading, liaised, warcup, placards, dodd, northumbria, pedestrian, tyne, hanningfield, baas, burglars, occupiers, u-turns, mercers, backtracking, i-era, reneging, staunchest, armenians, recently-expanded, contravenes, overmighty, deferential, heartlands, faiths, leftwing, left-leaning, ralph, haverstock, miliband, msc, milibands, longtown, midlothian, half-hourly, gorebridge, tweedbank, llangadfan, leeks, dictatorships, shani, elwa, unelected, mostyn, ignorant, choirs, bolshevik, broadmoor, carlile, liberati, labrador-curly-coated, conciliator, spurns, glitterati, heckled, retriever, invasions, schooled, portfolios, sadie, half-sister, divorcee, kosovo, casually, intensify, libertarians, airy, amalgam, shadowing, unafraid, emergencies, courted, reclassification, censure, eightieth, woolstenholmes, 4.5m, firefighters, riles, counties, grants-in-aid, duchy, 2003-4, 140,000-acre, 1337, â£180, mawer, casalme, retorted, fast-track, ex-nanny, ex-lover, 23,600, caldwell, acceptances, ucas, 27,700, cross-border, welcomes, blanche, circuses, consults, anglers, angling, cast-iron, carte, neglect, unpunished, arouses, fairs, enshrined, rearing, mutilation, exempting, redraft, broom, lamentable, exempted, devolved, non-compliance, licensees, ticked, smoke-free, miscellaneous, eleanor, enclosed, relegate, template, reassert, non-resident, jay-walkers, less-enriched, highly-enriched, communitarian, amitai, abdul, gravest, carters, fissile, qadeer, axis, etzioni, osama, havens, pre-emption, pressuring, repression, kgb, makarov, artic, bedsits, batches, ex-spy, spies, decoded, wrung, makarovs, gordievsky, code-breaking, â£65,000, deteriorating, latvia, ex-russian, yale, m16, historian, uprate, home-buyers, dei, exam, categorically, sexually, opus, census, thriving, segregation, non-white, one-size-fits-all, 18s, oriel, â£100,000-a-year, aynsley-green, ormond, tsar, washingtons, undersecretary, malnourishment, murphy-oconnor, re-iterate, congregation, saviour, mowden, darlington, 569,072, anti-labour, fitzsimons, lorna, sher, anti-party, azzam, mcb, erosion, mcbs, tamimi, mabs, 1.1m, 10,000-vote, beneficiaries, anti-policy, 1.6m, curtice, mab, disaffection, whitefield, usdaw, hannett, turkey-eu, charing, bromesberrow, wakeham, chef, york, holliday, auctioneer, point-to-point, retrospectively, herefordshire, doorkeeper, thame, highgrove, impromptu, huntsman, redvers, hartpury, ledbury, trespassing, handcuffed, pro-hunting, polo, hasty, dementia, wills, cmf, misunderstandings, refusals, lcfs, legalising, lcf, limitation, certified, algerian, pre-entry, 161-strong, drawn-up, re-written, unravelling, 272-219, tolerable, winchester, scott-joynt, tinkered, symbolise, alloway, incitement, tyndall, twelfth, keighley, covertly-filmed, variously, firearm, 45-year-old, henley-on-thames, thuggish, grieving, grovelling, liverpudlians, bigley, wallowing, perpetuating, mods, c-17, a400m, resonsible, siff, over-runs, foe, overspend, eurofighter, nimrod, suitability, albanian-born, reintegration, asylum-seeking, brownlees, unaccompanied, retrace, residences, redirection, fido, warden, re-register, inaccuracies, identifiers, pets, non-british, re-registration, intervals, school-leavers, innumeracy, gcse, 2.25, equivalents, 520,000, unaccountable, â£1.1m, mushroomed, 60-employee, endorses, 529, stem-cell, nostalgic, embryonic, mustnt, grown-up, harnessed, 160,000, contravene, frattini, thought-out, australian-style, misselbrook, prejudicing, enquiry, registrable, holyroods, tendered, advocacy, mcletchies, misconceptions, conservationists, havoc, ecologists, oceanography, uhi, hebrides, conservation, youths, dispersal, asbos, fallujah, insurgency, heavy-handedness, booze, davidson, ness, over-18s, inverness, rapes, glenurquhart, sprees, under-age, preaching, evils, railed, 84,000, baumes, baume, 66,000, 59,000, 53,000, sandford, strands, energetically, intercept, allander, redone, 2022, cuthbert, under-estimated, radicallyimproved, stresses, theirfamilies, ofnew, justfor, ideologically, consigning, jakobi, interrogator, daub, mubangas, zambian, kidnapping, misfeasance, reconnaissance, daubed, chained, combatant, mattress, mop, deception, re-valued, rebanding...will, whinging, torfaen, rebanding, wlga, 16.4%, â£7.4m, minimsed, cover-up, fast-tracking, grubby, inquirys, quinns, remuneration, tapsfield, adss, â£108.49, fosterers, foster_carers, bowles, georges, duchess, chapel, divorcees, coward, ros, hrh, heirloom, prayer, 1,313, remarriage, preside, wife-to-be, anglicans, mrs_parker, consort, disillusionment, salford, islamophobia, legitimisation, 12.5%, victimised, alienating, ihrc, 2003/2004, disproportionately, racists, imams, â£140, hannah, benchmarking, e-economy, ict, hi, booz, cultivating, party,said, forty-three, vindictively, 401, 16-18, 1,981, 601, communicateresearch, nutter, adoptive, pelham, lucys, sailor, marrow, staggered, aa, 30mg, breathalysed, bac, 100ml, 50mg, 80mg, â£119m, allsop, 40mph, drink-drive, motoring, 30mph, cyclists, correspondence, â£57, cs2, ex-partner, over-ruled, courtrooms, re-balancing, 1925, rotten, scarman, nephew, radicalism, electrifying, dispossessed, scarmans, butler-sloss, sandhurst, dicky, arbiter, janner, nazis, contrite, 305,775, modernising, 785, 311,764, 708, unacceptably, bma, beddow, waiters, inpatient, kirsty, minister..with, inpatients, outpatient, unambitious, 6,630, 7,613, evidence-based, 185,000, prejudice-based, x-rays, moore-gillon, non-european, dint, terrence, uk-born, blaengwynfi, aberavon, assemblys, 856,600, ieuan, deflect, dr_gibbons, nye, 311,000, kisrty, afan, five-and-a-half, 2,400, wyn, hutts, multi-polar, iyad, perceives, receptive, 0530gmt, allawi, woke, 2230gmt, presidencies, guff, multilaterally, scars, cafod, adulation, sweetman, â£31bn, â£37.5bn, family-friendly, dross, hand-out, gloating, â£170bn, 2003/4, marchs, taxing, dubbing, four-year-olds, â£285m, 1800gmt, wastealot, rebuttal, evacuating, evacuate, peacekeeping, deteriorates, gbagbo, anti-french, colony, standby, peacekeepers, evacuation, 100-120, ivory, coasts, 2013, heightens, 2008-09, fairford, escort, glos, coachloads, mackey, justices, generalised, casino-related, chalk-stripe, pants, involved...they, mafia-like, vegas-style, spaghetti, rhyme, prevaricated, blanket, rabbit, badger, farquhar, quarry, anti-hunting, baiting, otter, catch-up, bayleaf, three-minute, frigate, articulate, 1215, â£1.58bn, three-minutes, chartering, â£76m, auxiliary, convened, pre-condition, unaccounted, badminton, melton, hoey, dartmoor, mcwhirter, moritz, repealed, hunstman, unpick, mowbray, ashford, postbridge, â£35.7m, 831, wojahn, 8,177, â£38.5m, detecting, administering, weed, â£644m, 10,276, jorg, â£808m, irregularity, 52m, 922, islamabad, kashmiris, kashmiri, sikhisms, amritsar, muzaffarabad, srinagar, holiest, sindh, roti, rwandan, hutus, rwandas, taboo, kayitesi, blewitt, militias, orphans, channelled, anti-retrovirals, enjoined, patriots, pro-constitution, anti-constitution, malik, women-only, abbot, shahid, dewsbury, under-represented, ethnically, terribly, anglican, dafur, dusk, rejoining, stamford, mugged, mugging, expertly, frightening, betts-green, anglian, partybnp, disclosures, betts-greens, woodbridge, decommissioning, millstone, sellafield, cumbria, untreated, sixfold, dumpsite, radioactivity, highly-radioactive, â£680m, â£48bn, ilw, intermediate, scurrilous, muddling, abusers, purposely, spats, vote-rig, afzal, vote-forging, petitioners, bordesley, deceive, mawrey, 275, presiding, kazi, vote-rigging, deserted, birch, unsealed, sukul, 10ft, ramallah, mazen, internationally-agreed, yasser, disengage, wreath, insurgent, abu, tomb, kidnappers, al-jazeera, arabic, abduction, abducted, kidnapped, newly-founded, peirce, sacranie, appalled, paddington, northolt, inadmissible, mi5, moazzams, iqbal, mammal, bicester, hares, masse, enforceable, spiteful, videoing, intimidation, panicky, games...they, recounted, flap, wedge, lodhi, grievances, outling, totality, backward, veils, maleeha, wanless, undertook, principally, knighthoods, astonishment, gieve, beggared, knighting, natwest, bucket, slurry, corsa, muck, stank, beard, arabs, wilmslow, repressors, farmyard, ginger, limb-amputators, rac, emmissions, convoys, slow-moving, polluting, 1.28p, thatcherism, northamptonshire, foreword, quagmire, manjit, blot, mare, barristers, scannell, 19-strong, sleepless, habeus, possibilty, hugill, nicol, anti-islamic, reps, union-backed, whistleblowers, unsafe, risking, workplaces, bribers, brigands, glibly, generators, phi, koh, eileen, regulating, 12.30, exacerbate, polices, 2am, underage, acpos, alcohol-related, mactaggart, two-year-old, carole, energy-efficient, densities, lax, zero-emissions, joined-up, spatial, disjointed, one-twentieth, ainsworth, mitigating, sentencers, prescriptive, amandas, ambiguity, denham, re-legislate, landowner, lembit, accommodating, opik, luff, barking, orthopaedic, herefords, 6-months, welsh-english, overstretched, club2school, two-fifths, moynihan, 151,000, â£41m, intolerance, illiberalism, badly-taught, tenets, demean, intolerant, faith-based, heartened, buckets, slop, slopping, macaskill, eczema, probabilities, remand, robber, napiers, â£2,450, barlinnie, complexion, jeans, minimised, annabella, blond, reassurances, unescorted, approving, fianc&#233;e, 5ft, psychiatric, apportion, 9ins, snps, clarification, high-security, sightings, carstairs, coatbridge, reassured, traveller, encampments, refurbish, cambridgeshire, cottenham, caravan, ryder, amenity, gypsy, minety, arson, pembrokeshire, fire-bombings, plaid, provocateur, dafydd, nationalist, glyndwr, unsolved, nationalists, elfyn, fire-bombing, maniffesto, ex-welsh, llwyds, yield, s4c, nant, meibion, cottages, f&#244;n, llyn, merionnydd, llwyd, aubrey, discrediting, conwy, shadowy, hatfield, mph, monkhouse, alcorn, railtrack, jeffries, fugill, tuxford, balfour, pease, pottage, railtracks, lea, derailed, beattys, upkeep, quorn, looms, culmination, revolved, 0001, 203, falconer, 297, quicksand, authorises, hydration, southwark, ring-fenced, tai, agility, chi, anti-competitive, all-girl, hoops, inter-school, deprive, negligent, say-so, abut, infringes, anglo-irish, hospice, maze, discord, lobbyist, polytechnic, wrecking, unionists, denounced, deselection, sdlp, eurosceptics, welshpool, kawa, karim, idris, taha, births, uaf, derelict, mosque, kurd, swanseas, kalan, civility, cobham, scaring, climbdown, jowells, whittingdale, imposes, pervez, anew, kerrys, myron, umbilical, ebell, congratulates, warmest, snooker, snookers, whirlwind, o-levels, truanted, meo, reardon, truant, jacks, smoky, coordinating, godsiff, no-mans, lawlessness, contravention, mamdouh, human-rights, habib, opt-in, member-states, disagrees, qmv, streamlining, odonoghue, sodomy, tsunami-size, allocation, invade, us-friendly, greenhouse, kyoto-lite, blushing, re-examined, 24-drinking, hayman, policeman, objecting, preparatory, nightspot, binge, 18-rated, classifications, chainsaw, responsibly, robb, 487,939, mallon, metric, two-bit, ne, tomaney, exerts, wades, mallons, country...then, campaiging, inconvenienced, responsibilty, pyres, invoices, preparedness, livestock, reimbursement, â£349m, lackadaisical, vet, dreadfully, culled, council-controlled, revolving, ever-expanding, sps, reconvicted, correctional, spss, so-and-so, safely, desmond, tutu, conclusively, dispensation, tutus, praetorian, scandalous, 94,000, rifles, gurkhas, helicopters, post-tsunami, mornings, gurkha, pa, annan, exerting, syrias, kofi, freelove, pickets, pass-holders, uk-wide, lanning, aberystwyth, welsh-speaking, piers, impersonal, pcsu, concurrence, huttons, defeatism, reintroduce, orpington, haltemprice, holborn, non-repayable, necks, pancras, wardens, lonsdale, withington, newcastle-upon-tyne, saddleworth, canterbury, finsbury, westmorland, eastbourne, mortgage-style, gorton, yardley, taunton, howden, robberies, exhibiting, ill-suited, glaringly, corston, hanged, suicidal, registrations, beynon, specially-designated, liechtenstein, illegals, registrar, â£135, marriages, rimmer, amoah, jcwi, sham, solana, solanas, phone-taps, phone-tap, bigots, bigoted, parkhead, anti-sectarian, troublesome, sectarian, sectarianism, 44,000, condemnation, overstate, competently, 1,943, deprives, unjustifiably, gestingthorpe, woolly, erode, tram, overstepped, mennear, winged, superimposed, finchley, torys, depicting, distasteful, tasteless, carla, mousa, uk-run, father-of-two, ethically, ferstman, colonel, mousas, receptionist, shiner, uk-controlled, baha, trawl, unconscious, self-defence, englishmans, barras, lawfully, guideline, one-sixth, watered, deterrents, woolf, gavron, doorstepping, interfered, ill-prepared, invoking, humberside, non-emergency, coppers, taxpayer-funded, huntley, welling, shirk, soham, walkington, communicated, mischief, walkingtons, â£143,000, undoing, steely, renfrewshire, hendry, ochil, endorsing, marginals, guardsman, inflicting, dumfriesshire, foulkes, stirling, patrolling, confrontational, distinguishing, discernible, begging, convinces, symbolically, mccabe, â£8.1bn, rationalisation, cosla, â£325m, â£419m, 4-5%, payer, shredding, mandarins, self-serving, 37,000, unflattering, shredded, fisheries, westminsters, harvesting, fact-finding, conserve, fraserburgh, finnie, peterhead, reproductive, embryo, anti-stem, allocations, lovell-badge, embryos, pro-choice, genetics, rothwell, developmental, dfes, borderers, amalgamate, super_regiment, single-battalion, envy, argyll, armies, fusiliers, moulding, colonels, highlanders, flexibly, vice-chancellors, well-off, deferred, hefce, postgraduate, aspire, newby, howells, neighbourhoods, mandir, neasden, mini-manifesto, swaminarayan, shri, plain-speaking, shipmans, countering, government...has, volition, dover, lorries, ideology, haulage, pheasant, tuppence, 1.92p, thirdly, consumerism, mis-selling, regrettably, â£105.45, plumb, repealing, intimidatory, â£79.60, lobbies, formers, umpteenth, long-arranged, seething, pertinent, sneering, once-famed, upstage, flames, disguised, witney, unnerved, captivity, amply, behind-closed, majorities, uninterested, haskins, pronouncements, media-only, swayed, chatter, mammoth, sulk, ex-aides, of\"squabbling, insurrection, self-obsessed, campbell-savours, threatend, poisonous, starkly, briefers, childishness, fictions, hugely-disgruntled, widely-held, jeopardising, sniping, spines, evict, hanif, well-crafted, mackenzies, inuit, dues, chancing, eccentrics, re-engaging, lorraine, haircut, maitland, druid, mackenzie, chapman, smooth-talking, ex-itn, 59-year-old, irfan, oddie, nicki, donnellon, corrupting, giggles, one-liners, hylton-potts, self-publicists, guitar-toting, carman, drunks, amicably, psychedelic, billingsgate, sgt, side-by-side, dandies, surest, chic, approximation, mantras, camper, chit, microphones, crackled, scooby, soberly-suited, throats, side-door, mind-bending, doo-style, decked, dressing-up, thoughtfully, mgs, trundled, ill-at-ease, wig, regency, tittle, tattle, solomons, perverse, snowball, convict, heinous, induce, selfishly, allocating, ensues, wonks, rationally, 283,000, post-neo-classical, mouths, parable, exhorting, adulthood, apprenticeship, unbroken, out-dated, descent, katwala, sundar, nudge, despatches, bureaucratism, nexus, ideologue, re-negotiate, soundbites, clintons, shocker, not-so-secret, unreformable, mediterranean, infections, feckless, 14-16, letwins, precisely-calculated, resolutely, showings, 1906, 163, â£153m, atlabours, â£1.6bn, populus, â£336m, self-delusion, hopers, nurtured, aspic, 206, hykeham, unfettered, 229, is...whether, discretion, distrusted, chancellor...no, ridding, clenched, burnt, schoolgirls, missionaries, heartfelt, vine, broadside, 52-year-old, incompetence, blair-brown, bannatyne, abstentions, salvoes, tightly-timetabled, crack-of-dawn, â£22, hallmarks, welfare-to-work, â£13, rymans, garish, unstained, taxis, scooters, inefficiency, hope-monger, passivity, laments, dripped, irene, secretary-general, affirmative, sas, consensual, co-existence, succour, nagged, betraying, spokespeople, 16.1%, rancour, backsides, expulsion, knapman, inefficiencies, hard-won, improbability, misrepresenting, burgeoned, overspending, hidebound, foment, tory-labour, gravitate, recommending, melted, supplanted, tredegar, amos, blaisdon, firebrand, glenys, callaghans, rebellious, royall, pengam, islwyn, far-left, tutor, mortal, liberties, imprison, roundly, philosophers, frederick_forsyth, gchq, stalin, insidiously, craftily, ny, paranoia, forsythes, eloquently, perpetuation, u.k, over-protect, scruffy, flatten, alienation, josef, fundamentalism, mass-hysteria, she/he, distorts, hobbes, undue, forsythe, interned, neutered, rakes, inla, blockade, ceausescus, wmd, nuked, duped, nightmares, quraan, penetrate, propositions, ricin, charge/trial, tyrants, forgets, instituted, denunciations, semtex, sleep-walking, barbaric, indiscriminately, point-, politically-correct, plutonium, liberate, roughshod, totalitarians, example.this, totalitarianism, futilely, lunatics, kilo, posterity, uttered, her/his, informants, precautions, no-jury, sheltered, humanly, duration, superficially, un-british, well-thought-out, indeterminate, genocidal, policemen, resentful, publicising, gagged, freddies, overstepping, habeas, competence, fanaticism, shatter, misguided, movers, long?they, talking-down, probability, collusion, derogation, pretends, shelters, self-reflective, verbalise, fatah, batten, nattrass, aspired, czechoslovakia, german-bashing, sudetenland, ex-ukip, reich, farage, unfeasibility, off-air, euro-enthusiast, smoke-screen, dangerous.the, small-mindedness, nauseating, exhaust, pompous, anti-islamism, vacuity, tiff, pro-europeans, anti-european, rk-s, irrelevance, chauvinistic, dithers, vain, euro-sceptic, steed, -silk, diminishes, eventuality, mouthing, proportional, constituent, coup-detat, clown, humankind, energies, egotist, splintering, midstream, sceptic, wrecks, slurs, ego, self-publicising, super-state, ridiculousness, straight-down-the-middle, anti-europeans, 290,000, longest-serving, 1812, firsts, subscribed, 2,838th, 1848, leo, prostitute, perjurer, vindictiveness, perjury, tebbit, elapsed, forgiving, perverting, reintroducing, realities, â£630, over-75s, dental, polluter, 50-year-old, stooge, borough, husseins, anti, anti-union, shamelessly, repeal, eady, hamlets, dunstans, galloways, pro-iraq, stepney, mulled, memo, two-fold, stickling, thorpes, thorpe, unravelled, conservative-liberal, encountering, labour-led, hoc, stilts, makings, â£3.13m, â£1.7m, outspent, â£2.36m, greens, â£1.19m, â£404,000, conversational, transporting, thatcherites, spontaneous, rhetorical, keenness, sexing, gilligans, alastairs, denunciation, unilateral, rightwards, wantage, defect, fair-minded, normandy, meyers, clwyd, 20-year-olds, rafferty, snatches, devalue, smiths_departure, breakpoint, non-story, grilled, waterson, likening, â£340, property-based, â£7,000, winkfield, revalue, all-women, vishwanathan, lyn, multi-racial, ashok, under-representation, cre, mscps, hereditaries, largely-elected, lieu, 385, facey, bishops, â£560,000, â£205,000, â£71,433, â£5,001and, â£5,001, portillo, hagues, â£480,000, front-bench, â£85,000, aunt, â£45,001, serialisation, indepen, widdecombe, bridgepoint, six-figure, agony, â£820,000, ex-health, wadi, sightseeing, paperback, â£195,000, sultan, declares, â£135,00, single-bedroom, â£4,610,849, beardmore, magan, chests, bequest, hambro, ondaatje, â£325,417, â£330,000, drayson, â£11,724,929, powderject, â£63,081, philanthropist, affiliated, bearwood, haughey, refrigerator, totals, â£10,575, â£400,000, â£8,170, â£161,840, pent, proceeded, non-publication, 1441, lawless, pr&#233;cis, justifies, defectors, morals, gla, silks, hockneys, hulme-cross, exasperated, stammered, instinct, laxton, ramming, blushed, norths, mis-transcription, morgans, doctored, skidelsky, ellman, hypnotist, temko, hypnotising, ned, hypnotism, centuries-old, inextricably, smearing, reviving, reminders, apologies, 6,932, erewash, quashes, battlegrounds, `burden, tiptoed, xenophobia, alternatively, nastiest, parmjit, feelgood, rouse, saxon, katrina, keener, spence, leanings, stewards, shipyard, porterhouse, pms, shipley, doorstep, supremely, telford, lays, bravura, tieless, parbutt, zeal, exclusions, sharking, refurbishing, tenants, â£42bn, right-to-buy, â£170, grandparent, year-olds, carer, jacqui, deductible, paternity, illiberal, open-minded, cutters, â£23, devlin, turnour, 1904, 1695, horsham, candidacy, bernadette, aprils, folkes, pea, pre-election-campaign, cunningly, slopes, galifray, mushy, italics, noticing, inter-planetary, politicisation, single-issue, dictating, outlining, 1,132, supersede, inconspicuous, nudges, holme, democratically, well-understood, informative, cooperate, winks, centralisation, strive, undimmed, margherita, evesham, wayfarer, donned, blair&#191;s, mendaciously, dinghy, instructor, academies, windswept, egwins, worcestershire, bromsgrove, damning, sharron, artful, granger, over-slick, unwashed, soapbox, somebodys, belgrano, flagellation, enthuse, memoirs, marching, coppendale, eggs, punched, falklands, masochism, kinnocks, stomping, interviewer, freakery, phone-ins, storer, harangued, egg-throwing, maxim, questioners, grilling, bush-style, over-complicated, â£520m, raynsford, â£512m, reallocated, 2007-13, thereabouts, â£11, incurring, â£5.60, minister-in-waiting, handouts, doorsteps, redistributive, precision, glossing, pore, demeanour, limb, larder, re-casting, â£450, iniquity, patching, â£168, mockingly, conjured, knifes, 560, decimating, inoculation, â£60m, inoculations, â£27bn, inseparable, siniscalco, inducement, curable, deadliest, actionaid, co-ordination, six-day, domenico, pandemic, restating, strasbourg, tardy, homeowner, are...consulting, documented, prague, discriminatorily, pre-clearance, czechs, sceptically, hale, bleakly, carswell, non-roma, discriminate, steyn, sayeeda, sikhs, warsi, islamaphobia, contraceptives, hindus, downdraft, unregistered, prentice, bled, undercutting, 2007-2013, anxiety, contributes, re-energise, exacerbating, neurosis, 2007-2008, â£275,000, 80th, rides, same-sex, oaps, â£63, â£263,000, â£120,000, avoidance, value-for-money, pint, 7p, â£111, â£4,895, carvel, tyrie, dalton, discourtesies, pheromones, night-time, daylight, pheremones, perversion, quash, unpalatable, follett, ians, madrid-style, steamrolling, hardworking, fudge, unglamorous, jubilation, stinks, â£5.05, fat-cat, &gt, simplistic, 50pc, 20p, â£2.75, â£6,000, tangible, foresee, whines, â£5000, 2/3rds, better-run, portering, â£9,000, ancillary, br, 50-60%, hardship, uni, insinuation, â£60, lowest-paid, â£5.35, apprentices, â£4.85, â£6.00, rich-kid, underpaid, overtime, â£4.25, smes, spellar, decreases, sweatshops, manpower, decently, protestations, setting-up, laze, 75p, consciences, 3x, sweat, disturb, purr, folds, 18-21, â£4.10, unattractive, degraded, 2,234, city-dwellers, evenly, 801, countryfile, sanctuary, 175,000, 16s, confining, stafford-smith, adherence, wire-tap, security-cleared, phone-tapping, thereafter, gavi, mortality, immunisation, compassionate, neo-liberal, â£0.53bn, quantitative, nobutaka, embargoes, machimura, china-uk, downright, â£33.5bn, burstow, under-funded, overbearing, dependency, ladyman, 1.7m, dogmatic, antithesis, centralises, heathcoat-amory, impugning, fallon, reclassified, folly, entrenches, ex-conservative, cryer, imperialists, 17-million, mardell, internationalism, unilaterally, missionairies, britishness, woollen, 1642, 1497, 1834, laugher, 1801, 1606, amelia, transcript, maids, frideric, break-ups, sprinkled, protestation, trawling, blow-by-blow, 1727, 1670, jessys, addisons, protestant, maid, adultery, vistas, 1689, jessy, parchment, marital, coachmen, 325,000, protestants, handel, addison, hive, fawkes, re-marriage, 400th, mistresses, vellum, divorces, bonar, self-employed, tax-raising, take-home, lurches, impetuosity, bn, non-event, panics, 2001s, 050505, abolition, slaps, mailings, systematic, 680, handbook, stevenage, peradventure, flagrant, segmented, insofar, presume, endorsement, frontbenchers, catholicism, egm, maastricht, oulds, arundel, instructs, deposal, tanguay, sloughs, attlee, uncollected, ex-pm, amins, audrey, idi, garbage, 93rd, mourned, hattersley, gravediggers, marr, recess, whips, usurp, grasped, centre-stage, three-cornered, tatton, unwinnable, misrepresented, terminations, anti-abortion, party-wide, communion, heeled, criminalise, 22-week, commend, tantamount, abortions, devotion, marguerite, brown/blair, cooked, encroachment, canvassing, delights, macaulay, eldest, hearsay, hothouse, columns, lecturing, vengeful, ex-king, granita, 1915, rosyth, soweto, pauls, tonys, ex-cabinet, boatengs, cronies, laughed, chord, ley, unreserved, sayeed, 299, mid-bedfordshire, odell, de-select, sholto, whopping, ad-libbed, lampooned, browhills, by-product, hains, larissa, contrasts, stepson, flags, footing, trainee, no-hoper, aldridge, unitary, stockton-on-tees, stoke-on-trent, sainsburys, tradesmans, liability, sittingbourne, tad, 5,907, folkestone, hythe, 14,738, decapitation, 20,645, harrogate, scotland-born, re-focused, fifth-fastest, currentily, long-course, etienne, mccambridge, fionnualla, britton, cobh, agio, santry, 9.87, 0.02, greene, boldon, 6.39, ato, resuming, conserving, recapturing, de-mystify, diack, nutrition, namibian, lamine, 2:01.52, 6.63m, adera, 7:39.89, 7:41.42, slovenias, 32.93, 14:39.29, out-kicked, miscounted, 5.05m, 4.89, 6.46secs, 5km, commits, winters, ashia, top-level, fazed, kosenkow, balkom, 37cm, 16.50m, arron, 7.35, 21.07, 13.86m, 6.67, 6.56, 21.72, ghent, 21.58, 1.76m, jadel, off-colour, vomiting, gregorios, nia, zara, 32-strong, ovett, half-dead, arnoud, everest, reina, mcilroys, okken, bogdanov, lesters, 46.68seconds, dmitriy, german-based, costas, mid-march, michalis, dimitrakopoulos, 7:46.78, eamonn, 1.45secs, brannen, canadas, 0.19secs, bershawn, 3:49.78, season-leading, merritt, 7.51secs, 49.89secs, 44.66secs, 7:40.53, coghlan, 7.09secs, 1200m, 44.93, fayetteville, 10secs, lashawn, 44.63secs, 10k, satisfactorily, proviso, ka, short-course, salvage, dehiba, 14.74, hind, cherkasova, doping-related, uphold, five-member, yiannis, papadoyiannakis, testified, outsprinted, recently-crowned, kilometre, galmier, assesses, after-, gunnell, eaa, 10.04secs, 20.13secs, budapest, 4.91m, catherina, mckee, clubman, delude, 21.00, 3:39, gamely, injury-plagued, amazingly, cobhwoman, underachievement, happenings, bearer, unaccountably, 5k, andys, craggs, lombards, scraped, transpired, injury-ravaged, undignified, spikes, athletics-loving, probem, pre-olympic, tongues, wagging, cathal, olympiad, mckees, mckiernan, candidly, goon, dougie, half-decent, nandrolone, racecourse, musselburgh, abiyote, 04.69, mulugeta, overhauling, wondimu, gebrselassies, abate, nip-and-tuck, finisher, hicham, papered, bouncebackability, commentating, gloomier, usadas, testosterone/epitestosterone, rogge, appreciative, hungrier, no-win, well-earned, wide-reaching, olympians, tick-list, has-been, examines, liz, impulsive, 26.2, staten, repercussions, undulating, 9.85, 1936, joanna, jesse, usatf, 12.37, dredge, bursts, record-holder, erasing, thrower, commenee, connor, curling, karate, narcolepsy, cheat, flaxseed, korchemy, wrongfully, sacrifice, innuendoes, olympics-accredited, greeces, rehearsed, motorbike, hrisanthakis, stilianos, ioannis, tarnished, testers, eyewitness, karmis, dimakos, panagiotis, konstantinos, haralabos, presumed, perakis, motorcyle, gharib, jaouad, almeria, tergat, hailes, arch-rival, illustrious, stefano, baldini, grigoris, thanous, ioanidis, spasm, margot, jennings, galan, early-season, pronouncement, loneliness, daley, emphatically, unquestionable, tick, gnaw, wilt, 1.90m, 8.47secs, 46.46, 1.80m, eight-minute, 7.96m, 2:04.45, 56.86, tearful, 7.91m, 3:45.87, 47.96, one-hundreth, mcilory, 4:19.11, 53.45, 4.25m, 16.76m, 1:48.32, janine, hurdlers, sub-eight, londoner, kwayke, aoife, offaly, 7.48, 7.37, 02, 8.06, lisburns, 47.97, willowfield, 3:46.04, mcsweeney, 1.87m, ailis, motored, 46.45, gillick, 3:48.82, 3:45.86, mcneice, 4:31.34, half-a-second, 2:06.73, derval, sheffied, orourke, 8:11.22, bogle, myerscough, 17.64m, 1:50.87, scanlon, thunder, 9:05.73, 7.58, 20.94, 6.43m, 5.25m, 2.20m, sothertons, swain, 23.68, 21.01, 49.87, allyn, 23.67, taniesha, 7.83, 7.82, 15.27m, 3cm, 13.28m, 9:05.00, 2.16m, 13.77m, 27-year-olds, mclaughlin, pollock, nine-times, willowfields, midweek, pacemaker, slovenians, ricky, 0.90, simms, 46.68, mulle, wolfram, teag, sparkassen, mixed-race, 2:17:18, clouded, stanozolol, livened, rutto, storming, abi, campell, mutola, tumbling, backleys, fazelas, cobblestones, silvers, mistiming, oyepitan, annus, okayo, korzhanenko, kenyans, moroccos, macey, discus, woodford, barnsley, crawley, farah, preddy, not-so-pressurised, achike, harriers, shaftesbury, baddeley, 46-strong, basildon, aldershot, double-olympic, beagles, wessex, warburton, hounslow, herne, mayock, barnet, southall, belgrave_harriers, farnham, cossins, middlesex, aderes, 8:41.43, strode, 22.38, 35.39, 8:14.28, pre-european, 33.05, 6.52m, moroccans, ominously, jamaicas, rust, 6.66m, alleyne, 45.91, francique, muna, 3:35.27, 20.88, tariku, melissa, 7.13, centimetre, agnes, false-start, 4x400m, 52.98, hennigar, melanie, samaria, pace-making, lanzarote, abdomen, warm-weather, pascoe, tsunami.steve, leukaemia, website.he, tanni, hospices, redgrave, 15-and-a-half, pressurised, justyna, heringsdorf, bak, 4x200m, kallur, 51cm, sharpen, djhone, 5.65m, 22-event, 6.39secs, 15.80m, 7.23secs, fedorova, recurrence, olga, verdecchia, botched, persson, 6.62, 16.87m, holm, tosin, oke, adrift, rund, 9.2km, 5000m, lasp, kipchoge, baddeleys, eliud, asi, 6.2km, gebremariam, morpeth, dejene, berhanu, gebre, 9km, six-kilometre, reebok, bute, damen, tromans, inter-countries, glynn, 31:41, burka, venta, banos, 30.26, abebe, monteiro, 10.6km, ines, internacional, 33.22, gelete, 10,500m, 6.6km, dinkessa, dope, reponse, vassilli, spearate, prejudge, vassilis, refered, substantiated, timbilil, 51st, amorebieta, five-second, 22secs, masais, edinburghinternational, romped, zornotza, ultra-consistent, tulu, caledonian, tulus, derartu, kronberg, 7.60secs, 7.62secs, 0.04secs, haitis, cagigal, 7.63secs, dorival, 7.64secs, vivancos, 8km, wollaton, 12km, childish, vima, coby, pre-race, baton, mbe, hundredth, admissibility, balcos, illston, evidentiary, nitrogen, pelvic, limerick, needles, vertebrae, 50k, pelvis, toes, rods, mater, unaided, thinking:ok, acupuncture, korzeniowski, crutches, jamies, spala, pool-work, mcevoy, ambulance, matter-of-fact, tightens, cortisone, twice-daily, centigrade, cryotherapy, 86.9kg, broadening, heartbreaking, 91kg, carsley, heintze, hesitated, jeers, outpaced, osman, idolised, kilbane, yobo, naysmith, plessis, pistone, hibbert, quinton, detrimental, headbutted, overreacted, centre-half, headbutt, butting, centre-halves, five-year-deal, accommodated, de-motivating, scotland-england, substitutions, shehata, overreact, shalaby, exerted, presss, tardelli, methat, pharaohs, hossam, midos, tepid, 47,111, pin-point, marshalled, nevilles, side-footing, bradley, inject, kiki, monotony, laboured, willian, ferreira, jole, irishmans, nunezs, rock-solid, 78,000, pellegrino, quickest-ever, dangerously, hush, hushing, 79th-minute, 110th, sidefooting, mins, lips, djimi, powerfully-struck, 112, drogbas, pidgeley, well-organised, ferreriras, jaidi, striding, snap-shot, carrs, 10-game, hierro, wanderers, 69th, re-taken, jaaskelainen, haim, ngotty, jussi, 50,430, cynically, frustrate, boumsong, okocha, te, jay-jay, fadiga, giannakopoulos, dyers, campo, kishishev, kiely, karkouri, queudrue, southgate, reiziger, charltons, euell, southgates, 74th, hreidarsson, joseph-desire, riggott, szilard, mopped, hreidarssons, jeffers, capitulate, doriva, hermann, parnaby, konchesky, riggotts, nemeth, queudrues, 29,603, bartletts, dodds, archibald, grady, perfectly-weighted, heikkinen, byrnes, mcnaughton, esson, 8,661, robsons, brebner, prodded, whelans, quarter-of-an-hour, cute, 0-5, stephane, glanced, balmer, harty, floundering, 8,200, bollan, gilhaney, nervy, malone, arbuckle, rout, mensing, busier, half-an-hour, flare-up, bahoken, deloumeaux, freeland, 9,796, lilley, outjumped, stanic, goran, easton, dair, neilson, horvath, moilanen, hartley, vincze, cesnauskis, wyness, ferenc, loop, meldrum, burchill, livi, skimmed, meldrums, mcpake, kizys, berra, lothian, gabor, centre-circle, chiropractor, arjens, meersseman, deputised, hudell, untried, cudicinis, keenan, tillen, dagblad, metatarsal, romas, fractures, mokoena, dacourt, algemeen, wavering, 20-strong, dragan, jauregi, mladenovic, mladenovics, out-of-favour, benefactor, warding, modern-day, re-shaped, ajar, underscore, 60,000-seat, stack, multi-millions, veil, kop, hawkpoint, dodged, â£120m, shiniwatra, traditionalist, erikssons, sven-goran, counterproductive, reduces, espanyol, barcas, equalise, ronaldino, torres, athletico, 12-13, bees, upson, summoned, ledley, makeshift, pre-conditions, k3, reprieve, mcintyres, tannadice, drags, tendinitis, leverkusen, mandic, get-together, carrington, moldova, sardinia, 25-man, respectability, earnshaw, koumas, under-21s, gabbidons, motherwell, hams, bluebirds, ricketts, tranmere, coyne, gabbidon, delaney, larnes, inver, mccarthys, physique, mcgeough, ejection, newry, ifa, mccreadie, portadown, kerrs, 54th, basel, penultimate, fai, 10-match, agoye, albanias, bnei, tirana, sakhnin, haifa, etchi, partizani, masudi, murambadoro, hapoel, congos, esperance, miresmaeili, $125,000, hashemian, vahid, maccabi, punctuated, mikael, barwick, intimidate, head-butting, escalated, chap, 9.3, kezmans, drab, accidently, lethargic, likelier, ricochets, enliven, 42,093, 150th, fewest, cate, giordano, frisk, line-ups, rijkaard, deco, garry, fourth-choice, edelman, heerenveen, boavista, stretcher, lovenkrands, rab, kyrgiakos, 18-yard, vignals, waterreus, mccurry, buffel, foxed, sotiris, dispossesed, namouchi, confidently, latch, 11-game, ricksen, cautions, barged, 90th, wrestling, 10-games, heartss, dallass, saulius, over-zealousness, masks, cantonas, kung-fu, selhurst, nixon, ross-van, neeskens, clemence, knvb, 1965-71, dorp, rinus, cologne, michels, huizinga, gaffer, last-eight, noe, pamarot, santiago, betis, helguera, revelled, doblas, solari, talisman, shootout, goalscoring, ancelotti, serginho, rui, cheekbone, kaka, tomasson, aizlewood, manager-of-the-month, rushs, chesters, homesick, berated, impersonated, berbatovs, franca, dudeks, dimitar, nolberto, centre-forward, re-sign, `who, peformance, dejected, magath, dutchmans, jaap, â£16.5m, blowing, cannisters, rankles, cafu, 32-year-olds, kampen, stam, electrician, honeymoons, stavanger, fervent, juan, steaua, 54-year-old, bautista, season-long, darius, carlton, vassell, alleviated, jagielka, eboue, tonge, pacy, bromby, thirlwell, owusu-abeyies, kennys, geary, warnocks, kabba, gearys, 27,595, tame, haystead, half-chance, waalwijk, bruins, koeman, tonny, krol, falling-out, seven-match, rofe, condone, alcock, cop-out, canio, remonstrating, einhoven, gilmar, adrianos, slapped, clandestine, crossley, taunt, decorum, scapegoat, bullfighter, 66-year-old, lenient, flores, â£2,060, manolete, islero, fas, mendieta, 2115, hernia, sportsmans, teessiders, substituted, gaizka, humility, rossi, loftus, rs, generoso, holloway, 961, commencing, calms, fowlers, 151, diabolical, title-winning, ex-reds, beckon, savoured, soul-searching, cheapened, money-orientated, triumphs, sprain, fully-fit, disposed, hotpot, oster, mcgreal, cotterills, spicy, moor, clarets, 2000/2001, micah, matteo, solent, frampton, dochertys, millmoor, craven, oakley, deon, sodje, saux, carrot, torquay, eventful, svensson, envious, gaal, bromwich, 19/20, derby-fulham, burnleys, albion, anouncing, neris, luigi, highly-experienced, candelas, second-from-bottom, top-flight, 81st-minute, norwichs, canaries, toffees, toon, 49-match, tasting, mini-crisis, ill-feeling, excites, sweetest, player-swap, shuts, double-header, baxter, mini-tournament, bafana, augusts, botswana, mini-tournaments, curepipe, malawi, cash-plus-players, â£3m-plus, ormerod, kenton, &#163;8m, wolverhampton, exeters, televising, sacchi, defiantly, arrigo, sivabaek, klinsmann, alumnia, juninhos, hassall, departing, oneills, botafogo, hassel, keegans, play-maker, www.arsenal.com, arsenes, unearthing, hill-wood, rubber-stamps, 55-year-old, fiszman, stitches, pardew, tempers, read:\"we, stipulates, £15.8m, fifas, drug-testing, mutus, verroken, re-iterated, leg-breaker, heinzes, collided, three-game, arch-rivals, collision, minimise, juve, moggi, dinamo, luciano, fiorentina, instal, complying, scandinavia, 8/9, yeading, money-spinner, hinckley/brentford, ryman, non-league, crewe, third-placed, swindon/notts, scunthorpe, stockport/swansea, stale, germain, forward-thinking, ideals, arnesens, caretaker-boss, midfielders, archie, ambushed, appalling, acquainted, boca, feint, s&#227;o, metropolis, dribble, spearheaded, vacate, pel&#233, corinthians, disorganized, paulo, tranquillity, gandula, restless, tevez, vasco, ballboy, palermo, libertadores, passionately, reams, gama, hounded, gandulla, copa, amadeo, edus, fensao, invective, magician, call-offs, vitae, adroit, 56-year-old, dumbarton, callow, freak, lorenzo, amoruso, amorusos, bowen, jansen, jansens, zakuani, mcmahon, artell, lockwood, pilkington, haslam, leyton, carlisles, newey, warne, white,mackie, ibehre, mansfield, mcintosh, orient, donny, 3,803, dimech, wardley, saah, corden, portugal-based, overseas-based, kalusha, bwalya, zambias, zambians, lusakas, palancas, chipolopolo, negras, xavi, guillem, montenegros, loco, bernab&#233;u, booing, ps, vargas, casillas, volvi&#243, chilling, lauding, naivety, nappies, coachs, yourselves, ugliness, united-arsenal, multi-culturalism, galacticos, beams, garrido, miscreants, marcas, marchena, balague, witch-hunt, duffer, sniffing, run-out, matchwinner, slaughtered, highly-impressed, calming, three-against-three, five-four, priceless, solidifies, prioritises, hatful, agyemang, sable, batie, cotonsport, accra, douala, ngom, 27-28, kotoko, cloete, boukar, thokozani, ghanaian, makaji, xaba, garoua, kumasi, nfor, kemadjou, nzame, 35th, bortey, 89th, cameroonians, cameroons, jonatan, curbishley, henrik, cis, mcclarens, one-sided, boudewijn, 128-year, andrades, irureta, coruna, depor, jorge, deportivo, ntimban-zeh, makofo, dinning, oyedele, mckoy, leroy, pacquette, anyinsah, chorley, 3,367, amankwaah, 30-yard, tapp, ldv, lita, herve, orr, puncheon, stansfield, rigoglioso, priet, mcindoes, pitman, parkes, beardsley, mawson, mcindoe, tierney, morley, mkandawire, fenton, purdie, warrington, 105, 1,375, coppinger, 1100, molineux, workrate, vigo, seaman, celta, kanu, recharged, perreira, joses, top-four, barren, hamburg, three-and-a-half-year, hitzlsperger, hitzlspergers, tremble, free-kicks, neale, hackett, amibition, ex-england, glenns, masterminding, lowe, mandaric, millwalls, paphitis, perimeter, missiles, ejected, refrained, peacemakers, aggressors, reprimanded, ferguson-wenger, paragons, diatribe, revel, thank-you, proudest, werder, wonder-strike, bremen, internazionale, well-beaten, under-achievement, jeannins, devines, baying, 89, djemba-djemba, hiley, 9,033, flack, afful, sensed, messed, goalline, devine, gaia, jeannin, ampadu, volleying, grecians, fawcetts, garciaparra, 276, prolific, back-burner, foudy, shortstop, nomar, edwin, top-of-the, fulhams, frey, schwarzer, sar, parmas, rosenborgs, shot-stopper, hairy, einstein, kevins, gmr, assistant-manager, separatist, basque, nihat, ser, gara, kahveci, albacete, guti, sniffer, eta, frustratingly, sidefooted, aplomb, penal, subtitute, matthieu, 38,153, quickly-taken, faregas, knockback, jinked, brilliance, nicked, unruffled, astiazaran, goalposts, zidanes, pobreza, socieded, fiesta, confirned, partido, 9.15, ceremonial, non-offending, slavishly, aftenposten, eastlands, dubliner, dishevelled, outfield, yvonne, cheques, lorimer, dea, 0227, thorp, mantel, arch, firefighting, krasner, â£103m, 73-year-old, hand-over, dug-out, novos, kilmarnock, psg, mistakenly, â£62m, wardle, bosman, apologises, cools, laurels, deflects, lomana, boiled, bust-up, feign, villareal, partizan, villarreal, hafnarfjordur, fh, u21, emil, hallfredsson, left-sided, primed, rouxs, auxerre, three-and-a-half, one-to-one, challenge.\"earlier, olof, olearys, bruces, mellberg, amibitions, â£1.4m, munoz, jesper, gronkjaer, toni, propostition, djibril, robertsons, basle, threadbare, out-of-contract, ferencvaros, linvoy, 20,170, scraps, bergers, aiyegbeni, bergkamps, reflexes, flutter, persies, patrik, punch, vieiras, teased, match-winner, givens, sinama-pongolle, pongolle, sinama, nzogbia, mellor, kluiverts, 43,856, florent, bookable, ameobis, garcias, brambles, sami, mellors, shay, titus, 10-man, jermaine, deservedly, slide-rule, snuffed, everythings, marta, fipro, sepp, zurichs, blatter, prinz, scupper, bowing, sav, epitomises, freshen, sevilla, prising, respecter, sanchez, parente, bulgarias, hristo, valenciana, petrovs, stoichkov, awkward, south-coast, zajecs, icelandic, exert, harried, cheslea, swerving, wrong-footed, geremi, 20,210, acrobatically, pompeys, shaka, robbens, salvaged, â£2.25m, reopens, anderlecht, alex_ferguson, utds, centimetres, pedros, goal-kick, mutv, trainings, excelled, woodman, cente, constantly-changing, immaculate, socket, savours, liebeneberg, clamours, tinkers, african-born, beziers, rehearse, puzzled, cuff, sweeter, ruthless, stared, scythed, cornwell, narraway, garvey, grindal, eustace, balding, sigley, seti, walder, popped, mayerholfer, parling, curnier, kiole, 27-27, scorch, fanolua, 22-20, 27-22, elloway, mayerhofler, walders, isaacson, stimpson, penney, 43rd, gustard, danaher, staniforth, horak, paice, skivington, mapletoft, 19-33, hardwick, flankers, purdy, madejski, hatley, everitt, priscott, strudwick, unchallenged, nordt, callam, eight-week, godman, euan, howarth, marcoussis, granclaude, semi-professional, assessor, set-to, athleticism, fly-half-cum-centre, outwardly, playmaker, unforgiving, 83-10, tryscorers, 30-man, wtih, oxymoron, stutter, 17-28, percentages, crossbar, whisker, fancied, weighty, glides, undaunted, collar, orqueras, lievremont, fit-again, pieter, tabacco, abbotts, magne, bloodied, debrief, footwork, beforehand, choked, out-muscled, majestic, inury, bruises, rucking, problematical, advocated, simplifying, blindside, neath-swansea, try-scorer, bereft, 28-8, jutge, foiled, commanding, hard-earned, southwells, half-break, patersons, presentable, stray, reasserted, burrow, craigs, searing, 8-0, scuttle, scoreboard, well-worked, aided, reckoned, tough-scrummaging, 32-16, red-hot, resurgent, vickerys, try-scorers, sparingly, wrus, sociedads, euskarians, anoeta, 12,667, paseo, realms, enclosure, landers, probyn, northamptons, horner, under-pressure, 1600, uninspired, milkman, toulouses, highly-rated, all-french, leaderless, sternest, bartholomeusz, rigney, rawlinson, vickerman, popham, chesney, gerber, vaikona, raiwalui, bracken, mcmullen, randell, broster, roddam, trueman, pieters, caillet, rasmussen, martens, schofield, vaili, horsman, macleod-, windo, fortey, collier, gillies, anglesea, redpath, bozzi, coutts, wigglesworth, sixways, lund, mathew, under-perform, rubbished, demoted, under-fire, stuttered, sella, devoid, fringes, thick, whingeing, campese, englishman, castigated, poms, disallowing, ex-wallaby, predicament, berates, mounts, guinazu, jacque, tana, aus, withdrawals, star-studded, odriscoll/gregan, ollie, paces, nz, maling, cobus, three-quarter, sidolis, shanklins, quicker-than-expected, loose-forward, must-win, beckons, mindset, mefins, one-dimensional, ridiculously, uncharacteristic, front-row, thinker, drip, antibiotics, macqueens, rawaqa, caucaunibuca, reihana, free-flowing, luscombes, robins, standout, injury-depleted, guscott, disallow, landsdowne, rfu, reintroduced, ex-international, inquest, breakdowns, full-backs, assertiveness, requisite, 22-cap, licking, rueing, 18-year, agen, laquilla, bollesan, montpellier, padova, treviso, viadana, catt, clashing, four-match, alasdair, macleod, macfadyen, strokosch, verification, medial, freshness, puffed, yore, whisper, mullens, crumpled, oche, irfu, salient, decreed, crown-winning, 10-week, overworked, gloat, huffed, centrally-controlled, whitewashed, cousins, hog, downsized, foresight, irritable, pughs, sonnys, physiotherapist, 12-9, 13-man, 1994-96, cross-code, bulls, kel, millward, iestyn, coslett, cunninghams, rehab, saint-andre, re-opened, brunos, simpson-daniels, cherry, club-versus-country, tackle-count, well-recognised, scrummaging, yapps, go-forward, burn-out, llanellis, signings, 2001/2, hodges, pectoral, gallacher, invigorate, departures, back-five, gnoll, eldon, howley, amalgamated, under-18, acrimony, waging, finlay, strings, simmering, sru, mackays, duel, ym, armagh, 35-17, wager, manged, huey, 37-32, finsihed, coleraines, hutchinson, boks, beileve, tragedies, immaculately, strutted, londonderry, sorrow, energy-sapping, galway-based, anybodys, under-19, blomefontein, begrudge, unhelpful, flounders, ebb, teak, captaining, revered, mauls, rucks, bemoaning, sharpens, sown, inconsistency, richly, capitulation, shoots, proclaimed, reassess, blooming, five/six, ensue, coax, humbling, demolition, dismantling, jonty, amor, lucio, fleming, giteau, gollings, schalks, 1815, aussies, 51-15, 1430, demolished, 43-17, bedell-sivright, duly, tanner, inauspiciously, instigating, blemish, non-cap, pakiha, brisbane, 6-6, 12-3, 49-6, maori, 42-7, munro, 23-11, 1888, reflecion, ethos, kiwis, quick-thinking, 12-10, 1928, 1903, 19-0, 53-37, eyton, 23-3, uzzell, 3-4-1, 19-16, 15-0, 1870, centenary, 52-3, rees-jones, 9-3, 22-3, carwyn, 55-3, anglo-welsh, maoris, 1921, 8-8, warbrick, 11-3, kiwi, ex-pat, swatted, 2-3-2, 54-9, schoolboy, invincibles, christ, mckechnie, 1924-5, despatched, twenty-two, johannesburg, nil, psyche, enlightened, 12-7, 1905, quittenton, two-all, revell, 1893, laughter, haka, churlishly, 37-33, 13-12, 34-9, death-bed, exclaimed, whinnerays, cardiffs, beatings, undefeated, 1963-4, clem, james-inspired, empathy, pickering, caveats, two-month, recuperating, 817, re-match, 117th, 1871, molloy, hkrfu, co-host, 125,508, strongholds, jrfu, pools, tokumasu, manor, crowning, agreeable, irreplaceable, buffers, rubbed, splashed, pragmatist, pounded, biljon, scrums, saluted, gisbergens, vesty, johnson/b, rabeni, bemand, 31-37, ginsberg, buckland/cockerill, tuiliagi, relinquish, tuilagi, causeway, 31-31, slotting, rossouw, preez, paulse, backline, 61st, westhuyzen, britz, joubert, three-to-one, 63rd, transgression, claassens, poached, willemse, 52nd, botha, linde, horgans, geordan, 48th, tap-penalty, ankle-tap, honiss, aj, venter, shimange, toit/j, 17-12, stung, waasdorp, tuipulotu, chomping, 83-3, osentowski, emerick, surgener, alec, schubert, klerck, viljoen, kort, hobson, gouws, petruzzella, sika, donnacha, sherman, 39-31, timoteo, sheehan, billups, 65th, mounga, lakomskis, mccormack, connachts, omitted, connacht, kieran, fortuitous, out-played, turnovers, out-thought, unstructured, federico, longo, thump, upper-body, rugged, pumas, aramburu, munsterman, contepomi, 45th, ragged, well-drilled, indiscipline, 26-21, horstman, sudden-death, kai, marika, bainivalu, 33-15, vakacegu, appleford, tuidriva, bowl, thirlby, neumi, nanuku, 17-5, thanking, maa, baa-baas, marty, laulala, weepu, mentoring, coasted, keino, fifth-minute, nonu, piri, 19-47, cowan, australian-dominated, holah, jermoe, dwyer, vacated, curtail, bergh, flatman, substitution, unavailability, 56-man, berths, roques, monye, haughton, parr, macrae, feather, longwell, rennick, maxwell, netherdale, mcentee, mccullough, calum, morton, glimmer, hore, trickling, berthinussen, fightback, morale-boosting, doak, 20-6, millar, steinmetz, warnock, sixth-minute, pattison, ramsay, venting, compounded, christchurch, woodwards, cheetham, springs, haematoma, bicep, full-contact, shelf-life, half-back, aftewards, welford, 17-17, cozzas, negate, wasps-leicester, rejoins, rowell, walshe, ultimatum, alli, brownsword, dwarfs, mikes, 26-year-olds, tindalls, dipo, scarred, 33-5, 18-15, overdrive, nail-biting, tribal, mesmerising, emulating, shackles, principality, battering, innate, two-try, unstuck, underrated, second-, sculthorpe, sculthorpes, joynt, seans, rfl, niggly, knowsley, sonny, unknowns, ellery, bolt, motivating, deserting, itd, savouring, relished, self-assurance, taits, nervelessly, gelled, up-ended, salvo, freshly, howitzer, shuddering, glided, nonchantly, spikey, personified, silver-booted, repelled, craved, ado, snatching, sin-bin, prospered, fumble, all-enveloping, din, toying, aru, sydneys, sanzar, north-south, celts, ignominy, jpr, phalanx, nearly-men, dawns, scalps, heady, savour, blossoming, romantics, legions, tenterhooks, emerald, bleus, gobbled, nfl-style, second-row, tacklers, knuckles, cosh, scooping, blazers, belly-up, odriscolls, cordon, half-effort, eclipses, haranguing, mcdowell, disintegrating, well-conceived, back-foot, much-improved, upfield, face-saving, indiscretion, jerseys, break-out, shortlived, fourth-minute, banished, bisected, ghosts, white-shirted, blustery, supercharged, thrusts, numerically, wilting, shaved, outmuscled, kirwans, lamonts, pendulum, wriggled, over-confident, game-breakers, try-scoring, self-destruct, 92-cap, adaptibility, ultimitely, one-season, lock-cum-flanker, 6in, 50-44, starters, scoreless, unerring, straying, engendered, industrious, marconnets, booted, nibbled, 10-3, delaigues, botch, longer-range, yann, scrum-halfs, betray, 17-18, dispense, goal-kicker, golfers, week-in, fairway, jonnys, retirements, goal-kickers, week-out, natural-born, 8-38, precaution, tbc, precautionary, west-country, 2340, reffed, dwell, scavenger, disgust, serve-and-volley, 6-5, rusedskis, kiefer, pox, chicken, downed, dispatched, gambill, fifteen-year-old, dancevic, collegiate, jan-michael, unduly, novak, puerta, montanes, acapulco, mantilla, sixth-seeded, outlasting, agustin, marches, eliminated, calleri, volandri, improbable, right-hander, 264th, plaisir, sheffield-born, hitters, europe/africa, mulhouse, delgado, rain-interrupted, harel, becker, okun, erlich, eclipse, youngest-ever, run-ins, beatable, blisters, nasdaq-100, vincis, magdaleena, roberta, vinci, volleys, cross-court, baltacha, three-set, thaliand, weingartner, marlene, willems, antwerp, yetunde, romp, german-born, vaidisova, abigail, 27th, dismantles, inexperience, 1-6,4-6, vaidyanathan, cricketers, petra, nirupama, sania, mandula, shamil, accosiation, tarpishchev, fabrication, kuznetsovas, 187th-ranked, gregs, murrays, self-confidence, likeliest, 407th, quaking, euro-africa, yugoslavian-born, gargantuan, countrymen, strolled, short-priced, 158th, swings, wobble, â£28,000, unicefs, us$25,000, us$40,000, four-times, scrichapan, acasuso, 113th, 30th, 95th, daniela, kucera, karina, habsudova, rackets, â£115,000, prevails, organizers, motivates, slams, 3/7, glimpses, outclass, injury-free, rigours, higdon, contamination-free, contaminated, supplements, horn, leander, navratilova, hardcourts, paes, tobys, instilling, keothavong, workouts, crowther, unearth, ltas, jimmys, 52-week-a-year, 200%, sportswoman, therell, 10-16, clay-court, clinches, medalist, darn, deceptively, dissatisfaction, robredo, outclassed, bryans, tasty, open-era, swiss-german, lakers, routed, mauresmos, cramping, bronchitis, bjorkman, camille, daniilidou, eleni, frenchwoman, fabiola, switzerlands, frazier, magdalena, golovin, zuluaga, third-ranked, pennetta, eighth-seeded, flavia, kindlmann, luczak, phau, garcia-lopez, hyuung-taik, gimelstob, jarkko, 8-10, outlasted, ancic, exhausting, wrapping, second-set, nieminen, sfx, tarik, 121, re-hire, benhabiles, goldfine, sun-sentinel, floridas, two-set, nailbiting, stoked, on-court, exuberant, tiring, 9-15, koubek, energised, conqueror, four-set, rodicks, 7-3, lleytons, thatll, modifications, gutful, lunging, folded, davenports, lapse, fatigued, hangover, double-faults, 6/8, half-volley, chases, nadals, crosscourt, line-call, 40-15, lunge, leaden-footed, deuce, loops, 4-4, unreturnable, 30-0, 40-30, buts, groundstrokes, dinked, shot-making, outplays, slam-dunk, ferociously, 15-40, 8/6, roused, gee, down-the-line, double-break, retrieving, acclimatise, 52-year-olds, nuts, straight-talker, moulded, usta, newcombe, lendl, cahill, rafter, herald-sun, federers, conquering, long-recognised, all-important, kuerten, limp, all-russian, let-down, gonzaelz, henin-hardennes, 31-year-olds, belgians, nicoals, sw19, berdych, repetitive, five-setter, adductor, krajicek, slovaks, shaughnessy, wessels, michaella, meghann, baccanello, ruffled, jaslyn, sidesteps, unwavering, srebotnik, serbias, katarina, ivanovic, canberra, czink, straight-sets, round.said, melinda, 32nd, sveta, groenefeld, anna-lena, soderlings, stepanek, radek, synthetic, soderling, karlovic, chaunac, rib-cage, dane, aces, delray, top-seeded, zib, 0-40, 88th, lobs, unimpressed, malisse, rain-affected, flavio, almagro, saretta, forehands, zabaleta, alyona, nervously, clipped, erupted, bondarenko, 134, see-saw, inked, akaev, sprayed, lamp, ills, rumors, inking, glow, cuticle, dries, pro-government, indelible, kyrgyz, ifes, askar, metaphor, panacea, his/her, ultraviolet, neon, backsliding, mikosz, prelude, radioactive, 12,575, 224, immoral, elementary, bricked, senne, story-based, urban-based, vein, on-the-street, incubating, â£21, planners, unleashing, outside-in, remnants, altruistic, cellars, langlands, abstract, coudenberg, tara, technologists, modernity, expressionist, inaugurated, 2kw, huaral.org, non-government, telecentres, coordinate, huaral, mini-hydraulic, cuyo, 50-family, telecentre, cepes, chancay-huaral, perus, inhabitants, saldarriaga, self-sustainable, surprisngly, emenating, anyhting, revolutionalised, diamound, fronter, amazon.com, hypergrowth, proxies, isbn, carfax, autolinks, outreach, citizen-based, autolink, directs, envisional, tivo-type, coppin, 150%, degradation, lossless, roaring, â£1,500, 2k, encrypted, *, aadc, terabyte-size, 2048, 35mm, 1080, scratches, preventative, 9276, 028, xboxes, cords, blogsphere, dedicate, cyber-dissidents, focal, templating, month-old, non-for-profit, radicals, 7.1, mums, re-used, minciu, re-using, reconditioned, georgeta, landfill, unrecycled, re-use, krewell, microprocessor, ported, 96%, gatherers, fruits, ie7, firefoxs, mid-2004, lightpointe, permissions, foggy, sridharan, 1-2mbps, 1.25gbps, roofs, teleservices, chennai-based, tatas, pipes, mall, biowares, bioware, alberta, neverwinter, shauna, edmonton, armoury, ciphertrust, deluge, filtered, brightmail, efficacy, two-three, della, painter, passages, telemetric, piero, flung, copyrights, kapor, software...of, wielded, co-existed, licenses, corroborated, wmds, freely-available, torvalds, philpott, linus, setbacks, abstain, reboot, re-submit, scammer, token-based, activcard, pda, beal, passcode, activcards, dogging, token, 2048-bit, indemnify, ascertain, e-business, shopaholics, e-banking, by3g, wsis, sixty, 77%, community-based, easy-to-understand, comb, niscc, waarschuwingsdienst, non-technically, internet-users, gilan, persian, sigarchis, dissuade, us-funded, khomenei, weblogger, khamenei, ruhollah, ayatollah, motjaba, mullahs, clamped, farda, counter-revolutionaries, lokitorrent, infringe, lokitorrents, ripper, circumvents, decss, scrambling, stagework, compositions, sequencer, sseyo, fashionista, newsround, best-designed, minimixa, meat-and-potatoes, newly-designed, 30-frame-a-second, rasor, omap-vox, marketers, 19.9, reigns, encarta, algorithmic, indexes, equations, encyclopaedia, equalisers, motion-control, sports-leisure, pantech, afficiandos, instrument, motion-sensitive, ph-s6500, subway, calorie, people-watching, golfing, v603sh, maracas, preambles, die-hard, art-form, thirsts, massive-money, excellent-value, honed, america&#191;s, arcade-like, 2k5, indignation, espn, identifiable, shading, oodles, front-end, rankled, hockey-wise, unparalleled, quench, monopolise, nfl, disliking, dizzyingly-extensive, ooze, similar-yet-hugely-different, espns, nhl, singstar, konga, bongo, hitman, byplanes, 40mbps, plusnet, â£9.4, gullivers, capitalists, 7,600, unsophisticated, satirist, sequoia, jerrys, filo, â£1.04m, uncouth, gui, initiator, jef, hertzfeld, pancreatic, raskins, xerox, raskin, franciscos, 94%, nineteen, non-smartphone, intervoice, noone, so-and-sos, 34-year-olds, dixons, -top, tuners, telewests, 20gb, 160gb, visions, satisfies, edutainment, lateral, useable, edu-tainment, habitat, outputs, liverpool-based, eschewed, collaboratively, transplanted, futurelab, classrooms, already-established, eco, chromium, â£68, fanara, epas, drawer, heine, ripmobile, $125.73, epa, vampires, rechargers, weee, e-waste, nobles, logon, configured, cybercrime, cranfield, cybercriminals, hi-jacked, openzone, cash-on-delivery, radar, 137, net-using, familiarity, makower, seaboard, cachet, panlogic, c-span, blinkx.tv, captioning, rosenberg, webcasts, caption, stowell, trojans, crank, marek, strihavka, malware, cash-rich, net-savvy, aggregators, kos, avid, well-educated, instapundit, attributable, 58%, business-like, coding, cull, kingsley, tiga, hasson, eight-player, kart, ubisofts, additionally, $2.6bn, touch-screen, iwata, pictochat, satoru, keywords, artgarden, rellie, whistler, tateson, tendering, reconstructed, metadata, drafts, acute, workshare, add-in, expunged, amended, currie, self-regulation, lengths, conduits, norm, super-regulator, ispa, chefs, risque, ayers, gawker, hicksdesign, bloggies, boing, plasticbag, wonkette, bicycle, meme, replicating, gothamist, flickr, nikolai, londonist, best-kept-secret, greenfairydotcom, glickman, cinemanow, wav, deleterious, movie-swappers, movielink, napster.com, bruvik, napster.no, unauthorized, premeditated, lillehammer, abetting, tono, bruviks, larribeau, niel, single-function, 056, inescapable, multi-megapixel, poach, consumer-focused, ubiquity, bluephone, sparse, medecins, frontieres, homepages, modifying, aid-related, discourse, one-to-many, paxs, abtahi, monde, nachison, acclimate, linguist, wikinews.com, exponential, movabletype, chomsky, eye-witness, god-game, fad, surreys, lionhead, bullfrog, molyneux, god-games, computerised, ambitous, dungeon, skateboarding, matsuura, dayton, layovers, discontinue, skirt, quirksville, anti-blogging, thrives, pelletier, $11m, smuggled, transfers, atomic, livio, iaea, haystack, blueprints, visualisation, costantini, snapshots, gupta, dina, pooling, funnel, kotamaraja, palpable, one-stop-shop, smses, ramdhan, descriptions, trawlers, blogged, heretic, yadav, rohit, 802.11b, biodiversity, panda, globio, sichuan, wolong, state-of-the-art, pandas, vets, hemin, bamboo, toolbars, stata, sendmail, jf, spreadsheets, invasiveness, rittweger, keyword-based, lookout, heck, nokia-sponsored, cosiness, pronounced, kaye, shack, junkies, podcaster, wisconsin, countdown, playboy, anti-radio, assortment, gadgetry, xml, clie, ux50, innovator, eos, w1, canons, 300d, ra-104, swivel, inventing, pcg-x505/p, vaio, novatech, leds, turismo, gt4, acid, gran, evo, hawks, ridge, lma, 7.5m, peakes, wyver, in-between, bare, illuminations, slushier, gormenghast, nm2, stollenmayer, engagers, re-engineered, nm2s, storylines, lego, stringing, reassembled, action-fest, restructuing, mid-october, parkinson, 268, expressions, lifeplus, 2d3, union-funded, dramatisations, augmented-reality, head-mounted, magnenat-thalman, pompeii, miralab, frescos, augmented, make-over, taverns, computer-augmented, archaeological, backpack, interprets, emoticon, bagle.at, bagle.au, bagle.bb, bst, 0630, 0530, starfox, rebuilds, re-emerged, shadowcrew.com, supt, anatoly, certificates, commodities, trafficked, proprietary, deats, twenty-eight, ringleaders, camberley, tyukanov, newark, darkprofits, companions, robotiquette, studys, demonstrator, kerstin, human-robot, pass-the-parcel, imitating, cogniron, dautenhahn, pointer, europay, tightly-knit, spontaneously, mastercard, slammer, welchia, towergroup, atms, os/2, un-named, hirsch, thiemann, stanzel, inundated, ebbs, bush-cheney, prompts, edgescape, militarys, boingboing, freebies, activate, ingenuity, decipher, whalley, dormant, decryption, revenue-generating, wookie, jedis, fired-up, endor, blockbusting, speeder, symphonies, gunfights, motifs, back-to-basics, mayhem, skirmishes, ewoks, tatooine, galaxys, hoth, backdrops, snazzy, doubtless, geonosis, quotient, wastes, trilogies, bog-standard, at-ats, above-average, much-maligned, re-spawning, non, one-trick-pony, waypoints, triples, 6.23, stumbles, crime-shaped, preppy, magnificence, swathes, action-packed, hijacking, anchored, push-bike, gangland, avenge, patrons, inflame, more-of-the-same, loquacious, bread-and-butter, driv3r, revisiting, ambience, pad, commandeer, lowlifes, detract, wit, freeway, on-screen, odious, venturas, gags, barnstorming, grungy, lends, pile-up, pro-censorship, crooked, brutality, in-vehicle, stomps, deeds, sunsets, entirety, plus-points, fiddly, flaunting, behold, stupendous, carefree, thinly-disguised, haircuts, off-the-chart, framed, fierro, envisage, jokey, non-geographical, entitles, give-away, 0870, transformative, keyboards, traits, hinton, superconducting, nanotechnologies, multidisciplinary, cures, contexts, over-promise, dti-funded, pervasively, underrepresented, browsed, 94.7%, charted, incarnations, pre-launch, garner, firebird, net-browsing, windows-, banded, amaya, november/early, remarking, bungie, halo.bungie.org, playability, dolby, texture, horde, distracts, nivens, remembrance, fansite, enormously-high, screenshots, starship, ringworld, errera, essay-length, titbit, troopers, schlock, cultivated, attained, co-manages, one-one-one, 3-5, 16-28, comers, excel, counter-strike, wride, 10-13, bloodline, jolt.co.uk, erich, co-founders, strohmaier, top500, retrieval, cache, senanayakes, techies, unfolded, self-organizing, sanjaya, mobs, purification, tablets, centralise, michelangelo, far-flung, senanayake, rampersad, unreliable, web-page, saffo, preset, bowden, stimulus, embodiment, kettle, jeremiah, downstairs, orwellian, avatar, bathroom, childlike, jeremiahs, ever-improving, cm, si, margate, bonnet, fm2005, cm5, manageable, mind-games, eidos, faithfully, britneys, livelihood, rockstars, 2,755, riaa, swappers, wma, gellhorn, musicmatch, artifice, unlawfully, slattery, anti-competition, anti-trust, mason, realplayer, vice-versa, 0.0051%, looked-up, derive, merriam-websters, repressive, hitwise, slant, wield, merriam-webster, hyperlinks, dictionaries, syne, jongleurs, auld, goodpub, 85130, unfeasible, 133m, nearest, lang, sympathise, rashly, skirmish, hl2, irk, sledgehammer, underplaying, troublespot, freedom-fighting, unfeasibly, landscapes, mid-task, 3500+, free-ranging, top-notch, hurling, life-draining, hesitating, resorting, radeon, highly-anticipated, clobbers, blinding, nightmarish, thrill-ride, infuriating, mingle, herded, haunting, half-lifes, foreboding, interrupt, monster-infested, crowbar, atis, carefully-scripted, exposition, step-by-step, zombies-leaping-out-of-shadows, interacted, unrelenting, tantalising, x800, distinctly, meticulously, attention-to-detail, prodding, annoying, alienware, immerses, cut-scenes, exhilarating, unkempt, lifelike, corpses, forefathers, iowa, bubbling, joysticks, multi-discipline, astonished, uruguayan-born, vices, virtues, bush/kerry, frasca, cambiemos, newsgaming.com, gamepads, frontiers, inhabit, mitts, killzone, formulate, nano-, fabric, anti-odour, bolted, conductive, pass&#233, ambient, paves, stain-resistant, sleepwalk, biology, surfacing, neuroscientist, nanotechnology, antibacterial, fuses, electrically, lenses, biocidal, passer-by, inanimate, nanoscale, cyborgian, part-inorganic, shark, infiltrates, arrogantly, sewn, part-human, pervaded, sleeves, micro-engineering, tio2, nanoparticles, molecular, dressings, quaintly, overdraft, unshredded, cratchits, plugging, auditing, underworld, transit, securewave, convoluted, cahoot, databases, glamorous, jakob, easy-to-play, realarcade, females, games-on-demand, over-50, hi-spec, big-hitting, graber, sports-based, puzzle-based, pervades, â£30, poker, proactive, teraflop, gene/ls, 36.01, nasas, minnesota, tailor-made, petaflop, rochester, simulations, simulators, genome, 5th, â£211, nevo, $799, arling, leboff, mpios, skeletal, 2.5gb, â£425, â£133, fiends, 3,420, hotseat, unplug, circular, camcorder, mpeg4, design-conscious, surround-sound, geeky, audiophile, $399, uei, fashion-conscious, slung, p7131, sanyos, nevosl, fy500, emphasises, pendant, galore, chassis, 7.2gb, seagate, discreetly, vpc-c4, risqu&#233, stills, bus-stops, hanau, hanaus, romen, smart-card, 3220, ticketless, timetables, buses, rooster, intermission, belinda, darlings, dual-purpose, compromises, 10.6m, 836m, mid-2000, reproduction, â£7.36m, abundantly, fossils, half-term, laughably, flakier, superfast, full-screen, fossil-hunting, purged, sina.com, sohu.com, subversive, censoring, godels, excused, entitlement, diatribes, theorem, evidently, back-office, interconnectedness, legionnaires, catastrophically, interventions, artificially-inflated, zonealarm, rogue-dialling, profiteering, dialling, it-literate, scammed, galls, dwight, innocently, â£320, avg, pay-outs, â£139, hotline, phoning, 40-odd, spamming, high-bandwidth, malte, terabytes, pollmann, subjecting, day-by-day, spamcop, e-democracy, ebay-type, ipprs, publicly-recognised, middleman, non-market, mailing, ippr, decentralised, cliques, pre-legislation, good-practice, e-government, in-stat/mdrs, wheelock, $26m, in-stat/mdr, under-25s, echoes, bypass, 44.9, $336m, lombardi, fahey, cluttered, steam-type, valves, niels, randle, mozilla, onestat.com, 95.5%, â£133,000, 88.9%, 7.60, amsterdam-based, softwares, brinkman, mozillas, 7.4%, sporadic, benq, 7610, wallpaper, 7610.extended.theme.manager.zip, masquerading, tee-222, non-working, shareware, 7610s, arima, music/video, horoscopes, micro-tv, maxs, eyesight, mini-tv, mp3g, cut-down, expensively, pleasantly, p800, decompress, powerpoint, personalized, hatched, intermittency, choke, designate, pctvt, pctvts, prassana, $2,000, rambathla, prof_reddy, postulating, telemedicine, insect, foolproof, elain, seti@home, intractable, molecules, proteome, untapped, wgc, wcg, specializing, gallin, cycles, analyze, not-for-profit, 2.5m, gigapixel, rockscape, 360-degree, hartog, canyon, dots, constructed, 6m, 196, stitching, tno, composite, computer-controlled, underwood, taxidermy, barbary, roam, corsican, statutes, 133-hectare, live-shot, off-range, white-tail, unregulated, antelope, $5.95, 20-minute, remote-controlled, mouflon, blackbuck, silhouette, remote-control, fondness, 1.75, tie-ins, eyetoy, follow-ups, 37.9%, double-platinum, broadened, â£1.34bn, â£4.50, 86%, mainline, piazza, librarys, lynne, brindley, oftel, renting, strangle-hold, multi-occupancy, â£39.99, wifi, 2km, kilobit, broadbands, bundling, stening, onetel, yagan, filesharing, desks, condemn, oxygen, rages, captive, allocate, bedfellows, lavatory, flushed, rescuing, reformat, careless, malfunctioning, weirdest, ontrack, corrupted, buzznet, schoonen, moblog, telegraaf, aarhus, paedophiles, snappers, reichhold, photojournal, dominican, telegraafs, stiftstidende, $322, â£171, tattooed, non-permanent, omaha, 666, propagating, finjan, irony, bofra, viral, progam, dole, weblinks, combs, poisoned, penetrated, scours, behavioural, 1000, suranga, chandratillake, informally, promiscuous, bookmarks, vigilante, spamming-type, anti-spammer, skirting, response-time, centralised, diapers, humaxs, a-la-carte, scheduler, jolna, stacey, 80-hour, mediavest, directtv, 26-inch, hume, pastimes, 100-hours, hanlon, tivotogo, starcom, talked-about, tv-watching, 273, harvest, middlemen, messagelabs, persistence, cyber-criminals, scattergun, sunner, hinges, dahaka, somersault, fountains, onimusha, time-travelling, preposterously, disservice, meticulously-animated, commences, slaying, anti-climax, third-person, leaping, haphazard, purposefully, intro, super-athletic, lopping, scenery, fiendish, then-groundbreaking, sequence, bellicose, beasts, unsatisfying, empress, slicing, sultry, pirouette, ramps, merit-free, all-consuming, energetic, obese, toshibas, squirreling, 1,000,000,000, functionalities, hoarded, e-mailing, hoarders, hoarding, bytes, multi-media, floppies, fourfold, single-player, sandvines, bandwidth-hungry, reserving, subscription-based, schroth, yankee, sandvine, live-play, spoils, clarion, prioritising, morin, pmc-100, tivos, music-only, super-cool, pma430, av400, windows-based, non-professional, pocket-sized, crohas, candillon, voigt, riverbeds, impeded, sudans, bjorgo, laminate, wadis, sertit, interpreting, einar, unosat, clothe, keyobs, rainy, encapsulate, pods, gillingwater, strolling, erel, cocoon, single-person, 0.83mph, i-foot, aichi, infirm, mountable, encased, leaf-like, 2.1, dismounting, four-wheeled, staircases, avineri, ipod-type, 1.35km/h, customized, exoskeletons, bird-like, human-factors, vehicular, plant-based, autopilot, egg-shaped, envelop, reclining, i-unit, imac, ir, hypertag, hypertags, harker, unlicensed, infra-red, marson, tfl, minicabs, bloodthirsty, cumberbatch, typed, serviette, informaton, elfs, enquires, vacations, untouched, 40052308090, 277, enquiries, shopper, â£220, imrg, â£104.99, 64%, hard-to-find, lingerie, roper, purses, fanlo, 18-35, hostway, shopping.com, robosapiens, 18m, narrowband, leclerc, wojcicki, scholarly, oxfords, reg, wilkin, bibliographies, extracts, bodleian, mehdi, $188, shipment, 500,000-strong, â£78, queued, â£98, â£23,000, fr, mobi, euro1080, blurry, flaherty, eye-blasting, sharpness, quested, telly, widescreen, tailor, 575, low-priced, aquarius, inconvenient, tester, cropping, silver-halide, â£1.87, â£9.99, 7x5in, millilitre, resistant, smudging, r800, 10x7in, inks, 8x10in, 6x4in, snappy, epson, role-player, life-eating, ico, wanda, retooled, adventuring, cel, tecmos, ocarina, s.t.a.l.k.e.r, kojima, hideo, tarkovskys, mutation, soviet-controlled, high-fantasy, ninja, warioware, uninspiring, commendable, enveloping, portly, aura, auric, evokes, umbrage, backfires, nightfire, crosshair, rectified, juices, goldfinger, similarly-titled, xenia, firefights, oddjob, n64, glued, shoot-em-up, masterminds, thought-through, onatopp, hat-fiend, commander-in-chief, 1.6km/h, learns, spinning, 2.5km, entertainer, gainful, 81,000, 130cm, 10cm, 106,000, 2kg, jog, amusement, car-maker, asimos, beckoned, dual-screen, pre-packaged, higher-priced, on-board, seven-page, disseminated, misappropriated, mindark, accumulating, ped, $1.70, beachfront, behrmann, entropia, rpg, deathifier, alternate, ingots, $26,500, plateau, â£13,700, entopia, peds, shogun, steals, strips, malign, gybels, universally, bsl, rnid, guido, textphones, videophones, â£7.00, disenfranchised, currington, 38mph, 508m, suction, masayuki, blowers, ascend, whisk, tallest, shimono, tfc, shaft, taller, skyscraper, 17m, hein, 426m, whistling, escalators, elevators, 61km/h, discharge, 25.6, ascending, taipeis, roux, swiftest, petronas, certification, km/h, elevator, double-deckers, 382m, vibrations, 17m/s, authoritative, record-holders, 99.4%, torrents, bittorrents, kudja, synthesizer, blip-pop, $200, boops, beeps, cacophony, kraftwerk, improvisational, gameboyzz_orchestra, jareks, malgorzata, poles, kujda, rudimentary, jarek, defacement, 1,440, defaced, santys, tailed, santy, randomly, phpbb, lichtenberg, ignited, harmonise, osx, sincerest, rnib, cec, summarise, synthesised, speegle, flattery, panavox, repetition, baffled, rip-off, renton, imitation, impairments, ever-popular, howell, 23.5, 11.4, 32.5, 18.6, broadband-enabled, 15mb, whetting, soars, shaving, 3mb, tortoise-like, 2mb, broadbanders, 512k, caveat, ever-selling, bandaid, 2.5g, fast-forward, dollops, tweaking, jak, daxter, vcr-style, bubbles, purrs, clank, ratchet, feline, dulled, best-looking, blinx, intuitive, warps, traps, outflank, old-timers, hotbot, unlocking, muscling, holzle, urs, yonca, truer, trumpeted, brunini, financials, symptomatic, altavista, frees, 25,772, union,dismissed, innovating, multiprocessing, filethat, academia, toprevent, simultaneous, insubstantial, jollans, amass, 3,248, aboutroughly, leadsnosoftwarepatents.com, diversionary, usefulness, linden, gartner,downloaded, intranet, hotly-contested, 16.3, impairment, jacobsen, jacobsens, dobrow, cellery, scouring, browses, pitylak, headings, payperaction, groundless, lin, solicitation, leadplex, confer, trotters, oftexas, ftc, non-solicited, can-spam, freezes, treacy, pro-players, lucrative-ever, continent-hopping, theriault, harmonisation, ubisense, cross-europe, licence-exempt, over-emphasises, wideband, souped-up, ieee, licencing, cept, uwbs, uwb-using, subtleties, â£1.65bn, â£16bn, bolz, autosport, tt, tansleys, climbs, amputees, racings, pararallying, throttle, gsi, pedals, amputated, prejudiced, subaru, imprezas, autocycle, rainey, tansley, paraplegic, throttles, lever, gearbox, quadriplegics, steering, clutches, hewland, disabilities, sequential, motorsport, pro-shift, changer, sidecars, lincolnshire, gearboxes, amputee, impreza, duck, print-ordering, picasa, ofoto, tantilising, archivists, tucked, kodaks, pixagogo, bulging, sharpening, snapfish, critique, detects, photosig, $24bn, informa, â£3.50, roadshow, video-store, antiques, gothika, snalune, vod, knell, touchstone, 500%, variations, mosquito, mass-mailing, co-existing, randex, fast-spreading, symantecs, sven, anti-phishing, best-ever, jaschen, gaobot, tidy, netsky, criminally-minded, hop, sasser, collaborators, undergraduate, hotbed, brainwaves, us$13, iband, wearer, devoices, us$3.3, near-term, start-ups, connectedness, 8.16, self-funded, bracelet, us$10.6, 2.56, couched, make-believe, asleep, drawbacks, homework, well-polished, gravity, re-create, oppositional, simulated, pronunciation, energie, inferences, drumming, phenomena, purushotma, impart, purushotmas, pre-prepared, educationalists, m3u, pls, solves, idefence, 4.7.1, inserting, plot-wise, auto-saving, near-identical, cohorts, underwhelming, pacific_assault, misdirection, tidier, stilted, unconvincing, bark, gunboat, tropical, tight-knit, puzzlement, muster, pre-determined, guadalcanal, crewman, talkative, hawaii, suitably, first-person-viewed, camaraderie, hearty, anti-aircraft, disturbingly, imparting, irritatingly, top-end, contented, skilfully, perilous, bombastic, pacific, battleship, superficial, linear, checkpoints, gammage, sell-em-cheap, interchangeable, hesaid, hulking, bravest, balked, pile-em-high, administer, peripheral, garageband, stylish, 1.8ghz, jack.the, imovie, basics, flat-panel, expandable, chop, ethernet, dot.life, cheerful, eminently, firewire, 16-inch, sempron, performance-wise, entry-level, 2.6ghz, â£469, obtain/build, celeron, audio/headphone, cd-writer, pricey, xp2, trouble-shooting, 1.4ghz, buildyourown.org.uk, upgradeable, backing-up, burner/dvd, jal, workhorse, enhancement, radio-enabled, reidar, 3230, wasenius, 7710, adopters, cross-platform, tuffy, deering, blue-ray, practicalities, high-detail, 4.6, rechargeable, arsenic, compostable, vapour, antique, five-year-old, cylinder, redesigning, redesign, 386, oblige, cans, bins, additives, 10-mile, pixel, filmic, shaders, canvas, leaps, indistinguishable, harness, horsepower, next-gen, codename, pandora, kingdom, spyware-removal, particuarly, naively, goosens, over-60, 13.2%, preventon, vigilant, jump-start, psx, xdr, rambus, hi-fis, instigate, succeeds, microwave, stab, chip-makers, furiously, videogame, synergistic, 3.8, meta, kleynhans, 10-times, ghz, multicore, encoding, mimic, sibbald, psychoacoustics, unremarkable, sonaptic, encoder, am3d, sonaptics, montieth, rohm, stereo-widening, multi-speaker, srs, synthesising, silicon-based, cd/dvd, pre-built, 05, mini-itx, in-car, 80gb, tuner, technically-savvy, fledged, enthusiast, bobs, sparrow, home-build, beauvillain, koogle, semel, refocused, gmail, inktomi, froogle, overture, $120bn, diversifies, post-dot-com, stacked, weiner, upstart, â£94, juniper, multi-band, ultra-wideband, wimedia, zdnet, ravencraft, freescale, ofdm, groove, 7.2mb, saumil, sydus, cridland, nanavati, high-data, â£5.20, punisher, rambo, apocalypse, 1.8gb, â£10.40, beeks, â£15.60, scrambles, netsurity, wi-fis, cracknell, hangar-like, tv-enabled, t-online, dorries, 7-megapixel, zander, yle, rokr, telephoto, sphere, rainbow-coloured, sch-v770, ctia, gabriele, hyped, teaming, music-enabled, reflex, peek, custom, allard, game-making, personalise, directx, soundtracks, swipes, 20mbps, bbcis, supplemented, non-licence, packets, facilitator, cams, bumped, enabler, joly, thales, over-the-air, rahul, chakkara, home-monitoring, fait, seeping, wanadoos, livebox, tis, vonage, pipe, footprint, voice-over-packet, abensur, templeton, router, simmelink, spearheads, â£130, 130, 8mbps, 15mbps, unbundled, onlines, retails, differentiating, genetic, shakes, shaky, ama, montrose, â£70, tremor, levine, secam, anti-tremor, assistive, afflict, extradite, acquiescent, messageboard, notoriety, mcnulty, dods, aliases, kartadinata, graffiti, faceless, eriflleh, seventy, warrants, popz, investigates, hellfire, victimless, extradition, risciso, co-defendant, techno-gang, tresco, 2940, townsden, hew, dod, warez, brag, co-leader, invincibility, fourteen, dowds, buffs, 1911, sankus, loudmouth, spelt, snippets, leakers, powerpage, kleinberg, unmask, divulging, 4.2ft, emiew, shibuya, shinjuku, waist, workmate, trumpet-playing, 3.7m/h, wheel, bipedal, wheel-based, emiews, segway, hitachis, 137,000, resemble, quickest-moving, 1.3m, human-like, qrio, horiuchi, adsense, shortest, honeynet, peep, honey, pots, leveraging, remotely-controlled, ddos, irc, locking-down, tpm, trusted_computing, safeguarded, module, obscurantism, purchaser, protecttools, optiplex, thinkvantage, unlocked, password-protected, hp/compaq, user-level, hardware-based, uncontrollable, â£129, british-backed, game-playing, 87,000, â£229, location-based, crams, tumble, switch-off, suffice, laven, flavours, oudendijk, 106cm, rear-projection, hd-ready, binks, 42in, dvi, hdmi, dlp, sticker, preoccupied, gfk, digitally-savvy, adsl2+, gmipoll, variables, forty-four, researchs, 18mbps, aspersions, extinct, misspell, nienhuis, sustains, 180%, alyn, clearswifts, by-pass, sex-related, bogus, proliferate, mirapoint, dinosaurs, ape, wipeout, wedbush, pachter, queuing, microcosms, podshow, over-hyped, democratising, in-show, $4,000, wmp, blooms, diary-like, pied, coffee-loving, referral, commercialising, madison, audioblogs, bedrooms, scripting, 1,000s, music-playing, winer, aggregation, bait, in-your-face, piper, unobtrusive, 10s, buzzword, pay-for-download, rudolf, buntes, outgrowth, multi-coloured, engerwitzdorf, unbelievably, aon, fernsehen, telekom, glitch, ietf, ipv6, cern, tcp/ip, knits, ipv4, never-ending, particle, protocols, evolves, parsimonious, chemistries, evaporation, transistors, trainor, ion, lithium, shortness, evangelist, separators, guzzler, recharges, wringing, ebl, diffuse, workgroups, brokered, swarms, arbor, log-in, end-user, netting, hailstorm, souter, breyer, summed, groksters, morpheus, inducing, second-guess, file-trading, shapiro, conceptually, numerique, superieur, mediametrie, free-to-air, thirty-five, bodinat, terrestre, inexpensive, bouquets, laudiovisuel, tnt, mpeg-2, sagem, conseil, mpeg-4, tous, gerolami, dtt, pay-tv, 5,800, immune, hamster, backup, norwegians, palms, mobile-data, snatch, retrofone, cabs, harp, 63,000, re-unite, muggings, pointsec, oslo, chan, negotiates, frontier, radioscape, lower-, teliasonera, conditional, dmb, $6.6bn, gambino, shin-bae, igels, yeun, watchable, yeob, nordic, soda, useful/popular, compass, fizzy, astro, whizzy, illustrates, taser, froth, remotes, pre-teen, continuum, musiwave, numbered, babinet, equilibrium, ecosystems, jeanne-marie, state-dominated, gescher, joint-venture, ruigang, cga, 340, sarft, regulates, china-watcher, 1.3bn, 2,900, kournikova, salacious, popstars, hackarmy, oxby, soul-mate, twitches, chatting, accesses, adult-themes, ica, wlts, match-making, wltm, seekers, pescatore, flic, layer, explicit, singletons, booths, spammer, boramae, sic, 514, richter, $46m, optinrealbig.com, seoul, â£5.29m, maneuvers, optinrealbig, self-declared, tdg, harnessing, ramping, unencumbered, c-cor, allaire, triple-play, aligned, myrio, bypassing, brightcove, milliseconds, price-prohibitive, limitless, graczyk, instantaneous, fingertips, geographies, 6230i, 6230, parked, one-box, probable, hoards, sgh-i300, shoe, neulling, riccardo, flyers, brailey, risse, zen, susanne, stereos, crashes, rinaldini, umemoto, inductance, reseller, owain, $10-25m, alita, maxis, organism, animate, lessens, genemation, brisbane-based, seuss, lucid, gdcs, baggins, higher-quality, averaging, spore, bucking, oxford-based, gencrowd, jaws, simulates, endorphin, amoeba-sized, 30-person, v2.0, crumples, photo-realistic, bennallack, in-built, krome, frodo, pre-approved, refunds, dialled, modems, clamp-down, apache, agonising, gnu/linux, lzw, mid-1980s, cross-license, harolds, eolas, obsess, re-presented, byrons, infringing, gif, disregarding, fearsomely, pilgrimage, one-click, childe, yorans, amit, â£44.54m, yoran, impervious, abruptly, tasked, cybersecurity, sadder, blogzine, stanton-davies, unhealthily, 7:30am, frag, marginalised, shifts...waking, tinkerer, huddersfield, mmorpg, escapism, rpgs, adiction, hrs, definately, evercrack, heart-rending, reccomend, upto, cos, mirage, eq, alot, quests, addictiveness, hobble, evermore, ummm, hehe, ultima, galaxies, bothers, relasing, sanity, mushroom, marrage, impair, ahhhh, counsellor, restlessness, widows, â£800, irretrievably, consumed, trifling, obsessives, mmoprgs, ogres, playing..or, infinite, 2pm, restarted, enviroment, succesfull, open-endedness, hayot, 5am, willpower, unproductive, everquest, toast, longing, long-winded, bladder, attest, vacuum, obsessive, lol, 5:pm, addict, sword, 24hours, person&#191;s, adrenaline, sorround, scare-mongering, 15+, 3am\n"
     ]
    }
   ],
   "source": [
    "# Thresholding\n",
    "\n",
    "# Number of terms with lowest TF-IDF scores to consider per document\n",
    "n_lowest = 50\n",
    "# The proportion of documents each of these terms must appear in to be considered a stopword\n",
    "stopword_proportion = 0.15\n",
    "\n",
    "per_doc_stopwords = []\n",
    "for doc in phrased_docs:\n",
    "    token_tf_idf = tf_idf(doc.tokens, token_idf)\n",
    "    # token_tf_idf is a dict of token -> score\n",
    "    scores = sorted(list(token_tf_idf.items()), key=lambda x: x[1])\n",
    "    lowest_n = [score[0] for score in scores[:n_lowest]]\n",
    "    per_doc_stopwords.append(set(lowest_n))\n",
    "\n",
    "# Check how many *stopword lists* each token appears in; this is more discriminative than \n",
    "# checking how many actual *documents* each token appears in instead\n",
    "stopword_df = {}\n",
    "for per_doc in per_doc_stopwords:\n",
    "    for stopword in per_doc:\n",
    "        if stopword in stopword_df:\n",
    "            stopword_df[stopword] += 1\n",
    "        else:\n",
    "            stopword_df[stopword] = 1\n",
    "\n",
    "total_docs = len(phrased_docs)\n",
    "final_stopwords = []\n",
    "for stopword, count in stopword_df.items():\n",
    "    if count / total_docs > stopword_proportion:\n",
    "        final_stopwords.append((stopword, count))\n",
    "final_stopwords.sort(key=lambda x: x[1], reverse=True)\n",
    "\n",
    "# List of removed words sorted by TF-IDF (so in roughly decreasing order of commonness)\n",
    "removed_words = [stopword for stopword, count in final_stopwords]\n",
    "stopset = set(removed_words).union(set(hapax))\n",
    "\n",
    "print(\"Stopwords, ordered by TF-IDF:\")\n",
    "print(\", \".join(removed_words))\n",
    "print(f\"({len(removed_words)})\")\n",
    "print(\"Also removing document-level hapaxes:\")\n",
    "print(\", \".join(hapax))"
   ]
  },
  {
   "cell_type": "code",
   "execution_count": 19,
   "metadata": {
    "ExecuteTime": {
     "end_time": "2020-06-19T09:16:02.766056Z",
     "start_time": "2020-06-19T09:16:02.759063Z"
    }
   },
   "outputs": [],
   "source": [
    "def second_tokenise(tokens, stopset):\n",
    "    new_tokens = []\n",
    "    for token in tokens:\n",
    "        if token in stopset or re.match(\"^[^a-z]+$\", token) or len(token) <= 1:\n",
    "            continue\n",
    "        new_tokens.append(token)\n",
    "\n",
    "    return new_tokens"
   ]
  },
  {
   "cell_type": "code",
   "execution_count": 20,
   "metadata": {
    "ExecuteTime": {
     "end_time": "2020-06-19T09:16:03.315072Z",
     "start_time": "2020-06-19T09:16:02.769056Z"
    }
   },
   "outputs": [],
   "source": [
    "final_docs = []\n",
    "for phrased_doc in phrased_docs:\n",
    "    final_docs.append(phrased_doc._replace(tokens=second_tokenise(phrased_doc.tokens, stopset)))"
   ]
  },
  {
   "cell_type": "code",
   "execution_count": 21,
   "metadata": {
    "ExecuteTime": {
     "end_time": "2020-06-19T09:16:03.346080Z",
     "start_time": "2020-06-19T09:16:03.317082Z"
    }
   },
   "outputs": [
    {
     "data": {
      "application/vnd.jupyter.widget-view+json": {
       "model_id": "c88075e92c2b42d3ba16643c6547d860",
       "version_major": 2,
       "version_minor": 0
      },
      "text/plain": [
       "interactive(children=(IntSlider(value=0, description='doc_id', max=2224), Output()), _dom_classes=('widget-int…"
      ]
     },
     "metadata": {},
     "output_type": "display_data"
    },
    {
     "data": {
      "text/plain": [
       "<function __main__.show_final_doc(doc_id=0)>"
      ]
     },
     "execution_count": 21,
     "metadata": {},
     "output_type": "execute_result"
    }
   ],
   "source": [
    "def show_final_doc(doc_id=0):\n",
    "    print(final_docs[doc_id].metadata)\n",
    "    print()\n",
    "    print(\" \".join(final_docs[doc_id].tokens))\n",
    "\n",
    "\n",
    "widgets.interact(show_final_doc, doc_id=(0, len(final_docs) - 1))"
   ]
  },
  {
   "cell_type": "code",
   "execution_count": 22,
   "metadata": {
    "ExecuteTime": {
     "end_time": "2020-06-19T09:16:03.382065Z",
     "start_time": "2020-06-19T09:16:03.348065Z"
    }
   },
   "outputs": [],
   "source": [
    "# Simple deduplication\n",
    "seen_docs = set()\n",
    "deduped_docs = []\n",
    "for doc in final_docs:\n",
    "    # Cast the document tokens as a tuple so that we can use it as a deduplicating hash\n",
    "    doc_hash = tuple(doc.tokens)\n",
    "    if doc_hash in seen_docs:\n",
    "        # print(f\"Duplicate document: {doc[0]['filename']}\")\n",
    "        pass\n",
    "    else:\n",
    "        seen_docs.add(doc_hash)\n",
    "        deduped_docs.append(doc)"
   ]
  },
  {
   "cell_type": "markdown",
   "metadata": {},
   "source": [
    "Save to Ignis Corpus\n",
    "----"
   ]
  },
  {
   "cell_type": "code",
   "execution_count": 23,
   "metadata": {
    "ExecuteTime": {
     "end_time": "2020-06-19T09:16:05.656092Z",
     "start_time": "2020-06-19T09:16:03.385066Z"
    }
   },
   "outputs": [],
   "source": [
    "import ignis"
   ]
  },
  {
   "cell_type": "code",
   "execution_count": 24,
   "metadata": {
    "ExecuteTime": {
     "end_time": "2020-06-19T09:16:06.968197Z",
     "start_time": "2020-06-19T09:16:05.657094Z"
    }
   },
   "outputs": [],
   "source": [
    "corpus = ignis.Corpus()\n",
    "\n",
    "for doc in deduped_docs:\n",
    "    corpus.add_doc(**doc._asdict())\n",
    "corpus.save(\"bbc-tf-idf.corpus\")"
   ]
  },
  {
   "cell_type": "code",
   "execution_count": 25,
   "metadata": {
    "ExecuteTime": {
     "end_time": "2020-06-19T09:16:07.647207Z",
     "start_time": "2020-06-19T09:16:06.969108Z"
    }
   },
   "outputs": [],
   "source": [
    "# And make sure it loads without errors as well.\n",
    "corpus = ignis.load_corpus(\"bbc-tf-idf.corpus\")"
   ]
  },
  {
   "cell_type": "code",
   "execution_count": 26,
   "metadata": {
    "ExecuteTime": {
     "end_time": "2020-06-19T09:16:07.690155Z",
     "start_time": "2020-06-19T09:16:07.648117Z"
    },
    "scrolled": false
   },
   "outputs": [
    {
     "data": {
      "application/vnd.jupyter.widget-view+json": {
       "model_id": "3edf59e22e5c476ca85b62a5754aad20",
       "version_major": 2,
       "version_minor": 0
      },
      "text/plain": [
       "interactive(children=(IntSlider(value=0, description='index', max=2118), Output()), _dom_classes=('widget-inte…"
      ]
     },
     "metadata": {},
     "output_type": "display_data"
    },
    {
     "data": {
      "text/plain": [
       "<function __main__.show_corpus_doc(index=0)>"
      ]
     },
     "execution_count": 26,
     "metadata": {},
     "output_type": "execute_result"
    }
   ],
   "source": [
    "corpus_doc_ids = list(corpus.documents.keys())\n",
    "\n",
    "\n",
    "def show_corpus_doc(index=0):\n",
    "    doc = corpus.documents[corpus_doc_ids[index]]\n",
    "    print(doc.metadata)\n",
    "    print()\n",
    "    print(\"-\" * 10)\n",
    "    print()\n",
    "    print(doc.human_readable)\n",
    "    print()\n",
    "    print(\"-\" * 10)\n",
    "    print()\n",
    "    print(\" \".join(doc.tokens))\n",
    "\n",
    "\n",
    "widgets.interact(show_corpus_doc, index=(0, len(corpus_doc_ids) - 1))"
   ]
  }
 ],
 "metadata": {
  "kernelspec": {
   "display_name": "Python 3",
   "language": "python",
   "name": "python3"
  },
  "language_info": {
   "codemirror_mode": {
    "name": "ipython",
    "version": 3
   },
   "file_extension": ".py",
   "mimetype": "text/x-python",
   "name": "python",
   "nbconvert_exporter": "python",
   "pygments_lexer": "ipython3",
   "version": "3.7.6"
  },
  "widgets": {
   "application/vnd.jupyter.widget-state+json": {
    "state": {
     "0176bce07868479ba1260626d7e96ae2": {
      "model_module": "@jupyter-widgets/controls",
      "model_module_version": "1.5.0",
      "model_name": "SliderStyleModel",
      "state": {
       "description_width": ""
      }
     },
     "0c6041bc44c44b2793dab67ad5b0794b": {
      "model_module": "@jupyter-widgets/base",
      "model_module_version": "1.2.0",
      "model_name": "LayoutModel",
      "state": {}
     },
     "0f6858aff9a6418893b5db2b75af667d": {
      "model_module": "@jupyter-widgets/base",
      "model_module_version": "1.2.0",
      "model_name": "LayoutModel",
      "state": {}
     },
     "13eb7efb1d294d8390b86540aaaeeb07": {
      "model_module": "@jupyter-widgets/base",
      "model_module_version": "1.2.0",
      "model_name": "LayoutModel",
      "state": {}
     },
     "1f898984afc444e49b13dc17023418de": {
      "model_module": "@jupyter-widgets/base",
      "model_module_version": "1.2.0",
      "model_name": "LayoutModel",
      "state": {}
     },
     "23c2e3055cdd4b0fb5ade54f47417ae4": {
      "model_module": "@jupyter-widgets/controls",
      "model_module_version": "1.5.0",
      "model_name": "VBoxModel",
      "state": {
       "_dom_classes": [
        "widget-interact"
       ],
       "children": [
        "IPY_MODEL_9636b5d65c6c45df80d319d5ae4775a8",
        "IPY_MODEL_963c8fb4d7e24e14b38a4ef5f44001e5"
       ],
       "layout": "IPY_MODEL_b5cc154c0da84a9b95e463fe55e0d966"
      }
     },
     "2e381aa08f0f498f97bdc2a2aae009da": {
      "model_module": "@jupyter-widgets/controls",
      "model_module_version": "1.5.0",
      "model_name": "VBoxModel",
      "state": {
       "_dom_classes": [
        "widget-interact"
       ],
       "children": [
        "IPY_MODEL_3a292d4848e340bbb03efcb44b4c5546",
        "IPY_MODEL_5259f03c2a4f4730902ea770b0867c84"
       ],
       "layout": "IPY_MODEL_0c6041bc44c44b2793dab67ad5b0794b"
      }
     },
     "300ddb0791ce4396893229818dff50e8": {
      "model_module": "@jupyter-widgets/output",
      "model_module_version": "1.0.0",
      "model_name": "OutputModel",
      "state": {
       "layout": "IPY_MODEL_510ec16b4b0c460395beef57d1b19385",
       "outputs": [
        {
         "name": "stdout",
         "output_type": "stream",
         "text": "{'filename': 'data/bbc/business/001.txt'}\n\nAd sales boost Time Warner profit\n\nQuarterly profits at US media giant TimeWarner jumped 76% to $1.13bn (Â£600m) for the three months to December, from $639m year-earlier.\n\nThe firm, which is now one of the biggest investors in Google, benefited from sales of high-speed internet connections and higher advert sales. TimeWarner said fourth quarter sales rose 2% to $11.1bn from $10.9bn. Its profits were buoyed by one-off gains which offset a profit dip at Warner Bros, and less users for AOL.\n\nTime Warner said on Friday that it now owns 8% of search-engine Google. But its own internet business, AOL, had has mixed fortunes. It lost 464,000 subscribers in the fourth quarter profits were lower than in the preceding three quarters. However, the company said AOL's underlying profit before exceptional items rose 8% on the back of stronger internet advertising revenues. It hopes to increase subscribers by offering the online service free to TimeWarner internet customers and will try to sign up AOL's existing customers for high-speed broadband. TimeWarner also has to restate 2000 and 2003 results following a probe by the US Securities Exchange Commission (SEC), which is close to concluding.\n\nTime Warner's fourth quarter profits were slightly better than analysts' expectations. But its film division saw profits slump 27% to $284m, helped by box-office flops Alexander and Catwoman, a sharp contrast to year-earlier, when the third and final film in the Lord of the Rings trilogy boosted results. For the full-year, TimeWarner posted a profit of $3.36bn, up 27% from its 2003 performance, while revenues grew 6.4% to $42.09bn. \"Our financial performance was strong, meeting or exceeding all of our full-year objectives and greatly enhancing our flexibility,\" chairman and chief executive Richard Parsons said. For 2005, TimeWarner is projecting operating earnings growth of around 5%, and also expects higher revenue and wider profit margins.\n\nTimeWarner is to restate its accounts as part of efforts to resolve an inquiry into AOL by US market regulators. It has already offered to pay $300m to settle charges, in a deal that is under review by the SEC. The company said it was unable to estimate the amount it needed to set aside for legal reserves, which it previously set at $500m. It intends to adjust the way it accounts for a deal with German music publisher Bertelsmann's purchase of a stake in AOL Europe, which it had reported as advertising revenue. It will now book the sale of its stake in AOL Europe as a loss on the value of that stake.\n\n"
        }
       ]
      }
     },
     "363d527b513e4ffab5f46f0a9cc2737b": {
      "model_module": "@jupyter-widgets/base",
      "model_module_version": "1.2.0",
      "model_name": "LayoutModel",
      "state": {}
     },
     "3a292d4848e340bbb03efcb44b4c5546": {
      "model_module": "@jupyter-widgets/controls",
      "model_module_version": "1.5.0",
      "model_name": "IntSliderModel",
      "state": {
       "description": "doc_id",
       "layout": "IPY_MODEL_9ed5f929f05949ca81047f3a84ae1e84",
       "max": 2224,
       "style": "IPY_MODEL_5c718fb3a6c54077b79a5a284570c0e0"
      }
     },
     "4a3ed32352254eeebe3368a117a9a382": {
      "model_module": "@jupyter-widgets/controls",
      "model_module_version": "1.5.0",
      "model_name": "SliderStyleModel",
      "state": {
       "description_width": ""
      }
     },
     "4df391293247441dba818e14d38af8ea": {
      "model_module": "@jupyter-widgets/base",
      "model_module_version": "1.2.0",
      "model_name": "LayoutModel",
      "state": {}
     },
     "510ec16b4b0c460395beef57d1b19385": {
      "model_module": "@jupyter-widgets/base",
      "model_module_version": "1.2.0",
      "model_name": "LayoutModel",
      "state": {}
     },
     "5259f03c2a4f4730902ea770b0867c84": {
      "model_module": "@jupyter-widgets/output",
      "model_module_version": "1.0.0",
      "model_name": "OutputModel",
      "state": {
       "layout": "IPY_MODEL_1f898984afc444e49b13dc17023418de",
       "outputs": [
        {
         "name": "stdout",
         "output_type": "stream",
         "text": "{'filename': 'data/bbc/business/001.txt'}\n\nad sales boost time warner profit quarterly profits at us media giant timewarner jumped to $1.13bn â£600m for the three months to december from $639m year-earlier the firm which is now one of the biggest investors in google benefited from sales of high-speed internet connections and higher advert sales timewarner said fourth quarter sales rose to $11.1bn from $10.9bn its profits were buoyed by one-off gains which offset profit dip at warner bros and less users for aol time warner said on friday that it now owns of search-engine google but its own internet business aol had has mixed fortunes it lost subscribers in the fourth quarter profits were lower than in the preceding three quarters however the company said aols underlying profit before exceptional items rose on the back of stronger internet advertising revenues it hopes to increase subscribers by offering the online service free to timewarner internet customers and will try to sign up aols existing customers for high-speed broadband timewarner also has to restate and results following probe by the us securities exchange commission sec which is close to concluding time warners fourth quarter profits were slightly better than analysts expectations but its film division saw profits slump to $284m helped by box-office flops alexander and catwoman sharp contrast to year-earlier when the third and final film in the lord_of_the_rings trilogy boosted results for the full-year timewarner posted profit of $3.36bn up from its performance while revenues grew to $42.09bn our financial performance was strong meeting or exceeding all of our full-year objectives and greatly enhancing our flexibility chairman and chief_executive richard parsons said for timewarner is projecting operating earnings growth of around and also expects higher revenue and wider profit margins timewarner is to restate its accounts as part of efforts to resolve an inquiry into aol by us market regulators it has already offered to pay $300m to settle charges in deal that is under review by the sec the company said it was unable to estimate the amount it needed to set aside for legal reserves which it previously set at $500m it intends to adjust the way it accounts for deal with german music publisher bertelsmanns purchase of stake in aol europe which it had reported as advertising revenue it will now book the sale of its stake in aol europe as loss on the value of that stake\n"
        }
       ]
      }
     },
     "596c9f0a5ee54976b5c305733046eb20": {
      "model_module": "@jupyter-widgets/controls",
      "model_module_version": "1.5.0",
      "model_name": "VBoxModel",
      "state": {
       "_dom_classes": [
        "widget-interact"
       ],
       "children": [
        "IPY_MODEL_72c64a752960491d904da0ddbdf4798b",
        "IPY_MODEL_972d09b6a6024423a6de54b5f13114a5"
       ],
       "layout": "IPY_MODEL_c8473dedaa18462dbd9ed2df63cffc33"
      }
     },
     "5c718fb3a6c54077b79a5a284570c0e0": {
      "model_module": "@jupyter-widgets/controls",
      "model_module_version": "1.5.0",
      "model_name": "SliderStyleModel",
      "state": {
       "description_width": ""
      }
     },
     "6e2d7a2b5ae14a82bc6493af5230b988": {
      "model_module": "@jupyter-widgets/base",
      "model_module_version": "1.2.0",
      "model_name": "LayoutModel",
      "state": {}
     },
     "72c64a752960491d904da0ddbdf4798b": {
      "model_module": "@jupyter-widgets/controls",
      "model_module_version": "1.5.0",
      "model_name": "IntSliderModel",
      "state": {
       "description": "doc_id",
       "layout": "IPY_MODEL_4df391293247441dba818e14d38af8ea",
       "max": 2224,
       "style": "IPY_MODEL_4a3ed32352254eeebe3368a117a9a382"
      }
     },
     "9636b5d65c6c45df80d319d5ae4775a8": {
      "model_module": "@jupyter-widgets/controls",
      "model_module_version": "1.5.0",
      "model_name": "IntSliderModel",
      "state": {
       "description": "doc_id",
       "layout": "IPY_MODEL_13eb7efb1d294d8390b86540aaaeeb07",
       "max": 2224,
       "style": "IPY_MODEL_0176bce07868479ba1260626d7e96ae2"
      }
     },
     "963c8fb4d7e24e14b38a4ef5f44001e5": {
      "model_module": "@jupyter-widgets/output",
      "model_module_version": "1.0.0",
      "model_name": "OutputModel",
      "state": {
       "layout": "IPY_MODEL_c7609d692cbd4e8e967cb8cbd2357b69",
       "outputs": [
        {
         "name": "stdout",
         "output_type": "stream",
         "text": "{'filename': 'data/bbc/business/001.txt'}\n\nad sales boost time warner profit quarterly profits at us media giant timewarner jumped 76% to $1.13bn â£600m for the three months to december from $639m year-earlier the firm which is now one of the biggest investors in google benefited from sales of high-speed internet connections and higher advert sales timewarner said fourth quarter sales rose 2% to $11.1bn from $10.9bn its profits were buoyed by one-off gains which offset a profit dip at warner bros and less users for aol time warner said on friday that it now owns 8% of search-engine google but its own internet business aol had has mixed fortunes it lost 464,000 subscribers in the fourth quarter profits were lower than in the preceding three quarters however the company said aols underlying profit before exceptional items rose 8% on the back of stronger internet advertising revenues it hopes to increase subscribers by offering the online service free to timewarner internet customers and will try to sign up aols existing customers for high-speed broadband timewarner also has to restate 2000 and 2003 results following a probe by the us securities exchange commission sec which is close to concluding time warners fourth quarter profits were slightly better than analysts expectations but its film division saw profits slump 27% to $284m helped by box-office flops alexander and catwoman a sharp contrast to year-earlier when the third and final film in the lord_of_the_rings trilogy boosted results for the full-year timewarner posted a profit of $3.36bn up 27% from its 2003 performance while revenues grew 6.4% to $42.09bn our financial performance was strong meeting or exceeding all of our full-year objectives and greatly enhancing our flexibility chairman and chief_executive richard parsons said for 2005 timewarner is projecting operating earnings growth of around 5% and also expects higher revenue and wider profit margins timewarner is to restate its accounts as part of efforts to resolve an inquiry into aol by us market regulators it has already offered to pay $300m to settle charges in a deal that is under review by the sec the company said it was unable to estimate the amount it needed to set aside for legal reserves which it previously set at $500m it intends to adjust the way it accounts for a deal with german music publisher bertelsmanns purchase of a stake in aol europe which it had reported as advertising revenue it will now book the sale of its stake in aol europe as a loss on the value of that stake\n"
        }
       ]
      }
     },
     "972d09b6a6024423a6de54b5f13114a5": {
      "model_module": "@jupyter-widgets/output",
      "model_module_version": "1.0.0",
      "model_name": "OutputModel",
      "state": {
       "layout": "IPY_MODEL_6e2d7a2b5ae14a82bc6493af5230b988",
       "outputs": [
        {
         "name": "stdout",
         "output_type": "stream",
         "text": "{'filename': 'data/bbc/business/001.txt'}\n\nad sales boost time warner profit quarterly profits at us media giant timewarner jumped 76% to $1.13bn â£600m for the three months to december from $639m year-earlier the firm which is now one of the biggest investors in google benefited from sales of high-speed internet connections and higher advert sales timewarner said fourth quarter sales rose 2% to $11.1bn from $10.9bn its profits were buoyed by one-off gains which offset a profit dip at warner bros and less users for aol time warner said on friday that it now owns 8% of search-engine google but its own internet business aol had has mixed fortunes it lost 464,000 subscribers in the fourth quarter profits were lower than in the preceding three quarters however the company said aols underlying profit before exceptional items rose 8% on the back of stronger internet advertising revenues it hopes to increase subscribers by offering the online service free to timewarner internet customers and will try to sign up aols existing customers for high-speed broadband timewarner also has to restate 2000 and 2003 results following a probe by the us securities exchange commission sec which is close to concluding time warners fourth quarter profits were slightly better than analysts expectations but its film division saw profits slump 27% to $284m helped by box-office flops alexander and catwoman a sharp contrast to year-earlier when the third and final film in the lord of the rings trilogy boosted results for the full-year timewarner posted a profit of $3.36bn up 27% from its 2003 performance while revenues grew 6.4% to $42.09bn our financial performance was strong meeting or exceeding all of our full-year objectives and greatly enhancing our flexibility chairman and chief executive richard parsons said for 2005 timewarner is projecting operating earnings growth of around 5% and also expects higher revenue and wider profit margins timewarner is to restate its accounts as part of efforts to resolve an inquiry into aol by us market regulators it has already offered to pay $300m to settle charges in a deal that is under review by the sec the company said it was unable to estimate the amount it needed to set aside for legal reserves which it previously set at $500m it intends to adjust the way it accounts for a deal with german music publisher bertelsmanns purchase of a stake in aol europe which it had reported as advertising revenue it will now book the sale of its stake in aol europe as a loss on the value of that stake\n"
        }
       ]
      }
     },
     "9ed5f929f05949ca81047f3a84ae1e84": {
      "model_module": "@jupyter-widgets/base",
      "model_module_version": "1.2.0",
      "model_name": "LayoutModel",
      "state": {}
     },
     "b5cc154c0da84a9b95e463fe55e0d966": {
      "model_module": "@jupyter-widgets/base",
      "model_module_version": "1.2.0",
      "model_name": "LayoutModel",
      "state": {}
     },
     "bc3c0ab7399b4b16b5d34f7b6307998b": {
      "model_module": "@jupyter-widgets/controls",
      "model_module_version": "1.5.0",
      "model_name": "VBoxModel",
      "state": {
       "_dom_classes": [
        "widget-interact"
       ],
       "children": [
        "IPY_MODEL_e4e663e13b1c4bb4a38edf7e816b4937",
        "IPY_MODEL_300ddb0791ce4396893229818dff50e8"
       ],
       "layout": "IPY_MODEL_363d527b513e4ffab5f46f0a9cc2737b"
      }
     },
     "c5cdae633e8d419f8e138445d94e8bbc": {
      "model_module": "@jupyter-widgets/controls",
      "model_module_version": "1.5.0",
      "model_name": "SliderStyleModel",
      "state": {
       "description_width": ""
      }
     },
     "c7609d692cbd4e8e967cb8cbd2357b69": {
      "model_module": "@jupyter-widgets/base",
      "model_module_version": "1.2.0",
      "model_name": "LayoutModel",
      "state": {}
     },
     "c8473dedaa18462dbd9ed2df63cffc33": {
      "model_module": "@jupyter-widgets/base",
      "model_module_version": "1.2.0",
      "model_name": "LayoutModel",
      "state": {}
     },
     "e4e663e13b1c4bb4a38edf7e816b4937": {
      "model_module": "@jupyter-widgets/controls",
      "model_module_version": "1.5.0",
      "model_name": "IntSliderModel",
      "state": {
       "description": "doc_id",
       "layout": "IPY_MODEL_0f6858aff9a6418893b5db2b75af667d",
       "max": 2224,
       "style": "IPY_MODEL_c5cdae633e8d419f8e138445d94e8bbc"
      }
     }
    },
    "version_major": 2,
    "version_minor": 0
   }
  }
 },
 "nbformat": 4,
 "nbformat_minor": 4
}
