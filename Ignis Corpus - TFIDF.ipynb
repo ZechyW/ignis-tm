{
 "cells": [
  {
   "cell_type": "markdown",
   "metadata": {},
   "source": [
    "Ignis: Text Pre-processing\n",
    "=========================="
   ]
  },
  {
   "cell_type": "code",
   "execution_count": 1,
   "metadata": {
    "ExecuteTime": {
     "end_time": "2020-06-22T11:47:35.461629Z",
     "start_time": "2020-06-22T11:47:34.413632Z"
    }
   },
   "outputs": [],
   "source": [
    "import collections\n",
    "import glob\n",
    "import pathlib\n",
    "import re\n",
    "import threading\n",
    "import time\n",
    "\n",
    "import gensim\n",
    "import tqdm"
   ]
  },
  {
   "cell_type": "code",
   "execution_count": 2,
   "metadata": {
    "ExecuteTime": {
     "end_time": "2020-06-22T11:47:35.519632Z",
     "start_time": "2020-06-22T11:47:35.463631Z"
    }
   },
   "outputs": [
    {
     "data": {
      "text/html": [
       "\n",
       "<style>\n",
       "   .jupyter-widgets-output-area .output_scroll {\n",
       "        height: unset !important;\n",
       "        border-radius: unset !important;\n",
       "        -webkit-box-shadow: unset !important;\n",
       "        box-shadow: unset !important;\n",
       "    }\n",
       "    .jupyter-widgets-output-area  {\n",
       "        height: auto !important;\n",
       "    }\n",
       "</style>\n"
      ],
      "text/plain": [
       "<IPython.core.display.HTML object>"
      ]
     },
     "metadata": {},
     "output_type": "display_data"
    }
   ],
   "source": [
    "# Jupyter notebook setup\n",
    "import ipywidgets as widgets\n",
    "from IPython.core.display import display, HTML\n",
    "\n",
    "# Custom styling:\n",
    "# - Prevent vertical scrollbars in output subareas\n",
    "style = \"\"\"\n",
    "<style>\n",
    "   .jupyter-widgets-output-area .output_scroll {\n",
    "        height: unset !important;\n",
    "        border-radius: unset !important;\n",
    "        -webkit-box-shadow: unset !important;\n",
    "        box-shadow: unset !important;\n",
    "    }\n",
    "    .jupyter-widgets-output-area  {\n",
    "        height: auto !important;\n",
    "    }\n",
    "</style>\n",
    "\"\"\"\n",
    "display(HTML(style))"
   ]
  },
  {
   "cell_type": "markdown",
   "metadata": {},
   "source": [
    "Data ingestion\n",
    "--------------------\n",
    "\n",
    "We will track the contents and filename of each document, then tokenise them all and feed them into an `ignis.Corpus` that will be saved.\n",
    "\n",
    "We should, by all accounts, actually be preparing a separate text cleaning function and running the raw text through it immediately, but this way we can see the effects of each step of the data cleaning."
   ]
  },
  {
   "cell_type": "code",
   "execution_count": 3,
   "metadata": {
    "ExecuteTime": {
     "end_time": "2020-06-22T11:47:35.547630Z",
     "start_time": "2020-06-22T11:47:35.522632Z"
    }
   },
   "outputs": [],
   "source": [
    "raw_files = glob.glob(\"./data/bbc/*/*.txt\")"
   ]
  },
  {
   "cell_type": "code",
   "execution_count": 4,
   "metadata": {
    "ExecuteTime": {
     "end_time": "2020-06-22T11:47:35.554630Z",
     "start_time": "2020-06-22T11:47:35.549631Z"
    }
   },
   "outputs": [],
   "source": [
    "RawDocument = collections.namedtuple(\"RawDocument\", \"metadata, tokens, human_readable\")"
   ]
  },
  {
   "cell_type": "code",
   "execution_count": 5,
   "metadata": {
    "ExecuteTime": {
     "end_time": "2020-06-22T11:47:35.862633Z",
     "start_time": "2020-06-22T11:47:35.557634Z"
    }
   },
   "outputs": [
    {
     "name": "stderr",
     "output_type": "stream",
     "text": [
      "100%|██████████| 2225/2225 [00:00<00:00, 7646.10it/s]\n"
     ]
    }
   ],
   "source": [
    "raw_docs = []\n",
    "for file in tqdm.tqdm(raw_files):\n",
    "    filename = pathlib.Path(file).as_posix()\n",
    "\n",
    "    metadata = {\"filename\": filename}\n",
    "\n",
    "    with open(file) as f:\n",
    "        tokens = f.read()\n",
    "\n",
    "    raw_doc = RawDocument(metadata, tokens, human_readable=tokens)\n",
    "\n",
    "    raw_docs.append(raw_doc)"
   ]
  },
  {
   "cell_type": "code",
   "execution_count": 6,
   "metadata": {
    "ExecuteTime": {
     "end_time": "2020-06-22T11:47:35.902636Z",
     "start_time": "2020-06-22T11:47:35.864634Z"
    },
    "scrolled": false
   },
   "outputs": [
    {
     "data": {
      "application/vnd.jupyter.widget-view+json": {
       "model_id": "98d5cb139e564d4d8b797b8e1a19b202",
       "version_major": 2,
       "version_minor": 0
      },
      "text/plain": [
       "interactive(children=(IntSlider(value=0, description='doc_id', max=2224), Output()), _dom_classes=('widget-int…"
      ]
     },
     "metadata": {},
     "output_type": "display_data"
    },
    {
     "data": {
      "text/plain": [
       "<function __main__.show_raw_doc(doc_id=0)>"
      ]
     },
     "execution_count": 6,
     "metadata": {},
     "output_type": "execute_result"
    }
   ],
   "source": [
    "def show_raw_doc(doc_id=0):\n",
    "    print(raw_docs[doc_id].metadata)\n",
    "    print()\n",
    "    print(raw_docs[doc_id].tokens)\n",
    "\n",
    "\n",
    "widgets.interact(show_raw_doc, doc_id=(0, len(raw_docs) - 1))"
   ]
  },
  {
   "cell_type": "markdown",
   "metadata": {},
   "source": [
    "Text pre-processing and tokenisation\n",
    "------"
   ]
  },
  {
   "cell_type": "markdown",
   "metadata": {},
   "source": [
    "### Naive tokenisation (by whitespace)\n",
    "- Case folding\n",
    "- Strip leading/trailing non-informative punctuation from tokens\n",
    "- Remove single apostrophes\n",
    "- Remove single brackets within words\n",
    "  - For dealing with cases like \"the recipient(s)\" -- Which will get tokenised to \"the recipient(s\" otherwise"
   ]
  },
  {
   "cell_type": "code",
   "execution_count": 7,
   "metadata": {
    "ExecuteTime": {
     "end_time": "2020-06-22T11:47:35.918634Z",
     "start_time": "2020-06-22T11:47:35.904635Z"
    }
   },
   "outputs": [],
   "source": [
    "strip_punctuation = \"'\\\"()[]<>?!,.:;/|_\"\n",
    "bracket_pairs = [\n",
    "    [\"(\", \")\"],\n",
    "    [\"[\", \"]\"],\n",
    "]\n",
    "\n",
    "\n",
    "def naive_tokenise(doc):\n",
    "    \"\"\"\n",
    "    Naively tokenises a document.\n",
    "    \n",
    "    Returns\n",
    "    -------\n",
    "    str\n",
    "        The document as a string of space-separated tokens\n",
    "    \"\"\"\n",
    "    new_tokens = []\n",
    "\n",
    "    tokens = doc.split()\n",
    "    for token in tokens:\n",
    "        token = token.casefold()\n",
    "        token = token.strip(strip_punctuation)\n",
    "        token = token.replace(\"'\", \"\")\n",
    "\n",
    "        for bracket_pair in bracket_pairs:\n",
    "            if bracket_pair[0] in token and bracket_pair[1] not in token:\n",
    "                token = token.replace(bracket_pair[0], \"\")\n",
    "            if bracket_pair[1] in token and bracket_pair[0] not in token:\n",
    "                token = token.replace(bracket_pair[1], \"\")\n",
    "\n",
    "        if token != \"\":\n",
    "            new_tokens.append(token)\n",
    "\n",
    "    return new_tokens"
   ]
  },
  {
   "cell_type": "code",
   "execution_count": 8,
   "metadata": {
    "ExecuteTime": {
     "end_time": "2020-06-22T11:47:35.938631Z",
     "start_time": "2020-06-22T11:47:35.925634Z"
    }
   },
   "outputs": [
    {
     "data": {
      "text/plain": [
       "['this',\n",
       " 'is',\n",
       " 'a',\n",
       " 't(e)st',\n",
       " 'of',\n",
       " 'the',\n",
       " 'systems',\n",
       " 'tokenisation',\n",
       " 'operations']"
      ]
     },
     "execution_count": 8,
     "metadata": {},
     "output_type": "execute_result"
    }
   ],
   "source": [
    "naive_tokenise('This is a t(e)st of the system\\'s \"tokenisation\" operation(s).')"
   ]
  },
  {
   "cell_type": "code",
   "execution_count": 9,
   "metadata": {
    "ExecuteTime": {
     "end_time": "2020-06-22T11:47:36.958649Z",
     "start_time": "2020-06-22T11:47:35.941635Z"
    }
   },
   "outputs": [],
   "source": [
    "naive_docs = []\n",
    "for raw_doc in raw_docs:\n",
    "    naive_docs.append(raw_doc._replace(tokens=naive_tokenise(raw_doc.tokens)))"
   ]
  },
  {
   "cell_type": "code",
   "execution_count": 10,
   "metadata": {
    "ExecuteTime": {
     "end_time": "2020-06-22T11:47:36.994938Z",
     "start_time": "2020-06-22T11:47:36.960646Z"
    }
   },
   "outputs": [
    {
     "data": {
      "application/vnd.jupyter.widget-view+json": {
       "model_id": "1383e3a850cb4eb18d7d88f17d38d6c9",
       "version_major": 2,
       "version_minor": 0
      },
      "text/plain": [
       "interactive(children=(IntSlider(value=0, description='doc_id', max=2224), Output()), _dom_classes=('widget-int…"
      ]
     },
     "metadata": {},
     "output_type": "display_data"
    },
    {
     "data": {
      "text/plain": [
       "<function __main__.show_naive_doc(doc_id=0)>"
      ]
     },
     "execution_count": 10,
     "metadata": {},
     "output_type": "execute_result"
    }
   ],
   "source": [
    "def show_naive_doc(doc_id=0):\n",
    "    print(naive_docs[doc_id].metadata)\n",
    "    print()\n",
    "    print(\" \".join(naive_docs[doc_id].tokens))\n",
    "\n",
    "\n",
    "widgets.interact(show_naive_doc, doc_id=(0, len(naive_docs) - 1))"
   ]
  },
  {
   "cell_type": "markdown",
   "metadata": {},
   "source": [
    "### Automated n-gram detection\n",
    "\n",
    "Chunk into significant bigrams based on collocation frequency\n",
    "\n",
    "(N.B.: Gensim implies that the input to the Phraser should be a list of single sentences, but we will feed it a list of documents instead.)\n",
    "\n",
    "- Min count: How many documents the n-grams need to appear in\n",
    "\n",
    "- Scoring: \"default\" or \"npmi\"\n",
    "\n",
    "- Threshold: Intuitively, higher threshold means fewer phrases.\n",
    "  - With the default scorer, this is greater than or equal to 0; with the NPMI scorer, this is in the range -1 to 1.\n",
    "\n",
    "- Common terms: These terms will be ignored if they come between normal words.\n",
    "  - E.g., if `common_terms` includes the word \"of\", then when the phraser sees \"Wheel of Fortune\" it actually evaluates _\"Wheel Fortune\"_ as an n-gram, putting \"of\" back in only at the output level to give _wheel_of_fortune_.\n",
    "  - With the `common_terms` option set properly,  there do not seem to be many significant trigrams and above left to pick up -- We stick with bigrams to save on runtime."
   ]
  },
  {
   "cell_type": "code",
   "execution_count": 11,
   "metadata": {
    "ExecuteTime": {
     "end_time": "2020-06-22T11:47:37.001941Z",
     "start_time": "2020-06-22T11:47:36.996938Z"
    }
   },
   "outputs": [],
   "source": [
    "min_count = 5\n",
    "scoring = \"npmi\"\n",
    "# We want a relatively high threshold so that we don't start littering spurious n-grams all over our corpus, diluting our results.\n",
    "# E.g., we want \"Lord_of_the_Rings\", but not \"slightly_better_than_analysts\"\n",
    "threshold = 0.7\n",
    "common_terms = [\"a\", \"an\", \"the\", \"of\", \"on\", \"in\", \"at\"]"
   ]
  },
  {
   "cell_type": "markdown",
   "metadata": {},
   "source": [
    "This could take a while, so set up a threaded function with a basic progress indicator in the main thread"
   ]
  },
  {
   "cell_type": "code",
   "execution_count": 12,
   "metadata": {
    "ExecuteTime": {
     "end_time": "2020-06-22T11:47:37.012937Z",
     "start_time": "2020-06-22T11:47:37.003937Z"
    }
   },
   "outputs": [],
   "source": [
    "def find_phrases(docs, results, trigrams=False):\n",
    "    # Build, finalise, and apply the bigram model\n",
    "    bigram_model = gensim.models.Phrases(\n",
    "        docs,\n",
    "        min_count=min_count,\n",
    "        threshold=threshold,\n",
    "        scoring=scoring,\n",
    "        common_terms=common_terms,\n",
    "    )\n",
    "    bigram_model = gensim.models.phrases.Phraser(bigram_model)\n",
    "\n",
    "    bigram_docs = bigram_model[docs]\n",
    "\n",
    "    results[0] = bigram_docs\n",
    "\n",
    "    if trigrams:\n",
    "        # Repeat to get trigrams\n",
    "        trigram_model = gensim.models.Phrases(\n",
    "            bigram_docs,\n",
    "            min_count=min_count,\n",
    "            threshold=threshold,\n",
    "            scoring=scoring,\n",
    "            common_terms=common_terms,\n",
    "        )\n",
    "        trigram_model = gensim.models.phrases.Phraser(trigram_model)\n",
    "\n",
    "        trigram_docs = trigram_model[docs]\n",
    "\n",
    "        results[0] = trigram_docs"
   ]
  },
  {
   "cell_type": "code",
   "execution_count": 13,
   "metadata": {
    "ExecuteTime": {
     "end_time": "2020-06-22T11:47:49.066034Z",
     "start_time": "2020-06-22T11:47:37.014938Z"
    },
    "scrolled": true
   },
   "outputs": [
    {
     "name": "stdout",
     "output_type": "stream",
     "text": [
      "Finding phrases . . . . . . . Done. (8.896s)\n"
     ]
    }
   ],
   "source": [
    "print(\"Finding phrases\", flush=True, end=\"\")\n",
    "start_time = time.perf_counter()\n",
    "\n",
    "# Just send the textual content through the Phraser, not the document metadata\n",
    "for_phrasing = [naive_doc.tokens for naive_doc in naive_docs]\n",
    "\n",
    "# Will contain the documents after trigram processing\n",
    "results = [None]\n",
    "t = threading.Thread(target=find_phrases, args=(for_phrasing, results, False))\n",
    "t.start()\n",
    "\n",
    "progress_countdown = 1.0\n",
    "\n",
    "while t.isAlive():\n",
    "    time.sleep(0.1)\n",
    "    progress_countdown -= 0.1\n",
    "    if progress_countdown <= 0:\n",
    "        print(\" .\", flush=True, end=\"\")\n",
    "        progress_countdown = 1\n",
    "\n",
    "elapsed = time.perf_counter() - start_time\n",
    "print(f\" Done. ({elapsed:.3f}s)\")\n",
    "\n",
    "after_phrasing = results[0]\n",
    "\n",
    "# Put metadata back in\n",
    "phrased_docs = []\n",
    "for index, tokens in enumerate(after_phrasing):\n",
    "    phrased_docs.append(naive_docs[index]._replace(tokens=tokens))"
   ]
  },
  {
   "cell_type": "code",
   "execution_count": 14,
   "metadata": {
    "ExecuteTime": {
     "end_time": "2020-06-22T11:47:49.113561Z",
     "start_time": "2020-06-22T11:47:49.068031Z"
    },
    "scrolled": false
   },
   "outputs": [
    {
     "data": {
      "application/vnd.jupyter.widget-view+json": {
       "model_id": "d903393ddd244da0b8001dbb49049d8d",
       "version_major": 2,
       "version_minor": 0
      },
      "text/plain": [
       "interactive(children=(IntSlider(value=0, description='doc_id', max=2224), Output()), _dom_classes=('widget-int…"
      ]
     },
     "metadata": {},
     "output_type": "display_data"
    },
    {
     "data": {
      "text/plain": [
       "<function __main__.show_phrased_doc(doc_id=0)>"
      ]
     },
     "execution_count": 14,
     "metadata": {},
     "output_type": "execute_result"
    }
   ],
   "source": [
    "def show_phrased_doc(doc_id=0):\n",
    "    print(phrased_docs[doc_id].metadata)\n",
    "    print()\n",
    "    print(\" \".join(phrased_docs[doc_id].tokens))\n",
    "\n",
    "\n",
    "widgets.interact(show_phrased_doc, doc_id=(0, len(phrased_docs) - 1))"
   ]
  },
  {
   "cell_type": "code",
   "execution_count": 15,
   "metadata": {
    "ExecuteTime": {
     "end_time": "2020-06-22T11:47:49.432561Z",
     "start_time": "2020-06-22T11:47:49.116563Z"
    },
    "scrolled": false
   },
   "outputs": [
    {
     "name": "stdout",
     "output_type": "stream",
     "text": [
      "lord_of_the_rings\n",
      "house_of_lords\n",
      "tens_of_thousands\n",
      "chambers_of_commerce\n",
      "billions_of_dollars\n",
      "weapons_of_mass\n",
      "tip_of_the_iceberg\n",
      "prisoner_of_azkaban\n",
      "tells_the_story\n",
      "shaun_of_the_dead\n",
      "pirates_of_the_caribbean\n",
      "passion_of_the_christ\n",
      "meet_the_fockers\n",
      "dismantle_an_atomic\n",
      "hall_of_fame\n",
      "phantom_of_the_opera\n",
      "hepburn_in_the_aviator\n",
      "miscarriages_of_justice\n",
      "convention_on_human\n",
      "hands_of_extremists\n",
      "code_of_conduct\n",
      "archbishop_of_canterbury\n",
      "prevention_of_terrorism\n",
      "tests_in_tel\n",
      "faking_a_motorcycle\n",
      "icing_on_the_cake\n",
      "capt_a_persico\n",
      "blogs_in_existence\n",
      "hitting_the_shelves\n"
     ]
    }
   ],
   "source": [
    "# Trigrams and above in the corpus (with `common_terms` set properly)\n",
    "seen_tokens = set()\n",
    "for document in phrased_docs:\n",
    "    for token in document.tokens:\n",
    "        if token.count(\"_\") >= 2:\n",
    "            if token not in seen_tokens:\n",
    "                print(token)\n",
    "                seen_tokens.add(token)"
   ]
  },
  {
   "cell_type": "code",
   "execution_count": 16,
   "metadata": {
    "ExecuteTime": {
     "end_time": "2020-06-22T11:47:49.925564Z",
     "start_time": "2020-06-22T11:47:49.434565Z"
    }
   },
   "outputs": [
    {
     "name": "stdout",
     "output_type": "stream",
     "text": [
      "Done\n"
     ]
    }
   ],
   "source": [
    "# Does Gensim's Phraser completely replace all the relevant original tokens, or is it a partial replacement for some reason?\n",
    "ngrams = [token.split(\"_\") for token in seen_tokens]\n",
    "first_tokens = [ngram[0] for ngram in ngrams]\n",
    "\n",
    "test_docs = [\n",
    "    [\"a\", \"test\"],\n",
    "    [\"flash\", \"memory\"],\n",
    "    [\"another\", \"boop\"],\n",
    "    [\"bot\", \"nets\"],\n",
    "    [\"ehh\"],\n",
    "]\n",
    "\n",
    "actual_docs = [list(document.tokens) for document in phrased_docs]\n",
    "\n",
    "\n",
    "def test_ngrams(doc_tokens_list):\n",
    "    for tokens in doc_tokens_list:\n",
    "        for index, token in enumerate(tokens):\n",
    "            if token in first_tokens:\n",
    "                possibles = [ngram for ngram in ngrams if ngram[0] == token]\n",
    "                for possible in possibles:\n",
    "                    # Check this ngram\n",
    "                    if tokens[index : len(possible)] == possible:\n",
    "                        print(f\"Found: {possible}\")\n",
    "\n",
    "\n",
    "test_ngrams(test_docs)\n",
    "test_ngrams(actual_docs)\n",
    "print(\"Done\")"
   ]
  },
  {
   "cell_type": "markdown",
   "metadata": {},
   "source": [
    "### Post-phrasing cleaning\n",
    "\n",
    "- Remove stop words (optional)\n",
    "- Remove purely numeric/non-alphabetic/single-character tokens\n",
    "  - Under the assumption that significant tokens, like the \"19\" in \"Covid 19\" or the \"11\" in \"Chapter 11 (bankruptcy)\" would have been picked up by the phraser"
   ]
  },
  {
   "cell_type": "code",
   "execution_count": 17,
   "metadata": {
    "ExecuteTime": {
     "end_time": "2020-06-22T11:47:49.933564Z",
     "start_time": "2020-06-22T11:47:49.928563Z"
    }
   },
   "outputs": [],
   "source": [
    "stopset = set()"
   ]
  },
  {
   "cell_type": "code",
   "execution_count": 18,
   "metadata": {
    "ExecuteTime": {
     "end_time": "2020-06-22T11:47:50.268590Z",
     "start_time": "2020-06-22T11:47:49.936565Z"
    }
   },
   "outputs": [],
   "source": [
    "# Stoplist based on TF-IDF\n",
    "# Not theoretically needed if using term weighting during the training process, but stopword\n",
    "# removal could still help with runtimes and interpretability\n",
    "\n",
    "\n",
    "import collections\n",
    "import math\n",
    "\n",
    "# Calculate IDF (For calculations of this size, the overhead of Pandas/Numpy is probably not worth it)\n",
    "df_dict = {}\n",
    "for doc in phrased_docs:\n",
    "    for token in set(doc.tokens):\n",
    "        if token in df_dict:\n",
    "            df_dict[token] += 1\n",
    "        else:\n",
    "            df_dict[token] = 1\n",
    "\n",
    "# While we're at it, we could remove document-level hapax legomena\n",
    "hapax = [token for token, count in df_dict.items() if count == 1]\n",
    "\n",
    "token_idf = {}\n",
    "for token in df_dict:\n",
    "    token_idf[token] = math.log(len(phrased_docs) / df_dict[token])\n",
    "\n",
    "\n",
    "def tf_idf(tokens, token_idf):\n",
    "    \"\"\"\n",
    "    Calculates the TF-IDF for each unique term in the given list of document tokens\n",
    "    \n",
    "    Parameters\n",
    "    ----------\n",
    "    tokens: iterable of str\n",
    "        Tokens that make up a single document\n",
    "    token_idf: dict\n",
    "        Mapping of terms to their global IDF values\n",
    "    \"\"\"\n",
    "    token_tf_idf = {}\n",
    "    counts = collections.Counter(tokens)\n",
    "    for token in set(tokens):\n",
    "        token_tf = counts[token] / len(tokens)\n",
    "        # In particular, accessing a Pandas Series by string index is much slower than accessing a Dictionary by key\n",
    "        token_tf_idf[token] = token_tf * token_idf[token]\n",
    "    return token_tf_idf"
   ]
  },
  {
   "cell_type": "code",
   "execution_count": 19,
   "metadata": {
    "ExecuteTime": {
     "end_time": "2020-06-22T11:47:50.964595Z",
     "start_time": "2020-06-22T11:47:50.271591Z"
    }
   },
   "outputs": [
    {
     "name": "stdout",
     "output_type": "stream",
     "text": [
      "Stopwords, ordered by TF-IDF:\n",
      "the, to, a, of, and, in, for, on, said, is, has, with, it, at, by, that, was, be, have, as, but, from, an, which, will, been, this, also, are, its, not, up, had, were, who, he, their, more, would, out, one, after, they, last, about, over, -, than, year, all, two, when, there, new, could, other, into, years, his, we, now, first, if, time, or, made, us, only, no, some, being, so, while, added, before, make, three, well, told, can, back, take, because, them, most, what, next, get, just, way, world, do, people, i, since, against, such, very, any, set, many, like, still\n",
      "(103)\n"
     ]
    }
   ],
   "source": [
    "# Thresholding\n",
    "\n",
    "# Number of terms with lowest TF-IDF scores to consider per document\n",
    "n_lowest = 50\n",
    "# The proportion of documents each of these terms must appear in to be considered a stopword\n",
    "stopword_proportion = 0.15\n",
    "\n",
    "per_doc_stopwords = []\n",
    "for doc in phrased_docs:\n",
    "    token_tf_idf = tf_idf(doc.tokens, token_idf)\n",
    "    # token_tf_idf is a dict of token -> score\n",
    "    scores = sorted(list(token_tf_idf.items()), key=lambda x: x[1])\n",
    "    lowest_n = [score[0] for score in scores[:n_lowest]]\n",
    "    per_doc_stopwords.append(set(lowest_n))\n",
    "\n",
    "# Check how many *stopword lists* each token appears in; this is more discriminative than\n",
    "# checking how many actual *documents* each token appears in instead\n",
    "stopword_df = {}\n",
    "for per_doc in per_doc_stopwords:\n",
    "    for stopword in per_doc:\n",
    "        if stopword in stopword_df:\n",
    "            stopword_df[stopword] += 1\n",
    "        else:\n",
    "            stopword_df[stopword] = 1\n",
    "\n",
    "total_docs = len(phrased_docs)\n",
    "final_stopwords = []\n",
    "for stopword, count in stopword_df.items():\n",
    "    if count / total_docs > stopword_proportion:\n",
    "        final_stopwords.append((stopword, count))\n",
    "final_stopwords.sort(key=lambda x: x[1], reverse=True)\n",
    "\n",
    "# List of removed words sorted by TF-IDF (so in roughly decreasing order of commonness)\n",
    "removed_words = [stopword for stopword, count in final_stopwords]\n",
    "stopset = stopset.union(removed_words)\n",
    "\n",
    "print(\"Stopwords, ordered by TF-IDF:\")\n",
    "print(\", \".join(removed_words))\n",
    "print(f\"({len(removed_words)})\")"
   ]
  },
  {
   "cell_type": "code",
   "execution_count": 20,
   "metadata": {
    "ExecuteTime": {
     "end_time": "2020-06-22T11:47:50.990355Z",
     "start_time": "2020-06-22T11:47:50.966595Z"
    }
   },
   "outputs": [
    {
     "name": "stdout",
     "output_type": "stream",
     "text": [
      "Also removing document-level hapaxes:\n",
      "$284m, aols, bertelsmanns, $3.36bn, timewarner, $42.09bn, $11.1bn, catwoman, search-engine, year-earlier, â£600m, 464,000, $10.9bn, $639m, warners, $1.2871, half-point, sinche, $1.2974, loosening, greenspans, $540m, rosnefts, moscow-based, firestone, â£479m, short-haul, â£106m, cargo, eddington, surcharge, 274.5, brul, â£59m, surcharges, â£125m, broughton, a321, controllable, yields, $141m, seagram, $9.7bn, stolichnaya, baskin-robbins, ricard, courvoisier, ballantines, donuts, pernods, 8.2bn, domecq, brandy, chivas, glenmorangie, pernod, domecqs, jacobs, 1.8bn, dunkin, regal, patchier, hesitant, sheard, escapes, similar-sized, cowed, josserand, fertilizers, ethiopians, 11.49, fortified, lactating, 14.27, rains, vegetable, 387,500, 89,000, distributions, faos, supplementary, crops, 965,000, infiltration, $86m, doubleclick, $204m, $187m, outperformance, dwarfed, susilo, importers, mulyani, 14.5, $6.58bn, indrawati, yudhoyonos, megawati, bambang, sukarnoputri, 59.2, acehs, kerosene, 472bn, â£2.77bn, 36,000, daimlerchrylser, 540bn, nishioka, peugeots, bailouts, badly-needed, littlewoods, consultative, 90-day, pearsons, barclay, 521, â£150m, fitzpatrick, maclennan, broadsheet, nuj, hollinger, axing, mulling, elaa, marja, overbooking, quillinan-meiland, preposterous, eraa, iata, eu-based, misleads, â£173, pay-out, cawley, eraas, 15.7%, overbalancing, tooling-up, disclosing, 4bn-euro, unwinding, 136m, 38m, 12bn, â£53m, 77m, buoying, bhanu, baweja, 43.305, 43.41, bb+, bbb-, creditworthiness, manmohan, sanjay, televentures, essar, gartners, kong-based, dayanidhi, bharti, maran, â£10.6bn, hutchison, 74%, whampoa, kobita, offshoring, vivaldi, 13.3%, diemont, canned, sunovate, frustrates, churn, cara, distributes, grosvenor, deluxe, â£21.5m, mecca, â£392.1m, pinewood, demerge, demerger, demerged, one-euro, isabelle, brunt, 4.464, hypovereinsbank, kronawitter, hirings, reiterating, naude, 0.7-0.8%, $671.7bn, ixis, $1.15, spurring, ripert, â£56.4bn, $162bn, dollar-denominated, astronomical, $1.76, 35.7%, 24.4%, â£484bn, $180.7bn, marie-pierre, $496.5bn, 30.5%, previously-unknown, confiscatory, savana, srx, 19,924, trailblazers, accumulator, hydraulic, nhtsa, fragments, pickups, kodiak, 17,815, silverade, coupes, yukon, avalanche, windshield, xlr, raniers, 155,465, isuzu, accelerator, ascenders, envoys, gmc, mittals, ispat, â£16.7bn, $32bn, isg, 155,000, lakshmi, mittal_steel, spokeman, 24.1bn, workforces, orin, $1.32, 294.3m, industrialized, middleton, beleaguered, triggers, $47, $1.64, non-opec, iea, $47.10, $44.45, hato, agrarian, landowners, cojedes, farmland, ortiz, latifundios, hectare, trample, 12,900, hectares, koen, bi-annual, oecds, cotis, oecd, export-led, turbulence, not-too-distant, 2.0%, mcalinden, eircom, iseq, ncb, 6661.89, persisting, largest-ever, ufj-mtfg, ufjs, mtfg, 189, deepening, sumitomos, $29bn, 15.3%, 2019, $10.2bn, 24.2, leibovich, 12.1, nanjing, technology-sharing, woodley, â£546m, â£532m, ogilvy, cordiant, medias, mather, outperform, wpp, 14.1%, wpps, omnicom, rubicam, $1.04bn, certify, signifies, delegations, onerous, sox, soy, untouchable, share-ownership, tsutsumi, tsutsumis, nagano, inheriting, sauce, futon, seibu, scolded, businessmen, dined, yoshiaki, rebuilt, 35.8bn, hannes, wittig, telesystems, 1.17bn, oao, $1.85bn, 14.96bn, 364m, 61.1bn, shenzhen, changyu, 481.42m, tempts, capita, north-eastern, liqueur, yantai, $58.16m, 0.22, illva, â£30.7m, saronno, mcguigan, umbro, sportswear, replica, 222%, shirts, â£24.5m, â£15.4m, $29.4m, 115.5, 1.76%, lapsed, soon-to-retire, clouding, retirees, baby-boom, plunges, spindler, â£51.6m, northumberland, â£1.30, geological, â£1.18, gigajoule, al-faisal, uproar, highly-educated, pitiful, de-facto, ghazi, saud, al-gosaibi, annualised, dai-ichi, iizuka, periodically, $53.09, refinery, gallon, $53, $1.4850, $53.03, silliere, resilient, preyed, -which, -may, meti, yamanaka, ryanair/boeing, 193, bonderman, $4bn, closed-door, $18.34bn, apcom, re-listing, stockmarket, â£9.6bn, quotation, 7.3%, finanziaria, 11.3%, cowley, 116i, â£15,690, tapers, rapidly-rising, mini-workers, the-car, â£17,730, 189,000, c180, modernised, reithofer, second-hand, beetle, â£11,500, â£12,556, depreciates, wernle, â£280m, â£39.1bn, perrier, $74.6bn, petcare, â£451m, 86.7bn, brabeck-letmathe, $861m, nestle, nestles, 2.3bn, -best, 1.53bn, wholly-, â£1.05bn, sportscar, mediobanca, 775m, underfunding, 6.5bn, brain-drain, small-, kickstarting, enel, juddering, $6.13bn, â£2.89bn, â£610m, glocer, â£234m, â£3.24bn, mong-koo, 920,000, chung, garrow, 280,000, 22.3bn, 6.8bn, 9.4%, 418bn-rand, colen, â£910m, high-powered, rolls-royce, 3-series, 14,800, 95,000, rolls-royces, bmw-brand, assembling, 80,600, awoken, zanussi, carlsson, aycliffe, electrolux, straberg, frigidaire, aeg, ulf, high-cost, cookers, spennymoor, electroluxs, whistleblower, orchestrated, bewlay, malpractice, 3.24, claimant, inactive, 1.41, 813,200, 296,000, monument, ostwald, 28.52, paring, $874m, a$68m, reaffirming, docklands, 1.2bn, a$67.7m, a$4.50, redevelopment, writeback, multiplexs, a$35.1m, a$4.67, â£458m, multiplex, parul, grocery, rourke, rhein-main, medium-distance, lamberty, politicial, schulte-strathaus, crisis...only, munich-based, ifo, dz, hans-werner, weidensteiner, 97.5, bernd, sinn, â£158.8bn, $300bn, protectionism, least-developed, 230.9bn, vancheshwar, construct, chittabrata, meters, cb, timeframe, brick-making, majumdar, specifying, townships, citu, 538,000, dlf, discouraging, anshuman, speculatively, â£98m, 143m, ferried, 777-200lr, prevailing, learmount, non-stop, 767, offically, twin-engine, twin-aisle, airliner, $186m, pinning, planemaker, rolled-out, 840, 777, jumbos, virginia-based, cl, highfield, $3.25bn, 19.6%, cut-price, public-company, highfields, $17.04, boston-based, distilled, third-type, non-beer, kirin, suntory, peptides, malt, potatoes, shochu, 30.6bn, beer-like, 31.8%, soybean, happoshu, $291m, shinnama, beer-flavoured, well-established, â£154m, asahi, sorrows, month-on-month, overhang, inching, seung, ecbs, destatis, onward, turkey-iran, finans, turkish-austrian, mtn, atinc, ozkan, posture, inward, intifada, investment-friendly, split-up, aton, dmitry, oganesyan, lukashov, cnpc, pre-payment, veb, capital-raising, juchemich, deadlocked, voided, extricate, â£1.06bn, 246,570, â£290m, $546m, 635,173, occurs, home-shopping, internet-related, near-400,000, $240m, pdvsa, sur, enarsa, petrobras, formalised, food-for-oil, audi, 3,600, sindelfingen, defective, bosch, dingolfing, fuel-injection, rumour, 109,000, 873p, bracknell-based, exel, burberry, â£328m, tibbett, logistics, dhl-owner, britten, beh, 950p, mothercare, $480,000, backdated, $27m, â£8.82bn, labourers, $327, remittance, expatriates, 50.9, â£6.4bn, boes, 83,000, pmi, 53.3, cips, 51.8, komileva, prebon, yamane, two-tier, lena, 48.3, policymakers, 53.7, â£5.8bn, affable, benmosche, higher-return, quint, gartmore, citigroups, citibank, travelers, â£6.1bn, metlife, $901m, brokerages, metlifes, diplomacy, forthright, 0619, destabilising, $1.29, tanase, 105.6, junya, accumulation, vintners, 15m, viticulture, lemetayer, overproduction, dominique, vines, bussereau, top-up, 3.5m, reschedule, distil, burgundy, growers, cooperatives, fnsea, $119bn, solidity, $113bn, speculative, alludes, outweight, seizures, hessel, $500, part-turkish, irancell, olmert, $180, interconnection, ruhi, dogusoy, congested, ehud, $81.8bn, $41bn, 15.6%, irrational, $102.6bn, reside, defaulted, 10.3%, 38.4%, bondholders, â£53.51bn, smaller-than-expected, january-to-march, 93%, big-name, â£486,000, $915,000, annoucement, pfizers, hypertension, 4.7bn, norvasc, 966m, 705m, finian, congo, burren, energys, onshore, four-nation, $166bn, $1.3006, 105.28, carsten, 2100gmt, commerzbank, $1.2944, 105.17, snows, fritsch, seventy-year, self-sustaining, carrick, deutschland, petrol-price, redesigned, nibble, sedan, fared, cobalt, gas-guzzling, automaker, 12.7%, laneve, g6, gas-electric, koreas, 1.27, first-quarter, 17.6%, doctoring, ill-timed, 2000-1, well-flagged, 29.4bn, 2-3%, 0.25%, kerekou, titan, $2.1m, titans, lam, $15.5m, slogans, benin, funnelling, tolerates, anti-bribery, layoffs, price-rigging, mmcs, $337m, â£352m, â£195.3m, $232m, $618m, placement, bigger-than-expected, $360m, $676m, upper-teens, ohlemeyer, racketeer, brooklyn, smoker, â£149bn, altrias, plaza, sebok, vantage, v8, db9, 911, gaydon, astons, porsches, normanton, ex-aide, stronghold, liberians, post-conflict, liberias, liberian, power-sharing, liberia, 14-year, provide...continued, 56.4, 55.3, flies, 0.30, 380m, 984m, $527.61m, â£274.73m, hiromichi, grinds, spurts, shirakawa, petercam, dual-ownership, dove, â£1.99bn, cescau, slimfast, 2.9bn, burgmans, wane, simplification, 510.75, write-down, low-carbohydrate, atkins, unilevers, organizational, beverage, 50.50, slips, 650m, sweere, 5.4, equant, 578m, 43.9bn, 72bn, 47.2bn, 18.3bn, $23.4bn, pagesjaunes, â£12.5bn, breton, overcharged, telekoms, raps, implicating, overstating, garnier, anti-depressants, â£6.2bn, paxil, discontinued, wellbutrin, allergies, 771, 1218, nihon, yoshifumi, â£537bn, keizai, nikkocitigroup, smfg, nishikawa, $1,000bn, 740, 5.3%, heronry, 717,000, shimbun, nozaki, cross-selling, daiwa, daimerchryslers, 785m, mercedes-benzs, 506m, unfavourably, 475m, schrempp, 784m, 142bn, rabb, chryslers, jeep, 2.5bn, fuso, mini-car, 374m, 45.6%, 6.3bn, 39.4bn, â£722m, 20.7, svanberg, 131.9, kronor, seasonality, 47.1%, 117.7bn, 19bn, 9.5bn, all-communicating, carl-henric, 10.8bn, widely-expected, mpcs, opts, clamour, 154m, â£591,000, tech-production, $1.2bn-worth, cocoa, ibadan, nurseries, seedlings, naira, spraying, grower, bello, edo, adamu, south-western, 91m, osagie, beans, obstruct, 10,385.48, geopolitics, sohn, 0.01%, avery, shenfeld, feds, cibc, 0.89, quick-fire, bacap, cfd, hussey, ex-managers, palombo, fleetboston, gustafson, harms, cfds, industry-wide, $47bn, tambone, $515m, boas, market-timing, $50-100,000, â£277m, $140m, ex-columbia, banc, boa, metrovias, mediating, â£38.4m, softbank, fast-rising, cut-rate, $71.5m, otoku, fivefold, woodside, vaile, a$8.4bn, a$246bn, undervaluation, â£9.4bn, â£1.04bn, â£347m, 0.67%, 1405, varley, â£801m, â£1.13bn, 590, shearman, â£15.2bn, accrued, a$245m, a$500m, gregg, $563, a$431m, a$458.4m, â£191m, $357.6m, a$720, a$30m, changeable, road-show, amman, itpc, hcl, â£18.8bn, mikoyan-gurevich, conformity, dassault, pranab, mukerjee, orion, 240, aeronautics, collaborations, keskar, dinesh, snecma, f-16, p-3, london-listed, surgutneftegaz, gazprom-rosneft, rosneft-owned, bogdanchikov, industrially, landes, cashflow, ntv, lukoil, swallowed, 8.6bn, 719m, 1.16bn, inbevs, rijk, exemplary, nanga, meted, yaounde, ephraim, fidelis, unearned, cfa, inoni, non-existent, eaton, 128,000, vance, labor, 96,000, 139,000, 198,000, 169,000, 10,360, 45.4, utgoff, cheeses, ham, kristiansen, wool, re-merchandising, 115,000, cuisine, designation, feta, shepherds, brie, rock-bottom, hensel, ex-soviet, yushchenkos, resell, jilted, heartland, annulled, kuchmas, yanukovich, bridgewell, gertz, 0710, snowfalls, $51.39, shum, purvin, 5.216, internationally-accepted, 38.9, hartz-iv, working-age, stubbornly-high, 3.97, 11.7%, democrat-green, ruerup, 4.875, ilo-based, 72%, much-higher, 17.58, cvrds, 22.5bn, dolce, baoshan, steelmakers, vale, takahashi, arcleor, sheffield-based, 16.87, tinto, arcelor, cia, jfe, smbc, uncharted, kazuhiro, thyssenkrupp, cvrd, corus, 55.57, accura, trans-atlantic, seven-seat, van-style, x5, car-style, x3, mini-van, $1.9094, steadied, $1.3218, 0950, $850bn, 104.76, stitzer, snapple, carbonated, â£933m, mid-2003, $1.78bn, confectionery, retreated, $51.43, $49.74, adnan, shihab-eldin, $15.1m, 920, lynchs, merchandising, winn-dixies, $1.87bn, off-load, â£980m, grocers, faming, politeness, brussels-based, kok, barroso, shaming, unchartered, altar, knowledge-based, koks, sacrificed, synonym, scarcely, prioritised, wim, backseat, hofheinz, rhb, malays, fully-operational, scouting, gt, sporty, montezemolo, lilliu, gtv, six-cylinder, powertrain, arese, romeos, sportwagon, 156, desperately-needed, opels, ruesselsheim, 24-hours, inroads, badged, vauxhalls, unalloyed, saabs, â£104m, bls, 151m, carl-peter, upmarket, trollhaettan, cadillacs, $28.63, re-initiation, goodbody, elans, yamanouchi, avonex, $18.90, biogen, pml, multifocal, tysabri-treated, idec, evaluations, elan, 19.84%, ireland-based, 151.5, tysabri, four-fold, $38.65, leukoencephalopathy, idecs, dosing, warranted, pans, snowfall, furness, 0-5%, 48,000, collapsing, 79,000, persists, overvalued, homeowners, 82,000, â£7.2bn, â£152,879, leeway, loynes, â£10.5bn, 1998/9, 2004/05, correcting, vote-catching, federateds, barnards, bluntly, bloomingdales, sped, macys, federated, $15.6bn, fukui, 11,740.60, pullback, eight-month, best-performing, flat-screen, 104.53, platon, contradictions, fertiliser, lebedev, 7.8, exxonmobil, qatargas-4, $12.8bn, qatars, uk-dutch, â£3.12bn, qatargas-2, sheikhdom, 102.8bn, income-tax, $2,300, perilously, $5,700, vis, sourced, $2.35bn, 71.56bn, 102.16bn, 80bn, communists, 100bn, budgeted, 830bn, patriarch, soured, recapitalised, evade, 6.2, 550m, ex-boeing, â£131,961, druyuns, druyun, darleen, favouring, seattle-based, tankers, refuelling, sears, revoked, steered, rationale, underpinning, $6.8bn, exited, inflationary, cherney, stategist, barometer, 94.2, shepherdson, downshifting, poors, arbitrator, brusca, quarter-point, traction, berkshire, souza, maidenhead, $13.99bn, cross-london, â£7.5bn, crossrail, rafik, redeveloped, hariri, lebanons, $8.08, beiruts, shudders, assassinated, blom, 642.80, solidere, sme, cbis, goyal, 16.4bn, rapidly-growing, 17.3, â£178,906, back-end, â£180,126, 13.7%, anais, $2.48bn, 364.4m, 1.88bn, $0.98, whiff, â£0.48, faraj, â£83.3m, 120.7m, $158.8m, sweetener, bdb, malta, unece, fragility, 4.25%, carlsberg, 798m, 9.26bn, â£371m, medium-to-long, 456m, 3.4bn, 125m, $701m, 10bn, 36bn, heinekens, high-impact, 537m, amstel, electrics, overheat, 6.2bn, hydroelectric-power, $365m, 103.3, 104.4, statistic, isae, exane, re-selling, re-sold, dye, profiteers, wealthier, hiv-positive, coating, pills, wimpeys, 458.5p, $532m, housebuilder, â£280.2m, medium-term, 325.5p, â£450.7m, wimpey, bingley, buy-to-let, b&b, johannesson, pinpointing, counterfeiting, stalking, irishmen, billionaires, malcom, 1.3187, mansoor, rock-steady, $1.90, 104.16, softening, mohi-uddin, aleksey, loan-for-oil, khristenko, touati, 9.9%, non-wage, buffets, cranes, armentieres, submarine, fixings, stueker, bolts, beck-crespel, sunken, addink, itrec, schneider, hugues, sawicki, charbonnier, specialises, boscholt, huisman, chambre, rebidding, roses, paulsmeier, financier, drkw, mid-market, m&ss, spike, m&s, -and, reseach, bhs, high-street, vermont, schmaler, schumer, leahys, carolina-based, tracy, 271, â£230.8m, 1,050-1,125, 17.2, $24-$26, $443m, hiten, 16.2, ex-travel, goya, pinochet, equatorial, allende, pinochets, $16m, riggs, 1973-90, garzon, baltasar, rejoiced, eduardo, contreras, augusto, $4.50, 0.41, notebaert, massaged, $1.50, snapping, underperformed, umberto, agile, demel, morchio, ccf, claquin, toutai, celebrex, cox-2, vioxx, mercks, fdas, merck, bextra, $1.4bn, inhibitors, vioxx-related, cardiovascular, therapies, mihkail, 134.7m, mismanagement, schechter, magazin, deferring, halser, dortmunds, suspending, 35m, 2006-2007, 27.2m, peter-thilo, â£47m, 2.05, $89m, westfallen, â£17.9bn, â£21.8bn, â£5.1bn, robustly, hikes, 4.1%, niesr, record-busting, conceal, permitting, resold, annul, perchesk, reshuffled, 30-month, 1130p, appraisal, legitimise, -are, pardon, georgian, -thought, moneys, shevardnadze, saakashvili, eduard, warped, barrionuevo, cubas, suffocate, disrepair, underscores, exiles, peso, decentralise, barrioneuvo, cubans, fidel, importing, castros, periodic, teva, 57.85, hexal, kuhlhoff, â£3.9bn, chemically, sandoz, novartis, hexals, drugmakers, $31, 67.7%, eon, 5.65bn, tabling, capellas, unhappiness, unconscionable, fiduciary, then-named, standoff, breuer, slager, deutsches, $587m, $2.5, medicaid, â£1.3, belt-tightening, $230bn, discretionary, needy, austere, easygroup, easygroups, easyjet, haji-ioannou, airtime, easymobile, disclaimer, intercity, easyjets, float, with-profit, 8.7%, numis, 16.2%, 235.75, $259.8m, gorillaz, 8-9%, re-orders, shanda, better-known, nyse, vickers, sinas, $27.24, $230m, sina, ounce, $413.50, ounces, 3,217, 113.5m, reade, feasibility, disconcerted, old-style, matshushita, liquid-crystal, ensued, unfashionable, enlightenment, balmoral, 1776s, measurably, intellectuals, philosopher, societal, insights, 1723, atrium, intellect-enhancing, self-interest, environs, gratitude, toiling, towering, reared, mozart, laissez-faire, kirk, ponder, birthplace, emanation, knighthood, characterized, shigas, $6.4bn, australasia, nominally, nissans, japan-based, ghosns, 331bn, 684bn, toshiyuki, shiga, sympathetic, veron-reville, soothe, vice-prime, frayed, rybachuk, yanukovych, long-serving, non-nato, moscow-backed, shaped, eternal, $8.5bn, absas, â£4.4bn, 20-25%, molsiris, interest-payment, westfalen, $39m, â£266m, $17.5bn, buybacks, 548p, 8.5, â£8.7bn, $2.89bn, $3.65bn, operationally, $16.2bn, 3.997, uk-listed, reaping, progressively, $1.8m, regretted, russian-owned, waller, kulakov, trutnev, wrested, $7.5bn, yuri, barrick, russian-registered, tenders, greyhound, $339m, maximisation, â£308m, â£40m-â£50m, claes, barr, blbs, mid-morning, rhode, wembleys, hultman, revenue-sharing, â£182.5m, vue, blb, 797p, non-competition, takeovers, 270.25p, deliverable, 3.75p, fan-based, pay-day, big-ticket, -0.1%, fattening, salads, pedometers, revamping, catchphrase, 8.3%, pounder, all-woman, vitality, arches, jelly-legged, 36-page, 105,000, â£135m, moratoriums, slba, gooneratne, 13.6%, alvarez, sidestepped, chides, bide, 11-14, bats, clotting, saliva, paion, â£49m, desmoteplase, appoints, shiro, tetsuro, 58,000, tsusaka, morrow, tsuda, ppis, lower-skilled, expectancies, long-living, 83%, pins, uk-issued, card-not-present, mutates, â£116.4m, â£402.4m, card-present, clump, â£52, â£38, â£42m, entitle, â£370m, pibs, paternalistic, â£8.2bn, 280, 2002/03, 49.7%, sudell, 1998/99, underlining, â£163,748, 262%, â£3.3, â£5.38bn, â£26.69bn, write-off, impede, under-secretary, $50bn, unpayable, 76-year-old, debt-free, yea, 305, mclean, anson, barn, introspective, prettier, washers, washing, downlights, fluorescent, gripes, congenial, solver, dimmable, router/access, brighten, drainage, fittings, bracing, workspace, trusses, mariannes, like-minded, outer, water-and-weather-tight, renovated, docking, petersen, multi-function, well-insulated, marianne, slab, plasterboard, rockwool, veneer, tub, uplights, mismatch, aurora, â£36.20, blinked, unambiguous, carnivals, p&o, five-cent, mitigate, â£32.26, duopoly, princesss, outfitting, fixate, harmless, toothless, equip, dispassionate, ill-serve, interest-sensitive, indigent, bode, re-evaluation, 2018, capitol, rearranging, aging, persuasions, detail-oriented, unfamiliar, hands-on, 1.7bn, logan, megane, 40.7bn, clio, schweitzer, renaults, 469, â£187,971, july-september, july-to-september, completions, 11.8%, 36,185, million-pound, 28,041, 436, â£182,920, â£1.38, beale, $4.5, pro-growth, $2.18, $2.57, 20-year, $2.58, sunset, stiffening, lenovos, us$42m, hk$6.31bn, wafer, direct-sales, mis-steps, hewlett-packard, unprofitability, hk$327m, reverberations, $20.15, panayis, highly-regulated, strafford, higher-speed, freedom2surf, plus.net, ovum, ipstream, lavender, ubisoft, tyres, 19.9%, â£1.57bn, $2.95bn, activision, tamed, tevfik, hayriye, dizzyingly-high, sureyya, one-lira, serdengecti, one-million, valuations, zeros, aksoy, evren, slimmed-down, embarks, $18bn, denominations, $14bn, $445.1bn, iadb, â£227bn;331bn, eclac, calculators, karya, confifi, hard-hit, adhi, semen, one-quarter, unforeseeable, moines, trillion-dollar, rubbing, bankruptcies, gresik, twitched, notional, msci, afield, minuscule, contagion, costliest, delaware*, far-away, unguessable, 10,847.66, mediterranne, 9,300, tanco, dax, 16.29, unfolding, analsyts, airasia, 20.54, floiran, travel-related, goetti, 5.07, tui, wrought, kinki, woest, 39.10, reisurance, 3.817.69, cac, cheered, 780, waive, split-caps, fsas, anothers, mcivor, split-capital, low-risk, soundness, greased, rigour, rectitude, opaque, salutary, unrealistically, report*, $53m, looking-glass, clearly-defined, healthiest, antagonistic, alarmingly, overlook, attribute, complexities, siphoning, non-payment, vendetta, trebled, wilder, undeclared, saffron, payable, notification, instant-access, non-taxpayer, 5.25%, 5.35%, comprise, firstsaver, ladybird, â£1,200, â£250, invests, r85, multiples, â£690m, â£514m, bookrunners, welle, denominated, over-production, mid-september, harden, early-winter, 4,751, eia, $30-35, $40.15, crudes, khelil, calmed, $43.25, chakib, deplete, ofex, attendances, matchday, 1992/93, saturation, soccerex, 60,000-seater, money-earning, orthodox, 17.25%, bovespa, paschoal, 24,997, tadeu, brasilia, tov, durability, palocci, pillars, da_silva, buoyancy, buonomo, diminished, unaltered, steepest, persuasive, $800bn, apec, drift, takers, $44.38, 2.11%, $8.2, tokyos, $500bn, $48.64, $393.9m, $85, closely-watched, $52m, $172.55, 227, $12.33, lockup, 19.6, searchable, spd, 227,000, jasperneite, zdf, 572,900, schleswig-holstein, warburg, million-2, 5.037, rhine-westphalia, suhas, 865, energy-starved, 54bn, ntpc, rupees$1.2bn, naik, sener, â£10.8bn, abdullatif, uneducated, 33.5bn, over-egged, deppler, reza, xenophobic, moghadam, $21bn, oriental, 9bn, richness, assertions, 16.5bn, 134%, banging, plentiful, 12,800, 163,000, 1875, 1,700, at&ts, 5,125, 3,400, post-takeover, undervaluing, hessen, reckers, alois, rhiel, marquis, amassing, off-loading, kain, amex, aefa, policyholder, â£46,998, axas, endowment, $24,000, shutdown, â£12,700, defies, gorges, 11,488.76, pessimism, kamiyama, amidst, baghdad-based, pharmacies, baghdads, 30-40%, hadi, uneasily, brookings, kirkuk, hadis, bechtels, blackwatch, halliburton, second-most, baathist, aberdeen-based, geo-scientists, blackwatchs, haves, multinationals, exceptions, fulfilling, laggards, childbirth, 127, procreative, genes, chuckles, 114, toshitsunes, twenties, sutras, torao, toshitsune, centenarians, unfold, yuji, 130%, shigeo, 101-year-old, eaten, 2030, shimizu, sexagenarian, osaka, 140%, morioka, outlive, re-devise, 0.24%, ges, 10-15%, $5.37bn, $43.7bn, â£2.86bn, immelt, roukis, 12-18, 5,196, decelerate, blixt, transforms, columbias, disgorge, preclude, sentelle, disgorgement, corr, 5.11%, tobacco-free, distancing, preconditions, debt-laden, longden, vehemently, ghriskey, 2,004, tax-cutting, dow, $50.88, disappointingly, business-friendly, $422bn, 10,137, $1.26, 10,227, quickening, dips, non-manufacturers, 7.7%, mfa, rockwell, multi-fibre, liberalised, rags, hard-pressed, pendleton, consenus, eeghen, retrenchment, geijsen, 550, 2,850, oyens, 790m, ineffectiveness, supervision, pricked, underwrite, questionsmarks, incorrect, zack, irreparable, government-backed, yuganskneftgas, stents, defibrillators, antitrust, tubes, j&j, overlapping, guidant, unblocked, $25bn, implant, expirations, combats, stent, artery, pacemakers, $76, unfrozen, farhat, lockerbie, vowing, unfreeze, libyan, tripoli, libya, gadaravice, hoodia, calorific, bushmen, refsum, phytopharms, erling, dixey, â£309m, kalahari, varig, alencar, varigs, â£1.2bn, $725m, berta, telliers, reshape, montreal-based, 2.20, 75,000, bombardiers, tellier, snowmobile, $133m, 135, plane-making, seating, beaudoin, lulas, $94, $20.40, shouldered, tonne, over-ambitious, production-sharing, catapulted, refutes, â£10.50, 1115, n-c, kenney, 247p, licensee, destabilise, â£686m, 747, co-head, hertrich, camus, forgeard, lagardere, lci, deplored, $1.32bn, overrun, anglo-swedish, mckillop, pill, iressa, astrazeneca, crestor, spinners, tarceva, aztrazeneca, genentech, exanta, anti-coagulant, 1,692, placebo, jefferies, $261.9m, â£135.6m, nikes, second-quarter, $4.9bn, beaverton, $2.8bn, sneakers, converse, $179.1m, catastrophes, made-made, twenty-one, man-made, typhoons, $42bn, 191, â£54bn, $37bn, $105bn, reclaim, khurmala, petrels, 44p, eighties, petrel, $1.87, suba-luhais, 97p, â£258.5m, everasia, $0.85, himrin, ironhorse, iog, tass, 246.75bn, freshwater, rainsford, $9.37bn, kiknavelidze, sberbank, outbid, expropriation, retaliate, impound, injunctions, kaha, shadrin, state-backed, collison, tver, state-sponsored, non-convertible, froggatt, 2.47bn, bottles, ale, $106m:â£54.6m, 4.66bn, s&ns, s&n, post-merger, kronenbourg, redeemable, alcobev, strongbow, der, seiferts, spiegel, clearnet, pence-a-share, bluewater, manchesters, 8,500, footfall, enochs, mobbed, heaving, walton, maximov, screwed, 533p, 583p, afghanistans, applicant, al-jibouri, assad, chalone, menezes, all-cash, smirnoff, â£8.89bn, $69.4m, winemaking, $260m, â£9.28bn, â£134m, diageos, 0%, 2000/01, cpi, â£25bn, indulge, shipside, â£2.98bn, swathe, â£6,500, â£4.29m, recourses, remedies, surgutneftegas, yuganksneftegas, 261bn, dainik, jagran, 260,000, 25m, hindi-language, indy, $34.1m, admonished, $4.4bn, armando, underwriting, raines, sativex, arthritis, cannabidiol, gw, 113.5p, tetrahydrocannabinol, biotech, 8.5p, gw_pharma, sativexs, cannabis-based, satifex, spray, pharmas, non-defence, â£211.6bn, surveyors, surveyor, unsold, lengthened, rics, anticipating, stabilised, kirchners, aara, savers, drayton, argentines, halting, loath, boorman, hopeless, hideous, baez, scathes, implies, mattresses, beneath, disney-owned, reveta, refrain, leased, shamrock, impedes, bowers, thomsen, objectivity, $60,000, â£30,800, secretarial, moscows, cloak-and-dagger, sovlink, renationalising, state-ownership, yukoss, cowboy, muddying, year-end, kraus, arlington, $18.4bn, $325m, contrack, lt, contracks, agreed-to, schnaible, col, envisioned, pco, permissive, pre-sale, 200-, 7e7s, 300-seat, super-economical, 7e7, a350, victimisation, merrills, merrill, villalba, $14.6m, â£7.5m, â£55,000, unequal, stephanie, meritocracy, villalbas, 42-year-old, asbestos-related, hardie, asbestos, hellicar, hardies, asbestosis, meredith, terminally, sufferer, â£568m, chairwoman, yilis, huiqin, junhuai, mengniu, $50.4m, yili, befall, mongolia, huatai, 417m, maharajas, pricier, praful, patel, underserved, â£931m, importer, quick-growing, orimulsion, 110m, tons, jubilee, jarvis, pfi, mid-january, amey, lovell, â£146m, piccadilly, $281m, ferrovial, refinancing, offloading, â£230m, $177,600, recognized, $258bn, lifan, 800%, chongqing, 1.47m, paws, violators, 200bn, motorbikes, â£140bn, plugs, $234,000, $560m, transports, â£291m, coordinated, $1.3509, upturns, $1.3516, gaymard, abnormal, euro/dollar, $1.40, $1.35, juthamas, wolfensohn, displacement, societe, shinawatra, siriwan, 9.0, $510m, generale, people...there, nameless, claimants, â£281m, re, â£5.17bn, maldive, prudential, $640m, newsome, incalculable, bermuda-based, 38,000, gelb, $64.4m, nonethless, india-pakistan, plastics, â£97m, april-september, $186.3m, hostilities, 6-6.5%, aberration, april-july, threefold, mid-year, two-way, mountains, mineta, comairs, sickout, airlines-, comair, seventh-largest, luggage, stranding, paycuts, flight-crew, court-imposed, undelivered, understaffed, disarray, issuer, mediate, ji-chang, yungmin, $12.05bn, ex-parent, 99.3%, dongwon, yoo, kdb, liquidated, $1.354, 1800, $1.364, $40-40.25, mercantile, nymex, $2.86, $41.32, densely, rupani, bombay-based, $13, 570, feud-hit, buy-back, nanik, â£6.80, dhirubhai, waterborne, diarrhoea, milverton, thrived, crescent, stricken, â£2.1m, reinsurer, epidemics, southeast, epicentre, polluted, 3m, country-by-country, $4.1m, faster-than-expected, palestinian-israeli, inter-ethnic, uzbekistan, foundation-kazakhstan, kazakh, market-based, â£425,000, militancy, nursultan, belarus, topple, abish-uly, nazarbayev, contends, gazproms, â£5.18bn, khordokovsky, protracted, $14.2bn, cochilco, 5.5, expansions, patricio, codelco, cartagena, chiles, 16-year, escondida, analyzing, malls, lynn, feel-good, gosport, infants, tescos, â£269bn, â£268bn, groceries, cromwell, 10.38am, jemma, 912km, bosphorus, opic, macedonia, straits, balkans, dardanelles, mobil, eximbank, macedonian, vlore, us-registered, euro-atlantic, burgas, fatos, balkan, nano, ambo, deodorant, antiseptics, analgesic, gpw, seton, â£173m, cough, hosiery, ssl, condom-maker, condom, kimberly-clark, meltus, mister, benckiser, three-way, 16.75, syndol, gloves, reckitt, surgical, 293.5p, sauber, durex, $100m-share, a$8.24, presuming, 7.4bn, michelmore, pervan, a$6.35, vanadium, swiss-based, coking, bergman, sweetening, tommie, mim, value-creating, gonsalves, a$7.17, ferrochrome, 42.3%, 31p, bskybs, â£1.53m, $2.8m, 4.76%, â£1.5m, 37.6%, â£20.6m, â£28.5m, wearside, â£42.5m, disparate, logue, pbgcs, oklahoma, nobel, roundtable, premiums, firmer, congressmen, sharpe, fer, guaranty, â£23bn, pbgc, laureate, 98.8%, volzhsky, saransk, omsk, alfa-ecos, hoegaarden, alfa-eco, klin, staropramen, chernigov, kharkov, 259.7m, novocheboksarsk, leuven-based, 97.3%, near-total, $353.3m, â£183.75m, ivanovo, swallows, nikolaev, non-voting, 57.6, indexs, 58.1, 57.8, 74.0, 52.7, 72.0, 61.5, trending, 58.6, 67.4, malagasy, ariary, 1,893, pre-colonial, exchangeable, ski-maker, quiksilver, 16.60, surfwear, boix-vives, 17.70, snowboards, skis, rossignol, k2, $1.3667, hovers, mackel, $1.3652, hovered, 102.55, $960m, $480m, redemptions, chong-gyu, laah, sejong, â£499m, 140.55, $1.3636, mazanec, $1.3666, 141.60, vws, co-sign, satyanarayana, visakhapatnam, boyko, yury, thay, $14, saparmurat, naftohaz, $58, niyazov, turkmen, hogged, ipc, 46%-owned, chada, chadha, ill-equipped, rebounded, $42.30, $42.12, $1.33, $39.20, cowardly, employer-employee, fomc, daw, $1.3270, apprised, 46-year, argus, risk-taking, $1.8832, yamarone, â£425m, 13.4%, â£420m, 12.4%, end-of-season, wolfson, nexts, menswear, locality, $779m-798m, ft-30, gent, firming, goodwin, lyle, sagging, lyles, $4.9m, krispy_kreme, ivankoe, 14.87%, doughnuts, $3.8m, $1.83, $10.48, franchisee, repurchase, dunking, 6.6%, unadjusted, non-seasonally, 4.483, 4.64, flat-rate, 206,900, onstart, karstadtquelle, communist-style, vicente, pro-chavez, vindicate, rangel, squatters, classifying, ranchers, arnoldo, technocrat, banque, public-sector, mahmoud, reform-minded, mohieldin, misr, alexandria, caire, privatising, lockyer, $14.5m, $14m, californians, renews, â£7.74m, vadim, wranglings, mitroshin, luxembourg-based, pence-per-share, laura_ashley, ainum, mohd-saaid, navarednam, 10.75p, half-year, â£118m, malaysian, lillian, metrojaya, co-chief, 200p, furnishing, peng, husk, $376m, shrivelled, khoo, 8.51%, liquidating, â£530m, $94m, deltas, simplifares, non-refundable, â£264, saturday-night, $646m, first-class, 6,900, â£24bn, 19.1%, 74.7bn, icbcs, non-performing, icbc, salterbaxter, lee-harwood, generalities, homilies, lexicon, csr, greenpeace, verified, pro-sustainability, non-financial, side-effect, sunil, $320m, â£691m, destitute, mendis, clawing, douglas-westwood, entities, 793,000, siberian, sakhalin-1, genetically-modified, wray, investigative, chemicals-and-crops, high-ranking, invoice, jakarta-based, bribing, monsanto, agrochemical, waiving, â£799,000, conveyed, non-competitive, pretences, instructed, stearns, chubb, recoverys, robustness, berson, sails, machinations, porter, kellett, bobbitt, hevesi, clifford, wareham, $54m, sidgmore, shockwave, stiles, elson, aycock, â£28.85m, galesi, areen, litigations, houston-based, clerical, shave, $984m, financings, 6.87%, $10.44, â£162,086, 6.2%, 3-5%, outfitters, neilsen/net, pier, 9.3%, larger-than-forecast, zale, 32.2%, bebe, $23.2bn, faring, $220bn, desertion, costco, eagle, trendy, retailmetrics, dearth, middle-income, perkins, nordstrom, 8.8%, claires, upscale, atr, avions, bagnato, deccans, $17.6m, 72-500, atrs, â£9.49m, 449,603, naamsa, standard_chartered, 925p, paid...the, chartereds, 51.4%, koram, overpaid, $3.3bn, asia-wide, $44bn, accretive, decisiveness, newbridge, kfb, 3.9, 1.06, eckhard, 136,000, cordes, dealerships, fallers, $3.2bn, $2.2bn, 20-30bn, 1,011.15, jse, banda, defrayed, flattened, majlis, â£93.6bn, 1,070, rials, hardliners, 1,546, khatamis, decision-maker, $14.1bn, modestly, expediency, $14.3bn, $175.6bn, hard-line, breakers, ecs, abeyance, buckling, epp, enrons, $168m, retrieved, 2001alleging, $155m, lerach, $145m, boardrooms, â£89m, â£378.8m, plaintiff, fastow, â£139,544, â£180,444, stabilises, â£116,542, flats, â£262,825, â£192,713, â£111,314, 21.7%, â£180,226, 26.2%, $28.4bn, â£96bn, $6.2bn, 605, â£3.8bn, 76,200, privately-held, haute-couture, boynton, veer, inquire, intervening, over-stated, â£522,000, jeroen, boyntons, â£82.7m, vijver, â£21bn, yadavaran, nioc, jufeyr, lpg, $40bn, mid-december, domicile, $17.65, $31.22, sydney-, $5.4bn, netanyahu, hebrew, then-us, binyamin, shultz, klein, massachussetts, mandelsons, freight-carrying, a380s, airliners, eu-us, a300s, triple-decker, nortels, 2001-2002, 1.46%, $8.6m, restatement, restatements, $434m, $732m, hustlers, kommersant, iliaronovs, qualitatively, illarionov, gref, nationalise, privatized, swindle, xie, $63.8bn, labour-intensive, 8.30, 35.4%, us-china, â£165bn, xuren, $593.4bn, rebates, $124bn, $311bn, 420bn, $150bn, 2.572, $43.4bn, 225.79, countrywide, 6709.93, anti-musharraf, baglihar, indian-administered, defusing, bhuttos, jubilant, yaseen, military-backed, lakhani, zardari, kses, 8%-10%, asif, benazir, abuzz, kse, mma, $500.5bn, wyss, tabak, $55.5bn, â£29bn, ballooned, crescenzi, jd, pickup, four-wheel-drive, highlander, burnish, hybridise, hybrids, deceleration, normal-engined, $3,000, mariner, clean-burning, cayenne, trouble-hit, under-used, citroen, psa, jeddah, evalution, 1,088, ifzal, $717m, abd, â£379m, asses, adb, thadao, hinged, 23,500, chino, 645,000, normalcy, a$4.25, a$846m, scratching, back-flip, $2.4bn, startled, trustees, mondavi, oatleys, brl, a$3.1bn, perpetual, lensworth, reline, 4.17, trichet, dirk, salesmen, xing, 210bn, manly, cigarette-making, wangli, xings, add...since, stmc, stma, burkhardt, trinkaus, nineteenth, schilbe, sputter, $1,8923, â£31.7bn, $19.6bn, $54bn, $155.8bn, 1650, $19.7bn, tacitly, $1.3280, $95.6bn, dales, â£24.8bn, â£1.9bn, trade-in-services, narrows, prognosis, â£16.9bn, â£36.3bn, â£27.9bn, macaefa, duty-free, lesothos, maloti, unceremoniously, 6,650, tw, garments, vogue, mafeca, bangaldesh, agoa, cookies, krafts, oreo, low-fat, calorie-heavy, lance, friedmann, kool-aid, sugary, pepsico, nutritionally, reformulating, exile, nevzlin, 59.5%, self-imposed, buy-out, re-positioning, aviation-related, seamus, kearney, aer_lingus, enlargement, uniformity, filings, â£82.8bn, harmed, mid-sized, zoellick, uneven, $155.2bn, gooch, tires, ahold, damuro, foodservice, â£428m, tyson, kelley, rymer, hannigan, bailin, improperly, nettle, seafood, bowman, consolidated, redgate, â£3.90, taurel, averts, lillys, $5.15, unfiltered, rosemead, bevington, breier, non-store, showrooms, maury, â£265.9bn, $349.4bn, $4.06, 367,000, 3.1bn, a$2.6bn, 39m, a$4.76, unrivalled, a$5.44, a$584m, ohoy, a$4.17-a-share, mccafe, hose, prayers, cantalupo, throat, abbreviated, colorectal, go-getter, lovin, straight-talking, congruent, comerica, lean, 178,000, whittle, littman, wieting, leahy, cary, 77.6%, inflation-fighting, utilisation, contemplated, overpaying, empire-building, bourses, db, 45.25, 370, $492m, mijatov, 648m, willmean, 870, sourcing, â£19.1m, $35.7m, back-taxes, rouble, 2001-2003, atomstroieksport, pacts, ecofin, align, competences, calisto, $4.8bn, book-keeping, tanzi, tanzis, tonna, fausto, indictments, constrained, triggering, deloittes, bootle, funereal, peoplesofts, placate, notifying, candles, oracles, aggarwal, $10.3bn, drawn-out, easygoing, peoplesoft, ogden, mourning, oracle, fume, unclogging, parking, 250%, beijingers, yan, impassable, reorganising, bays, hourly, jacking, circling, clogged, choking, â£26, $48, outriders, motorcades, gmac, $4.0-$5.0, waggoner, attaining, $6.0-$6.5, firmed, leasing, $648.4m, $4.37bn, whitman, $3.27bn, $92.9, janco, meg, $142m, $1.52, $1.62, $4.35bn, $778.2m, $205.4m, $1.48, pyykkonen, $935.8m, $4.2bn, tyco, kozlowski, looting, $111m, â£206m, amr, $14.35, amrs, arpey, cut-throat, $387m, $761m, $3.8bn, $193bn, $48.8bn, $345m, $569m, pre-market, $51.2bn, $3.7bn, â£481.5m, $838m, 330m, romes, $495m, iberia, barot, az, alitalia, â£275m, alitalias, swelled, â£5.19bn, $3.7m, owing, 6-7%, $18.6bn, babacan, strand, fairmont, irish-based, claridges, renovating, connaught, alwaleed, alwaleeds, pre-tsunami, solheim, kumaratunga, rajapakse, decades-long, negotiator, hambantota, clergy, mahinda, damming, fujian, 4,200, crackdowns, scenic, xiluodi, salween, outs, vice-director, mekong, nu, stoppages, uk-published, yue, siena, paschi, depository, 32.8%, banca, nazionale, lavoro, nigerian-owned, jetstar, sydney-listed, godfrey, fend, jean-rene, fourtou, jean-marie, amf, jean-bernard, messier, $1.3m, â£690,000, 15-month, cegetel, vivendis, riyals, 205, ncci, functioning, nccis, publicly-listed, 372, slavery, 1800s, dimon, intertwined, descendants, louisiana, 1831, 1,250, plantation, 1865, ingrained, thaw, hosni, israeli-egyptian, mubarak, $44.7bn, 1,751,000, freestyle, â£1.87bn, 62,000, receivable, $45.9bn, fords, $153m, visteon, montego, $170.8bn, breakthroughs, 6,798,000, full-hybrid, $104m, v50, $7.2bn, $697m, $793m, delivering...more, mustang, s40, lr3/discovery, zephyr, $470m, vivek, 2.7bn, azim, 20.9bn, premji, wipro, 4.1bn, shah, ask-raymond, 4.3bn, $98m, apurva, morrisons, averages, november-december, non-seasonally-adjusted, non-specialist, non-discrimination, 2,200, unaids, demography, prevalence, 130,000-strong, 10-19%, low-prevalence, 104, proactively, â£175m, al-walid, mickey, 12.4, eurodisney, 253m, arabian, $328m, individuality, â£775, pester, stump, ready-mixed, holcim, markfield, ambuja, â£429m, pre-cast, acc, 138p, leicestershire-based, underpriced, 142, asphalt, 18.2, escorts, quarries, aggregates, reaffirmed, â£9.1bn, confidant, bhai, anand, ipcl, 745bn, dhiru, ritzier, knotty, barosso, peres, shimon, yassir, 20c, $750m, pre-empted, conciliatory, desktops, cbo, envisages, $348bn, $2-$3.8, $368bn, â£197bn, $855bn, iraq-related, anti-money, â£7.6bn, bafin, filho, horizonte, belo, recife, ibge, lopes, 895.4, janeir, hegedus, $332, â£179.3, 10.6%, 10.9%, shihab, alwi, previously-pledged, siregar, bisnis, $3.4bn, prefering, $48bn, mahendra, bakries, consob, touche, italaudit, globescan, pipa, untrammelled, plurality, kull, 22,953, willey, tacit, 1.3040, 102.975, 0730, mauskopf, contended, foreknowledge, marshals, crime-fighting, elgindys, sobbed, colludes, extort, royer, crusader, extortion, elgindy, roslynn, picker, egyptian-born, jiabao, xuebing, loans-for-favours, wen, frontrunners, $190bn, worthiness, â£64m, harbin, china-published, changi, $550m, $220m, debacle, late-november, jiulin, â£117m, caos, $648m, cao, $30m, $1.03bn, eurostar, passenger-only, containers, jean-louis, lounge, 200-plus, cross-channel, vehicle-carrying, eurotunnel, â£548m, 789m, randall, suezs, aguas, aguas_argentinas, water-supply, renegotiate, 25.01%, clarin, â£72.3m, water-concession, futurology, impoverish, vido, 242m, 39.9%, dinars, bouira, $2.77, algerias, tiaret, maghnia, butane, algiers, watan, ammar, canister, sidi, mahindra, 874.2m, 30.1bn, 2.39bn, tractor, luring, 136.069, maruti, 17.8%, 1.41bn, â£29.32m, $54.98m, converge, 440,000, anti-davos, life-extending, five-day, 6.962, 22,201bn, stronger-than-expected, 20.1%, 1.14, 17.9%, 18.6%, 19.2%, 20.5%, 12.011, 20,479.5bn, $214.6bn;â£114.5bn, 13-month, amusategui, 160m, $208m, botin, santanders, corcostegui, reconvened, â£111m, botins, hispano, orchestrate, banco, rubinsohn, classify, 1.0%, nine-strong, outturn, quarrying, sarbanes, healthsouths, clinics, overstated, vouch, co-founded, healthsouth, scrushy, oxley, hedged, two-pronged, low-wage, dipiazza, exchange-listed, 1,300, ifrs, over-regulation, pwcs, ready-to-wear, couture, haute, foyer, decorating, jammed, spruce, dimmed, photography, wonky, unwrapped, adornments, plates, mundane, sculptor, wentworth, andersens, recognizes, pele, authorship, parken, fairy-tale, mermaid, jarre, duckling, keitel, bicentennial, odense, frederik, fairytale, christensen, finnigans, spoiled, paperbacks, oconnors, madeley, booker-shortlisted, mitchells, sebolds, 350%, nannys, hitches, under-threes, shakespearean, whatsonstage.com, rscs, barnett, festens, rigg, theatregoers, anglias, 5/4, pam, arditti, mcdonagh, wintour, garai, pillowman, shulman, macneil, iphigenia, aulis, ferris, romola, hildegard, festen, eldridge, wishaw, bechtler, bursary, reilly, luc, calico, bondy, albee, sweeney, buds, magdalene, cicero, rebuttals, crucified, virgil, theories, gospels, christianity, fantasise, manuscripts, tacitus, clergyman, monologues, ensler, ugandan, anatomical, mukasa, vagina, expunge, ssempgani, unnatural, slang, ugandas, lesbianism, ngos, kefa, kampala, glorified, coxon, testino, loach, chalayan, rcas, hirst, bradburn, belisha, ridgeway, schindlers, lyric, glens, bible-thumping, antrim, sermons, dup, stranmillis, dilapidated, soho, orator, beacon, omalley, preacher, yeats, ballymena-born, phantom, ocasey, paisley, belfasts, embankment, waterstones, erotica, 6/4, doore, suzie, mysticism, hollinghursts, illustrations, eights, king-smith, six-, eight-year-olds, eccleshare, grindleys, fergus, under-five, smarties, riddell, 4children, riddells, kunzru, sayle, armistead, mutant, inquisitiveness, armand, elegance, mutants, cultured, lerois, provoking, stewarts, abnormality, varieties, memoir, five-strong, leroi, zadie, womanising, haileys, rusty, bedfordshire, painstaking, moneychangers, professions, panoply, snow-logged, self-critical, nassau, harassed, page-turners, zero-eight, â£318, hailey, spoofed, memorably, brolin, $600, providence, authorial, daydreaming, bestsellers, visualised, aiport, mid-thirties, bisset, seberg, eloy, ozick, lessing, mahfouz, oe, lem, stanislaw, ishiguro, commends, bellow, 18-strong, salman, yehoshua, muriel, rushdie, kazuo, kenzaburo, naguib, gunter, tabucchi, coetzee, kundera, ismail, updike, roth, mcewan, kadare, masterpieces, impressionist, cunanan, lichtenstein, â£5.5m, versaces, six-storey, townhouse, warhol, lichtensteins, sothebys, clemente, versace, 2001fetched, tobias, $10.3m, juxtaposed, basquiat, $3.4m, domineering, menagerie, leveaux, slater, wingfield, ethel, lange, heathers, exhibited, wrangle, caricatures, noble, polynesia, omai, â£12.5m, â£10.3m, 1774, 1776, fetched, sylphides, ashton, uncles, diaghilev, ballerina, lilian, re-formed, markova, markovas, markova-dolin, ballerinas, dolin, 1935-37, diaghilevs, lightness, 1910, stravinsky, alicia, diphtheria, governess, tow, prima, russes, ballets, kickboxing, perfecting, fonteyn, bussell, sibley, trew, hobbies, carving, rad, darcey, dainty, nureyev, nurture, re-ignite, antoinette, fictionalised, boyles, 1965-2003, paraguayan, tucks, paraguay, francisco, â£5,390, contagious, onan, blumes, narratives, arc, napkin, roths, 1920s, godless, wildfire, snobbery, honourary, hautman, 9-11, 420,000, terrell, wizardry, manuscript, bookshops, rowlings, voldemort, half-blood, witchcraft, pre-order, potters, amazon.co.uk, pre-11, caravaggio, greco, raphaels, saumarez, alton, rubens, alva, pinks, tussauds, urbino, pedestrianisation, tolstoy, cavanagh, 1,466, synopsis, excerpt, northwest, ontario, robinov, tambien, burnett, erotic, cuarons, enlists, musings, rasheed, saddams, pax, oday, strangers, hand-held, southeastern, cfca, laud, stupidity, one-hour, deplorable, 14.2, 13.7, dens, daffodils, monolithic, merrier, disdain, twenty-first, corduroy, xdance, ski, viewpoints, egalitarian, unpatriotic, so-and, downtown, sundances, redfords, glasses, slamdance, star-struck, story-telling, conjuring, featurette, oldman, crookshanks, myriad, winsome, calamity, scabbers, corny, marvelling, pegg, deakins, ladykillers, stauntons, fellner, laundrette, pawlikowskis, leighs, cattrall, co-chairmen, firth, miyagishima, 267, vie, takuo, castaway, embodied, elegant, wintry, pies, zemeckis, claus, three-metre, gollum, mince, eight-year-old, up...we, dominicas, dominica, practised, caribs, perpetuated, cannibals, $305m, 1600s, cannibalism, carib, colonisation, â£162m, dominicans, conquerors, anjelica, $7,000, schmidt, salles, selma, robbing, â£3,650, commercialisation, christs, screenings, pierson, â£322m, stylised, chihwaseon, reticent, dornford-mays, forceful, cinematographically, berlins, kwon-taek, hazlewood, daze, jnr, hasna, hernandez, paramedics, besides, poitier, nora, purlie, 65-year, reno, â£2.45m, uncredited, 3.55m, fiancailles, best-paid, figaros, 3.35m, 885,000, â£2.31m, â£611,000, dimanche, depardieu, figaro, â£3.77m, raoul, rusesabagina, rusesabaginas, applauds, 55th, peck, cheadles, kigali, kowalski, afi, malloy, annals, anchor, brokaw, freefall, self-censor, hypnotic, newscasters, 13-strong, affiliates, milestones, dudas, disobeys, squibs, fuqua, pancake, detonated, firework, antoine, morehouse, stepchild, educates, atlanta, gatekeepers, $19.5m, â£48.3m, bruer, â£38.9m, $46.8m, $7m, $75m, graces, â£14.9m, $73.4m, â£24.8m, hussain, memon, majeed, kashyap, anurag, zaidi, kashyaps, mihir, one-disc, winstone, schama, guinevere, titchmarsh, lotterys, post-production, thrill-a-minute, knightly, present-day, peeled, schulberg, bertoluccis, tango, sported, warmed, pencil, corleone, duvall, marchak, moustache, caan, gangster-style, glorify, drawn-on, budd, pim, burgle, slain, islamist, booy, fortuyn, dutch-moroccan, fortuyns, self-image, constraints, uninterrupted, bulletins, themed, laing, snicket, olaf, spanglish, carrey, displacing, connelly, $30.2m, entertained, whisked, â£15.5m, handler, thackeray, visceral, mira, next-best, nairs, becky_sharp, bosom, luminosity, reese, minx-like, masala, witherspoon, minx, makepeace, thackerays, nair, irresistibility, red-headed, climber, intuitively, carriage, intuition, fleshiness, clear-sightedness, underfed, carts, indian-style, witherspoons, prophesy, salaam, self-fulfilling, song-and-dance, non-actors, mesmerised, terzian, karin, backer, moreau, orfevres, emmanuelle, amalric, lequipier, kechiches, quai, singer/actor, desplechins, devos, yolande, auteuil, academie, dutronc, torreton, viard, poelvoorde, twice-nominated, counterterrorism, receded, humorously, canopy, disapproved, vicissitudes, eyelashes, erected, seven-second, high-visibility, sarin, mink, bleeps, cates, osella, charms, $14.3m, $6.25, $1.25, $110, $5.80, $9.4, billion-plus, suburb, wistful, forestier, alienated, impoverished, travails, dramatist, schoolteacher, tunisian-born, 18th-century, kechiche, introduces, marivaux, cesars, pleasures, isitt, toto, featherboy, playschool, bungalow, turban, american-themed, collingwood, floella, balamory, pre-school, joko, jakamoko, debbie, dom, mccourt, bosworth, blethyn, darin, brenda, croooner, hoskins, spacey, darins, sings, hamstrung, mata, blood-and-sinew, accent, barrier-breaking, unwieldy, â£11.4m, $24.1m, â£17.m, swords, $13.5, scorn, gore, buttnumbathon, bleached, hectoring, bisexuality, grandiosity, â£12.7m, $33.1m, $21.6m, jfk, bravado, historys, jolies, bisexual, sandals, vidal, pavlikowsky, birthistle, earring, bifa, hickox, minghella, bonham-carter, $44.7m, $9.4m, $165.8m, â£86.1m, $121.9m, â£23.2m, â£6.6m, danner, $12.7m, 1,796, â£63.3m, blooper, ock, tobey, wilmas, erin, tongue-in-cheek, dunst, molina, torment, waynes, po-faced, gaudy, hellraisers, leans, heart-wrenching, scrubbed, uncut, non-essential, 349, discreet, â£306,814, jacoba, 3,300, 5,808, furlong, mid-to-late, rained, pavlik, mudslides, paltrow, â£8.8m, sixth-place, savaged, $110.2m, â£56.7m, $17.1m, cages, â£77m, male-orientated, $4.7m, bruckheimer, â£2.4m, luncheon, sins, communitys, ordained, pande, dsouza, hoardings, vinod, portraying, picturesque, mumbais, dias, dolphy, zubair, kerala, witchs, miyazaki, animator, moving_castle, macduff, welles, omni, 1987s, oherlihy, crusoe, packard, orson, bunuels, 40-strong, scholls, transcripts, interrogations, rothemund, gestapo, condemning, beheaded, anti-nazi, township, yimou, mirroring, carradine, matsuoka, prehistoric, proclaim, kitamura, tomiyama, masahiro, ryuhei, godzillas, filmmakers, atomic_bomb, fascinate, 2,271st, shogo, lizard, spyglass, lyra, anti-religiosity, unviable, iconoclastic, god-like, pullman, curtails, weitz, anti-religious, belacqua, overthrow, guises, blasphemy, bridgetothestars.net, modification, pullmans, demille, sopranos, jagger, mcshane, globes, hatcher, nip/tuck, musical/comedy, teri, cecil, marcia, deadwood, dramas, huffman, felicity, bateman, comedies, anti-bush, inwhich, snubbed, pasadena, semiotics, cryptography, bankable, protagonist, whodunit, medieval, satyajit, paedophile, transsexual, brandon, molester, tarnation, kassell, handicapped, pixar, caouette, aaltra, fipresci, teena, â£23.7m, $12.2m, $10.7m, â£5.6m, $42.8m, $8.5m, $125.4m, â£6.7m, â£6.2m, â£90m, $12.8m, â£65.8m, $163m, $14.7m, $11.2m, budding, forty-two, bratt, carruth, 20-30, ellie, hurosawa, â£1.25m, fanclub, mogwai, revelatory, notables, 44th, under-produced, zutons, 40th, streetwise, razorlights, enemys, radiohead, jupitus, vocalist, molestation, $40,000, plying, stand-by, juror, stilwell, courthouse, molesting, â£21,000, sensationalist, â£1.33m, mother-of-nine, 5s, minogues, dismantle, divo, maroon, parole, marijuana, shakurs, protegees, suge, barstow, assaulting, accompaniment, fondation, claptons, aznavour, destaing, 2,700-strong, valery, lenfance, anne-aymone, giscard, bastille, out-selling, brocksteins, sonybmgs, 1000th, censored, skeens, evanescence, herald-mail, hagerstown, trevin, wind-up, brownsville, $74,500, 13-year-old, â£38,660, 0700, strenuously, discharged, gin, rape, spiked, drugged, snoop, wander, kimmel, broadus, deceitful, simons, springsteens, whitney, ragovoy, mastered, germano, beanie, sigel, run-dmc, dirt, dmx, ll, def, ruptured, accoustic, stub, aneurysm, flu-like, wolverton, crediting, merle, congestive, unrequited, self-penned, manifest, jamaican-style, correspond, truncated, marleys, marley, exodus, eurythmics, scottish-based, rollers, goth, lowly, scrub, outgunned, horizons, me-and-zoe-gate, rattling, pap, valium, maracana, subconsciously, fatboy, 360,000, fallow, superclubs, weathers, jolly, peppe, prodigys, pacing, accumulates, palookaville, slims, masochistic, consciously, landlocked, revellers, implied, mcfaddens, collaborator, fictitious, fogarty, withdraws, corporal, fintians, gram, mamas, melcher, chords, papas, kokomo, ry, cooder, mid-1960s, belfast-born, glasgow-based, thrills, futureheads, akon, divos, hotly-tipped, akons, christies, alouds, crooner, highest-charting, doves, operatic, maries, home-town, peppers, disco-rock, lapping, chili, enormity, olivia, gibb, suddenness, newton-john, barbados, aimlessly, boyzone, sing-along, privately-funded, fraternities, wagner, self-sufficient, allotting, bands/artists, napalm, twiddling, megastars, idol-type, sustenance, gorbachev, macmillan, chopin, 300-strong, louder, angst, nea, moulds, state-funded, debussy, platinum, spans, exponents, dog-breeding, stakonia, 1xtras, southernplayalisticadillacmuzik, crowns, bois, displace, untouchables, korns, awakening, bakersfield, happiness, scuffle, sickening, stabbing, darnell, 1,000-strong, autograph, seated, kenard, vibe, sleigh, whams, mistletoe, slades, moped, purchasers, ticket-holder, 24-26, 153,000, 112,000, touts, degeneres, milian, latifah, mcd, croke, 59.50, ticketmaster, lamented, disturbed, sapphire, couldve, trouble-free, muller, ski-mask, colon, light-coloured, chalfont, break-in, handmade, stalkers, arses, 555, necklace, 30ft, sapphires, wifes, quad, 24-carat, 0845, daisy, well-built, hindsight, courageously, burglary, bedside, impulse, 505, slept, accomplice, unheard, xfm, gobsmacked, martikas, â£0.53, salsa/merengue, velvet, raitt, dickie, salsa, betts, skynyrd, lopezs, j-lo, rican, lynyrd, mavis, $0.99, newtons, flautist, half-step, flutist, lower-court, horowitz, yauch, punk-rappers, mic, singer-songwriters, bmr, pike, sharkey, feargal, bmrs, lucie, silvas, 14-year-olds, yoxall, lana, spectors, rigueur, cutler, roderick, civilly, clarksons, lindblom, maroon5, hoobastank, grobans, seacrest, josh, trice, mosh, tirade, gestures, shady, lantern, crotch, obie, docked, â£1,140, $2,115, â£59,000, â£600,000, â£27,000, â£16,000, $110,000, butterfields, divulge, $110,00, bennington, anastasia, colosseum, open-air, linkin, bicycles, pharrell, tor, d12, skateboards, valle, xzibit, winkler, jostled, 0200, altercation, novoselic, krist, nevermind, wrangles, unplugged, smells, grohl, biographer, r&b-soul, ciaras, dylan, re-issued, $144m, sugababes, â£3.99, 72,000, 79p, fledging, greed, gutted, wikid, brushes, â£29,000, reel-to-reel, trombone, handwritten, gown, hampton, monk, sablan, fitzgerald, theolonius, â£267,000, beloned, bruni, vibraphone, guernseys, ella, jj, saxophone, coltrane, brass, send-up, co-write, satire, guerrilla, brooker, hates, node, self-facilitating, character-driven, webmaster, paedophilia, pre-taped, impostor, schenck, â£52,000, wraz-tvs, vetted, â£52,590, us$100,000, $100,000, independently-produced, trivialises, 182, wraz-tv, a-listers, bitches, flanimals, six-part, deconstruct, zeitgeist, stiller, peddlers, kedas, bozell, jeannie, breast-baring, sleaze, 3,056, 171, raunch, ptc, smut, 2,881, bakley, bonny, baretta, residue, criminalist, dowell, emmy, emmer, coupling, goings-on, â£293,264, superbowl, profanities, revoke, â£266,582, legisation, adjourned, politcians, brownbeck, $32,500, â£1.6, â£17,320, $3, lulu, eurovision, ruslana, iglesias, pitting, dion, mouskouri, nana, celine, dossiers, stalked, emails, mistaken, csi:ny, rowetta, rosencrantz, recommissioning, satchell, recommissioned, rocking, nipple-baring, 542,000, most-watched, cbs-owned, vicki, phoebe, courteney, aniston, joeys, six-year-run, thirteen, arquette, misel, daugher, banjo, texan-born, flatt, scoggins, anniversaries, bluegrass, jed, earl, hillbillies, clampett, scruggs, bransons, 91st, 12-episode, plank, materialistic, apprentice, grogin, argumentative, ex-wife, stallones, 1/3, clubbing, loopy, escaping, sylvesters, aladdins, hellewell, â£350, clutter, smoked, raquel, custom-made, â£4,250, scarf, gregarious, bartering, unshowbusiness-like, deckchair, vintage, detakats, wedgburg, stripy, dylans, â£1,950, trickle, upholstered, deterring, sofas, curiosity, perched, burgess, toothbrush, toothbrushes, ostentation, sipped, eccentricity, wandered, open-fronted, peculiarly, camden, stalls, leno, 5,300, uma, superstars, ditched, thurman, commercial-free, co-present, blige, 2.9, bakula, nx-01, voyager, full-page, quantum, upn, coupon, upns, $23,000, roly, relaunched, andi, kash, totp2, portman, bestow, outens, ex-big, nortons, nineteen-year-old, kenzies, 1/2, 4/6, hide-and-seek, housemate, 1/5, jayne, torvill, liberty-x, skating, skater, rink, gascoigne, stipulated, skates, smillie, jennie, unwell, sharapovas, natasha, buerks, pinsents, kaplinskys, fletchers, whimsical, pointon, 1947s, gardens, sorely, revue, pantos, misprints, astell, emperor, gardening, secombe, whittington, tele-ho, old-time, consummate, esther, cyril, rantzen, reciting, guernsey, nickleby, droll, odes, flashmob, vies, borat, cohens, threes, life-size, agatha, dancefloor, supernanny, lucerne, hells, 3-8, varirty, dysfunctions, warmonger, toxicology, 200,000-300,000, mcfeeley, attorneys, instantaneously, jittery, spin-offs, near-infallibility, houck, pathologist, forensic_science, forensics, juggernaut, backlogged, cantonese, re-recorded, sizable, â£525,000, telethon, ledgendary, lamacq, totallyradio.com, listens, kember, knowledgeable, heir, onemusic, commited, neaptide, keaveneys, nellie, runcorn, 1989s, fridges, brooksides, keaveney, infinity, viacom-owned, jock, $1.7m, &#163;1.8m, â£293,000, â£907,000, cancels, halftime, appletons, appleton,31, anderton, mcavoy, one/channel, two/sky, boosh, geordie, barratt, stoppard, misfit, buffalo, scrutinise, subscription-free, publicity-seeking, pistol, ex-e17, slashing, sharma, lydon, 40-1, greers, westbrook, suitcase, non-celebrity, nielsens, danniella, cola, 50p, sunita, 20-1, 9p, castor, troiani, sitcoms, detectives, dolores, rdfs, champ, rdf, $18, moms, â£9.25, wholescale, 25-minute, $85m, â£27.2m, new-type, 10.9m, 15.3m, 10.9, pascuale, cricketer, 12.3, tufnell, 11.9m, beanstalk, 62.2%, 49.2%, mcpartlin, bon, vh1s, astronaut, krim, â£1.3m, rat-eating, four-page, throw-up, light-headed, hand-written, doorway, spiders, ofcoms, insidious, unbalanced, mersey, cbe, redmond, hollyoaks, school-based, risers, 1.8, coogans, tamsin, greig, wambo, detaching, gazetta, gera, angolas, icrc, luandas, tabloid-size, 200-page, pro-democracy, gripped, sahundi, joaquim, aries, reunified, lapete, buenos, supervolcano, epipsodes, bex, erupts, cannings, erupt, volcano, midsomer, nettles, belsen, volcanic, conman, frys, merges, marple, burchills, docu-drama, sants, headmaster, schooldays, wiedersehen, fingersmith, two-part, genghis, eruption, archangel, stevenson, barron, pompei, mongolian, yellowstone, highbrow, poliakoffs, hollinghurst, makeover, 12-year, operas, baywatch, x-files, hasselhoff, crest, mind-numbingly, beachgoer, knots, howlers, cidatel, pennsylvania, sirius, â£950,000, $1.75m, syndicated, infomercial, rantings, citadel, restriction-free, 25-54, 75-year-old, bandstand, 1956-87, frankin, shefrin, bloopers, holly, interactives, news_website, roms, endemol, adjudicator, 1/14, 2/9, aroused, carsoni, respiratory, â£2.7m, emphysema, rations, troublemaker, fargas, folllowing, putrid, bookies, dismally, tether, huggy, 3/1, sorrells, fastest-rising, crockett, ballykissangel, off-beat, guest-starred, stallone, anti-mccririck, daughter-in-law, compound, 0300, 1/4, underestimated, 2/1, 7/4, 5.9, gail, 6.3, berman, drifted, poor-rating, unscripted, bierce, fireside, poe, edgar, nesbit, tarrant, co-executive, depeche, dutch-born, corbijn, sucessor, curtiss, manchester-based, headlining, alison, post-mortem, blackground, twin-engined, aaliyah, aaliyahs, cessna, penski, 320kg, timeslot, mid-week, parfitt, connick, raquin, zolas, charisma, bissell, pyjama, supervisor, ackerman, pajama, therese, thou, romance, emile, adler, shalt, castaldo, gennaro, symphony, regains, filthy/gorgeous, royalty, uniting, erasure, rayne, stacks, domino, sebadoh, abatement, smog, damndest, muso, tet, post-rock, arresting, rename, raiding, wheres, disused, posteriors, contravening, reading/leeds, humming, charlene, glamorised, roni, anti-gun, asha, 10,500, letisha, jama, parted, barrow, beth, riotous, clutterbuck, crabbe, 13-date, pop-punk, busteds, 4pm, fan-base, eccleshall, coinciding, chiefly, long-rumoured, warwicks, rennie, post-busted, amicable, hindered, fightstars, outselling, galvanize, 10/1, 1,001st, wyman, spasiuk, youssou, negrasmusic, lagrimas, senegalese, valdes, chango, ndour, cigala, carthy, sulimanovic, eliza, tinariwen, bebo, malian, nomadic, flamenco, zephaniah, totp, kombou, elephunk, voisine, roch, dazur, schoolgirl, french-canadian, clad, cote, nrj, jenifer, francophone, flicker, plath, self-financed, lipstick, manic, ten-year, singer/guitarist, stadium-conquering, fuerteventura, yself, severn, b-side, name-checked, goa, skeleton, sherry, compilation, richey, homelessness, articulated, disorders, self-harm, figurehead, dredd, raw_t, proliferated, hacienda, detested, despondent, f4, swore, five-date, weh, anti-gay, taskforce, fi, profanity, indecent, dem, patois, $9.3m, reimbursed, aborted, 82-date, cutting-edge, onyx, illinois, jive, gay-bashing, buju, vybz, yearwood, j-flag, violently, jammins, vp, kartel, outrage!s, capleton, picketing, tok, homophobic, teignmouth, hysteria, seventeen-year-old, wolstenholme, absolution, â£5.4, rheumatic, degenerative, mantooth, tendons, crue, ex-girlfriend, motley, boringly, second-rate, bohemian, sops, years.perhaps, pavlovian, angels...i, wuthering, lackluster, discisions, 25year, 125,000, duetted, suede, ditty, lp, years....its, middle-of-the-road, serene, appelas, cunning, afro, buzzcocks, embarassment, overrated, coffin, siblings, speechless, snobby, slow-dance, biassed, aspirational, picnic, all-rounder, siouxsie, presneted, pleeease, oversentimental, orrible, division.those, kinky, frontwoman, soppy, claptrap, non-fans, robs, kidding, moguls, hisss, mediocrity, mediocre, matronic, lyrically, pre-teens, goodlooks, booo, ridiculuous, half-baked, folks, bargaining, best...we, slushy, drake, facsimile, bane, discos, mcalmont, bites, meanings, nope, rhapsody, baffling, brainwashed, sioux, artisic, disputing, sisterhood, redifining, catergory, motherhood, jamelias, nspcc, down-to-earth, fickle, birmingham-born, rah, teja, digga, karloff, blends, farmhouse, armenian, pizzorno, rocknroll, sensibility, lsf, songwriter/guitarist, meighan, primal, nmes, cutt, getaway, guerilla, serpents, rutland, badlands, kasabians, arse, well-received, sideburns, tuff, melody, pigeonhole, multi-cultural, syncopated, btw, characterise, despise, terri, acknowledging, sub-category, soul/rnb, ragtime, london/manchester, invoked, pigeonholing, originates, puting, irrelevent, funk, colourblind, brushstroke, hay, comapnies, originate, sub-genres, cities-, ty, sidestep, clumping, uber-category, bebop, oversensitive, northing, benson, fueled, condesending, reignited, kravitz, crunk, seattles, flailing, janie, run-down, demolish, stepsister, hendrixs, bean, weitzman, ex-hole, opiates, concurrently, narcotics, sober, oxycodone, â£535, mase, sinks, jaw, rhymes, twista, near-fatal, critically, injecting, jamz, izzo, hova, wests, kanye, dmc, clich&#233;d, madd, maya, york-born, bratman, aguileras, marmalade, meghan, grammy-winning, dirrty, macphisto, achtung, zooropa, flag-waving, youthful, edginess, hewson, stadium-filling, drum-throwing, anthemic, explorations, clinging, coarse, churning, schoolfriends, cliche, 26th, alter-egos, catsuit, speaker-climbing, olives, bonos, ireland-only, scouts, mcguinness, re-invented, corresponding, hallelujah, carmichaels, encompassed, baptist, first-generation, newman, winwood, cochran, tear-stained, mayfield, arranger, pop-oriented, trait, hoagy, whatd, progeny, manfred, indisputably, cooke, sha, fathead, milt, orbison, redding, pickett, burdon, cocker, gladys, transmigration, rap/sung, replicate, stardust, lennox, mayer, niklas, stromstedt, andersson, anni-frid, faltskog, ulvaeus, cirkus, sos, lyngstad, agnetha, soulman, flower, glam, kerrang, clog, judas, cemetery, fifth-placed, rejoined, lostprophets, pistols, gravestone, sabbaths, 41-year-old, aids-related, monterey, auctioneers, much-loved, 2.6bn, good-selling, endangering, renner, realties, zombic, plummeted, deeley, sm:tv, cd:uk, cadle, dreyfuss, conleth, lyttelton, tempest, othello, hecuba, whishaw, ades, swamp, pryce, clancy, gambon, paule, hytner, drury, mtsensk, choreographer, sadlers, gielgud, donmar, emilia, mear, killamangiro, occurrence, frenzied, documentary-maker, waldens, punches, bouncers, rocker, 50-minute, carlish, disconnect, viennese, edelweiss, volksoper, novice, filmgoers, alpine, austro-australian, nun, goat-herds, hammerstein, kitsch, lederhosen, trapp, nazi-occupied, nazism, yodelling, occ, bard, parish, yall, withering, orleans, c-murder, second-degree, tru, rakosky, siemssen, corey, conti, footswitch, smouldering, rehearsing, ramble, faint-hearted, gentlemen, laughs, hatchets, contis, elegantly, flustered, helmets, carousing, plate-spinning, sketching, occupied, jonesboro, boycott, nellys, vile, herre, fullness, escorted, jadas, violator, spiral, rivalries, homie, editor-in-chief, xxl, jadakiss, angus, hylands, butters, rapport, between-song, stereophonics, grandma, rundown, verbalicious, maniacs, cassette, cheeky, recorders, ejecting, punctuate, 103, playboyz, disloyalty, inferno, topper, masscre, concurrent, tryin, imbruglia, nina, sexiest, luna, goodrem, noll, electra, fairground, cher, ticketweb, hampden, kick-start, rems, balloch, lomond, bellahouston, tent, 9-10, compton, negativity, â£77,800, â£53,400, jayceon, g-unity, $103,500, mmfs, benchmarks, orkneys, speedily, hindering, mmf, time-specific, mccune, â£680, $1,300, requesting, mozarts, dragoon, pythons, sinatras, requiem, ac/dcs, overdoses, honeyman-scott, inductee, gospel-style, farndon, medley, rowdy, timberlake, shakin, goin, contemporaries, mocked, hynde, diddley, bo, pretenders, astoria, sledge, bb, ojays, messianic, waldorf, piano-pounder, mullet, endearingly, stabbers, lotta, mower, daldry, billys, haydn, lomas, gwnne, familiarise, re-schedule, healy, elliots, rugby-tackled, smernicki, stewardess, aeroplane, varttina, mirvish, hobbits, tolkien, warchus, impresarios, conjuction, torontos, pl, dame_julie, humpty, ark, lamda, dumpty, mcclelland, â£73m, â£109m, â£53.2m, $7.6m, â£10.2m, $42.9m, $7.4m, 204.3m, $5.4m, $17.7m, â£3.9m, $137m, $19.35m, â£12.8m, â£22.8m, â£15.2m, gratified, exaggeration, co-created, self-confessed, storys, malkovich, intergalactic, humma, rickman, voyage, fry, kavula, antonia, dil, langrishe, bilingual, improvised, subhash, bhi, adarsh, non-indian, lagaan, bristols, determines, non-asian, eastwards, heart-throbs, aamir, annabelle, kisna, amitabh, toby, kahey, ghai, bernath, backdrop, polly, sweetheart, bachchan, baumbach, drunkard, decamp, gyllenhaal, comedy/drama, coming-of-age, matador, whale, squid, duane, kudrows, costner, noah, hopwood, endings, ten-year-old, oprah, dakota, wilbur, eb, goose, winfrey, winick, charlottes, buscemi, cleese, phinnaeus, libertine, knightley, twenty-seven, co-productions, samuelson, breathes, seven-figure, paver, biochemistry, 6000, primeval, cub, ridley, work-in-progress, enchanting, pavers, torak, byline, sidekick, surfer, lieberman, superheroes, brawn, affectionately, headaches, northstar, astronauts, kirby, thor, discouraged, ingrown, acne, sate, claws, closet, swansong, toenails, nerdy, rekindled, syllables, dandruff, comic-strips, 1922, joan, cosmic, grappled, superteam, romitaand, panther, irradiated, indestructible, toned, kinnarees, prater, pusan, ravages, offputting, eclectic, visibly, conspicuously, fundraisers, premieres, mothballed, kinnaree, subtitles, praters, attain, damme, cinemagoers, awfully, carpets, patsy, put-upon, bless, carved, sid, well-loved, hard-done-by, rowlands, regulars, cazalets, guildhall, potts, beresford, hove, chan-chook, bardem, geislerova, barratie, poignant, laurie, miranda, blackadder, baldrick, trench, f-word, dumbing, slamming, good-natured, fussy, dumbed-down, vegetating, corbett, sketchbook, bemoan, sketches, gs, â£11.8m, $9.5m, â£3.74m, madea, werewolf, elise, cursed, â£4.9m, ranger, philandering, â£10.9m, cravens, cheerleader, gun-toting, $7.2m, â£6.1m, $22.7m, jana, in-house, commissioning, daytime, flourishing, sr, hitchcock, littlefeather, 8.45pm, dresses, 1939, suspense-filled, herrick, 5,700, cruz, statues, glitz, hobsons, fifty-five, statuettes, admittance, jolson, demure, 1927, 1944, fonda, humphrey, movie-making, bogart, opal, streaked, hepburns, casablanca, cavalcade, banquet, dorothy, movie-makers, bounded, 2,530, sacheen, skolsky, receipt, overheard, craphouse, tootsie, 67-year-old, culturally, hoffman, dahls, kentucky, barries, depp, poorly-received, scissorhands, chocolat, depps, snuff, loathing, idiosyncratic, unconventional, barrie, retarded, mannerisms, grape, roald, b-52s, infiltrating, surefire, wonka, sleepy, willy, brasco, gilliams, 58-year-old, spiritually, readings, birkin, genet, proust, patti, ex-smiths, exploitative, supergrass, 10-12, manzerana, manzanera, 1972s, eno, roxy, offspring, cfx, sillermans, ckx, hardcastle, â£64.5m, $156m, â£81.5m, cashs, nashville, rpm, drive-in, statler, holiff, dabbled, 174.6, uk-signed, katie, 26,000, $33.6, â£17.7, melua, jameson, â£125, wetherby, 26-28, nme/radio, heavyweights, charlatans, leon, babyshamblers, bramham, fiddler, pixies, marilyn, maidens, dickinson, richfield, dohertys, joness, corellis, mandolin, ex-childrens, filmmaker, smuggles, pellets, condoms, bogota, quirkier, therons, amenabar, swallowing, colombian-born, pietro, alejandro, scoured, seductive, surburban, buzzes, gangster, deliciously, benings, akroyd, 1988s, bening, burnham, carolyn, bugsy, myra, grifters, 1999s, swanks, neurotic, sex-starved, contrasting, eluded, bunker, semi-mythical, tinseltown, dor, inflammatory, palme, aramaic, punky, makeup, foreign-language, snubbing, bush-baiting, well-paced, us$370m, epic-style, nominating, kidmans, eucalyptus, crowe, magistrate, bugging, fawcett, kidman, depardon, hirsi, ayaan, somali-dutch, iraqi-german, hamer, swashbuckling, 60-year-old, nile, douglass, co-produce, angadias, diamonds, percept, romancing, annies, edna, â£306m, brittany, â£468m, $881m, $576m, salmon, bana, gambles, enigma, punter, wagers, â£870, 6-9, 11-day, 24-year, tug-of-love, mcallisters, angolan/french/portuguese, 7,500, salt, critters, commemorate, juliet, leonardo, dicaprios, teds, idaho, 2,277th, ex-cia, â£7.2m, â£750,000, uptight, kurosawa, cantata, hara, 216, chieko, 1728, fragment, dinosaur, soprano, rifkin, recreates, bachs, recreated, palaeontologists, rubiks, bwv, aria, musicologist, pre-broadway, gwen, weissler, verdon, fiscally, applegates, maclaine, applegate, wardrobe, digney, ephemera, longtime, stepdaughter, scrapbook, souvenir, britney, remortgaged, zomba, victorias, â£700m, lloyd-webbers, â£67m, â£75, bedingfield, â£340m, dhani, craymer, americanised, purvis, casino_royale, pitted, zorro, neal, flemings, niven, reinvigorate, mcgurk, sadistic, broccoli, bergerac, nemesis, banderas, minder, chiffre, baccarat, zealand-born, negar, bipin, bihari, jawani, iranian-born, topless, chadti, skillset, 78%, highly-qualified, underpinned, shoo-in, outdone, drakes, rings-style, heavily-nominated, lavished, remodel, recyclers, dearest, fingermouse, $42m, repackaging, e.g, terrahawks, seam, puppet, airbrushes, daring, noggin, sacred, moderately, clunkiness, nog, papamichael, organ, makeovers, luv, bagpuss, citreon, krusty, clangers, m.a.s.k, sprung, pludering, postman, grannies, mega, mock-authentic, trippy, childrent, roundabout, stop-motion, otherworldliness, postgates, chorton, re-gurgitation, entice, sarcastic, willow, bod, remakes, â£11m, battlestar, supermarionation, rehashing, reinventing, cuddly, everthing, torch....hmmmmm, $$$, yoffi, torch, remaking, smiled, rework, mr.benn, re-watched, banana, cg-animated, repackage, reinvention, mungo, wombling, fireman, fingerbobs, magic_roundabout, midge, ufo, saturated, wisp, misty-eyed, mysterious, pugwash, cartoons, rentaghost, drivel, inventiveness, yaffle, bearded, starsky, childhoods, twitch, gandalf, wheelies, rushden, miserably, now-defunct, scarlet, re-workings, 10-15, clipping, c4, flat-cell, joes, galactica, 1977s, furry, yesteryear, clowns, antics, puppets, saphire, backfiring, life-like, he-man, apalling, morph, toons, thundercats, pandy, plany, dougal, catweazle, a-team, grandpas, chorlton, disneyfying, mannequins, reviewers, expat, dungeons, bod.....oh, less-than-successful, muffin, nesbits, extortionate, grearest, gobo, targetted, ear-piercing, australian-born, rooting, sequins, chilly, hepburn_in_the_aviator, throngs, shimmering, reserved, armani, floaty, frock, oc, sparkled, sunshine, limos, schiffer, caramel-coloured, sienna, micha, floor-length, crowed, carpet.\"its, nominated...ive, screamed, bio-pic, gunpoint, pinnies, hotly, beaded, jackal, swansea-born, assassin, â£340,000, trodden, masonry, benefactors, â£75,000, cordoned, over-estimation, poulton, actor-director, repertory, â£242.7m, $458, first-week, sixth-highest, dreamworks, outshining, â£42.4m, â£29.7m, swollen, glands, chelsom, lowell, dobson, boasted, waltzing, braved, ballroom, apologising, showtime, libelling, liver, ate, 25lb, libelled, supersize, mclibel, â£40,000, supersized, goldwyn, spurlocks, harlins, 11-26, stellan, schraders, harlin, sydow, $76m, merrin, frankenheimer, renny, schrader, foreruns, â£40.7m, shelving, skarsgard, cliffhanger, verne, rocco, â£48m, $45m, nikki, amadeus, $436m, vested, $370m, $90m, $259m, â£137m, bestowing, â£952m, â£16.8m, $7.7m, minions, â£4.1m, movie-going, $30.5m, â£52.7m, â£16.1m, $31.8m, $10.85m, â£5.73m, satans, hollwood, er, csis, mendelsohn, tarantino-directed, inlay, jayanti, conterfeit, trademarks, amarishi, â£26,000, buhecha, counterfeiters, mohabbatein, strauss, guilds, tents, karger, glitzy, unprintable, pep, showering, weeklys, adore, tv-viewing, industry-related, gatherings, ton, cinema-goers, cert, shawshank, kane, ide, darabont, flip, scoop, imelda, gaydos, gant, errigo, outwards, academys, mckendrys, dogville, trier, lars, hepburn, bittersweet, oiled, calcutta, prostitutes, indescribable, neverlands, lado, otro, abortionist, stans, evergreen, spawn, briggs, foreverman, hunted, sneddon, neverland, bashir, kites, plied, schaffel, legrand, kite, `dont, bashirs, whore, frailties, symbologist, sulpice, brotherhood, 400-year-old, illuminati, skeletons, braced, closets, langdons, booksellers, vatican, 2046, beautys, curzon, 60-minute, omagh, obst, trailblazed, babysitting, lynda, second-unit, halloween, â£31.3m, rubble, $60m, cluedo, mask-wearing, stalk, voorhees, krueger, re-entered, 596, â£4.4m, munchies, â£788,439, â£507, clip, pere, apartment, lachaise, coroner, clean-cut, jody, quizzing, archivist, soft-spoken, lava, molten, sith, under-13s, 12a, pg, volcanoes, erupting, clones, anakin, darkest, hell-like, pg-13, vabres, veritable, weave, gale, renaud, donnedieu, $239,850, 957, $138m, recut, newmarket, $65.5m, $18.1m, vin, inventor, â£36.4m, $36.5m, $70m, diesels, â£15.6m, $30.1m, â£34.1m, pacifier, $9.8m, â£72m, â£125,000, brody, hobbit, $291, adrien, sebold, â£152, whedon, serenity, dc, bombed, firefly, slayer, buffy, â£102.80, â£1,400, gidley, beith, deletions, 60p, eoc, reimburses, evaluated, taster, 80p, decries, abortive, â£28.7m, thefirst, follet, babes, breasts, jeered, joni, teather, barracking, birkbeck, lovenduski, sexist, wiggle, melons, endure, ex-tory, circs, messaged, missive, ex-no, re-joined, malarkey, trev, tbwa, fuck, tbwas, shd, swears, twats, four-letter, mcfadyen, super-casino, shirking, addaction, criss-crossing, discredited, quashed, rifts, planting, conlon, sincerity, explosives, jailings, conlons, healed, jailing, despaired, passable, inference, whod, cockerell, bremners, confesses, falsehood, three-monthly, sunset_clause, inserted, uneasy, sanitise, ramrodded, gibraltars, chilcott, dominick, moratinos, chevening, gibraltarians, gibraltar, pons, caruana, liaises, postgraduates, mirrored, statisticians, instruct, commemoration, wiesenthal, hated, hier, perished, soviets, brazenly, rabbi, jamess, lower-ranking, insensitivity, scotsman, mcconnells, misrepresent, drank, wiser, macdonell, convener, incurred, pilloried, drunkenness, one-sentence, ill-judged, problematically, distortion, ill-advised, publicised, decidedly, dissenter, revert, tomlinsons, upheaval, half-hearted, 14-19, qca, woodhead, scuppered, sea-change, qcas, four-tier, step-change, high-skilled, e-university, â£44,914, â£14m, e-universities, â£4.2m, kibera, shantytown, cardboard, narobi, huts, allaying, hornsey, overcrowded, perthshire, julys, characteristically, interpreted, reasoned, well-governed, appointees, timor, oporto, â£86m, redeployed, pretoria, kabul, counter-, mbabane, consuls, pyongyang, 6,100, bordeaux, absences, 31,000, academically, 776, â£885m, country-wide, unfaithful, grading, 146, placards, dodd, northumbria, tyne, warcup, pedestrian, liaised, baas, hanningfield, burglars, occupiers, u-turns, mercers, backtracking, staunchest, recently-expanded, i-era, armenians, reneging, deferential, heartlands, faiths, contravenes, overmighty, msc, haverstock, ralph, milibands, leftwing, left-leaning, miliband, longtown, half-hourly, tweedbank, gorebridge, midlothian, dictatorships, elwa, unelected, llangadfan, bolshevik, shani, mostyn, ignorant, choirs, leeks, broadmoor, carlile, reclassification, heckled, shadowing, spurns, labrador-curly-coated, kosovo, casually, schooled, divorcee, liberati, unafraid, censure, emergencies, glitterati, courted, invasions, intensify, conciliator, portfolios, retriever, amalgam, sadie, half-sister, libertarians, airy, 4.5m, woolstenholmes, firefighters, eightieth, riles, duchy, 1337, 140,000-acre, 2003-4, grants-in-aid, counties, fast-track, mawer, casalme, â£180, ex-nanny, retorted, ex-lover, acceptances, cross-border, 23,600, ucas, caldwell, 27,700, cast-iron, consults, fairs, unpunished, carte, anglers, rearing, neglect, enshrined, angling, circuses, exempting, arouses, redraft, welcomes, blanche, mutilation, broom, lamentable, ticked, enclosed, licensees, smoke-free, non-compliance, devolved, miscellaneous, eleanor, exempted, non-resident, template, relegate, reassert, less-enriched, communitarian, havens, pressuring, amitai, fissile, abdul, jay-walkers, pre-emption, carters, gravest, qadeer, highly-enriched, etzioni, axis, osama, yale, gordievsky, latvia, artic, batches, makarov, bedsits, deteriorating, historian, ex-spy, code-breaking, wrung, kgb, â£65,000, repression, m16, decoded, makarovs, spies, ex-russian, home-buyers, uprate, opus, sexually, exam, categorically, dei, 18s, non-white, thriving, segregation, census, one-size-fits-all, oriel, tsar, â£100,000-a-year, ormond, aynsley-green, undersecretary, washingtons, saviour, re-iterate, malnourishment, murphy-oconnor, congregation, mowden, 569,072, darlington, mcb, sher, mcbs, 10,000-vote, 1.1m, fitzsimons, lorna, mabs, disaffection, anti-party, mab, 1.6m, anti-policy, beneficiaries, anti-labour, curtice, erosion, azzam, tamimi, usdaw, hannett, whitefield, turkey-eu, polo, bromesberrow, auctioneer, highgrove, wakeham, pro-hunting, holliday, herefordshire, retrospectively, redvers, huntsman, york, doorkeeper, ledbury, thame, point-to-point, charing, chef, impromptu, handcuffed, hartpury, trespassing, lcfs, dementia, misunderstandings, cmf, lcf, hasty, refusals, legalising, wills, limitation, algerian, certified, pre-entry, unravelling, tolerable, drawn-up, 272-219, re-written, 161-strong, symbolise, winchester, scott-joynt, tinkered, alloway, firearm, tyndall, twelfth, 45-year-old, covertly-filmed, incitement, keighley, variously, thuggish, liverpudlians, grieving, perpetuating, grovelling, bigley, wallowing, henley-on-thames, resonsible, eurofighter, overspend, a400m, over-runs, mods, siff, nimrod, c-17, foe, suitability, reintegration, unaccompanied, brownlees, albanian-born, asylum-seeking, residences, re-registration, retrace, fido, re-register, inaccuracies, pets, redirection, warden, non-british, identifiers, innumeracy, school-leavers, gcse, equivalents, intervals, 2.25, 520,000, unaccountable, 529, endorses, mushroomed, â£1.1m, 60-employee, stem-cell, harnessed, mustnt, nostalgic, grown-up, embryonic, contravene, thought-out, 160,000, frattini, australian-style, holyroods, registrable, tendered, misconceptions, misselbrook, enquiry, prejudicing, mcletchies, advocacy, conservationists, oceanography, havoc, hebrides, uhi, ecologists, conservation, youths, dispersal, asbos, fallujah, insurgency, heavy-handedness, preaching, under-age, davidson, inverness, over-18s, ness, glenurquhart, rapes, evils, sprees, booze, railed, 84,000, baumes, baume, 59,000, 66,000, 53,000, strands, intercept, sandford, energetically, under-estimated, allander, cuthbert, redone, 2022, theirfamilies, radicallyimproved, justfor, ofnew, stresses, ideologically, mop, kidnapping, chained, daubed, jakobi, daub, reconnaissance, consigning, interrogator, zambian, misfeasance, mubangas, combatant, mattress, minimsed, re-valued, 16.4%, rebanding...will, rebanding, deception, torfaen, wlga, â£7.4m, whinging, quinns, inquirys, cover-up, grubby, fast-tracking, foster_carers, â£108.49, remuneration, adss, tapsfield, fosterers, prayer, coward, consort, disillusionment, hrh, mrs_parker, bowles, divorcees, georges, chapel, remarriage, preside, heirloom, 1,313, wife-to-be, ros, anglicans, duchess, salford, disproportionately, alienating, 12.5%, racists, ihrc, imams, legitimisation, islamophobia, victimised, 2003/2004, hannah, â£140, ict, booz, benchmarking, cultivating, hi, e-economy, party,said, 601, 1,981, vindictively, forty-three, communicateresearch, 401, 16-18, lucys, pelham, adoptive, marrow, nutter, sailor, â£119m, 30mph, staggered, breathalysed, drink-drive, motoring, 80mg, aa, bac, 30mg, 100ml, 40mph, 50mg, allsop, cyclists, correspondence, â£57, ex-partner, cs2, 1925, courtrooms, re-balancing, over-ruled, scarman, nephew, butler-sloss, scarmans, electrifying, dispossessed, radicalism, rotten, dicky, janner, nazis, arbiter, contrite, sandhurst, beddow, 6,630, unacceptably, bma, 785, unambitious, kirsty, 708, inpatients, minister..with, 305,775, inpatient, modernising, waiters, 7,613, outpatient, 311,764, 185,000, dint, uk-born, prejudice-based, moore-gillon, x-rays, non-european, evidence-based, terrence, afan, wyn, dr_gibbons, nye, 856,600, kisrty, ieuan, five-and-a-half, hutts, blaengwynfi, 2,400, assemblys, 311,000, aberavon, deflect, woke, receptive, 0530gmt, allawi, iyad, 2230gmt, multi-polar, perceives, presidencies, multilaterally, adulation, scars, guff, cafod, gloating, â£285m, 2003/4, sweetman, wastealot, â£31bn, dross, â£37.5bn, hand-out, rebuttal, marchs, taxing, four-year-olds, 1800gmt, dubbing, family-friendly, â£170bn, deteriorates, coasts, peacekeeping, evacuate, peacekeepers, standby, anti-french, evacuation, gbagbo, colony, 100-120, evacuating, ivory, 2013, 2008-09, heightens, glos, fairford, mackey, escort, coachloads, justices, generalised, chalk-stripe, pants, casino-related, involved...they, vegas-style, spaghetti, mafia-like, rhyme, badger, anti-hunting, otter, baiting, blanket, farquhar, quarry, prevaricated, rabbit, 1215, â£76m, three-minutes, three-minute, articulate, catch-up, frigate, bayleaf, chartering, â£1.58bn, convened, auxiliary, pre-condition, unaccounted, dartmoor, moritz, melton, badminton, mowbray, repealed, unpick, ashford, postbridge, hoey, mcwhirter, hunstman, 10,276, â£644m, â£38.5m, 831, wojahn, administering, â£808m, 8,177, detecting, irregularity, â£35.7m, jorg, weed, 52m, 922, amritsar, holiest, kashmiris, sikhisms, srinagar, kashmiri, roti, islamabad, sindh, muzaffarabad, rwandan, militias, anti-retrovirals, rwandas, orphans, hutus, blewitt, kayitesi, channelled, taboo, pro-constitution, patriots, anti-constitution, enjoined, terribly, shahid, under-represented, malik, women-only, dewsbury, abbot, ethnically, mugged, stamford, expertly, dusk, anglican, dafur, frightening, mugging, rejoining, betts-green, anglian, betts-greens, woodbridge, partybnp, disclosures, ilw, sellafield, radioactivity, millstone, dumpsite, highly-radioactive, untreated, â£680m, cumbria, intermediate, sixfold, decommissioning, â£48bn, purposely, abusers, spats, muddling, scurrilous, afzal, deceive, sukul, vote-rigging, vote-forging, presiding, birch, deserted, 275, bordesley, mawrey, 10ft, unsealed, kazi, petitioners, vote-rig, yasser, internationally-agreed, tomb, insurgent, abu, ramallah, wreath, mazen, disengage, arabic, abducted, abduction, kidnappers, al-jazeera, newly-founded, kidnapped, paddington, inadmissible, moazzams, sacranie, peirce, mi5, iqbal, northolt, appalled, intimidation, enforceable, spiteful, videoing, hares, bicester, masse, mammal, panicky, games...they, flap, recounted, wedge, backward, maleeha, outling, lodhi, totality, veils, grievances, wanless, astonishment, knighthoods, knighting, principally, natwest, beggared, gieve, undertook, beard, bucket, wilmslow, arabs, repressors, stank, ginger, farmyard, corsa, limb-amputators, muck, slurry, 1.28p, polluting, emmissions, rac, convoys, slow-moving, thatcherism, foreword, quagmire, northamptonshire, blot, possibilty, sleepless, nicol, hugill, barristers, 19-strong, manjit, mare, habeus, scannell, anti-islamic, workplaces, unsafe, risking, union-backed, whistleblowers, reps, glibly, brigands, bribers, generators, koh, phi, eileen, exacerbate, alcohol-related, underage, 2am, polices, acpos, 12.30, regulating, carole, mactaggart, two-year-old, densities, ainsworth, one-twentieth, spatial, joined-up, lax, disjointed, zero-emissions, energy-efficient, prescriptive, amandas, sentencers, denham, mitigating, re-legislate, ambiguity, accommodating, opik, landowner, barking, luff, lembit, 6-months, herefords, orthopaedic, welsh-english, overstretched, 151,000, two-fifths, moynihan, club2school, â£41m, tenets, intolerant, illiberalism, faith-based, intolerance, demean, badly-taught, â£2,450, slop, eczema, slopping, barlinnie, probabilities, robber, buckets, heartened, remand, macaskill, napiers, reassurances, reassured, coatbridge, blond, 9ins, approving, unescorted, sightings, jeans, complexion, psychiatric, minimised, apportion, fianc&#233;e, 5ft, clarification, snps, annabella, high-security, carstairs, ryder, cambridgeshire, refurbish, minety, encampments, traveller, caravan, amenity, gypsy, cottenham, yield, provocateur, meibion, fire-bombings, maniffesto, unsolved, llwyd, merionnydd, nationalist, f&#244;n, nant, llwyds, s4c, arson, cottages, fire-bombing, glyndwr, plaid, discrediting, conwy, pembrokeshire, nationalists, shadowy, aubrey, llyn, dafydd, elfyn, ex-welsh, fugill, mph, jeffries, upkeep, balfour, derailed, pottage, tuxford, lea, railtrack, hatfield, alcorn, pease, monkhouse, beattys, railtracks, looms, revolved, 0001, culmination, quorn, 203, authorises, 297, quicksand, falconer, hydration, anti-competitive, all-girl, tai, chi, hoops, inter-school, agility, southwark, ring-fenced, infringes, deprive, abut, negligent, say-so, polytechnic, denounced, hospice, eurosceptics, wrecking, anglo-irish, unionists, lobbyist, deselection, maze, discord, sdlp, derelict, kawa, kurd, kalan, welshpool, swanseas, taha, births, karim, mosque, uaf, idris, civility, imposes, whittingdale, climbdown, scaring, cobham, jowells, pervez, myron, warmest, umbilical, congratulates, kerrys, ebell, anew, jacks, snookers, truant, o-levels, smoky, reardon, meo, whirlwind, truanted, snooker, coordinating, habib, godsiff, contravention, lawlessness, no-mans, mamdouh, human-rights, member-states, disagrees, opt-in, streamlining, qmv, odonoghue, sodomy, allocation, tsunami-size, invade, us-friendly, greenhouse, kyoto-lite, blushing, 24-drinking, re-examined, nightspot, hayman, preparatory, objecting, policeman, binge, classifications, 18-rated, chainsaw, responsibly, 487,939, two-bit, wades, metric, mallon, exerts, robb, ne, tomaney, mallons, country...then, campaiging, inconvenienced, responsibilty, dreadfully, culled, reimbursement, livestock, pyres, invoices, vet, lackadaisical, preparedness, â£349m, sps, ever-expanding, reconvicted, council-controlled, revolving, spss, correctional, dispensation, conclusively, tutus, tutu, so-and-so, safely, desmond, praetorian, scandalous, mornings, gurkhas, 94,000, gurkha, rifles, post-tsunami, helicopters, annan, kofi, syrias, exerting, pa, freelove, lanning, pass-holders, impersonal, uk-wide, pickets, aberystwyth, welsh-speaking, piers, pcsu, concurrence, huttons, defeatism, yardley, howden, saddleworth, taunton, holborn, non-repayable, eastbourne, haltemprice, gorton, reintroduce, lonsdale, canterbury, westmorland, pancras, finsbury, orpington, withington, wardens, necks, mortgage-style, newcastle-upon-tyne, suicidal, hanged, ill-suited, glaringly, robberies, exhibiting, corston, registrations, â£135, rimmer, amoah, jcwi, beynon, sham, specially-designated, liechtenstein, marriages, registrar, illegals, solana, solanas, phone-taps, phone-tap, troublesome, bigots, parkhead, sectarianism, sectarian, bigoted, anti-sectarian, 44,000, condemnation, competently, overstate, 1,943, unjustifiably, gestingthorpe, deprives, woolly, erode, tram, distasteful, tasteless, mennear, superimposed, winged, finchley, depicting, overstepped, torys, uk-controlled, father-of-two, receptionist, ferstman, uk-run, mousa, shiner, carla, colonel, baha, mousas, ethically, barras, trawl, englishmans, lawfully, unconscious, self-defence, one-sixth, guideline, woolf, watered, deterrents, doorstepping, gavron, ill-prepared, interfered, taxpayer-funded, humberside, coppers, huntley, welling, non-emergency, soham, shirk, invoking, walkingtons, communicated, walkington, mischief, â£143,000, endorsing, dumfriesshire, stirling, foulkes, renfrewshire, marginals, guardsman, ochil, undoing, steely, hendry, inflicting, distinguishing, patrolling, confrontational, discernible, begging, symbolically, convinces, 4-5%, â£325m, â£8.1bn, payer, rationalisation, mccabe, â£419m, cosla, shredded, shredding, mandarins, self-serving, 37,000, unflattering, fisheries, fraserburgh, peterhead, harvesting, finnie, fact-finding, conserve, westminsters, embryo, dfes, lovell-badge, pro-choice, anti-stem, embryos, reproductive, genetics, allocations, rothwell, developmental, argyll, amalgamate, colonels, envy, flexibly, single-battalion, fusiliers, moulding, borderers, armies, highlanders, super_regiment, well-off, howells, postgraduate, hefce, deferred, aspire, newby, vice-chancellors, neighbourhoods, swaminarayan, neasden, shri, mini-manifesto, mandir, shipmans, plain-speaking, countering, dover, volition, government...has, pheasant, regrettably, lorries, formers, plumb, thirdly, tuppence, intimidatory, â£79.60, lobbies, haulage, repealing, 1.92p, ideology, consumerism, â£105.45, mis-selling, pertinent, disguised, upstage, seething, sneering, once-famed, long-arranged, flames, umpteenth, witney, amply, ex-aides, haskins, media-only, mammoth, pronouncements, behind-closed, majorities, chatter, swayed, uninterested, captivity, sulk, unnerved, of\"squabbling, self-obsessed, insurrection, campbell-savours, threatend, poisonous, hugely-disgruntled, spines, briefers, sniping, starkly, jeopardising, childishness, fictions, widely-held, nicki, lorraine, donnellon, dues, smooth-talking, hylton-potts, irfan, carman, inuit, chancing, 59-year-old, mackenzie, self-publicists, ex-itn, evict, drunks, oddie, mackenzies, eccentrics, chapman, maitland, one-liners, giggles, druid, guitar-toting, well-crafted, re-engaging, hanif, haircut, corrupting, amicably, throats, mantras, regency, mind-bending, scooby, thoughtfully, dandies, side-door, decked, crackled, doo-style, sgt, side-by-side, trundled, ill-at-ease, dressing-up, psychedelic, approximation, billingsgate, microphones, surest, chic, mgs, camper, soberly-suited, chit, wig, tattle, tittle, heinous, mouths, selfishly, snowball, exhorting, post-neo-classical, convict, rationally, perverse, 283,000, parable, wonks, induce, allocating, solomons, ensues, adulthood, unbroken, apprenticeship, nudge, sundar, katwala, descent, out-dated, despatches, clintons, not-so-secret, nexus, ideologue, bureaucratism, mediterranean, re-negotiate, soundbites, shocker, unreformable, infections, feckless, 14-16, letwins, precisely-calculated, showings, resolutely, atlabours, populus, â£336m, â£153m, 163, â£1.6bn, 1906, self-delusion, hopers, 229, unfettered, 206, distrusted, aspic, nurtured, discretion, chancellor...no, is...whether, hykeham, burnt, ridding, heartfelt, clenched, schoolgirls, missionaries, vine, abstentions, incompetence, broadside, 52-year-old, blair-brown, bannatyne, salvoes, rymans, garish, taxis, scooters, inefficiency, â£13, welfare-to-work, hallmarks, crack-of-dawn, unstained, tightly-timetabled, â£22, dripped, irene, passivity, hope-monger, secretary-general, laments, sas, succour, affirmative, consensual, co-existence, expulsion, rancour, knapman, backsides, 16.1%, nagged, betraying, spokespeople, hidebound, inefficiencies, hard-won, overspending, burgeoned, improbability, misrepresenting, foment, tory-labour, gravitate, supplanted, recommending, melted, tutor, islwyn, amos, tredegar, rebellious, far-left, firebrand, royall, callaghans, pengam, glenys, blaisdon, policemen, neutered, she/he, insidiously, example.this, shelters, totalitarians, eloquently, interned, philosophers, gchq, ceausescus, distorts, superficially, movers, habeas, roundly, mass-hysteria, rakes, humanly, roughshod, liberties, hobbes, well-thought-out, josef, resentful, uttered, propositions, semtex, u.k, forgets, sleep-walking, flatten, derogation, denunciations, imprison, over-protect, fanaticism, paranoia, stalin, posterity, quraan, inla, fatah, publicising, futilely, pretends, duration, duped, collusion, politically-correct, self-reflective, nightmares, tyrants, verbalise, totalitarianism, freddies, lunatics, misguided, ny, genocidal, point-, forsythes, charge/trial, shatter, competence, mortal, scruffy, plutonium, forsythe, blockade, un-british, perpetuation, sheltered, liberate, frederick_forsyth, overstepping, probability, precautions, alienation, ricin, gagged, indiscriminately, kilo, penetrate, her/his, instituted, indeterminate, nuked, talking-down, fundamentalism, no-jury, barbaric, wmd, craftily, informants, undue, long?they, ex-ukip, aspired, czechoslovakia, reich, nattrass, farage, off-air, batten, sudetenland, unfeasibility, german-bashing, dithers, sceptic, rk-s, pro-europeans, splintering, pompous, energies, self-publicising, midstream, ego, eventuality, super-state, anti-islamism, constituent, irrelevance, vacuity, straight-down-the-middle, steed, diminishes, humankind, anti-europeans, coup-detat, nauseating, anti-european, clown, -silk, egotist, small-mindedness, euro-sceptic, mouthing, smoke-screen, proportional, slurs, ridiculousness, exhaust, euro-enthusiast, tiff, chauvinistic, wrecks, dangerous.the, vain, 290,000, firsts, 2,838th, 1812, subscribed, leo, 1848, longest-serving, perverting, tebbit, vindictiveness, perjury, forgiving, prostitute, perjurer, elapsed, over-75s, realities, dental, â£630, polluter, reintroducing, 50-year-old, dunstans, pro-iraq, eady, galloways, hamlets, repeal, husseins, shamelessly, anti, stooge, stepney, anti-union, borough, stilts, thorpe, makings, labour-led, mulled, encountering, stickling, hoc, conservative-liberal, memo, thorpes, unravelled, two-fold, â£3.13m, â£1.7m, â£1.19m, â£404,000, outspent, â£2.36m, greens, rhetorical, spontaneous, thatcherites, conversational, transporting, sexing, keenness, alastairs, gilligans, defect, unilateral, wantage, fair-minded, denunciation, rightwards, clwyd, meyers, normandy, 20-year-olds, rafferty, devalue, snatches, smiths_departure, non-story, breakpoint, grilled, waterson, likening, winkfield, â£7,000, property-based, â£340, revalue, all-women, lyn, ashok, under-representation, cre, vishwanathan, multi-racial, hereditaries, largely-elected, 385, bishops, mscps, facey, lieu, â£45,001, wadi, portillo, â£560,000, declares, indepen, widdecombe, â£5,001and, front-bench, ex-health, six-figure, â£85,000, aunt, â£205,000, bridgepoint, sultan, â£135,00, â£195,000, agony, paperback, single-bedroom, sightseeing, â£5,001, â£820,000, hagues, â£480,000, â£71,433, serialisation, â£8,170, â£325,417, totals, powderject, magan, bequest, â£161,840, drayson, â£11,724,929, â£10,575, refrigerator, haughey, â£330,000, chests, hambro, philanthropist, bearwood, affiliated, ondaatje, â£63,081, beardmore, â£4,610,849, â£400,000, pent, pr&#233;cis, proceeded, 1441, justifies, non-publication, lawless, hockneys, defectors, hulme-cross, silks, gla, morals, instinct, laxton, norths, stammered, exasperated, ramming, blushed, morgans, mis-transcription, skidelsky, doctored, ned, temko, inextricably, centuries-old, hypnotism, ellman, hypnotist, hypnotising, reviving, apologies, reminders, smearing, quashes, 6,932, erewash, tiptoed, battlegrounds, nastiest, `burden, alternatively, xenophobia, parmjit, katrina, parbutt, shipyard, zeal, saxon, telford, doorstep, lays, supremely, tieless, feelgood, keener, pms, stewards, shipley, leanings, spence, rouse, bravura, porterhouse, exclusions, sharking, tenants, refurbishing, â£42bn, right-to-buy, jacqui, open-minded, year-olds, â£170, paternity, grandparent, illiberal, carer, deductible, â£23, cutters, devlin, turnour, candidacy, folkes, horsham, aprils, 1695, 1904, bernadette, inter-planetary, pea, slopes, mushy, noticing, italics, galifray, cunningly, pre-election-campaign, dictating, outlining, single-issue, 1,132, politicisation, inconspicuous, supersede, holme, cooperate, informative, well-understood, nudges, winks, democratically, centralisation, undimmed, strive, margherita, evesham, academies, donned, worcestershire, egwins, dinghy, wayfarer, instructor, bromsgrove, mendaciously, blair&#191;s, damning, windswept, over-slick, punched, storer, harangued, unwashed, marching, falklands, coppendale, enthuse, flagellation, interviewer, eggs, somebodys, egg-throwing, masochism, soapbox, belgrano, stomping, phone-ins, memoirs, artful, sharron, kinnocks, questioners, granger, maxim, freakery, grilling, â£520m, over-complicated, bush-style, raynsford, reallocated, â£512m, 2007-13, â£11, thereabouts, â£5.60, incurring, doorsteps, precision, larder, pore, re-casting, limb, handouts, demeanour, redistributive, glossing, minister-in-waiting, iniquity, patching, â£450, conjured, mockingly, â£168, 560, knifes, curable, pandemic, deadliest, inducement, six-day, â£60m, domenico, siniscalco, inseparable, inoculations, actionaid, decimating, inoculation, co-ordination, â£27bn, strasbourg, tardy, restating, homeowner, are...consulting, carswell, hale, non-roma, czechs, documented, sceptically, pre-clearance, prague, discriminatorily, discriminate, steyn, bleakly, sayeeda, downdraft, contraceptives, islamaphobia, sikhs, hindus, warsi, unregistered, prentice, undercutting, exacerbating, anxiety, bled, neurosis, 2007-2013, contributes, re-energise, 2007-2008, â£263,000, value-for-money, 80th, â£111, â£63, â£120,000, â£4,895, â£275,000, oaps, avoidance, rides, pint, same-sex, 7p, carvel, dalton, discourtesies, tyrie, pheremones, night-time, pheromones, daylight, follett, quash, perversion, unpalatable, steamrolling, madrid-style, ians, tangible, â£4.85, 75p, insinuation, manpower, decreases, â£2.75, 2/3rds, fudge, hardship, purr, sweat, â£4.10, degraded, underpaid, â£5.35, setting-up, uni, stinks, smes, 18-21, better-run, unattractive, folds, &gt, â£9,000, 50-60%, disturb, rich-kid, sweatshops, â£60, â£4.25, foresee, whines, br, simplistic, â£6.00, â£5000, spellar, lowest-paid, unglamorous, hardworking, jubilation, 20p, 3x, apprentices, 50pc, fat-cat, overtime, â£5.05, laze, consciences, ancillary, portering, decently, protestations, â£6,000, evenly, 801, city-dwellers, countryfile, 2,234, sanctuary, 16s, 175,000, adherence, wire-tap, phone-tapping, stafford-smith, confining, security-cleared, neo-liberal, thereafter, immunisation, gavi, mortality, â£0.53bn, compassionate, machimura, quantitative, embargoes, china-uk, nobutaka, downright, â£33.5bn, overbearing, ladyman, dogmatic, burstow, 1.7m, under-funded, antithesis, dependency, reclassified, fallon, folly, heathcoat-amory, ex-conservative, impugning, centralises, entrenches, cryer, britishness, missionairies, imperialists, mardell, 17-million, internationalism, unilaterally, addisons, 325,000, 400th, sprinkled, fawkes, bonar, maids, hive, 1606, transcript, divorces, jessys, re-marriage, maid, vistas, addison, vellum, 1689, mistresses, parchment, marital, woollen, frideric, 1727, trawling, break-ups, adultery, 1497, coachmen, 1801, protestants, 1670, 1834, protestant, handel, blow-by-blow, laugher, amelia, protestation, 1642, jessy, take-home, self-employed, impetuosity, lurches, tax-raising, non-event, bn, 2001s, panics, 050505, abolition, slaps, peradventure, systematic, stevenage, 680, flagrant, insofar, segmented, mailings, handbook, presume, frontbenchers, endorsement, tanguay, catholicism, instructs, maastricht, sloughs, arundel, deposal, oulds, egm, ex-pm, mourned, attlee, idi, 93rd, hattersley, amins, audrey, uncollected, garbage, gravediggers, marr, whips, recess, grasped, centre-stage, usurp, three-cornered, tatton, unwinnable, misrepresented, 22-week, tantamount, anti-abortion, terminations, heeled, communion, criminalise, commend, abortions, party-wide, devotion, eldest, lecturing, macaulay, cooked, delights, vengeful, hothouse, columns, granita, brown/blair, 1915, canvassing, marguerite, encroachment, ex-king, rosyth, hearsay, ex-cabinet, soweto, pauls, cronies, tonys, laughed, boatengs, chord, ley, 299, mid-bedfordshire, odell, sayeed, unreserved, de-select, contrasts, footing, browhills, hains, lampooned, sholto, stepson, no-hoper, larissa, whopping, by-product, flags, trainee, aldridge, ad-libbed, unitary, stockton-on-tees, stoke-on-trent, sainsburys, liability, tradesmans, sittingbourne, tad, 5,907, 14,738, hythe, decapitation, 20,645, folkestone, harrogate, fifth-fastest, re-focused, scotland-born, britton, currentily, etienne, mccambridge, long-course, agio, cobh, santry, fionnualla, recapturing, resuming, 0.02, boldon, 9.87, conserving, greene, 6.39, ato, de-mystify, lamine, namibian, diack, nutrition, 7:39.89, 14:39.29, slovenias, adera, 2:01.52, out-kicked, 32.93, 6.63m, miscounted, 7:41.42, 5.05m, 6.46secs, 4.89, commits, winters, 5km, ashia, fazed, top-level, kosenkow, 1.76m, 21.72, 37cm, 6.56, off-colour, vomiting, 21.07, 7.35, 13.86m, balkom, 21.58, ghent, 6.67, 16.50m, gregorios, arron, jadel, nia, zara, 32-strong, lesters, reina, ovett, half-dead, okken, 46.68seconds, arnoud, everest, mcilroys, bogdanov, dmitriy, german-based, costas, michalis, mid-march, dimitrakopoulos, canadas, 7.09secs, 3:49.78, eamonn, season-leading, 7:46.78, 0.19secs, 44.63secs, brannen, 1200m, fayetteville, 10secs, 1.45secs, 49.89secs, merritt, 44.93, 7.51secs, lashawn, 44.66secs, bershawn, 7:40.53, coghlan, satisfactorily, 10k, ka, proviso, salvage, short-course, hind, 14.74, cherkasova, dehiba, doping-related, five-member, uphold, testified, papadoyiannakis, yiannis, recently-crowned, kilometre, outsprinted, assesses, galmier, gunnell, after-, eaa, 10.04secs, 20.13secs, budapest, 4.91m, probem, cobhwoman, mckees, gamely, scraped, underachievement, injury-plagued, candidly, happenings, clubman, andys, 3:39, pre-olympic, olympiad, wagging, undignified, lombards, athletics-loving, cathal, amazingly, 5k, spikes, injury-ravaged, tongues, craggs, 21.00, mckiernan, transpired, delude, unaccountably, mckee, catherina, bearer, musselburgh, dougie, racecourse, goon, nandrolone, half-decent, abiyote, abate, gebrselassies, 04.69, overhauling, wondimu, mulugeta, nip-and-tuck, hicham, finisher, gloomier, papered, commentating, bouncebackability, testosterone/epitestosterone, usadas, rogge, hungrier, appreciative, no-win, well-earned, wide-reaching, staten, liz, undulating, tick-list, olympians, 26.2, repercussions, examines, has-been, impulsive, usatf, 12.37, joanna, jesse, 9.85, 1936, erasing, bursts, record-holder, dredge, karate, commenee, connor, thrower, curling, narcolepsy, flaxseed, korchemy, cheat, wrongfully, innuendoes, sacrifice, greeces, motorbike, olympics-accredited, rehearsed, tarnished, karmis, ioannis, haralabos, dimakos, testers, konstantinos, perakis, eyewitness, panagiotis, presumed, stilianos, hrisanthakis, motorcyle, almeria, hailes, illustrious, gharib, stefano, jaouad, baldini, tergat, arch-rival, grigoris, thanous, ioanidis, jennings, margot, spasm, galan, early-season, pronouncement, gnaw, emphatically, loneliness, wilt, daley, unquestionable, tick, one-hundreth, 8.47secs, 2:04.45, eight-minute, mcilory, 1.80m, 1.90m, 4:19.11, 46.46, 53.45, 4.25m, 47.96, 16.76m, 3:45.87, tearful, 7.96m, 7.91m, 1:48.32, 56.86, sub-eight, janine, hurdlers, londoner, kwayke, 47.97, gillick, offaly, 3:48.82, willowfield, 02, 2:06.73, sheffied, 4:31.34, 3:45.86, 8:11.22, half-a-second, orourke, bogle, lisburns, mcsweeney, 46.45, mcneice, 7.37, 3:46.04, derval, aoife, 1.87m, ailis, 8.06, motored, 7.48, 21.01, 1:50.87, 2.20m, 7.82, 23.67, 5.25m, 13.77m, 49.87, 3cm, 9:05.73, 20.94, taniesha, 9:05.00, 2.16m, 7.83, 27-year-olds, scanlon, 17.64m, 6.43m, thunder, 15.27m, allyn, swain, 23.68, sothertons, 13.28m, myerscough, 7.58, willowfields, mclaughlin, midweek, nine-times, pollock, pacemaker, slovenians, 46.68, ricky, sparkassen, mulle, wolfram, simms, teag, 0.90, mixed-race, 2:17:18, storming, oyepitan, backleys, annus, tumbling, silvers, abi, cobblestones, campell, clouded, rutto, mutola, kenyans, macey, mistiming, livened, discus, fazelas, korzhanenko, okayo, stanozolol, moroccos, harriers, southall, warburton, baddeley, basildon, mayock, farnham, beagles, belgrave_harriers, herne, middlesex, achike, aldershot, preddy, woodford, farah, shaftesbury, not-so-pressurised, barnsley, crawley, wessex, hounslow, cossins, double-olympic, 46-strong, barnet, strode, 35.39, muna, 22.38, 8:41.43, alleyne, 20.88, 7.13, aderes, melissa, tariku, rust, francique, jamaicas, 8:14.28, 6.66m, 45.91, 3:35.27, 33.05, ominously, pre-european, 6.52m, moroccans, agnes, centimetre, 52.98, 4x400m, pace-making, melanie, false-start, samaria, hennigar, warm-weather, lanzarote, abdomen, leukaemia, 15-and-a-half, pressurised, tsunami.steve, tanni, pascoe, website.he, redgrave, hospices, heringsdorf, bak, justyna, holm, olga, kallur, 51cm, oke, tosin, 22-event, adrift, 16.87m, djhone, botched, 7.23secs, 6.62, persson, verdecchia, 5.65m, recurrence, 15.80m, 6.39secs, fedorova, rund, sharpen, 4x200m, kipchoge, asi, gebre, eliud, berhanu, dejene, morpeth, baddeleys, 5000m, lasp, gebremariam, 6.2km, 9.2km, bute, damen, six-kilometre, inter-countries, reebok, glynn, tromans, 9km, banos, 6.6km, internacional, ines, venta, dinkessa, 31:41, abebe, 33.22, burka, monteiro, 30.26, 10,500m, 10.6km, gelete, dope, spearate, vassilli, reponse, vassilis, refered, prejudge, substantiated, romped, masais, amorebieta, timbilil, five-second, 22secs, edinburghinternational, zornotza, 51st, caledonian, ultra-consistent, tulu, tulus, derartu, vivancos, dorival, 0.04secs, 7.64secs, 7.60secs, cagigal, 7.63secs, kronberg, 7.62secs, haitis, 12km, wollaton, 8km, childish, vima, mbe, hundredth, pre-race, coby, baton, admissibility, illston, balcos, evidentiary, unaided, toes, korzeniowski, cryotherapy, pool-work, jamies, 50k, tightens, limerick, needles, crutches, centigrade, rods, mcevoy, nitrogen, thinking:ok, cortisone, matter-of-fact, pelvis, ambulance, pelvic, vertebrae, twice-daily, mater, acupuncture, spala, 91kg, heartbreaking, broadening, 86.9kg, quinton, pistone, yobo, kilbane, heintze, hibbert, naysmith, idolised, hesitated, carsley, osman, outpaced, jeers, plessis, centre-half, butting, detrimental, headbutt, headbutted, centre-halves, overreacted, five-year-deal, scotland-england, accommodated, de-motivating, substitutions, tardelli, hossam, shalaby, methat, exerted, presss, overreact, midos, shehata, pharaohs, marshalled, 47,111, side-footing, monotony, inject, nevilles, pin-point, laboured, tepid, bradley, kiki, jole, willian, ferreira, hushing, 78,000, rock-solid, quickest-ever, nunezs, mins, irishmans, djimi, powerfully-struck, pellegrino, ferreriras, lips, 112, dangerously, well-organised, pidgeley, hush, 79th-minute, drogbas, 110th, sidefooting, cynically, 50,430, 69th, re-taken, giannakopoulos, carrs, snap-shot, wanderers, fadiga, jaaskelainen, haim, frustrate, te, okocha, ngotty, jussi, jaidi, 10-game, striding, campo, boumsong, hierro, dyers, jay-jay, hreidarssons, kishishev, jeffers, 74th, szilard, reiziger, bartletts, mopped, queudrues, hreidarsson, 29,603, konchesky, charltons, doriva, southgates, parnaby, nemeth, riggott, southgate, joseph-desire, karkouri, kiely, hermann, riggotts, euell, queudrue, capitulate, mcnaughton, quarter-of-an-hour, archibald, prodded, dodds, 8,661, byrnes, whelans, heikkinen, esson, robsons, grady, cute, perfectly-weighted, brebner, busier, malone, mensing, nervy, harty, stephane, bollan, glanced, rout, 0-5, balmer, gilhaney, floundering, half-an-hour, arbuckle, flare-up, 8,200, wyness, moilanen, livi, kizys, gabor, centre-circle, meldrum, neilson, lothian, 9,796, dair, ferenc, berra, horvath, bahoken, lilley, stanic, loop, freeland, cesnauskis, skimmed, goran, burchill, hartley, easton, outjumped, deloumeaux, mcpake, meldrums, vincze, meersseman, chiropractor, arjens, cudicinis, keenan, untried, hudell, deputised, tillen, romas, dacourt, dagblad, algemeen, fractures, metatarsal, mokoena, wavering, mladenovics, dragan, mladenovic, 20-strong, out-of-favour, jauregi, veil, stack, kop, shiniwatra, ajar, benefactor, modern-day, multi-millions, re-shaped, hawkpoint, dodged, underscore, 60,000-seat, traditionalist, â£120m, warding, sven-goran, erikssons, counterproductive, equalise, athletico, ronaldino, reduces, espanyol, barcas, torres, bees, 12-13, upson, summoned, ledley, makeshift, pre-conditions, k3, reprieve, mcintyres, tannadice, mandic, leverkusen, drags, tendinitis, 25-man, get-together, sardinia, moldova, respectability, carrington, under-21s, motherwell, gabbidon, gabbidons, bluebirds, delaney, tranmere, earnshaw, ricketts, coyne, hams, koumas, mccarthys, physique, mcgeough, larnes, inver, portadown, ifa, ejection, newry, mccreadie, 54th, kerrs, basel, fai, 10-match, penultimate, murambadoro, tirana, etchi, bnei, agoye, hapoel, haifa, sakhnin, esperance, masudi, partizani, albanias, congos, $125,000, miresmaeili, vahid, hashemian, maccabi, head-butting, barwick, mikael, intimidate, punctuated, escalated, 9.3, chap, kezmans, 150th, drab, 42,093, lethargic, enliven, likelier, accidently, ricochets, giordano, rijkaard, fewest, deco, cate, frisk, line-ups, fourth-choice, garry, edelman, heerenveen, boavista, stretcher, kyrgiakos, 11-game, 18-yard, mccurry, buffel, waterreus, rab, foxed, lovenkrands, ricksen, latch, namouchi, confidently, dispossesed, sotiris, vignals, wrestling, heartss, cautions, dallass, over-zealousness, 10-games, 90th, saulius, barged, selhurst, nixon, kung-fu, cantonas, masks, dorp, huizinga, michels, clemence, knvb, ross-van, cologne, neeskens, rinus, 1965-71, pamarot, noe, last-eight, gaffer, helguera, doblas, solari, santiago, revelled, betis, tomasson, cheekbone, shootout, ancelotti, kaka, serginho, goalscoring, talisman, rui, rushs, manager-of-the-month, aizlewood, chesters, homesick, impersonated, berated, dudeks, franca, berbatovs, dimitar, `who, centre-forward, re-sign, nolberto, peformance, dejected, magath, cannisters, â£16.5m, rankles, electrician, blowing, cafu, kampen, 32-year-olds, stam, jaap, dutchmans, honeymoons, fervent, stavanger, 54-year-old, bautista, juan, steaua, darius, vassell, season-long, alleviated, carlton, tonge, bromby, pacy, tame, 27,595, haystead, thirlwell, kennys, kabba, jagielka, owusu-abeyies, warnocks, eboue, gearys, half-chance, geary, tonny, bruins, koeman, krol, waalwijk, falling-out, canio, rofe, alcock, seven-match, cop-out, condone, remonstrating, einhoven, adrianos, gilmar, clandestine, slapped, crossley, taunt, 66-year-old, decorum, fas, scapegoat, lenient, bullfighter, flores, â£2,060, islero, manolete, sportsmans, gaizka, teessiders, hernia, 2115, mendieta, substituted, humility, rs, holloway, rossi, loftus, generoso, 961, commencing, calms, 151, fowlers, ex-reds, soul-searching, money-orientated, title-winning, cheapened, savoured, beckon, diabolical, triumphs, sprain, fully-fit, spicy, clarets, matteo, disposed, oster, moor, cotterills, 2000/2001, micah, mcgreal, hotpot, solent, oakley, torquay, craven, svensson, frampton, saux, carrot, millmoor, sodje, deon, eventful, dochertys, gaal, envious, derby-fulham, bromwich, albion, burnleys, 19/20, luigi, highly-experienced, anouncing, candelas, neris, second-from-bottom, canaries, toffees, 81st-minute, top-flight, norwichs, toon, 49-match, mini-crisis, ill-feeling, tasting, sweetest, excites, shuts, player-swap, augusts, double-header, baxter, bafana, mini-tournaments, botswana, curepipe, mini-tournament, malawi, &#163;8m, cash-plus-players, â£3m-plus, ormerod, kenton, televising, exeters, wolverhampton, sivabaek, defiantly, sacchi, arrigo, klinsmann, alumnia, departing, hassel, botafogo, juninhos, keegans, oneills, play-maker, hassall, unearthing, hill-wood, fiszman, www.arsenal.com, rubber-stamps, arsenes, 55-year-old, pardew, stitches, tempers, re-iterated, stipulates, drug-testing, fifas, £15.8m, read:\"we, mutus, verroken, heinzes, leg-breaker, collision, collided, arch-rivals, three-game, minimise, dinamo, fiorentina, juve, moggi, luciano, complying, instal, scandinavia, 8/9, yeading, stockport/swansea, money-spinner, hinckley/brentford, ryman, crewe, swindon/notts, third-placed, scunthorpe, non-league, stale, germain, arnesens, forward-thinking, ideals, caretaker-boss, archie, midfielders, passionately, pel&#233, copa, spearheaded, dribble, ballboy, tevez, s&#227;o, boca, reams, corinthians, feint, gandula, restless, tranquillity, metropolis, appalling, gandulla, ambushed, vacate, paulo, acquainted, vasco, libertadores, disorganized, gama, hounded, palermo, fensao, edus, amadeo, invective, call-offs, vitae, magician, callow, 56-year-old, dumbarton, adroit, bowen, jansens, freak, lorenzo, jansen, amoruso, amorusos, 3,803, saah, haslam, corden, zakuani, pilkington, mcintosh, wardley, orient, artell, white,mackie, mansfield, donny, newey, leyton, carlisles, lockwood, ibehre, warne, mcmahon, dimech, chipolopolo, negras, overseas-based, palancas, zambias, kalusha, zambians, portugal-based, bwalya, lusakas, volvi&#243, vargas, loco, ugliness, yourselves, chilling, marchena, nappies, coachs, beams, multi-culturalism, booing, marcas, witch-hunt, guillem, united-arsenal, balague, miscreants, garrido, bernab&#233;u, ps, galacticos, casillas, lauding, montenegros, xavi, naivety, matchwinner, sniffing, run-out, duffer, five-four, hatful, slaughtered, prioritises, highly-impressed, three-against-three, calming, solidifies, priceless, ngom, nfor, 89th, boukar, cloete, thokozani, kumasi, ghanaian, cotonsport, sable, cameroons, douala, 27-28, accra, garoua, nzame, kemadjou, makaji, agyemang, kotoko, batie, 35th, cameroonians, bortey, xaba, curbishley, jonatan, cis, henrik, one-sided, mcclarens, boudewijn, 128-year, coruna, depor, irureta, deportivo, andrades, jorge, makofo, leroy, pacquette, lita, ntimban-zeh, puncheon, 30-yard, dinning, tapp, amankwaah, oyedele, 3,367, chorley, ldv, anyinsah, herve, orr, mckoy, pitman, warrington, mcindoe, 1,375, beardsley, mcindoes, rigoglioso, priet, parkes, mawson, morley, 105, coppinger, purdie, stansfield, mkandawire, tierney, fenton, 1100, molineux, vigo, workrate, celta, kanu, seaman, perreira, recharged, joses, top-four, barren, three-and-a-half-year, hamburg, hitzlspergers, hitzlsperger, hackett, neale, tremble, free-kicks, ex-england, glenns, amibition, masterminding, mandaric, lowe, perimeter, ejected, refrained, paphitis, missiles, millwalls, paragons, ferguson-wenger, aggressors, reprimanded, peacemakers, diatribe, thank-you, revel, proudest, bremen, wonder-strike, werder, internazionale, well-beaten, under-achievement, flack, volleying, gaia, baying, hiley, messed, jeannin, ampadu, grecians, goalline, devines, afful, sensed, devine, jeannins, 89, 9,033, djemba-djemba, fawcetts, shortstop, garciaparra, foudy, 276, back-burner, nomar, prolific, frey, parmas, schwarzer, hairy, top-of-the, sar, rosenborgs, shot-stopper, fulhams, edwin, assistant-manager, kevins, einstein, gmr, separatist, eta, basque, nihat, gara, sniffer, ser, guti, kahveci, albacete, frustratingly, knockback, unruffled, nicked, quickly-taken, penal, 38,153, brilliance, faregas, subtitute, matthieu, aplomb, sidefooted, jinked, astiazaran, pobreza, partido, zidanes, fiesta, socieded, confirned, goalposts, 9.15, ceremonial, non-offending, slavishly, aftenposten, dishevelled, dubliner, eastlands, outfield, lorimer, 73-year-old, firefighting, hand-over, thorp, 0227, arch, mantel, cheques, dea, yvonne, â£103m, krasner, kilmarnock, novos, dug-out, mistakenly, â£62m, wardle, psg, bosman, apologises, laurels, cools, lomana, deflects, feign, bust-up, boiled, villareal, partizan, villarreal, hafnarfjordur, primed, left-sided, hallfredsson, emil, fh, u21, rouxs, auxerre, three-and-a-half, olof, olearys, bruces, amibitions, mellberg, one-to-one, challenge.\"earlier, toni, jesper, gronkjaer, â£1.4m, munoz, djibril, propostition, robertsons, ferencvaros, threadbare, out-of-contract, basle, patrik, reflexes, match-winner, persies, flutter, bergkamps, teased, linvoy, aiyegbeni, scraps, 20,170, punch, bergers, vieiras, garcias, brambles, givens, kluiverts, bookable, 10-man, snuffed, sinama, pongolle, slide-rule, shay, nzogbia, 43,856, jermaine, sinama-pongolle, deservedly, mellors, sami, mellor, titus, florent, ameobis, everythings, marta, prinz, blatter, fipro, sepp, zurichs, bowing, scupper, sav, epitomises, freshen, sevilla, respecter, parente, prising, sanchez, hristo, stoichkov, bulgarias, awkward, valenciana, petrovs, salvaged, shaka, harried, wrong-footed, acrobatically, geremi, zajecs, exert, icelandic, pompeys, swerving, south-coast, cheslea, robbens, 20,210, â£2.25m, reopens, anderlecht, utds, alex_ferguson, goal-kick, pedros, centimetres, mutv, trainings, woodman, socket, immaculate, constantly-changing, cente, excelled, savours, beziers, liebeneberg, african-born, tinkers, clamours, puzzled, rehearse, cuff, sweeter, ruthless, stared, garvey, curnier, narraway, seti, walder, mayerhofler, kiole, 27-27, balding, cornwell, eustace, mayerholfer, 27-22, parling, walders, scythed, 22-20, elloway, isaacson, fanolua, scorch, sigley, popped, grindal, 43rd, hardwick, stimpson, madejski, flankers, danaher, paice, gustard, purdy, penney, horak, skivington, priscott, everitt, 19-33, strudwick, hatley, mapletoft, unchallenged, nordt, staniforth, callam, godman, euan, howarth, eight-week, granclaude, marcoussis, semi-professional, assessor, unforgiving, athleticism, fly-half-cum-centre, playmaker, set-to, outwardly, 30-man, 83-10, tryscorers, wtih, oxymoron, stutter, 17-28, whisker, fancied, undaunted, weighty, glides, crossbar, percentages, collar, orqueras, fit-again, lievremont, abbotts, tabacco, pieter, magne, footwork, bloodied, debrief, inury, beforehand, choked, majestic, out-muscled, simplifying, rucking, advocated, problematical, bruises, blindside, try-scorer, neath-swansea, well-worked, hard-earned, craigs, patersons, stray, burrow, searing, half-break, southwells, jutge, foiled, reasserted, scoreboard, 28-8, presentable, scuttle, commanding, 8-0, bereft, reckoned, 32-16, aided, red-hot, resurgent, tough-scrummaging, vickerys, try-scorers, sparingly, wrus, sociedads, anoeta, euskarians, paseo, 12,667, realms, landers, northamptons, enclosure, probyn, horner, under-pressure, 1600, uninspired, milkman, all-french, highly-rated, toulouses, sternest, leaderless, raiwalui, vickerman, rigney, mcmullen, rawlinson, popham, gerber, broster, bracken, bartholomeusz, vaikona, randell, chesney, gillies, wigglesworth, sixways, collier, bozzi, pieters, lund, anglesea, macleod-, trueman, horsman, fortey, windo, coutts, roddam, martens, redpath, rasmussen, caillet, schofield, vaili, demoted, under-perform, rubbished, mathew, stuttered, sella, devoid, under-fire, campese, thick, berates, disallowing, predicament, castigated, poms, mounts, ex-wallaby, englishman, whingeing, fringes, guinazu, aus, cobus, paces, maling, ollie, tana, odriscoll/gregan, star-studded, jacque, nz, withdrawals, sidolis, loose-forward, shanklins, quicker-than-expected, three-quarter, must-win, beckons, mindset, uncharacteristic, mefins, one-dimensional, ridiculously, front-row, thinker, drip, antibiotics, caucaunibuca, rawaqa, macqueens, reihana, free-flowing, robins, luscombes, injury-depleted, standout, guscott, landsdowne, disallow, rfu, reintroduced, ex-international, inquest, assertiveness, breakdowns, full-backs, requisite, 22-cap, rueing, 18-year, licking, padova, viadana, agen, treviso, laquilla, bollesan, montpellier, catt, clashing, four-match, medial, alasdair, macleod, strokosch, verification, macfadyen, crumpled, crown-winning, centrally-controlled, 10-week, puffed, irfu, whitewashed, whisper, gloat, salient, mullens, oche, huffed, cousins, decreed, foresight, downsized, overworked, freshness, yore, hog, sonnys, physiotherapist, pughs, irritable, 12-9, kel, bulls, cunninghams, coslett, millward, iestyn, 13-man, cross-code, 1994-96, club-versus-country, cherry, re-opened, brunos, simpson-daniels, rehab, saint-andre, well-recognised, tackle-count, scrummaging, yapps, go-forward, burn-out, invigorate, signings, llanellis, pectoral, 2001/2, departures, hodges, gallacher, back-five, howley, eldon, amalgamated, gnoll, under-18, acrimony, simmering, finlay, sru, mackays, strings, waging, 37-32, boks, 35-17, sorrow, duel, wager, strutted, galway-based, energy-sapping, blomefontein, under-19, hutchinson, coleraines, beileve, finsihed, immaculately, manged, londonderry, ym, huey, armagh, tragedies, anybodys, begrudge, flounders, unhelpful, ebb, mauls, teak, captaining, rucks, revered, bemoaning, shoots, inconsistency, richly, proclaimed, sown, coax, ensue, humbling, capitulation, dismantling, sharpens, five/six, blooming, demolition, reassess, fleming, gollings, jonty, lucio, giteau, schalks, amor, aussies, 1430, 1815, 51-15, 1921, invincibles, uzzell, 19-0, blemish, 42-7, johannesburg, 54-9, 1903, haka, cardiffs, 9-3, 3-4-1, inauspiciously, maoris, anglo-welsh, quittenton, instigating, munro, 13-12, bedell-sivright, 43-17, 1928, two-all, enlightened, swatted, 19-16, 2-3-2, 1888, ex-pat, kiwi, revell, 1905, psyche, whinnerays, centenary, 1893, 12-3, 52-3, laughter, demolished, 37-33, quick-thinking, beatings, 8-8, mckechnie, duly, 23-11, despatched, pakiha, 1924-5, kiwis, maori, non-cap, clem, ethos, exclaimed, tanner, warbrick, rees-jones, james-inspired, 15-0, 22-3, schoolboy, 53-37, death-bed, 11-3, empathy, nil, 12-10, eyton, 34-9, 23-3, 55-3, 1870, churlishly, 1963-4, brisbane, 6-6, christ, carwyn, undefeated, 49-6, twenty-two, reflecion, 12-7, two-month, pickering, caveats, re-match, recuperating, 1871, 117th, 817, tokumasu, strongholds, molloy, 125,508, jrfu, co-host, hkrfu, pools, crowning, irreplaceable, agreeable, splashed, pragmatist, buffers, manor, rubbed, gisbergens, pounded, vesty, relinquish, tuilagi, causeway, bemand, saluted, johnson/b, scrums, biljon, 31-37, buckland/cockerill, 31-31, ginsberg, tuiliagi, rabeni, 48th, ankle-tap, poached, toit/j, aj, honiss, paulse, backline, transgression, 63rd, shimange, linde, westhuyzen, 52nd, geordan, venter, rossouw, willemse, horgans, stung, 17-12, botha, joubert, claassens, britz, slotting, tap-penalty, preez, 61st, three-to-one, tuipulotu, sika, timoteo, 65th, sheehan, 83-3, chomping, lakomskis, surgener, 39-31, emerick, osentowski, kort, waasdorp, sherman, petruzzella, viljoen, hobson, alec, klerck, gouws, schubert, mounga, donnacha, billups, omitted, connacht, connachts, mccormack, kieran, federico, upper-body, unstructured, longo, thump, fortuitous, contepomi, 45th, rugged, aramburu, well-drilled, pumas, indiscipline, ragged, turnovers, out-thought, out-played, munsterman, bainivalu, 17-5, appleford, marika, thirlby, sudden-death, vakacegu, neumi, bowl, kai, 33-15, horstman, 26-21, tuidriva, nanuku, keino, vacated, baa-baas, curtail, laulala, piri, fifth-minute, holah, weepu, thanking, maa, coasted, dwyer, mentoring, jermoe, marty, nonu, australian-dominated, bergh, cowan, 19-47, 56-man, flatman, haughton, roques, berths, substitution, monye, unavailability, steinmetz, doak, 20-6, mcentee, hore, trickling, morton, macrae, calum, parr, longwell, rennick, glimmer, millar, fightback, feather, warnock, pattison, mccullough, maxwell, sixth-minute, netherdale, morale-boosting, berthinussen, venting, cheetham, ramsay, christchurch, springs, woodwards, compounded, full-contact, bicep, haematoma, shelf-life, cozzas, negate, welford, aftewards, 17-17, half-back, wasps-leicester, rowell, walshe, rejoins, dwarfs, tindalls, 26-year-olds, dipo, ultimatum, alli, mikes, brownsword, shackles, innate, principality, 18-15, 33-5, overdrive, battering, mesmerising, tribal, two-try, emulating, nail-biting, scarred, underrated, second-, unstuck, niggly, seans, sculthorpes, joynt, sculthorpe, rfl, knowsley, sonny, unknowns, bolt, deserting, itd, motivating, ellery, nervelessly, shuddering, howitzer, all-enveloping, fumble, personified, prospered, relished, snatching, silver-booted, sin-bin, craved, spikey, repelled, gelled, savouring, self-assurance, freshly, ado, glided, toying, up-ended, nonchantly, din, taits, salvo, sydneys, aru, sanzar, north-south, romantics, nearly-men, celts, bleus, legions, blossoming, dawns, ignominy, heady, emerald, phalanx, jpr, scalps, savour, tenterhooks, cosh, odriscolls, haranguing, cordon, nfl-style, scooping, gobbled, half-effort, second-row, blazers, back-foot, well-conceived, tacklers, belly-up, mcdowell, eclipses, knuckles, disintegrating, much-improved, indiscretion, face-saving, white-shirted, bisected, ghosts, supercharged, fourth-minute, upfield, shortlived, blustery, banished, break-out, jerseys, shaved, outmuscled, wilting, numerically, pendulum, thrusts, kirwans, lamonts, wriggled, try-scoring, game-breakers, over-confident, self-destruct, 50-44, starters, ultimitely, one-season, 92-cap, 6in, adaptibility, lock-cum-flanker, delaigues, marconnets, booted, 17-18, nibbled, scoreless, 10-3, scrum-halfs, straying, botch, engendered, dispense, unerring, betray, industrious, longer-range, yann, week-out, fairway, jonnys, natural-born, goal-kickers, goal-kicker, golfers, week-in, retirements, 8-38, precaution, tbc, precautionary, 2340, west-country, scavenger, reffed, dwell, disgust, 6-5, serve-and-volley, rusedskis, kiefer, chicken, pox, dancevic, collegiate, fifteen-year-old, gambill, jan-michael, dispatched, downed, unduly, outlasting, mantilla, agustin, marches, calleri, sixth-seeded, improbable, puerta, acapulco, montanes, volandri, eliminated, novak, right-hander, 264th, europe/africa, delgado, hitters, sheffield-born, plaisir, mulhouse, rain-interrupted, run-ins, harel, eclipse, youngest-ever, becker, okun, erlich, nasdaq-100, blisters, beatable, vincis, volleys, cross-court, vinci, magdaleena, roberta, baltacha, three-set, marlene, weingartner, thaliand, antwerp, willems, yetunde, dismantles, abigail, german-born, inexperience, 27th, romp, vaidisova, sania, 1-6,4-6, nirupama, petra, cricketers, vaidyanathan, mandula, fabrication, tarpishchev, shamil, kuznetsovas, accosiation, gargantuan, quaking, likeliest, self-confidence, gregs, murrays, 187th-ranked, yugoslavian-born, countrymen, euro-africa, 407th, strolled, swings, 158th, wobble, short-priced, us$25,000, four-times, â£28,000, scrichapan, us$40,000, unicefs, acasuso, 113th, 30th, 95th, karina, daniela, kucera, habsudova, organizers, prevails, rackets, â£115,000, motivates, slams, 3/7, outclass, glimpses, injury-free, rigours, contaminated, higdon, supplements, contamination-free, tobys, paes, horn, hardcourts, leander, navratilova, workouts, ltas, unearth, instilling, 52-week-a-year, crowther, jimmys, keothavong, 200%, therell, 10-16, sportswoman, clay-court, clinches, deceptively, darn, medalist, outclassed, bryans, dissatisfaction, robredo, open-era, swiss-german, tasty, routed, mauresmos, lakers, cramping, bronchitis, bjorkman, frazier, golovin, camille, frenchwoman, switzerlands, zuluaga, pennetta, daniilidou, eleni, magdalena, flavia, fabiola, third-ranked, eighth-seeded, kindlmann, luczak, garcia-lopez, phau, hyuung-taik, gimelstob, ancic, 8-10, outlasted, second-set, nieminen, exhausting, wrapping, jarkko, tarik, re-hire, sfx, benhabiles, 121, sun-sentinel, goldfine, floridas, two-set, tiring, on-court, exuberant, stoked, nailbiting, 9-15, koubek, rodicks, 7-3, energised, conqueror, four-set, thatll, lleytons, gutful, modifications, fatigued, folded, lapse, lunging, davenports, roused, leaden-footed, lunge, dinked, loops, chases, 6/8, double-faults, slam-dunk, shot-making, 30-0, deuce, buts, ferociously, nadals, gee, retrieving, 40-30, groundstrokes, line-call, hangover, outplays, crosscourt, double-break, 40-15, 8/6, unreturnable, half-volley, down-the-line, 15-40, 4-4, acclimatise, 52-year-olds, nuts, usta, straight-talker, moulded, herald-sun, lendl, newcombe, rafter, cahill, conquering, let-down, all-russian, federers, long-recognised, all-important, gonzaelz, 31-year-olds, kuerten, nicoals, sw19, belgians, berdych, limp, henin-hardennes, adductor, repetitive, five-setter, slovaks, wessels, meghann, krajicek, michaella, baccanello, shaughnessy, ruffled, jaslyn, sidesteps, unwavering, canberra, katarina, srebotnik, straight-sets, ivanovic, czink, serbias, melinda, round.said, 32nd, sveta, anna-lena, groenefeld, synthetic, radek, soderlings, soderling, stepanek, rib-cage, karlovic, chaunac, malisse, zib, 88th, unimpressed, lobs, top-seeded, delray, dane, aces, 0-40, saretta, rain-affected, forehands, almagro, flavio, zabaleta, 134, bondarenko, see-saw, alyona, erupted, nervously, clipped, glow, lamp, cuticle, inking, his/her, indelible, inked, backsliding, dries, kyrgyz, panacea, mikosz, ultraviolet, neon, akaev, metaphor, radioactive, askar, rumors, sprayed, pro-government, prelude, ills, ifes, 224, elementary, 12,575, immoral, modernity, on-the-street, expressionist, coudenberg, unleashing, langlands, story-based, altruistic, remnants, urban-based, technologists, tara, abstract, cellars, bricked, senne, vein, planners, outside-in, incubating, â£21, perus, huaral.org, cuyo, cepes, non-government, self-sustainable, 50-family, inhabitants, 2kw, chancay-huaral, mini-hydraulic, saldarriaga, inaugurated, coordinate, telecentres, telecentre, huaral, emenating, diamound, surprisngly, revolutionalised, anyhting, autolinks, fronter, citizen-based, amazon.com, directs, autolink, isbn, outreach, carfax, proxies, hypergrowth, envisional, coppin, 150%, tivo-type, aadc, scratches, roaring, *, 1080, 35mm, lossless, terabyte-size, â£1,500, encrypted, 2k, degradation, 2048, 9276, preventative, 028, cords, xboxes, month-old, mums, 7.1, radicals, non-for-profit, templating, focal, dedicate, blogsphere, cyber-dissidents, re-used, re-use, re-using, unrecycled, reconditioned, landfill, georgeta, minciu, ported, krewell, microprocessor, gatherers, ie7, fruits, mid-2004, 96%, firefoxs, sridharan, roofs, foggy, teleservices, chennai-based, permissions, pipes, 1-2mbps, tatas, 1.25gbps, lightpointe, neverwinter, mall, shauna, alberta, biowares, edmonton, bioware, filtered, deluge, ciphertrust, two-three, efficacy, brightmail, armoury, flung, piero, passages, painter, della, telemetric, licenses, linus, co-existed, philpott, kapor, corroborated, software...of, torvalds, copyrights, wielded, wmds, freely-available, setbacks, reboot, re-submit, abstain, pda, shopaholics, indemnify, e-business, scammer, passcode, 2048-bit, ascertain, token, activcards, activcard, e-banking, beal, token-based, dogging, by3g, sixty, 77%, wsis, community-based, non-technically, niscc, comb, easy-to-understand, waarschuwingsdienst, mullahs, counter-revolutionaries, internet-users, sigarchis, khamenei, farda, ayatollah, us-funded, persian, weblogger, khomenei, dissuade, ruhollah, clamped, motjaba, gilan, lokitorrents, lokitorrent, infringe, circumvents, ripper, decss, scrambling, newsround, compositions, fashionista, best-designed, stagework, minimixa, sequencer, sseyo, rasor, newly-designed, meat-and-potatoes, 30-frame-a-second, omap-vox, 19.9, marketers, indexes, equalisers, reigns, encarta, equations, algorithmic, encyclopaedia, golfing, motion-control, pantech, subway, maracas, instrument, ph-s6500, sports-leisure, v603sh, calorie, motion-sensitive, afficiandos, people-watching, rankled, excellent-value, front-end, hockey-wise, espn, identifiable, similar-yet-hugely-different, disliking, dizzyingly-extensive, arcade-like, unparalleled, indignation, massive-money, thirsts, nhl, die-hard, preambles, oodles, espns, art-form, shading, honed, 2k5, quench, america&#191;s, ooze, nfl, monopolise, bongo, singstar, byplanes, hitman, konga, 40mbps, plusnet, â£9.4, jerrys, gullivers, sequoia, satirist, 7,600, unsophisticated, filo, uncouth, â£1.04m, capitalists, gui, xerox, pancreatic, hertzfeld, franciscos, jef, raskin, initiator, raskins, noone, 34-year-olds, so-and-sos, intervoice, 94%, nineteen, non-smartphone, tuners, 20gb, -top, telewests, dixons, 160gb, useable, collaboratively, habitat, outputs, transplanted, classrooms, futurelab, lateral, edutainment, edu-tainment, liverpool-based, visions, eschewed, satisfies, heine, chromium, rechargers, drawer, vampires, $125.73, fanara, eco, e-waste, already-established, epas, weee, ripmobile, â£68, epa, cybercrime, configured, nobles, hi-jacked, cybercriminals, cranfield, logon, openzone, familiarity, radar, cash-on-delivery, cachet, net-using, seaboard, 137, panlogic, makower, captioning, rosenberg, c-span, caption, webcasts, blinkx.tv, cash-rich, marek, strihavka, crank, trojans, malware, stowell, avid, attributable, well-educated, aggregators, net-savvy, kos, instapundit, 58%, tiga, kingsley, business-like, cull, hasson, coding, touch-screen, satoru, ubisofts, eight-player, additionally, pictochat, $2.6bn, kart, iwata, tateson, keywords, rellie, whistler, artgarden, metadata, drafts, expunged, add-in, amended, reconstructed, workshare, tendering, acute, super-regulator, lengths, norm, currie, risque, ayers, conduits, chefs, ispa, self-regulation, bloggies, wonkette, plasticbag, hicksdesign, greenfairydotcom, gawker, replicating, gothamist, boing, flickr, meme, londonist, best-kept-secret, nikolai, bicycle, glickman, deleterious, cinemanow, movielink, movie-swappers, wav, abetting, premeditated, unauthorized, bruviks, tono, lillehammer, bruvik, napster.no, napster.com, ubiquity, multi-megapixel, larribeau, single-function, niel, bluephone, inescapable, poach, consumer-focused, 056, aid-related, homepages, sparse, frontieres, medecins, modifying, linguist, abtahi, discourse, nachison, wikinews.com, chomsky, exponential, movabletype, acclimate, monde, eye-witness, paxs, one-to-many, computerised, lionhead, bullfrog, surreys, god-game, dungeon, ambitous, molyneux, god-games, skateboarding, fad, anti-blogging, quirksville, matsuura, discontinue, dayton, skirt, layovers, thrives, pelletier, iaea, haystack, smuggled, visualisation, livio, atomic, $11m, blueprints, costantini, transfers, smses, trawlers, heretic, blogged, one-stop-shop, descriptions, ramdhan, rohit, dina, kotamaraja, funnel, gupta, pooling, snapshots, palpable, yadav, vets, bamboo, sichuan, hemin, panda, globio, pandas, wolong, biodiversity, state-of-the-art, 802.11b, sendmail, stata, toolbars, lookout, spreadsheets, rittweger, keyword-based, invasiveness, heck, jf, cosiness, pronounced, nokia-sponsored, anti-radio, junkies, podcaster, kaye, gadgetry, playboy, countdown, assortment, xml, wisconsin, shack, 300d, swivel, w1, pcg-x505/p, ra-104, vaio, innovator, ux50, eos, leds, clie, inventing, canons, novatech, lma, ridge, gran, gt4, acid, evo, turismo, hawks, stringing, storylines, engagers, reassembled, peakes, in-between, slushier, lego, action-fest, re-engineered, gormenghast, illuminations, stollenmayer, bare, nm2s, nm2, wyver, 7.5m, restructuing, mid-october, 268, parkinson, expressions, computer-augmented, archaeological, dramatisations, frescos, augmented-reality, magnenat-thalman, 2d3, backpack, miralab, lifeplus, augmented, union-funded, head-mounted, interprets, make-over, pompeii, taverns, bst, bagle.bb, bagle.at, bagle.au, 0530, 0630, emoticon, re-emerged, starfox, rebuilds, anatoly, certificates, proprietary, ringleaders, trafficked, camberley, supt, twenty-eight, darkprofits, tyukanov, deats, commodities, newark, shadowcrew.com, companions, dautenhahn, pass-the-parcel, robotiquette, human-robot, pointer, demonstrator, kerstin, cogniron, studys, imitating, welchia, slammer, atms, europay, thiemann, towergroup, os/2, tightly-knit, hirsch, un-named, mastercard, spontaneously, bush-cheney, ebbs, boingboing, edgescape, prompts, inundated, stanzel, militarys, activate, dormant, freebies, whalley, decipher, decryption, revenue-generating, ingenuity, fired-up, snazzy, ewoks, speeder, waypoints, geonosis, back-to-basics, trilogies, galaxys, tatooine, re-spawning, mayhem, bog-standard, one-trick-pony, non, quotient, blockbusting, symphonies, much-maligned, above-average, motifs, backdrops, hoth, wookie, endor, skirmishes, doubtless, jedis, at-ats, gunfights, wastes, triples, 6.23, grungy, crooked, preppy, plus-points, avenge, venturas, action-packed, fiddly, crime-shaped, freeway, brutality, magnificence, in-vehicle, push-bike, on-screen, fierro, stomps, carefree, commandeer, off-the-chart, entirety, wit, lowlifes, framed, anchored, driv3r, gags, gangland, odious, stupendous, stumbles, envisage, loquacious, thinly-disguised, behold, flaunting, inflame, swathes, hijacking, sunsets, lends, more-of-the-same, patrons, pad, deeds, pile-up, jokey, revisiting, detract, pro-censorship, ambience, bread-and-butter, barnstorming, haircuts, non-geographical, entitles, 0870, give-away, superconducting, underrepresented, over-promise, cures, multidisciplinary, transformative, pervasively, hinton, nanotechnologies, dti-funded, keyboards, traits, contexts, banded, browsed, amaya, net-browsing, incarnations, windows-, 94.7%, pre-launch, firebird, november/early, charted, garner, schlock, playability, nivens, halo.bungie.org, enormously-high, troopers, horde, starship, fansite, errera, distracts, screenshots, remarking, texture, attained, essay-length, titbit, remembrance, bungie, ringworld, dolby, cultivated, counter-strike, wride, comers, 16-28, jolt.co.uk, one-one-one, 10-13, co-manages, bloodline, 3-5, excel, co-founders, top500, strohmaier, erich, techies, unreliable, web-page, senanayakes, senanayake, michelangelo, far-flung, cache, purification, self-organizing, rampersad, unfolded, mobs, retrieval, saffo, centralise, sanjaya, tablets, avatar, kettle, childlike, jeremiah, embodiment, jeremiahs, stimulus, bathroom, bowden, orwellian, downstairs, preset, faithfully, cm5, eidos, margate, mind-games, ever-improving, bonnet, manageable, fm2005, cm, si, swappers, rockstars, britneys, 2,755, livelihood, riaa, slattery, realplayer, musicmatch, artifice, wma, vice-versa, unlawfully, anti-trust, gellhorn, mason, anti-competition, merriam-webster, wield, looked-up, repressive, hitwise, merriam-websters, dictionaries, hyperlinks, slant, 0.0051%, derive, auld, 85130, syne, 133m, nearest, jongleurs, unfeasible, lang, goodpub, blinding, x800, exhilarating, top-notch, unfeasibly, life-draining, troublespot, corpses, zombies-leaping-out-of-shadows, sledgehammer, interacted, freedom-fighting, alienware, resorting, exposition, skirmish, lifelike, unkempt, haunting, half-lifes, nightmarish, thrill-ride, radeon, attention-to-detail, sympathise, monster-infested, immerses, tantalising, cut-scenes, clobbers, hl2, hurling, annoying, unrelenting, prodding, irk, hesitating, distinctly, 3500+, step-by-step, foreboding, herded, infuriating, crowbar, mid-task, highly-anticipated, underplaying, interrupt, landscapes, carefully-scripted, rashly, mingle, atis, meticulously, free-ranging, astonished, joysticks, gamepads, iowa, frontiers, cambiemos, virtues, vices, frasca, newsgaming.com, bubbling, bush/kerry, forefathers, uruguayan-born, multi-discipline, inhabit, killzone, mitts, nano-, sleepwalk, part-human, nanoscale, arrogantly, surfacing, nanotechnology, sleeves, infiltrates, antibacterial, tio2, lenses, nanoparticles, cyborgian, formulate, dressings, sewn, shark, fabric, conductive, biology, anti-odour, neuroscientist, fuses, micro-engineering, electrically, pass&#233, quaintly, part-inorganic, biocidal, molecular, paves, pervaded, bolted, ambient, stain-resistant, passer-by, inanimate, transit, convoluted, plugging, securewave, overdraft, cahoot, unshredded, underworld, auditing, databases, cratchits, glamorous, jakob, easy-to-play, games-on-demand, hi-spec, puzzle-based, sports-based, over-50, females, poker, big-hitting, pervades, graber, â£30, realarcade, gene/ls, nasas, tailor-made, genome, rochester, simulators, simulations, teraflop, minnesota, 36.01, petaflop, 5th, proactive, chassis, geeky, nevo, 2.5gb, $399, fy500, arling, uei, discreetly, galore, circular, fashion-conscious, slung, $799, â£425, 7.2gb, stills, seagate, design-conscious, 3,420, vpc-c4, mpios, emphasises, sanyos, p7131, skeletal, surround-sound, fiends, â£211, leboff, nevosl, unplug, risqu&#233, â£133, mpeg4, audiophile, hotseat, camcorder, pendant, hanau, romen, ticketless, timetables, buses, smart-card, 3220, bus-stops, hanaus, belinda, rooster, darlings, intermission, 836m, compromises, mid-2000, dual-purpose, 10.6m, reproduction, â£7.36m, laughably, fossil-hunting, fossils, flakier, full-screen, abundantly, half-term, superfast, censoring, purged, subversive, sohu.com, sina.com, evidently, catastrophically, godels, legionnaires, entitlement, back-office, interconnectedness, excused, diatribes, theorem, zonealarm, scammed, hotline, artificially-inflated, avg, dwight, interventions, dialling, profiteering, 40-odd, phoning, pay-outs, innocently, â£320, rogue-dialling, it-literate, galls, â£139, day-by-day, spamming, high-bandwidth, subjecting, spamcop, malte, pollmann, terabytes, pre-legislation, decentralised, publicly-recognised, non-market, e-democracy, e-government, middleman, ippr, ipprs, good-practice, cliques, mailing, ebay-type, 44.9, $336m, wheelock, in-stat/mdr, in-stat/mdrs, under-25s, echoes, $26m, bypass, lombardi, steam-type, valves, fahey, cluttered, amsterdam-based, niels, 7.4%, mozilla, softwares, onestat.com, randle, â£133,000, 95.5%, 7.60, brinkman, mozillas, 88.9%, 7610.extended.theme.manager.zip, arima, tee-222, benq, masquerading, 7610s, 7610, non-working, shareware, sporadic, wallpaper, expensively, p800, pleasantly, music/video, mp3g, mini-tv, maxs, horoscopes, micro-tv, cut-down, eyesight, decompress, hatched, postulating, telemedicine, rambathla, insect, personalized, prassana, pctvt, foolproof, pctvts, $2,000, choke, prof_reddy, powerpoint, designate, intermittency, molecules, specializing, proteome, untapped, seti@home, elain, cycles, not-for-profit, gallin, intractable, wgc, analyze, wcg, gigapixel, tno, canyon, hartog, 360-degree, 196, stitching, composite, dots, 2.5m, computer-controlled, rockscape, 6m, constructed, 20-minute, underwood, silhouette, barbary, off-range, statutes, 133-hectare, roam, antelope, remote-controlled, mouflon, live-shot, white-tail, $5.95, unregulated, taxidermy, remote-control, corsican, blackbuck, follow-ups, â£1.34bn, double-platinum, 1.75, eyetoy, 37.9%, broadened, tie-ins, fondness, 86%, piazza, librarys, mainline, brindley, â£4.50, lynne, broadbands, strangle-hold, wifi, oftel, renting, 2km, kilobit, multi-occupancy, â£39.99, bundling, stening, onetel, rages, desks, captive, allocate, filesharing, oxygen, yagan, bedfellows, condemn, flushed, rescuing, lavatory, corrupted, ontrack, malfunctioning, reformat, careless, weirdest, dominican, snappers, aarhus, schoonen, moblog, stiftstidende, telegraafs, paedophiles, telegraaf, buzznet, photojournal, reichhold, 666, tattooed, non-permanent, omaha, $322, â£171, finjan, poisoned, combs, behavioural, viral, weblinks, irony, progam, penetrated, scours, bofra, propagating, dole, suranga, chandratillake, 1000, promiscuous, bookmarks, informally, anti-spammer, response-time, centralised, spamming-type, skirting, vigilante, scheduler, starcom, stacey, jolna, 80-hour, a-la-carte, 26-inch, talked-about, 100-hours, hume, mediavest, hanlon, tv-watching, diapers, tivotogo, humaxs, pastimes, directtv, middlemen, cyber-criminals, persistence, sunner, 273, scattergun, messagelabs, harvest, haphazard, all-consuming, commences, slicing, beasts, fiendish, preposterously, leaping, slaying, sultry, disservice, onimusha, then-groundbreaking, super-athletic, lopping, unsatisfying, intro, purposefully, fountains, sequence, anti-climax, ramps, bellicose, energetic, dahaka, hinges, somersault, meticulously-animated, scenery, pirouette, merit-free, empress, third-person, time-travelling, bytes, hoarded, functionalities, e-mailing, toshibas, floppies, obese, hoarding, multi-media, squirreling, hoarders, 1,000,000,000, yankee, fourfold, live-play, schroth, single-player, subscription-based, reserving, clarion, bandwidth-hungry, morin, spoils, prioritising, sandvines, sandvine, av400, pma430, windows-based, tivos, pocket-sized, music-only, super-cool, crohas, pmc-100, non-professional, laminate, sudans, keyobs, impeded, sertit, riverbeds, candillon, bjorgo, unosat, voigt, wadis, einar, interpreting, rainy, clothe, encapsulate, aichi, staircases, imac, strolling, customized, single-person, bird-like, exoskeletons, cocoon, four-wheeled, erel, avineri, reclining, 2.1, i-foot, i-unit, mountable, 0.83mph, egg-shaped, gillingwater, 1.35km/h, infirm, pods, autopilot, ipod-type, leaf-like, plant-based, envelop, human-factors, encased, vehicular, dismounting, ir, harker, marson, infra-red, hypertags, minicabs, tfl, unlicensed, hypertag, bloodthirsty, cumberbatch, enquiries, serviette, informaton, 40052308090, elfs, typed, untouched, vacations, enquires, 277, 64%, narrowband, shopping.com, roper, â£220, shopper, robosapiens, hostway, imrg, 18-35, fanlo, lingerie, hard-to-find, 18m, purses, â£104.99, bodleian, oxfords, leclerc, bibliographies, wojcicki, reg, extracts, scholarly, wilkin, mehdi, queued, $188, shipment, 500,000-strong, â£98, â£78, fr, â£23,000, mobi, quested, telly, sharpness, widescreen, flaherty, blurry, eye-blasting, euro1080, aquarius, tailor, low-priced, 575, millilitre, inconvenient, 8x10in, epson, inks, 6x4in, silver-halide, r800, snappy, cropping, tester, smudging, 10x7in, resistant, 7x5in, â£9.99, â£1.87, tarkovskys, kojima, ico, cel, life-eating, hideo, high-fantasy, warioware, retooled, mutation, adventuring, ocarina, ninja, soviet-controlled, wanda, tecmos, role-player, s.t.a.l.k.e.r, masterminds, n64, evokes, juices, glued, aura, umbrage, xenia, nightfire, hat-fiend, commendable, backfires, enveloping, onatopp, goldfinger, auric, thought-through, oddjob, firefights, uninspiring, shoot-em-up, commander-in-chief, similarly-titled, crosshair, rectified, portly, 2kg, car-maker, amusement, 10cm, 130cm, 106,000, jog, beckoned, gainful, 81,000, 1.6km/h, learns, spinning, asimos, entertainer, 2.5km, higher-priced, dual-screen, pre-packaged, on-board, misappropriated, seven-page, disseminated, behrmann, $1.70, beachfront, plateau, rpg, deathifier, ingots, ped, shogun, entropia, accumulating, $26,500, â£13,700, mindark, peds, entopia, alternate, steals, malign, strips, rnid, guido, textphones, bsl, currington, videophones, gybels, universally, â£7.00, disenfranchised, taller, shimono, 426m, elevators, whistling, blowers, hein, vibrations, authoritative, tallest, suction, 508m, masayuki, elevator, 382m, 61km/h, skyscraper, petronas, shaft, double-deckers, escalators, tfc, whisk, 38mph, 25.6, record-holders, taipeis, km/h, 17m/s, swiftest, ascending, discharge, ascend, 17m, certification, roux, 99.4%, torrents, bittorrents, jareks, rudimentary, kujda, cacophony, boops, jarek, $200, poles, beeps, malgorzata, synthesizer, blip-pop, kudja, gameboyzz_orchestra, improvisational, kraftwerk, 1,440, randomly, santy, tailed, phpbb, defaced, santys, defacement, lichtenberg, ignited, harmonise, osx, rip-off, sincerest, imitation, baffled, repetition, summarise, ever-popular, flattery, renton, rnib, howell, impairments, cec, speegle, synthesised, panavox, 23.5, 18.6, 11.4, 32.5, whetting, 15mb, broadband-enabled, broadbanders, caveat, 512k, shaving, tortoise-like, 3mb, 2mb, soars, ever-selling, 2.5g, bandaid, fast-forward, vcr-style, ratchet, best-looking, intuitive, clank, blinx, dulled, jak, feline, tweaking, dollops, purrs, warps, bubbles, traps, daxter, symptomatic, hotbot, trumpeted, yonca, urs, muscling, financials, truer, old-timers, altavista, outflank, unlocking, holzle, brunini, multiprocessing, toprevent, frees, filethat, union,dismissed, insubstantial, jollans, innovating, leadsnosoftwarepatents.com, 25,772, academia, amass, aboutroughly, 3,248, diversionary, simultaneous, hotly-contested, usefulness, intranet, gartner,downloaded, linden, jacobsens, dobrow, 16.3, impairment, jacobsen, cellery, scouring, browses, confer, freezes, payperaction, can-spam, pitylak, trotters, groundless, headings, ftc, non-solicited, lin, solicitation, leadplex, oftexas, continent-hopping, lucrative-ever, treacy, pro-players, wideband, harmonisation, theriault, ubisense, licence-exempt, over-emphasises, cept, uwb-using, ieee, uwbs, cross-europe, licencing, souped-up, â£1.65bn, subtleties, bolz, â£16bn, subaru, pararallying, prejudiced, tansley, quadriplegics, rainey, lever, amputees, autosport, autocycle, pedals, amputated, throttles, gearboxes, pro-shift, sequential, throttle, paraplegic, motorsport, imprezas, climbs, changer, amputee, sidecars, gearbox, tansleys, hewland, duck, tt, racings, disabilities, steering, lincolnshire, impreza, clutches, gsi, critique, detects, sharpening, picasa, bulging, ofoto, tantilising, tucked, kodaks, pixagogo, photosig, archivists, print-ordering, $24bn, snapfish, â£3.50, informa, vod, video-store, snalune, touchstone, roadshow, knell, antiques, gothika, jaschen, randex, hop, co-existing, anti-phishing, fast-spreading, 500%, gaobot, symantecs, netsky, sven, mosquito, best-ever, sasser, mass-mailing, variations, tidy, criminally-minded, brainwaves, undergraduate, wearer, 8.16, us$10.6, 2.56, start-ups, self-funded, devoices, collaborators, hotbed, near-term, connectedness, bracelet, us$13, iband, us$3.3, drawbacks, homework, phenomena, re-create, purushotmas, asleep, gravity, well-polished, energie, pronunciation, pre-prepared, drumming, educationalists, make-believe, inferences, impart, couched, oppositional, simulated, purushotma, idefence, pls, m3u, solves, 4.7.1, inserting, gunboat, plot-wise, suitably, camaraderie, first-person-viewed, linear, stilted, pre-determined, battleship, checkpoints, cohorts, underwhelming, unconvincing, bombastic, guadalcanal, tidier, skilfully, top-end, contented, near-identical, perilous, irritatingly, talkative, auto-saving, superficial, tight-knit, pacific_assault, tropical, bark, hawaii, misdirection, muster, anti-aircraft, hearty, pacific, imparting, disturbingly, puzzlement, crewman, administer, hesaid, balked, bravest, sell-em-cheap, pile-em-high, hulking, interchangeable, gammage, jack.the, xp2, expandable, cd-writer, audio/headphone, performance-wise, peripheral, 2.6ghz, flat-panel, garageband, eminently, backing-up, 1.8ghz, upgradeable, 16-inch, ethernet, dot.life, â£469, obtain/build, imovie, workhorse, sempron, trouble-shooting, basics, celeron, stylish, jal, 1.4ghz, burner/dvd, entry-level, cheerful, pricey, firewire, chop, buildyourown.org.uk, reidar, 7710, 3230, enhancement, radio-enabled, wasenius, cross-platform, tuffy, high-detail, deering, adopters, 4.6, practicalities, blue-ray, oblige, cylinder, redesigning, cans, antique, 10-mile, compostable, vapour, bins, rechargeable, 386, additives, five-year-old, arsenic, redesign, leaps, horsepower, filmic, pixel, shaders, codename, canvas, harness, next-gen, indistinguishable, kingdom, pandora, goosens, preventon, particuarly, 13.2%, naively, over-60, vigilant, spyware-removal, instigate, microwave, furiously, stab, succeeds, hi-fis, jump-start, chip-makers, xdr, rambus, videogame, psx, multicore, ghz, synergistic, 10-times, kleynhans, meta, 3.8, multi-speaker, sibbald, stereo-widening, encoder, srs, sonaptics, unremarkable, rohm, synthesising, sonaptic, psychoacoustics, encoding, am3d, montieth, mimic, silicon-based, mini-itx, home-build, bobs, technically-savvy, 80gb, in-car, 05, enthusiast, tuner, fledged, sparrow, cd/dvd, pre-built, weiner, beauvillain, overture, stacked, semel, refocused, froogle, koogle, upstart, diversifies, post-dot-com, $120bn, gmail, inktomi, juniper, â£94, wimedia, ravencraft, freescale, multi-band, ofdm, zdnet, ultra-wideband, saumil, sydus, high-data, 7.2mb, cridland, nanavati, groove, â£10.40, punisher, beeks, 1.8gb, â£15.60, â£5.20, rambo, apocalypse, cracknell, wi-fis, scrambles, netsurity, teaming, reflex, hangar-like, dorries, 7-megapixel, gabriele, sch-v770, sphere, telephoto, ctia, yle, zander, hyped, rainbow-coloured, music-enabled, rokr, tv-enabled, t-online, allard, swipes, soundtracks, custom, directx, personalise, peek, game-making, chakkara, bbcis, joly, packets, thales, 20mbps, non-licence, bumped, supplemented, enabler, over-the-air, fait, rahul, cams, home-monitoring, facilitator, templeton, tis, voice-over-packet, router, livebox, footprint, pipe, abensur, vonage, simmelink, seeping, wanadoos, spearheads, 130, â£130, onlines, retails, unbundled, 15mbps, differentiating, 8mbps, montrose, secam, shakes, ama, levine, afflict, genetic, â£70, shaky, anti-tremor, tremor, assistive, buffs, victimless, popz, messageboard, warrants, graffiti, dod, tresco, acquiescent, invincibility, eriflleh, brag, mcnulty, sankus, 2940, seventy, notoriety, kartadinata, extradition, extradite, faceless, hew, fourteen, 1911, co-defendant, hellfire, warez, co-leader, dods, investigates, townsden, aliases, techno-gang, risciso, dowds, loudmouth, spelt, kleinberg, leakers, powerpage, divulging, snippets, unmask, 137,000, resemble, wheel, hitachis, human-like, horiuchi, 1.3m, segway, 3.7m/h, waist, wheel-based, quickest-moving, trumpet-playing, emiew, qrio, bipedal, shinjuku, emiews, workmate, 4.2ft, shibuya, leveraging, ddos, irc, shortest, adsense, remotely-controlled, honey, honeynet, peep, pots, protecttools, purchaser, uncontrollable, unlocked, thinkvantage, locking-down, safeguarded, hardware-based, tpm, trusted_computing, optiplex, hp/compaq, obscurantism, module, password-protected, user-level, â£129, â£229, crams, 87,000, game-playing, location-based, british-backed, sticker, oudendijk, flavours, dlp, laven, hdmi, gfk, hd-ready, 106cm, binks, preoccupied, rear-projection, suffice, switch-off, dvi, tumble, 42in, gmipoll, variables, digitally-savvy, forty-four, researchs, 18mbps, adsl2+, 180%, misspell, bogus, clearswifts, sustains, by-pass, dinosaurs, aspersions, extinct, mirapoint, proliferate, sex-related, nienhuis, alyn, ape, queuing, pachter, wedbush, wipeout, in-your-face, $4,000, scripting, madison, winer, in-show, audioblogs, democratising, bait, blooms, music-playing, coffee-loving, bedrooms, 1,000s, wmp, referral, unobtrusive, 10s, pied, commercialising, podshow, aggregation, piper, over-hyped, microcosms, buzzword, diary-like, unbelievably, outgrowth, pay-for-download, aon, buntes, rudolf, telekom, fernsehen, engerwitzdorf, multi-coloured, ipv4, ietf, glitch, evolves, never-ending, knits, protocols, tcp/ip, ipv6, particle, cern, trainor, evaporation, recharges, parsimonious, guzzler, wringing, lithium, evangelist, chemistries, transistors, shortness, separators, ebl, ion, arbor, brokered, swarms, diffuse, workgroups, end-user, log-in, hailstorm, netting, groksters, souter, file-trading, second-guess, breyer, summed, conceptually, shapiro, inducing, morpheus, free-to-air, mpeg-4, terrestre, mpeg-2, sagem, gerolami, superieur, inexpensive, conseil, numerique, laudiovisuel, mediametrie, bouquets, dtt, pay-tv, tous, tnt, thirty-five, bodinat, palms, snatch, hamster, harp, re-unite, immune, norwegians, cabs, mobile-data, backup, retrofone, muggings, oslo, pointsec, 63,000, 5,800, yeun, nordic, teliasonera, yeob, shin-bae, dmb, gambino, $6.6bn, radioscape, lower-, negotiates, watchable, igels, chan, frontier, conditional, illustrates, froth, soda, fizzy, taser, whizzy, useful/popular, compass, pre-teen, astro, remotes, equilibrium, ecosystems, continuum, babinet, numbered, musiwave, state-dominated, sarft, 340, china-watcher, gescher, regulates, cga, 2,900, ruigang, 1.3bn, jeanne-marie, joint-venture, kournikova, popstars, salacious, hackarmy, booths, explicit, flic, pescatore, ica, wltm, layer, singletons, accesses, seekers, soul-mate, chatting, oxby, adult-themes, twitches, wlts, match-making, boramae, optinrealbig, sic, $46m, spammer, maneuvers, optinrealbig.com, self-declared, â£5.29m, seoul, 514, richter, bypassing, tdg, fingertips, ramping, milliseconds, triple-play, limitless, brightcove, instantaneous, allaire, unencumbered, graczyk, geographies, c-cor, price-prohibitive, harnessing, myrio, aligned, zen, risse, stereos, parked, neulling, rinaldini, one-box, 6230, susanne, sgh-i300, umemoto, shoe, flyers, probable, reseller, brailey, inductance, 6230i, hoards, riccardo, crashes, higher-quality, simulates, gencrowd, organism, crumples, gdcs, jaws, bucking, maxis, 30-person, genemation, lessens, krome, baggins, photo-realistic, in-built, endorphin, owain, amoeba-sized, spore, v2.0, bennallack, brisbane-based, alita, lucid, seuss, averaging, frodo, $10-25m, animate, oxford-based, modems, clamp-down, pre-approved, refunds, dialled, pilgrimage, gif, disregarding, infringing, agonising, harolds, mid-1980s, eolas, gnu/linux, one-click, cross-license, fearsomely, byrons, re-presented, childe, apache, lzw, obsess, amit, â£44.54m, cybersecurity, impervious, tasked, abruptly, yoran, yorans, 3am, attest, vacuum, stanton-davies, person&#191;s, huddersfield, addictiveness, obsessives, sword, blogzine, mushroom, restlessness, lol, 2pm, toast, marginalised, escapism, widows, 7:30am, open-endedness, sanity, impair, eq, ahhhh, sorround, restarted, longing, shifts...waking, addict, galaxies, relasing, heart-rending, ogres, long-winded, 24hours, bladder, cos, evermore, everquest, ultima, mmorpg, infinite, alot, bothers, hrs, mirage, adiction, reccomend, 5:pm, enviroment, 15+, unproductive, 5am, tinkerer, unhealthily, trifling, obsessive, hobble, â£800, consumed, hehe, rpgs, sadder, mmoprgs, ummm, irretrievably, evercrack, succesfull, upto, quests, marrage, frag, playing..or, scare-mongering, hayot, adrenaline, definately, willpower, counsellor\n"
     ]
    }
   ],
   "source": [
    "stopset = stopset.union(set(hapax))\n",
    "print(\"Also removing document-level hapaxes:\")\n",
    "print(\", \".join(hapax))"
   ]
  },
  {
   "cell_type": "code",
   "execution_count": 21,
   "metadata": {
    "ExecuteTime": {
     "end_time": "2020-06-22T11:47:51.261351Z",
     "start_time": "2020-06-22T11:47:50.992354Z"
    }
   },
   "outputs": [
    {
     "name": "stdout",
     "output_type": "stream",
     "text": [
      "Also removing NLTK English stopwords\n",
      "i, me, my, myself, we, our, ours, ourselves, you, you're, you've, you'll, you'd, your, yours, yourself, yourselves, he, him, his, himself, she, she's, her, hers, herself, it, it's, its, itself, they, them, their, theirs, themselves, what, which, who, whom, this, that, that'll, these, those, am, is, are, was, were, be, been, being, have, has, had, having, do, does, did, doing, a, an, the, and, but, if, or, because, as, until, while, of, at, by, for, with, about, against, between, into, through, during, before, after, above, below, to, from, up, down, in, out, on, off, over, under, again, further, then, once, here, there, when, where, why, how, all, any, both, each, few, more, most, other, some, such, no, nor, not, only, own, same, so, than, too, very, s, t, can, will, just, don, don't, should, should've, now, d, ll, m, o, re, ve, y, ain, aren, aren't, couldn, couldn't, didn, didn't, doesn, doesn't, hadn, hadn't, hasn, hasn't, haven, haven't, isn, isn't, ma, mightn, mightn't, mustn, mustn't, needn, needn't, shan, shan't, shouldn, shouldn't, wasn, wasn't, weren, weren't, won, won't, wouldn, wouldn't\n"
     ]
    }
   ],
   "source": [
    "import nltk.corpus\n",
    "\n",
    "nltk_stopwords = nltk.corpus.stopwords.words(\"english\")\n",
    "stopset = stopset.union(nltk_stopwords)\n",
    "print(\"Also removing NLTK English stopwords\")\n",
    "print(\", \".join(nltk_stopwords))"
   ]
  },
  {
   "cell_type": "code",
   "execution_count": 22,
   "metadata": {
    "ExecuteTime": {
     "end_time": "2020-06-22T11:47:51.270354Z",
     "start_time": "2020-06-22T11:47:51.263355Z"
    }
   },
   "outputs": [],
   "source": [
    "def second_tokenise(tokens, stopset):\n",
    "    new_tokens = []\n",
    "    for token in tokens:\n",
    "        if token in stopset or re.match(\"^[^a-z]+$\", token) or len(token) <= 1:\n",
    "            continue\n",
    "        new_tokens.append(token)\n",
    "\n",
    "    return new_tokens"
   ]
  },
  {
   "cell_type": "code",
   "execution_count": 23,
   "metadata": {
    "ExecuteTime": {
     "end_time": "2020-06-22T11:47:52.074373Z",
     "start_time": "2020-06-22T11:47:51.274356Z"
    }
   },
   "outputs": [],
   "source": [
    "final_docs = []\n",
    "for phrased_doc in phrased_docs:\n",
    "    final_docs.append(\n",
    "        phrased_doc._replace(tokens=second_tokenise(phrased_doc.tokens, stopset))\n",
    "    )"
   ]
  },
  {
   "cell_type": "code",
   "execution_count": 24,
   "metadata": {
    "ExecuteTime": {
     "end_time": "2020-06-22T11:47:52.109399Z",
     "start_time": "2020-06-22T11:47:52.076378Z"
    }
   },
   "outputs": [
    {
     "data": {
      "application/vnd.jupyter.widget-view+json": {
       "model_id": "8fda58e28b2a4f68915f4e7a501d47ef",
       "version_major": 2,
       "version_minor": 0
      },
      "text/plain": [
       "interactive(children=(IntSlider(value=0, description='doc_id', max=2224), Output()), _dom_classes=('widget-int…"
      ]
     },
     "metadata": {},
     "output_type": "display_data"
    },
    {
     "data": {
      "text/plain": [
       "<function __main__.show_final_doc(doc_id=0)>"
      ]
     },
     "execution_count": 24,
     "metadata": {},
     "output_type": "execute_result"
    }
   ],
   "source": [
    "def show_final_doc(doc_id=0):\n",
    "    print(final_docs[doc_id].metadata)\n",
    "    print()\n",
    "    print(\" \".join(final_docs[doc_id].tokens))\n",
    "\n",
    "\n",
    "widgets.interact(show_final_doc, doc_id=(0, len(final_docs) - 1))"
   ]
  },
  {
   "cell_type": "code",
   "execution_count": 25,
   "metadata": {
    "ExecuteTime": {
     "end_time": "2020-06-22T11:47:52.140398Z",
     "start_time": "2020-06-22T11:47:52.111399Z"
    }
   },
   "outputs": [],
   "source": [
    "# Simple deduplication\n",
    "seen_docs = set()\n",
    "deduped_docs = []\n",
    "for doc in final_docs:\n",
    "    # Cast the document tokens as a tuple so that we can use it as a deduplicating hash\n",
    "    doc_hash = tuple(doc.tokens)\n",
    "    if doc_hash in seen_docs:\n",
    "        # print(f\"Duplicate document: {doc[0]['filename']}\")\n",
    "        pass\n",
    "    else:\n",
    "        seen_docs.add(doc_hash)\n",
    "        deduped_docs.append(doc)"
   ]
  },
  {
   "cell_type": "markdown",
   "metadata": {},
   "source": [
    "Save to Ignis Corpus\n",
    "----"
   ]
  },
  {
   "cell_type": "code",
   "execution_count": 26,
   "metadata": {
    "ExecuteTime": {
     "end_time": "2020-06-22T11:47:52.855699Z",
     "start_time": "2020-06-22T11:47:52.142396Z"
    }
   },
   "outputs": [],
   "source": [
    "import ignis"
   ]
  },
  {
   "cell_type": "code",
   "execution_count": 27,
   "metadata": {
    "ExecuteTime": {
     "end_time": "2020-06-22T11:47:54.587702Z",
     "start_time": "2020-06-22T11:47:52.857706Z"
    }
   },
   "outputs": [],
   "source": [
    "corpus = ignis.Corpus()\n",
    "\n",
    "for doc in deduped_docs:\n",
    "    corpus.add_doc(**doc._asdict())\n",
    "corpus.save(\"bbc-stopwords.corpus\")"
   ]
  },
  {
   "cell_type": "code",
   "execution_count": 28,
   "metadata": {
    "ExecuteTime": {
     "end_time": "2020-06-22T11:47:55.464306Z",
     "start_time": "2020-06-22T11:47:54.589702Z"
    }
   },
   "outputs": [],
   "source": [
    "# And make sure it loads without errors as well.\n",
    "corpus = ignis.load_corpus(\"bbc-stopwords.corpus\")"
   ]
  },
  {
   "cell_type": "code",
   "execution_count": 29,
   "metadata": {
    "ExecuteTime": {
     "end_time": "2020-06-22T11:47:55.507512Z",
     "start_time": "2020-06-22T11:47:55.466309Z"
    },
    "scrolled": false
   },
   "outputs": [
    {
     "data": {
      "application/vnd.jupyter.widget-view+json": {
       "model_id": "5f1421800e164d5ca5b58b1a8ff1e19c",
       "version_major": 2,
       "version_minor": 0
      },
      "text/plain": [
       "interactive(children=(IntSlider(value=0, description='index', max=2117), Output()), _dom_classes=('widget-inte…"
      ]
     },
     "metadata": {},
     "output_type": "display_data"
    },
    {
     "data": {
      "text/plain": [
       "<function __main__.show_corpus_doc(index=0)>"
      ]
     },
     "execution_count": 29,
     "metadata": {},
     "output_type": "execute_result"
    }
   ],
   "source": [
    "corpus_doc_ids = list(corpus.documents.keys())\n",
    "\n",
    "\n",
    "def show_corpus_doc(index=0):\n",
    "    doc = corpus.documents[corpus_doc_ids[index]]\n",
    "    print(doc.metadata)\n",
    "    print()\n",
    "    print(\"-\" * 10)\n",
    "    print()\n",
    "    print(doc.human_readable)\n",
    "    print()\n",
    "    print(\"-\" * 10)\n",
    "    print()\n",
    "    print(\" \".join(doc.tokens))\n",
    "\n",
    "\n",
    "widgets.interact(show_corpus_doc, index=(0, len(corpus_doc_ids) - 1))"
   ]
  },
  {
   "cell_type": "code",
   "execution_count": null,
   "metadata": {},
   "outputs": [],
   "source": []
  }
 ],
 "metadata": {
  "kernelspec": {
   "display_name": "Python 3",
   "language": "python",
   "name": "python3"
  },
  "language_info": {
   "codemirror_mode": {
    "name": "ipython",
    "version": 3
   },
   "file_extension": ".py",
   "mimetype": "text/x-python",
   "name": "python",
   "nbconvert_exporter": "python",
   "pygments_lexer": "ipython3",
   "version": "3.7.6"
  },
  "widgets": {
   "application/vnd.jupyter.widget-state+json": {
    "state": {
     "0176bce07868479ba1260626d7e96ae2": {
      "model_module": "@jupyter-widgets/controls",
      "model_module_version": "1.5.0",
      "model_name": "SliderStyleModel",
      "state": {
       "description_width": ""
      }
     },
     "0c6041bc44c44b2793dab67ad5b0794b": {
      "model_module": "@jupyter-widgets/base",
      "model_module_version": "1.2.0",
      "model_name": "LayoutModel",
      "state": {}
     },
     "0f6858aff9a6418893b5db2b75af667d": {
      "model_module": "@jupyter-widgets/base",
      "model_module_version": "1.2.0",
      "model_name": "LayoutModel",
      "state": {}
     },
     "13eb7efb1d294d8390b86540aaaeeb07": {
      "model_module": "@jupyter-widgets/base",
      "model_module_version": "1.2.0",
      "model_name": "LayoutModel",
      "state": {}
     },
     "1f898984afc444e49b13dc17023418de": {
      "model_module": "@jupyter-widgets/base",
      "model_module_version": "1.2.0",
      "model_name": "LayoutModel",
      "state": {}
     },
     "23c2e3055cdd4b0fb5ade54f47417ae4": {
      "model_module": "@jupyter-widgets/controls",
      "model_module_version": "1.5.0",
      "model_name": "VBoxModel",
      "state": {
       "_dom_classes": [
        "widget-interact"
       ],
       "children": [
        "IPY_MODEL_9636b5d65c6c45df80d319d5ae4775a8",
        "IPY_MODEL_963c8fb4d7e24e14b38a4ef5f44001e5"
       ],
       "layout": "IPY_MODEL_b5cc154c0da84a9b95e463fe55e0d966"
      }
     },
     "2e381aa08f0f498f97bdc2a2aae009da": {
      "model_module": "@jupyter-widgets/controls",
      "model_module_version": "1.5.0",
      "model_name": "VBoxModel",
      "state": {
       "_dom_classes": [
        "widget-interact"
       ],
       "children": [
        "IPY_MODEL_3a292d4848e340bbb03efcb44b4c5546",
        "IPY_MODEL_5259f03c2a4f4730902ea770b0867c84"
       ],
       "layout": "IPY_MODEL_0c6041bc44c44b2793dab67ad5b0794b"
      }
     },
     "300ddb0791ce4396893229818dff50e8": {
      "model_module": "@jupyter-widgets/output",
      "model_module_version": "1.0.0",
      "model_name": "OutputModel",
      "state": {
       "layout": "IPY_MODEL_510ec16b4b0c460395beef57d1b19385",
       "outputs": [
        {
         "name": "stdout",
         "output_type": "stream",
         "text": "{'filename': 'data/bbc/business/001.txt'}\n\nAd sales boost Time Warner profit\n\nQuarterly profits at US media giant TimeWarner jumped 76% to $1.13bn (Â£600m) for the three months to December, from $639m year-earlier.\n\nThe firm, which is now one of the biggest investors in Google, benefited from sales of high-speed internet connections and higher advert sales. TimeWarner said fourth quarter sales rose 2% to $11.1bn from $10.9bn. Its profits were buoyed by one-off gains which offset a profit dip at Warner Bros, and less users for AOL.\n\nTime Warner said on Friday that it now owns 8% of search-engine Google. But its own internet business, AOL, had has mixed fortunes. It lost 464,000 subscribers in the fourth quarter profits were lower than in the preceding three quarters. However, the company said AOL's underlying profit before exceptional items rose 8% on the back of stronger internet advertising revenues. It hopes to increase subscribers by offering the online service free to TimeWarner internet customers and will try to sign up AOL's existing customers for high-speed broadband. TimeWarner also has to restate 2000 and 2003 results following a probe by the US Securities Exchange Commission (SEC), which is close to concluding.\n\nTime Warner's fourth quarter profits were slightly better than analysts' expectations. But its film division saw profits slump 27% to $284m, helped by box-office flops Alexander and Catwoman, a sharp contrast to year-earlier, when the third and final film in the Lord of the Rings trilogy boosted results. For the full-year, TimeWarner posted a profit of $3.36bn, up 27% from its 2003 performance, while revenues grew 6.4% to $42.09bn. \"Our financial performance was strong, meeting or exceeding all of our full-year objectives and greatly enhancing our flexibility,\" chairman and chief executive Richard Parsons said. For 2005, TimeWarner is projecting operating earnings growth of around 5%, and also expects higher revenue and wider profit margins.\n\nTimeWarner is to restate its accounts as part of efforts to resolve an inquiry into AOL by US market regulators. It has already offered to pay $300m to settle charges, in a deal that is under review by the SEC. The company said it was unable to estimate the amount it needed to set aside for legal reserves, which it previously set at $500m. It intends to adjust the way it accounts for a deal with German music publisher Bertelsmann's purchase of a stake in AOL Europe, which it had reported as advertising revenue. It will now book the sale of its stake in AOL Europe as a loss on the value of that stake.\n\n"
        }
       ]
      }
     },
     "363d527b513e4ffab5f46f0a9cc2737b": {
      "model_module": "@jupyter-widgets/base",
      "model_module_version": "1.2.0",
      "model_name": "LayoutModel",
      "state": {}
     },
     "3a292d4848e340bbb03efcb44b4c5546": {
      "model_module": "@jupyter-widgets/controls",
      "model_module_version": "1.5.0",
      "model_name": "IntSliderModel",
      "state": {
       "description": "doc_id",
       "layout": "IPY_MODEL_9ed5f929f05949ca81047f3a84ae1e84",
       "max": 2224,
       "style": "IPY_MODEL_5c718fb3a6c54077b79a5a284570c0e0"
      }
     },
     "4a3ed32352254eeebe3368a117a9a382": {
      "model_module": "@jupyter-widgets/controls",
      "model_module_version": "1.5.0",
      "model_name": "SliderStyleModel",
      "state": {
       "description_width": ""
      }
     },
     "4df391293247441dba818e14d38af8ea": {
      "model_module": "@jupyter-widgets/base",
      "model_module_version": "1.2.0",
      "model_name": "LayoutModel",
      "state": {}
     },
     "510ec16b4b0c460395beef57d1b19385": {
      "model_module": "@jupyter-widgets/base",
      "model_module_version": "1.2.0",
      "model_name": "LayoutModel",
      "state": {}
     },
     "5259f03c2a4f4730902ea770b0867c84": {
      "model_module": "@jupyter-widgets/output",
      "model_module_version": "1.0.0",
      "model_name": "OutputModel",
      "state": {
       "layout": "IPY_MODEL_1f898984afc444e49b13dc17023418de",
       "outputs": [
        {
         "name": "stdout",
         "output_type": "stream",
         "text": "{'filename': 'data/bbc/business/001.txt'}\n\nad sales boost time warner profit quarterly profits at us media giant timewarner jumped to $1.13bn â£600m for the three months to december from $639m year-earlier the firm which is now one of the biggest investors in google benefited from sales of high-speed internet connections and higher advert sales timewarner said fourth quarter sales rose to $11.1bn from $10.9bn its profits were buoyed by one-off gains which offset profit dip at warner bros and less users for aol time warner said on friday that it now owns of search-engine google but its own internet business aol had has mixed fortunes it lost subscribers in the fourth quarter profits were lower than in the preceding three quarters however the company said aols underlying profit before exceptional items rose on the back of stronger internet advertising revenues it hopes to increase subscribers by offering the online service free to timewarner internet customers and will try to sign up aols existing customers for high-speed broadband timewarner also has to restate and results following probe by the us securities exchange commission sec which is close to concluding time warners fourth quarter profits were slightly better than analysts expectations but its film division saw profits slump to $284m helped by box-office flops alexander and catwoman sharp contrast to year-earlier when the third and final film in the lord_of_the_rings trilogy boosted results for the full-year timewarner posted profit of $3.36bn up from its performance while revenues grew to $42.09bn our financial performance was strong meeting or exceeding all of our full-year objectives and greatly enhancing our flexibility chairman and chief_executive richard parsons said for timewarner is projecting operating earnings growth of around and also expects higher revenue and wider profit margins timewarner is to restate its accounts as part of efforts to resolve an inquiry into aol by us market regulators it has already offered to pay $300m to settle charges in deal that is under review by the sec the company said it was unable to estimate the amount it needed to set aside for legal reserves which it previously set at $500m it intends to adjust the way it accounts for deal with german music publisher bertelsmanns purchase of stake in aol europe which it had reported as advertising revenue it will now book the sale of its stake in aol europe as loss on the value of that stake\n"
        }
       ]
      }
     },
     "596c9f0a5ee54976b5c305733046eb20": {
      "model_module": "@jupyter-widgets/controls",
      "model_module_version": "1.5.0",
      "model_name": "VBoxModel",
      "state": {
       "_dom_classes": [
        "widget-interact"
       ],
       "children": [
        "IPY_MODEL_72c64a752960491d904da0ddbdf4798b",
        "IPY_MODEL_972d09b6a6024423a6de54b5f13114a5"
       ],
       "layout": "IPY_MODEL_c8473dedaa18462dbd9ed2df63cffc33"
      }
     },
     "5c718fb3a6c54077b79a5a284570c0e0": {
      "model_module": "@jupyter-widgets/controls",
      "model_module_version": "1.5.0",
      "model_name": "SliderStyleModel",
      "state": {
       "description_width": ""
      }
     },
     "6e2d7a2b5ae14a82bc6493af5230b988": {
      "model_module": "@jupyter-widgets/base",
      "model_module_version": "1.2.0",
      "model_name": "LayoutModel",
      "state": {}
     },
     "72c64a752960491d904da0ddbdf4798b": {
      "model_module": "@jupyter-widgets/controls",
      "model_module_version": "1.5.0",
      "model_name": "IntSliderModel",
      "state": {
       "description": "doc_id",
       "layout": "IPY_MODEL_4df391293247441dba818e14d38af8ea",
       "max": 2224,
       "style": "IPY_MODEL_4a3ed32352254eeebe3368a117a9a382"
      }
     },
     "9636b5d65c6c45df80d319d5ae4775a8": {
      "model_module": "@jupyter-widgets/controls",
      "model_module_version": "1.5.0",
      "model_name": "IntSliderModel",
      "state": {
       "description": "doc_id",
       "layout": "IPY_MODEL_13eb7efb1d294d8390b86540aaaeeb07",
       "max": 2224,
       "style": "IPY_MODEL_0176bce07868479ba1260626d7e96ae2"
      }
     },
     "963c8fb4d7e24e14b38a4ef5f44001e5": {
      "model_module": "@jupyter-widgets/output",
      "model_module_version": "1.0.0",
      "model_name": "OutputModel",
      "state": {
       "layout": "IPY_MODEL_c7609d692cbd4e8e967cb8cbd2357b69",
       "outputs": [
        {
         "name": "stdout",
         "output_type": "stream",
         "text": "{'filename': 'data/bbc/business/001.txt'}\n\nad sales boost time warner profit quarterly profits at us media giant timewarner jumped 76% to $1.13bn â£600m for the three months to december from $639m year-earlier the firm which is now one of the biggest investors in google benefited from sales of high-speed internet connections and higher advert sales timewarner said fourth quarter sales rose 2% to $11.1bn from $10.9bn its profits were buoyed by one-off gains which offset a profit dip at warner bros and less users for aol time warner said on friday that it now owns 8% of search-engine google but its own internet business aol had has mixed fortunes it lost 464,000 subscribers in the fourth quarter profits were lower than in the preceding three quarters however the company said aols underlying profit before exceptional items rose 8% on the back of stronger internet advertising revenues it hopes to increase subscribers by offering the online service free to timewarner internet customers and will try to sign up aols existing customers for high-speed broadband timewarner also has to restate 2000 and 2003 results following a probe by the us securities exchange commission sec which is close to concluding time warners fourth quarter profits were slightly better than analysts expectations but its film division saw profits slump 27% to $284m helped by box-office flops alexander and catwoman a sharp contrast to year-earlier when the third and final film in the lord_of_the_rings trilogy boosted results for the full-year timewarner posted a profit of $3.36bn up 27% from its 2003 performance while revenues grew 6.4% to $42.09bn our financial performance was strong meeting or exceeding all of our full-year objectives and greatly enhancing our flexibility chairman and chief_executive richard parsons said for 2005 timewarner is projecting operating earnings growth of around 5% and also expects higher revenue and wider profit margins timewarner is to restate its accounts as part of efforts to resolve an inquiry into aol by us market regulators it has already offered to pay $300m to settle charges in a deal that is under review by the sec the company said it was unable to estimate the amount it needed to set aside for legal reserves which it previously set at $500m it intends to adjust the way it accounts for a deal with german music publisher bertelsmanns purchase of a stake in aol europe which it had reported as advertising revenue it will now book the sale of its stake in aol europe as a loss on the value of that stake\n"
        }
       ]
      }
     },
     "972d09b6a6024423a6de54b5f13114a5": {
      "model_module": "@jupyter-widgets/output",
      "model_module_version": "1.0.0",
      "model_name": "OutputModel",
      "state": {
       "layout": "IPY_MODEL_6e2d7a2b5ae14a82bc6493af5230b988",
       "outputs": [
        {
         "name": "stdout",
         "output_type": "stream",
         "text": "{'filename': 'data/bbc/business/001.txt'}\n\nad sales boost time warner profit quarterly profits at us media giant timewarner jumped 76% to $1.13bn â£600m for the three months to december from $639m year-earlier the firm which is now one of the biggest investors in google benefited from sales of high-speed internet connections and higher advert sales timewarner said fourth quarter sales rose 2% to $11.1bn from $10.9bn its profits were buoyed by one-off gains which offset a profit dip at warner bros and less users for aol time warner said on friday that it now owns 8% of search-engine google but its own internet business aol had has mixed fortunes it lost 464,000 subscribers in the fourth quarter profits were lower than in the preceding three quarters however the company said aols underlying profit before exceptional items rose 8% on the back of stronger internet advertising revenues it hopes to increase subscribers by offering the online service free to timewarner internet customers and will try to sign up aols existing customers for high-speed broadband timewarner also has to restate 2000 and 2003 results following a probe by the us securities exchange commission sec which is close to concluding time warners fourth quarter profits were slightly better than analysts expectations but its film division saw profits slump 27% to $284m helped by box-office flops alexander and catwoman a sharp contrast to year-earlier when the third and final film in the lord of the rings trilogy boosted results for the full-year timewarner posted a profit of $3.36bn up 27% from its 2003 performance while revenues grew 6.4% to $42.09bn our financial performance was strong meeting or exceeding all of our full-year objectives and greatly enhancing our flexibility chairman and chief executive richard parsons said for 2005 timewarner is projecting operating earnings growth of around 5% and also expects higher revenue and wider profit margins timewarner is to restate its accounts as part of efforts to resolve an inquiry into aol by us market regulators it has already offered to pay $300m to settle charges in a deal that is under review by the sec the company said it was unable to estimate the amount it needed to set aside for legal reserves which it previously set at $500m it intends to adjust the way it accounts for a deal with german music publisher bertelsmanns purchase of a stake in aol europe which it had reported as advertising revenue it will now book the sale of its stake in aol europe as a loss on the value of that stake\n"
        }
       ]
      }
     },
     "9ed5f929f05949ca81047f3a84ae1e84": {
      "model_module": "@jupyter-widgets/base",
      "model_module_version": "1.2.0",
      "model_name": "LayoutModel",
      "state": {}
     },
     "b5cc154c0da84a9b95e463fe55e0d966": {
      "model_module": "@jupyter-widgets/base",
      "model_module_version": "1.2.0",
      "model_name": "LayoutModel",
      "state": {}
     },
     "bc3c0ab7399b4b16b5d34f7b6307998b": {
      "model_module": "@jupyter-widgets/controls",
      "model_module_version": "1.5.0",
      "model_name": "VBoxModel",
      "state": {
       "_dom_classes": [
        "widget-interact"
       ],
       "children": [
        "IPY_MODEL_e4e663e13b1c4bb4a38edf7e816b4937",
        "IPY_MODEL_300ddb0791ce4396893229818dff50e8"
       ],
       "layout": "IPY_MODEL_363d527b513e4ffab5f46f0a9cc2737b"
      }
     },
     "c5cdae633e8d419f8e138445d94e8bbc": {
      "model_module": "@jupyter-widgets/controls",
      "model_module_version": "1.5.0",
      "model_name": "SliderStyleModel",
      "state": {
       "description_width": ""
      }
     },
     "c7609d692cbd4e8e967cb8cbd2357b69": {
      "model_module": "@jupyter-widgets/base",
      "model_module_version": "1.2.0",
      "model_name": "LayoutModel",
      "state": {}
     },
     "c8473dedaa18462dbd9ed2df63cffc33": {
      "model_module": "@jupyter-widgets/base",
      "model_module_version": "1.2.0",
      "model_name": "LayoutModel",
      "state": {}
     },
     "e4e663e13b1c4bb4a38edf7e816b4937": {
      "model_module": "@jupyter-widgets/controls",
      "model_module_version": "1.5.0",
      "model_name": "IntSliderModel",
      "state": {
       "description": "doc_id",
       "layout": "IPY_MODEL_0f6858aff9a6418893b5db2b75af667d",
       "max": 2224,
       "style": "IPY_MODEL_c5cdae633e8d419f8e138445d94e8bbc"
      }
     }
    },
    "version_major": 2,
    "version_minor": 0
   }
  }
 },
 "nbformat": 4,
 "nbformat_minor": 4
}
