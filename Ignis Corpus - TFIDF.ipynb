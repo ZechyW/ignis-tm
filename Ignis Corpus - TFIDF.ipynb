{
 "cells": [
  {
   "cell_type": "markdown",
   "metadata": {},
   "source": [
    "Ignis: Text Pre-processing\n",
    "=========================="
   ]
  },
  {
   "cell_type": "code",
   "execution_count": 1,
   "metadata": {
    "ExecuteTime": {
     "end_time": "2020-08-04T09:08:07.628993Z",
     "start_time": "2020-08-04T09:08:05.809586Z"
    }
   },
   "outputs": [],
   "source": [
    "# General library imports\n",
    "import collections\n",
    "import glob\n",
    "import pathlib\n",
    "import re\n",
    "import threading\n",
    "import time\n",
    "\n",
    "import gensim\n",
    "import tqdm\n",
    "\n",
    "import ignis"
   ]
  },
  {
   "cell_type": "code",
   "execution_count": 2,
   "metadata": {
    "ExecuteTime": {
     "end_time": "2020-08-04T09:08:07.679909Z",
     "start_time": "2020-08-04T09:08:07.629960Z"
    }
   },
   "outputs": [
    {
     "data": {
      "text/html": [
       "\n",
       "<style>\n",
       "   div.cell > div.output_wrapper > div.output.output_scroll {\n",
       "     height: auto;\n",
       "   }\n",
       "   .jupyter-widgets-output-area .output_scroll {\n",
       "        height: unset;\n",
       "        border-radius: unset;\n",
       "        -webkit-box-shadow: unset;\n",
       "        box-shadow: unset;\n",
       "    }\n",
       "    .jupyter-widgets-output-area, div.output_stdout, div.output_result  {\n",
       "        height: auto;\n",
       "        max-height: 50em;\n",
       "        overflow-y: auto;\n",
       "    }\n",
       "</style>\n"
      ],
      "text/plain": [
       "<IPython.core.display.HTML object>"
      ]
     },
     "metadata": {},
     "output_type": "display_data"
    }
   ],
   "source": [
    "# Jupyter notebook setup\n",
    "import ipywidgets as widgets\n",
    "from IPython.core.display import display, HTML\n",
    "\n",
    "# Custom styling:\n",
    "# - Prevent vertical scrollbars in output subareas\n",
    "style = \"\"\"\n",
    "<style>\n",
    "   div.cell > div.output_wrapper > div.output.output_scroll {\n",
    "     height: auto;\n",
    "   }\n",
    "   .jupyter-widgets-output-area .output_scroll {\n",
    "        height: unset;\n",
    "        border-radius: unset;\n",
    "        -webkit-box-shadow: unset;\n",
    "        box-shadow: unset;\n",
    "    }\n",
    "    .jupyter-widgets-output-area, div.output_stdout, div.output_result  {\n",
    "        height: auto;\n",
    "        max-height: 50em;\n",
    "        overflow-y: auto;\n",
    "    }\n",
    "</style>\n",
    "\"\"\"\n",
    "display(HTML(style))"
   ]
  },
  {
   "cell_type": "markdown",
   "metadata": {},
   "source": [
    "Data ingestion\n",
    "--------------------\n",
    "\n",
    "We will track the contents and filename of each document, then tokenise them all and feed them into an `ignis.Corpus` that will be saved.\n",
    "\n",
    "We should, by all accounts, actually be preparing a separate text cleaning function and running the raw text through it immediately, but this way we can see the effects of each step of the data cleaning."
   ]
  },
  {
   "cell_type": "code",
   "execution_count": 3,
   "metadata": {
    "ExecuteTime": {
     "end_time": "2020-08-04T09:08:07.698829Z",
     "start_time": "2020-08-04T09:08:07.680915Z"
    }
   },
   "outputs": [],
   "source": [
    "raw_files = glob.glob(\"./data/bbc/*/*.txt\")"
   ]
  },
  {
   "cell_type": "code",
   "execution_count": 4,
   "metadata": {
    "ExecuteTime": {
     "end_time": "2020-08-04T09:08:07.704814Z",
     "start_time": "2020-08-04T09:08:07.700849Z"
    }
   },
   "outputs": [],
   "source": [
    "RawDocument = collections.namedtuple(\"RawDocument\", \"metadata, tokens, display_str\")"
   ]
  },
  {
   "cell_type": "code",
   "execution_count": 5,
   "metadata": {
    "ExecuteTime": {
     "end_time": "2020-08-04T09:08:07.972108Z",
     "start_time": "2020-08-04T09:08:07.706809Z"
    }
   },
   "outputs": [
    {
     "name": "stderr",
     "output_type": "stream",
     "text": [
      "100%|██████████| 2225/2225 [00:00<00:00, 8817.72it/s]\n"
     ]
    }
   ],
   "source": [
    "raw_docs = []\n",
    "for file in tqdm.tqdm(raw_files):\n",
    "    filename = pathlib.Path(file).as_posix()\n",
    "\n",
    "    metadata = {\"filename\": filename}\n",
    "\n",
    "    # Basic HTML conversion (we could just use the plain text as well, BeautifulSoup can parse it)\n",
    "    with open(file) as f:\n",
    "        tokens = f.read()\n",
    "        lines = [line for line in tokens.split(\"\\n\") if line != \"\"]\n",
    "        \n",
    "        # Assume first line is the title\n",
    "        title = f\"<em>{lines[0]}</em>\"\n",
    "        paras = [f\"<p>{line}</p>\" for line in lines[1:]]\n",
    "        body = \"\\n\".join(paras)\n",
    "        display_str = f\"<html><body>{title}{body}</body></html>\"\n",
    "\n",
    "    raw_doc = RawDocument(metadata, tokens, display_str)\n",
    "\n",
    "    raw_docs.append(raw_doc)"
   ]
  },
  {
   "cell_type": "code",
   "execution_count": 6,
   "metadata": {
    "ExecuteTime": {
     "end_time": "2020-08-04T09:08:07.996071Z",
     "start_time": "2020-08-04T09:08:07.973105Z"
    }
   },
   "outputs": [
    {
     "data": {
      "application/vnd.jupyter.widget-view+json": {
       "model_id": "49f2dc201e084a29a1856acd789f430c",
       "version_major": 2,
       "version_minor": 0
      },
      "text/plain": [
       "interactive(children=(IntSlider(value=0, description='doc_id', max=2224), Output()), _dom_classes=('widget-int…"
      ]
     },
     "metadata": {},
     "output_type": "display_data"
    },
    {
     "data": {
      "text/plain": [
       "<function __main__.show_raw_doc(doc_id=0)>"
      ]
     },
     "execution_count": 6,
     "metadata": {},
     "output_type": "execute_result"
    }
   ],
   "source": [
    "def show_raw_doc(doc_id=0):\n",
    "    print(raw_docs[doc_id].metadata)\n",
    "    print()\n",
    "    print(raw_docs[doc_id].tokens)\n",
    "\n",
    "\n",
    "widgets.interact(show_raw_doc, doc_id=(0, len(raw_docs) - 1))"
   ]
  },
  {
   "cell_type": "markdown",
   "metadata": {},
   "source": [
    "Text pre-processing and tokenisation\n",
    "------"
   ]
  },
  {
   "cell_type": "markdown",
   "metadata": {},
   "source": [
    "### Pre-tokenisation cleaning\n",
    "- URLs/Emails"
   ]
  },
  {
   "cell_type": "code",
   "execution_count": 7,
   "metadata": {
    "ExecuteTime": {
     "end_time": "2020-08-04T09:08:08.048932Z",
     "start_time": "2020-08-04T09:08:07.998062Z"
    }
   },
   "outputs": [],
   "source": [
    "URL_REGEX = re.compile(\n",
    "    # protocol identifier\n",
    "    r\"(?:(?:(?:https?|ftp):)?//)\"\n",
    "    # user:pass authentication\n",
    "    r\"(?:\\S+(?::\\S*)?@)?\" r\"(?:\"\n",
    "    # IP address exclusion\n",
    "    # private & local networks\n",
    "    r\"(?!(?:10|127)(?:\\.\\d{1,3}){3})\"\n",
    "    r\"(?!(?:169\\.254|192\\.168)(?:\\.\\d{1,3}){2})\"\n",
    "    r\"(?!172\\.(?:1[6-9]|2\\d|3[0-1])(?:\\.\\d{1,3}){2})\"\n",
    "    # IP address dotted notation octets\n",
    "    # excludes loopback network 0.0.0.0\n",
    "    # excludes reserved space >= 224.0.0.0\n",
    "    # excludes network & broadcast addresses\n",
    "    # (first & last IP address of each class)\n",
    "    r\"(?:[1-9]\\d?|1\\d\\d|2[01]\\d|22[0-3])\"\n",
    "    r\"(?:\\.(?:1?\\d{1,2}|2[0-4]\\d|25[0-5])){2}\"\n",
    "    r\"(?:\\.(?:[1-9]\\d?|1\\d\\d|2[0-4]\\d|25[0-4]))\"\n",
    "    r\"|\"\n",
    "    # host & domain names, may end with dot\n",
    "    # can be replaced by a shortest alternative\n",
    "    # r\"(?![-_])(?:[-\\w\\u00a1-\\uffff]{0,63}[^-_]\\.)+\"\n",
    "    # r\"(?:(?:[a-z\\u00a1-\\uffff0-9]-?)*[a-z\\u00a1-\\uffff0-9]+)\"\n",
    "    # # domain name\n",
    "    # r\"(?:\\.(?:[a-z\\u00a1-\\uffff0-9]-?)*[a-z\\u00a1-\\uffff0-9]+)*\"\n",
    "    r\"(?:\"\n",
    "    r\"(?:\"\n",
    "    r\"[a-z0-9\\u00a1-\\uffff]\"\n",
    "    r\"[a-z0-9\\u00a1-\\uffff_-]{0,62}\"\n",
    "    r\")?\"\n",
    "    r\"[a-z0-9\\u00a1-\\uffff]\\.\"\n",
    "    r\")+\"\n",
    "    # TLD identifier name, may end with dot\n",
    "    r\"(?:[a-z\\u00a1-\\uffff]{2,}\\.?)\" r\")\"\n",
    "    # port number (optional)\n",
    "    r\"(?::\\d{2,5})?\"\n",
    "    # resource path (optional)\n",
    "    r\"(?:[/?#]\\S*)?\",\n",
    "    re.IGNORECASE,\n",
    ")"
   ]
  },
  {
   "cell_type": "code",
   "execution_count": 8,
   "metadata": {
    "ExecuteTime": {
     "end_time": "2020-08-04T09:08:08.058883Z",
     "start_time": "2020-08-04T09:08:08.051925Z"
    }
   },
   "outputs": [],
   "source": [
    "pre_regexes = [\n",
    "    # Rough email regex\n",
    "    re.compile(r\"\\b[a-z0-9._%+-]+@[a-z0-9.-]+[.][a-z]{2,}\\b\", re.IGNORECASE),\n",
    "    # URL regex\n",
    "    URL_REGEX,\n",
    "    # Rougher URL regex\n",
    "    re.compile(r\"\\bwww[.][a-z0-9.-]+[.][a-z]{2,}\\b\", re.IGNORECASE),\n",
    "]"
   ]
  },
  {
   "cell_type": "code",
   "execution_count": 9,
   "metadata": {
    "ExecuteTime": {
     "end_time": "2020-08-04T09:08:08.748114Z",
     "start_time": "2020-08-04T09:08:08.059879Z"
    }
   },
   "outputs": [],
   "source": [
    "def pre_regex(doc):\n",
    "    for regex in pre_regexes:\n",
    "        doc = regex.sub(\"\", doc)\n",
    "    return doc\n",
    "\n",
    "\n",
    "pre_clean_docs = []\n",
    "for doc in raw_docs:\n",
    "    pre_clean_docs.append(doc._replace(tokens=pre_regex(doc.tokens)))"
   ]
  },
  {
   "cell_type": "markdown",
   "metadata": {},
   "source": [
    "### Naive tokenisation (by whitespace)\n",
    "- Case folding\n",
    "- Strip leading/trailing non-informative punctuation from tokens\n",
    "- Remove single apostrophes\n",
    "- Remove single brackets within words\n",
    "  - For dealing with cases like \"the recipient(s)\" -- Which will get tokenised to \"the recipient(s\" otherwise"
   ]
  },
  {
   "cell_type": "code",
   "execution_count": 10,
   "metadata": {
    "ExecuteTime": {
     "end_time": "2020-08-04T09:08:08.756175Z",
     "start_time": "2020-08-04T09:08:08.749082Z"
    }
   },
   "outputs": [],
   "source": [
    "strip_punctuation = \"'\\\"()[]<>?!,.:;/|_\"\n",
    "bracket_pairs = [\n",
    "    [\"(\", \")\"],\n",
    "    [\"[\", \"]\"],\n",
    "]\n",
    "\n",
    "\n",
    "def naive_tokenise(doc):\n",
    "    \"\"\"\n",
    "    Naively tokenises a document.\n",
    "    \n",
    "    Returns\n",
    "    -------\n",
    "    str\n",
    "        The document as a string of space-separated tokens\n",
    "    \"\"\"\n",
    "    new_tokens = []\n",
    "\n",
    "    tokens = doc.split()\n",
    "    for token in tokens:\n",
    "        token = token.casefold()\n",
    "        token = token.strip(strip_punctuation)\n",
    "        token = token.replace(\"'\", \"\")\n",
    "\n",
    "        for bracket_pair in bracket_pairs:\n",
    "            if bracket_pair[0] in token and bracket_pair[1] not in token:\n",
    "                token = token.replace(bracket_pair[0], \"\")\n",
    "            if bracket_pair[1] in token and bracket_pair[0] not in token:\n",
    "                token = token.replace(bracket_pair[1], \"\")\n",
    "\n",
    "        if token != \"\":\n",
    "            new_tokens.append(token)\n",
    "\n",
    "    return new_tokens"
   ]
  },
  {
   "cell_type": "code",
   "execution_count": 11,
   "metadata": {
    "ExecuteTime": {
     "end_time": "2020-08-04T09:08:09.291663Z",
     "start_time": "2020-08-04T09:08:08.759032Z"
    }
   },
   "outputs": [],
   "source": [
    "naive_docs = []\n",
    "for doc in pre_clean_docs:\n",
    "    naive_docs.append(doc._replace(tokens=naive_tokenise(doc.tokens)))"
   ]
  },
  {
   "cell_type": "code",
   "execution_count": 12,
   "metadata": {
    "ExecuteTime": {
     "end_time": "2020-08-04T09:08:09.318579Z",
     "start_time": "2020-08-04T09:08:09.292654Z"
    }
   },
   "outputs": [
    {
     "data": {
      "application/vnd.jupyter.widget-view+json": {
       "model_id": "3da53b21d20c4eeebc47240eddb8dd89",
       "version_major": 2,
       "version_minor": 0
      },
      "text/plain": [
       "interactive(children=(IntSlider(value=0, description='doc_id', max=2224), Output()), _dom_classes=('widget-int…"
      ]
     },
     "metadata": {},
     "output_type": "display_data"
    },
    {
     "data": {
      "text/plain": [
       "<function __main__.show_naive_doc(doc_id=0)>"
      ]
     },
     "execution_count": 12,
     "metadata": {},
     "output_type": "execute_result"
    }
   ],
   "source": [
    "def show_naive_doc(doc_id=0):\n",
    "    print(naive_docs[doc_id].metadata)\n",
    "    print()\n",
    "    print(\" \".join(naive_docs[doc_id].tokens))\n",
    "\n",
    "\n",
    "widgets.interact(show_naive_doc, doc_id=(0, len(naive_docs) - 1))"
   ]
  },
  {
   "cell_type": "markdown",
   "metadata": {},
   "source": [
    "### Automated n-gram detection\n",
    "\n",
    "Chunk into significant bigrams based on collocation frequency\n",
    "\n",
    "(N.B.: Gensim implies that the input to the Phraser should be a list of single sentences, but we will feed it a list of documents instead.)\n",
    "\n",
    "- Min count: How many documents the n-grams need to appear in\n",
    "\n",
    "- Scoring: \"default\" or \"npmi\"\n",
    "\n",
    "- Threshold: Intuitively, higher threshold means fewer phrases.\n",
    "  - With the default scorer, this is greater than or equal to 0; with the NPMI scorer, this is in the range -1 to 1.\n",
    "\n",
    "- Common terms: These terms will be ignored if they come between normal words.\n",
    "  - E.g., if `common_terms` includes the word \"of\", then when the phraser sees \"Wheel of Fortune\" it actually evaluates _\"Wheel Fortune\"_ as an n-gram, putting \"of\" back in only at the output level to give _wheel_of_fortune_.\n",
    "  - With the `common_terms` option set properly,  there do not seem to be many significant trigrams and above left to pick up -- We stick with bigrams to save on runtime."
   ]
  },
  {
   "cell_type": "code",
   "execution_count": 13,
   "metadata": {
    "ExecuteTime": {
     "end_time": "2020-08-04T09:08:09.324545Z",
     "start_time": "2020-08-04T09:08:09.320551Z"
    }
   },
   "outputs": [],
   "source": [
    "min_count = 5\n",
    "scoring = \"npmi\"\n",
    "# We want a relatively high threshold so that we don't start littering spurious n-grams all over our corpus, diluting our results.\n",
    "# E.g., we want \"Lord_of_the_Rings\", but not \"slightly_better_than_analysts\"\n",
    "threshold = 0.7\n",
    "common_terms = [\"a\", \"an\", \"the\", \"of\", \"on\", \"in\", \"at\"]\n",
    "\n",
    "# Up to 4-grams, not counting `common_terms`\n",
    "phraser_iterations = 3"
   ]
  },
  {
   "cell_type": "code",
   "execution_count": 14,
   "metadata": {
    "ExecuteTime": {
     "end_time": "2020-08-04T09:08:23.434705Z",
     "start_time": "2020-08-04T09:08:09.326534Z"
    }
   },
   "outputs": [
    {
     "name": "stdout",
     "output_type": "stream",
     "text": [
      "Gensim Phraser initialised. 4.589s\n",
      "Improved Phraser initialised. 0.045s\n"
     ]
    },
    {
     "name": "stderr",
     "output_type": "stream",
     "text": [
      "100%|██████████| 2225/2225 [00:00<00:00, 6993.11it/s]\n"
     ]
    },
    {
     "name": "stdout",
     "output_type": "stream",
     "text": [
      "Gensim Phraser initialised. 4.261s\n",
      "Improved Phraser initialised. 0.004s\n"
     ]
    },
    {
     "name": "stderr",
     "output_type": "stream",
     "text": [
      "100%|██████████| 2225/2225 [00:00<00:00, 8231.88it/s]\n"
     ]
    },
    {
     "name": "stdout",
     "output_type": "stream",
     "text": [
      "Gensim Phraser initialised. 4.321s\n",
      "Improved Phraser initialised. 0.001s\n"
     ]
    },
    {
     "name": "stderr",
     "output_type": "stream",
     "text": [
      "100%|██████████| 2225/2225 [00:00<00:00, 8440.66it/s]\n"
     ]
    }
   ],
   "source": [
    "for_phrasing = [doc.tokens for doc in naive_docs]\n",
    "\n",
    "for _ in range(phraser_iterations):\n",
    "    phraser = ignis.util.ImprovedPhraser(\n",
    "        for_phrasing,\n",
    "        min_count=min_count,\n",
    "        threshold=threshold,\n",
    "        scoring=scoring,\n",
    "        common_terms=common_terms,\n",
    "        drop_non_alpha=True,\n",
    "        verbose=True,\n",
    "    )\n",
    "    for_phrasing = phraser.find_ngrams(for_phrasing, verbose=True)\n",
    "\n",
    "# `for_phrasing` contains the post-phrasing tokens for each document;\n",
    "# We need to recombine them with each document's metadata etc.\n",
    "phrased_docs = []\n",
    "for index, doc in enumerate(for_phrasing):\n",
    "    phrased_docs.append(naive_docs[index]._replace(tokens=doc))"
   ]
  },
  {
   "cell_type": "code",
   "execution_count": 15,
   "metadata": {
    "ExecuteTime": {
     "end_time": "2020-08-04T09:08:23.466642Z",
     "start_time": "2020-08-04T09:08:23.436697Z"
    },
    "scrolled": false
   },
   "outputs": [
    {
     "data": {
      "application/vnd.jupyter.widget-view+json": {
       "model_id": "80f9eaf8224640ac957c459a6a994ec8",
       "version_major": 2,
       "version_minor": 0
      },
      "text/plain": [
       "interactive(children=(IntSlider(value=0, description='doc_id', max=2224), Output()), _dom_classes=('widget-int…"
      ]
     },
     "metadata": {},
     "output_type": "display_data"
    },
    {
     "data": {
      "text/plain": [
       "<function __main__.show_phrased_doc(doc_id=0)>"
      ]
     },
     "execution_count": 15,
     "metadata": {},
     "output_type": "execute_result"
    }
   ],
   "source": [
    "def show_phrased_doc(doc_id=0):\n",
    "    print(phrased_docs[doc_id].metadata)\n",
    "    print()\n",
    "    print(\"/\".join(phrased_docs[doc_id].tokens))\n",
    "\n",
    "\n",
    "widgets.interact(show_phrased_doc, doc_id=(0, len(phrased_docs) - 1))"
   ]
  },
  {
   "cell_type": "code",
   "execution_count": 16,
   "metadata": {
    "ExecuteTime": {
     "end_time": "2020-08-04T09:08:23.641187Z",
     "start_time": "2020-08-04T09:08:23.468613Z"
    },
    "scrolled": false
   },
   "outputs": [
    {
     "name": "stdout",
     "output_type": "stream",
     "text": [
      "lord of the rings\n",
      "reuters news agency\n",
      "founder mikhail khodorkovsky\n",
      "wall street journal\n",
      "gross domestic product\n",
      "sports utility vehicles\n",
      "radio 4s today programme\n",
      "standard & poors\n",
      "chancellor gerhard schroeder\n",
      "judge letitia clark\n",
      "gas monopoly gazprom\n",
      "told bbc news\n",
      "sir digby jones\n",
      "president george w bush\n",
      "house of lords\n",
      "george w bushs\n",
      "international monetary fund\n",
      "tens of thousands\n",
      "monetary fund imf\n",
      "governor mervyn king\n",
      "chambers of commerce\n",
      "shadow chancellor oliver letwin\n",
      "billions of dollars\n",
      "chapter 11 bankruptcy\n",
      "faces stiff competition\n",
      "gross domestic product gdp\n",
      "sir alex ferguson\n",
      "tampa bay buccaneers\n",
      "george w bush\n",
      "jp morgan chase\n",
      "lula da silva\n",
      "weapons of mass destruction\n",
      "tip of the iceberg\n",
      "german chancellor gerhard schroeder\n",
      "told the bbc news website\n",
      "asian tsunami disaster\n",
      "da vinci code\n",
      "prisoner of azkaban\n",
      "tells the story\n",
      "million dollar baby\n",
      "dead mans shoes\n",
      "shaun of the dead\n",
      "londons leicester square\n",
      "pirates of the caribbean\n",
      "eternal sunshine of the spotless mind\n",
      "passion of the christ\n",
      "howls moving castle\n",
      "robert de niro\n",
      "meet the fockers\n",
      "screen actors guild\n",
      "victims of the asian tsunami\n",
      "dismantle an atomic bomb\n",
      "manic street preachers\n",
      "rock n roll\n",
      "black eyed peas\n",
      "hall of fame\n",
      "rapper 50 cent\n",
      "t in the park\n",
      "phantom of the opera\n",
      "hepburn in the aviator\n",
      "bbc news website\n",
      "co-chairman liam fox\n",
      "partys spring conference\n",
      "leader charles kennedy\n",
      "foreign secretary jack straw\n",
      "miscarriages of justice\n",
      "affairs spokesman mark oaten\n",
      "secretary michael ancram\n",
      "secretary charles clarke\n",
      "spokesman mark oaten\n",
      "convention on human rights\n",
      "sir alan budd\n",
      "guy mansfield qc\n",
      "hands of extremists\n",
      "stamp duty threshold\n",
      "code of conduct\n",
      "archbishop of canterbury\n",
      "spring conference in gateshead\n",
      "prevention of terrorism\n",
      "political editor andrew marr\n",
      "concentration camp guard\n",
      "chairman matthew taylor\n",
      "mrs parker bowles\n",
      "leader roger knapman\n",
      "coordinator alan milburn\n",
      "iraqs weapons of mass destruction\n",
      "cabinet allies intervened\n",
      "telegraph journalist robert peston\n",
      "radio 4s today\n",
      "birmingham grand prix\n",
      "grand prix in birmingham\n",
      "association of athletics federations\n",
      "tests in tel aviv chicago\n",
      "faking a motorcycle accident\n",
      "tests in tel aviv\n",
      "coach christos tzekos\n",
      "lawyer gregory ioannidis\n",
      "ruud van nistelrooy\n",
      "boss jose mourinho\n",
      "jose antonio reyes\n",
      "white hart lane\n",
      "icing on the cake\n",
      "rbs six nations\n",
      "coach andy robinson\n",
      "coach bernard laporte\n",
      "referee jonathan kaplan\n",
      "sir clive woodward\n",
      "coach eddie osullivan\n",
      "coach mike ruddock\n",
      "roland de marigny\n",
      "r de marigny\n",
      "capt a persico\n",
      "ca del fava\n",
      "d dal maso\n",
      "juan carlos ferrero\n",
      "juan ignacio chela\n",
      "swiss army knife\n",
      "fibre optic cables\n",
      "pc pro magazine\n",
      "sonys playstation portable\n",
      "amazon.com holds a patent\n",
      "speed downlink packet\n",
      "downlink packet access\n",
      "electronic frontier foundation\n",
      "grand theft auto\n",
      "graham cluley senior\n",
      "los caballeros de plan\n",
      "blogs in existence\n",
      "gta san andreas\n",
      "hitting the shelves\n",
      "blue gene/l machine\n",
      "gameboyzz orchestra project\n"
     ]
    }
   ],
   "source": [
    "# Trigrams and above in the corpus (with `common_terms` set properly)\n",
    "seen_tokens = set()\n",
    "for document in phrased_docs:\n",
    "    for token in document.tokens:\n",
    "        if token.count(\" \") >= 2:\n",
    "            if token not in seen_tokens:\n",
    "                print(token)\n",
    "                seen_tokens.add(token)"
   ]
  },
  {
   "cell_type": "markdown",
   "metadata": {},
   "source": [
    "### Post-phrasing cleaning\n",
    "\n",
    "- Remove stop words (optional)\n",
    "- Remove purely numeric/non-alphabetic/single-character tokens\n",
    "  - Under the assumption that significant tokens, like the \"19\" in \"Covid 19\" or the \"11\" in \"Chapter 11 (bankruptcy)\" would have been picked up by the phraser"
   ]
  },
  {
   "cell_type": "code",
   "execution_count": 17,
   "metadata": {
    "ExecuteTime": {
     "end_time": "2020-08-04T09:08:23.645160Z",
     "start_time": "2020-08-04T09:08:23.642185Z"
    }
   },
   "outputs": [],
   "source": [
    "stopset = set()"
   ]
  },
  {
   "cell_type": "code",
   "execution_count": 18,
   "metadata": {
    "ExecuteTime": {
     "end_time": "2020-08-04T09:08:23.823923Z",
     "start_time": "2020-08-04T09:08:23.647154Z"
    }
   },
   "outputs": [],
   "source": [
    "# Stoplist based on TF-IDF\n",
    "# Not theoretically needed if using term weighting during the training process, but stopword\n",
    "# removal could still help with runtimes and interpretability\n",
    "\n",
    "\n",
    "import collections\n",
    "import math\n",
    "\n",
    "# Calculate IDF (For calculations of this size, the overhead of Pandas/Numpy is probably not worth it)\n",
    "df_dict = {}\n",
    "for doc in phrased_docs:\n",
    "    for token in set(doc.tokens):\n",
    "        if token in df_dict:\n",
    "            df_dict[token] += 1\n",
    "        else:\n",
    "            df_dict[token] = 1\n",
    "\n",
    "# While we're at it, we could remove document-level hapax legomena\n",
    "hapax = [token for token, count in df_dict.items() if count == 1]\n",
    "\n",
    "token_idf = {}\n",
    "for token in df_dict:\n",
    "    token_idf[token] = math.log(len(phrased_docs) / df_dict[token])\n",
    "\n",
    "\n",
    "def tf_idf(tokens, token_idf):\n",
    "    \"\"\"\n",
    "    Calculates the TF-IDF for each unique term in the given list of document tokens\n",
    "    \n",
    "    Parameters\n",
    "    ----------\n",
    "    tokens: iterable of str\n",
    "        Tokens that make up a single document\n",
    "    token_idf: dict\n",
    "        Mapping of terms to their global IDF values\n",
    "    \"\"\"\n",
    "    token_tf_idf = {}\n",
    "    counts = collections.Counter(tokens)\n",
    "    for token in set(tokens):\n",
    "        token_tf = counts[token] / len(tokens)\n",
    "        # In particular, accessing a Pandas Series by string index is much slower than accessing a Dictionary by key\n",
    "        token_tf_idf[token] = token_tf * token_idf[token]\n",
    "    return token_tf_idf"
   ]
  },
  {
   "cell_type": "code",
   "execution_count": 19,
   "metadata": {
    "ExecuteTime": {
     "end_time": "2020-08-04T09:08:24.191855Z",
     "start_time": "2020-08-04T09:08:23.824824Z"
    }
   },
   "outputs": [
    {
     "name": "stdout",
     "output_type": "stream",
     "text": [
      "Stopwords, ordered by TF-IDF:\n",
      "the, to, a, of, and, in, for, on, said, is, has, with, it, at, that, by, was, be, have, as, but, from, an, which, will, been, this, also, are, its, not, up, had, were, who, he, their, would, out, one, after, they, about, last, over, -\n",
      "(46)\n"
     ]
    }
   ],
   "source": [
    "# Thresholding\n",
    "\n",
    "# Number of terms with lowest TF-IDF scores to consider per document\n",
    "n_lowest = 50\n",
    "# The proportion of documents each of these terms must appear in to be considered a stopword\n",
    "stopword_proportion = 0.3\n",
    "\n",
    "per_doc_stopwords = []\n",
    "for doc in phrased_docs:\n",
    "    token_tf_idf = tf_idf(doc.tokens, token_idf)\n",
    "    # token_tf_idf is a dict of token -> score\n",
    "    scores = sorted(list(token_tf_idf.items()), key=lambda x: x[1])\n",
    "    lowest_n = [score[0] for score in scores[:n_lowest]]\n",
    "    per_doc_stopwords.append(set(lowest_n))\n",
    "\n",
    "# Check how many *stopword lists* each token appears in; this is more discriminative than\n",
    "# checking how many actual *documents* each token appears in instead\n",
    "stopword_df = {}\n",
    "for per_doc in per_doc_stopwords:\n",
    "    for stopword in per_doc:\n",
    "        if stopword in stopword_df:\n",
    "            stopword_df[stopword] += 1\n",
    "        else:\n",
    "            stopword_df[stopword] = 1\n",
    "\n",
    "total_docs = len(phrased_docs)\n",
    "final_stopwords = []\n",
    "for stopword, count in stopword_df.items():\n",
    "    if count / total_docs > stopword_proportion:\n",
    "        final_stopwords.append((stopword, count))\n",
    "final_stopwords.sort(key=lambda x: x[1], reverse=True)\n",
    "\n",
    "# List of removed words sorted by TF-IDF (so in roughly decreasing order of commonness)\n",
    "removed_words = [stopword for stopword, count in final_stopwords]\n",
    "stopset = stopset.union(removed_words)\n",
    "\n",
    "print(\"Stopwords, ordered by TF-IDF:\")\n",
    "print(\", \".join(removed_words))\n",
    "print(f\"({len(removed_words)})\")"
   ]
  },
  {
   "cell_type": "code",
   "execution_count": 20,
   "metadata": {
    "ExecuteTime": {
     "end_time": "2020-08-04T09:08:24.211776Z",
     "start_time": "2020-08-04T09:08:24.193849Z"
    }
   },
   "outputs": [
    {
     "name": "stdout",
     "output_type": "stream",
     "text": [
      "Also removing document-level hapaxes:\n",
      "timewarner, â£600m, 464,000, $639m, warners, $42.09bn, catwoman, search-engine, aols, $284m, bertelsmanns, $10.9bn, $11.1bn, $3.36bn, year-earlier, loosening, greenspans, half-point, $1.2871, sinche, $1.2974, firestone, â£479m, $540m, rosnefts, moscow-based, brul, broughton, short-haul, surcharges, surcharge, â£106m, cargo, controllable, â£125m, â£59m, a321, eddington, $141m, 274.5, yields, regal, $9.7bn, courvoisier, glenmorangie, pernod, donuts, 1.8bn, baskin-robbins, stolichnaya, 8.2bn, jacobs, pernods, brandy, domecq, seagram, ricard, domecqs, dunkin, ballantines, chivas, sheard, escapes, similar-sized, patchier, hesitant, cowed, ethiopians, fortified, josserand, 14.27, supplementary, distributions, rains, fertilizers, vegetable, 965,000, 89,000, 11.49, faos, crops, lactating, 387,500, infiltration, $187m, $204m, dwarfed, doubleclick, outperformance, $86m, $6.58bn, mulyani, 59.2, acehs, yudhoyonos, sukarnoputri, indrawati, kerosene, bambang, importers, susilo, megawati, 14.5, bailouts, 472bn, 36,000, badly-needed, 540bn, nishioka, daimlerchrylser, peugeots, â£2.77bn, mulling, axing, pearsons, nuj, maclennan, 521, fitzpatrick, broadsheet, littlewoods, â£150m, barclay, consultative, hollinger, 90-day, elaa, misleads, iata, pay-out, cawley, eu-based, overbooking, marja, eraas, â£173, preposterous, quillinan-meiland, eraa, 15.7%, tooling-up, overbalancing, 136m, unwinding, disclosing, 38m, 77m, 4bn-euro, â£53m, 12bn, bb+, buoying, bbb-, creditworthiness, 43.41, baweja, bhanu, 43.305, bharti, kong-based, hutchison, televentures, manmohan, kobita, dayanidhi, 74%, whampoa, essar, maran, â£10.6bn, gartners, sanjay, churn, diemont, canned, frustrates, vivaldi, sunovate, 13.3%, cara, offshoring, demerger, â£21.5m, demerge, pinewood, distributes, deluxe, â£392.1m, grosvenor, mecca, demerged, brunt, isabelle, 4.464, hypovereinsbank, one-euro, kronawitter, hirings, reiterating, naude, 0.7-0.8%, 35.7%, â£484bn, $162bn, $1.15, â£56.4bn, astronomical, 30.5%, $180.7bn, $496.5bn, $671.7bn, $1.76, 24.4%, spurring, ixis, dollar-denominated, marie-pierre, ripert, confiscatory, previously-unknown, windshield, kodiak, savana, 17,815, nhtsa, coupes, avalanche, srx, raniers, hydraulic, accelerator, trailblazers, isuzu, envoys, ascenders, gmc, fragments, 155,465, pickups, accumulator, xlr, 19,924, yukon, silverade, isg, lakshmi, â£16.7bn, 24.1bn, ispat, mittals, workforces, 155,000, spokeman, $32bn, mittal steel, $47.10, middleton, $44.45, $1.32, industrialized, 294.3m, triggers, beleaguered, $47, orin, $1.64, iea, non-opec, ortiz, 12,900, cojedes, trample, hectares, latifundios, hato, farmland, agrarian, landowners, hectare, export-led, oecds, turbulence, bi-annual, not-too-distant, oecd, 2.0%, cotis, koen, ncb, mcalinden, eircom, 6661.89, iseq, ufj-mtfg, 189, persisting, ufjs, mtfg, $29bn, deepening, sumitomos, largest-ever, $10.2bn, 24.2, 15.3%, 12.1, 2019, leibovich, technology-sharing, woodley, nanjing, ogilvy, wpps, wpp, omnicom, medias, â£532m, outperform, 14.1%, $1.04bn, rubicam, â£546m, cordiant, mather, sox, delegations, certify, signifies, onerous, untouchable, tsutsumi, sauce, soy, inheriting, share-ownership, futon, scolded, tsutsumis, businessmen, nagano, yoshiaki, rebuilt, seibu, dined, 364m, oao, wittig, $1.85bn, telesystems, 14.96bn, 1.17bn, 35.8bn, hannes, shenzhen, yantai, $58.16m, 0.22, 61.1bn, north-eastern, 481.42m, saronno, capita, changyu, illva, liqueur, tempts, â£30.7m, shirts, $29.4m, 115.5, sportswear, â£24.5m, 1.76%, 222%, mcguigan, â£15.4m, umbro, replica, lapsed, baby-boom, soon-to-retire, clouding, retirees, gigajoule, â£1.30, plunges, geological, northumberland, spindler, â£51.6m, â£1.18, ghazi, saud, al-faisal, al-gosaibi, de-facto, pitiful, uproar, highly-educated, periodically, dai-ichi, annualised, iizuka, $53, gallon, silliere, $53.03, refinery, $53.09, $1.4850, preyed, resilient, meti, -may, -which, yamanaka, $4bn, bonderman, 193, ryanair/boeing, quotation, apcom, stockmarket, 11.3%, 7.3%, re-listing, $18.34bn, closed-door, â£9.6bn, finanziaria, â£12,556, reithofer, c180, rapidly-rising, 116i, wernle, cowley, â£15,690, modernised, beetle, mini-workers, second-hand, depreciates, the-car, â£11,500, â£280m, tapers, â£17,730, 189,000, â£39.1bn, â£451m, 86.7bn, perrier, $74.6bn, nestles, $861m, nestle, brabeck-letmathe, petcare, wholly-, 2.3bn, 1.53bn, â£1.05bn, sportscar, mediobanca, 775m, -best, 6.5bn, kickstarting, brain-drain, small-, juddering, underfunding, enel, â£3.24bn, glocer, $6.13bn, â£2.89bn, â£234m, â£610m, mong-koo, 920,000, chung, garrow, 418bn-rand, 6.8bn, 280,000, â£910m, 22.3bn, colen, 9.4%, 80,600, 14,800, 3-series, bmw-brand, rolls-royce, assembling, rolls-royces, high-powered, 95,000, awoken, spennymoor, high-cost, aeg, electroluxs, ulf, electrolux, straberg, cookers, aycliffe, carlsson, frigidaire, zanussi, orchestrated, whistleblower, bewlay, malpractice, 3.24, ostwald, 1.41, 813,200, monument, claimant, 28.52, inactive, 296,000, 1.2bn, a$67.7m, redevelopment, multiplex, docklands, a$68m, a$4.50, â£458m, multiplexs, $874m, a$35.1m, writeback, paring, reaffirming, a$4.67, grocery, rourke, parul, medium-distance, lamberty, rhein-main, schulte-strathaus, crisis...only, politicial, bernd, dz, sinn, munich-based, weidensteiner, 97.5, hans-werner, ifo, â£158.8bn, 230.9bn, protectionism, least-developed, $300bn, townships, citu, 538,000, meters, construct, timeframe, specifying, discouraging, anshuman, cb, majumdar, speculatively, vancheshwar, chittabrata, brick-making, dlf, twin-engine, ferried, offically, rolled-out, prevailing, 777-200lr, jumbos, planemaker, pinning, learmount, $186m, airliner, 777, 143m, 767, 840, non-stop, â£98m, twin-aisle, public-company, virginia-based, 19.6%, cl, highfield, cut-price, $3.25bn, $17.04, boston-based, highfields, shochu, kirin, sorrows, well-established, â£154m, potatoes, malt, happoshu, non-beer, distilled, third-type, asahi, peptides, 31.8%, soybean, suntory, 30.6bn, shinnama, beer-flavoured, beer-like, $291m, seung, month-on-month, overhang, inching, ecbs, destatis, onward, atinc, inward, posture, mtn, turkish-austrian, turkey-iran, finans, ozkan, intifada, investment-friendly, cnpc, split-up, aton, veb, pre-payment, lukashov, oganesyan, dmitry, deadlocked, capital-raising, voided, â£1.06bn, extricate, juchemich, 635,173, $546m, home-shopping, â£290m, near-400,000, occurs, 246,570, internet-related, pdvsa, formalised, $240m, sur, enarsa, food-for-oil, petrobras, sindelfingen, fuel-injection, audi, bosch, dingolfing, defective, 3,600, tibbett, 873p, britten, beh, exel, bracknell-based, â£328m, rumour, mothercare, logistics, dhl-owner, 109,000, burberry, 950p, backdated, $27m, $480,000, remittance, 50.9, labourers, expatriates, â£8.82bn, $327, 83,000, â£6.4bn, boes, cips, lena, 48.3, 53.3, komileva, policymakers, 53.7, two-tier, yamane, 51.8, prebon, pmi, â£5.8bn, affable, benmosche, higher-return, metlife, quint, travelers, â£6.1bn, citibank, brokerages, $901m, metlifes, gartmore, citigroups, 0619, diplomacy, 105.6, destabilising, junya, forthright, accumulation, $1.29, tanase, top-up, reschedule, dominique, 15m, vines, bussereau, distil, lemetayer, growers, 3.5m, viticulture, burgundy, fnsea, vintners, cooperatives, overproduction, alludes, $119bn, seizures, outweight, speculative, $113bn, hessel, solidity, congested, ehud, olmert, $180, $500, ruhi, interconnection, dogusoy, part-turkish, irancell, $102.6bn, bondholders, irrational, 10.3%, $81.8bn, â£53.51bn, 38.4%, defaulted, reside, 15.6%, $41bn, january-to-march, smaller-than-expected, â£486,000, 93%, $915,000, 966m, pfizers, 4.7bn, hypertension, big-name, norvasc, annoucement, 705m, energys, onshore, congo, finian, burren, $1.3006, carsten, 105.17, $166bn, $1.2944, four-nation, 2100gmt, commerzbank, fritsch, snows, 105.28, self-sustaining, seventy-year, carrick, deutschland, nibble, automaker, 17.6%, gas-electric, redesigned, 1.27, sedan, koreas, fared, first-quarter, cobalt, petrol-price, 12.7%, g6, laneve, gas-guzzling, doctoring, 2-3%, 0.25%, well-flagged, ill-timed, 29.4bn, 2000-1, $2.1m, slogans, kerekou, $15.5m, tolerates, funnelling, titans, titan, lam, benin, anti-bribery, â£195.3m, price-rigging, $618m, $232m, upper-teens, placement, mmcs, layoffs, â£352m, $676m, bigger-than-expected, $360m, $337m, ohlemeyer, altrias, sebok, smoker, â£149bn, brooklyn, plaza, racketeer, porsches, 911, db9, astons, v8, vantage, gaydon, stronghold, ex-aide, normanton, liberian, liberians, liberias, provide...continued, liberia, 14-year, post-conflict, power-sharing, 56.4, 55.3, $527.61m, 0.30, â£274.73m, flies, 984m, 380m, shirakawa, hiromichi, grinds, spurts, 510.75, slips, 50.50, dove, cescau, write-down, â£1.99bn, unilevers, wane, sweere, slimfast, simplification, atkins, 2.9bn, beverage, organizational, 650m, burgmans, petercam, low-carbohydrate, dual-ownership, 18.3bn, $23.4bn, pagesjaunes, 5.4, 72bn, 578m, â£12.5bn, 43.9bn, breton, 47.2bn, equant, telekoms, raps, overcharged, implicating, overstating, anti-depressants, 1218, allergies, paxil, garnier, discontinued, wellbutrin, 771, â£6.2bn, 5.3%, $1,000bn, 740, heronry, smfg, â£537bn, nishikawa, shimbun, nikkocitigroup, nihon, yoshifumi, nozaki, 717,000, cross-selling, daiwa, keizai, 785m, rabb, mini-car, 784m, daimerchryslers, 2.5bn, jeep, 374m, 506m, chryslers, 475m, unfavourably, 142bn, schrempp, mercedes-benzs, fuso, 9.5bn, svanberg, 47.1%, 39.4bn, 117.7bn, 10.8bn, 20.7, 19bn, 6.3bn, 131.9, â£722m, 45.6%, all-communicating, kronor, carl-henric, seasonality, mpcs, widely-expected, opts, clamour, south-western, spraying, nurseries, edo, $1.2bn-worth, 91m, bello, grower, â£591,000, 154m, seedlings, osagie, tech-production, beans, ibadan, naira, cocoa, adamu, feds, sohn, geopolitics, 0.89, 0.01%, 10,385.48, cibc, obstruct, avery, shenfeld, fleetboston, $515m, hussey, bacap, banc, industry-wide, market-timing, â£277m, harms, $50-100,000, ex-columbia, boa, cfds, palombo, boas, gustafson, $47bn, quick-fire, cfd, tambone, $140m, ex-managers, metrovias, mediating, fast-rising, cut-rate, â£38.4m, otoku, $71.5m, softbank, vaile, woodside, undervaluation, fivefold, a$246bn, a$8.4bn, 1405, â£801m, â£1.13bn, â£9.4bn, varley, 0.67%, 590, â£1.04bn, â£347m, accrued, â£15.2bn, shearman, gregg, a$720, a$458.4m, $563, â£191m, $357.6m, a$431m, a$30m, a$245m, a$500m, road-show, amman, itpc, changeable, mukerjee, mikoyan-gurevich, f-16, collaborations, dassault, orion, â£18.8bn, p-3, pranab, snecma, keskar, conformity, hcl, aeronautics, dinesh, 240, industrially, surgutneftegaz, cashflow, swallowed, landes, ntv, bogdanchikov, rosneft-owned, london-listed, gazprom-rosneft, lukoil, inbevs, 1.16bn, 8.6bn, rijk, 719m, exemplary, inoni, fidelis, yaounde, cfa, unearned, non-existent, ephraim, nanga, meted, labor, 10,360, utgoff, 139,000, 198,000, 45.4, 96,000, vance, 128,000, 169,000, eaton, cuisine, shepherds, 115,000, kristiansen, wool, ham, designation, cheeses, feta, brie, re-merchandising, jilted, annulled, heartland, hensel, rock-bottom, kuchmas, resell, yushchenkos, yanukovich, ex-soviet, bridgewell, $51.39, gertz, snowfalls, purvin, shum, 0710, working-age, 4.875, 3.97, internationally-accepted, democrat-green, ruerup, 38.9, 11.7%, 5.216, stubbornly-high, ilo-based, hartz-iv, much-higher, dolce, tinto, thyssenkrupp, vale, 22.5bn, cvrd, sheffield-based, steelmakers, arcleor, jfe, cvrds, 16.87, arcelor, corus, 72%, smbc, 55.57, 17.58, baoshan, uncharted, takahashi, cia, kazuhiro, car-style, seven-seat, mini-van, x3, accura, x5, van-style, trans-atlantic, steadied, $1.9094, $850bn, 104.76, 0950, $1.3218, stitzer, carbonated, snapple, $1.78bn, confectionery, mid-2003, â£933m, shihab-eldin, adnan, retreated, $49.74, $51.43, 920, winn-dixies, $15.1m, off-load, â£980m, merchandising, grocers, $1.87bn, lynchs, unchartered, hofheinz, altar, faming, shaming, wim, koks, sacrificed, brussels-based, prioritised, synonym, barroso, scarcely, kok, knowledge-based, politeness, backseat, fully-operational, malays, rhb, scouting, 156, six-cylinder, sporty, powertrain, lilliu, gt, sportwagon, romeos, arese, gtv, montezemolo, cadillacs, vauxhalls, opels, 24-hours, trollhaettan, carl-peter, bls, desperately-needed, upmarket, â£104m, ruesselsheim, inroads, saabs, badged, 151m, unalloyed, ireland-based, leukoencephalopathy, dosing, elans, evaluations, goodbody, pml, re-initiation, 151.5, idec, idecs, 19.84%, $18.90, $28.63, elan, four-fold, yamanouchi, tysabri-treated, tysabri, $38.65, biogen, multifocal, avonex, warranted, pans, snowfall, furness, 48,000, persists, 82,000, â£152,879, 0-5%, 79,000, overvalued, homeowners, collapsing, â£7.2bn, loynes, â£10.5bn, 2004/05, 1998/9, vote-catching, leeway, correcting, barnards, bloomingdales, macys, $15.6bn, sped, bluntly, federateds, federated, flat-screen, best-performing, 104.53, pullback, eight-month, fukui, 11,740.60, lebedev, fertiliser, contradictions, platon, â£3.12bn, uk-dutch, $12.8bn, sheikhdom, exxonmobil, qatargas-4, 7.8, qatargas-2, qatars, vis, 102.16bn, $5,700, 80bn, 102.8bn, 100bn, communists, $2,300, budgeted, $2.35bn, perilously, income-tax, 830bn, sourced, 71.56bn, soured, evade, 6.2, 550m, patriarch, recapitalised, â£131,961, ex-boeing, revoked, druyuns, darleen, druyun, refuelling, tankers, sears, seattle-based, steered, favouring, exited, rationale, $6.8bn, underpinning, barometer, inflationary, stategist, poors, shepherdson, downshifting, cherney, 94.2, arbitrator, quarter-point, brusca, traction, $13.99bn, maidenhead, cross-london, crossrail, berkshire, souza, â£7.5bn, hariri, redeveloped, beiruts, rafik, $8.08, assassinated, solidere, blom, 642.80, lebanons, shudders, cbis, sme, goyal, 17.3, rapidly-growing, 16.4bn, â£178,906, â£180,126, 13.7%, back-end, faraj, $158.8m, anais, 364.4m, â£83.3m, sweetener, $0.98, $2.48bn, 1.88bn, 120.7m, â£0.48, whiff, unece, 4.25%, malta, bdb, fragility, $701m, 36bn, carlsberg, heinekens, 125m, 456m, â£371m, high-impact, 9.26bn, medium-to-long, 10bn, amstel, 798m, 537m, 3.4bn, hydroelectric-power, $365m, electrics, overheat, 6.2bn, isae, statistic, 103.3, 104.4, exane, dye, profiteers, re-sold, coating, re-selling, hiv-positive, wealthier, pills, bingley, 325.5p, buy-to-let, 458.5p, $532m, b&b, wimpeys, wimpey, medium-term, â£450.7m, housebuilder, â£280.2m, counterfeiting, johannesson, pinpointing, stalking, malcom, irishmen, billionaires, 104.16, 1.3187, rock-steady, mohi-uddin, mansoor, softening, $1.90, loan-for-oil, khristenko, aleksey, touati, non-wage, buffets, 9.9%, hugues, boscholt, addink, cranes, stueker, specialises, chambre, fixings, itrec, huisman, sawicki, schneider, armentieres, charbonnier, bolts, beck-crespel, submarine, sunken, financier, high-street, m&s, -and, reseach, roses, spike, mid-market, rebidding, m&ss, drkw, paulsmeier, bhs, carolina-based, schumer, tracy, schmaler, vermont, leahys, goya, â£230.8m, 17.2, $443m, hiten, 271, 1,050-1,125, 16.2, $24-$26, ex-travel, pinochet, eduardo, $16m, riggs, garzon, augusto, contreras, equatorial, pinochets, rejoiced, 1973-90, baltasar, allende, $4.50, snapping, 0.41, notebaert, $1.50, massaged, agile, morchio, demel, umberto, underperformed, claquin, toutai, ccf, inhibitors, mercks, $1.4bn, therapies, fdas, cardiovascular, vioxx-related, merck, bextra, vioxx, celebrex, cox-2, mihkail, schechter, 27.2m, magazin, 2.05, suspending, $89m, 2006-2007, deferring, halser, 35m, 134.7m, peter-thilo, dortmunds, â£47m, westfallen, mismanagement, â£21.8bn, â£5.1bn, â£17.9bn, record-busting, niesr, hikes, 4.1%, robustly, conceal, resold, permitting, perchesk, annul, reshuffled, 1130p, appraisal, 30-month, -are, pardon, eduard, saakashvili, shevardnadze, moneys, warped, georgian, -thought, legitimise, castros, barrioneuvo, exiles, importing, barrionuevo, periodic, cubas, underscores, disrepair, cubans, decentralise, suffocate, peso, fidel, kuhlhoff, â£3.9bn, $31, hexals, hexal, eon, teva, drugmakers, novartis, 67.7%, 5.65bn, 57.85, sandoz, chemically, fiduciary, unconscionable, tabling, capellas, then-named, unhappiness, standoff, slager, breuer, deutsches, â£1.3, $587m, medicaid, $2.5, belt-tightening, needy, discretionary, austere, $230bn, intercity, easygroups, disclaimer, easyjet, haji-ioannou, easyjets, airtime, easymobile, easygroup, 8.7%, float, with-profit, gorillaz, 8-9%, 235.75, numis, re-orders, $259.8m, 16.2%, $230m, nyse, $27.24, sina, better-known, vickers, shanda, sinas, ounce, 113.5m, disconcerted, reade, 3,217, ounces, $413.50, feasibility, liquid-crystal, matshushita, old-style, ensued, unfashionable, mozart, gratitude, self-interest, insights, atrium, ponder, knighthood, towering, emanation, intellectuals, reared, toiling, laissez-faire, 1723, birthplace, societal, enlightenment, balmoral, intellect-enhancing, 1776s, measurably, environs, philosopher, kirk, toshiyuki, $6.4bn, japan-based, shigas, characterized, ghosns, australasia, shiga, nissans, 684bn, 331bn, nominally, long-serving, shaped, non-nato, veron-reville, soothe, frayed, sympathetic, moscow-backed, rybachuk, eternal, yanukovych, vice-prime, 20-25%, $8.5bn, â£4.4bn, absas, $39m, molsiris, westfalen, interest-payment, â£266m, buybacks, $2.89bn, $3.65bn, progressively, 548p, $17.5bn, 3.997, reaping, uk-listed, 8.5, $1.8m, operationally, â£8.7bn, $16.2bn, waller, kulakov, tenders, russian-registered, barrick, wrested, russian-owned, regretted, yuri, trutnev, $7.5bn, revenue-sharing, greyhound, maximisation, mid-morning, $339m, barr, blb, â£182.5m, claes, blbs, 797p, â£308m, rhode, â£40m-â£50m, wembleys, vue, hultman, deliverable, 3.75p, 270.25p, non-competition, fan-based, takeovers, -0.1%, big-ticket, pay-day, 8.3%, fattening, all-woman, pedometers, jelly-legged, pounder, vitality, catchphrase, revamping, salads, arches, 105,000, 36-page, slba, 13.6%, moratoriums, â£135m, gooneratne, alvarez, sidestepped, bide, chides, 11-14, desmoteplase, â£49m, bats, saliva, paion, clotting, shiro, appoints, morrow, tetsuro, tsuda, 58,000, tsusaka, ppis, expectancies, long-living, lower-skilled, â£402.4m, card-not-present, mutates, 83%, uk-issued, pins, â£116.4m, clump, card-present, â£42m, â£370m, â£52, pibs, entitle, â£38, sudell, â£8.2bn, 280, paternalistic, 49.7%, 2002/03, 1998/99, 262%, â£3.3, underlining, â£163,748, $50bn, impede, unpayable, write-off, under-secretary, â£26.69bn, â£5.38bn, mclean, 305, anson, 76-year-old, debt-free, yea, renovated, introspective, multi-function, barn, fittings, marianne, petersen, workspace, dimmable, congenial, veneer, washers, drainage, rockwool, like-minded, washing, mariannes, outer, fluorescent, solver, well-insulated, bracing, gripes, plasterboard, water-and-weather-tight, prettier, brighten, slab, tub, uplights, trusses, downlights, router/access, docking, mismatch, blinked, aurora, mitigate, outfitting, unambiguous, princesss, five-cent, p&o, carnivals, â£36.20, duopoly, â£32.26, re-evaluation, harmless, rearranging, indigent, bode, fixate, 2018, equip, dispassionate, persuasions, toothless, ill-serve, capitol, aging, interest-sensitive, unfamiliar, detail-oriented, hands-on, 40.7bn, megane, clio, 1.7bn, schweitzer, logan, renaults, july-to-september, 436, 469, â£182,920, completions, 11.8%, 36,185, 28,041, â£187,971, july-september, million-pound, sunset, 20-year, $2.18, $2.57, $2.58, â£1.38, $4.5, pro-growth, beale, lenovos, unprofitability, hewlett-packard, hk$327m, hk$6.31bn, wafer, mis-steps, stiffening, direct-sales, us$42m, reverberations, $20.15, panayis, ipstream, plus.net, lavender, strafford, higher-speed, freedom2surf, ovum, highly-regulated, tyres, 19.9%, â£1.57bn, activision, $2.95bn, ubisoft, denominations, evren, $18bn, tamed, embarks, tevfik, valuations, aksoy, one-lira, hayriye, zeros, slimmed-down, one-million, dizzyingly-high, sureyya, serdengecti, $445.1bn, $14bn, iadb, â£227bn;331bn, eclac, calculators, costliest, semen, moines, minuscule, one-quarter, twitched, hard-hit, rubbing, gresik, contagion, adhi, afield, trillion-dollar, far-away, notional, delaware*, msci, confifi, bankruptcies, unforeseeable, unguessable, karya, airasia, cac, mediterranne, woest, goetti, dax, 9,300, 3.817.69, cheered, floiran, 39.10, unfolding, 5.07, tui, travel-related, reisurance, 10,847.66, analsyts, 16.29, wrought, 20.54, tanco, kinki, split-caps, fsas, anothers, low-risk, 780, waive, split-capital, mcivor, report*, overlook, salutary, rigour, complexities, unrealistically, siphoning, wilder, soundness, undeclared, opaque, vendetta, rectitude, greased, healthiest, attribute, non-payment, clearly-defined, alarmingly, antagonistic, looking-glass, $53m, trebled, 5.25%, â£250, firstsaver, payable, notification, non-taxpayer, multiples, â£1,200, instant-access, ladybird, saffron, comprise, r85, 5.35%, invests, bookrunners, welle, denominated, â£690m, â£514m, chakib, $30-35, $40.15, 4,751, deplete, $43.25, over-production, khelil, calmed, eia, mid-september, crudes, harden, early-winter, attendances, money-earning, soccerex, 1992/93, ofex, 60,000-seater, matchday, saturation, tadeu, paschoal, da silva, pillars, orthodox, brasilia, 24,997, buonomo, buoyancy, tov, 17.25%, bovespa, palocci, durability, 2.11%, persuasive, steepest, $44.38, apec, diminished, $500bn, tokyos, drift, $8.2, takers, $800bn, $48.64, unaltered, 227, $172.55, $393.9m, $12.33, $85, closely-watched, lockup, $52m, searchable, 19.6, warburg, schleswig-holstein, 5.037, jasperneite, spd, zdf, 572,900, 227,000, million-2, rhine-westphalia, 865, 54bn, energy-starved, naik, rupees$1.2bn, ntpc, suhas, 9bn, assertions, over-egged, richness, 134%, 16.5bn, abdullatif, $21bn, moghadam, sener, reza, â£10.8bn, banging, oriental, xenophobic, plentiful, deppler, gross domestic, 33.5bn, uneducated, 1875, 3,400, 5,125, at&ts, post-takeover, 1,700, 12,800, 163,000, hessen, rhiel, alois, reckers, undervaluing, amassing, amex, marquis, aefa, kain, off-loading, policyholder, endowment, â£46,998, axas, defies, gorges, shutdown, $24,000, â£12,700, 11,488.76, amidst, kamiyama, pessimism, multinationals, exceptions, second-most, aberdeen-based, blackwatch, hadi, baathist, kirkuk, geo-scientists, pharmacies, hadis, brookings, uneasily, baghdad-based, haves, blackwatchs, 30-40%, bechtels, baghdads, halliburton, fulfilling, laggards, chuckles, 130%, genes, re-devise, 140%, sexagenarian, 114, centenarians, childbirth, 127, unfold, morioka, twenties, yuji, outlive, sutras, shimizu, procreative, osaka, torao, eaten, toshitsunes, toshitsune, 2030, shigeo, 101-year-old, immelt, $5.37bn, roukis, $43.7bn, ges, 10-15%, 0.24%, â£2.86bn, 5,196, decelerate, 12-18, disgorgement, transforms, blixt, preclude, tobacco-free, columbias, corr, sentelle, disgorge, 5.11%, distancing, preconditions, debt-laden, longden, vehemently, ghriskey, business-friendly, $1.26, 10,137, 2,004, $422bn, $50.88, tax-cutting, disappointingly, dow, dips, 7.7%, 10,227, non-manufacturers, quickening, pendleton, liberalised, mfa, multi-fibre, hard-pressed, rags, rockwell, consenus, 790m, 550, oyens, geijsen, eeghen, retrenchment, 2,850, questionsmarks, supervision, underwrite, ineffectiveness, pricked, incorrect, zack, irreparable, government-backed, yuganskneftgas, defibrillators, stents, tubes, artery, implant, $25bn, unblocked, guidant, combats, overlapping, $76, stent, antitrust, expirations, pacemakers, j&j, vowing, tripoli, libya, libyan, gadaravice, unfreeze, unfrozen, lockerbie, farhat, erling, kalahari, calorific, hoodia, â£309m, bushmen, dixey, phytopharms, refsum, berta, varig, varigs, $725m, alencar, â£1.2bn, tellier, bombardiers, telliers, 135, seating, plane-making, $133m, montreal-based, 75,000, beaudoin, reshape, 2.20, snowmobile, lulas, $94, licensee, 247p, $20.40, tonne, catapulted, â£10.50, shouldered, kenney, production-sharing, 1115, over-ambitious, n-c, refutes, lagardere, destabilise, hertrich, â£686m, $1.32bn, co-head, lci, camus, 747, overrun, deplored, forgeard, anglo-swedish, iressa, jefferies, aztrazeneca, tarceva, 1,692, crestor, exanta, genentech, mckillop, anti-coagulant, astrazeneca, pill, placebo, spinners, sneakers, $4.9bn, â£135.6m, $2.8bn, beaverton, $261.9m, $179.1m, converse, nikes, second-quarter, â£54bn, typhoons, twenty-one, catastrophes, $105bn, $42bn, 191, $37bn, made-made, man-made, reclaim, petrel, iog, $1.87, ironhorse, suba-luhais, eighties, $0.85, petrels, everasia, 97p, 44p, himrin, â£258.5m, khurmala, expropriation, gas monopoly, sberbank, kaha, $9.37bn, freshwater, shadrin, tver, tass, impound, retaliate, state-sponsored, kiknavelidze, rainsford, 246.75bn, collison, outbid, injunctions, state-backed, $106m:â£54.6m, post-merger, s&ns, bottles, alcobev, 2.47bn, 4.66bn, non-convertible, froggatt, strongbow, ale, kronenbourg, s&n, redeemable, seiferts, pence-a-share, der, spiegel, clearnet, heaving, enochs, footfall, walton, mobbed, 8,500, bluewater, manchesters, maximov, screwed, 583p, 533p, al-jibouri, afghanistans, applicant, assad, winemaking, all-cash, menezes, $260m, diageos, â£8.89bn, $69.4m, â£134m, â£9.28bn, smirnoff, chalone, 0%, 2000/01, cpi, shipside, â£4.29m, â£6,500, indulge, swathe, â£25bn, â£2.98bn, remedies, 261bn, yuganksneftegas, surgutneftegas, recourses, $34.1m, dainik, 260,000, indy, hindi-language, jagran, 25m, $4.4bn, armando, admonished, raines, underwriting, sativexs, sativex, arthritis, biotech, cannabis-based, satifex, 8.5p, 113.5p, cannabidiol, pharmas, spray, gw pharma, gw, tetrahydrocannabinol, non-defence, â£211.6bn, rics, surveyors, surveyor, stabilised, lengthened, anticipating, unsold, savers, boorman, mattresses, hideous, hopeless, kirchners, scathes, silva, drayton, implies, argentines, loath, aara, baez, beneath, halting, reveta, thomsen, impedes, $60,000, refrain, bowers, leased, secretarial, objectivity, â£30,800, shamrock, disney-owned, renationalising, state-ownership, sovlink, cowboy, cloak-and-dagger, moscows, kraus, yukoss, muddying, year-end, col, envisioned, permissive, lt, contrack, arlington, pco, agreed-to, $325m, $18.4bn, schnaible, contracks, pre-sale, super-economical, 200-, 7e7s, a350, 300-seat, 7e7, unequal, â£7.5m, â£55,000, villalbas, meritocracy, stephanie, villalba, merrill, merrills, victimisation, $14.6m, 42-year-old, asbestos, â£568m, asbestosis, meredith, hardie, sufferer, chairwoman, asbestos-related, hardies, hellicar, terminally, befall, 417m, $50.4m, yili, huiqin, mongolia, huatai, junhuai, mengniu, yilis, pricier, praful, â£931m, patel, underserved, maharajas, tons, importer, quick-growing, 110m, orimulsion, refinancing, pfi, jarvis, mid-january, amey, lovell, ferrovial, piccadilly, offloading, â£146m, jubilee, $281m, â£230m, paws, motorbikes, plugs, lifan, violators, 1.47m, $177,600, chongqing, $258bn, 200bn, recognized, â£140bn, 800%, â£291m, $234,000, $560m, transports, $1.3516, $1.3509, upturns, abnormal, gaymard, euro/dollar, $1.40, coordinated, $1.35, siriwan, juthamas, displacement, generale, shinawatra, wolfensohn, societe, people...there, $510m, 9.0, prudential, $640m, claimants, newsome, re, bermuda-based, incalculable, â£5.17bn, maldive, â£281m, gelb, 38,000, nameless, mid-year, 6-6.5%, two-way, $186.3m, hostilities, threefold, â£97m, april-september, india-pakistan, plastics, nonethless, $64.4m, aberration, april-july, court-imposed, luggage, mountains, flight-crew, sickout, comairs, seventh-largest, stranding, mineta, paycuts, comair, understaffed, disarray, undelivered, airlines-, ji-chang, liquidated, kdb, issuer, $12.05bn, mediate, dongwon, yungmin, yoo, 99.3%, ex-parent, $1.364, 1800, $1.354, mercantile, nymex, $2.86, densely, $41.32, $40-40.25, feud-hit, $13, nanik, bombay-based, buy-back, dhirubhai, 570, rupani, â£6.80, polluted, reinsurer, â£2.1m, southeast, country-by-country, diarrhoea, thrived, epicentre, epidemics, 3m, waterborne, crescent, milverton, stricken, $4.1m, palestinian-israeli, faster-than-expected, uzbekistan, market-based, militancy, nursultan, nazarbayev, abish-uly, kazakh, foundation-kazakhstan, â£425,000, topple, inter-ethnic, belarus, â£5.18bn, contends, gazproms, khordokovsky, protracted, 16-year, $14.2bn, patricio, escondida, cartagena, 5.5, codelco, expansions, chiles, cochilco, analyzing, malls, feel-good, lynn, â£268bn, gosport, tescos, infants, groceries, â£269bn, cromwell, 10.38am, jemma, balkans, 912km, balkan, fatos, ambo, bosphorus, euro-atlantic, us-registered, nano, dardanelles, opic, straits, eximbank, macedonia, macedonian, burgas, vlore, mobil, 293.5p, sauber, reckitt, benckiser, syndol, cough, 16.75, surgical, kimberly-clark, ssl, durex, gpw, condom-maker, meltus, seton, deodorant, mister, gloves, â£173m, three-way, analgesic, hosiery, antiseptics, condom, $100m-share, gonsalves, swiss-based, ferrochrome, vanadium, michelmore, mim, tommie, pervan, bergman, presuming, 7.4bn, a$6.35, value-creating, a$7.17, coking, a$8.24, sweetening, $2.8m, â£28.5m, 37.6%, 42.3%, wearside, â£20.6m, â£42.5m, 31p, disparate, â£1.5m, bskybs, â£1.53m, 4.76%, firmer, premiums, fer, congressmen, roundtable, pbgc, laureate, nobel, pbgcs, sharpe, oklahoma, â£23bn, guaranty, logue, kharkov, chernigov, ivanovo, 98.8%, near-total, â£183.75m, non-voting, saransk, staropramen, novocheboksarsk, swallows, klin, nikolaev, alfa-ecos, hoegaarden, leuven-based, $353.3m, volzhsky, 97.3%, omsk, 259.7m, alfa-eco, 58.1, 58.6, 57.8, trending, 52.7, 61.5, 74.0, 67.4, 72.0, 57.6, indexs, 1,893, malagasy, exchangeable, ariary, pre-colonial, quiksilver, boix-vives, k2, 16.60, snowboards, ski-maker, rossignol, surfwear, 17.70, skis, mackel, hovered, $1.3652, hovers, 102.55, $1.3667, chong-gyu, â£499m, laah, redemptions, $480m, $960m, sejong, $1.3666, $1.3636, 141.60, mazanec, 140.55, vws, satyanarayana, co-sign, visakhapatnam, turkmen, yury, $58, naftohaz, thay, niyazov, saparmurat, boyko, $14, 46%-owned, hogged, ipc, ill-equipped, chadha, chada, rebounded, $39.20, $42.30, $1.33, $42.12, cowardly, employer-employee, $1.3270, $1.8832, fomc, argus, daw, risk-taking, apprised, yamarone, 46-year, â£425m, â£420m, locality, end-of-season, 12.4%, $779m-798m, menswear, wolfson, nexts, 13.4%, lyle, sagging, goodwin, firming, lyles, gent, ft-30, ivankoe, dunking, krispy kreme, doughnuts, $1.83, 14.87%, franchisee, $10.48, $3.8m, 6.6%, repurchase, $4.9m, unadjusted, 4.64, karstadtquelle, non-seasonally, onstart, 206,900, 4.483, flat-rate, arnoldo, vindicate, rangel, classifying, communist-style, ranchers, vicente, squatters, pro-chavez, technocrat, public-sector, mohieldin, reform-minded, misr, mahmoud, caire, alexandria, privatising, banque, lockyer, renews, $14m, â£7.74m, californians, $14.5m, mitroshin, vadim, wranglings, luxembourg-based, pence-per-share, laura ashley, ainum, navarednam, khoo, half-year, shrivelled, â£118m, 8.51%, furnishing, lillian, 200p, peng, metrojaya, husk, $376m, 10.75p, malaysian, mohd-saaid, co-chief, â£530m, $94m, liquidating, non-refundable, saturday-night, deltas, $646m, 6,900, first-class, â£264, simplifares, icbc, 19.1%, icbcs, non-performing, 74.7bn, â£24bn, salterbaxter, csr, non-financial, lee-harwood, pro-sustainability, lexicon, generalities, verified, greenpeace, homilies, mendis, side-effect, â£691m, sunil, destitute, $320m, sakhalin-1, entities, clawing, douglas-westwood, 793,000, siberian, investigative, genetically-modified, waiving, high-ranking, agrochemical, jakarta-based, bribing, chemicals-and-crops, invoice, monsanto, â£799,000, wray, stearns, conveyed, pretences, chubb, instructed, non-competitive, robustness, berson, recoverys, sails, machinations, bobbitt, elson, areen, hevesi, porter, sidgmore, clifford, wareham, â£28.85m, aycock, litigations, stiles, shockwave, galesi, $54m, kellett, clerical, houston-based, 6.87%, $10.44, $984m, shave, financings, 6.2%, â£162,086, retailmetrics, 9.3%, pier, nordstrom, desertion, 3-5%, 32.2%, costco, larger-than-forecast, $220bn, perkins, $23.2bn, zale, upscale, neilsen/net, 8.8%, eagle, faring, outfitters, middle-income, claires, dearth, trendy, bebe, deccans, â£9.49m, avions, atr, 72-500, $17.6m, bagnato, atrs, 449,603, naamsa, overpaid, asia-wide, kfb, newbridge, $3.3bn, decisiveness, accretive, paid...the, standard chartered, 51.4%, 925p, $44bn, chartereds, koram, dealerships, 136,000, 1.06, eckhard, 3.9, cordes, fallers, $2.2bn, banda, 1,011.15, defrayed, flattened, $3.2bn, jse, 20-30bn, majlis, hard-line, decision-maker, hardliners, rials, $14.3bn, 1,070, 1,546, $14.1bn, â£93.6bn, $175.6bn, expediency, khatamis, modestly, ecs, abeyance, buckling, breakers, epp, fastow, enrons, retrieved, boardrooms, â£89m, $155m, plaintiff, lerach, â£378.8m, 2001alleging, $168m, $145m, â£192,713, â£111,314, 21.7%, â£180,444, flats, â£139,544, â£116,542, â£262,825, â£180,226, stabilises, 26.2%, 76,200, â£3.8bn, $28.4bn, 605, â£96bn, $6.2bn, privately-held, haute-couture, intervening, inquire, â£522,000, boyntons, boynton, â£82.7m, over-stated, vijver, jeroen, veer, nioc, $40bn, yadavaran, lpg, â£21bn, jufeyr, mid-december, domicile, sydney-, $17.65, $5.4bn, $31.22, shultz, massachussetts, netanyahu, klein, hebrew, then-us, binyamin, freight-carrying, a300s, eu-us, airliners, triple-decker, a380s, mandelsons, 2001-2002, nortels, restatement, restatements, $434m, 1.46%, $8.6m, $732m, nationalise, qualitatively, gref, hustlers, swindle, iliaronovs, privatized, illarionov, kommersant, $150bn, $63.8bn, rebates, â£165bn, us-china, xuren, $311bn, 420bn, xie, 8.30, $593.4bn, labour-intensive, $124bn, $43.4bn, 35.4%, 2.572, benazir, asif, yaseen, 6709.93, anti-musharraf, mma, indian-administered, zardari, 8%-10%, baglihar, kses, military-backed, defusing, 225.79, jubilant, countrywide, kse, lakhani, bhuttos, abuzz, wyss, tabak, crescenzi, ballooned, $55.5bn, â£29bn, $500.5bn, hybrids, normal-engined, burnish, deceleration, four-wheel-drive, highlander, hybridise, pickup, $3,000, cayenne, mariner, clean-burning, jd, under-used, citroen, trouble-hit, psa, jeddah, evalution, 1,088, ifzal, â£379m, 23,500, chino, asses, adb, abd, hinged, thadao, 645,000, normalcy, $717m, a$3.1bn, brl, a$846m, lensworth, a$4.25, scratching, 4.17, back-flip, perpetual, $2.4bn, startled, trustees, reline, oatleys, mondavi, dirk, trichet, xing, xings, salesmen, add...since, stma, 210bn, cigarette-making, stmc, wangli, manly, schilbe, trinkaus, nineteenth, sputter, burkhardt, $1,8923, $95.6bn, $1.3280, 1650, $54bn, cent, $19.7bn, $155.8bn, $19.6bn, â£31.7bn, tacitly, â£27.9bn, prognosis, trade-in-services, dales, â£24.8bn, narrows, â£16.9bn, â£1.9bn, â£36.3bn, duty-free, maloti, tw, macaefa, vogue, 6,650, agoa, garments, unceremoniously, bangaldesh, lesothos, mafeca, lance, calorie-heavy, pepsico, low-fat, nutritionally, cookies, oreo, kool-aid, friedmann, krafts, reformulating, sugary, 59.5%, exile, nevzlin, self-imposed, kearney, seamus, aviation-related, re-positioning, buy-out, aer lingus, mid-sized, harmed, filings, $155.2bn, enlargement, zoellick, â£82.8bn, uniformity, gooch, uneven, tires, ahold, rymer, consolidated, damuro, bailin, bowman, redgate, improperly, tyson, kelley, seafood, foodservice, â£428m, nettle, hannigan, lillys, taurel, averts, rosemead, unfiltered, $5.15, bevington, breier, â£3.90, showrooms, â£265.9bn, $4.06, maury, $349.4bn, 367,000, non-store, a$584m, 39m, a$4.17-a-share, a$4.76, ohoy, a$2.6bn, 3.1bn, a$5.44, unrivalled, straight-talking, prayers, mccafe, hose, lovin, throat, colorectal, abbreviated, cantalupo, go-getter, 77.6%, comerica, cary, littman, inflation-fighting, whittle, lean, utilisation, leahy, congruent, wieting, 178,000, db, bourses, empire-building, overpaying, contemplated, 45.25, 870, willmean, 370, sourcing, $492m, mijatov, 648m, $35.7m, rouble, â£19.1m, back-taxes, atomstroieksport, 2001-2003, pacts, align, ecofin, competences, calisto, $4.8bn, tonna, book-keeping, indictments, fausto, tanzis, tanzi, deloittes, bootle, triggering, constrained, ogden, candles, mourning, placate, $10.3bn, notifying, drawn-out, peoplesofts, oracle, funereal, peoplesoft, aggarwal, easygoing, oracles, unclogging, impassable, bays, motorcades, â£26, jacking, fume, reorganising, outriders, yan, clogged, choking, parking, $48, hourly, circling, beijingers, 250%, $4.0-$5.0, gmac, waggoner, $6.0-$6.5, attaining, firmed, leasing, whitman, $92.9, meg, $4.2bn, $935.8m, $648.4m, $778.2m, $3.27bn, $1.62, janco, $205.4m, pyykkonen, $4.35bn, $1.48, $4.37bn, $142m, $1.52, looting, kozlowski, tyco, amrs, amr, $761m, $387m, â£206m, arpey, $111m, $14.35, cut-throat, $345m, $3.7bn, $3.8bn, $838m, â£481.5m, $193bn, $48.8bn, pre-market, $569m, $51.2bn, $495m, alitalia, alitalias, â£275m, barot, az, iberia, 330m, romes, $18.6bn, swelled, $3.7m, 6-7%, babacan, â£5.19bn, owing, claridges, alwaleeds, strand, fairmont, alwaleed, connaught, renovating, irish-based, pre-tsunami, decades-long, solheim, clergy, hambantota, mahinda, negotiator, rajapakse, kumaratunga, uk-published, salween, mekong, outs, xiluodi, vice-director, stoppages, yue, 4,200, scenic, fujian, damming, crackdowns, nu, nigerian-owned, siena, banca, depository, paschi, nazionale, 32.8%, lavoro, sydney-listed, jetstar, fend, godfrey, $1.3m, â£690,000, cegetel, jean-bernard, jean-marie, vivendis, messier, amf, jean-rene, 15-month, fourtou, riyals, ncci, 372, publicly-listed, functioning, 205, nccis, 1831, intertwined, plantation, 1865, 1,250, slavery, dimon, 1800s, descendants, louisiana, ingrained, mubarak, israeli-egyptian, thaw, hosni, freestyle, receivable, $7.2bn, $697m, $793m, $170.8bn, 62,000, breakthroughs, $104m, full-hybrid, $470m, visteon, montego, zephyr, fords, 1,751,000, 6,798,000, $45.9bn, lr3/discovery, â£1.87bn, s40, mustang, delivering...more, $153m, v50, $44.7bn, premji, apurva, vivek, 4.3bn, 4.1bn, 20.9bn, wipro, shah, 2.7bn, azim, ask-raymond, $98m, non-specialist, morrisons, non-seasonally-adjusted, averages, november-december, 104, prevalence, low-prevalence, proactively, unaids, non-discrimination, 2,200, 10-19%, 130,000-strong, demography, eurodisney, 12.4, â£175m, $328m, al-walid, 253m, arabian, mickey, individuality, pester, stump, â£775, ambuja, â£429m, leicestershire-based, aggregates, markfield, underpriced, ready-mixed, quarries, 142, pre-cast, escorts, acc, holcim, 18.2, 138p, asphalt, â£9.1bn, confidant, bhai, reaffirmed, 745bn, ipcl, anand, dhiru, conciliatory, $750m, ritzier, knotty, pre-empted, yassir, desktops, peres, barosso, shimon, 20c, $2-$3.8, $855bn, â£197bn, cbo, $368bn, iraq-related, envisages, $348bn, bafin, â£7.6bn, anti-money, janeir, hegedus, 10.9%, belo, filho, 10.6%, ibge, lopes, â£179.3, horizonte, $332, 895.4, recife, previously-pledged, $48bn, alwi, bakries, mahendra, $3.4bn, shihab, siregar, prefering, bisnis, italaudit, consob, touche, kull, 22,953, plurality, untrammelled, willey, pipa, globescan, 0730, 1.3040, tacit, 102.975, elgindy, extort, foreknowledge, elgindys, picker, crime-fighting, mauskopf, extortion, contended, sobbed, roslynn, royer, colludes, crusader, egyptian-born, marshals, $190bn, â£64m, xuebing, loans-for-favours, wen, china-published, harbin, frontrunners, jiabao, worthiness, â£117m, $30m, cao, $220m, $648m, jiulin, debacle, $550m, changi, caos, late-november, lounge, eurotunnel, â£548m, $1.03bn, randall, 789m, jean-louis, 200-plus, cross-channel, containers, passenger-only, vehicle-carrying, eurostar, renegotiate, 242m, water-supply, impoverish, 25.01%, vido, aguas, â£72.3m, aguas argentinas, clarin, 39.9%, suezs, water-concession, futurology, tiaret, dinars, butane, algerias, algiers, $2.77, ammar, sidi, bouira, canister, maghnia, watan, mahindra, 17.8%, $54.98m, â£29.32m, maruti, tractor, 2.39bn, 1.41bn, 30.1bn, 136.069, luring, utility vehicles, 874.2m, anti-davos, five-day, 440,000, converge, life-extending, $214.6bn;â£114.5bn, 13-month, 6.962, 17.9%, stronger-than-expected, 22,201bn, 12.011, 20.1%, 18.6%, 1.14, 19.2%, 20.5%, 20,479.5bn, reconvened, santanders, amusategui, hispano, banco, botins, botin, $208m, corcostegui, 160m, â£111m, orchestrate, rubinsohn, quarrying, 1.0%, nine-strong, classify, outturn, healthsouths, healthsouth, vouch, scrushy, co-founded, clinics, sarbanes, overstated, oxley, ifrs, low-wage, hedged, 1,300, dipiazza, exchange-listed, pwcs, two-pronged, over-regulation, couture, haute, ready-to-wear, mundane, adornments, packet, unwrapped, spruce, foyer, wentworth, jammed, photography, plates, wonky, dimmed, sculptor, decorating, authorship, andersens, fairytale, frederik, bicentennial, duckling, mermaid, jarre, fairy-tale, odense, parken, recognizes, pele, keitel, christensen, mitchells, 350%, booker-shortlisted, sebolds, spoiled, madeley, paperbacks, finnigans, oconnors, hitches, nannys, under-threes, barnett, rscs, theatregoers, festens, rigg, whatsonstage.com, shakespearean, anglias, 5/4, pam, ferris, wishaw, albee, hildegard, romola, calico, buds, bechtler, arditti, iphigenia, pillowman, sweeney, bondy, shulman, aulis, macneil, luc, bursary, garai, eldridge, mcdonagh, festen, wintour, reilly, rebuttals, manuscripts, gospels, magdalene, fantasise, tacitus, virgil, clergyman, crucified, christianity, theories, cicero, kefa, expunge, anatomical, slang, unnatural, ssempgani, kampala, lesbianism, glorified, vagina, ugandas, ngos, monologues, mukasa, ensler, ugandan, chalayan, bradburn, loach, testino, rcas, hirst, coxon, ridgeway, omalley, belisha, soho, lyric, bible-thumping, dup, belfasts, beacon, preacher, sermons, orator, glens, ballymena-born, embankment, antrim, yeats, ocasey, phantom, paisley, stranmillis, schindlers, dilapidated, erotica, suzie, waterstones, 6/4, hollinghursts, doore, mysticism, under-five, riddell, king-smith, riddells, six-, illustrations, smarties, 4children, eights, fergus, eight-year-olds, eccleshare, grindleys, memoir, kunzru, varieties, stewarts, provoking, armistead, sayle, mutants, elegance, inquisitiveness, zadie, abnormality, five-strong, leroi, armand, lerois, mutant, cultured, womanising, providence, nassau, bisset, memorably, panoply, bedfordshire, snow-logged, harassed, mid-thirties, visualised, brolin, authorial, â£318, hailey, aiport, self-critical, page-turners, zero-eight, moneychangers, bestsellers, daydreaming, haileys, professions, rusty, $600, seberg, spoofed, painstaking, lem, rushdie, lessing, ismail, tabucchi, naguib, oe, kazuo, muriel, mahfouz, ishiguro, coetzee, stanislaw, eloy, kenzaburo, updike, yehoshua, 18-strong, kadare, mcewan, salman, kundera, bellow, commends, ozick, gunter, roth, $3.4m, impressionist, $10.3m, sothebys, six-storey, juxtaposed, 2001fetched, â£5.5m, warhol, clemente, townhouse, basquiat, versace, tobias, masterpieces, versaces, lichtensteins, cunanan, lichtenstein, wingfield, ethel, menagerie, heathers, domineering, lange, leveaux, slater, exhibited, omai, â£12.5m, â£10.3m, 1774, fetched, noble, 1776, caricatures, polynesia, wrangle, diaghilev, re-formed, 1935-37, sylphides, markovas, prima, diphtheria, uncles, alicia, dolin, tow, ashton, ballerina, ballets, 1910, markova, russes, diaghilevs, markova-dolin, governess, ballerinas, stravinsky, lightness, lilian, re-ignite, nureyev, darcey, perfecting, sibley, carving, nurture, rad, dainty, antoinette, fonteyn, hobbies, bussell, kickboxing, trew, hautman, boyles, onan, contagious, paraguay, arc, roths, 9-11, â£5,390, wildfire, francisco, napkin, 1965-2003, blumes, fictionalised, godless, paraguayan, snobbery, honourary, narratives, 1920s, tucks, bookshops, half-blood, potters, rowlings, amazon.co.uk, manuscript, wizardry, 420,000, terrell, pre-order, voldemort, witchcraft, raphaels, alton, tussauds, rubens, greco, pinks, saumarez, pre-11, pedestrianisation, urbino, tolstoy, caravaggio, alva, cavanagh, ontario, northwest, 1,466, excerpt, synopsis, erotic, tambien, enlists, cuarons, robinov, burnett, pax, hand-held, musings, saddams, rasheed, strangers, oday, laud, southeastern, cfca, one-hour, stupidity, dens, 13.7, daffodils, 14.2, deplorable, twenty-first, sundances, redfords, xdance, monolithic, ski, slamdance, glasses, star-struck, downtown, corduroy, so-and, story-telling, merrier, unpatriotic, egalitarian, disdain, viewpoints, corny, conjuring, winsome, marvelling, scabbers, myriad, crookshanks, calamity, featurette, oldman, pegg, pawlikowskis, cattrall, firth, stauntons, fellner, laundrette, deakins, co-chairmen, ladykillers, leighs, takuo, miyagishima, vie, 267, gollum, eight-year-old, embodied, claus, elegant, zemeckis, three-metre, castaway, pies, mince, wintry, cannibalism, â£162m, conquerors, cannibals, practised, dominicas, up...we, carib, $305m, 1600s, dominicans, perpetuated, colonisation, caribs, dominica, anjelica, $7,000, â£3,650, schmidt, robbing, salles, selma, commercialisation, christs, pierson, screenings, â£322m, kwon-taek, chihwaseon, cinematographically, stylised, hazlewood, reticent, berlins, dornford-mays, forceful, hasna, jnr, daze, paramedics, nora, poitier, besides, 65-year, purlie, hernandez, uncredited, â£611,000, fiancailles, â£2.31m, depardieu, 885,000, dimanche, figaro, best-paid, figaros, 3.55m, â£2.45m, 3.35m, â£3.77m, reno, applauds, cheadles, rusesabaginas, raoul, rusesabagina, peck, kigali, 55th, hypnotic, annals, kowalski, milestones, 13-strong, self-censor, anchor, brokaw, afi, affiliates, malloy, freefall, newscasters, squibs, disobeys, pancake, firework, detonated, antoine, fuqua, dudas, gatekeepers, educates, stepchild, morehouse, atlanta, â£24.8m, bruer, â£48.3m, $75m, graces, $7m, $19.5m, $73.4m, â£14.9m, $46.8m, â£38.9m, majeed, memon, zaidi, kashyap, kashyaps, hussain, anurag, mihir, knightly, thrill-a-minute, winstone, titchmarsh, present-day, post-production, lotterys, one-disc, guinevere, schama, peeled, bertoluccis, tango, marchak, glorify, drawn-on, warmed, duvall, budd, gangster-style, schulberg, sported, caan, moustache, pencil, corleone, pim, fortuyns, islamist, booy, dutch-moroccan, fortuyn, slain, self-image, burgle, uninterrupted, laing, constraints, themed, bulletins, snicket, $30.2m, displacing, olaf, â£15.5m, spanglish, connelly, handler, whisked, carrey, entertained, carriage, fleshiness, mesmerised, non-actors, becky sharp, prophesy, irresistibility, intuition, clear-sightedness, minx-like, bosom, nairs, salaam, carts, underfed, visceral, indian-style, luminosity, nair, thackerays, reese, witherspoons, masala, next-best, thackeray, climber, song-and-dance, red-headed, minx, witherspoon, mira, intuitively, self-fulfilling, makepeace, singer/actor, poelvoorde, academie, backer, dutronc, desplechins, karin, torreton, terzian, quai, kechiches, yolande, emmanuelle, devos, amalric, auteuil, lequipier, viard, moreau, orfevres, cates, humorously, mink, counterterrorism, high-visibility, disapproved, seven-second, twice-nominated, canopy, sarin, receded, eyelashes, bleeps, erected, vicissitudes, osella, charms, $14.3m, $6.25, $5.80, $9.4, billion-plus, $1.25, $110, introduces, schoolteacher, alienated, kechiche, forestier, pleasures, tunisian-born, wistful, 18th-century, cesars, marivaux, travails, suburb, dramatist, impoverished, pre-school, american-themed, turban, dom, balamory, bungalow, playschool, toto, floella, debbie, featherboy, collingwood, joko, jakamoko, isitt, mccourt, bosworth, darin, brenda, spacey, blethyn, croooner, hoskins, sings, darins, scorn, bleached, vidal, $21.6m, gore, hamstrung, jfk, â£17.m, bravado, sandals, historys, blood-and-sinew, barrier-breaking, mata, swords, buttnumbathon, jolies, bisexual, unwieldy, accent, $13.5, $24.1m, grandiosity, â£11.4m, hectoring, bisexuality, $33.1m, â£12.7m, earring, bonham-carter, birthistle, bifa, minghella, pavlikowsky, hickox, 1,796, â£23.2m, $44.7m, â£63.3m, $12.7m, â£86.1m, danner, â£6.6m, $121.9m, $9.4m, $165.8m, erin, po-faced, waynes, torment, wilmas, tobey, tongue-in-cheek, hellraisers, gaudy, ock, leans, molina, blooper, dunst, heart-wrenching, scrubbed, non-essential, uncut, jacoba, 349, â£306,814, discreet, pavlik, 5,808, furlong, paltrow, 3,300, rained, mid-to-late, mudslides, â£56.7m, savaged, â£8.8m, sixth-place, cages, $4.7m, â£2.4m, $110.2m, â£77m, $17.1m, bruckheimer, male-orientated, luncheon, ordained, mumbais, vinod, kerala, picturesque, dolphy, dias, sins, pande, dsouza, communitys, portraying, zubair, hoardings, moving castle, animator, miyazaki, witchs, bunuels, packard, orson, macduff, 1987s, crusoe, oherlihy, welles, omni, transcripts, 40-strong, anti-nazi, rothemund, scholls, condemning, beheaded, township, gestapo, interrogations, yimou, carradine, mirroring, proclaim, kitamura, 2,271st, atomic bomb, fascinate, tomiyama, godzillas, masahiro, filmmakers, shogo, matsuoka, prehistoric, lizard, ryuhei, pullmans, bridgetothestars.net, spyglass, anti-religiosity, modification, lyra, anti-religious, guises, overthrow, unviable, belacqua, god-like, pullman, curtails, weitz, iconoclastic, blasphemy, felicity, sopranos, huffman, hatcher, bateman, dramas, nip/tuck, cecil, jagger, demille, teri, comedies, mcshane, globes, musical/comedy, deadwood, marcia, inwhich, snubbed, anti-bush, pasadena, whodunit, semiotics, bankable, cryptography, medieval, protagonist, teena, fipresci, molester, kassell, satyajit, paedophile, pixar, caouette, transsexual, handicapped, brandon, aaltra, tarnation, $11.2m, $10.7m, $8.5m, $12.8m, $125.4m, $12.2m, â£6.7m, â£5.6m, â£6.2m, $14.7m, $163m, â£23.7m, â£90m, â£65.8m, $42.8m, forty-two, 20-30, bratt, ellie, carruth, budding, hurosawa, â£1.25m, mogwai, fanclub, 44th, razorlights, notables, streetwise, 40th, revelatory, under-produced, zutons, jupitus, radiohead, vocalist, enemys, $40,000, sensationalist, â£1.33m, molesting, juror, stilwell, courthouse, stand-by, plying, mother-of-nine, molestation, â£21,000, minogues, maroon, divo, 5s, dismantle, suge, assaulting, parole, protegees, shakurs, barstow, marijuana, lenfance, accompaniment, valery, bastille, fondation, aznavour, destaing, anne-aymone, claptons, giscard, 2,700-strong, out-selling, sonybmgs, brocksteins, 1000th, skeens, evanescence, censored, hagerstown, 13-year-old, wind-up, herald-mail, brownsville, $74,500, trevin, â£38,660, strenuously, discharged, 0700, broadus, wander, spiked, gin, snoop, rape, drugged, kimmel, deceitful, simons, ragovoy, germano, mastered, springsteens, whitney, def, dirt, run-dmc, dmx, beanie, ll, sigel, stub, accoustic, aneurysm, ruptured, flu-like, unrequited, crediting, congestive, merle, wolverton, self-penned, marleys, marley, truncated, exodus, jamaican-style, correspond, manifest, rollers, scottish-based, eurythmics, goth, lowly, subconsciously, fallow, palookaville, masochistic, peppe, pacing, 360,000, slims, prodigys, landlocked, pap, horizons, consciously, me-and-zoe-gate, accumulates, revellers, jolly, fatboy, rattling, scrub, maracana, superclubs, valium, outgunned, weathers, corporal, fictitious, collaborator, fintians, withdraws, mcfaddens, fogarty, implied, papas, mid-1960s, cooder, ry, melcher, chords, mamas, gram, kokomo, thrills, belfast-born, glasgow-based, akons, akon, alouds, hotly-tipped, futureheads, highest-charting, doves, crooner, christies, maries, divos, operatic, lapping, peppers, disco-rock, chili, home-town, boyzone, enormity, barbados, gibb, aimlessly, newton-john, sing-along, olivia, suddenness, napalm, fraternities, moulds, twiddling, allotting, nea, gorbachev, chopin, self-sufficient, angst, macmillan, megastars, wagner, privately-funded, idol-type, sustenance, debussy, state-funded, louder, 300-strong, bands/artists, 1xtras, crowns, stakonia, platinum, displace, spans, southernplayalisticadillacmuzik, dog-breeding, bois, exponents, awakening, korns, bakersfield, untouchables, happiness, darnell, kenard, seated, 1,000-strong, stabbing, sickening, vibe, scuffle, autograph, mistletoe, moped, whams, sleigh, slades, 112,000, touts, 24-26, 153,000, purchasers, ticket-holder, milian, latifah, degeneres, croke, mcd, ticketmaster, 59.50, slept, 0845, bedside, daisy, arses, sapphires, sapphire, couldve, necklace, colon, accomplice, well-built, 505, break-in, hindsight, disturbed, impulse, 30ft, quad, 24-carat, ski-mask, chalfont, muller, trouble-free, lamented, light-coloured, courageously, stalkers, burglary, 555, wifes, handmade, xfm, unheard, gobsmacked, martikas, mavis, betts, raitt, lopezs, dickie, salsa, lynyrd, salsa/merengue, â£0.53, skynyrd, rican, $0.99, velvet, j-lo, mic, newtons, yauch, flautist, flutist, horowitz, lower-court, half-step, punk-rappers, bmrs, 14-year-olds, lucie, silvas, bmr, yoxall, pike, feargal, sharkey, singer-songwriters, cutler, lindblom, civilly, clarksons, rigueur, roderick, spectors, lana, josh, hoobastank, maroon5, seacrest, grobans, gestures, trice, obie, lantern, shady, crotch, docked, mosh, tirade, divulge, â£600,000, â£59,000, â£27,000, $110,000, â£16,000, butterfields, â£1,140, $110,00, $2,115, tor, d12, pharrell, bennington, colosseum, open-air, linkin, valle, skateboards, bicycles, xzibit, anastasia, jostled, winkler, 0200, altercation, grohl, unplugged, biographer, wrangles, smells, krist, novoselic, nevermind, ciaras, r&b-soul, re-issued, dylan, sugababes, $144m, 72,000, â£3.99, 79p, wikid, greed, gutted, fledging, brushes, â£29,000, reel-to-reel, theolonius, handwritten, guernseys, trombone, vibraphone, coltrane, beloned, ella, bruni, monk, sablan, fitzgerald, jj, hampton, gown, â£267,000, saxophone, paedophilia, satire, hates, guerrilla, brass, character-driven, webmaster, node, ashcroft, self-facilitating, send-up, brooker, co-write, independently-produced, vetted, wraz-tv, wraz-tvs, schenck, trivialises, impostor, 182, pre-taped, us$100,000, â£52,590, $100,000, â£52,000, deconstruct, zeitgeist, stiller, six-part, flanimals, a-listers, bitches, 2,881, bozell, ptc, sleaze, kedas, raunch, smut, jeannie, 3,056, peddlers, 171, breast-baring, residue, criminalist, bakley, dowell, emmy, baretta, bonny, goings-on, coupling, emmer, politcians, â£266,582, $3, â£293,264, $32,500, superbowl, profanities, adjourned, â£1.6, â£17,320, brownbeck, revoke, legisation, eurovision, celine, iglesias, nana, lulu, mouskouri, dion, pitting, ruslana, csi:ny, emails, dossiers, mistaken, stalked, recommissioned, satchell, rowetta, recommissioning, rosencrantz, cbs-owned, most-watched, vicki, rocking, 542,000, nipple-baring, arquette, joeys, aniston, thirteen, six-year-run, courteney, phoebe, earl, scruggs, banjo, jed, misel, scoggins, bluegrass, daugher, hillbillies, anniversaries, flatt, clampett, texan-born, 91st, 12-episode, bransons, materialistic, plank, grogin, apprentice, clubbing, loopy, stallones, sylvesters, argumentative, 1/3, ex-wife, escaping, raquel, curiosity, peculiarly, stalls, gregarious, smoked, camden, hellewell, open-fronted, deckchair, dylans, aladdins, stripy, unshowbusiness-like, ostentation, scarf, sipped, burgess, trickle, sofas, â£350, vintage, custom-made, eccentricity, deterring, clutter, wandered, â£4,250, perched, bartering, detakats, toothbrushes, wedgburg, upholstered, â£1,950, toothbrush, uma, 5,300, ditched, thurman, blige, superstars, leno, commercial-free, co-present, upn, voyager, coupon, bakula, 2.9, full-page, nx-01, upns, $23,000, quantum, totp2, andi, relaunched, roly, kash, portman, bestow, outens, nortons, ex-big, hide-and-seek, 1/2, kenzies, housemate, 1/5, 4/6, nineteen-year-old, rink, torvill, stipulated, skater, skates, skating, smillie, liberty-x, gascoigne, jayne, pinsents, buerks, natasha, kaplinskys, jennie, unwell, sharapovas, secombe, astell, whimsical, whittington, guernsey, misprints, tele-ho, odes, pantos, gardening, droll, 1947s, esther, cyril, pointon, emperor, fletchers, gardens, reciting, revue, sorely, nickleby, rantzen, old-time, consummate, vies, varirty, cohens, 3-8, supernanny, dancefloor, threes, borat, flashmob, life-size, hells, lucerne, agatha, dysfunctions, warmonger, forensics, juggernaut, forensic science, instantaneously, toxicology, 200,000-300,000, pathologist, jittery, attorneys, backlogged, spin-offs, mcfeeley, houck, near-infallibility, cantonese, sizable, â£525,000, telethon, re-recorded, heir, totallyradio.com, lamacq, listens, onemusic, ledgendary, commited, kember, knowledgeable, keaveney, runcorn, brooksides, keaveneys, 1989s, fridges, neaptide, nellie, $1.7m, â£907,000, jock, cancels, viacom-owned, &#163;1.8m, halftime, â£293,000, infinity, appletons, anderton, appleton,31, geordie, stoppard, misfit, one/channel, barratt, mcavoy, two/sky, boosh, buffalo, subscription-free, scrutinise, greers, suitcase, 40-1, 20-1, ex-e17, slashing, nielsens, lydon, cola, publicity-seeking, westbrook, non-celebrity, 9p, sharma, pistol, 50p, sunita, danniella, sitcoms, dolores, castor, troiani, detectives, â£9.25, wholescale, rdf, $18, champ, rdfs, moms, 25-minute, â£27.2m, $85m, 12.3, 11.9m, 49.2%, 10.9m, 15.3m, tufnell, beanstalk, cricketer, mcpartlin, pascuale, 10.9, new-type, 62.2%, bon, vh1s, astronaut, krim, throw-up, â£1.3m, four-page, spiders, rat-eating, doorway, light-headed, hand-written, ofcoms, insidious, unbalanced, mersey, school-based, cbe, hollyoaks, redmond, greig, coogans, 1.8, tamsin, risers, 200-page, pro-democracy, detaching, angolas, joaquim, icrc, sahundi, lapete, aries, wambo, luandas, gazetta, tabloid-size, reunified, gripped, gera, buenos, schooldays, yellowstone, mongolian, nettles, two-part, erupt, epipsodes, archangel, wiedersehen, supervolcano, sants, pompei, merges, midsomer, volcanic, erupts, volcano, belsen, cannings, bex, fingersmith, docu-drama, frys, headmaster, barron, conman, burchills, eruption, genghis, marple, stevenson, hollinghurst, poliakoffs, highbrow, knots, x-files, makeover, hasselhoff, operas, howlers, beachgoer, 12-year, baywatch, crest, mind-numbingly, $1.75m, syndicated, cidatel, citadel, rantings, pennsylvania, 25-54, infomercial, â£950,000, sirius, restriction-free, bloopers, 1956-87, bandstand, 75-year-old, holly, shefrin, frankin, interactives, roms, news website, adjudicator, endemol, 1/14, 2/9, aroused, emphysema, â£2.7m, carsoni, respiratory, dismally, tether, fargas, putrid, sorrells, troublemaker, folllowing, 3/1, rations, huggy, bookies, fastest-rising, ballykissangel, off-beat, guest-starred, crockett, 1/4, 7/4, stallone, 0300, compound, daughter-in-law, 2/1, anti-mccririck, underestimated, 6.3, gail, poor-rating, drifted, 5.9, berman, unscripted, tarrant, nesbit, poe, fireside, edgar, bierce, curtiss, manchester-based, dutch-born, corbijn, depeche, sucessor, co-executive, headlining, alison, blackground, post-mortem, penski, aaliyah, 320kg, aaliyahs, twin-engined, cessna, mid-week, timeslot, parfitt, therese, bissell, ackerman, pyjama, romance, emile, charisma, raquin, zolas, adler, thou, connick, pajama, supervisor, shalt, gennaro, symphony, castaldo, rayne, erasure, regains, royalty, uniting, filthy/gorgeous, contravening, humming, domino, tet, raiding, rename, disused, reading/leeds, posteriors, smog, arresting, stacks, post-rock, muso, sebadoh, damndest, abatement, wheres, charlene, glamorised, roni, letisha, 10,500, jama, anti-gun, asha, beth, parted, barrow, hindered, busteds, 13-date, coinciding, eccleshall, rennie, riotous, chiefly, crabbe, long-rumoured, clutterbuck, fan-base, amicable, post-busted, warwicks, 4pm, pop-punk, fightstars, wyman, 1,001st, 10/1, outselling, galvanize, cigala, youssou, sulimanovic, senegalese, tinariwen, nomadic, bebo, eliza, carthy, chango, zephaniah, malian, ndour, negrasmusic, flamenco, lagrimas, valdes, spasiuk, kombou, totp, dazur, french-canadian, voisine, nrj, schoolgirl, francophone, cote, roch, jenifer, clad, elephunk, severn, figurehead, compilation, self-financed, sherry, flicker, lipstick, richey, skeleton, name-checked, stadium-conquering, articulated, yself, singer/guitarist, fuerteventura, goa, b-side, plath, manic, self-harm, dredd, homelessness, disorders, ten-year, despondent, f4, raw t, proliferated, hacienda, detested, five-date, fi, patois, swore, dem, indecent, anti-gay, profanity, taskforce, weh, aborted, illinois, reimbursed, onyx, $9.3m, 82-date, jive, cutting-edge, gay-bashing, vp, picketing, outrage!s, jammins, kartel, capleton, vybz, buju, yearwood, homophobic, tok, j-flag, violently, hysteria, seventeen-year-old, teignmouth, absolution, wolstenholme, tendons, crue, â£5.4, mantooth, rheumatic, ex-girlfriend, motley, degenerative, non-fans, matronic, orrible, hisss, biassed, artisic, presneted, ditty, bohemian, division.those, baffling, serene, suede, speechless, mediocrity, mcalmont, robs, middle-of-the-road, moguls, folks, second-rate, 125,000, meanings, catergory, years....its, cunning, mediocre, boringly, afro, sisterhood, pleeease, siblings, bites, angels...i, claptrap, lyrically, buzzcocks, discisions, kinky, coffin, 25year, aspirational, brainwashed, nope, booo, years.perhaps, lackluster, pre-teens, frontwoman, bane, redifining, sioux, snobby, half-baked, lp, picnic, drake, slow-dance, oversentimental, siouxsie, appelas, pavlovian, rhapsody, soppy, bargaining, kidding, embarassment, slushy, disputing, discos, wuthering, ridiculuous, sops, all-rounder, best...we, facsimile, duetted, goodlooks, overrated, teja, jamelias, down-to-earth, motherhood, rah, nspcc, digga, fickle, birmingham-born, guerilla, well-received, meighan, pizzorno, sensibility, rocknroll, songwriter/guitarist, nmes, armenian, sideburns, arse, serpents, farmhouse, blends, cutt, badlands, lsf, karloff, getaway, rutland, primal, kasabians, melody, terri, reignited, northing, clumping, ty, irrelevent, pigeonholing, tuff, brushstroke, sub-category, sub-genres, multi-cultural, originate, sidestep, acknowledging, syncopated, bebop, invoked, despise, funk, soul/rnb, puting, crunk, comapnies, originates, ragtime, condesending, uber-category, btw, cities-, london/manchester, fueled, characterise, kravitz, colourblind, hay, pigeonhole, oversensitive, benson, stepsister, run-down, flailing, demolish, hendrixs, janie, seattles, â£535, opiates, ex-hole, oxycodone, weitzman, sober, concurrently, narcotics, bean, near-fatal, clich&#233;d, mase, madd, jamz, injecting, sinks, kanye, jaw, hova, twista, wests, rhymes, critically, dmc, izzo, marmalade, york-born, meghan, grammy-winning, aguileras, dirrty, maya, bratman, scouts, churning, macphisto, alter-egos, clinging, corresponding, coarse, achtung, re-invented, zooropa, stadium-filling, catsuit, hewson, edginess, flag-waving, cliche, ireland-only, mcguinness, anthemic, 26th, olives, speaker-climbing, bonos, drum-throwing, schoolfriends, explorations, youthful, encompassed, fathead, pickett, pop-oriented, manfred, hoagy, mayfield, cooke, indisputably, redding, carmichaels, winwood, cocker, hallelujah, whatd, milt, first-generation, sha, orbison, tear-stained, arranger, progeny, newman, trait, baptist, burdon, cochran, transmigration, stardust, replicate, mayer, gladys, rap/sung, lennox, agnetha, faltskog, lyngstad, anni-frid, andersson, ulvaeus, sos, cirkus, niklas, stromstedt, soulman, cemetery, kerrang, lostprophets, judas, rejoined, pistols, clog, gravestone, flower, glam, sabbaths, fifth-placed, aids-related, 41-year-old, auctioneers, monterey, much-loved, renner, realties, 2.6bn, endangering, zombic, good-selling, plummeted, sm:tv, cd:uk, deeley, swamp, whishaw, conleth, clancy, hecuba, choreographer, cadle, pryce, emilia, gielgud, gambon, dreyfuss, ades, tempest, lyttelton, mtsensk, sadlers, mear, paule, othello, donmar, hytner, drury, killamangiro, punches, occurrence, documentary-maker, rocker, frenzied, bouncers, 50-minute, waldens, disconnect, carlish, alpine, volksoper, lederhosen, nazism, yodelling, filmgoers, nun, kitsch, hammerstein, novice, edelweiss, nazi-occupied, trapp, goat-herds, austro-australian, viennese, bard, occ, siemssen, withering, corey, yall, c-murder, rakosky, second-degree, orleans, tru, parish, conti, footswitch, faint-hearted, contis, sketching, hatchets, elegantly, carousing, laughs, smouldering, flustered, helmets, rehearsing, gentlemen, ramble, plate-spinning, nellys, herre, vile, occupied, fullness, boycott, jonesboro, violator, jadas, homie, jadakiss, spiral, escorted, editor-in-chief, xxl, rivalries, angus, hylands, 103, grandma, cheeky, recorders, rundown, between-song, rapport, stereophonics, punctuate, maniacs, verbalicious, motors, butters, cassette, ejecting, playboyz, concurrent, disloyalty, tryin, topper, inferno, masscre, nina, cher, luna, electra, imbruglia, sexiest, noll, fairground, goodrem, kick-start, ticketweb, lomond, tent, 9-10, bellahouston, hampden, balloch, rems, $103,500, jayceon, compton, â£53,400, â£77,800, negativity, g-unity, mccune, $1,300, mmfs, time-specific, hindering, benchmarks, speedily, orkneys, mmf, â£680, requiem, ac/dcs, dragoon, mozarts, pythons, sinatras, requesting, medley, lotta, bb, hynde, astoria, honeyman-scott, overdoses, contemporaries, ojays, endearingly, timberlake, sledge, farndon, diddley, rowdy, gospel-style, messianic, waldorf, pretenders, mocked, shakin, inductee, goin, mullet, stabbers, bo, piano-pounder, re-schedule, mower, lomas, gwnne, healy, billys, daldry, elliots, haydn, familiarise, aeroplane, stewardess, rugby-tackled, smernicki, mirvish, tolkien, warchus, varttina, conjuction, hobbits, torontos, impresarios, dumpty, pl, humpty, ark, dame julie, lamda, mcclelland, â£22.8m, $5.4m, â£109m, $7.6m, $7.4m, â£3.9m, $17.7m, â£10.2m, â£53.2m, â£12.8m, â£15.2m, $42.9m, â£73m, $137m, $19.35m, 204.3m, co-created, gratified, exaggeration, humma, storys, kavula, self-confessed, intergalactic, malkovich, fry, voyage, rickman, non-indian, eastwards, toby, kisna, antonia, amitabh, bhi, determines, bachchan, annabelle, improvised, backdrop, sweetheart, bilingual, non-asian, bristols, ghai, heart-throbs, subhash, adarsh, langrishe, polly, aamir, dil, lagaan, bernath, kahey, endings, decamp, whale, comedy/drama, hopwood, drunkard, coming-of-age, gyllenhaal, costner, squid, noah, duane, kudrows, matador, baumbach, winfrey, ten-year-old, phinnaeus, charlottes, wilbur, eb, goose, oprah, dakota, buscemi, cleese, winick, libertine, knightley, samuelson, twenty-seven, co-productions, pavers, work-in-progress, 6000, ridley, enchanting, biochemistry, primeval, paver, torak, seven-figure, cub, breathes, joan, superheroes, acne, toenails, astronauts, irradiated, headaches, syllables, byline, northstar, surfer, closet, comic-strips, nerdy, kirby, panther, grappled, thor, rekindled, dandruff, swansong, sidekick, sate, indestructible, cosmic, brawn, affectionately, superteam, lieberman, 1922, claws, ingrown, discouraged, romitaand, praters, awfully, eclectic, damme, kinnaree, carpets, ravages, conspicuously, kinnarees, visibly, pusan, toned, offputting, cinemagoers, subtitles, attain, mothballed, fundraisers, premieres, prater, carved, regulars, potts, cazalets, patsy, sid, put-upon, rowlands, well-loved, bless, hove, guildhall, beresford, hard-done-by, barratie, bardem, chan-chook, geislerova, laurie, miranda, blackadder, baldrick, trench, poignant, sketchbook, dumbing, dumbed-down, corbett, good-natured, bemoan, sketches, vegetating, gs, slamming, fussy, f-word, â£3.74m, â£10.9m, $22.7m, â£11.8m, â£4.9m, elise, philandering, madea, ranger, cravens, $9.5m, werewolf, â£6.1m, gun-toting, cheerleader, $7.2m, cursed, jana, in-house, commissioning, daytime, flourishing, hitchcock, receipt, littlefeather, streaked, 1927, bogart, skolsky, dorothy, banquet, overheard, 1939, movie-making, sacheen, hobsons, sr, fonda, suspense-filled, humphrey, jolson, opal, 2,530, statues, fifty-five, cruz, glitz, dresses, bounded, herrick, hepburns, 1944, cavalcade, movie-makers, 8.45pm, admittance, statuettes, demure, casablanca, 5,700, hoffman, craphouse, culturally, tootsie, 67-year-old, wonka, idiosyncratic, retarded, brasco, dahls, sleepy, grape, depps, unconventional, roald, mannerisms, infiltrating, barries, scissorhands, loathing, barrie, gilliams, surefire, poorly-received, depp, willy, kentucky, chocolat, b-52s, snuff, proust, exploitative, genet, spiritually, readings, 58-year-old, ex-smiths, patti, birkin, supergrass, roxy, 10-12, manzerana, eno, 1972s, manzanera, $156m, sillermans, ckx, â£64.5m, hardcastle, offspring, â£81.5m, cfx, drive-in, dabbled, nashville, holiff, cashs, rpm, statler, 174.6, jameson, â£17.7, uk-signed, $33.6, 26,000, melua, katie, nme/radio, 26-28, richfield, marilyn, heavyweights, charlatans, bramham, dohertys, pixies, wetherby, fiddler, maidens, dickinson, leon, â£125, babyshamblers, joness, corellis, filmmaker, ex-childrens, mandolin, smuggles, scoured, pellets, quirkier, alejandro, condoms, bogota, swallowing, therons, colombian-born, pietro, amenabar, 1999s, deliciously, sex-starved, contrasting, bening, swanks, gangster, akroyd, benings, eluded, buzzes, burnham, grifters, carolyn, 1988s, bugsy, surburban, neurotic, myra, seductive, foreign-language, snubbing, bunker, semi-mythical, bush-baiting, palme, inflammatory, epic-style, tinseltown, nominating, aramaic, dor, us$370m, makeup, punky, well-paced, eucalyptus, kidman, magistrate, bugging, kidmans, fawcett, crowe, iraqi-german, hamer, hirsi, depardon, ayaan, somali-dutch, co-produce, 60-year-old, diamonds, percept, swashbuckling, angadias, nile, romancing, douglass, brittany, $576m, â£468m, â£306m, annies, edna, $881m, 6-9, gambles, bana, punter, salmon, â£870, enigma, wagers, salt, mcallisters, angolan/french/portuguese, 24-year, tug-of-love, 7,500, 11-day, critters, dicaprios, leonardo, commemorate, juliet, idaho, teds, 2,277th, â£750,000, uptight, â£7.2m, ex-cia, kurosawa, chieko, soprano, 1728, palaeontologists, aria, bachs, recreated, rubiks, musicologist, bwv, fragment, dinosaur, 216, rifkin, recreates, cantata, hara, gwen, applegate, fiscally, maclaine, applegates, pre-broadway, verdon, weissler, longtime, digney, ephemera, wardrobe, stepdaughter, britney, souvenir, scrapbook, â£700m, bedingfield, craymer, victorias, â£340m, remortgaged, lloyd-webbers, â£67m, zomba, â£75, dhani, nemesis, zealand-born, bergerac, baccarat, broccoli, flemings, niven, sadistic, casino royale, banderas, purvis, zorro, minder, reinvigorate, americanised, chiffre, pitted, neal, mcgurk, bipin, topless, iranian-born, bihari, chadti, jawani, negar, skillset, 78%, highly-qualified, underpinned, shoo-in, drakes, heavily-nominated, outdone, rings-style, lavished, torch....hmmmmm, mungo, reinvention, less-than-successful, roundabout, re-gurgitation, magic roundabout, rushden, clangers, m.a.s.k, postgates, clunkiness, inventiveness, galactica, wisp, fireman, puppets, $$$, pugwash, $42m, luv, mannequins, ufo, yoffi, bearded, mysterious, life-like, saturated, grannies, thundercats, muffin, re-workings, furry, scarlet, toons, recyclers, disneyfying, a-team, catweazle, cg-animated, bod.....oh, sprung, childrent, now-defunct, pludering, plany, childhoods, rework, mr.benn, pandy, gandalf, torch, reviewers, moderately, everthing, bagpuss, misty-eyed, postman, airbrushes, remaking, saphire, dougal, smiled, otherworldliness, wombling, dearest, drivel, remakes, yaffle, wheelies, backfiring, 10-15, cartoons, nesbits, gobo, repackaging, c4, sacred, papamichael, grandpas, â£11m, yesteryear, extortionate, cuddly, expat, terrahawks, dungeons, makeovers, clipping, organ, rentaghost, mock-authentic, repackage, willow, stop-motion, nog, noggin, miserably, flat-cell, citreon, he-man, bod, apalling, daring, 1977s, e.g, clowns, remodel, puppet, supermarionation, reinventing, seam, starsky, krusty, entice, morph, targetted, banana, mega, rehashing, grearest, chorlton, twitch, chorton, antics, joes, fingerbobs, fingermouse, trippy, battlestar, sarcastic, re-watched, midge, ear-piercing, rooting, limos, sunshine, hepburn in the aviator, floaty, shimmering, australian-born, micha, armani, chilly, throngs, sequins, caramel-coloured, sienna, oc, sparkled, reserved, schiffer, floor-length, frock, nominated...ive, screamed, crowed, carpet.\"its, bio-pic, hotly, pinnies, gunpoint, beaded, repertory, cordoned, swansea-born, benefactors, actor-director, trodden, poulton, over-estimation, â£340,000, masonry, jackal, assassin, â£75,000, outshining, sixth-highest, â£42.4m, dreamworks, â£242.7m, first-week, $458, â£29.7m, boasted, ballroom, swollen, glands, lowell, dobson, chelsom, apologising, waltzing, braved, supersized, mclibel, goldwyn, libelled, supersize, liver, libelling, spurlocks, â£40,000, ate, 25lb, showtime, frankenheimer, renny, harlin, 11-26, merrin, shelving, skarsgard, verne, cliffhanger, schrader, schraders, $76m, â£40.7m, foreruns, harlins, stellan, sydow, nikki, rocco, amadeus, $45m, $370m, $436m, $90m, $259m, â£952m, bestowing, â£137m, â£48m, vested, â£16.8m, â£4.1m, â£16.1m, $30.5m, â£5.73m, movie-going, minions, satans, $10.85m, hollwood, $31.8m, â£52.7m, $7.7m, er, mendelsohn, csis, tarantino-directed, mohabbatein, jayanti, â£26,000, inlay, amarishi, conterfeit, buhecha, trademarks, counterfeiters, weeklys, adore, showering, guilds, industry-related, gatherings, karger, pep, unprintable, glitzy, cert, cinema-goers, tv-viewing, tents, ton, strauss, shawshank, kane, darabont, errigo, gant, scoop, flip, charles gant, imelda, gaydos, ide, lars, trier, dogville, outwards, academys, mckendrys, bittersweet, calcutta, prostitutes, oiled, hepburn, indescribable, otro, lado, abortionist, neverlands, evergreen, briggs, foreverman, spawn, stans, hunted, schaffel, `dont, kites, bashir, neverland, frailties, sneddon, kite, legrand, bashirs, whore, plied, 400-year-old, sulpice, braced, brotherhood, vatican, closets, langdons, skeletons, illuminati, symbologist, booksellers, beautys, omagh, 2046, curzon, 60-minute, $60m, second-unit, halloween, trailblazed, lynda, rubble, cluedo, â£31.3m, babysitting, obst, mask-wearing, krueger, stalk, voorhees, â£507, re-entered, â£788,439, â£4.4m, 596, munchies, clean-cut, soft-spoken, clip, coroner, jody, apartment, archivist, quizzing, lachaise, pere, pg, sith, erupting, 12a, molten, volcanoes, clones, hell-like, anakin, lava, darkest, pg-13, under-13s, veritable, weave, donnedieu, vabres, gale, renaud, $30.1m, vin, â£36.4m, $138m, pacifier, â£34.1m, â£72m, $18.1m, newmarket, $36.5m, $70m, recut, $9.8m, â£15.6m, $65.5m, inventor, diesels, $239,850, 957, â£125,000, $291, brody, sebold, hobbit, â£152, adrien, dc, bombed, whedon, buffy, serenity, slayer, firefly, â£102.80, â£1,400, gidley, deletions, beith, 80p, reimburses, evaluated, taster, decries, 60p, eoc, thefirst, abortive, â£28.7m, breasts, sexist, barracking, lovenduski, babes, melons, teather, endure, birkbeck, follet, ex-tory, wiggle, joni, jeered, mcfadyen, twats, messaged, ex-no, tbwa, four-letter, missive, fuck, circs, malarkey, shd, tbwas, re-joined, swears, trev, shirking, super-casino, criss-crossing, addaction, explosives, discredited, quashed, planting, jailing, conlon, rifts, healed, conlons, sincerity, jailings, passable, falsehood, bremners, whod, inference, despaired, cockerell, confesses, inserted, uneasy, ramrodded, sunset clause, sanitise, three-monthly, gibraltarians, chevening, caruana, moratinos, gibraltar, gibraltars, pons, chilcott, dominick, mirrored, statisticians, liaises, postgraduates, instruct, wiesenthal, brazenly, rabbi, perished, hier, insensitivity, commemoration, jamess, soviets, lower-ranking, hated, macdonell, ill-judged, distortion, drank, scotsman, wiser, one-sentence, ill-advised, mcconnells, incurred, problematically, convener, drunkenness, misrepresent, pilloried, revert, decidedly, qcas, dissenter, woodhead, scuppered, sea-change, step-change, 14-19, half-hearted, tomlinsons, upheaval, qca, publicised, four-tier, high-skilled, â£14m, e-university, e-universities, â£44,914, â£4.2m, narobi, huts, cardboard, shantytown, kibera, hornsey, allaying, overcrowded, characteristically, julys, interpreted, perthshire, appointees, reasoned, well-governed, consuls, redeployed, bordeaux, mbabane, counter-, 6,100, oporto, pretoria, pyongyang, kabul, â£86m, timor, 31,000, academically, absences, â£885m, 776, country-wide, grading, unfaithful, 146, dodd, placards, liaised, warcup, tyne, pedestrian, northumbria, hanningfield, baas, occupiers, u-turns, backtracking, burglars, mercers, recently-expanded, armenians, i-era, reneging, staunchest, heartlands, deferential, contravenes, faiths, overmighty, milibands, left-leaning, miliband, haverstock, leftwing, msc, ralph, midlothian, tweedbank, gorebridge, longtown, half-hourly, dictatorships, elwa, llangadfan, mostyn, choirs, unelected, ignorant, shani, leeks, bolshevik, carlile, broadmoor, kosovo, retriever, labrador-curly-coated, schooled, half-sister, emergencies, airy, glitterati, unafraid, invasions, censure, reclassification, casually, shadowing, libertarians, heckled, sadie, conciliator, portfolios, intensify, courted, liberati, amalgam, divorcee, spurns, 4.5m, woolstenholmes, firefighters, riles, eightieth, grants-in-aid, counties, 2003-4, 140,000-acre, 1337, duchy, â£180, ex-nanny, mawer, retorted, casalme, fast-track, ex-lover, ucas, acceptances, 23,600, cross-border, 27,700, caldwell, unpunished, anglers, angling, cast-iron, neglect, arouses, exempting, circuses, consults, rearing, redraft, welcomes, carte, fairs, mutilation, enshrined, blanche, broom, licensees, enclosed, lamentable, non-compliance, smoke-free, devolved, exempted, ticked, miscellaneous, eleanor, template, relegate, non-resident, reassert, gravest, communitarian, carters, fissile, pressuring, havens, qadeer, amitai, osama, less-enriched, axis, pre-emption, etzioni, highly-enriched, abdul, jay-walkers, bedsits, wrung, repression, artic, ex-spy, code-breaking, kgb, â£65,000, latvia, batches, yale, gordievsky, ex-russian, deteriorating, spies, makarov, historian, makarovs, decoded, m16, home-buyers, uprate, exam, dei, sexually, opus, categorically, segregation, census, non-white, one-size-fits-all, thriving, 18s, oriel, ormond, tsar, â£100,000-a-year, aynsley-green, undersecretary, washingtons, murphy-oconnor, congregation, re-iterate, saviour, malnourishment, darlington, 569,072, mowden, mabs, lorna, disaffection, erosion, anti-policy, 1.6m, mcbs, anti-labour, mcb, curtice, anti-party, mab, sher, tamimi, azzam, 1.1m, fitzsimons, 10,000-vote, beneficiaries, whitefield, hannett, usdaw, turkey-eu, highgrove, pro-hunting, doorkeeper, ledbury, hartpury, auctioneer, wakeham, impromptu, holliday, point-to-point, huntsman, thame, polo, bromesberrow, retrospectively, trespassing, charing, redvers, york, handcuffed, herefordshire, chef, misunderstandings, hasty, refusals, lcfs, legalising, lcf, cmf, wills, dementia, algerian, certified, limitation, pre-entry, 272-219, unravelling, 161-strong, drawn-up, tolerable, re-written, scott-joynt, winchester, symbolise, alloway, tinkered, variously, keighley, 45-year-old, tyndall, firearm, incitement, covertly-filmed, twelfth, thuggish, henley-on-thames, grieving, bigley, grovelling, perpetuating, wallowing, liverpudlians, siff, mods, resonsible, over-runs, c-17, foe, overspend, a400m, eurofighter, nimrod, suitability, albanian-born, asylum-seeking, brownlees, reintegration, unaccompanied, redirection, fido, warden, re-register, identifiers, non-british, residences, retrace, re-registration, inaccuracies, pets, equivalents, intervals, innumeracy, 2.25, gcse, school-leavers, 520,000, 529, â£1.1m, unaccountable, 60-employee, mushroomed, endorses, nostalgic, stem-cell, embryonic, mustnt, grown-up, harnessed, australian-style, 160,000, thought-out, contravene, frattini, prejudicing, advocacy, tendered, enquiry, mcletchies, misselbrook, registrable, misconceptions, holyroods, conservationists, ecologists, havoc, hebrides, oceanography, uhi, conservation, youths, asbos, dispersal, insurgency, fallujah, heavy-handedness, ness, booze, inverness, davidson, glenurquhart, preaching, rapes, sprees, under-age, railed, evils, over-18s, baume, baumes, 84,000, 66,000, 59,000, 53,000, energetically, sandford, intercept, strands, 2022, allander, cuthbert, under-estimated, redone, justfor, ideologically, theirfamilies, stresses, radicallyimproved, ofnew, zambian, concentration camp, mubangas, reconnaissance, chained, misfeasance, kidnapping, mop, interrogator, jakobi, daub, consigning, mattress, combatant, daubed, torfaen, 16.4%, whinging, rebanding, re-valued, deception, minimsed, rebanding...will, wlga, â£7.4m, quinns, cover-up, inquirys, grubby, fast-tracking, adss, fosterers, remuneration, foster carers, â£108.49, tapsfield, coward, disillusionment, duchess, chapel, 1,313, remarriage, divorcees, consort, anglicans, hrh, preside, georges, mrs parker bowles, heirloom, wife-to-be, ros, prayer, legitimisation, racists, imams, salford, victimised, islamophobia, 2003/2004, ihrc, 12.5%, disproportionately, alienating, â£140, hannah, hi, e-economy, ict, booz, cultivating, benchmarking, party,said, 1,981, 601, communicateresearch, vindictively, forty-three, 401, 16-18, pelham, lucys, adoptive, sailor, nutter, marrow, staggered, bac, drink-drive, motoring, aa, allsop, 30mg, 50mg, cyclists, 30mph, 40mph, 80mg, breathalysed, â£119m, 100ml, ex-partner, cs2, â£57, correspondence, re-balancing, courtrooms, 1925, over-ruled, nephew, dispossessed, rotten, lord scarman, electrifying, radicalism, scarmans, butler-sloss, nazis, sandhurst, janner, dicky, arbiter, contrite, inpatient, minister..with, outpatient, 6,630, 305,775, beddow, waiters, 785, inpatients, unacceptably, kirsty, modernising, 311,764, 7,613, bma, 708, unambitious, moore-gillon, x-rays, 185,000, prejudice-based, non-european, evidence-based, dint, terrence, uk-born, 856,600, aberavon, assemblys, kisrty, dr gibbons, afan, 2,400, wyn, hutts, five-and-a-half, ieuan, 311,000, nye, blaengwynfi, deflect, perceives, receptive, woke, 0530gmt, iyad, multi-polar, allawi, 2230gmt, cafod, guff, adulation, scars, presidencies, multilaterally, â£285m, hand-out, â£37.5bn, taxing, four-year-olds, dross, dubbing, 1800gmt, family-friendly, â£31bn, sweetman, â£170bn, marchs, gloating, 2003/4, rebuttal, wastealot, colony, evacuate, anti-french, evacuation, ivory, peacekeeping, coasts, standby, deteriorates, gbagbo, 100-120, peacekeepers, evacuating, 2013, heightens, 2008-09, escort, justices, mackey, coachloads, fairford, glos, generalised, chalk-stripe, rhyme, mafia-like, pants, casino-related, spaghetti, involved...they, vegas-style, baiting, rabbit, badger, anti-hunting, otter, farquhar, blanket, prevaricated, quarry, three-minute, frigate, convened, 1215, catch-up, three-minutes, â£1.58bn, bayleaf, chartering, articulate, â£76m, auxiliary, unaccounted, pre-condition, ashford, repealed, dartmoor, mowbray, moritz, postbridge, badminton, mcwhirter, hunstman, unpick, melton, hoey, detecting, 10,276, irregularity, 52m, wojahn, jorg, â£35.7m, 8,177, administering, weed, â£644m, â£38.5m, â£808m, 922, 831, holiest, kashmiri, sindh, amritsar, kashmiris, roti, islamabad, sikhisms, srinagar, muzaffarabad, rwandas, blewitt, militias, kayitesi, hutus, rwandan, taboo, channelled, orphans, anti-retrovirals, anti-constitution, pro-constitution, patriots, enjoined, malik, ethnically, shahid, women-only, abbot, under-represented, terribly, dewsbury, rejoining, dafur, frightening, expertly, mugging, dusk, anglican, stamford, mugged, anglian, disclosures, betts-greens, betts-green, partybnp, woodbridge, cumbria, â£48bn, radioactivity, sixfold, millstone, dumpsite, untreated, intermediate, â£680m, decommissioning, ilw, highly-radioactive, sellafield, muddling, spats, scurrilous, purposely, abusers, petitioners, birch, vote-forging, deceive, vote-rig, afzal, vote-rigging, deserted, 10ft, unsealed, sukul, 275, bordesley, mawrey, presiding, kazi, disengage, abu, tomb, ramallah, yasser, mazen, insurgent, internationally-agreed, wreath, al-jazeera, kidnapped, abducted, abduction, kidnappers, arabic, newly-founded, mi5, appalled, inadmissible, northolt, sacranie, iqbal, peirce, paddington, moazzams, masse, hares, videoing, bicester, enforceable, mammal, spiteful, intimidation, panicky, recounted, wedge, flap, games...they, backward, outling, totality, maleeha, grievances, veils, lodhi, natwest, beggared, principally, knighthoods, undertook, astonishment, gieve, knighting, wanless, repressors, wilmslow, arabs, farmyard, bucket, beard, limb-amputators, muck, slurry, stank, corsa, ginger, rac, polluting, convoys, 1.28p, slow-moving, emmissions, northamptonshire, foreword, thatcherism, quagmire, nicol, possibilty, blot, scannell, mare, 19-strong, barristers, hugill, sleepless, habeus, manjit, anti-islamic, unsafe, risking, union-backed, workplaces, whistleblowers, reps, glibly, brigands, bribers, phi, generators, koh, eileen, 12.30, alcohol-related, acpos, polices, regulating, exacerbate, 2am, underage, two-year-old, mactaggart, carole, joined-up, energy-efficient, one-twentieth, spatial, lax, densities, disjointed, ainsworth, zero-emissions, re-legislate, amandas, mitigating, ambiguity, sentencers, denham, prescriptive, opik, accommodating, lembit, landowner, barking, luff, herefords, orthopaedic, 6-months, welsh-english, moynihan, two-fifths, 151,000, overstretched, club2school, â£41m, demean, faith-based, badly-taught, intolerant, illiberalism, tenets, intolerance, barlinnie, slop, probabilities, remand, eczema, macaskill, buckets, napiers, slopping, heartened, â£2,450, robber, sightings, jeans, high-security, carstairs, minimised, unescorted, snps, reassured, annabella, coatbridge, reassurances, blond, approving, fianc&#233;e, 9ins, apportion, 5ft, psychiatric, clarification, complexion, refurbish, ryder, caravan, encampments, minety, amenity, cambridgeshire, traveller, cottenham, gypsy, merionnydd, ex-welsh, maniffesto, nationalist, llyn, yield, discrediting, nant, llwyd, f&#244;n, glyndwr, conwy, unsolved, cottages, shadowy, meibion, provocateur, nationalists, pembrokeshire, plaid, dafydd, aubrey, fire-bombings, s4c, llwyds, arson, fire-bombing, elfyn, monkhouse, hatfield, jeffries, derailed, tuxford, fugill, mph, pease, railtrack, balfour, lea, pottage, railtracks, upkeep, beattys, alcorn, 0001, quorn, revolved, looms, culmination, 297, hydration, falconer, 203, quicksand, authorises, ring-fenced, agility, tai, all-girl, southwark, hoops, inter-school, anti-competitive, chi, negligent, deprive, say-so, abut, infringes, eurosceptics, lobbyist, sdlp, unionists, maze, deselection, discord, wrecking, polytechnic, anglo-irish, hospice, denounced, uaf, karim, kawa, kurd, swanseas, mosque, derelict, kalan, welshpool, idris, births, taha, civility, whittingdale, imposes, cobham, scaring, climbdown, jowells, pervez, warmest, congratulates, kerrys, umbilical, myron, ebell, anew, truant, snookers, meo, snooker, jacks, smoky, whirlwind, o-levels, reardon, truanted, coordinating, human-rights, mamdouh, contravention, lawlessness, godsiff, habib, no-mans, member-states, qmv, opt-in, streamlining, disagrees, odonoghue, sodomy, invade, allocation, tsunami-size, greenhouse, blushing, us-friendly, kyoto-lite, hayman, binge, preparatory, 24-drinking, objecting, nightspot, re-examined, policeman, responsibly, 18-rated, chainsaw, classifications, 487,939, ne, two-bit, wades, mallons, robb, mallon, exerts, metric, tomaney, campaiging, country...then, inconvenienced, responsibilty, â£349m, livestock, vet, pyres, preparedness, invoices, culled, lackadaisical, dreadfully, reimbursement, revolving, council-controlled, spss, ever-expanding, sps, correctional, reconvicted, dispensation, so-and-so, safely, tutus, tutu, desmond, conclusively, praetorian, scandalous, gurkha, rifles, mornings, post-tsunami, 94,000, gurkhas, helicopters, annan, kofi, exerting, syrias, pa, welsh-speaking, impersonal, freelove, lanning, piers, pickets, pcsu, aberystwyth, pass-holders, uk-wide, concurrence, huttons, defeatism, holborn, lonsdale, westmorland, howden, necks, saddleworth, haltemprice, withington, mortgage-style, newcastle-upon-tyne, reintroduce, orpington, finsbury, taunton, yardley, eastbourne, non-repayable, canterbury, gorton, pancras, wardens, corston, ill-suited, hanged, robberies, suicidal, exhibiting, glaringly, beynon, illegals, specially-designated, registrar, â£135, marriages, rimmer, liechtenstein, amoah, jcwi, sham, registrations, solana, solanas, phone-tap, phone-taps, sectarianism, bigoted, troublesome, bigots, sectarian, parkhead, anti-sectarian, 44,000, competently, condemnation, overstate, 1,943, deprives, unjustifiably, gestingthorpe, erode, woolly, tram, depicting, distasteful, winged, torys, tasteless, overstepped, finchley, mennear, superimposed, colonel, shiner, ferstman, receptionist, baha, mousa, uk-controlled, carla, father-of-two, uk-run, mousas, ethically, barras, self-defence, unconscious, englishmans, lawfully, trawl, watered, woolf, guideline, one-sixth, deterrents, doorstepping, gavron, ill-prepared, interfered, welling, non-emergency, soham, taxpayer-funded, humberside, shirk, invoking, coppers, huntley, communicated, walkingtons, walkington, mischief, â£143,000, renfrewshire, steely, dumfriesshire, stirling, foulkes, endorsing, marginals, hendry, inflicting, undoing, ochil, guardsman, distinguishing, patrolling, begging, discernible, confrontational, convinces, symbolically, â£8.1bn, payer, â£419m, mccabe, rationalisation, â£325m, cosla, 4-5%, self-serving, unflattering, shredding, mandarins, 37,000, shredded, westminsters, peterhead, fraserburgh, conserve, finnie, fact-finding, fisheries, harvesting, genetics, embryos, pro-choice, dfes, rothwell, allocations, developmental, embryo, reproductive, anti-stem, lovell-badge, highlanders, super regiment, argyll, fusiliers, moulding, borderers, single-battalion, armies, amalgamate, flexibly, envy, colonels, hefce, howells, newby, vice-chancellors, deferred, well-off, postgraduate, neighbourhoods, aspire, mini-manifesto, neasden, swaminarayan, shri, mandir, dover, plain-speaking, countering, shipmans, volition, government...has, plumb, lobbies, mis-selling, haulage, pheasant, consumerism, regrettably, â£79.60, formers, ideology, intimidatory, â£105.45, lorries, tuppence, thirdly, repealing, 1.92p, pertinent, seething, disguised, flames, umpteenth, sneering, long-arranged, upstage, once-famed, witney, amply, media-only, swayed, uninterested, captivity, mammoth, pronouncements, unnerved, behind-closed, sulk, chatter, haskins, majorities, ex-aides, of\"squabbling, self-obsessed, insurrection, poisonous, threatend, campbell-savours, starkly, childishness, widely-held, sniping, spines, briefers, fictions, jeopardising, hugely-disgruntled, corrupting, nicki, oddie, hanif, well-crafted, carman, irfan, one-liners, chancing, re-engaging, haircut, 59-year-old, hylton-potts, chapman, drunks, druid, ex-itn, dues, giggles, smooth-talking, maitland, donnellon, evict, eccentrics, mackenzie, guitar-toting, lorraine, mackenzies, inuit, self-publicists, amicably, thoughtfully, sgt, scooby, microphones, chit, mgs, trundled, doo-style, dandies, throats, decked, ill-at-ease, side-by-side, dressing-up, billingsgate, approximation, side-door, mind-bending, psychedelic, surest, regency, chic, wig, soberly-suited, crackled, camper, mantras, tittle, tattle, convict, induce, post-neo-classical, wonks, rationally, 283,000, parable, exhorting, solomons, allocating, snowball, heinous, perverse, mouths, ensues, selfishly, unbroken, adulthood, apprenticeship, descent, nudge, sundar, out-dated, katwala, nexus, unreformable, clintons, ideologue, soundbites, re-negotiate, shocker, bureaucratism, mediterranean, despatches, not-so-secret, infections, feckless, 14-16, letwins, showings, resolutely, precisely-calculated, populus, â£1.6bn, 163, atlabours, â£336m, â£153m, 1906, self-delusion, hopers, is...whether, distrusted, discretion, 206, 229, nurtured, chancellor...no, aspic, unfettered, hykeham, clenched, missionaries, heartfelt, schoolgirls, burnt, ridding, vine, abstentions, blair-brown, 52-year-old, incompetence, bannatyne, broadside, salvoes, crack-of-dawn, scooters, welfare-to-work, â£13, tightly-timetabled, garish, rymans, â£22, hallmarks, inefficiency, taxis, unstained, irene, secretary-general, hope-monger, laments, dripped, passivity, consensual, affirmative, sas, succour, co-existence, expulsion, betraying, rancour, 16.1%, spokespeople, knapman, nagged, backsides, overspending, hidebound, inefficiencies, improbability, hard-won, burgeoned, misrepresenting, foment, tory-labour, recommending, supplanted, gravitate, melted, callaghans, glenys, blaisdon, far-left, islwyn, royall, tredegar, pengam, firebrand, amos, rebellious, tutor, shelters, long?they, ceausescus, liberate, pretends, denunciations, wmd, forgets, totalitarians, politically-correct, tyrants, frederick forsyth, forsythe, stalin, undue, habeas, gchq, forsythes, mass destruction, penetrate, u.k, over-protect, mass-hysteria, eloquently, publicising, lunatics, neutered, humanly, probability, roundly, example.this, propositions, indiscriminately, resentful, duped, fatah, posterity, uttered, policemen, genocidal, philosophers, rakes, fanaticism, movers, collusion, blockade, competence, well-thought-out, liberties, plutonium, josef, futilely, barbaric, insidiously, nightmares, flatten, craftily, mortal, indeterminate, scruffy, talking-down, instituted, sheltered, gagged, verbalise, charge/trial, precautions, ny, ricin, un-british, freddies, her/his, inla, shatter, quraan, she/he, duration, nuked, superficially, imprison, distorts, point-, interned, totalitarianism, misguided, hobbes, overstepping, semtex, fundamentalism, perpetuation, alienation, sleep-walking, self-reflective, informants, kilo, derogation, no-jury, paranoia, roughshod, farage, czechoslovakia, ex-ukip, nattrass, german-bashing, off-air, batten, reich, aspired, unfeasibility, sudetenland, sceptic, anti-european, coup-detat, pompous, euro-sceptic, rk-s, vain, dangerous.the, energies, ego, clown, constituent, midstream, anti-europeans, vacuity, wrecks, diminishes, smoke-screen, proportional, pro-europeans, nauseating, humankind, anti-islamism, egotist, exhaust, irrelevance, self-publicising, chauvinistic, steed, straight-down-the-middle, ridiculousness, -silk, tiff, eventuality, splintering, super-state, small-mindedness, euro-enthusiast, slurs, mouthing, dithers, 290,000, 2,838th, firsts, 1812, subscribed, 1848, leo, longest-serving, perjury, perverting, prostitute, tebbit, perjurer, elapsed, vindictiveness, forgiving, realities, over-75s, â£630, polluter, dental, reintroducing, anti-union, stepney, stooge, galloways, husseins, 50-year-old, shamelessly, dunstans, borough, anti, hamlets, pro-iraq, repeal, eady, hoc, memo, conservative-liberal, thorpes, unravelled, stilts, makings, two-fold, labour-led, stickling, encountering, thorpe, mulled, â£2.36m, â£1.7m, outspent, â£3.13m, â£1.19m, greens, â£404,000, conversational, spontaneous, thatcherites, transporting, rhetorical, keenness, gilligans, alastairs, sexing, rightwards, fair-minded, unilateral, denunciation, defect, wantage, clwyd, meyers, normandy, 20-year-olds, rafferty, snatches, devalue, non-story, grilled, smiths departure, breakpoint, waterson, likening, property-based, â£340, winkfield, revalue, â£7,000, multi-racial, cre, lyn, under-representation, all-women, vishwanathan, ashok, mscps, largely-elected, hereditaries, lieu, facey, bishops, 385, paperback, sultan, â£45,001, wadi, â£195,000, â£5,001, â£71,433, declares, indepen, aunt, six-figure, agony, front-bench, sightseeing, bridgepoint, â£85,000, single-bedroom, â£480,000, â£5,001and, widdecombe, serialisation, â£560,000, â£135,00, â£820,000, ex-health, â£205,000, portillo, hagues, bequest, haughey, bearwood, powderject, â£4,610,849, affiliated, â£330,000, â£10,575, â£400,000, philanthropist, hambro, â£161,840, refrigerator, â£11,724,929, â£8,170, â£63,081, drayson, beardmore, chests, â£325,417, totals, ondaatje, magan, pent, justifies, pr&#233;cis, non-publication, lawless, proceeded, 1441, hulme-cross, hockneys, morals, silks, gla, defectors, laxton, norths, instinct, ramming, stammered, blushed, exasperated, morgans, mis-transcription, doctored, skidelsky, temko, hypnotising, centuries-old, hypnotist, inextricably, hypnotism, ned, ellman, reminders, reviving, smearing, apologies, quashes, erewash, 6,932, battlegrounds, tiptoed, xenophobia, `burden, alternatively, nastiest, parmjit, saxon, parbutt, feelgood, doorstep, tieless, bravura, pms, telford, spence, porterhouse, shipyard, supremely, keener, lays, rouse, zeal, stewards, leanings, katrina, shipley, sharking, exclusions, â£42bn, right-to-buy, refurbishing, tenants, carer, â£170, maternity, paternity, deductible, year-olds, illiberal, grandparent, open-minded, jacqui, cutters, â£23, devlin, aprils, candidacy, turnour, bernadette, 1695, horsham, folkes, 1904, noticing, slopes, pre-election-campaign, inter-planetary, mushy, italics, galifray, cunningly, pea, outlining, dictating, single-issue, politicisation, supersede, 1,132, inconspicuous, democratically, lord holme, winks, nudges, well-understood, informative, cooperate, centralisation, strive, margherita, undimmed, wayfarer, worcestershire, evesham, donned, egwins, dinghy, blair&#191;s, mendaciously, instructor, bromsgrove, damning, windswept, academies, sharron, storer, freakery, artful, interviewer, stomping, masochism, phone-ins, falklands, grilling, enthuse, unwashed, somebodys, kinnocks, flagellation, marching, questioners, maxim, granger, belgrano, over-slick, egg-throwing, eggs, soapbox, harangued, coppendale, memoirs, punched, over-complicated, â£520m, bush-style, reallocated, raynsford, â£512m, 2007-13, â£11, thereabouts, â£5.60, incurring, handouts, doorsteps, pore, limb, larder, demeanour, glossing, redistributive, precision, minister-in-waiting, re-casting, iniquity, patching, â£450, mockingly, conjured, â£168, knifes, 560, inseparable, actionaid, â£60m, six-day, domenico, deadliest, co-ordination, curable, decimating, inoculations, inoculation, â£27bn, siniscalco, pandemic, inducement, tardy, restating, strasbourg, homeowner, are...consulting, non-roma, prague, hale, bleakly, steyn, discriminatorily, discriminate, sceptically, pre-clearance, documented, carswell, czechs, hindus, sikhs, contraceptives, sayeeda, downdraft, islamaphobia, warsi, prentice, unregistered, bled, anxiety, contributes, 2007-2013, exacerbating, undercutting, neurosis, re-energise, 2007-2008, 80th, â£63, same-sex, avoidance, â£275,000, â£4,895, value-for-money, â£263,000, 7p, oaps, â£120,000, rides, pint, â£111, dalton, discourtesies, tyrie, carvel, daylight, pheremones, pheromones, night-time, follett, perversion, unpalatable, quash, steamrolling, ians, madrid-style, uni, overtime, 2/3rds, 50pc, sweat, manpower, folds, disturb, br, 18-21, ancillary, 3x, lowest-paid, jubilation, unglamorous, â£6,000, setting-up, apprentices, 50-60%, stinks, foresee, â£4.25, â£6.00, â£5.05, portering, â£60, â£4.85, underpaid, purr, better-run, 75p, unattractive, tangible, consciences, decently, simplistic, insinuation, â£5.35, â£5000, â£2.75, fudge, whines, decreases, â£9,000, hardworking, rich-kid, laze, sweatshops, smes, &gt, hardship, degraded, fat-cat, â£4.10, spellar, protestations, 20p, city-dwellers, 2,234, countryfile, 801, evenly, sanctuary, 175,000, 16s, phone-tapping, wire-tap, stafford-smith, confining, security-cleared, adherence, mortality, â£0.53bn, gavi, immunisation, thereafter, compassionate, neo-liberal, nobutaka, china-uk, machimura, quantitative, embargoes, downright, â£33.5bn, ladyman, 1.7m, burstow, dependency, under-funded, antithesis, dogmatic, overbearing, reclassified, folly, impugning, centralises, heathcoat-amory, fallon, ex-conservative, entrenches, cryer, imperialists, 17-million, unilaterally, britishness, mardell, internationalism, missionairies, 325,000, 1801, 1606, vellum, protestation, protestants, hive, parchment, trawling, coachmen, maids, laugher, divorces, marital, addisons, 1727, vistas, re-marriage, 1689, fawkes, blow-by-blow, adultery, amelia, jessy, protestant, 1670, 1642, 1834, 400th, jessys, frideric, bonar, addison, handel, sprinkled, break-ups, woollen, transcript, mistresses, 1497, maid, take-home, impetuosity, tax-raising, lurches, self-employed, 050505, slaps, panics, 2001s, abolition, non-event, bn, flagrant, 680, peradventure, mailings, segmented, systematic, handbook, stevenage, insofar, presume, frontbenchers, endorsement, instructs, deposal, oulds, egm, arundel, sloughs, catholicism, maastricht, tanguay, amins, mourned, garbage, audrey, hattersley, 93rd, idi, gravediggers, attlee, uncollected, lord callaghan, ex-pm, marr, recess, whips, grasped, usurp, centre-stage, three-cornered, tatton, unwinnable, misrepresented, communion, commend, abortions, terminations, heeled, 22-week, party-wide, anti-abortion, tantamount, criminalise, 1915, rosyth, vengeful, macaulay, brown/blair, lecturing, marguerite, columns, granita, ex-king, canvassing, eldest, encroachment, cooked, delights, devotion, hothouse, hearsay, cronies, tonys, soweto, pauls, boatengs, laughed, ex-cabinet, chord, ley, 299, de-select, mid-bedfordshire, odell, sayeed, unreserved, hains, browhills, whopping, larissa, by-product, contrasts, ad-libbed, trainee, flags, aldridge, footing, no-hoper, sholto, stepson, lampooned, unitary, stockton-on-tees, stoke-on-trent, sainsburys, tradesmans, liability, tad, sittingbourne, 14,738, 20,645, 5,907, decapitation, folkestone, hythe, harrogate, scotland-born, re-focused, fifth-fastest, currentily, etienne, agio, cobh, long-course, fionnualla, santry, britton, mccambridge, boldon, resuming, 6.39, 9.87, 0.02, recapturing, ato, greene, conserving, lamine, de-mystify, diack, nutrition, namibian, 7:41.42, 2:01.52, out-kicked, 7:39.89, adera, 32.93, 14:39.29, slovenias, miscounted, 6.63m, 4.89, 6.46secs, 5.05m, 5km, commits, winters, fazed, ashia, top-level, 21.72, balkom, kosenkow, vomiting, 21.07, 16.50m, ghent, arron, jadel, 37cm, 7.35, 1.76m, off-colour, 6.56, gregorios, 21.58, 13.86m, 6.67, nia, zara, 32-strong, reina, ovett, half-dead, arnoud, okken, bogdanov, lesters, mcilroys, dmitriy, everest, 46.68seconds, german-based, dimitrakopoulos, costas, michalis, mid-march, gregory ioannidis, 1200m, fayetteville, 0.19secs, eamonn, lashawn, 44.66secs, canadas, coghlan, 7.51secs, season-leading, 44.63secs, 7:40.53, 1.45secs, 49.89secs, 7.09secs, 44.93, 3:49.78, brannen, 10secs, 7:46.78, merritt, bershawn, satisfactorily, 10k, ka, salvage, proviso, short-course, dehiba, hind, cherkasova, 14.74, five-member, uphold, testified, papadoyiannakis, yiannis, doping-related, kilometre, outsprinted, recently-crowned, assesses, galmier, gunnell, after-, eaa, 10.04secs, 20.13secs, budapest, 4.91m, lombards, happenings, delude, scraped, tongues, mckees, injury-plagued, bearer, candidly, 21.00, catherina, unaccountably, transpired, mckiernan, athletics-loving, mckee, wagging, amazingly, cobhwoman, andys, undignified, 5k, clubman, probem, cathal, 3:39, spikes, underachievement, gamely, injury-ravaged, olympiad, pre-olympic, craggs, dougie, half-decent, racecourse, goon, musselburgh, nandrolone, abate, 04.69, abiyote, overhauling, mulugeta, wondimu, gebrselassies, commentating, gloomier, papered, nip-and-tuck, bouncebackability, hicham el, finisher, usadas, testosterone/epitestosterone, rogge, hungrier, appreciative, well-earned, no-win, wide-reaching, tick-list, 26.2, olympians, has-been, staten, liz, impulsive, examines, undulating, repercussions, 9.85, usatf, joanna, 12.37, jesse, 1936, dredge, bursts, erasing, record-holder, connor, commenee, curling, karate, thrower, cheat, korchemy, narcolepsy, flaxseed, wrongfully, innuendoes, sacrifice, motorbike, olympics-accredited, greeces, rehearsed, haralabos, eyewitness, dimakos, perakis, stilianos, konstantinos, presumed, ioannis, hrisanthakis, tarnished, panagiotis, testers, karmis, motorcyle, illustrious, arch-rival, baldini, jaouad, hailes, almeria, tergat, stefano, gharib, ioanidis, thanous, grigoris, margot, jennings, spasm, early-season, galan, tick, pronouncement, loneliness, daley, gnaw, wilt, unquestionable, emphatically, 46.46, eight-minute, 4.25m, 1:48.32, 8.47secs, 7.91m, mcilory, 53.45, 1.80m, tearful, one-hundreth, 3:45.87, 47.96, 1.90m, 7.96m, 2:04.45, 4:19.11, 56.86, 16.76m, kwayke, sub-eight, hurdlers, londoner, janine, 8.06, 7.48, orourke, 7.37, aoife, 47.97, 3:48.82, 02, mcneice, derval, motored, sheffied, 46.45, 3:45.86, ailis, 3:46.04, gillick, 2:06.73, half-a-second, mcsweeney, bogle, 4:31.34, 1.87m, lisburns, willowfield, 8:11.22, offaly, 2.16m, 23.68, 1:50.87, 17.64m, 49.87, allyn, thunder, 15.27m, swain, 20.94, 21.01, 13.77m, 27-year-olds, 23.67, scanlon, 3cm, 13.28m, 5.25m, 9:05.00, 9:05.73, 6.43m, 7.82, 2.20m, 7.83, taniesha, myerscough, 7.58, sothertons, midweek, mclaughlin, pollock, willowfields, nine-times, slovenians, pacemaker, 46.68, 0.90, simms, wolfram, teag, mulle, sparkassen, ricky, mixed-race, 2:17:18, clouded, kenyans, campell, macey, korzhanenko, mutola, livened, discus, okayo, silvers, stanozolol, oyepitan, mistiming, cobblestones, moroccos, storming, fazelas, abi, annus, tumbling, rutto, backleys, barnsley, herne, 46-strong, wessex, basildon, baddeley, crawley, preddy, middlesex, beagles, warburton, aldershot, belgrave harriers, mayock, double-olympic, shaftesbury, barnet, harriers, not-so-pressurised, woodford, cossins, southall, farah, achike, farnham, hounslow, 22.38, melissa, 6.66m, 33.05, 8:14.28, francique, 20.88, 6.52m, alleyne, aderes, 35.39, 45.91, jamaicas, moroccans, 7.13, pre-european, muna, 3:35.27, strode, rust, ominously, 8:41.43, tariku, false-start, melanie, pace-making, 52.98, 4x400m, agnes, samaria, centimetre, hennigar, lanzarote, warm-weather, abdomen, pressurised, website.he, hospices, tanni, pascoe, redgrave, 15-and-a-half, tsunami.steve, leukaemia, heringsdorf, bak, justyna, tosin, kallur, 6.62, rund, holm, verdecchia, adrift, 15.80m, 7.23secs, 51cm, djhone, fedorova, 5.65m, persson, botched, 4x200m, sharpen, recurrence, oke, 22-event, olga, 16.87m, 6.39secs, gebremariam, 6.2km, 5000m, lasp, 9.2km, asi, gebre, kipchoge, eliud, dejene, berhanu, morpeth, baddeleys, reebok, glynn, six-kilometre, tromans, damen, bute, inter-countries, 9km, burka, ines, gelete, 30.26, 31:41, venta, banos, internacional, abebe, monteiro, 10.6km, 10,500m, 6.6km, 33.22, dinkessa, dope, vassilli, reponse, spearate, vassilis, prejudge, refered, substantiated, edinburghinternational, amorebieta, romped, five-second, masais, timbilil, zornotza, 22secs, 51st, derartu, tulus, tulu, ultra-consistent, caledonian, 7.60secs, 7.64secs, vivancos, 7.63secs, dorival, 0.04secs, cagigal, haitis, 7.62secs, kronberg, 8km, wollaton, 12km, vima, childish, coby, mbe, pre-race, hundredth, baton, evidentiary, balcos, admissibility, illston, tightens, centigrade, rods, pool-work, jamies, crutches, nitrogen, korzeniowski, cryotherapy, unaided, toes, vertebrae, limerick, pelvic, twice-daily, ambulance, mater, matter-of-fact, spala, 50k, mcevoy, needles, pelvis, acupuncture, thinking:ok, cortisone, heartbreaking, 86.9kg, 91kg, broadening, jeers, idolised, yobo, pistone, naysmith, hesitated, quinton, outpaced, hibbert, heintze, carsley, kilbane, osman, plessis, headbutt, headbutted, detrimental, overreacted, butting, centre-half, centre-halves, five-year-deal, substitutions, accommodated, scotland-england, de-motivating, shalaby, methat, shehata, hossam, midos, pharaohs, presss, tardelli, overreact, exerted, kiki, inject, side-footing, monotony, tepid, 47,111, nevilles, bradley, laboured, marshalled, pin-point, jole, ferreira, willian, hush, irishmans, powerfully-struck, dangerously, 78,000, rock-solid, nunezs, lips, ferreriras, pellegrino, mins, sidefooting, 112, pidgeley, 110th, quickest-ever, hushing, djimi, 79th-minute, drogbas, well-organised, te, striding, campo, ngotty, 50,430, jay-jay, jaaskelainen, 69th, okocha, cynically, snap-shot, carrs, wanderers, haim, re-taken, 10-game, boumsong, hierro, frustrate, giannakopoulos, jussi, dyers, fadiga, jaidi, kishishev, charltons, southgate, 29,603, nemeth, jeffers, riggotts, doriva, southgates, reiziger, capitulate, mopped, euell, konchesky, joseph-desire, bartletts, parnaby, hreidarsson, hermann, riggott, karkouri, kiely, queudrue, szilard, hreidarssons, 74th, queudrues, perfectly-weighted, 8,661, heikkinen, esson, archibald, brebner, byrnes, cute, quarter-of-an-hour, grady, dodds, mcnaughton, whelans, robsons, prodded, harty, bollan, half-an-hour, arbuckle, floundering, flare-up, gilhaney, mensing, busier, 0-5, malone, 8,200, rout, balmer, stephane, nervy, glanced, dair, cesnauskis, horvath, gabor, mcpake, burchill, hartley, berra, neilson, bahoken, deloumeaux, loop, freeland, outjumped, centre-circle, meldrum, meldrums, wyness, lilley, livi, easton, stanic, skimmed, ferenc, lothian, moilanen, goran, 9,796, vincze, kizys, meersseman, arjens, chiropractor, deputised, untried, hudell, tillen, cudicinis, keenan, dacourt, algemeen, romas, mokoena, metatarsal, dagblad, fractures, wavering, mladenovics, jauregi, out-of-favour, mladenovic, 20-strong, dragan, dodged, multi-millions, shiniwatra, modern-day, veil, traditionalist, ajar, underscore, 60,000-seat, kop, hawkpoint, â£120m, benefactor, stack, re-shaped, warding, sven-goran, counterproductive, erikssons, athletico, torres, espanyol, reduces, ronaldino, equalise, barcas, bees, 12-13, upson, summoned, makeshift, ledley, pre-conditions, k3, tannadice, mcintyres, reprieve, tendinitis, leverkusen, drags, mandic, moldova, get-together, carrington, sardinia, 25-man, respectability, gabbidons, motherwell, coyne, ricketts, tranmere, hams, delaney, gabbidon, koumas, bluebirds, under-21s, earnshaw, inver, physique, mccarthys, mcgeough, larnes, mccreadie, portadown, newry, ifa, ejection, 54th, kerrs, basel, penultimate, fai, 10-match, albanias, congos, sakhnin, bnei, esperance, agoye, etchi, hapoel, tirana, partizani, haifa, murambadoro, masudi, maccabi, miresmaeili, hashemian, $125,000, vahid, barwick, punctuated, head-butting, mikael, intimidate, chap, escalated, 9.3, 150th, enliven, lethargic, ricochets, kezmans, drab, accidently, 42,093, likelier, cate, line-ups, giordano, frisk, fewest, deco, rijkaard, garry, fourth-choice, edelman, heerenveen, boavista, stretcher, namouchi, buffel, mccurry, lovenkrands, latch, confidently, waterreus, ricksen, sotiris, foxed, 18-yard, rab, kyrgiakos, dispossesed, vignals, 11-game, 90th, saulius, 10-games, wrestling, barged, cautions, heartss, dallass, over-zealousness, cantonas, masks, kung-fu, nixon, selhurst, huizinga, neeskens, dorp, michels, knvb, ross-van, rinus, 1965-71, clemence, cologne, gaffer, noe, last-eight, pamarot, doblas, betis, santiago, helguera, solari, revelled, kaka, talisman, cheekbone, ancelotti, tomasson, shootout, goalscoring, serginho, rui, manager-of-the-month, rushs, chesters, aizlewood, impersonated, berated, homesick, dudeks, dimitar, franca, berbatovs, `who, re-sign, nolberto, centre-forward, peformance, dejected, magath, electrician, kampen, blowing, â£16.5m, stam, 32-year-olds, jaap, cannisters, cafu, dutchmans, rankles, honeymoons, stavanger, fervent, steaua, 54-year-old, juan, bautista, alleviated, season-long, carlton, vassell, darius, jagielka, gearys, kennys, warnocks, kabba, thirlwell, haystead, 27,595, eboue, tame, owusu-abeyies, half-chance, pacy, tonge, bromby, geary, bruins, tonny, koeman, waalwijk, krol, falling-out, condone, alcock, remonstrating, seven-match, cop-out, rofe, canio, einhoven, gilmar, clandestine, slapped, adrianos, taunt, crossley, bullfighter, scapegoat, manolete, flores, decorum, fas, 66-year-old, lenient, islero, â£2,060, sportsmans, hernia, 2115, teessiders, mendieta, substituted, gaizka, humility, rossi, generoso, holloway, loftus, rs, 961, commencing, calms, fowlers, 151, beckon, title-winning, money-orientated, savoured, soul-searching, cheapened, diabolical, triumphs, ex-reds, sprain, fully-fit, hotpot, oster, spicy, micah, 2000/2001, mcgreal, cotterills, clarets, matteo, moor, disposed, sodje, frampton, saux, solent, dochertys, craven, svensson, deon, millmoor, oakley, torquay, carrot, eventful, envious, gaal, burnleys, 19/20, bromwich, derby-fulham, albion, candelas, luigi, anouncing, neris, highly-experienced, top-flight, toffees, canaries, 81st-minute, second-from-bottom, norwichs, toon, sweetest, excites, mini-crisis, tasting, ill-feeling, 49-match, player-swap, shuts, mini-tournaments, curepipe, bafana, baxter, double-header, malawi, botswana, augusts, mini-tournament, &#163;8m, ormerod, â£3m-plus, kenton, cash-plus-players, televising, wolverhampton, exeters, arrigo, defiantly, sacchi, sivabaek, klinsmann, alumnia, oneills, hassel, departing, hassall, keegans, botafogo, juninhos, play-maker, rubber-stamps, 55-year-old, hill-wood, arsenes, fiszman, unearthing, stitches, pardew, tempers, verroken, stipulates, re-iterated, fifas, £15.8m, drug-testing, mutus, read:\"we, collision, heinzes, ruud van, collided, three-game, leg-breaker, arch-rivals, minimise, moggi, dinamo, juve, fiorentina, luciano, complying, scandinavia, instal, stockport/swansea, third-placed, non-league, scunthorpe, hinckley/brentford, yeading, swindon/notts, ryman, 8/9, money-spinner, crewe, stale, germain, ideals, forward-thinking, arnesens, archie, midfielders, caretaker-boss, gama, s&#227;o, pel&#233, hounded, paulo, acquainted, gandula, copa, feint, appalling, boca, gandulla, tevez, corinthians, libertadores, passionately, palermo, disorganized, spearheaded, ambushed, tranquillity, vasco, ballboy, reams, dribble, metropolis, restless, vacate, amadeo, edus, fensao, invective, adroit, dumbarton, 56-year-old, callow, call-offs, vitae, magician, bowen, amoruso, jansens, amorusos, lorenzo, jansen, freak, corden, warne, carlisles, zakuani, mansfield, leyton, pilkington, dimech, 3,803, donny, ibehre, mcmahon, artell, haslam, orient, saah, newey, wardley, lockwood, white,mackie, mcintosh, bwalya, kalusha, palancas, zambians, negras, overseas-based, portugal-based, lusakas, zambias, chipolopolo, united-arsenal, montenegros, naivety, ps, garrido, vargas, multi-culturalism, galacticos, lauding, marcas, casillas, loco, booing, chilling, guillem, nappies, bernab&#233;u, coachs, miscreants, yourselves, ugliness, witch-hunt, xavi, balague, volvi&#243, beams, marchena, duffer, sniffing, matchwinner, run-out, prioritises, solidifies, hatful, slaughtered, five-four, highly-impressed, priceless, calming, three-against-three, cloete, ngom, accra, batie, nfor, 35th, garoua, boukar, kotoko, nzame, bortey, sable, cameroonians, 89th, kumasi, douala, 27-28, kemadjou, agyemang, ghanaian, xaba, thokozani, cameroons, cotonsport, makaji, jonatan, curbishley, henrik, cis, boudewijn, mcclarens, one-sided, 128-year, coruna, irureta, deportivo, depor, andrades, jorge, mckoy, ldv, 3,367, dinning, orr, pacquette, oyedele, tapp, amankwaah, chorley, makofo, leroy, anyinsah, lita, herve, 30-yard, puncheon, ntimban-zeh, mcindoes, morley, parkes, mkandawire, beardsley, mawson, tierney, purdie, mcindoe, coppinger, rigoglioso, 1,375, 105, stansfield, warrington, fenton, priet, pitman, 1100, molineux, vigo, seaman, workrate, celta, kanu, perreira, recharged, joses, top-four, barren, hamburg, three-and-a-half-year, hitzlspergers, hitzlsperger, hackett, tremble, free-kicks, neale, glenns, amibition, ex-england, lowe, masterminding, mandaric, refrained, missiles, millwalls, paphitis, ejected, perimeter, ferguson-wenger, reprimanded, diatribe, aggressors, paragons, peacemakers, proudest, thank-you, revel, bremen, werder, wonder-strike, internazionale, well-beaten, under-achievement, goalline, baying, 9,033, ampadu, messed, flack, devine, jeannins, djemba-djemba, hiley, volleying, grecians, afful, devines, 89, gaia, sensed, jeannin, shortstop, prolific, back-burner, nomar, 276, fawcetts, garciaparra, foudy, frey, hairy, fulhams, edwin, sar, top-of-the, rosenborgs, parmas, shot-stopper, schwarzer, einstein, kevins, assistant-manager, gmr, sniffer, kahveci, separatist, ser, albacete, guti, gara, eta, nihat, basque, unruffled, penal, 38,153, subtitute, nicked, aplomb, sidefooted, brilliance, jinked, knockback, faregas, matthieu, frustratingly, quickly-taken, partido, zidanes, socieded, pobreza, fiesta, astiazaran, goalposts, confirned, ceremonial, 9.15, non-offending, slavishly, aftenposten, dubliner, dishevelled, eastlands, outfield, thorp, firefighting, lorimer, dea, 73-year-old, â£103m, mantel, arch, krasner, yvonne, 0227, hand-over, cheques, novos, dug-out, kilmarnock, â£62m, apologises, mistakenly, bosman, psg, wardle, cools, laurels, deflects, lomana, bust-up, boiled, feign, partizan, villareal, villarreal, hallfredsson, emil, u21, fh, left-sided, primed, hafnarfjordur, rouxs, auxerre, olearys, olof, mellberg, bruces, three-and-a-half, challenge.\"earlier, amibitions, one-to-one, munoz, gronkjaer, jesper, toni, â£1.4m, djibril, propostition, out-of-contract, ferencvaros, threadbare, robertsons, basle, reflexes, patrik, teased, vieiras, scraps, bergers, 20,170, bergkamps, persies, punch, aiyegbeni, flutter, match-winner, linvoy, sinama, snuffed, bookable, titus, mellors, nzogbia, deservedly, shay, 43,856, garcias, jermaine, pongolle, 10-man, ameobis, slide-rule, sinama-pongolle, mellor, sami, givens, kluiverts, florent, brambles, everythings, blatter, marta, prinz, zurichs, fipro, sepp, bowing, scupper, sav, epitomises, freshen, sevilla, sanchez, prising, parente, respecter, valenciana, stoichkov, awkward, petrovs, bulgarias, hristo, robbens, 20,210, pompeys, wrong-footed, icelandic, swerving, salvaged, geremi, zajecs, south-coast, acrobatically, harried, cheslea, shaka, exert, reopens, â£2.25m, anderlecht, utds, alex ferguson, goal-kick, pedros, centimetres, mutv, trainings, immaculate, excelled, woodman, constantly-changing, cente, socket, savours, beziers, clamours, african-born, tinkers, maso, liebeneberg, cuff, rehearse, puzzled, sweeter, ruthless, stared, sigley, grindal, mayerhofler, popped, scythed, elloway, cornwell, kiole, garvey, balding, scorch, eustace, 27-22, 27-27, 22-20, curnier, walders, narraway, isaacson, seti, walder, mayerholfer, parling, fanolua, everitt, purdy, 19-33, madejski, 43rd, mapletoft, gustard, penney, hatley, skivington, flankers, priscott, strudwick, unchallenged, staniforth, hardwick, stimpson, danaher, nordt, paice, horak, callam, eight-week, euan, godman, howarth, granclaude, marcoussis, semi-professional, assessor, athleticism, set-to, playmaker, fly-half-cum-centre, unforgiving, outwardly, tryscorers, 83-10, 30-man, stutter, oxymoron, wtih, 17-28, weighty, crossbar, glides, whisker, percentages, fancied, undaunted, collar, orqueras, lievremont, fit-again, abbotts, tabacco, magne, pieter, bloodied, footwork, debrief, out-muscled, majestic, choked, inury, beforehand, simplifying, problematical, rucking, bruises, advocated, neath-swansea, try-scorer, blindside, reasserted, hard-earned, searing, 28-8, bereft, patersons, craigs, 8-0, foiled, southwells, presentable, stray, scuttle, jutge, well-worked, commanding, burrow, half-break, scoreboard, red-hot, 32-16, resurgent, tough-scrummaging, aided, reckoned, try-scorers, vickerys, wrus, sparingly, anoeta, paseo, 12,667, sociedads, euskarians, realms, northamptons, horner, enclosure, landers, probyn, under-pressure, uninspired, 1600, toulouses, milkman, highly-rated, all-french, leaderless, sternest, rawlinson, bartholomeusz, vickerman, vaikona, rigney, broster, mcmullen, popham, raiwalui, bracken, randell, chesney, gerber, lund, wigglesworth, macleod-, martens, fortey, redpath, coutts, schofield, windo, rasmussen, collier, pieters, sixways, caillet, vaili, gillies, roddam, trueman, bozzi, horsman, anglesea, under-perform, demoted, mathew, rubbished, sella, devoid, stuttered, under-fire, poms, ex-wallaby, berates, castigated, englishman, disallowing, thick, mounts, campese, whingeing, predicament, fringes, nz, cobus, withdrawals, tana, ollie, maling, aus, jacque, paces, odriscoll/gregan, star-studded, guinazu, loose-forward, quicker-than-expected, shanklins, three-quarter, sidolis, must-win, beckons, mindset, thinker, front-row, one-dimensional, uncharacteristic, mefins, ridiculously, drip, antibiotics, macqueens, rawaqa, caucaunibuca, reihana, free-flowing, robins, luscombes, injury-depleted, standout, guscott, rfu, disallow, landsdowne, reintroduced, inquest, ex-international, jonathan kaplan, breakdowns, full-backs, assertiveness, requisite, 22-cap, rueing, 18-year, licking, padova, viadana, laquilla, montpellier, treviso, agen, bollesan, catt, clashing, four-match, strokosch, alasdair, macleod, medial, verification, macfadyen, 10-week, huffed, whisper, overworked, gloat, yore, crumpled, oche, hog, mullens, whitewashed, centrally-controlled, downsized, foresight, decreed, irfu, freshness, salient, cousins, puffed, crown-winning, physiotherapist, irritable, sonnys, pughs, 12-9, iestyn, coslett, 13-man, 1994-96, cunninghams, bulls, kel, millward, cross-code, rehab, saint-andre, club-versus-country, simpson-daniels, brunos, cherry, re-opened, scrummaging, tackle-count, yapps, well-recognised, go-forward, burn-out, gallacher, 2001/2, signings, llanellis, pectoral, back-five, hodges, departures, invigorate, under-18, eldon, howley, amalgamated, gnoll, finlay, simmering, mackays, acrimony, sru, waging, strings, beileve, finsihed, anybodys, energy-sapping, ym, immaculately, blomefontein, duel, 35-17, huey, wager, boks, armagh, strutted, hutchinson, coleraines, tragedies, under-19, 37-32, londonderry, manged, sorrow, galway-based, flounders, unhelpful, begrudge, ebb, rucks, revered, captaining, teak, mauls, blooming, dismantling, capitulation, ensue, coax, shoots, inconsistency, bemoaning, reassess, richly, sharpens, demolition, humbling, sown, proclaimed, five/six, lucio, amor, fleming, jonty, schalks, gollings, giteau, 1815, 1430, 51-15, aussies, revell, 15-0, 12-3, ex-pat, clem, munro, 1963-4, exclaimed, 1870, 2-3-2, 42-7, 37-33, 1921, centenary, 9-3, whinnerays, uzzell, beatings, enlightened, 34-9, twenty-two, 19-0, anglo-welsh, quittenton, pakiha, johannesburg, blemish, 1905, bedell-sivright, 54-9, 23-11, duly, reflecion, james-inspired, christ, eyton, invincibles, 52-3, 1893, 1903, kiwi, despatched, mckechnie, nil, empathy, 3-4-1, 12-7, 13-12, 1924-5, 8-8, 53-37, maoris, laughter, churlishly, schoolboy, 23-3, undefeated, kiwis, cardiffs, rees-jones, maori, instigating, death-bed, 11-3, 12-10, haka, brisbane, 1928, quick-thinking, two-all, demolished, carwyn, 43-17, 49-6, swatted, inauspiciously, ethos, non-cap, psyche, 22-3, warbrick, tanner, 1888, 55-3, 6-6, 19-16, pickering, two-month, caveats, recuperating, re-match, 817, 117th, 1871, co-host, jrfu, hkrfu, strongholds, pools, tokumasu, molloy, 125,508, splashed, rubbed, manor, pragmatist, agreeable, buffers, irreplaceable, crowning, tuiliagi, pounded, scrums, relinquish, 31-37, johnson/b, 31-31, causeway, rabeni, gisbergens, saluted, bemand, tuilagi, buckland/cockerill, ginsberg, vesty, biljon, venter, 61st, 48th, shimange, stung, 63rd, horgans, aj, geordan, ankle-tap, 17-12, toit/j, botha, linde, backline, paulse, transgression, honiss, three-to-one, joubert, rossouw, tap-penalty, britz, preez, poached, slotting, westhuyzen, willemse, claassens, 52nd, 83-3, tuipulotu, waasdorp, lakomskis, viljoen, kort, emerick, donnacha, sherman, surgener, timoteo, hobson, chomping, alec, mounga, 65th, osentowski, schubert, sika, 39-31, gouws, petruzzella, klerck, billups, sheehan, connachts, kieran, mccormack, connacht, omitted, indiscipline, rugged, fortuitous, turnovers, out-played, thump, upper-body, 45th, out-thought, munsterman, well-drilled, contepomi, longo, aramburu, ragged, pumas, federico, unstructured, sudden-death, bainivalu, neumi, kai, 17-5, thirlby, vakacegu, tuidriva, marika, horstman, nanuku, bowl, 26-21, appleford, 33-15, dwyer, bergh, holah, piri, marty, thanking, 19-47, australian-dominated, baa-baas, coasted, nonu, fifth-minute, cowan, laulala, curtail, jermoe, mentoring, weepu, keino, vacated, maa, unavailability, 56-man, roques, monye, substitution, berths, flatman, haughton, doak, sixth-minute, calum, longwell, hore, rennick, glimmer, netherdale, millar, 20-6, maxwell, berthinussen, morton, mccullough, pattison, warnock, morale-boosting, mcentee, macrae, feather, steinmetz, trickling, fightback, parr, springs, woodwards, compounded, ramsay, cheetham, venting, christchurch, bicep, haematoma, full-contact, shelf-life, negate, 17-17, welford, aftewards, wasps-leicester, cozzas, half-back, walshe, rowell, rejoins, mikes, ultimatum, alli, brownsword, dipo, 26-year-olds, tindalls, dwarfs, battering, emulating, principality, scarred, 18-15, two-try, tribal, shackles, mesmerising, 33-5, innate, overdrive, nail-biting, second-, unstuck, underrated, niggly, knowsley, sculthorpe, rfl, sonny, sculthorpes, seans, joynt, unknowns, itd, deserting, motivating, ellery, bolt, fumble, sin-bin, freshly, nervelessly, prospered, savouring, relished, gelled, spikey, salvo, all-enveloping, nonchantly, ado, up-ended, shuddering, personified, glided, din, self-assurance, taits, toying, howitzer, craved, repelled, silver-booted, snatching, sydneys, sanzar, aru, north-south, blossoming, tenterhooks, celts, emerald, bleus, ignominy, legions, scalps, dawns, nearly-men, romantics, phalanx, heady, savour, jpr, back-foot, odriscolls, blazers, gobbled, knuckles, mcdowell, much-improved, disintegrating, cordon, well-conceived, cosh, tacklers, half-effort, belly-up, eclipses, haranguing, second-row, nfl-style, scooping, bisected, white-shirted, ghosts, banished, shortlived, blustery, face-saving, jerseys, supercharged, break-out, indiscretion, upfield, fourth-minute, wilting, numerically, shaved, pendulum, thrusts, kirwans, lamonts, outmuscled, wriggled, try-scoring, game-breakers, over-confident, self-destruct, adaptibility, ultimitely, 92-cap, one-season, 50-44, lock-cum-flanker, 6in, starters, yann, marconnets, 17-18, booted, unerring, delaigues, scrum-halfs, longer-range, betray, botch, nibbled, scoreless, 10-3, straying, dispense, industrious, engendered, golfers, goal-kicker, retirements, goal-kickers, jonnys, natural-born, fairway, week-in, week-out, 8-38, precaution, precautionary, tbc, 2340, west-country, dwell, reffed, scavenger, serve-and-volley, disgust, 6-5, rusedskis, kiefer, pox, chicken, fifteen-year-old, downed, dispatched, collegiate, jan-michael, gambill, dancevic, unduly, puerta, eliminated, marches, mantilla, agustin, montanes, improbable, novak, sixth-seeded, acapulco, outlasting, calleri, volandri, sheffield-born, europe/africa, delgado, mulhouse, plaisir, hitters, right-hander, 264th, rain-interrupted, intervened, harel, eclipse, erlich, run-ins, becker, youngest-ever, okun, beatable, nasdaq-100, blisters, vincis, vinci, roberta, volleys, magdaleena, cross-court, three-set, baltacha, thaliand, weingartner, marlene, antwerp, willems, yetunde, german-born, vaidisova, romp, dismantles, 27th, inexperience, abigail, mandula, sania, petra, nirupama, cricketers, vaidyanathan, 1-6,4-6, accosiation, fabrication, shamil, kuznetsovas, tarpishchev, euro-africa, gregs, yugoslavian-born, countrymen, gargantuan, quaking, self-confidence, murrays, likeliest, 187th-ranked, 407th, strolled, short-priced, 158th, swings, wobble, us$25,000, scrichapan, us$40,000, four-times, unicefs, â£28,000, acasuso, 113th, 95th, 30th, habsudova, karina, daniela, kucera, organizers, rackets, prevails, â£115,000, slams, motivates, 3/7, glimpses, outclass, rigours, injury-free, supplements, higdon, contaminated, contamination-free, horn, hardcourts, tobys, paes, navratilova, leander, 52-week-a-year, instilling, keothavong, workouts, unearth, crowther, jimmys, ltas, sportswoman, therell, 200%, 10-16, clinches, clay-court, deceptively, darn, medalist, dissatisfaction, bryans, outclassed, robredo, tasty, swiss-german, open-era, mauresmos, routed, lakers, cramping, flavia, fabiola, switzerlands, eighth-seeded, frazier, bronchitis, daniilidou, eleni, frenchwoman, zuluaga, camille, golovin, bjorkman, pennetta, third-ranked, magdalena, gimelstob, kindlmann, hyuung-taik, luczak, phau, garcia-lopez, jarkko, exhausting, second-set, ancic, nieminen, wrapping, 8-10, outlasted, tarik, sfx, re-hire, 121, benhabiles, goldfine, floridas, sun-sentinel, nailbiting, tiring, stoked, exuberant, two-set, on-court, 9-15, koubek, conqueror, energised, four-set, rodicks, modifications, lleytons, gutful, thatll, folded, fatigued, davenports, lapse, lunging, groundstrokes, down-the-line, chases, deuce, shot-making, loops, half-volley, 15-40, line-call, double-faults, 40-30, slam-dunk, nadals, retrieving, 40-15, ferociously, roused, lunge, 6/8, hangover, gee, 8/6, 4-4, outplays, 30-0, dinked, double-break, crosscourt, unreturnable, buts, leaden-footed, acclimatise, nuts, usta, straight-talker, 52-year-olds, moulded, newcombe, rafter, herald-sun, cahill, lendl, 31-year-olds, berdych, all-russian, gonzaelz, conquering, federers, belgians, sw19, henin-hardennes, all-important, limp, kuerten, let-down, long-recognised, nicoals, five-setter, repetitive, adductor, slovaks, meghann, shaughnessy, baccanello, krajicek, wessels, michaella, jaslyn, ruffled, sidesteps, unwavering, melinda, katarina, canberra, ivanovic, 32nd, serbias, srebotnik, straight-sets, round.said, czink, sveta, anna-lena, groenefeld, radek, stepanek, synthetic, soderlings, soderling, rib-cage, chaunac, karlovic, unimpressed, malisse, aces, top-seeded, lobs, delray, zib, 0-40, dane, 88th, saretta, almagro, rain-affected, flavio, forehands, zabaleta, bondarenko, see-saw, erupted, clipped, nervously, 134, alyona, indelible, rumors, ifes, sprayed, mikosz, metaphor, ills, kyrgyz, inked, his/her, panacea, radioactive, glow, dries, cuticle, inking, prelude, backsliding, lamp, askar, ultraviolet, neon, pro-government, akaev, elementary, immoral, 12,575, 224, tara, expressionist, planners, coudenberg, unleashing, remnants, cellars, technologists, â£21, langlands, abstract, altruistic, bricked, incubating, modernity, outside-in, urban-based, story-based, senne, vein, on-the-street, mini-hydraulic, self-sustainable, huaral.org, telecentres, huaral, perus, 50-family, saldarriaga, inaugurated, cuyo, telecentre, inhabitants, chancay-huaral, cepes, non-government, coordinate, 2kw, diamound, emenating, revolutionalised, surprisngly, anyhting, directs, isbn, autolinks, citizen-based, carfax, hypergrowth, autolink, outreach, proxies, fronter, amazon.com, coppin, tivo-type, 150%, envisional, 2k, roaring, â£1,500, terabyte-size, 1080, scratches, 2048, 35mm, encrypted, aadc, *, degradation, lossless, 028, 9276, preventative, xboxes, cords, non-for-profit, focal, templating, cyber-dissidents, radicals, blogsphere, dedicate, 7.1, mums, month-old, re-use, georgeta, re-used, unrecycled, landfill, minciu, re-using, reconditioned, krewell, microprocessor, ported, 96%, firefoxs, ie7, gatherers, mid-2004, fruits, permissions, 1.25gbps, chennai-based, teleservices, tatas, 1-2mbps, pipes, lightpointe, foggy, roofs, sridharan, alberta, biowares, bioware, edmonton, shauna, neverwinter, mall, filtered, ciphertrust, deluge, armoury, brightmail, two-three, efficacy, painter, piero, della, flung, passages, telemetric, torvalds, kapor, freely-available, linus, copyrights, corroborated, software...of, licenses, co-existed, philpott, wielded, wmds, reboot, abstain, setbacks, re-submit, activcards, pda, activcard, dogging, shopaholics, indemnify, e-banking, token, ascertain, e-business, passcode, scammer, token-based, beal, 2048-bit, by3g, community-based, sixty, 77%, wsis, niscc, waarschuwingsdienst, easy-to-understand, non-technically, comb, ruhollah, khomenei, gilan, ayatollah, khamenei, persian, dissuade, mullahs, clamped, farda, us-funded, counter-revolutionaries, motjaba, weblogger, sigarchis, internet-users, infringe, lokitorrent, lokitorrents, decss, circumvents, scrambling, ripper, fashionista, minimixa, sequencer, newsround, stagework, compositions, sseyo, best-designed, newly-designed, 30-frame-a-second, meat-and-potatoes, omap-vox, rasor, 19.9, marketers, reigns, equations, equalisers, encarta, encyclopaedia, algorithmic, indexes, instrument, subway, motion-control, v603sh, people-watching, maracas, motion-sensitive, afficiandos, pantech, sports-leisure, calorie, ph-s6500, golfing, america&#191;s, espns, honed, monopolise, hockey-wise, thirsts, indignation, 2k5, unparalleled, quench, disliking, arcade-like, preambles, excellent-value, nfl, dizzyingly-extensive, espn, rankled, identifiable, ooze, oodles, die-hard, nhl, front-end, similar-yet-hugely-different, shading, massive-money, art-form, konga, singstar, hitman, bongo, byplanes, plusnet, 40mbps, â£9.4, jerrys, uncouth, unsophisticated, sequoia, gullivers, satirist, capitalists, â£1.04m, filo, 7,600, initiator, franciscos, raskins, hertzfeld, jef, xerox, raskin, gui, pancreatic, noone, so-and-sos, 34-year-olds, intervoice, nineteen, non-smartphone, 94%, 20gb, 160gb, dixons, telewests, -top, tuners, classrooms, liverpool-based, collaboratively, visions, useable, eschewed, edu-tainment, edutainment, satisfies, lateral, futurelab, transplanted, outputs, habitat, heine, â£68, $125.73, drawer, already-established, rechargers, weee, eco, fanara, ripmobile, chromium, e-waste, epas, epa, vampires, openzone, hi-jacked, nobles, cranfield, configured, logon, cybercriminals, cybercrime, 137, panlogic, familiarity, seaboard, net-using, makower, cachet, cash-on-delivery, radar, c-span, rosenberg, blinkx.tv, captioning, caption, webcasts, marek, stowell, trojans, crank, malware, strihavka, cash-rich, instapundit, attributable, net-savvy, aggregators, kos, 58%, avid, well-educated, hasson, tiga, coding, kingsley, business-like, cull, iwata, touch-screen, kart, $2.6bn, eight-player, pictochat, satoru, additionally, ubisofts, keywords, rellie, tateson, whistler, artgarden, metadata, amended, add-in, expunged, reconstructed, acute, workshare, tendering, drafts, chefs, self-regulation, ayers, ispa, norm, super-regulator, lengths, conduits, risque, currie, best-kept-secret, meme, gawker, gothamist, plasticbag, nikolai, londonist, replicating, greenfairydotcom, boing, flickr, wonkette, hicksdesign, bloggies, bicycle, movielink, movie-swappers, cinemanow, deleterious, wav, glickman, napster.no, abetting, bruviks, lillehammer, unauthorized, tono, napster.com, premeditated, bruvik, single-function, multi-megapixel, bluephone, larribeau, 056, ubiquity, inescapable, consumer-focused, niel, poach, frontieres, modifying, medecins, aid-related, homepages, sparse, nachison, wikinews.com, acclimate, one-to-many, movabletype, chomsky, monde, eye-witness, linguist, paxs, discourse, abtahi, exponential, god-game, molyneux, skateboarding, lionhead, computerised, bullfrog, surreys, god-games, dungeon, ambitous, fad, discontinue, skirt, anti-blogging, dayton, quirksville, layovers, matsuura, pelletier, thrives, visualisation, livio, atomic, haystack, blueprints, iaea, $11m, costantini, transfers, smuggled, pooling, blogged, palpable, ramdhan, descriptions, heretic, dina, smses, one-stop-shop, kotamaraja, trawlers, rohit, gupta, yadav, snapshots, funnel, pandas, state-of-the-art, hemin, vets, bamboo, panda, sichuan, globio, wolong, 802.11b, biodiversity, toolbars, invasiveness, spreadsheets, rittweger, stata, sendmail, jf, lookout, heck, keyword-based, cosiness, pronounced, nokia-sponsored, wisconsin, junkies, shack, kaye, countdown, xml, playboy, assortment, anti-radio, gadgetry, podcaster, w1, swivel, innovator, ra-104, vaio, leds, eos, novatech, ux50, pcg-x505/p, inventing, clie, 300d, canons, lma, gt4, gran, ridge, evo, turismo, hawks, acid, engagers, peakes, slushier, in-between, nm2, storylines, stringing, illuminations, bare, action-fest, wyver, gormenghast, 7.5m, nm2s, re-engineered, stollenmayer, lego, reassembled, 268, restructuing, mid-october, expressions, parkinson, computer-augmented, augmented, head-mounted, lifeplus, backpack, pompeii, dramatisations, 2d3, miralab, taverns, frescos, make-over, interprets, magnenat-thalman, augmented-reality, union-funded, archaeological, emoticon, bagle.bb, bagle.at, bagle.au, bst, 0630, 0530, rebuilds, re-emerged, starfox, anatoly, tyukanov, supt, trafficked, commodities, newark, darkprofits, camberley, proprietary, ringleaders, twenty-eight, shadowcrew.com, certificates, deats, robotiquette, dautenhahn, cogniron, pointer, pass-the-parcel, imitating, kerstin, companions, human-robot, demonstrator, studys, welchia, tightly-knit, slammer, un-named, spontaneously, towergroup, mastercard, atms, thiemann, hirsch, os/2, europay, prompts, inundated, militarys, edgescape, boingboing, bush-cheney, stanzel, ebbs, decipher, dormant, freebies, whalley, activate, revenue-generating, decryption, ingenuity, symphonies, re-spawning, bog-standard, speeder, tatooine, doubtless, waypoints, wookie, above-average, snazzy, fired-up, blockbusting, back-to-basics, jedis, much-maligned, gunfights, hoth, backdrops, motifs, skirmishes, quotient, trilogies, mayhem, ewoks, wastes, non, at-ats, galaxys, geonosis, one-trick-pony, endor, triples, 6.23, bread-and-butter, lends, carefree, anchored, gags, entirety, in-vehicle, on-screen, crooked, barnstorming, freeway, ambience, detract, magnificence, off-the-chart, haircuts, commandeer, driv3r, grungy, odious, stumbles, push-bike, revisiting, framed, pad, jokey, pile-up, hijacking, more-of-the-same, sunsets, action-packed, stomps, venturas, plus-points, brutality, crime-shaped, patrons, lowlifes, wit, pro-censorship, thinly-disguised, swathes, behold, flaunting, avenge, inflame, gangland, deeds, envisage, stupendous, preppy, fiddly, loquacious, fierro, give-away, non-geographical, 0870, entitles, cures, traits, superconducting, contexts, transformative, hinton, underrepresented, nanotechnologies, pervasively, dti-funded, over-promise, keyboards, multidisciplinary, amaya, firebird, net-browsing, garner, banded, pre-launch, windows-, 94.7%, november/early, browsed, charted, incarnations, remarking, bungie, distracts, starship, ringworld, playability, titbit, nivens, essay-length, texture, troopers, remembrance, halo.bungie.org, screenshots, enormously-high, cultivated, schlock, horde, errera, attained, dolby, fansite, comers, 16-28, counter-strike, co-manages, 10-13, one-one-one, excel, wride, jolt.co.uk, 3-5, bloodline, strohmaier, co-founders, top500, erich, unfolded, web-page, mobs, cache, retrieval, saffo, senanayakes, far-flung, self-organizing, michelangelo, senanayake, centralise, unreliable, tablets, sanjaya, rampersad, purification, techies, kettle, childlike, jeremiahs, orwellian, embodiment, downstairs, stimulus, preset, bowden, avatar, jeremiah, bathroom, manageable, margate, ever-improving, cm5, si, cm, bonnet, fm2005, mind-games, faithfully, eidos, riaa, 2,755, britneys, rockstars, livelihood, swappers, vice-versa, anti-competition, mason, artifice, musicmatch, wma, gellhorn, slattery, unlawfully, realplayer, anti-trust, 0.0051%, wield, merriam-websters, dictionaries, merriam-webster, derive, repressive, hyperlinks, slant, looked-up, hitwise, auld, jongleurs, goodpub, unfeasible, nearest, 85130, 133m, syne, lang, unrelenting, blinding, sympathise, prodding, distinctly, immerses, rashly, monster-infested, herded, sledgehammer, hl2, attention-to-detail, thrill-ride, step-by-step, meticulously, unkempt, cut-scenes, freedom-fighting, irk, haunting, zombies-leaping-out-of-shadows, infuriating, nightmarish, skirmish, alienware, radeon, troublespot, crowbar, mingle, foreboding, tantalising, lifelike, interrupt, hurling, top-notch, annoying, corpses, 3500+, unfeasibly, hesitating, landscapes, underplaying, atis, interacted, x800, mid-task, half-lifes, free-ranging, life-draining, resorting, clobbers, exhilarating, exposition, highly-anticipated, carefully-scripted, gamepads, multi-discipline, cambiemos, bubbling, frontiers, joysticks, virtues, bush/kerry, forefathers, frasca, newsgaming.com, uruguayan-born, vices, iowa, astonished, killzone, inhabit, mitts, shark, nanoparticles, inanimate, lenses, sleeves, anti-odour, micro-engineering, part-human, pervaded, neuroscientist, fabric, biocidal, sleepwalk, dressings, arrogantly, part-inorganic, molecular, quaintly, tio2, fuses, formulate, nanoscale, electrically, passer-by, stain-resistant, ambient, nano-, antibacterial, pass&#233, conductive, biology, nanotechnology, bolted, cyborgian, surfacing, sewn, paves, infiltrates, databases, plugging, cratchits, underworld, convoluted, overdraft, cahoot, unshredded, transit, auditing, securewave, jakob, glamorous, dr nielsen, pervades, puzzle-based, females, realarcade, sports-based, hi-spec, over-50, games-on-demand, big-hitting, poker, â£30, graber, easy-to-play, simulations, petaflop, 36.01, rochester, teraflop, 5th, gene/ls, nasas, minnesota, tailor-made, genome, proactive, simulators, emphasises, stills, discreetly, leboff, skeletal, $399, 7.2gb, nevosl, sanyos, 3,420, camcorder, fashion-conscious, â£211, chassis, pendant, surround-sound, slung, galore, design-conscious, circular, uei, hotseat, fy500, audiophile, seagate, fiends, arling, risqu&#233, vpc-c4, â£133, 2.5gb, $799, mpios, â£425, mpeg4, geeky, p7131, unplug, nevo, hanau, ticketless, timetables, romen, hanaus, bus-stops, smart-card, buses, 3220, rooster, darlings, intermission, belinda, â£7.36m, compromises, mid-2000, reproduction, 836m, dual-purpose, 10.6m, fossils, abundantly, half-term, superfast, full-screen, laughably, fossil-hunting, flakier, purged, sina.com, censoring, subversive, sohu.com, excused, entitlement, legionnaires, theorem, back-office, evidently, godels, interconnectedness, diatribes, catastrophically, scammed, galls, phoning, interventions, â£320, dwight, zonealarm, avg, dialling, artificially-inflated, hotline, innocently, â£139, 40-odd, pay-outs, profiteering, rogue-dialling, it-literate, high-bandwidth, subjecting, pollmann, spamcop, spamming, day-by-day, terabytes, malte, ebay-type, ipprs, good-practice, pre-legislation, middleman, ippr, decentralised, non-market, e-democracy, mailing, e-government, cliques, publicly-recognised, $26m, 44.9, wheelock, in-stat/mdrs, under-25s, in-stat/mdr, $336m, bypass, echoes, cluttered, steam-type, lombardi, valves, fahey, onestat.com, randle, niels, â£133,000, brinkman, 95.5%, softwares, mozillas, 7.4%, 7.60, mozilla, 88.9%, amsterdam-based, 7610.extended.theme.manager.zip, arima, tee-222, masquerading, shareware, sporadic, 7610, non-working, 7610s, wallpaper, benq, micro-tv, cut-down, p800, decompress, horoscopes, expensively, music/video, pleasantly, eyesight, mp3g, maxs, mini-tv, insect, hatched, prof reddy, pctvts, telemedicine, powerpoint, postulating, rambathla, foolproof, designate, prassana, personalized, choke, pctvt, $2,000, intermittency, elain, intractable, untapped, wgc, wcg, specializing, cycles, proteome, molecules, analyze, not-for-profit, seti@home, gallin, gigapixel, 6m, hartog, 360-degree, composite, stitching, tno, 196, rockscape, computer-controlled, canyon, 2.5m, constructed, dots, $5.95, unregulated, roam, remote-controlled, silhouette, blackbuck, off-range, mouflon, taxidermy, barbary, 20-minute, live-shot, antelope, corsican, statutes, remote-control, underwood, white-tail, 133-hectare, tie-ins, eyetoy, â£1.34bn, broadened, 37.9%, double-platinum, 1.75, fondness, follow-ups, â£4.50, lynne, 86%, brindley, librarys, piazza, mainline, oftel, multi-occupancy, wifi, stening, broadbands, bundling, kilobit, strangle-hold, 2km, renting, â£39.99, bedfellows, yagan, oxygen, filesharing, rages, captive, onetel, condemn, desks, allocate, lavatory, malfunctioning, reformat, careless, flushed, rescuing, ontrack, corrupted, weirdest, photojournal, snappers, telegraaf, moblog, aarhus, paedophiles, stiftstidende, schoonen, buzznet, dominican, telegraafs, reichhold, â£171, $322, omaha, tattooed, non-permanent, 666, viral, penetrated, poisoned, irony, weblinks, propagating, combs, finjan, scours, progam, dole, behavioural, bofra, informally, 1000, promiscuous, chandratillake, bookmarks, suranga, vigilante, anti-spammer, spamming-type, skirting, centralised, response-time, 80-hour, tv-watching, jolna, starcom, tivotogo, mediavest, 26-inch, a-la-carte, diapers, hanlon, humaxs, stacey, directtv, hume, 100-hours, pastimes, talked-about, scheduler, scattergun, middlemen, harvest, persistence, messagelabs, cyber-criminals, sunner, 273, fountains, somersault, third-person, empress, leaping, slicing, all-consuming, ramps, bellicose, meticulously-animated, sultry, sequence, disservice, haphazard, lopping, slaying, dahaka, commences, purposefully, onimusha, fiendish, anti-climax, pirouette, unsatisfying, energetic, hinges, preposterously, then-groundbreaking, super-athletic, scenery, intro, beasts, time-travelling, merit-free, hoarded, hoarders, toshibas, bytes, obese, e-mailing, functionalities, squirreling, multi-media, floppies, hoarding, 1,000,000,000, fourfold, bandwidth-hungry, clarion, morin, yankee, schroth, reserving, single-player, subscription-based, prioritising, spoils, sandvines, sandvine, live-play, pma430, pocket-sized, windows-based, pmc-100, music-only, crohas, super-cool, av400, tivos, non-professional, clothe, impeded, unosat, interpreting, bjorgo, voigt, einar, wadis, candillon, encapsulate, sertit, keyobs, laminate, rainy, riverbeds, sudans, mountable, i-foot, gillingwater, avineri, four-wheeled, 1.35km/h, autopilot, plant-based, cocoon, infirm, exoskeletons, envelop, pods, staircases, single-person, erel, encased, strolling, reclining, leaf-like, 0.83mph, imac, customized, dismounting, egg-shaped, 2.1, bird-like, vehicular, aichi, i-unit, human-factors, ipod-type, harker, tfl, hypertag, infra-red, marson, minicabs, hypertags, unlicensed, ir, bloodthirsty, cumberbatch, informaton, serviette, untouched, enquires, vacations, typed, elfs, enquiries, 40052308090, 277, â£104.99, hard-to-find, fanlo, shopper, roper, imrg, robosapiens, â£220, 18-35, purses, hostway, 18m, lingerie, shopping.com, 64%, narrowband, bodleian, scholarly, extracts, reg, bibliographies, leclerc, oxfords, wojcicki, wilkin, mehdi, â£98, shipment, 500,000-strong, queued, $188, â£78, fr, â£23,000, mobi, flaherty, widescreen, telly, euro1080, blurry, sharpness, eye-blasting, quested, 575, tailor, aquarius, low-priced, inconvenient, 6x4in, â£9.99, millilitre, â£1.87, resistant, 10x7in, cropping, silver-halide, inks, epson, smudging, snappy, tester, r800, 7x5in, 8x10in, high-fantasy, cel, ninja, hideo, kojima, wanda, tecmos, adventuring, retooled, soviet-controlled, mutation, role-player, warioware, tarkovskys, life-eating, ico, ocarina, s.t.a.l.k.e.r, similarly-titled, evokes, aura, juices, masterminds, glued, firefights, hat-fiend, shoot-em-up, portly, uninspiring, enveloping, rectified, crosshair, nightfire, backfires, oddjob, auric, xenia, commendable, commander-in-chief, onatopp, n64, umbrage, goldfinger, thought-through, spinning, entertainer, 2.5km, beckoned, asimos, 130cm, 106,000, 1.6km/h, jog, car-maker, gainful, 81,000, amusement, 10cm, 2kg, learns, dual-screen, pre-packaged, on-board, higher-priced, seven-page, misappropriated, disseminated, behrmann, $26,500, beachfront, peds, alternate, accumulating, ped, ingots, deathifier, entropia, plateau, rpg, $1.70, â£13,700, entopia, mindark, shogun, strips, malign, steals, guido, â£7.00, currington, videophones, universally, rnid, bsl, disenfranchised, gybels, textphones, skyscraper, record-holders, discharge, elevators, shimono, ascending, taller, km/h, taipeis, 382m, 61km/h, elevator, masayuki, swiftest, suction, 17m, authoritative, 17m/s, hein, certification, tfc, 508m, ascend, tallest, 38mph, whistling, petronas, whisk, roux, 426m, vibrations, escalators, double-deckers, 25.6, blowers, shaft, 99.4%, bittorrents, torrents, kudja, gameboyzz orchestra, boops, gameboyzz orchestra project, blip-pop, cacophony, synthesizer, kraftwerk, malgorzata, jareks, $200, improvisational, jarek, beeps, poles, rudimentary, kujda, 1,440, defacement, randomly, santy, santys, defaced, tailed, phpbb, lichtenberg, ignited, harmonise, osx, baffled, repetition, howell, renton, synthesised, flattery, sincerest, speegle, panavox, summarise, cec, ever-popular, rnib, imitation, rip-off, impairments, 23.5, 11.4, 32.5, 18.6, 15mb, whetting, 512k, 3mb, caveat, 2mb, shaving, soars, broadband-enabled, tortoise-like, broadbanders, 2.5g, bandaid, ever-selling, tweaking, vcr-style, ratchet, fast-forward, blinx, warps, intuitive, jak, traps, best-looking, feline, bubbles, dollops, purrs, daxter, dulled, clank, muscling, financials, truer, trumpeted, yonca, old-timers, urs, outflank, brunini, symptomatic, unlocking, altavista, hotbot, holzle, toprevent, academia, union,dismissed, jollans, 25,772, frees, innovating, insubstantial, 3,248, amass, simultaneous, filethat, leadsnosoftwarepatents.com, multiprocessing, aboutroughly, diversionary, gartner,downloaded, intranet, hotly-contested, usefulness, linden, dobrow, jacobsens, impairment, 16.3, jacobsen, scouring, cellery, browses, trotters, oftexas, groundless, ftc, lin, freezes, headings, pitylak, leadplex, non-solicited, payperaction, solicitation, can-spam, confer, lucrative-ever, treacy, continent-hopping, pro-players, over-emphasises, ieee, licencing, uwb-using, harmonisation, wideband, cept, ubisense, licence-exempt, souped-up, theriault, cross-europe, uwbs, â£1.65bn, bolz, â£16bn, subtleties, gearboxes, amputees, climbs, prejudiced, rainey, imprezas, lever, lincolnshire, tt, amputee, pararallying, pedals, sequential, tansleys, subaru, duck, racings, amputated, paraplegic, steering, motorsport, quadriplegics, changer, autocycle, throttles, impreza, pro-shift, disabilities, throttle, clutches, autosport, gearbox, tansley, gsi, hewland, sidecars, bulging, detects, tantilising, picasa, pixagogo, $24bn, photosig, sharpening, print-ordering, ofoto, critique, kodaks, snapfish, tucked, archivists, vod, video-store, touchstone, gothika, snalune, informa, â£3.50, roadshow, antiques, knell, netsky, tidy, mass-mailing, gaobot, co-existing, mosquito, fast-spreading, symantecs, randex, jaschen, hop, sasser, 500%, best-ever, criminally-minded, anti-phishing, sven, variations, wearer, connectedness, 2.56, undergraduate, us$3.3, self-funded, start-ups, near-term, bracelet, collaborators, 8.16, brainwaves, us$10.6, iband, devoices, us$13, hotbed, asleep, educationalists, phenomena, inferences, make-believe, drawbacks, purushotma, simulated, pre-prepared, pronunciation, homework, energie, purushotmas, gravity, well-polished, drumming, oppositional, couched, re-create, impart, inserting, m3u, solves, 4.7.1, pls, idefence, puzzlement, plot-wise, battleship, hearty, irritatingly, misdirection, skilfully, pacific assault, auto-saving, crewman, disturbingly, perilous, contented, top-end, pacific, superficial, guadalcanal, hawaii, pre-determined, near-identical, camaraderie, muster, tropical, anti-aircraft, stilted, unconvincing, suitably, tidier, talkative, first-person-viewed, linear, bombastic, cohorts, checkpoints, gunboat, tight-knit, imparting, underwhelming, bark, gammage, interchangeable, sell-em-cheap, administer, hulking, bravest, pile-em-high, hesaid, balked, flat-panel, jal, dot.life, xp2, chop, â£469, sempron, performance-wise, cd-writer, stylish, trouble-shooting, celeron, peripheral, expandable, basics, 1.4ghz, entry-level, backing-up, garageband, workhorse, 16-inch, audio/headphone, obtain/build, 2.6ghz, ethernet, cheerful, 1.8ghz, upgradeable, buildyourown.org.uk, eminently, burner/dvd, imovie, pricey, jack.the, firewire, wasenius, reidar, enhancement, 3230, 7710, radio-enabled, high-detail, deering, practicalities, 4.6, blue-ray, adopters, tuffy, cross-platform, antique, arsenic, compostable, vapour, 386, rechargeable, redesign, oblige, bins, redesigning, cans, cylinder, five-year-old, additives, 10-mile, shaders, horsepower, leaps, next-gen, canvas, filmic, indistinguishable, pixel, harness, codename, kingdom, pandora, goosens, vigilant, preventon, over-60, 13.2%, naively, spyware-removal, particuarly, instigate, stab, microwave, succeeds, jump-start, xdr, psx, furiously, videogame, rambus, chip-makers, hi-fis, meta, 10-times, 3.8, kleynhans, ghz, synergistic, multicore, multi-speaker, encoder, synthesising, montieth, unremarkable, sonaptic, psychoacoustics, rohm, sonaptics, mimic, sibbald, stereo-widening, encoding, srs, am3d, silicon-based, cd/dvd, fledged, bobs, 80gb, home-build, technically-savvy, in-car, enthusiast, tuner, sparrow, pre-built, 05, mini-itx, diversifies, weiner, inktomi, beauvillain, gmail, koogle, froogle, post-dot-com, semel, overture, stacked, $120bn, upstart, refocused, juniper, â£94, ultra-wideband, freescale, zdnet, ravencraft, ofdm, wimedia, multi-band, cridland, nanavati, sydus, 7.2mb, high-data, saumil, groove, â£15.60, apocalypse, rambo, 1.8gb, beeks, â£10.40, â£5.20, punisher, cracknell, netsurity, wi-fis, scrambles, yle, zander, teaming, hangar-like, telephoto, ctia, sch-v770, rainbow-coloured, dorries, hyped, reflex, tv-enabled, 7-megapixel, gabriele, t-online, rokr, music-enabled, sphere, allard, peek, custom, game-making, soundtracks, personalise, swipes, directx, 20mbps, packets, chakkara, joly, over-the-air, thales, cams, supplemented, non-licence, bumped, fait, home-monitoring, enabler, bbcis, rahul, facilitator, seeping, abensur, templeton, router, wanadoos, pipe, vonage, footprint, livebox, voice-over-packet, tis, simmelink, 130, spearheads, â£130, unbundled, 15mbps, retails, 8mbps, differentiating, onlines, tremor, shaky, assistive, genetic, montrose, â£70, ama, levine, afflict, shakes, secam, anti-tremor, faceless, investigates, acquiescent, warez, risciso, co-defendant, spelt, 1911, fourteen, 2940, seventy, dod, dods, aliases, notoriety, townsden, buffs, tresco, popz, eriflleh, victimless, loudmouth, sankus, hellfire, invincibility, techno-gang, brag, messageboard, kartadinata, warrants, co-leader, extradite, extradition, mcnulty, dowds, hew, graffiti, powerpage, unmask, leakers, kleinberg, snippets, divulging, 3.7m/h, qrio, shinjuku, bipedal, emiews, segway, emiew, 4.2ft, 137,000, quickest-moving, wheel, wheel-based, hitachis, shibuya, workmate, 1.3m, waist, horiuchi, trumpet-playing, human-like, resemble, peep, pots, irc, leveraging, adsense, shortest, remotely-controlled, honeynet, ddos, honey, safeguarded, user-level, locking-down, uncontrollable, thinkvantage, unlocked, optiplex, hardware-based, password-protected, module, tpm, obscurantism, trusted computing, protecttools, hp/compaq, purchaser, â£129, â£229, game-playing, 87,000, crams, location-based, british-backed, sticker, binks, switch-off, 106cm, flavours, hdmi, rear-projection, dvi, dlp, laven, gfk, preoccupied, hd-ready, suffice, 42in, oudendijk, tumble, gmipoll, variables, forty-four, digitally-savvy, 18mbps, researchs, adsl2+, sex-related, nienhuis, sustains, bogus, mirapoint, aspersions, extinct, 180%, by-pass, clearswifts, proliferate, misspell, dinosaurs, alyn, wipeout, queuing, wedbush, pachter, ape, 10s, bait, audioblogs, pied, winer, blooms, buzzword, democratising, unobtrusive, $4,000, 1,000s, in-show, wmp, microcosms, commercialising, madison, piper, coffee-loving, in-your-face, diary-like, referral, podshow, bedrooms, scripting, aggregation, music-playing, over-hyped, pay-for-download, multi-coloured, telekom, aon, engerwitzdorf, fernsehen, rudolf, outgrowth, unbelievably, buntes, tcp/ip, particle, ipv4, protocols, never-ending, knits, cern, evolves, dr carpenter, glitch, ipv6, ietf, chemistries, lithium, transistors, separators, parsimonious, wringing, guzzler, evangelist, ebl, trainor, shortness, ion, evaporation, recharges, brokered, arbor, diffuse, swarms, workgroups, end-user, hailstorm, netting, log-in, groksters, breyer, souter, conceptually, inducing, morpheus, shapiro, summed, file-trading, second-guess, tous, conseil, inexpensive, bouquets, mpeg-4, pay-tv, bodinat, laudiovisuel, mediametrie, terrestre, sagem, tnt, mpeg-2, dtt, thirty-five, gerolami, numerique, free-to-air, superieur, mobile-data, re-unite, retrofone, hamster, palms, muggings, backup, 5,800, oslo, 63,000, immune, pointsec, norwegians, harp, cabs, snatch, frontier, igels, dmb, shin-bae, teliasonera, radioscape, chan, yeun, $6.6bn, conditional, gambino, negotiates, yeob, lower-, watchable, nordic, fizzy, illustrates, pre-teen, astro, remotes, soda, useful/popular, taser, froth, whizzy, compass, equilibrium, babinet, ecosystems, continuum, musiwave, numbered, ruigang, cga, joint-venture, sarft, 340, jeanne-marie, 1.3bn, state-dominated, china-watcher, gescher, 2,900, regulates, kournikova, hackarmy, popstars, salacious, accesses, wltm, ica, match-making, oxby, wlts, layer, flic, singletons, explicit, chatting, seekers, twitches, booths, adult-themes, soul-mate, pescatore, boramae, â£5.29m, sic, spammer, self-declared, seoul, richter, optinrealbig, optinrealbig.com, $46m, maneuvers, 514, triple-play, geographies, myrio, c-cor, instantaneous, unencumbered, milliseconds, brightcove, ramping, allaire, bypassing, graczyk, limitless, harnessing, tdg, price-prohibitive, fingertips, aligned, 6230, parked, risse, crashes, umemoto, neulling, sgh-i300, inductance, probable, one-box, brailey, shoe, stereos, riccardo, reseller, susanne, flyers, zen, 6230i, rinaldini, hoards, photo-realistic, gdcs, animate, endorphin, oxford-based, organism, lessens, higher-quality, brisbane-based, jaws, 30-person, krome, bucking, lucid, averaging, $10-25m, spore, v2.0, baggins, bennallack, simulates, frodo, amoeba-sized, alita, owain, in-built, seuss, crumples, gencrowd, maxis, genemation, modems, pre-approved, refunds, dialled, clamp-down, eolas, childe, agonising, byrons, lzw, re-presented, gnu/linux, one-click, disregarding, harolds, fearsomely, infringing, apache, gif, cross-license, pilgrimage, obsess, mid-1980s, yorans, impervious, cybersecurity, â£44.54m, yoran, tasked, amit, abruptly, hrs, everquest, enviroment, relasing, hobble, restlessness, unproductive, 5am, lol, 15+, irretrievably, heart-rending, frag, bothers, attest, huddersfield, evercrack, 5:pm, 3am, blogzine, playing..or, 7:30am, addict, hehe, bladder, mmoprgs, evermore, scare-mongering, counsellor, long-winded, galaxies, tinkerer, 24hours, sword, impair, hayot, infinite, shifts...waking, person&#191;s, obsessives, mirage, ahhhh, mushroom, stanton-davies, ummm, trifling, alot, rpgs, 2pm, adiction, adrenaline, succesfull, addictiveness, mmorpg, ultima, widows, longing, sadder, cos, sorround, willpower, vacuum, quests, obsessive, restarted, marrage, toast, escapism, unhealthily, ogres, marginalised, reccomend, definately, upto, sanity, eq, open-endedness, consumed, â£800\n"
     ]
    }
   ],
   "source": [
    "stopset = stopset.union(set(hapax))\n",
    "print(\"Also removing document-level hapaxes:\")\n",
    "print(\", \".join(hapax))"
   ]
  },
  {
   "cell_type": "code",
   "execution_count": 21,
   "metadata": {
    "ExecuteTime": {
     "end_time": "2020-08-04T09:08:24.531864Z",
     "start_time": "2020-08-04T09:08:24.214769Z"
    }
   },
   "outputs": [
    {
     "name": "stdout",
     "output_type": "stream",
     "text": [
      "Also removing NLTK English stopwords\n",
      "i, me, my, myself, we, our, ours, ourselves, you, you're, you've, you'll, you'd, your, yours, yourself, yourselves, he, him, his, himself, she, she's, her, hers, herself, it, it's, its, itself, they, them, their, theirs, themselves, what, which, who, whom, this, that, that'll, these, those, am, is, are, was, were, be, been, being, have, has, had, having, do, does, did, doing, a, an, the, and, but, if, or, because, as, until, while, of, at, by, for, with, about, against, between, into, through, during, before, after, above, below, to, from, up, down, in, out, on, off, over, under, again, further, then, once, here, there, when, where, why, how, all, any, both, each, few, more, most, other, some, such, no, nor, not, only, own, same, so, than, too, very, s, t, can, will, just, don, don't, should, should've, now, d, ll, m, o, re, ve, y, ain, aren, aren't, couldn, couldn't, didn, didn't, doesn, doesn't, hadn, hadn't, hasn, hasn't, haven, haven't, isn, isn't, ma, mightn, mightn't, mustn, mustn't, needn, needn't, shan, shan't, shouldn, shouldn't, wasn, wasn't, weren, weren't, won, won't, wouldn, wouldn't\n"
     ]
    }
   ],
   "source": [
    "import nltk.corpus\n",
    "\n",
    "nltk_stopwords = nltk.corpus.stopwords.words(\"english\")\n",
    "stopset = stopset.union(nltk_stopwords)\n",
    "print(\"Also removing NLTK English stopwords\")\n",
    "print(\", \".join(nltk_stopwords))"
   ]
  },
  {
   "cell_type": "code",
   "execution_count": 22,
   "metadata": {
    "ExecuteTime": {
     "end_time": "2020-08-04T09:08:24.543832Z",
     "start_time": "2020-08-04T09:08:24.534856Z"
    }
   },
   "outputs": [
    {
     "name": "stdout",
     "output_type": "stream",
     "text": [
      "Domain stopset:\n",
      "mr\n"
     ]
    }
   ],
   "source": [
    "domain_stopset = []\n",
    "\n",
    "# Corpus-specific high-frequency words\n",
    "domain_stopset += [\n",
    "    \"mr\"\n",
    "]\n",
    "stopset = stopset.union(domain_stopset)\n",
    "print(\"Domain stopset:\")\n",
    "print(\", \".join(domain_stopset))"
   ]
  },
  {
   "cell_type": "code",
   "execution_count": 23,
   "metadata": {
    "ExecuteTime": {
     "end_time": "2020-08-04T09:08:24.551813Z",
     "start_time": "2020-08-04T09:08:24.545826Z"
    }
   },
   "outputs": [],
   "source": [
    "# Whitelisting\n",
    "whitelist = []\n",
    "\n",
    "stopset -= set(whitelist)"
   ]
  },
  {
   "cell_type": "code",
   "execution_count": 24,
   "metadata": {
    "ExecuteTime": {
     "end_time": "2020-08-04T09:08:24.559815Z",
     "start_time": "2020-08-04T09:08:24.553828Z"
    }
   },
   "outputs": [],
   "source": [
    "def second_tokenise(tokens, stopset):\n",
    "    new_tokens = []\n",
    "    for token in tokens:\n",
    "        if token in stopset or re.match(\"^[^a-z]+$\", token) or len(token) <= 1:\n",
    "            continue\n",
    "        new_tokens.append(token)\n",
    "\n",
    "    return new_tokens"
   ]
  },
  {
   "cell_type": "code",
   "execution_count": 25,
   "metadata": {
    "ExecuteTime": {
     "end_time": "2020-08-04T09:08:25.015631Z",
     "start_time": "2020-08-04T09:08:24.560789Z"
    }
   },
   "outputs": [],
   "source": [
    "final_docs = []\n",
    "for phrased_doc in phrased_docs:\n",
    "    final_docs.append(\n",
    "        phrased_doc._replace(tokens=second_tokenise(phrased_doc.tokens, stopset))\n",
    "    )"
   ]
  },
  {
   "cell_type": "code",
   "execution_count": 26,
   "metadata": {
    "ExecuteTime": {
     "end_time": "2020-08-04T09:08:25.237034Z",
     "start_time": "2020-08-04T09:08:25.016585Z"
    }
   },
   "outputs": [
    {
     "data": {
      "text/plain": [
       "[('people', 1969),\n",
       " ('us', 1908),\n",
       " ('new', 1816),\n",
       " ('year', 1607),\n",
       " ('could', 1510),\n",
       " ('first', 1282),\n",
       " ('years', 1223),\n",
       " ('two', 1175),\n",
       " ('time', 1147),\n",
       " ('government', 1023),\n",
       " ('world', 1003),\n",
       " ('uk', 956),\n",
       " ('make', 927),\n",
       " ('best', 925),\n",
       " ('get', 890),\n",
       " ('made', 856),\n",
       " ('like', 838),\n",
       " ('film', 834),\n",
       " ('game', 831),\n",
       " ('many', 829),\n",
       " ('music', 828),\n",
       " ('next', 777),\n",
       " ('back', 764),\n",
       " ('told', 764),\n",
       " ('three', 761),\n",
       " ('number', 760),\n",
       " ('well', 742),\n",
       " ('take', 735),\n",
       " ('added', 731),\n",
       " ('way', 726),\n",
       " ('set', 714),\n",
       " ('says', 688),\n",
       " ('may', 680),\n",
       " ('labour', 652),\n",
       " ('more than', 650),\n",
       " ('home', 647),\n",
       " ('good', 642),\n",
       " ('games', 640),\n",
       " ('going', 624),\n",
       " ('still', 622),\n",
       " ('company', 618),\n",
       " ('much', 609),\n",
       " ('market', 607),\n",
       " ('win', 607),\n",
       " ('since', 606),\n",
       " ('work', 602),\n",
       " ('go', 598),\n",
       " ('think', 586),\n",
       " ('use', 582),\n",
       " ('say', 580),\n",
       " ('show', 569),\n",
       " ('part', 565),\n",
       " ('play', 563),\n",
       " ('firm', 557),\n",
       " ('want', 555),\n",
       " ('top', 553),\n",
       " ('technology', 553),\n",
       " ('public', 551),\n",
       " ('second', 546),\n",
       " ('see', 544),\n",
       " ('england', 542),\n",
       " ('british', 533),\n",
       " ('bbc', 531),\n",
       " ('week', 530),\n",
       " ('players', 528),\n",
       " ('used', 526),\n",
       " ('million', 520),\n",
       " ('party', 520),\n",
       " ('european', 517),\n",
       " ('however', 514),\n",
       " ('mobile', 514),\n",
       " ('tv', 498),\n",
       " ('sales', 495),\n",
       " ('even', 494),\n",
       " ('expected', 493),\n",
       " ('plans', 486),\n",
       " ('end', 486),\n",
       " ('months', 484),\n",
       " ('five', 478),\n",
       " ('already', 472),\n",
       " ('put', 471),\n",
       " ('group', 470),\n",
       " ('growth', 466),\n",
       " ('come', 466),\n",
       " ('service', 447),\n",
       " ('four', 446),\n",
       " ('firms', 445),\n",
       " ('former', 445),\n",
       " ('economy', 442),\n",
       " ('election', 441),\n",
       " ('services', 433),\n",
       " ('dont', 432),\n",
       " ('money', 431),\n",
       " ('deal', 428),\n",
       " ('companies', 428),\n",
       " ('net', 424),\n",
       " ('users', 422),\n",
       " ('according', 422),\n",
       " ('help', 421),\n",
       " ('need', 419),\n",
       " ('system', 418),\n",
       " ('digital', 415),\n",
       " ('record', 409),\n",
       " ('including', 407),\n",
       " ('right', 407),\n",
       " ('industry', 407),\n",
       " ('big', 403),\n",
       " ('place', 402),\n",
       " ('around', 401),\n",
       " ('london', 396),\n",
       " ('director', 394),\n",
       " ('international', 391),\n",
       " ('economic', 391),\n",
       " ('report', 391),\n",
       " ('wales', 389),\n",
       " ('tax', 388),\n",
       " ('business', 385),\n",
       " ('day', 385),\n",
       " ('great', 385),\n",
       " ('really', 384),\n",
       " ('move', 383),\n",
       " ('another', 380),\n",
       " ('software', 380),\n",
       " ('country', 379),\n",
       " ('got', 375),\n",
       " ('future', 373),\n",
       " ('im', 372),\n",
       " ('phone', 368),\n",
       " ('blair', 367),\n",
       " ('third', 366),\n",
       " ('took', 366),\n",
       " ('came', 360),\n",
       " ('start', 359),\n",
       " ('know', 358),\n",
       " ('team', 356),\n",
       " ('europe', 355),\n",
       " ('information', 354),\n",
       " ('hit', 353),\n",
       " ('better', 352),\n",
       " ('month', 347),\n",
       " ('online', 343),\n",
       " ('without', 343),\n",
       " ('final', 342),\n",
       " ('club', 339),\n",
       " ('spokesman', 338),\n",
       " ('high', 335),\n",
       " ('bank', 334),\n",
       " ('despite', 334),\n",
       " ('decision', 333),\n",
       " ('law', 332),\n",
       " ('court', 331),\n",
       " ('found', 331),\n",
       " ('far', 328),\n",
       " ('likely', 328),\n",
       " ('using', 326),\n",
       " ('campaign', 326),\n",
       " ('britain', 326),\n",
       " ('data', 324),\n",
       " ('action', 324),\n",
       " ('seen', 324),\n",
       " ('figures', 323),\n",
       " ('security', 322),\n",
       " ('saying', 321),\n",
       " ('give', 321),\n",
       " ('media', 318),\n",
       " ('real', 317),\n",
       " ('lot', 317),\n",
       " ('given', 316),\n",
       " ('awards', 316),\n",
       " ('national', 315),\n",
       " ('life', 315),\n",
       " ('computer', 315),\n",
       " ('offer', 313),\n",
       " ('away', 312),\n",
       " ('called', 311),\n",
       " ('countries', 311),\n",
       " ('able', 311),\n",
       " ('every', 310),\n",
       " ('video', 310),\n",
       " ('lost', 305),\n",
       " ('oil', 304),\n",
       " ('become', 304),\n",
       " ('france', 304),\n",
       " ('side', 303),\n",
       " ('rise', 303),\n",
       " ('times', 302),\n",
       " ('making', 302),\n",
       " ('although', 299),\n",
       " ('long', 297),\n",
       " ('brown', 296),\n",
       " ('open', 296),\n",
       " ('january', 295),\n",
       " ('days', 295),\n",
       " ('six', 294),\n",
       " ('news', 294),\n",
       " ('later', 293),\n",
       " ('player', 292),\n",
       " ('whether', 292),\n",
       " ('taking', 291),\n",
       " ('past', 291),\n",
       " ('state', 291),\n",
       " ('look', 291),\n",
       " ('prices', 289),\n",
       " ('early', 289),\n",
       " ('december', 288),\n",
       " ('case', 287),\n",
       " ('less', 286),\n",
       " ('legal', 286),\n",
       " ('earlier', 286),\n",
       " ('recent', 286),\n",
       " ('biggest', 284),\n",
       " ('playing', 284),\n",
       " ('analysts', 283),\n",
       " ('due', 283),\n",
       " ('spending', 282),\n",
       " ('internet', 281),\n",
       " ('foreign', 281),\n",
       " ('bill', 280),\n",
       " ('radio', 280),\n",
       " ('films', 279),\n",
       " ('played', 279),\n",
       " ('award', 279),\n",
       " ('role', 277),\n",
       " ('never', 277),\n",
       " ('shares', 276),\n",
       " ('important', 275),\n",
       " ('current', 274),\n",
       " ('prime minister', 274),\n",
       " ('support', 273),\n",
       " ('went', 272),\n",
       " ('research', 272),\n",
       " ('left', 272),\n",
       " ('match', 272),\n",
       " ('increase', 271),\n",
       " ('believe', 271),\n",
       " ('cut', 271),\n",
       " ('following', 269),\n",
       " ('control', 268),\n",
       " ('little', 267),\n",
       " ('major', 266),\n",
       " ('local', 266),\n",
       " ('run', 266),\n",
       " ('eu', 265),\n",
       " ('currently', 263),\n",
       " ('financial', 262),\n",
       " ('ahead', 262),\n",
       " ('star', 262),\n",
       " ('strong', 261),\n",
       " ('police', 261),\n",
       " ('pay', 260),\n",
       " ('half', 259),\n",
       " ('looking', 259),\n",
       " ('issue', 259),\n",
       " ('working', 259),\n",
       " ('change', 259),\n",
       " ('thought', 257),\n",
       " ('face', 257),\n",
       " ('return', 257),\n",
       " ('different', 257),\n",
       " ('john', 257),\n",
       " ('latest', 256),\n",
       " ('held', 256),\n",
       " ('broadband', 255),\n",
       " ('cost', 255),\n",
       " ('hard', 255),\n",
       " ('david', 255),\n",
       " ('weeks', 255),\n",
       " ('something', 254),\n",
       " ('yet', 253),\n",
       " ('president', 253),\n",
       " ('chief', 253),\n",
       " ('among', 252),\n",
       " ('announced', 252),\n",
       " ('series', 252),\n",
       " ('ireland', 252),\n",
       " ('access', 250),\n",
       " ('try', 249),\n",
       " ('trade', 248),\n",
       " ('office', 246),\n",
       " ('must', 246),\n",
       " ('line', 246),\n",
       " ('personal', 246),\n",
       " ('almost', 245),\n",
       " ('power', 245),\n",
       " ('find', 245),\n",
       " ('always', 244),\n",
       " ('season', 243),\n",
       " ('tories', 243),\n",
       " ('meeting', 242),\n",
       " ('chance', 242),\n",
       " ('minister', 241),\n",
       " ('key', 241),\n",
       " ('budget', 238),\n",
       " ('lead', 238),\n",
       " ('keep', 237),\n",
       " ('include', 237),\n",
       " ('might', 237),\n",
       " ('china', 235),\n",
       " ('rate', 235),\n",
       " ('problem', 235),\n",
       " ('ago', 234),\n",
       " ('ms', 233),\n",
       " ('claims', 232),\n",
       " ('secretary', 232),\n",
       " ('problems', 232),\n",
       " ('statement', 232),\n",
       " ('behind', 231),\n",
       " ('share', 231),\n",
       " ('taken', 230),\n",
       " ('enough', 230),\n",
       " ('point', 229),\n",
       " ('getting', 229),\n",
       " ('sold', 228),\n",
       " ('clear', 228),\n",
       " ('march', 227),\n",
       " ('done', 227),\n",
       " ('things', 227),\n",
       " ('across', 227),\n",
       " ('jobs', 225),\n",
       " ('political', 225),\n",
       " ('chancellor', 225),\n",
       " ('american', 225),\n",
       " ('ever', 224),\n",
       " ('sale', 223),\n",
       " ('released', 222),\n",
       " ('minutes', 222),\n",
       " ('means', 221),\n",
       " ('continue', 219),\n",
       " ('content', 219),\n",
       " ('howard', 218),\n",
       " ('performance', 217),\n",
       " ('network', 217),\n",
       " ('free', 216),\n",
       " ('title', 216),\n",
       " ('man', 216),\n",
       " ('scotland', 216),\n",
       " ('february', 215),\n",
       " ('costs', 215),\n",
       " ('children', 215),\n",
       " ('needed', 213),\n",
       " ('result', 213),\n",
       " ('manager', 213),\n",
       " ('price', 212),\n",
       " ('microsoft', 212),\n",
       " ('band', 212),\n",
       " ('worlds', 211),\n",
       " ('possible', 211),\n",
       " ('members', 211),\n",
       " ('list', 211),\n",
       " ('bid', 210),\n",
       " ('least', 210),\n",
       " ('huge', 210),\n",
       " ('within', 210),\n",
       " ('young', 210),\n",
       " ('warned', 209),\n",
       " ('available', 209),\n",
       " ('victory', 209),\n",
       " ('demand', 208),\n",
       " ('quarter', 207),\n",
       " ('allow', 207),\n",
       " ('fans', 207),\n",
       " ('rugby', 207),\n",
       " ('tuesday', 206),\n",
       " ('coming', 206),\n",
       " ('act', 206),\n",
       " ('asked', 205),\n",
       " ('mps', 205),\n",
       " ('job', 204),\n",
       " ('actor', 204),\n",
       " ('phones', 203),\n",
       " ('plan', 203),\n",
       " ('hold', 202),\n",
       " ('investment', 202),\n",
       " ('thats', 202),\n",
       " ('winning', 202),\n",
       " ('issues', 201),\n",
       " ('thing', 201),\n",
       " ('interest', 200),\n",
       " ('house', 199),\n",
       " ('sunday', 199),\n",
       " ('november', 199),\n",
       " ('chief executive', 198),\n",
       " ('council', 198),\n",
       " ('wednesday', 197),\n",
       " ('main', 196),\n",
       " ('success', 196),\n",
       " ('policy', 195),\n",
       " ('level', 195),\n",
       " ('wanted', 195),\n",
       " ('close', 194),\n",
       " ('monday', 194),\n",
       " ('yukos', 193),\n",
       " ('full', 193),\n",
       " ('total', 193),\n",
       " ('centre', 193),\n",
       " ('vote', 193),\n",
       " ('beat', 193),\n",
       " ('networks', 193),\n",
       " ('shows', 192),\n",
       " ('global', 191),\n",
       " ('album', 191),\n",
       " ('tory', 191),\n",
       " ('several', 190),\n",
       " ('based', 190),\n",
       " ('trying', 190),\n",
       " ('others', 190),\n",
       " ('site', 190),\n",
       " ('rather than', 189),\n",
       " ('chelsea', 189),\n",
       " ('consumers', 188),\n",
       " ('cash', 188),\n",
       " ('though', 188),\n",
       " ('customers', 187),\n",
       " ('chairman', 187),\n",
       " ('injury', 187),\n",
       " ('french', 186),\n",
       " ('previous', 185),\n",
       " ('reports', 185),\n",
       " ('small', 185),\n",
       " ('running', 185),\n",
       " ('form', 185),\n",
       " ('forward', 185),\n",
       " ('saw', 184),\n",
       " ('head', 184),\n",
       " ('rules', 184),\n",
       " ('comes', 184),\n",
       " ('recently', 183),\n",
       " ('version', 183),\n",
       " ('career', 183),\n",
       " ('production', 182),\n",
       " ('development', 181),\n",
       " ('buy', 181),\n",
       " ('wants', 181),\n",
       " ('agreed', 181),\n",
       " ('health', 181),\n",
       " ('mark', 181),\n",
       " ('reported', 180),\n",
       " ('showed', 180),\n",
       " ('hope', 180),\n",
       " ('higher', 179),\n",
       " ('difficult', 179),\n",
       " ('live', 179),\n",
       " ('song', 179),\n",
       " ('friday', 178),\n",
       " ('aid', 178),\n",
       " ('ministers', 177),\n",
       " ('low', 177),\n",
       " ('programme', 177),\n",
       " ('failed', 177),\n",
       " ('web', 175),\n",
       " ('single', 175),\n",
       " ('dollar', 174),\n",
       " ('competition', 174),\n",
       " ('evidence', 174),\n",
       " ('football', 173),\n",
       " ('sites', 173),\n",
       " ('book', 172),\n",
       " ('rose', 172),\n",
       " ('general election', 172),\n",
       " ('apple', 172),\n",
       " ('led', 171),\n",
       " ('nothing', 171),\n",
       " ('points', 171),\n",
       " ('fact', 170),\n",
       " ('trial', 170),\n",
       " ('instead', 170),\n",
       " ('name', 170),\n",
       " ('race', 170),\n",
       " ('event', 170),\n",
       " ('profits', 169),\n",
       " ('parties', 169),\n",
       " ('christmas', 169),\n",
       " ('annual', 168),\n",
       " ('eight', 168),\n",
       " ('gaming', 168),\n",
       " ('city', 168),\n",
       " ('pc', 168),\n",
       " ('calls', 167),\n",
       " ('leader', 167),\n",
       " ('governments', 166),\n",
       " ('mean', 166),\n",
       " ('cannot', 166),\n",
       " ('champion', 166),\n",
       " ('feel', 166),\n",
       " ('prize', 166),\n",
       " ('late', 165),\n",
       " ('consumer', 165),\n",
       " ('didnt', 165),\n",
       " ('received', 165),\n",
       " ('russian', 164),\n",
       " ('september', 164),\n",
       " ('call', 164),\n",
       " ('tony blair', 164),\n",
       " ('union', 163),\n",
       " ('let', 163),\n",
       " ('television', 163),\n",
       " ('family', 163),\n",
       " ('sport', 163),\n",
       " ('claim', 162),\n",
       " ('sure', 162),\n",
       " ('tour', 162),\n",
       " ('ive', 162),\n",
       " ('coach', 162),\n",
       " ('thursday', 161),\n",
       " ('project', 161),\n",
       " ('movie', 161),\n",
       " ('devices', 161),\n",
       " ('fall', 160),\n",
       " ('women', 160),\n",
       " ('men', 160),\n",
       " ('groups', 159),\n",
       " ('japan', 159),\n",
       " ('e-mail', 159),\n",
       " ('debt', 158),\n",
       " ('order', 158),\n",
       " ('stop', 158),\n",
       " ('together', 158),\n",
       " ('choice', 158),\n",
       " ('release', 158),\n",
       " ('actress', 158),\n",
       " ('boost', 157),\n",
       " ('giant', 157),\n",
       " ('october', 157),\n",
       " ('board', 157),\n",
       " ('changes', 157),\n",
       " ('launch', 157),\n",
       " ('denied', 157),\n",
       " ('involved', 157),\n",
       " ('test', 157),\n",
       " ('education', 156),\n",
       " ('products', 155),\n",
       " ('euros', 155),\n",
       " ('fell', 155),\n",
       " ('break', 155),\n",
       " ('growing', 155),\n",
       " ('meet', 155),\n",
       " ('committee', 155),\n",
       " ('age', 155),\n",
       " ('fourth', 154),\n",
       " ('new york', 154),\n",
       " ('saturday', 154),\n",
       " ('summer', 154),\n",
       " ('large', 153),\n",
       " ('popular', 153),\n",
       " ('sent', 152),\n",
       " ('pressure', 152),\n",
       " ('launched', 152),\n",
       " ('needs', 152),\n",
       " ('position', 152),\n",
       " ('parliament', 152),\n",
       " ('goal', 152),\n",
       " ('similar', 151),\n",
       " ('known', 151),\n",
       " ('olympic', 150),\n",
       " ('talks', 150),\n",
       " ('attacks', 149),\n",
       " ('united', 149),\n",
       " ('accused', 149),\n",
       " ('search', 149),\n",
       " ('car', 149),\n",
       " ('potential', 149),\n",
       " ('idea', 149),\n",
       " ('stars', 149),\n",
       " ('results', 148),\n",
       " ('commission', 148),\n",
       " ('remain', 148),\n",
       " ('leading', 148),\n",
       " ('create', 148),\n",
       " ('ensure', 148),\n",
       " ('special', 148),\n",
       " ('believes', 147),\n",
       " ('cup', 147),\n",
       " ('started', 147),\n",
       " ('quite', 146),\n",
       " ('paul', 146),\n",
       " ('appeal', 146),\n",
       " ('claimed', 146),\n",
       " ('italy', 146),\n",
       " ('bit', 146),\n",
       " ('irish', 146),\n",
       " ('voters', 146),\n",
       " ('love', 146),\n",
       " ('simply', 145),\n",
       " ('makes', 145),\n",
       " ('opening', 145),\n",
       " ('official', 144),\n",
       " ('association', 144),\n",
       " ('whole', 144),\n",
       " ('anything', 144),\n",
       " ('sony', 144),\n",
       " ('liverpool', 144),\n",
       " ('labours', 144),\n",
       " ('boss', 143),\n",
       " ('website', 143),\n",
       " ('turn', 142),\n",
       " ('lord', 142),\n",
       " ('provide', 142),\n",
       " ('war', 142),\n",
       " ('hopes', 141),\n",
       " ('short', 141),\n",
       " ('nations', 141),\n",
       " ('independent', 141),\n",
       " ('hours', 141),\n",
       " ('either', 141),\n",
       " ('stage', 141),\n",
       " ('date', 141),\n",
       " ('old', 141),\n",
       " ('ball', 141),\n",
       " ('six nations', 141),\n",
       " ('helped', 140),\n",
       " ('survey', 140),\n",
       " ('senior', 140),\n",
       " ('school', 140),\n",
       " ('squad', 139),\n",
       " ('value', 138),\n",
       " ('rights', 138),\n",
       " ('conservative', 138),\n",
       " ('immigration', 138),\n",
       " ('india', 137),\n",
       " ('scottish', 137),\n",
       " ('festival', 137),\n",
       " ('dvd', 137),\n",
       " ('fight', 136),\n",
       " ('period', 136),\n",
       " ('bring', 136),\n",
       " ('taxes', 136),\n",
       " ('gave', 136),\n",
       " ('cant', 136),\n",
       " ('proposals', 136),\n",
       " ('drive', 135),\n",
       " ('countrys', 135),\n",
       " ('meanwhile', 135),\n",
       " ('included', 135),\n",
       " ('hes', 134),\n",
       " ('compared', 134),\n",
       " ('force', 134),\n",
       " ('michael', 134),\n",
       " ('systems', 134),\n",
       " ('ban', 134),\n",
       " ('weekend', 134),\n",
       " ('jones', 134),\n",
       " ('singer', 134),\n",
       " ('forced', 133),\n",
       " ('numbers', 133),\n",
       " ('per', 133),\n",
       " ('average', 133),\n",
       " ('seven', 133),\n",
       " ('areas', 133),\n",
       " ('arsenal', 133),\n",
       " ('workers', 132),\n",
       " ('everyone', 132),\n",
       " ('entertainment', 132),\n",
       " ('banks', 131),\n",
       " ('impact', 131),\n",
       " ('private', 131),\n",
       " ('markets', 131),\n",
       " ('wrong', 131),\n",
       " ('admitted', 131),\n",
       " ('worked', 131),\n",
       " ('officials', 130),\n",
       " ('laws', 130),\n",
       " ('investors', 129),\n",
       " ('view', 129),\n",
       " ('target', 129),\n",
       " ('general', 129),\n",
       " ('happy', 129),\n",
       " ('history', 129),\n",
       " ('charge', 129),\n",
       " ('via', 129),\n",
       " ('soon', 129),\n",
       " ('opportunity', 129),\n",
       " ('attack', 129),\n",
       " ('theres', 129),\n",
       " ('everything', 129),\n",
       " ('commons', 129),\n",
       " ('cuts', 128),\n",
       " ('staff', 128),\n",
       " ('round', 128),\n",
       " ('process', 128),\n",
       " ('charges', 127),\n",
       " ('concerns', 127),\n",
       " ('became', 127),\n",
       " ('spent', 127),\n",
       " ('sector', 127),\n",
       " ('particularly', 127),\n",
       " ('turned', 127),\n",
       " ('download', 127),\n",
       " ('comments', 126),\n",
       " ('bought', 126),\n",
       " ('extra', 126),\n",
       " ('brought', 126),\n",
       " ('outside', 126),\n",
       " ('range', 126),\n",
       " ('takes', 126),\n",
       " ('fraud', 126),\n",
       " ('course', 126),\n",
       " ('britains', 126),\n",
       " ('williams', 126),\n",
       " ('german', 125),\n",
       " ('term', 125),\n",
       " ('decided', 125),\n",
       " ('community', 125),\n",
       " ('largest', 125),\n",
       " ('tough', 125),\n",
       " ('named', 125),\n",
       " ('amount', 124),\n",
       " ('remains', 124),\n",
       " ('original', 124),\n",
       " ('paid', 124),\n",
       " ('authorities', 124),\n",
       " ('focus', 123),\n",
       " ('spend', 123),\n",
       " ('moment', 123),\n",
       " ('whose', 123),\n",
       " ('bad', 123),\n",
       " ('energy', 123),\n",
       " ('battle', 123),\n",
       " ('stand', 123),\n",
       " ('shown', 122),\n",
       " ('lives', 122),\n",
       " ('often', 122),\n",
       " ('concerned', 122),\n",
       " ('night', 122),\n",
       " ('situation', 122),\n",
       " ('pcs', 122),\n",
       " ('university', 122),\n",
       " ('analyst', 120),\n",
       " ('created', 120),\n",
       " ('uks', 120),\n",
       " ('websites', 120),\n",
       " ('experience', 120),\n",
       " ('schools', 120),\n",
       " ('audience', 120),\n",
       " ('confirmed', 119),\n",
       " ('revealed', 119),\n",
       " ('area', 119),\n",
       " ('step', 119),\n",
       " ('today', 119),\n",
       " ('challenge', 119),\n",
       " ('comedy', 119),\n",
       " ('mobiles', 119),\n",
       " ('offered', 118),\n",
       " ('poor', 118),\n",
       " ('majority', 118),\n",
       " ('defence', 118),\n",
       " ('widely', 118),\n",
       " ('winner', 118),\n",
       " ('shot', 118),\n",
       " ('lower', 117),\n",
       " ('raise', 117),\n",
       " ('message', 117),\n",
       " ('messages', 117),\n",
       " ('training', 117),\n",
       " ('gone', 117),\n",
       " ('speech', 116),\n",
       " ('terms', 116),\n",
       " ('april', 116),\n",
       " ('insisted', 116),\n",
       " ('stay', 116),\n",
       " ('iraq', 116),\n",
       " ('poll', 116),\n",
       " ('black', 116),\n",
       " ('technologies', 116),\n",
       " ('sir', 116),\n",
       " ('increased', 115),\n",
       " ('signed', 115),\n",
       " ('reach', 115),\n",
       " ('generation', 115),\n",
       " ('ways', 115),\n",
       " ('front', 115),\n",
       " ('host', 115),\n",
       " ('michael howard', 115),\n",
       " ('reached', 114),\n",
       " ('finance', 114),\n",
       " ('newspaper', 114),\n",
       " ('conference', 114),\n",
       " ('critics', 114),\n",
       " ('easy', 114),\n",
       " ('longer', 114),\n",
       " ('conservatives', 114),\n",
       " ('debut', 114),\n",
       " ('debate', 114),\n",
       " ('positive', 113),\n",
       " ('example', 113),\n",
       " ('trust', 113),\n",
       " ('worth', 113),\n",
       " ('response', 113),\n",
       " ('looks', 113),\n",
       " ('drugs', 113),\n",
       " ('device', 113),\n",
       " ('ukip', 113),\n",
       " ('account', 112),\n",
       " ('looked', 112),\n",
       " ('sell', 112),\n",
       " ('central', 112),\n",
       " ('south', 112),\n",
       " ('details', 112),\n",
       " ('serious', 112),\n",
       " ('care', 112),\n",
       " ('mp', 112),\n",
       " ('images', 112),\n",
       " ('rates', 111),\n",
       " ('millions', 111),\n",
       " ('june', 111),\n",
       " ('computers', 111),\n",
       " ('bt', 111),\n",
       " ('watch', 111),\n",
       " ('gadget', 111),\n",
       " ('previously', 110),\n",
       " ('argued', 110),\n",
       " ('levels', 110),\n",
       " ('followed', 110),\n",
       " ('confidence', 110),\n",
       " ('becoming', 110),\n",
       " ('programs', 110),\n",
       " ('favourite', 110),\n",
       " ('deficit', 109),\n",
       " ('euro', 109),\n",
       " ('attempt', 109),\n",
       " ('fund', 109),\n",
       " ('titles', 109),\n",
       " ('management', 109),\n",
       " ('executive', 109),\n",
       " ('risk', 109),\n",
       " ('allowed', 109),\n",
       " ('captain', 109),\n",
       " ('suggested', 108),\n",
       " ('met', 108),\n",
       " ('agreement', 108),\n",
       " ('quality', 108),\n",
       " ('rock', 108),\n",
       " ('probably', 108),\n",
       " ('began', 108),\n",
       " ('speaking', 108),\n",
       " ('threat', 108),\n",
       " ('files', 108),\n",
       " ('standard', 108),\n",
       " ('anyone', 108),\n",
       " ('ceremony', 108),\n",
       " ('songs', 108),\n",
       " ('unit', 107),\n",
       " ('opposition', 107),\n",
       " ('oscar', 107),\n",
       " ('google', 106),\n",
       " ('programmes', 106),\n",
       " ('nearly', 106),\n",
       " ('rival', 106),\n",
       " ('moved', 106),\n",
       " ('fear', 106),\n",
       " ('germany', 106),\n",
       " ('felt', 106),\n",
       " ('rest', 106),\n",
       " ('row', 106),\n",
       " ('double', 106),\n",
       " ('figure', 106),\n",
       " ('track', 106),\n",
       " ('league', 106),\n",
       " ('politics', 106),\n",
       " ('wireless', 106),\n",
       " ('lib dems', 106),\n",
       " ('trading', 105),\n",
       " ('keen', 105),\n",
       " ('scheme', 105),\n",
       " ('designed', 105),\n",
       " ('illegal', 105),\n",
       " ('leave', 105),\n",
       " ('weve', 105),\n",
       " ('parents', 105),\n",
       " ('winners', 105),\n",
       " ('nominations', 105),\n",
       " ('department', 104),\n",
       " ('believed', 104),\n",
       " ('significant', 104),\n",
       " ('social', 104),\n",
       " ('death', 104),\n",
       " ('australia', 104),\n",
       " ('matter', 104),\n",
       " ('machines', 104),\n",
       " ('missed', 104),\n",
       " ('madrid', 104),\n",
       " ('screen', 104),\n",
       " ('artists', 104),\n",
       " ('organisation', 103),\n",
       " ('cases', 103),\n",
       " ('expect', 103),\n",
       " ('body', 103),\n",
       " ('crime', 103),\n",
       " ('gadgets', 103),\n",
       " ('russia', 102),\n",
       " ('measures', 102),\n",
       " ('human rights', 102),\n",
       " ('dropped', 102),\n",
       " ('build', 102),\n",
       " ('giving', 102),\n",
       " ('dr', 102),\n",
       " ('individual', 102),\n",
       " ('story', 102),\n",
       " ('chart', 102),\n",
       " ('exports', 101),\n",
       " ('along', 101),\n",
       " ('planning', 101),\n",
       " ('businesses', 101),\n",
       " ('building', 101),\n",
       " ('income', 101),\n",
       " ('towards', 101),\n",
       " ('operating', 100),\n",
       " ('robert', 100),\n",
       " ('talk', 100),\n",
       " ('gordon brown', 100),\n",
       " ('question', 100),\n",
       " ('nine', 100),\n",
       " ('ability', 100),\n",
       " ('category', 100),\n",
       " ('james', 100),\n",
       " ('actually', 100),\n",
       " ('johnson', 100),\n",
       " ('spam', 100),\n",
       " ('profit', 99),\n",
       " ('accounts', 99),\n",
       " ('ruled', 99),\n",
       " ('send', 99),\n",
       " ('confident', 99),\n",
       " ('defeat', 99),\n",
       " ('approach', 99),\n",
       " ('smith', 99),\n",
       " ('hand', 99),\n",
       " ('wins', 99),\n",
       " ('successful', 98),\n",
       " ('hollywood', 98),\n",
       " ('effort', 98),\n",
       " ('virus', 98),\n",
       " ('voice', 98),\n",
       " ('musical', 98),\n",
       " ('kilroy-silk', 98),\n",
       " ('indian', 97),\n",
       " ('particular', 97),\n",
       " ('air', 97),\n",
       " ('leaders', 97),\n",
       " ('doubt', 97),\n",
       " ('windows', 97),\n",
       " ('english', 97),\n",
       " ('program', 96),\n",
       " ('gold', 96),\n",
       " ('pair', 96),\n",
       " ('zealand', 96),\n",
       " ('aviator', 96),\n",
       " ('offering', 95),\n",
       " ('predicted', 95),\n",
       " ('japanese', 95),\n",
       " ('especially', 95),\n",
       " ('kept', 95),\n",
       " ('affected', 95),\n",
       " ('receive', 95),\n",
       " ('certainly', 95),\n",
       " ('couple', 95),\n",
       " ('chinese', 94),\n",
       " ('suggests', 94),\n",
       " ('cards', 94),\n",
       " ('thousands', 94),\n",
       " ('goes', 94),\n",
       " ('west', 94),\n",
       " ('contract', 94),\n",
       " ('field', 94),\n",
       " ('liberal democrats', 94),\n",
       " ('experts', 93),\n",
       " ('described', 93),\n",
       " ('raised', 93),\n",
       " ('operators', 93),\n",
       " ('continued', 93),\n",
       " ('society', 93),\n",
       " ('newcastle', 93),\n",
       " ('sides', 93),\n",
       " ('id', 93),\n",
       " ('criticised', 92),\n",
       " ('overall', 92),\n",
       " ('criminal', 92),\n",
       " ('controversial', 92),\n",
       " ('member', 92),\n",
       " ('shareholders', 92),\n",
       " ('changed', 92),\n",
       " ('written', 92),\n",
       " ('appear', 92),\n",
       " ('happen', 92),\n",
       " ('premiership', 92),\n",
       " ('rising', 91),\n",
       " ('speculation', 91),\n",
       " ('recovery', 91),\n",
       " ('rejected', 91),\n",
       " ('facing', 91),\n",
       " ('sound', 91),\n",
       " ('offers', 91),\n",
       " ('died', 91),\n",
       " ('students', 91),\n",
       " ('answer', 91),\n",
       " ('movies', 91),\n",
       " ('machine', 91),\n",
       " ('portable', 91),\n",
       " ('stake', 90),\n",
       " ('comment', 90),\n",
       " ('martin', 90),\n",
       " ...]"
      ]
     },
     "execution_count": 26,
     "metadata": {},
     "output_type": "execute_result"
    }
   ],
   "source": [
    "# See the remaining high-frequency words (for further cleaning if necessary)\n",
    "corpus_tf = {}\n",
    "for doc in final_docs:\n",
    "    doc_counts = collections.Counter(doc.tokens)\n",
    "\n",
    "    for token in set(doc.tokens):\n",
    "        if token in corpus_tf:\n",
    "            corpus_tf[token] += doc_counts[token]\n",
    "        else:\n",
    "            corpus_tf[token] = doc_counts[token]\n",
    "\n",
    "sorted(corpus_tf.items(), key=lambda x: x[1], reverse=True)"
   ]
  },
  {
   "cell_type": "code",
   "execution_count": 27,
   "metadata": {
    "ExecuteTime": {
     "end_time": "2020-08-04T09:08:25.260939Z",
     "start_time": "2020-08-04T09:08:25.238001Z"
    }
   },
   "outputs": [
    {
     "data": {
      "application/vnd.jupyter.widget-view+json": {
       "model_id": "99b1e760d2a540b8be6b4fb635362c02",
       "version_major": 2,
       "version_minor": 0
      },
      "text/plain": [
       "interactive(children=(IntSlider(value=0, description='doc_id', max=2224), Output()), _dom_classes=('widget-int…"
      ]
     },
     "metadata": {},
     "output_type": "display_data"
    },
    {
     "data": {
      "text/plain": [
       "<function __main__.show_final_doc(doc_id=0)>"
      ]
     },
     "execution_count": 27,
     "metadata": {},
     "output_type": "execute_result"
    }
   ],
   "source": [
    "def show_final_doc(doc_id=0):\n",
    "    print(final_docs[doc_id].metadata)\n",
    "    print()\n",
    "    print(\" \".join(final_docs[doc_id].tokens))\n",
    "\n",
    "\n",
    "widgets.interact(show_final_doc, doc_id=(0, len(final_docs) - 1))"
   ]
  },
  {
   "cell_type": "code",
   "execution_count": 28,
   "metadata": {
    "ExecuteTime": {
     "end_time": "2020-08-04T09:08:25.299838Z",
     "start_time": "2020-08-04T09:08:25.261938Z"
    }
   },
   "outputs": [
    {
     "name": "stdout",
     "output_type": "stream",
     "text": [
      "107 dupes.\n"
     ]
    }
   ],
   "source": [
    "# Simple deduplication\n",
    "seen_docs = set()\n",
    "dupe_count = 0\n",
    "deduped_docs = []\n",
    "for doc in final_docs:\n",
    "    if len(doc.tokens)== 0:\n",
    "        continue\n",
    "        \n",
    "    # Cast the document tokens as a tuple so that we can use it as a deduplicating hash\n",
    "    doc_hash = tuple(doc.tokens)\n",
    "    if doc_hash in seen_docs:\n",
    "        # print(f\"Duplicate document: {doc[0]['filename']}\")\n",
    "        dupe_count += 1\n",
    "    else:\n",
    "        seen_docs.add(doc_hash)\n",
    "        deduped_docs.append(doc)\n",
    "        \n",
    "print(f\"{dupe_count} dupes.\")"
   ]
  },
  {
   "cell_type": "markdown",
   "metadata": {},
   "source": [
    "Save to Ignis Corpus\n",
    "----"
   ]
  },
  {
   "cell_type": "code",
   "execution_count": 29,
   "metadata": {
    "ExecuteTime": {
     "end_time": "2020-08-04T09:08:26.303352Z",
     "start_time": "2020-08-04T09:08:25.302835Z"
    }
   },
   "outputs": [],
   "source": [
    "corpus = ignis.Corpus()\n",
    "\n",
    "for doc in deduped_docs:\n",
    "    if len(doc.tokens) < 5:\n",
    "        continue\n",
    "    corpus.add_doc(**doc._asdict())\n",
    "corpus.save(\"bbc-stopwords.corpus\")"
   ]
  },
  {
   "cell_type": "code",
   "execution_count": 30,
   "metadata": {
    "ExecuteTime": {
     "end_time": "2020-08-04T09:08:26.820018Z",
     "start_time": "2020-08-04T09:08:26.304347Z"
    }
   },
   "outputs": [],
   "source": [
    "# And make sure it loads without errors as well.\n",
    "corpus = ignis.load_corpus(\"bbc-stopwords.corpus\")"
   ]
  },
  {
   "cell_type": "code",
   "execution_count": 31,
   "metadata": {
    "ExecuteTime": {
     "end_time": "2020-08-04T09:08:26.851915Z",
     "start_time": "2020-08-04T09:08:26.820988Z"
    },
    "scrolled": false
   },
   "outputs": [
    {
     "data": {
      "application/vnd.jupyter.widget-view+json": {
       "model_id": "8cc7e9679bc24cff96ecbcaa41e6ac9d",
       "version_major": 2,
       "version_minor": 0
      },
      "text/plain": [
       "interactive(children=(IntSlider(value=0, description='index', max=2117), Output()), _dom_classes=('widget-inte…"
      ]
     },
     "metadata": {},
     "output_type": "display_data"
    },
    {
     "data": {
      "text/plain": [
       "<function __main__.show_corpus_doc(index=0)>"
      ]
     },
     "execution_count": 31,
     "metadata": {},
     "output_type": "execute_result"
    }
   ],
   "source": [
    "corpus_doc_ids = list(corpus.documents.keys())\n",
    "\n",
    "\n",
    "def show_corpus_doc(index=0):\n",
    "    doc = corpus.documents[corpus_doc_ids[index]]\n",
    "    print(doc.metadata)\n",
    "    print()\n",
    "    print(\"-\" * 10)\n",
    "    print()\n",
    "    print(\"/\".join(doc.tokens))\n",
    "    print()\n",
    "    print(\"-\" * 10)\n",
    "    print()\n",
    "    \n",
    "    # Jupyter notebooks will interpret anything between $ signs as LaTeX formulae when rendering HTML output,\n",
    "    # so we need to replace them with escaped $ signs (only in Jupyter environments)\n",
    "    display_str = doc.display_str.replace(\"$\", r\"\\$\")\n",
    "    display(HTML(display_str))\n",
    "    \n",
    "\n",
    "\n",
    "widgets.interact(show_corpus_doc, index=(0, len(corpus_doc_ids) - 1))"
   ]
  },
  {
   "cell_type": "code",
   "execution_count": null,
   "metadata": {},
   "outputs": [],
   "source": []
  }
 ],
 "metadata": {
  "kernelspec": {
   "display_name": "Python 3",
   "language": "python",
   "name": "python3"
  },
  "language_info": {
   "codemirror_mode": {
    "name": "ipython",
    "version": 3
   },
   "file_extension": ".py",
   "mimetype": "text/x-python",
   "name": "python",
   "nbconvert_exporter": "python",
   "pygments_lexer": "ipython3",
   "version": "3.7.6"
  },
  "widgets": {
   "application/vnd.jupyter.widget-state+json": {
    "state": {
     "0176bce07868479ba1260626d7e96ae2": {
      "model_module": "@jupyter-widgets/controls",
      "model_module_version": "1.5.0",
      "model_name": "SliderStyleModel",
      "state": {
       "description_width": ""
      }
     },
     "0c6041bc44c44b2793dab67ad5b0794b": {
      "model_module": "@jupyter-widgets/base",
      "model_module_version": "1.2.0",
      "model_name": "LayoutModel",
      "state": {}
     },
     "0f6858aff9a6418893b5db2b75af667d": {
      "model_module": "@jupyter-widgets/base",
      "model_module_version": "1.2.0",
      "model_name": "LayoutModel",
      "state": {}
     },
     "13eb7efb1d294d8390b86540aaaeeb07": {
      "model_module": "@jupyter-widgets/base",
      "model_module_version": "1.2.0",
      "model_name": "LayoutModel",
      "state": {}
     },
     "1f898984afc444e49b13dc17023418de": {
      "model_module": "@jupyter-widgets/base",
      "model_module_version": "1.2.0",
      "model_name": "LayoutModel",
      "state": {}
     },
     "23c2e3055cdd4b0fb5ade54f47417ae4": {
      "model_module": "@jupyter-widgets/controls",
      "model_module_version": "1.5.0",
      "model_name": "VBoxModel",
      "state": {
       "_dom_classes": [
        "widget-interact"
       ],
       "children": [
        "IPY_MODEL_9636b5d65c6c45df80d319d5ae4775a8",
        "IPY_MODEL_963c8fb4d7e24e14b38a4ef5f44001e5"
       ],
       "layout": "IPY_MODEL_b5cc154c0da84a9b95e463fe55e0d966"
      }
     },
     "2e381aa08f0f498f97bdc2a2aae009da": {
      "model_module": "@jupyter-widgets/controls",
      "model_module_version": "1.5.0",
      "model_name": "VBoxModel",
      "state": {
       "_dom_classes": [
        "widget-interact"
       ],
       "children": [
        "IPY_MODEL_3a292d4848e340bbb03efcb44b4c5546",
        "IPY_MODEL_5259f03c2a4f4730902ea770b0867c84"
       ],
       "layout": "IPY_MODEL_0c6041bc44c44b2793dab67ad5b0794b"
      }
     },
     "300ddb0791ce4396893229818dff50e8": {
      "model_module": "@jupyter-widgets/output",
      "model_module_version": "1.0.0",
      "model_name": "OutputModel",
      "state": {
       "layout": "IPY_MODEL_510ec16b4b0c460395beef57d1b19385",
       "outputs": [
        {
         "name": "stdout",
         "output_type": "stream",
         "text": "{'filename': 'data/bbc/business/001.txt'}\n\nAd sales boost Time Warner profit\n\nQuarterly profits at US media giant TimeWarner jumped 76% to $1.13bn (Â£600m) for the three months to December, from $639m year-earlier.\n\nThe firm, which is now one of the biggest investors in Google, benefited from sales of high-speed internet connections and higher advert sales. TimeWarner said fourth quarter sales rose 2% to $11.1bn from $10.9bn. Its profits were buoyed by one-off gains which offset a profit dip at Warner Bros, and less users for AOL.\n\nTime Warner said on Friday that it now owns 8% of search-engine Google. But its own internet business, AOL, had has mixed fortunes. It lost 464,000 subscribers in the fourth quarter profits were lower than in the preceding three quarters. However, the company said AOL's underlying profit before exceptional items rose 8% on the back of stronger internet advertising revenues. It hopes to increase subscribers by offering the online service free to TimeWarner internet customers and will try to sign up AOL's existing customers for high-speed broadband. TimeWarner also has to restate 2000 and 2003 results following a probe by the US Securities Exchange Commission (SEC), which is close to concluding.\n\nTime Warner's fourth quarter profits were slightly better than analysts' expectations. But its film division saw profits slump 27% to $284m, helped by box-office flops Alexander and Catwoman, a sharp contrast to year-earlier, when the third and final film in the Lord of the Rings trilogy boosted results. For the full-year, TimeWarner posted a profit of $3.36bn, up 27% from its 2003 performance, while revenues grew 6.4% to $42.09bn. \"Our financial performance was strong, meeting or exceeding all of our full-year objectives and greatly enhancing our flexibility,\" chairman and chief executive Richard Parsons said. For 2005, TimeWarner is projecting operating earnings growth of around 5%, and also expects higher revenue and wider profit margins.\n\nTimeWarner is to restate its accounts as part of efforts to resolve an inquiry into AOL by US market regulators. It has already offered to pay $300m to settle charges, in a deal that is under review by the SEC. The company said it was unable to estimate the amount it needed to set aside for legal reserves, which it previously set at $500m. It intends to adjust the way it accounts for a deal with German music publisher Bertelsmann's purchase of a stake in AOL Europe, which it had reported as advertising revenue. It will now book the sale of its stake in AOL Europe as a loss on the value of that stake.\n\n"
        }
       ]
      }
     },
     "363d527b513e4ffab5f46f0a9cc2737b": {
      "model_module": "@jupyter-widgets/base",
      "model_module_version": "1.2.0",
      "model_name": "LayoutModel",
      "state": {}
     },
     "3a292d4848e340bbb03efcb44b4c5546": {
      "model_module": "@jupyter-widgets/controls",
      "model_module_version": "1.5.0",
      "model_name": "IntSliderModel",
      "state": {
       "description": "doc_id",
       "layout": "IPY_MODEL_9ed5f929f05949ca81047f3a84ae1e84",
       "max": 2224,
       "style": "IPY_MODEL_5c718fb3a6c54077b79a5a284570c0e0"
      }
     },
     "4a3ed32352254eeebe3368a117a9a382": {
      "model_module": "@jupyter-widgets/controls",
      "model_module_version": "1.5.0",
      "model_name": "SliderStyleModel",
      "state": {
       "description_width": ""
      }
     },
     "4df391293247441dba818e14d38af8ea": {
      "model_module": "@jupyter-widgets/base",
      "model_module_version": "1.2.0",
      "model_name": "LayoutModel",
      "state": {}
     },
     "510ec16b4b0c460395beef57d1b19385": {
      "model_module": "@jupyter-widgets/base",
      "model_module_version": "1.2.0",
      "model_name": "LayoutModel",
      "state": {}
     },
     "5259f03c2a4f4730902ea770b0867c84": {
      "model_module": "@jupyter-widgets/output",
      "model_module_version": "1.0.0",
      "model_name": "OutputModel",
      "state": {
       "layout": "IPY_MODEL_1f898984afc444e49b13dc17023418de",
       "outputs": [
        {
         "name": "stdout",
         "output_type": "stream",
         "text": "{'filename': 'data/bbc/business/001.txt'}\n\nad sales boost time warner profit quarterly profits at us media giant timewarner jumped to $1.13bn â£600m for the three months to december from $639m year-earlier the firm which is now one of the biggest investors in google benefited from sales of high-speed internet connections and higher advert sales timewarner said fourth quarter sales rose to $11.1bn from $10.9bn its profits were buoyed by one-off gains which offset profit dip at warner bros and less users for aol time warner said on friday that it now owns of search-engine google but its own internet business aol had has mixed fortunes it lost subscribers in the fourth quarter profits were lower than in the preceding three quarters however the company said aols underlying profit before exceptional items rose on the back of stronger internet advertising revenues it hopes to increase subscribers by offering the online service free to timewarner internet customers and will try to sign up aols existing customers for high-speed broadband timewarner also has to restate and results following probe by the us securities exchange commission sec which is close to concluding time warners fourth quarter profits were slightly better than analysts expectations but its film division saw profits slump to $284m helped by box-office flops alexander and catwoman sharp contrast to year-earlier when the third and final film in the lord_of_the_rings trilogy boosted results for the full-year timewarner posted profit of $3.36bn up from its performance while revenues grew to $42.09bn our financial performance was strong meeting or exceeding all of our full-year objectives and greatly enhancing our flexibility chairman and chief_executive richard parsons said for timewarner is projecting operating earnings growth of around and also expects higher revenue and wider profit margins timewarner is to restate its accounts as part of efforts to resolve an inquiry into aol by us market regulators it has already offered to pay $300m to settle charges in deal that is under review by the sec the company said it was unable to estimate the amount it needed to set aside for legal reserves which it previously set at $500m it intends to adjust the way it accounts for deal with german music publisher bertelsmanns purchase of stake in aol europe which it had reported as advertising revenue it will now book the sale of its stake in aol europe as loss on the value of that stake\n"
        }
       ]
      }
     },
     "596c9f0a5ee54976b5c305733046eb20": {
      "model_module": "@jupyter-widgets/controls",
      "model_module_version": "1.5.0",
      "model_name": "VBoxModel",
      "state": {
       "_dom_classes": [
        "widget-interact"
       ],
       "children": [
        "IPY_MODEL_72c64a752960491d904da0ddbdf4798b",
        "IPY_MODEL_972d09b6a6024423a6de54b5f13114a5"
       ],
       "layout": "IPY_MODEL_c8473dedaa18462dbd9ed2df63cffc33"
      }
     },
     "5c718fb3a6c54077b79a5a284570c0e0": {
      "model_module": "@jupyter-widgets/controls",
      "model_module_version": "1.5.0",
      "model_name": "SliderStyleModel",
      "state": {
       "description_width": ""
      }
     },
     "6e2d7a2b5ae14a82bc6493af5230b988": {
      "model_module": "@jupyter-widgets/base",
      "model_module_version": "1.2.0",
      "model_name": "LayoutModel",
      "state": {}
     },
     "72c64a752960491d904da0ddbdf4798b": {
      "model_module": "@jupyter-widgets/controls",
      "model_module_version": "1.5.0",
      "model_name": "IntSliderModel",
      "state": {
       "description": "doc_id",
       "layout": "IPY_MODEL_4df391293247441dba818e14d38af8ea",
       "max": 2224,
       "style": "IPY_MODEL_4a3ed32352254eeebe3368a117a9a382"
      }
     },
     "9636b5d65c6c45df80d319d5ae4775a8": {
      "model_module": "@jupyter-widgets/controls",
      "model_module_version": "1.5.0",
      "model_name": "IntSliderModel",
      "state": {
       "description": "doc_id",
       "layout": "IPY_MODEL_13eb7efb1d294d8390b86540aaaeeb07",
       "max": 2224,
       "style": "IPY_MODEL_0176bce07868479ba1260626d7e96ae2"
      }
     },
     "963c8fb4d7e24e14b38a4ef5f44001e5": {
      "model_module": "@jupyter-widgets/output",
      "model_module_version": "1.0.0",
      "model_name": "OutputModel",
      "state": {
       "layout": "IPY_MODEL_c7609d692cbd4e8e967cb8cbd2357b69",
       "outputs": [
        {
         "name": "stdout",
         "output_type": "stream",
         "text": "{'filename': 'data/bbc/business/001.txt'}\n\nad sales boost time warner profit quarterly profits at us media giant timewarner jumped 76% to $1.13bn â£600m for the three months to december from $639m year-earlier the firm which is now one of the biggest investors in google benefited from sales of high-speed internet connections and higher advert sales timewarner said fourth quarter sales rose 2% to $11.1bn from $10.9bn its profits were buoyed by one-off gains which offset a profit dip at warner bros and less users for aol time warner said on friday that it now owns 8% of search-engine google but its own internet business aol had has mixed fortunes it lost 464,000 subscribers in the fourth quarter profits were lower than in the preceding three quarters however the company said aols underlying profit before exceptional items rose 8% on the back of stronger internet advertising revenues it hopes to increase subscribers by offering the online service free to timewarner internet customers and will try to sign up aols existing customers for high-speed broadband timewarner also has to restate 2000 and 2003 results following a probe by the us securities exchange commission sec which is close to concluding time warners fourth quarter profits were slightly better than analysts expectations but its film division saw profits slump 27% to $284m helped by box-office flops alexander and catwoman a sharp contrast to year-earlier when the third and final film in the lord_of_the_rings trilogy boosted results for the full-year timewarner posted a profit of $3.36bn up 27% from its 2003 performance while revenues grew 6.4% to $42.09bn our financial performance was strong meeting or exceeding all of our full-year objectives and greatly enhancing our flexibility chairman and chief_executive richard parsons said for 2005 timewarner is projecting operating earnings growth of around 5% and also expects higher revenue and wider profit margins timewarner is to restate its accounts as part of efforts to resolve an inquiry into aol by us market regulators it has already offered to pay $300m to settle charges in a deal that is under review by the sec the company said it was unable to estimate the amount it needed to set aside for legal reserves which it previously set at $500m it intends to adjust the way it accounts for a deal with german music publisher bertelsmanns purchase of a stake in aol europe which it had reported as advertising revenue it will now book the sale of its stake in aol europe as a loss on the value of that stake\n"
        }
       ]
      }
     },
     "972d09b6a6024423a6de54b5f13114a5": {
      "model_module": "@jupyter-widgets/output",
      "model_module_version": "1.0.0",
      "model_name": "OutputModel",
      "state": {
       "layout": "IPY_MODEL_6e2d7a2b5ae14a82bc6493af5230b988",
       "outputs": [
        {
         "name": "stdout",
         "output_type": "stream",
         "text": "{'filename': 'data/bbc/business/001.txt'}\n\nad sales boost time warner profit quarterly profits at us media giant timewarner jumped 76% to $1.13bn â£600m for the three months to december from $639m year-earlier the firm which is now one of the biggest investors in google benefited from sales of high-speed internet connections and higher advert sales timewarner said fourth quarter sales rose 2% to $11.1bn from $10.9bn its profits were buoyed by one-off gains which offset a profit dip at warner bros and less users for aol time warner said on friday that it now owns 8% of search-engine google but its own internet business aol had has mixed fortunes it lost 464,000 subscribers in the fourth quarter profits were lower than in the preceding three quarters however the company said aols underlying profit before exceptional items rose 8% on the back of stronger internet advertising revenues it hopes to increase subscribers by offering the online service free to timewarner internet customers and will try to sign up aols existing customers for high-speed broadband timewarner also has to restate 2000 and 2003 results following a probe by the us securities exchange commission sec which is close to concluding time warners fourth quarter profits were slightly better than analysts expectations but its film division saw profits slump 27% to $284m helped by box-office flops alexander and catwoman a sharp contrast to year-earlier when the third and final film in the lord of the rings trilogy boosted results for the full-year timewarner posted a profit of $3.36bn up 27% from its 2003 performance while revenues grew 6.4% to $42.09bn our financial performance was strong meeting or exceeding all of our full-year objectives and greatly enhancing our flexibility chairman and chief executive richard parsons said for 2005 timewarner is projecting operating earnings growth of around 5% and also expects higher revenue and wider profit margins timewarner is to restate its accounts as part of efforts to resolve an inquiry into aol by us market regulators it has already offered to pay $300m to settle charges in a deal that is under review by the sec the company said it was unable to estimate the amount it needed to set aside for legal reserves which it previously set at $500m it intends to adjust the way it accounts for a deal with german music publisher bertelsmanns purchase of a stake in aol europe which it had reported as advertising revenue it will now book the sale of its stake in aol europe as a loss on the value of that stake\n"
        }
       ]
      }
     },
     "9ed5f929f05949ca81047f3a84ae1e84": {
      "model_module": "@jupyter-widgets/base",
      "model_module_version": "1.2.0",
      "model_name": "LayoutModel",
      "state": {}
     },
     "b5cc154c0da84a9b95e463fe55e0d966": {
      "model_module": "@jupyter-widgets/base",
      "model_module_version": "1.2.0",
      "model_name": "LayoutModel",
      "state": {}
     },
     "bc3c0ab7399b4b16b5d34f7b6307998b": {
      "model_module": "@jupyter-widgets/controls",
      "model_module_version": "1.5.0",
      "model_name": "VBoxModel",
      "state": {
       "_dom_classes": [
        "widget-interact"
       ],
       "children": [
        "IPY_MODEL_e4e663e13b1c4bb4a38edf7e816b4937",
        "IPY_MODEL_300ddb0791ce4396893229818dff50e8"
       ],
       "layout": "IPY_MODEL_363d527b513e4ffab5f46f0a9cc2737b"
      }
     },
     "c5cdae633e8d419f8e138445d94e8bbc": {
      "model_module": "@jupyter-widgets/controls",
      "model_module_version": "1.5.0",
      "model_name": "SliderStyleModel",
      "state": {
       "description_width": ""
      }
     },
     "c7609d692cbd4e8e967cb8cbd2357b69": {
      "model_module": "@jupyter-widgets/base",
      "model_module_version": "1.2.0",
      "model_name": "LayoutModel",
      "state": {}
     },
     "c8473dedaa18462dbd9ed2df63cffc33": {
      "model_module": "@jupyter-widgets/base",
      "model_module_version": "1.2.0",
      "model_name": "LayoutModel",
      "state": {}
     },
     "e4e663e13b1c4bb4a38edf7e816b4937": {
      "model_module": "@jupyter-widgets/controls",
      "model_module_version": "1.5.0",
      "model_name": "IntSliderModel",
      "state": {
       "description": "doc_id",
       "layout": "IPY_MODEL_0f6858aff9a6418893b5db2b75af667d",
       "max": 2224,
       "style": "IPY_MODEL_c5cdae633e8d419f8e138445d94e8bbc"
      }
     }
    },
    "version_major": 2,
    "version_minor": 0
   }
  }
 },
 "nbformat": 4,
 "nbformat_minor": 4
}
