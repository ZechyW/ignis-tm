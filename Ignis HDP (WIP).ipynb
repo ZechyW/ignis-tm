{
 "cells": [
  {
   "cell_type": "markdown",
   "metadata": {},
   "source": [
    "Ignis: Hierarchical Dirichlet Process\n",
    "============"
   ]
  },
  {
   "cell_type": "code",
   "execution_count": 1,
   "metadata": {
    "ExecuteTime": {
     "end_time": "2020-06-29T10:25:46.832376Z",
     "start_time": "2020-06-29T10:25:45.660433Z"
    }
   },
   "outputs": [],
   "source": [
    "import ignis"
   ]
  },
  {
   "cell_type": "code",
   "execution_count": 2,
   "metadata": {
    "ExecuteTime": {
     "end_time": "2020-06-29T10:25:46.893277Z",
     "start_time": "2020-06-29T10:25:46.834267Z"
    }
   },
   "outputs": [
    {
     "data": {
      "text/html": [
       "\n",
       "<style>\n",
       "   .jupyter-widgets-output-area .output_scroll {\n",
       "        height: unset !important;\n",
       "        border-radius: unset !important;\n",
       "        -webkit-box-shadow: unset !important;\n",
       "        box-shadow: unset !important;\n",
       "    }\n",
       "    .jupyter-widgets-output-area  {\n",
       "        height: auto !important;\n",
       "    }\n",
       "</style>\n",
       "<style>\n",
       "    #notebook-container { width: 1370px !important; }\n",
       "    div.output_area { width: unset !important; }\n",
       "</style>\n"
      ],
      "text/plain": [
       "<IPython.core.display.HTML object>"
      ]
     },
     "metadata": {},
     "output_type": "display_data"
    }
   ],
   "source": [
    "# Jupyter notebook setup\n",
    "import ipywidgets as widgets\n",
    "from IPython.core.display import display, HTML\n",
    "\n",
    "# Custom styling:\n",
    "# - Prevent vertical scrollbars in output subareas\n",
    "# - Resize to fit pyLDAvis visualisations without causing other cells to overflow\n",
    "style = \"\"\"\n",
    "<style>\n",
    "   .jupyter-widgets-output-area .output_scroll {\n",
    "        height: unset !important;\n",
    "        border-radius: unset !important;\n",
    "        -webkit-box-shadow: unset !important;\n",
    "        box-shadow: unset !important;\n",
    "    }\n",
    "    .jupyter-widgets-output-area  {\n",
    "        height: auto !important;\n",
    "    }\n",
    "</style>\n",
    "<style>\n",
    "    #notebook-container { width: 1370px !important; }\n",
    "    div.output_area { width: unset !important; }\n",
    "</style>\n",
    "\"\"\"\n",
    "display(HTML(style))"
   ]
  },
  {
   "cell_type": "markdown",
   "metadata": {},
   "source": [
    "Model training (LDA)\n",
    "----"
   ]
  },
  {
   "cell_type": "markdown",
   "metadata": {},
   "source": [
    "Load from an `ignis.Corpus`, add the processed docs to an LDA model, and train it.\n",
    "\n",
    "The random seed and parallelisation can both affect results, so setting the seed and number of workers is necessary for reproducibility."
   ]
  },
  {
   "cell_type": "code",
   "execution_count": 3,
   "metadata": {
    "ExecuteTime": {
     "end_time": "2020-06-29T10:25:47.616406Z",
     "start_time": "2020-06-29T10:25:46.896272Z"
    }
   },
   "outputs": [],
   "source": [
    "corpus = ignis.load_corpus(\"bbc.corpus\")"
   ]
  },
  {
   "cell_type": "markdown",
   "metadata": {},
   "source": [
    "With the current public version of `pyLDAvis`, (2.1.2), preparing the visualisation data takes very long with recent versions of `pandas` (>0.23.4).  We have an option here to use an optimised version of the preparation function built into Ignis."
   ]
  },
  {
   "cell_type": "code",
   "execution_count": 4,
   "metadata": {
    "ExecuteTime": {
     "end_time": "2020-06-29T10:25:47.620340Z",
     "start_time": "2020-06-29T10:25:47.617305Z"
    }
   },
   "outputs": [],
   "source": [
    "use_optimised = True"
   ]
  },
  {
   "cell_type": "code",
   "execution_count": 5,
   "metadata": {
    "ExecuteTime": {
     "end_time": "2020-06-29T10:25:47.634345Z",
     "start_time": "2020-06-29T10:25:47.622287Z"
    }
   },
   "outputs": [],
   "source": [
    "model_options = {\"term_weighting\": \"pmi\", \"verbose\": True, \"workers\": 10, \"parallel_scheme\": \"none\"}\n",
    "vis_options = {\"verbose\": True, \"use_optimised\": use_optimised}"
   ]
  },
  {
   "cell_type": "markdown",
   "metadata": {},
   "source": [
    "Ignis can suggest a recommended number of topics to use for LDA, based on the coherence scores of a range of lightly-trained models."
   ]
  },
  {
   "cell_type": "code",
   "execution_count": null,
   "metadata": {
    "ExecuteTime": {
     "start_time": "2020-06-29T10:25:45.661Z"
    }
   },
   "outputs": [
    {
     "name": "stdout",
     "output_type": "stream",
     "text": [
      "Training model on 2118 documents:\n",
      "{'term_weighting': 'pmi', 'initial_k': 2, 'seed': 11399, 'workers': 10, 'parallel_scheme': 'none', 'iterations': 500, 'update_every': 100, 'until_max_ll': False, 'max_extra_iterations': 1000, 'verbose': True, 'tw': <TermWeight.PMI: 2>, 'parallel': <ParallelScheme.NONE: 1>}\n",
      "\n"
     ]
    },
    {
     "name": "stderr",
     "output_type": "stream",
     "text": [
      "\r",
      "  0%|          | 0/500 [00:00<?, ?it/s]"
     ]
    }
   ],
   "source": [
    "results = ignis.train_model(\n",
    "    corpus,\n",
    "    model_type=\"tp_hdp\",\n",
    "    model_options=dict(model_options)\n",
    ")"
   ]
  },
  {
   "cell_type": "code",
   "execution_count": null,
   "metadata": {
    "ExecuteTime": {
     "start_time": "2020-06-29T10:25:45.663Z"
    }
   },
   "outputs": [],
   "source": [
    "import pandas as pd\n",
    "\n",
    "model = results.ignis_model.model\n",
    "\n",
    "topic_term_dists = [model.get_topic_word_dist(k) for k in range(model.k)]\n",
    "topic_term_dist_cols = [\n",
    "    pd.Series(topic_term_dist, dtype=\"float64\") for topic_term_dist in topic_term_dists\n",
    "]\n",
    "topic_term_dists = pd.concat(topic_term_dist_cols, axis=1).T\n",
    "\n",
    "topic_term_dists = [model.get_topic_word_dist(k) for k in range(model.k)]\n",
    "(pd.DataFrame(topic_term_dists).sum(axis=1)) < 0.999"
   ]
  },
  {
   "cell_type": "code",
   "execution_count": null,
   "metadata": {
    "ExecuteTime": {
     "start_time": "2020-06-29T10:25:45.666Z"
    }
   },
   "outputs": [],
   "source": [
    "results.init_vis(\"pyldavis\", skip_validate=True, verbose=True)\n",
    "results.show_visualisation()"
   ]
  },
  {
   "cell_type": "code",
   "execution_count": null,
   "metadata": {
    "ExecuteTime": {
     "start_time": "2020-06-29T10:25:45.668Z"
    }
   },
   "outputs": [],
   "source": [
    "# results.export_visualisation(\"bbc_results\")"
   ]
  },
  {
   "cell_type": "code",
   "execution_count": null,
   "metadata": {},
   "outputs": [],
   "source": []
  }
 ],
 "metadata": {
  "kernelspec": {
   "display_name": "Python 3",
   "language": "python",
   "name": "python3"
  },
  "language_info": {
   "codemirror_mode": {
    "name": "ipython",
    "version": 3
   },
   "file_extension": ".py",
   "mimetype": "text/x-python",
   "name": "python",
   "nbconvert_exporter": "python",
   "pygments_lexer": "ipython3",
   "version": "3.7.6"
  },
  "widgets": {
   "application/vnd.jupyter.widget-state+json": {
    "state": {
     "0176bce07868479ba1260626d7e96ae2": {
      "model_module": "@jupyter-widgets/controls",
      "model_module_version": "1.5.0",
      "model_name": "SliderStyleModel",
      "state": {
       "description_width": ""
      }
     },
     "019fcbf53c834bf0b0154c872987adea": {
      "model_module": "@jupyter-widgets/base",
      "model_module_version": "1.2.0",
      "model_name": "LayoutModel",
      "state": {}
     },
     "0272c9fb99e5482f81cfbf00b10d24d1": {
      "model_module": "@jupyter-widgets/controls",
      "model_module_version": "1.5.0",
      "model_name": "IntSliderModel",
      "state": {
       "description": "index",
       "layout": "IPY_MODEL_680aadc6311a4aab8a86f87343d9fe3d",
       "max": 370,
       "style": "IPY_MODEL_bafdf5178bda4f7e8d6359d3f6585707"
      }
     },
     "02c1b6343730431086b372ca058d19e7": {
      "model_module": "@jupyter-widgets/controls",
      "model_module_version": "1.5.0",
      "model_name": "SliderStyleModel",
      "state": {
       "description_width": ""
      }
     },
     "0300157e7e12417f9f4234fcd0e3219f": {
      "model_module": "@jupyter-widgets/controls",
      "model_module_version": "1.5.0",
      "model_name": "SliderStyleModel",
      "state": {
       "description_width": ""
      }
     },
     "08810c03c35340c0965aed0f2aefc885": {
      "model_module": "@jupyter-widgets/base",
      "model_module_version": "1.2.0",
      "model_name": "LayoutModel",
      "state": {}
     },
     "0a2caa0f02a3420caf8ded2c19f7003f": {
      "model_module": "@jupyter-widgets/controls",
      "model_module_version": "1.5.0",
      "model_name": "VBoxModel",
      "state": {
       "_dom_classes": [
        "widget-interact"
       ],
       "children": [
        "IPY_MODEL_bcfcae1962bd4734bacbf0b83a089f98",
        "IPY_MODEL_5406392c76344d5792e38f0ef963b0ce"
       ],
       "layout": "IPY_MODEL_7f8e44ba6e234d9d99549134f6979904"
      }
     },
     "0c6041bc44c44b2793dab67ad5b0794b": {
      "model_module": "@jupyter-widgets/base",
      "model_module_version": "1.2.0",
      "model_name": "LayoutModel",
      "state": {}
     },
     "0f6858aff9a6418893b5db2b75af667d": {
      "model_module": "@jupyter-widgets/base",
      "model_module_version": "1.2.0",
      "model_name": "LayoutModel",
      "state": {}
     },
     "0f94827cc4b34197bced92a6a4c7117e": {
      "model_module": "@jupyter-widgets/base",
      "model_module_version": "1.2.0",
      "model_name": "LayoutModel",
      "state": {}
     },
     "108053295dc54fe49e7eadc10584e6e3": {
      "model_module": "@jupyter-widgets/output",
      "model_module_version": "1.0.0",
      "model_name": "OutputModel",
      "state": {
       "layout": "IPY_MODEL_519a00c1c6074ba98bbfcfe05314e4f8",
       "outputs": [
        {
         "name": "stdout",
         "output_type": "stream",
         "text": "ID: 70e7bd2f-b69a-4208-945e-0d107daea485\n\nMetadata: {'filename': 'data/bbc/business/226.txt'}\n\nmcdonalds to sponsor mtv show mcdonalds the worlds largest restaurant chain is to sponsor programme on music channel mtv as part of its latest youth market promotion the show advance warning highlights new talent and mtv reckons it will give mcdonalds access to nearly million homes in countries mcdonalds golden arches name and im loving it catchphrase will be used throughout the half-hour programme the move comes amid growing concerns about obesity in europe and the us the european union has called on the food industry to reduce the number of adverts aimed at young children warning that legislation would be introduced unless voluntary steps were taken in the us food group kraft is among firms that already have cut back on promoting sugar and fattening products to the young mcdonalds has also been taking steps to improve its junk food reputation revamping its menu and providing clients with health-related products such as pedometers as well as burgers like the big mac and quarter pounder with cheese the company now sells healthier options such as salads and fresh fruit chief_executive jim skinner attributed an increase in january worldwide sales to the vitality of our menu among other things hooking up with mtv is expected to add extra momentum to mcdonalds recent revival mtv which played key role in the emergence of the music video is to show advance warning on all of its channels across the world the programme can at present only been seen in the us where it has featured artists like british stars joss_stone and franz_ferdinand mcdonalds has targeted the youth market in the past with its advertisements signing up stars like jelly-legged dancer justin_timberlake and all-woman singing group destinys child\n\n[(4, 0.2849612236022949),\n (1, 0.24935834109783173),\n (6, 0.19333449006080627),\n (9, 0.13949696719646454),\n (8, 0.12418993562459946),\n (5, 0.00836983323097229),\n (7, 9.747652075020596e-05),\n (10, 7.284103048732504e-05),\n (2, 6.673431198578328e-05),\n (3, 5.224308551987633e-05)]\n"
        }
       ]
      }
     },
     "10beea248e3742c6b7318631de3c5ad7": {
      "model_module": "@jupyter-widgets/controls",
      "model_module_version": "1.5.0",
      "model_name": "IntSliderModel",
      "state": {
       "description": "index",
       "layout": "IPY_MODEL_1a64e0ce6c304aaf9e2bc57296ddb455",
       "max": 370,
       "style": "IPY_MODEL_9aa7a1095dfa4ba1ac4da58f6ee815fa"
      }
     },
     "113de4bd821446a8ae532669209ad667": {
      "model_module": "@jupyter-widgets/controls",
      "model_module_version": "1.5.0",
      "model_name": "SliderStyleModel",
      "state": {
       "description_width": ""
      }
     },
     "13eb7efb1d294d8390b86540aaaeeb07": {
      "model_module": "@jupyter-widgets/base",
      "model_module_version": "1.2.0",
      "model_name": "LayoutModel",
      "state": {}
     },
     "1853fc5fe063493d8b639352ab0b91ed": {
      "model_module": "@jupyter-widgets/controls",
      "model_module_version": "1.5.0",
      "model_name": "SliderStyleModel",
      "state": {
       "description_width": ""
      }
     },
     "193999abd18c472290531634f97a9151": {
      "model_module": "@jupyter-widgets/controls",
      "model_module_version": "1.5.0",
      "model_name": "SliderStyleModel",
      "state": {
       "description_width": ""
      }
     },
     "1a64e0ce6c304aaf9e2bc57296ddb455": {
      "model_module": "@jupyter-widgets/base",
      "model_module_version": "1.2.0",
      "model_name": "LayoutModel",
      "state": {}
     },
     "1c90c756572546b39e4ed98007b8f9b7": {
      "model_module": "@jupyter-widgets/controls",
      "model_module_version": "1.5.0",
      "model_name": "IntSliderModel",
      "state": {
       "description": "index",
       "layout": "IPY_MODEL_db82671388d349079324a42ea2dc8935",
       "max": 370,
       "style": "IPY_MODEL_193999abd18c472290531634f97a9151"
      }
     },
     "1f898984afc444e49b13dc17023418de": {
      "model_module": "@jupyter-widgets/base",
      "model_module_version": "1.2.0",
      "model_name": "LayoutModel",
      "state": {}
     },
     "20e610f9f2ba427eaec9ddd66fabe88c": {
      "model_module": "@jupyter-widgets/output",
      "model_module_version": "1.0.0",
      "model_name": "OutputModel",
      "state": {
       "layout": "IPY_MODEL_c379bbdba72347b7907066413e2878ca",
       "outputs": [
        {
         "name": "stdout",
         "output_type": "stream",
         "text": "ID: 70e7bd2f-b69a-4208-945e-0d107daea485\n\nMetadata: {'filename': 'data/bbc/business/226.txt'}\n\nmcdonalds to sponsor mtv show mcdonalds the worlds largest restaurant chain is to sponsor programme on music channel mtv as part of its latest youth market promotion the show advance warning highlights new talent and mtv reckons it will give mcdonalds access to nearly million homes in countries mcdonalds golden arches name and im loving it catchphrase will be used throughout the half-hour programme the move comes amid growing concerns about obesity in europe and the us the european union has called on the food industry to reduce the number of adverts aimed at young children warning that legislation would be introduced unless voluntary steps were taken in the us food group kraft is among firms that already have cut back on promoting sugar and fattening products to the young mcdonalds has also been taking steps to improve its junk food reputation revamping its menu and providing clients with health-related products such as pedometers as well as burgers like the big mac and quarter pounder with cheese the company now sells healthier options such as salads and fresh fruit chief_executive jim skinner attributed an increase in january worldwide sales to the vitality of our menu among other things hooking up with mtv is expected to add extra momentum to mcdonalds recent revival mtv which played key role in the emergence of the music video is to show advance warning on all of its channels across the world the programme can at present only been seen in the us where it has featured artists like british stars joss_stone and franz_ferdinand mcdonalds has targeted the youth market in the past with its advertisements signing up stars like jelly-legged dancer justin_timberlake and all-woman singing group destinys child\n\n[(4, 0.2849612236022949),\n (1, 0.24935834109783173),\n (6, 0.19333449006080627),\n (9, 0.13949696719646454),\n (8, 0.12418993562459946),\n (5, 0.00836983323097229),\n (7, 9.747652075020596e-05),\n (10, 7.284103048732504e-05),\n (2, 6.673431198578328e-05),\n (3, 5.224308551987633e-05)]\n"
        }
       ]
      }
     },
     "23c2e3055cdd4b0fb5ade54f47417ae4": {
      "model_module": "@jupyter-widgets/controls",
      "model_module_version": "1.5.0",
      "model_name": "VBoxModel",
      "state": {
       "_dom_classes": [
        "widget-interact"
       ],
       "children": [
        "IPY_MODEL_9636b5d65c6c45df80d319d5ae4775a8",
        "IPY_MODEL_963c8fb4d7e24e14b38a4ef5f44001e5"
       ],
       "layout": "IPY_MODEL_b5cc154c0da84a9b95e463fe55e0d966"
      }
     },
     "2687dafe6bdd4989aefa5fbcbdadabbb": {
      "model_module": "@jupyter-widgets/controls",
      "model_module_version": "1.5.0",
      "model_name": "IntSliderModel",
      "state": {
       "description": "index",
       "layout": "IPY_MODEL_792266eafff642f08f0368a1d69f52af",
       "max": 370,
       "style": "IPY_MODEL_bb6adc68372249d19d80228eca6bc67f"
      }
     },
     "2896be96c96347bf817db5ecbe5c71de": {
      "model_module": "@jupyter-widgets/output",
      "model_module_version": "1.0.0",
      "model_name": "OutputModel",
      "state": {
       "layout": "IPY_MODEL_d7067719fd6141a4aea97be115bd8f95",
       "outputs": [
        {
         "name": "stdout",
         "output_type": "stream",
         "text": "ID: 70e7bd2f-b69a-4208-945e-0d107daea485\n\nMetadata: {'filename': 'data/bbc/business/226.txt'}\n\nmcdonalds to sponsor mtv show mcdonalds the worlds largest restaurant chain is to sponsor programme on music channel mtv as part of its latest youth market promotion the show advance warning highlights new talent and mtv reckons it will give mcdonalds access to nearly million homes in countries mcdonalds golden arches name and im loving it catchphrase will be used throughout the half-hour programme the move comes amid growing concerns about obesity in europe and the us the european union has called on the food industry to reduce the number of adverts aimed at young children warning that legislation would be introduced unless voluntary steps were taken in the us food group kraft is among firms that already have cut back on promoting sugar and fattening products to the young mcdonalds has also been taking steps to improve its junk food reputation revamping its menu and providing clients with health-related products such as pedometers as well as burgers like the big mac and quarter pounder with cheese the company now sells healthier options such as salads and fresh fruit chief_executive jim skinner attributed an increase in january worldwide sales to the vitality of our menu among other things hooking up with mtv is expected to add extra momentum to mcdonalds recent revival mtv which played key role in the emergence of the music video is to show advance warning on all of its channels across the world the programme can at present only been seen in the us where it has featured artists like british stars joss_stone and franz_ferdinand mcdonalds has targeted the youth market in the past with its advertisements signing up stars like jelly-legged dancer justin_timberlake and all-woman singing group destinys child\n\n[(4, 0.2849612236022949),\n (1, 0.24935834109783173),\n (6, 0.19333449006080627),\n (9, 0.13949696719646454),\n (8, 0.12418993562459946),\n (5, 0.00836983323097229),\n (7, 9.747652075020596e-05),\n (10, 7.284103048732504e-05),\n (2, 6.673431198578328e-05),\n (3, 5.224308551987633e-05)]\n"
        }
       ]
      }
     },
     "2a8c772c816c4759b5e483dc11a30e37": {
      "model_module": "@jupyter-widgets/base",
      "model_module_version": "1.2.0",
      "model_name": "LayoutModel",
      "state": {}
     },
     "2ad83e23142e41d698058fa3d8750f81": {
      "model_module": "@jupyter-widgets/controls",
      "model_module_version": "1.5.0",
      "model_name": "VBoxModel",
      "state": {
       "_dom_classes": [
        "widget-interact"
       ],
       "children": [
        "IPY_MODEL_2c9d67de255b46c98008b1ebe5572d21",
        "IPY_MODEL_77194e0350834514adcf86e232f0a31a"
       ],
       "layout": "IPY_MODEL_c7bc15d005d347e5923bea1b4d0a6350"
      }
     },
     "2c9d67de255b46c98008b1ebe5572d21": {
      "model_module": "@jupyter-widgets/controls",
      "model_module_version": "1.5.0",
      "model_name": "IntSliderModel",
      "state": {
       "description": "index",
       "layout": "IPY_MODEL_81a27238f01b4ef5ad29b75dce2d4e41",
       "max": 370,
       "style": "IPY_MODEL_f5312b7de1c04925b4cae035683b64fd"
      }
     },
     "2e381aa08f0f498f97bdc2a2aae009da": {
      "model_module": "@jupyter-widgets/controls",
      "model_module_version": "1.5.0",
      "model_name": "VBoxModel",
      "state": {
       "_dom_classes": [
        "widget-interact"
       ],
       "children": [
        "IPY_MODEL_3a292d4848e340bbb03efcb44b4c5546",
        "IPY_MODEL_5259f03c2a4f4730902ea770b0867c84"
       ],
       "layout": "IPY_MODEL_0c6041bc44c44b2793dab67ad5b0794b"
      }
     },
     "300ddb0791ce4396893229818dff50e8": {
      "model_module": "@jupyter-widgets/output",
      "model_module_version": "1.0.0",
      "model_name": "OutputModel",
      "state": {
       "layout": "IPY_MODEL_510ec16b4b0c460395beef57d1b19385",
       "outputs": [
        {
         "name": "stdout",
         "output_type": "stream",
         "text": "{'filename': 'data/bbc/business/001.txt'}\n\nAd sales boost Time Warner profit\n\nQuarterly profits at US media giant TimeWarner jumped 76% to $1.13bn (Â£600m) for the three months to December, from $639m year-earlier.\n\nThe firm, which is now one of the biggest investors in Google, benefited from sales of high-speed internet connections and higher advert sales. TimeWarner said fourth quarter sales rose 2% to $11.1bn from $10.9bn. Its profits were buoyed by one-off gains which offset a profit dip at Warner Bros, and less users for AOL.\n\nTime Warner said on Friday that it now owns 8% of search-engine Google. But its own internet business, AOL, had has mixed fortunes. It lost 464,000 subscribers in the fourth quarter profits were lower than in the preceding three quarters. However, the company said AOL's underlying profit before exceptional items rose 8% on the back of stronger internet advertising revenues. It hopes to increase subscribers by offering the online service free to TimeWarner internet customers and will try to sign up AOL's existing customers for high-speed broadband. TimeWarner also has to restate 2000 and 2003 results following a probe by the US Securities Exchange Commission (SEC), which is close to concluding.\n\nTime Warner's fourth quarter profits were slightly better than analysts' expectations. But its film division saw profits slump 27% to $284m, helped by box-office flops Alexander and Catwoman, a sharp contrast to year-earlier, when the third and final film in the Lord of the Rings trilogy boosted results. For the full-year, TimeWarner posted a profit of $3.36bn, up 27% from its 2003 performance, while revenues grew 6.4% to $42.09bn. \"Our financial performance was strong, meeting or exceeding all of our full-year objectives and greatly enhancing our flexibility,\" chairman and chief executive Richard Parsons said. For 2005, TimeWarner is projecting operating earnings growth of around 5%, and also expects higher revenue and wider profit margins.\n\nTimeWarner is to restate its accounts as part of efforts to resolve an inquiry into AOL by US market regulators. It has already offered to pay $300m to settle charges, in a deal that is under review by the SEC. The company said it was unable to estimate the amount it needed to set aside for legal reserves, which it previously set at $500m. It intends to adjust the way it accounts for a deal with German music publisher Bertelsmann's purchase of a stake in AOL Europe, which it had reported as advertising revenue. It will now book the sale of its stake in AOL Europe as a loss on the value of that stake.\n\n"
        }
       ]
      }
     },
     "363d527b513e4ffab5f46f0a9cc2737b": {
      "model_module": "@jupyter-widgets/base",
      "model_module_version": "1.2.0",
      "model_name": "LayoutModel",
      "state": {}
     },
     "3a292d4848e340bbb03efcb44b4c5546": {
      "model_module": "@jupyter-widgets/controls",
      "model_module_version": "1.5.0",
      "model_name": "IntSliderModel",
      "state": {
       "description": "doc_id",
       "layout": "IPY_MODEL_9ed5f929f05949ca81047f3a84ae1e84",
       "max": 2224,
       "style": "IPY_MODEL_5c718fb3a6c54077b79a5a284570c0e0"
      }
     },
     "48016a552ad042d2bb8d1559c5c18465": {
      "model_module": "@jupyter-widgets/output",
      "model_module_version": "1.0.0",
      "model_name": "OutputModel",
      "state": {
       "layout": "IPY_MODEL_68a3f95f1b4f4ef3912fa720b0495cb6",
       "outputs": [
        {
         "name": "stdout",
         "output_type": "stream",
         "text": "ID: 70e7bd2f-b69a-4208-945e-0d107daea485\n\nMetadata: {'filename': 'data/bbc/business/226.txt'}\n\nmcdonalds to sponsor mtv show mcdonalds the worlds largest restaurant chain is to sponsor programme on music channel mtv as part of its latest youth market promotion the show advance warning highlights new talent and mtv reckons it will give mcdonalds access to nearly million homes in countries mcdonalds golden arches name and im loving it catchphrase will be used throughout the half-hour programme the move comes amid growing concerns about obesity in europe and the us the european union has called on the food industry to reduce the number of adverts aimed at young children warning that legislation would be introduced unless voluntary steps were taken in the us food group kraft is among firms that already have cut back on promoting sugar and fattening products to the young mcdonalds has also been taking steps to improve its junk food reputation revamping its menu and providing clients with health-related products such as pedometers as well as burgers like the big mac and quarter pounder with cheese the company now sells healthier options such as salads and fresh fruit chief_executive jim skinner attributed an increase in january worldwide sales to the vitality of our menu among other things hooking up with mtv is expected to add extra momentum to mcdonalds recent revival mtv which played key role in the emergence of the music video is to show advance warning on all of its channels across the world the programme can at present only been seen in the us where it has featured artists like british stars joss_stone and franz_ferdinand mcdonalds has targeted the youth market in the past with its advertisements signing up stars like jelly-legged dancer justin_timberlake and all-woman singing group destinys child\n\n[(4, 0.2849612236022949),\n (1, 0.24935834109783173),\n (6, 0.19333449006080627),\n (9, 0.13949696719646454),\n (8, 0.12418993562459946),\n (5, 0.00836983323097229),\n (7, 9.747652075020596e-05),\n (10, 7.284103048732504e-05),\n (2, 6.673431198578328e-05),\n (3, 5.224308551987633e-05)]\n"
        }
       ]
      }
     },
     "490561ff95494471857a4a285be74ca2": {
      "model_module": "@jupyter-widgets/controls",
      "model_module_version": "1.5.0",
      "model_name": "VBoxModel",
      "state": {
       "_dom_classes": [
        "widget-interact"
       ],
       "children": [
        "IPY_MODEL_92ea53d097714c179d9aeebdc0d97c6b",
        "IPY_MODEL_853d9fa3e3f0408ea6ff1747246a44df"
       ],
       "layout": "IPY_MODEL_9ec89b76e50e4dd485f92e5910d6940c"
      }
     },
     "4a3ed32352254eeebe3368a117a9a382": {
      "model_module": "@jupyter-widgets/controls",
      "model_module_version": "1.5.0",
      "model_name": "SliderStyleModel",
      "state": {
       "description_width": ""
      }
     },
     "4a8c30b2cc3d46f0bf7c61fdcb53cf9a": {
      "model_module": "@jupyter-widgets/controls",
      "model_module_version": "1.5.0",
      "model_name": "SliderStyleModel",
      "state": {
       "description_width": ""
      }
     },
     "4df391293247441dba818e14d38af8ea": {
      "model_module": "@jupyter-widgets/base",
      "model_module_version": "1.2.0",
      "model_name": "LayoutModel",
      "state": {}
     },
     "510ec16b4b0c460395beef57d1b19385": {
      "model_module": "@jupyter-widgets/base",
      "model_module_version": "1.2.0",
      "model_name": "LayoutModel",
      "state": {}
     },
     "519a00c1c6074ba98bbfcfe05314e4f8": {
      "model_module": "@jupyter-widgets/base",
      "model_module_version": "1.2.0",
      "model_name": "LayoutModel",
      "state": {}
     },
     "5259f03c2a4f4730902ea770b0867c84": {
      "model_module": "@jupyter-widgets/output",
      "model_module_version": "1.0.0",
      "model_name": "OutputModel",
      "state": {
       "layout": "IPY_MODEL_1f898984afc444e49b13dc17023418de",
       "outputs": [
        {
         "name": "stdout",
         "output_type": "stream",
         "text": "{'filename': 'data/bbc/business/001.txt'}\n\nad sales boost time warner profit quarterly profits at us media giant timewarner jumped to $1.13bn â£600m for the three months to december from $639m year-earlier the firm which is now one of the biggest investors in google benefited from sales of high-speed internet connections and higher advert sales timewarner said fourth quarter sales rose to $11.1bn from $10.9bn its profits were buoyed by one-off gains which offset profit dip at warner bros and less users for aol time warner said on friday that it now owns of search-engine google but its own internet business aol had has mixed fortunes it lost subscribers in the fourth quarter profits were lower than in the preceding three quarters however the company said aols underlying profit before exceptional items rose on the back of stronger internet advertising revenues it hopes to increase subscribers by offering the online service free to timewarner internet customers and will try to sign up aols existing customers for high-speed broadband timewarner also has to restate and results following probe by the us securities exchange commission sec which is close to concluding time warners fourth quarter profits were slightly better than analysts expectations but its film division saw profits slump to $284m helped by box-office flops alexander and catwoman sharp contrast to year-earlier when the third and final film in the lord_of_the_rings trilogy boosted results for the full-year timewarner posted profit of $3.36bn up from its performance while revenues grew to $42.09bn our financial performance was strong meeting or exceeding all of our full-year objectives and greatly enhancing our flexibility chairman and chief_executive richard parsons said for timewarner is projecting operating earnings growth of around and also expects higher revenue and wider profit margins timewarner is to restate its accounts as part of efforts to resolve an inquiry into aol by us market regulators it has already offered to pay $300m to settle charges in deal that is under review by the sec the company said it was unable to estimate the amount it needed to set aside for legal reserves which it previously set at $500m it intends to adjust the way it accounts for deal with german music publisher bertelsmanns purchase of stake in aol europe which it had reported as advertising revenue it will now book the sale of its stake in aol europe as loss on the value of that stake\n"
        }
       ]
      }
     },
     "5398c3203f294e11b8a00519d052663f": {
      "model_module": "@jupyter-widgets/base",
      "model_module_version": "1.2.0",
      "model_name": "LayoutModel",
      "state": {}
     },
     "5406392c76344d5792e38f0ef963b0ce": {
      "model_module": "@jupyter-widgets/output",
      "model_module_version": "1.0.0",
      "model_name": "OutputModel",
      "state": {
       "layout": "IPY_MODEL_665de1677c814f52a4b084e82d8c2878",
       "outputs": [
        {
         "name": "stdout",
         "output_type": "stream",
         "text": "ID: 70e7bd2f-b69a-4208-945e-0d107daea485\n\nMetadata: {'filename': 'data/bbc/business/226.txt'}\n\nmcdonalds to sponsor mtv show mcdonalds the worlds largest restaurant chain is to sponsor programme on music channel mtv as part of its latest youth market promotion the show advance warning highlights new talent and mtv reckons it will give mcdonalds access to nearly million homes in countries mcdonalds golden arches name and im loving it catchphrase will be used throughout the half-hour programme the move comes amid growing concerns about obesity in europe and the us the european union has called on the food industry to reduce the number of adverts aimed at young children warning that legislation would be introduced unless voluntary steps were taken in the us food group kraft is among firms that already have cut back on promoting sugar and fattening products to the young mcdonalds has also been taking steps to improve its junk food reputation revamping its menu and providing clients with health-related products such as pedometers as well as burgers like the big mac and quarter pounder with cheese the company now sells healthier options such as salads and fresh fruit chief_executive jim skinner attributed an increase in january worldwide sales to the vitality of our menu among other things hooking up with mtv is expected to add extra momentum to mcdonalds recent revival mtv which played key role in the emergence of the music video is to show advance warning on all of its channels across the world the programme can at present only been seen in the us where it has featured artists like british stars joss_stone and franz_ferdinand mcdonalds has targeted the youth market in the past with its advertisements signing up stars like jelly-legged dancer justin_timberlake and all-woman singing group destinys child\n\n[(4, 0.2849612236022949),\n (1, 0.24935834109783173),\n (6, 0.19333449006080627),\n (9, 0.13949696719646454),\n (8, 0.12418993562459946),\n (5, 0.00836983323097229),\n (7, 9.747652075020596e-05),\n (10, 7.284103048732504e-05),\n (2, 6.673431198578328e-05),\n (3, 5.224308551987633e-05)]\n"
        }
       ]
      }
     },
     "596c9f0a5ee54976b5c305733046eb20": {
      "model_module": "@jupyter-widgets/controls",
      "model_module_version": "1.5.0",
      "model_name": "VBoxModel",
      "state": {
       "_dom_classes": [
        "widget-interact"
       ],
       "children": [
        "IPY_MODEL_72c64a752960491d904da0ddbdf4798b",
        "IPY_MODEL_972d09b6a6024423a6de54b5f13114a5"
       ],
       "layout": "IPY_MODEL_c8473dedaa18462dbd9ed2df63cffc33"
      }
     },
     "5a47d5a539584cd7bbb3169fda2e907a": {
      "model_module": "@jupyter-widgets/base",
      "model_module_version": "1.2.0",
      "model_name": "LayoutModel",
      "state": {}
     },
     "5c718fb3a6c54077b79a5a284570c0e0": {
      "model_module": "@jupyter-widgets/controls",
      "model_module_version": "1.5.0",
      "model_name": "SliderStyleModel",
      "state": {
       "description_width": ""
      }
     },
     "5dd47c85142c4e8db4b4e27838057f65": {
      "model_module": "@jupyter-widgets/base",
      "model_module_version": "1.2.0",
      "model_name": "LayoutModel",
      "state": {}
     },
     "665de1677c814f52a4b084e82d8c2878": {
      "model_module": "@jupyter-widgets/base",
      "model_module_version": "1.2.0",
      "model_name": "LayoutModel",
      "state": {}
     },
     "676a37b257694524bc023f19f0ddc486": {
      "model_module": "@jupyter-widgets/base",
      "model_module_version": "1.2.0",
      "model_name": "LayoutModel",
      "state": {}
     },
     "67accd8003464d898c0bab79dd90ddc2": {
      "model_module": "@jupyter-widgets/output",
      "model_module_version": "1.0.0",
      "model_name": "OutputModel",
      "state": {
       "layout": "IPY_MODEL_d01abdd844094c9ca7ce2f9f4e442cfb",
       "outputs": [
        {
         "name": "stdout",
         "output_type": "stream",
         "text": "ID: 70e7bd2f-b69a-4208-945e-0d107daea485\n\nMetadata: {'filename': 'data/bbc/business/226.txt'}\n\nmcdonalds to sponsor mtv show mcdonalds the worlds largest restaurant chain is to sponsor programme on music channel mtv as part of its latest youth market promotion the show advance warning highlights new talent and mtv reckons it will give mcdonalds access to nearly million homes in countries mcdonalds golden arches name and im loving it catchphrase will be used throughout the half-hour programme the move comes amid growing concerns about obesity in europe and the us the european union has called on the food industry to reduce the number of adverts aimed at young children warning that legislation would be introduced unless voluntary steps were taken in the us food group kraft is among firms that already have cut back on promoting sugar and fattening products to the young mcdonalds has also been taking steps to improve its junk food reputation revamping its menu and providing clients with health-related products such as pedometers as well as burgers like the big mac and quarter pounder with cheese the company now sells healthier options such as salads and fresh fruit chief_executive jim skinner attributed an increase in january worldwide sales to the vitality of our menu among other things hooking up with mtv is expected to add extra momentum to mcdonalds recent revival mtv which played key role in the emergence of the music video is to show advance warning on all of its channels across the world the programme can at present only been seen in the us where it has featured artists like british stars joss_stone and franz_ferdinand mcdonalds has targeted the youth market in the past with its advertisements signing up stars like jelly-legged dancer justin_timberlake and all-woman singing group destinys child\n\n[(4, 0.2849612236022949),\n (1, 0.24935834109783173),\n (6, 0.19333449006080627),\n (9, 0.13949696719646454),\n (8, 0.12418993562459946),\n (5, 0.00836983323097229),\n (7, 9.747652075020596e-05),\n (10, 7.284103048732504e-05),\n (2, 6.673431198578328e-05),\n (3, 5.224308551987633e-05)]\n"
        }
       ]
      }
     },
     "680aadc6311a4aab8a86f87343d9fe3d": {
      "model_module": "@jupyter-widgets/base",
      "model_module_version": "1.2.0",
      "model_name": "LayoutModel",
      "state": {}
     },
     "68a3f95f1b4f4ef3912fa720b0495cb6": {
      "model_module": "@jupyter-widgets/base",
      "model_module_version": "1.2.0",
      "model_name": "LayoutModel",
      "state": {}
     },
     "690e8ae07de54a8ea2a962a07894566e": {
      "model_module": "@jupyter-widgets/controls",
      "model_module_version": "1.5.0",
      "model_name": "IntSliderModel",
      "state": {
       "description": "index",
       "layout": "IPY_MODEL_6fd580fb594e4fd89ce9b0bb19665a69",
       "max": 370,
       "style": "IPY_MODEL_6bc797c38d5044058070673ad92b21bb"
      }
     },
     "6bc797c38d5044058070673ad92b21bb": {
      "model_module": "@jupyter-widgets/controls",
      "model_module_version": "1.5.0",
      "model_name": "SliderStyleModel",
      "state": {
       "description_width": ""
      }
     },
     "6c64328a7d6b4433b0dd606a8b9dc44c": {
      "model_module": "@jupyter-widgets/base",
      "model_module_version": "1.2.0",
      "model_name": "LayoutModel",
      "state": {}
     },
     "6e2d7a2b5ae14a82bc6493af5230b988": {
      "model_module": "@jupyter-widgets/base",
      "model_module_version": "1.2.0",
      "model_name": "LayoutModel",
      "state": {}
     },
     "6fd580fb594e4fd89ce9b0bb19665a69": {
      "model_module": "@jupyter-widgets/base",
      "model_module_version": "1.2.0",
      "model_name": "LayoutModel",
      "state": {}
     },
     "711ddd4ec3f34ce59dae8a3f421ed0dd": {
      "model_module": "@jupyter-widgets/output",
      "model_module_version": "1.0.0",
      "model_name": "OutputModel",
      "state": {
       "layout": "IPY_MODEL_a1f16a1df61940cbad034131f93a388e",
       "outputs": [
        {
         "name": "stdout",
         "output_type": "stream",
         "text": "ID: 70e7bd2f-b69a-4208-945e-0d107daea485\n\nMetadata: {'filename': 'data/bbc/business/226.txt'}\n\nmcdonalds to sponsor mtv show mcdonalds the worlds largest restaurant chain is to sponsor programme on music channel mtv as part of its latest youth market promotion the show advance warning highlights new talent and mtv reckons it will give mcdonalds access to nearly million homes in countries mcdonalds golden arches name and im loving it catchphrase will be used throughout the half-hour programme the move comes amid growing concerns about obesity in europe and the us the european union has called on the food industry to reduce the number of adverts aimed at young children warning that legislation would be introduced unless voluntary steps were taken in the us food group kraft is among firms that already have cut back on promoting sugar and fattening products to the young mcdonalds has also been taking steps to improve its junk food reputation revamping its menu and providing clients with health-related products such as pedometers as well as burgers like the big mac and quarter pounder with cheese the company now sells healthier options such as salads and fresh fruit chief_executive jim skinner attributed an increase in january worldwide sales to the vitality of our menu among other things hooking up with mtv is expected to add extra momentum to mcdonalds recent revival mtv which played key role in the emergence of the music video is to show advance warning on all of its channels across the world the programme can at present only been seen in the us where it has featured artists like british stars joss_stone and franz_ferdinand mcdonalds has targeted the youth market in the past with its advertisements signing up stars like jelly-legged dancer justin_timberlake and all-woman singing group destinys child\n\n[(4, 0.2849612236022949),\n (1, 0.24935834109783173),\n (6, 0.19333449006080627),\n (9, 0.13949696719646454),\n (8, 0.12418993562459946),\n (5, 0.00836983323097229),\n (7, 9.747652075020596e-05),\n (10, 7.284103048732504e-05),\n (2, 6.673431198578328e-05),\n (3, 5.224308551987633e-05)]\n"
        }
       ]
      }
     },
     "72c64a752960491d904da0ddbdf4798b": {
      "model_module": "@jupyter-widgets/controls",
      "model_module_version": "1.5.0",
      "model_name": "IntSliderModel",
      "state": {
       "description": "doc_id",
       "layout": "IPY_MODEL_4df391293247441dba818e14d38af8ea",
       "max": 2224,
       "style": "IPY_MODEL_4a3ed32352254eeebe3368a117a9a382"
      }
     },
     "74d79716b3b0483b8efc190a77f151de": {
      "model_module": "@jupyter-widgets/base",
      "model_module_version": "1.2.0",
      "model_name": "LayoutModel",
      "state": {}
     },
     "77194e0350834514adcf86e232f0a31a": {
      "model_module": "@jupyter-widgets/output",
      "model_module_version": "1.0.0",
      "model_name": "OutputModel",
      "state": {
       "layout": "IPY_MODEL_676a37b257694524bc023f19f0ddc486",
       "outputs": [
        {
         "name": "stdout",
         "output_type": "stream",
         "text": "ID: 70e7bd2f-b69a-4208-945e-0d107daea485\n\nMetadata: {'filename': 'data/bbc/business/226.txt'}\n\nmcdonalds to sponsor mtv show mcdonalds the worlds largest restaurant chain is to sponsor programme on music channel mtv as part of its latest youth market promotion the show advance warning highlights new talent and mtv reckons it will give mcdonalds access to nearly million homes in countries mcdonalds golden arches name and im loving it catchphrase will be used throughout the half-hour programme the move comes amid growing concerns about obesity in europe and the us the european union has called on the food industry to reduce the number of adverts aimed at young children warning that legislation would be introduced unless voluntary steps were taken in the us food group kraft is among firms that already have cut back on promoting sugar and fattening products to the young mcdonalds has also been taking steps to improve its junk food reputation revamping its menu and providing clients with health-related products such as pedometers as well as burgers like the big mac and quarter pounder with cheese the company now sells healthier options such as salads and fresh fruit chief_executive jim skinner attributed an increase in january worldwide sales to the vitality of our menu among other things hooking up with mtv is expected to add extra momentum to mcdonalds recent revival mtv which played key role in the emergence of the music video is to show advance warning on all of its channels across the world the programme can at present only been seen in the us where it has featured artists like british stars joss_stone and franz_ferdinand mcdonalds has targeted the youth market in the past with its advertisements signing up stars like jelly-legged dancer justin_timberlake and all-woman singing group destinys child\n\n[(4, 0.2849612236022949),\n (1, 0.24935834109783173),\n (6, 0.19333449006080627),\n (9, 0.13949696719646454),\n (8, 0.12418993562459946),\n (5, 0.00836983323097229),\n (7, 9.747652075020596e-05),\n (10, 7.284103048732504e-05),\n (2, 6.673431198578328e-05),\n (3, 5.224308551987633e-05)]\n"
        }
       ]
      }
     },
     "792266eafff642f08f0368a1d69f52af": {
      "model_module": "@jupyter-widgets/base",
      "model_module_version": "1.2.0",
      "model_name": "LayoutModel",
      "state": {}
     },
     "7ee0cce1eda8470caabe7835136e5f3a": {
      "model_module": "@jupyter-widgets/base",
      "model_module_version": "1.2.0",
      "model_name": "LayoutModel",
      "state": {}
     },
     "7f8e44ba6e234d9d99549134f6979904": {
      "model_module": "@jupyter-widgets/base",
      "model_module_version": "1.2.0",
      "model_name": "LayoutModel",
      "state": {}
     },
     "81a27238f01b4ef5ad29b75dce2d4e41": {
      "model_module": "@jupyter-widgets/base",
      "model_module_version": "1.2.0",
      "model_name": "LayoutModel",
      "state": {}
     },
     "853d9fa3e3f0408ea6ff1747246a44df": {
      "model_module": "@jupyter-widgets/output",
      "model_module_version": "1.0.0",
      "model_name": "OutputModel",
      "state": {
       "layout": "IPY_MODEL_6c64328a7d6b4433b0dd606a8b9dc44c",
       "outputs": [
        {
         "name": "stdout",
         "output_type": "stream",
         "text": "ID: 70e7bd2f-b69a-4208-945e-0d107daea485\n\nMetadata: {'filename': 'data/bbc/business/226.txt'}\n\nmcdonalds to sponsor mtv show mcdonalds the worlds largest restaurant chain is to sponsor programme on music channel mtv as part of its latest youth market promotion the show advance warning highlights new talent and mtv reckons it will give mcdonalds access to nearly million homes in countries mcdonalds golden arches name and im loving it catchphrase will be used throughout the half-hour programme the move comes amid growing concerns about obesity in europe and the us the european union has called on the food industry to reduce the number of adverts aimed at young children warning that legislation would be introduced unless voluntary steps were taken in the us food group kraft is among firms that already have cut back on promoting sugar and fattening products to the young mcdonalds has also been taking steps to improve its junk food reputation revamping its menu and providing clients with health-related products such as pedometers as well as burgers like the big mac and quarter pounder with cheese the company now sells healthier options such as salads and fresh fruit chief_executive jim skinner attributed an increase in january worldwide sales to the vitality of our menu among other things hooking up with mtv is expected to add extra momentum to mcdonalds recent revival mtv which played key role in the emergence of the music video is to show advance warning on all of its channels across the world the programme can at present only been seen in the us where it has featured artists like british stars joss_stone and franz_ferdinand mcdonalds has targeted the youth market in the past with its advertisements signing up stars like jelly-legged dancer justin_timberlake and all-woman singing group destinys child\n\n[(4, 0.2849612236022949),\n (1, 0.24935834109783173),\n (6, 0.19333449006080627),\n (9, 0.13949696719646454),\n (8, 0.12418993562459946),\n (5, 0.00836983323097229),\n (7, 9.747652075020596e-05),\n (10, 7.284103048732504e-05),\n (2, 6.673431198578328e-05),\n (3, 5.224308551987633e-05)]\n"
        }
       ]
      }
     },
     "86c381f1f5fd48baafaadd49828f41d8": {
      "model_module": "@jupyter-widgets/controls",
      "model_module_version": "1.5.0",
      "model_name": "IntSliderModel",
      "state": {
       "description": "index",
       "layout": "IPY_MODEL_2a8c772c816c4759b5e483dc11a30e37",
       "max": 370,
       "style": "IPY_MODEL_113de4bd821446a8ae532669209ad667"
      }
     },
     "8ccb4b4346004a5bbb8f5aabb1bcdef7": {
      "model_module": "@jupyter-widgets/base",
      "model_module_version": "1.2.0",
      "model_name": "LayoutModel",
      "state": {}
     },
     "8d795a6ebabf4a5ebdf4ddb9e6aa5cd0": {
      "model_module": "@jupyter-widgets/controls",
      "model_module_version": "1.5.0",
      "model_name": "SliderStyleModel",
      "state": {
       "description_width": ""
      }
     },
     "92ea53d097714c179d9aeebdc0d97c6b": {
      "model_module": "@jupyter-widgets/controls",
      "model_module_version": "1.5.0",
      "model_name": "IntSliderModel",
      "state": {
       "description": "index",
       "layout": "IPY_MODEL_cb6837459fd747f3a8d3429af143b519",
       "max": 370,
       "style": "IPY_MODEL_0300157e7e12417f9f4234fcd0e3219f"
      }
     },
     "9636b5d65c6c45df80d319d5ae4775a8": {
      "model_module": "@jupyter-widgets/controls",
      "model_module_version": "1.5.0",
      "model_name": "IntSliderModel",
      "state": {
       "description": "doc_id",
       "layout": "IPY_MODEL_13eb7efb1d294d8390b86540aaaeeb07",
       "max": 2224,
       "style": "IPY_MODEL_0176bce07868479ba1260626d7e96ae2"
      }
     },
     "963c8fb4d7e24e14b38a4ef5f44001e5": {
      "model_module": "@jupyter-widgets/output",
      "model_module_version": "1.0.0",
      "model_name": "OutputModel",
      "state": {
       "layout": "IPY_MODEL_c7609d692cbd4e8e967cb8cbd2357b69",
       "outputs": [
        {
         "name": "stdout",
         "output_type": "stream",
         "text": "{'filename': 'data/bbc/business/001.txt'}\n\nad sales boost time warner profit quarterly profits at us media giant timewarner jumped 76% to $1.13bn â£600m for the three months to december from $639m year-earlier the firm which is now one of the biggest investors in google benefited from sales of high-speed internet connections and higher advert sales timewarner said fourth quarter sales rose 2% to $11.1bn from $10.9bn its profits were buoyed by one-off gains which offset a profit dip at warner bros and less users for aol time warner said on friday that it now owns 8% of search-engine google but its own internet business aol had has mixed fortunes it lost 464,000 subscribers in the fourth quarter profits were lower than in the preceding three quarters however the company said aols underlying profit before exceptional items rose 8% on the back of stronger internet advertising revenues it hopes to increase subscribers by offering the online service free to timewarner internet customers and will try to sign up aols existing customers for high-speed broadband timewarner also has to restate 2000 and 2003 results following a probe by the us securities exchange commission sec which is close to concluding time warners fourth quarter profits were slightly better than analysts expectations but its film division saw profits slump 27% to $284m helped by box-office flops alexander and catwoman a sharp contrast to year-earlier when the third and final film in the lord_of_the_rings trilogy boosted results for the full-year timewarner posted a profit of $3.36bn up 27% from its 2003 performance while revenues grew 6.4% to $42.09bn our financial performance was strong meeting or exceeding all of our full-year objectives and greatly enhancing our flexibility chairman and chief_executive richard parsons said for 2005 timewarner is projecting operating earnings growth of around 5% and also expects higher revenue and wider profit margins timewarner is to restate its accounts as part of efforts to resolve an inquiry into aol by us market regulators it has already offered to pay $300m to settle charges in a deal that is under review by the sec the company said it was unable to estimate the amount it needed to set aside for legal reserves which it previously set at $500m it intends to adjust the way it accounts for a deal with german music publisher bertelsmanns purchase of a stake in aol europe which it had reported as advertising revenue it will now book the sale of its stake in aol europe as a loss on the value of that stake\n"
        }
       ]
      }
     },
     "972d09b6a6024423a6de54b5f13114a5": {
      "model_module": "@jupyter-widgets/output",
      "model_module_version": "1.0.0",
      "model_name": "OutputModel",
      "state": {
       "layout": "IPY_MODEL_6e2d7a2b5ae14a82bc6493af5230b988",
       "outputs": [
        {
         "name": "stdout",
         "output_type": "stream",
         "text": "{'filename': 'data/bbc/business/001.txt'}\n\nad sales boost time warner profit quarterly profits at us media giant timewarner jumped 76% to $1.13bn â£600m for the three months to december from $639m year-earlier the firm which is now one of the biggest investors in google benefited from sales of high-speed internet connections and higher advert sales timewarner said fourth quarter sales rose 2% to $11.1bn from $10.9bn its profits were buoyed by one-off gains which offset a profit dip at warner bros and less users for aol time warner said on friday that it now owns 8% of search-engine google but its own internet business aol had has mixed fortunes it lost 464,000 subscribers in the fourth quarter profits were lower than in the preceding three quarters however the company said aols underlying profit before exceptional items rose 8% on the back of stronger internet advertising revenues it hopes to increase subscribers by offering the online service free to timewarner internet customers and will try to sign up aols existing customers for high-speed broadband timewarner also has to restate 2000 and 2003 results following a probe by the us securities exchange commission sec which is close to concluding time warners fourth quarter profits were slightly better than analysts expectations but its film division saw profits slump 27% to $284m helped by box-office flops alexander and catwoman a sharp contrast to year-earlier when the third and final film in the lord of the rings trilogy boosted results for the full-year timewarner posted a profit of $3.36bn up 27% from its 2003 performance while revenues grew 6.4% to $42.09bn our financial performance was strong meeting or exceeding all of our full-year objectives and greatly enhancing our flexibility chairman and chief executive richard parsons said for 2005 timewarner is projecting operating earnings growth of around 5% and also expects higher revenue and wider profit margins timewarner is to restate its accounts as part of efforts to resolve an inquiry into aol by us market regulators it has already offered to pay $300m to settle charges in a deal that is under review by the sec the company said it was unable to estimate the amount it needed to set aside for legal reserves which it previously set at $500m it intends to adjust the way it accounts for a deal with german music publisher bertelsmanns purchase of a stake in aol europe which it had reported as advertising revenue it will now book the sale of its stake in aol europe as a loss on the value of that stake\n"
        }
       ]
      }
     },
     "99eddf6331cd43acadcbc4fb4e92c93c": {
      "model_module": "@jupyter-widgets/base",
      "model_module_version": "1.2.0",
      "model_name": "LayoutModel",
      "state": {}
     },
     "9aa7a1095dfa4ba1ac4da58f6ee815fa": {
      "model_module": "@jupyter-widgets/controls",
      "model_module_version": "1.5.0",
      "model_name": "SliderStyleModel",
      "state": {
       "description_width": ""
      }
     },
     "9ec89b76e50e4dd485f92e5910d6940c": {
      "model_module": "@jupyter-widgets/base",
      "model_module_version": "1.2.0",
      "model_name": "LayoutModel",
      "state": {}
     },
     "9ed5f929f05949ca81047f3a84ae1e84": {
      "model_module": "@jupyter-widgets/base",
      "model_module_version": "1.2.0",
      "model_name": "LayoutModel",
      "state": {}
     },
     "9ff4b57b808a4e0b9e7f60a8a6cb5aff": {
      "model_module": "@jupyter-widgets/controls",
      "model_module_version": "1.5.0",
      "model_name": "VBoxModel",
      "state": {
       "_dom_classes": [
        "widget-interact"
       ],
       "children": [
        "IPY_MODEL_2687dafe6bdd4989aefa5fbcbdadabbb",
        "IPY_MODEL_a6218002477e49109859d0f09dddf9ec"
       ],
       "layout": "IPY_MODEL_8ccb4b4346004a5bbb8f5aabb1bcdef7"
      }
     },
     "a1f16a1df61940cbad034131f93a388e": {
      "model_module": "@jupyter-widgets/base",
      "model_module_version": "1.2.0",
      "model_name": "LayoutModel",
      "state": {}
     },
     "a4811226021146e9b9cde3ad3284c05a": {
      "model_module": "@jupyter-widgets/controls",
      "model_module_version": "1.5.0",
      "model_name": "VBoxModel",
      "state": {
       "_dom_classes": [
        "widget-interact"
       ],
       "children": [
        "IPY_MODEL_aa3e4a64c9ec4283a5a18ac49a1fcea5",
        "IPY_MODEL_67accd8003464d898c0bab79dd90ddc2"
       ],
       "layout": "IPY_MODEL_5398c3203f294e11b8a00519d052663f"
      }
     },
     "a6218002477e49109859d0f09dddf9ec": {
      "model_module": "@jupyter-widgets/output",
      "model_module_version": "1.0.0",
      "model_name": "OutputModel",
      "state": {
       "layout": "IPY_MODEL_74d79716b3b0483b8efc190a77f151de",
       "outputs": [
        {
         "name": "stdout",
         "output_type": "stream",
         "text": "ID: 70e7bd2f-b69a-4208-945e-0d107daea485\n\nMetadata: {'filename': 'data/bbc/business/226.txt'}\n\nmcdonalds to sponsor mtv show mcdonalds the worlds largest restaurant chain is to sponsor programme on music channel mtv as part of its latest youth market promotion the show advance warning highlights new talent and mtv reckons it will give mcdonalds access to nearly million homes in countries mcdonalds golden arches name and im loving it catchphrase will be used throughout the half-hour programme the move comes amid growing concerns about obesity in europe and the us the european union has called on the food industry to reduce the number of adverts aimed at young children warning that legislation would be introduced unless voluntary steps were taken in the us food group kraft is among firms that already have cut back on promoting sugar and fattening products to the young mcdonalds has also been taking steps to improve its junk food reputation revamping its menu and providing clients with health-related products such as pedometers as well as burgers like the big mac and quarter pounder with cheese the company now sells healthier options such as salads and fresh fruit chief_executive jim skinner attributed an increase in january worldwide sales to the vitality of our menu among other things hooking up with mtv is expected to add extra momentum to mcdonalds recent revival mtv which played key role in the emergence of the music video is to show advance warning on all of its channels across the world the programme can at present only been seen in the us where it has featured artists like british stars joss_stone and franz_ferdinand mcdonalds has targeted the youth market in the past with its advertisements signing up stars like jelly-legged dancer justin_timberlake and all-woman singing group destinys child\n\n[(4, 0.2849612236022949),\n (1, 0.24935834109783173),\n (6, 0.19333449006080627),\n (9, 0.13949696719646454),\n (8, 0.12418993562459946),\n (5, 0.00836983323097229),\n (7, 9.747652075020596e-05),\n (10, 7.284103048732504e-05),\n (2, 6.673431198578328e-05),\n (3, 5.224308551987633e-05)]\n"
        }
       ]
      }
     },
     "a9701323f66e4b778123e91cd12c71a2": {
      "model_module": "@jupyter-widgets/output",
      "model_module_version": "1.0.0",
      "model_name": "OutputModel",
      "state": {
       "layout": "IPY_MODEL_99eddf6331cd43acadcbc4fb4e92c93c",
       "outputs": [
        {
         "name": "stdout",
         "output_type": "stream",
         "text": "ID: 70e7bd2f-b69a-4208-945e-0d107daea485\n\nMetadata: {'filename': 'data/bbc/business/226.txt'}\n\nmcdonalds to sponsor mtv show mcdonalds the worlds largest restaurant chain is to sponsor programme on music channel mtv as part of its latest youth market promotion the show advance warning highlights new talent and mtv reckons it will give mcdonalds access to nearly million homes in countries mcdonalds golden arches name and im loving it catchphrase will be used throughout the half-hour programme the move comes amid growing concerns about obesity in europe and the us the european union has called on the food industry to reduce the number of adverts aimed at young children warning that legislation would be introduced unless voluntary steps were taken in the us food group kraft is among firms that already have cut back on promoting sugar and fattening products to the young mcdonalds has also been taking steps to improve its junk food reputation revamping its menu and providing clients with health-related products such as pedometers as well as burgers like the big mac and quarter pounder with cheese the company now sells healthier options such as salads and fresh fruit chief_executive jim skinner attributed an increase in january worldwide sales to the vitality of our menu among other things hooking up with mtv is expected to add extra momentum to mcdonalds recent revival mtv which played key role in the emergence of the music video is to show advance warning on all of its channels across the world the programme can at present only been seen in the us where it has featured artists like british stars joss_stone and franz_ferdinand mcdonalds has targeted the youth market in the past with its advertisements signing up stars like jelly-legged dancer justin_timberlake and all-woman singing group destinys child\n\n[(4, 0.2849612236022949),\n (1, 0.24935834109783173),\n (6, 0.19333449006080627),\n (9, 0.13949696719646454),\n (8, 0.12418993562459946),\n (5, 0.00836983323097229),\n (7, 9.747652075020596e-05),\n (10, 7.284103048732504e-05),\n (2, 6.673431198578328e-05),\n (3, 5.224308551987633e-05)]\n"
        }
       ]
      }
     },
     "aa3e4a64c9ec4283a5a18ac49a1fcea5": {
      "model_module": "@jupyter-widgets/controls",
      "model_module_version": "1.5.0",
      "model_name": "IntSliderModel",
      "state": {
       "description": "index",
       "layout": "IPY_MODEL_bc0a346acaaf476abf6bddc9f382bb09",
       "max": 370,
       "style": "IPY_MODEL_8d795a6ebabf4a5ebdf4ddb9e6aa5cd0"
      }
     },
     "ac9870e55ac9466ab89e81e51cfb483e": {
      "model_module": "@jupyter-widgets/controls",
      "model_module_version": "1.5.0",
      "model_name": "VBoxModel",
      "state": {
       "_dom_classes": [
        "widget-interact"
       ],
       "children": [
        "IPY_MODEL_1c90c756572546b39e4ed98007b8f9b7",
        "IPY_MODEL_20e610f9f2ba427eaec9ddd66fabe88c"
       ],
       "layout": "IPY_MODEL_d1eb5380941e481b8566a93f262469a8"
      }
     },
     "b415818be16844599eff6bdc7ce5a552": {
      "model_module": "@jupyter-widgets/base",
      "model_module_version": "1.2.0",
      "model_name": "LayoutModel",
      "state": {}
     },
     "b5cc154c0da84a9b95e463fe55e0d966": {
      "model_module": "@jupyter-widgets/base",
      "model_module_version": "1.2.0",
      "model_name": "LayoutModel",
      "state": {}
     },
     "b9c33785b61548ef87e856bb3837a691": {
      "model_module": "@jupyter-widgets/controls",
      "model_module_version": "1.5.0",
      "model_name": "VBoxModel",
      "state": {
       "_dom_classes": [
        "widget-interact"
       ],
       "children": [
        "IPY_MODEL_e869e4e60b134cb5bb722830e5852d55",
        "IPY_MODEL_711ddd4ec3f34ce59dae8a3f421ed0dd"
       ],
       "layout": "IPY_MODEL_0f94827cc4b34197bced92a6a4c7117e"
      }
     },
     "bafdf5178bda4f7e8d6359d3f6585707": {
      "model_module": "@jupyter-widgets/controls",
      "model_module_version": "1.5.0",
      "model_name": "SliderStyleModel",
      "state": {
       "description_width": ""
      }
     },
     "bb6adc68372249d19d80228eca6bc67f": {
      "model_module": "@jupyter-widgets/controls",
      "model_module_version": "1.5.0",
      "model_name": "SliderStyleModel",
      "state": {
       "description_width": ""
      }
     },
     "bc0a346acaaf476abf6bddc9f382bb09": {
      "model_module": "@jupyter-widgets/base",
      "model_module_version": "1.2.0",
      "model_name": "LayoutModel",
      "state": {}
     },
     "bc3c0ab7399b4b16b5d34f7b6307998b": {
      "model_module": "@jupyter-widgets/controls",
      "model_module_version": "1.5.0",
      "model_name": "VBoxModel",
      "state": {
       "_dom_classes": [
        "widget-interact"
       ],
       "children": [
        "IPY_MODEL_e4e663e13b1c4bb4a38edf7e816b4937",
        "IPY_MODEL_300ddb0791ce4396893229818dff50e8"
       ],
       "layout": "IPY_MODEL_363d527b513e4ffab5f46f0a9cc2737b"
      }
     },
     "bc72a3b223dd433bac301f7650a3d020": {
      "model_module": "@jupyter-widgets/base",
      "model_module_version": "1.2.0",
      "model_name": "LayoutModel",
      "state": {}
     },
     "bcfcae1962bd4734bacbf0b83a089f98": {
      "model_module": "@jupyter-widgets/controls",
      "model_module_version": "1.5.0",
      "model_name": "IntSliderModel",
      "state": {
       "description": "index",
       "layout": "IPY_MODEL_fd4cb062a3384a66a2ce950974cee62d",
       "max": 370,
       "style": "IPY_MODEL_02c1b6343730431086b372ca058d19e7"
      }
     },
     "c379bbdba72347b7907066413e2878ca": {
      "model_module": "@jupyter-widgets/base",
      "model_module_version": "1.2.0",
      "model_name": "LayoutModel",
      "state": {}
     },
     "c5cdae633e8d419f8e138445d94e8bbc": {
      "model_module": "@jupyter-widgets/controls",
      "model_module_version": "1.5.0",
      "model_name": "SliderStyleModel",
      "state": {
       "description_width": ""
      }
     },
     "c7609d692cbd4e8e967cb8cbd2357b69": {
      "model_module": "@jupyter-widgets/base",
      "model_module_version": "1.2.0",
      "model_name": "LayoutModel",
      "state": {}
     },
     "c7bc15d005d347e5923bea1b4d0a6350": {
      "model_module": "@jupyter-widgets/base",
      "model_module_version": "1.2.0",
      "model_name": "LayoutModel",
      "state": {}
     },
     "c8473dedaa18462dbd9ed2df63cffc33": {
      "model_module": "@jupyter-widgets/base",
      "model_module_version": "1.2.0",
      "model_name": "LayoutModel",
      "state": {}
     },
     "cb6837459fd747f3a8d3429af143b519": {
      "model_module": "@jupyter-widgets/base",
      "model_module_version": "1.2.0",
      "model_name": "LayoutModel",
      "state": {}
     },
     "cb8ffac899fd49f4aec81b8369f050c7": {
      "model_module": "@jupyter-widgets/controls",
      "model_module_version": "1.5.0",
      "model_name": "VBoxModel",
      "state": {
       "_dom_classes": [
        "widget-interact"
       ],
       "children": [
        "IPY_MODEL_de5d3f08b9074881a025fa4f71dbbbdd",
        "IPY_MODEL_108053295dc54fe49e7eadc10584e6e3"
       ],
       "layout": "IPY_MODEL_d95bc8ea2fd64c45b0f88334689684fe"
      }
     },
     "d01abdd844094c9ca7ce2f9f4e442cfb": {
      "model_module": "@jupyter-widgets/base",
      "model_module_version": "1.2.0",
      "model_name": "LayoutModel",
      "state": {}
     },
     "d1eb5380941e481b8566a93f262469a8": {
      "model_module": "@jupyter-widgets/base",
      "model_module_version": "1.2.0",
      "model_name": "LayoutModel",
      "state": {}
     },
     "d4b17d6dfa9d4bd5bfa4d4cffcffbaac": {
      "model_module": "@jupyter-widgets/controls",
      "model_module_version": "1.5.0",
      "model_name": "VBoxModel",
      "state": {
       "_dom_classes": [
        "widget-interact"
       ],
       "children": [
        "IPY_MODEL_10beea248e3742c6b7318631de3c5ad7",
        "IPY_MODEL_2896be96c96347bf817db5ecbe5c71de"
       ],
       "layout": "IPY_MODEL_7ee0cce1eda8470caabe7835136e5f3a"
      }
     },
     "d7067719fd6141a4aea97be115bd8f95": {
      "model_module": "@jupyter-widgets/base",
      "model_module_version": "1.2.0",
      "model_name": "LayoutModel",
      "state": {}
     },
     "d95bc8ea2fd64c45b0f88334689684fe": {
      "model_module": "@jupyter-widgets/base",
      "model_module_version": "1.2.0",
      "model_name": "LayoutModel",
      "state": {}
     },
     "db82671388d349079324a42ea2dc8935": {
      "model_module": "@jupyter-widgets/base",
      "model_module_version": "1.2.0",
      "model_name": "LayoutModel",
      "state": {}
     },
     "de5d3f08b9074881a025fa4f71dbbbdd": {
      "model_module": "@jupyter-widgets/controls",
      "model_module_version": "1.5.0",
      "model_name": "IntSliderModel",
      "state": {
       "description": "index",
       "layout": "IPY_MODEL_08810c03c35340c0965aed0f2aefc885",
       "max": 370,
       "style": "IPY_MODEL_1853fc5fe063493d8b639352ab0b91ed"
      }
     },
     "e37ee7c75e744b6dbf4875ba5098d4c6": {
      "model_module": "@jupyter-widgets/controls",
      "model_module_version": "1.5.0",
      "model_name": "VBoxModel",
      "state": {
       "_dom_classes": [
        "widget-interact"
       ],
       "children": [
        "IPY_MODEL_86c381f1f5fd48baafaadd49828f41d8",
        "IPY_MODEL_fee91fba8f484fc38bf46d3fe1a51627"
       ],
       "layout": "IPY_MODEL_019fcbf53c834bf0b0154c872987adea"
      }
     },
     "e38c166b15e04cfc9569311a58384afa": {
      "model_module": "@jupyter-widgets/controls",
      "model_module_version": "1.5.0",
      "model_name": "VBoxModel",
      "state": {
       "_dom_classes": [
        "widget-interact"
       ],
       "children": [
        "IPY_MODEL_0272c9fb99e5482f81cfbf00b10d24d1",
        "IPY_MODEL_a9701323f66e4b778123e91cd12c71a2"
       ],
       "layout": "IPY_MODEL_5dd47c85142c4e8db4b4e27838057f65"
      }
     },
     "e4e663e13b1c4bb4a38edf7e816b4937": {
      "model_module": "@jupyter-widgets/controls",
      "model_module_version": "1.5.0",
      "model_name": "IntSliderModel",
      "state": {
       "description": "doc_id",
       "layout": "IPY_MODEL_0f6858aff9a6418893b5db2b75af667d",
       "max": 2224,
       "style": "IPY_MODEL_c5cdae633e8d419f8e138445d94e8bbc"
      }
     },
     "e869e4e60b134cb5bb722830e5852d55": {
      "model_module": "@jupyter-widgets/controls",
      "model_module_version": "1.5.0",
      "model_name": "IntSliderModel",
      "state": {
       "description": "index",
       "layout": "IPY_MODEL_5a47d5a539584cd7bbb3169fda2e907a",
       "max": 370,
       "style": "IPY_MODEL_4a8c30b2cc3d46f0bf7c61fdcb53cf9a"
      }
     },
     "f49a8783e5f04b40a0cddba92fe96f85": {
      "model_module": "@jupyter-widgets/controls",
      "model_module_version": "1.5.0",
      "model_name": "VBoxModel",
      "state": {
       "_dom_classes": [
        "widget-interact"
       ],
       "children": [
        "IPY_MODEL_690e8ae07de54a8ea2a962a07894566e",
        "IPY_MODEL_48016a552ad042d2bb8d1559c5c18465"
       ],
       "layout": "IPY_MODEL_b415818be16844599eff6bdc7ce5a552"
      }
     },
     "f5312b7de1c04925b4cae035683b64fd": {
      "model_module": "@jupyter-widgets/controls",
      "model_module_version": "1.5.0",
      "model_name": "SliderStyleModel",
      "state": {
       "description_width": ""
      }
     },
     "fd4cb062a3384a66a2ce950974cee62d": {
      "model_module": "@jupyter-widgets/base",
      "model_module_version": "1.2.0",
      "model_name": "LayoutModel",
      "state": {}
     },
     "fee91fba8f484fc38bf46d3fe1a51627": {
      "model_module": "@jupyter-widgets/output",
      "model_module_version": "1.0.0",
      "model_name": "OutputModel",
      "state": {
       "layout": "IPY_MODEL_bc72a3b223dd433bac301f7650a3d020",
       "outputs": [
        {
         "name": "stdout",
         "output_type": "stream",
         "text": "ID: 70e7bd2f-b69a-4208-945e-0d107daea485\n\nMetadata: {'filename': 'data/bbc/business/226.txt'}\n\nmcdonalds to sponsor mtv show mcdonalds the worlds largest restaurant chain is to sponsor programme on music channel mtv as part of its latest youth market promotion the show advance warning highlights new talent and mtv reckons it will give mcdonalds access to nearly million homes in countries mcdonalds golden arches name and im loving it catchphrase will be used throughout the half-hour programme the move comes amid growing concerns about obesity in europe and the us the european union has called on the food industry to reduce the number of adverts aimed at young children warning that legislation would be introduced unless voluntary steps were taken in the us food group kraft is among firms that already have cut back on promoting sugar and fattening products to the young mcdonalds has also been taking steps to improve its junk food reputation revamping its menu and providing clients with health-related products such as pedometers as well as burgers like the big mac and quarter pounder with cheese the company now sells healthier options such as salads and fresh fruit chief_executive jim skinner attributed an increase in january worldwide sales to the vitality of our menu among other things hooking up with mtv is expected to add extra momentum to mcdonalds recent revival mtv which played key role in the emergence of the music video is to show advance warning on all of its channels across the world the programme can at present only been seen in the us where it has featured artists like british stars joss_stone and franz_ferdinand mcdonalds has targeted the youth market in the past with its advertisements signing up stars like jelly-legged dancer justin_timberlake and all-woman singing group destinys child\n\n[(4, 0.2849612236022949),\n (1, 0.24935834109783173),\n (6, 0.19333449006080627),\n (9, 0.13949696719646454),\n (8, 0.12418993562459946),\n (5, 0.00836983323097229),\n (7, 9.747652075020596e-05),\n (10, 7.284103048732504e-05),\n (2, 6.673431198578328e-05),\n (3, 5.224308551987633e-05)]\n"
        }
       ]
      }
     }
    },
    "version_major": 2,
    "version_minor": 0
   }
  }
 },
 "nbformat": 4,
 "nbformat_minor": 4
}
