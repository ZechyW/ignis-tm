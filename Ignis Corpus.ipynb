{
 "cells": [
  {
   "cell_type": "markdown",
   "metadata": {},
   "source": [
    "Ignis: Corpus Preparation\n",
    "=========================="
   ]
  },
  {
   "cell_type": "markdown",
   "metadata": {},
   "source": [
    "## Configuration"
   ]
  },
  {
   "cell_type": "markdown",
   "metadata": {},
   "source": [
    "### Input/Output\n",
    "\n",
    "This notebook will process the specified `input_files` into the consolidated `output_file` in the main codebase folder."
   ]
  },
  {
   "cell_type": "code",
   "execution_count": 1,
   "metadata": {
    "ExecuteTime": {
     "end_time": "2021-06-01T14:18:16.069043Z",
     "start_time": "2021-06-01T14:18:16.041047Z"
    }
   },
   "outputs": [],
   "source": [
    "import glob\n",
    "\n",
    "input_files = glob.glob(\"data/bbc/*/*.txt\")"
   ]
  },
  {
   "cell_type": "markdown",
   "metadata": {},
   "source": [
    "To add files from other paths to the same corpus, uncomment and modify the code in the next cell to extend the `input_files` list."
   ]
  },
  {
   "cell_type": "code",
   "execution_count": 2,
   "metadata": {
    "ExecuteTime": {
     "end_time": "2021-06-01T14:18:16.084044Z",
     "start_time": "2021-06-01T14:18:16.072044Z"
    }
   },
   "outputs": [],
   "source": [
    "# input_files += glob.glob(\"some/other/path/*.txt\")\n",
    "# input_files += glob.glob(\"yet/another/path/*.txt\")"
   ]
  },
  {
   "cell_type": "code",
   "execution_count": 3,
   "metadata": {
    "ExecuteTime": {
     "end_time": "2021-06-01T14:18:16.099041Z",
     "start_time": "2021-06-01T14:18:16.086042Z"
    }
   },
   "outputs": [],
   "source": [
    "output_file = \"data/bbc.corpus\""
   ]
  },
  {
   "cell_type": "markdown",
   "metadata": {},
   "source": [
    "### Pre-tokenisation cleaning (Regex)\n",
    "\n",
    "Set these options to keep or remove email adddresses and/or URLs that are found in the documents before we split their textual content into individual tokens."
   ]
  },
  {
   "cell_type": "code",
   "execution_count": 4,
   "metadata": {
    "ExecuteTime": {
     "end_time": "2021-06-01T14:18:16.115045Z",
     "start_time": "2021-06-01T14:18:16.104042Z"
    }
   },
   "outputs": [],
   "source": [
    "remove_emails_regex = True\n",
    "remove_urls_regex = True"
   ]
  },
  {
   "cell_type": "markdown",
   "metadata": {},
   "source": [
    "### Automated n-gram detection\n",
    "\n",
    "The script can try to automatically chunk document tokens into multi-word phrases (\"n-grams\") based on collocation frequency.\n",
    "\n",
    "This process is controlled by the following parameters:\n",
    "\n",
    "- `ngram_min_count`: How many documents each n-gram minimally needs to appear in before being considered valid.\n",
    "\n",
    "- `ngram_scoring`: `\"default\"` or `\"npmi\"`.\n",
    "\n",
    "- `ngram_threshold`: Intuitively, a higher threshold means fewer phrases.\n",
    "  - With the default scorer, this is greater than or equal to 0; with the NPMI scorer, this is in the range `-1` to `1`.\n",
    "  - We want a relatively high threshold (e.g., `0.8` for NPMI scoring) so that we don't start littering spurious n-grams all over our corpus, diluting our results. E.g., we want _Lord of the Rings_, but not _slightly better than analysts_.\n",
    "\n",
    "- `ngram_connector_words`: These terms will be ignored if they come between normal words.\n",
    "  - E.g., if `ngram_connector_words` includes the word \"of\", then when the phraser sees \"Wheel of Fortune\" it actually evaluates _\"Wheel Fortune\"_ as an n-gram, putting \"of\" back in only at the output level to give _wheel_of_fortune_.\n",
    "\n",
    "Set the value of `ngram_iterations` to control how many iterations of the phrasing algorithm to run:\n",
    "1 iteration detects bigrams, 2 iterations detects trigrams, etc.\n",
    "\n",
    "To disable the automated phraser completely, set `ngram_iterations` to `0`."
   ]
  },
  {
   "cell_type": "code",
   "execution_count": 5,
   "metadata": {
    "ExecuteTime": {
     "end_time": "2021-06-01T14:18:16.131039Z",
     "start_time": "2021-06-01T14:18:16.121041Z"
    }
   },
   "outputs": [],
   "source": [
    "ngram_min_count = 5\n",
    "ngram_scoring = \"npmi\"\n",
    "ngram_threshold = 0.6\n",
    "ngram_connector_words = [\"a\", \"an\", \"the\", \"of\", \"on\", \"in\", \"at\"]\n",
    "ngram_iterations = 2"
   ]
  },
  {
   "cell_type": "markdown",
   "metadata": {},
   "source": [
    "### File-based stop word lists\n",
    "\n",
    "Each of the files referenced below should be a list of stop words/phrases (one per line).\n",
    "\n",
    "Blank lines and lines starting with a hash symbol (`#`) are ignored.\n",
    "\n",
    "Stop words can also be added or removed in real-time at the modelling stage, so the lists defined here do not need to be comprehensive."
   ]
  },
  {
   "cell_type": "code",
   "execution_count": 6,
   "metadata": {
    "ExecuteTime": {
     "end_time": "2021-06-01T14:18:16.147039Z",
     "start_time": "2021-06-01T14:18:16.133040Z"
    }
   },
   "outputs": [],
   "source": [
    "# Add or remove entries from the list below as necessary.\n",
    "stop_word_files = [\n",
    "    \"data/nltk-stopwords-en.txt\"\n",
    "]"
   ]
  },
  {
   "cell_type": "markdown",
   "metadata": {},
   "source": [
    "### Automated stop word detection\n",
    "\n",
    "The script employs an automated stop word detection system that can pick out potential stop words even if they are not within the file-based stop lists.\n",
    "\n",
    "The automated stop word detection system calculates the TF-IDF scores for each term within the corpus, then picks out the lowest `n` terms from each document as candidate stop words.\n",
    "\n",
    "For each candidate stop word, if it is within the lowest `n` terms for more than the threshold proportion of the documents, it is put on the final stop word list.\n",
    "\n",
    "- `n_lowest`: Number of terms with lowest TF-IDF scores to consider per document\n",
    "- `stop_list_proportion`: The proportion of all per-document stop word lists that each candidate has to appear in before it is considered a final stop word. (The higher the threshold, the fewer the number of stop words produced. If set to `1`, no stop words will be produced.)"
   ]
  },
  {
   "cell_type": "code",
   "execution_count": 7,
   "metadata": {
    "ExecuteTime": {
     "end_time": "2021-06-01T14:18:16.163039Z",
     "start_time": "2021-06-01T14:18:16.150043Z"
    }
   },
   "outputs": [],
   "source": [
    "n_lowest = 50\n",
    "stop_list_proportion = 0.35"
   ]
  },
  {
   "cell_type": "markdown",
   "metadata": {},
   "source": [
    "### Hapax legomena\n",
    "\n",
    "If `True`, will add hapax legomena (i.e., words that occur in only a single document in the entire corpus) to the stop word list."
   ]
  },
  {
   "cell_type": "code",
   "execution_count": 8,
   "metadata": {
    "ExecuteTime": {
     "end_time": "2021-06-01T14:18:16.178039Z",
     "start_time": "2021-06-01T14:18:16.165042Z"
    }
   },
   "outputs": [],
   "source": [
    "remove_hapax = True"
   ]
  },
  {
   "cell_type": "markdown",
   "metadata": {},
   "source": [
    "### Supplementary stop word list\n",
    "\n",
    "Any ad hoc stop words specific to this corpus can be appended directly to this list.\n",
    "\n",
    "As before, the stop words defined here need not be comprehensive."
   ]
  },
  {
   "cell_type": "code",
   "execution_count": 9,
   "metadata": {
    "ExecuteTime": {
     "end_time": "2021-06-01T14:18:16.194038Z",
     "start_time": "2021-06-01T14:18:16.180043Z"
    }
   },
   "outputs": [],
   "source": [
    "supplementary_stop_words = [\"mr\", \"could\"]"
   ]
  },
  {
   "cell_type": "markdown",
   "metadata": {},
   "source": [
    "### Whitelist\n",
    "\n",
    "Terms in this list will be unconditionally removed from the stop list generated by the options in the previous cells."
   ]
  },
  {
   "cell_type": "code",
   "execution_count": 10,
   "metadata": {
    "ExecuteTime": {
     "end_time": "2021-06-01T14:18:16.209043Z",
     "start_time": "2021-06-01T14:18:16.197047Z"
    }
   },
   "outputs": [],
   "source": [
    "whitelist = []"
   ]
  },
  {
   "cell_type": "markdown",
   "metadata": {},
   "source": [
    "### Corpus constraints\n",
    "\n",
    "The LDA algorithm does not work well with documents that are very short; `min_doc_tokens` sets the minimum length (in final tokens) that a document needs to be in order to be added to the corpus.\n",
    "\n",
    "Separately, if `remove_duplicates` is `True`, documents that have the same tokens **after processing** are treated as duplicates, and only one copy is kept.  N.B.: These documents might not necessarily have started as exact duplicates, as long as their final token lists end up being the same."
   ]
  },
  {
   "cell_type": "code",
   "execution_count": 11,
   "metadata": {
    "ExecuteTime": {
     "end_time": "2021-06-01T14:18:16.225046Z",
     "start_time": "2021-06-01T14:18:16.212044Z"
    }
   },
   "outputs": [],
   "source": [
    "min_doc_tokens = 5\n",
    "remove_duplicates = True"
   ]
  },
  {
   "cell_type": "markdown",
   "metadata": {},
   "source": [
    "### Lemmatisation\n",
    "\n",
    "The script can optionally attempt to lemmatise all document tokens using spaCy's English dictionary.\n",
    "\n",
    "Lemmatisation attempts to reduce all words to their basic form: E.g., `\"fly\"`, `\"flying\"`, `\"flew\"` and `\"flown\"` should all be lemmatised to the single root word `\"fly\"`.\n",
    "\n",
    "Because lemmatisation is a highly language-specific process, it only makes sense to use if the documents are actually in English."
   ]
  },
  {
   "cell_type": "code",
   "execution_count": 12,
   "metadata": {
    "ExecuteTime": {
     "end_time": "2021-06-01T14:18:16.241040Z",
     "start_time": "2021-06-01T14:18:16.227048Z"
    }
   },
   "outputs": [],
   "source": [
    "lemmatise_as_english = True"
   ]
  },
  {
   "cell_type": "markdown",
   "metadata": {},
   "source": [
    "## All set!\n",
    "\n",
    "When all the configuration options above have been set properly, select \"Cell\" -> \"Run All\" from the Jupyter Notebook menu to run the full corpus preparation script.\n",
    "\n",
    "A summary of the script's output will be generated in the last cell of this notebook upon successful completion."
   ]
  },
  {
   "cell_type": "markdown",
   "metadata": {},
   "source": [
    "----------"
   ]
  },
  {
   "cell_type": "code",
   "execution_count": 13,
   "metadata": {
    "ExecuteTime": {
     "end_time": "2021-06-01T14:18:16.723038Z",
     "start_time": "2021-06-01T14:18:16.243049Z"
    }
   },
   "outputs": [],
   "source": [
    "# General library imports\n",
    "import collections\n",
    "import json\n",
    "import pathlib\n",
    "import pprint\n",
    "import re\n",
    "\n",
    "from tqdm.auto import tqdm\n",
    "\n",
    "import ignis"
   ]
  },
  {
   "cell_type": "markdown",
   "metadata": {},
   "source": [
    "Data ingestion\n",
    "--------------------\n",
    "\n",
    "We will track the contents and filename of each document, then tokenise them all and feed them into an `ignis.Corpus` that will be saved.\n",
    "\n",
    "We should, by all accounts, actually be preparing a separate text cleaning function and running the raw text through it immediately, but this way we can see the effects of each step of the data cleaning."
   ]
  },
  {
   "cell_type": "code",
   "execution_count": 14,
   "metadata": {
    "ExecuteTime": {
     "end_time": "2021-06-01T14:18:16.738041Z",
     "start_time": "2021-06-01T14:18:16.725040Z"
    }
   },
   "outputs": [],
   "source": [
    "RawDocument = collections.namedtuple(\"RawDocument\", \"metadata, tokens, display_str\")"
   ]
  },
  {
   "cell_type": "code",
   "execution_count": 15,
   "metadata": {
    "ExecuteTime": {
     "end_time": "2021-06-01T14:18:17.153043Z",
     "start_time": "2021-06-01T14:18:16.740044Z"
    }
   },
   "outputs": [
    {
     "data": {
      "application/vnd.jupyter.widget-view+json": {
       "model_id": "5bf1ffe4d75844b38d7ff18727860608",
       "version_major": 2,
       "version_minor": 0
      },
      "text/plain": [
       "  0%|          | 0/2225 [00:00<?, ?it/s]"
      ]
     },
     "metadata": {},
     "output_type": "display_data"
    }
   ],
   "source": [
    "raw_docs = []\n",
    "for file in tqdm(input_files, miniters=1):\n",
    "    filename = pathlib.Path(file).as_posix()\n",
    "\n",
    "    metadata = {\"filename\": filename}\n",
    "\n",
    "    # Basic HTML conversion (we could just use the plain text as well, BeautifulSoup can parse it)\n",
    "    with open(file) as f:\n",
    "        tokens = f.read()\n",
    "        lines = [line for line in tokens.split(\"\\n\") if line != \"\"]\n",
    "\n",
    "        # Assume first line is the title\n",
    "        title = f\"<strong>{lines[0]}</strong>\"\n",
    "        paras = [f\"<p>{line}</p>\" for line in lines[1:]]\n",
    "        body = \"\\n\".join(paras)\n",
    "        display_str = f\"<html><body>{title}{body}</body></html>\"\n",
    "\n",
    "    raw_doc = RawDocument(metadata, tokens, display_str)\n",
    "\n",
    "    raw_docs.append(raw_doc)"
   ]
  },
  {
   "cell_type": "code",
   "execution_count": 16,
   "metadata": {
    "ExecuteTime": {
     "end_time": "2021-06-01T14:18:17.306039Z",
     "start_time": "2021-06-01T14:18:17.155041Z"
    }
   },
   "outputs": [
    {
     "name": "stdout",
     "output_type": "stream",
     "text": [
      "98 duplicate documents discarded before tokenisation.\n"
     ]
    }
   ],
   "source": [
    "# Simple deduplication, round 1\n",
    "if remove_duplicates:\n",
    "    seen_docs = set()\n",
    "    dupe_count = 0\n",
    "    deduped_docs = []\n",
    "    for doc in raw_docs:\n",
    "        if len(doc.tokens) == 0:\n",
    "            continue\n",
    "\n",
    "        # Cast the document tokens as a tuple so that we can use it as a deduplicating hash\n",
    "        doc_hash = tuple(doc.tokens)\n",
    "        if doc_hash in seen_docs:\n",
    "            # print(f\"Duplicate document: {doc[0]['filename']}\")\n",
    "            dupe_count += 1\n",
    "        else:\n",
    "            seen_docs.add(doc_hash)\n",
    "            deduped_docs.append(doc)\n",
    "\n",
    "    raw_docs = deduped_docs\n",
    "    print(f\"{dupe_count} duplicate documents discarded before tokenisation.\")"
   ]
  },
  {
   "cell_type": "markdown",
   "metadata": {},
   "source": [
    "Text pre-processing and tokenisation\n",
    "------"
   ]
  },
  {
   "cell_type": "markdown",
   "metadata": {},
   "source": [
    "### Pre-tokenisation cleaning\n",
    "- URLs/Emails"
   ]
  },
  {
   "cell_type": "code",
   "execution_count": 17,
   "metadata": {
    "ExecuteTime": {
     "end_time": "2021-06-01T14:18:17.382040Z",
     "start_time": "2021-06-01T14:18:17.308041Z"
    }
   },
   "outputs": [],
   "source": [
    "URL_REGEX = re.compile(\n",
    "    # protocol identifier\n",
    "    r\"(?:(?:(?:https?|ftp):)?//)\"\n",
    "    # user:pass authentication\n",
    "    r\"(?:\\S+(?::\\S*)?@)?\" r\"(?:\"\n",
    "    # IP address exclusion\n",
    "    # private & local networks\n",
    "    r\"(?!(?:10|127)(?:\\.\\d{1,3}){3})\"\n",
    "    r\"(?!(?:169\\.254|192\\.168)(?:\\.\\d{1,3}){2})\"\n",
    "    r\"(?!172\\.(?:1[6-9]|2\\d|3[0-1])(?:\\.\\d{1,3}){2})\"\n",
    "    # IP address dotted notation octets\n",
    "    # excludes loopback network 0.0.0.0\n",
    "    # excludes reserved space >= 224.0.0.0\n",
    "    # excludes network & broadcast addresses\n",
    "    # (first & last IP address of each class)\n",
    "    r\"(?:[1-9]\\d?|1\\d\\d|2[01]\\d|22[0-3])\"\n",
    "    r\"(?:\\.(?:1?\\d{1,2}|2[0-4]\\d|25[0-5])){2}\"\n",
    "    r\"(?:\\.(?:[1-9]\\d?|1\\d\\d|2[0-4]\\d|25[0-4]))\"\n",
    "    r\"|\"\n",
    "    # host & domain names, may end with dot\n",
    "    # can be replaced by a shortest alternative\n",
    "    # r\"(?![-_])(?:[-\\w\\u00a1-\\uffff]{0,63}[^-_]\\.)+\"\n",
    "    # r\"(?:(?:[a-z\\u00a1-\\uffff0-9]-?)*[a-z\\u00a1-\\uffff0-9]+)\"\n",
    "    # # domain name\n",
    "    # r\"(?:\\.(?:[a-z\\u00a1-\\uffff0-9]-?)*[a-z\\u00a1-\\uffff0-9]+)*\"\n",
    "    r\"(?:\"\n",
    "    r\"(?:\"\n",
    "    r\"[a-z0-9\\u00a1-\\uffff]\"\n",
    "    r\"[a-z0-9\\u00a1-\\uffff_-]{0,62}\"\n",
    "    r\")?\"\n",
    "    r\"[a-z0-9\\u00a1-\\uffff]\\.\"\n",
    "    r\")+\"\n",
    "    # TLD identifier name, may end with dot\n",
    "    r\"(?:[a-z\\u00a1-\\uffff]{2,}\\.?)\" r\")\"\n",
    "    # port number (optional)\n",
    "    r\"(?::\\d{2,5})?\"\n",
    "    # resource path (optional)\n",
    "    r\"(?:[/?#]\\S*)?\",\n",
    "    re.IGNORECASE,\n",
    ")"
   ]
  },
  {
   "cell_type": "code",
   "execution_count": 18,
   "metadata": {
    "ExecuteTime": {
     "end_time": "2021-06-01T14:18:17.398039Z",
     "start_time": "2021-06-01T14:18:17.384040Z"
    }
   },
   "outputs": [],
   "source": [
    "pre_regexes = []\n",
    "\n",
    "if remove_emails_regex:\n",
    "    # Rough email regex\n",
    "    pre_regexes.append(\n",
    "        re.compile(r\"\\b[a-z0-9._%+-]+@[a-z0-9.-]+[.][a-z]{2,}\\b\", re.IGNORECASE),\n",
    "    )\n",
    "    \n",
    "if remove_urls_regex:\n",
    "    # URL regex\n",
    "    pre_regexes.append(URL_REGEX)\n",
    "    # Rougher URL regex\n",
    "    pre_regexes.append(re.compile(r\"\\bwww[.][a-z0-9.-]+[.][a-z]{2,}\\b\", re.IGNORECASE))"
   ]
  },
  {
   "cell_type": "code",
   "execution_count": 19,
   "metadata": {
    "ExecuteTime": {
     "end_time": "2021-06-01T14:18:18.752042Z",
     "start_time": "2021-06-01T14:18:17.400045Z"
    }
   },
   "outputs": [],
   "source": [
    "def pre_regex(doc):\n",
    "    for regex in pre_regexes:\n",
    "        doc = regex.sub(\"\", doc)\n",
    "    return doc\n",
    "\n",
    "\n",
    "no_url_docs = []\n",
    "for doc in raw_docs:\n",
    "    no_url_docs.append(doc._replace(tokens=pre_regex(doc.tokens)))"
   ]
  },
  {
   "cell_type": "markdown",
   "metadata": {},
   "source": [
    "### Naive tokenisation (by whitespace)\n",
    "- Split by whitespace and selected punctuation\n",
    "- Case folding\n",
    "- Strip leading/trailing non-informative punctuation from tokens\n",
    "- Remove single apostrophes\n",
    "- Remove single brackets within words\n",
    "  - For dealing with cases like \"the recipient(s)\" -- Which will get tokenised to \"the recipient(s\" otherwise"
   ]
  },
  {
   "cell_type": "code",
   "execution_count": 20,
   "metadata": {
    "ExecuteTime": {
     "end_time": "2021-06-01T14:18:18.783038Z",
     "start_time": "2021-06-01T14:18:18.754042Z"
    }
   },
   "outputs": [],
   "source": [
    "split_punctuation = \"_/.\"\n",
    "strip_punctuation = \"'\\\"()[]<>?!,.:;/|_-+*\"\n",
    "bracket_pairs = [\n",
    "    [\"(\", \")\"],\n",
    "    [\"[\", \"]\"],\n",
    "]\n",
    "\n",
    "\n",
    "def naive_tokenise(doc):\n",
    "    \"\"\"\n",
    "    Naively tokenises a document.\n",
    "    \n",
    "    Returns\n",
    "    -------\n",
    "    iterable of str\n",
    "        The document as a string of space-separated tokens\n",
    "    \"\"\"\n",
    "    new_tokens = []\n",
    "    \n",
    "    for punctuation in split_punctuation:\n",
    "        doc = doc.replace(punctuation, f\" {punctuation} \")\n",
    "\n",
    "    tokens = doc.split()\n",
    "    for token in tokens:\n",
    "        token = token.casefold()\n",
    "        token = token.strip(strip_punctuation)\n",
    "        token = token.replace(\"'\", \"\")\n",
    "\n",
    "        for bracket_pair in bracket_pairs:\n",
    "            if bracket_pair[0] in token and bracket_pair[1] not in token:\n",
    "                token = token.replace(bracket_pair[0], \"\")\n",
    "            if bracket_pair[1] in token and bracket_pair[0] not in token:\n",
    "                token = token.replace(bracket_pair[1], \"\")\n",
    "\n",
    "        if token != \"\":\n",
    "            new_tokens.append(token)\n",
    "\n",
    "    return new_tokens"
   ]
  },
  {
   "cell_type": "code",
   "execution_count": 21,
   "metadata": {
    "ExecuteTime": {
     "end_time": "2021-06-01T14:18:19.811259Z",
     "start_time": "2021-06-01T14:18:18.786044Z"
    }
   },
   "outputs": [],
   "source": [
    "naive_docs = []\n",
    "for doc in no_url_docs:\n",
    "    naive_docs.append(doc._replace(tokens=naive_tokenise(doc.tokens)))"
   ]
  },
  {
   "cell_type": "code",
   "execution_count": 22,
   "metadata": {
    "ExecuteTime": {
     "end_time": "2021-06-01T14:18:23.364488Z",
     "start_time": "2021-06-01T14:18:19.813260Z"
    }
   },
   "outputs": [],
   "source": [
    "# Lemmatisation\n",
    "if lemmatise_as_english:\n",
    "    import copy\n",
    "    import spacy.lemmatizer\n",
    "    \n",
    "    sp = spacy.load(\"en_core_web_sm\")\n",
    "    lookups = sp.vocab.lookups\n",
    "    lemmas = spacy.lemmatizer.Lemmatizer(lookups)\n",
    "    \n",
    "    def lemmatise_doc(doc):\n",
    "        new_tokens = [lemmas.lookup(token) for token in doc.tokens]\n",
    "        \n",
    "        metadata = copy.deepcopy(doc.metadata)\n",
    "        metadata[\"lemmatised\"] = True\n",
    "        \n",
    "        return doc._replace(metadata=metadata, tokens=new_tokens)\n",
    "    \n",
    "    lemma_docs = []\n",
    "    for doc in naive_docs:\n",
    "        lemma_docs.append(lemmatise_doc(doc))\n",
    "else:\n",
    "    lemma_docs = naive_docs[:]"
   ]
  },
  {
   "cell_type": "markdown",
   "metadata": {},
   "source": [
    "### Automated n-gram detection\n",
    "\n",
    "The script can try to automatically chunk document tokens into multi-word phrases (\"n-grams\") based on collocation frequency.\n",
    "\n",
    "This process is controlled by the following parameters:\n",
    "\n",
    "- `ngram_min_count`: How many documents each n-gram minimally needs to appear in before being considered valid.\n",
    "\n",
    "- `ngram_scoring`: `\"default\"` or `\"npmi\"`.\n",
    "\n",
    "- `ngram_threshold`: Intuitively, a higher threshold means fewer phrases.\n",
    "  - With the default scorer, this is greater than or equal to 0; with the NPMI scorer, this is in the range `-1` to `1`.\n",
    "  - We want a relatively high threshold (e.g., `0.8` for NPMI scoring) so that we don't start littering spurious n-grams all over our corpus, diluting our results. E.g., we want _Lord of the Rings_, but not _slightly better than analysts_.\n",
    "\n",
    "- `ngram_connector_words`: These terms will be ignored if they come between normal words.\n",
    "  - E.g., if `ngram_connector_words` includes the word \"of\", then when the phraser sees \"Wheel of Fortune\" it actually evaluates _\"Wheel Fortune\"_ as an n-gram, putting \"of\" back in only at the output level to give _wheel_of_fortune_."
   ]
  },
  {
   "cell_type": "code",
   "execution_count": 23,
   "metadata": {
    "ExecuteTime": {
     "end_time": "2021-06-01T14:18:31.383546Z",
     "start_time": "2021-06-01T14:18:23.366513Z"
    }
   },
   "outputs": [
    {
     "name": "stdout",
     "output_type": "stream",
     "text": [
      "Iteration 1...\n"
     ]
    },
    {
     "name": "stderr",
     "output_type": "stream",
     "text": [
      "c:\\users\\zechy\\.virtualenvs\\ignis-tm-ns6dunee\\lib\\site-packages\\gensim\\similarities\\__init__.py:15: UserWarning: The gensim.similarities.levenshtein submodule is disabled, because the optional Levenshtein package <https://pypi.org/project/python-Levenshtein/> is unavailable. Install Levenhstein (e.g. `pip install python-Levenshtein`) to suppress this warning.\n",
      "  warnings.warn(msg)\n"
     ]
    },
    {
     "name": "stdout",
     "output_type": "stream",
     "text": [
      "Gensim Phraser initialised. 4.67s\n",
      "Improved Phraser initialised. 0.09s\n"
     ]
    },
    {
     "data": {
      "application/vnd.jupyter.widget-view+json": {
       "model_id": "9ce79531781443749c4819b6a3654274",
       "version_major": 2,
       "version_minor": 0
      },
      "text/plain": [
       "  0%|          | 0/2127 [00:00<?, ?it/s]"
      ]
     },
     "metadata": {},
     "output_type": "display_data"
    },
    {
     "name": "stdout",
     "output_type": "stream",
     "text": [
      "Iteration 2...\n",
      "Gensim Phraser initialised. 2.26s\n",
      "Improved Phraser initialised. 0.01s\n"
     ]
    },
    {
     "data": {
      "application/vnd.jupyter.widget-view+json": {
       "model_id": "4476c73f41324453b7e6c5e99af8c289",
       "version_major": 2,
       "version_minor": 0
      },
      "text/plain": [
       "  0%|          | 0/2127 [00:00<?, ?it/s]"
      ]
     },
     "metadata": {},
     "output_type": "display_data"
    }
   ],
   "source": [
    "for_phrasing = [doc.tokens for doc in lemma_docs]\n",
    "\n",
    "for i in range(ngram_iterations):\n",
    "    print(f\"Iteration {i + 1}...\")\n",
    "    \n",
    "    # We use the built-in Ignis phraser, which has a few algorithmic improvements\n",
    "    # over the basic Gensim one\n",
    "    phraser = ignis.util.ImprovedPhraser(\n",
    "        for_phrasing,\n",
    "        min_count=ngram_min_count,\n",
    "        threshold=ngram_threshold,\n",
    "        scoring=ngram_scoring,\n",
    "        connector_words=ngram_connector_words,\n",
    "        drop_non_alpha=True,\n",
    "        verbose=True,\n",
    "    )\n",
    "    for_phrasing = phraser.find_ngrams(for_phrasing, verbose=True)\n",
    "\n",
    "# `for_phrasing` contains the post-phrasing tokens for each document;\n",
    "# We need to recombine them with each document's metadata etc.\n",
    "phrased_docs = []\n",
    "for index, doc in enumerate(for_phrasing):\n",
    "    phrased_docs.append(lemma_docs[index]._replace(tokens=doc))"
   ]
  },
  {
   "cell_type": "code",
   "execution_count": 24,
   "metadata": {
    "ExecuteTime": {
     "end_time": "2021-06-01T14:18:31.399546Z",
     "start_time": "2021-06-01T14:18:31.385546Z"
    },
    "scrolled": false
   },
   "outputs": [],
   "source": [
    "# # Optionally, display all the ngrams found (uncomment to show)\n",
    "# seen_tokens = set()\n",
    "# found_ngrams = []\n",
    "# for document in phrased_docs:\n",
    "#     for token in document.tokens:\n",
    "#         if token.count(\" \") >= 1:\n",
    "#             if token not in seen_tokens:\n",
    "#                 found_ngrams.append(token)\n",
    "#                 seen_tokens.add(token)\n",
    "# print(\"\\n\".join(sorted(found_ngrams)))"
   ]
  },
  {
   "cell_type": "markdown",
   "metadata": {},
   "source": [
    "### Post-phrasing cleaning\n",
    "\n",
    "- Remove stop words (optional)\n",
    "- Remove purely numeric/non-alphabetic/single-character tokens\n",
    "  - Under the assumption that significant tokens, like the \"19\" in \"Covid 19\" or the \"11\" in \"Chapter 11 (bankruptcy)\" would have been picked up by the phraser"
   ]
  },
  {
   "cell_type": "code",
   "execution_count": 25,
   "metadata": {
    "ExecuteTime": {
     "end_time": "2021-06-01T14:18:31.649640Z",
     "start_time": "2021-06-01T14:18:31.403546Z"
    }
   },
   "outputs": [],
   "source": [
    "# Stoplist based on TF-IDF\n",
    "# Not theoretically needed if using term weighting during the training process, but stopword\n",
    "# removal could still help with runtimes and interpretability\n",
    "\n",
    "\n",
    "import collections\n",
    "import math\n",
    "\n",
    "# Calculate IDF (For calculations of this size, the overhead of Pandas/Numpy is probably not worth it)\n",
    "df_dict = {}\n",
    "for doc in phrased_docs:\n",
    "    for token in set(doc.tokens):\n",
    "        if token in df_dict:\n",
    "            df_dict[token] += 1\n",
    "        else:\n",
    "            df_dict[token] = 1\n",
    "\n",
    "# While we're at it, we could remove document-level hapax legomena\n",
    "hapax = [token for token, count in df_dict.items() if count == 1]\n",
    "\n",
    "token_idf = {}\n",
    "for token in df_dict:\n",
    "    token_idf[token] = math.log(len(phrased_docs) / df_dict[token])\n",
    "\n",
    "\n",
    "def tf_idf(tokens, token_idf):\n",
    "    \"\"\"\n",
    "    Calculates the TF-IDF for each unique term in the given list of document tokens\n",
    "    \n",
    "    Parameters\n",
    "    ----------\n",
    "    tokens: iterable of str\n",
    "        Tokens that make up a single document\n",
    "    token_idf: dict\n",
    "        Mapping of terms to their global IDF values\n",
    "    \"\"\"\n",
    "    token_tf_idf = {}\n",
    "    counts = collections.Counter(tokens)\n",
    "    for token in set(tokens):\n",
    "        token_tf = counts[token] / len(tokens)\n",
    "        # In particular, accessing a Pandas Series by string index is much slower than accessing a Dictionary by key\n",
    "        token_tf_idf[token] = token_tf * token_idf[token]\n",
    "    return token_tf_idf"
   ]
  },
  {
   "cell_type": "code",
   "execution_count": 26,
   "metadata": {
    "ExecuteTime": {
     "end_time": "2021-06-01T14:18:32.209640Z",
     "start_time": "2021-06-01T14:18:31.651640Z"
    }
   },
   "outputs": [
    {
     "name": "stdout",
     "output_type": "stream",
     "text": [
      "Stopwords, ordered by TF-IDF (threshold: 0.35):\n",
      "the, be, a, to, of, in, and, have, for, on, say, with, it, at, by, that, but, from, this, will, which, also, not, its, make, can, up, much, year, who, he, one, take, after, their, would, out, do\n",
      "(38)\n"
     ]
    }
   ],
   "source": [
    "# Thresholding\n",
    "\n",
    "# (using `n_lowest` and `stop_list_proportion` from the Configuration section)\n",
    "\n",
    "per_doc_stopwords = []\n",
    "for doc in phrased_docs:\n",
    "    token_tf_idf = tf_idf(doc.tokens, token_idf)\n",
    "    # token_tf_idf is a dict of token -> score\n",
    "    scores = sorted(list(token_tf_idf.items()), key=lambda x: x[1])\n",
    "    lowest_n = [score[0] for score in scores[:n_lowest]]\n",
    "    per_doc_stopwords.append(set(lowest_n))\n",
    "\n",
    "# Check how many *stopword lists* each token appears in; this is more discriminative than\n",
    "# checking how many actual *documents* each token appears in instead\n",
    "stopword_df = {}\n",
    "for per_doc in per_doc_stopwords:\n",
    "    for stopword in per_doc:\n",
    "        if stopword in stopword_df:\n",
    "            stopword_df[stopword] += 1\n",
    "        else:\n",
    "            stopword_df[stopword] = 1\n",
    "\n",
    "total_docs = len(phrased_docs)\n",
    "final_stopwords = []\n",
    "for stopword, count in stopword_df.items():\n",
    "    if count / total_docs > stop_list_proportion:\n",
    "        final_stopwords.append((stopword, count))\n",
    "final_stopwords.sort(key=lambda x: x[1], reverse=True)\n",
    "\n",
    "# List of removed words sorted by TF-IDF (so in roughly decreasing order of commonness)\n",
    "tf_idf_removed_words = [stopword for stopword, count in final_stopwords]\n",
    "stop_set = set(tf_idf_removed_words)\n",
    "\n",
    "print(f\"Stopwords, ordered by TF-IDF (threshold: {stop_list_proportion}):\")\n",
    "print(\", \".join(tf_idf_removed_words))\n",
    "print(f\"({len(tf_idf_removed_words)})\")"
   ]
  },
  {
   "cell_type": "code",
   "execution_count": 27,
   "metadata": {
    "ExecuteTime": {
     "end_time": "2021-06-01T14:18:32.225641Z",
     "start_time": "2021-06-01T14:18:32.211641Z"
    }
   },
   "outputs": [
    {
     "name": "stdout",
     "output_type": "stream",
     "text": [
      "Also removing document-level hapaxes (13238).\n"
     ]
    }
   ],
   "source": [
    "# Hapax legomena\n",
    "if remove_hapax:\n",
    "    stop_set = stop_set.union(set(hapax))\n",
    "    print(f\"Also removing document-level hapaxes ({len(hapax)}).\")"
   ]
  },
  {
   "cell_type": "code",
   "execution_count": 28,
   "metadata": {
    "ExecuteTime": {
     "end_time": "2021-06-01T14:18:32.257640Z",
     "start_time": "2021-06-01T14:18:32.232640Z"
    }
   },
   "outputs": [
    {
     "name": "stdout",
     "output_type": "stream",
     "text": [
      "Removing stop words using file-based lists (179).\n"
     ]
    }
   ],
   "source": [
    "# Stop word files\n",
    "stop_word_file_count = 0\n",
    "for file in stop_word_files:\n",
    "    with open(file, \"r\", encoding=\"utf8\") as fp:\n",
    "        for stop_word in fp:\n",
    "            stop_word = stop_word.strip()\n",
    "            if stop_word != \"\" and not stop_word.startswith(\"#\"):\n",
    "                stop_set.add(stop_word)\n",
    "                stop_word_file_count += 1\n",
    "print(f\"Removing stop words using file-based lists ({stop_word_file_count}).\")"
   ]
  },
  {
   "cell_type": "code",
   "execution_count": 29,
   "metadata": {
    "ExecuteTime": {
     "end_time": "2021-06-01T14:18:32.273641Z",
     "start_time": "2021-06-01T14:18:32.260641Z"
    }
   },
   "outputs": [
    {
     "name": "stdout",
     "output_type": "stream",
     "text": [
      "Removing supplementary stop words (179).\n"
     ]
    }
   ],
   "source": [
    "# Supplementary stop words\n",
    "stop_set = stop_set.union(set(supplementary_stop_words))\n",
    "print(f\"Removing supplementary stop words ({stop_word_file_count}).\")"
   ]
  },
  {
   "cell_type": "code",
   "execution_count": 30,
   "metadata": {
    "ExecuteTime": {
     "end_time": "2021-06-01T14:18:32.289641Z",
     "start_time": "2021-06-01T14:18:32.279641Z"
    }
   },
   "outputs": [
    {
     "name": "stdout",
     "output_type": "stream",
     "text": [
      "Not removing whitelisted words (0).\n"
     ]
    }
   ],
   "source": [
    "# Whitelisting\n",
    "stop_set -= set(whitelist)\n",
    "print(f\"Not removing whitelisted words ({len(whitelist)}).\")"
   ]
  },
  {
   "cell_type": "markdown",
   "metadata": {},
   "source": [
    "Stop words will not be removed from each document's list of raw tokens directly, but will instead be saved as part of the corpus metadata and only processed at run-time when documents are retrieved for modelling.\n",
    "\n",
    "Put simply, what this means is that all the documents still retain all their raw tokens, so we can _modify_ the stop word list later on without needing to re-run this corpus preparation script."
   ]
  },
  {
   "cell_type": "code",
   "execution_count": 31,
   "metadata": {
    "ExecuteTime": {
     "end_time": "2021-06-01T14:18:32.321640Z",
     "start_time": "2021-06-01T14:18:32.301640Z"
    }
   },
   "outputs": [],
   "source": [
    "def second_tokenise(tokens):\n",
    "    new_tokens = []\n",
    "    for token in tokens:\n",
    "        # We still do a permanent removal of all non-alphabetic tokens as well as all\n",
    "        # tokens consisting of a single character.\n",
    "        if re.search(\"^[^a-z]+$\", token) or len(token) <= 1:\n",
    "            continue\n",
    "        new_tokens.append(token)\n",
    "\n",
    "    return new_tokens"
   ]
  },
  {
   "cell_type": "code",
   "execution_count": 32,
   "metadata": {
    "ExecuteTime": {
     "end_time": "2021-06-01T14:18:33.677641Z",
     "start_time": "2021-06-01T14:18:32.325640Z"
    }
   },
   "outputs": [],
   "source": [
    "final_docs = []\n",
    "for phrased_doc in phrased_docs:\n",
    "    final_docs.append(\n",
    "        phrased_doc._replace(tokens=second_tokenise(phrased_doc.tokens))\n",
    "    )"
   ]
  },
  {
   "cell_type": "code",
   "execution_count": 33,
   "metadata": {
    "ExecuteTime": {
     "end_time": "2021-06-01T14:18:34.084621Z",
     "start_time": "2021-06-01T14:18:33.679641Z"
    }
   },
   "outputs": [],
   "source": [
    "# See the top remaining high-frequency words (for further cleaning if necessary)\n",
    "corpus_tf = {}\n",
    "for doc in final_docs:\n",
    "    doc_counts = collections.Counter(doc.tokens)\n",
    "\n",
    "    for token in set(doc.tokens):\n",
    "        if token in corpus_tf:\n",
    "            corpus_tf[token] += doc_counts[token]\n",
    "        else:\n",
    "            corpus_tf[token] = doc_counts[token]"
   ]
  },
  {
   "cell_type": "code",
   "execution_count": 34,
   "metadata": {
    "ExecuteTime": {
     "end_time": "2021-06-01T14:18:34.148622Z",
     "start_time": "2021-06-01T14:18:34.087621Z"
    }
   },
   "outputs": [
    {
     "name": "stdout",
     "output_type": "stream",
     "text": [
      "7 duplicate documents discarded after tokenisation (105 total).\n"
     ]
    }
   ],
   "source": [
    "# Simple deduplication, round 2\n",
    "if remove_duplicates:\n",
    "    seen_docs = set()\n",
    "    post_dupe_count = 0\n",
    "    deduped_docs = []\n",
    "    for doc in final_docs:\n",
    "        if len(doc.tokens) == 0:\n",
    "            continue\n",
    "\n",
    "        # Cast the document tokens as a tuple so that we can use it as a deduplicating hash\n",
    "        doc_hash = tuple(doc.tokens)\n",
    "        if doc_hash in seen_docs:\n",
    "            # print(f\"Duplicate document: {doc[0]['filename']}\")\n",
    "            dupe_count += 1\n",
    "            post_dupe_count += 1\n",
    "        else:\n",
    "            seen_docs.add(doc_hash)\n",
    "            deduped_docs.append(doc)\n",
    "\n",
    "    final_docs = deduped_docs\n",
    "    print(\n",
    "        f\"{post_dupe_count} duplicate documents discarded after tokenisation \"\n",
    "        f\"({dupe_count} total).\"\n",
    "    )"
   ]
  },
  {
   "cell_type": "markdown",
   "metadata": {},
   "source": [
    "Save to Ignis Corpus\n",
    "----"
   ]
  },
  {
   "cell_type": "code",
   "execution_count": 35,
   "metadata": {
    "ExecuteTime": {
     "end_time": "2021-06-01T14:18:34.510624Z",
     "start_time": "2021-06-01T14:18:34.151622Z"
    }
   },
   "outputs": [],
   "source": [
    "corpus = ignis.Corpus(stop_words=stop_set)\n",
    "short_doc_count = 0\n",
    "\n",
    "for doc in final_docs:\n",
    "    if len(doc.tokens) < min_doc_tokens:\n",
    "        short_doc_count += 1\n",
    "        continue\n",
    "    corpus.add_doc(**doc._asdict())"
   ]
  },
  {
   "cell_type": "code",
   "execution_count": 36,
   "metadata": {
    "ExecuteTime": {
     "end_time": "2021-06-01T14:18:39.190640Z",
     "start_time": "2021-06-01T14:18:34.512626Z"
    }
   },
   "outputs": [],
   "source": [
    "# And make sure it saves/loads without errors.\n",
    "corpus.save(output_file)\n",
    "corpus = ignis.load_corpus(output_file)"
   ]
  },
  {
   "cell_type": "code",
   "execution_count": 37,
   "metadata": {
    "ExecuteTime": {
     "end_time": "2021-06-01T14:18:39.253641Z",
     "start_time": "2021-06-01T14:18:39.193640Z"
    },
    "scrolled": false
   },
   "outputs": [
    {
     "data": {
      "text/html": [
       "\n",
       "<style>\n",
       "   div.cell > div.output_wrapper > div.output.output_scroll {\n",
       "     height: auto;\n",
       "   }\n",
       "   .jupyter-widgets-output-area .output_scroll {\n",
       "        height: unset;\n",
       "        border-radius: unset;\n",
       "        -webkit-box-shadow: unset;\n",
       "        box-shadow: unset;\n",
       "    }\n",
       "    .jupyter-widgets-output-area, div.output_stdout, div.output_result  {\n",
       "        height: auto;\n",
       "        max-height: 50em;\n",
       "        overflow-y: auto;\n",
       "    }\n",
       "</style>\n"
      ],
      "text/plain": [
       "<IPython.core.display.HTML object>"
      ]
     },
     "metadata": {},
     "output_type": "display_data"
    },
    {
     "data": {
      "application/vnd.jupyter.widget-view+json": {
       "model_id": "277f090783fb4db58793cf3f36db5463",
       "version_major": 2,
       "version_minor": 0
      },
      "text/plain": [
       "interactive(children=(IntSlider(value=0, description='index', max=2119), Output()), _dom_classes=('widget-inte…"
      ]
     },
     "metadata": {},
     "output_type": "display_data"
    }
   ],
   "source": [
    "# Jupyter notebook setup for final document view\n",
    "import ipywidgets as widgets\n",
    "from IPython.core.display import display, HTML\n",
    "\n",
    "# - Prevent vertical scrollbars in output subareas\n",
    "jupyter_styles = \"\"\"\n",
    "<style>\n",
    "   div.cell > div.output_wrapper > div.output.output_scroll {\n",
    "     height: auto;\n",
    "   }\n",
    "   .jupyter-widgets-output-area .output_scroll {\n",
    "        height: unset;\n",
    "        border-radius: unset;\n",
    "        -webkit-box-shadow: unset;\n",
    "        box-shadow: unset;\n",
    "    }\n",
    "    .jupyter-widgets-output-area, div.output_stdout, div.output_result  {\n",
    "        height: auto;\n",
    "        max-height: 50em;\n",
    "        overflow-y: auto;\n",
    "    }\n",
    "</style>\n",
    "\"\"\"\n",
    "display(HTML(jupyter_styles))\n",
    "\n",
    "\n",
    "corpus_doc_ids = corpus.document_ids\n",
    "\n",
    "\n",
    "def show_corpus_doc(index=0):\n",
    "    doc = corpus.get_document(corpus_doc_ids[index])\n",
    "    print(doc.metadata)\n",
    "    print()\n",
    "    print(\"-\" * 10)\n",
    "    print()\n",
    "    print(\"|\".join(doc.tokens))\n",
    "    print()\n",
    "    print(\"-\" * 10)\n",
    "    print()\n",
    "\n",
    "    # Jupyter notebooks will interpret anything between $ signs as LaTeX formulae when rendering HTML output,\n",
    "    # so we need to replace them with escaped $ signs (only in Jupyter environments)\n",
    "    display_str = doc.display_str.replace(\"$\", r\"\\$\")\n",
    "    display(HTML(display_str))\n",
    "\n",
    "if len(corpus_doc_ids) > 0:\n",
    "    widgets.interact(show_corpus_doc, index=(0, len(corpus_doc_ids) - 1))\n",
    "else:\n",
    "    print(\n",
    "        \"Corpus is empty -- No significant documents were found at the input path(s).\"\n",
    "    )"
   ]
  },
  {
   "cell_type": "code",
   "execution_count": 38,
   "metadata": {
    "ExecuteTime": {
     "end_time": "2021-06-01T14:18:39.300640Z",
     "start_time": "2021-06-01T14:18:39.256640Z"
    }
   },
   "outputs": [
    {
     "name": "stdout",
     "output_type": "stream",
     "text": [
      "Summary:\n",
      "2120 total documents.\n",
      "\n",
      "179 stop word(s) from stop word file(s):\n",
      "['data/nltk-stopwords-en.txt']\n",
      "\n",
      "38 stop word(s) automatically removed by TF-IDF (threshold: 0.35):\n",
      "the be a to of in and have for on say with it at by that but from this will which also not its make can up much year who he one take after their would out do\n",
      "\n",
      "13238 hapax legomena removed.\n",
      "\n",
      "2 supplementary stop word(s):\n",
      "mr could\n",
      "\n",
      "0 whitelisted word(s):\n",
      "\n",
      "\n",
      "Top 20 remaining terms in corpus by frequency:\n",
      "[('people', 1895),\n",
      " ('us', 1822),\n",
      " ('new', 1646),\n",
      " ('go', 1642),\n",
      " ('get', 1500),\n",
      " ('game', 1447),\n",
      " ('time', 1425),\n",
      " ('win', 1402),\n",
      " ('use', 1399),\n",
      " ('good', 1384),\n",
      " ('well', 1251),\n",
      " ('come', 1171),\n",
      " ('government', 1164),\n",
      " ('play', 1162),\n",
      " ('two', 1138),\n",
      " ('see', 1124),\n",
      " ('world', 1083),\n",
      " ('show', 1082),\n",
      " ('film', 1072),\n",
      " ('work', 1024)]\n",
      "\n",
      "0 short documents (< 5 tokens) discarded.\n",
      "\n",
      "105 duplicate documents discarded.\n",
      "\n",
      "Corpus saved to:\n",
      "data/bbc.corpus\n"
     ]
    }
   ],
   "source": [
    "print(\"Summary:\")\n",
    "print(f\"{len(corpus_doc_ids)} total documents.\")\n",
    "print()\n",
    "print(f\"{stop_word_file_count} stop word(s) from stop word file(s):\")\n",
    "pprint.pprint(stop_word_files)\n",
    "print()\n",
    "print(\n",
    "    f\"{len(tf_idf_removed_words)} stop word(s) automatically removed by TF-IDF \"\n",
    "    f\"(threshold: {stop_list_proportion}):\"\n",
    ")\n",
    "print(\" \".join(tf_idf_removed_words))\n",
    "print()\n",
    "if remove_hapax:\n",
    "    print(f\"{len(hapax)} hapax legomena removed.\")\n",
    "    print()\n",
    "print(f\"{len(supplementary_stop_words)} supplementary stop word(s):\")\n",
    "print(\" \".join(supplementary_stop_words))\n",
    "print()\n",
    "print(f\"{len(whitelist)} whitelisted word(s):\")\n",
    "print(\" \".join(whitelist))\n",
    "print()\n",
    "print(\"Top 20 remaining terms in corpus by frequency:\")\n",
    "# Remove stop words from top corpus terms\n",
    "term_counts = [\n",
    "    term_count for term_count in corpus_tf.items() if term_count[0] not in stop_set\n",
    "]\n",
    "pprint.pprint(sorted(term_counts, key=lambda x: x[1], reverse=True)[:20])\n",
    "print()\n",
    "print(f\"{short_doc_count} short documents (< {min_doc_tokens} tokens) discarded.\")\n",
    "print()\n",
    "if remove_duplicates:\n",
    "    print(f\"{dupe_count} duplicate documents discarded.\")\n",
    "    print()\n",
    "print(f\"Corpus saved to:\\n{output_file}\")"
   ]
  },
  {
   "cell_type": "code",
   "execution_count": null,
   "metadata": {},
   "outputs": [],
   "source": []
  }
 ],
 "metadata": {
  "kernelspec": {
   "display_name": "Python 3",
   "language": "python",
   "name": "python3"
  },
  "language_info": {
   "codemirror_mode": {
    "name": "ipython",
    "version": 3
   },
   "file_extension": ".py",
   "mimetype": "text/x-python",
   "name": "python",
   "nbconvert_exporter": "python",
   "pygments_lexer": "ipython3",
   "version": "3.7.9"
  },
  "widgets": {
   "application/vnd.jupyter.widget-state+json": {
    "state": {
     "0176bce07868479ba1260626d7e96ae2": {
      "model_module": "@jupyter-widgets/controls",
      "model_module_version": "1.5.0",
      "model_name": "SliderStyleModel",
      "state": {
       "description_width": ""
      }
     },
     "02f05744b4a1459d9b0d8fa0cfd07121": {
      "model_module": "@jupyter-widgets/base",
      "model_module_version": "1.2.0",
      "model_name": "LayoutModel",
      "state": {}
     },
     "0466812ce9594ae09704f5716d44112d": {
      "model_module": "@jupyter-widgets/controls",
      "model_module_version": "1.5.0",
      "model_name": "HTMLModel",
      "state": {
       "layout": "IPY_MODEL_36a16470fcad44248497facfac597304",
       "style": "IPY_MODEL_df328cb63d2942f193b2ed1e43cfe1ab",
       "value": " 2225/2225 [00:05&lt;00:00, 429.69it/s]"
      }
     },
     "05c4e94adf0b4f8ab684a8776c0100c2": {
      "model_module": "@jupyter-widgets/base",
      "model_module_version": "1.2.0",
      "model_name": "LayoutModel",
      "state": {}
     },
     "06dc29a0660944c1a2afc5b9452ae105": {
      "model_module": "@jupyter-widgets/controls",
      "model_module_version": "1.5.0",
      "model_name": "ProgressStyleModel",
      "state": {
       "description_width": "initial"
      }
     },
     "079861a62cd34f33970a9590b7d4f2d3": {
      "model_module": "@jupyter-widgets/base",
      "model_module_version": "1.2.0",
      "model_name": "LayoutModel",
      "state": {}
     },
     "0907752bc609458ca92cf447774b7e02": {
      "model_module": "@jupyter-widgets/base",
      "model_module_version": "1.2.0",
      "model_name": "LayoutModel",
      "state": {}
     },
     "0c6041bc44c44b2793dab67ad5b0794b": {
      "model_module": "@jupyter-widgets/base",
      "model_module_version": "1.2.0",
      "model_name": "LayoutModel",
      "state": {}
     },
     "0d32c7e95e064beca085edf8a320ec94": {
      "model_module": "@jupyter-widgets/controls",
      "model_module_version": "1.5.0",
      "model_name": "SliderStyleModel",
      "state": {
       "description_width": ""
      }
     },
     "0de8989cc9fe4b9dab9027d9ef174dbf": {
      "model_module": "@jupyter-widgets/controls",
      "model_module_version": "1.5.0",
      "model_name": "DescriptionStyleModel",
      "state": {
       "description_width": ""
      }
     },
     "0f5ec7e163eb4d1ea983c28dbbff7dea": {
      "model_module": "@jupyter-widgets/controls",
      "model_module_version": "1.5.0",
      "model_name": "HTMLModel",
      "state": {
       "layout": "IPY_MODEL_db80e54ec84c4e6faa282bddb43c5950",
       "style": "IPY_MODEL_cb0d985dcb8d463e824f98a41f4d77de",
       "value": " 2225/2225 [00:01&lt;00:00, 2041.22it/s]"
      }
     },
     "0f6858aff9a6418893b5db2b75af667d": {
      "model_module": "@jupyter-widgets/base",
      "model_module_version": "1.2.0",
      "model_name": "LayoutModel",
      "state": {}
     },
     "125faab8f52f4a308c65d7274712929d": {
      "model_module": "@jupyter-widgets/controls",
      "model_module_version": "1.5.0",
      "model_name": "ProgressStyleModel",
      "state": {
       "description_width": "initial"
      }
     },
     "12eac97d93c141ee9218f83272804ed9": {
      "model_module": "@jupyter-widgets/controls",
      "model_module_version": "1.5.0",
      "model_name": "DescriptionStyleModel",
      "state": {
       "description_width": ""
      }
     },
     "13eb7efb1d294d8390b86540aaaeeb07": {
      "model_module": "@jupyter-widgets/base",
      "model_module_version": "1.2.0",
      "model_name": "LayoutModel",
      "state": {}
     },
     "13f793756c9f459485fa1091934d962c": {
      "model_module": "@jupyter-widgets/controls",
      "model_module_version": "1.5.0",
      "model_name": "FloatProgressModel",
      "state": {
       "bar_style": "success",
       "description": "100%",
       "layout": "IPY_MODEL_76dda78ccf7d4eb2995b9a56a09bbb72",
       "max": 2225,
       "style": "IPY_MODEL_06dc29a0660944c1a2afc5b9452ae105",
       "value": 2225
      }
     },
     "148252665094435e8ace984917805cf3": {
      "model_module": "@jupyter-widgets/base",
      "model_module_version": "1.2.0",
      "model_name": "LayoutModel",
      "state": {}
     },
     "162a6b821420490482099b9e0e46fa2e": {
      "model_module": "@jupyter-widgets/output",
      "model_module_version": "1.0.0",
      "model_name": "OutputModel",
      "state": {
       "layout": "IPY_MODEL_31a6518c370943b9ae97f723ac526da7",
       "outputs": [
        {
         "name": "stdout",
         "output_type": "stream",
         "text": "{'filename': 'data/bbc/business/001.txt'}\n\nad sales boost time warner profit quarterly profits at us media giant timewarner jumped 76% to $1.13bn â£600m for the three months to december from $639m year-earlier the firm which is now one of the biggest investors in google benefited from sales of high-speed internet connections and higher advert sales timewarner said fourth quarter sales rose 2% to $11.1bn from $10.9bn its profits were buoyed by one-off gains which offset a profit dip at warner bros and less users for aol time warner said on friday that it now owns 8% of search-engine google but its own internet business aol had has mixed fortunes it lost 464,000 subscribers in the fourth quarter profits were lower than in the preceding three quarters however the company said aols underlying profit before exceptional items rose 8% on the back of stronger internet advertising revenues it hopes to increase subscribers by offering the online service free to timewarner internet customers and will try to sign up aols existing customers for high-speed broadband timewarner also has to restate 2000 and 2003 results following a probe by the us securities exchange commission sec which is close to concluding time warners fourth quarter profits were slightly better than analysts expectations but its film division saw profits slump 27% to $284m helped by box-office flops alexander and catwoman a sharp contrast to year-earlier when the third and final film in the lord of the rings trilogy boosted results for the full-year timewarner posted a profit of $3.36bn up 27% from its 2003 performance while revenues grew 6.4% to $42.09bn our financial performance was strong meeting or exceeding all of our full-year objectives and greatly enhancing our flexibility chairman and chief executive richard parsons said for 2005 timewarner is projecting operating earnings growth of around 5% and also expects higher revenue and wider profit margins timewarner is to restate its accounts as part of efforts to resolve an inquiry into aol by us market regulators it has already offered to pay $300m to settle charges in a deal that is under review by the sec the company said it was unable to estimate the amount it needed to set aside for legal reserves which it previously set at $500m it intends to adjust the way it accounts for a deal with german music publisher bertelsmanns purchase of a stake in aol europe which it had reported as advertising revenue it will now book the sale of its stake in aol europe as a loss on the value of that stake\n"
        }
       ]
      }
     },
     "182be352b71f484aa3a6ff96aea57106": {
      "model_module": "@jupyter-widgets/controls",
      "model_module_version": "1.5.0",
      "model_name": "HBoxModel",
      "state": {
       "children": [
        "IPY_MODEL_24c471a7d6ee45ce85f4363b88aa923d",
        "IPY_MODEL_926a3bf0e187461e8356874c0feb7448"
       ],
       "layout": "IPY_MODEL_e0c96bf230bd47c1befb8378e74e2c00"
      }
     },
     "196bcfda2c2f4275a590e66a45e98398": {
      "model_module": "@jupyter-widgets/output",
      "model_module_version": "1.0.0",
      "model_name": "OutputModel",
      "state": {
       "layout": "IPY_MODEL_4c1cd8050ce24962afbb39b148357c33",
       "outputs": [
        {
         "name": "stdout",
         "output_type": "stream",
         "text": "{'filename': 'data/bbc/business/001.txt'}\n\nAd sales boost Time Warner profit\n\nQuarterly profits at US media giant TimeWarner jumped 76% to $1.13bn (Â£600m) for the three months to December, from $639m year-earlier.\n\nThe firm, which is now one of the biggest investors in Google, benefited from sales of high-speed internet connections and higher advert sales. TimeWarner said fourth quarter sales rose 2% to $11.1bn from $10.9bn. Its profits were buoyed by one-off gains which offset a profit dip at Warner Bros, and less users for AOL.\n\nTime Warner said on Friday that it now owns 8% of search-engine Google. But its own internet business, AOL, had has mixed fortunes. It lost 464,000 subscribers in the fourth quarter profits were lower than in the preceding three quarters. However, the company said AOL's underlying profit before exceptional items rose 8% on the back of stronger internet advertising revenues. It hopes to increase subscribers by offering the online service free to TimeWarner internet customers and will try to sign up AOL's existing customers for high-speed broadband. TimeWarner also has to restate 2000 and 2003 results following a probe by the US Securities Exchange Commission (SEC), which is close to concluding.\n\nTime Warner's fourth quarter profits were slightly better than analysts' expectations. But its film division saw profits slump 27% to $284m, helped by box-office flops Alexander and Catwoman, a sharp contrast to year-earlier, when the third and final film in the Lord of the Rings trilogy boosted results. For the full-year, TimeWarner posted a profit of $3.36bn, up 27% from its 2003 performance, while revenues grew 6.4% to $42.09bn. \"Our financial performance was strong, meeting or exceeding all of our full-year objectives and greatly enhancing our flexibility,\" chairman and chief executive Richard Parsons said. For 2005, TimeWarner is projecting operating earnings growth of around 5%, and also expects higher revenue and wider profit margins.\n\nTimeWarner is to restate its accounts as part of efforts to resolve an inquiry into AOL by US market regulators. It has already offered to pay $300m to settle charges, in a deal that is under review by the SEC. The company said it was unable to estimate the amount it needed to set aside for legal reserves, which it previously set at $500m. It intends to adjust the way it accounts for a deal with German music publisher Bertelsmann's purchase of a stake in AOL Europe, which it had reported as advertising revenue. It will now book the sale of its stake in AOL Europe as a loss on the value of that stake.\n\n"
        }
       ]
      }
     },
     "1ba4244bb70840e7915ff4abd0205013": {
      "model_module": "@jupyter-widgets/base",
      "model_module_version": "1.2.0",
      "model_name": "LayoutModel",
      "state": {}
     },
     "1c66ae4f01b94bf7b7068a1990589278": {
      "model_module": "@jupyter-widgets/controls",
      "model_module_version": "1.5.0",
      "model_name": "FloatProgressModel",
      "state": {
       "bar_style": "success",
       "description": "100%",
       "layout": "IPY_MODEL_f22519428b30410fa84905a53a17b178",
       "max": 2225,
       "style": "IPY_MODEL_f7017db40759496e9b40f40ed0db32e9",
       "value": 2225
      }
     },
     "1eb08d78757940ed9d2ba8d0a89b91f7": {
      "model_module": "@jupyter-widgets/controls",
      "model_module_version": "1.5.0",
      "model_name": "IntSliderModel",
      "state": {
       "description": "doc_id",
       "layout": "IPY_MODEL_68b337cd8d1548a7bd93e77e58b97636",
       "max": 2224,
       "style": "IPY_MODEL_997e31f40ce34ba2bc7b702bae1a992d"
      }
     },
     "1f898984afc444e49b13dc17023418de": {
      "model_module": "@jupyter-widgets/base",
      "model_module_version": "1.2.0",
      "model_name": "LayoutModel",
      "state": {}
     },
     "2342e9868d6e4ee89c36323e639dc71d": {
      "model_module": "@jupyter-widgets/controls",
      "model_module_version": "1.5.0",
      "model_name": "FloatProgressModel",
      "state": {
       "bar_style": "success",
       "description": "100%",
       "layout": "IPY_MODEL_88dfb0af42204909b71762984b55cc86",
       "max": 2225,
       "style": "IPY_MODEL_368a8c4fc4d14966ac01fcd08df28ad5",
       "value": 2225
      }
     },
     "23c2e3055cdd4b0fb5ade54f47417ae4": {
      "model_module": "@jupyter-widgets/controls",
      "model_module_version": "1.5.0",
      "model_name": "VBoxModel",
      "state": {
       "_dom_classes": [
        "widget-interact"
       ],
       "children": [
        "IPY_MODEL_9636b5d65c6c45df80d319d5ae4775a8",
        "IPY_MODEL_963c8fb4d7e24e14b38a4ef5f44001e5"
       ],
       "layout": "IPY_MODEL_b5cc154c0da84a9b95e463fe55e0d966"
      }
     },
     "241d1fcc765648e897fdb5afd19dd47f": {
      "model_module": "@jupyter-widgets/controls",
      "model_module_version": "1.5.0",
      "model_name": "HBoxModel",
      "state": {
       "children": [
        "IPY_MODEL_1c66ae4f01b94bf7b7068a1990589278",
        "IPY_MODEL_90d76c79d7f840e69fc5c97ba1ef539d"
       ],
       "layout": "IPY_MODEL_db812dabb7c24d41a7a078355c658349"
      }
     },
     "24466b19efb4443f91e8bbb38c4c0db1": {
      "model_module": "@jupyter-widgets/output",
      "model_module_version": "1.0.0",
      "model_name": "OutputModel",
      "state": {
       "layout": "IPY_MODEL_90125db150c64195954856367dc317cb",
       "outputs": [
        {
         "name": "stdout",
         "output_type": "stream",
         "text": "{'filename': 'data/bbc/business/001.txt'}\n\nAd sales boost Time Warner profit\n\nQuarterly profits at US media giant TimeWarner jumped 76% to $1.13bn (Â£600m) for the three months to December, from $639m year-earlier.\n\nThe firm, which is now one of the biggest investors in Google, benefited from sales of high-speed internet connections and higher advert sales. TimeWarner said fourth quarter sales rose 2% to $11.1bn from $10.9bn. Its profits were buoyed by one-off gains which offset a profit dip at Warner Bros, and less users for AOL.\n\nTime Warner said on Friday that it now owns 8% of search-engine Google. But its own internet business, AOL, had has mixed fortunes. It lost 464,000 subscribers in the fourth quarter profits were lower than in the preceding three quarters. However, the company said AOL's underlying profit before exceptional items rose 8% on the back of stronger internet advertising revenues. It hopes to increase subscribers by offering the online service free to TimeWarner internet customers and will try to sign up AOL's existing customers for high-speed broadband. TimeWarner also has to restate 2000 and 2003 results following a probe by the US Securities Exchange Commission (SEC), which is close to concluding.\n\nTime Warner's fourth quarter profits were slightly better than analysts' expectations. But its film division saw profits slump 27% to $284m, helped by box-office flops Alexander and Catwoman, a sharp contrast to year-earlier, when the third and final film in the Lord of the Rings trilogy boosted results. For the full-year, TimeWarner posted a profit of $3.36bn, up 27% from its 2003 performance, while revenues grew 6.4% to $42.09bn. \"Our financial performance was strong, meeting or exceeding all of our full-year objectives and greatly enhancing our flexibility,\" chairman and chief executive Richard Parsons said. For 2005, TimeWarner is projecting operating earnings growth of around 5%, and also expects higher revenue and wider profit margins.\n\nTimeWarner is to restate its accounts as part of efforts to resolve an inquiry into AOL by US market regulators. It has already offered to pay $300m to settle charges, in a deal that is under review by the SEC. The company said it was unable to estimate the amount it needed to set aside for legal reserves, which it previously set at $500m. It intends to adjust the way it accounts for a deal with German music publisher Bertelsmann's purchase of a stake in AOL Europe, which it had reported as advertising revenue. It will now book the sale of its stake in AOL Europe as a loss on the value of that stake.\n\n"
        }
       ]
      }
     },
     "2498f5c8bde04d0fb69a2d4cc2dcf549": {
      "model_module": "@jupyter-widgets/controls",
      "model_module_version": "1.5.0",
      "model_name": "HBoxModel",
      "state": {
       "children": [
        "IPY_MODEL_f178532d72414a8d8d461a6948c11deb",
        "IPY_MODEL_349cab413ef74eff942b88d9befd85fd"
       ],
       "layout": "IPY_MODEL_50b14b08e2894697b1183520a9251d61"
      }
     },
     "24c471a7d6ee45ce85f4363b88aa923d": {
      "model_module": "@jupyter-widgets/controls",
      "model_module_version": "1.5.0",
      "model_name": "FloatProgressModel",
      "state": {
       "bar_style": "success",
       "description": "100%",
       "layout": "IPY_MODEL_ab8e7690a4774a0c8ef09589695a7b62",
       "max": 2225,
       "style": "IPY_MODEL_67638b347da04fedac3ae75484fc62e3",
       "value": 2225
      }
     },
     "261410d4965446d5bf2c8c1ece71edf1": {
      "model_module": "@jupyter-widgets/controls",
      "model_module_version": "1.5.0",
      "model_name": "VBoxModel",
      "state": {
       "_dom_classes": [
        "widget-interact"
       ],
       "children": [
        "IPY_MODEL_457182c7bcf149679eefd055d8d3498a",
        "IPY_MODEL_6d2a9d214ffd4160a8cb200748c13594"
       ],
       "layout": "IPY_MODEL_8d6afcaf3f7846068d8aa4c23f502c63"
      }
     },
     "26f77819a1314b478f5849e54b6ac0a0": {
      "model_module": "@jupyter-widgets/base",
      "model_module_version": "1.2.0",
      "model_name": "LayoutModel",
      "state": {}
     },
     "2989f62379894480a4bf56ad77062fd4": {
      "model_module": "@jupyter-widgets/controls",
      "model_module_version": "1.5.0",
      "model_name": "SliderStyleModel",
      "state": {
       "description_width": ""
      }
     },
     "2b5025d55756425ba1976f8625cf0d01": {
      "model_module": "@jupyter-widgets/base",
      "model_module_version": "1.2.0",
      "model_name": "LayoutModel",
      "state": {}
     },
     "2ba9ab7b249841dab39eadab16fba0c5": {
      "model_module": "@jupyter-widgets/controls",
      "model_module_version": "1.5.0",
      "model_name": "DescriptionStyleModel",
      "state": {
       "description_width": ""
      }
     },
     "2c61af49709b41e69acb0c9c4cfeadbd": {
      "model_module": "@jupyter-widgets/output",
      "model_module_version": "1.0.0",
      "model_name": "OutputModel",
      "state": {
       "layout": "IPY_MODEL_9539780212304d1395b7c33e4213930a",
       "outputs": [
        {
         "name": "stdout",
         "output_type": "stream",
         "text": "{'filename': 'data/bbc/business/001.txt'}\n\nad/sales/boost/time/warner/profit/quarterly/profits/at/us/media/giant/timewarner/jumped/76%/to/$1.13bn/â£600m/for/the/three/months/to/december/from/$639m/year-earlier/the/firm/which/is/now/one/of/the/biggest/investors/in/google/benefited/from/sales/of/high-speed/internet/connections/and/higher/advert/sales/timewarner/said/fourth/quarter/sales/rose/2%/to/$11.1bn/from/$10.9bn/its/profits/were/buoyed/by/one-off/gains/which/offset/a/profit/dip/at/warner bros/and/less/users/for/aol/time/warner/said/on/friday/that/it/now/owns/8%/of/search-engine/google/but/its/own/internet/business/aol/had/has/mixed/fortunes/it/lost/464,000/subscribers/in/the/fourth/quarter/profits/were/lower/than/in/the/preceding/three/quarters/however/the/company/said/aols/underlying/profit/before/exceptional/items/rose/8%/on/the/back/of/stronger/internet/advertising/revenues/it/hopes/to/increase/subscribers/by/offering/the/online/service/free/to/timewarner/internet/customers/and/will/try/to/sign/up/aols/existing/customers/for/high-speed/broadband/timewarner/also/has/to/restate/2000/and/2003/results/following/a/probe/by/the/us/securities/exchange/commission/sec/which/is/close/to/concluding/time/warners/fourth/quarter/profits/were/slightly/better/than/analysts/expectations/but/its/film/division/saw/profits/slump/27%/to/$284m/helped/by/box-office/flops/alexander/and/catwoman/a/sharp/contrast/to/year-earlier/when/the/third/and/final/film/in/the/lord of the rings/trilogy/boosted/results/for/the/full-year/timewarner/posted/a/profit/of/$3.36bn/up/27%/from/its/2003/performance/while/revenues/grew/6.4%/to/$42.09bn/our/financial/performance/was/strong/meeting/or/exceeding/all/of/our/full-year/objectives/and/greatly/enhancing/our/flexibility/chairman/and/chief executive/richard/parsons/said/for/2005/timewarner/is/projecting/operating/earnings/growth/of/around/5%/and/also/expects/higher/revenue/and/wider/profit/margins/timewarner/is/to/restate/its/accounts/as/part/of/efforts/to/resolve/an/inquiry/into/aol/by/us/market/regulators/it/has/already/offered/to/pay/$300m/to/settle/charges/in/a/deal/that/is/under/review/by/the/sec/the/company/said/it/was/unable/to/estimate/the/amount/it/needed/to/set/aside/for/legal/reserves/which/it/previously/set/at/$500m/it/intends/to/adjust/the/way/it/accounts/for/a/deal/with/german/music/publisher/bertelsmanns/purchase/of/a/stake/in/aol/europe/which/it/had/reported/as/advertising/revenue/it/will/now/book/the/sale/of/its/stake/in/aol/europe/as/a/loss/on/the/value/of/that/stake\n"
        }
       ]
      }
     },
     "2c87523cf3af4c51932cfa83c8a1d922": {
      "model_module": "@jupyter-widgets/controls",
      "model_module_version": "1.5.0",
      "model_name": "VBoxModel",
      "state": {
       "_dom_classes": [
        "widget-interact"
       ],
       "children": [
        "IPY_MODEL_e6a9b3d3147f4e9dbbe44e190ed26b07",
        "IPY_MODEL_40edfa5e0f9a460f96ff621e46f3ef09"
       ],
       "layout": "IPY_MODEL_b393419e65f5467782bc1d14b71ca6ec"
      }
     },
     "2cadedd9125844d2bfa32c989b112d2f": {
      "model_module": "@jupyter-widgets/controls",
      "model_module_version": "1.5.0",
      "model_name": "HBoxModel",
      "state": {
       "children": [
        "IPY_MODEL_effb089bf4534544b4396214d72c3cd3",
        "IPY_MODEL_c9575224b5574e4da4800c6db87cfaa4"
       ],
       "layout": "IPY_MODEL_079861a62cd34f33970a9590b7d4f2d3"
      }
     },
     "2cd1cbe18b1b487da44fa7470a4e7fe0": {
      "model_module": "@jupyter-widgets/controls",
      "model_module_version": "1.5.0",
      "model_name": "HTMLModel",
      "state": {
       "layout": "IPY_MODEL_91b8eea9a06f4aedbbf028724696ec85",
       "style": "IPY_MODEL_dc2b6c8910124c1b842944692f07a2f5",
       "value": " 2225/2225 [00:02&lt;00:00, 1004.08it/s]"
      }
     },
     "2cfa88d89a024d5c8a539e3e1cfa6059": {
      "model_module": "@jupyter-widgets/base",
      "model_module_version": "1.2.0",
      "model_name": "LayoutModel",
      "state": {}
     },
     "2d17a70bcb7a416e838cfa0019440c7b": {
      "model_module": "@jupyter-widgets/base",
      "model_module_version": "1.2.0",
      "model_name": "LayoutModel",
      "state": {}
     },
     "2e381aa08f0f498f97bdc2a2aae009da": {
      "model_module": "@jupyter-widgets/controls",
      "model_module_version": "1.5.0",
      "model_name": "VBoxModel",
      "state": {
       "_dom_classes": [
        "widget-interact"
       ],
       "children": [
        "IPY_MODEL_3a292d4848e340bbb03efcb44b4c5546",
        "IPY_MODEL_5259f03c2a4f4730902ea770b0867c84"
       ],
       "layout": "IPY_MODEL_0c6041bc44c44b2793dab67ad5b0794b"
      }
     },
     "2e3f8634fcdf4778a11aa228cd9f177b": {
      "model_module": "@jupyter-widgets/controls",
      "model_module_version": "1.5.0",
      "model_name": "SliderStyleModel",
      "state": {
       "description_width": ""
      }
     },
     "300ddb0791ce4396893229818dff50e8": {
      "model_module": "@jupyter-widgets/output",
      "model_module_version": "1.0.0",
      "model_name": "OutputModel",
      "state": {
       "layout": "IPY_MODEL_510ec16b4b0c460395beef57d1b19385",
       "outputs": [
        {
         "name": "stdout",
         "output_type": "stream",
         "text": "{'filename': 'data/bbc/business/001.txt'}\n\nAd sales boost Time Warner profit\n\nQuarterly profits at US media giant TimeWarner jumped 76% to $1.13bn (Â£600m) for the three months to December, from $639m year-earlier.\n\nThe firm, which is now one of the biggest investors in Google, benefited from sales of high-speed internet connections and higher advert sales. TimeWarner said fourth quarter sales rose 2% to $11.1bn from $10.9bn. Its profits were buoyed by one-off gains which offset a profit dip at Warner Bros, and less users for AOL.\n\nTime Warner said on Friday that it now owns 8% of search-engine Google. But its own internet business, AOL, had has mixed fortunes. It lost 464,000 subscribers in the fourth quarter profits were lower than in the preceding three quarters. However, the company said AOL's underlying profit before exceptional items rose 8% on the back of stronger internet advertising revenues. It hopes to increase subscribers by offering the online service free to TimeWarner internet customers and will try to sign up AOL's existing customers for high-speed broadband. TimeWarner also has to restate 2000 and 2003 results following a probe by the US Securities Exchange Commission (SEC), which is close to concluding.\n\nTime Warner's fourth quarter profits were slightly better than analysts' expectations. But its film division saw profits slump 27% to $284m, helped by box-office flops Alexander and Catwoman, a sharp contrast to year-earlier, when the third and final film in the Lord of the Rings trilogy boosted results. For the full-year, TimeWarner posted a profit of $3.36bn, up 27% from its 2003 performance, while revenues grew 6.4% to $42.09bn. \"Our financial performance was strong, meeting or exceeding all of our full-year objectives and greatly enhancing our flexibility,\" chairman and chief executive Richard Parsons said. For 2005, TimeWarner is projecting operating earnings growth of around 5%, and also expects higher revenue and wider profit margins.\n\nTimeWarner is to restate its accounts as part of efforts to resolve an inquiry into AOL by US market regulators. It has already offered to pay $300m to settle charges, in a deal that is under review by the SEC. The company said it was unable to estimate the amount it needed to set aside for legal reserves, which it previously set at $500m. It intends to adjust the way it accounts for a deal with German music publisher Bertelsmann's purchase of a stake in AOL Europe, which it had reported as advertising revenue. It will now book the sale of its stake in AOL Europe as a loss on the value of that stake.\n\n"
        }
       ]
      }
     },
     "31a6518c370943b9ae97f723ac526da7": {
      "model_module": "@jupyter-widgets/base",
      "model_module_version": "1.2.0",
      "model_name": "LayoutModel",
      "state": {}
     },
     "32a86579503d4936848d1016731ce93a": {
      "model_module": "@jupyter-widgets/base",
      "model_module_version": "1.2.0",
      "model_name": "LayoutModel",
      "state": {}
     },
     "32e3e2a9fbdc4f3db474acfb65f6533c": {
      "model_module": "@jupyter-widgets/controls",
      "model_module_version": "1.5.0",
      "model_name": "HBoxModel",
      "state": {
       "children": [
        "IPY_MODEL_b97cd53d62904097a181a90346720628",
        "IPY_MODEL_430036e9b732488893aa6cd32ec5f343"
       ],
       "layout": "IPY_MODEL_9782f35dfa3340c499561b0f27143e3b"
      }
     },
     "349cab413ef74eff942b88d9befd85fd": {
      "model_module": "@jupyter-widgets/controls",
      "model_module_version": "1.5.0",
      "model_name": "HTMLModel",
      "state": {
       "layout": "IPY_MODEL_cc8b5bc06197474cbc65c988f04f6585",
       "style": "IPY_MODEL_6d7aa3cc700247aab7fcd41346f58c82",
       "value": " 2225/2225 [00:01&lt;00:00, 1878.49it/s]"
      }
     },
     "363d527b513e4ffab5f46f0a9cc2737b": {
      "model_module": "@jupyter-widgets/base",
      "model_module_version": "1.2.0",
      "model_name": "LayoutModel",
      "state": {}
     },
     "365a93eda9494d818bf9912d779dd05d": {
      "model_module": "@jupyter-widgets/base",
      "model_module_version": "1.2.0",
      "model_name": "LayoutModel",
      "state": {}
     },
     "368a8c4fc4d14966ac01fcd08df28ad5": {
      "model_module": "@jupyter-widgets/controls",
      "model_module_version": "1.5.0",
      "model_name": "ProgressStyleModel",
      "state": {
       "description_width": "initial"
      }
     },
     "36a16470fcad44248497facfac597304": {
      "model_module": "@jupyter-widgets/base",
      "model_module_version": "1.2.0",
      "model_name": "LayoutModel",
      "state": {}
     },
     "3715aac293b54c21a2fd61f9c202a974": {
      "model_module": "@jupyter-widgets/base",
      "model_module_version": "1.2.0",
      "model_name": "LayoutModel",
      "state": {}
     },
     "3a292d4848e340bbb03efcb44b4c5546": {
      "model_module": "@jupyter-widgets/controls",
      "model_module_version": "1.5.0",
      "model_name": "IntSliderModel",
      "state": {
       "description": "doc_id",
       "layout": "IPY_MODEL_9ed5f929f05949ca81047f3a84ae1e84",
       "max": 2224,
       "style": "IPY_MODEL_5c718fb3a6c54077b79a5a284570c0e0"
      }
     },
     "3a4a65d4f57544fcabc1478751bc2fe1": {
      "model_module": "@jupyter-widgets/base",
      "model_module_version": "1.2.0",
      "model_name": "LayoutModel",
      "state": {}
     },
     "3a4ca53e1a7348ad945c93ed8cfd9c7d": {
      "model_module": "@jupyter-widgets/controls",
      "model_module_version": "1.5.0",
      "model_name": "HTMLModel",
      "state": {
       "layout": "IPY_MODEL_dd827b29ca614ad3998c35241c8cef6d",
       "style": "IPY_MODEL_12eac97d93c141ee9218f83272804ed9",
       "value": " 2225/2225 [00:01&lt;00:00, 1999.11it/s]"
      }
     },
     "3ad6604a3f8048a6bbbebc109a34cfd6": {
      "model_module": "@jupyter-widgets/base",
      "model_module_version": "1.2.0",
      "model_name": "LayoutModel",
      "state": {}
     },
     "3c19817ec93243aab09561dd7fa2c901": {
      "model_module": "@jupyter-widgets/base",
      "model_module_version": "1.2.0",
      "model_name": "LayoutModel",
      "state": {}
     },
     "40c8cca9ca164ababbd15b3433ff3936": {
      "model_module": "@jupyter-widgets/controls",
      "model_module_version": "1.5.0",
      "model_name": "IntSliderModel",
      "state": {
       "description": "doc_id",
       "layout": "IPY_MODEL_3715aac293b54c21a2fd61f9c202a974",
       "max": 2224,
       "style": "IPY_MODEL_e0124593b0c44abd9513bcab0add6daa"
      }
     },
     "40edfa5e0f9a460f96ff621e46f3ef09": {
      "model_module": "@jupyter-widgets/output",
      "model_module_version": "1.0.0",
      "model_name": "OutputModel",
      "state": {
       "layout": "IPY_MODEL_d3695e9fbb1d492897e2bf10043e8e65",
       "outputs": [
        {
         "name": "stdout",
         "output_type": "stream",
         "text": "{'filename': 'data/bbc/business/001.txt'}\n\n----------\n\nad | sales | boost | time | warner | profit | quarterly | profits | us | media | giant | jumped | $1.13bn | three | months | december | firm | biggest | investors | google | benefited | sales | high-speed | internet | connections | higher | advert | sales | fourth | quarter | sales | rose | profits | buoyed | one-off | gains | offset | profit | dip | warner bros | less | users | aol | time | warner | friday | owns | google | internet | business | aol | mixed | fortunes | lost | subscribers | fourth | quarter | profits | lower | preceding | three | quarters | however | company | underlying | profit | exceptional | items | rose | back | stronger | internet | advertising | revenues | hopes | increase | subscribers | offering | online | service | free | internet | customers | try | sign | existing | customers | high-speed | broadband | restate | results | following | probe | us | securities | exchange | commission | sec | close | concluding | time | fourth | quarter | profits | slightly | better | analysts | expectations | film | division | saw | profits | slump | helped | box-office | flops | alexander | sharp | contrast | third | final | film | lord of the rings | trilogy | boosted | results | full-year | posted | profit | performance | revenues | grew | financial | performance | strong | meeting | exceeding | full-year | objectives | greatly | enhancing | flexibility | chairman | chief executive | richard | parsons | projecting | operating | earnings | growth | around | expects | higher | revenue | wider | profit | margins | restate | accounts | part | efforts | resolve | inquiry | aol | us | market | regulators | already | offered | pay | $300m | settle | charges | deal | review | sec | company | unable | estimate | amount | needed | set | aside | legal | reserves | previously | set | $500m | intends | adjust | way | accounts | deal | german | music | publisher | purchase | stake | aol | europe | reported | advertising | revenue | book | sale | stake | aol | europe | loss | value | stake\n\n----------\n\n"
        },
        {
         "data": {
          "text/html": "<html><body><strong>Ad sales boost Time Warner profit</strong><p>Quarterly profits at US media giant TimeWarner jumped 76% to \\$1.13bn (Â£600m) for the three months to December, from \\$639m year-earlier.</p>\n<p>The firm, which is now one of the biggest investors in Google, benefited from sales of high-speed internet connections and higher advert sales. TimeWarner said fourth quarter sales rose 2% to \\$11.1bn from \\$10.9bn. Its profits were buoyed by one-off gains which offset a profit dip at Warner Bros, and less users for AOL.</p>\n<p>Time Warner said on Friday that it now owns 8% of search-engine Google. But its own internet business, AOL, had has mixed fortunes. It lost 464,000 subscribers in the fourth quarter profits were lower than in the preceding three quarters. However, the company said AOL's underlying profit before exceptional items rose 8% on the back of stronger internet advertising revenues. It hopes to increase subscribers by offering the online service free to TimeWarner internet customers and will try to sign up AOL's existing customers for high-speed broadband. TimeWarner also has to restate 2000 and 2003 results following a probe by the US Securities Exchange Commission (SEC), which is close to concluding.</p>\n<p>Time Warner's fourth quarter profits were slightly better than analysts' expectations. But its film division saw profits slump 27% to \\$284m, helped by box-office flops Alexander and Catwoman, a sharp contrast to year-earlier, when the third and final film in the Lord of the Rings trilogy boosted results. For the full-year, TimeWarner posted a profit of \\$3.36bn, up 27% from its 2003 performance, while revenues grew 6.4% to \\$42.09bn. \"Our financial performance was strong, meeting or exceeding all of our full-year objectives and greatly enhancing our flexibility,\" chairman and chief executive Richard Parsons said. For 2005, TimeWarner is projecting operating earnings growth of around 5%, and also expects higher revenue and wider profit margins.</p>\n<p>TimeWarner is to restate its accounts as part of efforts to resolve an inquiry into AOL by US market regulators. It has already offered to pay \\$300m to settle charges, in a deal that is under review by the SEC. The company said it was unable to estimate the amount it needed to set aside for legal reserves, which it previously set at \\$500m. It intends to adjust the way it accounts for a deal with German music publisher Bertelsmann's purchase of a stake in AOL Europe, which it had reported as advertising revenue. It will now book the sale of its stake in AOL Europe as a loss on the value of that stake.</p></body></html>",
          "text/plain": "<IPython.core.display.HTML object>"
         },
         "metadata": {},
         "output_type": "display_data"
        }
       ]
      }
     },
     "41001dc06ccb45eaadaa47a21dc8799b": {
      "model_module": "@jupyter-widgets/controls",
      "model_module_version": "1.5.0",
      "model_name": "HBoxModel",
      "state": {
       "children": [
        "IPY_MODEL_f39d3385b7324f75b06df19ba69de392",
        "IPY_MODEL_0466812ce9594ae09704f5716d44112d"
       ],
       "layout": "IPY_MODEL_365a93eda9494d818bf9912d779dd05d"
      }
     },
     "430036e9b732488893aa6cd32ec5f343": {
      "model_module": "@jupyter-widgets/controls",
      "model_module_version": "1.5.0",
      "model_name": "HTMLModel",
      "state": {
       "layout": "IPY_MODEL_7c2e397034054d4892834e30077f59fa",
       "style": "IPY_MODEL_8a199974b7804c4b9537b02ea41b1a33",
       "value": " 2225/2225 [00:05&lt;00:00, 426.08it/s]"
      }
     },
     "447f08805e344055b7640e533e82a1c0": {
      "model_module": "@jupyter-widgets/controls",
      "model_module_version": "1.5.0",
      "model_name": "VBoxModel",
      "state": {
       "_dom_classes": [
        "widget-interact"
       ],
       "children": [
        "IPY_MODEL_918ec9eafd2f48f68cf622f64316b841",
        "IPY_MODEL_196bcfda2c2f4275a590e66a45e98398"
       ],
       "layout": "IPY_MODEL_8bf5e947dd454c469c423071a1636b0b"
      }
     },
     "44e2c0138cff42f4932e4d2d2ddf988c": {
      "model_module": "@jupyter-widgets/controls",
      "model_module_version": "1.5.0",
      "model_name": "VBoxModel",
      "state": {
       "_dom_classes": [
        "widget-interact"
       ],
       "children": [
        "IPY_MODEL_fae19f1899aa4defab8de2ae113f3223",
        "IPY_MODEL_e6f1d7ea63174efb9b6745529c6f8c1d"
       ],
       "layout": "IPY_MODEL_cbc88be473bb4990bda8cae93692c020"
      }
     },
     "457182c7bcf149679eefd055d8d3498a": {
      "model_module": "@jupyter-widgets/controls",
      "model_module_version": "1.5.0",
      "model_name": "IntSliderModel",
      "state": {
       "description": "index",
       "layout": "IPY_MODEL_bb4193acb1de444aa0e1cac19c25fbd7",
       "max": 2117,
       "style": "IPY_MODEL_f759c83601004aaaa04d31390228087f"
      }
     },
     "47048ab4fac94d7e90b7c6aef645b4a0": {
      "model_module": "@jupyter-widgets/controls",
      "model_module_version": "1.5.0",
      "model_name": "SliderStyleModel",
      "state": {
       "description_width": ""
      }
     },
     "471c24977b614d0392e237dcb25edca9": {
      "model_module": "@jupyter-widgets/base",
      "model_module_version": "1.2.0",
      "model_name": "LayoutModel",
      "state": {}
     },
     "493e8f933c1d4720831685362262ddad": {
      "model_module": "@jupyter-widgets/controls",
      "model_module_version": "1.5.0",
      "model_name": "SliderStyleModel",
      "state": {
       "description_width": ""
      }
     },
     "4a3ed32352254eeebe3368a117a9a382": {
      "model_module": "@jupyter-widgets/controls",
      "model_module_version": "1.5.0",
      "model_name": "SliderStyleModel",
      "state": {
       "description_width": ""
      }
     },
     "4a708d4c6ca14a04b20f05decbbd0458": {
      "model_module": "@jupyter-widgets/output",
      "model_module_version": "1.0.0",
      "model_name": "OutputModel",
      "state": {
       "layout": "IPY_MODEL_3ad6604a3f8048a6bbbebc109a34cfd6",
       "outputs": [
        {
         "name": "stdout",
         "output_type": "stream",
         "text": "{'filename': 'data/bbc/business/001.txt'}\n\nad sales boost time warner profit quarterly profits at us media giant timewarner jumped 76% to $1.13bn â£600m for the three months to december from $639m year-earlier the firm which is now one of the biggest investors in google benefited from sales of high-speed internet connections and higher advert sales timewarner said fourth quarter sales rose 2% to $11.1bn from $10.9bn its profits were buoyed by one-off gains which offset a profit dip at warner bros and less users for aol time warner said on friday that it now owns 8% of search-engine google but its own internet business aol had has mixed fortunes it lost 464,000 subscribers in the fourth quarter profits were lower than in the preceding three quarters however the company said aols underlying profit before exceptional items rose 8% on the back of stronger internet advertising revenues it hopes to increase subscribers by offering the online service free to timewarner internet customers and will try to sign up aols existing customers for high-speed broadband timewarner also has to restate 2000 and 2003 results following a probe by the us securities exchange commission sec which is close to concluding time warners fourth quarter profits were slightly better than analysts expectations but its film division saw profits slump 27% to $284m helped by box-office flops alexander and catwoman a sharp contrast to year-earlier when the third and final film in the lord of the rings trilogy boosted results for the full-year timewarner posted a profit of $3.36bn up 27% from its 2003 performance while revenues grew 6.4% to $42.09bn our financial performance was strong meeting or exceeding all of our full-year objectives and greatly enhancing our flexibility chairman and chief executive richard parsons said for 2005 timewarner is projecting operating earnings growth of around 5% and also expects higher revenue and wider profit margins timewarner is to restate its accounts as part of efforts to resolve an inquiry into aol by us market regulators it has already offered to pay $300m to settle charges in a deal that is under review by the sec the company said it was unable to estimate the amount it needed to set aside for legal reserves which it previously set at $500m it intends to adjust the way it accounts for a deal with german music publisher bertelsmanns purchase of a stake in aol europe which it had reported as advertising revenue it will now book the sale of its stake in aol europe as a loss on the value of that stake\n"
        }
       ]
      }
     },
     "4c1cd8050ce24962afbb39b148357c33": {
      "model_module": "@jupyter-widgets/base",
      "model_module_version": "1.2.0",
      "model_name": "LayoutModel",
      "state": {}
     },
     "4df391293247441dba818e14d38af8ea": {
      "model_module": "@jupyter-widgets/base",
      "model_module_version": "1.2.0",
      "model_name": "LayoutModel",
      "state": {}
     },
     "4e117601b9bc48aaa7486e20b175d7e5": {
      "model_module": "@jupyter-widgets/controls",
      "model_module_version": "1.5.0",
      "model_name": "IntSliderModel",
      "state": {
       "description": "doc_id",
       "layout": "IPY_MODEL_5c36c5e791304678a52479b26cb46e09",
       "max": 2224,
       "style": "IPY_MODEL_6672a299d04a4721be8a32dce3b268e8"
      }
     },
     "4faf6f241b9a45da80d1f7f6cb25e33e": {
      "model_module": "@jupyter-widgets/base",
      "model_module_version": "1.2.0",
      "model_name": "LayoutModel",
      "state": {}
     },
     "50b14b08e2894697b1183520a9251d61": {
      "model_module": "@jupyter-widgets/base",
      "model_module_version": "1.2.0",
      "model_name": "LayoutModel",
      "state": {}
     },
     "50db50e852ed42299992f53ff9b2511a": {
      "model_module": "@jupyter-widgets/controls",
      "model_module_version": "1.5.0",
      "model_name": "IntSliderModel",
      "state": {
       "description": "doc_id",
       "layout": "IPY_MODEL_3c19817ec93243aab09561dd7fa2c901",
       "max": 2224,
       "style": "IPY_MODEL_2e3f8634fcdf4778a11aa228cd9f177b"
      }
     },
     "510ec16b4b0c460395beef57d1b19385": {
      "model_module": "@jupyter-widgets/base",
      "model_module_version": "1.2.0",
      "model_name": "LayoutModel",
      "state": {}
     },
     "5259f03c2a4f4730902ea770b0867c84": {
      "model_module": "@jupyter-widgets/output",
      "model_module_version": "1.0.0",
      "model_name": "OutputModel",
      "state": {
       "layout": "IPY_MODEL_1f898984afc444e49b13dc17023418de",
       "outputs": [
        {
         "name": "stdout",
         "output_type": "stream",
         "text": "{'filename': 'data/bbc/business/001.txt'}\n\nad sales boost time warner profit quarterly profits at us media giant timewarner jumped to $1.13bn â£600m for the three months to december from $639m year-earlier the firm which is now one of the biggest investors in google benefited from sales of high-speed internet connections and higher advert sales timewarner said fourth quarter sales rose to $11.1bn from $10.9bn its profits were buoyed by one-off gains which offset profit dip at warner bros and less users for aol time warner said on friday that it now owns of search-engine google but its own internet business aol had has mixed fortunes it lost subscribers in the fourth quarter profits were lower than in the preceding three quarters however the company said aols underlying profit before exceptional items rose on the back of stronger internet advertising revenues it hopes to increase subscribers by offering the online service free to timewarner internet customers and will try to sign up aols existing customers for high-speed broadband timewarner also has to restate and results following probe by the us securities exchange commission sec which is close to concluding time warners fourth quarter profits were slightly better than analysts expectations but its film division saw profits slump to $284m helped by box-office flops alexander and catwoman sharp contrast to year-earlier when the third and final film in the lord_of_the_rings trilogy boosted results for the full-year timewarner posted profit of $3.36bn up from its performance while revenues grew to $42.09bn our financial performance was strong meeting or exceeding all of our full-year objectives and greatly enhancing our flexibility chairman and chief_executive richard parsons said for timewarner is projecting operating earnings growth of around and also expects higher revenue and wider profit margins timewarner is to restate its accounts as part of efforts to resolve an inquiry into aol by us market regulators it has already offered to pay $300m to settle charges in deal that is under review by the sec the company said it was unable to estimate the amount it needed to set aside for legal reserves which it previously set at $500m it intends to adjust the way it accounts for deal with german music publisher bertelsmanns purchase of stake in aol europe which it had reported as advertising revenue it will now book the sale of its stake in aol europe as loss on the value of that stake\n"
        }
       ]
      }
     },
     "57548976d21e4e58b1e87f592704c22e": {
      "model_module": "@jupyter-widgets/controls",
      "model_module_version": "1.5.0",
      "model_name": "HBoxModel",
      "state": {
       "children": [
        "IPY_MODEL_d9561546fd424ecfa298c6cfe9f5a0b7",
        "IPY_MODEL_a38e6cf5a84549d0a39b1c23c9f41101"
       ],
       "layout": "IPY_MODEL_cfaf025a25cb4105820481087b029892"
      }
     },
     "576ac2bef77b4f3183d585d7ade9df6a": {
      "model_module": "@jupyter-widgets/controls",
      "model_module_version": "1.5.0",
      "model_name": "VBoxModel",
      "state": {
       "_dom_classes": [
        "widget-interact"
       ],
       "children": [
        "IPY_MODEL_852f9e53ac14486890d75868201eed5a",
        "IPY_MODEL_7e97b70e38e74bf28ee2ccf72758d747"
       ],
       "layout": "IPY_MODEL_f794d063096143aaa15f613db42b4195"
      }
     },
     "5888ba2ba30d42aeb8e1be1751d8d2e8": {
      "model_module": "@jupyter-widgets/base",
      "model_module_version": "1.2.0",
      "model_name": "LayoutModel",
      "state": {}
     },
     "596c9f0a5ee54976b5c305733046eb20": {
      "model_module": "@jupyter-widgets/controls",
      "model_module_version": "1.5.0",
      "model_name": "VBoxModel",
      "state": {
       "_dom_classes": [
        "widget-interact"
       ],
       "children": [
        "IPY_MODEL_72c64a752960491d904da0ddbdf4798b",
        "IPY_MODEL_972d09b6a6024423a6de54b5f13114a5"
       ],
       "layout": "IPY_MODEL_c8473dedaa18462dbd9ed2df63cffc33"
      }
     },
     "59ded062400344c4867a54e78d9cef42": {
      "model_module": "@jupyter-widgets/controls",
      "model_module_version": "1.5.0",
      "model_name": "VBoxModel",
      "state": {
       "_dom_classes": [
        "widget-interact"
       ],
       "children": [
        "IPY_MODEL_1eb08d78757940ed9d2ba8d0a89b91f7",
        "IPY_MODEL_9e4af03ec06c45fa87f311b1a026c12d"
       ],
       "layout": "IPY_MODEL_e7d4a22b740948fab3640bbe5fe3775b"
      }
     },
     "5c36c5e791304678a52479b26cb46e09": {
      "model_module": "@jupyter-widgets/base",
      "model_module_version": "1.2.0",
      "model_name": "LayoutModel",
      "state": {}
     },
     "5c718fb3a6c54077b79a5a284570c0e0": {
      "model_module": "@jupyter-widgets/controls",
      "model_module_version": "1.5.0",
      "model_name": "SliderStyleModel",
      "state": {
       "description_width": ""
      }
     },
     "5cfd355d6cfb4f6aa09aafe3f8900dbc": {
      "model_module": "@jupyter-widgets/controls",
      "model_module_version": "1.5.0",
      "model_name": "SliderStyleModel",
      "state": {
       "description_width": ""
      }
     },
     "5ef399c6dc0c461f93782bd4466cf444": {
      "model_module": "@jupyter-widgets/base",
      "model_module_version": "1.2.0",
      "model_name": "LayoutModel",
      "state": {}
     },
     "5ffbbbd68d8a472ca7eb36145ac5839e": {
      "model_module": "@jupyter-widgets/controls",
      "model_module_version": "1.5.0",
      "model_name": "DescriptionStyleModel",
      "state": {
       "description_width": ""
      }
     },
     "60efc3b1b3f04233852820a2c7e59a77": {
      "model_module": "@jupyter-widgets/controls",
      "model_module_version": "1.5.0",
      "model_name": "ProgressStyleModel",
      "state": {
       "description_width": "initial"
      }
     },
     "6186d23878b0473892f74eb69ac82ae1": {
      "model_module": "@jupyter-widgets/controls",
      "model_module_version": "1.5.0",
      "model_name": "HBoxModel",
      "state": {
       "children": [
        "IPY_MODEL_7798307dbf36428690b8c2a1c7b0d9b1",
        "IPY_MODEL_ec6606a7eb014c2ba4de7eef764f9040"
       ],
       "layout": "IPY_MODEL_02f05744b4a1459d9b0d8fa0cfd07121"
      }
     },
     "6337191408304d348f3ed63a20438fd6": {
      "model_module": "@jupyter-widgets/controls",
      "model_module_version": "1.5.0",
      "model_name": "DescriptionStyleModel",
      "state": {
       "description_width": ""
      }
     },
     "6672a299d04a4721be8a32dce3b268e8": {
      "model_module": "@jupyter-widgets/controls",
      "model_module_version": "1.5.0",
      "model_name": "SliderStyleModel",
      "state": {
       "description_width": ""
      }
     },
     "67638b347da04fedac3ae75484fc62e3": {
      "model_module": "@jupyter-widgets/controls",
      "model_module_version": "1.5.0",
      "model_name": "ProgressStyleModel",
      "state": {
       "description_width": "initial"
      }
     },
     "68b337cd8d1548a7bd93e77e58b97636": {
      "model_module": "@jupyter-widgets/base",
      "model_module_version": "1.2.0",
      "model_name": "LayoutModel",
      "state": {}
     },
     "698ae53ebecd4b0f8ff05bcac1014129": {
      "model_module": "@jupyter-widgets/base",
      "model_module_version": "1.2.0",
      "model_name": "LayoutModel",
      "state": {}
     },
     "6c8594d8f85549828e94fc4ef5929ddb": {
      "model_module": "@jupyter-widgets/base",
      "model_module_version": "1.2.0",
      "model_name": "LayoutModel",
      "state": {}
     },
     "6d2a9d214ffd4160a8cb200748c13594": {
      "model_module": "@jupyter-widgets/output",
      "model_module_version": "1.0.0",
      "model_name": "OutputModel",
      "state": {
       "layout": "IPY_MODEL_94006fa19d1e4168b67d7b67067580a1",
       "outputs": [
        {
         "name": "stdout",
         "output_type": "stream",
         "text": "{'filename': 'data/bbc/business/001.txt'}\n\n----------\n\nad | sales | boost | time | warner | profit | quarterly | profits | us | media | giant | jumped | $1.13bn | three | months | december | firm | biggest | investors | google | benefited | sales | high-speed | internet | connections | higher | advert | sales | fourth | quarter | sales | rose | profits | buoyed | one-off | gains | offset | profit | dip | warner bros | less | users | aol | time | warner | friday | owns | google | internet | business | aol | mixed | fortunes | lost | subscribers | fourth | quarter | profits | lower | preceding | three | quarters | however | company | underlying | profit | exceptional | items | rose | back | stronger | internet | advertising | revenues | hopes | increase | subscribers | offering | online | service | free | internet | customers | try | sign | existing | customers | high-speed | broadband | restate | results | following | probe | us | securities | exchange | commission | sec | close | concluding | time | fourth | quarter | profits | slightly | better | analysts | expectations | film | division | saw | profits | slump | helped | box-office | flops | alexander | sharp | contrast | third | final | film | lord of the rings | trilogy | boosted | results | full-year | posted | profit | performance | revenues | grew | financial | performance | strong | meeting | exceeding | full-year | objectives | greatly | enhancing | flexibility | chairman | chief executive | richard | parsons | projecting | operating | earnings | growth | around | expects | higher | revenue | wider | profit | margins | restate | accounts | part | efforts | resolve | inquiry | aol | us | market | regulators | already | offered | pay | $300m | settle | charges | deal | review | sec | company | unable | estimate | amount | needed | set | aside | legal | reserves | previously | set | $500m | intends | adjust | way | accounts | deal | german | music | publisher | purchase | stake | aol | europe | reported | advertising | revenue | book | sale | stake | aol | europe | loss | value | stake\n\n----------\n\n"
        },
        {
         "data": {
          "text/html": "<html><body><strong>Ad sales boost Time Warner profit</strong><p>Quarterly profits at US media giant TimeWarner jumped 76% to \\$1.13bn (Â£600m) for the three months to December, from \\$639m year-earlier.</p>\n<p>The firm, which is now one of the biggest investors in Google, benefited from sales of high-speed internet connections and higher advert sales. TimeWarner said fourth quarter sales rose 2% to \\$11.1bn from \\$10.9bn. Its profits were buoyed by one-off gains which offset a profit dip at Warner Bros, and less users for AOL.</p>\n<p>Time Warner said on Friday that it now owns 8% of search-engine Google. But its own internet business, AOL, had has mixed fortunes. It lost 464,000 subscribers in the fourth quarter profits were lower than in the preceding three quarters. However, the company said AOL's underlying profit before exceptional items rose 8% on the back of stronger internet advertising revenues. It hopes to increase subscribers by offering the online service free to TimeWarner internet customers and will try to sign up AOL's existing customers for high-speed broadband. TimeWarner also has to restate 2000 and 2003 results following a probe by the US Securities Exchange Commission (SEC), which is close to concluding.</p>\n<p>Time Warner's fourth quarter profits were slightly better than analysts' expectations. But its film division saw profits slump 27% to \\$284m, helped by box-office flops Alexander and Catwoman, a sharp contrast to year-earlier, when the third and final film in the Lord of the Rings trilogy boosted results. For the full-year, TimeWarner posted a profit of \\$3.36bn, up 27% from its 2003 performance, while revenues grew 6.4% to \\$42.09bn. \"Our financial performance was strong, meeting or exceeding all of our full-year objectives and greatly enhancing our flexibility,\" chairman and chief executive Richard Parsons said. For 2005, TimeWarner is projecting operating earnings growth of around 5%, and also expects higher revenue and wider profit margins.</p>\n<p>TimeWarner is to restate its accounts as part of efforts to resolve an inquiry into AOL by US market regulators. It has already offered to pay \\$300m to settle charges, in a deal that is under review by the SEC. The company said it was unable to estimate the amount it needed to set aside for legal reserves, which it previously set at \\$500m. It intends to adjust the way it accounts for a deal with German music publisher Bertelsmann's purchase of a stake in AOL Europe, which it had reported as advertising revenue. It will now book the sale of its stake in AOL Europe as a loss on the value of that stake.</p></body></html>",
          "text/plain": "<IPython.core.display.HTML object>"
         },
         "metadata": {},
         "output_type": "display_data"
        }
       ]
      }
     },
     "6d337835d94e4b73b5fb0e6c5e9ab5e5": {
      "model_module": "@jupyter-widgets/controls",
      "model_module_version": "1.5.0",
      "model_name": "VBoxModel",
      "state": {
       "_dom_classes": [
        "widget-interact"
       ],
       "children": [
        "IPY_MODEL_50db50e852ed42299992f53ff9b2511a",
        "IPY_MODEL_162a6b821420490482099b9e0e46fa2e"
       ],
       "layout": "IPY_MODEL_32a86579503d4936848d1016731ce93a"
      }
     },
     "6d7aa3cc700247aab7fcd41346f58c82": {
      "model_module": "@jupyter-widgets/controls",
      "model_module_version": "1.5.0",
      "model_name": "DescriptionStyleModel",
      "state": {
       "description_width": ""
      }
     },
     "6e00852740654ebd86b0f2471214748c": {
      "model_module": "@jupyter-widgets/base",
      "model_module_version": "1.2.0",
      "model_name": "LayoutModel",
      "state": {}
     },
     "6e2d7a2b5ae14a82bc6493af5230b988": {
      "model_module": "@jupyter-widgets/base",
      "model_module_version": "1.2.0",
      "model_name": "LayoutModel",
      "state": {}
     },
     "72c64a752960491d904da0ddbdf4798b": {
      "model_module": "@jupyter-widgets/controls",
      "model_module_version": "1.5.0",
      "model_name": "IntSliderModel",
      "state": {
       "description": "doc_id",
       "layout": "IPY_MODEL_4df391293247441dba818e14d38af8ea",
       "max": 2224,
       "style": "IPY_MODEL_4a3ed32352254eeebe3368a117a9a382"
      }
     },
     "7684e157027645c0a76c824b5a1e625e": {
      "model_module": "@jupyter-widgets/base",
      "model_module_version": "1.2.0",
      "model_name": "LayoutModel",
      "state": {}
     },
     "76dda78ccf7d4eb2995b9a56a09bbb72": {
      "model_module": "@jupyter-widgets/base",
      "model_module_version": "1.2.0",
      "model_name": "LayoutModel",
      "state": {}
     },
     "775337a82a0140a18084ef77e69184ec": {
      "model_module": "@jupyter-widgets/controls",
      "model_module_version": "1.5.0",
      "model_name": "DescriptionStyleModel",
      "state": {
       "description_width": ""
      }
     },
     "7798307dbf36428690b8c2a1c7b0d9b1": {
      "model_module": "@jupyter-widgets/controls",
      "model_module_version": "1.5.0",
      "model_name": "FloatProgressModel",
      "state": {
       "bar_style": "success",
       "description": "100%",
       "layout": "IPY_MODEL_2cfa88d89a024d5c8a539e3e1cfa6059",
       "max": 2225,
       "style": "IPY_MODEL_fc5cff9bbbc34b058420192c1db99068",
       "value": 2225
      }
     },
     "7c2e397034054d4892834e30077f59fa": {
      "model_module": "@jupyter-widgets/base",
      "model_module_version": "1.2.0",
      "model_name": "LayoutModel",
      "state": {}
     },
     "7e214798cfde4117a693a62e05539450": {
      "model_module": "@jupyter-widgets/controls",
      "model_module_version": "1.5.0",
      "model_name": "SliderStyleModel",
      "state": {
       "description_width": ""
      }
     },
     "7e97b70e38e74bf28ee2ccf72758d747": {
      "model_module": "@jupyter-widgets/output",
      "model_module_version": "1.0.0",
      "model_name": "OutputModel",
      "state": {
       "layout": "IPY_MODEL_148252665094435e8ace984917805cf3",
       "outputs": [
        {
         "name": "stdout",
         "output_type": "stream",
         "text": "{'filename': 'data/bbc/business/001.txt'}\n\n----------\n\nad | sales | boost | time | warner | profit | quarterly | profits | us | media | giant | jumped | $1.13bn | three | months | december | firm | biggest | investors | google | benefited | sales | high-speed | internet | connections | higher | advert | sales | fourth | quarter | sales | rose | profits | buoyed | one-off | gains | offset | profit | dip | warner bros | less | users | aol | time | warner | friday | owns | google | internet | business | aol | mixed | fortunes | lost | subscribers | fourth | quarter | profits | lower | preceding | three | quarters | however | company | underlying | profit | exceptional | items | rose | back | stronger | internet | advertising | revenues | hopes | increase | subscribers | offering | online | service | free | internet | customers | try | sign | existing | customers | high-speed | broadband | restate | results | following | probe | us | securities | exchange | commission | sec | close | concluding | time | fourth | quarter | profits | slightly | better | analysts | expectations | film | division | saw | profits | slump | helped | box-office | flops | alexander | sharp | contrast | third | final | film | lord of the rings | trilogy | boosted | results | full-year | posted | profit | performance | revenues | grew | financial | performance | strong | meeting | exceeding | full-year | objectives | greatly | enhancing | flexibility | chairman | chief executive | richard | parsons | projecting | operating | earnings | growth | around | expects | higher | revenue | wider | profit | margins | restate | accounts | part | efforts | resolve | inquiry | aol | us | market | regulators | already | offered | pay | $300m | settle | charges | deal | review | sec | company | unable | estimate | amount | needed | set | aside | legal | reserves | previously | set | $500m | intends | adjust | way | accounts | deal | german | music | publisher | purchase | stake | aol | europe | reported | advertising | revenue | book | sale | stake | aol | europe | loss | value | stake\n\n----------\n\n"
        },
        {
         "data": {
          "text/html": "<html><body><strong>Ad sales boost Time Warner profit</strong><p>Quarterly profits at US media giant TimeWarner jumped 76% to \\$1.13bn (Â£600m) for the three months to December, from \\$639m year-earlier.</p>\n<p>The firm, which is now one of the biggest investors in Google, benefited from sales of high-speed internet connections and higher advert sales. TimeWarner said fourth quarter sales rose 2% to \\$11.1bn from \\$10.9bn. Its profits were buoyed by one-off gains which offset a profit dip at Warner Bros, and less users for AOL.</p>\n<p>Time Warner said on Friday that it now owns 8% of search-engine Google. But its own internet business, AOL, had has mixed fortunes. It lost 464,000 subscribers in the fourth quarter profits were lower than in the preceding three quarters. However, the company said AOL's underlying profit before exceptional items rose 8% on the back of stronger internet advertising revenues. It hopes to increase subscribers by offering the online service free to TimeWarner internet customers and will try to sign up AOL's existing customers for high-speed broadband. TimeWarner also has to restate 2000 and 2003 results following a probe by the US Securities Exchange Commission (SEC), which is close to concluding.</p>\n<p>Time Warner's fourth quarter profits were slightly better than analysts' expectations. But its film division saw profits slump 27% to \\$284m, helped by box-office flops Alexander and Catwoman, a sharp contrast to year-earlier, when the third and final film in the Lord of the Rings trilogy boosted results. For the full-year, TimeWarner posted a profit of \\$3.36bn, up 27% from its 2003 performance, while revenues grew 6.4% to \\$42.09bn. \"Our financial performance was strong, meeting or exceeding all of our full-year objectives and greatly enhancing our flexibility,\" chairman and chief executive Richard Parsons said. For 2005, TimeWarner is projecting operating earnings growth of around 5%, and also expects higher revenue and wider profit margins.</p>\n<p>TimeWarner is to restate its accounts as part of efforts to resolve an inquiry into AOL by US market regulators. It has already offered to pay \\$300m to settle charges, in a deal that is under review by the SEC. The company said it was unable to estimate the amount it needed to set aside for legal reserves, which it previously set at \\$500m. It intends to adjust the way it accounts for a deal with German music publisher Bertelsmann's purchase of a stake in AOL Europe, which it had reported as advertising revenue. It will now book the sale of its stake in AOL Europe as a loss on the value of that stake.</p></body></html>",
          "text/plain": "<IPython.core.display.HTML object>"
         },
         "metadata": {},
         "output_type": "display_data"
        }
       ]
      }
     },
     "804f6c01f47c4809b29ff0b2663a0515": {
      "model_module": "@jupyter-widgets/controls",
      "model_module_version": "1.5.0",
      "model_name": "VBoxModel",
      "state": {
       "_dom_classes": [
        "widget-interact"
       ],
       "children": [
        "IPY_MODEL_4e117601b9bc48aaa7486e20b175d7e5",
        "IPY_MODEL_2c61af49709b41e69acb0c9c4cfeadbd"
       ],
       "layout": "IPY_MODEL_d07add8d5f76481c998a7513f24082b0"
      }
     },
     "815a55bc1de84adc9ce2457971bb1f5e": {
      "model_module": "@jupyter-widgets/base",
      "model_module_version": "1.2.0",
      "model_name": "LayoutModel",
      "state": {}
     },
     "840311a58c7d4fe485ec4462a36bf669": {
      "model_module": "@jupyter-widgets/controls",
      "model_module_version": "1.5.0",
      "model_name": "DescriptionStyleModel",
      "state": {
       "description_width": ""
      }
     },
     "844054c838b842f18bb1cf8337030f74": {
      "model_module": "@jupyter-widgets/controls",
      "model_module_version": "1.5.0",
      "model_name": "SliderStyleModel",
      "state": {
       "description_width": ""
      }
     },
     "852f9e53ac14486890d75868201eed5a": {
      "model_module": "@jupyter-widgets/controls",
      "model_module_version": "1.5.0",
      "model_name": "IntSliderModel",
      "state": {
       "description": "index",
       "layout": "IPY_MODEL_815a55bc1de84adc9ce2457971bb1f5e",
       "max": 2117,
       "style": "IPY_MODEL_ce4383961d6043449e128151a7d82162"
      }
     },
     "86fcd8ae8f5545178348b0ea647677fd": {
      "model_module": "@jupyter-widgets/output",
      "model_module_version": "1.0.0",
      "model_name": "OutputModel",
      "state": {
       "layout": "IPY_MODEL_fb1fc257327341c5a572603468f7aabe",
       "outputs": [
        {
         "name": "stdout",
         "output_type": "stream",
         "text": "{'filename': 'data/bbc/business/001.txt'}\n\nad sales boost time warner profit quarterly profits us media giant jumped $1.13bn three months december firm biggest investors google benefited sales high-speed internet connections higher advert sales fourth quarter sales rose profits buoyed one-off gains offset profit dip warner bros less users aol time warner friday owns google internet business aol mixed fortunes lost subscribers fourth quarter profits lower preceding three quarters however company underlying profit exceptional items rose back stronger internet advertising revenues hopes increase subscribers offering online service free internet customers try sign existing customers high-speed broadband restate results following probe us securities exchange commission sec close concluding time fourth quarter profits slightly better analysts expectations film division saw profits slump helped box-office flops alexander sharp contrast third final film lord of the rings trilogy boosted results full-year posted profit performance revenues grew financial performance strong meeting exceeding full-year objectives greatly enhancing flexibility chairman chief executive richard parsons projecting operating earnings growth around expects higher revenue wider profit margins restate accounts part efforts resolve inquiry aol us market regulators already offered pay $300m settle charges deal review sec company unable estimate amount needed set aside legal reserves previously set $500m intends adjust way accounts deal german music publisher purchase stake aol europe reported advertising revenue book sale stake aol europe loss value stake\n"
        }
       ]
      }
     },
     "88dfb0af42204909b71762984b55cc86": {
      "model_module": "@jupyter-widgets/base",
      "model_module_version": "1.2.0",
      "model_name": "LayoutModel",
      "state": {}
     },
     "895d514ae0484f34aaab8bca411fb350": {
      "model_module": "@jupyter-widgets/controls",
      "model_module_version": "1.5.0",
      "model_name": "FloatProgressModel",
      "state": {
       "bar_style": "success",
       "description": "100%",
       "layout": "IPY_MODEL_4faf6f241b9a45da80d1f7f6cb25e33e",
       "max": 2225,
       "style": "IPY_MODEL_60efc3b1b3f04233852820a2c7e59a77",
       "value": 2225
      }
     },
     "8a199974b7804c4b9537b02ea41b1a33": {
      "model_module": "@jupyter-widgets/controls",
      "model_module_version": "1.5.0",
      "model_name": "DescriptionStyleModel",
      "state": {
       "description_width": ""
      }
     },
     "8bf5e947dd454c469c423071a1636b0b": {
      "model_module": "@jupyter-widgets/base",
      "model_module_version": "1.2.0",
      "model_name": "LayoutModel",
      "state": {}
     },
     "8d6afcaf3f7846068d8aa4c23f502c63": {
      "model_module": "@jupyter-widgets/base",
      "model_module_version": "1.2.0",
      "model_name": "LayoutModel",
      "state": {}
     },
     "90125db150c64195954856367dc317cb": {
      "model_module": "@jupyter-widgets/base",
      "model_module_version": "1.2.0",
      "model_name": "LayoutModel",
      "state": {}
     },
     "90d7177598cf4540a8f99dea407bdc0f": {
      "model_module": "@jupyter-widgets/controls",
      "model_module_version": "1.5.0",
      "model_name": "HBoxModel",
      "state": {
       "children": [
        "IPY_MODEL_2342e9868d6e4ee89c36323e639dc71d",
        "IPY_MODEL_2cd1cbe18b1b487da44fa7470a4e7fe0"
       ],
       "layout": "IPY_MODEL_9c204996306445a8b9e72f8b0e7a078a"
      }
     },
     "90d76c79d7f840e69fc5c97ba1ef539d": {
      "model_module": "@jupyter-widgets/controls",
      "model_module_version": "1.5.0",
      "model_name": "HTMLModel",
      "state": {
       "layout": "IPY_MODEL_dae6c6143cd940a990da9c92e3db77ac",
       "style": "IPY_MODEL_5ffbbbd68d8a472ca7eb36145ac5839e",
       "value": " 2225/2225 [00:06&lt;00:00, 359.26it/s]"
      }
     },
     "90f09f1310d74be6baf1e36bbd8bdb70": {
      "model_module": "@jupyter-widgets/controls",
      "model_module_version": "1.5.0",
      "model_name": "VBoxModel",
      "state": {
       "_dom_classes": [
        "widget-interact"
       ],
       "children": [
        "IPY_MODEL_e2f67aa751e344aea5ad424258b215ec",
        "IPY_MODEL_86fcd8ae8f5545178348b0ea647677fd"
       ],
       "layout": "IPY_MODEL_cd2e321a71a34aa1a6b57ca08e1a133f"
      }
     },
     "9157e790ab494354bd50f36c7f884d85": {
      "model_module": "@jupyter-widgets/controls",
      "model_module_version": "1.5.0",
      "model_name": "HTMLModel",
      "state": {
       "layout": "IPY_MODEL_a64b1834d9c843abb2dc50dbe7b7c937",
       "style": "IPY_MODEL_840311a58c7d4fe485ec4462a36bf669",
       "value": " 2225/2225 [00:04&lt;00:00, 472.40it/s]"
      }
     },
     "918ec9eafd2f48f68cf622f64316b841": {
      "model_module": "@jupyter-widgets/controls",
      "model_module_version": "1.5.0",
      "model_name": "IntSliderModel",
      "state": {
       "description": "doc_id",
       "layout": "IPY_MODEL_b1640dedec4c4c8da73d991843fe3bc8",
       "max": 2224,
       "style": "IPY_MODEL_f6a7cd82e8a843d5b16e3ad191fbbaf9"
      }
     },
     "91b8eea9a06f4aedbbf028724696ec85": {
      "model_module": "@jupyter-widgets/base",
      "model_module_version": "1.2.0",
      "model_name": "LayoutModel",
      "state": {}
     },
     "926a3bf0e187461e8356874c0feb7448": {
      "model_module": "@jupyter-widgets/controls",
      "model_module_version": "1.5.0",
      "model_name": "HTMLModel",
      "state": {
       "layout": "IPY_MODEL_c471a92e8e044ca5bd1535eb4eb37d52",
       "style": "IPY_MODEL_6337191408304d348f3ed63a20438fd6",
       "value": " 2225/2225 [00:01&lt;00:00, 1330.75it/s]"
      }
     },
     "936ce227c7724236a7b645a44a601ca8": {
      "model_module": "@jupyter-widgets/controls",
      "model_module_version": "1.5.0",
      "model_name": "IntSliderModel",
      "state": {
       "description": "doc_id",
       "layout": "IPY_MODEL_a6a9c2192b954de9afb4b6a36728564f",
       "max": 2224,
       "style": "IPY_MODEL_5cfd355d6cfb4f6aa09aafe3f8900dbc"
      }
     },
     "94006fa19d1e4168b67d7b67067580a1": {
      "model_module": "@jupyter-widgets/base",
      "model_module_version": "1.2.0",
      "model_name": "LayoutModel",
      "state": {}
     },
     "9539780212304d1395b7c33e4213930a": {
      "model_module": "@jupyter-widgets/base",
      "model_module_version": "1.2.0",
      "model_name": "LayoutModel",
      "state": {}
     },
     "954dd11d39394e38b7dde7258c4ce658": {
      "model_module": "@jupyter-widgets/controls",
      "model_module_version": "1.5.0",
      "model_name": "FloatProgressModel",
      "state": {
       "bar_style": "success",
       "description": "100%",
       "layout": "IPY_MODEL_ecc307260a4948f0a88f1dd0db98bee5",
       "max": 2225,
       "style": "IPY_MODEL_dbb73db84299407d8324727a586458f6",
       "value": 2225
      }
     },
     "95f5c19cc2334c25af846b8c50d31263": {
      "model_module": "@jupyter-widgets/controls",
      "model_module_version": "1.5.0",
      "model_name": "VBoxModel",
      "state": {
       "_dom_classes": [
        "widget-interact"
       ],
       "children": [
        "IPY_MODEL_aaf5bcdbe5874f42b7d4f36b419cf277",
        "IPY_MODEL_24466b19efb4443f91e8bbb38c4c0db1"
       ],
       "layout": "IPY_MODEL_2d17a70bcb7a416e838cfa0019440c7b"
      }
     },
     "9636b5d65c6c45df80d319d5ae4775a8": {
      "model_module": "@jupyter-widgets/controls",
      "model_module_version": "1.5.0",
      "model_name": "IntSliderModel",
      "state": {
       "description": "doc_id",
       "layout": "IPY_MODEL_13eb7efb1d294d8390b86540aaaeeb07",
       "max": 2224,
       "style": "IPY_MODEL_0176bce07868479ba1260626d7e96ae2"
      }
     },
     "963c8fb4d7e24e14b38a4ef5f44001e5": {
      "model_module": "@jupyter-widgets/output",
      "model_module_version": "1.0.0",
      "model_name": "OutputModel",
      "state": {
       "layout": "IPY_MODEL_c7609d692cbd4e8e967cb8cbd2357b69",
       "outputs": [
        {
         "name": "stdout",
         "output_type": "stream",
         "text": "{'filename': 'data/bbc/business/001.txt'}\n\nad sales boost time warner profit quarterly profits at us media giant timewarner jumped 76% to $1.13bn â£600m for the three months to december from $639m year-earlier the firm which is now one of the biggest investors in google benefited from sales of high-speed internet connections and higher advert sales timewarner said fourth quarter sales rose 2% to $11.1bn from $10.9bn its profits were buoyed by one-off gains which offset a profit dip at warner bros and less users for aol time warner said on friday that it now owns 8% of search-engine google but its own internet business aol had has mixed fortunes it lost 464,000 subscribers in the fourth quarter profits were lower than in the preceding three quarters however the company said aols underlying profit before exceptional items rose 8% on the back of stronger internet advertising revenues it hopes to increase subscribers by offering the online service free to timewarner internet customers and will try to sign up aols existing customers for high-speed broadband timewarner also has to restate 2000 and 2003 results following a probe by the us securities exchange commission sec which is close to concluding time warners fourth quarter profits were slightly better than analysts expectations but its film division saw profits slump 27% to $284m helped by box-office flops alexander and catwoman a sharp contrast to year-earlier when the third and final film in the lord_of_the_rings trilogy boosted results for the full-year timewarner posted a profit of $3.36bn up 27% from its 2003 performance while revenues grew 6.4% to $42.09bn our financial performance was strong meeting or exceeding all of our full-year objectives and greatly enhancing our flexibility chairman and chief_executive richard parsons said for 2005 timewarner is projecting operating earnings growth of around 5% and also expects higher revenue and wider profit margins timewarner is to restate its accounts as part of efforts to resolve an inquiry into aol by us market regulators it has already offered to pay $300m to settle charges in a deal that is under review by the sec the company said it was unable to estimate the amount it needed to set aside for legal reserves which it previously set at $500m it intends to adjust the way it accounts for a deal with german music publisher bertelsmanns purchase of a stake in aol europe which it had reported as advertising revenue it will now book the sale of its stake in aol europe as a loss on the value of that stake\n"
        }
       ]
      }
     },
     "972d09b6a6024423a6de54b5f13114a5": {
      "model_module": "@jupyter-widgets/output",
      "model_module_version": "1.0.0",
      "model_name": "OutputModel",
      "state": {
       "layout": "IPY_MODEL_6e2d7a2b5ae14a82bc6493af5230b988",
       "outputs": [
        {
         "name": "stdout",
         "output_type": "stream",
         "text": "{'filename': 'data/bbc/business/001.txt'}\n\nad sales boost time warner profit quarterly profits at us media giant timewarner jumped 76% to $1.13bn â£600m for the three months to december from $639m year-earlier the firm which is now one of the biggest investors in google benefited from sales of high-speed internet connections and higher advert sales timewarner said fourth quarter sales rose 2% to $11.1bn from $10.9bn its profits were buoyed by one-off gains which offset a profit dip at warner bros and less users for aol time warner said on friday that it now owns 8% of search-engine google but its own internet business aol had has mixed fortunes it lost 464,000 subscribers in the fourth quarter profits were lower than in the preceding three quarters however the company said aols underlying profit before exceptional items rose 8% on the back of stronger internet advertising revenues it hopes to increase subscribers by offering the online service free to timewarner internet customers and will try to sign up aols existing customers for high-speed broadband timewarner also has to restate 2000 and 2003 results following a probe by the us securities exchange commission sec which is close to concluding time warners fourth quarter profits were slightly better than analysts expectations but its film division saw profits slump 27% to $284m helped by box-office flops alexander and catwoman a sharp contrast to year-earlier when the third and final film in the lord of the rings trilogy boosted results for the full-year timewarner posted a profit of $3.36bn up 27% from its 2003 performance while revenues grew 6.4% to $42.09bn our financial performance was strong meeting or exceeding all of our full-year objectives and greatly enhancing our flexibility chairman and chief executive richard parsons said for 2005 timewarner is projecting operating earnings growth of around 5% and also expects higher revenue and wider profit margins timewarner is to restate its accounts as part of efforts to resolve an inquiry into aol by us market regulators it has already offered to pay $300m to settle charges in a deal that is under review by the sec the company said it was unable to estimate the amount it needed to set aside for legal reserves which it previously set at $500m it intends to adjust the way it accounts for a deal with german music publisher bertelsmanns purchase of a stake in aol europe which it had reported as advertising revenue it will now book the sale of its stake in aol europe as a loss on the value of that stake\n"
        }
       ]
      }
     },
     "9782f35dfa3340c499561b0f27143e3b": {
      "model_module": "@jupyter-widgets/base",
      "model_module_version": "1.2.0",
      "model_name": "LayoutModel",
      "state": {}
     },
     "997e31f40ce34ba2bc7b702bae1a992d": {
      "model_module": "@jupyter-widgets/controls",
      "model_module_version": "1.5.0",
      "model_name": "SliderStyleModel",
      "state": {
       "description_width": ""
      }
     },
     "9a5cf2d9ccdc40abb29d90f7819c6358": {
      "model_module": "@jupyter-widgets/controls",
      "model_module_version": "1.5.0",
      "model_name": "IntSliderModel",
      "state": {
       "description": "doc_id",
       "layout": "IPY_MODEL_5ef399c6dc0c461f93782bd4466cf444",
       "max": 2224,
       "style": "IPY_MODEL_844054c838b842f18bb1cf8337030f74"
      }
     },
     "9b9c265acd324d7b997439c0992831ea": {
      "model_module": "@jupyter-widgets/output",
      "model_module_version": "1.0.0",
      "model_name": "OutputModel",
      "state": {
       "layout": "IPY_MODEL_2b5025d55756425ba1976f8625cf0d01",
       "outputs": [
        {
         "name": "stdout",
         "output_type": "stream",
         "text": "{'filename': 'data/bbc/business/001.txt'}\n\nad sales boost time warner profit quarterly profits us media giant jumped $1.13bn three months december firm biggest investors google benefited sales high-speed internet connections higher advert sales fourth quarter sales rose profits buoyed one-off gains offset profit dip warner bros less users aol time warner friday owns google internet business aol mixed fortunes lost subscribers fourth quarter profits lower preceding three quarters however company underlying profit exceptional items rose back stronger internet advertising revenues hopes increase subscribers offering online service free internet customers try sign existing customers high-speed broadband restate results following probe us securities exchange commission sec close concluding time fourth quarter profits slightly better analysts expectations film division saw profits slump helped box-office flops alexander sharp contrast third final film lord of the rings trilogy boosted results full-year posted profit performance revenues grew financial performance strong meeting exceeding full-year objectives greatly enhancing flexibility chairman chief executive richard parsons projecting operating earnings growth around expects higher revenue wider profit margins restate accounts part efforts resolve inquiry aol us market regulators already offered pay $300m settle charges deal review sec company unable estimate amount needed set aside legal reserves previously set $500m intends adjust way accounts deal german music publisher purchase stake aol europe reported advertising revenue book sale stake aol europe loss value stake\n"
        }
       ]
      }
     },
     "9c204996306445a8b9e72f8b0e7a078a": {
      "model_module": "@jupyter-widgets/base",
      "model_module_version": "1.2.0",
      "model_name": "LayoutModel",
      "state": {}
     },
     "9c9fb685e9734fd5bf8099da594997b5": {
      "model_module": "@jupyter-widgets/controls",
      "model_module_version": "1.5.0",
      "model_name": "IntSliderModel",
      "state": {
       "description": "doc_id",
       "layout": "IPY_MODEL_e9a09ce6b6e24337a3588b36815d40d9",
       "max": 2224,
       "style": "IPY_MODEL_0d32c7e95e064beca085edf8a320ec94"
      }
     },
     "9e4af03ec06c45fa87f311b1a026c12d": {
      "model_module": "@jupyter-widgets/output",
      "model_module_version": "1.0.0",
      "model_name": "OutputModel",
      "state": {
       "layout": "IPY_MODEL_5888ba2ba30d42aeb8e1be1751d8d2e8",
       "outputs": [
        {
         "name": "stdout",
         "output_type": "stream",
         "text": "{'filename': 'data/bbc/business/001.txt'}\n\nad sales boost time warner profit quarterly profits us media giant jumped $1.13bn three months december firm biggest investors google benefited sales high-speed internet connections higher advert sales fourth quarter sales rose profits buoyed one-off gains offset profit dip warner bros less users aol time warner friday owns google internet business aol mixed fortunes lost subscribers fourth quarter profits lower preceding three quarters however company underlying profit exceptional items rose back stronger internet advertising revenues hopes increase subscribers offering online service free internet customers try sign existing customers high-speed broadband restate results following probe us securities exchange commission sec close concluding time fourth quarter profits slightly better analysts expectations film division saw profits slump helped box-office flops alexander sharp contrast third final film lord of the rings trilogy boosted results full-year posted profit performance revenues grew financial performance strong meeting exceeding full-year objectives greatly enhancing flexibility chairman chief executive richard parsons projecting operating earnings growth around expects higher revenue wider profit margins restate accounts part efforts resolve inquiry aol us market regulators already offered pay $300m settle charges deal review sec company unable estimate amount needed set aside legal reserves previously set $500m intends adjust way accounts deal german music publisher purchase stake aol europe reported advertising revenue book sale stake aol europe loss value stake\n"
        }
       ]
      }
     },
     "9ed5f929f05949ca81047f3a84ae1e84": {
      "model_module": "@jupyter-widgets/base",
      "model_module_version": "1.2.0",
      "model_name": "LayoutModel",
      "state": {}
     },
     "9f1cf1c4cee64aeeb29772872dfa24e7": {
      "model_module": "@jupyter-widgets/base",
      "model_module_version": "1.2.0",
      "model_name": "LayoutModel",
      "state": {}
     },
     "a060d3433dfa4784b5c926db9c3e28c7": {
      "model_module": "@jupyter-widgets/output",
      "model_module_version": "1.0.0",
      "model_name": "OutputModel",
      "state": {
       "layout": "IPY_MODEL_b7ccddfbbe2b494887d2accb4668064a",
       "outputs": [
        {
         "name": "stdout",
         "output_type": "stream",
         "text": "{'filename': 'data/bbc/business/001.txt'}\n\nad/sales/boost/time/warner/profit/quarterly/profits/at/us/media/giant/timewarner/jumped/76%/to/$1.13bn/â£600m/for/the/three/months/to/december/from/$639m/year-earlier/the/firm/which/is/now/one/of/the/biggest/investors/in/google/benefited/from/sales/of/high-speed/internet/connections/and/higher/advert/sales/timewarner/said/fourth/quarter/sales/rose/2%/to/$11.1bn/from/$10.9bn/its/profits/were/buoyed/by/one-off/gains/which/offset/a/profit/dip/at/warner bros/and/less/users/for/aol/time/warner/said/on/friday/that/it/now/owns/8%/of/search-engine/google/but/its/own/internet/business/aol/had/has/mixed/fortunes/it/lost/464,000/subscribers/in/the/fourth/quarter/profits/were/lower/than/in/the/preceding/three/quarters/however/the/company/said/aols/underlying/profit/before/exceptional/items/rose/8%/on/the/back/of/stronger/internet/advertising/revenues/it/hopes/to/increase/subscribers/by/offering/the/online/service/free/to/timewarner/internet/customers/and/will/try/to/sign/up/aols/existing/customers/for/high-speed/broadband/timewarner/also/has/to/restate/2000/and/2003/results/following/a/probe/by/the/us/securities/exchange/commission/sec/which/is/close/to/concluding/time/warners/fourth/quarter/profits/were/slightly/better/than/analysts/expectations/but/its/film/division/saw/profits/slump/27%/to/$284m/helped/by/box-office/flops/alexander/and/catwoman/a/sharp/contrast/to/year-earlier/when/the/third/and/final/film/in/the/lord of the rings/trilogy/boosted/results/for/the/full-year/timewarner/posted/a/profit/of/$3.36bn/up/27%/from/its/2003/performance/while/revenues/grew/6.4%/to/$42.09bn/our/financial/performance/was/strong/meeting/or/exceeding/all/of/our/full-year/objectives/and/greatly/enhancing/our/flexibility/chairman/and/chief executive/richard/parsons/said/for/2005/timewarner/is/projecting/operating/earnings/growth/of/around/5%/and/also/expects/higher/revenue/and/wider/profit/margins/timewarner/is/to/restate/its/accounts/as/part/of/efforts/to/resolve/an/inquiry/into/aol/by/us/market/regulators/it/has/already/offered/to/pay/$300m/to/settle/charges/in/a/deal/that/is/under/review/by/the/sec/the/company/said/it/was/unable/to/estimate/the/amount/it/needed/to/set/aside/for/legal/reserves/which/it/previously/set/at/$500m/it/intends/to/adjust/the/way/it/accounts/for/a/deal/with/german/music/publisher/bertelsmanns/purchase/of/a/stake/in/aol/europe/which/it/had/reported/as/advertising/revenue/it/will/now/book/the/sale/of/its/stake/in/aol/europe/as/a/loss/on/the/value/of/that/stake\n"
        }
       ]
      }
     },
     "a0667232f2bc41efb998b78fa6f652f0": {
      "model_module": "@jupyter-widgets/base",
      "model_module_version": "1.2.0",
      "model_name": "LayoutModel",
      "state": {}
     },
     "a38e6cf5a84549d0a39b1c23c9f41101": {
      "model_module": "@jupyter-widgets/controls",
      "model_module_version": "1.5.0",
      "model_name": "HTMLModel",
      "state": {
       "layout": "IPY_MODEL_c387d8d4a871402f9f013dbbfe88624d",
       "style": "IPY_MODEL_2ba9ab7b249841dab39eadab16fba0c5",
       "value": " 2225/2225 [00:00&lt;00:00, 4320.00it/s]"
      }
     },
     "a64b1834d9c843abb2dc50dbe7b7c937": {
      "model_module": "@jupyter-widgets/base",
      "model_module_version": "1.2.0",
      "model_name": "LayoutModel",
      "state": {}
     },
     "a6a9c2192b954de9afb4b6a36728564f": {
      "model_module": "@jupyter-widgets/base",
      "model_module_version": "1.2.0",
      "model_name": "LayoutModel",
      "state": {}
     },
     "a6bfdc3bb50240c7b7d3d067d5c93e91": {
      "model_module": "@jupyter-widgets/base",
      "model_module_version": "1.2.0",
      "model_name": "LayoutModel",
      "state": {}
     },
     "aaf5bcdbe5874f42b7d4f36b419cf277": {
      "model_module": "@jupyter-widgets/controls",
      "model_module_version": "1.5.0",
      "model_name": "IntSliderModel",
      "state": {
       "description": "doc_id",
       "layout": "IPY_MODEL_da17347d622e431c9564ec9629508a8b",
       "max": 2224,
       "style": "IPY_MODEL_c797b6d08ac64589b2fdb9ca8de39044"
      }
     },
     "ab8e7690a4774a0c8ef09589695a7b62": {
      "model_module": "@jupyter-widgets/base",
      "model_module_version": "1.2.0",
      "model_name": "LayoutModel",
      "state": {}
     },
     "b1640dedec4c4c8da73d991843fe3bc8": {
      "model_module": "@jupyter-widgets/base",
      "model_module_version": "1.2.0",
      "model_name": "LayoutModel",
      "state": {}
     },
     "b1713c56411648aab3abe2de7f40201a": {
      "model_module": "@jupyter-widgets/base",
      "model_module_version": "1.2.0",
      "model_name": "LayoutModel",
      "state": {}
     },
     "b393419e65f5467782bc1d14b71ca6ec": {
      "model_module": "@jupyter-widgets/base",
      "model_module_version": "1.2.0",
      "model_name": "LayoutModel",
      "state": {}
     },
     "b5130ca1894a44d4b00f98c9356a547b": {
      "model_module": "@jupyter-widgets/controls",
      "model_module_version": "1.5.0",
      "model_name": "ProgressStyleModel",
      "state": {
       "description_width": "initial"
      }
     },
     "b5cc154c0da84a9b95e463fe55e0d966": {
      "model_module": "@jupyter-widgets/base",
      "model_module_version": "1.2.0",
      "model_name": "LayoutModel",
      "state": {}
     },
     "b6d895803125461cb27678d80c923f55": {
      "model_module": "@jupyter-widgets/base",
      "model_module_version": "1.2.0",
      "model_name": "LayoutModel",
      "state": {}
     },
     "b7ccddfbbe2b494887d2accb4668064a": {
      "model_module": "@jupyter-widgets/base",
      "model_module_version": "1.2.0",
      "model_name": "LayoutModel",
      "state": {}
     },
     "b97cd53d62904097a181a90346720628": {
      "model_module": "@jupyter-widgets/controls",
      "model_module_version": "1.5.0",
      "model_name": "FloatProgressModel",
      "state": {
       "bar_style": "success",
       "description": "100%",
       "layout": "IPY_MODEL_1ba4244bb70840e7915ff4abd0205013",
       "max": 2225,
       "style": "IPY_MODEL_d4571fca9c3848728e3b780897b10053",
       "value": 2225
      }
     },
     "bb4193acb1de444aa0e1cac19c25fbd7": {
      "model_module": "@jupyter-widgets/base",
      "model_module_version": "1.2.0",
      "model_name": "LayoutModel",
      "state": {}
     },
     "bbc1bfee92ef43b69a5cdf4d6c5b1aa0": {
      "model_module": "@jupyter-widgets/controls",
      "model_module_version": "1.5.0",
      "model_name": "VBoxModel",
      "state": {
       "_dom_classes": [
        "widget-interact"
       ],
       "children": [
        "IPY_MODEL_9c9fb685e9734fd5bf8099da594997b5",
        "IPY_MODEL_4a708d4c6ca14a04b20f05decbbd0458"
       ],
       "layout": "IPY_MODEL_c02c28d6394441aeb28b7017c8525a60"
      }
     },
     "bc28e554a7b942a6bce35d69e5a584c7": {
      "model_module": "@jupyter-widgets/controls",
      "model_module_version": "1.5.0",
      "model_name": "HBoxModel",
      "state": {
       "children": [
        "IPY_MODEL_13f793756c9f459485fa1091934d962c",
        "IPY_MODEL_3a4ca53e1a7348ad945c93ed8cfd9c7d"
       ],
       "layout": "IPY_MODEL_471c24977b614d0392e237dcb25edca9"
      }
     },
     "bc3c0ab7399b4b16b5d34f7b6307998b": {
      "model_module": "@jupyter-widgets/controls",
      "model_module_version": "1.5.0",
      "model_name": "VBoxModel",
      "state": {
       "_dom_classes": [
        "widget-interact"
       ],
       "children": [
        "IPY_MODEL_e4e663e13b1c4bb4a38edf7e816b4937",
        "IPY_MODEL_300ddb0791ce4396893229818dff50e8"
       ],
       "layout": "IPY_MODEL_363d527b513e4ffab5f46f0a9cc2737b"
      }
     },
     "bcc0a551b3de47bc9bf50f2b046ae7b0": {
      "model_module": "@jupyter-widgets/base",
      "model_module_version": "1.2.0",
      "model_name": "LayoutModel",
      "state": {}
     },
     "c02c28d6394441aeb28b7017c8525a60": {
      "model_module": "@jupyter-widgets/base",
      "model_module_version": "1.2.0",
      "model_name": "LayoutModel",
      "state": {}
     },
     "c387d8d4a871402f9f013dbbfe88624d": {
      "model_module": "@jupyter-widgets/base",
      "model_module_version": "1.2.0",
      "model_name": "LayoutModel",
      "state": {}
     },
     "c3a128efcb8b440f9c91c0b381a03331": {
      "model_module": "@jupyter-widgets/base",
      "model_module_version": "1.2.0",
      "model_name": "LayoutModel",
      "state": {}
     },
     "c471a92e8e044ca5bd1535eb4eb37d52": {
      "model_module": "@jupyter-widgets/base",
      "model_module_version": "1.2.0",
      "model_name": "LayoutModel",
      "state": {}
     },
     "c5cdae633e8d419f8e138445d94e8bbc": {
      "model_module": "@jupyter-widgets/controls",
      "model_module_version": "1.5.0",
      "model_name": "SliderStyleModel",
      "state": {
       "description_width": ""
      }
     },
     "c711ed05c4e4414282d791b61e71981d": {
      "model_module": "@jupyter-widgets/controls",
      "model_module_version": "1.5.0",
      "model_name": "VBoxModel",
      "state": {
       "_dom_classes": [
        "widget-interact"
       ],
       "children": [
        "IPY_MODEL_936ce227c7724236a7b645a44a601ca8",
        "IPY_MODEL_fcd711dd14e74bb79921382bcbfb78da"
       ],
       "layout": "IPY_MODEL_c91d8639f264490f94247bb3e64faf55"
      }
     },
     "c7609d692cbd4e8e967cb8cbd2357b69": {
      "model_module": "@jupyter-widgets/base",
      "model_module_version": "1.2.0",
      "model_name": "LayoutModel",
      "state": {}
     },
     "c797b6d08ac64589b2fdb9ca8de39044": {
      "model_module": "@jupyter-widgets/controls",
      "model_module_version": "1.5.0",
      "model_name": "SliderStyleModel",
      "state": {
       "description_width": ""
      }
     },
     "c8473dedaa18462dbd9ed2df63cffc33": {
      "model_module": "@jupyter-widgets/base",
      "model_module_version": "1.2.0",
      "model_name": "LayoutModel",
      "state": {}
     },
     "c91d8639f264490f94247bb3e64faf55": {
      "model_module": "@jupyter-widgets/base",
      "model_module_version": "1.2.0",
      "model_name": "LayoutModel",
      "state": {}
     },
     "c9575224b5574e4da4800c6db87cfaa4": {
      "model_module": "@jupyter-widgets/controls",
      "model_module_version": "1.5.0",
      "model_name": "HTMLModel",
      "state": {
       "layout": "IPY_MODEL_698ae53ebecd4b0f8ff05bcac1014129",
       "style": "IPY_MODEL_0de8989cc9fe4b9dab9027d9ef174dbf",
       "value": " 2225/2225 [00:06&lt;00:00, 352.44it/s]"
      }
     },
     "ca3fe34cdbed4b92a35831b8860e2c2f": {
      "model_module": "@jupyter-widgets/controls",
      "model_module_version": "1.5.0",
      "model_name": "HBoxModel",
      "state": {
       "children": [
        "IPY_MODEL_954dd11d39394e38b7dde7258c4ce658",
        "IPY_MODEL_0f5ec7e163eb4d1ea983c28dbbff7dea"
       ],
       "layout": "IPY_MODEL_0907752bc609458ca92cf447774b7e02"
      }
     },
     "cb0d985dcb8d463e824f98a41f4d77de": {
      "model_module": "@jupyter-widgets/controls",
      "model_module_version": "1.5.0",
      "model_name": "DescriptionStyleModel",
      "state": {
       "description_width": ""
      }
     },
     "cbc88be473bb4990bda8cae93692c020": {
      "model_module": "@jupyter-widgets/base",
      "model_module_version": "1.2.0",
      "model_name": "LayoutModel",
      "state": {}
     },
     "cc8b5bc06197474cbc65c988f04f6585": {
      "model_module": "@jupyter-widgets/base",
      "model_module_version": "1.2.0",
      "model_name": "LayoutModel",
      "state": {}
     },
     "cd2e321a71a34aa1a6b57ca08e1a133f": {
      "model_module": "@jupyter-widgets/base",
      "model_module_version": "1.2.0",
      "model_name": "LayoutModel",
      "state": {}
     },
     "cdfabd72897245819502df9180bdd8c0": {
      "model_module": "@jupyter-widgets/controls",
      "model_module_version": "1.5.0",
      "model_name": "ProgressStyleModel",
      "state": {
       "description_width": "initial"
      }
     },
     "ce4383961d6043449e128151a7d82162": {
      "model_module": "@jupyter-widgets/controls",
      "model_module_version": "1.5.0",
      "model_name": "SliderStyleModel",
      "state": {
       "description_width": ""
      }
     },
     "cfaf025a25cb4105820481087b029892": {
      "model_module": "@jupyter-widgets/base",
      "model_module_version": "1.2.0",
      "model_name": "LayoutModel",
      "state": {}
     },
     "d07add8d5f76481c998a7513f24082b0": {
      "model_module": "@jupyter-widgets/base",
      "model_module_version": "1.2.0",
      "model_name": "LayoutModel",
      "state": {}
     },
     "d27d236d2c2c464686c76a22448af22f": {
      "model_module": "@jupyter-widgets/controls",
      "model_module_version": "1.5.0",
      "model_name": "IntSliderModel",
      "state": {
       "description": "doc_id",
       "layout": "IPY_MODEL_b1713c56411648aab3abe2de7f40201a",
       "max": 2224,
       "style": "IPY_MODEL_7e214798cfde4117a693a62e05539450"
      }
     },
     "d3695e9fbb1d492897e2bf10043e8e65": {
      "model_module": "@jupyter-widgets/base",
      "model_module_version": "1.2.0",
      "model_name": "LayoutModel",
      "state": {}
     },
     "d4571fca9c3848728e3b780897b10053": {
      "model_module": "@jupyter-widgets/controls",
      "model_module_version": "1.5.0",
      "model_name": "ProgressStyleModel",
      "state": {
       "description_width": "initial"
      }
     },
     "d9561546fd424ecfa298c6cfe9f5a0b7": {
      "model_module": "@jupyter-widgets/controls",
      "model_module_version": "1.5.0",
      "model_name": "FloatProgressModel",
      "state": {
       "bar_style": "success",
       "description": "100%",
       "layout": "IPY_MODEL_26f77819a1314b478f5849e54b6ac0a0",
       "max": 2225,
       "style": "IPY_MODEL_125faab8f52f4a308c65d7274712929d",
       "value": 2225
      }
     },
     "da17347d622e431c9564ec9629508a8b": {
      "model_module": "@jupyter-widgets/base",
      "model_module_version": "1.2.0",
      "model_name": "LayoutModel",
      "state": {}
     },
     "dae6c6143cd940a990da9c92e3db77ac": {
      "model_module": "@jupyter-widgets/base",
      "model_module_version": "1.2.0",
      "model_name": "LayoutModel",
      "state": {}
     },
     "db80e54ec84c4e6faa282bddb43c5950": {
      "model_module": "@jupyter-widgets/base",
      "model_module_version": "1.2.0",
      "model_name": "LayoutModel",
      "state": {}
     },
     "db812dabb7c24d41a7a078355c658349": {
      "model_module": "@jupyter-widgets/base",
      "model_module_version": "1.2.0",
      "model_name": "LayoutModel",
      "state": {}
     },
     "dbb73db84299407d8324727a586458f6": {
      "model_module": "@jupyter-widgets/controls",
      "model_module_version": "1.5.0",
      "model_name": "ProgressStyleModel",
      "state": {
       "description_width": "initial"
      }
     },
     "dc2b6c8910124c1b842944692f07a2f5": {
      "model_module": "@jupyter-widgets/controls",
      "model_module_version": "1.5.0",
      "model_name": "DescriptionStyleModel",
      "state": {
       "description_width": ""
      }
     },
     "dd827b29ca614ad3998c35241c8cef6d": {
      "model_module": "@jupyter-widgets/base",
      "model_module_version": "1.2.0",
      "model_name": "LayoutModel",
      "state": {}
     },
     "df328cb63d2942f193b2ed1e43cfe1ab": {
      "model_module": "@jupyter-widgets/controls",
      "model_module_version": "1.5.0",
      "model_name": "DescriptionStyleModel",
      "state": {
       "description_width": ""
      }
     },
     "e0124593b0c44abd9513bcab0add6daa": {
      "model_module": "@jupyter-widgets/controls",
      "model_module_version": "1.5.0",
      "model_name": "SliderStyleModel",
      "state": {
       "description_width": ""
      }
     },
     "e0747c676ce0477bbc60e62c6dae4881": {
      "model_module": "@jupyter-widgets/base",
      "model_module_version": "1.2.0",
      "model_name": "LayoutModel",
      "state": {}
     },
     "e0c96bf230bd47c1befb8378e74e2c00": {
      "model_module": "@jupyter-widgets/base",
      "model_module_version": "1.2.0",
      "model_name": "LayoutModel",
      "state": {}
     },
     "e2f67aa751e344aea5ad424258b215ec": {
      "model_module": "@jupyter-widgets/controls",
      "model_module_version": "1.5.0",
      "model_name": "IntSliderModel",
      "state": {
       "description": "doc_id",
       "layout": "IPY_MODEL_7684e157027645c0a76c824b5a1e625e",
       "max": 2224,
       "style": "IPY_MODEL_47048ab4fac94d7e90b7c6aef645b4a0"
      }
     },
     "e4e663e13b1c4bb4a38edf7e816b4937": {
      "model_module": "@jupyter-widgets/controls",
      "model_module_version": "1.5.0",
      "model_name": "IntSliderModel",
      "state": {
       "description": "doc_id",
       "layout": "IPY_MODEL_0f6858aff9a6418893b5db2b75af667d",
       "max": 2224,
       "style": "IPY_MODEL_c5cdae633e8d419f8e138445d94e8bbc"
      }
     },
     "e6a9b3d3147f4e9dbbe44e190ed26b07": {
      "model_module": "@jupyter-widgets/controls",
      "model_module_version": "1.5.0",
      "model_name": "IntSliderModel",
      "state": {
       "description": "index",
       "layout": "IPY_MODEL_eab95cc79adb4738acdc8b8d83e3e70e",
       "max": 2117,
       "style": "IPY_MODEL_493e8f933c1d4720831685362262ddad"
      }
     },
     "e6f1d7ea63174efb9b6745529c6f8c1d": {
      "model_module": "@jupyter-widgets/output",
      "model_module_version": "1.0.0",
      "model_name": "OutputModel",
      "state": {
       "layout": "IPY_MODEL_e0747c676ce0477bbc60e62c6dae4881",
       "outputs": [
        {
         "name": "stdout",
         "output_type": "stream",
         "text": "{'filename': 'data/bbc/business/001.txt'}\n\nAd sales boost Time Warner profit\n\nQuarterly profits at US media giant TimeWarner jumped 76% to $1.13bn (Â£600m) for the three months to December, from $639m year-earlier.\n\nThe firm, which is now one of the biggest investors in Google, benefited from sales of high-speed internet connections and higher advert sales. TimeWarner said fourth quarter sales rose 2% to $11.1bn from $10.9bn. Its profits were buoyed by one-off gains which offset a profit dip at Warner Bros, and less users for AOL.\n\nTime Warner said on Friday that it now owns 8% of search-engine Google. But its own internet business, AOL, had has mixed fortunes. It lost 464,000 subscribers in the fourth quarter profits were lower than in the preceding three quarters. However, the company said AOL's underlying profit before exceptional items rose 8% on the back of stronger internet advertising revenues. It hopes to increase subscribers by offering the online service free to TimeWarner internet customers and will try to sign up AOL's existing customers for high-speed broadband. TimeWarner also has to restate 2000 and 2003 results following a probe by the US Securities Exchange Commission (SEC), which is close to concluding.\n\nTime Warner's fourth quarter profits were slightly better than analysts' expectations. But its film division saw profits slump 27% to $284m, helped by box-office flops Alexander and Catwoman, a sharp contrast to year-earlier, when the third and final film in the Lord of the Rings trilogy boosted results. For the full-year, TimeWarner posted a profit of $3.36bn, up 27% from its 2003 performance, while revenues grew 6.4% to $42.09bn. \"Our financial performance was strong, meeting or exceeding all of our full-year objectives and greatly enhancing our flexibility,\" chairman and chief executive Richard Parsons said. For 2005, TimeWarner is projecting operating earnings growth of around 5%, and also expects higher revenue and wider profit margins.\n\nTimeWarner is to restate its accounts as part of efforts to resolve an inquiry into AOL by US market regulators. It has already offered to pay $300m to settle charges, in a deal that is under review by the SEC. The company said it was unable to estimate the amount it needed to set aside for legal reserves, which it previously set at $500m. It intends to adjust the way it accounts for a deal with German music publisher Bertelsmann's purchase of a stake in AOL Europe, which it had reported as advertising revenue. It will now book the sale of its stake in AOL Europe as a loss on the value of that stake.\n\n"
        }
       ]
      }
     },
     "e7d4a22b740948fab3640bbe5fe3775b": {
      "model_module": "@jupyter-widgets/base",
      "model_module_version": "1.2.0",
      "model_name": "LayoutModel",
      "state": {}
     },
     "e995458ac54c4083b14696bf1e0a72e1": {
      "model_module": "@jupyter-widgets/controls",
      "model_module_version": "1.5.0",
      "model_name": "VBoxModel",
      "state": {
       "_dom_classes": [
        "widget-interact"
       ],
       "children": [
        "IPY_MODEL_9a5cf2d9ccdc40abb29d90f7819c6358",
        "IPY_MODEL_a060d3433dfa4784b5c926db9c3e28c7"
       ],
       "layout": "IPY_MODEL_6c8594d8f85549828e94fc4ef5929ddb"
      }
     },
     "e9a09ce6b6e24337a3588b36815d40d9": {
      "model_module": "@jupyter-widgets/base",
      "model_module_version": "1.2.0",
      "model_name": "LayoutModel",
      "state": {}
     },
     "e9b5f5764bc144e589e826d08abdd3f5": {
      "model_module": "@jupyter-widgets/base",
      "model_module_version": "1.2.0",
      "model_name": "LayoutModel",
      "state": {}
     },
     "eab95cc79adb4738acdc8b8d83e3e70e": {
      "model_module": "@jupyter-widgets/base",
      "model_module_version": "1.2.0",
      "model_name": "LayoutModel",
      "state": {}
     },
     "ec6606a7eb014c2ba4de7eef764f9040": {
      "model_module": "@jupyter-widgets/controls",
      "model_module_version": "1.5.0",
      "model_name": "HTMLModel",
      "state": {
       "layout": "IPY_MODEL_6e00852740654ebd86b0f2471214748c",
       "style": "IPY_MODEL_775337a82a0140a18084ef77e69184ec",
       "value": " 2225/2225 [00:05&lt;00:00, 396.40it/s]"
      }
     },
     "ecc307260a4948f0a88f1dd0db98bee5": {
      "model_module": "@jupyter-widgets/base",
      "model_module_version": "1.2.0",
      "model_name": "LayoutModel",
      "state": {}
     },
     "ef13fe8c32b440808a7f51597fb0e68e": {
      "model_module": "@jupyter-widgets/controls",
      "model_module_version": "1.5.0",
      "model_name": "VBoxModel",
      "state": {
       "_dom_classes": [
        "widget-interact"
       ],
       "children": [
        "IPY_MODEL_40c8cca9ca164ababbd15b3433ff3936",
        "IPY_MODEL_9b9c265acd324d7b997439c0992831ea"
       ],
       "layout": "IPY_MODEL_3a4a65d4f57544fcabc1478751bc2fe1"
      }
     },
     "effb089bf4534544b4396214d72c3cd3": {
      "model_module": "@jupyter-widgets/controls",
      "model_module_version": "1.5.0",
      "model_name": "FloatProgressModel",
      "state": {
       "bar_style": "success",
       "description": "100%",
       "layout": "IPY_MODEL_05c4e94adf0b4f8ab684a8776c0100c2",
       "max": 2225,
       "style": "IPY_MODEL_b5130ca1894a44d4b00f98c9356a547b",
       "value": 2225
      }
     },
     "f0cc863ffd384fc8897fb258a6cc0e0d": {
      "model_module": "@jupyter-widgets/controls",
      "model_module_version": "1.5.0",
      "model_name": "ProgressStyleModel",
      "state": {
       "description_width": "initial"
      }
     },
     "f178532d72414a8d8d461a6948c11deb": {
      "model_module": "@jupyter-widgets/controls",
      "model_module_version": "1.5.0",
      "model_name": "FloatProgressModel",
      "state": {
       "bar_style": "success",
       "description": "100%",
       "layout": "IPY_MODEL_c3a128efcb8b440f9c91c0b381a03331",
       "max": 2225,
       "style": "IPY_MODEL_cdfabd72897245819502df9180bdd8c0",
       "value": 2225
      }
     },
     "f22519428b30410fa84905a53a17b178": {
      "model_module": "@jupyter-widgets/base",
      "model_module_version": "1.2.0",
      "model_name": "LayoutModel",
      "state": {}
     },
     "f39d3385b7324f75b06df19ba69de392": {
      "model_module": "@jupyter-widgets/controls",
      "model_module_version": "1.5.0",
      "model_name": "FloatProgressModel",
      "state": {
       "bar_style": "success",
       "description": "100%",
       "layout": "IPY_MODEL_9f1cf1c4cee64aeeb29772872dfa24e7",
       "max": 2225,
       "style": "IPY_MODEL_f0cc863ffd384fc8897fb258a6cc0e0d",
       "value": 2225
      }
     },
     "f6a7cd82e8a843d5b16e3ad191fbbaf9": {
      "model_module": "@jupyter-widgets/controls",
      "model_module_version": "1.5.0",
      "model_name": "SliderStyleModel",
      "state": {
       "description_width": ""
      }
     },
     "f7017db40759496e9b40f40ed0db32e9": {
      "model_module": "@jupyter-widgets/controls",
      "model_module_version": "1.5.0",
      "model_name": "ProgressStyleModel",
      "state": {
       "description_width": "initial"
      }
     },
     "f759c83601004aaaa04d31390228087f": {
      "model_module": "@jupyter-widgets/controls",
      "model_module_version": "1.5.0",
      "model_name": "SliderStyleModel",
      "state": {
       "description_width": ""
      }
     },
     "f794d063096143aaa15f613db42b4195": {
      "model_module": "@jupyter-widgets/base",
      "model_module_version": "1.2.0",
      "model_name": "LayoutModel",
      "state": {}
     },
     "fae19f1899aa4defab8de2ae113f3223": {
      "model_module": "@jupyter-widgets/controls",
      "model_module_version": "1.5.0",
      "model_name": "IntSliderModel",
      "state": {
       "description": "doc_id",
       "layout": "IPY_MODEL_bcc0a551b3de47bc9bf50f2b046ae7b0",
       "max": 2224,
       "style": "IPY_MODEL_2989f62379894480a4bf56ad77062fd4"
      }
     },
     "fb1fc257327341c5a572603468f7aabe": {
      "model_module": "@jupyter-widgets/base",
      "model_module_version": "1.2.0",
      "model_name": "LayoutModel",
      "state": {}
     },
     "fc5cff9bbbc34b058420192c1db99068": {
      "model_module": "@jupyter-widgets/controls",
      "model_module_version": "1.5.0",
      "model_name": "ProgressStyleModel",
      "state": {
       "description_width": "initial"
      }
     },
     "fcd711dd14e74bb79921382bcbfb78da": {
      "model_module": "@jupyter-widgets/output",
      "model_module_version": "1.0.0",
      "model_name": "OutputModel",
      "state": {
       "layout": "IPY_MODEL_a6bfdc3bb50240c7b7d3d067d5c93e91",
       "outputs": [
        {
         "name": "stdout",
         "output_type": "stream",
         "text": "{'filename': 'data/bbc/business/001.txt'}\n\nad/sales/boost/time/warner/profit/quarterly/profits/at/us/media/giant/timewarner/jumped/76%/to/$1.13bn/â£600m/for/the/three/months/to/december/from/$639m/year-earlier/the/firm/which/is/now/one/of/the/biggest/investors/in/google/benefited/from/sales/of/high-speed/internet/connections/and/higher/advert/sales/timewarner/said/fourth/quarter/sales/rose/2%/to/$11.1bn/from/$10.9bn/its/profits/were/buoyed/by/one-off/gains/which/offset/a/profit/dip/at/warner bros/and/less/users/for/aol/time/warner/said/on/friday/that/it/now/owns/8%/of/search-engine/google/but/its/own/internet/business/aol/had/has/mixed/fortunes/it/lost/464,000/subscribers/in/the/fourth/quarter/profits/were/lower/than/in/the/preceding/three/quarters/however/the/company/said/aols/underlying/profit/before/exceptional/items/rose/8%/on/the/back/of/stronger/internet/advertising/revenues/it/hopes/to/increase/subscribers/by/offering/the/online/service/free/to/timewarner/internet/customers/and/will/try/to/sign/up/aols/existing/customers/for/high-speed/broadband/timewarner/also/has/to/restate/2000/and/2003/results/following/a/probe/by/the/us/securities/exchange/commission/sec/which/is/close/to/concluding/time/warners/fourth/quarter/profits/were/slightly/better/than/analysts/expectations/but/its/film/division/saw/profits/slump/27%/to/$284m/helped/by/box-office/flops/alexander/and/catwoman/a/sharp/contrast/to/year-earlier/when/the/third/and/final/film/in/the/lord of the rings/trilogy/boosted/results/for/the/full-year/timewarner/posted/a/profit/of/$3.36bn/up/27%/from/its/2003/performance/while/revenues/grew/6.4%/to/$42.09bn/our/financial/performance/was/strong/meeting/or/exceeding/all/of/our/full-year/objectives/and/greatly/enhancing/our/flexibility/chairman/and/chief executive/richard/parsons/said/for/2005/timewarner/is/projecting/operating/earnings/growth/of/around/5%/and/also/expects/higher/revenue/and/wider/profit/margins/timewarner/is/to/restate/its/accounts/as/part/of/efforts/to/resolve/an/inquiry/into/aol/by/us/market/regulators/it/has/already/offered/to/pay/$300m/to/settle/charges/in/a/deal/that/is/under/review/by/the/sec/the/company/said/it/was/unable/to/estimate/the/amount/it/needed/to/set/aside/for/legal/reserves/which/it/previously/set/at/$500m/it/intends/to/adjust/the/way/it/accounts/for/a/deal/with/german/music/publisher/bertelsmanns/purchase/of/a/stake/in/aol/europe/which/it/had/reported/as/advertising/revenue/it/will/now/book/the/sale/of/its/stake/in/aol/europe/as/a/loss/on/the/value/of/that/stake\n"
        }
       ]
      }
     },
     "fd6627651a334bccaff61392b2c500bf": {
      "model_module": "@jupyter-widgets/output",
      "model_module_version": "1.0.0",
      "model_name": "OutputModel",
      "state": {
       "layout": "IPY_MODEL_b6d895803125461cb27678d80c923f55",
       "outputs": [
        {
         "name": "stdout",
         "output_type": "stream",
         "text": "{'filename': 'data/bbc/business/001.txt'}\n\nad sales boost time warner profit quarterly profits at us media giant timewarner jumped 76% to $1.13bn â£600m for the three months to december from $639m year-earlier the firm which is now one of the biggest investors in google benefited from sales of high-speed internet connections and higher advert sales timewarner said fourth quarter sales rose 2% to $11.1bn from $10.9bn its profits were buoyed by one-off gains which offset a profit dip at warner bros and less users for aol time warner said on friday that it now owns 8% of search-engine google but its own internet business aol had has mixed fortunes it lost 464,000 subscribers in the fourth quarter profits were lower than in the preceding three quarters however the company said aols underlying profit before exceptional items rose 8% on the back of stronger internet advertising revenues it hopes to increase subscribers by offering the online service free to timewarner internet customers and will try to sign up aols existing customers for high-speed broadband timewarner also has to restate 2000 and 2003 results following a probe by the us securities exchange commission sec which is close to concluding time warners fourth quarter profits were slightly better than analysts expectations but its film division saw profits slump 27% to $284m helped by box-office flops alexander and catwoman a sharp contrast to year-earlier when the third and final film in the lord of the rings trilogy boosted results for the full-year timewarner posted a profit of $3.36bn up 27% from its 2003 performance while revenues grew 6.4% to $42.09bn our financial performance was strong meeting or exceeding all of our full-year objectives and greatly enhancing our flexibility chairman and chief executive richard parsons said for 2005 timewarner is projecting operating earnings growth of around 5% and also expects higher revenue and wider profit margins timewarner is to restate its accounts as part of efforts to resolve an inquiry into aol by us market regulators it has already offered to pay $300m to settle charges in a deal that is under review by the sec the company said it was unable to estimate the amount it needed to set aside for legal reserves which it previously set at $500m it intends to adjust the way it accounts for a deal with german music publisher bertelsmanns purchase of a stake in aol europe which it had reported as advertising revenue it will now book the sale of its stake in aol europe as a loss on the value of that stake\n"
        }
       ]
      }
     },
     "fd8706d81fa04a80a3681c0e42707baa": {
      "model_module": "@jupyter-widgets/controls",
      "model_module_version": "1.5.0",
      "model_name": "HBoxModel",
      "state": {
       "children": [
        "IPY_MODEL_895d514ae0484f34aaab8bca411fb350",
        "IPY_MODEL_9157e790ab494354bd50f36c7f884d85"
       ],
       "layout": "IPY_MODEL_a0667232f2bc41efb998b78fa6f652f0"
      }
     },
     "ff63367c1a74473f9923193934980afc": {
      "model_module": "@jupyter-widgets/controls",
      "model_module_version": "1.5.0",
      "model_name": "VBoxModel",
      "state": {
       "_dom_classes": [
        "widget-interact"
       ],
       "children": [
        "IPY_MODEL_d27d236d2c2c464686c76a22448af22f",
        "IPY_MODEL_fd6627651a334bccaff61392b2c500bf"
       ],
       "layout": "IPY_MODEL_e9b5f5764bc144e589e826d08abdd3f5"
      }
     }
    },
    "version_major": 2,
    "version_minor": 0
   }
  }
 },
 "nbformat": 4,
 "nbformat_minor": 4
}
