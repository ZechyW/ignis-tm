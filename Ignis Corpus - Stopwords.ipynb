{
 "cells": [
  {
   "cell_type": "markdown",
   "metadata": {},
   "source": [
    "Ignis: Text Pre-processing\n",
    "=========================="
   ]
  },
  {
   "cell_type": "code",
   "execution_count": 1,
   "metadata": {
    "ExecuteTime": {
     "end_time": "2020-06-23T02:44:37.601527Z",
     "start_time": "2020-06-23T02:44:36.026527Z"
    }
   },
   "outputs": [],
   "source": [
    "import collections\n",
    "import glob\n",
    "import pathlib\n",
    "import re\n",
    "import threading\n",
    "import time\n",
    "\n",
    "import gensim\n",
    "import tqdm"
   ]
  },
  {
   "cell_type": "code",
   "execution_count": 2,
   "metadata": {
    "ExecuteTime": {
     "end_time": "2020-06-23T02:44:37.672530Z",
     "start_time": "2020-06-23T02:44:37.605528Z"
    }
   },
   "outputs": [
    {
     "data": {
      "text/html": [
       "\n",
       "<style>\n",
       "   .jupyter-widgets-output-area .output_scroll {\n",
       "        height: unset !important;\n",
       "        border-radius: unset !important;\n",
       "        -webkit-box-shadow: unset !important;\n",
       "        box-shadow: unset !important;\n",
       "    }\n",
       "    .jupyter-widgets-output-area  {\n",
       "        height: auto !important;\n",
       "    }\n",
       "</style>\n"
      ],
      "text/plain": [
       "<IPython.core.display.HTML object>"
      ]
     },
     "metadata": {},
     "output_type": "display_data"
    }
   ],
   "source": [
    "# Jupyter notebook setup\n",
    "import ipywidgets as widgets\n",
    "from IPython.core.display import display, HTML\n",
    "\n",
    "# Custom styling:\n",
    "# - Prevent vertical scrollbars in output subareas\n",
    "style = \"\"\"\n",
    "<style>\n",
    "   .jupyter-widgets-output-area .output_scroll {\n",
    "        height: unset !important;\n",
    "        border-radius: unset !important;\n",
    "        -webkit-box-shadow: unset !important;\n",
    "        box-shadow: unset !important;\n",
    "    }\n",
    "    .jupyter-widgets-output-area  {\n",
    "        height: auto !important;\n",
    "    }\n",
    "</style>\n",
    "\"\"\"\n",
    "display(HTML(style))"
   ]
  },
  {
   "cell_type": "markdown",
   "metadata": {},
   "source": [
    "Data ingestion\n",
    "--------------------\n",
    "\n",
    "We will track the contents and filename of each document, then tokenise them all and feed them into an `ignis.Corpus` that will be saved.\n",
    "\n",
    "We should, by all accounts, actually be preparing a separate text cleaning function and running the raw text through it immediately, but this way we can see the effects of each step of the data cleaning."
   ]
  },
  {
   "cell_type": "code",
   "execution_count": 3,
   "metadata": {
    "ExecuteTime": {
     "end_time": "2020-06-23T02:44:37.698526Z",
     "start_time": "2020-06-23T02:44:37.675526Z"
    }
   },
   "outputs": [],
   "source": [
    "raw_files = glob.glob(\"./data/bbc/*/*.txt\")"
   ]
  },
  {
   "cell_type": "code",
   "execution_count": 4,
   "metadata": {
    "ExecuteTime": {
     "end_time": "2020-06-23T02:44:37.703527Z",
     "start_time": "2020-06-23T02:44:37.700526Z"
    }
   },
   "outputs": [],
   "source": [
    "RawDocument = collections.namedtuple(\"RawDocument\", \"metadata, tokens, human_readable\")"
   ]
  },
  {
   "cell_type": "code",
   "execution_count": 5,
   "metadata": {
    "ExecuteTime": {
     "end_time": "2020-06-23T02:44:38.047542Z",
     "start_time": "2020-06-23T02:44:37.706546Z"
    }
   },
   "outputs": [
    {
     "name": "stderr",
     "output_type": "stream",
     "text": [
      "100%|██████████| 2225/2225 [00:00<00:00, 6825.21it/s]\n"
     ]
    }
   ],
   "source": [
    "raw_docs = []\n",
    "for file in tqdm.tqdm(raw_files):\n",
    "    filename = pathlib.Path(file).as_posix()\n",
    "\n",
    "    metadata = {\"filename\": filename}\n",
    "\n",
    "    with open(file, \"r\", encoding=\"utf8\", errors=\"replace\") as f:\n",
    "        tokens = f.read()\n",
    "        \n",
    "    # Clear out multiple empty lines in the human-readable representation\n",
    "    human_readable = re.sub(r\"(\\s*\\r?\\n){3,}\", \"\\n\\n\", tokens)\n",
    "\n",
    "    raw_doc = RawDocument(metadata, tokens, human_readable=tokens)\n",
    "\n",
    "    raw_docs.append(raw_doc)"
   ]
  },
  {
   "cell_type": "code",
   "execution_count": 30,
   "metadata": {
    "ExecuteTime": {
     "end_time": "2020-06-23T05:37:57.456626Z",
     "start_time": "2020-06-23T05:37:57.409493Z"
    },
    "scrolled": false
   },
   "outputs": [
    {
     "data": {
      "application/vnd.jupyter.widget-view+json": {
       "model_id": "4ac1b401bbb94e1b85dad07cd7b7596a",
       "version_major": 2,
       "version_minor": 0
      },
      "text/plain": [
       "interactive(children=(IntSlider(value=0, description='doc_id', max=2224), IntSlider(value=0, description='test…"
      ]
     },
     "metadata": {},
     "output_type": "display_data"
    },
    {
     "data": {
      "text/plain": [
       "<function __main__.show_raw_doc(doc_id=0, test=0)>"
      ]
     },
     "execution_count": 30,
     "metadata": {},
     "output_type": "execute_result"
    }
   ],
   "source": [
    "def show_raw_doc(doc_id=0):\n",
    "    print(raw_docs[doc_id].metadata)\n",
    "    print()\n",
    "    print(raw_docs[doc_id].tokens)\n",
    "\n",
    "\n",
    "widgets.interact(show_raw_doc, doc_id=(0, len(raw_docs) - 1))"
   ]
  },
  {
   "cell_type": "markdown",
   "metadata": {},
   "source": [
    "Text pre-processing and tokenisation\n",
    "------"
   ]
  },
  {
   "cell_type": "markdown",
   "metadata": {},
   "source": [
    "### Naive tokenisation (by whitespace)\n",
    "- Case folding\n",
    "- Strip leading/trailing non-informative punctuation from tokens\n",
    "- Remove single apostrophes\n",
    "- Remove single brackets within words\n",
    "  - For dealing with cases like \"the recipient(s)\" -- Which will get tokenised to \"the recipient(s\" otherwise"
   ]
  },
  {
   "cell_type": "code",
   "execution_count": 7,
   "metadata": {
    "ExecuteTime": {
     "end_time": "2020-06-23T02:44:38.096529Z",
     "start_time": "2020-06-23T02:44:38.087526Z"
    }
   },
   "outputs": [],
   "source": [
    "strip_punctuation = \"'\\\"()[]<>?!,.:;/|_-+*\"\n",
    "bracket_pairs = [\n",
    "    [\"(\", \")\"],\n",
    "    [\"[\", \"]\"],\n",
    "]\n",
    "\n",
    "\n",
    "def naive_tokenise(doc):\n",
    "    \"\"\"\n",
    "    Naively tokenises a document.\n",
    "    \n",
    "    Returns\n",
    "    -------\n",
    "    str\n",
    "        The document as a string of space-separated tokens\n",
    "    \"\"\"\n",
    "    new_tokens = []\n",
    "\n",
    "    tokens = doc.split()\n",
    "    for token in tokens:\n",
    "        token = token.casefold()\n",
    "        token = token.strip(strip_punctuation)\n",
    "        token = token.replace(\"'\", \"\")\n",
    "\n",
    "        for bracket_pair in bracket_pairs:\n",
    "            if bracket_pair[0] in token and bracket_pair[1] not in token:\n",
    "                token = token.replace(bracket_pair[0], \"\")\n",
    "            if bracket_pair[1] in token and bracket_pair[0] not in token:\n",
    "                token = token.replace(bracket_pair[1], \"\")\n",
    "\n",
    "        if token != \"\":\n",
    "            new_tokens.append(token)\n",
    "\n",
    "    return new_tokens"
   ]
  },
  {
   "cell_type": "code",
   "execution_count": 8,
   "metadata": {
    "ExecuteTime": {
     "end_time": "2020-06-23T02:44:38.106526Z",
     "start_time": "2020-06-23T02:44:38.099526Z"
    }
   },
   "outputs": [
    {
     "data": {
      "text/plain": [
       "['this',\n",
       " 'is',\n",
       " 'a',\n",
       " 't(e)st',\n",
       " 'of',\n",
       " 'the',\n",
       " 'systems',\n",
       " 'tokenisation',\n",
       " 'operations']"
      ]
     },
     "execution_count": 8,
     "metadata": {},
     "output_type": "execute_result"
    }
   ],
   "source": [
    "naive_tokenise('This is a t(e)st of the system\\'s \"tokenisation\" operation(s).')"
   ]
  },
  {
   "cell_type": "code",
   "execution_count": 9,
   "metadata": {
    "ExecuteTime": {
     "end_time": "2020-06-23T02:44:38.928530Z",
     "start_time": "2020-06-23T02:44:38.109526Z"
    }
   },
   "outputs": [],
   "source": [
    "naive_docs = []\n",
    "for raw_doc in raw_docs:\n",
    "    naive_docs.append(raw_doc._replace(tokens=naive_tokenise(raw_doc.tokens)))"
   ]
  },
  {
   "cell_type": "code",
   "execution_count": 10,
   "metadata": {
    "ExecuteTime": {
     "end_time": "2020-06-23T02:44:38.963528Z",
     "start_time": "2020-06-23T02:44:38.930527Z"
    }
   },
   "outputs": [
    {
     "data": {
      "application/vnd.jupyter.widget-view+json": {
       "model_id": "38750b0e68db48eeaa9c876664413197",
       "version_major": 2,
       "version_minor": 0
      },
      "text/plain": [
       "interactive(children=(IntSlider(value=0, description='doc_id', max=2224), Output()), _dom_classes=('widget-int…"
      ]
     },
     "metadata": {},
     "output_type": "display_data"
    },
    {
     "data": {
      "text/plain": [
       "<function __main__.show_naive_doc(doc_id=0)>"
      ]
     },
     "execution_count": 10,
     "metadata": {},
     "output_type": "execute_result"
    }
   ],
   "source": [
    "def show_naive_doc(doc_id=0):\n",
    "    print(naive_docs[doc_id].metadata)\n",
    "    print()\n",
    "    print(\" \".join(naive_docs[doc_id].tokens))\n",
    "\n",
    "\n",
    "widgets.interact(show_naive_doc, doc_id=(0, len(naive_docs) - 1))"
   ]
  },
  {
   "cell_type": "markdown",
   "metadata": {},
   "source": [
    "### Automated n-gram detection\n",
    "\n",
    "Chunk into significant bigrams based on collocation frequency\n",
    "\n",
    "(N.B.: Gensim implies that the input to the Phraser should be a list of single sentences, but we will feed it a list of documents instead.)\n",
    "\n",
    "- Min count: How many documents the n-grams need to appear in\n",
    "\n",
    "- Scoring: \"default\" or \"npmi\"\n",
    "\n",
    "- Threshold: Intuitively, higher threshold means fewer phrases.\n",
    "  - With the default scorer, this is greater than or equal to 0; with the NPMI scorer, this is in the range -1 to 1.\n",
    "\n",
    "- Common terms: These terms will be ignored if they come between normal words.\n",
    "  - E.g., if `common_terms` includes the word \"of\", then when the phraser sees \"Wheel of Fortune\" it actually evaluates _\"Wheel Fortune\"_ as an n-gram, putting \"of\" back in only at the output level to give _wheel_of_fortune_.\n",
    "  - With the `common_terms` option set properly,  there do not seem to be many significant trigrams and above left to pick up -- We stick with bigrams to save on runtime."
   ]
  },
  {
   "cell_type": "code",
   "execution_count": 11,
   "metadata": {
    "ExecuteTime": {
     "end_time": "2020-06-23T02:44:38.970549Z",
     "start_time": "2020-06-23T02:44:38.965536Z"
    }
   },
   "outputs": [],
   "source": [
    "min_count = 5\n",
    "scoring = \"npmi\"\n",
    "# We want a relatively high threshold so that we don't start littering spurious n-grams all over our corpus, diluting our results.\n",
    "# E.g., we want \"Lord_of_the_Rings\", but not \"slightly_better_than_analysts\"\n",
    "threshold = 0.7\n",
    "common_terms = [\"a\", \"an\", \"the\", \"of\", \"on\", \"in\", \"at\"]"
   ]
  },
  {
   "cell_type": "markdown",
   "metadata": {},
   "source": [
    "This could take a while, so set up a threaded function with a basic progress indicator in the main thread"
   ]
  },
  {
   "cell_type": "code",
   "execution_count": 12,
   "metadata": {
    "ExecuteTime": {
     "end_time": "2020-06-23T02:44:38.983551Z",
     "start_time": "2020-06-23T02:44:38.973525Z"
    }
   },
   "outputs": [],
   "source": [
    "def find_phrases(docs, results, trigrams=False):\n",
    "    # Build, finalise, and apply the bigram model\n",
    "    bigram_model = gensim.models.Phrases(\n",
    "        docs,\n",
    "        min_count=min_count,\n",
    "        threshold=threshold,\n",
    "        scoring=scoring,\n",
    "        common_terms=common_terms,\n",
    "    )\n",
    "    bigram_model = gensim.models.phrases.Phraser(bigram_model)\n",
    "\n",
    "    bigram_docs = bigram_model[docs]\n",
    "\n",
    "    results[0] = bigram_docs\n",
    "\n",
    "    if trigrams:\n",
    "        # Repeat to get trigrams\n",
    "        trigram_model = gensim.models.Phrases(\n",
    "            bigram_docs,\n",
    "            min_count=min_count,\n",
    "            threshold=threshold,\n",
    "            scoring=scoring,\n",
    "            common_terms=common_terms,\n",
    "        )\n",
    "        trigram_model = gensim.models.phrases.Phraser(trigram_model)\n",
    "\n",
    "        trigram_docs = trigram_model[docs]\n",
    "\n",
    "        results[0] = trigram_docs"
   ]
  },
  {
   "cell_type": "code",
   "execution_count": 13,
   "metadata": {
    "ExecuteTime": {
     "end_time": "2020-06-23T02:44:47.501556Z",
     "start_time": "2020-06-23T02:44:38.985544Z"
    },
    "scrolled": true
   },
   "outputs": [
    {
     "name": "stdout",
     "output_type": "stream",
     "text": [
      "Finding phrases . . . . . Done. (6.350s)\n"
     ]
    }
   ],
   "source": [
    "print(\"Finding phrases\", flush=True, end=\"\")\n",
    "start_time = time.perf_counter()\n",
    "\n",
    "# Just send the textual content through the Phraser, not the document metadata\n",
    "for_phrasing = [naive_doc.tokens for naive_doc in naive_docs]\n",
    "\n",
    "# Will contain the documents after trigram processing\n",
    "results = [None]\n",
    "t = threading.Thread(target=find_phrases, args=(for_phrasing, results, False))\n",
    "t.start()\n",
    "\n",
    "progress_countdown = 1.0\n",
    "\n",
    "while t.isAlive():\n",
    "    time.sleep(0.1)\n",
    "    progress_countdown -= 0.1\n",
    "    if progress_countdown <= 0:\n",
    "        print(\" .\", flush=True, end=\"\")\n",
    "        progress_countdown = 1\n",
    "\n",
    "elapsed = time.perf_counter() - start_time\n",
    "print(f\" Done. ({elapsed:.3f}s)\")\n",
    "\n",
    "after_phrasing = results[0]\n",
    "\n",
    "# Put metadata back in\n",
    "phrased_docs = []\n",
    "for index, tokens in enumerate(after_phrasing):\n",
    "    phrased_docs.append(naive_docs[index]._replace(tokens=tokens))"
   ]
  },
  {
   "cell_type": "code",
   "execution_count": 14,
   "metadata": {
    "ExecuteTime": {
     "end_time": "2020-06-23T02:44:47.545561Z",
     "start_time": "2020-06-23T02:44:47.503529Z"
    },
    "scrolled": false
   },
   "outputs": [
    {
     "data": {
      "application/vnd.jupyter.widget-view+json": {
       "model_id": "f80e22458e0d4693b355a75b05cfc8a8",
       "version_major": 2,
       "version_minor": 0
      },
      "text/plain": [
       "interactive(children=(IntSlider(value=0, description='doc_id', max=2224), Output()), _dom_classes=('widget-int…"
      ]
     },
     "metadata": {},
     "output_type": "display_data"
    },
    {
     "data": {
      "text/plain": [
       "<function __main__.show_phrased_doc(doc_id=0)>"
      ]
     },
     "execution_count": 14,
     "metadata": {},
     "output_type": "execute_result"
    }
   ],
   "source": [
    "def show_phrased_doc(doc_id=0):\n",
    "    print(phrased_docs[doc_id].metadata)\n",
    "    print()\n",
    "    print(\" \".join(phrased_docs[doc_id].tokens))\n",
    "\n",
    "\n",
    "widgets.interact(show_phrased_doc, doc_id=(0, len(phrased_docs) - 1))"
   ]
  },
  {
   "cell_type": "code",
   "execution_count": 15,
   "metadata": {
    "ExecuteTime": {
     "end_time": "2020-06-23T02:44:47.784551Z",
     "start_time": "2020-06-23T02:44:47.547528Z"
    },
    "scrolled": false
   },
   "outputs": [
    {
     "name": "stdout",
     "output_type": "stream",
     "text": [
      "lord_of_the_rings\n",
      "house_of_lords\n",
      "tens_of_thousands\n",
      "chambers_of_commerce\n",
      "billions_of_dollars\n",
      "weapons_of_mass\n",
      "tip_of_the_iceberg\n",
      "prisoner_of_azkaban\n",
      "tells_the_story\n",
      "shaun_of_the_dead\n",
      "pirates_of_the_caribbean\n",
      "passion_of_the_christ\n",
      "meet_the_fockers\n",
      "dismantle_an_atomic\n",
      "hall_of_fame\n",
      "phantom_of_the_opera\n",
      "hepburn_in_the_aviator\n",
      "miscarriages_of_justice\n",
      "convention_on_human\n",
      "hands_of_extremists\n",
      "code_of_conduct\n",
      "archbishop_of_canterbury\n",
      "prevention_of_terrorism\n",
      "tests_in_tel\n",
      "faking_a_motorcycle\n",
      "icing_on_the_cake\n",
      "capt_a_persico\n",
      "blogs_in_existence\n",
      "hitting_the_shelves\n"
     ]
    }
   ],
   "source": [
    "# Trigrams and above in the corpus (with `common_terms` set properly)\n",
    "seen_tokens = set()\n",
    "for document in phrased_docs:\n",
    "    for token in document.tokens:\n",
    "        if token.count(\"_\") >= 2:\n",
    "            if token not in seen_tokens:\n",
    "                print(token)\n",
    "                seen_tokens.add(token)"
   ]
  },
  {
   "cell_type": "code",
   "execution_count": 16,
   "metadata": {
    "ExecuteTime": {
     "end_time": "2020-06-23T02:44:48.243529Z",
     "start_time": "2020-06-23T02:44:47.787528Z"
    }
   },
   "outputs": [
    {
     "name": "stdout",
     "output_type": "stream",
     "text": [
      "Done\n"
     ]
    }
   ],
   "source": [
    "# Does Gensim's Phraser completely replace all the relevant original tokens, or is it a partial replacement for some reason?\n",
    "ngrams = [token.split(\"_\") for token in seen_tokens]\n",
    "first_tokens = [ngram[0] for ngram in ngrams]\n",
    "\n",
    "test_docs = [\n",
    "    [\"a\", \"test\"],\n",
    "    [\"flash\", \"memory\"],\n",
    "    [\"another\", \"boop\"],\n",
    "    [\"bot\", \"nets\"],\n",
    "    [\"ehh\"],\n",
    "]\n",
    "\n",
    "actual_docs = [list(document.tokens) for document in phrased_docs]\n",
    "\n",
    "\n",
    "def test_ngrams(doc_tokens_list):\n",
    "    for tokens in doc_tokens_list:\n",
    "        for index, token in enumerate(tokens):\n",
    "            if token in first_tokens:\n",
    "                possibles = [ngram for ngram in ngrams if ngram[0] == token]\n",
    "                for possible in possibles:\n",
    "                    # Check this ngram\n",
    "                    if tokens[index : len(possible)] == possible:\n",
    "                        print(f\"Found: {possible}\")\n",
    "\n",
    "\n",
    "test_ngrams(test_docs)\n",
    "test_ngrams(actual_docs)\n",
    "print(\"Done\")"
   ]
  },
  {
   "cell_type": "markdown",
   "metadata": {},
   "source": [
    "### Post-phrasing cleaning\n",
    "\n",
    "- Remove stop words (optional)\n",
    "- Remove purely numeric/non-alphabetic/single-character tokens\n",
    "  - Under the assumption that significant tokens, like the \"19\" in \"Covid 19\" or the \"11\" in \"Chapter 11 (bankruptcy)\" would have been picked up by the phraser"
   ]
  },
  {
   "cell_type": "code",
   "execution_count": 17,
   "metadata": {
    "ExecuteTime": {
     "end_time": "2020-06-23T02:44:48.249568Z",
     "start_time": "2020-06-23T02:44:48.245529Z"
    }
   },
   "outputs": [],
   "source": [
    "stopset = set()"
   ]
  },
  {
   "cell_type": "code",
   "execution_count": 18,
   "metadata": {
    "ExecuteTime": {
     "end_time": "2020-06-23T02:44:48.495528Z",
     "start_time": "2020-06-23T02:44:48.252541Z"
    }
   },
   "outputs": [],
   "source": [
    "# Stoplist based on TF-IDF\n",
    "# Not theoretically needed if using term weighting during the training process, but stopword\n",
    "# removal could still help with runtimes and interpretability\n",
    "\n",
    "\n",
    "import collections\n",
    "import math\n",
    "\n",
    "# Calculate IDF (For calculations of this size, the overhead of Pandas/Numpy is probably not worth it)\n",
    "df_dict = {}\n",
    "for doc in phrased_docs:\n",
    "    for token in set(doc.tokens):\n",
    "        if token in df_dict:\n",
    "            df_dict[token] += 1\n",
    "        else:\n",
    "            df_dict[token] = 1\n",
    "\n",
    "# While we're at it, we could remove document-level hapax legomena\n",
    "hapax = [token for token, count in df_dict.items() if count == 1]\n",
    "\n",
    "token_idf = {}\n",
    "for token in df_dict:\n",
    "    token_idf[token] = math.log(len(phrased_docs) / df_dict[token])\n",
    "\n",
    "\n",
    "def tf_idf(tokens, token_idf):\n",
    "    \"\"\"\n",
    "    Calculates the TF-IDF for each unique term in the given list of document tokens\n",
    "    \n",
    "    Parameters\n",
    "    ----------\n",
    "    tokens: iterable of str\n",
    "        Tokens that make up a single document\n",
    "    token_idf: dict\n",
    "        Mapping of terms to their global IDF values\n",
    "    \"\"\"\n",
    "    token_tf_idf = {}\n",
    "    counts = collections.Counter(tokens)\n",
    "    for token in set(tokens):\n",
    "        token_tf = counts[token] / len(tokens)\n",
    "        # In particular, accessing a Pandas Series by string index is much slower than accessing a Dictionary by key\n",
    "        token_tf_idf[token] = token_tf * token_idf[token]\n",
    "    return token_tf_idf"
   ]
  },
  {
   "cell_type": "code",
   "execution_count": 19,
   "metadata": {
    "ExecuteTime": {
     "end_time": "2020-06-23T02:44:49.007529Z",
     "start_time": "2020-06-23T02:44:48.497528Z"
    }
   },
   "outputs": [
    {
     "name": "stdout",
     "output_type": "stream",
     "text": [
      "Stopwords, ordered by TF-IDF:\n",
      "the, to, a, of, and, in, for, on, said, is, has, with, it, at, by, that, was, be, have, as, but, from, an, which, will, been, this, also, are, its, not, up, had, were, who, he, their, more, would, out, one, after, they, last, about, over, -, than, year, all, two, when, there, new, could, other, into, years, his, we, now, first, if, time, or, made, us, only, no, some, being, so, while, added, before, make, three, well, told, can, back, take, because, them, most, what, next, get, just, way, world, do, people, i, since, against, such, very, any, set, many, like, still\n",
      "(103)\n"
     ]
    }
   ],
   "source": [
    "# Thresholding\n",
    "\n",
    "# Number of terms with lowest TF-IDF scores to consider per document\n",
    "n_lowest = 50\n",
    "# The proportion of documents each of these terms must appear in to be considered a stopword\n",
    "stopword_proportion = 0.15\n",
    "\n",
    "per_doc_stopwords = []\n",
    "for doc in phrased_docs:\n",
    "    token_tf_idf = tf_idf(doc.tokens, token_idf)\n",
    "    # token_tf_idf is a dict of token -> score\n",
    "    scores = sorted(list(token_tf_idf.items()), key=lambda x: x[1])\n",
    "    lowest_n = [score[0] for score in scores[:n_lowest]]\n",
    "    per_doc_stopwords.append(set(lowest_n))\n",
    "\n",
    "# Check how many *stopword lists* each token appears in; this is more discriminative than\n",
    "# checking how many actual *documents* each token appears in instead\n",
    "stopword_df = {}\n",
    "for per_doc in per_doc_stopwords:\n",
    "    for stopword in per_doc:\n",
    "        if stopword in stopword_df:\n",
    "            stopword_df[stopword] += 1\n",
    "        else:\n",
    "            stopword_df[stopword] = 1\n",
    "\n",
    "total_docs = len(phrased_docs)\n",
    "final_stopwords = []\n",
    "for stopword, count in stopword_df.items():\n",
    "    if count / total_docs > stopword_proportion:\n",
    "        final_stopwords.append((stopword, count))\n",
    "final_stopwords.sort(key=lambda x: x[1], reverse=True)\n",
    "\n",
    "# List of removed words sorted by TF-IDF (so in roughly decreasing order of commonness)\n",
    "removed_words = [stopword for stopword, count in final_stopwords]\n",
    "stopset = stopset.union(removed_words)\n",
    "\n",
    "print(\"Stopwords, ordered by TF-IDF:\")\n",
    "print(\", \".join(removed_words))\n",
    "print(f\"({len(removed_words)})\")"
   ]
  },
  {
   "cell_type": "code",
   "execution_count": 20,
   "metadata": {
    "ExecuteTime": {
     "end_time": "2020-06-23T02:44:49.022531Z",
     "start_time": "2020-06-23T02:44:49.009529Z"
    }
   },
   "outputs": [
    {
     "name": "stdout",
     "output_type": "stream",
     "text": [
      "Also removing document-level hapaxes:\n",
      "$11.1bn, $10.9bn, aols, $3.36bn, catwoman, search-engine, â£600m, $639m, warners, $42.09bn, bertelsmanns, timewarner, year-earlier, $284m, 464,000, $1.2974, half-point, sinche, greenspans, loosening, $1.2871, moscow-based, rosnefts, $540m, â£479m, firestone, $141m, broughton, â£125m, â£59m, surcharge, cargo, yields, 274.5, surcharges, controllable, â£106m, a321, short-haul, eddington, brul, regal, domecqs, jacobs, chivas, glenmorangie, brandy, dunkin, pernods, stolichnaya, ricard, 8.2bn, ballantines, $9.7bn, 1.8bn, seagram, donuts, courvoisier, domecq, baskin-robbins, pernod, escapes, hesitant, similar-sized, sheard, patchier, cowed, crops, josserand, 14.27, supplementary, 89,000, 965,000, fertilizers, rains, faos, 11.49, distributions, vegetable, fortified, lactating, ethiopians, 387,500, infiltration, doubleclick, $204m, outperformance, $86m, $187m, dwarfed, indrawati, sukarnoputri, bambang, mulyani, yudhoyonos, acehs, $6.58bn, kerosene, megawati, 59.2, 14.5, importers, susilo, 472bn, bailouts, 36,000, â£2.77bn, nishioka, badly-needed, peugeots, daimlerchrylser, 540bn, hollinger, littlewoods, mulling, axing, 521, fitzpatrick, maclennan, broadsheet, 90-day, â£150m, consultative, pearsons, barclay, nuj, eu-based, eraa, elaa, pay-out, misleads, preposterous, marja, â£173, overbooking, cawley, iata, quillinan-meiland, eraas, 15.7%, tooling-up, overbalancing, 12bn, 136m, 4bn-euro, unwinding, disclosing, 38m, 77m, â£53m, baweja, 43.41, bhanu, creditworthiness, 43.305, bbb-, buoying, bb+, bharti, 74%, sanjay, dayanidhi, manmohan, televentures, gartners, hutchison, whampoa, essar, kobita, kong-based, â£10.6bn, maran, diemont, frustrates, cara, churn, vivaldi, sunovate, canned, offshoring, 13.3%, mecca, distributes, â£21.5m, demerger, demerged, grosvenor, demerge, â£392.1m, deluxe, pinewood, brunt, kronawitter, hypovereinsbank, hirings, 4.464, isabelle, one-euro, naude, reiterating, 0.7-0.8%, dollar-denominated, $1.76, $180.7bn, â£484bn, 24.4%, $496.5bn, 35.7%, $1.15, ripert, spurring, $671.7bn, â£56.4bn, 30.5%, ixis, $162bn, astronomical, marie-pierre, confiscatory, previously-unknown, xlr, silverade, avalanche, 155,465, kodiak, coupes, savana, srx, ascenders, hydraulic, gmc, isuzu, fragments, raniers, trailblazers, windshield, pickups, yukon, 17,815, accelerator, envoys, 19,924, accumulator, nhtsa, ispat, $32bn, 155,000, workforces, mittal_steel, isg, mittals, lakshmi, 24.1bn, â£16.7bn, spokeman, middleton, $47.10, triggers, orin, beleaguered, $44.45, industrialized, $1.64, iea, non-opec, 294.3m, $1.32, $47, latifundios, hectare, trample, agrarian, 12,900, landowners, hectares, hato, ortiz, cojedes, farmland, export-led, koen, not-too-distant, 2.0%, turbulence, oecds, oecd, bi-annual, cotis, iseq, mcalinden, 6661.89, eircom, ncb, deepening, persisting, 189, sumitomos, ufj-mtfg, largest-ever, $29bn, ufjs, mtfg, $10.2bn, 15.3%, leibovich, 24.2, 12.1, 2019, technology-sharing, woodley, nanjing, medias, $1.04bn, 14.1%, rubicam, wpp, wpps, â£546m, mather, omnicom, â£532m, cordiant, ogilvy, outperform, signifies, delegations, certify, sox, onerous, futon, tsutsumi, rebuilt, inheriting, nagano, share-ownership, scolded, dined, seibu, sauce, untouchable, soy, tsutsumis, businessmen, yoshiaki, telesystems, $1.85bn, 1.17bn, 364m, hannes, wittig, oao, 14.96bn, 35.8bn, shenzhen, liqueur, illva, saronno, yantai, 61.1bn, â£30.7m, 0.22, north-eastern, tempts, 481.42m, $58.16m, changyu, capita, 222%, 1.76%, â£15.4m, mcguigan, â£24.5m, $29.4m, shirts, umbro, replica, 115.5, sportswear, lapsed, baby-boom, retirees, clouding, soon-to-retire, â£51.6m, spindler, geological, â£1.30, plunges, northumberland, gigajoule, â£1.18, highly-educated, de-facto, al-gosaibi, al-faisal, uproar, pitiful, saud, ghazi, iizuka, periodically, annualised, dai-ichi, $53, $53.09, refinery, $53.03, silliere, gallon, $1.4850, -which, meti, yamanaka, preyed, -may, resilient, 193, bonderman, ryanair/boeing, $4bn, apcom, re-listing, quotation, closed-door, $18.34bn, stockmarket, 11.3%, â£9.6bn, 7.3%, finanziaria, beetle, 116i, â£15,690, â£12,556, the-car, tapers, modernised, depreciates, â£17,730, â£11,500, rapidly-rising, wernle, 189,000, cowley, c180, second-hand, reithofer, â£280m, mini-workers, nestle, â£39.1bn, â£451m, perrier, $861m, $74.6bn, 86.7bn, nestles, petcare, brabeck-letmathe, 775m, mediobanca, sportscar, wholly-, -best, 1.53bn, â£1.05bn, 2.3bn, enel, small-, juddering, underfunding, 6.5bn, brain-drain, kickstarting, â£610m, $6.13bn, glocer, â£3.24bn, â£2.89bn, â£234m, mong-koo, 920,000, chung, 6.8bn, â£910m, 9.4%, 418bn-rand, 280,000, garrow, colen, 22.3bn, high-powered, 95,000, 3-series, assembling, 80,600, bmw-brand, rolls-royces, rolls-royce, 14,800, awoken, cookers, aeg, aycliffe, frigidaire, straberg, zanussi, carlsson, electroluxs, high-cost, spennymoor, electrolux, ulf, orchestrated, whistleblower, malpractice, bewlay, 3.24, 1.41, claimant, inactive, 296,000, 28.52, ostwald, 813,200, monument, docklands, a$67.7m, redevelopment, a$35.1m, $874m, paring, multiplex, â£458m, writeback, reaffirming, 1.2bn, a$4.50, a$4.67, multiplexs, a$68m, rourke, parul, grocery, rhein-main, lamberty, medium-distance, crisis...only, politicial, schulte-strathaus, weidensteiner, hans-werner, 97.5, sinn, bernd, ifo, munich-based, dz, least-developed, protectionism, â£158.8bn, $300bn, 230.9bn, citu, townships, 538,000, timeframe, speculatively, specifying, anshuman, vancheshwar, cb, discouraging, meters, majumdar, chittabrata, dlf, brick-making, construct, 767, 840, jumbos, twin-engine, â£98m, 143m, rolled-out, pinning, learmount, $186m, 777, ferried, twin-aisle, offically, 777-200lr, planemaker, airliner, prevailing, non-stop, virginia-based, cut-price, highfields, cl, $17.04, $3.25bn, 19.6%, highfield, public-company, boston-based, non-beer, sorrows, kirin, beer-like, 30.6bn, happoshu, soybean, distilled, asahi, â£154m, well-established, peptides, suntory, shinnama, $291m, malt, beer-flavoured, potatoes, 31.8%, shochu, third-type, overhang, inching, month-on-month, seung, destatis, ecbs, onward, turkey-iran, inward, atinc, finans, mtn, posture, ozkan, turkish-austrian, investment-friendly, intifada, veb, oganesyan, cnpc, pre-payment, split-up, aton, dmitry, lukashov, deadlocked, juchemich, voided, extricate, capital-raising, â£1.06bn, home-shopping, near-400,000, $546m, occurs, â£290m, 635,173, 246,570, internet-related, food-for-oil, formalised, $240m, sur, enarsa, petrobras, pdvsa, defective, 3,600, audi, dingolfing, sindelfingen, fuel-injection, bosch, exel, burberry, 950p, beh, tibbett, mothercare, 109,000, logistics, 873p, bracknell-based, britten, dhl-owner, â£328m, rumour, $27m, backdated, $480,000, remittance, $327, 50.9, expatriates, â£8.82bn, labourers, 83,000, boes, â£6.4bn, two-tier, komileva, 53.7, policymakers, pmi, yamane, 48.3, prebon, 53.3, cips, lena, 51.8, â£5.8bn, affable, â£6.1bn, gartmore, brokerages, benmosche, citibank, metlifes, travelers, metlife, citigroups, $901m, higher-return, quint, 0619, $1.29, diplomacy, destabilising, tanase, 105.6, accumulation, junya, forthright, lemetayer, growers, fnsea, distil, dominique, top-up, 3.5m, overproduction, vintners, reschedule, 15m, viticulture, cooperatives, bussereau, burgundy, vines, solidity, hessel, outweight, alludes, $119bn, $113bn, seizures, speculative, ruhi, dogusoy, irancell, congested, part-turkish, $180, $500, ehud, interconnection, olmert, 10.3%, bondholders, â£53.51bn, irrational, 15.6%, $41bn, reside, 38.4%, $102.6bn, $81.8bn, defaulted, smaller-than-expected, january-to-march, 93%, 4.7bn, big-name, â£486,000, 705m, norvasc, 966m, pfizers, $915,000, hypertension, annoucement, energys, burren, congo, onshore, finian, 2100gmt, carsten, 105.17, snows, $1.3006, $1.2944, four-nation, fritsch, commerzbank, 105.28, $166bn, deutschland, seventy-year, self-sustaining, carrick, koreas, redesigned, automaker, petrol-price, cobalt, 17.6%, gas-guzzling, gas-electric, 1.27, 12.7%, fared, laneve, g6, first-quarter, nibble, sedan, doctoring, ill-timed, 2-3%, well-flagged, 0.25%, 2000-1, 29.4bn, slogans, tolerates, benin, funnelling, anti-bribery, lam, titans, $2.1m, kerekou, titan, $15.5m, $618m, $360m, $337m, â£352m, upper-teens, bigger-than-expected, $676m, price-rigging, layoffs, placement, $232m, â£195.3m, mmcs, ohlemeyer, â£149bn, racketeer, brooklyn, smoker, sebok, altrias, plaza, v8, astons, gaydon, porsches, db9, 911, vantage, stronghold, normanton, ex-aide, liberian, liberia, liberias, liberians, power-sharing, 14-year, post-conflict, provide...continued, 56.4, 55.3, 380m, 0.30, â£274.73m, flies, $527.61m, 984m, spurts, shirakawa, grinds, hiromichi, dove, atkins, dual-ownership, low-carbohydrate, beverage, 2.9bn, write-down, wane, unilevers, sweere, 510.75, organizational, slips, cescau, 650m, slimfast, simplification, burgmans, â£1.99bn, petercam, 50.50, 47.2bn, breton, 5.4, 43.9bn, $23.4bn, 578m, equant, â£12.5bn, 18.3bn, 72bn, pagesjaunes, telekoms, raps, overcharged, implicating, overstating, garnier, paxil, 771, â£6.2bn, discontinued, anti-depressants, allergies, 1218, wellbutrin, $1,000bn, â£537bn, heronry, nishikawa, cross-selling, yoshifumi, smfg, daiwa, 740, shimbun, 717,000, 5.3%, keizai, nihon, nozaki, nikkocitigroup, 2.5bn, rabb, 785m, 142bn, schrempp, jeep, 374m, 506m, chryslers, mini-car, 784m, mercedes-benzs, unfavourably, 475m, fuso, daimerchryslers, 10.8bn, 6.3bn, â£722m, 47.1%, svanberg, 19bn, 131.9, 20.7, all-communicating, kronor, seasonality, 39.4bn, 45.6%, carl-henric, 117.7bn, 9.5bn, mpcs, opts, widely-expected, clamour, cocoa, $1.2bn-worth, nurseries, naira, ibadan, 91m, adamu, seedlings, 154m, edo, grower, bello, osagie, tech-production, â£591,000, beans, spraying, south-western, cibc, geopolitics, 10,385.48, 0.01%, 0.89, obstruct, feds, avery, sohn, shenfeld, ex-columbia, fleetboston, boas, quick-fire, ex-managers, cfd, $140m, banc, â£277m, tambone, palombo, market-timing, hussey, boa, gustafson, bacap, $50-100,000, $515m, $47bn, industry-wide, cfds, harms, metrovias, mediating, otoku, â£38.4m, softbank, $71.5m, cut-rate, fast-rising, vaile, a$8.4bn, woodside, fivefold, undervaluation, a$246bn, â£347m, â£1.13bn, â£9.4bn, â£801m, 590, 1405, varley, 0.67%, â£1.04bn, â£15.2bn, accrued, shearman, a$431m, a$458.4m, $357.6m, a$720, â£191m, a$500m, a$30m, $563, a$245m, gregg, changeable, amman, road-show, itpc, conformity, snecma, dassault, p-3, mukerjee, keskar, aeronautics, collaborations, 240, dinesh, f-16, mikoyan-gurevich, hcl, pranab, â£18.8bn, orion, landes, industrially, cashflow, surgutneftegaz, london-listed, lukoil, ntv, swallowed, bogdanchikov, gazprom-rosneft, rosneft-owned, 8.6bn, 1.16bn, rijk, inbevs, 719m, cfa, exemplary, non-existent, meted, ephraim, yaounde, fidelis, inoni, unearned, nanga, labor, 128,000, 139,000, vance, 45.4, 10,360, 198,000, 96,000, eaton, 169,000, utgoff, 115,000, kristiansen, shepherds, re-merchandising, cuisine, cheeses, ham, brie, feta, wool, designation, hensel, jilted, kuchmas, yushchenkos, resell, annulled, heartland, ex-soviet, yanukovich, rock-bottom, bridgewell, 0710, gertz, shum, snowfalls, $51.39, purvin, democrat-green, 38.9, 4.875, 5.216, stubbornly-high, internationally-accepted, hartz-iv, working-age, ruerup, 11.7%, 3.97, ilo-based, kazuhiro, steelmakers, cia, takahashi, dolce, arcelor, 72%, uncharted, 22.5bn, corus, cvrd, much-higher, 16.87, 17.58, arcleor, smbc, sheffield-based, tinto, jfe, cvrds, vale, baoshan, 55.57, thyssenkrupp, mini-van, trans-atlantic, accura, seven-seat, x5, car-style, x3, van-style, 104.76, $1.9094, steadied, $850bn, 0950, $1.3218, snapple, $1.78bn, stitzer, â£933m, confectionery, carbonated, mid-2003, adnan, shihab-eldin, retreated, $49.74, $51.43, 920, merchandising, lynchs, $1.87bn, off-load, $15.1m, winn-dixies, â£980m, grocers, backseat, prioritised, altar, shaming, wim, unchartered, koks, knowledge-based, hofheinz, scarcely, brussels-based, kok, sacrificed, politeness, barroso, faming, synonym, malays, fully-operational, rhb, scouting, lilliu, montezemolo, six-cylinder, gt, romeos, 156, sportwagon, gtv, sporty, arese, powertrain, carl-peter, ruesselsheim, bls, desperately-needed, badged, cadillacs, unalloyed, upmarket, trollhaettan, saabs, â£104m, 151m, inroads, 24-hours, opels, vauxhalls, dosing, tysabri, multifocal, elans, 151.5, yamanouchi, ireland-based, re-initiation, tysabri-treated, elan, 19.84%, biogen, avonex, pml, evaluations, idec, idecs, four-fold, $38.65, $28.63, leukoencephalopathy, goodbody, $18.90, warranted, pans, snowfall, furness, collapsing, persists, â£7.2bn, overvalued, 0-5%, 82,000, homeowners, 79,000, 48,000, â£152,879, 2004/05, leeway, 1998/9, loynes, correcting, vote-catching, â£10.5bn, bloomingdales, federated, macys, federateds, sped, bluntly, barnards, $15.6bn, eight-month, 104.53, fukui, pullback, 11,740.60, flat-screen, best-performing, contradictions, fertiliser, lebedev, platon, qatars, 7.8, exxonmobil, qatargas-2, qatargas-4, sheikhdom, uk-dutch, â£3.12bn, $12.8bn, $2.35bn, $2,300, 830bn, sourced, 100bn, 71.56bn, 102.16bn, budgeted, 80bn, 102.8bn, income-tax, vis, communists, perilously, $5,700, 6.2, patriarch, soured, evade, recapitalised, 550m, refuelling, revoked, tankers, sears, favouring, druyuns, steered, seattle-based, darleen, â£131,961, druyun, ex-boeing, underpinning, rationale, $6.8bn, exited, cherney, downshifting, poors, 94.2, inflationary, stategist, barometer, shepherdson, arbitrator, quarter-point, brusca, traction, souza, maidenhead, â£7.5bn, berkshire, $13.99bn, cross-london, crossrail, solidere, hariri, redeveloped, assassinated, $8.08, 642.80, rafik, shudders, lebanons, blom, beiruts, cbis, sme, rapidly-growing, 16.4bn, goyal, 17.3, 13.7%, â£178,906, â£180,126, back-end, 120.7m, $0.98, sweetener, 1.88bn, $158.8m, faraj, $2.48bn, 364.4m, â£0.48, anais, â£83.3m, whiff, 4.25%, malta, fragility, bdb, unece, amstel, 3.4bn, heinekens, high-impact, 537m, 125m, 9.26bn, medium-to-long, 36bn, â£371m, 10bn, carlsberg, 798m, 456m, $701m, electrics, hydroelectric-power, $365m, 6.2bn, overheat, statistic, 103.3, 104.4, isae, exane, hiv-positive, coating, wealthier, pills, profiteers, re-sold, dye, re-selling, wimpeys, housebuilder, wimpey, â£280.2m, medium-term, 458.5p, 325.5p, bingley, buy-to-let, â£450.7m, $532m, b&b, pinpointing, counterfeiting, johannesson, malcom, billionaires, stalking, irishmen, mansoor, 104.16, 1.3187, softening, $1.90, mohi-uddin, rock-steady, khristenko, aleksey, loan-for-oil, touati, buffets, 9.9%, non-wage, boscholt, fixings, addink, bolts, hugues, stueker, itrec, sunken, submarine, huisman, specialises, sawicki, beck-crespel, charbonnier, schneider, chambre, armentieres, cranes, bhs, spike, paulsmeier, drkw, -and, reseach, mid-market, financier, roses, rebidding, high-street, m&ss, m&s, vermont, schmaler, carolina-based, schumer, leahys, tracy, ex-travel, goya, hiten, 17.2, $24-$26, 1,050-1,125, 16.2, 271, â£230.8m, $443m, augusto, eduardo, rejoiced, pinochet, $16m, pinochets, contreras, riggs, equatorial, baltasar, 1973-90, allende, garzon, 0.41, massaged, snapping, $1.50, $4.50, notebaert, umberto, agile, morchio, demel, underperformed, toutai, claquin, ccf, celebrex, inhibitors, mercks, cox-2, fdas, merck, cardiovascular, therapies, $1.4bn, vioxx, vioxx-related, bextra, mihkail, 2.05, peter-thilo, magazin, 27.2m, deferring, suspending, 134.7m, mismanagement, westfallen, 35m, halser, 2006-2007, schechter, â£47m, $89m, dortmunds, â£5.1bn, â£17.9bn, â£21.8bn, niesr, 4.1%, robustly, record-busting, hikes, conceal, resold, perchesk, permitting, annul, 1130p, 30-month, reshuffled, appraisal, legitimise, moneys, pardon, eduard, -are, warped, shevardnadze, georgian, -thought, saakashvili, fidel, cubas, cubans, importing, underscores, castros, barrionuevo, decentralise, disrepair, suffocate, periodic, peso, exiles, barrioneuvo, chemically, $31, â£3.9bn, 57.85, kuhlhoff, 5.65bn, teva, eon, sandoz, drugmakers, hexal, 67.7%, hexals, novartis, fiduciary, capellas, then-named, unconscionable, tabling, unhappiness, breuer, standoff, slager, deutsches, belt-tightening, discretionary, $2.5, $230bn, medicaid, austere, $587m, needy, â£1.3, haji-ioannou, easygroup, easygroups, disclaimer, intercity, easyjets, airtime, easymobile, easyjet, 8.7%, float, with-profit, numis, 16.2%, re-orders, 235.75, 8-9%, $259.8m, gorillaz, $230m, shanda, sinas, nyse, vickers, sina, $27.24, better-known, feasibility, ounces, reade, $413.50, disconcerted, 113.5m, 3,217, ounce, liquid-crystal, matshushita, old-style, unfashionable, ensued, philosopher, balmoral, reared, atrium, towering, toiling, self-interest, emanation, intellect-enhancing, ponder, measurably, birthplace, laissez-faire, gratitude, societal, enlightenment, insights, intellectuals, knighthood, 1776s, mozart, 1723, kirk, environs, ghosns, shigas, australasia, characterized, 684bn, $6.4bn, nominally, shiga, nissans, japan-based, toshiyuki, 331bn, shaped, vice-prime, veron-reville, moscow-backed, long-serving, rybachuk, soothe, yanukovych, sympathetic, eternal, non-nato, frayed, â£4.4bn, $8.5bn, 20-25%, absas, westfalen, molsiris, interest-payment, $39m, â£266m, $17.5bn, $1.8m, uk-listed, $16.2bn, buybacks, 8.5, 3.997, $3.65bn, reaping, â£8.7bn, progressively, $2.89bn, 548p, operationally, russian-owned, barrick, wrested, waller, kulakov, yuri, regretted, trutnev, tenders, russian-registered, $7.5bn, maximisation, claes, mid-morning, â£182.5m, vue, revenue-sharing, â£40m-â£50m, greyhound, blbs, blb, â£308m, 797p, rhode, wembleys, hultman, barr, $339m, 3.75p, 270.25p, fan-based, non-competition, deliverable, takeovers, -0.1%, pay-day, big-ticket, fattening, pounder, arches, vitality, revamping, pedometers, 8.3%, salads, catchphrase, all-woman, jelly-legged, 105,000, 36-page, slba, gooneratne, 13.6%, moratoriums, â£135m, alvarez, chides, bide, sidestepped, â£49m, desmoteplase, paion, 11-14, saliva, bats, clotting, morrow, tsusaka, shiro, tsuda, appoints, tetsuro, 58,000, long-living, lower-skilled, expectancies, ppis, â£116.4m, 83%, â£402.4m, uk-issued, clump, mutates, card-not-present, card-present, pins, pibs, â£42m, entitle, â£38, â£52, â£370m, 280, 2002/03, 1998/99, paternalistic, â£8.2bn, 49.7%, sudell, underlining, â£163,748, 262%, â£3.3, under-secretary, $50bn, unpayable, â£26.69bn, â£5.38bn, impede, write-off, debt-free, 305, anson, 76-year-old, yea, mclean, congenial, barn, renovated, petersen, introspective, uplights, dimmable, drainage, router/access, brighten, mariannes, outer, workspace, washing, slab, tub, water-and-weather-tight, rockwool, trusses, washers, docking, fittings, fluorescent, veneer, gripes, plasterboard, prettier, bracing, marianne, well-insulated, downlights, multi-function, solver, like-minded, outfitting, aurora, â£36.20, blinked, princesss, carnivals, unambiguous, five-cent, mismatch, â£32.26, mitigate, duopoly, p&o, interest-sensitive, ill-serve, rearranging, bode, dispassionate, indigent, 2018, capitol, aging, fixate, re-evaluation, toothless, persuasions, equip, harmless, unfamiliar, hands-on, detail-oriented, megane, clio, renaults, 40.7bn, logan, 1.7bn, schweitzer, 28,041, 436, 36,185, â£187,971, 11.8%, 469, completions, july-to-september, â£182,920, july-september, million-pound, beale, $4.5, pro-growth, â£1.38, 20-year, $2.57, $2.58, $2.18, sunset, stiffening, hk$327m, us$42m, hk$6.31bn, direct-sales, hewlett-packard, unprofitability, lenovos, mis-steps, wafer, $20.15, reverberations, freedom2surf, plus.net, strafford, ovum, higher-speed, panayis, ipstream, lavender, highly-regulated, â£1.57bn, activision, $2.95bn, ubisoft, tyres, 19.9%, tevfik, dizzyingly-high, evren, zeros, one-lira, valuations, aksoy, serdengecti, one-million, slimmed-down, tamed, embarks, sureyya, hayriye, denominations, $18bn, eclac, $445.1bn, iadb, â£227bn;331bn, $14bn, calculators, moines, one-quarter, bankruptcies, twitched, karya, unguessable, unforeseeable, trillion-dollar, rubbing, msci, delaware*, costliest, hard-hit, far-away, gresik, minuscule, adhi, semen, contagion, confifi, afield, notional, cac, analsyts, 16.29, 9,300, 39.10, tui, 3.817.69, 5.07, tanco, cheered, kinki, airasia, mediterranne, dax, wrought, goetti, unfolding, travel-related, floiran, woest, 20.54, 10,847.66, reisurance, mcivor, fsas, low-risk, split-capital, split-caps, 780, anothers, waive, rectitude, soundness, rigour, antagonistic, healthiest, wilder, non-payment, overlook, attribute, opaque, clearly-defined, complexities, $53m, salutary, trebled, siphoning, greased, alarmingly, looking-glass, report*, unrealistically, vendetta, undeclared, â£250, r85, non-taxpayer, 5.25%, instant-access, multiples, â£1,200, saffron, notification, comprise, payable, ladybird, firstsaver, 5.35%, invests, welle, denominated, bookrunners, â£690m, â£514m, harden, eia, khelil, calmed, crudes, $30-35, chakib, mid-september, $43.25, deplete, early-winter, $40.15, 4,751, over-production, ofex, soccerex, 1992/93, attendances, 60,000-seater, money-earning, matchday, saturation, pillars, brasilia, da_silva, tov, buonomo, 17.25%, 24,997, bovespa, tadeu, buoyancy, orthodox, paschoal, palocci, durability, steepest, persuasive, drift, $44.38, apec, unaltered, tokyos, $8.2, takers, diminished, $500bn, $800bn, $48.64, 2.11%, $393.9m, searchable, 227, lockup, closely-watched, $85, $172.55, $12.33, 19.6, $52m, 227,000, schleswig-holstein, jasperneite, spd, 572,900, zdf, warburg, rhine-westphalia, 5.037, million-2, rupees$1.2bn, 54bn, 865, naik, ntpc, suhas, energy-starved, oriental, banging, 9bn, plentiful, xenophobic, moghadam, over-egged, abdullatif, sener, $21bn, 33.5bn, assertions, deppler, uneducated, 16.5bn, reza, 134%, â£10.8bn, richness, 163,000, 3,400, 5,125, at&ts, 1875, 1,700, post-takeover, 12,800, undervaluing, hessen, alois, reckers, rhiel, amex, off-loading, marquis, aefa, kain, amassing, â£46,998, policyholder, axas, endowment, â£12,700, shutdown, $24,000, gorges, defies, kamiyama, pessimism, amidst, 11,488.76, 30-40%, aberdeen-based, baathist, hadi, exceptions, halliburton, hadis, second-most, kirkuk, uneasily, haves, blackwatchs, baghdad-based, pharmacies, baghdads, brookings, bechtels, blackwatch, geo-scientists, multinationals, fulfilling, laggards, osaka, morioka, centenarians, torao, toshitsunes, 140%, 101-year-old, sexagenarian, unfold, sutras, twenties, shigeo, shimizu, 114, genes, 127, chuckles, toshitsune, 130%, yuji, 2030, re-devise, outlive, childbirth, eaten, procreative, â£2.86bn, $5.37bn, 10-15%, ges, $43.7bn, roukis, immelt, 0.24%, 5,196, decelerate, 12-18, tobacco-free, corr, disgorge, 5.11%, preclude, columbias, disgorgement, transforms, sentelle, blixt, debt-laden, preconditions, distancing, vehemently, longden, ghriskey, $1.26, dow, 2,004, $50.88, disappointingly, $422bn, 10,137, business-friendly, tax-cutting, non-manufacturers, 10,227, quickening, dips, 7.7%, rags, mfa, pendleton, multi-fibre, rockwell, consenus, hard-pressed, liberalised, 790m, 550, 2,850, geijsen, eeghen, retrenchment, oyens, pricked, ineffectiveness, supervision, questionsmarks, incorrect, underwrite, government-backed, yuganskneftgas, irreparable, zack, tubes, implant, $25bn, unblocked, combats, expirations, overlapping, j&j, pacemakers, stent, guidant, defibrillators, antitrust, artery, stents, $76, libya, vowing, tripoli, unfrozen, unfreeze, farhat, libyan, gadaravice, lockerbie, erling, hoodia, dixey, kalahari, phytopharms, â£309m, refsum, bushmen, calorific, alencar, â£1.2bn, berta, varigs, $725m, varig, snowmobile, tellier, 2.20, montreal-based, plane-making, reshape, telliers, bombardiers, 75,000, 135, beaudoin, seating, $133m, $94, lulas, licensee, $20.40, production-sharing, 1115, tonne, n-c, refutes, â£10.50, catapulted, kenney, shouldered, over-ambitious, 247p, 747, lagardere, â£686m, destabilise, camus, hertrich, deplored, overrun, co-head, forgeard, $1.32bn, lci, anglo-swedish, astrazeneca, aztrazeneca, 1,692, exanta, mckillop, pill, crestor, spinners, jefferies, anti-coagulant, placebo, iressa, tarceva, genentech, â£135.6m, $261.9m, beaverton, $4.9bn, second-quarter, nikes, $179.1m, converse, $2.8bn, sneakers, typhoons, $37bn, $42bn, â£54bn, $105bn, 191, man-made, twenty-one, made-made, catastrophes, reclaim, 44p, $1.87, $0.85, petrels, suba-luhais, petrel, khurmala, everasia, iog, â£258.5m, ironhorse, 97p, himrin, eighties, rainsford, shadrin, expropriation, tver, impound, injunctions, $9.37bn, tass, kaha, freshwater, kiknavelidze, outbid, state-sponsored, state-backed, sberbank, collison, 246.75bn, retaliate, s&ns, bottles, 2.47bn, 4.66bn, $106m:â£54.6m, post-merger, redeemable, strongbow, froggatt, ale, kronenbourg, s&n, non-convertible, alcobev, spiegel, clearnet, seiferts, pence-a-share, der, heaving, enochs, mobbed, manchesters, bluewater, 8,500, footfall, walton, maximov, screwed, 583p, 533p, applicant, al-jibouri, assad, afghanistans, menezes, chalone, â£134m, $69.4m, smirnoff, â£9.28bn, â£8.89bn, $260m, winemaking, all-cash, diageos, 0%, cpi, 2000/01, â£6,500, indulge, â£2.98bn, â£4.29m, swathe, shipside, â£25bn, yuganksneftegas, surgutneftegas, remedies, recourses, 261bn, 25m, $34.1m, hindi-language, 260,000, dainik, jagran, indy, underwriting, admonished, raines, armando, $4.4bn, cannabis-based, tetrahydrocannabinol, pharmas, sativexs, 113.5p, gw, satifex, cannabidiol, spray, sativex, gw_pharma, arthritis, 8.5p, biotech, â£211.6bn, non-defence, unsold, stabilised, rics, anticipating, surveyor, lengthened, surveyors, baez, savers, mattresses, drayton, beneath, argentines, kirchners, implies, loath, hopeless, halting, hideous, boorman, aara, scathes, $60,000, refrain, bowers, disney-owned, impedes, thomsen, leased, reveta, objectivity, shamrock, â£30,800, secretarial, year-end, muddying, renationalising, kraus, yukoss, cowboy, sovlink, cloak-and-dagger, state-ownership, moscows, contrack, contracks, col, envisioned, $325m, arlington, schnaible, lt, pco, agreed-to, $18.4bn, permissive, 7e7, 300-seat, super-economical, pre-sale, a350, 7e7s, 200-, meritocracy, villalbas, merrills, 42-year-old, victimisation, â£7.5m, stephanie, unequal, $14.6m, villalba, merrill, â£55,000, hardies, asbestosis, terminally, chairwoman, asbestos, asbestos-related, hellicar, sufferer, â£568m, hardie, meredith, yilis, $50.4m, huiqin, mongolia, yili, 417m, huatai, mengniu, befall, junhuai, pricier, underserved, patel, praful, â£931m, maharajas, 110m, orimulsion, tons, quick-growing, importer, pfi, $281m, jubilee, piccadilly, jarvis, mid-january, lovell, refinancing, â£146m, ferrovial, amey, offloading, â£230m, recognized, $258bn, 1.47m, â£140bn, $177,600, chongqing, motorbikes, paws, plugs, 200bn, lifan, violators, 800%, $234,000, $560m, transports, â£291m, $1.3509, $1.3516, abnormal, euro/dollar, gaymard, $1.40, upturns, coordinated, $1.35, societe, shinawatra, displacement, wolfensohn, generale, $510m, people...there, siriwan, 9.0, juthamas, bermuda-based, maldive, gelb, nameless, incalculable, â£281m, newsome, 38,000, â£5.17bn, $640m, prudential, claimants, re, threefold, april-july, two-way, aberration, 6-6.5%, $186.3m, mid-year, $64.4m, â£97m, india-pakistan, hostilities, plastics, nonethless, april-september, paycuts, sickout, disarray, undelivered, airlines-, stranding, luggage, mountains, comairs, understaffed, flight-crew, seventh-largest, court-imposed, mineta, comair, $12.05bn, yungmin, 99.3%, kdb, mediate, ji-chang, ex-parent, issuer, liquidated, yoo, dongwon, $1.354, $1.364, 1800, mercantile, densely, nymex, $2.86, $41.32, $40-40.25, nanik, buy-back, rupani, feud-hit, $13, 570, dhirubhai, bombay-based, â£6.80, diarrhoea, country-by-country, $4.1m, crescent, reinsurer, thrived, epicentre, epidemics, milverton, southeast, polluted, 3m, stricken, waterborne, â£2.1m, faster-than-expected, palestinian-israeli, market-based, nazarbayev, abish-uly, inter-ethnic, belarus, â£425,000, kazakh, nursultan, foundation-kazakhstan, militancy, topple, uzbekistan, â£5.18bn, khordokovsky, contends, gazproms, protracted, analyzing, 5.5, escondida, 16-year, $14.2bn, codelco, cochilco, chiles, expansions, cartagena, patricio, malls, feel-good, lynn, jemma, gosport, groceries, 10.38am, â£268bn, â£269bn, tescos, infants, cromwell, euro-atlantic, burgas, macedonia, bosphorus, balkan, macedonian, vlore, straits, nano, mobil, 912km, balkans, fatos, eximbank, dardanelles, opic, ambo, us-registered, deodorant, cough, condom, meltus, condom-maker, analgesic, benckiser, syndol, reckitt, durex, surgical, â£173m, 293.5p, ssl, mister, hosiery, three-way, antiseptics, 16.75, seton, gpw, gloves, kimberly-clark, sauber, $100m-share, presuming, sweetening, a$6.35, bergman, gonsalves, ferrochrome, 7.4bn, pervan, value-creating, vanadium, a$7.17, michelmore, tommie, a$8.24, mim, swiss-based, coking, â£42.5m, 37.6%, â£28.5m, wearside, â£1.53m, disparate, â£1.5m, 42.3%, 4.76%, 31p, $2.8m, bskybs, â£20.6m, firmer, fer, congressmen, pbgcs, roundtable, â£23bn, logue, oklahoma, sharpe, pbgc, nobel, guaranty, laureate, premiums, omsk, non-voting, nikolaev, novocheboksarsk, ivanovo, $353.3m, hoegaarden, klin, saransk, near-total, leuven-based, â£183.75m, 259.7m, chernigov, staropramen, kharkov, alfa-eco, swallows, volzhsky, 97.3%, alfa-ecos, 98.8%, 52.7, trending, 67.4, 57.8, indexs, 57.6, 58.6, 58.1, 72.0, 74.0, 61.5, exchangeable, pre-colonial, 1,893, ariary, malagasy, ski-maker, surfwear, snowboards, 16.60, 17.70, k2, boix-vives, rossignol, quiksilver, skis, mackel, 102.55, hovered, $1.3652, $1.3667, hovers, sejong, chong-gyu, â£499m, $960m, laah, redemptions, $480m, $1.3636, 140.55, mazanec, $1.3666, 141.60, satyanarayana, vws, visakhapatnam, co-sign, $58, turkmen, saparmurat, yury, $14, niyazov, boyko, naftohaz, thay, hogged, 46%-owned, ipc, chadha, ill-equipped, chada, $39.20, $42.30, $42.12, $1.33, rebounded, employer-employee, cowardly, 46-year, daw, yamarone, fomc, $1.3270, $1.8832, argus, apprised, risk-taking, locality, $779m-798m, wolfson, â£420m, nexts, end-of-season, menswear, 12.4%, â£425m, 13.4%, firming, sagging, goodwin, lyles, lyle, ft-30, gent, $1.83, 6.6%, ivankoe, repurchase, 14.87%, krispy_kreme, franchisee, dunking, $10.48, $4.9m, $3.8m, doughnuts, karstadtquelle, 206,900, 4.483, non-seasonally, onstart, 4.64, unadjusted, flat-rate, rangel, squatters, classifying, vicente, vindicate, arnoldo, pro-chavez, communist-style, ranchers, misr, public-sector, mahmoud, banque, alexandria, caire, privatising, reform-minded, mohieldin, technocrat, â£7.74m, $14m, lockyer, californians, renews, $14.5m, mitroshin, wranglings, vadim, luxembourg-based, pence-per-share, lillian, navarednam, 8.51%, peng, malaysian, husk, metrojaya, co-chief, â£118m, laura_ashley, 10.75p, furnishing, mohd-saaid, 200p, ainum, khoo, $376m, half-year, shrivelled, â£530m, $94m, liquidating, â£264, deltas, $646m, first-class, saturday-night, non-refundable, 6,900, simplifares, icbc, 74.7bn, non-performing, icbcs, â£24bn, 19.1%, salterbaxter, non-financial, homilies, lexicon, pro-sustainability, verified, generalities, lee-harwood, greenpeace, csr, sunil, $320m, â£691m, side-effect, destitute, mendis, 793,000, clawing, sakhalin-1, siberian, douglas-westwood, entities, jakarta-based, monsanto, agrochemical, investigative, invoice, â£799,000, wray, waiving, high-ranking, genetically-modified, bribing, chemicals-and-crops, non-competitive, chubb, instructed, stearns, conveyed, pretences, robustness, sails, recoverys, berson, areen, machinations, litigations, shockwave, porter, $54m, elson, sidgmore, stiles, galesi, wareham, bobbitt, â£28.85m, kellett, clifford, aycock, hevesi, 6.87%, $10.44, financings, clerical, shave, $984m, houston-based, â£162,086, 6.2%, trendy, dearth, 9.3%, middle-income, bebe, faring, $23.2bn, 3-5%, nordstrom, zale, perkins, $220bn, costco, 8.8%, claires, larger-than-forecast, pier, upscale, eagle, 32.2%, retailmetrics, outfitters, neilsen/net, desertion, atr, bagnato, atrs, â£9.49m, deccans, $17.6m, avions, 72-500, 449,603, naamsa, $3.3bn, decisiveness, $44bn, chartereds, kfb, koram, overpaid, paid...the, 51.4%, 925p, newbridge, standard_chartered, accretive, asia-wide, 1.06, eckhard, cordes, dealerships, 136,000, 3.9, defrayed, 20-30bn, $3.2bn, jse, banda, 1,011.15, $2.2bn, fallers, flattened, $14.3bn, modestly, hard-line, hardliners, decision-maker, expediency, $14.1bn, 1,546, rials, $175.6bn, majlis, 1,070, â£93.6bn, khatamis, buckling, breakers, ecs, abeyance, epp, lerach, boardrooms, $155m, â£378.8m, fastow, $145m, enrons, â£89m, $168m, plaintiff, retrieved, 2001alleging, stabilises, 26.2%, â£116,542, â£180,444, â£139,544, â£262,825, â£192,713, 21.7%, flats, â£180,226, â£111,314, â£96bn, 605, $6.2bn, 76,200, $28.4bn, â£3.8bn, privately-held, haute-couture, boynton, inquire, intervening, veer, boyntons, â£82.7m, jeroen, â£522,000, over-stated, vijver, â£21bn, yadavaran, nioc, lpg, jufeyr, $40bn, mid-december, $17.65, sydney-, $5.4bn, domicile, $31.22, shultz, binyamin, klein, netanyahu, massachussetts, then-us, hebrew, mandelsons, airliners, eu-us, triple-decker, a300s, a380s, freight-carrying, restatements, 2001-2002, $732m, 1.46%, restatement, $8.6m, $434m, nortels, illarionov, privatized, kommersant, gref, qualitatively, nationalise, hustlers, swindle, iliaronovs, â£165bn, $150bn, $124bn, 2.572, rebates, 420bn, xuren, $43.4bn, $63.8bn, 8.30, xie, $311bn, $593.4bn, labour-intensive, 35.4%, us-china, jubilant, indian-administered, anti-musharraf, lakhani, 6709.93, defusing, bhuttos, baglihar, military-backed, yaseen, mma, kses, benazir, kse, 8%-10%, asif, countrywide, abuzz, zardari, 225.79, $500.5bn, wyss, ballooned, crescenzi, tabak, $55.5bn, â£29bn, normal-engined, deceleration, burnish, hybridise, cayenne, clean-burning, mariner, four-wheel-drive, hybrids, $3,000, highlander, pickup, jd, citroen, psa, trouble-hit, under-used, jeddah, 1,088, evalution, 645,000, thadao, hinged, abd, asses, ifzal, 23,500, chino, normalcy, â£379m, adb, $717m, a$846m, a$4.25, startled, oatleys, brl, perpetual, mondavi, trustees, 4.17, scratching, lensworth, a$3.1bn, reline, back-flip, $2.4bn, dirk, trichet, cigarette-making, stma, manly, 210bn, xing, salesmen, wangli, stmc, xings, add...since, schilbe, nineteenth, trinkaus, burkhardt, sputter, $19.7bn, $155.8bn, 1650, $19.6bn, $54bn, tacitly, $1.3280, $1,8923, $95.6bn, â£31.7bn, prognosis, dales, narrows, â£24.8bn, â£36.3bn, â£16.9bn, â£1.9bn, â£27.9bn, trade-in-services, tw, lesothos, vogue, macaefa, mafeca, duty-free, bangaldesh, maloti, garments, unceremoniously, agoa, 6,650, calorie-heavy, sugary, low-fat, cookies, kool-aid, friedmann, pepsico, lance, reformulating, nutritionally, oreo, krafts, exile, self-imposed, nevzlin, 59.5%, aviation-related, aer_lingus, seamus, kearney, buy-out, re-positioning, enlargement, mid-sized, uneven, $155.2bn, zoellick, uniformity, gooch, harmed, â£82.8bn, filings, tires, tyson, bailin, seafood, consolidated, improperly, redgate, damuro, ahold, rymer, â£428m, nettle, hannigan, foodservice, kelley, bowman, unfiltered, bevington, averts, $5.15, rosemead, taurel, lillys, â£3.90, breier, â£265.9bn, maury, showrooms, 367,000, $4.06, non-store, $349.4bn, a$4.76, a$2.6bn, ohoy, a$5.44, unrivalled, 3.1bn, a$4.17-a-share, a$584m, 39m, cantalupo, prayers, mccafe, throat, abbreviated, colorectal, straight-talking, lovin, hose, go-getter, 77.6%, inflation-fighting, leahy, wieting, congruent, lean, littman, comerica, cary, 178,000, utilisation, whittle, contemplated, empire-building, bourses, overpaying, 45.25, db, 648m, mijatov, sourcing, 370, $492m, willmean, 870, rouble, back-taxes, 2001-2003, $35.7m, â£19.1m, atomstroieksport, align, competences, ecofin, pacts, $4.8bn, calisto, fausto, tonna, tanzis, indictments, tanzi, book-keeping, deloittes, bootle, constrained, triggering, mourning, oracle, placate, ogden, oracles, peoplesofts, drawn-out, easygoing, notifying, $10.3bn, aggarwal, funereal, peoplesoft, candles, jacking, unclogging, circling, clogged, reorganising, 250%, hourly, impassable, fume, yan, parking, outriders, beijingers, $48, choking, â£26, motorcades, bays, waggoner, $4.0-$5.0, $6.0-$6.5, gmac, attaining, leasing, firmed, whitman, $92.9, $1.52, meg, $648.4m, $4.37bn, $4.35bn, $778.2m, $3.27bn, pyykkonen, $205.4m, $935.8m, $1.48, $4.2bn, $1.62, $142m, janco, tyco, kozlowski, looting, cut-throat, amrs, amr, $14.35, $761m, $387m, arpey, â£206m, $111m, pre-market, $3.8bn, $345m, $193bn, $838m, $569m, $51.2bn, $3.7bn, $48.8bn, â£481.5m, â£275m, 330m, barot, alitalia, alitalias, romes, iberia, az, $495m, 6-7%, owing, babacan, $3.7m, swelled, â£5.19bn, $18.6bn, alwaleed, renovating, claridges, fairmont, alwaleeds, connaught, strand, irish-based, negotiator, pre-tsunami, mahinda, hambantota, solheim, decades-long, kumaratunga, clergy, rajapakse, xiluodi, uk-published, mekong, vice-director, stoppages, crackdowns, damming, 4,200, salween, yue, scenic, nu, outs, fujian, lavoro, nazionale, paschi, depository, nigerian-owned, banca, 32.8%, siena, jetstar, godfrey, fend, sydney-listed, fourtou, $1.3m, cegetel, â£690,000, vivendis, jean-bernard, jean-marie, amf, jean-rene, messier, 15-month, nccis, 205, functioning, publicly-listed, riyals, 372, ncci, 1865, descendants, intertwined, louisiana, dimon, 1,250, ingrained, 1831, 1800s, slavery, plantation, thaw, israeli-egyptian, mubarak, hosni, $153m, montego, delivering...more, $7.2bn, zephyr, freestyle, breakthroughs, 62,000, $104m, lr3/discovery, visteon, v50, $470m, â£1.87bn, 6,798,000, fords, full-hybrid, $45.9bn, 1,751,000, $44.7bn, $697m, $170.8bn, s40, receivable, $793m, mustang, 4.3bn, vivek, $98m, wipro, azim, 20.9bn, premji, shah, 2.7bn, ask-raymond, 4.1bn, apurva, non-seasonally-adjusted, november-december, non-specialist, morrisons, averages, 2,200, prevalence, demography, 10-19%, low-prevalence, non-discrimination, 130,000-strong, 104, proactively, unaids, mickey, 12.4, al-walid, arabian, 253m, $328m, eurodisney, â£175m, stump, â£775, pester, individuality, acc, 138p, leicestershire-based, ready-mixed, aggregates, â£429m, quarries, asphalt, escorts, pre-cast, 18.2, underpriced, ambuja, 142, markfield, holcim, â£9.1bn, ipcl, reaffirmed, 745bn, bhai, confidant, dhiru, anand, barosso, knotty, yassir, conciliatory, desktops, pre-empted, 20c, peres, $750m, shimon, ritzier, cbo, $855bn, $2-$3.8, iraq-related, $348bn, envisages, $368bn, â£197bn, bafin, â£7.6bn, anti-money, filho, 895.4, $332, janeir, 10.9%, recife, lopes, hegedus, 10.6%, ibge, â£179.3, horizonte, belo, previously-pledged, $48bn, bisnis, mahendra, $3.4bn, prefering, alwi, siregar, bakries, shihab, italaudit, consob, touche, kull, willey, globescan, plurality, untrammelled, 22,953, pipa, tacit, 102.975, 0730, 1.3040, contended, colludes, foreknowledge, extortion, sobbed, picker, roslynn, royer, extort, egyptian-born, crusader, mauskopf, marshals, crime-fighting, elgindys, elgindy, xuebing, $190bn, jiabao, wen, worthiness, harbin, china-published, frontrunners, â£64m, loans-for-favours, cao, â£117m, late-november, $30m, jiulin, caos, $550m, debacle, $648m, $220m, changi, eurotunnel, eurostar, containers, randall, jean-louis, $1.03bn, 789m, â£548m, cross-channel, vehicle-carrying, 200-plus, lounge, passenger-only, aguas, impoverish, clarin, â£72.3m, 25.01%, aguas_argentinas, 39.9%, suezs, water-concession, 242m, futurology, renegotiate, water-supply, vido, bouira, sidi, algiers, tiaret, watan, maghnia, dinars, canister, butane, $2.77, ammar, algerias, 17.8%, 2.39bn, â£29.32m, luring, maruti, 1.41bn, 136.069, mahindra, 30.1bn, 874.2m, tractor, $54.98m, 440,000, converge, life-extending, five-day, anti-davos, 13-month, 6.962, 20.1%, 12.011, 19.2%, $214.6bn;â£114.5bn, 17.9%, stronger-than-expected, 20.5%, 18.6%, 22,201bn, 1.14, 20,479.5bn, banco, orchestrate, reconvened, santanders, amusategui, hispano, $208m, â£111m, botins, botin, 160m, corcostegui, quarrying, rubinsohn, nine-strong, outturn, 1.0%, classify, co-founded, healthsouths, vouch, healthsouth, overstated, oxley, scrushy, clinics, sarbanes, over-regulation, two-pronged, ifrs, low-wage, 1,300, pwcs, dipiazza, exchange-listed, hedged, haute, couture, ready-to-wear, wonky, sculptor, unwrapped, wentworth, adornments, jammed, plates, mundane, dimmed, decorating, foyer, spruce, photography, keitel, duckling, andersens, fairy-tale, mermaid, frederik, parken, pele, christensen, bicentennial, odense, fairytale, recognizes, jarre, authorship, booker-shortlisted, finnigans, paperbacks, mitchells, sebolds, spoiled, oconnors, 350%, madeley, nannys, hitches, under-threes, rigg, festens, whatsonstage.com, shakespearean, rscs, theatregoers, barnett, 5/4, anglias, pam, reilly, eldridge, macneil, aulis, hildegard, luc, festen, mcdonagh, bursary, buds, bechtler, iphigenia, arditti, shulman, ferris, pillowman, calico, albee, wishaw, sweeney, romola, bondy, garai, wintour, tacitus, rebuttals, fantasise, virgil, christianity, gospels, manuscripts, cicero, crucified, magdalene, clergyman, theories, ugandas, unnatural, expunge, anatomical, glorified, ensler, monologues, kefa, ugandan, ssempgani, ngos, mukasa, lesbianism, slang, vagina, kampala, coxon, rcas, chalayan, loach, testino, hirst, bradburn, dup, schindlers, belisha, paisley, omalley, belfasts, beacon, lyric, embankment, ridgeway, phantom, ocasey, dilapidated, soho, glens, antrim, orator, stranmillis, sermons, yeats, preacher, ballymena-born, bible-thumping, suzie, hollinghursts, mysticism, erotica, waterstones, doore, 6/4, king-smith, fergus, eight-year-olds, illustrations, 4children, riddell, smarties, eights, riddells, six-, under-five, grindleys, eccleshare, cultured, varieties, five-strong, stewarts, kunzru, mutant, zadie, abnormality, armistead, memoir, inquisitiveness, armand, sayle, lerois, elegance, mutants, leroi, provoking, snow-logged, memorably, authorial, daydreaming, painstaking, â£318, nassau, $600, harassed, haileys, bedfordshire, professions, visualised, aiport, zero-eight, rusty, spoofed, seberg, mid-thirties, brolin, bestsellers, providence, womanising, self-critical, panoply, moneychangers, hailey, page-turners, bisset, oe, eloy, roth, kadare, 18-strong, tabucchi, commends, mahfouz, coetzee, kenzaburo, ishiguro, ismail, lem, lessing, muriel, yehoshua, stanislaw, mcewan, rushdie, gunter, kundera, bellow, kazuo, ozick, updike, naguib, salman, versace, lichtensteins, townhouse, tobias, $10.3m, cunanan, six-storey, juxtaposed, warhol, versaces, sothebys, $3.4m, masterpieces, lichtenstein, impressionist, â£5.5m, clemente, 2001fetched, basquiat, heathers, domineering, ethel, slater, menagerie, lange, wingfield, leveaux, wrangle, omai, exhibited, noble, caricatures, â£12.5m, polynesia, â£10.3m, 1774, 1776, fetched, re-formed, lightness, ballerinas, diaghilev, governess, alicia, 1935-37, stravinsky, ballerina, diphtheria, ballets, ashton, tow, markovas, 1910, lilian, markova-dolin, markova, diaghilevs, prima, russes, sylphides, dolin, uncles, nureyev, darcey, hobbies, perfecting, antoinette, dainty, rad, trew, carving, sibley, bussell, re-ignite, kickboxing, nurture, fonteyn, snobbery, tucks, 1920s, contagious, boyles, paraguay, blumes, paraguayan, honourary, godless, wildfire, napkin, 9-11, fictionalised, hautman, narratives, francisco, roths, onan, arc, â£5,390, 1965-2003, pre-order, potters, wizardry, amazon.co.uk, half-blood, manuscript, 420,000, rowlings, voldemort, witchcraft, bookshops, terrell, greco, alva, tolstoy, pre-11, pedestrianisation, rubens, pinks, raphaels, caravaggio, urbino, alton, tussauds, saumarez, cavanagh, ontario, excerpt, northwest, 1,466, synopsis, enlists, burnett, tambien, erotic, cuarons, robinov, oday, musings, rasheed, hand-held, pax, strangers, saddams, laud, cfca, southeastern, deplorable, daffodils, 13.7, dens, one-hour, stupidity, 14.2, glasses, disdain, xdance, merrier, sundances, story-telling, corduroy, downtown, star-struck, so-and, viewpoints, egalitarian, unpatriotic, slamdance, twenty-first, ski, monolithic, redfords, oldman, calamity, winsome, marvelling, scabbers, crookshanks, conjuring, featurette, myriad, corny, laundrette, leighs, deakins, cattrall, stauntons, pawlikowskis, firth, pegg, ladykillers, co-chairmen, fellner, vie, 267, miyagishima, takuo, pies, embodied, elegant, wintry, zemeckis, claus, eight-year-old, castaway, three-metre, mince, gollum, â£162m, colonisation, perpetuated, cannibalism, carib, cannibals, dominicans, dominicas, up...we, 1600s, caribs, $305m, conquerors, dominica, practised, anjelica, robbing, schmidt, â£3,650, $7,000, selma, salles, christs, commercialisation, pierson, â£322m, screenings, berlins, cinematographically, hazlewood, forceful, reticent, chihwaseon, dornford-mays, stylised, kwon-taek, purlie, hasna, paramedics, hernandez, besides, 65-year, nora, poitier, jnr, daze, fiancailles, dimanche, 3.55m, 885,000, 3.35m, figaros, â£2.31m, depardieu, best-paid, â£2.45m, reno, uncredited, â£3.77m, â£611,000, figaro, peck, applauds, raoul, kigali, rusesabaginas, rusesabagina, 55th, cheadles, self-censor, 13-strong, anchor, newscasters, brokaw, kowalski, annals, malloy, hypnotic, afi, affiliates, milestones, freefall, firework, disobeys, dudas, detonated, antoine, pancake, squibs, fuqua, morehouse, gatekeepers, educates, atlanta, stepchild, $46.8m, $19.5m, â£48.3m, $73.4m, $75m, â£14.9m, graces, $7m, â£38.9m, bruer, â£24.8m, kashyap, majeed, memon, kashyaps, mihir, anurag, zaidi, hussain, knightly, guinevere, titchmarsh, post-production, winstone, one-disc, schama, lotterys, present-day, peeled, thrill-a-minute, warmed, bertoluccis, sported, marchak, drawn-on, corleone, budd, gangster-style, moustache, caan, pencil, tango, glorify, duvall, schulberg, self-image, dutch-moroccan, fortuyn, slain, booy, fortuyns, burgle, pim, islamist, themed, bulletins, uninterrupted, constraints, laing, carrey, $30.2m, handler, â£15.5m, entertained, connelly, displacing, spanglish, olaf, whisked, snicket, nairs, intuitively, luminosity, masala, reese, climber, underfed, prophesy, carriage, song-and-dance, mesmerised, witherspoon, becky_sharp, irresistibility, non-actors, mira, nair, indian-style, fleshiness, salaam, red-headed, carts, self-fulfilling, bosom, minx-like, visceral, makepeace, thackeray, thackerays, witherspoons, minx, intuition, next-best, clear-sightedness, lequipier, singer/actor, emmanuelle, amalric, karin, torreton, auteuil, moreau, viard, quai, terzian, backer, desplechins, kechiches, academie, orfevres, devos, poelvoorde, dutronc, yolande, mink, erected, cates, seven-second, high-visibility, disapproved, bleeps, counterterrorism, eyelashes, receded, sarin, vicissitudes, twice-nominated, canopy, humorously, charms, $14.3m, osella, $110, $9.4, $6.25, billion-plus, $1.25, $5.80, impoverished, wistful, kechiche, travails, pleasures, dramatist, introduces, alienated, tunisian-born, suburb, marivaux, 18th-century, cesars, forestier, schoolteacher, floella, dom, mccourt, joko, bungalow, featherboy, turban, playschool, debbie, balamory, isitt, american-themed, pre-school, toto, collingwood, jakamoko, brenda, bosworth, sings, blethyn, hoskins, darin, darins, spacey, croooner, $21.6m, jolies, $33.1m, gore, blood-and-sinew, hectoring, â£17.m, jfk, historys, â£12.7m, accent, $24.1m, grandiosity, unwieldy, bisexual, bravado, scorn, â£11.4m, swords, bisexuality, vidal, hamstrung, buttnumbathon, mata, barrier-breaking, bleached, sandals, $13.5, bonham-carter, birthistle, hickox, pavlikowsky, earring, minghella, bifa, $12.7m, 1,796, $9.4m, â£86.1m, danner, â£63.3m, $121.9m, â£6.6m, â£23.2m, $44.7m, $165.8m, erin, waynes, po-faced, ock, molina, leans, tongue-in-cheek, blooper, wilmas, dunst, gaudy, hellraisers, tobey, torment, heart-wrenching, scrubbed, â£306,814, non-essential, discreet, 349, jacoba, uncut, 3,300, mudslides, 5,808, pavlik, mid-to-late, paltrow, furlong, rained, $110.2m, $4.7m, bruckheimer, â£8.8m, male-orientated, â£2.4m, â£56.7m, savaged, â£77m, $17.1m, cages, sixth-place, luncheon, pande, vinod, picturesque, portraying, hoardings, dolphy, ordained, zubair, communitys, dias, dsouza, sins, mumbais, kerala, animator, moving_castle, witchs, miyazaki, oherlihy, bunuels, 1987s, crusoe, macduff, welles, omni, packard, orson, condemning, interrogations, 40-strong, anti-nazi, beheaded, scholls, transcripts, rothemund, township, gestapo, yimou, mirroring, carradine, proclaim, masahiro, matsuoka, 2,271st, prehistoric, kitamura, atomic_bomb, ryuhei, tomiyama, filmmakers, lizard, shogo, fascinate, godzillas, pullman, anti-religious, curtails, lyra, iconoclastic, anti-religiosity, guises, belacqua, weitz, bridgetothestars.net, unviable, god-like, pullmans, blasphemy, overthrow, spyglass, modification, dramas, marcia, nip/tuck, deadwood, cecil, jagger, sopranos, teri, musical/comedy, felicity, mcshane, bateman, huffman, globes, demille, comedies, hatcher, inwhich, anti-bush, snubbed, pasadena, protagonist, semiotics, bankable, cryptography, whodunit, medieval, molester, teena, satyajit, aaltra, pixar, kassell, paedophile, handicapped, caouette, fipresci, brandon, transsexual, tarnation, â£23.7m, $11.2m, $8.5m, $10.7m, $14.7m, $163m, â£5.6m, â£6.2m, $12.8m, â£65.8m, â£90m, $12.2m, â£6.7m, $125.4m, $42.8m, bratt, 20-30, carruth, ellie, budding, forty-two, hurosawa, mogwai, â£1.25m, fanclub, 44th, 40th, under-produced, notables, zutons, revelatory, razorlights, streetwise, enemys, radiohead, jupitus, vocalist, molestation, courthouse, stand-by, â£1.33m, â£21,000, $40,000, molesting, stilwell, plying, sensationalist, juror, mother-of-nine, divo, dismantle, 5s, maroon, minogues, parole, protegees, suge, barstow, shakurs, assaulting, marijuana, claptons, lenfance, giscard, accompaniment, valery, bastille, destaing, 2,700-strong, aznavour, anne-aymone, fondation, sonybmgs, out-selling, 1000th, brocksteins, $74,500, â£38,660, herald-mail, wind-up, 13-year-old, trevin, censored, hagerstown, brownsville, skeens, evanescence, 0700, discharged, strenuously, broadus, wander, drugged, spiked, deceitful, kimmel, rape, gin, snoop, simons, ragovoy, germano, whitney, mastered, springsteens, beanie, dirt, ll, dmx, run-dmc, def, sigel, accoustic, ruptured, stub, aneurysm, flu-like, crediting, congestive, self-penned, unrequited, merle, wolverton, jamaican-style, marleys, truncated, manifest, marley, correspond, exodus, goth, rollers, scottish-based, lowly, eurythmics, prodigys, valium, horizons, fallow, 360,000, landlocked, pap, revellers, consciously, scrub, fatboy, maracana, accumulates, subconsciously, slims, outgunned, me-and-zoe-gate, masochistic, peppe, weathers, jolly, superclubs, palookaville, rattling, pacing, withdraws, corporal, fintians, mcfaddens, fictitious, collaborator, fogarty, implied, mamas, kokomo, cooder, mid-1960s, ry, melcher, chords, papas, gram, belfast-born, glasgow-based, thrills, futureheads, christies, maries, hotly-tipped, divos, akon, doves, alouds, crooner, operatic, highest-charting, akons, home-town, peppers, disco-rock, lapping, chili, gibb, boyzone, aimlessly, enormity, barbados, sing-along, olivia, suddenness, newton-john, moulds, debussy, chopin, fraternities, megastars, bands/artists, sustenance, gorbachev, macmillan, privately-funded, napalm, self-sufficient, allotting, louder, wagner, angst, twiddling, idol-type, 300-strong, state-funded, nea, displace, dog-breeding, 1xtras, stakonia, platinum, crowns, spans, bois, southernplayalisticadillacmuzik, exponents, bakersfield, untouchables, korns, awakening, happiness, darnell, autograph, kenard, vibe, sickening, scuffle, seated, 1,000-strong, stabbing, moped, whams, sleigh, slades, mistletoe, touts, purchasers, 112,000, 153,000, ticket-holder, 24-26, latifah, degeneres, milian, 59.50, mcd, croke, ticketmaster, 30ft, daisy, chalfont, 24-carat, stalkers, couldve, disturbed, wifes, trouble-free, colon, necklace, quad, sapphire, courageously, accomplice, hindsight, sapphires, bedside, burglary, arses, well-built, light-coloured, handmade, muller, 505, break-in, lamented, 0845, 555, impulse, slept, ski-mask, xfm, unheard, gobsmacked, martikas, velvet, dickie, skynyrd, salsa/merengue, betts, $0.99, â£0.53, j-lo, raitt, salsa, lopezs, rican, mavis, lynyrd, newtons, flautist, punk-rappers, horowitz, yauch, mic, flutist, lower-court, half-step, bmr, lucie, pike, bmrs, feargal, 14-year-olds, singer-songwriters, silvas, yoxall, sharkey, lana, rigueur, lindblom, clarksons, spectors, roderick, cutler, civilly, maroon5, seacrest, hoobastank, grobans, josh, gestures, docked, shady, lantern, tirade, trice, mosh, crotch, obie, $2,115, â£27,000, â£16,000, $110,000, butterfields, divulge, â£59,000, â£1,140, $110,00, â£600,000, pharrell, bennington, open-air, valle, bicycles, skateboards, linkin, colosseum, d12, tor, xzibit, anastasia, 0200, winkler, altercation, jostled, smells, wrangles, nevermind, grohl, biographer, novoselic, unplugged, krist, r&b-soul, ciaras, dylan, re-issued, $144m, sugababes, 79p, 72,000, â£3.99, brushes, greed, wikid, fledging, gutted, reel-to-reel, â£29,000, jj, monk, guernseys, gown, trombone, sablan, handwritten, ella, saxophone, theolonius, bruni, coltrane, vibraphone, beloned, fitzgerald, hampton, â£267,000, brooker, self-facilitating, character-driven, co-write, paedophilia, node, webmaster, guerrilla, satire, brass, send-up, hates, us$100,000, schenck, impostor, independently-produced, trivialises, â£52,000, â£52,590, 182, wraz-tv, $100,000, vetted, pre-taped, wraz-tvs, a-listers, deconstruct, six-part, stiller, flanimals, zeitgeist, bitches, peddlers, jeannie, kedas, ptc, smut, sleaze, breast-baring, 3,056, bozell, 171, raunch, 2,881, residue, bonny, dowell, criminalist, baretta, bakley, emmy, emmer, goings-on, coupling, politcians, â£293,264, â£1.6, legisation, superbowl, â£17,320, â£266,582, revoke, brownbeck, $3, profanities, adjourned, $32,500, nana, pitting, iglesias, lulu, eurovision, ruslana, celine, mouskouri, dion, dossiers, stalked, csi:ny, mistaken, emails, recommissioned, recommissioning, satchell, rosencrantz, rowetta, 542,000, cbs-owned, most-watched, rocking, nipple-baring, vicki, thirteen, courteney, phoebe, aniston, arquette, joeys, six-year-run, jed, misel, anniversaries, flatt, bluegrass, earl, texan-born, scruggs, scoggins, clampett, hillbillies, daugher, banjo, grogin, 12-episode, bransons, materialistic, plank, 91st, apprentice, sylvesters, ex-wife, 1/3, escaping, loopy, clubbing, stallones, argumentative, sipped, custom-made, upholstered, trickle, dylans, â£350, toothbrushes, ostentation, deckchair, hellewell, detakats, vintage, camden, â£1,950, stalls, clutter, smoked, scarf, gregarious, stripy, peculiarly, sofas, aladdins, â£4,250, raquel, toothbrush, wandered, bartering, curiosity, open-fronted, perched, deterring, unshowbusiness-like, wedgburg, burgess, eccentricity, blige, leno, thurman, superstars, co-present, uma, commercial-free, 5,300, ditched, 2.9, bakula, upns, full-page, coupon, voyager, quantum, $23,000, nx-01, upn, kash, relaunched, andi, roly, totp2, bestow, portman, outens, nortons, ex-big, kenzies, nineteen-year-old, 1/2, 1/5, hide-and-seek, housemate, 4/6, gascoigne, torvill, rink, skating, stipulated, smillie, jayne, skates, liberty-x, skater, sharapovas, kaplinskys, pinsents, unwell, jennie, natasha, buerks, 1947s, gardening, whimsical, secombe, revue, tele-ho, esther, consummate, emperor, nickleby, fletchers, astell, misprints, cyril, gardens, whittington, droll, sorely, odes, old-time, reciting, pantos, pointon, rantzen, guernsey, life-size, cohens, borat, flashmob, varirty, dancefloor, vies, hells, 3-8, supernanny, lucerne, agatha, threes, warmonger, dysfunctions, forensics, toxicology, spin-offs, near-infallibility, pathologist, jittery, forensic_science, attorneys, backlogged, mcfeeley, 200,000-300,000, juggernaut, instantaneously, houck, sizable, â£525,000, telethon, cantonese, re-recorded, ledgendary, onemusic, listens, totallyradio.com, lamacq, kember, heir, commited, knowledgeable, keaveneys, runcorn, neaptide, brooksides, fridges, 1989s, nellie, keaveney, &#163;1.8m, $1.7m, jock, halftime, viacom-owned, infinity, â£907,000, cancels, â£293,000, anderton, appletons, appleton,31, two/sky, barratt, misfit, mcavoy, stoppard, one/channel, boosh, buffalo, geordie, scrutinise, subscription-free, westbrook, 9p, greers, 50p, suitcase, 20-1, ex-e17, sharma, slashing, sunita, nielsens, cola, danniella, pistol, publicity-seeking, lydon, 40-1, non-celebrity, castor, sitcoms, detectives, dolores, troiani, rdfs, champ, $18, â£9.25, moms, rdf, wholescale, â£27.2m, $85m, 25-minute, new-type, 11.9m, mcpartlin, 15.3m, 10.9m, pascuale, cricketer, 10.9, 12.3, 49.2%, tufnell, beanstalk, 62.2%, bon, vh1s, krim, astronaut, throw-up, light-headed, â£1.3m, spiders, doorway, rat-eating, hand-written, four-page, ofcoms, unbalanced, insidious, hollyoaks, school-based, cbe, mersey, redmond, 1.8, tamsin, greig, coogans, risers, joaquim, angolas, reunified, detaching, gripped, wambo, sahundi, icrc, 200-page, aries, lapete, gera, buenos, pro-democracy, gazetta, luandas, tabloid-size, erupt, pompei, docu-drama, wiedersehen, fingersmith, stevenson, headmaster, frys, cannings, belsen, two-part, mongolian, genghis, epipsodes, sants, merges, conman, burchills, erupts, schooldays, nettles, eruption, volcano, midsomer, archangel, supervolcano, marple, barron, bex, yellowstone, volcanic, hollinghurst, highbrow, poliakoffs, mind-numbingly, x-files, operas, beachgoer, makeover, howlers, crest, 12-year, hasselhoff, baywatch, knots, â£950,000, 25-54, sirius, infomercial, cidatel, rantings, restriction-free, citadel, pennsylvania, syndicated, $1.75m, bandstand, holly, 1956-87, bloopers, frankin, 75-year-old, shefrin, roms, interactives, news_website, endemol, aroused, 1/14, adjudicator, 2/9, â£2.7m, respiratory, emphysema, carsoni, folllowing, bookies, huggy, tether, troublemaker, rations, dismally, 3/1, fargas, sorrells, putrid, ballykissangel, crockett, guest-starred, fastest-rising, off-beat, 7/4, 1/4, 0300, underestimated, 2/1, daughter-in-law, stallone, anti-mccririck, compound, poor-rating, berman, 6.3, 5.9, gail, drifted, unscripted, bierce, nesbit, fireside, poe, tarrant, edgar, co-executive, manchester-based, corbijn, curtiss, sucessor, dutch-born, depeche, headlining, alison, cessna, penski, post-mortem, blackground, 320kg, aaliyahs, twin-engined, aaliyah, mid-week, timeslot, parfitt, pajama, raquin, bissell, romance, emile, zolas, thou, adler, ackerman, supervisor, charisma, pyjama, therese, shalt, connick, castaldo, symphony, gennaro, rayne, filthy/gorgeous, regains, erasure, royalty, uniting, disused, posteriors, abatement, tet, post-rock, stacks, arresting, reading/leeds, damndest, sebadoh, smog, raiding, muso, humming, domino, wheres, contravening, rename, roni, anti-gun, jama, charlene, 10,500, letisha, glamorised, asha, beth, barrow, parted, hindered, clutterbuck, rennie, chiefly, 4pm, 13-date, post-busted, riotous, amicable, fan-base, pop-punk, long-rumoured, busteds, warwicks, fightstars, coinciding, crabbe, eccleshall, outselling, 10/1, wyman, 1,001st, galvanize, eliza, ndour, cigala, bebo, negrasmusic, senegalese, lagrimas, sulimanovic, carthy, flamenco, youssou, tinariwen, valdes, chango, malian, zephaniah, nomadic, spasiuk, kombou, totp, cote, french-canadian, dazur, clad, voisine, roch, schoolgirl, francophone, nrj, jenifer, elephunk, figurehead, singer/guitarist, self-harm, fuerteventura, self-financed, dredd, disorders, manic, severn, articulated, flicker, stadium-conquering, lipstick, name-checked, sherry, yself, richey, plath, b-side, skeleton, compilation, goa, homelessness, ten-year, despondent, raw_t, proliferated, f4, hacienda, detested, patois, weh, indecent, swore, five-date, profanity, fi, anti-gay, taskforce, dem, jive, cutting-edge, illinois, 82-date, onyx, $9.3m, reimbursed, aborted, outrage!s, yearwood, capleton, violently, tok, j-flag, picketing, vp, homophobic, jammins, vybz, buju, gay-bashing, kartel, absolution, hysteria, teignmouth, wolstenholme, seventeen-year-old, crue, â£5.4, mantooth, ex-girlfriend, motley, tendons, degenerative, rheumatic, catergory, siblings, appelas, artisic, middle-of-the-road, duetted, pre-teens, moguls, mcalmont, siouxsie, angels...i, nope, ridiculuous, buzzcocks, kidding, bites, wuthering, afro, division.those, meanings, bohemian, matronic, facsimile, robs, redifining, rhapsody, discos, overrated, oversentimental, speechless, claptrap, hisss, half-baked, embarassment, slushy, coffin, discisions, orrible, cunning, presneted, snobby, all-rounder, serene, picnic, mediocrity, boringly, years....its, disputing, lackluster, pleeease, ditty, booo, sioux, bargaining, folks, goodlooks, 25year, bane, lp, suede, lyrically, slow-dance, sops, baffling, brainwashed, aspirational, drake, soppy, kinky, pavlovian, mediocre, non-fans, years.perhaps, sisterhood, frontwoman, best...we, second-rate, biassed, 125,000, down-to-earth, nspcc, jamelias, motherhood, teja, birmingham-born, rah, digga, fickle, sensibility, sideburns, guerilla, kasabians, lsf, farmhouse, serpents, blends, karloff, rutland, arse, meighan, badlands, pizzorno, cutt, rocknroll, songwriter/guitarist, well-received, getaway, primal, armenian, nmes, hay, characterise, originates, brushstroke, pigeonholing, kravitz, clumping, sidestep, northing, sub-category, london/manchester, pigeonhole, benson, soul/rnb, crunk, puting, oversensitive, comapnies, melody, btw, condesending, acknowledging, irrelevent, syncopated, ragtime, originate, terri, funk, invoked, colourblind, multi-cultural, reignited, cities-, ty, despise, fueled, tuff, uber-category, sub-genres, bebop, flailing, janie, seattles, hendrixs, demolish, stepsister, run-down, oxycodone, narcotics, opiates, â£535, ex-hole, weitzman, sober, concurrently, bean, dmc, kanye, rhymes, clich&#233;d, mase, jaw, injecting, twista, near-fatal, critically, hova, madd, izzo, jamz, wests, sinks, maya, meghan, bratman, york-born, dirrty, grammy-winning, marmalade, aguileras, explorations, olives, re-invented, zooropa, bonos, schoolfriends, catsuit, drum-throwing, flag-waving, hewson, edginess, 26th, scouts, alter-egos, achtung, speaker-climbing, macphisto, clinging, anthemic, corresponding, youthful, churning, stadium-filling, ireland-only, coarse, cliche, mcguinness, hoagy, encompassed, arranger, whatd, sha, tear-stained, pickett, cochran, redding, indisputably, cooke, pop-oriented, mayfield, milt, newman, cocker, orbison, hallelujah, winwood, burdon, progeny, baptist, first-generation, fathead, manfred, carmichaels, trait, stardust, rap/sung, mayer, gladys, transmigration, lennox, replicate, faltskog, ulvaeus, agnetha, stromstedt, andersson, cirkus, sos, niklas, anni-frid, lyngstad, soulman, gravestone, fifth-placed, rejoined, flower, clog, sabbaths, cemetery, judas, lostprophets, pistols, kerrang, glam, 41-year-old, aids-related, monterey, auctioneers, much-loved, plummeted, 2.6bn, endangering, renner, realties, zombic, good-selling, cd:uk, sm:tv, deeley, drury, dreyfuss, hecuba, cadle, clancy, mear, pryce, lyttelton, emilia, conleth, swamp, tempest, gielgud, whishaw, mtsensk, sadlers, othello, ades, hytner, paule, donmar, choreographer, gambon, punches, bouncers, rocker, frenzied, killamangiro, occurrence, carlish, 50-minute, documentary-maker, disconnect, waldens, hammerstein, nun, nazi-occupied, trapp, goat-herds, kitsch, alpine, lederhosen, volksoper, novice, viennese, edelweiss, filmgoers, nazism, austro-australian, yodelling, bard, occ, second-degree, c-murder, corey, withering, yall, tru, orleans, rakosky, siemssen, parish, footswitch, elegantly, rehearsing, smouldering, hatchets, plate-spinning, sketching, flustered, conti, laughs, helmets, carousing, faint-hearted, ramble, gentlemen, contis, fullness, occupied, herre, nellys, jonesboro, boycott, vile, homie, xxl, editor-in-chief, jadas, rivalries, escorted, spiral, jadakiss, violator, hylands, angus, cassette, verbalicious, playboyz, grandma, butters, maniacs, 103, ejecting, between-song, stereophonics, punctuate, recorders, rapport, cheeky, rundown, tryin, topper, inferno, masscre, concurrent, disloyalty, luna, electra, imbruglia, goodrem, nina, cher, sexiest, fairground, noll, hampden, balloch, lomond, rems, kick-start, 9-10, bellahouston, tent, ticketweb, â£53,400, negativity, g-unity, jayceon, â£77,800, compton, $103,500, hindering, $1,300, mmfs, mccune, â£680, speedily, benchmarks, mmf, orkneys, time-specific, requesting, requiem, ac/dcs, mozarts, dragoon, pythons, sinatras, bo, messianic, endearingly, medley, astoria, ojays, rowdy, goin, contemporaries, waldorf, bb, mullet, piano-pounder, overdoses, lotta, inductee, timberlake, shakin, hynde, sledge, gospel-style, stabbers, diddley, mocked, pretenders, farndon, honeyman-scott, daldry, billys, mower, gwnne, lomas, familiarise, haydn, re-schedule, elliots, healy, aeroplane, smernicki, stewardess, rugby-tackled, warchus, torontos, conjuction, impresarios, hobbits, varttina, mirvish, tolkien, dame_julie, humpty, dumpty, pl, lamda, ark, mcclelland, $7.4m, $42.9m, $7.6m, â£3.9m, $19.35m, â£109m, $5.4m, $17.7m, â£22.8m, â£10.2m, â£53.2m, â£15.2m, â£12.8m, $137m, 204.3m, â£73m, gratified, exaggeration, co-created, intergalactic, self-confessed, storys, voyage, fry, malkovich, kavula, humma, rickman, polly, heart-throbs, annabelle, lagaan, eastwards, determines, amitabh, langrishe, bhi, ghai, kisna, non-indian, dil, backdrop, kahey, non-asian, toby, sweetheart, antonia, bilingual, bachchan, bernath, adarsh, improvised, subhash, aamir, bristols, gyllenhaal, coming-of-age, matador, decamp, endings, comedy/drama, squid, kudrows, whale, hopwood, duane, noah, costner, drunkard, baumbach, oprah, charlottes, cleese, phinnaeus, wilbur, ten-year-old, eb, goose, buscemi, dakota, winick, winfrey, knightley, co-productions, libertine, samuelson, twenty-seven, pavers, cub, paver, work-in-progress, primeval, breathes, torak, enchanting, seven-figure, ridley, 6000, biochemistry, sidekick, rekindled, discouraged, acne, syllables, closet, superteam, sate, surfer, grappled, byline, thor, cosmic, panther, indestructible, comic-strips, irradiated, headaches, dandruff, affectionately, claws, astronauts, romitaand, superheroes, joan, ingrown, kirby, 1922, nerdy, northstar, toenails, swansong, lieberman, brawn, carpets, prater, kinnaree, damme, kinnarees, eclectic, ravages, attain, mothballed, fundraisers, premieres, conspicuously, toned, pusan, cinemagoers, offputting, visibly, praters, subtitles, awfully, sid, beresford, bless, patsy, guildhall, rowlands, hard-done-by, put-upon, carved, well-loved, potts, hove, cazalets, regulars, geislerova, bardem, barratie, chan-chook, baldrick, poignant, blackadder, miranda, laurie, trench, sketchbook, fussy, bemoan, slamming, gs, corbett, vegetating, f-word, sketches, dumbed-down, good-natured, dumbing, â£4.9m, $9.5m, â£10.9m, gun-toting, $7.2m, cursed, elise, cheerleader, ranger, madea, â£6.1m, werewolf, â£3.74m, $22.7m, philandering, â£11.8m, cravens, jana, commissioning, in-house, flourishing, daytime, demure, statuettes, 1927, fifty-five, movie-making, hobsons, fonda, hepburns, admittance, cruz, overheard, 8.45pm, littlefeather, streaked, 1944, sacheen, dresses, herrick, receipt, casablanca, cavalcade, movie-makers, hitchcock, banquet, 1939, glitz, jolson, skolsky, sr, humphrey, 2,530, statues, suspense-filled, bounded, opal, dorothy, bogart, 5,700, tootsie, hoffman, culturally, craphouse, 67-year-old, infiltrating, gilliams, surefire, depps, depp, sleepy, brasco, idiosyncratic, roald, chocolat, loathing, snuff, barrie, barries, unconventional, kentucky, dahls, poorly-received, willy, retarded, mannerisms, wonka, scissorhands, b-52s, grape, exploitative, proust, 58-year-old, genet, spiritually, ex-smiths, birkin, patti, readings, 10-12, supergrass, manzanera, roxy, manzerana, 1972s, eno, cfx, hardcastle, ckx, sillermans, offspring, $156m, â£64.5m, â£81.5m, holiff, nashville, drive-in, cashs, dabbled, statler, rpm, â£17.7, katie, jameson, $33.6, 174.6, uk-signed, 26,000, melua, dohertys, fiddler, heavyweights, leon, maidens, babyshamblers, dickinson, richfield, nme/radio, charlatans, marilyn, â£125, pixies, wetherby, bramham, 26-28, corellis, filmmaker, ex-childrens, mandolin, joness, scoured, pellets, pietro, therons, quirkier, amenabar, swallowing, condoms, bogota, alejandro, smuggles, colombian-born, bugsy, gangster, bening, neurotic, grifters, burnham, surburban, benings, 1988s, swanks, contrasting, deliciously, 1999s, buzzes, sex-starved, seductive, carolyn, eluded, myra, akroyd, inflammatory, nominating, makeup, semi-mythical, bush-baiting, tinseltown, foreign-language, epic-style, punky, dor, aramaic, bunker, well-paced, palme, us$370m, snubbing, fawcett, bugging, kidmans, crowe, magistrate, kidman, eucalyptus, depardon, iraqi-german, hirsi, somali-dutch, ayaan, hamer, douglass, percept, angadias, 60-year-old, romancing, diamonds, nile, co-produce, swashbuckling, $881m, $576m, â£306m, brittany, â£468m, annies, edna, salmon, gambles, punter, wagers, bana, enigma, 6-9, â£870, salt, angolan/french/portuguese, 11-day, 24-year, tug-of-love, 7,500, mcallisters, juliet, commemorate, dicaprios, leonardo, critters, idaho, 2,277th, teds, uptight, â£7.2m, â£750,000, ex-cia, kurosawa, chieko, musicologist, bachs, bwv, fragment, recreates, soprano, rifkin, hara, rubiks, aria, dinosaur, 1728, 216, recreated, palaeontologists, cantata, maclaine, pre-broadway, gwen, verdon, fiscally, applegates, applegate, weissler, wardrobe, digney, ephemera, longtime, britney, souvenir, scrapbook, stepdaughter, lloyd-webbers, zomba, â£75, â£700m, victorias, dhani, bedingfield, â£340m, â£67m, craymer, remortgaged, baccarat, zealand-born, chiffre, americanised, broccoli, bergerac, banderas, nemesis, minder, niven, zorro, neal, flemings, pitted, mcgurk, sadistic, reinvigorate, casino_royale, purvis, bihari, iranian-born, jawani, negar, bipin, chadti, topless, 78%, underpinned, skillset, highly-qualified, lavished, heavily-nominated, outdone, shoo-in, rings-style, drakes, moderately, reviewers, mr.benn, twitch, thundercats, entice, clowns, childrent, morph, yesteryear, disneyfying, e.g, airbrushes, mock-authentic, remodel, sacred, flat-cell, catweazle, rentaghost, chorton, krusty, galactica, mysterious, makeovers, life-like, clangers, apalling, less-than-successful, grandpas, childhoods, toons, dungeons, bod, rework, saphire, banana, postman, recyclers, daring, postgates, antics, 10-15, torch....hmmmmm, backfiring, clunkiness, reinvention, pludering, miserably, luv, gobo, 1977s, midge, bagpuss, sarcastic, $$$, saturated, re-gurgitation, yoffi, gandalf, dearest, scarlet, now-defunct, drivel, yaffle, nesbits, trippy, organ, mega, stop-motion, supermarionation, targetted, he-man, joes, â£11m, grannies, roundabout, terrahawks, seam, chorlton, plany, cartoons, dougal, fingerbobs, magic_roundabout, noggin, re-workings, sprung, puppets, inventiveness, otherworldliness, starsky, clipping, willow, smiled, a-team, $42m, papamichael, wheelies, bearded, puppet, grearest, reinventing, mannequins, bod.....oh, remaking, misty-eyed, ufo, furry, fireman, extortionate, rehashing, torch, cuddly, re-watched, repackaging, mungo, wisp, citreon, cg-animated, repackage, pugwash, expat, remakes, fingermouse, m.a.s.k, nog, pandy, muffin, everthing, wombling, c4, battlestar, rushden, australian-born, reserved, rooting, chilly, floaty, armani, micha, limos, schiffer, throngs, sequins, shimmering, ear-piercing, sunshine, frock, sienna, oc, floor-length, sparkled, hepburn_in_the_aviator, caramel-coloured, nominated...ive, carpet.\"its, crowed, screamed, bio-pic, hotly, pinnies, gunpoint, beaded, swansea-born, cordoned, jackal, masonry, trodden, actor-director, assassin, â£340,000, over-estimation, poulton, repertory, â£75,000, benefactors, â£42.4m, first-week, outshining, â£29.7m, $458, sixth-highest, â£242.7m, dreamworks, ballroom, dobson, lowell, chelsom, glands, braved, boasted, swollen, waltzing, apologising, supersized, ate, goldwyn, supersize, liver, libelling, libelled, mclibel, spurlocks, showtime, 25lb, â£40,000, cliffhanger, shelving, $76m, frankenheimer, â£40.7m, stellan, renny, 11-26, foreruns, schraders, sydow, schrader, skarsgard, harlins, verne, merrin, harlin, â£48m, nikki, amadeus, $45m, $90m, â£952m, $259m, $436m, bestowing, $370m, rocco, vested, â£137m, â£5.73m, â£52.7m, movie-going, $10.85m, satans, $30.5m, â£16.1m, $7.7m, â£4.1m, minions, hollwood, $31.8m, â£16.8m, tarantino-directed, mendelsohn, csis, er, buhecha, jayanti, â£26,000, counterfeiters, amarishi, mohabbatein, inlay, trademarks, conterfeit, ton, weeklys, karger, guilds, pep, industry-related, adore, unprintable, showering, cinema-goers, glitzy, strauss, gatherings, tents, tv-viewing, cert, imelda, errigo, shawshank, kane, gaydos, ide, darabont, scoop, gant, flip, lars, trier, outwards, mckendrys, dogville, academys, oiled, indescribable, hepburn, calcutta, prostitutes, bittersweet, otro, lado, neverlands, abortionist, stans, foreverman, briggs, spawn, evergreen, plied, kites, legrand, kite, `dont, whore, bashirs, bashir, schaffel, hunted, frailties, neverland, sneddon, closets, brotherhood, symbologist, langdons, braced, 400-year-old, skeletons, booksellers, vatican, illuminati, sulpice, beautys, 60-minute, omagh, 2046, curzon, halloween, trailblazed, obst, cluedo, babysitting, rubble, $60m, second-unit, lynda, â£31.3m, voorhees, krueger, mask-wearing, stalk, munchies, â£4.4m, 596, re-entered, â£788,439, â£507, clean-cut, jody, archivist, lachaise, clip, pere, coroner, quizzing, soft-spoken, apartment, 12a, erupting, pg, volcanoes, clones, pg-13, molten, lava, under-13s, anakin, darkest, sith, hell-like, vabres, donnedieu, renaud, gale, veritable, weave, diesels, $138m, $9.8m, 957, â£125,000, â£72m, newmarket, inventor, pacifier, recut, â£36.4m, â£34.1m, $36.5m, $70m, â£15.6m, $239,850, $30.1m, vin, $65.5m, $18.1m, adrien, â£152, $291, hobbit, brody, sebold, whedon, dc, firefly, serenity, bombed, buffy, slayer, gidley, â£102.80, â£1,400, deletions, beith, taster, 60p, evaluated, decries, eoc, 80p, reimburses, abortive, â£28.7m, thefirst, barracking, breasts, lovenduski, melons, sexist, joni, wiggle, teather, ex-tory, birkbeck, follet, jeered, endure, babes, four-letter, fuck, tbwa, twats, mcfadyen, messaged, re-joined, malarkey, tbwas, shd, missive, trev, circs, ex-no, swears, shirking, super-casino, addaction, criss-crossing, jailing, conlon, conlons, quashed, sincerity, explosives, planting, discredited, rifts, healed, jailings, whod, confesses, falsehood, inference, bremners, despaired, passable, cockerell, three-monthly, ramrodded, uneasy, sanitise, sunset_clause, inserted, gibraltarians, gibraltars, dominick, moratinos, pons, gibraltar, caruana, chevening, chilcott, statisticians, postgraduates, liaises, mirrored, instruct, commemoration, brazenly, perished, jamess, insensitivity, hier, lower-ranking, hated, wiesenthal, soviets, rabbi, drank, ill-advised, convener, macdonell, incurred, problematically, drunkenness, wiser, ill-judged, pilloried, mcconnells, misrepresent, distortion, scotsman, one-sentence, sea-change, qca, revert, scuppered, four-tier, qcas, half-hearted, woodhead, upheaval, tomlinsons, dissenter, decidedly, publicised, step-change, 14-19, high-skilled, e-universities, â£14m, â£4.2m, e-university, â£44,914, shantytown, narobi, huts, cardboard, kibera, allaying, overcrowded, hornsey, julys, characteristically, interpreted, perthshire, well-governed, reasoned, appointees, counter-, bordeaux, oporto, pretoria, timor, consuls, mbabane, kabul, â£86m, pyongyang, 6,100, redeployed, absences, â£885m, 776, 31,000, academically, country-wide, unfaithful, grading, 146, pedestrian, tyne, warcup, placards, liaised, northumbria, dodd, hanningfield, baas, u-turns, burglars, mercers, backtracking, occupiers, i-era, recently-expanded, armenians, reneging, staunchest, contravenes, overmighty, faiths, heartlands, deferential, leftwing, ralph, msc, milibands, haverstock, miliband, left-leaning, tweedbank, longtown, midlothian, half-hourly, gorebridge, elwa, bolshevik, shani, dictatorships, choirs, leeks, mostyn, llangadfan, unelected, ignorant, carlile, broadmoor, glitterati, libertarians, schooled, liberati, labrador-curly-coated, divorcee, shadowing, heckled, amalgam, sadie, portfolios, invasions, reclassification, half-sister, airy, casually, intensify, conciliator, retriever, kosovo, spurns, emergencies, unafraid, censure, courted, 4.5m, eightieth, woolstenholmes, firefighters, riles, duchy, counties, 140,000-acre, grants-in-aid, 2003-4, 1337, mawer, fast-track, ex-lover, ex-nanny, casalme, â£180, retorted, 23,600, caldwell, acceptances, cross-border, ucas, 27,700, cast-iron, unpunished, rearing, blanche, fairs, neglect, angling, mutilation, welcomes, anglers, circuses, carte, consults, exempting, enshrined, arouses, redraft, broom, miscellaneous, exempted, enclosed, ticked, licensees, non-compliance, devolved, smoke-free, lamentable, eleanor, relegate, reassert, template, non-resident, axis, amitai, communitarian, pressuring, gravest, carters, abdul, jay-walkers, etzioni, havens, pre-emption, highly-enriched, qadeer, fissile, less-enriched, osama, historian, batches, repression, wrung, bedsits, artic, latvia, makarovs, ex-spy, ex-russian, makarov, gordievsky, kgb, â£65,000, deteriorating, decoded, yale, spies, m16, code-breaking, uprate, home-buyers, opus, dei, sexually, exam, categorically, one-size-fits-all, 18s, non-white, census, thriving, segregation, oriel, aynsley-green, â£100,000-a-year, ormond, tsar, undersecretary, washingtons, re-iterate, saviour, congregation, malnourishment, murphy-oconnor, 569,072, mowden, darlington, beneficiaries, lorna, fitzsimons, mabs, azzam, 10,000-vote, 1.1m, tamimi, anti-policy, disaffection, mcb, erosion, anti-labour, curtice, mcbs, sher, 1.6m, anti-party, mab, hannett, whitefield, usdaw, turkey-eu, impromptu, bromesberrow, york, handcuffed, huntsman, charing, wakeham, ledbury, pro-hunting, retrospectively, redvers, doorkeeper, highgrove, herefordshire, chef, point-to-point, trespassing, thame, auctioneer, hartpury, holliday, polo, refusals, misunderstandings, cmf, dementia, legalising, lcf, hasty, lcfs, wills, certified, limitation, algerian, pre-entry, re-written, unravelling, tolerable, drawn-up, 161-strong, 272-219, alloway, symbolise, winchester, scott-joynt, tinkered, variously, twelfth, keighley, 45-year-old, tyndall, firearm, covertly-filmed, incitement, thuggish, perpetuating, henley-on-thames, grovelling, bigley, liverpudlians, grieving, wallowing, a400m, foe, mods, overspend, eurofighter, resonsible, siff, over-runs, nimrod, c-17, unaccompanied, suitability, albanian-born, asylum-seeking, reintegration, brownlees, residences, retrace, pets, non-british, redirection, warden, fido, re-registration, identifiers, inaccuracies, re-register, school-leavers, innumeracy, 2.25, gcse, equivalents, intervals, 520,000, unaccountable, mushroomed, endorses, 60-employee, 529, â£1.1m, harnessed, stem-cell, embryonic, nostalgic, grown-up, mustnt, australian-style, thought-out, 160,000, frattini, contravene, holyroods, misselbrook, tendered, mcletchies, enquiry, registrable, advocacy, prejudicing, misconceptions, hebrides, conservationists, havoc, ecologists, uhi, oceanography, conservation, dispersal, youths, asbos, fallujah, heavy-handedness, insurgency, sprees, rapes, evils, glenurquhart, preaching, davidson, over-18s, inverness, under-age, ness, booze, railed, baumes, baume, 84,000, 59,000, 53,000, 66,000, energetically, strands, intercept, sandford, 2022, under-estimated, allander, redone, cuthbert, theirfamilies, justfor, ideologically, radicallyimproved, stresses, ofnew, misfeasance, daub, chained, mattress, consigning, mop, combatant, zambian, reconnaissance, daubed, kidnapping, jakobi, interrogator, mubangas, rebanding...will, deception, rebanding, torfaen, whinging, minimsed, â£7.4m, 16.4%, re-valued, wlga, fast-tracking, quinns, cover-up, grubby, inquirys, fosterers, tapsfield, remuneration, foster_carers, adss, â£108.49, prayer, heirloom, georges, chapel, consort, ros, duchess, hrh, wife-to-be, disillusionment, mrs_parker, coward, preside, 1,313, remarriage, anglicans, divorcees, bowles, imams, alienating, disproportionately, 12.5%, salford, legitimisation, islamophobia, 2003/2004, victimised, racists, ihrc, â£140, hannah, booz, hi, ict, benchmarking, cultivating, e-economy, party,said, 16-18, forty-three, communicateresearch, 1,981, 601, 401, vindictively, sailor, adoptive, nutter, marrow, pelham, lucys, 100ml, 30mph, cyclists, 80mg, bac, motoring, drink-drive, staggered, â£119m, 30mg, allsop, 50mg, 40mph, aa, breathalysed, cs2, correspondence, ex-partner, â£57, re-balancing, courtrooms, over-ruled, 1925, dispossessed, radicalism, butler-sloss, electrifying, scarmans, nephew, rotten, scarman, dicky, arbiter, janner, sandhurst, nazis, contrite, inpatient, beddow, 311,764, outpatient, 6,630, 785, 708, waiters, modernising, inpatients, 305,775, bma, unacceptably, kirsty, minister..with, 7,613, unambitious, non-european, evidence-based, terrence, uk-born, x-rays, dint, moore-gillon, 185,000, prejudice-based, deflect, kisrty, blaengwynfi, hutts, five-and-a-half, wyn, aberavon, afan, ieuan, assemblys, nye, 311,000, 856,600, 2,400, dr_gibbons, perceives, woke, multi-polar, receptive, iyad, 2230gmt, allawi, 0530gmt, presidencies, scars, multilaterally, adulation, cafod, guff, â£37.5bn, family-friendly, â£170bn, sweetman, rebuttal, hand-out, dross, â£31bn, dubbing, 2003/4, marchs, 1800gmt, wastealot, gloating, â£285m, four-year-olds, taxing, anti-french, peacekeeping, gbagbo, peacekeepers, coasts, evacuate, colony, ivory, evacuation, evacuating, standby, 100-120, deteriorates, heightens, 2013, 2008-09, fairford, justices, escort, coachloads, glos, mackey, generalised, involved...they, casino-related, rhyme, vegas-style, chalk-stripe, pants, spaghetti, mafia-like, badger, farquhar, anti-hunting, prevaricated, rabbit, otter, quarry, baiting, blanket, chartering, 1215, auxiliary, bayleaf, articulate, convened, three-minutes, catch-up, â£76m, â£1.58bn, frigate, three-minute, pre-condition, unaccounted, mowbray, moritz, ashford, repealed, hoey, postbridge, unpick, badminton, hunstman, dartmoor, mcwhirter, melton, 52m, 922, detecting, jorg, irregularity, 831, â£35.7m, â£808m, 10,276, â£38.5m, administering, wojahn, â£644m, 8,177, weed, sikhisms, roti, sindh, amritsar, islamabad, kashmiris, holiest, muzaffarabad, srinagar, kashmiri, militias, taboo, hutus, rwandas, anti-retrovirals, kayitesi, orphans, rwandan, channelled, blewitt, enjoined, patriots, anti-constitution, pro-constitution, abbot, under-represented, dewsbury, malik, ethnically, terribly, shahid, women-only, expertly, dusk, frightening, rejoining, mugged, anglican, dafur, stamford, mugging, betts-green, partybnp, betts-greens, anglian, woodbridge, disclosures, sellafield, intermediate, â£48bn, sixfold, cumbria, ilw, â£680m, millstone, untreated, decommissioning, radioactivity, highly-radioactive, dumpsite, scurrilous, muddling, spats, purposely, abusers, deserted, mawrey, kazi, vote-rig, vote-rigging, presiding, 10ft, deceive, birch, sukul, afzal, unsealed, 275, bordesley, vote-forging, petitioners, abu, disengage, mazen, internationally-agreed, yasser, tomb, wreath, ramallah, insurgent, al-jazeera, kidnapped, kidnappers, abducted, arabic, abduction, newly-founded, peirce, inadmissible, appalled, iqbal, sacranie, northolt, paddington, mi5, moazzams, bicester, videoing, intimidation, hares, masse, mammal, enforceable, spiteful, panicky, wedge, recounted, flap, games...they, veils, maleeha, grievances, backward, lodhi, totality, outling, undertook, gieve, principally, wanless, knighting, beggared, knighthoods, astonishment, natwest, repressors, slurry, muck, beard, ginger, limb-amputators, arabs, bucket, farmyard, stank, corsa, wilmslow, emmissions, slow-moving, convoys, rac, polluting, 1.28p, northamptonshire, quagmire, foreword, thatcherism, barristers, nicol, hugill, scannell, mare, 19-strong, manjit, blot, habeus, sleepless, possibilty, anti-islamic, workplaces, reps, unsafe, union-backed, whistleblowers, risking, bribers, brigands, glibly, eileen, koh, phi, generators, underage, 2am, alcohol-related, polices, regulating, 12.30, acpos, exacerbate, carole, two-year-old, mactaggart, energy-efficient, spatial, disjointed, lax, zero-emissions, densities, joined-up, ainsworth, one-twentieth, amandas, denham, prescriptive, re-legislate, sentencers, ambiguity, mitigating, opik, luff, accommodating, landowner, barking, lembit, welsh-english, herefords, 6-months, orthopaedic, two-fifths, moynihan, overstretched, â£41m, 151,000, club2school, faith-based, badly-taught, tenets, illiberalism, intolerant, demean, intolerance, napiers, â£2,450, probabilities, robber, macaskill, buckets, eczema, heartened, barlinnie, slopping, remand, slop, carstairs, blond, 9ins, reassured, coatbridge, jeans, 5ft, unescorted, psychiatric, sightings, reassurances, minimised, complexion, fianc&#233;e, approving, clarification, snps, apportion, high-security, annabella, traveller, refurbish, caravan, minety, cambridgeshire, cottenham, amenity, gypsy, encampments, ryder, provocateur, shadowy, meibion, fire-bombing, discrediting, unsolved, elfyn, arson, nant, nationalists, yield, merionnydd, fire-bombings, llwyds, plaid, nationalist, llwyd, llyn, maniffesto, conwy, aubrey, ex-welsh, s4c, dafydd, pembrokeshire, glyndwr, cottages, f&#244;n, derailed, railtrack, beattys, railtracks, fugill, balfour, lea, upkeep, pease, hatfield, mph, tuxford, alcorn, jeffries, pottage, monkhouse, looms, revolved, culmination, 0001, quorn, 297, 203, falconer, hydration, quicksand, authorises, inter-school, anti-competitive, agility, southwark, chi, ring-fenced, hoops, all-girl, tai, negligent, say-so, deprive, abut, infringes, denounced, anglo-irish, eurosceptics, discord, hospice, polytechnic, lobbyist, maze, deselection, unionists, sdlp, wrecking, uaf, mosque, births, karim, taha, kawa, kalan, kurd, derelict, swanseas, idris, welshpool, civility, climbdown, whittingdale, scaring, imposes, cobham, jowells, pervez, ebell, umbilical, anew, myron, warmest, kerrys, congratulates, smoky, jacks, snooker, o-levels, truant, meo, truanted, snookers, whirlwind, reardon, coordinating, godsiff, contravention, no-mans, lawlessness, habib, mamdouh, human-rights, qmv, streamlining, member-states, opt-in, disagrees, sodomy, odonoghue, allocation, invade, tsunami-size, blushing, greenhouse, us-friendly, kyoto-lite, nightspot, objecting, preparatory, hayman, re-examined, 24-drinking, policeman, binge, responsibly, chainsaw, 18-rated, classifications, 487,939, mallon, mallons, ne, wades, tomaney, robb, two-bit, exerts, metric, campaiging, country...then, inconvenienced, responsibilty, preparedness, dreadfully, livestock, reimbursement, culled, â£349m, vet, lackadaisical, invoices, pyres, ever-expanding, reconvicted, sps, council-controlled, spss, correctional, revolving, dispensation, tutu, tutus, safely, conclusively, desmond, so-and-so, praetorian, scandalous, gurkhas, post-tsunami, 94,000, helicopters, rifles, mornings, gurkha, exerting, annan, pa, syrias, kofi, impersonal, pcsu, pass-holders, uk-wide, piers, pickets, aberystwyth, lanning, welsh-speaking, freelove, huttons, concurrence, defeatism, reintroduce, non-repayable, pancras, taunton, saddleworth, withington, yardley, haltemprice, finsbury, westmorland, eastbourne, canterbury, gorton, necks, holborn, lonsdale, orpington, mortgage-style, howden, wardens, newcastle-upon-tyne, suicidal, corston, hanged, exhibiting, glaringly, ill-suited, robberies, registrar, â£135, illegals, marriages, rimmer, sham, jcwi, beynon, specially-designated, liechtenstein, amoah, registrations, solanas, phone-taps, phone-tap, solana, anti-sectarian, troublesome, bigots, sectarian, parkhead, sectarianism, bigoted, 44,000, condemnation, competently, overstate, 1,943, deprives, unjustifiably, gestingthorpe, woolly, erode, tram, finchley, depicting, winged, tasteless, superimposed, distasteful, torys, overstepped, mennear, mousas, mousa, ethically, father-of-two, baha, carla, ferstman, receptionist, colonel, uk-controlled, uk-run, shiner, englishmans, unconscious, trawl, self-defence, barras, lawfully, one-sixth, watered, guideline, deterrents, woolf, doorstepping, gavron, interfered, ill-prepared, non-emergency, huntley, taxpayer-funded, shirk, invoking, soham, humberside, coppers, welling, mischief, walkingtons, walkington, communicated, â£143,000, foulkes, guardsman, steely, ochil, undoing, hendry, stirling, renfrewshire, dumfriesshire, endorsing, inflicting, marginals, distinguishing, confrontational, begging, discernible, patrolling, convinces, symbolically, â£8.1bn, payer, â£419m, rationalisation, â£325m, cosla, mccabe, 4-5%, 37,000, unflattering, shredding, mandarins, shredded, self-serving, fraserburgh, westminsters, finnie, harvesting, fact-finding, fisheries, peterhead, conserve, rothwell, lovell-badge, developmental, reproductive, genetics, dfes, allocations, embryos, anti-stem, pro-choice, embryo, borderers, flexibly, colonels, super_regiment, armies, argyll, amalgamate, single-battalion, envy, moulding, highlanders, fusiliers, deferred, howells, neighbourhoods, postgraduate, hefce, aspire, newby, well-off, vice-chancellors, neasden, swaminarayan, shri, mandir, mini-manifesto, government...has, volition, dover, plain-speaking, countering, shipmans, lobbies, â£105.45, plumb, ideology, lorries, haulage, regrettably, â£79.60, intimidatory, thirdly, tuppence, pheasant, consumerism, 1.92p, repealing, mis-selling, formers, disguised, sneering, umpteenth, flames, upstage, seething, long-arranged, pertinent, once-famed, witney, sulk, ex-aides, swayed, amply, haskins, captivity, mammoth, media-only, chatter, unnerved, majorities, uninterested, behind-closed, pronouncements, of\"squabbling, self-obsessed, insurrection, poisonous, campbell-savours, threatend, hugely-disgruntled, sniping, briefers, fictions, spines, childishness, starkly, widely-held, jeopardising, 59-year-old, re-engaging, chancing, self-publicists, nicki, maitland, one-liners, guitar-toting, irfan, corrupting, eccentrics, druid, chapman, smooth-talking, drunks, carman, giggles, well-crafted, mackenzies, donnellon, hanif, evict, dues, mackenzie, hylton-potts, lorraine, inuit, oddie, haircut, ex-itn, amicably, decked, doo-style, chit, surest, throats, side-by-side, psychedelic, mgs, ill-at-ease, mind-bending, chic, wig, sgt, soberly-suited, regency, scooby, thoughtfully, trundled, billingsgate, dressing-up, dandies, approximation, mantras, camper, microphones, side-door, crackled, tittle, tattle, allocating, mouths, heinous, convict, induce, exhorting, ensues, snowball, 283,000, rationally, parable, solomons, perverse, post-neo-classical, wonks, selfishly, apprenticeship, adulthood, unbroken, out-dated, sundar, nudge, katwala, descent, nexus, unreformable, ideologue, shocker, soundbites, despatches, not-so-secret, clintons, re-negotiate, bureaucratism, mediterranean, infections, feckless, 14-16, precisely-calculated, showings, resolutely, letwins, 1906, â£153m, â£1.6bn, â£336m, populus, atlabours, 163, hopers, self-delusion, aspic, is...whether, unfettered, discretion, 206, distrusted, hykeham, chancellor...no, 229, nurtured, schoolgirls, ridding, missionaries, clenched, burnt, heartfelt, vine, broadside, incompetence, blair-brown, abstentions, 52-year-old, bannatyne, salvoes, tightly-timetabled, crack-of-dawn, scooters, inefficiency, â£13, rymans, unstained, garish, welfare-to-work, hallmarks, â£22, taxis, hope-monger, laments, passivity, secretary-general, irene, dripped, sas, co-existence, consensual, succour, affirmative, betraying, 16.1%, rancour, knapman, nagged, backsides, expulsion, spokespeople, misrepresenting, burgeoned, hard-won, inefficiencies, hidebound, improbability, overspending, foment, tory-labour, supplanted, gravitate, recommending, melted, glenys, firebrand, far-left, pengam, tredegar, callaghans, tutor, rebellious, islwyn, blaisdon, royall, amos, precautions, competence, misguided, interned, informants, forsythe, self-reflective, over-protect, humanly, posterity, distorts, mass-hysteria, sleep-walking, politically-correct, fatah, forgets, perpetuation, long?they, duration, roundly, mortal, habeas, indeterminate, totalitarianism, fanaticism, ceausescus, philosophers, gchq, neutered, uttered, hobbes, propositions, superficially, quraan, her/his, probability, nuked, denunciations, blockade, forsythes, un-british, no-jury, charge/trial, resentful, pretends, point-, inla, policemen, wmd, craftily, ny, eloquently, movers, shatter, totalitarians, imprison, shelters, undue, insidiously, stalin, futilely, lunatics, indiscriminately, she/he, sheltered, alienation, nightmares, well-thought-out, derogation, plutonium, rakes, semtex, liberties, verbalise, paranoia, gagged, overstepping, ricin, example.this, genocidal, penetrate, liberate, talking-down, barbaric, roughshod, kilo, frederick_forsyth, fundamentalism, tyrants, josef, collusion, flatten, freddies, publicising, instituted, duped, u.k, scruffy, german-bashing, czechoslovakia, aspired, sudetenland, off-air, unfeasibility, batten, reich, ex-ukip, nattrass, farage, vacuity, mouthing, clown, anti-european, anti-europeans, ridiculousness, exhaust, vain, eventuality, pro-europeans, midstream, constituent, euro-enthusiast, proportional, ego, irrelevance, coup-detat, energies, wrecks, rk-s, nauseating, chauvinistic, humankind, diminishes, sceptic, dithers, -silk, super-state, steed, self-publicising, smoke-screen, dangerous.the, small-mindedness, egotist, straight-down-the-middle, splintering, tiff, pompous, euro-sceptic, slurs, anti-islamism, 290,000, firsts, longest-serving, leo, 1812, 2,838th, subscribed, 1848, perverting, tebbit, perjury, elapsed, perjurer, vindictiveness, prostitute, forgiving, realities, reintroducing, dental, over-75s, polluter, â£630, stepney, repeal, anti, husseins, shamelessly, pro-iraq, borough, eady, galloways, 50-year-old, hamlets, stooge, anti-union, dunstans, labour-led, memo, encountering, unravelled, stickling, mulled, makings, hoc, two-fold, stilts, conservative-liberal, thorpes, thorpe, outspent, greens, â£2.36m, â£1.7m, â£404,000, â£3.13m, â£1.19m, conversational, spontaneous, thatcherites, transporting, rhetorical, sexing, gilligans, alastairs, keenness, denunciation, rightwards, wantage, defect, fair-minded, unilateral, meyers, clwyd, normandy, rafferty, 20-year-olds, devalue, snatches, breakpoint, non-story, waterson, grilled, smiths_departure, likening, winkfield, â£7,000, â£340, revalue, property-based, multi-racial, all-women, under-representation, cre, ashok, lyn, vishwanathan, largely-elected, facey, lieu, bishops, hereditaries, 385, mscps, front-bench, â£480,000, paperback, portillo, aunt, â£5,001, declares, sightseeing, ex-health, agony, â£85,000, â£45,001, indepen, â£205,000, bridgepoint, â£5,001and, wadi, six-figure, sultan, â£71,433, single-bedroom, â£820,000, â£560,000, serialisation, â£195,000, widdecombe, â£135,00, hagues, powderject, ondaatje, â£10,575, bequest, refrigerator, chests, â£8,170, â£11,724,929, â£400,000, â£330,000, philanthropist, magan, â£4,610,849, affiliated, â£161,840, bearwood, hambro, haughey, beardmore, totals, â£325,417, â£63,081, drayson, pent, 1441, lawless, pr&#233;cis, proceeded, justifies, non-publication, gla, morals, hulme-cross, defectors, silks, hockneys, ramming, exasperated, instinct, stammered, laxton, norths, blushed, morgans, mis-transcription, skidelsky, doctored, hypnotist, ellman, hypnotising, ned, hypnotism, inextricably, temko, centuries-old, reminders, reviving, smearing, apologies, erewash, quashes, 6,932, `burden, nastiest, battlegrounds, xenophobia, alternatively, tiptoed, parmjit, tieless, rouse, lays, katrina, pms, keener, shipley, shipyard, telford, saxon, porterhouse, parbutt, bravura, doorstep, leanings, stewards, spence, zeal, supremely, feelgood, sharking, exclusions, â£42bn, refurbishing, right-to-buy, tenants, â£170, paternity, deductible, illiberal, jacqui, year-olds, open-minded, grandparent, carer, â£23, cutters, horsham, aprils, turnour, folkes, 1695, bernadette, candidacy, devlin, 1904, galifray, cunningly, italics, mushy, slopes, noticing, inter-planetary, pea, pre-election-campaign, politicisation, 1,132, single-issue, supersede, outlining, inconspicuous, dictating, well-understood, informative, cooperate, holme, nudges, winks, democratically, centralisation, strive, margherita, undimmed, evesham, windswept, wayfarer, worcestershire, egwins, dinghy, damning, instructor, academies, mendaciously, bromsgrove, donned, blair&#191;s, interviewer, punched, enthuse, phone-ins, sharron, questioners, egg-throwing, flagellation, over-slick, belgrano, harangued, granger, kinnocks, unwashed, falklands, memoirs, stomping, soapbox, marching, eggs, grilling, artful, maxim, somebodys, masochism, freakery, storer, coppendale, bush-style, â£520m, over-complicated, raynsford, â£512m, reallocated, 2007-13, â£11, thereabouts, incurring, â£5.60, handouts, minister-in-waiting, redistributive, demeanour, precision, glossing, doorsteps, limb, larder, re-casting, pore, iniquity, patching, â£450, mockingly, conjured, â£168, knifes, 560, â£27bn, inoculation, deadliest, co-ordination, actionaid, siniscalco, six-day, domenico, inseparable, curable, inducement, inoculations, decimating, pandemic, â£60m, strasbourg, tardy, restating, are...consulting, homeowner, bleakly, discriminate, hale, discriminatorily, czechs, pre-clearance, carswell, steyn, prague, documented, non-roma, sceptically, sikhs, hindus, warsi, downdraft, sayeeda, islamaphobia, contraceptives, unregistered, prentice, exacerbating, undercutting, anxiety, contributes, 2007-2013, neurosis, bled, re-energise, 2007-2008, avoidance, â£111, â£263,000, 80th, pint, â£275,000, â£63, â£4,895, value-for-money, rides, oaps, 7p, â£120,000, same-sex, carvel, dalton, discourtesies, tyrie, night-time, daylight, pheromones, pheremones, follett, perversion, quash, unpalatable, madrid-style, ians, steamrolling, sweatshops, 3x, 20p, purr, fudge, laze, hardship, ancillary, foresee, folds, 50pc, unattractive, â£6.00, â£4.25, simplistic, decently, jubilation, lowest-paid, hardworking, br, unglamorous, underpaid, smes, â£9,000, overtime, â£2.75, â£5000, better-run, rich-kid, 75p, decreases, spellar, â£60, tangible, 2/3rds, portering, whines, 18-21, stinks, sweat, &gt, insinuation, â£5.05, consciences, degraded, â£5.35, â£4.85, manpower, fat-cat, uni, apprentices, setting-up, 50-60%, disturb, â£6,000, â£4.10, protestations, 2,234, city-dwellers, 801, evenly, countryfile, sanctuary, 16s, 175,000, wire-tap, confining, security-cleared, phone-tapping, stafford-smith, adherence, gavi, neo-liberal, mortality, thereafter, â£0.53bn, immunisation, compassionate, quantitative, embargoes, nobutaka, china-uk, machimura, downright, â£33.5bn, overbearing, 1.7m, under-funded, dependency, antithesis, burstow, ladyman, dogmatic, fallon, ex-conservative, impugning, heathcoat-amory, reclassified, folly, entrenches, centralises, cryer, mardell, missionairies, britishness, unilaterally, 17-million, internationalism, imperialists, break-ups, 400th, protestants, protestant, 1642, woollen, fawkes, 1727, sprinkled, handel, 1834, re-marriage, maids, 1497, maid, parchment, vellum, frideric, adultery, jessys, transcript, addison, hive, protestation, laugher, amelia, vistas, mistresses, divorces, jessy, 1689, 1606, 1670, marital, coachmen, trawling, addisons, 325,000, blow-by-blow, 1801, bonar, tax-raising, take-home, lurches, self-employed, impetuosity, non-event, 2001s, bn, slaps, 050505, abolition, panics, segmented, handbook, flagrant, 680, systematic, insofar, stevenage, mailings, peradventure, presume, endorsement, frontbenchers, maastricht, arundel, deposal, oulds, catholicism, sloughs, egm, tanguay, instructs, amins, gravediggers, ex-pm, audrey, attlee, hattersley, mourned, idi, garbage, 93rd, uncollected, marr, whips, recess, centre-stage, usurp, grasped, tatton, three-cornered, misrepresented, unwinnable, heeled, 22-week, commend, communion, criminalise, terminations, tantamount, anti-abortion, party-wide, abortions, devotion, encroachment, hothouse, lecturing, hearsay, delights, columns, ex-king, eldest, granita, 1915, macaulay, marguerite, vengeful, cooked, brown/blair, canvassing, rosyth, tonys, pauls, soweto, laughed, ex-cabinet, boatengs, cronies, chord, ley, mid-bedfordshire, de-select, unreserved, 299, odell, sayeed, by-product, lampooned, trainee, browhills, larissa, stepson, whopping, aldridge, flags, footing, hains, no-hoper, ad-libbed, sholto, contrasts, unitary, stoke-on-trent, stockton-on-tees, sainsburys, tradesmans, liability, tad, sittingbourne, 5,907, decapitation, folkestone, hythe, 20,645, 14,738, harrogate, scotland-born, re-focused, fifth-fastest, fionnualla, long-course, cobh, agio, britton, currentily, mccambridge, etienne, santry, 6.39, resuming, recapturing, 9.87, 0.02, ato, boldon, conserving, greene, nutrition, diack, lamine, namibian, de-mystify, slovenias, 2:01.52, 6.63m, out-kicked, 14:39.29, 7:41.42, adera, 32.93, miscounted, 7:39.89, 5.05m, 6.46secs, 4.89, 5km, commits, winters, top-level, fazed, ashia, balkom, off-colour, vomiting, 21.07, 6.56, jadel, 21.58, 16.50m, kosenkow, ghent, 37cm, arron, 7.35, 1.76m, gregorios, 13.86m, 21.72, 6.67, nia, zara, 32-strong, dmitriy, bogdanov, ovett, lesters, mcilroys, everest, arnoud, reina, okken, 46.68seconds, half-dead, german-based, mid-march, michalis, costas, dimitrakopoulos, coghlan, bershawn, lashawn, 0.19secs, eamonn, canadas, fayetteville, 7:46.78, 44.66secs, 3:49.78, 1.45secs, merritt, season-leading, 1200m, 44.93, 44.63secs, 7.09secs, brannen, 7:40.53, 7.51secs, 10secs, 49.89secs, 10k, satisfactorily, short-course, ka, salvage, proviso, dehiba, hind, cherkasova, 14.74, five-member, uphold, doping-related, yiannis, papadoyiannakis, testified, kilometre, recently-crowned, outsprinted, assesses, galmier, gunnell, after-, eaa, 20.13secs, 10.04secs, budapest, 4.91m, catherina, spikes, pre-olympic, andys, transpired, mckees, undignified, cathal, 5k, injury-plagued, olympiad, injury-ravaged, lombards, mckiernan, clubman, athletics-loving, candidly, mckee, 21.00, bearer, underachievement, wagging, amazingly, delude, happenings, tongues, 3:39, probem, craggs, cobhwoman, scraped, gamely, unaccountably, musselburgh, dougie, nandrolone, racecourse, half-decent, goon, wondimu, mulugeta, overhauling, gebrselassies, abiyote, 04.69, abate, nip-and-tuck, commentating, gloomier, bouncebackability, hicham, papered, finisher, testosterone/epitestosterone, usadas, rogge, appreciative, hungrier, no-win, well-earned, wide-reaching, repercussions, olympians, 26.2, impulsive, liz, undulating, tick-list, has-been, examines, staten, 12.37, joanna, usatf, 9.85, jesse, 1936, bursts, erasing, record-holder, dredge, commenee, connor, thrower, curling, karate, narcolepsy, flaxseed, korchemy, cheat, wrongfully, sacrifice, innuendoes, greeces, rehearsed, olympics-accredited, motorbike, presumed, hrisanthakis, panagiotis, perakis, haralabos, dimakos, konstantinos, ioannis, eyewitness, karmis, tarnished, stilianos, testers, motorcyle, baldini, tergat, stefano, hailes, jaouad, arch-rival, illustrious, almeria, gharib, grigoris, ioanidis, thanous, margot, spasm, jennings, galan, early-season, tick, pronouncement, daley, emphatically, gnaw, unquestionable, loneliness, wilt, 1.90m, 4:19.11, 8.47secs, tearful, 1.80m, 47.96, 16.76m, 7.91m, 53.45, mcilory, 56.86, 1:48.32, 7.96m, eight-minute, 2:04.45, 46.46, 3:45.87, 4.25m, one-hundreth, londoner, hurdlers, sub-eight, janine, kwayke, 46.45, 8:11.22, 3:48.82, sheffied, aoife, orourke, 7.48, 3:45.86, ailis, mcsweeney, mcneice, 3:46.04, motored, 1.87m, 47.97, 02, 8.06, 4:31.34, lisburns, willowfield, 7.37, gillick, offaly, bogle, 2:06.73, half-a-second, derval, myerscough, 6.43m, 7.58, sothertons, 17.64m, 27-year-olds, 2.16m, 13.77m, 21.01, 49.87, 1:50.87, 9:05.00, thunder, 20.94, 9:05.73, 7.83, allyn, 2.20m, 23.68, taniesha, 13.28m, swain, 5.25m, 23.67, 7.82, scanlon, 15.27m, 3cm, nine-times, willowfields, mclaughlin, pollock, midweek, pacemaker, slovenians, 46.68, sparkassen, mulle, 0.90, ricky, simms, wolfram, teag, 2:17:18, mixed-race, kenyans, mistiming, silvers, abi, okayo, mutola, tumbling, rutto, stanozolol, macey, campell, livened, storming, moroccos, clouded, korzhanenko, fazelas, oyepitan, backleys, discus, cobblestones, annus, warburton, barnet, baddeley, harriers, achike, farah, hounslow, herne, basildon, farnham, mayock, middlesex, cossins, shaftesbury, double-olympic, woodford, preddy, beagles, wessex, southall, crawley, belgrave_harriers, not-so-pressurised, 46-strong, barnsley, aldershot, francique, jamaicas, tariku, 3:35.27, aderes, 20.88, 7.13, pre-european, 6.66m, moroccans, rust, 35.39, 8:14.28, 22.38, alleyne, melissa, 8:41.43, muna, ominously, strode, 33.05, 6.52m, 45.91, centimetre, 4x400m, samaria, false-start, hennigar, agnes, melanie, pace-making, 52.98, warm-weather, abdomen, lanzarote, pressurised, leukaemia, website.he, tsunami.steve, tanni, 15-and-a-half, pascoe, redgrave, hospices, bak, justyna, heringsdorf, tosin, fedorova, sharpen, 4x200m, rund, kallur, olga, botched, persson, 22-event, 6.62, 5.65m, oke, 15.80m, 6.39secs, djhone, recurrence, holm, adrift, 16.87m, 51cm, verdecchia, 7.23secs, morpeth, asi, 6.2km, lasp, baddeleys, 9.2km, gebremariam, berhanu, gebre, dejene, kipchoge, 5000m, eliud, 9km, damen, tromans, inter-countries, glynn, reebok, bute, six-kilometre, internacional, gelete, banos, monteiro, 31:41, 10.6km, 10,500m, 30.26, dinkessa, 6.6km, abebe, venta, 33.22, burka, ines, dope, spearate, reponse, vassilli, prejudge, vassilis, refered, substantiated, zornotza, edinburghinternational, 51st, romped, five-second, 22secs, amorebieta, masais, timbilil, ultra-consistent, tulu, caledonian, tulus, derartu, dorival, vivancos, 7.63secs, 7.62secs, haitis, cagigal, 7.60secs, 7.64secs, 0.04secs, kronberg, 12km, 8km, wollaton, vima, childish, hundredth, mbe, baton, coby, pre-race, illston, admissibility, balcos, evidentiary, twice-daily, tightens, unaided, jamies, crutches, 50k, toes, korzeniowski, pelvis, centigrade, cortisone, pelvic, ambulance, pool-work, mater, matter-of-fact, limerick, needles, acupuncture, cryotherapy, nitrogen, rods, mcevoy, vertebrae, thinking:ok, spala, broadening, heartbreaking, 91kg, 86.9kg, yobo, osman, idolised, carsley, plessis, pistone, kilbane, quinton, hibbert, hesitated, outpaced, naysmith, heintze, jeers, centre-halves, overreacted, butting, headbutt, headbutted, centre-half, detrimental, five-year-deal, scotland-england, accommodated, de-motivating, substitutions, tardelli, methat, hossam, overreact, shalaby, shehata, exerted, presss, midos, pharaohs, inject, nevilles, side-footing, marshalled, monotony, tepid, pin-point, 47,111, bradley, laboured, kiki, willian, jole, ferreira, 78,000, irishmans, djimi, nunezs, ferreriras, mins, pellegrino, hush, rock-solid, quickest-ever, drogbas, 79th-minute, 112, dangerously, 110th, pidgeley, lips, powerfully-struck, sidefooting, well-organised, hushing, 69th, hierro, jussi, haim, 50,430, jaidi, giannakopoulos, snap-shot, jay-jay, okocha, dyers, striding, carrs, re-taken, te, campo, ngotty, boumsong, 10-game, frustrate, fadiga, cynically, wanderers, jaaskelainen, nemeth, charltons, queudrue, southgate, konchesky, jeffers, riggotts, reiziger, queudrues, kishishev, hreidarssons, mopped, kiely, hreidarsson, 74th, southgates, hermann, bartletts, szilard, capitulate, riggott, karkouri, euell, parnaby, joseph-desire, doriva, 29,603, dodds, robsons, whelans, heikkinen, perfectly-weighted, 8,661, archibald, quarter-of-an-hour, prodded, mcnaughton, brebner, esson, byrnes, cute, grady, 0-5, nervy, malone, floundering, gilhaney, half-an-hour, bollan, rout, mensing, busier, glanced, flare-up, balmer, harty, stephane, 8,200, arbuckle, loop, hartley, neilson, freeland, moilanen, 9,796, cesnauskis, livi, dair, meldrum, burchill, centre-circle, berra, wyness, bahoken, ferenc, easton, horvath, vincze, skimmed, stanic, meldrums, goran, kizys, lilley, gabor, outjumped, mcpake, deloumeaux, lothian, meersseman, arjens, chiropractor, untried, tillen, deputised, keenan, hudell, cudicinis, mokoena, dacourt, metatarsal, algemeen, dagblad, fractures, romas, wavering, out-of-favour, jauregi, dragan, mladenovics, 20-strong, mladenovic, benefactor, traditionalist, multi-millions, shiniwatra, modern-day, ajar, stack, underscore, 60,000-seat, kop, dodged, hawkpoint, veil, re-shaped, warding, â£120m, counterproductive, erikssons, sven-goran, reduces, espanyol, torres, athletico, equalise, ronaldino, barcas, bees, 12-13, upson, ledley, makeshift, summoned, pre-conditions, k3, tannadice, reprieve, mcintyres, leverkusen, drags, mandic, tendinitis, carrington, get-together, 25-man, moldova, sardinia, respectability, koumas, under-21s, tranmere, ricketts, gabbidon, earnshaw, coyne, bluebirds, gabbidons, hams, delaney, motherwell, inver, physique, larnes, mccarthys, mcgeough, ifa, ejection, mccreadie, newry, portadown, kerrs, 54th, basel, 10-match, penultimate, fai, haifa, partizani, masudi, agoye, tirana, sakhnin, murambadoro, albanias, etchi, hapoel, bnei, congos, esperance, miresmaeili, hashemian, maccabi, vahid, $125,000, head-butting, punctuated, intimidate, mikael, barwick, escalated, 9.3, chap, kezmans, 42,093, lethargic, ricochets, enliven, accidently, 150th, likelier, drab, giordano, frisk, cate, rijkaard, fewest, deco, line-ups, fourth-choice, garry, edelman, heerenveen, stretcher, boavista, confidently, mccurry, dispossesed, 11-game, latch, ricksen, rab, sotiris, lovenkrands, waterreus, buffel, kyrgiakos, namouchi, foxed, vignals, 18-yard, 90th, saulius, dallass, barged, wrestling, heartss, 10-games, cautions, over-zealousness, nixon, cantonas, masks, kung-fu, selhurst, cologne, clemence, ross-van, dorp, michels, knvb, neeskens, rinus, 1965-71, huizinga, pamarot, last-eight, noe, gaffer, santiago, helguera, solari, betis, revelled, doblas, kaka, shootout, serginho, tomasson, rui, talisman, cheekbone, ancelotti, goalscoring, manager-of-the-month, rushs, chesters, aizlewood, berated, impersonated, homesick, dudeks, franca, dimitar, berbatovs, centre-forward, `who, re-sign, nolberto, dejected, peformance, magath, â£16.5m, dutchmans, rankles, cafu, electrician, 32-year-olds, blowing, stam, jaap, cannisters, kampen, honeymoons, fervent, stavanger, steaua, juan, bautista, 54-year-old, darius, season-long, carlton, vassell, alleviated, kennys, bromby, half-chance, kabba, tame, owusu-abeyies, pacy, gearys, warnocks, haystead, geary, 27,595, eboue, tonge, thirlwell, jagielka, tonny, krol, waalwijk, koeman, bruins, falling-out, cop-out, condone, alcock, remonstrating, rofe, canio, seven-match, einhoven, adrianos, gilmar, clandestine, slapped, crossley, taunt, lenient, islero, scapegoat, fas, decorum, bullfighter, manolete, â£2,060, flores, 66-year-old, gaizka, substituted, sportsmans, mendieta, hernia, teessiders, 2115, humility, generoso, holloway, loftus, rossi, rs, 961, commencing, calms, fowlers, 151, ex-reds, money-orientated, beckon, title-winning, soul-searching, diabolical, savoured, triumphs, cheapened, fully-fit, sprain, disposed, mcgreal, moor, cotterills, oster, matteo, spicy, 2000/2001, hotpot, micah, clarets, torquay, deon, sodje, dochertys, millmoor, oakley, eventful, carrot, svensson, saux, craven, solent, frampton, envious, gaal, derby-fulham, 19/20, burnleys, albion, bromwich, highly-experienced, anouncing, neris, candelas, luigi, second-from-bottom, canaries, 81st-minute, top-flight, norwichs, toffees, toon, mini-crisis, ill-feeling, excites, tasting, 49-match, sweetest, shuts, player-swap, mini-tournament, malawi, augusts, botswana, mini-tournaments, double-header, curepipe, baxter, bafana, cash-plus-players, kenton, &#163;8m, â£3m-plus, ormerod, wolverhampton, televising, exeters, arrigo, sacchi, defiantly, sivabaek, alumnia, klinsmann, botafogo, keegans, play-maker, oneills, hassel, departing, juninhos, hassall, fiszman, 55-year-old, hill-wood, rubber-stamps, unearthing, www.arsenal.com, arsenes, stitches, pardew, tempers, re-iterated, £15.8m, drug-testing, read:\"we, stipulates, fifas, mutus, verroken, heinzes, collided, leg-breaker, collision, arch-rivals, three-game, minimise, dinamo, luciano, juve, moggi, fiorentina, complying, scandinavia, instal, stockport/swansea, non-league, third-placed, money-spinner, 8/9, yeading, swindon/notts, crewe, hinckley/brentford, scunthorpe, ryman, stale, germain, arnesens, ideals, forward-thinking, caretaker-boss, midfielders, archie, gama, pel&#233, corinthians, disorganized, copa, paulo, vacate, libertadores, gandula, boca, spearheaded, appalling, s&#227;o, vasco, feint, tranquillity, ballboy, dribble, metropolis, ambushed, palermo, reams, passionately, acquainted, tevez, gandulla, restless, hounded, amadeo, edus, fensao, call-offs, 56-year-old, callow, invective, vitae, dumbarton, magician, adroit, amoruso, jansens, freak, bowen, amorusos, jansen, lorenzo, pilkington, newey, warne, white,mackie, mansfield, mcintosh, corden, mcmahon, artell, carlisles, zakuani, 3,803, orient, haslam, leyton, ibehre, wardley, lockwood, donny, dimech, saah, zambias, chipolopolo, lusakas, zambians, kalusha, overseas-based, negras, portugal-based, bwalya, palancas, chilling, xavi, naivety, ps, bernab&#233;u, coachs, witch-hunt, yourselves, galacticos, multi-culturalism, vargas, marchena, beams, loco, garrido, casillas, marcas, united-arsenal, balague, volvi&#243, lauding, guillem, montenegros, booing, ugliness, miscreants, nappies, sniffing, matchwinner, duffer, run-out, solidifies, priceless, slaughtered, prioritises, hatful, three-against-three, five-four, highly-impressed, calming, ghanaian, nfor, makaji, bortey, 89th, xaba, cameroons, ngom, cloete, 35th, douala, garoua, sable, cameroonians, accra, kemadjou, cotonsport, kumasi, 27-28, agyemang, batie, kotoko, boukar, nzame, thokozani, curbishley, jonatan, henrik, cis, mcclarens, 128-year, boudewijn, one-sided, depor, deportivo, jorge, andrades, coruna, irureta, dinning, ldv, chorley, mckoy, leroy, makofo, 3,367, pacquette, lita, orr, ntimban-zeh, tapp, amankwaah, anyinsah, herve, 30-yard, puncheon, oyedele, mcindoe, pitman, beardsley, mcindoes, coppinger, warrington, parkes, morley, priet, mawson, 1,375, tierney, stansfield, rigoglioso, fenton, mkandawire, purdie, 105, molineux, 1100, workrate, vigo, celta, kanu, seaman, recharged, joses, perreira, barren, top-four, hamburg, hitzlsperger, hitzlspergers, three-and-a-half-year, free-kicks, hackett, neale, tremble, ex-england, amibition, glenns, mandaric, lowe, masterminding, missiles, refrained, millwalls, paphitis, perimeter, ejected, reprimanded, aggressors, diatribe, peacemakers, ferguson-wenger, paragons, proudest, revel, thank-you, werder, bremen, wonder-strike, internazionale, well-beaten, under-achievement, djemba-djemba, devine, baying, hiley, volleying, afful, devines, jeannin, grecians, goalline, flack, ampadu, gaia, jeannins, messed, 89, 9,033, sensed, shortstop, prolific, foudy, fawcetts, back-burner, 276, nomar, garciaparra, sar, schwarzer, parmas, edwin, frey, hairy, shot-stopper, rosenborgs, fulhams, top-of-the, gmr, einstein, kevins, assistant-manager, albacete, guti, kahveci, gara, eta, separatist, basque, nihat, sniffer, ser, subtitute, unruffled, 38,153, matthieu, nicked, knockback, frustratingly, aplomb, sidefooted, quickly-taken, penal, faregas, jinked, brilliance, pobreza, socieded, astiazaran, goalposts, partido, fiesta, zidanes, confirned, non-offending, ceremonial, 9.15, aftenposten, slavishly, outfield, dubliner, eastlands, dishevelled, mantel, arch, 0227, thorp, lorimer, firefighting, hand-over, cheques, krasner, yvonne, dea, 73-year-old, â£103m, dug-out, kilmarnock, novos, wardle, psg, apologises, â£62m, mistakenly, bosman, cools, laurels, lomana, deflects, boiled, bust-up, feign, villareal, partizan, villarreal, fh, hafnarfjordur, hallfredsson, primed, u21, left-sided, emil, rouxs, auxerre, olof, olearys, mellberg, three-and-a-half, amibitions, bruces, challenge.\"earlier, one-to-one, jesper, toni, â£1.4m, gronkjaer, munoz, propostition, djibril, ferencvaros, robertsons, threadbare, out-of-contract, basle, match-winner, persies, flutter, bergkamps, vieiras, reflexes, bergers, aiyegbeni, punch, 20,170, scraps, linvoy, teased, patrik, garcias, sami, deservedly, slide-rule, mellor, titus, snuffed, 10-man, 43,856, brambles, shay, nzogbia, florent, sinama, givens, mellors, bookable, kluiverts, ameobis, sinama-pongolle, pongolle, jermaine, everythings, fipro, zurichs, sepp, marta, prinz, blatter, bowing, scupper, sav, epitomises, freshen, sevilla, sanchez, parente, respecter, prising, valenciana, awkward, hristo, bulgarias, stoichkov, petrovs, acrobatically, salvaged, exert, shaka, harried, pompeys, icelandic, cheslea, geremi, zajecs, 20,210, robbens, swerving, wrong-footed, south-coast, reopens, â£2.25m, anderlecht, alex_ferguson, utds, goal-kick, pedros, mutv, centimetres, trainings, excelled, socket, woodman, constantly-changing, immaculate, cente, savours, beziers, african-born, liebeneberg, clamours, tinkers, rehearse, cuff, puzzled, sweeter, ruthless, stared, mayerholfer, elloway, kiole, fanolua, sigley, isaacson, garvey, walder, curnier, mayerhofler, scorch, grindal, cornwell, balding, narraway, 27-27, popped, parling, walders, scythed, seti, 27-22, eustace, 22-20, priscott, staniforth, paice, mapletoft, madejski, unchallenged, flankers, horak, gustard, everitt, 43rd, purdy, nordt, stimpson, 19-33, danaher, hatley, penney, strudwick, skivington, hardwick, howarth, callam, eight-week, godman, euan, marcoussis, granclaude, semi-professional, assessor, fly-half-cum-centre, athleticism, playmaker, outwardly, unforgiving, set-to, 83-10, 30-man, tryscorers, oxymoron, wtih, stutter, 17-28, percentages, glides, fancied, whisker, undaunted, crossbar, weighty, collar, orqueras, pieter, abbotts, magne, fit-again, lievremont, tabacco, debrief, bloodied, footwork, majestic, choked, out-muscled, inury, beforehand, problematical, rucking, bruises, simplifying, advocated, blindside, try-scorer, neath-swansea, half-break, 28-8, foiled, searing, commanding, 8-0, hard-earned, presentable, patersons, stray, southwells, jutge, craigs, scuttle, scoreboard, bereft, burrow, reasserted, well-worked, 32-16, red-hot, aided, tough-scrummaging, reckoned, resurgent, try-scorers, vickerys, wrus, sparingly, paseo, anoeta, sociedads, euskarians, 12,667, realms, landers, horner, northamptons, enclosure, probyn, 1600, uninspired, under-pressure, milkman, toulouses, all-french, highly-rated, sternest, leaderless, rawlinson, bracken, vickerman, vaikona, randell, gerber, popham, mcmullen, bartholomeusz, broster, raiwalui, rigney, chesney, schofield, fortey, horsman, vaili, wigglesworth, sixways, windo, bozzi, macleod-, coutts, redpath, collier, roddam, lund, caillet, rasmussen, pieters, martens, anglesea, trueman, gillies, under-perform, mathew, demoted, rubbished, sella, stuttered, devoid, under-fire, englishman, campese, ex-wallaby, thick, predicament, whingeing, fringes, mounts, castigated, berates, disallowing, poms, odriscoll/gregan, star-studded, jacque, nz, paces, withdrawals, aus, tana, guinazu, maling, cobus, ollie, quicker-than-expected, shanklins, sidolis, three-quarter, loose-forward, beckons, must-win, mindset, mefins, one-dimensional, uncharacteristic, ridiculously, front-row, thinker, drip, antibiotics, rawaqa, caucaunibuca, reihana, macqueens, free-flowing, luscombes, robins, injury-depleted, standout, guscott, disallow, landsdowne, rfu, reintroduced, inquest, ex-international, assertiveness, requisite, full-backs, breakdowns, 22-cap, licking, 18-year, rueing, montpellier, padova, agen, bollesan, laquilla, treviso, viadana, catt, clashing, four-match, medial, macfadyen, verification, alasdair, macleod, strokosch, yore, downsized, whitewashed, puffed, centrally-controlled, decreed, 10-week, salient, whisper, hog, irfu, freshness, huffed, oche, crown-winning, foresight, overworked, crumpled, gloat, mullens, cousins, physiotherapist, irritable, sonnys, pughs, 12-9, bulls, iestyn, millward, cunninghams, cross-code, 1994-96, kel, coslett, 13-man, club-versus-country, rehab, saint-andre, simpson-daniels, brunos, re-opened, cherry, tackle-count, scrummaging, go-forward, well-recognised, yapps, burn-out, invigorate, pectoral, signings, departures, back-five, 2001/2, llanellis, hodges, gallacher, eldon, gnoll, under-18, howley, amalgamated, simmering, strings, waging, mackays, sru, acrimony, finlay, wager, ym, 37-32, boks, immaculately, sorrow, manged, under-19, finsihed, hutchinson, armagh, tragedies, 35-17, coleraines, huey, beileve, energy-sapping, strutted, duel, londonderry, blomefontein, galway-based, anybodys, unhelpful, flounders, begrudge, ebb, mauls, revered, teak, rucks, captaining, inconsistency, ensue, shoots, capitulation, proclaimed, reassess, coax, bemoaning, richly, sown, dismantling, five/six, demolition, blooming, sharpens, humbling, amor, gollings, schalks, jonty, giteau, fleming, lucio, aussies, 51-15, 1430, 1815, schoolboy, kiwi, maori, 1963-4, revell, 37-33, whinnerays, eyton, death-bed, nil, 1928, centenary, 22-3, inauspiciously, rees-jones, quittenton, swatted, brisbane, twenty-two, 6-6, clem, uzzell, 13-12, mckechnie, 15-0, non-cap, exclaimed, 23-3, 43-17, 1903, 1893, pakiha, haka, blemish, instigating, 53-37, johannesburg, churlishly, 1870, empathy, enlightened, bedell-sivright, 12-3, munro, warbrick, 9-3, 11-3, despatched, undefeated, 1905, christ, 49-6, 1921, laughter, 23-11, 12-10, 1924-5, psyche, ethos, 1888, 34-9, 42-7, 52-3, 2-3-2, 8-8, james-inspired, cardiffs, demolished, 19-0, 12-7, reflecion, two-all, 19-16, carwyn, ex-pat, invincibles, 3-4-1, beatings, 54-9, kiwis, quick-thinking, tanner, duly, 55-3, anglo-welsh, maoris, pickering, caveats, two-month, re-match, 817, recuperating, 117th, 1871, 125,508, tokumasu, jrfu, strongholds, co-host, molloy, hkrfu, pools, buffers, pragmatist, splashed, crowning, rubbed, irreplaceable, manor, agreeable, saluted, buckland/cockerill, 31-31, johnson/b, ginsberg, gisbergens, tuilagi, tuiliagi, rabeni, vesty, 31-37, pounded, scrums, biljon, causeway, bemand, relinquish, shimange, horgans, 48th, poached, willemse, ankle-tap, slotting, tap-penalty, backline, 52nd, honiss, britz, aj, rossouw, toit/j, 63rd, venter, paulse, preez, geordan, joubert, three-to-one, stung, transgression, 61st, botha, 17-12, westhuyzen, linde, claassens, alec, emerick, billups, timoteo, sherman, waasdorp, hobson, gouws, schubert, lakomskis, sheehan, tuipulotu, chomping, surgener, osentowski, 83-3, 39-31, klerck, sika, donnacha, 65th, petruzzella, viljoen, mounga, kort, connacht, mccormack, omitted, connachts, kieran, ragged, out-played, federico, fortuitous, longo, contepomi, unstructured, thump, 45th, well-drilled, turnovers, munsterman, indiscipline, upper-body, pumas, rugged, aramburu, out-thought, appleford, sudden-death, horstman, 26-21, 33-15, tuidriva, bainivalu, bowl, marika, nanuku, vakacegu, kai, 17-5, thirlby, neumi, australian-dominated, nonu, holah, bergh, marty, 19-47, curtail, weepu, thanking, laulala, piri, vacated, coasted, keino, baa-baas, dwyer, cowan, mentoring, jermoe, maa, fifth-minute, 56-man, flatman, berths, unavailability, substitution, roques, haughton, monye, rennick, longwell, glimmer, maxwell, mcentee, pattison, hore, trickling, calum, steinmetz, morale-boosting, berthinussen, parr, doak, feather, millar, fightback, morton, mccullough, macrae, 20-6, netherdale, sixth-minute, warnock, venting, christchurch, woodwards, springs, compounded, cheetham, ramsay, haematoma, bicep, full-contact, shelf-life, cozzas, negate, half-back, welford, 17-17, wasps-leicester, aftewards, walshe, rowell, rejoins, brownsword, dipo, ultimatum, alli, 26-year-olds, dwarfs, mikes, tindalls, nail-biting, tribal, battering, mesmerising, overdrive, two-try, 18-15, innate, shackles, emulating, 33-5, principality, scarred, unstuck, underrated, second-, knowsley, joynt, rfl, niggly, sonny, sculthorpes, seans, sculthorpe, unknowns, deserting, ellery, itd, bolt, motivating, relished, ado, spikey, savouring, nonchantly, fumble, prospered, all-enveloping, silver-booted, sin-bin, glided, din, craved, toying, shuddering, snatching, howitzer, up-ended, nervelessly, personified, salvo, taits, repelled, self-assurance, freshly, gelled, north-south, sydneys, sanzar, aru, jpr, tenterhooks, scalps, phalanx, heady, savour, emerald, nearly-men, celts, dawns, bleus, legions, romantics, blossoming, ignominy, half-effort, haranguing, well-conceived, much-improved, second-row, scooping, gobbled, knuckles, belly-up, cosh, mcdowell, eclipses, blazers, cordon, nfl-style, disintegrating, back-foot, tacklers, odriscolls, ghosts, shortlived, face-saving, white-shirted, supercharged, upfield, jerseys, banished, fourth-minute, break-out, bisected, indiscretion, blustery, numerically, kirwans, shaved, wriggled, pendulum, outmuscled, lamonts, thrusts, wilting, over-confident, game-breakers, try-scoring, self-destruct, 92-cap, adaptibility, 50-44, starters, one-season, 6in, lock-cum-flanker, ultimitely, scoreless, unerring, industrious, yann, nibbled, straying, 17-18, scrum-halfs, booted, engendered, dispense, longer-range, marconnets, botch, delaigues, 10-3, betray, jonnys, goal-kicker, goal-kickers, week-out, golfers, natural-born, week-in, retirements, fairway, 8-38, precaution, precautionary, tbc, 2340, west-country, dwell, reffed, scavenger, rusedskis, serve-and-volley, 6-5, disgust, kiefer, chicken, pox, jan-michael, gambill, dispatched, collegiate, downed, dancevic, fifteen-year-old, unduly, volandri, eliminated, outlasting, calleri, sixth-seeded, puerta, acapulco, marches, mantilla, improbable, novak, montanes, agustin, plaisir, sheffield-born, mulhouse, right-hander, hitters, europe/africa, delgado, 264th, rain-interrupted, erlich, harel, run-ins, eclipse, youngest-ever, becker, okun, blisters, nasdaq-100, beatable, cross-court, vincis, volleys, roberta, magdaleena, vinci, baltacha, three-set, marlene, weingartner, thaliand, antwerp, willems, yetunde, romp, german-born, inexperience, dismantles, 27th, vaidisova, abigail, cricketers, mandula, sania, vaidyanathan, 1-6,4-6, nirupama, petra, accosiation, tarpishchev, kuznetsovas, fabrication, shamil, countrymen, 407th, quaking, euro-africa, likeliest, yugoslavian-born, 187th-ranked, gargantuan, murrays, gregs, self-confidence, strolled, swings, wobble, 158th, short-priced, unicefs, four-times, us$25,000, â£28,000, us$40,000, scrichapan, acasuso, 113th, 30th, 95th, karina, kucera, habsudova, daniela, prevails, â£115,000, rackets, organizers, slams, motivates, outclass, 3/7, glimpses, injury-free, rigours, supplements, contaminated, contamination-free, higdon, hardcourts, navratilova, leander, tobys, horn, paes, 52-week-a-year, workouts, ltas, crowther, keothavong, unearth, instilling, jimmys, sportswoman, 200%, 10-16, therell, clay-court, clinches, deceptively, darn, medalist, outclassed, dissatisfaction, bryans, robredo, open-era, swiss-german, tasty, lakers, mauresmos, routed, cramping, frazier, eighth-seeded, flavia, zuluaga, golovin, bjorkman, pennetta, switzerlands, bronchitis, third-ranked, fabiola, daniilidou, magdalena, eleni, camille, frenchwoman, gimelstob, kindlmann, hyuung-taik, garcia-lopez, phau, luczak, ancic, second-set, jarkko, nieminen, exhausting, wrapping, 8-10, outlasted, sfx, re-hire, benhabiles, tarik, 121, goldfine, sun-sentinel, floridas, exuberant, nailbiting, tiring, on-court, two-set, stoked, 9-15, koubek, rodicks, four-set, conqueror, 7-3, energised, gutful, modifications, lleytons, thatll, davenports, lapse, lunging, folded, fatigued, 6/8, dinked, double-faults, 40-15, loops, down-the-line, crosscourt, double-break, slam-dunk, 4-4, ferociously, hangover, leaden-footed, retrieving, outplays, deuce, shot-making, roused, gee, half-volley, unreturnable, 30-0, 15-40, buts, lunge, 8/6, chases, groundstrokes, line-call, nadals, 40-30, acclimatise, straight-talker, usta, 52-year-olds, nuts, moulded, herald-sun, lendl, cahill, rafter, newcombe, all-important, all-russian, gonzaelz, federers, sw19, kuerten, limp, nicoals, conquering, long-recognised, henin-hardennes, belgians, berdych, 31-year-olds, let-down, adductor, five-setter, repetitive, krajicek, meghann, baccanello, slovaks, michaella, shaughnessy, wessels, ruffled, jaslyn, sidesteps, unwavering, srebotnik, katarina, czink, 32nd, ivanovic, serbias, canberra, straight-sets, melinda, round.said, sveta, groenefeld, anna-lena, stepanek, synthetic, radek, soderlings, soderling, rib-cage, chaunac, karlovic, dane, top-seeded, lobs, 88th, zib, unimpressed, malisse, 0-40, delray, aces, almagro, zabaleta, forehands, saretta, rain-affected, flavio, clipped, alyona, 134, bondarenko, nervously, see-saw, erupted, backsliding, rumors, akaev, prelude, inked, kyrgyz, pro-government, dries, ifes, panacea, lamp, inking, ultraviolet, his/her, indelible, mikosz, metaphor, cuticle, ills, glow, sprayed, radioactive, askar, neon, immoral, elementary, 224, 12,575, unleashing, incubating, modernity, cellars, story-based, remnants, bricked, â£21, langlands, expressionist, planners, coudenberg, technologists, outside-in, urban-based, on-the-street, tara, senne, altruistic, vein, abstract, non-government, self-sustainable, coordinate, telecentre, huaral.org, 50-family, inaugurated, huaral, inhabitants, cepes, perus, chancay-huaral, telecentres, 2kw, cuyo, saldarriaga, mini-hydraulic, revolutionalised, diamound, emenating, surprisngly, anyhting, outreach, amazon.com, autolinks, carfax, citizen-based, fronter, isbn, autolink, directs, proxies, hypergrowth, coppin, tivo-type, 150%, envisional, scratches, encrypted, 1080, *, aadc, â£1,500, roaring, lossless, degradation, terabyte-size, 35mm, 2048, 2k, 9276, cords, 028, preventative, xboxes, focal, radicals, 7.1, month-old, blogsphere, cyber-dissidents, templating, dedicate, mums, non-for-profit, georgeta, re-using, re-used, landfill, minciu, unrecycled, re-use, reconditioned, ported, microprocessor, krewell, firefoxs, 96%, mid-2004, fruits, gatherers, ie7, roofs, permissions, pipes, teleservices, 1.25gbps, foggy, chennai-based, lightpointe, tatas, 1-2mbps, sridharan, neverwinter, bioware, edmonton, biowares, mall, shauna, alberta, efficacy, armoury, ciphertrust, filtered, two-three, deluge, brightmail, flung, della, telemetric, passages, piero, painter, linus, wielded, kapor, philpott, freely-available, torvalds, software...of, wmds, copyrights, co-existed, corroborated, licenses, re-submit, abstain, reboot, setbacks, token, passcode, 2048-bit, indemnify, activcard, scammer, e-business, activcards, beal, e-banking, ascertain, token-based, pda, dogging, shopaholics, by3g, 77%, sixty, wsis, community-based, easy-to-understand, comb, waarschuwingsdienst, non-technically, niscc, khamenei, internet-users, ayatollah, khomenei, ruhollah, weblogger, counter-revolutionaries, mullahs, persian, farda, motjaba, us-funded, gilan, clamped, dissuade, sigarchis, infringe, lokitorrents, lokitorrent, scrambling, decss, ripper, circumvents, best-designed, minimixa, compositions, stagework, sseyo, fashionista, newsround, sequencer, omap-vox, newly-designed, rasor, 30-frame-a-second, meat-and-potatoes, marketers, 19.9, equations, algorithmic, encarta, indexes, reigns, encyclopaedia, equalisers, maracas, ph-s6500, golfing, subway, motion-control, sports-leisure, instrument, motion-sensitive, people-watching, calorie, pantech, v603sh, afficiandos, 2k5, preambles, unparalleled, oodles, america&#191;s, nhl, disliking, quench, monopolise, art-form, rankled, ooze, similar-yet-hugely-different, hockey-wise, front-end, die-hard, nfl, indignation, arcade-like, excellent-value, espns, honed, identifiable, espn, massive-money, shading, thirsts, dizzyingly-extensive, bongo, konga, byplanes, singstar, hitman, plusnet, 40mbps, â£9.4, unsophisticated, â£1.04m, jerrys, 7,600, satirist, gullivers, filo, uncouth, capitalists, sequoia, xerox, franciscos, initiator, jef, gui, raskin, hertzfeld, pancreatic, raskins, intervoice, so-and-sos, nineteen, non-smartphone, 34-year-olds, noone, 94%, tuners, 20gb, 160gb, -top, telewests, dixons, satisfies, useable, lateral, collaboratively, futurelab, edutainment, liverpool-based, classrooms, eschewed, visions, edu-tainment, transplanted, habitat, outputs, epa, vampires, ripmobile, rechargers, chromium, already-established, $125.73, drawer, heine, eco, e-waste, â£68, weee, epas, fanara, cybercrime, cybercriminals, logon, configured, hi-jacked, cranfield, nobles, openzone, cash-on-delivery, radar, makower, panlogic, net-using, cachet, 137, familiarity, seaboard, c-span, blinkx.tv, caption, captioning, webcasts, rosenberg, strihavka, cash-rich, trojans, marek, malware, stowell, crank, kos, aggregators, attributable, well-educated, 58%, instapundit, avid, net-savvy, coding, cull, hasson, tiga, kingsley, business-like, pictochat, eight-player, ubisofts, touch-screen, satoru, $2.6bn, iwata, additionally, kart, artgarden, tateson, rellie, keywords, whistler, acute, reconstructed, metadata, tendering, expunged, drafts, workshare, amended, add-in, risque, currie, ayers, self-regulation, lengths, chefs, conduits, ispa, norm, super-regulator, hicksdesign, londonist, greenfairydotcom, flickr, gothamist, meme, plasticbag, bloggies, replicating, best-kept-secret, boing, gawker, wonkette, nikolai, bicycle, cinemanow, movie-swappers, wav, movielink, deleterious, glickman, bruviks, napster.no, napster.com, bruvik, unauthorized, lillehammer, tono, abetting, premeditated, 056, larribeau, ubiquity, single-function, poach, multi-megapixel, bluephone, niel, inescapable, consumer-focused, sparse, frontieres, medecins, aid-related, homepages, modifying, acclimate, monde, exponential, linguist, wikinews.com, abtahi, eye-witness, chomsky, movabletype, discourse, paxs, nachison, one-to-many, god-game, lionhead, god-games, skateboarding, fad, dungeon, bullfrog, computerised, molyneux, ambitous, surreys, quirksville, matsuura, discontinue, skirt, anti-blogging, layovers, dayton, pelletier, thrives, blueprints, transfers, atomic, iaea, livio, $11m, smuggled, visualisation, haystack, costantini, gupta, pooling, blogged, ramdhan, kotamaraja, yadav, trawlers, funnel, dina, smses, palpable, snapshots, descriptions, heretic, rohit, one-stop-shop, hemin, panda, pandas, sichuan, state-of-the-art, globio, bamboo, 802.11b, vets, biodiversity, wolong, invasiveness, jf, sendmail, stata, lookout, heck, spreadsheets, keyword-based, toolbars, rittweger, pronounced, cosiness, nokia-sponsored, podcaster, shack, playboy, assortment, kaye, wisconsin, gadgetry, junkies, anti-radio, xml, countdown, canons, vaio, w1, novatech, swivel, innovator, eos, inventing, leds, ra-104, clie, 300d, pcg-x505/p, ux50, evo, hawks, gt4, gran, lma, acid, turismo, ridge, in-between, nm2s, nm2, slushier, peakes, bare, action-fest, stringing, stollenmayer, storylines, illuminations, 7.5m, wyver, reassembled, re-engineered, gormenghast, engagers, lego, parkinson, expressions, restructuing, mid-october, 268, frescos, 2d3, backpack, head-mounted, augmented-reality, augmented, union-funded, make-over, taverns, computer-augmented, pompeii, archaeological, interprets, lifeplus, magnenat-thalman, miralab, dramatisations, emoticon, bst, 0530, 0630, bagle.au, bagle.bb, bagle.at, rebuilds, re-emerged, starfox, supt, camberley, certificates, ringleaders, trafficked, tyukanov, anatoly, shadowcrew.com, proprietary, commodities, darkprofits, newark, deats, twenty-eight, companions, imitating, dautenhahn, robotiquette, kerstin, human-robot, studys, cogniron, pointer, pass-the-parcel, demonstrator, welchia, os/2, europay, hirsch, tightly-knit, atms, mastercard, un-named, towergroup, thiemann, slammer, spontaneously, stanzel, ebbs, inundated, militarys, prompts, boingboing, bush-cheney, edgescape, decipher, whalley, activate, revenue-generating, decryption, freebies, dormant, ingenuity, wastes, quotient, motifs, snazzy, jedis, doubtless, backdrops, endor, tatooine, at-ats, symphonies, skirmishes, wookie, blockbusting, speeder, trilogies, re-spawning, waypoints, mayhem, ewoks, non, one-trick-pony, hoth, geonosis, galaxys, bog-standard, much-maligned, gunfights, back-to-basics, above-average, fired-up, triples, 6.23, envisage, brutality, framed, venturas, lends, avenge, loquacious, action-packed, entirety, pad, fierro, gangland, detract, magnificence, ambience, on-screen, freeway, haircuts, stumbles, pile-up, driv3r, flaunting, barnstorming, bread-and-butter, carefree, deeds, stomps, thinly-disguised, more-of-the-same, preppy, behold, off-the-chart, swathes, wit, sunsets, stupendous, odious, crime-shaped, fiddly, in-vehicle, jokey, patrons, plus-points, lowlifes, pro-censorship, commandeer, revisiting, push-bike, anchored, crooked, gags, inflame, hijacking, grungy, non-geographical, give-away, entitles, 0870, underrepresented, keyboards, superconducting, over-promise, traits, pervasively, dti-funded, nanotechnologies, transformative, contexts, hinton, multidisciplinary, cures, firebird, incarnations, net-browsing, browsed, banded, windows-, charted, 94.7%, amaya, garner, pre-launch, november/early, texture, distracts, errera, cultivated, essay-length, bungie, screenshots, fansite, schlock, titbit, enormously-high, remembrance, attained, ringworld, troopers, nivens, remarking, starship, playability, dolby, halo.bungie.org, horde, co-manages, one-one-one, 3-5, 10-13, comers, bloodline, jolt.co.uk, counter-strike, wride, excel, 16-28, strohmaier, top500, erich, co-founders, unreliable, cache, tablets, self-organizing, far-flung, retrieval, unfolded, senanayakes, sanjaya, saffo, michelangelo, rampersad, web-page, senanayake, purification, mobs, centralise, techies, kettle, preset, jeremiah, avatar, jeremiahs, stimulus, childlike, bowden, orwellian, embodiment, downstairs, bathroom, cm5, mind-games, faithfully, eidos, bonnet, cm, margate, ever-improving, si, manageable, fm2005, 2,755, swappers, rockstars, livelihood, britneys, riaa, vice-versa, anti-competition, mason, slattery, musicmatch, anti-trust, wma, gellhorn, unlawfully, realplayer, artifice, hitwise, repressive, dictionaries, slant, hyperlinks, wield, merriam-webster, looked-up, merriam-websters, derive, 0.0051%, 85130, auld, jongleurs, syne, nearest, goodpub, 133m, lang, unfeasible, 3500+, irk, landscapes, unkempt, distinctly, corpses, haunting, tantalising, radeon, meticulously, half-lifes, immerses, lifelike, top-notch, exhilarating, rashly, cut-scenes, attention-to-detail, hesitating, underplaying, unfeasibly, herded, crowbar, prodding, x800, resorting, hl2, skirmish, thrill-ride, annoying, life-draining, troublespot, sympathise, interrupt, sledgehammer, interacted, mid-task, mingle, clobbers, infuriating, monster-infested, hurling, freedom-fighting, highly-anticipated, foreboding, carefully-scripted, zombies-leaping-out-of-shadows, nightmarish, blinding, alienware, exposition, unrelenting, free-ranging, atis, step-by-step, uruguayan-born, vices, bush/kerry, frontiers, frasca, iowa, forefathers, multi-discipline, astonished, joysticks, gamepads, newsgaming.com, cambiemos, bubbling, virtues, inhabit, mitts, killzone, inanimate, paves, pervaded, conductive, infiltrates, part-human, sleepwalk, cyborgian, part-inorganic, stain-resistant, neuroscientist, passer-by, molecular, nano-, biocidal, surfacing, antibacterial, nanotechnology, biology, fuses, fabric, sewn, electrically, dressings, arrogantly, anti-odour, formulate, ambient, nanoscale, micro-engineering, sleeves, bolted, pass&#233, quaintly, lenses, shark, nanoparticles, tio2, underworld, databases, unshredded, overdraft, plugging, convoluted, cratchits, securewave, transit, cahoot, auditing, jakob, glamorous, realarcade, pervades, hi-spec, games-on-demand, over-50, females, â£30, big-hitting, easy-to-play, graber, poker, sports-based, puzzle-based, teraflop, rochester, tailor-made, simulators, proactive, minnesota, 36.01, simulations, 5th, nasas, genome, gene/ls, petaflop, hotseat, risqu&#233, skeletal, chassis, stills, fy500, emphasises, arling, audiophile, 3,420, fiends, circular, camcorder, â£133, seagate, design-conscious, surround-sound, â£425, leboff, geeky, $799, galore, â£211, discreetly, uei, p7131, unplug, mpios, $399, slung, vpc-c4, fashion-conscious, 7.2gb, mpeg4, sanyos, 2.5gb, nevo, nevosl, pendant, buses, hanau, romen, bus-stops, smart-card, hanaus, ticketless, timetables, 3220, rooster, belinda, darlings, intermission, 836m, â£7.36m, dual-purpose, reproduction, compromises, mid-2000, 10.6m, fossil-hunting, laughably, fossils, flakier, half-term, superfast, full-screen, abundantly, sohu.com, purged, sina.com, subversive, censoring, diatribes, entitlement, catastrophically, interconnectedness, evidently, excused, godels, back-office, legionnaires, theorem, â£139, innocently, artificially-inflated, pay-outs, interventions, profiteering, zonealarm, scammed, hotline, dialling, â£320, 40-odd, it-literate, dwight, phoning, galls, rogue-dialling, avg, subjecting, terabytes, pollmann, spamcop, high-bandwidth, day-by-day, spamming, malte, middleman, good-practice, cliques, e-democracy, e-government, non-market, ippr, decentralised, ebay-type, pre-legislation, ipprs, publicly-recognised, mailing, wheelock, $336m, under-25s, in-stat/mdr, echoes, in-stat/mdrs, bypass, 44.9, $26m, steam-type, valves, cluttered, lombardi, fahey, niels, 7.4%, amsterdam-based, mozillas, â£133,000, 95.5%, randle, 88.9%, softwares, brinkman, onestat.com, mozilla, 7.60, masquerading, 7610, wallpaper, tee-222, non-working, shareware, sporadic, 7610.extended.theme.manager.zip, 7610s, arima, benq, maxs, p800, mini-tv, pleasantly, horoscopes, cut-down, eyesight, expensively, music/video, decompress, micro-tv, mp3g, prof_reddy, intermittency, pctvts, designate, powerpoint, telemedicine, pctvt, insect, rambathla, $2,000, hatched, personalized, prassana, postulating, choke, foolproof, cycles, molecules, intractable, wcg, proteome, wgc, not-for-profit, seti@home, gallin, elain, analyze, specializing, untapped, rockscape, hartog, dots, 6m, tno, 2.5m, 196, computer-controlled, stitching, 360-degree, composite, gigapixel, canyon, constructed, white-tail, off-range, silhouette, mouflon, taxidermy, remote-control, $5.95, 133-hectare, statutes, roam, unregulated, 20-minute, underwood, barbary, live-shot, remote-controlled, antelope, blackbuck, corsican, double-platinum, 37.9%, 1.75, tie-ins, fondness, â£1.34bn, broadened, follow-ups, eyetoy, â£4.50, brindley, mainline, lynne, 86%, piazza, librarys, 2km, stening, strangle-hold, renting, multi-occupancy, broadbands, kilobit, wifi, â£39.99, oftel, bundling, desks, allocate, rages, bedfellows, condemn, yagan, onetel, captive, filesharing, oxygen, flushed, ontrack, weirdest, reformat, careless, rescuing, lavatory, malfunctioning, corrupted, aarhus, dominican, photojournal, buzznet, paedophiles, telegraaf, schoonen, reichhold, telegraafs, moblog, stiftstidende, snappers, omaha, â£171, non-permanent, tattooed, 666, $322, penetrated, scours, poisoned, viral, dole, finjan, combs, bofra, propagating, irony, weblinks, progam, behavioural, 1000, suranga, informally, promiscuous, bookmarks, chandratillake, spamming-type, vigilante, anti-spammer, skirting, response-time, centralised, pastimes, jolna, diapers, hanlon, 26-inch, humaxs, 100-hours, tivotogo, 80-hour, starcom, talked-about, stacey, scheduler, directtv, mediavest, tv-watching, hume, a-la-carte, 273, cyber-criminals, messagelabs, sunner, harvest, scattergun, persistence, middlemen, bellicose, empress, commences, unsatisfying, scenery, onimusha, slicing, lopping, then-groundbreaking, sequence, all-consuming, third-person, slaying, beasts, pirouette, anti-climax, fiendish, sultry, intro, energetic, somersault, time-travelling, ramps, preposterously, disservice, leaping, purposefully, fountains, hinges, haphazard, dahaka, merit-free, super-athletic, meticulously-animated, floppies, hoarding, e-mailing, squirreling, hoarded, 1,000,000,000, hoarders, multi-media, functionalities, obese, bytes, toshibas, prioritising, subscription-based, sandvines, schroth, sandvine, fourfold, yankee, spoils, live-play, reserving, bandwidth-hungry, single-player, clarion, morin, pma430, music-only, windows-based, super-cool, crohas, tivos, av400, non-professional, pocket-sized, pmc-100, keyobs, sudans, candillon, einar, clothe, laminate, bjorgo, voigt, riverbeds, interpreting, rainy, encapsulate, sertit, wadis, impeded, unosat, strolling, cocoon, dismounting, 1.35km/h, aichi, pods, i-unit, egg-shaped, ipod-type, avineri, plant-based, vehicular, 2.1, encased, imac, mountable, erel, customized, single-person, gillingwater, human-factors, exoskeletons, i-foot, leaf-like, infirm, four-wheeled, reclining, envelop, 0.83mph, bird-like, autopilot, staircases, minicabs, ir, marson, infra-red, tfl, hypertag, harker, unlicensed, hypertags, cumberbatch, bloodthirsty, enquires, untouched, vacations, enquiries, typed, 40052308090, informaton, serviette, 277, elfs, hard-to-find, purses, fanlo, 18m, â£220, robosapiens, roper, narrowband, 64%, imrg, lingerie, â£104.99, hostway, shopping.com, shopper, 18-35, reg, extracts, oxfords, bodleian, bibliographies, wilkin, wojcicki, leclerc, scholarly, mehdi, shipment, queued, $188, â£78, â£98, 500,000-strong, â£23,000, mobi, fr, quested, flaherty, widescreen, blurry, telly, sharpness, euro1080, eye-blasting, aquarius, 575, tailor, low-priced, smudging, cropping, inks, â£9.99, resistant, â£1.87, 8x10in, epson, r800, inconvenient, 10x7in, 6x4in, silver-halide, millilitre, snappy, 7x5in, tester, role-player, warioware, retooled, cel, high-fantasy, life-eating, adventuring, mutation, ico, soviet-controlled, tecmos, tarkovskys, kojima, wanda, s.t.a.l.k.e.r, ninja, ocarina, hideo, shoot-em-up, oddjob, n64, commendable, crosshair, glued, portly, aura, goldfinger, xenia, umbrage, nightfire, thought-through, rectified, onatopp, enveloping, uninspiring, juices, similarly-titled, commander-in-chief, backfires, masterminds, firefights, evokes, auric, hat-fiend, 2kg, 106,000, 81,000, gainful, car-maker, learns, 130cm, jog, 1.6km/h, asimos, 10cm, 2.5km, amusement, entertainer, spinning, beckoned, pre-packaged, higher-priced, on-board, dual-screen, misappropriated, seven-page, disseminated, beachfront, alternate, shogun, $1.70, entropia, plateau, ped, rpg, peds, â£13,700, $26,500, entopia, mindark, behrmann, ingots, accumulating, deathifier, steals, strips, malign, bsl, guido, gybels, rnid, disenfranchised, textphones, currington, videophones, universally, â£7.00, km/h, petronas, masayuki, 17m, tfc, ascend, ascending, elevators, escalators, whisk, hein, 25.6, skyscraper, shaft, record-holders, discharge, suction, elevator, authoritative, 17m/s, certification, 426m, vibrations, 382m, roux, shimono, tallest, 61km/h, swiftest, taipeis, 38mph, blowers, 508m, double-deckers, whistling, taller, 99.4%, bittorrents, torrents, kujda, blip-pop, gameboyzz_orchestra, poles, malgorzata, jarek, boops, kudja, rudimentary, cacophony, beeps, synthesizer, jareks, improvisational, $200, kraftwerk, defacement, santy, defaced, randomly, 1,440, tailed, phpbb, santys, harmonise, lichtenberg, ignited, osx, sincerest, imitation, synthesised, speegle, panavox, repetition, renton, rnib, flattery, summarise, cec, rip-off, baffled, howell, impairments, ever-popular, 23.5, 32.5, 11.4, 18.6, 15mb, broadband-enabled, tortoise-like, shaving, caveat, 512k, broadbanders, 2mb, soars, 3mb, whetting, bandaid, ever-selling, 2.5g, dulled, warps, bubbles, blinx, best-looking, dollops, daxter, tweaking, purrs, jak, traps, ratchet, clank, fast-forward, feline, intuitive, vcr-style, financials, symptomatic, truer, urs, muscling, yonca, trumpeted, holzle, altavista, unlocking, hotbot, old-timers, outflank, brunini, multiprocessing, amass, union,dismissed, innovating, simultaneous, frees, academia, diversionary, 25,772, insubstantial, 3,248, aboutroughly, leadsnosoftwarepatents.com, filethat, jollans, toprevent, intranet, hotly-contested, linden, gartner,downloaded, usefulness, dobrow, 16.3, jacobsens, impairment, jacobsen, scouring, browses, cellery, leadplex, headings, confer, groundless, freezes, oftexas, pitylak, solicitation, lin, ftc, non-solicited, trotters, payperaction, can-spam, pro-players, continent-hopping, treacy, lucrative-ever, cross-europe, wideband, ieee, licencing, over-emphasises, licence-exempt, cept, ubisense, uwb-using, theriault, uwbs, souped-up, harmonisation, bolz, subtleties, â£1.65bn, â£16bn, lever, autocycle, duck, throttles, gearbox, steering, tt, sequential, disabilities, hewland, tansleys, amputees, motorsport, rainey, impreza, gsi, gearboxes, prejudiced, paraplegic, amputee, racings, pararallying, autosport, changer, quadriplegics, tansley, pedals, amputated, climbs, throttle, lincolnshire, clutches, imprezas, subaru, pro-shift, sidecars, picasa, pixagogo, detects, tantilising, kodaks, bulging, $24bn, snapfish, critique, print-ordering, ofoto, photosig, archivists, tucked, sharpening, snalune, knell, gothika, vod, touchstone, informa, roadshow, â£3.50, video-store, antiques, variations, randex, gaobot, sasser, hop, symantecs, best-ever, sven, anti-phishing, jaschen, co-existing, 500%, mosquito, mass-mailing, fast-spreading, tidy, netsky, criminally-minded, 2.56, collaborators, devoices, start-ups, 8.16, hotbed, bracelet, us$3.3, us$13, wearer, self-funded, undergraduate, near-term, brainwaves, us$10.6, connectedness, iband, energie, gravity, pre-prepared, purushotma, phenomena, make-believe, homework, well-polished, inferences, pronunciation, re-create, purushotmas, simulated, asleep, impart, oppositional, educationalists, drumming, drawbacks, couched, inserting, idefence, pls, m3u, 4.7.1, solves, superficial, stilted, misdirection, camaraderie, auto-saving, suitably, unconvincing, near-identical, gunboat, top-end, cohorts, plot-wise, guadalcanal, disturbingly, underwhelming, irritatingly, bark, perilous, imparting, puzzlement, pre-determined, pacific, hawaii, skilfully, linear, talkative, battleship, anti-aircraft, checkpoints, bombastic, contented, first-person-viewed, tropical, tight-knit, hearty, crewman, muster, tidier, pacific_assault, balked, bravest, hulking, pile-em-high, interchangeable, administer, gammage, hesaid, sell-em-cheap, imovie, entry-level, buildyourown.org.uk, obtain/build, garageband, chop, backing-up, 1.4ghz, eminently, â£469, performance-wise, jal, stylish, basics, 16-inch, dot.life, expandable, cd-writer, ethernet, xp2, sempron, pricey, flat-panel, trouble-shooting, 1.8ghz, firewire, celeron, 2.6ghz, workhorse, audio/headphone, peripheral, upgradeable, jack.the, burner/dvd, cheerful, 3230, wasenius, enhancement, 7710, reidar, radio-enabled, deering, adopters, cross-platform, tuffy, blue-ray, high-detail, 4.6, practicalities, rechargeable, vapour, redesign, additives, cans, bins, compostable, oblige, cylinder, 386, arsenic, redesigning, 10-mile, antique, five-year-old, next-gen, canvas, harness, shaders, filmic, pixel, indistinguishable, leaps, codename, horsepower, kingdom, pandora, preventon, spyware-removal, goosens, particuarly, 13.2%, vigilant, over-60, naively, succeeds, chip-makers, xdr, furiously, psx, jump-start, stab, rambus, hi-fis, instigate, microwave, videogame, 3.8, synergistic, ghz, multicore, kleynhans, meta, 10-times, rohm, am3d, unremarkable, encoder, synthesising, mimic, encoding, stereo-widening, srs, sonaptics, sibbald, sonaptic, montieth, psychoacoustics, multi-speaker, silicon-based, enthusiast, in-car, pre-built, sparrow, 80gb, tuner, cd/dvd, mini-itx, fledged, 05, bobs, home-build, technically-savvy, semel, beauvillain, gmail, overture, froogle, post-dot-com, upstart, weiner, inktomi, $120bn, diversifies, stacked, koogle, refocused, juniper, â£94, freescale, zdnet, wimedia, ofdm, ultra-wideband, multi-band, ravencraft, saumil, nanavati, 7.2mb, cridland, high-data, sydus, groove, â£15.60, apocalypse, punisher, beeks, 1.8gb, rambo, â£10.40, â£5.20, netsurity, scrambles, wi-fis, cracknell, yle, tv-enabled, rainbow-coloured, music-enabled, dorries, telephoto, gabriele, ctia, teaming, 7-megapixel, t-online, reflex, rokr, sch-v770, hangar-like, sphere, hyped, zander, peek, game-making, swipes, custom, soundtracks, personalise, allard, directx, facilitator, over-the-air, thales, home-monitoring, supplemented, rahul, 20mbps, cams, packets, non-licence, enabler, chakkara, joly, bumped, fait, bbcis, seeping, router, tis, simmelink, footprint, templeton, wanadoos, voice-over-packet, vonage, pipe, livebox, abensur, 130, â£130, spearheads, 15mbps, onlines, differentiating, retails, 8mbps, unbundled, shaky, ama, genetic, shakes, montrose, secam, tremor, assistive, anti-tremor, afflict, levine, â£70, messageboard, dod, buffs, victimless, warrants, acquiescent, dowds, brag, extradite, extradition, tresco, investigates, graffiti, faceless, aliases, warez, hew, hellfire, co-leader, 2940, fourteen, townsden, popz, mcnulty, seventy, loudmouth, spelt, eriflleh, risciso, 1911, dods, sankus, invincibility, techno-gang, kartadinata, notoriety, co-defendant, powerpage, kleinberg, unmask, divulging, leakers, snippets, qrio, waist, workmate, trumpet-playing, shinjuku, 4.2ft, human-like, 1.3m, segway, emiew, 3.7m/h, wheel, quickest-moving, horiuchi, wheel-based, emiews, shibuya, resemble, bipedal, hitachis, 137,000, shortest, adsense, irc, peep, honey, ddos, honeynet, remotely-controlled, pots, leveraging, protecttools, locking-down, tpm, optiplex, hardware-based, thinkvantage, module, unlocked, uncontrollable, purchaser, user-level, hp/compaq, obscurantism, password-protected, safeguarded, trusted_computing, â£129, game-playing, crams, â£229, british-backed, 87,000, location-based, suffice, 42in, oudendijk, binks, gfk, hd-ready, hdmi, laven, dvi, rear-projection, tumble, 106cm, dlp, switch-off, sticker, preoccupied, flavours, forty-four, gmipoll, researchs, adsl2+, 18mbps, variables, digitally-savvy, clearswifts, sex-related, 180%, by-pass, misspell, alyn, extinct, sustains, bogus, aspersions, dinosaurs, nienhuis, mirapoint, proliferate, ape, wipeout, queuing, pachter, wedbush, podshow, in-show, $4,000, pied, unobtrusive, madison, winer, referral, over-hyped, in-your-face, 1,000s, 10s, commercialising, music-playing, piper, coffee-loving, bait, diary-like, blooms, aggregation, audioblogs, democratising, scripting, wmp, bedrooms, microcosms, buzzword, buntes, rudolf, pay-for-download, telekom, engerwitzdorf, outgrowth, unbelievably, multi-coloured, fernsehen, aon, cern, knits, ipv4, particle, ipv6, evolves, ietf, protocols, never-ending, glitch, tcp/ip, transistors, shortness, chemistries, evangelist, separators, lithium, parsimonious, recharges, evaporation, ion, ebl, guzzler, trainor, wringing, workgroups, arbor, swarms, brokered, diffuse, hailstorm, netting, end-user, log-in, file-trading, summed, second-guess, conceptually, groksters, shapiro, morpheus, breyer, souter, inducing, tous, bouquets, pay-tv, mpeg-2, sagem, bodinat, thirty-five, tnt, terrestre, gerolami, free-to-air, conseil, laudiovisuel, superieur, mpeg-4, mediametrie, inexpensive, dtt, numerique, muggings, pointsec, mobile-data, retrofone, oslo, 5,800, snatch, hamster, cabs, harp, re-unite, 63,000, palms, norwegians, immune, backup, nordic, frontier, conditional, yeob, negotiates, igels, gambino, chan, lower-, watchable, yeun, $6.6bn, shin-bae, teliasonera, dmb, radioscape, compass, illustrates, froth, useful/popular, remotes, astro, soda, pre-teen, whizzy, fizzy, taser, numbered, continuum, equilibrium, babinet, ecosystems, musiwave, gescher, sarft, jeanne-marie, 1.3bn, 2,900, joint-venture, regulates, state-dominated, 340, ruigang, china-watcher, cga, popstars, hackarmy, kournikova, salacious, singletons, chatting, ica, wlts, twitches, booths, match-making, oxby, flic, wltm, pescatore, seekers, layer, accesses, adult-themes, soul-mate, explicit, â£5.29m, $46m, seoul, self-declared, spammer, richter, maneuvers, optinrealbig, sic, 514, boramae, optinrealbig.com, bypassing, c-cor, limitless, graczyk, tdg, triple-play, unencumbered, instantaneous, price-prohibitive, fingertips, milliseconds, harnessing, ramping, myrio, brightcove, aligned, geographies, allaire, parked, inductance, probable, shoe, sgh-i300, neulling, susanne, zen, hoards, crashes, stereos, one-box, risse, 6230i, umemoto, reseller, rinaldini, brailey, 6230, riccardo, flyers, averaging, photo-realistic, brisbane-based, lessens, alita, seuss, spore, bucking, simulates, maxis, 30-person, frodo, animate, $10-25m, genemation, bennallack, v2.0, higher-quality, organism, endorphin, owain, jaws, krome, in-built, lucid, crumples, gencrowd, oxford-based, baggins, amoeba-sized, gdcs, refunds, modems, dialled, pre-approved, clamp-down, mid-1980s, pilgrimage, one-click, obsess, disregarding, byrons, re-presented, infringing, cross-license, gif, lzw, agonising, apache, harolds, childe, fearsomely, gnu/linux, eolas, tasked, impervious, â£44.54m, yorans, yoran, cybersecurity, amit, abruptly, blogzine, enviroment, cos, attest, evercrack, 5am, rpgs, tinkerer, mushroom, relasing, long-winded, ultima, consumed, sadder, marginalised, obsessives, obsessive, vacuum, adrenaline, frag, succesfull, bladder, irretrievably, marrage, mirage, mmorpg, longing, sword, galaxies, trifling, restlessness, impair, heart-rending, 15+, widows, 5:pm, counsellor, â£800, sorround, mmoprgs, hobble, infinite, reccomend, willpower, hrs, unhealthily, adiction, stanton-davies, quests, open-endedness, toast, person&#191;s, huddersfield, 7:30am, bothers, 3am, lol, shifts...waking, hayot, ummm, hehe, scare-mongering, restarted, unproductive, 24hours, playing..or, sanity, escapism, evermore, 2pm, everquest, eq, alot, ogres, addict, addictiveness, upto, ahhhh, definately\n"
     ]
    }
   ],
   "source": [
    "stopset = stopset.union(set(hapax))\n",
    "print(\"Also removing document-level hapaxes:\")\n",
    "print(\", \".join(hapax))"
   ]
  },
  {
   "cell_type": "code",
   "execution_count": 21,
   "metadata": {
    "ExecuteTime": {
     "end_time": "2020-06-23T02:44:49.401548Z",
     "start_time": "2020-06-23T02:44:49.040529Z"
    }
   },
   "outputs": [
    {
     "name": "stdout",
     "output_type": "stream",
     "text": [
      "Also removing NLTK English stopwords\n",
      "i, me, my, myself, we, our, ours, ourselves, you, you're, you've, you'll, you'd, your, yours, yourself, yourselves, he, him, his, himself, she, she's, her, hers, herself, it, it's, its, itself, they, them, their, theirs, themselves, what, which, who, whom, this, that, that'll, these, those, am, is, are, was, were, be, been, being, have, has, had, having, do, does, did, doing, a, an, the, and, but, if, or, because, as, until, while, of, at, by, for, with, about, against, between, into, through, during, before, after, above, below, to, from, up, down, in, out, on, off, over, under, again, further, then, once, here, there, when, where, why, how, all, any, both, each, few, more, most, other, some, such, no, nor, not, only, own, same, so, than, too, very, s, t, can, will, just, don, don't, should, should've, now, d, ll, m, o, re, ve, y, ain, aren, aren't, couldn, couldn't, didn, didn't, doesn, doesn't, hadn, hadn't, hasn, hasn't, haven, haven't, isn, isn't, ma, mightn, mightn't, mustn, mustn't, needn, needn't, shan, shan't, shouldn, shouldn't, wasn, wasn't, weren, weren't, won, won't, wouldn, wouldn't\n"
     ]
    }
   ],
   "source": [
    "import nltk.corpus\n",
    "\n",
    "nltk_stopwords = nltk.corpus.stopwords.words(\"english\")\n",
    "stopset = stopset.union(nltk_stopwords)\n",
    "print(\"Also removing NLTK English stopwords\")\n",
    "print(\", \".join(nltk_stopwords))"
   ]
  },
  {
   "cell_type": "code",
   "execution_count": 22,
   "metadata": {
    "ExecuteTime": {
     "end_time": "2020-06-23T02:44:49.410529Z",
     "start_time": "2020-06-23T02:44:49.405529Z"
    }
   },
   "outputs": [],
   "source": [
    "def second_tokenise(tokens, stopset):\n",
    "    new_tokens = []\n",
    "    for token in tokens:\n",
    "        if token in stopset or re.match(\"^[^a-z]+$\", token) or len(token) <= 1:\n",
    "            continue\n",
    "        new_tokens.append(token)\n",
    "\n",
    "    return new_tokens"
   ]
  },
  {
   "cell_type": "code",
   "execution_count": 23,
   "metadata": {
    "ExecuteTime": {
     "end_time": "2020-06-23T02:44:50.042528Z",
     "start_time": "2020-06-23T02:44:49.413571Z"
    }
   },
   "outputs": [],
   "source": [
    "final_docs = []\n",
    "for phrased_doc in phrased_docs:\n",
    "    final_docs.append(\n",
    "        phrased_doc._replace(tokens=second_tokenise(phrased_doc.tokens, stopset))\n",
    "    )"
   ]
  },
  {
   "cell_type": "code",
   "execution_count": 24,
   "metadata": {
    "ExecuteTime": {
     "end_time": "2020-06-23T02:44:50.086529Z",
     "start_time": "2020-06-23T02:44:50.044533Z"
    }
   },
   "outputs": [
    {
     "data": {
      "application/vnd.jupyter.widget-view+json": {
       "model_id": "403bb72d227c49818a88ff17b87a99a9",
       "version_major": 2,
       "version_minor": 0
      },
      "text/plain": [
       "interactive(children=(IntSlider(value=0, description='doc_id', max=2224), Output()), _dom_classes=('widget-int…"
      ]
     },
     "metadata": {},
     "output_type": "display_data"
    },
    {
     "data": {
      "text/plain": [
       "<function __main__.show_final_doc(doc_id=0)>"
      ]
     },
     "execution_count": 24,
     "metadata": {},
     "output_type": "execute_result"
    }
   ],
   "source": [
    "def show_final_doc(doc_id=0):\n",
    "    print(final_docs[doc_id].metadata)\n",
    "    print()\n",
    "    print(\" \".join(final_docs[doc_id].tokens))\n",
    "\n",
    "\n",
    "widgets.interact(show_final_doc, doc_id=(0, len(final_docs) - 1))"
   ]
  },
  {
   "cell_type": "code",
   "execution_count": 25,
   "metadata": {
    "ExecuteTime": {
     "end_time": "2020-06-23T02:44:50.120546Z",
     "start_time": "2020-06-23T02:44:50.088532Z"
    }
   },
   "outputs": [],
   "source": [
    "# Simple deduplication\n",
    "seen_docs = set()\n",
    "deduped_docs = []\n",
    "for doc in final_docs:\n",
    "    # Cast the document tokens as a tuple so that we can use it as a deduplicating hash\n",
    "    doc_hash = tuple(doc.tokens)\n",
    "    if doc_hash in seen_docs:\n",
    "        # print(f\"Duplicate document: {doc[0]['filename']}\")\n",
    "        pass\n",
    "    else:\n",
    "        seen_docs.add(doc_hash)\n",
    "        deduped_docs.append(doc)"
   ]
  },
  {
   "cell_type": "markdown",
   "metadata": {},
   "source": [
    "Save to Ignis Corpus\n",
    "----"
   ]
  },
  {
   "cell_type": "code",
   "execution_count": 26,
   "metadata": {
    "ExecuteTime": {
     "end_time": "2020-06-23T02:44:51.249532Z",
     "start_time": "2020-06-23T02:44:50.123539Z"
    }
   },
   "outputs": [],
   "source": [
    "import ignis"
   ]
  },
  {
   "cell_type": "code",
   "execution_count": 27,
   "metadata": {
    "ExecuteTime": {
     "end_time": "2020-06-23T02:44:52.620530Z",
     "start_time": "2020-06-23T02:44:51.251530Z"
    }
   },
   "outputs": [],
   "source": [
    "corpus = ignis.Corpus()\n",
    "\n",
    "for doc in deduped_docs:\n",
    "    corpus.add_doc(**doc._asdict())\n",
    "corpus.save(\"bbc-stopwords.corpus\")"
   ]
  },
  {
   "cell_type": "code",
   "execution_count": 28,
   "metadata": {
    "ExecuteTime": {
     "end_time": "2020-06-23T02:44:53.348530Z",
     "start_time": "2020-06-23T02:44:52.622540Z"
    }
   },
   "outputs": [],
   "source": [
    "# And make sure it loads without errors as well.\n",
    "corpus = ignis.load_corpus(\"bbc-stopwords.corpus\")"
   ]
  },
  {
   "cell_type": "code",
   "execution_count": 29,
   "metadata": {
    "ExecuteTime": {
     "end_time": "2020-06-23T02:44:53.394533Z",
     "start_time": "2020-06-23T02:44:53.351530Z"
    },
    "scrolled": false
   },
   "outputs": [
    {
     "data": {
      "application/vnd.jupyter.widget-view+json": {
       "model_id": "a0b0cd62466d4fbb930f7d2a9f61578b",
       "version_major": 2,
       "version_minor": 0
      },
      "text/plain": [
       "interactive(children=(IntSlider(value=0, description='index', max=2117), Output()), _dom_classes=('widget-inte…"
      ]
     },
     "metadata": {},
     "output_type": "display_data"
    },
    {
     "data": {
      "text/plain": [
       "<function __main__.show_corpus_doc(index=0)>"
      ]
     },
     "execution_count": 29,
     "metadata": {},
     "output_type": "execute_result"
    }
   ],
   "source": [
    "corpus_doc_ids = list(corpus.documents.keys())\n",
    "\n",
    "\n",
    "def show_corpus_doc(index=0):\n",
    "    doc = corpus.documents[corpus_doc_ids[index]]\n",
    "    print(doc.metadata)\n",
    "    print()\n",
    "    print(\"-\" * 10)\n",
    "    print()\n",
    "    print(doc.human_readable)\n",
    "    print()\n",
    "    print(\"-\" * 10)\n",
    "    print()\n",
    "    print(\" \".join(doc.tokens))\n",
    "\n",
    "\n",
    "widgets.interact(show_corpus_doc, index=(0, len(corpus_doc_ids) - 1))"
   ]
  },
  {
   "cell_type": "code",
   "execution_count": null,
   "metadata": {},
   "outputs": [],
   "source": []
  }
 ],
 "metadata": {
  "kernelspec": {
   "display_name": "Python 3",
   "language": "python",
   "name": "python3"
  },
  "language_info": {
   "codemirror_mode": {
    "name": "ipython",
    "version": 3
   },
   "file_extension": ".py",
   "mimetype": "text/x-python",
   "name": "python",
   "nbconvert_exporter": "python",
   "pygments_lexer": "ipython3",
   "version": "3.7.6"
  },
  "widgets": {
   "application/vnd.jupyter.widget-state+json": {
    "state": {
     "0176bce07868479ba1260626d7e96ae2": {
      "model_module": "@jupyter-widgets/controls",
      "model_module_version": "1.5.0",
      "model_name": "SliderStyleModel",
      "state": {
       "description_width": ""
      }
     },
     "0c6041bc44c44b2793dab67ad5b0794b": {
      "model_module": "@jupyter-widgets/base",
      "model_module_version": "1.2.0",
      "model_name": "LayoutModel",
      "state": {}
     },
     "0f6858aff9a6418893b5db2b75af667d": {
      "model_module": "@jupyter-widgets/base",
      "model_module_version": "1.2.0",
      "model_name": "LayoutModel",
      "state": {}
     },
     "13eb7efb1d294d8390b86540aaaeeb07": {
      "model_module": "@jupyter-widgets/base",
      "model_module_version": "1.2.0",
      "model_name": "LayoutModel",
      "state": {}
     },
     "1f898984afc444e49b13dc17023418de": {
      "model_module": "@jupyter-widgets/base",
      "model_module_version": "1.2.0",
      "model_name": "LayoutModel",
      "state": {}
     },
     "23c2e3055cdd4b0fb5ade54f47417ae4": {
      "model_module": "@jupyter-widgets/controls",
      "model_module_version": "1.5.0",
      "model_name": "VBoxModel",
      "state": {
       "_dom_classes": [
        "widget-interact"
       ],
       "children": [
        "IPY_MODEL_9636b5d65c6c45df80d319d5ae4775a8",
        "IPY_MODEL_963c8fb4d7e24e14b38a4ef5f44001e5"
       ],
       "layout": "IPY_MODEL_b5cc154c0da84a9b95e463fe55e0d966"
      }
     },
     "2e381aa08f0f498f97bdc2a2aae009da": {
      "model_module": "@jupyter-widgets/controls",
      "model_module_version": "1.5.0",
      "model_name": "VBoxModel",
      "state": {
       "_dom_classes": [
        "widget-interact"
       ],
       "children": [
        "IPY_MODEL_3a292d4848e340bbb03efcb44b4c5546",
        "IPY_MODEL_5259f03c2a4f4730902ea770b0867c84"
       ],
       "layout": "IPY_MODEL_0c6041bc44c44b2793dab67ad5b0794b"
      }
     },
     "300ddb0791ce4396893229818dff50e8": {
      "model_module": "@jupyter-widgets/output",
      "model_module_version": "1.0.0",
      "model_name": "OutputModel",
      "state": {
       "layout": "IPY_MODEL_510ec16b4b0c460395beef57d1b19385",
       "outputs": [
        {
         "name": "stdout",
         "output_type": "stream",
         "text": "{'filename': 'data/bbc/business/001.txt'}\n\nAd sales boost Time Warner profit\n\nQuarterly profits at US media giant TimeWarner jumped 76% to $1.13bn (Â£600m) for the three months to December, from $639m year-earlier.\n\nThe firm, which is now one of the biggest investors in Google, benefited from sales of high-speed internet connections and higher advert sales. TimeWarner said fourth quarter sales rose 2% to $11.1bn from $10.9bn. Its profits were buoyed by one-off gains which offset a profit dip at Warner Bros, and less users for AOL.\n\nTime Warner said on Friday that it now owns 8% of search-engine Google. But its own internet business, AOL, had has mixed fortunes. It lost 464,000 subscribers in the fourth quarter profits were lower than in the preceding three quarters. However, the company said AOL's underlying profit before exceptional items rose 8% on the back of stronger internet advertising revenues. It hopes to increase subscribers by offering the online service free to TimeWarner internet customers and will try to sign up AOL's existing customers for high-speed broadband. TimeWarner also has to restate 2000 and 2003 results following a probe by the US Securities Exchange Commission (SEC), which is close to concluding.\n\nTime Warner's fourth quarter profits were slightly better than analysts' expectations. But its film division saw profits slump 27% to $284m, helped by box-office flops Alexander and Catwoman, a sharp contrast to year-earlier, when the third and final film in the Lord of the Rings trilogy boosted results. For the full-year, TimeWarner posted a profit of $3.36bn, up 27% from its 2003 performance, while revenues grew 6.4% to $42.09bn. \"Our financial performance was strong, meeting or exceeding all of our full-year objectives and greatly enhancing our flexibility,\" chairman and chief executive Richard Parsons said. For 2005, TimeWarner is projecting operating earnings growth of around 5%, and also expects higher revenue and wider profit margins.\n\nTimeWarner is to restate its accounts as part of efforts to resolve an inquiry into AOL by US market regulators. It has already offered to pay $300m to settle charges, in a deal that is under review by the SEC. The company said it was unable to estimate the amount it needed to set aside for legal reserves, which it previously set at $500m. It intends to adjust the way it accounts for a deal with German music publisher Bertelsmann's purchase of a stake in AOL Europe, which it had reported as advertising revenue. It will now book the sale of its stake in AOL Europe as a loss on the value of that stake.\n\n"
        }
       ]
      }
     },
     "363d527b513e4ffab5f46f0a9cc2737b": {
      "model_module": "@jupyter-widgets/base",
      "model_module_version": "1.2.0",
      "model_name": "LayoutModel",
      "state": {}
     },
     "3a292d4848e340bbb03efcb44b4c5546": {
      "model_module": "@jupyter-widgets/controls",
      "model_module_version": "1.5.0",
      "model_name": "IntSliderModel",
      "state": {
       "description": "doc_id",
       "layout": "IPY_MODEL_9ed5f929f05949ca81047f3a84ae1e84",
       "max": 2224,
       "style": "IPY_MODEL_5c718fb3a6c54077b79a5a284570c0e0"
      }
     },
     "4a3ed32352254eeebe3368a117a9a382": {
      "model_module": "@jupyter-widgets/controls",
      "model_module_version": "1.5.0",
      "model_name": "SliderStyleModel",
      "state": {
       "description_width": ""
      }
     },
     "4df391293247441dba818e14d38af8ea": {
      "model_module": "@jupyter-widgets/base",
      "model_module_version": "1.2.0",
      "model_name": "LayoutModel",
      "state": {}
     },
     "510ec16b4b0c460395beef57d1b19385": {
      "model_module": "@jupyter-widgets/base",
      "model_module_version": "1.2.0",
      "model_name": "LayoutModel",
      "state": {}
     },
     "5259f03c2a4f4730902ea770b0867c84": {
      "model_module": "@jupyter-widgets/output",
      "model_module_version": "1.0.0",
      "model_name": "OutputModel",
      "state": {
       "layout": "IPY_MODEL_1f898984afc444e49b13dc17023418de",
       "outputs": [
        {
         "name": "stdout",
         "output_type": "stream",
         "text": "{'filename': 'data/bbc/business/001.txt'}\n\nad sales boost time warner profit quarterly profits at us media giant timewarner jumped to $1.13bn â£600m for the three months to december from $639m year-earlier the firm which is now one of the biggest investors in google benefited from sales of high-speed internet connections and higher advert sales timewarner said fourth quarter sales rose to $11.1bn from $10.9bn its profits were buoyed by one-off gains which offset profit dip at warner bros and less users for aol time warner said on friday that it now owns of search-engine google but its own internet business aol had has mixed fortunes it lost subscribers in the fourth quarter profits were lower than in the preceding three quarters however the company said aols underlying profit before exceptional items rose on the back of stronger internet advertising revenues it hopes to increase subscribers by offering the online service free to timewarner internet customers and will try to sign up aols existing customers for high-speed broadband timewarner also has to restate and results following probe by the us securities exchange commission sec which is close to concluding time warners fourth quarter profits were slightly better than analysts expectations but its film division saw profits slump to $284m helped by box-office flops alexander and catwoman sharp contrast to year-earlier when the third and final film in the lord_of_the_rings trilogy boosted results for the full-year timewarner posted profit of $3.36bn up from its performance while revenues grew to $42.09bn our financial performance was strong meeting or exceeding all of our full-year objectives and greatly enhancing our flexibility chairman and chief_executive richard parsons said for timewarner is projecting operating earnings growth of around and also expects higher revenue and wider profit margins timewarner is to restate its accounts as part of efforts to resolve an inquiry into aol by us market regulators it has already offered to pay $300m to settle charges in deal that is under review by the sec the company said it was unable to estimate the amount it needed to set aside for legal reserves which it previously set at $500m it intends to adjust the way it accounts for deal with german music publisher bertelsmanns purchase of stake in aol europe which it had reported as advertising revenue it will now book the sale of its stake in aol europe as loss on the value of that stake\n"
        }
       ]
      }
     },
     "596c9f0a5ee54976b5c305733046eb20": {
      "model_module": "@jupyter-widgets/controls",
      "model_module_version": "1.5.0",
      "model_name": "VBoxModel",
      "state": {
       "_dom_classes": [
        "widget-interact"
       ],
       "children": [
        "IPY_MODEL_72c64a752960491d904da0ddbdf4798b",
        "IPY_MODEL_972d09b6a6024423a6de54b5f13114a5"
       ],
       "layout": "IPY_MODEL_c8473dedaa18462dbd9ed2df63cffc33"
      }
     },
     "5c718fb3a6c54077b79a5a284570c0e0": {
      "model_module": "@jupyter-widgets/controls",
      "model_module_version": "1.5.0",
      "model_name": "SliderStyleModel",
      "state": {
       "description_width": ""
      }
     },
     "6e2d7a2b5ae14a82bc6493af5230b988": {
      "model_module": "@jupyter-widgets/base",
      "model_module_version": "1.2.0",
      "model_name": "LayoutModel",
      "state": {}
     },
     "72c64a752960491d904da0ddbdf4798b": {
      "model_module": "@jupyter-widgets/controls",
      "model_module_version": "1.5.0",
      "model_name": "IntSliderModel",
      "state": {
       "description": "doc_id",
       "layout": "IPY_MODEL_4df391293247441dba818e14d38af8ea",
       "max": 2224,
       "style": "IPY_MODEL_4a3ed32352254eeebe3368a117a9a382"
      }
     },
     "9636b5d65c6c45df80d319d5ae4775a8": {
      "model_module": "@jupyter-widgets/controls",
      "model_module_version": "1.5.0",
      "model_name": "IntSliderModel",
      "state": {
       "description": "doc_id",
       "layout": "IPY_MODEL_13eb7efb1d294d8390b86540aaaeeb07",
       "max": 2224,
       "style": "IPY_MODEL_0176bce07868479ba1260626d7e96ae2"
      }
     },
     "963c8fb4d7e24e14b38a4ef5f44001e5": {
      "model_module": "@jupyter-widgets/output",
      "model_module_version": "1.0.0",
      "model_name": "OutputModel",
      "state": {
       "layout": "IPY_MODEL_c7609d692cbd4e8e967cb8cbd2357b69",
       "outputs": [
        {
         "name": "stdout",
         "output_type": "stream",
         "text": "{'filename': 'data/bbc/business/001.txt'}\n\nad sales boost time warner profit quarterly profits at us media giant timewarner jumped 76% to $1.13bn â£600m for the three months to december from $639m year-earlier the firm which is now one of the biggest investors in google benefited from sales of high-speed internet connections and higher advert sales timewarner said fourth quarter sales rose 2% to $11.1bn from $10.9bn its profits were buoyed by one-off gains which offset a profit dip at warner bros and less users for aol time warner said on friday that it now owns 8% of search-engine google but its own internet business aol had has mixed fortunes it lost 464,000 subscribers in the fourth quarter profits were lower than in the preceding three quarters however the company said aols underlying profit before exceptional items rose 8% on the back of stronger internet advertising revenues it hopes to increase subscribers by offering the online service free to timewarner internet customers and will try to sign up aols existing customers for high-speed broadband timewarner also has to restate 2000 and 2003 results following a probe by the us securities exchange commission sec which is close to concluding time warners fourth quarter profits were slightly better than analysts expectations but its film division saw profits slump 27% to $284m helped by box-office flops alexander and catwoman a sharp contrast to year-earlier when the third and final film in the lord_of_the_rings trilogy boosted results for the full-year timewarner posted a profit of $3.36bn up 27% from its 2003 performance while revenues grew 6.4% to $42.09bn our financial performance was strong meeting or exceeding all of our full-year objectives and greatly enhancing our flexibility chairman and chief_executive richard parsons said for 2005 timewarner is projecting operating earnings growth of around 5% and also expects higher revenue and wider profit margins timewarner is to restate its accounts as part of efforts to resolve an inquiry into aol by us market regulators it has already offered to pay $300m to settle charges in a deal that is under review by the sec the company said it was unable to estimate the amount it needed to set aside for legal reserves which it previously set at $500m it intends to adjust the way it accounts for a deal with german music publisher bertelsmanns purchase of a stake in aol europe which it had reported as advertising revenue it will now book the sale of its stake in aol europe as a loss on the value of that stake\n"
        }
       ]
      }
     },
     "972d09b6a6024423a6de54b5f13114a5": {
      "model_module": "@jupyter-widgets/output",
      "model_module_version": "1.0.0",
      "model_name": "OutputModel",
      "state": {
       "layout": "IPY_MODEL_6e2d7a2b5ae14a82bc6493af5230b988",
       "outputs": [
        {
         "name": "stdout",
         "output_type": "stream",
         "text": "{'filename': 'data/bbc/business/001.txt'}\n\nad sales boost time warner profit quarterly profits at us media giant timewarner jumped 76% to $1.13bn â£600m for the three months to december from $639m year-earlier the firm which is now one of the biggest investors in google benefited from sales of high-speed internet connections and higher advert sales timewarner said fourth quarter sales rose 2% to $11.1bn from $10.9bn its profits were buoyed by one-off gains which offset a profit dip at warner bros and less users for aol time warner said on friday that it now owns 8% of search-engine google but its own internet business aol had has mixed fortunes it lost 464,000 subscribers in the fourth quarter profits were lower than in the preceding three quarters however the company said aols underlying profit before exceptional items rose 8% on the back of stronger internet advertising revenues it hopes to increase subscribers by offering the online service free to timewarner internet customers and will try to sign up aols existing customers for high-speed broadband timewarner also has to restate 2000 and 2003 results following a probe by the us securities exchange commission sec which is close to concluding time warners fourth quarter profits were slightly better than analysts expectations but its film division saw profits slump 27% to $284m helped by box-office flops alexander and catwoman a sharp contrast to year-earlier when the third and final film in the lord of the rings trilogy boosted results for the full-year timewarner posted a profit of $3.36bn up 27% from its 2003 performance while revenues grew 6.4% to $42.09bn our financial performance was strong meeting or exceeding all of our full-year objectives and greatly enhancing our flexibility chairman and chief executive richard parsons said for 2005 timewarner is projecting operating earnings growth of around 5% and also expects higher revenue and wider profit margins timewarner is to restate its accounts as part of efforts to resolve an inquiry into aol by us market regulators it has already offered to pay $300m to settle charges in a deal that is under review by the sec the company said it was unable to estimate the amount it needed to set aside for legal reserves which it previously set at $500m it intends to adjust the way it accounts for a deal with german music publisher bertelsmanns purchase of a stake in aol europe which it had reported as advertising revenue it will now book the sale of its stake in aol europe as a loss on the value of that stake\n"
        }
       ]
      }
     },
     "9ed5f929f05949ca81047f3a84ae1e84": {
      "model_module": "@jupyter-widgets/base",
      "model_module_version": "1.2.0",
      "model_name": "LayoutModel",
      "state": {}
     },
     "b5cc154c0da84a9b95e463fe55e0d966": {
      "model_module": "@jupyter-widgets/base",
      "model_module_version": "1.2.0",
      "model_name": "LayoutModel",
      "state": {}
     },
     "bc3c0ab7399b4b16b5d34f7b6307998b": {
      "model_module": "@jupyter-widgets/controls",
      "model_module_version": "1.5.0",
      "model_name": "VBoxModel",
      "state": {
       "_dom_classes": [
        "widget-interact"
       ],
       "children": [
        "IPY_MODEL_e4e663e13b1c4bb4a38edf7e816b4937",
        "IPY_MODEL_300ddb0791ce4396893229818dff50e8"
       ],
       "layout": "IPY_MODEL_363d527b513e4ffab5f46f0a9cc2737b"
      }
     },
     "c5cdae633e8d419f8e138445d94e8bbc": {
      "model_module": "@jupyter-widgets/controls",
      "model_module_version": "1.5.0",
      "model_name": "SliderStyleModel",
      "state": {
       "description_width": ""
      }
     },
     "c7609d692cbd4e8e967cb8cbd2357b69": {
      "model_module": "@jupyter-widgets/base",
      "model_module_version": "1.2.0",
      "model_name": "LayoutModel",
      "state": {}
     },
     "c8473dedaa18462dbd9ed2df63cffc33": {
      "model_module": "@jupyter-widgets/base",
      "model_module_version": "1.2.0",
      "model_name": "LayoutModel",
      "state": {}
     },
     "e4e663e13b1c4bb4a38edf7e816b4937": {
      "model_module": "@jupyter-widgets/controls",
      "model_module_version": "1.5.0",
      "model_name": "IntSliderModel",
      "state": {
       "description": "doc_id",
       "layout": "IPY_MODEL_0f6858aff9a6418893b5db2b75af667d",
       "max": 2224,
       "style": "IPY_MODEL_c5cdae633e8d419f8e138445d94e8bbc"
      }
     }
    },
    "version_major": 2,
    "version_minor": 0
   }
  }
 },
 "nbformat": 4,
 "nbformat_minor": 4
}
