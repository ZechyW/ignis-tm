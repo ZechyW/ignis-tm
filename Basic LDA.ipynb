{
 "cells": [
  {
   "cell_type": "markdown",
   "metadata": {},
   "source": [
    "Basic Text Pre-processing and Topic Modelling\n",
    "======"
   ]
  },
  {
   "cell_type": "code",
   "execution_count": 9,
   "metadata": {
    "ExecuteTime": {
     "end_time": "2020-05-22T07:47:05.654103Z",
     "start_time": "2020-05-22T07:47:04.053536Z"
    }
   },
   "outputs": [],
   "source": [
    "import gensim\n",
    "import glob\n",
    "import math\n",
    "import nltk\n",
    "import re\n",
    "import string\n",
    "import threading\n",
    "import time\n",
    "import tomotopy as tp\n",
    "import tqdm"
   ]
  },
  {
   "cell_type": "markdown",
   "metadata": {},
   "source": [
    "Data ingestion\n",
    "-----"
   ]
  },
  {
   "cell_type": "code",
   "execution_count": 2,
   "metadata": {
    "ExecuteTime": {
     "end_time": "2020-05-22T07:44:15.766662Z",
     "start_time": "2020-05-22T07:44:15.732662Z"
    }
   },
   "outputs": [],
   "source": [
    "data_files = glob.glob(\"./data/bbc/*/*.txt\")"
   ]
  },
  {
   "cell_type": "code",
   "execution_count": 3,
   "metadata": {
    "ExecuteTime": {
     "end_time": "2020-05-22T07:44:17.076344Z",
     "start_time": "2020-05-22T07:44:16.468106Z"
    },
    "scrolled": false
   },
   "outputs": [
    {
     "name": "stderr",
     "output_type": "stream",
     "text": [
      "100%|██████████| 2225/2225 [00:00<00:00, 3785.91it/s]"
     ]
    },
    {
     "name": "stdout",
     "output_type": "stream",
     "text": [
      "Ad sales boost Time Warner profit\n",
      "\n",
      "Quarterly profits at US media giant TimeWarner jumped 76% to $1.13bn (Â£600m) for the three months to December, from $639m year-earlier.\n",
      "\n",
      "The firm, which is now one of the biggest investors in Google, benefited from sales of high-speed internet connections and higher advert sales. TimeWarner said fourth quarter sales rose 2% to $11.1bn from $10.9bn. Its profits were buoyed by one-off gains which offset a profit dip at Warner Bros, and less users for AOL.\n",
      "\n",
      "Time Warner said on Friday that it now owns 8% of search-engine Google. But its own internet business, AOL, had has mixed fortunes. It lost 464,000 subscribers in the fourth quarter profits were lower than in the preceding three quarters. However, the company said AOL's underlying profit before exceptional items rose 8% on the back of stronger internet advertising revenues. It hopes to increase subscribers by offering the online service free to TimeWarner internet customers and will try to sign up AOL's existing customers for high-speed broadband. TimeWarner also has to restate 2000 and 2003 results following a probe by the US Securities Exchange Commission (SEC), which is close to concluding.\n",
      "\n",
      "Time Warner's fourth quarter profits were slightly better than analysts' expectations. But its film division saw profits slump 27% to $284m, helped by box-office flops Alexander and Catwoman, a sharp contrast to year-earlier, when the third and final film in the Lord of the Rings trilogy boosted results. For the full-year, TimeWarner posted a profit of $3.36bn, up 27% from its 2003 performance, while revenues grew 6.4% to $42.09bn. \"Our financial performance was strong, meeting or exceeding all of our full-year objectives and greatly enhancing our flexibility,\" chairman and chief executive Richard Parsons said. For 2005, TimeWarner is projecting operating earnings growth of around 5%, and also expects higher revenue and wider profit margins.\n",
      "\n",
      "TimeWarner is to restate its accounts as part of efforts to resolve an inquiry into AOL by US market regulators. It has already offered to pay $300m to settle charges, in a deal that is under review by the SEC. The company said it was unable to estimate the amount it needed to set aside for legal reserves, which it previously set at $500m. It intends to adjust the way it accounts for a deal with German music publisher Bertelsmann's purchase of a stake in AOL Europe, which it had reported as advertising revenue. It will now book the sale of its stake in AOL Europe as a loss on the value of that stake.\n",
      "\n"
     ]
    },
    {
     "name": "stderr",
     "output_type": "stream",
     "text": [
      "\n"
     ]
    }
   ],
   "source": [
    "raw_docs = []\n",
    "for file in tqdm.tqdm(data_files):\n",
    "    with open(file) as f:\n",
    "        doc = f.read()\n",
    "        raw_docs.append(doc)\n",
    "\n",
    "print(raw_docs[0])"
   ]
  },
  {
   "cell_type": "markdown",
   "metadata": {},
   "source": [
    "Text pre-processing and tokenisation\n",
    "------"
   ]
  },
  {
   "cell_type": "markdown",
   "metadata": {},
   "source": [
    "- Naive tokenisation (by whitespace)\n",
    "- Strip leading/trailing non-informative punctuation from tokens"
   ]
  },
  {
   "cell_type": "code",
   "execution_count": 4,
   "metadata": {
    "ExecuteTime": {
     "end_time": "2020-05-22T07:44:20.552166Z",
     "start_time": "2020-05-22T07:44:20.395506Z"
    }
   },
   "outputs": [
    {
     "name": "stdout",
     "output_type": "stream",
     "text": [
      "Ad sales boost Time Warner profit Quarterly profits at US media giant TimeWarner jumped 76% to $1.13bn Â£600m for the three months to December from $639m year-earlier The firm which is now one of the biggest investors in Google benefited from sales of high-speed internet connections and higher advert sales TimeWarner said fourth quarter sales rose 2% to $11.1bn from $10.9bn Its profits were buoyed by one-off gains which offset a profit dip at Warner Bros and less users for AOL Time Warner said on Friday that it now owns 8% of search-engine Google But its own internet business AOL had has mixed fortunes It lost 464,000 subscribers in the fourth quarter profits were lower than in the preceding three quarters However the company said AOL's underlying profit before exceptional items rose 8% on the back of stronger internet advertising revenues It hopes to increase subscribers by offering the online service free to TimeWarner internet customers and will try to sign up AOL's existing customers for high-speed broadband TimeWarner also has to restate 2000 and 2003 results following a probe by the US Securities Exchange Commission SEC which is close to concluding Time Warner's fourth quarter profits were slightly better than analysts expectations But its film division saw profits slump 27% to $284m helped by box-office flops Alexander and Catwoman a sharp contrast to year-earlier when the third and final film in the Lord of the Rings trilogy boosted results For the full-year TimeWarner posted a profit of $3.36bn up 27% from its 2003 performance while revenues grew 6.4% to $42.09bn Our financial performance was strong meeting or exceeding all of our full-year objectives and greatly enhancing our flexibility chairman and chief executive Richard Parsons said For 2005 TimeWarner is projecting operating earnings growth of around 5% and also expects higher revenue and wider profit margins TimeWarner is to restate its accounts as part of efforts to resolve an inquiry into AOL by US market regulators It has already offered to pay $300m to settle charges in a deal that is under review by the SEC The company said it was unable to estimate the amount it needed to set aside for legal reserves which it previously set at $500m It intends to adjust the way it accounts for a deal with German music publisher Bertelsmann's purchase of a stake in AOL Europe which it had reported as advertising revenue It will now book the sale of its stake in AOL Europe as a loss on the value of that stake\n"
     ]
    }
   ],
   "source": [
    "remove_punctuation = \"'\\\"()?!,.\"\n",
    "\n",
    "\n",
    "def naive_tokenise(doc):\n",
    "    tokens = doc.split()\n",
    "    tokens = [x.strip(remove_punctuation) for x in tokens]\n",
    "    return tokens\n",
    "\n",
    "\n",
    "docs = [naive_tokenise(doc) for doc in raw_docs]\n",
    "\n",
    "print(\" \".join(docs[0]))"
   ]
  },
  {
   "cell_type": "markdown",
   "metadata": {},
   "source": [
    "Chunk into significant bigrams/trigrams based on collocation frequency\n",
    "- Min count: Must appear in at least 0.1% of the documents\n",
    "- Threshold: Intuitively, higher threshold means fewer phrases\n",
    "- Common terms: These terms will be ignored if they come between normal words. E.g., if `common_terms` includes the word \"of\", then when the phraser sees \"Wheel of Fortune\" it actually evaluates _\"Wheel Fortune\"_ as an n-gram, putting \"of\" back in only at the output level."
   ]
  },
  {
   "cell_type": "code",
   "execution_count": 5,
   "metadata": {
    "ExecuteTime": {
     "end_time": "2020-05-22T07:44:23.249122Z",
     "start_time": "2020-05-22T07:44:23.243114Z"
    }
   },
   "outputs": [],
   "source": [
    "min_count = math.ceil(len(docs) / 1000)\n",
    "threshold = 25\n",
    "common_terms = [\"a\", \"an\", \"the\", \"of\", \"on\", \"in\", \"at\"]"
   ]
  },
  {
   "cell_type": "markdown",
   "metadata": {},
   "source": [
    "This could take a while, so set up a threaded function with a basic progress indicator in the main thread"
   ]
  },
  {
   "cell_type": "code",
   "execution_count": 6,
   "metadata": {
    "ExecuteTime": {
     "end_time": "2020-05-22T07:44:24.828677Z",
     "start_time": "2020-05-22T07:44:24.820663Z"
    }
   },
   "outputs": [],
   "source": [
    "def find_ngrams(docs, results):\n",
    "    bigram = gensim.models.Phrases(\n",
    "        docs, min_count=min_count, threshold=threshold, common_terms=common_terms\n",
    "    )\n",
    "    trigram = gensim.models.Phrases(\n",
    "        bigram[docs],\n",
    "        min_count=min_count,\n",
    "        threshold=threshold,\n",
    "        common_terms=common_terms,\n",
    "    )\n",
    "\n",
    "    # Finalise the bigram/trigram generators for efficiency\n",
    "    bigram_mod = gensim.models.phrases.Phraser(bigram)\n",
    "    trigram_mod = gensim.models.phrases.Phraser(trigram)\n",
    "\n",
    "    results[0] = bigram_mod\n",
    "    results[1] = trigram_mod"
   ]
  },
  {
   "cell_type": "code",
   "execution_count": 7,
   "metadata": {
    "ExecuteTime": {
     "end_time": "2020-05-22T07:44:42.548713Z",
     "start_time": "2020-05-22T07:44:28.442264Z"
    }
   },
   "outputs": [
    {
     "name": "stdout",
     "output_type": "stream",
     "text": [
      "Generating n-grams . . . . . . . . . Done.\n",
      "Ad sales boost Time Warner profit Quarterly profits at US media_giant TimeWarner jumped 76% to $1.13bn Â£600m for the three_months to December from $639m year-earlier The firm which is now one_of_the_biggest investors in Google benefited from sales of high-speed_internet connections and higher advert sales TimeWarner said fourth_quarter sales_rose 2% to $11.1bn from $10.9bn Its profits were buoyed_by one-off gains which offset a profit dip at Warner_Bros and less users for AOL Time Warner said on Friday that it now_owns 8% of search-engine Google But its_own internet business AOL had has mixed fortunes It lost 464,000 subscribers in the fourth_quarter_profits were lower_than in the preceding three quarters However the company said AOL's underlying profit before exceptional items rose 8% on the back of stronger internet advertising_revenues It hopes to increase subscribers by offering the online service free to TimeWarner internet customers and will try to sign_up AOL's existing customers for high-speed broadband TimeWarner also has to restate 2000 and 2003 results following a probe by the US Securities Exchange_Commission_SEC which is close to concluding Time Warner's fourth_quarter_profits were slightly_better_than analysts expectations But its film division saw profits slump 27% to $284m helped by box-office flops Alexander and Catwoman a sharp contrast to year-earlier when the third and final film in the Lord_of_the_Rings trilogy boosted results For the full-year TimeWarner posted a profit of $3.36bn up 27% from its 2003 performance while revenues grew 6.4% to $42.09bn Our financial performance was strong meeting or exceeding all of our full-year objectives and greatly enhancing our flexibility chairman and chief_executive Richard Parsons said For 2005 TimeWarner is projecting operating earnings_growth of around 5% and also expects higher revenue and wider profit margins TimeWarner is to restate_its accounts as part of efforts to resolve an inquiry_into AOL by US market regulators It has already offered to pay $300m to settle_charges in a deal that is under review by the SEC The company said it was unable to estimate the amount it needed to set_aside for legal reserves which it previously set at $500m It intends to adjust the way it accounts for a deal with German music publisher Bertelsmann's purchase of a stake in AOL Europe which it had reported as advertising_revenue It will now book the sale of its stake in AOL Europe as a loss on the value of that stake\n"
     ]
    }
   ],
   "source": [
    "print(\"Generating n-grams\", flush=True, end=\"\")\n",
    "\n",
    "results = [None, None]\n",
    "t = threading.Thread(target=find_ngrams, args=(docs, results))\n",
    "t.start()\n",
    "\n",
    "progress_countdown = 1.0\n",
    "\n",
    "while t.isAlive():\n",
    "    time.sleep(0.1)\n",
    "    progress_countdown -= 0.1\n",
    "    if progress_countdown <= 0:\n",
    "        print(\" .\", flush=True, end=\"\")\n",
    "        progress_countdown = 1\n",
    "\n",
    "print(\" Done.\")\n",
    "\n",
    "bigram_mod = results[0]\n",
    "trigram_mod = results[1]\n",
    "\n",
    "docs = [trigram_mod[bigram_mod[doc]] for doc in docs]\n",
    "\n",
    "print(\" \".join(docs[0]))"
   ]
  },
  {
   "cell_type": "markdown",
   "metadata": {},
   "source": [
    "Second-pass tokenisation\n",
    "- Case folding\n",
    "- Remove single apostrophes\n",
    "- Remove stop words, remove purely numeric/non-alphabetic tokens"
   ]
  },
  {
   "cell_type": "code",
   "execution_count": 8,
   "metadata": {
    "ExecuteTime": {
     "end_time": "2020-05-22T07:45:14.973812Z",
     "start_time": "2020-05-22T07:45:14.395818Z"
    }
   },
   "outputs": [
    {
     "name": "stdout",
     "output_type": "stream",
     "text": [
      "ad sales boost time warner profit quarterly profits us media_giant timewarner jumped $1.13bn â£600m three_months december $639m year-earlier firm one_of_the_biggest investors google benefited sales high-speed_internet connections higher advert sales timewarner said fourth_quarter sales_rose $11.1bn $10.9bn profits buoyed_by one-off gains offset profit dip warner_bros less users aol time warner said friday now_owns search-engine google its_own internet business aol mixed fortunes lost subscribers fourth_quarter_profits lower_than preceding three quarters however company said aols underlying profit exceptional items rose back stronger internet advertising_revenues hopes increase subscribers offering online service free timewarner internet customers try sign_up aols existing customers high-speed broadband timewarner also restate results following probe us securities exchange_commission_sec close concluding time warners fourth_quarter_profits slightly_better_than analysts expectations film division saw profits slump $284m helped box-office flops alexander catwoman sharp contrast year-earlier third final film lord_of_the_rings trilogy boosted results full-year timewarner posted profit $3.36bn performance revenues grew $42.09bn financial performance strong meeting exceeding full-year objectives greatly enhancing flexibility chairman chief_executive richard parsons said timewarner projecting operating earnings_growth around also expects higher revenue wider profit margins timewarner restate_its accounts part efforts resolve inquiry_into aol us market regulators already offered pay $300m settle_charges deal review sec company said unable estimate amount needed set_aside legal reserves previously set $500m intends adjust way accounts deal german music publisher bertelsmanns purchase stake aol europe reported advertising_revenue book sale stake aol europe loss value stake\n"
     ]
    }
   ],
   "source": [
    "stopset = set(nltk.corpus.stopwords.words(\"english\"))\n",
    "\n",
    "\n",
    "def second_tokenise(tokens):\n",
    "    new_tokens = []\n",
    "    for token in tokens:\n",
    "        token = token.casefold()\n",
    "        token = token.replace(\"'\", \"\")\n",
    "        if token in stopset or re.match(\"^[^a-z]+$\", token):\n",
    "            continue\n",
    "        new_tokens.append(token)\n",
    "\n",
    "    return new_tokens\n",
    "\n",
    "\n",
    "docs = [second_tokenise(doc) for doc in docs]\n",
    "\n",
    "print(\" \".join(docs[0]))"
   ]
  },
  {
   "cell_type": "markdown",
   "metadata": {},
   "source": [
    "Model training (LDA)\n",
    "----"
   ]
  },
  {
   "cell_type": "markdown",
   "metadata": {},
   "source": [
    "Add processed docs to the LDA model and train it"
   ]
  },
  {
   "cell_type": "code",
   "execution_count": 16,
   "metadata": {
    "ExecuteTime": {
     "end_time": "2020-05-22T07:50:24.272933Z",
     "start_time": "2020-05-22T07:50:24.267931Z"
    }
   },
   "outputs": [],
   "source": [
    "model_seed = 11399\n",
    "train_and_save = True\n",
    "model_file = \"model.bin\"\n",
    "# Training iterations\n",
    "train_batch = 50\n",
    "train_total = 500"
   ]
  },
  {
   "cell_type": "code",
   "execution_count": 17,
   "metadata": {
    "ExecuteTime": {
     "end_time": "2020-05-22T07:50:24.807555Z",
     "start_time": "2020-05-22T07:50:24.802555Z"
    }
   },
   "outputs": [],
   "source": [
    "model = tp.LDAModel(seed=model_seed, k=20)"
   ]
  },
  {
   "cell_type": "code",
   "execution_count": 18,
   "metadata": {
    "ExecuteTime": {
     "end_time": "2020-05-22T07:50:25.358572Z",
     "start_time": "2020-05-22T07:50:25.214434Z"
    }
   },
   "outputs": [
    {
     "name": "stderr",
     "output_type": "stream",
     "text": [
      "100%|██████████| 2225/2225 [00:00<00:00, 16406.52it/s]\n"
     ]
    }
   ],
   "source": [
    "for doc in tqdm.tqdm(docs):\n",
    "    model.add_doc(doc)"
   ]
  },
  {
   "cell_type": "code",
   "execution_count": 19,
   "metadata": {
    "ExecuteTime": {
     "end_time": "2020-05-22T07:50:33.430359Z",
     "start_time": "2020-05-22T07:50:27.755651Z"
    }
   },
   "outputs": [
    {
     "name": "stdout",
     "output_type": "stream",
     "text": [
      "Num docs: 2225, Vocab size: 40709, Num words: 442125\n",
      "Removed top words: []\n",
      "Training model...\n",
      "Iteration: 50\tLog-likelihood: -9.562028606800228\tTime: 0.655s\n",
      "Iteration: 100\tLog-likelihood: -9.436368643777802\tTime: 0.585s\n",
      "Iteration: 150\tLog-likelihood: -9.367648934418513\tTime: 0.601s\n",
      "Iteration: 200\tLog-likelihood: -9.3241451223967\tTime: 0.566s\n",
      "Iteration: 250\tLog-likelihood: -9.296855778229718\tTime: 0.497s\n",
      "Iteration: 300\tLog-likelihood: -9.271015426605544\tTime: 0.491s\n",
      "Iteration: 350\tLog-likelihood: -9.248314670445591\tTime: 0.493s\n",
      "Iteration: 400\tLog-likelihood: -9.229455485350943\tTime: 0.474s\n",
      "Iteration: 450\tLog-likelihood: -9.224303670255114\tTime: 0.482s\n",
      "Iteration: 500\tLog-likelihood: -9.216025007060669\tTime: 0.482s\n",
      "Saving to model.bin.\n"
     ]
    }
   ],
   "source": [
    "if train_and_save:\n",
    "    model.train(0, workers=0)\n",
    "    print(\n",
    "        f\"Num docs: {len(model.docs)}, Vocab size: {model.num_vocabs}, \"\n",
    "        f\"Num words: {model.num_words}\"\n",
    "    )\n",
    "    print(f\"Removed top words: {model.removed_top_words}\")\n",
    "\n",
    "    print(\"Training model...\", flush=True)\n",
    "\n",
    "    try:\n",
    "        for i in range(0, train_total, train_batch):\n",
    "            start_time = time.perf_counter()\n",
    "            model.train(train_batch, workers=0)\n",
    "            elapsed = time.perf_counter() - start_time\n",
    "            print(\n",
    "                f\"Iteration: {i + train_batch}\\tLog-likelihood: {model.ll_per_word}\\t\"\n",
    "                f\"Time: {elapsed:.3f}s\",\n",
    "                flush=True,\n",
    "            )\n",
    "    except KeyboardInterrupt:\n",
    "        print(\"Stopping train sequence.\")\n",
    "    print(f\"Saving to {model_file}.\")\n",
    "    model.save(model_file)\n",
    "else:\n",
    "    model = tp.LDAModel.load(model_file)"
   ]
  },
  {
   "cell_type": "markdown",
   "metadata": {},
   "source": [
    "Topic labelling"
   ]
  },
  {
   "cell_type": "code",
   "execution_count": 21,
   "metadata": {
    "ExecuteTime": {
     "end_time": "2020-05-22T07:52:14.274091Z",
     "start_time": "2020-05-22T07:52:12.347444Z"
    }
   },
   "outputs": [
    {
     "name": "stdout",
     "output_type": "stream",
     "text": [
      "Extracting suggested topic labels...\n",
      "Done.\n"
     ]
    }
   ],
   "source": [
    "print(\"Extracting suggested topic labels...\", flush=True)\n",
    "# extractor = tp.label.PMIExtractor(min_cf=10, min_df=5, max_len=5, max_cand=10000)\n",
    "extractor = tp.label.PMIExtractor(min_cf=5, min_df=3, max_len=5, max_cand=20000)\n",
    "candidates = extractor.extract(model)\n",
    "# labeler = tp.label.FoRelevance(model, candidates, min_df=5, smoothing=1e-2,\n",
    "# mu=0.25)\n",
    "labeler = tp.label.FoRelevance(model, candidates, min_df=3, smoothing=1e-2, mu=0.25)\n",
    "print(\"Done.\")"
   ]
  },
  {
   "cell_type": "markdown",
   "metadata": {},
   "source": [
    "Print results\n",
    "------"
   ]
  },
  {
   "cell_type": "code",
   "execution_count": 22,
   "metadata": {
    "ExecuteTime": {
     "end_time": "2020-05-22T07:52:46.362821Z",
     "start_time": "2020-05-22T07:52:46.355822Z"
    }
   },
   "outputs": [],
   "source": [
    "def print_topic(topic_id):\n",
    "    # Labels\n",
    "    labels = \", \".join(\n",
    "        label for label, score in labeler.get_topic_labels(topic_id, top_n=10)\n",
    "    )\n",
    "    print(f\"Suggested labels: {labels}\")\n",
    "\n",
    "    # Print this topic\n",
    "    words_probs = model.get_topic_words(topic_id, top_n=10)\n",
    "    words = [x[0] for x in words_probs]\n",
    "\n",
    "    words = \", \".join(words)\n",
    "    print(words)"
   ]
  },
  {
   "cell_type": "code",
   "execution_count": 24,
   "metadata": {
    "ExecuteTime": {
     "end_time": "2020-05-22T07:54:53.679440Z",
     "start_time": "2020-05-22T07:54:53.579381Z"
    }
   },
   "outputs": [
    {
     "name": "stdout",
     "output_type": "stream",
     "text": [
      "[Topic 1]\n",
      "Suggested labels: six_nations, flanker, lock, fly-half, wing, ireland, rugby, capt, england, line-out\n",
      "england, wales, ireland, game, france, players, six_nations, side, squad, try\n",
      "\n",
      "[Topic 2]\n",
      "Suggested labels: modern_day, detective, school, died, without_fear, laughable, outstanding_contribution, civilians, coped, too_much time\n",
      "also, life, said, london, made, school, family, later, children, home\n",
      "\n",
      "[Topic 3]\n",
      "Suggested labels: gamers, nintendo, gaming, sony, gameboy, portable, console, consoles, nintendo_ds, physics\n",
      "games, game, music, gaming, play, said, also, online, market, players\n",
      "\n",
      "[Topic 4]\n",
      "Suggested labels: album, hip-hop, eminem, band, sound_of_2004, best_pop, the_streets, natasha_bedingfield, music, joss_stone\n",
      "music, album, band, song, us, singer, show, uk, best, artists\n",
      "\n",
      "[Topic 5]\n",
      "Suggested labels: de_niro, oceans_twelve, meet_the_fockers, new_years_day, north_american_box_office, studio_estimates, according studio_estimates, comedy_meet, top film, barbra_streisand\n",
      "took, us, number, top, first, uk, christmas, new, box_office, release\n",
      "\n",
      "[Topic 6]\n",
      "Suggested labels: modern_day, mccririck, soviet, kenzie, im_a_celebrity, get_me_out_of, im_a_celebrity get_me_out_of, coped, instance, priest\n",
      "said, show, people, series, british, first, host, also, scottish, shows\n",
      "\n",
      "[Topic 7]\n",
      "Suggested labels: technology, devices, technologies, storage, digital, hard_drive, video, pc, images, intel\n",
      "technology, said, apple, computer, software, digital, used, use, content, devices\n",
      "\n",
      "[Topic 8]\n",
      "Suggested labels: sales, rise, profits, rose, growth, year_earlier, profit, prices, analysts, fall\n",
      "said, sales, year, uk, rise, last_year, us, figures, profits, new\n",
      "\n",
      "[Topic 9]\n",
      "Suggested labels: andy_roddick, australian_open, carlos_moya, roddick, match, beat, semi-finals, mauresmo, victory, first set\n",
      "win, first, final, match, game, play, victory, beat, second, set\n",
      "\n",
      "[Topic 10]\n",
      "Suggested labels: technology, people, etc, modern_day, like, many, ordinary people, laughable, coped, for_example\n",
      "people, one, media, women, says, us, mr, many, work, has_been\n",
      "\n",
      "[Topic 11]\n",
      "Suggested labels: users, web, net, technology, using, software, e-mail, websites, internet, networks\n",
      "said, people, users, net, service, use, also, broadband, online, mobile\n",
      "\n",
      "[Topic 12]\n",
      "Suggested labels: film, actor, awards, actress, films, oscar, nominated_for, best_film, best_actress, award\n",
      "film, films, also, awards, award, actor, director, said, best, movie\n",
      "\n",
      "[Topic 13]\n",
      "Suggested labels: athens, athletes, olympic, 200m, gardener, 1500m, sotherton, pole, athletics, 60m\n",
      "race, world, british, athens, sport, olympic, athletes, iaaf, holmes, champion\n",
      "\n",
      "[Topic 14]\n",
      "Suggested labels: etc, modern_day, i_agree, doesnt, surely, as_well, i_think, someone, cares, far_too\n",
      "said, would, one, time, get, could, going, new, way, make\n",
      "\n",
      "[Topic 15]\n",
      "Suggested labels: law, court, lawyer, case, lawyers, legal, evidence, prison, accused, charges\n",
      "said, law, case, mr, court, police, legal, us, evidence, had_been\n",
      "\n",
      "[Topic 16]\n",
      "Suggested labels: labour, tony_blair, party, tories, election, conservatives, tory, mr_blair, prime_minister, labours\n",
      "said, would, labour, party, government, election, mr_blair, tories, prime_minister, mr_brown\n",
      "\n",
      "[Topic 17]\n",
      "Suggested labels: chelsea, striker, arsenal, keeper, premiership, manchester_united, header, fa_cup, goal, free-kick\n",
      "club, game, chelsea, players, arsenal, liverpool, play, football, goal, manager\n",
      "\n",
      "[Topic 18]\n",
      "Suggested labels: shareholders, shares, firm, company, investors, bankruptcy, assets, stake, deal, state-owned\n",
      "said, company, firm, deal, would, shares, us, also, yukos, firms\n",
      "\n",
      "[Topic 19]\n",
      "Suggested labels: economy, economic_growth, economic, exports, growth, markets, inflation, oil_prices, currency, dollar\n",
      "us, said, economy, growth, economic, china, bank, eu, government, trade\n",
      "\n",
      "[Topic 20]\n",
      "Suggested labels: government, governments, proposals, tax, taxes, labour, plans, liberal_democrats, families, income_tax\n",
      "said, government, would, uk, people, also, tax, budget, report, new\n",
      "\n"
     ]
    }
   ],
   "source": [
    "for k in range(model.k):\n",
    "    print(f\"[Topic {k+1}]\")\n",
    "    print_topic(k)\n",
    "    print()"
   ]
  },
  {
   "cell_type": "markdown",
   "metadata": {},
   "source": [
    "Iterate\n",
    "--------\n",
    "- See what the main topics might be, slice initial corpus and re-run LDA to get sub-topics"
   ]
  },
  {
   "cell_type": "code",
   "execution_count": null,
   "metadata": {},
   "outputs": [],
   "source": []
  }
 ],
 "metadata": {
  "kernelspec": {
   "display_name": "Python 3",
   "language": "python",
   "name": "python3"
  },
  "language_info": {
   "codemirror_mode": {
    "name": "ipython",
    "version": 3
   },
   "file_extension": ".py",
   "mimetype": "text/x-python",
   "name": "python",
   "nbconvert_exporter": "python",
   "pygments_lexer": "ipython3",
   "version": "3.7.6"
  }
 },
 "nbformat": 4,
 "nbformat_minor": 4
}
