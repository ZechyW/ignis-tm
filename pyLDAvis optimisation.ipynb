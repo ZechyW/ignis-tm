{
 "cells": [
  {
   "cell_type": "markdown",
   "metadata": {},
   "source": [
    "Ignis: Latent Dirichlet Allocation\n",
    "============"
   ]
  },
  {
   "cell_type": "code",
   "execution_count": 4,
   "metadata": {
    "ExecuteTime": {
     "end_time": "2020-06-15T08:47:44.950923Z",
     "start_time": "2020-06-15T08:47:44.947923Z"
    }
   },
   "outputs": [],
   "source": [
    "import ignis"
   ]
  },
  {
   "cell_type": "code",
   "execution_count": 5,
   "metadata": {
    "ExecuteTime": {
     "end_time": "2020-06-15T08:47:44.960923Z",
     "start_time": "2020-06-15T08:47:44.952921Z"
    }
   },
   "outputs": [
    {
     "data": {
      "text/plain": [
       "'11399'"
      ]
     },
     "execution_count": 5,
     "metadata": {},
     "output_type": "execute_result"
    }
   ],
   "source": [
    "# Python setup: Note that the `PYTHONHASHSEED` environmental variable needs to be set *before* the Python kernel is intialised --\n",
    "# We only print it here for easy post-hoc reference.\n",
    "import os\n",
    "os.environ.get(\"PYTHONHASHSEED\")"
   ]
  },
  {
   "cell_type": "code",
   "execution_count": 6,
   "metadata": {
    "ExecuteTime": {
     "end_time": "2020-06-15T08:47:44.970925Z",
     "start_time": "2020-06-15T08:47:44.963923Z"
    }
   },
   "outputs": [
    {
     "data": {
      "text/html": [
       "\n",
       "<style>\n",
       "   .jupyter-widgets-output-area .output_scroll {\n",
       "        height: unset !important;\n",
       "        border-radius: unset !important;\n",
       "        -webkit-box-shadow: unset !important;\n",
       "        box-shadow: unset !important;\n",
       "    }\n",
       "    .jupyter-widgets-output-area  {\n",
       "        height: auto !important;\n",
       "    }\n",
       "</style>\n",
       "<style>\n",
       "    #notebook-container { width: 1370px !important; }\n",
       "    div.output_area { width: unset !important; }\n",
       "</style>\n"
      ],
      "text/plain": [
       "<IPython.core.display.HTML object>"
      ]
     },
     "metadata": {},
     "output_type": "display_data"
    }
   ],
   "source": [
    "# Jupyter notebook setup\n",
    "import ipywidgets as widgets\n",
    "from IPython.core.display import display, HTML\n",
    "\n",
    "# Custom styling:\n",
    "# - Prevent vertical scrollbars in output subareas\n",
    "# - Resize to fit pyLDAvis visualisations without causing other cells to overflow\n",
    "style = \"\"\"\n",
    "<style>\n",
    "   .jupyter-widgets-output-area .output_scroll {\n",
    "        height: unset !important;\n",
    "        border-radius: unset !important;\n",
    "        -webkit-box-shadow: unset !important;\n",
    "        box-shadow: unset !important;\n",
    "    }\n",
    "    .jupyter-widgets-output-area  {\n",
    "        height: auto !important;\n",
    "    }\n",
    "</style>\n",
    "<style>\n",
    "    #notebook-container { width: 1370px !important; }\n",
    "    div.output_area { width: unset !important; }\n",
    "</style>\n",
    "\"\"\"\n",
    "display(HTML(style))"
   ]
  },
  {
   "cell_type": "markdown",
   "metadata": {},
   "source": [
    "Model training (LDA)\n",
    "----"
   ]
  },
  {
   "cell_type": "markdown",
   "metadata": {},
   "source": [
    "Load from an `ignis.Corpus`, add the processed docs to an LDA model, and train it.\n",
    "\n",
    "The random seed and parallelisation can both affect results, so setting the seed and number of workers is necessary for reproducibility."
   ]
  },
  {
   "cell_type": "code",
   "execution_count": 7,
   "metadata": {
    "ExecuteTime": {
     "end_time": "2020-06-15T08:47:46.040981Z",
     "start_time": "2020-06-15T08:47:44.972922Z"
    }
   },
   "outputs": [],
   "source": [
    "corpus = ignis.load_corpus(\"bbc-full.corpus\")"
   ]
  },
  {
   "cell_type": "code",
   "execution_count": 8,
   "metadata": {
    "ExecuteTime": {
     "end_time": "2020-06-15T08:48:19.607152Z",
     "start_time": "2020-06-15T08:47:46.042971Z"
    }
   },
   "outputs": [
    {
     "name": "stdout",
     "output_type": "stream",
     "text": [
      "Training LDA model on 2122 documents:\n",
      "{'term_weighting': 'idf', 'k': 6, 'seed': 7157, 'workers': 8, 'parallel_scheme': 'default', 'iterations': 1000, 'update_every': 100, 'until_max_ll': False, 'max_extra_iterations': 5000, 'verbose': True, 'tw': <TermWeight.IDF: 1>, 'parallel': <ParallelScheme.DEFAULT: 0>}\n",
      "\n"
     ]
    },
    {
     "name": "stderr",
     "output_type": "stream",
     "text": [
      "100%|██████████| 1000/1000 [00:14<00:00, 68.76it/s, Log-likelihood=-21.11047]"
     ]
    },
    {
     "name": "stdout",
     "output_type": "stream",
     "text": [
      "Model training complete. (14.547s)\n",
      "Preparing LDA visualisation"
     ]
    },
    {
     "name": "stderr",
     "output_type": "stream",
     "text": [
      "\n"
     ]
    },
    {
     "name": "stdout",
     "output_type": "stream",
     "text": [
      " . . . . . . .distinctiveness/saliency calcs 6.877s\n",
      "??? 0.010s\n",
      " . . . . . .loglift stuff 7.652s\n",
      " . .concats 2.245s\n",
      " Done. (18.854s)\n"
     ]
    }
   ],
   "source": [
    "model_options = {\n",
    "    \"k\": 6,\n",
    "    \"term_weighting\": \"idf\",\n",
    "    \"until_max_ll\": False,\n",
    "    \"verbose\": True,\n",
    "    \"seed\": 7157,\n",
    "}\n",
    "vis_options = {\"verbose\": True}\n",
    "results = ignis.train_model(\n",
    "    corpus,\n",
    "    model_type=\"tp_lda\",\n",
    "    model_options=model_options,\n",
    "    vis_type=\"pyldavis\",\n",
    "    vis_options=vis_options,\n",
    ")"
   ]
  },
  {
   "cell_type": "code",
   "execution_count": 137,
   "metadata": {
    "ExecuteTime": {
     "end_time": "2020-06-15T10:06:05.951957Z",
     "start_time": "2020-06-15T10:06:05.940957Z"
    }
   },
   "outputs": [],
   "source": [
    "model = results.ignis_model.model\n",
    "\n",
    "doc_topic_dists = [model.docs[n].get_topic_dist() for n in range(len(model.docs))]\n",
    "doc_lengths = [len(model.docs[n].words) for n in range(len(model.docs))]\n",
    "vocab = model.vocabs\n",
    "term_frequency = model.vocab_freq"
   ]
  },
  {
   "cell_type": "code",
   "execution_count": 138,
   "metadata": {
    "ExecuteTime": {
     "end_time": "2020-06-15T10:06:05.974992Z",
     "start_time": "2020-06-15T10:06:05.954532Z"
    }
   },
   "outputs": [],
   "source": [
    "# Pandas appears to operate in a column-based fashion, but the tomotopy topic_term_dists is naturally arranged by row;\n",
    "# We can save a bunch of runtime by preparing the DataFrame before sending it off to pyLDAvis, since there are way more columns than there are rows\n",
    "# (There are as many columns as terms, but only as many rows as topics)\n",
    "\n",
    "# By default Pandas thinks the DataFrame is a single column, but it's really a single row, so we Transpose\n",
    "topic_term_dists_rows = [pd.DataFrame(model.get_topic_word_dist(k)).T for k in range(model.k)]\n",
    "topic_term_dists = pd.concat(topic_term_dists_rows, ignore_index=True)"
   ]
  },
  {
   "cell_type": "code",
   "execution_count": 139,
   "metadata": {
    "ExecuteTime": {
     "end_time": "2020-06-15T10:06:05.983015Z",
     "start_time": "2020-06-15T10:06:05.976989Z"
    }
   },
   "outputs": [],
   "source": [
    "import pandas as pd\n",
    "import numpy as np\n",
    "\n",
    "def _df_with_names(data, index_name, columns_name):\n",
    "   if type(data) == pd.DataFrame:\n",
    "      # we want our index to be numbered\n",
    "      df = pd.DataFrame(data.values)\n",
    "   else:\n",
    "      df = pd.DataFrame.from_records(data)\n",
    "   df.index.name = index_name\n",
    "   df.columns.name = columns_name\n",
    "   return df\n",
    "\n",
    "\n",
    "def _series_with_name(data, name):\n",
    "   if type(data) == pd.Series:\n",
    "      data.name = name\n",
    "      # ensures a numeric index\n",
    "      return data.reset_index()[name]\n",
    "   else:\n",
    "      return pd.Series(data, name=name)"
   ]
  },
  {
   "cell_type": "code",
   "execution_count": 140,
   "metadata": {
    "ExecuteTime": {
     "end_time": "2020-06-15T10:06:06.066062Z",
     "start_time": "2020-06-15T10:06:05.985013Z"
    }
   },
   "outputs": [],
   "source": [
    "topic_term_dists = _df_with_names(topic_term_dists, 'topic', 'term')\n",
    "doc_topic_dists  = _df_with_names(doc_topic_dists, 'doc', 'topic')\n",
    "term_frequency   = _series_with_name(term_frequency, 'term_frequency')\n",
    "doc_lengths      = _series_with_name(doc_lengths, 'doc_length')\n",
    "vocab            = _series_with_name(vocab, 'vocab')\n",
    "R = min(30, len(vocab))\n",
    "lambda_step = 0.1\n",
    "n_jobs = -1"
   ]
  },
  {
   "cell_type": "code",
   "execution_count": 141,
   "metadata": {
    "ExecuteTime": {
     "end_time": "2020-06-15T10:06:06.495101Z",
     "start_time": "2020-06-15T10:06:06.066992Z"
    }
   },
   "outputs": [],
   "source": [
    "topic_freq       = (doc_topic_dists.T * doc_lengths).T.sum()\n",
    "# topic_freq       = np.dot(doc_topic_dists.T, doc_lengths)\n",
    "topic_proportion = (topic_freq / topic_freq.sum())\n",
    "\n",
    "topic_order      = topic_proportion.index\n",
    "# reorder all data based on new ordering of topics\n",
    "topic_freq       = topic_freq[topic_order]\n",
    "topic_term_dists = topic_term_dists.iloc[topic_order]\n",
    "doc_topic_dists  = doc_topic_dists[topic_order]\n",
    "\n",
    "# token counts for each term-topic combination (widths of red bars)\n",
    "term_topic_freq = (topic_term_dists.T * topic_freq).T\n",
    "## Quick fix for red bar width bug.  We calculate the\n",
    "## term frequencies internally, using the topic term distributions and the\n",
    "## topic frequencies, rather than using the user-supplied term frequencies.\n",
    "## For a detailed discussion, see: https://github.com/cpsievert/LDAvis/pull/41\n",
    "term_frequency = np.sum(term_topic_freq, axis=0)"
   ]
  },
  {
   "cell_type": "code",
   "execution_count": 142,
   "metadata": {
    "ExecuteTime": {
     "end_time": "2020-06-15T10:06:06.502016Z",
     "start_time": "2020-06-15T10:06:06.495989Z"
    }
   },
   "outputs": [],
   "source": [
    "from joblib import Parallel, delayed, cpu_count\n",
    "\n",
    "def _job_chunks(l, n_jobs):\n",
    "   n_chunks = n_jobs\n",
    "   if n_jobs < 0:\n",
    "      # so, have n chunks if we are using all n cores/cpus\n",
    "      n_chunks = cpu_count() + 1 - n_jobs\n",
    "\n",
    "   return _chunks(l, n_chunks)\n",
    "\n",
    "def _chunks(l, n):\n",
    "    \"\"\" Yield successive n-sized chunks from l.\n",
    "    \"\"\"\n",
    "    for i in range(0, len(l), n):\n",
    "        yield l[i:i+n]\n",
    "        \n",
    "def _find_relevance(log_ttd, log_lift, R, lambda_):\n",
    "   relevance = lambda_ * log_ttd + (1 - lambda_) * log_lift\n",
    "   return relevance.T.apply(lambda s: s.sort_values(ascending=False).index).head(R)\n",
    "\n",
    "\n",
    "def _find_relevance_chunks(log_ttd, log_lift, R, lambda_seq):\n",
    "   return pd.concat([_find_relevance(log_ttd, log_lift, R, l) for l in lambda_seq])"
   ]
  },
  {
   "cell_type": "code",
   "execution_count": 143,
   "metadata": {
    "ExecuteTime": {
     "end_time": "2020-06-15T10:06:20.893204Z",
     "start_time": "2020-06-15T10:06:06.504004Z"
    }
   },
   "outputs": [
    {
     "name": "stdout",
     "output_type": "stream",
     "text": [
      "distinctiveness/saliency calcs 6.836s\n",
      "Ordering stuff 0.008s\n",
      "loglift stuff 6.885s\n",
      "concats 0.600s\n"
     ]
    },
    {
     "data": {
      "text/html": [
       "<div>\n",
       "<style scoped>\n",
       "    .dataframe tbody tr th:only-of-type {\n",
       "        vertical-align: middle;\n",
       "    }\n",
       "\n",
       "    .dataframe tbody tr th {\n",
       "        vertical-align: top;\n",
       "    }\n",
       "\n",
       "    .dataframe thead th {\n",
       "        text-align: right;\n",
       "    }\n",
       "</style>\n",
       "<table border=\"1\" class=\"dataframe\">\n",
       "  <thead>\n",
       "    <tr style=\"text-align: right;\">\n",
       "      <th></th>\n",
       "      <th>Term</th>\n",
       "      <th>Freq</th>\n",
       "      <th>Total</th>\n",
       "      <th>Category</th>\n",
       "      <th>logprob</th>\n",
       "      <th>loglift</th>\n",
       "    </tr>\n",
       "  </thead>\n",
       "  <tbody>\n",
       "    <tr>\n",
       "      <th>93</th>\n",
       "      <td>film</td>\n",
       "      <td>707.000000</td>\n",
       "      <td>707.000000</td>\n",
       "      <td>Default</td>\n",
       "      <td>30.0000</td>\n",
       "      <td>30.0000</td>\n",
       "    </tr>\n",
       "    <tr>\n",
       "      <th>169</th>\n",
       "      <td>mobile</td>\n",
       "      <td>604.000000</td>\n",
       "      <td>604.000000</td>\n",
       "      <td>Default</td>\n",
       "      <td>29.0000</td>\n",
       "      <td>29.0000</td>\n",
       "    </tr>\n",
       "    <tr>\n",
       "      <th>27</th>\n",
       "      <td>mr</td>\n",
       "      <td>1319.000000</td>\n",
       "      <td>1319.000000</td>\n",
       "      <td>Default</td>\n",
       "      <td>28.0000</td>\n",
       "      <td>28.0000</td>\n",
       "    </tr>\n",
       "    <tr>\n",
       "      <th>99</th>\n",
       "      <td>music</td>\n",
       "      <td>709.000000</td>\n",
       "      <td>709.000000</td>\n",
       "      <td>Default</td>\n",
       "      <td>27.0000</td>\n",
       "      <td>27.0000</td>\n",
       "    </tr>\n",
       "    <tr>\n",
       "      <th>115</th>\n",
       "      <td>labour</td>\n",
       "      <td>647.000000</td>\n",
       "      <td>647.000000</td>\n",
       "      <td>Default</td>\n",
       "      <td>26.0000</td>\n",
       "      <td>26.0000</td>\n",
       "    </tr>\n",
       "    <tr>\n",
       "      <th>...</th>\n",
       "      <td>...</td>\n",
       "      <td>...</td>\n",
       "      <td>...</td>\n",
       "      <td>...</td>\n",
       "      <td>...</td>\n",
       "      <td>...</td>\n",
       "    </tr>\n",
       "    <tr>\n",
       "      <th>147</th>\n",
       "      <td>won</td>\n",
       "      <td>196.386803</td>\n",
       "      <td>414.274722</td>\n",
       "      <td>Topic6</td>\n",
       "      <td>-6.0462</td>\n",
       "      <td>1.4792</td>\n",
       "    </tr>\n",
       "    <tr>\n",
       "      <th>167</th>\n",
       "      <td>tv</td>\n",
       "      <td>185.657380</td>\n",
       "      <td>476.484692</td>\n",
       "      <td>Topic6</td>\n",
       "      <td>-6.1024</td>\n",
       "      <td>1.2831</td>\n",
       "    </tr>\n",
       "    <tr>\n",
       "      <th>26</th>\n",
       "      <td>his</td>\n",
       "      <td>182.429555</td>\n",
       "      <td>966.329454</td>\n",
       "      <td>Topic6</td>\n",
       "      <td>-6.1199</td>\n",
       "      <td>0.5585</td>\n",
       "    </tr>\n",
       "    <tr>\n",
       "      <th>211</th>\n",
       "      <td>director</td>\n",
       "      <td>160.843008</td>\n",
       "      <td>328.045768</td>\n",
       "      <td>Topic6</td>\n",
       "      <td>-6.2459</td>\n",
       "      <td>1.5129</td>\n",
       "    </tr>\n",
       "    <tr>\n",
       "      <th>143</th>\n",
       "      <td>top</td>\n",
       "      <td>156.666577</td>\n",
       "      <td>402.282873</td>\n",
       "      <td>Topic6</td>\n",
       "      <td>-6.2722</td>\n",
       "      <td>1.2826</td>\n",
       "    </tr>\n",
       "  </tbody>\n",
       "</table>\n",
       "<p>366 rows × 6 columns</p>\n",
       "</div>"
      ],
      "text/plain": [
       "         Term         Freq        Total Category  logprob  loglift\n",
       "93       film   707.000000   707.000000  Default  30.0000  30.0000\n",
       "169    mobile   604.000000   604.000000  Default  29.0000  29.0000\n",
       "27         mr  1319.000000  1319.000000  Default  28.0000  28.0000\n",
       "99      music   709.000000   709.000000  Default  27.0000  27.0000\n",
       "115    labour   647.000000   647.000000  Default  26.0000  26.0000\n",
       "..        ...          ...          ...      ...      ...      ...\n",
       "147       won   196.386803   414.274722   Topic6  -6.0462   1.4792\n",
       "167        tv   185.657380   476.484692   Topic6  -6.1024   1.2831\n",
       "26        his   182.429555   966.329454   Topic6  -6.1199   0.5585\n",
       "211  director   160.843008   328.045768   Topic6  -6.2459   1.5129\n",
       "143       top   156.666577   402.282873   Topic6  -6.2722   1.2826\n",
       "\n",
       "[366 rows x 6 columns]"
      ]
     },
     "execution_count": 143,
     "metadata": {},
     "output_type": "execute_result"
    }
   ],
   "source": [
    "import time\n",
    "start_time = time.perf_counter()\n",
    "\n",
    "# marginal distribution over terms (width of blue bars)\n",
    "term_proportion = term_frequency / term_frequency.sum()\n",
    "\n",
    "# compute the distinctiveness and saliency of the terms:\n",
    "# this determines the R terms that are displayed when no topic is selected\n",
    "topic_given_term = topic_term_dists / topic_term_dists.sum()\n",
    "kernel = (topic_given_term * np.log((topic_given_term.T / topic_proportion).T))\n",
    "distinctiveness = kernel.sum()\n",
    "saliency = term_proportion * distinctiveness\n",
    "\n",
    "elapsed = time.perf_counter() - start_time\n",
    "print(f\"distinctiveness/saliency calcs {elapsed:.3f}s\")\n",
    "start_time = time.perf_counter()\n",
    "\n",
    "# Order the terms for the \"default\" view by decreasing saliency:\n",
    "default_term_info  = pd.DataFrame({'saliency': saliency, 'Term': vocab, \\\n",
    "                                  'Freq': term_frequency, 'Total': term_frequency, \\\n",
    "                                  'Category': 'Default'}). \\\n",
    "  sort_values(by='saliency', ascending=False). \\\n",
    "  head(R).drop('saliency', 1)\n",
    "# Rounding Freq and Total to integer values to match LDAvis code:\n",
    "default_term_info['Freq'] = np.floor(default_term_info['Freq'])\n",
    "default_term_info['Total'] = np.floor(default_term_info['Total'])\n",
    "ranks = np.arange(R, 0, -1)\n",
    "default_term_info['logprob'] = default_term_info['loglift'] = ranks\n",
    "\n",
    "elapsed = time.perf_counter() - start_time\n",
    "print(f\"Ordering stuff {elapsed:.3f}s\")\n",
    "start_time = time.perf_counter()\n",
    "\n",
    "## compute relevance and top terms for each topic\n",
    "log_lift = np.log(topic_term_dists / term_proportion)\n",
    "log_ttd = np.log(topic_term_dists)\n",
    "lambda_seq = np.arange(0, 1 + lambda_step, lambda_step)\n",
    "\n",
    "elapsed = time.perf_counter() - start_time\n",
    "print(f\"loglift stuff {elapsed:.3f}s\")\n",
    "start_time = time.perf_counter()\n",
    "\n",
    "def topic_top_term_df(tup):\n",
    "  new_topic_id, (original_topic_id, topic_terms) = tup\n",
    "  term_ix = topic_terms.unique()\n",
    "  return pd.DataFrame({'Term': vocab[term_ix], \\\n",
    "                       'Freq': term_topic_freq.loc[original_topic_id, term_ix], \\\n",
    "                       'Total': term_frequency[term_ix], \\\n",
    "                       'logprob': log_ttd.loc[original_topic_id, term_ix].round(4), \\\n",
    "                       'loglift': log_lift.loc[original_topic_id, term_ix].round(4), \\\n",
    "                       'Category': 'Topic%d' % new_topic_id})\n",
    "\n",
    "top_terms = pd.concat(Parallel(n_jobs=n_jobs)(delayed(_find_relevance_chunks)(log_ttd, log_lift, R, ls) \\\n",
    "                                             for ls in _job_chunks(lambda_seq, n_jobs)))\n",
    "topic_dfs = map(topic_top_term_df, enumerate(top_terms.T.iterrows(), 1))\n",
    "elapsed = time.perf_counter() - start_time\n",
    "print(f\"concats {elapsed:.3f}s\")\n",
    "start_time = time.perf_counter()\n",
    "pd.concat([default_term_info] + list(topic_dfs))"
   ]
  },
  {
   "cell_type": "code",
   "execution_count": null,
   "metadata": {},
   "outputs": [],
   "source": []
  }
 ],
 "metadata": {
  "kernelspec": {
   "display_name": "Python 3",
   "language": "python",
   "name": "python3"
  },
  "language_info": {
   "codemirror_mode": {
    "name": "ipython",
    "version": 3
   },
   "file_extension": ".py",
   "mimetype": "text/x-python",
   "name": "python",
   "nbconvert_exporter": "python",
   "pygments_lexer": "ipython3",
   "version": "3.7.6"
  },
  "widgets": {
   "application/vnd.jupyter.widget-state+json": {
    "state": {
     "0176bce07868479ba1260626d7e96ae2": {
      "model_module": "@jupyter-widgets/controls",
      "model_module_version": "1.5.0",
      "model_name": "SliderStyleModel",
      "state": {
       "description_width": ""
      }
     },
     "019fcbf53c834bf0b0154c872987adea": {
      "model_module": "@jupyter-widgets/base",
      "model_module_version": "1.2.0",
      "model_name": "LayoutModel",
      "state": {}
     },
     "0272c9fb99e5482f81cfbf00b10d24d1": {
      "model_module": "@jupyter-widgets/controls",
      "model_module_version": "1.5.0",
      "model_name": "IntSliderModel",
      "state": {
       "description": "index",
       "layout": "IPY_MODEL_680aadc6311a4aab8a86f87343d9fe3d",
       "max": 370,
       "style": "IPY_MODEL_bafdf5178bda4f7e8d6359d3f6585707"
      }
     },
     "02c1b6343730431086b372ca058d19e7": {
      "model_module": "@jupyter-widgets/controls",
      "model_module_version": "1.5.0",
      "model_name": "SliderStyleModel",
      "state": {
       "description_width": ""
      }
     },
     "0300157e7e12417f9f4234fcd0e3219f": {
      "model_module": "@jupyter-widgets/controls",
      "model_module_version": "1.5.0",
      "model_name": "SliderStyleModel",
      "state": {
       "description_width": ""
      }
     },
     "08810c03c35340c0965aed0f2aefc885": {
      "model_module": "@jupyter-widgets/base",
      "model_module_version": "1.2.0",
      "model_name": "LayoutModel",
      "state": {}
     },
     "0a2caa0f02a3420caf8ded2c19f7003f": {
      "model_module": "@jupyter-widgets/controls",
      "model_module_version": "1.5.0",
      "model_name": "VBoxModel",
      "state": {
       "_dom_classes": [
        "widget-interact"
       ],
       "children": [
        "IPY_MODEL_bcfcae1962bd4734bacbf0b83a089f98",
        "IPY_MODEL_5406392c76344d5792e38f0ef963b0ce"
       ],
       "layout": "IPY_MODEL_7f8e44ba6e234d9d99549134f6979904"
      }
     },
     "0c6041bc44c44b2793dab67ad5b0794b": {
      "model_module": "@jupyter-widgets/base",
      "model_module_version": "1.2.0",
      "model_name": "LayoutModel",
      "state": {}
     },
     "0f6858aff9a6418893b5db2b75af667d": {
      "model_module": "@jupyter-widgets/base",
      "model_module_version": "1.2.0",
      "model_name": "LayoutModel",
      "state": {}
     },
     "0f94827cc4b34197bced92a6a4c7117e": {
      "model_module": "@jupyter-widgets/base",
      "model_module_version": "1.2.0",
      "model_name": "LayoutModel",
      "state": {}
     },
     "108053295dc54fe49e7eadc10584e6e3": {
      "model_module": "@jupyter-widgets/output",
      "model_module_version": "1.0.0",
      "model_name": "OutputModel",
      "state": {
       "layout": "IPY_MODEL_519a00c1c6074ba98bbfcfe05314e4f8",
       "outputs": [
        {
         "name": "stdout",
         "output_type": "stream",
         "text": "ID: 70e7bd2f-b69a-4208-945e-0d107daea485\n\nMetadata: {'filename': 'data/bbc/business/226.txt'}\n\nmcdonalds to sponsor mtv show mcdonalds the worlds largest restaurant chain is to sponsor programme on music channel mtv as part of its latest youth market promotion the show advance warning highlights new talent and mtv reckons it will give mcdonalds access to nearly million homes in countries mcdonalds golden arches name and im loving it catchphrase will be used throughout the half-hour programme the move comes amid growing concerns about obesity in europe and the us the european union has called on the food industry to reduce the number of adverts aimed at young children warning that legislation would be introduced unless voluntary steps were taken in the us food group kraft is among firms that already have cut back on promoting sugar and fattening products to the young mcdonalds has also been taking steps to improve its junk food reputation revamping its menu and providing clients with health-related products such as pedometers as well as burgers like the big mac and quarter pounder with cheese the company now sells healthier options such as salads and fresh fruit chief_executive jim skinner attributed an increase in january worldwide sales to the vitality of our menu among other things hooking up with mtv is expected to add extra momentum to mcdonalds recent revival mtv which played key role in the emergence of the music video is to show advance warning on all of its channels across the world the programme can at present only been seen in the us where it has featured artists like british stars joss_stone and franz_ferdinand mcdonalds has targeted the youth market in the past with its advertisements signing up stars like jelly-legged dancer justin_timberlake and all-woman singing group destinys child\n\n[(4, 0.2849612236022949),\n (1, 0.24935834109783173),\n (6, 0.19333449006080627),\n (9, 0.13949696719646454),\n (8, 0.12418993562459946),\n (5, 0.00836983323097229),\n (7, 9.747652075020596e-05),\n (10, 7.284103048732504e-05),\n (2, 6.673431198578328e-05),\n (3, 5.224308551987633e-05)]\n"
        }
       ]
      }
     },
     "10beea248e3742c6b7318631de3c5ad7": {
      "model_module": "@jupyter-widgets/controls",
      "model_module_version": "1.5.0",
      "model_name": "IntSliderModel",
      "state": {
       "description": "index",
       "layout": "IPY_MODEL_1a64e0ce6c304aaf9e2bc57296ddb455",
       "max": 370,
       "style": "IPY_MODEL_9aa7a1095dfa4ba1ac4da58f6ee815fa"
      }
     },
     "113de4bd821446a8ae532669209ad667": {
      "model_module": "@jupyter-widgets/controls",
      "model_module_version": "1.5.0",
      "model_name": "SliderStyleModel",
      "state": {
       "description_width": ""
      }
     },
     "13eb7efb1d294d8390b86540aaaeeb07": {
      "model_module": "@jupyter-widgets/base",
      "model_module_version": "1.2.0",
      "model_name": "LayoutModel",
      "state": {}
     },
     "1853fc5fe063493d8b639352ab0b91ed": {
      "model_module": "@jupyter-widgets/controls",
      "model_module_version": "1.5.0",
      "model_name": "SliderStyleModel",
      "state": {
       "description_width": ""
      }
     },
     "193999abd18c472290531634f97a9151": {
      "model_module": "@jupyter-widgets/controls",
      "model_module_version": "1.5.0",
      "model_name": "SliderStyleModel",
      "state": {
       "description_width": ""
      }
     },
     "1a64e0ce6c304aaf9e2bc57296ddb455": {
      "model_module": "@jupyter-widgets/base",
      "model_module_version": "1.2.0",
      "model_name": "LayoutModel",
      "state": {}
     },
     "1c90c756572546b39e4ed98007b8f9b7": {
      "model_module": "@jupyter-widgets/controls",
      "model_module_version": "1.5.0",
      "model_name": "IntSliderModel",
      "state": {
       "description": "index",
       "layout": "IPY_MODEL_db82671388d349079324a42ea2dc8935",
       "max": 370,
       "style": "IPY_MODEL_193999abd18c472290531634f97a9151"
      }
     },
     "1f898984afc444e49b13dc17023418de": {
      "model_module": "@jupyter-widgets/base",
      "model_module_version": "1.2.0",
      "model_name": "LayoutModel",
      "state": {}
     },
     "20e610f9f2ba427eaec9ddd66fabe88c": {
      "model_module": "@jupyter-widgets/output",
      "model_module_version": "1.0.0",
      "model_name": "OutputModel",
      "state": {
       "layout": "IPY_MODEL_c379bbdba72347b7907066413e2878ca",
       "outputs": [
        {
         "name": "stdout",
         "output_type": "stream",
         "text": "ID: 70e7bd2f-b69a-4208-945e-0d107daea485\n\nMetadata: {'filename': 'data/bbc/business/226.txt'}\n\nmcdonalds to sponsor mtv show mcdonalds the worlds largest restaurant chain is to sponsor programme on music channel mtv as part of its latest youth market promotion the show advance warning highlights new talent and mtv reckons it will give mcdonalds access to nearly million homes in countries mcdonalds golden arches name and im loving it catchphrase will be used throughout the half-hour programme the move comes amid growing concerns about obesity in europe and the us the european union has called on the food industry to reduce the number of adverts aimed at young children warning that legislation would be introduced unless voluntary steps were taken in the us food group kraft is among firms that already have cut back on promoting sugar and fattening products to the young mcdonalds has also been taking steps to improve its junk food reputation revamping its menu and providing clients with health-related products such as pedometers as well as burgers like the big mac and quarter pounder with cheese the company now sells healthier options such as salads and fresh fruit chief_executive jim skinner attributed an increase in january worldwide sales to the vitality of our menu among other things hooking up with mtv is expected to add extra momentum to mcdonalds recent revival mtv which played key role in the emergence of the music video is to show advance warning on all of its channels across the world the programme can at present only been seen in the us where it has featured artists like british stars joss_stone and franz_ferdinand mcdonalds has targeted the youth market in the past with its advertisements signing up stars like jelly-legged dancer justin_timberlake and all-woman singing group destinys child\n\n[(4, 0.2849612236022949),\n (1, 0.24935834109783173),\n (6, 0.19333449006080627),\n (9, 0.13949696719646454),\n (8, 0.12418993562459946),\n (5, 0.00836983323097229),\n (7, 9.747652075020596e-05),\n (10, 7.284103048732504e-05),\n (2, 6.673431198578328e-05),\n (3, 5.224308551987633e-05)]\n"
        }
       ]
      }
     },
     "23c2e3055cdd4b0fb5ade54f47417ae4": {
      "model_module": "@jupyter-widgets/controls",
      "model_module_version": "1.5.0",
      "model_name": "VBoxModel",
      "state": {
       "_dom_classes": [
        "widget-interact"
       ],
       "children": [
        "IPY_MODEL_9636b5d65c6c45df80d319d5ae4775a8",
        "IPY_MODEL_963c8fb4d7e24e14b38a4ef5f44001e5"
       ],
       "layout": "IPY_MODEL_b5cc154c0da84a9b95e463fe55e0d966"
      }
     },
     "2687dafe6bdd4989aefa5fbcbdadabbb": {
      "model_module": "@jupyter-widgets/controls",
      "model_module_version": "1.5.0",
      "model_name": "IntSliderModel",
      "state": {
       "description": "index",
       "layout": "IPY_MODEL_792266eafff642f08f0368a1d69f52af",
       "max": 370,
       "style": "IPY_MODEL_bb6adc68372249d19d80228eca6bc67f"
      }
     },
     "2896be96c96347bf817db5ecbe5c71de": {
      "model_module": "@jupyter-widgets/output",
      "model_module_version": "1.0.0",
      "model_name": "OutputModel",
      "state": {
       "layout": "IPY_MODEL_d7067719fd6141a4aea97be115bd8f95",
       "outputs": [
        {
         "name": "stdout",
         "output_type": "stream",
         "text": "ID: 70e7bd2f-b69a-4208-945e-0d107daea485\n\nMetadata: {'filename': 'data/bbc/business/226.txt'}\n\nmcdonalds to sponsor mtv show mcdonalds the worlds largest restaurant chain is to sponsor programme on music channel mtv as part of its latest youth market promotion the show advance warning highlights new talent and mtv reckons it will give mcdonalds access to nearly million homes in countries mcdonalds golden arches name and im loving it catchphrase will be used throughout the half-hour programme the move comes amid growing concerns about obesity in europe and the us the european union has called on the food industry to reduce the number of adverts aimed at young children warning that legislation would be introduced unless voluntary steps were taken in the us food group kraft is among firms that already have cut back on promoting sugar and fattening products to the young mcdonalds has also been taking steps to improve its junk food reputation revamping its menu and providing clients with health-related products such as pedometers as well as burgers like the big mac and quarter pounder with cheese the company now sells healthier options such as salads and fresh fruit chief_executive jim skinner attributed an increase in january worldwide sales to the vitality of our menu among other things hooking up with mtv is expected to add extra momentum to mcdonalds recent revival mtv which played key role in the emergence of the music video is to show advance warning on all of its channels across the world the programme can at present only been seen in the us where it has featured artists like british stars joss_stone and franz_ferdinand mcdonalds has targeted the youth market in the past with its advertisements signing up stars like jelly-legged dancer justin_timberlake and all-woman singing group destinys child\n\n[(4, 0.2849612236022949),\n (1, 0.24935834109783173),\n (6, 0.19333449006080627),\n (9, 0.13949696719646454),\n (8, 0.12418993562459946),\n (5, 0.00836983323097229),\n (7, 9.747652075020596e-05),\n (10, 7.284103048732504e-05),\n (2, 6.673431198578328e-05),\n (3, 5.224308551987633e-05)]\n"
        }
       ]
      }
     },
     "2a8c772c816c4759b5e483dc11a30e37": {
      "model_module": "@jupyter-widgets/base",
      "model_module_version": "1.2.0",
      "model_name": "LayoutModel",
      "state": {}
     },
     "2ad83e23142e41d698058fa3d8750f81": {
      "model_module": "@jupyter-widgets/controls",
      "model_module_version": "1.5.0",
      "model_name": "VBoxModel",
      "state": {
       "_dom_classes": [
        "widget-interact"
       ],
       "children": [
        "IPY_MODEL_2c9d67de255b46c98008b1ebe5572d21",
        "IPY_MODEL_77194e0350834514adcf86e232f0a31a"
       ],
       "layout": "IPY_MODEL_c7bc15d005d347e5923bea1b4d0a6350"
      }
     },
     "2c9d67de255b46c98008b1ebe5572d21": {
      "model_module": "@jupyter-widgets/controls",
      "model_module_version": "1.5.0",
      "model_name": "IntSliderModel",
      "state": {
       "description": "index",
       "layout": "IPY_MODEL_81a27238f01b4ef5ad29b75dce2d4e41",
       "max": 370,
       "style": "IPY_MODEL_f5312b7de1c04925b4cae035683b64fd"
      }
     },
     "2e381aa08f0f498f97bdc2a2aae009da": {
      "model_module": "@jupyter-widgets/controls",
      "model_module_version": "1.5.0",
      "model_name": "VBoxModel",
      "state": {
       "_dom_classes": [
        "widget-interact"
       ],
       "children": [
        "IPY_MODEL_3a292d4848e340bbb03efcb44b4c5546",
        "IPY_MODEL_5259f03c2a4f4730902ea770b0867c84"
       ],
       "layout": "IPY_MODEL_0c6041bc44c44b2793dab67ad5b0794b"
      }
     },
     "300ddb0791ce4396893229818dff50e8": {
      "model_module": "@jupyter-widgets/output",
      "model_module_version": "1.0.0",
      "model_name": "OutputModel",
      "state": {
       "layout": "IPY_MODEL_510ec16b4b0c460395beef57d1b19385",
       "outputs": [
        {
         "name": "stdout",
         "output_type": "stream",
         "text": "{'filename': 'data/bbc/business/001.txt'}\n\nAd sales boost Time Warner profit\n\nQuarterly profits at US media giant TimeWarner jumped 76% to $1.13bn (Â£600m) for the three months to December, from $639m year-earlier.\n\nThe firm, which is now one of the biggest investors in Google, benefited from sales of high-speed internet connections and higher advert sales. TimeWarner said fourth quarter sales rose 2% to $11.1bn from $10.9bn. Its profits were buoyed by one-off gains which offset a profit dip at Warner Bros, and less users for AOL.\n\nTime Warner said on Friday that it now owns 8% of search-engine Google. But its own internet business, AOL, had has mixed fortunes. It lost 464,000 subscribers in the fourth quarter profits were lower than in the preceding three quarters. However, the company said AOL's underlying profit before exceptional items rose 8% on the back of stronger internet advertising revenues. It hopes to increase subscribers by offering the online service free to TimeWarner internet customers and will try to sign up AOL's existing customers for high-speed broadband. TimeWarner also has to restate 2000 and 2003 results following a probe by the US Securities Exchange Commission (SEC), which is close to concluding.\n\nTime Warner's fourth quarter profits were slightly better than analysts' expectations. But its film division saw profits slump 27% to $284m, helped by box-office flops Alexander and Catwoman, a sharp contrast to year-earlier, when the third and final film in the Lord of the Rings trilogy boosted results. For the full-year, TimeWarner posted a profit of $3.36bn, up 27% from its 2003 performance, while revenues grew 6.4% to $42.09bn. \"Our financial performance was strong, meeting or exceeding all of our full-year objectives and greatly enhancing our flexibility,\" chairman and chief executive Richard Parsons said. For 2005, TimeWarner is projecting operating earnings growth of around 5%, and also expects higher revenue and wider profit margins.\n\nTimeWarner is to restate its accounts as part of efforts to resolve an inquiry into AOL by US market regulators. It has already offered to pay $300m to settle charges, in a deal that is under review by the SEC. The company said it was unable to estimate the amount it needed to set aside for legal reserves, which it previously set at $500m. It intends to adjust the way it accounts for a deal with German music publisher Bertelsmann's purchase of a stake in AOL Europe, which it had reported as advertising revenue. It will now book the sale of its stake in AOL Europe as a loss on the value of that stake.\n\n"
        }
       ]
      }
     },
     "363d527b513e4ffab5f46f0a9cc2737b": {
      "model_module": "@jupyter-widgets/base",
      "model_module_version": "1.2.0",
      "model_name": "LayoutModel",
      "state": {}
     },
     "3a292d4848e340bbb03efcb44b4c5546": {
      "model_module": "@jupyter-widgets/controls",
      "model_module_version": "1.5.0",
      "model_name": "IntSliderModel",
      "state": {
       "description": "doc_id",
       "layout": "IPY_MODEL_9ed5f929f05949ca81047f3a84ae1e84",
       "max": 2224,
       "style": "IPY_MODEL_5c718fb3a6c54077b79a5a284570c0e0"
      }
     },
     "48016a552ad042d2bb8d1559c5c18465": {
      "model_module": "@jupyter-widgets/output",
      "model_module_version": "1.0.0",
      "model_name": "OutputModel",
      "state": {
       "layout": "IPY_MODEL_68a3f95f1b4f4ef3912fa720b0495cb6",
       "outputs": [
        {
         "name": "stdout",
         "output_type": "stream",
         "text": "ID: 70e7bd2f-b69a-4208-945e-0d107daea485\n\nMetadata: {'filename': 'data/bbc/business/226.txt'}\n\nmcdonalds to sponsor mtv show mcdonalds the worlds largest restaurant chain is to sponsor programme on music channel mtv as part of its latest youth market promotion the show advance warning highlights new talent and mtv reckons it will give mcdonalds access to nearly million homes in countries mcdonalds golden arches name and im loving it catchphrase will be used throughout the half-hour programme the move comes amid growing concerns about obesity in europe and the us the european union has called on the food industry to reduce the number of adverts aimed at young children warning that legislation would be introduced unless voluntary steps were taken in the us food group kraft is among firms that already have cut back on promoting sugar and fattening products to the young mcdonalds has also been taking steps to improve its junk food reputation revamping its menu and providing clients with health-related products such as pedometers as well as burgers like the big mac and quarter pounder with cheese the company now sells healthier options such as salads and fresh fruit chief_executive jim skinner attributed an increase in january worldwide sales to the vitality of our menu among other things hooking up with mtv is expected to add extra momentum to mcdonalds recent revival mtv which played key role in the emergence of the music video is to show advance warning on all of its channels across the world the programme can at present only been seen in the us where it has featured artists like british stars joss_stone and franz_ferdinand mcdonalds has targeted the youth market in the past with its advertisements signing up stars like jelly-legged dancer justin_timberlake and all-woman singing group destinys child\n\n[(4, 0.2849612236022949),\n (1, 0.24935834109783173),\n (6, 0.19333449006080627),\n (9, 0.13949696719646454),\n (8, 0.12418993562459946),\n (5, 0.00836983323097229),\n (7, 9.747652075020596e-05),\n (10, 7.284103048732504e-05),\n (2, 6.673431198578328e-05),\n (3, 5.224308551987633e-05)]\n"
        }
       ]
      }
     },
     "490561ff95494471857a4a285be74ca2": {
      "model_module": "@jupyter-widgets/controls",
      "model_module_version": "1.5.0",
      "model_name": "VBoxModel",
      "state": {
       "_dom_classes": [
        "widget-interact"
       ],
       "children": [
        "IPY_MODEL_92ea53d097714c179d9aeebdc0d97c6b",
        "IPY_MODEL_853d9fa3e3f0408ea6ff1747246a44df"
       ],
       "layout": "IPY_MODEL_9ec89b76e50e4dd485f92e5910d6940c"
      }
     },
     "4a3ed32352254eeebe3368a117a9a382": {
      "model_module": "@jupyter-widgets/controls",
      "model_module_version": "1.5.0",
      "model_name": "SliderStyleModel",
      "state": {
       "description_width": ""
      }
     },
     "4a8c30b2cc3d46f0bf7c61fdcb53cf9a": {
      "model_module": "@jupyter-widgets/controls",
      "model_module_version": "1.5.0",
      "model_name": "SliderStyleModel",
      "state": {
       "description_width": ""
      }
     },
     "4df391293247441dba818e14d38af8ea": {
      "model_module": "@jupyter-widgets/base",
      "model_module_version": "1.2.0",
      "model_name": "LayoutModel",
      "state": {}
     },
     "510ec16b4b0c460395beef57d1b19385": {
      "model_module": "@jupyter-widgets/base",
      "model_module_version": "1.2.0",
      "model_name": "LayoutModel",
      "state": {}
     },
     "519a00c1c6074ba98bbfcfe05314e4f8": {
      "model_module": "@jupyter-widgets/base",
      "model_module_version": "1.2.0",
      "model_name": "LayoutModel",
      "state": {}
     },
     "5259f03c2a4f4730902ea770b0867c84": {
      "model_module": "@jupyter-widgets/output",
      "model_module_version": "1.0.0",
      "model_name": "OutputModel",
      "state": {
       "layout": "IPY_MODEL_1f898984afc444e49b13dc17023418de",
       "outputs": [
        {
         "name": "stdout",
         "output_type": "stream",
         "text": "{'filename': 'data/bbc/business/001.txt'}\n\nad sales boost time warner profit quarterly profits at us media giant timewarner jumped to $1.13bn â£600m for the three months to december from $639m year-earlier the firm which is now one of the biggest investors in google benefited from sales of high-speed internet connections and higher advert sales timewarner said fourth quarter sales rose to $11.1bn from $10.9bn its profits were buoyed by one-off gains which offset profit dip at warner bros and less users for aol time warner said on friday that it now owns of search-engine google but its own internet business aol had has mixed fortunes it lost subscribers in the fourth quarter profits were lower than in the preceding three quarters however the company said aols underlying profit before exceptional items rose on the back of stronger internet advertising revenues it hopes to increase subscribers by offering the online service free to timewarner internet customers and will try to sign up aols existing customers for high-speed broadband timewarner also has to restate and results following probe by the us securities exchange commission sec which is close to concluding time warners fourth quarter profits were slightly better than analysts expectations but its film division saw profits slump to $284m helped by box-office flops alexander and catwoman sharp contrast to year-earlier when the third and final film in the lord_of_the_rings trilogy boosted results for the full-year timewarner posted profit of $3.36bn up from its performance while revenues grew to $42.09bn our financial performance was strong meeting or exceeding all of our full-year objectives and greatly enhancing our flexibility chairman and chief_executive richard parsons said for timewarner is projecting operating earnings growth of around and also expects higher revenue and wider profit margins timewarner is to restate its accounts as part of efforts to resolve an inquiry into aol by us market regulators it has already offered to pay $300m to settle charges in deal that is under review by the sec the company said it was unable to estimate the amount it needed to set aside for legal reserves which it previously set at $500m it intends to adjust the way it accounts for deal with german music publisher bertelsmanns purchase of stake in aol europe which it had reported as advertising revenue it will now book the sale of its stake in aol europe as loss on the value of that stake\n"
        }
       ]
      }
     },
     "5398c3203f294e11b8a00519d052663f": {
      "model_module": "@jupyter-widgets/base",
      "model_module_version": "1.2.0",
      "model_name": "LayoutModel",
      "state": {}
     },
     "5406392c76344d5792e38f0ef963b0ce": {
      "model_module": "@jupyter-widgets/output",
      "model_module_version": "1.0.0",
      "model_name": "OutputModel",
      "state": {
       "layout": "IPY_MODEL_665de1677c814f52a4b084e82d8c2878",
       "outputs": [
        {
         "name": "stdout",
         "output_type": "stream",
         "text": "ID: 70e7bd2f-b69a-4208-945e-0d107daea485\n\nMetadata: {'filename': 'data/bbc/business/226.txt'}\n\nmcdonalds to sponsor mtv show mcdonalds the worlds largest restaurant chain is to sponsor programme on music channel mtv as part of its latest youth market promotion the show advance warning highlights new talent and mtv reckons it will give mcdonalds access to nearly million homes in countries mcdonalds golden arches name and im loving it catchphrase will be used throughout the half-hour programme the move comes amid growing concerns about obesity in europe and the us the european union has called on the food industry to reduce the number of adverts aimed at young children warning that legislation would be introduced unless voluntary steps were taken in the us food group kraft is among firms that already have cut back on promoting sugar and fattening products to the young mcdonalds has also been taking steps to improve its junk food reputation revamping its menu and providing clients with health-related products such as pedometers as well as burgers like the big mac and quarter pounder with cheese the company now sells healthier options such as salads and fresh fruit chief_executive jim skinner attributed an increase in january worldwide sales to the vitality of our menu among other things hooking up with mtv is expected to add extra momentum to mcdonalds recent revival mtv which played key role in the emergence of the music video is to show advance warning on all of its channels across the world the programme can at present only been seen in the us where it has featured artists like british stars joss_stone and franz_ferdinand mcdonalds has targeted the youth market in the past with its advertisements signing up stars like jelly-legged dancer justin_timberlake and all-woman singing group destinys child\n\n[(4, 0.2849612236022949),\n (1, 0.24935834109783173),\n (6, 0.19333449006080627),\n (9, 0.13949696719646454),\n (8, 0.12418993562459946),\n (5, 0.00836983323097229),\n (7, 9.747652075020596e-05),\n (10, 7.284103048732504e-05),\n (2, 6.673431198578328e-05),\n (3, 5.224308551987633e-05)]\n"
        }
       ]
      }
     },
     "596c9f0a5ee54976b5c305733046eb20": {
      "model_module": "@jupyter-widgets/controls",
      "model_module_version": "1.5.0",
      "model_name": "VBoxModel",
      "state": {
       "_dom_classes": [
        "widget-interact"
       ],
       "children": [
        "IPY_MODEL_72c64a752960491d904da0ddbdf4798b",
        "IPY_MODEL_972d09b6a6024423a6de54b5f13114a5"
       ],
       "layout": "IPY_MODEL_c8473dedaa18462dbd9ed2df63cffc33"
      }
     },
     "5a47d5a539584cd7bbb3169fda2e907a": {
      "model_module": "@jupyter-widgets/base",
      "model_module_version": "1.2.0",
      "model_name": "LayoutModel",
      "state": {}
     },
     "5c718fb3a6c54077b79a5a284570c0e0": {
      "model_module": "@jupyter-widgets/controls",
      "model_module_version": "1.5.0",
      "model_name": "SliderStyleModel",
      "state": {
       "description_width": ""
      }
     },
     "5dd47c85142c4e8db4b4e27838057f65": {
      "model_module": "@jupyter-widgets/base",
      "model_module_version": "1.2.0",
      "model_name": "LayoutModel",
      "state": {}
     },
     "665de1677c814f52a4b084e82d8c2878": {
      "model_module": "@jupyter-widgets/base",
      "model_module_version": "1.2.0",
      "model_name": "LayoutModel",
      "state": {}
     },
     "676a37b257694524bc023f19f0ddc486": {
      "model_module": "@jupyter-widgets/base",
      "model_module_version": "1.2.0",
      "model_name": "LayoutModel",
      "state": {}
     },
     "67accd8003464d898c0bab79dd90ddc2": {
      "model_module": "@jupyter-widgets/output",
      "model_module_version": "1.0.0",
      "model_name": "OutputModel",
      "state": {
       "layout": "IPY_MODEL_d01abdd844094c9ca7ce2f9f4e442cfb",
       "outputs": [
        {
         "name": "stdout",
         "output_type": "stream",
         "text": "ID: 70e7bd2f-b69a-4208-945e-0d107daea485\n\nMetadata: {'filename': 'data/bbc/business/226.txt'}\n\nmcdonalds to sponsor mtv show mcdonalds the worlds largest restaurant chain is to sponsor programme on music channel mtv as part of its latest youth market promotion the show advance warning highlights new talent and mtv reckons it will give mcdonalds access to nearly million homes in countries mcdonalds golden arches name and im loving it catchphrase will be used throughout the half-hour programme the move comes amid growing concerns about obesity in europe and the us the european union has called on the food industry to reduce the number of adverts aimed at young children warning that legislation would be introduced unless voluntary steps were taken in the us food group kraft is among firms that already have cut back on promoting sugar and fattening products to the young mcdonalds has also been taking steps to improve its junk food reputation revamping its menu and providing clients with health-related products such as pedometers as well as burgers like the big mac and quarter pounder with cheese the company now sells healthier options such as salads and fresh fruit chief_executive jim skinner attributed an increase in january worldwide sales to the vitality of our menu among other things hooking up with mtv is expected to add extra momentum to mcdonalds recent revival mtv which played key role in the emergence of the music video is to show advance warning on all of its channels across the world the programme can at present only been seen in the us where it has featured artists like british stars joss_stone and franz_ferdinand mcdonalds has targeted the youth market in the past with its advertisements signing up stars like jelly-legged dancer justin_timberlake and all-woman singing group destinys child\n\n[(4, 0.2849612236022949),\n (1, 0.24935834109783173),\n (6, 0.19333449006080627),\n (9, 0.13949696719646454),\n (8, 0.12418993562459946),\n (5, 0.00836983323097229),\n (7, 9.747652075020596e-05),\n (10, 7.284103048732504e-05),\n (2, 6.673431198578328e-05),\n (3, 5.224308551987633e-05)]\n"
        }
       ]
      }
     },
     "680aadc6311a4aab8a86f87343d9fe3d": {
      "model_module": "@jupyter-widgets/base",
      "model_module_version": "1.2.0",
      "model_name": "LayoutModel",
      "state": {}
     },
     "68a3f95f1b4f4ef3912fa720b0495cb6": {
      "model_module": "@jupyter-widgets/base",
      "model_module_version": "1.2.0",
      "model_name": "LayoutModel",
      "state": {}
     },
     "690e8ae07de54a8ea2a962a07894566e": {
      "model_module": "@jupyter-widgets/controls",
      "model_module_version": "1.5.0",
      "model_name": "IntSliderModel",
      "state": {
       "description": "index",
       "layout": "IPY_MODEL_6fd580fb594e4fd89ce9b0bb19665a69",
       "max": 370,
       "style": "IPY_MODEL_6bc797c38d5044058070673ad92b21bb"
      }
     },
     "6bc797c38d5044058070673ad92b21bb": {
      "model_module": "@jupyter-widgets/controls",
      "model_module_version": "1.5.0",
      "model_name": "SliderStyleModel",
      "state": {
       "description_width": ""
      }
     },
     "6c64328a7d6b4433b0dd606a8b9dc44c": {
      "model_module": "@jupyter-widgets/base",
      "model_module_version": "1.2.0",
      "model_name": "LayoutModel",
      "state": {}
     },
     "6e2d7a2b5ae14a82bc6493af5230b988": {
      "model_module": "@jupyter-widgets/base",
      "model_module_version": "1.2.0",
      "model_name": "LayoutModel",
      "state": {}
     },
     "6fd580fb594e4fd89ce9b0bb19665a69": {
      "model_module": "@jupyter-widgets/base",
      "model_module_version": "1.2.0",
      "model_name": "LayoutModel",
      "state": {}
     },
     "711ddd4ec3f34ce59dae8a3f421ed0dd": {
      "model_module": "@jupyter-widgets/output",
      "model_module_version": "1.0.0",
      "model_name": "OutputModel",
      "state": {
       "layout": "IPY_MODEL_a1f16a1df61940cbad034131f93a388e",
       "outputs": [
        {
         "name": "stdout",
         "output_type": "stream",
         "text": "ID: 70e7bd2f-b69a-4208-945e-0d107daea485\n\nMetadata: {'filename': 'data/bbc/business/226.txt'}\n\nmcdonalds to sponsor mtv show mcdonalds the worlds largest restaurant chain is to sponsor programme on music channel mtv as part of its latest youth market promotion the show advance warning highlights new talent and mtv reckons it will give mcdonalds access to nearly million homes in countries mcdonalds golden arches name and im loving it catchphrase will be used throughout the half-hour programme the move comes amid growing concerns about obesity in europe and the us the european union has called on the food industry to reduce the number of adverts aimed at young children warning that legislation would be introduced unless voluntary steps were taken in the us food group kraft is among firms that already have cut back on promoting sugar and fattening products to the young mcdonalds has also been taking steps to improve its junk food reputation revamping its menu and providing clients with health-related products such as pedometers as well as burgers like the big mac and quarter pounder with cheese the company now sells healthier options such as salads and fresh fruit chief_executive jim skinner attributed an increase in january worldwide sales to the vitality of our menu among other things hooking up with mtv is expected to add extra momentum to mcdonalds recent revival mtv which played key role in the emergence of the music video is to show advance warning on all of its channels across the world the programme can at present only been seen in the us where it has featured artists like british stars joss_stone and franz_ferdinand mcdonalds has targeted the youth market in the past with its advertisements signing up stars like jelly-legged dancer justin_timberlake and all-woman singing group destinys child\n\n[(4, 0.2849612236022949),\n (1, 0.24935834109783173),\n (6, 0.19333449006080627),\n (9, 0.13949696719646454),\n (8, 0.12418993562459946),\n (5, 0.00836983323097229),\n (7, 9.747652075020596e-05),\n (10, 7.284103048732504e-05),\n (2, 6.673431198578328e-05),\n (3, 5.224308551987633e-05)]\n"
        }
       ]
      }
     },
     "72c64a752960491d904da0ddbdf4798b": {
      "model_module": "@jupyter-widgets/controls",
      "model_module_version": "1.5.0",
      "model_name": "IntSliderModel",
      "state": {
       "description": "doc_id",
       "layout": "IPY_MODEL_4df391293247441dba818e14d38af8ea",
       "max": 2224,
       "style": "IPY_MODEL_4a3ed32352254eeebe3368a117a9a382"
      }
     },
     "74d79716b3b0483b8efc190a77f151de": {
      "model_module": "@jupyter-widgets/base",
      "model_module_version": "1.2.0",
      "model_name": "LayoutModel",
      "state": {}
     },
     "77194e0350834514adcf86e232f0a31a": {
      "model_module": "@jupyter-widgets/output",
      "model_module_version": "1.0.0",
      "model_name": "OutputModel",
      "state": {
       "layout": "IPY_MODEL_676a37b257694524bc023f19f0ddc486",
       "outputs": [
        {
         "name": "stdout",
         "output_type": "stream",
         "text": "ID: 70e7bd2f-b69a-4208-945e-0d107daea485\n\nMetadata: {'filename': 'data/bbc/business/226.txt'}\n\nmcdonalds to sponsor mtv show mcdonalds the worlds largest restaurant chain is to sponsor programme on music channel mtv as part of its latest youth market promotion the show advance warning highlights new talent and mtv reckons it will give mcdonalds access to nearly million homes in countries mcdonalds golden arches name and im loving it catchphrase will be used throughout the half-hour programme the move comes amid growing concerns about obesity in europe and the us the european union has called on the food industry to reduce the number of adverts aimed at young children warning that legislation would be introduced unless voluntary steps were taken in the us food group kraft is among firms that already have cut back on promoting sugar and fattening products to the young mcdonalds has also been taking steps to improve its junk food reputation revamping its menu and providing clients with health-related products such as pedometers as well as burgers like the big mac and quarter pounder with cheese the company now sells healthier options such as salads and fresh fruit chief_executive jim skinner attributed an increase in january worldwide sales to the vitality of our menu among other things hooking up with mtv is expected to add extra momentum to mcdonalds recent revival mtv which played key role in the emergence of the music video is to show advance warning on all of its channels across the world the programme can at present only been seen in the us where it has featured artists like british stars joss_stone and franz_ferdinand mcdonalds has targeted the youth market in the past with its advertisements signing up stars like jelly-legged dancer justin_timberlake and all-woman singing group destinys child\n\n[(4, 0.2849612236022949),\n (1, 0.24935834109783173),\n (6, 0.19333449006080627),\n (9, 0.13949696719646454),\n (8, 0.12418993562459946),\n (5, 0.00836983323097229),\n (7, 9.747652075020596e-05),\n (10, 7.284103048732504e-05),\n (2, 6.673431198578328e-05),\n (3, 5.224308551987633e-05)]\n"
        }
       ]
      }
     },
     "792266eafff642f08f0368a1d69f52af": {
      "model_module": "@jupyter-widgets/base",
      "model_module_version": "1.2.0",
      "model_name": "LayoutModel",
      "state": {}
     },
     "7ee0cce1eda8470caabe7835136e5f3a": {
      "model_module": "@jupyter-widgets/base",
      "model_module_version": "1.2.0",
      "model_name": "LayoutModel",
      "state": {}
     },
     "7f8e44ba6e234d9d99549134f6979904": {
      "model_module": "@jupyter-widgets/base",
      "model_module_version": "1.2.0",
      "model_name": "LayoutModel",
      "state": {}
     },
     "81a27238f01b4ef5ad29b75dce2d4e41": {
      "model_module": "@jupyter-widgets/base",
      "model_module_version": "1.2.0",
      "model_name": "LayoutModel",
      "state": {}
     },
     "853d9fa3e3f0408ea6ff1747246a44df": {
      "model_module": "@jupyter-widgets/output",
      "model_module_version": "1.0.0",
      "model_name": "OutputModel",
      "state": {
       "layout": "IPY_MODEL_6c64328a7d6b4433b0dd606a8b9dc44c",
       "outputs": [
        {
         "name": "stdout",
         "output_type": "stream",
         "text": "ID: 70e7bd2f-b69a-4208-945e-0d107daea485\n\nMetadata: {'filename': 'data/bbc/business/226.txt'}\n\nmcdonalds to sponsor mtv show mcdonalds the worlds largest restaurant chain is to sponsor programme on music channel mtv as part of its latest youth market promotion the show advance warning highlights new talent and mtv reckons it will give mcdonalds access to nearly million homes in countries mcdonalds golden arches name and im loving it catchphrase will be used throughout the half-hour programme the move comes amid growing concerns about obesity in europe and the us the european union has called on the food industry to reduce the number of adverts aimed at young children warning that legislation would be introduced unless voluntary steps were taken in the us food group kraft is among firms that already have cut back on promoting sugar and fattening products to the young mcdonalds has also been taking steps to improve its junk food reputation revamping its menu and providing clients with health-related products such as pedometers as well as burgers like the big mac and quarter pounder with cheese the company now sells healthier options such as salads and fresh fruit chief_executive jim skinner attributed an increase in january worldwide sales to the vitality of our menu among other things hooking up with mtv is expected to add extra momentum to mcdonalds recent revival mtv which played key role in the emergence of the music video is to show advance warning on all of its channels across the world the programme can at present only been seen in the us where it has featured artists like british stars joss_stone and franz_ferdinand mcdonalds has targeted the youth market in the past with its advertisements signing up stars like jelly-legged dancer justin_timberlake and all-woman singing group destinys child\n\n[(4, 0.2849612236022949),\n (1, 0.24935834109783173),\n (6, 0.19333449006080627),\n (9, 0.13949696719646454),\n (8, 0.12418993562459946),\n (5, 0.00836983323097229),\n (7, 9.747652075020596e-05),\n (10, 7.284103048732504e-05),\n (2, 6.673431198578328e-05),\n (3, 5.224308551987633e-05)]\n"
        }
       ]
      }
     },
     "86c381f1f5fd48baafaadd49828f41d8": {
      "model_module": "@jupyter-widgets/controls",
      "model_module_version": "1.5.0",
      "model_name": "IntSliderModel",
      "state": {
       "description": "index",
       "layout": "IPY_MODEL_2a8c772c816c4759b5e483dc11a30e37",
       "max": 370,
       "style": "IPY_MODEL_113de4bd821446a8ae532669209ad667"
      }
     },
     "8ccb4b4346004a5bbb8f5aabb1bcdef7": {
      "model_module": "@jupyter-widgets/base",
      "model_module_version": "1.2.0",
      "model_name": "LayoutModel",
      "state": {}
     },
     "8d795a6ebabf4a5ebdf4ddb9e6aa5cd0": {
      "model_module": "@jupyter-widgets/controls",
      "model_module_version": "1.5.0",
      "model_name": "SliderStyleModel",
      "state": {
       "description_width": ""
      }
     },
     "92ea53d097714c179d9aeebdc0d97c6b": {
      "model_module": "@jupyter-widgets/controls",
      "model_module_version": "1.5.0",
      "model_name": "IntSliderModel",
      "state": {
       "description": "index",
       "layout": "IPY_MODEL_cb6837459fd747f3a8d3429af143b519",
       "max": 370,
       "style": "IPY_MODEL_0300157e7e12417f9f4234fcd0e3219f"
      }
     },
     "9636b5d65c6c45df80d319d5ae4775a8": {
      "model_module": "@jupyter-widgets/controls",
      "model_module_version": "1.5.0",
      "model_name": "IntSliderModel",
      "state": {
       "description": "doc_id",
       "layout": "IPY_MODEL_13eb7efb1d294d8390b86540aaaeeb07",
       "max": 2224,
       "style": "IPY_MODEL_0176bce07868479ba1260626d7e96ae2"
      }
     },
     "963c8fb4d7e24e14b38a4ef5f44001e5": {
      "model_module": "@jupyter-widgets/output",
      "model_module_version": "1.0.0",
      "model_name": "OutputModel",
      "state": {
       "layout": "IPY_MODEL_c7609d692cbd4e8e967cb8cbd2357b69",
       "outputs": [
        {
         "name": "stdout",
         "output_type": "stream",
         "text": "{'filename': 'data/bbc/business/001.txt'}\n\nad sales boost time warner profit quarterly profits at us media giant timewarner jumped 76% to $1.13bn â£600m for the three months to december from $639m year-earlier the firm which is now one of the biggest investors in google benefited from sales of high-speed internet connections and higher advert sales timewarner said fourth quarter sales rose 2% to $11.1bn from $10.9bn its profits were buoyed by one-off gains which offset a profit dip at warner bros and less users for aol time warner said on friday that it now owns 8% of search-engine google but its own internet business aol had has mixed fortunes it lost 464,000 subscribers in the fourth quarter profits were lower than in the preceding three quarters however the company said aols underlying profit before exceptional items rose 8% on the back of stronger internet advertising revenues it hopes to increase subscribers by offering the online service free to timewarner internet customers and will try to sign up aols existing customers for high-speed broadband timewarner also has to restate 2000 and 2003 results following a probe by the us securities exchange commission sec which is close to concluding time warners fourth quarter profits were slightly better than analysts expectations but its film division saw profits slump 27% to $284m helped by box-office flops alexander and catwoman a sharp contrast to year-earlier when the third and final film in the lord_of_the_rings trilogy boosted results for the full-year timewarner posted a profit of $3.36bn up 27% from its 2003 performance while revenues grew 6.4% to $42.09bn our financial performance was strong meeting or exceeding all of our full-year objectives and greatly enhancing our flexibility chairman and chief_executive richard parsons said for 2005 timewarner is projecting operating earnings growth of around 5% and also expects higher revenue and wider profit margins timewarner is to restate its accounts as part of efforts to resolve an inquiry into aol by us market regulators it has already offered to pay $300m to settle charges in a deal that is under review by the sec the company said it was unable to estimate the amount it needed to set aside for legal reserves which it previously set at $500m it intends to adjust the way it accounts for a deal with german music publisher bertelsmanns purchase of a stake in aol europe which it had reported as advertising revenue it will now book the sale of its stake in aol europe as a loss on the value of that stake\n"
        }
       ]
      }
     },
     "972d09b6a6024423a6de54b5f13114a5": {
      "model_module": "@jupyter-widgets/output",
      "model_module_version": "1.0.0",
      "model_name": "OutputModel",
      "state": {
       "layout": "IPY_MODEL_6e2d7a2b5ae14a82bc6493af5230b988",
       "outputs": [
        {
         "name": "stdout",
         "output_type": "stream",
         "text": "{'filename': 'data/bbc/business/001.txt'}\n\nad sales boost time warner profit quarterly profits at us media giant timewarner jumped 76% to $1.13bn â£600m for the three months to december from $639m year-earlier the firm which is now one of the biggest investors in google benefited from sales of high-speed internet connections and higher advert sales timewarner said fourth quarter sales rose 2% to $11.1bn from $10.9bn its profits were buoyed by one-off gains which offset a profit dip at warner bros and less users for aol time warner said on friday that it now owns 8% of search-engine google but its own internet business aol had has mixed fortunes it lost 464,000 subscribers in the fourth quarter profits were lower than in the preceding three quarters however the company said aols underlying profit before exceptional items rose 8% on the back of stronger internet advertising revenues it hopes to increase subscribers by offering the online service free to timewarner internet customers and will try to sign up aols existing customers for high-speed broadband timewarner also has to restate 2000 and 2003 results following a probe by the us securities exchange commission sec which is close to concluding time warners fourth quarter profits were slightly better than analysts expectations but its film division saw profits slump 27% to $284m helped by box-office flops alexander and catwoman a sharp contrast to year-earlier when the third and final film in the lord of the rings trilogy boosted results for the full-year timewarner posted a profit of $3.36bn up 27% from its 2003 performance while revenues grew 6.4% to $42.09bn our financial performance was strong meeting or exceeding all of our full-year objectives and greatly enhancing our flexibility chairman and chief executive richard parsons said for 2005 timewarner is projecting operating earnings growth of around 5% and also expects higher revenue and wider profit margins timewarner is to restate its accounts as part of efforts to resolve an inquiry into aol by us market regulators it has already offered to pay $300m to settle charges in a deal that is under review by the sec the company said it was unable to estimate the amount it needed to set aside for legal reserves which it previously set at $500m it intends to adjust the way it accounts for a deal with german music publisher bertelsmanns purchase of a stake in aol europe which it had reported as advertising revenue it will now book the sale of its stake in aol europe as a loss on the value of that stake\n"
        }
       ]
      }
     },
     "99eddf6331cd43acadcbc4fb4e92c93c": {
      "model_module": "@jupyter-widgets/base",
      "model_module_version": "1.2.0",
      "model_name": "LayoutModel",
      "state": {}
     },
     "9aa7a1095dfa4ba1ac4da58f6ee815fa": {
      "model_module": "@jupyter-widgets/controls",
      "model_module_version": "1.5.0",
      "model_name": "SliderStyleModel",
      "state": {
       "description_width": ""
      }
     },
     "9ec89b76e50e4dd485f92e5910d6940c": {
      "model_module": "@jupyter-widgets/base",
      "model_module_version": "1.2.0",
      "model_name": "LayoutModel",
      "state": {}
     },
     "9ed5f929f05949ca81047f3a84ae1e84": {
      "model_module": "@jupyter-widgets/base",
      "model_module_version": "1.2.0",
      "model_name": "LayoutModel",
      "state": {}
     },
     "9ff4b57b808a4e0b9e7f60a8a6cb5aff": {
      "model_module": "@jupyter-widgets/controls",
      "model_module_version": "1.5.0",
      "model_name": "VBoxModel",
      "state": {
       "_dom_classes": [
        "widget-interact"
       ],
       "children": [
        "IPY_MODEL_2687dafe6bdd4989aefa5fbcbdadabbb",
        "IPY_MODEL_a6218002477e49109859d0f09dddf9ec"
       ],
       "layout": "IPY_MODEL_8ccb4b4346004a5bbb8f5aabb1bcdef7"
      }
     },
     "a1f16a1df61940cbad034131f93a388e": {
      "model_module": "@jupyter-widgets/base",
      "model_module_version": "1.2.0",
      "model_name": "LayoutModel",
      "state": {}
     },
     "a4811226021146e9b9cde3ad3284c05a": {
      "model_module": "@jupyter-widgets/controls",
      "model_module_version": "1.5.0",
      "model_name": "VBoxModel",
      "state": {
       "_dom_classes": [
        "widget-interact"
       ],
       "children": [
        "IPY_MODEL_aa3e4a64c9ec4283a5a18ac49a1fcea5",
        "IPY_MODEL_67accd8003464d898c0bab79dd90ddc2"
       ],
       "layout": "IPY_MODEL_5398c3203f294e11b8a00519d052663f"
      }
     },
     "a6218002477e49109859d0f09dddf9ec": {
      "model_module": "@jupyter-widgets/output",
      "model_module_version": "1.0.0",
      "model_name": "OutputModel",
      "state": {
       "layout": "IPY_MODEL_74d79716b3b0483b8efc190a77f151de",
       "outputs": [
        {
         "name": "stdout",
         "output_type": "stream",
         "text": "ID: 70e7bd2f-b69a-4208-945e-0d107daea485\n\nMetadata: {'filename': 'data/bbc/business/226.txt'}\n\nmcdonalds to sponsor mtv show mcdonalds the worlds largest restaurant chain is to sponsor programme on music channel mtv as part of its latest youth market promotion the show advance warning highlights new talent and mtv reckons it will give mcdonalds access to nearly million homes in countries mcdonalds golden arches name and im loving it catchphrase will be used throughout the half-hour programme the move comes amid growing concerns about obesity in europe and the us the european union has called on the food industry to reduce the number of adverts aimed at young children warning that legislation would be introduced unless voluntary steps were taken in the us food group kraft is among firms that already have cut back on promoting sugar and fattening products to the young mcdonalds has also been taking steps to improve its junk food reputation revamping its menu and providing clients with health-related products such as pedometers as well as burgers like the big mac and quarter pounder with cheese the company now sells healthier options such as salads and fresh fruit chief_executive jim skinner attributed an increase in january worldwide sales to the vitality of our menu among other things hooking up with mtv is expected to add extra momentum to mcdonalds recent revival mtv which played key role in the emergence of the music video is to show advance warning on all of its channels across the world the programme can at present only been seen in the us where it has featured artists like british stars joss_stone and franz_ferdinand mcdonalds has targeted the youth market in the past with its advertisements signing up stars like jelly-legged dancer justin_timberlake and all-woman singing group destinys child\n\n[(4, 0.2849612236022949),\n (1, 0.24935834109783173),\n (6, 0.19333449006080627),\n (9, 0.13949696719646454),\n (8, 0.12418993562459946),\n (5, 0.00836983323097229),\n (7, 9.747652075020596e-05),\n (10, 7.284103048732504e-05),\n (2, 6.673431198578328e-05),\n (3, 5.224308551987633e-05)]\n"
        }
       ]
      }
     },
     "a9701323f66e4b778123e91cd12c71a2": {
      "model_module": "@jupyter-widgets/output",
      "model_module_version": "1.0.0",
      "model_name": "OutputModel",
      "state": {
       "layout": "IPY_MODEL_99eddf6331cd43acadcbc4fb4e92c93c",
       "outputs": [
        {
         "name": "stdout",
         "output_type": "stream",
         "text": "ID: 70e7bd2f-b69a-4208-945e-0d107daea485\n\nMetadata: {'filename': 'data/bbc/business/226.txt'}\n\nmcdonalds to sponsor mtv show mcdonalds the worlds largest restaurant chain is to sponsor programme on music channel mtv as part of its latest youth market promotion the show advance warning highlights new talent and mtv reckons it will give mcdonalds access to nearly million homes in countries mcdonalds golden arches name and im loving it catchphrase will be used throughout the half-hour programme the move comes amid growing concerns about obesity in europe and the us the european union has called on the food industry to reduce the number of adverts aimed at young children warning that legislation would be introduced unless voluntary steps were taken in the us food group kraft is among firms that already have cut back on promoting sugar and fattening products to the young mcdonalds has also been taking steps to improve its junk food reputation revamping its menu and providing clients with health-related products such as pedometers as well as burgers like the big mac and quarter pounder with cheese the company now sells healthier options such as salads and fresh fruit chief_executive jim skinner attributed an increase in january worldwide sales to the vitality of our menu among other things hooking up with mtv is expected to add extra momentum to mcdonalds recent revival mtv which played key role in the emergence of the music video is to show advance warning on all of its channels across the world the programme can at present only been seen in the us where it has featured artists like british stars joss_stone and franz_ferdinand mcdonalds has targeted the youth market in the past with its advertisements signing up stars like jelly-legged dancer justin_timberlake and all-woman singing group destinys child\n\n[(4, 0.2849612236022949),\n (1, 0.24935834109783173),\n (6, 0.19333449006080627),\n (9, 0.13949696719646454),\n (8, 0.12418993562459946),\n (5, 0.00836983323097229),\n (7, 9.747652075020596e-05),\n (10, 7.284103048732504e-05),\n (2, 6.673431198578328e-05),\n (3, 5.224308551987633e-05)]\n"
        }
       ]
      }
     },
     "aa3e4a64c9ec4283a5a18ac49a1fcea5": {
      "model_module": "@jupyter-widgets/controls",
      "model_module_version": "1.5.0",
      "model_name": "IntSliderModel",
      "state": {
       "description": "index",
       "layout": "IPY_MODEL_bc0a346acaaf476abf6bddc9f382bb09",
       "max": 370,
       "style": "IPY_MODEL_8d795a6ebabf4a5ebdf4ddb9e6aa5cd0"
      }
     },
     "ac9870e55ac9466ab89e81e51cfb483e": {
      "model_module": "@jupyter-widgets/controls",
      "model_module_version": "1.5.0",
      "model_name": "VBoxModel",
      "state": {
       "_dom_classes": [
        "widget-interact"
       ],
       "children": [
        "IPY_MODEL_1c90c756572546b39e4ed98007b8f9b7",
        "IPY_MODEL_20e610f9f2ba427eaec9ddd66fabe88c"
       ],
       "layout": "IPY_MODEL_d1eb5380941e481b8566a93f262469a8"
      }
     },
     "b415818be16844599eff6bdc7ce5a552": {
      "model_module": "@jupyter-widgets/base",
      "model_module_version": "1.2.0",
      "model_name": "LayoutModel",
      "state": {}
     },
     "b5cc154c0da84a9b95e463fe55e0d966": {
      "model_module": "@jupyter-widgets/base",
      "model_module_version": "1.2.0",
      "model_name": "LayoutModel",
      "state": {}
     },
     "b9c33785b61548ef87e856bb3837a691": {
      "model_module": "@jupyter-widgets/controls",
      "model_module_version": "1.5.0",
      "model_name": "VBoxModel",
      "state": {
       "_dom_classes": [
        "widget-interact"
       ],
       "children": [
        "IPY_MODEL_e869e4e60b134cb5bb722830e5852d55",
        "IPY_MODEL_711ddd4ec3f34ce59dae8a3f421ed0dd"
       ],
       "layout": "IPY_MODEL_0f94827cc4b34197bced92a6a4c7117e"
      }
     },
     "bafdf5178bda4f7e8d6359d3f6585707": {
      "model_module": "@jupyter-widgets/controls",
      "model_module_version": "1.5.0",
      "model_name": "SliderStyleModel",
      "state": {
       "description_width": ""
      }
     },
     "bb6adc68372249d19d80228eca6bc67f": {
      "model_module": "@jupyter-widgets/controls",
      "model_module_version": "1.5.0",
      "model_name": "SliderStyleModel",
      "state": {
       "description_width": ""
      }
     },
     "bc0a346acaaf476abf6bddc9f382bb09": {
      "model_module": "@jupyter-widgets/base",
      "model_module_version": "1.2.0",
      "model_name": "LayoutModel",
      "state": {}
     },
     "bc3c0ab7399b4b16b5d34f7b6307998b": {
      "model_module": "@jupyter-widgets/controls",
      "model_module_version": "1.5.0",
      "model_name": "VBoxModel",
      "state": {
       "_dom_classes": [
        "widget-interact"
       ],
       "children": [
        "IPY_MODEL_e4e663e13b1c4bb4a38edf7e816b4937",
        "IPY_MODEL_300ddb0791ce4396893229818dff50e8"
       ],
       "layout": "IPY_MODEL_363d527b513e4ffab5f46f0a9cc2737b"
      }
     },
     "bc72a3b223dd433bac301f7650a3d020": {
      "model_module": "@jupyter-widgets/base",
      "model_module_version": "1.2.0",
      "model_name": "LayoutModel",
      "state": {}
     },
     "bcfcae1962bd4734bacbf0b83a089f98": {
      "model_module": "@jupyter-widgets/controls",
      "model_module_version": "1.5.0",
      "model_name": "IntSliderModel",
      "state": {
       "description": "index",
       "layout": "IPY_MODEL_fd4cb062a3384a66a2ce950974cee62d",
       "max": 370,
       "style": "IPY_MODEL_02c1b6343730431086b372ca058d19e7"
      }
     },
     "c379bbdba72347b7907066413e2878ca": {
      "model_module": "@jupyter-widgets/base",
      "model_module_version": "1.2.0",
      "model_name": "LayoutModel",
      "state": {}
     },
     "c5cdae633e8d419f8e138445d94e8bbc": {
      "model_module": "@jupyter-widgets/controls",
      "model_module_version": "1.5.0",
      "model_name": "SliderStyleModel",
      "state": {
       "description_width": ""
      }
     },
     "c7609d692cbd4e8e967cb8cbd2357b69": {
      "model_module": "@jupyter-widgets/base",
      "model_module_version": "1.2.0",
      "model_name": "LayoutModel",
      "state": {}
     },
     "c7bc15d005d347e5923bea1b4d0a6350": {
      "model_module": "@jupyter-widgets/base",
      "model_module_version": "1.2.0",
      "model_name": "LayoutModel",
      "state": {}
     },
     "c8473dedaa18462dbd9ed2df63cffc33": {
      "model_module": "@jupyter-widgets/base",
      "model_module_version": "1.2.0",
      "model_name": "LayoutModel",
      "state": {}
     },
     "cb6837459fd747f3a8d3429af143b519": {
      "model_module": "@jupyter-widgets/base",
      "model_module_version": "1.2.0",
      "model_name": "LayoutModel",
      "state": {}
     },
     "cb8ffac899fd49f4aec81b8369f050c7": {
      "model_module": "@jupyter-widgets/controls",
      "model_module_version": "1.5.0",
      "model_name": "VBoxModel",
      "state": {
       "_dom_classes": [
        "widget-interact"
       ],
       "children": [
        "IPY_MODEL_de5d3f08b9074881a025fa4f71dbbbdd",
        "IPY_MODEL_108053295dc54fe49e7eadc10584e6e3"
       ],
       "layout": "IPY_MODEL_d95bc8ea2fd64c45b0f88334689684fe"
      }
     },
     "d01abdd844094c9ca7ce2f9f4e442cfb": {
      "model_module": "@jupyter-widgets/base",
      "model_module_version": "1.2.0",
      "model_name": "LayoutModel",
      "state": {}
     },
     "d1eb5380941e481b8566a93f262469a8": {
      "model_module": "@jupyter-widgets/base",
      "model_module_version": "1.2.0",
      "model_name": "LayoutModel",
      "state": {}
     },
     "d4b17d6dfa9d4bd5bfa4d4cffcffbaac": {
      "model_module": "@jupyter-widgets/controls",
      "model_module_version": "1.5.0",
      "model_name": "VBoxModel",
      "state": {
       "_dom_classes": [
        "widget-interact"
       ],
       "children": [
        "IPY_MODEL_10beea248e3742c6b7318631de3c5ad7",
        "IPY_MODEL_2896be96c96347bf817db5ecbe5c71de"
       ],
       "layout": "IPY_MODEL_7ee0cce1eda8470caabe7835136e5f3a"
      }
     },
     "d7067719fd6141a4aea97be115bd8f95": {
      "model_module": "@jupyter-widgets/base",
      "model_module_version": "1.2.0",
      "model_name": "LayoutModel",
      "state": {}
     },
     "d95bc8ea2fd64c45b0f88334689684fe": {
      "model_module": "@jupyter-widgets/base",
      "model_module_version": "1.2.0",
      "model_name": "LayoutModel",
      "state": {}
     },
     "db82671388d349079324a42ea2dc8935": {
      "model_module": "@jupyter-widgets/base",
      "model_module_version": "1.2.0",
      "model_name": "LayoutModel",
      "state": {}
     },
     "de5d3f08b9074881a025fa4f71dbbbdd": {
      "model_module": "@jupyter-widgets/controls",
      "model_module_version": "1.5.0",
      "model_name": "IntSliderModel",
      "state": {
       "description": "index",
       "layout": "IPY_MODEL_08810c03c35340c0965aed0f2aefc885",
       "max": 370,
       "style": "IPY_MODEL_1853fc5fe063493d8b639352ab0b91ed"
      }
     },
     "e37ee7c75e744b6dbf4875ba5098d4c6": {
      "model_module": "@jupyter-widgets/controls",
      "model_module_version": "1.5.0",
      "model_name": "VBoxModel",
      "state": {
       "_dom_classes": [
        "widget-interact"
       ],
       "children": [
        "IPY_MODEL_86c381f1f5fd48baafaadd49828f41d8",
        "IPY_MODEL_fee91fba8f484fc38bf46d3fe1a51627"
       ],
       "layout": "IPY_MODEL_019fcbf53c834bf0b0154c872987adea"
      }
     },
     "e38c166b15e04cfc9569311a58384afa": {
      "model_module": "@jupyter-widgets/controls",
      "model_module_version": "1.5.0",
      "model_name": "VBoxModel",
      "state": {
       "_dom_classes": [
        "widget-interact"
       ],
       "children": [
        "IPY_MODEL_0272c9fb99e5482f81cfbf00b10d24d1",
        "IPY_MODEL_a9701323f66e4b778123e91cd12c71a2"
       ],
       "layout": "IPY_MODEL_5dd47c85142c4e8db4b4e27838057f65"
      }
     },
     "e4e663e13b1c4bb4a38edf7e816b4937": {
      "model_module": "@jupyter-widgets/controls",
      "model_module_version": "1.5.0",
      "model_name": "IntSliderModel",
      "state": {
       "description": "doc_id",
       "layout": "IPY_MODEL_0f6858aff9a6418893b5db2b75af667d",
       "max": 2224,
       "style": "IPY_MODEL_c5cdae633e8d419f8e138445d94e8bbc"
      }
     },
     "e869e4e60b134cb5bb722830e5852d55": {
      "model_module": "@jupyter-widgets/controls",
      "model_module_version": "1.5.0",
      "model_name": "IntSliderModel",
      "state": {
       "description": "index",
       "layout": "IPY_MODEL_5a47d5a539584cd7bbb3169fda2e907a",
       "max": 370,
       "style": "IPY_MODEL_4a8c30b2cc3d46f0bf7c61fdcb53cf9a"
      }
     },
     "f49a8783e5f04b40a0cddba92fe96f85": {
      "model_module": "@jupyter-widgets/controls",
      "model_module_version": "1.5.0",
      "model_name": "VBoxModel",
      "state": {
       "_dom_classes": [
        "widget-interact"
       ],
       "children": [
        "IPY_MODEL_690e8ae07de54a8ea2a962a07894566e",
        "IPY_MODEL_48016a552ad042d2bb8d1559c5c18465"
       ],
       "layout": "IPY_MODEL_b415818be16844599eff6bdc7ce5a552"
      }
     },
     "f5312b7de1c04925b4cae035683b64fd": {
      "model_module": "@jupyter-widgets/controls",
      "model_module_version": "1.5.0",
      "model_name": "SliderStyleModel",
      "state": {
       "description_width": ""
      }
     },
     "fd4cb062a3384a66a2ce950974cee62d": {
      "model_module": "@jupyter-widgets/base",
      "model_module_version": "1.2.0",
      "model_name": "LayoutModel",
      "state": {}
     },
     "fee91fba8f484fc38bf46d3fe1a51627": {
      "model_module": "@jupyter-widgets/output",
      "model_module_version": "1.0.0",
      "model_name": "OutputModel",
      "state": {
       "layout": "IPY_MODEL_bc72a3b223dd433bac301f7650a3d020",
       "outputs": [
        {
         "name": "stdout",
         "output_type": "stream",
         "text": "ID: 70e7bd2f-b69a-4208-945e-0d107daea485\n\nMetadata: {'filename': 'data/bbc/business/226.txt'}\n\nmcdonalds to sponsor mtv show mcdonalds the worlds largest restaurant chain is to sponsor programme on music channel mtv as part of its latest youth market promotion the show advance warning highlights new talent and mtv reckons it will give mcdonalds access to nearly million homes in countries mcdonalds golden arches name and im loving it catchphrase will be used throughout the half-hour programme the move comes amid growing concerns about obesity in europe and the us the european union has called on the food industry to reduce the number of adverts aimed at young children warning that legislation would be introduced unless voluntary steps were taken in the us food group kraft is among firms that already have cut back on promoting sugar and fattening products to the young mcdonalds has also been taking steps to improve its junk food reputation revamping its menu and providing clients with health-related products such as pedometers as well as burgers like the big mac and quarter pounder with cheese the company now sells healthier options such as salads and fresh fruit chief_executive jim skinner attributed an increase in january worldwide sales to the vitality of our menu among other things hooking up with mtv is expected to add extra momentum to mcdonalds recent revival mtv which played key role in the emergence of the music video is to show advance warning on all of its channels across the world the programme can at present only been seen in the us where it has featured artists like british stars joss_stone and franz_ferdinand mcdonalds has targeted the youth market in the past with its advertisements signing up stars like jelly-legged dancer justin_timberlake and all-woman singing group destinys child\n\n[(4, 0.2849612236022949),\n (1, 0.24935834109783173),\n (6, 0.19333449006080627),\n (9, 0.13949696719646454),\n (8, 0.12418993562459946),\n (5, 0.00836983323097229),\n (7, 9.747652075020596e-05),\n (10, 7.284103048732504e-05),\n (2, 6.673431198578328e-05),\n (3, 5.224308551987633e-05)]\n"
        }
       ]
      }
     }
    },
    "version_major": 2,
    "version_minor": 0
   }
  }
 },
 "nbformat": 4,
 "nbformat_minor": 4
}
