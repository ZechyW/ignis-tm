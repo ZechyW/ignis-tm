{
 "cells": [
  {
   "cell_type": "markdown",
   "metadata": {},
   "source": [
    "Ignis: Latent Dirichlet Allocation\n",
    "============"
   ]
  },
  {
   "cell_type": "code",
   "execution_count": 1,
   "metadata": {
    "ExecuteTime": {
     "end_time": "2020-06-29T09:05:52.814832Z",
     "start_time": "2020-06-29T09:05:51.741821Z"
    }
   },
   "outputs": [],
   "source": [
    "import ignis"
   ]
  },
  {
   "cell_type": "code",
   "execution_count": 2,
   "metadata": {
    "ExecuteTime": {
     "end_time": "2020-06-29T09:05:52.866846Z",
     "start_time": "2020-06-29T09:05:52.815821Z"
    }
   },
   "outputs": [
    {
     "data": {
      "text/html": [
       "\n",
       "<style>\n",
       "   .jupyter-widgets-output-area .output_scroll {\n",
       "        height: unset !important;\n",
       "        border-radius: unset !important;\n",
       "        -webkit-box-shadow: unset !important;\n",
       "        box-shadow: unset !important;\n",
       "    }\n",
       "    .jupyter-widgets-output-area  {\n",
       "        height: auto !important;\n",
       "    }\n",
       "</style>\n",
       "<style>\n",
       "    #notebook-container { width: 1370px !important; }\n",
       "    div.output_area { width: unset !important; }\n",
       "</style>\n"
      ],
      "text/plain": [
       "<IPython.core.display.HTML object>"
      ]
     },
     "metadata": {},
     "output_type": "display_data"
    }
   ],
   "source": [
    "# Jupyter notebook setup\n",
    "import ipywidgets as widgets\n",
    "from IPython.core.display import display, HTML\n",
    "\n",
    "# Custom styling:\n",
    "# - Prevent vertical scrollbars in output subareas\n",
    "# - Resize to fit pyLDAvis visualisations without causing other cells to overflow\n",
    "style = \"\"\"\n",
    "<style>\n",
    "   .jupyter-widgets-output-area .output_scroll {\n",
    "        height: unset !important;\n",
    "        border-radius: unset !important;\n",
    "        -webkit-box-shadow: unset !important;\n",
    "        box-shadow: unset !important;\n",
    "    }\n",
    "    .jupyter-widgets-output-area  {\n",
    "        height: auto !important;\n",
    "    }\n",
    "</style>\n",
    "<style>\n",
    "    #notebook-container { width: 1370px !important; }\n",
    "    div.output_area { width: unset !important; }\n",
    "</style>\n",
    "\"\"\"\n",
    "display(HTML(style))"
   ]
  },
  {
   "cell_type": "markdown",
   "metadata": {},
   "source": [
    "Model training (LDA)\n",
    "----"
   ]
  },
  {
   "cell_type": "markdown",
   "metadata": {},
   "source": [
    "Load from an `ignis.Corpus`, add the processed docs to an LDA model, and train it.\n",
    "\n",
    "The random seed and parallelisation can both affect results, so setting the seed and number of workers is necessary for reproducibility."
   ]
  },
  {
   "cell_type": "code",
   "execution_count": 3,
   "metadata": {
    "ExecuteTime": {
     "end_time": "2020-06-29T09:05:55.197926Z",
     "start_time": "2020-06-29T09:05:54.708834Z"
    }
   },
   "outputs": [],
   "source": [
    "corpus = ignis.load_corpus(\"bbc-stopwords.corpus\")"
   ]
  },
  {
   "cell_type": "markdown",
   "metadata": {},
   "source": [
    "With the current public version of `pyLDAvis`, (2.1.2), preparing the visualisation data takes very long with recent versions of `pandas` (>0.23.4).  We have an option here to use an optimised version of the preparation function built into Ignis."
   ]
  },
  {
   "cell_type": "code",
   "execution_count": 4,
   "metadata": {
    "ExecuteTime": {
     "end_time": "2020-06-29T09:05:55.271587Z",
     "start_time": "2020-06-29T09:05:55.268300Z"
    }
   },
   "outputs": [],
   "source": [
    "use_optimised = True"
   ]
  },
  {
   "cell_type": "code",
   "execution_count": 13,
   "metadata": {
    "ExecuteTime": {
     "end_time": "2020-06-29T09:10:46.642435Z",
     "start_time": "2020-06-29T09:10:46.637469Z"
    }
   },
   "outputs": [],
   "source": [
    "model_options = {\"term_weighting\": \"pmi\", \"verbose\": True, \"workers\": 10}\n",
    "vis_options = {\"verbose\": True, \"use_optimised\": use_optimised}"
   ]
  },
  {
   "cell_type": "markdown",
   "metadata": {},
   "source": [
    "Ignis can suggest a recommended number of topics to use for LDA, based on the coherence scores of a range of lightly-trained models."
   ]
  },
  {
   "cell_type": "code",
   "execution_count": 14,
   "metadata": {
    "ExecuteTime": {
     "end_time": "2020-06-29T09:11:04.902869Z",
     "start_time": "2020-06-29T09:10:47.575430Z"
    },
    "scrolled": true
   },
   "outputs": [
    {
     "name": "stdout",
     "output_type": "stream",
     "text": [
      "Training LDA model on 2118 documents:\n",
      "{'term_weighting': 'pmi', 'k': 5, 'seed': 11399, 'workers': 10, 'parallel_scheme': 'default', 'iterations': 100, 'update_every': 100, 'until_max_ll': False, 'max_extra_iterations': 2000, 'verbose': True, 'tw': <TermWeight.PMI: 2>, 'parallel': <ParallelScheme.DEFAULT: 0>}\n",
      "\n"
     ]
    },
    {
     "name": "stderr",
     "output_type": "stream",
     "text": [
      "100%|██████████| 100/100 [00:00<00:00, 143.88it/s, Log-likelihood=-34.23405]"
     ]
    },
    {
     "name": "stdout",
     "output_type": "stream",
     "text": [
      "Docs: 2118, Vocab size: 19165, Total Words: 391172\n",
      "Model training complete. (0.697s)\n"
     ]
    },
    {
     "name": "stderr",
     "output_type": "stream",
     "text": [
      "\n"
     ]
    },
    {
     "name": "stdout",
     "output_type": "stream",
     "text": [
      "Training LDA model on 2118 documents:\n",
      "{'term_weighting': 'pmi', 'k': 6, 'seed': 11399, 'workers': 10, 'parallel_scheme': 'default', 'iterations': 100, 'update_every': 100, 'until_max_ll': False, 'max_extra_iterations': 2000, 'verbose': True, 'tw': <TermWeight.PMI: 2>, 'parallel': <ParallelScheme.DEFAULT: 0>}\n",
      "\n"
     ]
    },
    {
     "name": "stderr",
     "output_type": "stream",
     "text": [
      "100%|██████████| 100/100 [00:00<00:00, 138.69it/s, Log-likelihood=-34.36130]"
     ]
    },
    {
     "name": "stdout",
     "output_type": "stream",
     "text": [
      "Docs: 2118, Vocab size: 19165, Total Words: 391172\n",
      "Model training complete. (0.724s)\n"
     ]
    },
    {
     "name": "stderr",
     "output_type": "stream",
     "text": [
      "\n"
     ]
    },
    {
     "name": "stdout",
     "output_type": "stream",
     "text": [
      "Training LDA model on 2118 documents:\n",
      "{'term_weighting': 'pmi', 'k': 7, 'seed': 11399, 'workers': 10, 'parallel_scheme': 'default', 'iterations': 100, 'update_every': 100, 'until_max_ll': False, 'max_extra_iterations': 2000, 'verbose': True, 'tw': <TermWeight.PMI: 2>, 'parallel': <ParallelScheme.DEFAULT: 0>}\n",
      "\n"
     ]
    },
    {
     "name": "stderr",
     "output_type": "stream",
     "text": [
      "100%|██████████| 100/100 [00:00<00:00, 127.06it/s, Log-likelihood=-33.96387]"
     ]
    },
    {
     "name": "stdout",
     "output_type": "stream",
     "text": [
      "Docs: 2118, Vocab size: 19165, Total Words: 391172\n",
      "Model training complete. (0.789s)\n"
     ]
    },
    {
     "name": "stderr",
     "output_type": "stream",
     "text": [
      "\n"
     ]
    },
    {
     "name": "stdout",
     "output_type": "stream",
     "text": [
      "Training LDA model on 2118 documents:\n",
      "{'term_weighting': 'pmi', 'k': 8, 'seed': 11399, 'workers': 10, 'parallel_scheme': 'default', 'iterations': 100, 'update_every': 100, 'until_max_ll': False, 'max_extra_iterations': 2000, 'verbose': True, 'tw': <TermWeight.PMI: 2>, 'parallel': <ParallelScheme.DEFAULT: 0>}\n",
      "\n"
     ]
    },
    {
     "name": "stderr",
     "output_type": "stream",
     "text": [
      "100%|██████████| 100/100 [00:00<00:00, 147.93it/s, Log-likelihood=-34.09328]"
     ]
    },
    {
     "name": "stdout",
     "output_type": "stream",
     "text": [
      "Docs: 2118, Vocab size: 19165, Total Words: 391172\n",
      "Model training complete. (0.679s)\n"
     ]
    },
    {
     "name": "stderr",
     "output_type": "stream",
     "text": [
      "\n"
     ]
    },
    {
     "name": "stdout",
     "output_type": "stream",
     "text": [
      "Training LDA model on 2118 documents:\n",
      "{'term_weighting': 'pmi', 'k': 9, 'seed': 11399, 'workers': 10, 'parallel_scheme': 'default', 'iterations': 100, 'update_every': 100, 'until_max_ll': False, 'max_extra_iterations': 2000, 'verbose': True, 'tw': <TermWeight.PMI: 2>, 'parallel': <ParallelScheme.DEFAULT: 0>}\n",
      "\n"
     ]
    },
    {
     "name": "stderr",
     "output_type": "stream",
     "text": [
      "100%|██████████| 100/100 [00:00<00:00, 119.47it/s, Log-likelihood=-33.80022]"
     ]
    },
    {
     "name": "stdout",
     "output_type": "stream",
     "text": [
      "Docs: 2118, Vocab size: 19165, Total Words: 391172\n",
      "Model training complete. (0.839s)\n"
     ]
    },
    {
     "name": "stderr",
     "output_type": "stream",
     "text": [
      "\n"
     ]
    },
    {
     "name": "stdout",
     "output_type": "stream",
     "text": [
      "Training LDA model on 2118 documents:\n",
      "{'term_weighting': 'pmi', 'k': 10, 'seed': 11399, 'workers': 10, 'parallel_scheme': 'default', 'iterations': 100, 'update_every': 100, 'until_max_ll': False, 'max_extra_iterations': 2000, 'verbose': True, 'tw': <TermWeight.PMI: 2>, 'parallel': <ParallelScheme.DEFAULT: 0>}\n",
      "\n"
     ]
    },
    {
     "name": "stderr",
     "output_type": "stream",
     "text": [
      "100%|██████████| 100/100 [00:00<00:00, 137.17it/s, Log-likelihood=-33.61744]"
     ]
    },
    {
     "name": "stdout",
     "output_type": "stream",
     "text": [
      "Docs: 2118, Vocab size: 19165, Total Words: 391172\n",
      "Model training complete. (0.731s)\n"
     ]
    },
    {
     "name": "stderr",
     "output_type": "stream",
     "text": [
      "\n"
     ]
    },
    {
     "name": "stdout",
     "output_type": "stream",
     "text": [
      "Training LDA model on 2118 documents:\n",
      "{'term_weighting': 'pmi', 'k': 11, 'seed': 11399, 'workers': 10, 'parallel_scheme': 'default', 'iterations': 100, 'update_every': 100, 'until_max_ll': False, 'max_extra_iterations': 2000, 'verbose': True, 'tw': <TermWeight.PMI: 2>, 'parallel': <ParallelScheme.DEFAULT: 0>}\n",
      "\n"
     ]
    },
    {
     "name": "stderr",
     "output_type": "stream",
     "text": [
      "100%|██████████| 100/100 [00:00<00:00, 131.24it/s, Log-likelihood=-33.80018]"
     ]
    },
    {
     "name": "stdout",
     "output_type": "stream",
     "text": [
      "Docs: 2118, Vocab size: 19165, Total Words: 391172\n",
      "Model training complete. (0.764s)\n"
     ]
    },
    {
     "name": "stderr",
     "output_type": "stream",
     "text": [
      "\n"
     ]
    },
    {
     "name": "stdout",
     "output_type": "stream",
     "text": [
      "Training LDA model on 2118 documents:\n",
      "{'term_weighting': 'pmi', 'k': 12, 'seed': 11399, 'workers': 10, 'parallel_scheme': 'default', 'iterations': 100, 'update_every': 100, 'until_max_ll': False, 'max_extra_iterations': 2000, 'verbose': True, 'tw': <TermWeight.PMI: 2>, 'parallel': <ParallelScheme.DEFAULT: 0>}\n",
      "\n"
     ]
    },
    {
     "name": "stderr",
     "output_type": "stream",
     "text": [
      "100%|██████████| 100/100 [00:00<00:00, 124.53it/s, Log-likelihood=-33.48554]"
     ]
    },
    {
     "name": "stdout",
     "output_type": "stream",
     "text": [
      "Docs: 2118, Vocab size: 19165, Total Words: 391172\n",
      "Model training complete. (0.806s)\n"
     ]
    },
    {
     "name": "stderr",
     "output_type": "stream",
     "text": [
      "\n"
     ]
    },
    {
     "name": "stdout",
     "output_type": "stream",
     "text": [
      "Training LDA model on 2118 documents:\n",
      "{'term_weighting': 'pmi', 'k': 13, 'seed': 11399, 'workers': 10, 'parallel_scheme': 'default', 'iterations': 100, 'update_every': 100, 'until_max_ll': False, 'max_extra_iterations': 2000, 'verbose': True, 'tw': <TermWeight.PMI: 2>, 'parallel': <ParallelScheme.DEFAULT: 0>}\n",
      "\n"
     ]
    },
    {
     "name": "stderr",
     "output_type": "stream",
     "text": [
      "100%|██████████| 100/100 [00:00<00:00, 115.07it/s, Log-likelihood=-33.48251]"
     ]
    },
    {
     "name": "stdout",
     "output_type": "stream",
     "text": [
      "Docs: 2118, Vocab size: 19165, Total Words: 391172\n",
      "Model training complete. (0.872s)\n"
     ]
    },
    {
     "name": "stderr",
     "output_type": "stream",
     "text": [
      "\n"
     ]
    },
    {
     "name": "stdout",
     "output_type": "stream",
     "text": [
      "Training LDA model on 2118 documents:\n",
      "{'term_weighting': 'pmi', 'k': 14, 'seed': 11399, 'workers': 10, 'parallel_scheme': 'default', 'iterations': 100, 'update_every': 100, 'until_max_ll': False, 'max_extra_iterations': 2000, 'verbose': True, 'tw': <TermWeight.PMI: 2>, 'parallel': <ParallelScheme.DEFAULT: 0>}\n",
      "\n"
     ]
    },
    {
     "name": "stderr",
     "output_type": "stream",
     "text": [
      "100%|██████████| 100/100 [00:00<00:00, 109.17it/s, Log-likelihood=-33.27815]"
     ]
    },
    {
     "name": "stdout",
     "output_type": "stream",
     "text": [
      "Docs: 2118, Vocab size: 19165, Total Words: 391172\n",
      "Model training complete. (0.919s)\n"
     ]
    },
    {
     "name": "stderr",
     "output_type": "stream",
     "text": [
      "\n"
     ]
    },
    {
     "name": "stdout",
     "output_type": "stream",
     "text": [
      "Training LDA model on 2118 documents:\n",
      "{'term_weighting': 'pmi', 'k': 15, 'seed': 11399, 'workers': 10, 'parallel_scheme': 'default', 'iterations': 100, 'update_every': 100, 'until_max_ll': False, 'max_extra_iterations': 2000, 'verbose': True, 'tw': <TermWeight.PMI: 2>, 'parallel': <ParallelScheme.DEFAULT: 0>}\n",
      "\n"
     ]
    },
    {
     "name": "stderr",
     "output_type": "stream",
     "text": [
      "100%|██████████| 100/100 [00:00<00:00, 100.91it/s, Log-likelihood=-33.46213]"
     ]
    },
    {
     "name": "stdout",
     "output_type": "stream",
     "text": [
      "Docs: 2118, Vocab size: 19165, Total Words: 391172\n",
      "Model training complete. (0.994s)\n"
     ]
    },
    {
     "name": "stderr",
     "output_type": "stream",
     "text": [
      "\n"
     ]
    },
    {
     "name": "stdout",
     "output_type": "stream",
     "text": [
      "Suggested number of topics: 5\tCoherence: -1.638213294652083 (always negative, closer to 0 is better)\n"
     ]
    }
   ],
   "source": [
    "best_k = ignis.suggest_num_topics(\n",
    "    corpus, model_type=\"tp_lda\", model_options=model_options\n",
    ")\n",
    "print(\n",
    "    f\"Suggested number of topics: {best_k[0]}\\tCoherence: {best_k[1]} (always negative, closer to 0 is better)\"\n",
    ")"
   ]
  },
  {
   "cell_type": "code",
   "execution_count": 15,
   "metadata": {
    "ExecuteTime": {
     "end_time": "2020-06-29T09:11:30.370893Z",
     "start_time": "2020-06-29T09:11:06.518321Z"
    }
   },
   "outputs": [
    {
     "name": "stdout",
     "output_type": "stream",
     "text": [
      "Training LDA model on 2118 documents:\n",
      "{'term_weighting': 'pmi', 'k': 5, 'seed': 11399, 'workers': 10, 'parallel_scheme': 'default', 'iterations': 1000, 'update_every': 100, 'until_max_ll': True, 'max_extra_iterations': 2000, 'verbose': True, 'tw': <TermWeight.PMI: 2>, 'parallel': <ParallelScheme.DEFAULT: 0>}\n",
      "\n"
     ]
    },
    {
     "name": "stderr",
     "output_type": "stream",
     "text": [
      "100%|██████████| 1000/1000 [00:06<00:00, 163.69it/s, Log-likelihood=-33.32788]\n"
     ]
    },
    {
     "name": "stdout",
     "output_type": "stream",
     "text": [
      "\n",
      "Continuing to train until maximum log-likelihood.\n",
      "(N.B.: This may not correlate with increased interpretability)\n",
      "\n"
     ]
    },
    {
     "name": "stderr",
     "output_type": "stream",
     "text": [
      "2000it [00:16, 121.68it/s, Log-likelihood=-33.17389]\n"
     ]
    },
    {
     "name": "stdout",
     "output_type": "stream",
     "text": [
      "Docs: 2118, Vocab size: 19165, Total Words: 391172\n",
      "Model training complete. (23.398s)\n",
      "Preparing LDA visualisation... Done. (0.351s)\n"
     ]
    }
   ],
   "source": [
    "results = ignis.train_model(\n",
    "    corpus,\n",
    "    model_type=\"tp_lda\",\n",
    "    model_options=dict(model_options, k=best_k[0], until_max_ll=True),\n",
    "    vis_type=\"pyldavis\",\n",
    "    vis_options=vis_options,\n",
    ")"
   ]
  },
  {
   "cell_type": "code",
   "execution_count": 16,
   "metadata": {
    "ExecuteTime": {
     "end_time": "2020-06-29T09:11:30.394863Z",
     "start_time": "2020-06-29T09:11:30.372893Z"
    }
   },
   "outputs": [
    {
     "data": {
      "text/html": [
       "\n",
       "<link rel=\"stylesheet\" type=\"text/css\" href=\"/nbextensions/ldavis.v1.0.0.css\">\n",
       "\n",
       "\n",
       "<div id=\"ldavis_el701631519013870808040205060\"></div>\n",
       "<script type=\"text/javascript\">\n",
       "\n",
       "var ldavis_el701631519013870808040205060_data = {\"mdsDat\": {\"x\": [-0.19759897248937353, 0.29942761570524434, 0.16199521392226016, -0.16757136631480898, -0.09625249082332193], \"y\": [0.04143822649122452, 0.18616511362136964, -0.2182078534014544, 0.1838298226031105, -0.1932253093142502], \"topics\": [1, 2, 3, 4, 5], \"cluster\": [1, 1, 1, 1, 1], \"Freq\": [17.635070904557903, 12.67580227754483, 17.366219287591257, 16.84445019238014, 35.47845733792586]}, \"tinfo\": {\"Term\": [\"film\", \"mr\", \"best\", \"mobile\", \"music\", \"games\", \"technology\", \"awards\", \"game\", \"phone\", \"economy\", \"england\", \"oil\", \"users\", \"growth\", \"bank\", \"sales\", \"software\", \"online\", \"award\", \"digital\", \"labour\", \"broadband\", \"show\", \"market\", \"economic\", \"tv\", \"shares\", \"yukos\", \"wales\", \"oil\", \"shares\", \"yukos\", \"profits\", \"euros\", \"investment\", \"debt\", \"fraud\", \"investors\", \"markets\", \"stock\", \"exports\", \"trading\", \"profit\", \"chinese\", \"finance\", \"lse\", \"rates\", \"airlines\", \"takeover\", \"airline\", \"fiat\", \"gazprom\", \"shareholders\", \"chinas\", \"gm\", \"fuel\", \"housing\", \"inflation\", \"indias\", \"economy\", \"bank\", \"growth\", \"prices\", \"china\", \"dollar\", \"financial\", \"economic\", \"india\", \"sales\", \"rise\", \"deficit\", \"rate\", \"rose\", \"company\", \"market\", \"analysts\", \"demand\", \"quarter\", \"deal\", \"firm\", \"price\", \"costs\", \"business\", \"bid\", \"offer\", \"spending\", \"firms\", \"companies\", \"december\", \"figures\", \"awards\", \"song\", \"album\", \"actor\", \"festival\", \"actress\", \"comedy\", \"singer\", \"rock\", \"nominations\", \"chart\", \"oscar\", \"musical\", \"theatre\", \"aviator\", \"box_office\", \"drama\", \"nominated\", \"oscars\", \"academy\", \"pop\", \"starring\", \"cinema\", \"charts\", \"edwards\", \"concert\", \"los_angeles\", \"documentary\", \"angels\", \"honour\", \"film\", \"award\", \"band\", \"best\", \"prize\", \"films\", \"urban\", \"stars\", \"ceremony\", \"star\", \"show\", \"music\", \"director\", \"movie\", \"top\", \"number\", \"series\", \"british\", \"tv\", \"including\", \"rugby\", \"injury\", \"chelsea\", \"coach\", \"liverpool\", \"champion\", \"football\", \"cup\", \"olympic\", \"arsenal\", \"six_nations\", \"ball\", \"roddick\", \"robinson\", \"zealand\", \"madrid\", \"newcastle\", \"seed\", \"captain\", \"lions\", \"ferguson\", \"athens\", \"penalty\", \"premiership\", \"tournament\", \"tennis\", \"matches\", \"cardiff\", \"champions_league\", \"grand_slam\", \"ireland\", \"match\", \"victory\", \"squad\", \"season\", \"england\", \"side\", \"minutes\", \"team\", \"williams\", \"win\", \"club\", \"wales\", \"game\", \"final\", \"france\", \"players\", \"play\", \"good\", \"second\", \"im\", \"mobile\", \"users\", \"software\", \"online\", \"broadband\", \"computer\", \"microsoft\", \"search\", \"phones\", \"networks\", \"apple\", \"content\", \"gaming\", \"sites\", \"web\", \"pc\", \"google\", \"bt\", \"devices\", \"machines\", \"messages\", \"gadget\", \"gadgets\", \"spam\", \"download\", \"programs\", \"3g\", \"mobiles\", \"wireless\", \"websites\", \"technology\", \"phone\", \"digital\", \"e-mail\", \"internet\", \"site\", \"games\", \"net\", \"video\", \"use\", \"using\", \"tv\", \"data\", \"service\", \"security\", \"music\", \"used\", \"game\", \"labour\", \"party\", \"election\", \"blair\", \"eu\", \"brown\", \"law\", \"police\", \"campaign\", \"chancellor\", \"case\", \"prime_minister\", \"tories\", \"local\", \"secretary\", \"lord\", \"issue\", \"mps\", \"women\", \"council\", \"ministers\", \"political\", \"tory\", \"trial\", \"health\", \"ukip\", \"rules\", \"leader\", \"parties\", \"committee\", \"mr\", \"public\", \"court\", \"spokesman\", \"bill\", \"plans\", \"government\", \"tax\", \"ms\", \"say\", \"howard\", \"britain\", \"says\", \"work\", \"home\"], \"Freq\": [510.0, 932.0, 495.0, 384.0, 488.0, 408.0, 302.0, 234.0, 436.0, 276.0, 283.0, 338.0, 264.0, 257.0, 287.0, 282.0, 357.0, 244.0, 239.0, 212.0, 248.0, 404.0, 234.0, 308.0, 340.0, 252.0, 320.0, 221.0, 218.0, 292.0, 264.93975246038934, 221.4114193828596, 218.36640680901445, 160.62668195206308, 153.7667987317956, 149.30208126870647, 137.8909574810151, 126.61899824455975, 114.31833438838432, 112.89026147661231, 111.45256774815265, 101.7890998439245, 98.39344142781388, 98.30234080635728, 98.0323235112907, 97.73014313539429, 97.55558714914775, 97.20108655562177, 96.19214556684355, 95.67938334187846, 94.86140512439931, 93.26769033867069, 92.00586963647156, 91.13406142378581, 87.83572744627115, 85.94682705203758, 85.07000766271317, 84.48073665595885, 84.38244852954776, 83.55324334902238, 276.6267479466242, 274.84806934624567, 277.1151449313302, 221.15647577136795, 213.48971280495886, 170.85746484232425, 169.81094805948788, 232.87472686574006, 127.99940073241017, 311.8329300361411, 168.3332612867005, 116.23690030586019, 149.46947384219388, 126.71433909240291, 245.89850190472725, 256.38344139476436, 153.4599444699958, 133.97705185012495, 136.4369613670162, 199.9315246880934, 203.67177377469778, 137.13163572854995, 130.96428266442757, 156.59156045549364, 141.5438161442511, 143.21144578539992, 142.1654429693983, 146.0168855684047, 144.13562240010597, 140.09831654448894, 140.03064959840347, 234.27552637399404, 164.98980342820843, 164.76111409115632, 164.56954102542642, 140.534636888343, 136.09595799280095, 115.70545608968217, 109.3662278422189, 100.62697952355414, 98.71889147017929, 98.1676888654262, 97.64602919638497, 94.5457122479603, 91.44426968944107, 89.05844385014959, 86.77059226795805, 83.44039687643266, 79.5178419572105, 79.40525785831949, 78.21932083508011, 73.7831067370271, 68.54813662645641, 64.27395265842141, 61.07450698100495, 58.64217324155119, 57.84332487128215, 57.730180853523585, 57.33256918925924, 56.78422967479788, 55.87649728805112, 507.15843996573045, 209.62556579182055, 175.10548240462361, 433.7428478107477, 130.92855334969946, 172.82714367082073, 84.88635560386837, 108.23012359819027, 89.65931760804857, 147.3166974640735, 231.137048357185, 269.305574629968, 147.11160553249033, 102.19170454686162, 136.15522857972738, 135.43793210389705, 110.77344826532435, 116.8201333353985, 114.37194869686994, 97.9953031225385, 193.07909760826658, 170.11721904249356, 169.86828154275415, 164.11445478087566, 147.98488962128712, 143.5265058340994, 136.6260386896611, 135.7928991764281, 133.46268664551067, 130.67667127657998, 130.2760604714367, 118.57451913139184, 111.22051092303411, 105.64453394296007, 100.24557637308259, 99.0641552826044, 95.92879862409086, 95.16435852188259, 94.74311495935893, 90.95456426918908, 88.44932521993398, 85.80142832844622, 85.17436332338434, 85.13593688869237, 81.70947566936148, 78.9950146081264, 77.72432461565131, 76.92589463562743, 76.5899104664798, 76.45673467717896, 207.11127061918333, 193.89752768158866, 142.6540304315563, 117.60920027478745, 165.88580349479122, 296.15891416994475, 169.88061849235683, 147.21904974979702, 183.84055708168964, 137.63409400501735, 234.51857917506126, 208.22053637108783, 225.70832059892234, 279.8791071074383, 164.57598322883274, 166.0403158802639, 189.7937204792639, 174.6099881225483, 148.38019395644102, 139.2510726828787, 131.70177688895123, 384.6786059974191, 257.83223941474495, 244.71557997258435, 239.96596193250681, 234.08167925035758, 204.96042016043103, 179.8633767642682, 178.102706650127, 167.45426228894613, 162.6868175521759, 160.93265218794667, 156.9800807915623, 152.27826652678112, 146.6852554998877, 135.3782972584688, 131.9544055477354, 123.4663589217595, 118.82147656009926, 117.20042844819567, 112.84045106440095, 112.14588491460374, 110.3102260797794, 104.8255406168679, 103.14111721749661, 102.6202539707139, 102.42294833718158, 99.55038020566059, 99.31574896709103, 97.57791451390254, 96.52088498251359, 299.7064442418493, 272.8884342522343, 245.2560418467551, 138.81983156919927, 180.72521010342882, 153.89709013694596, 328.70431252153554, 235.89026052953426, 189.20034694862426, 203.14152946629954, 154.33172709391695, 205.4838530902568, 166.27946456722898, 176.71856030270564, 165.43242032928327, 218.95701578348834, 153.10390952386084, 156.35066953062378, 404.5650956548819, 348.39578240734363, 293.51868451997035, 269.66842352934714, 253.61187783030738, 237.3310823100692, 229.93455416577262, 221.96458950102976, 220.15748815010312, 190.57654559761306, 189.81034793763376, 188.41751097181867, 188.15605312913468, 186.29746156349918, 184.9479397108421, 181.21758917292289, 167.5567359801468, 166.3591320719226, 162.36323614054402, 162.35184592988514, 159.455355750157, 154.01997953640713, 152.82071152648382, 150.8037717981995, 148.0970376811497, 145.58690990950066, 142.3199713039614, 142.23326029600955, 136.25336738745784, 134.03589532626904, 930.0218481610261, 270.2320531591978, 232.84241839983247, 198.1317127184476, 203.6856440610126, 252.96447764405082, 378.34260114505406, 278.5483610096056, 185.08670640495396, 228.36965231553657, 179.9196706292649, 183.87567658884677, 217.58197572237415, 180.81511890664962, 181.7119727844986], \"Total\": [510.0, 932.0, 495.0, 384.0, 488.0, 408.0, 302.0, 234.0, 436.0, 276.0, 283.0, 338.0, 264.0, 257.0, 287.0, 282.0, 357.0, 244.0, 239.0, 212.0, 248.0, 404.0, 234.0, 308.0, 340.0, 252.0, 320.0, 221.0, 218.0, 292.0, 264.95027514254286, 221.42199416663664, 218.37693939159143, 160.63724559610043, 153.77731844474002, 149.3126236394749, 137.9014825716361, 126.62951746209708, 114.32885052316546, 112.9007929300318, 111.46308718259777, 101.79961578673684, 98.40396657648564, 98.31288273336816, 98.04283939440778, 97.74066918373032, 97.56610816201356, 97.21161926368858, 96.20266491474536, 95.68997207402205, 94.87193088215082, 93.27821061670832, 92.01642688362607, 91.14459690838383, 87.84625264243002, 85.95734156499917, 85.08052635455344, 84.49126483868302, 84.39297176796532, 83.5637626069187, 283.6449479853448, 282.98680475081716, 287.9392124509161, 225.13640191702876, 216.57225835228382, 172.01626280785467, 174.4255899630042, 252.2059884876606, 131.50624850144993, 357.78389373585213, 190.41686033383633, 119.88176963830749, 164.5562279122487, 134.9368610739186, 310.6024649973722, 340.17896041708525, 175.12243405918682, 147.78038603966337, 154.1189692682258, 266.24651479264367, 291.68052023529066, 158.18184493761515, 146.23330751558416, 210.24636079571113, 171.35345588500232, 206.58311137070564, 200.8339881979601, 247.5932053935134, 237.00491695233208, 188.25029612137308, 206.28419497987952, 234.28613482902978, 165.0004401068979, 164.77177008486905, 164.58019037163538, 140.54526126770742, 136.10658834678273, 115.71608834311587, 109.37684295714277, 100.6376027353664, 98.72950302648147, 98.17830150144299, 97.65666646382886, 94.55633967921591, 91.45487803401916, 89.06905745662638, 86.78121183524958, 83.45100957885741, 79.52845779053119, 79.41587283272098, 78.22996844737945, 73.79371704178989, 68.55874874264487, 64.28456708900403, 61.085118221290706, 58.65278585789525, 57.85394585347087, 57.740802591353635, 57.34325871850034, 56.79484444942468, 55.8871063488793, 510.79337484145543, 212.5629620153817, 176.4077966006783, 495.97670456524565, 132.2246572850275, 189.97630199484564, 87.43392663909678, 117.78318644523132, 93.54189001119313, 174.09479968241376, 308.0598473527801, 488.27043996687587, 216.55882535921845, 123.96700734963329, 273.0664320926136, 314.7449879073067, 168.24662256442383, 274.5181527283566, 320.84419362666915, 196.33906576151145, 193.08971197513534, 170.1278257970301, 169.87891528041015, 164.12507252789476, 147.9955398467001, 143.53711942875734, 136.63666028009973, 135.80354710372717, 133.47329291874007, 130.6872797981672, 130.2867593226473, 118.58512456366257, 111.2311669373394, 105.65515905033914, 100.25617925692973, 99.07475421497092, 95.93940484346557, 95.17496104506257, 94.75372808135955, 90.96516606453703, 88.45992716167865, 85.81204962982018, 85.18496388429209, 85.14654061162597, 81.72007727606892, 79.00561873289931, 77.73493837707899, 76.9364961420191, 76.60050953040549, 76.4673410757429, 207.79315449814902, 198.57227485909993, 147.8194938541638, 120.48489168751013, 177.33866448261855, 338.89707967839416, 186.67090192347794, 164.18215321688402, 217.4367347939895, 151.85536056282868, 297.6531091823351, 257.9434094208874, 292.48569586269286, 436.23777642654665, 215.52175092767354, 220.33025873265962, 277.52553727428096, 283.1797730088842, 255.46016245569783, 250.2653859233767, 209.78864906475087, 384.6892863564085, 257.84260188605305, 244.72605931114606, 239.97634244812195, 234.09205838279746, 204.97080330432186, 179.87374218372779, 178.1130817454349, 167.46462205702127, 162.69721476689054, 160.94321545435753, 156.99046510528134, 152.2887287831824, 146.6956215970201, 135.38878871134256, 131.96477136180775, 123.47671862994078, 118.83184621126941, 117.21080253824037, 112.85085324733777, 112.15625480369656, 110.32058814708617, 104.83590321794188, 103.15147980899309, 102.63062839680342, 102.43331591666322, 99.56075800981512, 99.32611187547535, 97.58834198520115, 96.53124931601803, 302.7253984291235, 276.9145152585173, 248.04610018367023, 139.43871067887522, 187.19499649089042, 159.41468484731985, 408.17465099030505, 273.9005518956831, 222.0710750888799, 265.79149836338644, 179.9995326998002, 320.84419362666915, 212.7024433960405, 257.8818869435755, 229.20389366030298, 488.27043996687587, 240.74623714072396, 436.23777642654665, 404.57557564408825, 348.40645007179205, 293.52907669173476, 269.67884419614194, 253.62226993982185, 237.34150121440197, 229.94499807219165, 221.97509223293167, 220.16816175164075, 190.58693857642092, 189.82078683280795, 188.42790320094474, 188.1664996542786, 186.30794386508597, 184.95837547550863, 181.2280626854204, 167.5671362223252, 166.36952772012532, 162.37365728244214, 162.36229681931732, 159.4657535215506, 154.03039249570952, 152.83112002474326, 150.81424506408263, 148.10743234446318, 145.59731763404412, 142.33038907479985, 142.24371017296633, 136.26377494922966, 134.04638751804413, 932.8378202060044, 277.85109734193554, 237.48782438287466, 199.21395594544472, 209.77604227175726, 267.5631796211537, 446.5376401405611, 310.45614730454884, 189.9890151211101, 248.89541888073313, 188.54985326508117, 205.61859255118918, 299.67367986676607, 261.4707153133287, 297.74518172387917], \"Category\": [\"Default\", \"Default\", \"Default\", \"Default\", \"Default\", \"Default\", \"Default\", \"Default\", \"Default\", \"Default\", \"Default\", \"Default\", \"Default\", \"Default\", \"Default\", \"Default\", \"Default\", \"Default\", \"Default\", \"Default\", \"Default\", \"Default\", \"Default\", \"Default\", \"Default\", \"Default\", \"Default\", \"Default\", \"Default\", \"Default\", \"Topic1\", \"Topic1\", \"Topic1\", \"Topic1\", \"Topic1\", \"Topic1\", \"Topic1\", \"Topic1\", \"Topic1\", \"Topic1\", \"Topic1\", \"Topic1\", \"Topic1\", \"Topic1\", \"Topic1\", \"Topic1\", \"Topic1\", \"Topic1\", \"Topic1\", \"Topic1\", \"Topic1\", \"Topic1\", \"Topic1\", \"Topic1\", \"Topic1\", \"Topic1\", \"Topic1\", \"Topic1\", \"Topic1\", \"Topic1\", \"Topic1\", \"Topic1\", \"Topic1\", \"Topic1\", \"Topic1\", \"Topic1\", \"Topic1\", \"Topic1\", \"Topic1\", \"Topic1\", \"Topic1\", \"Topic1\", \"Topic1\", \"Topic1\", \"Topic1\", \"Topic1\", \"Topic1\", \"Topic1\", \"Topic1\", \"Topic1\", \"Topic1\", \"Topic1\", \"Topic1\", \"Topic1\", \"Topic1\", \"Topic1\", \"Topic1\", \"Topic1\", \"Topic1\", \"Topic1\", \"Topic1\", \"Topic2\", \"Topic2\", \"Topic2\", \"Topic2\", \"Topic2\", \"Topic2\", \"Topic2\", \"Topic2\", \"Topic2\", \"Topic2\", \"Topic2\", \"Topic2\", \"Topic2\", \"Topic2\", \"Topic2\", \"Topic2\", \"Topic2\", \"Topic2\", \"Topic2\", \"Topic2\", \"Topic2\", \"Topic2\", \"Topic2\", \"Topic2\", \"Topic2\", \"Topic2\", \"Topic2\", \"Topic2\", \"Topic2\", \"Topic2\", \"Topic2\", \"Topic2\", \"Topic2\", \"Topic2\", \"Topic2\", \"Topic2\", \"Topic2\", \"Topic2\", \"Topic2\", \"Topic2\", \"Topic2\", \"Topic2\", \"Topic2\", \"Topic2\", \"Topic2\", \"Topic2\", \"Topic2\", \"Topic2\", \"Topic2\", \"Topic2\", \"Topic3\", \"Topic3\", \"Topic3\", \"Topic3\", \"Topic3\", \"Topic3\", \"Topic3\", \"Topic3\", \"Topic3\", \"Topic3\", \"Topic3\", \"Topic3\", \"Topic3\", \"Topic3\", \"Topic3\", \"Topic3\", \"Topic3\", \"Topic3\", \"Topic3\", \"Topic3\", \"Topic3\", \"Topic3\", \"Topic3\", \"Topic3\", \"Topic3\", \"Topic3\", \"Topic3\", \"Topic3\", \"Topic3\", \"Topic3\", \"Topic3\", \"Topic3\", \"Topic3\", \"Topic3\", \"Topic3\", \"Topic3\", \"Topic3\", \"Topic3\", \"Topic3\", \"Topic3\", \"Topic3\", \"Topic3\", \"Topic3\", \"Topic3\", \"Topic3\", \"Topic3\", \"Topic3\", \"Topic3\", \"Topic3\", \"Topic3\", \"Topic3\", \"Topic4\", \"Topic4\", \"Topic4\", \"Topic4\", \"Topic4\", \"Topic4\", \"Topic4\", \"Topic4\", \"Topic4\", \"Topic4\", \"Topic4\", \"Topic4\", \"Topic4\", \"Topic4\", \"Topic4\", \"Topic4\", \"Topic4\", \"Topic4\", \"Topic4\", \"Topic4\", \"Topic4\", \"Topic4\", \"Topic4\", \"Topic4\", \"Topic4\", \"Topic4\", \"Topic4\", \"Topic4\", \"Topic4\", \"Topic4\", \"Topic4\", \"Topic4\", \"Topic4\", \"Topic4\", \"Topic4\", \"Topic4\", \"Topic4\", \"Topic4\", \"Topic4\", \"Topic4\", \"Topic4\", \"Topic4\", \"Topic4\", \"Topic4\", \"Topic4\", \"Topic4\", \"Topic4\", \"Topic4\", \"Topic5\", \"Topic5\", \"Topic5\", \"Topic5\", \"Topic5\", \"Topic5\", \"Topic5\", \"Topic5\", \"Topic5\", \"Topic5\", \"Topic5\", \"Topic5\", \"Topic5\", \"Topic5\", \"Topic5\", \"Topic5\", \"Topic5\", \"Topic5\", \"Topic5\", \"Topic5\", \"Topic5\", \"Topic5\", \"Topic5\", \"Topic5\", \"Topic5\", \"Topic5\", \"Topic5\", \"Topic5\", \"Topic5\", \"Topic5\", \"Topic5\", \"Topic5\", \"Topic5\", \"Topic5\", \"Topic5\", \"Topic5\", \"Topic5\", \"Topic5\", \"Topic5\", \"Topic5\", \"Topic5\", \"Topic5\", \"Topic5\", \"Topic5\", \"Topic5\"], \"logprob\": [30.0, 29.0, 28.0, 27.0, 26.0, 25.0, 24.0, 23.0, 22.0, 21.0, 20.0, 19.0, 18.0, 17.0, 16.0, 15.0, 14.0, 13.0, 12.0, 11.0, 10.0, 9.0, 8.0, 7.0, 6.0, 5.0, 4.0, 3.0, 2.0, 1.0, -5.5621, -5.7416, -5.7554, -6.0625, -6.1062, -6.1357, -6.2152, -6.3004, -6.4026, -6.4152, -6.428, -6.5187, -6.5526, -6.5536, -6.5563, -6.5594, -6.5612, -6.5648, -6.5753, -6.5806, -6.5892, -6.6061, -6.6198, -6.6293, -6.6662, -6.6879, -6.6981, -6.7051, -6.7063, -6.7161, -5.519, -5.5254, -5.5172, -5.7428, -5.778, -6.0008, -6.0069, -5.6911, -6.2896, -5.3992, -6.0157, -6.386, -6.1345, -6.2997, -5.6367, -5.5949, -6.1082, -6.244, -6.2258, -5.8436, -5.8251, -6.2207, -6.2667, -6.088, -6.189, -6.1773, -6.1846, -6.1579, -6.1709, -6.1993, -6.1998, -5.3549, -5.7055, -5.7069, -5.7081, -5.866, -5.8981, -6.0604, -6.1167, -6.2, -6.2192, -6.2248, -6.2301, -6.2623, -6.2957, -6.3221, -6.3482, -6.3873, -6.4354, -6.4369, -6.4519, -6.5103, -6.5839, -6.6483, -6.6993, -6.74, -6.7537, -6.7556, -6.7626, -6.7722, -6.7883, -4.5826, -5.4661, -5.646, -4.739, -5.9368, -5.6591, -6.3701, -6.1272, -6.3154, -5.8188, -5.3684, -5.2156, -5.8202, -6.1846, -5.8976, -5.9029, -6.1039, -6.0508, -6.072, -6.2265, -5.8632, -5.9898, -5.9912, -6.0257, -6.1291, -6.1597, -6.209, -6.2151, -6.2324, -6.2535, -6.2566, -6.3507, -6.4147, -6.4662, -6.5186, -6.5305, -6.5627, -6.5707, -6.5751, -6.6159, -6.6438, -6.6742, -6.6816, -6.682, -6.7231, -6.7569, -6.7731, -6.7834, -6.7878, -6.7895, -5.793, -5.8589, -6.1658, -6.3589, -6.015, -5.4354, -5.9912, -6.1343, -5.9122, -6.2017, -5.6687, -5.7877, -5.707, -5.4919, -6.0229, -6.014, -5.8803, -5.9637, -6.1265, -6.19, -6.2457, -5.1433, -5.5434, -5.5957, -5.6153, -5.6401, -5.7729, -5.9036, -5.9134, -5.975, -6.0039, -6.0148, -6.0396, -6.07, -6.1075, -6.1877, -6.2133, -6.2798, -6.3181, -6.3319, -6.3698, -6.376, -6.3925, -6.4435, -6.4597, -6.4647, -6.4666, -6.4951, -6.4974, -6.5151, -6.526, -5.393, -5.4867, -5.5935, -6.1626, -5.8988, -6.0595, -5.3006, -5.6324, -5.8529, -5.7819, -6.0566, -5.7704, -5.9821, -5.9212, -5.9872, -5.7069, -6.0646, -6.0437, -5.8378, -5.9873, -6.1587, -6.2435, -6.3049, -6.3712, -6.4029, -6.4381, -6.4463, -6.5906, -6.5946, -6.602, -6.6034, -6.6133, -6.6206, -6.641, -6.7193, -6.7265, -6.7508, -6.7509, -6.7689, -6.8036, -6.8114, -6.8247, -6.8428, -6.8599, -6.8826, -6.8832, -6.9261, -6.9426, -5.0055, -6.2414, -6.3903, -6.5517, -6.5241, -6.3074, -5.9049, -6.2111, -6.6198, -6.4097, -6.6481, -6.6264, -6.4581, -6.6432, -6.6382], \"loglift\": [30.0, 29.0, 28.0, 27.0, 26.0, 25.0, 24.0, 23.0, 22.0, 21.0, 20.0, 19.0, 18.0, 17.0, 16.0, 15.0, 14.0, 13.0, 12.0, 11.0, 10.0, 9.0, 8.0, 7.0, 6.0, 5.0, 4.0, 3.0, 2.0, 1.0, 1.7352, 1.7352, 1.7352, 1.7352, 1.7352, 1.7352, 1.7352, 1.7352, 1.7352, 1.7352, 1.7352, 1.7352, 1.7352, 1.7352, 1.7352, 1.7352, 1.7352, 1.7352, 1.7352, 1.7352, 1.7352, 1.7352, 1.7352, 1.7352, 1.7352, 1.7352, 1.7352, 1.7352, 1.7352, 1.7352, 1.7102, 1.7061, 1.697, 1.7174, 1.7209, 1.7285, 1.7085, 1.6555, 1.7083, 1.5978, 1.612, 1.7044, 1.6391, 1.6724, 1.5017, 1.4525, 1.6032, 1.6372, 1.6134, 1.4488, 1.3761, 1.5925, 1.625, 1.4406, 1.5442, 1.3689, 1.3898, 1.2072, 1.238, 1.4399, 1.3479, 2.0654, 2.0654, 2.0654, 2.0654, 2.0654, 2.0654, 2.0654, 2.0654, 2.0654, 2.0654, 2.0654, 2.0654, 2.0654, 2.0654, 2.0654, 2.0654, 2.0653, 2.0653, 2.0653, 2.0653, 2.0653, 2.0653, 2.0653, 2.0653, 2.0653, 2.0653, 2.0653, 2.0653, 2.0653, 2.0653, 2.0583, 2.0516, 2.0581, 1.9314, 2.0556, 1.9709, 2.0359, 1.9809, 2.0231, 1.8985, 1.7782, 1.4705, 1.6788, 1.8723, 1.3696, 1.2222, 1.6475, 1.2111, 1.034, 1.3706, 1.7506, 1.7506, 1.7506, 1.7506, 1.7506, 1.7506, 1.7506, 1.7506, 1.7506, 1.7506, 1.7506, 1.7506, 1.7505, 1.7505, 1.7505, 1.7505, 1.7505, 1.7505, 1.7505, 1.7505, 1.7505, 1.7505, 1.7505, 1.7505, 1.7505, 1.7505, 1.7505, 1.7505, 1.7505, 1.7505, 1.7474, 1.7268, 1.7151, 1.7265, 1.6839, 1.6158, 1.6564, 1.6416, 1.5828, 1.6523, 1.5122, 1.5365, 1.4915, 1.3068, 1.481, 1.4677, 1.3707, 1.2671, 1.2074, 1.1644, 1.2851, 1.7811, 1.7811, 1.7811, 1.7811, 1.7811, 1.7811, 1.7811, 1.7811, 1.7811, 1.7811, 1.7811, 1.7811, 1.7811, 1.7811, 1.7811, 1.7811, 1.7811, 1.7811, 1.7811, 1.7811, 1.7811, 1.7811, 1.7811, 1.781, 1.781, 1.781, 1.781, 1.781, 1.781, 1.781, 1.7711, 1.7665, 1.7698, 1.7767, 1.746, 1.7459, 1.5646, 1.6318, 1.621, 1.5123, 1.6273, 1.3356, 1.5349, 1.4032, 1.4551, 0.9792, 1.3285, 0.7551, 1.0362, 1.0362, 1.0362, 1.0362, 1.0362, 1.0362, 1.0362, 1.0362, 1.0362, 1.0362, 1.0362, 1.0362, 1.0362, 1.0362, 1.0362, 1.0362, 1.0362, 1.0362, 1.0362, 1.0362, 1.0362, 1.0362, 1.0362, 1.0362, 1.0362, 1.0362, 1.0362, 1.0362, 1.0362, 1.0362, 1.0332, 1.0084, 1.0165, 1.0308, 1.0068, 0.9801, 0.8705, 0.9278, 1.0101, 0.9502, 0.9894, 0.9245, 0.7161, 0.6674, 0.5424]}, \"token.table\": {\"Topic\": [4, 2, 2, 2, 1, 1, 2, 1, 4, 2, 4, 3, 3, 2, 2, 3, 2, 3, 2, 4, 1, 2, 1, 2, 3, 1, 3, 5, 2, 5, 5, 2, 2, 5, 2, 3, 5, 4, 5, 4, 1, 4, 5, 5, 3, 3, 5, 2, 3, 3, 3, 5, 2, 2, 3, 1, 4, 1, 1, 2, 1, 3, 3, 2, 5, 1, 4, 1, 2, 4, 4, 2, 4, 1, 4, 5, 3, 5, 3, 1, 4, 1, 3, 5, 1, 1, 2, 3, 4, 1, 3, 1, 4, 5, 4, 2, 4, 1, 2, 3, 4, 5, 2, 1, 2, 4, 2, 4, 5, 1, 5, 1, 5, 2, 5, 1, 3, 5, 5, 1, 1, 3, 2, 1, 1, 4, 5, 2, 4, 2, 4, 1, 2, 3, 5, 1, 1, 4, 1, 4, 5, 1, 4, 3, 1, 2, 3, 1, 1, 4, 4, 3, 4, 3, 4, 4, 1, 1, 1, 2, 3, 4, 5, 4, 1, 5, 3, 1, 4, 5, 2, 3, 4, 5, 2, 1, 2, 5, 2, 3, 5, 1, 2, 3, 4, 5, 1, 4, 1, 1, 3, 4, 5, 1, 1, 3, 4, 5, 5, 5, 5, 3, 3, 5, 5, 2, 1, 4, 3, 1, 4, 1, 1, 3, 3, 4, 4, 5, 1, 3, 4, 4, 4, 2, 4, 5, 4, 5, 4, 5, 2, 4, 2, 1, 3, 4, 4, 3, 2, 2, 1, 2, 3, 4, 5, 1, 3, 4, 1, 3, 4, 2, 2, 5, 5, 4, 3, 4, 5, 4, 1, 5, 2, 3, 4, 5, 3, 4, 5, 5, 2, 3, 1, 3, 4, 1, 4, 5, 2, 3, 1, 1, 4, 1, 5, 1, 3, 4, 1, 4, 1, 1, 4, 5, 3, 2, 3, 1, 2, 3, 5, 1, 2, 4, 1, 5, 4, 5, 4, 1, 2, 3, 1, 2, 3, 4, 5, 5, 4, 5, 3, 1, 2, 3, 4, 5, 3, 4, 5, 1, 1, 1, 2, 3, 4, 5, 3, 5, 2, 1, 4, 4, 3, 4, 2, 4, 1, 5, 1, 5, 2, 3, 2, 3, 2, 2, 3, 1, 1, 1, 5, 3, 4, 5, 1, 4, 3, 2, 1, 2, 3, 4, 5, 5, 5, 3, 1, 5, 2, 3, 4, 5, 1, 2, 1, 4, 5, 3, 4, 5, 4, 4, 5, 2, 3, 2, 3, 4, 3, 5, 4, 4, 1, 2, 3, 2, 3, 5, 4, 5, 2, 3, 4, 5, 1, 3], \"Freq\": [1.0044117983728245, 0.9970603535710981, 1.0025507907568745, 0.9992168759199874, 1.0013499157934107, 0.9978933544624262, 1.0013851275313326, 0.8736744713603626, 0.12562639457469266, 1.0036122213655856, 1.0003528234817614, 1.0023928893639515, 1.0021902561585536, 0.9992246751161591, 0.9879425747972207, 0.01411346535424601, 0.9987786949951666, 1.003498545351822, 0.9920196463659425, 0.005668683693519671, 0.9717767591395299, 0.028269869356786322, 0.02016223727436074, 0.875041097707256, 0.10484363382667584, 0.8286964465735559, 0.11671780937655718, 0.05835890468827859, 0.028601931541006084, 0.9724656723942069, 1.0011908824543332, 1.0025211466874395, 0.10699421548916134, 0.8948607113638949, 0.42620132343588507, 0.08378316614551587, 0.4881280114564837, 0.9996067428197546, 0.9985611399074557, 1.0014150566038638, 0.7467430085629463, 0.13317709706855094, 0.11890812238263475, 0.9992362122193197, 1.0025990736578616, 1.0008254061617738, 1.0009441177132508, 0.9621357873914103, 0.042761590550729346, 1.003224814410968, 1.0052152455909702, 1.0021673123387385, 0.9981839011399034, 0.9986065636971946, 1.0007127707366743, 0.9835054665843994, 0.013852189670202809, 1.0017501868656344, 0.9995630543273493, 0.9955733218423943, 0.19384096733564835, 0.806378424116297, 0.999237943807315, 1.0024535193070327, 0.9996539442882197, 0.607582331420416, 0.39239692237568535, 0.792009168382103, 0.048293241974518474, 0.157757923783427, 1.0001424431929204, 1.0025245321537626, 1.0000607355020719, 0.8958287426141904, 0.1025758102229989, 0.9977685902058869, 0.021053710913360626, 0.9811029285626052, 1.0014465962079973, 0.21626455843927694, 0.7804329717591298, 0.7511835418982392, 0.06760651877084152, 0.1840399677650686, 1.0007144044177532, 0.7436907292285796, 0.09561737947224595, 0.09561737947224595, 0.06905699628551096, 0.9676200172051256, 0.03336620748983192, 0.9067509132371274, 0.06766797859978563, 0.02030039357993569, 0.9982015093005476, 0.01209452596827201, 0.9877196207422141, 0.07850061050063942, 0.6787993966819996, 0.07388292753001356, 0.04155914673563263, 0.12467744020689789, 0.9940139656138937, 0.9940920539066131, 0.005813403824015281, 1.0035990386979652, 0.9945955168052074, 0.9968537382715366, 0.007171609627852782, 0.9238480077224643, 0.07533524526492198, 0.9765730077953367, 0.024678740269196236, 1.0059198235348272, 1.001604349775405, 0.044261225308387636, 0.8734215127521826, 0.08262095390899026, 1.0014893410593153, 1.0014480780228978, 1.001968418168522, 0.9948007286865833, 1.0032355322989255, 0.9970174104448517, 0.6786753585928155, 0.10664898492172815, 0.2132979698434563, 0.9925735629546236, 0.007830955131791903, 0.9106398965734882, 0.08948484532803064, 0.06959854369888549, 0.06495864078562645, 0.7655839806877404, 0.10207786409169871, 1.0026532539467496, 0.9746276336864168, 0.02866551863783579, 0.6993953515834338, 0.2331317838611446, 0.06856817172386606, 0.5896769249703531, 0.41196607086969866, 1.0026591671602294, 0.2042388560647101, 0.040847771212942016, 0.7534144468164861, 1.0029257202059054, 0.9990535277812238, 0.9970940315631862, 1.0015652727455115, 0.6418517953525883, 0.3576031431250135, 0.19354460108762708, 0.80602751592189, 0.9981040699105613, 0.99982147879262, 1.0004962744801569, 0.07829009348363043, 0.05871757011272282, 0.5793466917788652, 0.08611910283199348, 0.19572523370907607, 0.9961392023109271, 0.15228279519414076, 0.8465131850497826, 0.9938883571840169, 0.9620086046710957, 0.03820250776672222, 0.9992746323208594, 0.05709580219425798, 0.1679288299831117, 0.16457025338344947, 0.6112609411385266, 1.002020030352188, 0.9941856138664632, 0.0477327340443323, 0.9546546808866461, 0.2574019149307406, 0.6292046809418104, 0.11440085108032916, 0.13751720726223826, 0.4991365300629389, 0.015279689695804252, 0.04583906908741276, 0.30559379391608504, 0.9733377802088904, 0.02281260422364587, 1.0052204134839327, 0.9953435486423469, 0.9992486485004363, 0.9669061854909573, 0.032052138745556596, 0.9979062477648926, 0.9971236435802455, 0.9961829613681711, 0.004812478074242373, 1.0025832259680114, 1.001049060747763, 1.0002391960176107, 0.9982866717082254, 1.000382937084271, 1.0000301370791616, 0.9983471243431844, 0.9987415708028823, 1.0044889817427853, 1.0044471573803675, 1.001321627159835, 0.9992454766548426, 0.7525450712358123, 0.24692885149925092, 1.0008787101258863, 0.02517974880203104, 0.9769742535188044, 1.0034098132507063, 0.9986068115062327, 1.0007019246652646, 0.9970792881150644, 0.03654477592381202, 0.8953470101333946, 0.06699875586032204, 1.0008077002781504, 0.9967167558528397, 0.8227995672455162, 0.1774665733274643, 0.9977788737806184, 0.003215993107287922, 0.9969578632592558, 0.02631731101302203, 0.9737405074818152, 0.5509241968820576, 0.4485219298036082, 1.0046920208871157, 0.09492496389675868, 0.04381152179850401, 0.8616265953705788, 1.001861035135379, 1.0006315982117389, 1.0059292261231922, 1.0027397785385994, 0.07942938239055476, 0.4289186649089957, 0.15885876478110952, 0.20969356951106458, 0.12390983652926543, 0.6922153464103455, 0.06776933461360027, 0.23719267114760093, 1.0001876761872786, 0.9964540253080576, 1.0000985828504456, 1.0035157204172878, 0.9947633537492314, 0.998064232776995, 0.9988334025627014, 1.000266954868551, 0.9978286791957401, 0.9858638134051483, 0.01444489103890327, 0.9972255509771905, 0.05606152543574456, 0.9455710623495582, 0.1412530265667848, 0.6179819912296834, 0.20481688852183794, 0.038844582305865814, 0.6846216815435666, 0.31708793671491503, 1.0001122097385693, 0.9998026850726205, 1.0027954000215666, 0.9982789598899341, 0.8660918075271596, 0.025287352044588603, 0.10747124618950156, 0.9816271296786861, 0.01776700687201242, 0.9977290879234143, 0.9907380566516608, 0.007562885928638632, 0.9968174798188278, 1.0022582210156397, 0.9957697755580249, 0.02879240023354975, 0.9717435078823041, 0.8824351774849215, 0.045419457664665076, 0.07137343347304512, 0.9054655778780721, 0.09115425280651733, 0.9978231073066014, 0.8822748138240732, 0.04726472216914678, 0.06827126535543424, 1.0032638344663942, 1.003601012492185, 0.997921743125561, 0.9411809270591319, 0.0592869875312839, 0.9995353870787953, 0.9976787172651779, 0.8720347826231276, 0.05869464883040282, 0.06987458194095574, 0.08437278634711584, 0.9160473946258292, 0.273630970983027, 0.7274579472475597, 0.9993651126333521, 0.01127785644396812, 0.05075035399785654, 0.9360620848493539, 0.12786426649427812, 0.1318600248222243, 0.5554104075845206, 0.12786426649427812, 0.05594061659124668, 1.0002250480649193, 0.7198830585511, 0.27922736816527516, 0.9981616903948116, 0.047549245732625006, 0.659745784540172, 0.10698580289840627, 0.08321118003209377, 0.10104214718182813, 0.01938872116712097, 0.6863607293160824, 0.298586305973663, 0.9984135438271873, 0.9980941632820854, 0.05843020489258046, 0.7498542961214493, 0.009738367482096742, 0.13958326724338666, 0.03895346992838697, 0.9106936230998024, 0.09106936230998024, 0.9965546367315573, 0.03763768692794223, 0.9660339644838505, 1.0020748976667895, 0.9977990140814144, 1.0011193768641764, 0.9999973326925817, 0.9985314819596036, 0.7070516363994723, 0.2937749756871047, 0.005019728639261863, 0.993906270573849, 0.024899387450011627, 0.979375906367124, 0.8443675530122641, 0.15508791790021176, 1.006436104296645, 0.9169390238072693, 0.08490176146363604, 0.995845376309745, 1.0032399207488338, 0.10307413874014514, 0.8986776471406404, 0.8462231562405076, 0.04139135003350309, 0.11497597231528636, 0.009909971266260911, 0.9909971266260911, 0.999928881856893, 0.9950262026061644, 0.10253915058480524, 0.4980473028404826, 0.2453615388993554, 0.12084971318923475, 0.03295901268797311, 0.9991151471989727, 1.0011050103881292, 1.003425384963666, 0.9958948140960187, 1.0012316803087031, 0.35531264789740646, 0.0031167776131351445, 0.6389394106927047, 1.0027657265429024, 0.034311623820615714, 0.9721626749174452, 0.01504939031018688, 0.7637565582419842, 0.2219785070752565, 0.09969003164926404, 0.6355239517640583, 0.26168633307931816, 1.0006104426219546, 0.8555577766795555, 0.14444481943940546, 0.033825038021933124, 0.9673960874272873, 0.12608575875445963, 0.01801225125063709, 0.8510788715926025, 0.7726873594054169, 0.22907103132815454, 0.9971283537208426, 1.0048559475538061, 0.006585213694753039, 0.08560777803178951, 0.9087594898759194, 0.1243057735954463, 0.789509643106213, 0.08735000306707037, 1.0042183113927816, 0.9976987813867358, 0.042069720835919804, 0.06501684129187606, 0.1988750439516209, 0.6922381337546805, 0.9982739047784001, 0.9974447534423468], \"Term\": [\"3g\", \"academy\", \"actor\", \"actress\", \"airline\", \"airlines\", \"album\", \"analysts\", \"analysts\", \"angels\", \"apple\", \"arsenal\", \"athens\", \"aviator\", \"award\", \"award\", \"awards\", \"ball\", \"band\", \"band\", \"bank\", \"bank\", \"best\", \"best\", \"best\", \"bid\", \"bid\", \"bid\", \"bill\", \"bill\", \"blair\", \"box_office\", \"britain\", \"britain\", \"british\", \"british\", \"british\", \"broadband\", \"brown\", \"bt\", \"business\", \"business\", \"business\", \"campaign\", \"captain\", \"cardiff\", \"case\", \"ceremony\", \"ceremony\", \"champion\", \"champions_league\", \"chancellor\", \"chart\", \"charts\", \"chelsea\", \"china\", \"china\", \"chinas\", \"chinese\", \"cinema\", \"club\", \"club\", \"coach\", \"comedy\", \"committee\", \"companies\", \"companies\", \"company\", \"company\", \"company\", \"computer\", \"concert\", \"content\", \"costs\", \"costs\", \"council\", \"court\", \"court\", \"cup\", \"data\", \"data\", \"deal\", \"deal\", \"deal\", \"debt\", \"december\", \"december\", \"december\", \"december\", \"deficit\", \"deficit\", \"demand\", \"demand\", \"demand\", \"devices\", \"digital\", \"digital\", \"director\", \"director\", \"director\", \"director\", \"director\", \"documentary\", \"dollar\", \"dollar\", \"download\", \"drama\", \"e-mail\", \"e-mail\", \"economic\", \"economic\", \"economy\", \"economy\", \"edwards\", \"election\", \"england\", \"england\", \"england\", \"eu\", \"euros\", \"exports\", \"ferguson\", \"festival\", \"fiat\", \"figures\", \"figures\", \"figures\", \"film\", \"film\", \"films\", \"films\", \"final\", \"final\", \"final\", \"final\", \"finance\", \"financial\", \"financial\", \"firm\", \"firm\", \"firm\", \"firms\", \"firms\", \"football\", \"france\", \"france\", \"france\", \"fraud\", \"fuel\", \"gadget\", \"gadgets\", \"game\", \"game\", \"games\", \"games\", \"gaming\", \"gazprom\", \"gm\", \"good\", \"good\", \"good\", \"good\", \"good\", \"google\", \"government\", \"government\", \"grand_slam\", \"growth\", \"growth\", \"health\", \"home\", \"home\", \"home\", \"home\", \"honour\", \"housing\", \"howard\", \"howard\", \"im\", \"im\", \"im\", \"including\", \"including\", \"including\", \"including\", \"including\", \"india\", \"india\", \"indias\", \"inflation\", \"injury\", \"internet\", \"internet\", \"investment\", \"investors\", \"ireland\", \"ireland\", \"issue\", \"labour\", \"law\", \"leader\", \"lions\", \"liverpool\", \"local\", \"lord\", \"los_angeles\", \"lse\", \"machines\", \"madrid\", \"market\", \"market\", \"markets\", \"match\", \"match\", \"matches\", \"messages\", \"microsoft\", \"ministers\", \"minutes\", \"minutes\", \"minutes\", \"mobile\", \"mobiles\", \"movie\", \"movie\", \"mps\", \"mr\", \"mr\", \"ms\", \"ms\", \"music\", \"music\", \"musical\", \"net\", \"net\", \"net\", \"networks\", \"newcastle\", \"nominated\", \"nominations\", \"number\", \"number\", \"number\", \"number\", \"number\", \"offer\", \"offer\", \"offer\", \"oil\", \"olympic\", \"online\", \"oscar\", \"oscars\", \"parties\", \"party\", \"pc\", \"penalty\", \"phone\", \"phone\", \"phones\", \"plans\", \"plans\", \"play\", \"play\", \"play\", \"play\", \"players\", \"players\", \"police\", \"political\", \"pop\", \"premiership\", \"price\", \"price\", \"price\", \"prices\", \"prices\", \"prime_minister\", \"prize\", \"prize\", \"profit\", \"profits\", \"programs\", \"public\", \"public\", \"quarter\", \"quarter\", \"quarter\", \"rate\", \"rate\", \"rates\", \"rise\", \"rise\", \"rise\", \"robinson\", \"rock\", \"roddick\", \"rose\", \"rose\", \"rugby\", \"rules\", \"sales\", \"sales\", \"sales\", \"say\", \"say\", \"says\", \"says\", \"search\", \"season\", \"season\", \"season\", \"second\", \"second\", \"second\", \"second\", \"second\", \"secretary\", \"security\", \"security\", \"seed\", \"series\", \"series\", \"series\", \"series\", \"series\", \"service\", \"service\", \"service\", \"shareholders\", \"shares\", \"show\", \"show\", \"show\", \"show\", \"show\", \"side\", \"side\", \"singer\", \"site\", \"site\", \"sites\", \"six_nations\", \"software\", \"song\", \"spam\", \"spending\", \"spending\", \"spokesman\", \"spokesman\", \"squad\", \"squad\", \"star\", \"star\", \"starring\", \"stars\", \"stars\", \"stock\", \"takeover\", \"tax\", \"tax\", \"team\", \"team\", \"team\", \"technology\", \"technology\", \"tennis\", \"theatre\", \"top\", \"top\", \"top\", \"top\", \"top\", \"tories\", \"tory\", \"tournament\", \"trading\", \"trial\", \"tv\", \"tv\", \"tv\", \"ukip\", \"urban\", \"urban\", \"use\", \"use\", \"use\", \"used\", \"used\", \"used\", \"users\", \"using\", \"using\", \"victory\", \"victory\", \"video\", \"video\", \"video\", \"wales\", \"wales\", \"web\", \"websites\", \"williams\", \"williams\", \"williams\", \"win\", \"win\", \"win\", \"wireless\", \"women\", \"work\", \"work\", \"work\", \"work\", \"yukos\", \"zealand\"]}, \"R\": 30, \"lambda.step\": 0.1, \"plot.opts\": {\"xlab\": \"PC1\", \"ylab\": \"PC2\"}, \"topic.order\": [1, 2, 3, 4, 5]};\n",
       "\n",
       "function LDAvis_load_lib(url, callback){\n",
       "  var s = document.createElement('script');\n",
       "  s.src = url;\n",
       "  s.async = true;\n",
       "  s.onreadystatechange = s.onload = callback;\n",
       "  s.onerror = function(){console.warn(\"failed to load library \" + url);};\n",
       "  document.getElementsByTagName(\"head\")[0].appendChild(s);\n",
       "}\n",
       "\n",
       "if(typeof(LDAvis) !== \"undefined\"){\n",
       "   // already loaded: just create the visualization\n",
       "   !function(LDAvis){\n",
       "       new LDAvis(\"#\" + \"ldavis_el701631519013870808040205060\", ldavis_el701631519013870808040205060_data);\n",
       "   }(LDAvis);\n",
       "}else if(typeof define === \"function\" && define.amd){\n",
       "   // require.js is available: use it to load d3/LDAvis\n",
       "   require.config({paths: {d3: \"/nbextensions/d3.v3.min\"}});\n",
       "   require([\"d3\"], function(d3){\n",
       "      window.d3 = d3;\n",
       "      LDAvis_load_lib(\"/nbextensions/ldavis.v1.0.0.js\", function(){\n",
       "        new LDAvis(\"#\" + \"ldavis_el701631519013870808040205060\", ldavis_el701631519013870808040205060_data);\n",
       "      });\n",
       "    });\n",
       "}else{\n",
       "    // require.js not available: dynamically load d3 & LDAvis\n",
       "    LDAvis_load_lib(\"/nbextensions/d3.v3.min.js\", function(){\n",
       "         LDAvis_load_lib(\"/nbextensions/ldavis.v1.0.0.js\", function(){\n",
       "                 new LDAvis(\"#\" + \"ldavis_el701631519013870808040205060\", ldavis_el701631519013870808040205060_data);\n",
       "            })\n",
       "         });\n",
       "}\n",
       "</script>"
      ],
      "text/plain": [
       "<IPython.core.display.HTML object>"
      ]
     },
     "execution_count": 16,
     "metadata": {},
     "output_type": "execute_result"
    }
   ],
   "source": [
    "results.show_visualisation()"
   ]
  },
  {
   "cell_type": "code",
   "execution_count": null,
   "metadata": {
    "ExecuteTime": {
     "end_time": "2020-06-29T08:59:42.007310Z",
     "start_time": "2020-06-29T08:59:42.003341Z"
    }
   },
   "outputs": [],
   "source": [
    "# results.export_visualisation(\"bbc_results\")"
   ]
  },
  {
   "cell_type": "markdown",
   "metadata": {},
   "source": [
    "## Saving results, using the automated labeller"
   ]
  },
  {
   "cell_type": "code",
   "execution_count": 17,
   "metadata": {
    "ExecuteTime": {
     "end_time": "2020-06-29T09:11:52.861795Z",
     "start_time": "2020-06-29T09:11:49.518028Z"
    }
   },
   "outputs": [],
   "source": [
    "results.save(\"bbc-full.aurum\")\n",
    "results = ignis.load_results(\"bbc-full.aurum\")"
   ]
  },
  {
   "cell_type": "code",
   "execution_count": 18,
   "metadata": {
    "ExecuteTime": {
     "end_time": "2020-06-29T09:11:53.709535Z",
     "start_time": "2020-06-29T09:11:52.862802Z"
    }
   },
   "outputs": [
    {
     "name": "stdout",
     "output_type": "stream",
     "text": [
      "Extracting label candidates from model...\n",
      "Preparing First-order relevance labeller...\n",
      "Done.\n"
     ]
    }
   ],
   "source": [
    "results.init_labeller(\"tomotopy\", verbose=True)"
   ]
  },
  {
   "cell_type": "markdown",
   "metadata": {},
   "source": [
    "## Exploring documents that \"belong\" to a given topic\n",
    "\n",
    "Because topics are distributions over words and documents are *distributions* over topics, documents don't belong to individual topics per se; every topic is represented in every document with some probability.\n",
    "\n",
    "We therefore have to specify how many of the document's top `n` topics we want to check for the actual topic we're interested in.\n",
    "\n",
    "This is especially significant for topic models that use a term weighting scheme, because all the common words (i.e., what we might consider stopwords) tend to get grouped into a single large topic; if we only consider each document's single most probable topic, we will unintentionally exclude documents which have this \"stopwords\" topic as their top topic.  (This is, however, not always a given; one would need to check the model's output and iterate from there).\n",
    "\n",
    "Alternatively, we can specify `ignore_topics` when slicing to completely ignore a given topic when classifying documents."
   ]
  },
  {
   "cell_type": "code",
   "execution_count": 19,
   "metadata": {
    "ExecuteTime": {
     "end_time": "2020-06-29T09:11:53.796421Z",
     "start_time": "2020-06-29T09:11:53.711067Z"
    },
    "scrolled": false
   },
   "outputs": [
    {
     "data": {
      "application/vnd.jupyter.widget-view+json": {
       "model_id": "646732e7cf334c70b32d7a30869d5a23",
       "version_major": 2,
       "version_minor": 0
      },
      "text/plain": [
       "interactive(children=(IntSlider(value=1, description='Topic', max=5, min=1), Output()), _dom_classes=('widget-…"
      ]
     },
     "metadata": {},
     "output_type": "display_data"
    },
    {
     "data": {
      "text/plain": [
       "<function ignis.aurum.Aurum.nb_explore_topics.<locals>.show_topic(topic_id=1)>"
      ]
     },
     "execution_count": 19,
     "metadata": {},
     "output_type": "execute_result"
    }
   ],
   "source": [
    "results.nb_explore_topics()"
   ]
  },
  {
   "cell_type": "markdown",
   "metadata": {},
   "source": [
    "Slicing and iteration\n",
    "--------\n",
    "After seeing what the main topics might be, we can slice the initial corpus further and re-run topic modelling to get better resolution."
   ]
  },
  {
   "cell_type": "code",
   "execution_count": 21,
   "metadata": {
    "ExecuteTime": {
     "end_time": "2020-06-29T09:12:25.655567Z",
     "start_time": "2020-06-29T09:12:20.886553Z"
    },
    "scrolled": true
   },
   "outputs": [
    {
     "name": "stdout",
     "output_type": "stream",
     "text": [
      "Training LDA model on 332 documents:\n",
      "{'term_weighting': 'pmi', 'k': 5, 'seed': 11399, 'workers': 10, 'parallel_scheme': 'default', 'iterations': 100, 'update_every': 100, 'until_max_ll': False, 'max_extra_iterations': 2000, 'verbose': True, 'tw': <TermWeight.PMI: 2>, 'parallel': <ParallelScheme.DEFAULT: 0>}\n",
      "\n"
     ]
    },
    {
     "name": "stderr",
     "output_type": "stream",
     "text": [
      "100%|██████████| 100/100 [00:00<00:00, 413.22it/s, Log-likelihood=-28.55111]"
     ]
    },
    {
     "name": "stdout",
     "output_type": "stream",
     "text": [
      "Docs: 332, Vocab size: 8622, Total Words: 53438\n",
      "Model training complete. (0.245s)\n",
      "Training LDA model on 332 documents:\n",
      "{'term_weighting': 'pmi', 'k': 6, 'seed': 11399, 'workers': 10, 'parallel_scheme': 'default', 'iterations': 100, 'update_every': 100, 'until_max_ll': False, 'max_extra_iterations': 2000, 'verbose': True, 'tw': <TermWeight.PMI: 2>, 'parallel': <ParallelScheme.DEFAULT: 0>}\n",
      "\n"
     ]
    },
    {
     "name": "stderr",
     "output_type": "stream",
     "text": [
      "\n",
      "100%|██████████| 100/100 [00:00<00:00, 427.39it/s, Log-likelihood=-28.48563]"
     ]
    },
    {
     "name": "stdout",
     "output_type": "stream",
     "text": [
      "Docs: 332, Vocab size: 8622, Total Words: 53438\n",
      "Model training complete. (0.236s)\n",
      "Training LDA model on 332 documents:\n",
      "{'term_weighting': 'pmi', 'k': 7, 'seed': 11399, 'workers': 10, 'parallel_scheme': 'default', 'iterations': 100, 'update_every': 100, 'until_max_ll': False, 'max_extra_iterations': 2000, 'verbose': True, 'tw': <TermWeight.PMI: 2>, 'parallel': <ParallelScheme.DEFAULT: 0>}\n",
      "\n"
     ]
    },
    {
     "name": "stderr",
     "output_type": "stream",
     "text": [
      "\n",
      "100%|██████████| 100/100 [00:00<00:00, 403.27it/s, Log-likelihood=-28.34859]"
     ]
    },
    {
     "name": "stdout",
     "output_type": "stream",
     "text": [
      "Docs: 332, Vocab size: 8622, Total Words: 53438\n",
      "Model training complete. (0.250s)\n",
      "Training LDA model on 332 documents:\n",
      "{'term_weighting': 'pmi', 'k': 8, 'seed': 11399, 'workers': 10, 'parallel_scheme': 'default', 'iterations': 100, 'update_every': 100, 'until_max_ll': False, 'max_extra_iterations': 2000, 'verbose': True, 'tw': <TermWeight.PMI: 2>, 'parallel': <ParallelScheme.DEFAULT: 0>}\n",
      "\n"
     ]
    },
    {
     "name": "stderr",
     "output_type": "stream",
     "text": [
      "\n",
      "100%|██████████| 100/100 [00:00<00:00, 448.49it/s, Log-likelihood=-28.24370]"
     ]
    },
    {
     "name": "stdout",
     "output_type": "stream",
     "text": [
      "Docs: 332, Vocab size: 8622, Total Words: 53438\n",
      "Model training complete. (0.225s)\n",
      "Training LDA model on 332 documents:\n",
      "{'term_weighting': 'pmi', 'k': 9, 'seed': 11399, 'workers': 10, 'parallel_scheme': 'default', 'iterations': 100, 'update_every': 100, 'until_max_ll': False, 'max_extra_iterations': 2000, 'verbose': True, 'tw': <TermWeight.PMI: 2>, 'parallel': <ParallelScheme.DEFAULT: 0>}\n",
      "\n"
     ]
    },
    {
     "name": "stderr",
     "output_type": "stream",
     "text": [
      "\n",
      "100%|██████████| 100/100 [00:00<00:00, 339.07it/s, Log-likelihood=-28.25743]"
     ]
    },
    {
     "name": "stdout",
     "output_type": "stream",
     "text": [
      "Docs: 332, Vocab size: 8622, Total Words: 53438\n",
      "Model training complete. (0.297s)\n",
      "Training LDA model on 332 documents:\n",
      "{'term_weighting': 'pmi', 'k': 10, 'seed': 11399, 'workers': 10, 'parallel_scheme': 'default', 'iterations': 100, 'update_every': 100, 'until_max_ll': False, 'max_extra_iterations': 2000, 'verbose': True, 'tw': <TermWeight.PMI: 2>, 'parallel': <ParallelScheme.DEFAULT: 0>}\n",
      "\n"
     ]
    },
    {
     "name": "stderr",
     "output_type": "stream",
     "text": [
      "\n",
      "100%|██████████| 100/100 [00:00<00:00, 403.27it/s, Log-likelihood=-28.13565]"
     ]
    },
    {
     "name": "stdout",
     "output_type": "stream",
     "text": [
      "Docs: 332, Vocab size: 8622, Total Words: 53438\n",
      "Model training complete. (0.251s)\n",
      "Training LDA model on 332 documents:\n",
      "{'term_weighting': 'pmi', 'k': 11, 'seed': 11399, 'workers': 10, 'parallel_scheme': 'default', 'iterations': 100, 'update_every': 100, 'until_max_ll': False, 'max_extra_iterations': 2000, 'verbose': True, 'tw': <TermWeight.PMI: 2>, 'parallel': <ParallelScheme.DEFAULT: 0>}\n",
      "\n"
     ]
    },
    {
     "name": "stderr",
     "output_type": "stream",
     "text": [
      "\n",
      "100%|██████████| 100/100 [00:00<00:00, 316.49it/s, Log-likelihood=-28.10083]"
     ]
    },
    {
     "name": "stdout",
     "output_type": "stream",
     "text": [
      "Docs: 332, Vocab size: 8622, Total Words: 53438\n",
      "Model training complete. (0.319s)\n",
      "Training LDA model on 332 documents:\n",
      "{'term_weighting': 'pmi', 'k': 12, 'seed': 11399, 'workers': 10, 'parallel_scheme': 'default', 'iterations': 100, 'update_every': 100, 'until_max_ll': False, 'max_extra_iterations': 2000, 'verbose': True, 'tw': <TermWeight.PMI: 2>, 'parallel': <ParallelScheme.DEFAULT: 0>}\n",
      "\n"
     ]
    },
    {
     "name": "stderr",
     "output_type": "stream",
     "text": [
      "\n",
      "100%|██████████| 100/100 [00:00<00:00, 330.07it/s, Log-likelihood=-27.89675]"
     ]
    },
    {
     "name": "stdout",
     "output_type": "stream",
     "text": [
      "Docs: 332, Vocab size: 8622, Total Words: 53438\n",
      "Model training complete. (0.307s)\n",
      "Training LDA model on 332 documents:\n",
      "{'term_weighting': 'pmi', 'k': 13, 'seed': 11399, 'workers': 10, 'parallel_scheme': 'default', 'iterations': 100, 'update_every': 100, 'until_max_ll': False, 'max_extra_iterations': 2000, 'verbose': True, 'tw': <TermWeight.PMI: 2>, 'parallel': <ParallelScheme.DEFAULT: 0>}\n",
      "\n"
     ]
    },
    {
     "name": "stderr",
     "output_type": "stream",
     "text": [
      "\n",
      "100%|██████████| 100/100 [00:00<00:00, 303.03it/s, Log-likelihood=-27.98307]"
     ]
    },
    {
     "name": "stdout",
     "output_type": "stream",
     "text": [
      "Docs: 332, Vocab size: 8622, Total Words: 53438\n",
      "Model training complete. (0.333s)\n",
      "Training LDA model on 332 documents:\n",
      "{'term_weighting': 'pmi', 'k': 14, 'seed': 11399, 'workers': 10, 'parallel_scheme': 'default', 'iterations': 100, 'update_every': 100, 'until_max_ll': False, 'max_extra_iterations': 2000, 'verbose': True, 'tw': <TermWeight.PMI: 2>, 'parallel': <ParallelScheme.DEFAULT: 0>}\n",
      "\n"
     ]
    },
    {
     "name": "stderr",
     "output_type": "stream",
     "text": [
      "\n",
      "100%|██████████| 100/100 [00:00<00:00, 303.04it/s, Log-likelihood=-27.77230]"
     ]
    },
    {
     "name": "stdout",
     "output_type": "stream",
     "text": [
      "Docs: 332, Vocab size: 8622, Total Words: 53438\n",
      "Model training complete. (0.334s)\n",
      "Training LDA model on 332 documents:\n",
      "{'term_weighting': 'pmi', 'k': 15, 'seed': 11399, 'workers': 10, 'parallel_scheme': 'default', 'iterations': 100, 'update_every': 100, 'until_max_ll': False, 'max_extra_iterations': 2000, 'verbose': True, 'tw': <TermWeight.PMI: 2>, 'parallel': <ParallelScheme.DEFAULT: 0>}\n",
      "\n"
     ]
    },
    {
     "name": "stderr",
     "output_type": "stream",
     "text": [
      "\n",
      "100%|██████████| 100/100 [00:00<00:00, 299.40it/s, Log-likelihood=-27.69840]"
     ]
    },
    {
     "name": "stdout",
     "output_type": "stream",
     "text": [
      "Docs: 332, Vocab size: 8622, Total Words: 53438\n",
      "Model training complete. (0.336s)\n"
     ]
    },
    {
     "name": "stderr",
     "output_type": "stream",
     "text": [
      "\n"
     ]
    }
   ],
   "source": [
    "# Try zooming in on the entertainment topic\n",
    "entertainment_slice = results.slice_by_topic(topic_id=2)\n",
    "best_k_2 = results.resuggest_num_topics(corpus_slice=entertainment_slice)"
   ]
  },
  {
   "cell_type": "code",
   "execution_count": 22,
   "metadata": {
    "ExecuteTime": {
     "end_time": "2020-06-29T09:12:36.387949Z",
     "start_time": "2020-06-29T09:12:28.717202Z"
    }
   },
   "outputs": [
    {
     "name": "stdout",
     "output_type": "stream",
     "text": [
      "Training LDA model on 332 documents:\n",
      "{'term_weighting': 'pmi', 'k': 5, 'seed': 11399, 'workers': 10, 'parallel_scheme': 'default', 'iterations': 1000, 'update_every': 100, 'until_max_ll': True, 'max_extra_iterations': 2000, 'verbose': True, 'tw': <TermWeight.PMI: 2>, 'parallel': <ParallelScheme.DEFAULT: 0>}\n",
      "\n"
     ]
    },
    {
     "name": "stderr",
     "output_type": "stream",
     "text": [
      "100%|██████████| 1000/1000 [00:02<00:00, 482.17it/s, Log-likelihood=-27.91753]"
     ]
    },
    {
     "name": "stdout",
     "output_type": "stream",
     "text": [
      "\n",
      "Continuing to train until maximum log-likelihood.\n",
      "(N.B.: This may not correlate with increased interpretability)\n",
      "\n"
     ]
    },
    {
     "name": "stderr",
     "output_type": "stream",
     "text": [
      "\n",
      "2000it [00:05, 396.98it/s, Log-likelihood=-27.84497]"
     ]
    },
    {
     "name": "stdout",
     "output_type": "stream",
     "text": [
      "Docs: 332, Vocab size: 8622, Total Words: 53438\n",
      "Model training complete. (7.268s)\n",
      "Extracting label candidates from model...\n",
      "Preparing First-order relevance labeller...\n",
      "Done.\n",
      "Preparing LDA visualisation..."
     ]
    },
    {
     "name": "stderr",
     "output_type": "stream",
     "text": [
      "\n"
     ]
    },
    {
     "name": "stdout",
     "output_type": "stream",
     "text": [
      " Done. (0.310s)\n"
     ]
    },
    {
     "data": {
      "text/html": [
       "\n",
       "<link rel=\"stylesheet\" type=\"text/css\" href=\"/nbextensions/ldavis.v1.0.0.css\">\n",
       "\n",
       "\n",
       "<div id=\"ldavis_el701631518679674321122861178\"></div>\n",
       "<script type=\"text/javascript\">\n",
       "\n",
       "var ldavis_el701631518679674321122861178_data = {\"mdsDat\": {\"x\": [-0.3648296950996181, 0.06486785116128217, 0.2634268204657271, -0.07335835041643567, 0.1098933738890442], \"y\": [0.20745699948899732, -0.12583534426199738, 0.1968730963066682, -0.3415641328921154, 0.06306938135844715], \"topics\": [1, 2, 3, 4, 5], \"cluster\": [1, 1, 1, 1, 1], \"Freq\": [19.7757304215152, 17.247882711036322, 21.685064453648277, 19.171333963096178, 22.11998845070402]}, \"tinfo\": {\"Term\": [\"film\", \"best\", \"music\", \"number\", \"band\", \"song\", \"album\", \"award\", \"festival\", \"awards\", \"actor\", \"films\", \"tv\", \"director\", \"show\", \"actress\", \"urban\", \"prize\", \"book\", \"series\", \"oscar\", \"theatre\", \"role\", \"musical\", \"christmas\", \"box_office\", \"aviator\", \"bbc\", \"nominations\", \"chart\", \"theatre\", \"musical\", \"ballet\", \"young\", \"work\", \"producers\", \"played\", \"school\", \"production\", \"sir\", \"died\", \"host\", \"producer\", \"family\", \"entertainment\", \"story\", \"saw\", \"age\", \"richard\", \"west\", \"boys\", \"davis\", \"yet\", \"appeared\", \"david\", \"national\", \"ago\", \"court\", \"premiere\", \"deal\", \"london\", \"end\", \"mr\", \"life\", \"show\", \"radio\", \"career\", \"stars\", \"game\", \"audience\", \"television\", \"viewers\", \"brother\", \"celebrity\", \"episode\", \"action\", \"games\", \"spokesman\", \"monday\", \"lee\", \"fox\", \"media\", \"sky\", \"spider-man\", \"vote\", \"ratings\", \"comic\", \"network\", \"screened\", \"share\", \"channel_4\", \"left\", \"odds\", \"simpsons\", \"gervais\", \"character\", \"bond\", \"magazine\", \"tv\", \"series\", \"bbc\", \"big\", \"may\", \"show\", \"due\", \"seen\", \"programme\", \"shows\", \"month\", \"million\", \"mtv\", \"star\", \"music\", \"band\", \"song\", \"album\", \"urban\", \"rock\", \"tour\", \"angels\", \"black\", \"songs\", \"pop\", \"says\", \"artists\", \"really\", \"edwards\", \"hip-hop\", \"act\", \"rap\", \"soul\", \"rapper\", \"bands\", \"50_cent\", \"u2\", \"r&b\", \"artist\", \"joss_stone\", \"even\", \"right\", \"sound\", \"perform\", \"singer\", \"dont\", \"group\", \"think\", \"play\", \"top\", \"number\", \"festival\", \"book\", \"christmas\", \"chart\", \"place\", \"sale\", \"elvis\", \"release\", \"concert\", \"studio\", \"aid\", \"sales\", \"novel\", \"video\", \"money\", \"dvd\", \"charity\", \"weekend\", \"mcdonalds\", \"war\", \"evans\", \"european\", \"weeks\", \"berlin\", \"however\", \"prince\", \"copies\", \"park\", \"ticket\", \"week\", \"day\", \"second\", \"event\", \"top\", \"sold\", \"uk\", \"record\", \"third\", \"single\", \"film\", \"award\", \"actor\", \"films\", \"director\", \"actress\", \"prize\", \"oscar\", \"role\", \"box_office\", \"aviator\", \"oscars\", \"named\", \"ceremony\", \"category\", \"hollywood\", \"winners\", \"sideways\", \"nominees\", \"dollar_baby\", \"vera_drake\", \"bafta\", \"french\", \"supporting\", \"cinema\", \"critics\", \"jamie_foxx\", \"directed\", \"interactive\", \"sequel\", \"best\", \"nominations\", \"awards\", \"academy\", \"nominated\", \"movie\", \"comedy\", \"british\", \"win\", \"took\", \"starring\"], \"Freq\": [201.0, 222.0, 140.0, 99.0, 105.0, 103.0, 100.0, 95.0, 86.0, 105.0, 86.0, 82.0, 73.0, 80.0, 113.0, 76.0, 67.0, 66.0, 59.0, 62.0, 62.0, 58.0, 61.0, 57.0, 55.0, 60.0, 59.0, 82.0, 59.0, 52.0, 58.01729842319037, 57.020349419691094, 42.475693581038, 37.14697849615911, 36.841308521545926, 37.0849616749943, 37.53140897247773, 34.14481320050525, 33.65259082105594, 32.87237467581106, 32.765156068428496, 31.449779414547756, 31.43620485385082, 31.931023057395702, 29.233787126826332, 30.520555584726775, 28.929416294509323, 28.262459276224863, 27.47508062487363, 27.173859228426128, 26.862306206028578, 26.73077789052824, 25.45730841768615, 24.464042777856136, 23.822500230740545, 23.71713191693131, 24.415585754407626, 23.21400215528706, 22.688922301930397, 22.54778820702806, 40.76912254520953, 28.48881513735867, 56.36990725574737, 41.51047022293048, 46.710867940597865, 32.015354123795326, 26.80032383181859, 26.382888251786238, 48.71862212077203, 42.833841854237725, 42.38949913180284, 31.95659132948581, 31.567739407293956, 28.25064151860739, 27.024423162954683, 26.333592958273904, 24.609768609166434, 24.59434972913912, 23.57340741912209, 23.388378712812464, 22.867774231222327, 22.042159194703654, 22.03257309350922, 21.595046009622244, 21.586099411037157, 21.47674875680312, 21.25871914067304, 20.70474678635574, 20.644854577214172, 20.575835507007028, 20.40464623803855, 20.156808933170915, 19.89332312821154, 19.813715783257738, 19.784811552904525, 19.780789982804155, 19.730355115942384, 19.689117927549233, 72.09696622217076, 59.06037075751077, 61.73417408681716, 36.6310356524874, 28.258487228472365, 67.06780611122845, 26.90579113695751, 24.883454266146654, 24.68113752956563, 29.107356124973773, 22.8307925249578, 31.32538294022587, 25.608603013540968, 29.717975963783886, 140.46908087672614, 105.69961977407418, 103.86466099330111, 100.62144640820686, 67.63978746091429, 56.00439872367106, 46.79748176326751, 45.36115538274744, 45.36476538187798, 44.079872798965994, 43.74037099732649, 43.64051324110804, 41.236933730320914, 39.600562674513476, 38.376036399932296, 38.23782037940978, 37.86188402750214, 36.39310812564951, 33.77553229121628, 31.954579119924993, 31.696113434791958, 31.55593862550355, 30.17507078917494, 30.14741571362337, 30.11069247134704, 29.09417823186823, 29.07221875285221, 28.459077398284347, 28.327911398485373, 27.939779832773525, 53.4623657634201, 39.69993747868083, 38.24792999580898, 36.46084552338587, 35.29386608845732, 40.59955573734527, 99.07424861120214, 86.430061913617, 59.593410828931376, 55.36798466441044, 52.093777079283015, 47.64883673308873, 36.341511629219255, 35.212984326605564, 34.42135647871809, 34.156900902068124, 32.985278424939146, 32.39903902542788, 31.688399192170248, 31.3103318835137, 31.303879653090064, 30.80776634390289, 30.797559654815004, 29.83721492621601, 29.014332521862393, 26.670319501727764, 25.88883632518658, 25.598874759656788, 25.165656981637984, 25.081081479186643, 24.767338495052908, 24.84549277595141, 24.50819259120258, 24.125803123016414, 23.993264053334578, 23.690264450283305, 41.4811818726543, 41.76726971463216, 36.24029390434067, 28.723001795422, 40.04067193564907, 29.479417877870024, 34.395647739529196, 28.338506109319354, 26.87938846453786, 26.921226587136967, 201.46575783886652, 95.7193620033952, 86.16410505051017, 82.48230236122062, 80.90895316516153, 76.29066979285744, 66.93116364098364, 62.427254924760646, 61.91803753300092, 60.29746110997347, 59.77168666708077, 53.23009924601416, 52.54283300684813, 49.99535895467, 47.193920214252486, 42.72414390297482, 41.68435778922105, 39.47681243660849, 39.186249399638015, 37.28554066168031, 37.23485395777142, 36.75242893515721, 36.47464146855895, 35.189202218165136, 34.887503903787085, 34.03413323242703, 31.87087028552083, 31.828627237342648, 27.06797138961307, 26.915082874895862, 195.96357673217594, 59.523193291616046, 99.19510976942588, 47.46423829308896, 44.85884758797828, 46.93396680539053, 53.49409834389962, 53.17941529427467, 41.31915591802084, 37.81291686716599, 37.60867287137478], \"Total\": [201.0, 222.0, 140.0, 99.0, 105.0, 103.0, 100.0, 95.0, 86.0, 105.0, 86.0, 82.0, 73.0, 80.0, 113.0, 76.0, 67.0, 66.0, 59.0, 62.0, 62.0, 58.0, 61.0, 57.0, 55.0, 60.0, 59.0, 82.0, 59.0, 52.0, 58.02954885948279, 57.03259089212324, 42.48793495307294, 37.15922154639832, 36.853561512856906, 37.097336510641, 37.54444859072449, 34.15709184599733, 33.66488404057198, 32.88469396366052, 32.77764982042691, 31.462024050477464, 31.448450398157046, 31.943606175436795, 29.24604337419118, 30.533438985433474, 28.941655041523905, 28.274871409756514, 27.487426616929223, 27.186097681928143, 26.874557011826873, 26.743016512512167, 25.469847364834184, 24.476346455866313, 23.83478929694094, 23.729372125769284, 24.428331280711795, 23.226242329690223, 22.701184592254688, 22.560032605897455, 42.37684678684245, 29.07230323119116, 65.08257484755306, 46.054532080213555, 113.78798873642856, 59.784193701138804, 37.3214684889804, 54.54455804176452, 48.73083350626861, 42.84604734813566, 42.401763008958106, 31.96879558168111, 31.579950162684046, 28.262849232268476, 27.03662788284537, 26.3459007477124, 24.621976037897962, 24.606646294952643, 23.585627473446305, 23.400582949132946, 22.879979435964756, 22.05436606309594, 22.04477762295917, 21.60725978182267, 21.598329997630554, 21.488953011128423, 21.270941628467494, 20.716952207909806, 20.657079906698456, 20.588042920074415, 20.416853838485146, 20.169018119705473, 19.905535064890987, 19.825923844557472, 19.797017103060767, 19.793000203994524, 19.742559680363907, 19.701410007193154, 73.38309581065438, 62.96793097038328, 82.73262196263944, 44.898745904847296, 32.332483554943664, 113.78798873642856, 31.000415805682966, 28.441442222037885, 30.351011206281946, 46.13877573287318, 26.327644874599926, 64.90232955029614, 35.50879876140266, 71.11601997617183, 140.48095992586116, 105.71148420504596, 103.87653247141229, 100.63332254591045, 67.65165377159855, 56.01627825128714, 46.80935007754984, 45.373017294438995, 45.376634976576895, 44.09173847800796, 43.75223346078934, 43.652391846145896, 41.24880340876479, 39.612429272052296, 38.38790751133011, 38.24968374411483, 37.87375051551059, 36.40496925582994, 33.787395020621226, 31.96645284261389, 31.707975395463937, 31.56780023895294, 30.186931511420536, 30.159277882048848, 30.122566140725677, 29.106039376609054, 29.084179167269195, 28.470939969862037, 28.33977510758649, 27.951664657720542, 56.91388170931544, 42.05591687619025, 44.40784701031877, 44.99741369633652, 48.34034687831743, 86.74106822262829, 99.08653067602091, 86.44236843072406, 59.605699723995016, 55.3802673685099, 52.10605933973907, 47.66113843208103, 36.35379518210314, 35.22527126604986, 34.4337296894821, 34.16918671401454, 32.99757424998619, 32.41132183498139, 31.700713376970878, 31.322614171195788, 31.31616866782957, 30.82005813115527, 30.809946454037068, 29.849564201236156, 29.02662044530676, 26.6826020968248, 25.901124117962055, 25.611157933044705, 25.177940088219316, 25.093366700050616, 24.779621167538874, 24.857826327773534, 24.52048547837399, 24.13808791151342, 24.005547362639234, 23.702546462709943, 41.807797560363326, 43.50844548180067, 41.03840633179165, 34.0167568648077, 86.74106822262829, 40.916560160997726, 69.16871048739576, 50.35146342862139, 36.05005387693797, 56.00377086357082, 201.47772412576018, 95.73131500541933, 86.1760767390906, 82.49429726664054, 80.92090642241283, 76.30261647660254, 66.94314976611653, 62.43921625759875, 61.92999255539405, 60.3094088496273, 59.78363741964094, 53.24205384714883, 52.554801073622265, 50.00730712137791, 47.20586921648911, 42.73609498983977, 41.69630611052026, 39.488765606179065, 39.19821388273888, 37.29748841567074, 37.24680392411609, 36.764376474161544, 36.48658899137128, 35.20114898783731, 34.89948133902795, 34.04608207855055, 31.882818277400457, 31.840585377771006, 27.07991850299234, 26.927064092518485, 222.15176811429058, 59.96932664963848, 105.89318727949194, 48.87381401731704, 47.46133986617485, 54.61785467138267, 69.991758057528, 73.77610488295184, 50.02551069413508, 54.35813659922187, 43.94189857436905], \"Category\": [\"Default\", \"Default\", \"Default\", \"Default\", \"Default\", \"Default\", \"Default\", \"Default\", \"Default\", \"Default\", \"Default\", \"Default\", \"Default\", \"Default\", \"Default\", \"Default\", \"Default\", \"Default\", \"Default\", \"Default\", \"Default\", \"Default\", \"Default\", \"Default\", \"Default\", \"Default\", \"Default\", \"Default\", \"Default\", \"Default\", \"Topic1\", \"Topic1\", \"Topic1\", \"Topic1\", \"Topic1\", \"Topic1\", \"Topic1\", \"Topic1\", \"Topic1\", \"Topic1\", \"Topic1\", \"Topic1\", \"Topic1\", \"Topic1\", \"Topic1\", \"Topic1\", \"Topic1\", \"Topic1\", \"Topic1\", \"Topic1\", \"Topic1\", \"Topic1\", \"Topic1\", \"Topic1\", \"Topic1\", \"Topic1\", \"Topic1\", \"Topic1\", \"Topic1\", \"Topic1\", \"Topic1\", \"Topic1\", \"Topic1\", \"Topic1\", \"Topic1\", \"Topic1\", \"Topic1\", \"Topic1\", \"Topic2\", \"Topic2\", \"Topic2\", \"Topic2\", \"Topic2\", \"Topic2\", \"Topic2\", \"Topic2\", \"Topic2\", \"Topic2\", \"Topic2\", \"Topic2\", \"Topic2\", \"Topic2\", \"Topic2\", \"Topic2\", \"Topic2\", \"Topic2\", \"Topic2\", \"Topic2\", \"Topic2\", \"Topic2\", \"Topic2\", \"Topic2\", \"Topic2\", \"Topic2\", \"Topic2\", \"Topic2\", \"Topic2\", \"Topic2\", \"Topic2\", \"Topic2\", \"Topic2\", \"Topic2\", \"Topic2\", \"Topic2\", \"Topic2\", \"Topic2\", \"Topic2\", \"Topic2\", \"Topic2\", \"Topic2\", \"Topic2\", \"Topic2\", \"Topic3\", \"Topic3\", \"Topic3\", \"Topic3\", \"Topic3\", \"Topic3\", \"Topic3\", \"Topic3\", \"Topic3\", \"Topic3\", \"Topic3\", \"Topic3\", \"Topic3\", \"Topic3\", \"Topic3\", \"Topic3\", \"Topic3\", \"Topic3\", \"Topic3\", \"Topic3\", \"Topic3\", \"Topic3\", \"Topic3\", \"Topic3\", \"Topic3\", \"Topic3\", \"Topic3\", \"Topic3\", \"Topic3\", \"Topic3\", \"Topic3\", \"Topic3\", \"Topic3\", \"Topic3\", \"Topic3\", \"Topic3\", \"Topic4\", \"Topic4\", \"Topic4\", \"Topic4\", \"Topic4\", \"Topic4\", \"Topic4\", \"Topic4\", \"Topic4\", \"Topic4\", \"Topic4\", \"Topic4\", \"Topic4\", \"Topic4\", \"Topic4\", \"Topic4\", \"Topic4\", \"Topic4\", \"Topic4\", \"Topic4\", \"Topic4\", \"Topic4\", \"Topic4\", \"Topic4\", \"Topic4\", \"Topic4\", \"Topic4\", \"Topic4\", \"Topic4\", \"Topic4\", \"Topic4\", \"Topic4\", \"Topic4\", \"Topic4\", \"Topic4\", \"Topic4\", \"Topic4\", \"Topic4\", \"Topic4\", \"Topic4\", \"Topic5\", \"Topic5\", \"Topic5\", \"Topic5\", \"Topic5\", \"Topic5\", \"Topic5\", \"Topic5\", \"Topic5\", \"Topic5\", \"Topic5\", \"Topic5\", \"Topic5\", \"Topic5\", \"Topic5\", \"Topic5\", \"Topic5\", \"Topic5\", \"Topic5\", \"Topic5\", \"Topic5\", \"Topic5\", \"Topic5\", \"Topic5\", \"Topic5\", \"Topic5\", \"Topic5\", \"Topic5\", \"Topic5\", \"Topic5\", \"Topic5\", \"Topic5\", \"Topic5\", \"Topic5\", \"Topic5\", \"Topic5\", \"Topic5\", \"Topic5\", \"Topic5\", \"Topic5\", \"Topic5\"], \"logprob\": [30.0, 29.0, 28.0, 27.0, 26.0, 25.0, 24.0, 23.0, 22.0, 21.0, 20.0, 19.0, 18.0, 17.0, 16.0, 15.0, 14.0, 13.0, 12.0, 11.0, 10.0, 9.0, 8.0, 7.0, 6.0, 5.0, 4.0, 3.0, 2.0, 1.0, -5.2048, -5.2222, -5.5166, -5.6507, -5.6589, -5.6524, -5.6404, -5.735, -5.7495, -5.7729, -5.7762, -5.8172, -5.8176, -5.802, -5.8902, -5.8472, -5.9007, -5.924, -5.9523, -5.9633, -5.9748, -5.9797, -6.0286, -6.0684, -6.0949, -6.0994, -6.0703, -6.1208, -6.1437, -6.1499, -5.5576, -5.9161, -5.2336, -5.5396, -5.4216, -5.7993, -5.9771, -5.9928, -5.2427, -5.3715, -5.3819, -5.6644, -5.6767, -5.7877, -5.8321, -5.858, -5.9257, -5.9263, -5.9687, -5.9766, -5.9991, -6.0358, -6.0363, -6.0563, -6.0567, -6.0618, -6.072, -6.0984, -6.1013, -6.1047, -6.113, -6.1253, -6.1384, -6.1424, -6.1439, -6.1441, -6.1466, -6.1487, -4.8508, -5.0502, -5.006, -5.5279, -5.7874, -4.9231, -5.8365, -5.9146, -5.9228, -5.7578, -6.0007, -5.6844, -5.8859, -5.737, -4.4127, -4.6971, -4.7146, -4.7464, -5.1435, -5.3323, -5.5119, -5.5431, -5.543, -5.5717, -5.5795, -5.5817, -5.6384, -5.6789, -5.7103, -5.7139, -5.7238, -5.7634, -5.838, -5.8934, -5.9015, -5.906, -5.9507, -5.9516, -5.9529, -5.9872, -5.9879, -6.0093, -6.0139, -6.0277, -5.3788, -5.6764, -5.7136, -5.7615, -5.794, -5.654, -4.6387, -4.7752, -5.147, -5.2205, -5.2815, -5.3707, -5.6416, -5.6731, -5.6958, -5.7036, -5.7385, -5.7564, -5.7786, -5.7906, -5.7908, -5.8068, -5.8071, -5.8388, -5.8667, -5.951, -5.9807, -5.992, -6.009, -6.0124, -6.025, -6.0218, -6.0355, -6.0512, -6.0568, -6.0695, -5.5093, -5.5024, -5.6444, -5.8768, -5.5446, -5.8508, -5.6966, -5.8903, -5.9432, -5.9416, -4.072, -4.8162, -4.9213, -4.965, -4.9843, -5.043, -5.1739, -5.2436, -5.2518, -5.2783, -5.2871, -5.403, -5.416, -5.4657, -5.5233, -5.6228, -5.6475, -5.7019, -5.7093, -5.759, -5.7603, -5.7734, -5.781, -5.8168, -5.8255, -5.8502, -5.9159, -5.9172, -6.0792, -6.0849, -4.0997, -5.2912, -4.7805, -5.5176, -5.5741, -5.5288, -5.398, -5.4039, -5.6563, -5.7449, -5.7504], \"loglift\": [30.0, 29.0, 28.0, 27.0, 26.0, 25.0, 24.0, 23.0, 22.0, 21.0, 20.0, 19.0, 18.0, 17.0, 16.0, 15.0, 14.0, 13.0, 12.0, 11.0, 10.0, 9.0, 8.0, 7.0, 6.0, 5.0, 4.0, 3.0, 2.0, 1.0, 1.6205, 1.6205, 1.6204, 1.6204, 1.6204, 1.6204, 1.6204, 1.6204, 1.6204, 1.6203, 1.6203, 1.6203, 1.6203, 1.6203, 1.6203, 1.6203, 1.6203, 1.6203, 1.6203, 1.6203, 1.6203, 1.6203, 1.6202, 1.6202, 1.6202, 1.6202, 1.6202, 1.6202, 1.6202, 1.6202, 1.582, 1.6004, 1.477, 1.5168, 0.7304, 0.9962, 1.2896, 0.8944, 1.7572, 1.7572, 1.7572, 1.7571, 1.7571, 1.757, 1.757, 1.757, 1.757, 1.757, 1.757, 1.757, 1.7569, 1.7569, 1.7569, 1.7569, 1.7569, 1.7569, 1.7569, 1.7569, 1.7569, 1.7569, 1.7569, 1.7569, 1.7569, 1.7569, 1.7569, 1.7569, 1.7569, 1.7569, 1.7398, 1.6934, 1.4647, 1.554, 1.6228, 1.2288, 1.6158, 1.6238, 1.5507, 1.2968, 1.615, 1.029, 1.4306, 0.8849, 1.5285, 1.5284, 1.5284, 1.5284, 1.5284, 1.5283, 1.5283, 1.5283, 1.5283, 1.5283, 1.5283, 1.5283, 1.5283, 1.5282, 1.5282, 1.5282, 1.5282, 1.5282, 1.5282, 1.5282, 1.5282, 1.5282, 1.5282, 1.5282, 1.5282, 1.5281, 1.5281, 1.5281, 1.5281, 1.5281, 1.466, 1.4709, 1.3792, 1.3182, 1.214, 0.7694, 1.6516, 1.6516, 1.6515, 1.6515, 1.6515, 1.6515, 1.6514, 1.6514, 1.6514, 1.6514, 1.6514, 1.6514, 1.6514, 1.6514, 1.6514, 1.6514, 1.6514, 1.6513, 1.6513, 1.6513, 1.6513, 1.6513, 1.6513, 1.6513, 1.6513, 1.6513, 1.6513, 1.6512, 1.6512, 1.6512, 1.6439, 1.6109, 1.5274, 1.4826, 0.8787, 1.3239, 0.9531, 1.0769, 1.3582, 0.9193, 1.5086, 1.5086, 1.5086, 1.5085, 1.5085, 1.5085, 1.5085, 1.5085, 1.5085, 1.5085, 1.5085, 1.5085, 1.5085, 1.5085, 1.5084, 1.5084, 1.5084, 1.5084, 1.5084, 1.5084, 1.5084, 1.5084, 1.5084, 1.5083, 1.5083, 1.5083, 1.5083, 1.5083, 1.5082, 1.5082, 1.3833, 1.5012, 1.4433, 1.4794, 1.4523, 1.3571, 1.2399, 1.1813, 1.3175, 1.1457, 1.3531]}, \"token.table\": {\"Topic\": [3, 4, 5, 3, 2, 5, 5, 1, 1, 4, 3, 3, 1, 3, 3, 2, 5, 5, 3, 5, 5, 1, 3, 3, 1, 2, 5, 4, 3, 5, 2, 5, 3, 2, 4, 5, 1, 3, 5, 2, 1, 5, 5, 2, 5, 2, 2, 4, 4, 4, 5, 2, 5, 2, 4, 4, 1, 5, 1, 1, 1, 4, 1, 1, 5, 5, 5, 3, 5, 2, 5, 4, 3, 4, 1, 5, 1, 2, 4, 4, 3, 4, 5, 1, 4, 5, 5, 2, 5, 2, 2, 2, 2, 3, 3, 5, 1, 4, 5, 5, 3, 2, 2, 1, 4, 1, 5, 2, 1, 2, 4, 2, 2, 4, 5, 2, 4, 2, 4, 2, 5, 1, 4, 2, 3, 3, 1, 5, 1, 2, 3, 5, 5, 5, 4, 4, 2, 5, 5, 4, 3, 4, 1, 3, 1, 3, 1, 4, 5, 1, 1, 1, 1, 2, 3, 1, 3, 3, 3, 2, 3, 3, 4, 4, 1, 3, 3, 5, 4, 4, 1, 3, 1, 2, 1, 4, 1, 2, 5, 2, 4, 2, 1, 2, 1, 2, 5, 2, 1, 3, 3, 4, 1, 2, 3, 4, 3, 3, 3, 3, 2, 2, 1, 2, 5, 4, 5, 1, 4, 5, 1, 4, 5, 2, 1, 3, 5, 3, 4, 4, 4, 5, 3, 4, 5, 3, 1, 2, 3, 3, 4, 5, 3, 5, 4, 2, 2, 4, 4, 4, 4, 1, 2, 3, 5, 5, 1, 1, 1], \"Freq\": [1.013691158641892, 0.02046085455179902, 0.9616601639345539, 1.0033334296913032, 0.9868707943970209, 0.9979567793550906, 0.9960339960727909, 0.9902785973533493, 0.982465798593046, 0.9873093162606699, 1.0036436981788242, 0.9917788739501635, 0.9805384983937362, 0.9959310856799823, 0.9939682272404555, 1.0035931587951026, 1.0036190936131961, 1.002806657305036, 0.06610434702965705, 0.9349043365622924, 1.0064090173269784, 0.9885159174336938, 1.0027292757936725, 1.0092098155399047, 0.07252278312549422, 0.7494020922967736, 0.18130695781373554, 1.008893551316669, 0.11703710585199467, 0.8822797210381137, 0.824076469271839, 0.178178696058776, 0.991699803725611, 1.0130398653368207, 1.0066151438172992, 0.9948696421415973, 1.0046677230109475, 0.2846450084796043, 0.7183897833056679, 1.0133011558014522, 0.7234442023087078, 0.2947365268665106, 0.9956389063498654, 0.9906998324865147, 0.9998538789269301, 0.979582856311613, 1.0104582323989317, 1.005039798830886, 0.9979645488243978, 0.9931335223432647, 1.0028802336629468, 0.22859834420574482, 0.7572320151815297, 0.9872623585170821, 0.9950485589419911, 0.9942792522746777, 0.9902591936104526, 0.9986464792499699, 1.0069314941701735, 1.0096093680145468, 0.022984043417922026, 0.9653298235527251, 1.0195020726161332, 1.0067835912822072, 1.0050066486007598, 1.0009774183345685, 0.9920239021899997, 0.9511146818593271, 0.04755573409296636, 0.8709560597264758, 0.1290305273668853, 1.0061685776132867, 0.9898950597602741, 0.9936048394248428, 0.9631159862820671, 0.03439699951007382, 0.9915871227077401, 0.9986452495849673, 0.9929326987197585, 1.0151825258339293, 0.9971056715479208, 0.8525210123720577, 0.14698638144345821, 1.0017654182265299, 0.9948825045084393, 0.9976288985403569, 0.9940081037960374, 1.0052456587372007, 0.9866638947398906, 1.0055235356008587, 1.0153531122571229, 1.0102532061210296, 0.13511125631931262, 0.8557046233556467, 0.9934722664431638, 1.0061752251866478, 0.9853148656381359, 1.0057194732295485, 0.9970487908601532, 1.0036753878399327, 0.9963567912749314, 0.9828814970121166, 0.9916199133392448, 0.9119623651120428, 0.10856694822762414, 0.9675094564310541, 0.04719558324053923, 1.0151557676682952, 0.12371459164906609, 0.8660021415434626, 1.0118953129842223, 0.9975349070138583, 0.4776407906279621, 0.04622330231883504, 0.46223302318835047, 1.0175688574332065, 1.0058384662377657, 0.8736064357275523, 0.11394866552968072, 0.1464722488302281, 0.8605244618775901, 0.8604453669998807, 0.13828586255355227, 0.7322128854514074, 0.2816203405582336, 0.9965763337172883, 0.9994285566969089, 1.0084711371232111, 1.0114047633791718, 1.0136626174183152, 0.06320934066461249, 0.9481401099691873, 1.0005114839881515, 0.994943292994629, 0.9897002795030926, 0.9991267160588775, 1.0047456616866144, 0.9929656987399278, 0.9954537094334539, 0.9997689133034363, 1.001729247358658, 1.0071098085162582, 0.2689264939021573, 0.7240328681981157, 1.0121336556102212, 1.0056629460855457, 1.0131629874437154, 1.0195556699743535, 1.0008492315357447, 0.9857401432350598, 0.9973761860069636, 1.0099544664708826, 0.19768698839128435, 0.8236957849636848, 0.9947187766672738, 0.5352585360600163, 0.4683512190525142, 0.9888759896215243, 1.0010494488566273, 0.9772463083299028, 1.0097840686640531, 0.4369287107451676, 0.5560910864029406, 0.9874039294205593, 0.982267288105136, 0.9834589244204599, 0.999709401413387, 1.0011304287586233, 0.990267998696397, 1.0094410059316374, 1.0020159510018478, 1.0079630952429655, 0.9954009010279445, 1.0166006083556052, 0.12183708986103094, 0.8772270469994228, 0.14063984409695635, 0.8789990256059772, 1.0027086468554802, 0.9369848920040016, 0.04764329959342381, 1.020009530848797, 0.4130488685310001, 0.5888143445016384, 0.3684536429493459, 0.6285385673841783, 0.9876226668857285, 1.008780229199272, 0.0527112175430651, 0.9312315099274835, 0.517822274336599, 0.48211039334786804, 1.0035063740129953, 0.9979687877226516, 0.26883980365693994, 0.7087594823682962, 1.0011885988649234, 0.9979193726268308, 1.006292434774833, 0.988010663235802, 1.018176308432582, 1.0159856690884381, 0.09843070523836153, 0.42184587959297803, 0.4921535261918077, 0.1365439408551125, 0.8647782920823792, 0.47667450124157057, 0.14666907730509865, 0.3666726932627466, 1.0152803296998123, 1.0000735129799372, 0.9942857266418546, 0.9905248513163656, 0.9994907963259487, 0.8000459813745018, 0.20001149534362545, 0.24965288625428383, 0.7489586587628515, 1.0125494337816414, 0.31274066889635344, 0.6990673775330254, 0.4726711445928938, 0.4611425800906281, 0.06917138701359421, 1.0040729025746846, 0.01362711655801814, 0.9811523921773061, 0.9938075351795921, 0.2313184659256528, 0.49155174009201225, 0.26023327416635944, 1.005149116229701, 0.9933738227682862, 0.989903979915833, 1.0009760898948838, 1.0185972712896558, 1.0038174359378238, 0.9806783038691047, 0.9990828954629106, 0.9962792278466792, 0.9931546747125884, 0.07995920370422034, 0.07995920370422034, 0.8195818379682586, 1.0072834722738933, 1.0039735233484017, 0.9815528001364117, 0.9957151538764204], \"Term\": [\"50_cent\", \"academy\", \"academy\", \"act\", \"action\", \"actor\", \"actress\", \"age\", \"ago\", \"aid\", \"album\", \"angels\", \"appeared\", \"artist\", \"artists\", \"audience\", \"aviator\", \"award\", \"awards\", \"awards\", \"bafta\", \"ballet\", \"band\", \"bands\", \"bbc\", \"bbc\", \"bbc\", \"berlin\", \"best\", \"best\", \"big\", \"big\", \"black\", \"bond\", \"book\", \"box_office\", \"boys\", \"british\", \"british\", \"brother\", \"career\", \"career\", \"category\", \"celebrity\", \"ceremony\", \"channel_4\", \"character\", \"charity\", \"chart\", \"christmas\", \"cinema\", \"comedy\", \"comedy\", \"comic\", \"concert\", \"copies\", \"court\", \"critics\", \"david\", \"davis\", \"day\", \"day\", \"deal\", \"died\", \"directed\", \"director\", \"dollar_baby\", \"dont\", \"dont\", \"due\", \"due\", \"dvd\", \"edwards\", \"elvis\", \"end\", \"end\", \"entertainment\", \"episode\", \"european\", \"evans\", \"even\", \"event\", \"event\", \"family\", \"festival\", \"film\", \"films\", \"fox\", \"french\", \"game\", \"games\", \"gervais\", \"group\", \"group\", \"hip-hop\", \"hollywood\", \"host\", \"however\", \"interactive\", \"jamie_foxx\", \"joss_stone\", \"lee\", \"left\", \"life\", \"life\", \"london\", \"london\", \"magazine\", \"may\", \"may\", \"mcdonalds\", \"media\", \"million\", \"million\", \"million\", \"monday\", \"money\", \"month\", \"month\", \"movie\", \"movie\", \"mr\", \"mr\", \"mtv\", \"mtv\", \"music\", \"musical\", \"named\", \"national\", \"network\", \"nominated\", \"nominated\", \"nominations\", \"nominees\", \"novel\", \"number\", \"odds\", \"oscar\", \"oscars\", \"park\", \"perform\", \"place\", \"play\", \"play\", \"played\", \"pop\", \"premiere\", \"prince\", \"prize\", \"producer\", \"producers\", \"production\", \"programme\", \"programme\", \"r&b\", \"radio\", \"radio\", \"rap\", \"rapper\", \"ratings\", \"really\", \"record\", \"record\", \"release\", \"richard\", \"right\", \"rock\", \"role\", \"sale\", \"sales\", \"saw\", \"says\", \"school\", \"screened\", \"second\", \"second\", \"seen\", \"seen\", \"sequel\", \"series\", \"series\", \"share\", \"show\", \"show\", \"shows\", \"shows\", \"sideways\", \"simpsons\", \"singer\", \"singer\", \"single\", \"single\", \"sir\", \"sky\", \"sold\", \"sold\", \"song\", \"songs\", \"soul\", \"sound\", \"spider-man\", \"spokesman\", \"star\", \"star\", \"star\", \"starring\", \"starring\", \"stars\", \"stars\", \"stars\", \"story\", \"studio\", \"supporting\", \"television\", \"theatre\", \"think\", \"think\", \"third\", \"third\", \"ticket\", \"took\", \"took\", \"top\", \"top\", \"top\", \"tour\", \"tv\", \"tv\", \"u2\", \"uk\", \"uk\", \"uk\", \"urban\", \"vera_drake\", \"video\", \"viewers\", \"vote\", \"war\", \"week\", \"weekend\", \"weeks\", \"west\", \"win\", \"win\", \"win\", \"winners\", \"work\", \"yet\", \"young\"]}, \"R\": 30, \"lambda.step\": 0.1, \"plot.opts\": {\"xlab\": \"PC1\", \"ylab\": \"PC2\"}, \"topic.order\": [1, 2, 3, 4, 5]};\n",
       "\n",
       "function LDAvis_load_lib(url, callback){\n",
       "  var s = document.createElement('script');\n",
       "  s.src = url;\n",
       "  s.async = true;\n",
       "  s.onreadystatechange = s.onload = callback;\n",
       "  s.onerror = function(){console.warn(\"failed to load library \" + url);};\n",
       "  document.getElementsByTagName(\"head\")[0].appendChild(s);\n",
       "}\n",
       "\n",
       "if(typeof(LDAvis) !== \"undefined\"){\n",
       "   // already loaded: just create the visualization\n",
       "   !function(LDAvis){\n",
       "       new LDAvis(\"#\" + \"ldavis_el701631518679674321122861178\", ldavis_el701631518679674321122861178_data);\n",
       "   }(LDAvis);\n",
       "}else if(typeof define === \"function\" && define.amd){\n",
       "   // require.js is available: use it to load d3/LDAvis\n",
       "   require.config({paths: {d3: \"/nbextensions/d3.v3.min\"}});\n",
       "   require([\"d3\"], function(d3){\n",
       "      window.d3 = d3;\n",
       "      LDAvis_load_lib(\"/nbextensions/ldavis.v1.0.0.js\", function(){\n",
       "        new LDAvis(\"#\" + \"ldavis_el701631518679674321122861178\", ldavis_el701631518679674321122861178_data);\n",
       "      });\n",
       "    });\n",
       "}else{\n",
       "    // require.js not available: dynamically load d3 & LDAvis\n",
       "    LDAvis_load_lib(\"/nbextensions/d3.v3.min.js\", function(){\n",
       "         LDAvis_load_lib(\"/nbextensions/ldavis.v1.0.0.js\", function(){\n",
       "                 new LDAvis(\"#\" + \"ldavis_el701631518679674321122861178\", ldavis_el701631518679674321122861178_data);\n",
       "            })\n",
       "         });\n",
       "}\n",
       "</script>"
      ],
      "text/plain": [
       "<IPython.core.display.HTML object>"
      ]
     },
     "execution_count": 22,
     "metadata": {},
     "output_type": "execute_result"
    }
   ],
   "source": [
    "entertainment_model = results.retrain_model(\n",
    "    corpus_slice=entertainment_slice, model_options={\"k\": best_k_2[0]}\n",
    ")\n",
    "entertainment_model.show_visualisation()"
   ]
  },
  {
   "cell_type": "code",
   "execution_count": null,
   "metadata": {
    "ExecuteTime": {
     "end_time": "2020-06-29T09:00:02.133528Z",
     "start_time": "2020-06-29T09:00:02.128525Z"
    }
   },
   "outputs": [],
   "source": [
    "# entertainment_model.export_visualisation(\"bbc_results_2\")"
   ]
  },
  {
   "cell_type": "markdown",
   "metadata": {
    "ExecuteTime": {
     "end_time": "2020-06-08T03:23:48.733894Z",
     "start_time": "2020-06-08T03:23:46.841220Z"
    }
   },
   "source": [
    "The position of each topic cluster on the graph is not intrinsically informative per se (being simply the result of some specified dimensionality-reducing technique), but if we want we can run the modelling algorithm with a different random seed and see if we get a more meaningful set of topics.\n",
    "\n",
    "(We can also override any of the previously set options.)"
   ]
  },
  {
   "cell_type": "code",
   "execution_count": 24,
   "metadata": {
    "ExecuteTime": {
     "end_time": "2020-06-29T09:14:14.017281Z",
     "start_time": "2020-06-29T09:14:07.573850Z"
    },
    "scrolled": false
   },
   "outputs": [
    {
     "name": "stdout",
     "output_type": "stream",
     "text": [
      "Training LDA model on 332 documents:\n",
      "{'term_weighting': 'pmi', 'k': 5, 'seed': 3256, 'workers': 10, 'parallel_scheme': 'default', 'iterations': 1000, 'update_every': 100, 'until_max_ll': True, 'max_extra_iterations': 2000, 'verbose': True, 'tw': <TermWeight.PMI: 2>, 'parallel': <ParallelScheme.DEFAULT: 0>}\n",
      "\n"
     ]
    },
    {
     "name": "stderr",
     "output_type": "stream",
     "text": [
      "100%|██████████| 1000/1000 [00:02<00:00, 486.98it/s, Log-likelihood=-27.91635]"
     ]
    },
    {
     "name": "stdout",
     "output_type": "stream",
     "text": [
      "\n",
      "Continuing to train until maximum log-likelihood.\n",
      "(N.B.: This may not correlate with increased interpretability)\n",
      "\n"
     ]
    },
    {
     "name": "stderr",
     "output_type": "stream",
     "text": [
      "\n",
      "1700it [00:03, 441.79it/s, Log-likelihood=-27.84439]"
     ]
    },
    {
     "name": "stdout",
     "output_type": "stream",
     "text": [
      "Docs: 332, Vocab size: 8622, Total Words: 53438\n",
      "Model training complete. (6.050s)\n",
      "Extracting label candidates from model...\n",
      "Preparing First-order relevance labeller...\n",
      "Done.\n",
      "Preparing LDA visualisation..."
     ]
    },
    {
     "name": "stderr",
     "output_type": "stream",
     "text": [
      "\n"
     ]
    },
    {
     "name": "stdout",
     "output_type": "stream",
     "text": [
      " Done. (0.308s)\n"
     ]
    },
    {
     "data": {
      "text/html": [
       "\n",
       "<link rel=\"stylesheet\" type=\"text/css\" href=\"/nbextensions/ldavis.v1.0.0.css\">\n",
       "\n",
       "\n",
       "<div id=\"ldavis_el701631518576999129818086821\"></div>\n",
       "<script type=\"text/javascript\">\n",
       "\n",
       "var ldavis_el701631518576999129818086821_data = {\"mdsDat\": {\"x\": [0.29717905647176435, -0.17691106087507186, -0.18746371170170015, 0.22257237048828743, -0.15537665438328013], \"y\": [0.2830955593381892, -0.11572946275796932, 0.061815944018003194, -0.34032416327868653, 0.11114212268046333], \"topics\": [1, 2, 3, 4, 5], \"cluster\": [1, 1, 1, 1, 1], \"Freq\": [20.348464536686272, 19.52663773109323, 24.276877081075025, 19.36982834862846, 16.478192302517016]}, \"tinfo\": {\"Term\": [\"best\", \"film\", \"show\", \"music\", \"number\", \"band\", \"album\", \"awards\", \"award\", \"tv\", \"bbc\", \"actor\", \"films\", \"director\", \"series\", \"urban\", \"actress\", \"radio\", \"top\", \"song\", \"book\", \"christmas\", \"festival\", \"musical\", \"single\", \"chart\", \"game\", \"oscar\", \"role\", \"box_office\", \"book\", \"musical\", \"life\", \"london\", \"work\", \"winner\", \"edwards\", \"production\", \"school\", \"sir\", \"part\", \"included\", \"family\", \"novel\", \"money\", \"final\", \"story\", \"childrens\", \"industry\", \"producer\", \"children\", \"following\", \"saw\", \"paul\", \"king\", \"richard\", \"mcdonalds\", \"evans\", \"june\", \"writing\", \"young\", \"mr\", \"including\", \"theatre\", \"stars\", \"special\", \"number\", \"band\", \"album\", \"christmas\", \"single\", \"chart\", \"rock\", \"record\", \"tour\", \"group\", \"charts\", \"elvis\", \"release\", \"hip-hop\", \"act\", \"aid\", \"rap\", \"sales\", \"video\", \"charity\", \"rapper\", \"bands\", \"r&b\", \"u2\", \"weeks\", \"eight\", \"sound\", \"perform\", \"copies\", \"park\", \"list\", \"top\", \"singer\", \"songs\", \"uk\", \"pop\", \"song\", \"week\", \"fans\", \"best\", \"film\", \"awards\", \"award\", \"actor\", \"films\", \"director\", \"actress\", \"oscar\", \"role\", \"box_office\", \"aviator\", \"movie\", \"oscars\", \"nominated\", \"category\", \"starring\", \"hollywood\", \"winners\", \"sideways\", \"nominees\", \"international\", \"dollar_baby\", \"vera_drake\", \"bafta\", \"french\", \"screen\", \"supporting\", \"cinema\", \"critics\", \"ceremony\", \"named\", \"festival\", \"win\", \"nominations\", \"academy\", \"british\", \"took\", \"prize\", \"comedy\", \"urban\", \"game\", \"ballet\", \"angels\", \"black\", \"dont\", \"good\", \"really\", \"died\", \"much\", \"want\", \"age\", \"davis\", \"joss_stone\", \"even\", \"right\", \"ever\", \"games\", \"wilson\", \"real\", \"thats\", \"art\", \"fun\", \"character\", \"better\", \"began\", \"say\", \"though\", \"thing\", \"da_vinci\", \"music\", \"think\", \"50_cent\", \"song\", \"charles\", \"great\", \"im\", \"sale\", \"see\", \"show\", \"tv\", \"series\", \"radio\", \"shows\", \"television\", \"says\", \"mtv\", \"viewers\", \"host\", \"brother\", \"programme\", \"celebrity\", \"episode\", \"spokesman\", \"fox\", \"friends\", \"broadcast\", \"media\", \"sky\", \"stern\", \"vote\", \"ratings\", \"moment\", \"comic\", \"pops\", \"network\", \"share\", \"screened\", \"stations\", \"bbc\", \"audience\", \"big\", \"britain\", \"star\", \"million\", \"comedy\", \"john\", \"woman\"], \"Freq\": [219.0, 199.0, 112.0, 137.0, 103.0, 96.0, 91.0, 104.0, 94.0, 72.0, 80.0, 85.0, 81.0, 80.0, 61.0, 66.0, 75.0, 56.0, 85.0, 99.0, 60.0, 58.0, 94.0, 56.0, 54.0, 54.0, 53.0, 61.0, 61.0, 59.0, 60.22966745070962, 56.75894319216323, 45.90017362895239, 42.02476581211273, 36.67246288968036, 36.14499420341711, 33.79331898789051, 33.4986605046791, 33.98790979443455, 32.72218343711435, 32.81581792045061, 31.769480924840984, 31.784517026845474, 31.644622288276675, 31.136724079954952, 30.72113877806322, 30.380977034820376, 29.937036059843898, 29.924531714364832, 31.292146081294174, 29.556862436473264, 29.66571784004037, 28.79687976267165, 27.47995116138129, 27.465451791760188, 27.349153024008338, 26.9550775255566, 25.872326275841804, 25.911892566821123, 25.65591679156166, 33.890009301352954, 50.258815282043095, 35.48498553129142, 37.33362097926859, 32.526220418533526, 28.200777688760702, 103.9394052514324, 96.61660564551265, 91.97469657277264, 58.08702081632568, 54.81621736089467, 54.6518467833786, 51.19140590039358, 49.84199576104986, 42.776028826756175, 41.24155358791339, 37.62869529108409, 36.94214152644732, 36.11167604431079, 34.95191548004513, 34.6083081850724, 33.99002593513912, 33.26570308870525, 33.24451294774074, 32.84107180827431, 31.302634047084222, 29.2086074076175, 28.97235021223867, 27.556757932329216, 27.582012634843103, 26.312727564177397, 26.270889061821297, 25.8936112596682, 25.53883553107774, 25.310513098412752, 25.171654750920574, 40.53868326896365, 69.8429524285277, 44.375964643235726, 35.60576568041645, 43.88703651797266, 33.316005985824056, 38.966633308708666, 29.83895700794871, 29.396371686961963, 219.343353464987, 199.54513432274155, 104.69842287071914, 94.80589805439432, 85.34293485221114, 81.69521629549216, 80.13788553943176, 75.56332347802173, 61.83209201054154, 61.327705834081726, 59.72260237990958, 59.201869096584524, 54.75306376969551, 52.72260931981672, 46.92984043602738, 46.74393589311617, 44.24805707968497, 42.316742456401, 41.28704085302512, 39.1004310574849, 38.812647067519364, 38.27708298325041, 36.930065670799316, 36.879885610497695, 36.40203780819127, 36.12690983776849, 34.86994961903273, 34.85347867044881, 34.55487212248287, 33.709540632918504, 49.18913625884132, 50.11542700659292, 80.29757490487005, 46.10179543807237, 52.08575479178958, 43.984020494408014, 50.29670107743753, 43.59579180900697, 41.87111162412871, 40.184526360127116, 66.71344114325518, 53.68521286386349, 47.35705390623815, 44.73996848807038, 44.74316414088823, 41.53036180157894, 40.503723388922396, 39.058856926222646, 36.53077260802719, 33.72643061071378, 32.10863016667871, 31.5103538312894, 29.80271119917234, 28.695725977093183, 28.6741227856458, 28.06886951593697, 28.11225423843092, 27.118635161564267, 24.654350629980435, 24.201840406985532, 23.680736918152235, 23.60456421934842, 22.525826543783626, 21.79735266100996, 21.685892821513086, 21.375618068847622, 22.376999738268047, 20.816147466243425, 20.461924052351446, 20.420098596353085, 121.39757748206382, 42.10004596122843, 28.14032103535152, 60.3990721746372, 29.180212008223275, 28.786221273707326, 30.129038925759158, 25.72184809080732, 23.971707614203073, 112.25640048934879, 72.04402364822457, 61.85850796269673, 56.199941443049276, 45.487921793545006, 41.62241778376033, 38.35403951776524, 33.835805824972745, 31.378372499146817, 31.2443826077833, 30.996548258733444, 29.855046808105243, 27.73947283986457, 26.535452067584455, 24.149179728681077, 22.454006886674016, 22.28019767789975, 21.770193861514795, 21.643342826253853, 21.633934379770594, 21.475054852253926, 21.19599364585245, 21.088158374621205, 20.937904110638005, 20.874080850881203, 20.572821943439347, 20.33012133812322, 20.203532730656978, 20.271319060157115, 20.03289725802481, 73.76920756881563, 40.7944703927989, 36.101720166316746, 23.286503709482556, 33.41985366994608, 29.700464535726713, 27.856078940046654, 24.12568834062154, 23.069287303291937], \"Total\": [219.0, 199.0, 112.0, 137.0, 103.0, 96.0, 91.0, 104.0, 94.0, 72.0, 80.0, 85.0, 81.0, 80.0, 61.0, 66.0, 75.0, 56.0, 85.0, 99.0, 60.0, 58.0, 94.0, 56.0, 54.0, 54.0, 53.0, 61.0, 61.0, 59.0, 60.2419213895032, 56.771200321312655, 45.91242492885246, 42.03704688395537, 36.68475787486046, 36.15724950033139, 33.80557003250176, 33.51095392670628, 34.00048111495902, 32.734433973138316, 32.82825070957132, 31.781733120355376, 31.796856244588867, 31.65691551413444, 31.148977287521525, 30.733404598372825, 30.39329773379497, 29.949297795070056, 29.936791423292476, 31.304994335812243, 29.569114860744975, 29.678260784441587, 28.809132715650218, 27.49221069825056, 27.477737536647357, 27.361512381062255, 26.967329449963714, 25.884577681348212, 25.924180211047588, 25.66818106485335, 37.35929763352041, 66.31413718505753, 52.376781616829, 59.71057467933672, 54.53093721915597, 31.32746914372425, 103.95155385991278, 96.62904406381286, 91.98684348966094, 58.099161575427075, 54.82836850766692, 54.663987559194126, 51.203566526014, 49.854158358994205, 42.78818969488651, 41.253696700935514, 37.64083941477855, 36.954285395997246, 36.12405972721166, 34.964055998836656, 34.62045245738478, 34.00216963181706, 33.27785553322599, 33.256658236572456, 32.85325260334992, 31.314777996909925, 29.22075000464163, 28.984491296171335, 27.568900268539853, 27.594207423439133, 26.32486909878427, 26.283041465795105, 25.9057612094224, 25.550979824254807, 25.3226554737609, 25.183804608305437, 42.716676297012384, 85.67171517820213, 52.12425021964285, 40.67398752453781, 69.67240009190935, 40.52055849701131, 99.37463261442721, 44.59981575429977, 39.16801810109628, 219.35542754468756, 199.55715898098285, 104.71041976616537, 94.81788138475713, 85.35492259672137, 81.70724694942102, 80.14986134465141, 75.57530156051868, 61.84407437175333, 61.33968254667525, 59.73457840822726, 59.21384450942379, 54.76504175755244, 52.73458737721599, 46.941818094519995, 46.75591318456709, 44.260040048149285, 42.328721956190655, 41.29902088414596, 39.11240725119245, 38.82462677612635, 38.28906156474416, 36.94204635505416, 36.89186431255521, 36.41401429452355, 36.1388900266532, 34.881930173717045, 34.86546556141479, 34.5668896996965, 33.72152304054386, 49.51340564471434, 51.88281543486858, 94.88821951072349, 49.476484279312785, 59.06030042844702, 48.17248161994053, 72.73973969177726, 55.13112459030797, 64.17903103185874, 68.04970553668616, 66.72534792304785, 53.697120462245614, 47.36896485750684, 44.751873080774885, 44.75506995403081, 41.54227174077745, 40.51564422572126, 39.070762228671086, 36.54268392609854, 33.738343216583026, 32.12053843617965, 31.522446461364122, 29.814616383749524, 28.70763012476346, 28.686044760425318, 28.080774288238374, 28.124188476334844, 27.130539645841186, 24.66627509251629, 24.21374482279466, 23.69264133935705, 23.61647002244564, 22.537736424968173, 21.809257865554933, 21.697802982790247, 21.387535641480408, 22.389565009886653, 20.828053231706345, 20.47383085648983, 20.432002668805094, 137.3014153676248, 44.336130276298086, 30.917164870426813, 99.37463261442721, 33.71730330246662, 34.564542775077484, 44.647311865846675, 40.02144993805808, 34.69604179956969, 112.26869070177744, 72.05628531225389, 61.87076601183299, 56.2122081756907, 45.50017893776181, 41.634693431306374, 38.36629714526008, 33.848061455659, 31.390639576083927, 31.256660964232985, 31.008804749629018, 29.867331693397805, 27.751733922397115, 26.547711535877323, 24.161695892266405, 22.466264044610444, 22.292471686583074, 21.782452667518893, 21.655599746860407, 21.646193283926443, 21.487310482940185, 21.208300688583716, 21.100418821120297, 20.950160750671266, 20.886436531282293, 20.585079643219004, 20.342381407373516, 20.21579038366997, 20.283655843976643, 20.045154632780427, 80.10606477378902, 42.19472223148251, 44.021149454752326, 26.432983479934983, 69.9171965525419, 64.48345002801885, 68.04970553668616, 37.876426777684195, 32.33223007300211], \"Category\": [\"Default\", \"Default\", \"Default\", \"Default\", \"Default\", \"Default\", \"Default\", \"Default\", \"Default\", \"Default\", \"Default\", \"Default\", \"Default\", \"Default\", \"Default\", \"Default\", \"Default\", \"Default\", \"Default\", \"Default\", \"Default\", \"Default\", \"Default\", \"Default\", \"Default\", \"Default\", \"Default\", \"Default\", \"Default\", \"Default\", \"Topic1\", \"Topic1\", \"Topic1\", \"Topic1\", \"Topic1\", \"Topic1\", \"Topic1\", \"Topic1\", \"Topic1\", \"Topic1\", \"Topic1\", \"Topic1\", \"Topic1\", \"Topic1\", \"Topic1\", \"Topic1\", \"Topic1\", \"Topic1\", \"Topic1\", \"Topic1\", \"Topic1\", \"Topic1\", \"Topic1\", \"Topic1\", \"Topic1\", \"Topic1\", \"Topic1\", \"Topic1\", \"Topic1\", \"Topic1\", \"Topic1\", \"Topic1\", \"Topic1\", \"Topic1\", \"Topic1\", \"Topic1\", \"Topic2\", \"Topic2\", \"Topic2\", \"Topic2\", \"Topic2\", \"Topic2\", \"Topic2\", \"Topic2\", \"Topic2\", \"Topic2\", \"Topic2\", \"Topic2\", \"Topic2\", \"Topic2\", \"Topic2\", \"Topic2\", \"Topic2\", \"Topic2\", \"Topic2\", \"Topic2\", \"Topic2\", \"Topic2\", \"Topic2\", \"Topic2\", \"Topic2\", \"Topic2\", \"Topic2\", \"Topic2\", \"Topic2\", \"Topic2\", \"Topic2\", \"Topic2\", \"Topic2\", \"Topic2\", \"Topic2\", \"Topic2\", \"Topic2\", \"Topic2\", \"Topic2\", \"Topic3\", \"Topic3\", \"Topic3\", \"Topic3\", \"Topic3\", \"Topic3\", \"Topic3\", \"Topic3\", \"Topic3\", \"Topic3\", \"Topic3\", \"Topic3\", \"Topic3\", \"Topic3\", \"Topic3\", \"Topic3\", \"Topic3\", \"Topic3\", \"Topic3\", \"Topic3\", \"Topic3\", \"Topic3\", \"Topic3\", \"Topic3\", \"Topic3\", \"Topic3\", \"Topic3\", \"Topic3\", \"Topic3\", \"Topic3\", \"Topic3\", \"Topic3\", \"Topic3\", \"Topic3\", \"Topic3\", \"Topic3\", \"Topic3\", \"Topic3\", \"Topic3\", \"Topic3\", \"Topic4\", \"Topic4\", \"Topic4\", \"Topic4\", \"Topic4\", \"Topic4\", \"Topic4\", \"Topic4\", \"Topic4\", \"Topic4\", \"Topic4\", \"Topic4\", \"Topic4\", \"Topic4\", \"Topic4\", \"Topic4\", \"Topic4\", \"Topic4\", \"Topic4\", \"Topic4\", \"Topic4\", \"Topic4\", \"Topic4\", \"Topic4\", \"Topic4\", \"Topic4\", \"Topic4\", \"Topic4\", \"Topic4\", \"Topic4\", \"Topic4\", \"Topic4\", \"Topic4\", \"Topic4\", \"Topic4\", \"Topic4\", \"Topic4\", \"Topic4\", \"Topic4\", \"Topic5\", \"Topic5\", \"Topic5\", \"Topic5\", \"Topic5\", \"Topic5\", \"Topic5\", \"Topic5\", \"Topic5\", \"Topic5\", \"Topic5\", \"Topic5\", \"Topic5\", \"Topic5\", \"Topic5\", \"Topic5\", \"Topic5\", \"Topic5\", \"Topic5\", \"Topic5\", \"Topic5\", \"Topic5\", \"Topic5\", \"Topic5\", \"Topic5\", \"Topic5\", \"Topic5\", \"Topic5\", \"Topic5\", \"Topic5\", \"Topic5\", \"Topic5\", \"Topic5\", \"Topic5\", \"Topic5\", \"Topic5\", \"Topic5\", \"Topic5\", \"Topic5\"], \"logprob\": [30.0, 29.0, 28.0, 27.0, 26.0, 25.0, 24.0, 23.0, 22.0, 21.0, 20.0, 19.0, 18.0, 17.0, 16.0, 15.0, 14.0, 13.0, 12.0, 11.0, 10.0, 9.0, 8.0, 7.0, 6.0, 5.0, 4.0, 3.0, 2.0, 1.0, -5.1959, -5.2553, -5.4676, -5.5559, -5.6921, -5.7066, -5.7738, -5.7826, -5.7681, -5.8061, -5.8032, -5.8356, -5.8351, -5.8395, -5.8557, -5.8692, -5.8803, -5.895, -5.8954, -5.8507, -5.9078, -5.9041, -5.9338, -5.9807, -5.9812, -5.9854, -5.9999, -6.0409, -6.0394, -6.0493, -5.771, -5.3769, -5.725, -5.6742, -5.8121, -5.9548, -4.6091, -4.6821, -4.7314, -5.1909, -5.2489, -5.2519, -5.3173, -5.344, -5.4969, -5.5334, -5.6251, -5.6435, -5.6663, -5.6989, -5.7088, -5.7268, -5.7484, -5.749, -5.7612, -5.8092, -5.8784, -5.8865, -5.9366, -5.9357, -5.9828, -5.9844, -5.9989, -6.0127, -6.0217, -6.0272, -5.5506, -5.0066, -5.4602, -5.6804, -5.4713, -5.7468, -5.5902, -5.8571, -5.872, -4.08, -4.1746, -4.8195, -4.9188, -5.024, -5.0676, -5.0869, -5.1457, -5.3462, -5.3544, -5.3809, -5.3897, -5.4678, -5.5056, -5.622, -5.6259, -5.6808, -5.7254, -5.7501, -5.8045, -5.8119, -5.8258, -5.8616, -5.863, -5.876, -5.8836, -5.919, -5.9195, -5.9281, -5.9529, -5.575, -5.5563, -5.0849, -5.6398, -5.5177, -5.6868, -5.5527, -5.6957, -5.736, -5.7771, -5.0444, -5.2617, -5.3871, -5.444, -5.4439, -5.5184, -5.5434, -5.5798, -5.6467, -5.7265, -5.7757, -5.7945, -5.8502, -5.8881, -5.8888, -5.9102, -5.9086, -5.9446, -6.0399, -6.0584, -6.0802, -6.0834, -6.1302, -6.163, -6.1682, -6.1826, -6.1368, -6.2091, -6.2263, -6.2283, -4.4458, -5.5048, -5.9076, -5.1438, -5.8713, -5.8849, -5.8393, -5.9975, -6.0679, -4.3624, -4.8059, -4.9583, -5.0542, -5.2657, -5.3545, -5.4363, -5.5616, -5.637, -5.6413, -5.6493, -5.6868, -5.7603, -5.8047, -5.8989, -5.9717, -5.9794, -6.0026, -6.0084, -6.0089, -6.0163, -6.0293, -6.0344, -6.0416, -6.0446, -6.0592, -6.071, -6.0773, -6.0739, -6.0858, -4.7822, -5.3746, -5.4968, -5.9353, -5.574, -5.692, -5.7561, -5.8999, -5.9446], \"loglift\": [30.0, 29.0, 28.0, 27.0, 26.0, 25.0, 24.0, 23.0, 22.0, 21.0, 20.0, 19.0, 18.0, 17.0, 16.0, 15.0, 14.0, 13.0, 12.0, 11.0, 10.0, 9.0, 8.0, 7.0, 6.0, 5.0, 4.0, 3.0, 2.0, 1.0, 1.592, 1.5919, 1.5919, 1.5919, 1.5918, 1.5918, 1.5918, 1.5918, 1.5918, 1.5918, 1.5918, 1.5918, 1.5918, 1.5918, 1.5918, 1.5918, 1.5918, 1.5918, 1.5918, 1.5918, 1.5918, 1.5917, 1.5917, 1.5917, 1.5917, 1.5917, 1.5917, 1.5917, 1.5917, 1.5917, 1.4947, 1.3149, 1.2028, 1.1226, 1.0754, 1.487, 1.6333, 1.6333, 1.6333, 1.6332, 1.6332, 1.6332, 1.6332, 1.6331, 1.6331, 1.6331, 1.6331, 1.6331, 1.633, 1.633, 1.633, 1.633, 1.633, 1.633, 1.633, 1.633, 1.633, 1.633, 1.633, 1.6329, 1.6329, 1.6329, 1.6329, 1.6329, 1.6329, 1.6329, 1.5811, 1.4291, 1.4725, 1.5003, 1.1712, 1.4376, 0.6972, 1.2315, 1.3464, 1.4156, 1.4156, 1.4155, 1.4155, 1.4155, 1.4155, 1.4155, 1.4155, 1.4155, 1.4155, 1.4154, 1.4154, 1.4154, 1.4154, 1.4154, 1.4154, 1.4154, 1.4154, 1.4154, 1.4153, 1.4153, 1.4153, 1.4153, 1.4153, 1.4153, 1.4153, 1.4153, 1.4153, 1.4153, 1.4153, 1.4091, 1.381, 1.2487, 1.345, 1.29, 1.3247, 1.0467, 1.1809, 0.9886, 0.8889, 1.6413, 1.6412, 1.6412, 1.6412, 1.6412, 1.6412, 1.6412, 1.6411, 1.6411, 1.6411, 1.6411, 1.6411, 1.6411, 1.641, 1.641, 1.641, 1.641, 1.641, 1.641, 1.641, 1.641, 1.6409, 1.6409, 1.6409, 1.6409, 1.6409, 1.6409, 1.6409, 1.6409, 1.6409, 1.5183, 1.5897, 1.5473, 1.1435, 1.4969, 1.4585, 1.2481, 1.1994, 1.2717, 1.803, 1.803, 1.8029, 1.8029, 1.8029, 1.8028, 1.8028, 1.8028, 1.8027, 1.8027, 1.8027, 1.8027, 1.8027, 1.8027, 1.8026, 1.8026, 1.8026, 1.8026, 1.8026, 1.8026, 1.8026, 1.8026, 1.8026, 1.8025, 1.8025, 1.8025, 1.8025, 1.8025, 1.8025, 1.8025, 1.7207, 1.7694, 1.6048, 1.6764, 1.065, 1.0279, 0.9099, 1.3521, 1.4656]}, \"token.table\": {\"Topic\": [2, 4, 1, 3, 2, 3, 3, 4, 2, 2, 4, 4, 3, 5, 3, 3, 3, 3, 4, 2, 2, 1, 5, 4, 3, 4, 2, 3, 5, 4, 1, 3, 1, 5, 2, 3, 4, 5, 5, 3, 5, 3, 4, 2, 3, 4, 2, 2, 1, 1, 2, 3, 3, 5, 5, 2, 3, 4, 4, 4, 3, 3, 4, 1, 2, 2, 5, 1, 4, 4, 1, 2, 5, 2, 3, 3, 3, 1, 1, 5, 3, 5, 4, 4, 4, 4, 3, 4, 2, 2, 3, 5, 3, 4, 5, 1, 1, 3, 5, 1, 3, 1, 5, 4, 1, 1, 1, 2, 5, 1, 1, 5, 3, 5, 5, 1, 3, 1, 3, 5, 4, 2, 4, 1, 3, 5, 5, 3, 2, 3, 3, 1, 2, 3, 3, 2, 1, 1, 2, 2, 4, 5, 1, 3, 1, 1, 5, 2, 5, 2, 2, 5, 4, 4, 2, 2, 1, 4, 2, 3, 2, 4, 2, 1, 4, 5, 1, 3, 5, 1, 4, 5, 5, 5, 5, 3, 2, 5, 2, 1, 5, 2, 4, 2, 4, 2, 1, 3, 5, 2, 3, 5, 3, 1, 3, 5, 5, 1, 3, 5, 4, 1, 3, 4, 4, 5, 4, 2, 3, 2, 3, 2, 5, 2, 2, 3, 4, 3, 2, 5, 5, 4, 2, 3, 2, 4, 3, 5, 1, 3, 3, 5, 1, 1, 1, 4], \"Freq\": [0.09703347679429652, 0.9056457834134343, 0.08303495824770296, 0.9133845407247326, 1.0109631017411576, 0.9958418028401446, 1.0056195401237167, 1.0151496343794635, 0.9999361913712991, 1.0001430260006752, 1.005544503551332, 1.0162399366708845, 0.02369964647507208, 0.9716855054779553, 0.9963886062255297, 1.0019207201488067, 1.0027655340746537, 0.9886303583237234, 0.9922108313192669, 1.0038389693262635, 1.0005350690364097, 0.07490069593286551, 0.9237752498386747, 0.9818803041184045, 0.9983796728958751, 1.0139275399195689, 0.04543270734117755, 0.13629812202353264, 0.8177887321411959, 1.005472677089339, 0.9959841687661485, 1.0044433492098805, 0.11349456644866708, 0.8701250094397809, 0.05499057347399572, 0.6873821684249465, 0.26120522400147966, 1.0099872744268832, 0.9997160564652489, 1.0052204480419276, 1.0089459663420353, 0.9896309769439351, 1.0087459250388489, 0.9899479409708417, 0.14829181192655524, 0.8600925091740205, 1.0061468702853413, 1.009541779375952, 1.0145721351918808, 1.0016929346817036, 0.9982932356898414, 1.012529628904023, 0.5878056294958641, 0.4114639406471049, 1.0054371873606884, 0.9872582291341746, 1.0082581370693526, 0.9788565675226413, 1.0062178769588839, 1.0125145726796179, 0.9981302357591488, 1.0015687719188278, 1.0110183733349674, 1.005751418103919, 0.9892310231232768, 1.001237058260304, 1.017036815527826, 1.004459115388039, 1.0109445286792484, 0.995584282318427, 1.0063888000074128, 0.7403999846289979, 0.2553103395272407, 0.1580807404474991, 0.8430972823866619, 1.0022191186789713, 1.0035829508582048, 1.0086744506542984, 1.010840905331187, 0.9792460355809671, 0.9961567710975415, 0.9868802486016344, 1.020510647844817, 1.0056405173153995, 0.9951884611384353, 1.0119547839738223, 0.17358829361765077, 0.8390100858186454, 0.993850328062121, 1.0010280272164231, 0.992234068476462, 0.9917885994116044, 0.17918212016969526, 0.6719329506363573, 0.15678435514848335, 1.006867683358175, 0.6682350255127985, 0.2672940102051194, 0.03818485860073134, 1.0021114011790302, 0.9924505445437628, 0.36962303973849076, 0.6336394966945555, 1.0101843960635517, 1.002924674506008, 0.9826136509233996, 1.001907437284858, 0.9598125030824918, 0.04682012210158496, 0.9991187086938424, 1.0012114862948112, 1.0159035195129853, 0.5427749288351053, 0.4652356532872331, 1.0023789435280175, 0.9952172655254011, 1.0042902960521374, 0.7539870399047645, 0.24127585276952462, 1.0044888403591454, 1.0077554722156115, 0.11653193783297841, 0.8812727798618992, 1.004030206819521, 0.9637102300812456, 0.038548409203249825, 0.9831690596829822, 1.0012394472102222, 0.11852293248119639, 0.880456069860316, 1.0045170614230214, 1.0108375841516328, 1.0004660453671765, 1.002521270304886, 1.0050329894663912, 0.9927014757633238, 1.0052317527348054, 0.9820963579956166, 1.0175735012447136, 0.8144014106427974, 0.1727518143787752, 1.0201563639282627, 0.3427910899601944, 0.6544193535603712, 0.9902573265933055, 0.9847526296081032, 1.004441920288163, 1.0156371754861797, 0.9962248738738844, 0.9916504375425104, 0.9924454367322343, 0.995240908629748, 0.9911725829953638, 0.9981888700236526, 1.0029253656225747, 0.9965657313118047, 0.9867875585228078, 0.9971235021011438, 0.9960243682261747, 0.9944622708730718, 0.3498124136348896, 0.6496516253219378, 0.9922825007026651, 1.0066252353458074, 0.9826005994437752, 0.990452632322759, 0.9999858497602608, 1.0033848421143827, 0.9860155464005826, 0.3170390462273545, 0.6917215554051371, 1.0020887730425432, 0.9893256519000968, 0.9976067174196306, 0.9890070995446856, 0.9971260462065008, 0.8441368425366577, 0.15347942591575592, 1.0031303410443277, 1.0081127422908736, 1.0163449855331506, 0.3924542810771406, 0.6037758170417548, 0.8850865673861437, 0.12292868991474218, 1.0036377541588442, 0.893784297465637, 0.09576260329988968, 0.9933077589839975, 0.12872369665503697, 0.3861710899651109, 0.4719868877351356, 0.9941247218062524, 0.6051610642115931, 0.4034407094743954, 0.9977473542306037, 0.9773210107739131, 0.9870597216123194, 1.0038586732291939, 1.008774090514113, 1.0129727477928931, 0.6196557343268062, 0.36844395014026315, 0.9768567563241525, 0.947308656354545, 0.045109936016883095, 1.008255537201715, 0.2176628916818721, 0.7980972695001978, 0.8170724708195224, 0.18675942190160513, 1.0049502048725094, 0.9992188701927947, 1.0147057159618282, 0.6315269739804681, 0.37317503007936753, 1.0041161580344085, 1.0029311526934135, 1.0044667539747683, 0.9875555394423517, 0.990178341412528, 0.9962473096016385, 0.6726485186681016, 0.3363242593340508, 0.987659232128935, 1.013529602918641, 0.9297346137270635, 0.06063486611263457, 0.9956509551333558, 0.9927596132367208, 0.2783600135121868, 0.7113644789755885, 1.0085932726124267, 1.0129272477199796, 0.9100813493210241, 0.08030129552832566], \"Term\": [\"50_cent\", \"50_cent\", \"academy\", \"academy\", \"act\", \"actor\", \"actress\", \"age\", \"aid\", \"album\", \"angels\", \"art\", \"audience\", \"audience\", \"aviator\", \"award\", \"awards\", \"bafta\", \"ballet\", \"band\", \"bands\", \"bbc\", \"bbc\", \"began\", \"best\", \"better\", \"big\", \"big\", \"big\", \"black\", \"book\", \"box_office\", \"britain\", \"britain\", \"british\", \"british\", \"british\", \"broadcast\", \"brother\", \"category\", \"celebrity\", \"ceremony\", \"character\", \"charity\", \"charles\", \"charles\", \"chart\", \"charts\", \"children\", \"childrens\", \"christmas\", \"cinema\", \"comedy\", \"comedy\", \"comic\", \"copies\", \"critics\", \"da_vinci\", \"davis\", \"died\", \"director\", \"dollar_baby\", \"dont\", \"edwards\", \"eight\", \"elvis\", \"episode\", \"evans\", \"even\", \"ever\", \"family\", \"fans\", \"fans\", \"festival\", \"festival\", \"film\", \"films\", \"final\", \"following\", \"fox\", \"french\", \"friends\", \"fun\", \"game\", \"games\", \"good\", \"great\", \"great\", \"group\", \"hip-hop\", \"hollywood\", \"host\", \"im\", \"im\", \"im\", \"included\", \"including\", \"including\", \"including\", \"industry\", \"international\", \"john\", \"john\", \"joss_stone\", \"june\", \"king\", \"life\", \"list\", \"list\", \"london\", \"mcdonalds\", \"media\", \"million\", \"million\", \"moment\", \"money\", \"movie\", \"mr\", \"mr\", \"mtv\", \"much\", \"music\", \"music\", \"musical\", \"named\", \"named\", \"network\", \"nominated\", \"nominations\", \"nominations\", \"nominees\", \"novel\", \"number\", \"oscar\", \"oscars\", \"park\", \"part\", \"paul\", \"perform\", \"pop\", \"pop\", \"pops\", \"prize\", \"prize\", \"producer\", \"production\", \"programme\", \"r&b\", \"radio\", \"rap\", \"rapper\", \"ratings\", \"real\", \"really\", \"record\", \"release\", \"richard\", \"right\", \"rock\", \"role\", \"sale\", \"sale\", \"sales\", \"saw\", \"say\", \"says\", \"school\", \"screen\", \"screened\", \"see\", \"see\", \"series\", \"share\", \"show\", \"shows\", \"sideways\", \"singer\", \"singer\", \"single\", \"sir\", \"sky\", \"song\", \"song\", \"songs\", \"songs\", \"sound\", \"special\", \"special\", \"spokesman\", \"star\", \"star\", \"star\", \"starring\", \"stars\", \"stars\", \"stations\", \"stern\", \"story\", \"supporting\", \"television\", \"thats\", \"theatre\", \"theatre\", \"thing\", \"think\", \"think\", \"though\", \"took\", \"took\", \"top\", \"top\", \"tour\", \"tv\", \"u2\", \"uk\", \"uk\", \"urban\", \"vera_drake\", \"video\", \"viewers\", \"vote\", \"want\", \"week\", \"week\", \"weeks\", \"wilson\", \"win\", \"win\", \"winner\", \"winners\", \"woman\", \"woman\", \"work\", \"writing\", \"young\", \"young\"]}, \"R\": 30, \"lambda.step\": 0.1, \"plot.opts\": {\"xlab\": \"PC1\", \"ylab\": \"PC2\"}, \"topic.order\": [1, 2, 3, 4, 5]};\n",
       "\n",
       "function LDAvis_load_lib(url, callback){\n",
       "  var s = document.createElement('script');\n",
       "  s.src = url;\n",
       "  s.async = true;\n",
       "  s.onreadystatechange = s.onload = callback;\n",
       "  s.onerror = function(){console.warn(\"failed to load library \" + url);};\n",
       "  document.getElementsByTagName(\"head\")[0].appendChild(s);\n",
       "}\n",
       "\n",
       "if(typeof(LDAvis) !== \"undefined\"){\n",
       "   // already loaded: just create the visualization\n",
       "   !function(LDAvis){\n",
       "       new LDAvis(\"#\" + \"ldavis_el701631518576999129818086821\", ldavis_el701631518576999129818086821_data);\n",
       "   }(LDAvis);\n",
       "}else if(typeof define === \"function\" && define.amd){\n",
       "   // require.js is available: use it to load d3/LDAvis\n",
       "   require.config({paths: {d3: \"/nbextensions/d3.v3.min\"}});\n",
       "   require([\"d3\"], function(d3){\n",
       "      window.d3 = d3;\n",
       "      LDAvis_load_lib(\"/nbextensions/ldavis.v1.0.0.js\", function(){\n",
       "        new LDAvis(\"#\" + \"ldavis_el701631518576999129818086821\", ldavis_el701631518576999129818086821_data);\n",
       "      });\n",
       "    });\n",
       "}else{\n",
       "    // require.js not available: dynamically load d3 & LDAvis\n",
       "    LDAvis_load_lib(\"/nbextensions/d3.v3.min.js\", function(){\n",
       "         LDAvis_load_lib(\"/nbextensions/ldavis.v1.0.0.js\", function(){\n",
       "                 new LDAvis(\"#\" + \"ldavis_el701631518576999129818086821\", ldavis_el701631518576999129818086821_data);\n",
       "            })\n",
       "         });\n",
       "}\n",
       "</script>"
      ],
      "text/plain": [
       "<IPython.core.display.HTML object>"
      ]
     },
     "execution_count": 24,
     "metadata": {},
     "output_type": "execute_result"
    }
   ],
   "source": [
    "new_model_options = {\"seed\": 3256}\n",
    "entertainment_model_2 = entertainment_model.retrain_model(model_options=new_model_options)\n",
    "entertainment_model_2.show_visualisation()"
   ]
  },
  {
   "cell_type": "markdown",
   "metadata": {},
   "source": [
    "Notice that the topic words remain more or less consistent across different training runs, even though their positions in the visualisation change with each iteration."
   ]
  },
  {
   "cell_type": "code",
   "execution_count": 25,
   "metadata": {
    "ExecuteTime": {
     "end_time": "2020-06-29T09:15:43.886222Z",
     "start_time": "2020-06-29T09:15:43.882251Z"
    }
   },
   "outputs": [],
   "source": [
    "# entertainment_model_2.export_visualisation(\"bbc_results_2a\")"
   ]
  },
  {
   "cell_type": "code",
   "execution_count": 26,
   "metadata": {
    "ExecuteTime": {
     "end_time": "2020-06-29T09:15:44.109365Z",
     "start_time": "2020-06-29T09:15:44.037403Z"
    }
   },
   "outputs": [
    {
     "data": {
      "application/vnd.jupyter.widget-view+json": {
       "model_id": "f01a7dfe23fa4bb69ee8e5f1c463e45c",
       "version_major": 2,
       "version_minor": 0
      },
      "text/plain": [
       "interactive(children=(IntSlider(value=1, description='Topic', max=5, min=1), Output()), _dom_classes=('widget-…"
      ]
     },
     "metadata": {},
     "output_type": "display_data"
    },
    {
     "data": {
      "text/plain": [
       "<function ignis.aurum.Aurum.nb_explore_topics.<locals>.show_topic(topic_id=1)>"
      ]
     },
     "execution_count": 26,
     "metadata": {},
     "output_type": "execute_result"
    }
   ],
   "source": [
    "entertainment_model_2.nb_explore_topics()"
   ]
  },
  {
   "cell_type": "markdown",
   "metadata": {},
   "source": [
    "In addition to simply slicing by topic, we can also explicitly search the whole corpus for documents that contain certain tokens, in case we want to be absolutely sure we got all the documents that mention certain words or phrases."
   ]
  },
  {
   "cell_type": "code",
   "execution_count": 27,
   "metadata": {
    "ExecuteTime": {
     "end_time": "2020-06-29T09:16:42.999812Z",
     "start_time": "2020-06-29T09:16:37.636844Z"
    },
    "scrolled": false
   },
   "outputs": [
    {
     "name": "stdout",
     "output_type": "stream",
     "text": [
      "Training LDA model on 288 documents:\n",
      "{'term_weighting': 'pmi', 'k': 5, 'seed': 3256, 'workers': 10, 'parallel_scheme': 'default', 'iterations': 1000, 'update_every': 100, 'until_max_ll': True, 'max_extra_iterations': 2000, 'verbose': True, 'tw': <TermWeight.PMI: 2>, 'parallel': <ParallelScheme.DEFAULT: 0>}\n",
      "\n"
     ]
    },
    {
     "name": "stderr",
     "output_type": "stream",
     "text": [
      "100%|██████████| 1000/1000 [00:02<00:00, 475.96it/s, Log-likelihood=-27.52412]"
     ]
    },
    {
     "name": "stdout",
     "output_type": "stream",
     "text": [
      "\n",
      "Continuing to train until maximum log-likelihood.\n",
      "(N.B.: This may not correlate with increased interpretability)\n",
      "\n"
     ]
    },
    {
     "name": "stderr",
     "output_type": "stream",
     "text": [
      "\n",
      "1200it [00:02, 447.43it/s, Log-likelihood=-27.48300]"
     ]
    },
    {
     "name": "stdout",
     "output_type": "stream",
     "text": [
      "Docs: 288, Vocab size: 9313, Total Words: 56347\n",
      "Model training complete. (4.927s)\n",
      "Extracting label candidates from model...\n",
      "Preparing First-order relevance labeller...\n",
      "Done.\n",
      "Preparing LDA visualisation..."
     ]
    },
    {
     "name": "stderr",
     "output_type": "stream",
     "text": [
      "\n"
     ]
    },
    {
     "name": "stdout",
     "output_type": "stream",
     "text": [
      " Done. (0.307s)\n"
     ]
    },
    {
     "data": {
      "text/html": [
       "\n",
       "<link rel=\"stylesheet\" type=\"text/css\" href=\"/nbextensions/ldavis.v1.0.0.css\">\n",
       "\n",
       "\n",
       "<div id=\"ldavis_el701631518735596249552326017\"></div>\n",
       "<script type=\"text/javascript\">\n",
       "\n",
       "var ldavis_el701631518735596249552326017_data = {\"mdsDat\": {\"x\": [-0.06602946606906371, -0.2555652561072731, 0.03710780694659435, -0.09539160078939327, 0.37987851601913586], \"y\": [0.1388241183384882, 0.08464884470835919, -0.4087908952124616, 0.05140062564275428, 0.1339173065228596], \"topics\": [1, 2, 3, 4, 5], \"cluster\": [1, 1, 1, 1, 1], \"Freq\": [17.88468789059669, 21.364799552792533, 21.82393894982629, 22.61722350542927, 16.30935010135521]}, \"tinfo\": {\"Term\": [\"best\", \"games\", \"film\", \"awards\", \"game\", \"award\", \"actor\", \"festival\", \"actress\", \"director\", \"dvd\", \"mobile\", \"mr\", \"british\", \"show\", \"oscar\", \"p2p\", \"theatre\", \"box_office\", \"prize\", \"aviator\", \"music\", \"tv\", \"role\", \"gaming\", \"oscars\", \"sony\", \"programmes\", \"phone\", \"software\", \"p2p\", \"programmes\", \"software\", \"broadband\", \"users\", \"networks\", \"bittorrent\", \"computer\", \"court\", \"legal\", \"network\", \"european\", \"net\", \"system\", \"search\", \"report\", \"file-sharing\", \"internet\", \"profits\", \"viewers\", \"channel\", \"download\", \"campaign\", \"peer-to-peer\", \"cable\", \"services\", \"site\", \"mac_mini\", \"web\", \"programs\", \"files\", \"industry\", \"tv\", \"music\", \"media\", \"watch\", \"content\", \"research\", \"children\", \"box_office\", \"series\", \"project\", \"sequel\", \"bollywood\", \"become\", \"chart\", \"know\", \"audience\", \"childrens\", \"evans\", \"hours\", \"bond\", \"lee\", \"deal\", \"howard\", \"spider-man\", \"got\", \"fans\", \"meet_the_fockers\", \"robert\", \"opening\", \"episode\", \"fun\", \"takings\", \"wanted\", \"star_wars\", \"code\", \"comic\", \"adaptation\", \"third\", \"playing\", \"shows\", \"good\", \"number\", \"says\", \"took\", \"weekend\", \"place\", \"movie\", \"book\", \"week\", \"starring\", \"version\", \"work\", \"best\", \"awards\", \"award\", \"actor\", \"festival\", \"actress\", \"director\", \"british\", \"oscar\", \"theatre\", \"prize\", \"aviator\", \"oscars\", \"named\", \"academy\", \"win\", \"nominations\", \"ceremony\", \"drama\", \"nominated\", \"category\", \"sideways\", \"producers\", \"nominees\", \"dollar_baby\", \"vera_drake\", \"performance\", \"bafta\", \"love\", \"french\", \"role\", \"film\", \"star\", \"bbc\", \"films\", \"hollywood\", \"comedy\", \"games\", \"game\", \"dvd\", \"mobile\", \"gaming\", \"sony\", \"phone\", \"players\", \"dvds\", \"nintendo\", \"sold\", \"high-definition\", \"hd\", \"gadgets\", \"fox\", \"titles\", \"chip\", \"player\", \"sale\", \"format\", \"gamers\", \"portable\", \"cameras\", \"ds\", \"devices\", \"xbox\", \"technologies\", \"ipod\", \"console\", \"japan\", \"digital\", \"sales\", \"technology\", \"video\", \"market\", \"use\", \"mr\", \"expected\", \"band\", \"story\", \"edwards\", \"album\", \"young\", \"died\", \"jackson\", \"producer\", \"later\", \"davis\", \"family\", \"rock\", \"brown\", \"death\", \"worked\", \"yet\", \"singer\", \"women\", \"appeared\", \"david\", \"pop\", \"ms\", \"friday\", \"spend\", \"writer\", \"carry\", \"police\", \"gave\", \"hits\", \"wilson\", \"show\", \"production\", \"played\", \"mr\", \"song\", \"life\", \"final\", \"film\", \"music\"], \"Freq\": [206.0, 151.0, 188.0, 98.0, 100.0, 93.0, 86.0, 79.0, 77.0, 77.0, 77.0, 72.0, 104.0, 62.0, 68.0, 61.0, 53.0, 60.0, 59.0, 59.0, 59.0, 78.0, 90.0, 59.0, 57.0, 52.0, 53.0, 45.0, 51.0, 43.0, 53.874735892406406, 45.52369999292662, 43.55735746716955, 43.26820766737485, 38.59869204086576, 37.73213190722101, 36.742332212380354, 36.674548576644526, 36.01151767262465, 34.25789736637832, 33.59845637418218, 30.41489206637718, 27.774023879721497, 27.68598422517895, 27.3703746635305, 27.386667701245536, 26.07031742591064, 26.09028015126771, 25.70325246145536, 24.923037919387976, 24.593728034119415, 24.40271187623047, 23.843966737516233, 23.001247841806745, 21.97428904006906, 21.648592530100203, 21.352384916733097, 21.308869554195223, 20.741996667404248, 20.249007920101846, 32.424937662479905, 48.584167866739136, 66.2978955884074, 55.3479887779144, 43.03933553735251, 25.009280271671063, 30.083200638297452, 24.11099047946923, 24.781046348195154, 59.67485108639228, 39.85805972143675, 32.158039514463496, 31.03419984435225, 30.89736437480921, 29.201500363861754, 28.786374752590074, 27.475020120836245, 27.156438087125363, 27.109340719405175, 27.041863362356093, 26.910420699781668, 26.093306736210184, 25.971057632293274, 25.70498819658499, 25.38714332931524, 24.711108447423225, 25.10231959452847, 24.508264347884925, 23.863294164346943, 23.717825718991357, 23.712480561564565, 23.501062347412443, 22.87078924461247, 22.476134717381996, 22.079124340745533, 20.76944164732683, 20.54709627206912, 20.25153176997272, 20.137164460856088, 31.420077045687602, 36.12647554686434, 29.84091517140608, 27.744262455447064, 37.372959531798195, 35.85339321976547, 33.043569811349386, 28.194427297443617, 28.900178675947508, 30.816281672112694, 29.23268278461323, 26.999830860640216, 26.877492063468107, 25.779545714966048, 25.705548779429957, 206.54371172279235, 98.96554061300382, 93.54137138003163, 86.65865047419626, 79.79466602290589, 77.88835202525946, 77.80593911150291, 62.12269634380639, 61.93556657666835, 60.68948354972119, 59.53247312376647, 59.15620365808903, 52.681550363434866, 47.6574863210923, 47.32776308731245, 46.90053527536489, 46.265763435749676, 45.37019297578088, 44.38180205128062, 42.037846964611425, 41.51827969735665, 38.86647870716101, 37.78007642691747, 37.44531691203361, 36.76437963949001, 36.69905400579526, 36.39442628303112, 35.70509139111399, 35.58598434510673, 35.07710808049116, 58.924569085106356, 164.24721922673592, 51.977570458529094, 44.71413934114231, 50.70725372875968, 39.77903051063627, 43.77129540913924, 151.6436771560624, 100.64494877288314, 77.98160349028288, 72.25326557167537, 57.2157324223913, 53.35308381926537, 51.08740089330839, 46.62619504346924, 41.575894422984376, 40.14634840312421, 36.29206440333298, 35.91003733176909, 35.2171817189769, 34.58427885906783, 34.21522152186931, 33.463635652318125, 32.946834317517215, 32.26078254844495, 32.01256539244736, 31.89199522859423, 31.20756949805598, 29.207005033734912, 29.020633719278667, 28.883378857110177, 28.711291757075077, 28.613628559431184, 28.503713695533673, 28.373135086470207, 28.254728028623106, 28.074041914588733, 52.07969981036712, 46.679907725116855, 57.40168239109603, 57.57933006816171, 38.992353603085405, 30.84789452188772, 30.61208629499467, 29.06527856559786, 33.50906461419067, 31.373725440555617, 31.0521131582217, 29.56021037699568, 27.688222298169716, 27.133387672781723, 26.482868958924705, 26.237829195521016, 25.82761728584021, 25.776735834470696, 24.810208644887695, 24.773718641874417, 24.647997807638983, 24.272322378469337, 23.482185646750096, 23.19634015756558, 22.834904259887278, 22.561079460096956, 22.352585331234536, 22.258970307671916, 21.625468422357446, 21.616327734373822, 21.94837948690252, 20.886024850682215, 20.539842690044, 20.193880915843593, 20.11619148700525, 19.280905490973637, 18.66670560619762, 18.404049905488414, 56.42585206425709, 30.735387891654305, 30.12593166447653, 64.97648638592673, 22.60682997284645, 30.91242453111241, 22.885310703594723, 24.075243411215677, 23.341671105417568], \"Total\": [206.0, 151.0, 188.0, 98.0, 100.0, 93.0, 86.0, 79.0, 77.0, 77.0, 77.0, 72.0, 104.0, 62.0, 68.0, 61.0, 53.0, 60.0, 59.0, 59.0, 59.0, 78.0, 90.0, 59.0, 57.0, 52.0, 53.0, 45.0, 51.0, 43.0, 53.88700952927615, 45.53601578860049, 43.56962853144242, 43.28047851095928, 38.610967368234334, 37.744402788837476, 36.754603202757146, 36.68685366254416, 36.02379174381943, 34.27016820996275, 33.61072729419289, 30.427171724285884, 27.786295017557173, 27.698255174676998, 27.382646706044227, 27.398952889195915, 26.0825887578287, 26.10256937993271, 25.715523836993714, 24.935350373152442, 24.6060072962441, 24.414991329463643, 23.85623811935654, 23.013519641541098, 21.986561588066458, 21.66088343204975, 21.364656348820024, 21.321140397779647, 20.75427715981819, 20.26127982515737, 33.86566550150302, 58.72252928770724, 90.41880260419069, 78.69904221909172, 55.680806085073996, 26.160345352919464, 42.59118495776359, 25.95849717027081, 38.34209394548432, 59.68708332608693, 39.870287025457515, 32.170266573883815, 31.046427882394873, 30.90959193485086, 29.213737045847818, 28.798601830628947, 27.487258124582922, 27.16869371832421, 27.121589452574174, 27.054103845161038, 26.922651378313997, 26.10553270118228, 25.983285167234364, 25.71721674065288, 25.399390159793978, 24.723334562217794, 25.11493549857431, 24.520620788836908, 23.875520420341502, 23.730053557338977, 23.724706897713634, 23.513288384848643, 22.883016312192012, 22.48836068235409, 22.091353756075375, 20.78166830013555, 20.559323500796665, 20.2637620018982, 20.14939426936272, 32.804373624331944, 40.79188039531025, 34.08280141589078, 32.88543498255845, 57.56728506342486, 53.291758553417566, 50.41254295312037, 34.868438994245025, 39.55383134885334, 60.38676121826571, 48.42312229434695, 44.5001340044505, 44.10950927325398, 40.35796589178911, 40.560010221001804, 206.55599449902738, 98.97778754955898, 93.5536232917704, 86.67088846003458, 79.8069618062027, 77.9005979375829, 77.818197919077, 62.13493879639502, 61.947821784629426, 60.701715733360714, 59.544724762459545, 59.1684351764173, 52.69378247835892, 47.6697178046655, 47.33999594516256, 46.91277152924024, 46.278001866348994, 45.382425629579316, 44.39407943523394, 42.05008672032828, 41.53054096924917, 38.8787111785942, 37.79233123091921, 37.4575507235282, 36.776613447455055, 36.71128606745672, 36.40666159332319, 35.71732583215868, 35.598216361466555, 35.08934326458402, 59.95138668005792, 188.33179580968604, 61.51737777048587, 53.8522044941906, 80.32649548276251, 44.894441606138344, 62.5934875812983, 151.65580052049035, 100.65709365921632, 77.99371300064692, 72.26537121847153, 57.22783978502705, 53.365190701149686, 51.09950969542509, 46.63830681489565, 41.58800699366343, 40.15845408661846, 36.30418632132981, 35.922143051961434, 35.22928736577307, 34.59638505880469, 34.227346600826834, 33.47574438877754, 32.95893996431338, 32.27289370339181, 32.024681241129976, 31.90410146290936, 31.21967813148978, 29.21911945030825, 29.032740466784507, 28.895484867445358, 28.723399144070438, 28.625734298099772, 28.515820546577288, 28.385241583706886, 28.266837587540703, 28.086148812294855, 56.75398865661646, 50.09826454992718, 72.24826964598267, 73.4961754050691, 45.57472712340093, 42.023403725087675, 104.50064732386225, 35.72156865735396, 33.5214786451414, 31.386141804496297, 31.06452681849489, 29.572629285486446, 27.70077252212402, 27.145809043032546, 26.495285708194636, 26.250252260135195, 25.840035433030547, 25.789149568306698, 24.82262421456161, 24.78614369830549, 24.660427933568123, 24.284741851231157, 23.49463629574869, 23.20876134465465, 22.847328913702277, 22.57349377865985, 22.364999946579353, 22.27145382036353, 21.637882302819186, 21.62874568175584, 21.961014551226647, 20.898439024146114, 20.552267953837763, 20.206295472870917, 20.128608630570085, 19.29332829919502, 18.679119413263177, 18.416463710689815, 68.06355661197188, 34.54371470699968, 33.81548341462765, 104.50064732386225, 24.70614759604078, 51.57002807929861, 25.60829758488324, 188.33179580968604, 78.69904221909172], \"Category\": [\"Default\", \"Default\", \"Default\", \"Default\", \"Default\", \"Default\", \"Default\", \"Default\", \"Default\", \"Default\", \"Default\", \"Default\", \"Default\", \"Default\", \"Default\", \"Default\", \"Default\", \"Default\", \"Default\", \"Default\", \"Default\", \"Default\", \"Default\", \"Default\", \"Default\", \"Default\", \"Default\", \"Default\", \"Default\", \"Default\", \"Topic1\", \"Topic1\", \"Topic1\", \"Topic1\", \"Topic1\", \"Topic1\", \"Topic1\", \"Topic1\", \"Topic1\", \"Topic1\", \"Topic1\", \"Topic1\", \"Topic1\", \"Topic1\", \"Topic1\", \"Topic1\", \"Topic1\", \"Topic1\", \"Topic1\", \"Topic1\", \"Topic1\", \"Topic1\", \"Topic1\", \"Topic1\", \"Topic1\", \"Topic1\", \"Topic1\", \"Topic1\", \"Topic1\", \"Topic1\", \"Topic1\", \"Topic1\", \"Topic1\", \"Topic1\", \"Topic1\", \"Topic1\", \"Topic1\", \"Topic1\", \"Topic1\", \"Topic2\", \"Topic2\", \"Topic2\", \"Topic2\", \"Topic2\", \"Topic2\", \"Topic2\", \"Topic2\", \"Topic2\", \"Topic2\", \"Topic2\", \"Topic2\", \"Topic2\", \"Topic2\", \"Topic2\", \"Topic2\", \"Topic2\", \"Topic2\", \"Topic2\", \"Topic2\", \"Topic2\", \"Topic2\", \"Topic2\", \"Topic2\", \"Topic2\", \"Topic2\", \"Topic2\", \"Topic2\", \"Topic2\", \"Topic2\", \"Topic2\", \"Topic2\", \"Topic2\", \"Topic2\", \"Topic2\", \"Topic2\", \"Topic2\", \"Topic2\", \"Topic2\", \"Topic2\", \"Topic2\", \"Topic2\", \"Topic2\", \"Topic2\", \"Topic2\", \"Topic3\", \"Topic3\", \"Topic3\", \"Topic3\", \"Topic3\", \"Topic3\", \"Topic3\", \"Topic3\", \"Topic3\", \"Topic3\", \"Topic3\", \"Topic3\", \"Topic3\", \"Topic3\", \"Topic3\", \"Topic3\", \"Topic3\", \"Topic3\", \"Topic3\", \"Topic3\", \"Topic3\", \"Topic3\", \"Topic3\", \"Topic3\", \"Topic3\", \"Topic3\", \"Topic3\", \"Topic3\", \"Topic3\", \"Topic3\", \"Topic3\", \"Topic3\", \"Topic3\", \"Topic3\", \"Topic3\", \"Topic3\", \"Topic3\", \"Topic4\", \"Topic4\", \"Topic4\", \"Topic4\", \"Topic4\", \"Topic4\", \"Topic4\", \"Topic4\", \"Topic4\", \"Topic4\", \"Topic4\", \"Topic4\", \"Topic4\", \"Topic4\", \"Topic4\", \"Topic4\", \"Topic4\", \"Topic4\", \"Topic4\", \"Topic4\", \"Topic4\", \"Topic4\", \"Topic4\", \"Topic4\", \"Topic4\", \"Topic4\", \"Topic4\", \"Topic4\", \"Topic4\", \"Topic4\", \"Topic4\", \"Topic4\", \"Topic4\", \"Topic4\", \"Topic4\", \"Topic4\", \"Topic4\", \"Topic4\", \"Topic5\", \"Topic5\", \"Topic5\", \"Topic5\", \"Topic5\", \"Topic5\", \"Topic5\", \"Topic5\", \"Topic5\", \"Topic5\", \"Topic5\", \"Topic5\", \"Topic5\", \"Topic5\", \"Topic5\", \"Topic5\", \"Topic5\", \"Topic5\", \"Topic5\", \"Topic5\", \"Topic5\", \"Topic5\", \"Topic5\", \"Topic5\", \"Topic5\", \"Topic5\", \"Topic5\", \"Topic5\", \"Topic5\", \"Topic5\", \"Topic5\", \"Topic5\", \"Topic5\", \"Topic5\", \"Topic5\", \"Topic5\", \"Topic5\", \"Topic5\", \"Topic5\"], \"logprob\": [30.0, 29.0, 28.0, 27.0, 26.0, 25.0, 24.0, 23.0, 22.0, 21.0, 20.0, 19.0, 18.0, 17.0, 16.0, 15.0, 14.0, 13.0, 12.0, 11.0, 10.0, 9.0, 8.0, 7.0, 6.0, 5.0, 4.0, 3.0, 2.0, 1.0, -5.2314, -5.3998, -5.444, -5.4506, -5.5648, -5.5875, -5.6141, -5.616, -5.6342, -5.6841, -5.7036, -5.8031, -5.894, -5.8971, -5.9086, -5.908, -5.9573, -5.9565, -5.9714, -6.0023, -6.0156, -6.0234, -6.0465, -6.0825, -6.1282, -6.1431, -6.1569, -6.1589, -6.1859, -6.21, -5.7391, -5.3348, -5.0239, -5.2044, -5.4559, -5.9988, -5.8141, -6.0354, -6.008, -5.3069, -5.7105, -5.9252, -5.9608, -5.9652, -6.0216, -6.036, -6.0826, -6.0942, -6.096, -6.0985, -6.1033, -6.1342, -6.1389, -6.1492, -6.1616, -6.1886, -6.1729, -6.1968, -6.2235, -6.2296, -6.2299, -6.2388, -6.266, -6.2834, -6.3012, -6.3624, -6.3731, -6.3876, -6.3933, -5.9484, -5.8088, -6.0, -6.0728, -5.7749, -5.8164, -5.898, -6.0567, -6.032, -5.9678, -6.0206, -6.1, -6.1046, -6.1463, -6.1492, -4.0866, -4.8223, -4.8787, -4.9551, -5.0377, -5.0618, -5.0629, -5.288, -5.291, -5.3114, -5.3306, -5.3369, -5.4529, -5.5531, -5.56, -5.5691, -5.5827, -5.6023, -5.6243, -5.6786, -5.691, -5.757, -5.7853, -5.7942, -5.8126, -5.8144, -5.8227, -5.8418, -5.8452, -5.8596, -5.3409, -4.3157, -5.4663, -5.6168, -5.4911, -5.7338, -5.6381, -4.4313, -4.8412, -5.0964, -5.1726, -5.406, -5.4759, -5.5193, -5.6107, -5.7253, -5.7603, -5.8612, -5.8718, -5.8913, -5.9094, -5.9202, -5.9424, -5.9579, -5.979, -5.9867, -5.9905, -6.0122, -6.0784, -6.0848, -6.0896, -6.0955, -6.0989, -6.1028, -6.1074, -6.1116, -6.118, -5.5001, -5.6095, -5.4028, -5.3997, -5.7895, -6.0238, -6.0314, -6.0833, -5.614, -5.6799, -5.6902, -5.7394, -5.8048, -5.8251, -5.8494, -5.8587, -5.8744, -5.8764, -5.9146, -5.9161, -5.9212, -5.9365, -5.9696, -5.9819, -5.9976, -6.0096, -6.0189, -6.0231, -6.052, -6.0524, -6.0372, -6.0868, -6.1035, -6.1205, -6.1243, -6.1667, -6.1991, -6.2133, -5.0929, -5.7004, -5.7205, -4.9518, -6.0076, -5.6947, -5.9954, -5.9447, -5.9756], \"loglift\": [30.0, 29.0, 28.0, 27.0, 26.0, 25.0, 24.0, 23.0, 22.0, 21.0, 20.0, 19.0, 18.0, 17.0, 16.0, 15.0, 14.0, 13.0, 12.0, 11.0, 10.0, 9.0, 8.0, 7.0, 6.0, 5.0, 4.0, 3.0, 2.0, 1.0, 1.721, 1.721, 1.7209, 1.7209, 1.7209, 1.7209, 1.7209, 1.7209, 1.7209, 1.7209, 1.7209, 1.7208, 1.7208, 1.7208, 1.7208, 1.7208, 1.7208, 1.7208, 1.7208, 1.7207, 1.7207, 1.7207, 1.7207, 1.7207, 1.7207, 1.7207, 1.7207, 1.7207, 1.7206, 1.7206, 1.6778, 1.5317, 1.4109, 1.3692, 1.4637, 1.6762, 1.3735, 1.6474, 1.2848, 1.5432, 1.5431, 1.543, 1.543, 1.543, 1.543, 1.543, 1.543, 1.543, 1.543, 1.543, 1.543, 1.543, 1.543, 1.543, 1.5429, 1.5429, 1.5429, 1.5429, 1.5429, 1.5429, 1.5429, 1.5429, 1.5429, 1.5429, 1.5429, 1.5428, 1.5428, 1.5428, 1.5428, 1.5003, 1.422, 1.4105, 1.3734, 1.1114, 1.1471, 1.121, 1.331, 1.2296, 0.8707, 1.0387, 1.0438, 1.048, 1.0952, 1.0874, 1.5221, 1.522, 1.522, 1.522, 1.522, 1.522, 1.522, 1.522, 1.522, 1.522, 1.522, 1.522, 1.5219, 1.5219, 1.5219, 1.5219, 1.5219, 1.5219, 1.5219, 1.5219, 1.5219, 1.5219, 1.5218, 1.5218, 1.5218, 1.5218, 1.5218, 1.5218, 1.5218, 1.5218, 1.5049, 1.3853, 1.3537, 1.3362, 1.0621, 1.4012, 1.1645, 1.4864, 1.4863, 1.4863, 1.4863, 1.4862, 1.4862, 1.4862, 1.4862, 1.4862, 1.4862, 1.4861, 1.4861, 1.4861, 1.4861, 1.4861, 1.4861, 1.4861, 1.4861, 1.4861, 1.4861, 1.4861, 1.486, 1.486, 1.486, 1.486, 1.486, 1.486, 1.486, 1.486, 1.486, 1.4005, 1.4158, 1.2564, 1.2424, 1.3305, 1.1773, 0.2587, 1.2803, 1.8131, 1.813, 1.813, 1.813, 1.813, 1.813, 1.813, 1.813, 1.813, 1.813, 1.8129, 1.8129, 1.8129, 1.8129, 1.8129, 1.8129, 1.8129, 1.8129, 1.8129, 1.8129, 1.8129, 1.8129, 1.8129, 1.8128, 1.8128, 1.8128, 1.8128, 1.8128, 1.8128, 1.8128, 1.6259, 1.6966, 1.6979, 1.3383, 1.7246, 1.3017, 1.701, -0.2436, 0.598]}, \"token.table\": {\"Topic\": [3, 3, 3, 2, 5, 5, 2, 3, 3, 3, 3, 5, 1, 3, 2, 3, 1, 2, 2, 2, 5, 2, 3, 1, 5, 1, 4, 1, 5, 3, 3, 1, 2, 1, 2, 2, 4, 2, 2, 3, 2, 1, 4, 1, 4, 1, 5, 5, 2, 5, 4, 5, 1, 4, 3, 3, 1, 3, 4, 4, 4, 5, 2, 1, 2, 3, 4, 5, 2, 3, 1, 1, 5, 3, 5, 2, 3, 4, 2, 5, 4, 4, 3, 5, 2, 4, 4, 4, 4, 4, 5, 2, 4, 2, 4, 4, 5, 1, 3, 2, 2, 1, 2, 4, 1, 4, 5, 4, 2, 5, 2, 1, 2, 5, 3, 1, 1, 3, 4, 1, 4, 2, 4, 1, 2, 3, 1, 4, 5, 5, 1, 5, 3, 1, 1, 1, 4, 3, 3, 3, 1, 2, 4, 2, 3, 3, 1, 1, 3, 4, 2, 3, 2, 5, 4, 4, 2, 4, 5, 5, 4, 3, 5, 3, 4, 5, 1, 1, 1, 2, 1, 1, 5, 2, 5, 3, 4, 4, 4, 5, 1, 2, 4, 1, 2, 2, 1, 4, 5, 2, 3, 4, 3, 5, 1, 1, 4, 4, 5, 4, 5, 2, 3, 5, 2, 2, 3, 5, 1, 2, 4, 1, 4, 3, 2, 3, 4, 1, 2, 3, 1, 3, 5, 1, 4, 1, 3, 1, 2, 1, 4, 1, 2, 1, 5, 1, 2, 4, 2, 4, 5, 3, 5, 1, 2, 4, 5, 5, 5, 4, 5, 5], \"Freq\": [0.9928179980083562, 1.003797255870028, 1.0012760115461083, 0.9925856694565814, 1.014451562976962, 0.983679859268894, 0.9937908785724787, 0.9971532933748359, 1.0047713460208532, 1.0002244185386533, 1.0079142030164758, 1.014275067037592, 0.16712407754766828, 0.8356203877383414, 0.9926836800950053, 1.0021495648288954, 1.006676627574759, 1.0029249194017087, 0.9959574584288219, 0.5988874452109739, 0.3923745330692588, 1.005242619616769, 0.9978282943701419, 0.9935195145569323, 1.013769917835434, 1.0006112102558518, 0.9988722915488476, 1.006026175624346, 0.989790534680249, 1.0113039469218192, 0.9915732659884522, 1.0160120534393258, 1.0069933315011443, 0.6520249007669111, 0.3651339444294702, 0.9955168758532095, 1.0012457935762218, 1.0214343871376048, 0.30354595556482183, 0.7029485286764295, 0.9869835619924132, 1.0085356553150142, 0.9905600480876461, 0.7043711047192067, 0.2817484418876827, 0.9993395547034964, 0.9878115805751607, 1.008175935818854, 1.0109958733948106, 0.9882748660465287, 1.0096298092904044, 0.9946286720428408, 0.08809953482304002, 0.9162351621596162, 1.0023362412107264, 1.006074146899472, 0.9830026018087159, 0.9911231533518144, 1.0036170056683282, 1.0000806090531045, 1.0099065340255269, 0.9979228134111969, 1.0206994277952623, 0.9859608468326706, 0.9980001612520344, 0.19596003935731185, 0.8118344487660062, 1.0071457306006484, 1.0195500438301028, 1.0024188139659553, 0.9968335674577582, 0.9449098231534764, 0.029528431973546137, 0.8708035692800703, 0.12743466867513226, 0.311229810907969, 0.6349088142522568, 0.0622459621815938, 0.11714952897809659, 0.8981463888320739, 1.0030058372652222, 0.9933577497701401, 0.9974538348036226, 1.0017752116452732, 1.005112249460997, 1.011666390592811, 1.0034066783404718, 0.9929634722509134, 1.0022696097236528, 0.9960187246996756, 0.9847963868832699, 0.8514407674659145, 0.15204299419034187, 0.9954236195995472, 0.9934915695741313, 1.0021673803794486, 1.0171785714110795, 0.11137236194772847, 0.8909788955818277, 1.0028729942158783, 0.9842756004265727, 0.8344327227447521, 0.03405847847937764, 0.13623391391751055, 0.996070525531806, 0.9864281026965782, 0.9813066477693633, 0.9969326940168762, 0.982273309241159, 1.0061905707282806, 1.0006432917415198, 0.9921165192914283, 0.3878221661862631, 0.6011243575887079, 1.0112866227468733, 0.9849379352235264, 0.13165191277512273, 0.021941985462520457, 0.8557374330382977, 0.7722589348706778, 0.2334736314725305, 1.00521369073708, 0.9963278232160565, 0.21527897402895946, 0.5133575534536725, 0.2649587372664116, 0.08612386842071638, 0.2966488801158009, 0.6220057163718405, 1.0171648566082738, 0.6988649219756001, 0.29225260373525097, 1.0069285536089785, 1.007691021142178, 1.0115817995367915, 1.0067717911074783, 0.9960542782280242, 0.9988088794997879, 0.9939927858780103, 0.9877848200245298, 0.2258227044349447, 0.6427261587763811, 0.12159684084958561, 1.0116036460839437, 1.000842292979275, 1.0058112647686062, 1.00209680350999, 0.9994125348164175, 0.9888300224319998, 0.9980526291540132, 0.7331780262758466, 0.2781020099667004, 0.11828900835023136, 0.8871675626267351, 0.9915441823748476, 1.0077552812227915, 0.8825285731162037, 0.12257341293280608, 0.9936106547188382, 1.0167353575600897, 0.9925008195171351, 1.0076459373917115, 0.9904666721806998, 1.005494997591228, 0.11579530556942302, 0.8974136181630284, 1.0110624292473889, 1.0101893897251253, 0.9871044757580933, 0.9947073309606318, 0.9854391191222044, 0.9245527521325928, 0.07704606267771606, 1.0113757199076163, 1.0086280586563827, 0.9841306976745146, 0.016680181316517197, 0.999229305642603, 0.938156249966713, 0.059882313827662535, 0.11258776521675178, 0.6755265913005106, 0.22517553043350355, 0.9860259415332644, 0.9985045660463502, 1.0032533744856078, 1.0156557127050732, 0.17630580294843554, 0.8227604137593658, 0.8802093359031452, 0.02934031119677151, 0.08802093359031453, 1.0031196718648578, 1.0066822291075856, 0.9829317943211305, 1.0098777860418755, 0.9916211778267816, 0.08095151185450317, 0.9309423863267864, 0.9931567619950092, 1.0048597397985821, 1.0111904580300832, 0.8452896057111847, 0.16255569340599704, 1.010505975589218, 0.612112908188067, 0.3854044236739681, 0.9876970604765133, 1.01089400120766, 0.9782838469530021, 1.0169793274099148, 0.20761742908861577, 0.78894623053674, 1.0049139346892522, 0.9449959433764774, 0.030483740108918626, 0.9857883850691299, 0.019836333210366316, 0.6545989959420884, 0.31738133136586105, 0.7299366735579959, 0.17695434510496869, 0.08847717255248434, 0.26175890158638143, 0.7376841771979841, 1.0100757027933396, 1.0078644461545905, 0.37167383609518767, 0.6442346492316586, 0.2176984028327611, 0.789156710268759, 1.0025926897308475, 0.9958647280250876, 0.9556448763475529, 0.03822579505390211, 1.0118396241068586, 0.6067397459364887, 0.382021321515567, 0.8030184547298304, 0.2007546136824576, 0.9773863366370342, 1.0018593757715932, 1.0188941165032839, 0.1232741306709785, 0.6410254794890882, 0.1232741306709785, 0.1232741306709785, 0.978946841759019, 1.021785043245246, 1.0130744489557102, 0.9910050630641376, 1.0108021347649057], \"Term\": [\"academy\", \"actor\", \"actress\", \"adaptation\", \"album\", \"appeared\", \"audience\", \"aviator\", \"award\", \"awards\", \"bafta\", \"band\", \"bbc\", \"bbc\", \"become\", \"best\", \"bittorrent\", \"bollywood\", \"bond\", \"book\", \"book\", \"box_office\", \"british\", \"broadband\", \"brown\", \"cable\", \"cameras\", \"campaign\", \"carry\", \"category\", \"ceremony\", \"channel\", \"chart\", \"children\", \"children\", \"childrens\", \"chip\", \"code\", \"comedy\", \"comedy\", \"comic\", \"computer\", \"console\", \"content\", \"content\", \"court\", \"david\", \"davis\", \"deal\", \"death\", \"devices\", \"died\", \"digital\", \"digital\", \"director\", \"dollar_baby\", \"download\", \"drama\", \"ds\", \"dvd\", \"dvds\", \"edwards\", \"episode\", \"european\", \"evans\", \"expected\", \"expected\", \"family\", \"fans\", \"festival\", \"file-sharing\", \"files\", \"files\", \"film\", \"film\", \"films\", \"films\", \"films\", \"final\", \"final\", \"format\", \"fox\", \"french\", \"friday\", \"fun\", \"gadgets\", \"game\", \"gamers\", \"games\", \"gaming\", \"gave\", \"good\", \"good\", \"got\", \"hd\", \"high-definition\", \"hits\", \"hollywood\", \"hollywood\", \"hours\", \"howard\", \"industry\", \"industry\", \"industry\", \"internet\", \"ipod\", \"jackson\", \"japan\", \"know\", \"later\", \"lee\", \"legal\", \"life\", \"life\", \"love\", \"mac_mini\", \"market\", \"market\", \"market\", \"media\", \"media\", \"meet_the_fockers\", \"mobile\", \"movie\", \"movie\", \"movie\", \"mr\", \"mr\", \"mr\", \"ms\", \"music\", \"music\", \"named\", \"net\", \"network\", \"networks\", \"nintendo\", \"nominated\", \"nominations\", \"nominees\", \"number\", \"number\", \"number\", \"opening\", \"oscar\", \"oscars\", \"p2p\", \"peer-to-peer\", \"performance\", \"phone\", \"place\", \"place\", \"played\", \"played\", \"player\", \"players\", \"playing\", \"playing\", \"police\", \"pop\", \"portable\", \"prize\", \"producer\", \"producers\", \"production\", \"production\", \"profits\", \"programmes\", \"programs\", \"project\", \"report\", \"research\", \"research\", \"robert\", \"rock\", \"role\", \"role\", \"sale\", \"sales\", \"sales\", \"says\", \"says\", \"says\", \"search\", \"sequel\", \"series\", \"services\", \"show\", \"show\", \"shows\", \"shows\", \"shows\", \"sideways\", \"singer\", \"site\", \"software\", \"sold\", \"song\", \"song\", \"sony\", \"spend\", \"spider-man\", \"star\", \"star\", \"star_wars\", \"starring\", \"starring\", \"story\", \"system\", \"takings\", \"technologies\", \"technology\", \"technology\", \"theatre\", \"third\", \"third\", \"titles\", \"took\", \"took\", \"took\", \"tv\", \"tv\", \"tv\", \"use\", \"use\", \"users\", \"vera_drake\", \"version\", \"version\", \"video\", \"video\", \"viewers\", \"wanted\", \"watch\", \"watch\", \"web\", \"week\", \"week\", \"weekend\", \"weekend\", \"wilson\", \"win\", \"women\", \"work\", \"work\", \"work\", \"work\", \"worked\", \"writer\", \"xbox\", \"yet\", \"young\"]}, \"R\": 30, \"lambda.step\": 0.1, \"plot.opts\": {\"xlab\": \"PC1\", \"ylab\": \"PC2\"}, \"topic.order\": [1, 2, 3, 4, 5]};\n",
       "\n",
       "function LDAvis_load_lib(url, callback){\n",
       "  var s = document.createElement('script');\n",
       "  s.src = url;\n",
       "  s.async = true;\n",
       "  s.onreadystatechange = s.onload = callback;\n",
       "  s.onerror = function(){console.warn(\"failed to load library \" + url);};\n",
       "  document.getElementsByTagName(\"head\")[0].appendChild(s);\n",
       "}\n",
       "\n",
       "if(typeof(LDAvis) !== \"undefined\"){\n",
       "   // already loaded: just create the visualization\n",
       "   !function(LDAvis){\n",
       "       new LDAvis(\"#\" + \"ldavis_el701631518735596249552326017\", ldavis_el701631518735596249552326017_data);\n",
       "   }(LDAvis);\n",
       "}else if(typeof define === \"function\" && define.amd){\n",
       "   // require.js is available: use it to load d3/LDAvis\n",
       "   require.config({paths: {d3: \"/nbextensions/d3.v3.min\"}});\n",
       "   require([\"d3\"], function(d3){\n",
       "      window.d3 = d3;\n",
       "      LDAvis_load_lib(\"/nbextensions/ldavis.v1.0.0.js\", function(){\n",
       "        new LDAvis(\"#\" + \"ldavis_el701631518735596249552326017\", ldavis_el701631518735596249552326017_data);\n",
       "      });\n",
       "    });\n",
       "}else{\n",
       "    // require.js not available: dynamically load d3 & LDAvis\n",
       "    LDAvis_load_lib(\"/nbextensions/d3.v3.min.js\", function(){\n",
       "         LDAvis_load_lib(\"/nbextensions/ldavis.v1.0.0.js\", function(){\n",
       "                 new LDAvis(\"#\" + \"ldavis_el701631518735596249552326017\", ldavis_el701631518735596249552326017_data);\n",
       "            })\n",
       "         });\n",
       "}\n",
       "</script>"
      ],
      "text/plain": [
       "<IPython.core.display.HTML object>"
      ]
     },
     "execution_count": 27,
     "metadata": {},
     "output_type": "execute_result"
    }
   ],
   "source": [
    "# Topics that seem to deal with films\n",
    "film_topic = entertainment_model_2.slice_by_topic(topic_id=3)\n",
    "\n",
    "# Tokens that are related to films, doing a full-text search through the entire corpus (not just within the current results)\n",
    "by_token_slice = entertainment_model_2.slice_by_tokens(\n",
    "    [\"film\", \"films\", \"movie\", \"cinema\"], include_root=True\n",
    ")\n",
    "\n",
    "concat_slice = film_topic.concat(by_token_slice)\n",
    "\n",
    "concat_model = entertainment_model_2.retrain_model(\n",
    "    concat_slice, model_options=model_options\n",
    ")\n",
    "concat_model.show_visualisation()"
   ]
  },
  {
   "cell_type": "code",
   "execution_count": null,
   "metadata": {
    "ExecuteTime": {
     "end_time": "2020-06-29T09:00:26.138899Z",
     "start_time": "2020-06-29T09:00:26.134907Z"
    }
   },
   "outputs": [],
   "source": [
    "# concat_model.export_visualisation(\"bbc_results_3\")"
   ]
  },
  {
   "cell_type": "code",
   "execution_count": 28,
   "metadata": {
    "ExecuteTime": {
     "end_time": "2020-06-29T09:16:50.464869Z",
     "start_time": "2020-06-29T09:16:50.389871Z"
    },
    "scrolled": false
   },
   "outputs": [
    {
     "data": {
      "application/vnd.jupyter.widget-view+json": {
       "model_id": "d8f93632780241fe8b36e817d693b6d3",
       "version_major": 2,
       "version_minor": 0
      },
      "text/plain": [
       "interactive(children=(IntSlider(value=1, description='Topic', max=5, min=1), Output()), _dom_classes=('widget-…"
      ]
     },
     "metadata": {},
     "output_type": "display_data"
    },
    {
     "data": {
      "text/plain": [
       "<function ignis.aurum.Aurum.nb_explore_topics.<locals>.show_topic(topic_id=1)>"
      ]
     },
     "execution_count": 28,
     "metadata": {},
     "output_type": "execute_result"
    }
   ],
   "source": [
    "# Topic related to film awards\n",
    "concat_model.nb_explore_topics()"
   ]
  },
  {
   "cell_type": "code",
   "execution_count": null,
   "metadata": {
    "ExecuteTime": {
     "end_time": "2020-06-29T05:57:54.616116Z",
     "start_time": "2020-06-29T05:57:54.611123Z"
    }
   },
   "outputs": [],
   "source": []
  },
  {
   "cell_type": "code",
   "execution_count": null,
   "metadata": {},
   "outputs": [],
   "source": []
  }
 ],
 "metadata": {
  "kernelspec": {
   "display_name": "Python 3",
   "language": "python",
   "name": "python3"
  },
  "language_info": {
   "codemirror_mode": {
    "name": "ipython",
    "version": 3
   },
   "file_extension": ".py",
   "mimetype": "text/x-python",
   "name": "python",
   "nbconvert_exporter": "python",
   "pygments_lexer": "ipython3",
   "version": "3.7.6"
  },
  "widgets": {
   "application/vnd.jupyter.widget-state+json": {
    "state": {
     "0176bce07868479ba1260626d7e96ae2": {
      "model_module": "@jupyter-widgets/controls",
      "model_module_version": "1.5.0",
      "model_name": "SliderStyleModel",
      "state": {
       "description_width": ""
      }
     },
     "019fcbf53c834bf0b0154c872987adea": {
      "model_module": "@jupyter-widgets/base",
      "model_module_version": "1.2.0",
      "model_name": "LayoutModel",
      "state": {}
     },
     "0272c9fb99e5482f81cfbf00b10d24d1": {
      "model_module": "@jupyter-widgets/controls",
      "model_module_version": "1.5.0",
      "model_name": "IntSliderModel",
      "state": {
       "description": "index",
       "layout": "IPY_MODEL_680aadc6311a4aab8a86f87343d9fe3d",
       "max": 370,
       "style": "IPY_MODEL_bafdf5178bda4f7e8d6359d3f6585707"
      }
     },
     "02c1b6343730431086b372ca058d19e7": {
      "model_module": "@jupyter-widgets/controls",
      "model_module_version": "1.5.0",
      "model_name": "SliderStyleModel",
      "state": {
       "description_width": ""
      }
     },
     "0300157e7e12417f9f4234fcd0e3219f": {
      "model_module": "@jupyter-widgets/controls",
      "model_module_version": "1.5.0",
      "model_name": "SliderStyleModel",
      "state": {
       "description_width": ""
      }
     },
     "08810c03c35340c0965aed0f2aefc885": {
      "model_module": "@jupyter-widgets/base",
      "model_module_version": "1.2.0",
      "model_name": "LayoutModel",
      "state": {}
     },
     "0a2caa0f02a3420caf8ded2c19f7003f": {
      "model_module": "@jupyter-widgets/controls",
      "model_module_version": "1.5.0",
      "model_name": "VBoxModel",
      "state": {
       "_dom_classes": [
        "widget-interact"
       ],
       "children": [
        "IPY_MODEL_bcfcae1962bd4734bacbf0b83a089f98",
        "IPY_MODEL_5406392c76344d5792e38f0ef963b0ce"
       ],
       "layout": "IPY_MODEL_7f8e44ba6e234d9d99549134f6979904"
      }
     },
     "0c6041bc44c44b2793dab67ad5b0794b": {
      "model_module": "@jupyter-widgets/base",
      "model_module_version": "1.2.0",
      "model_name": "LayoutModel",
      "state": {}
     },
     "0f6858aff9a6418893b5db2b75af667d": {
      "model_module": "@jupyter-widgets/base",
      "model_module_version": "1.2.0",
      "model_name": "LayoutModel",
      "state": {}
     },
     "0f94827cc4b34197bced92a6a4c7117e": {
      "model_module": "@jupyter-widgets/base",
      "model_module_version": "1.2.0",
      "model_name": "LayoutModel",
      "state": {}
     },
     "108053295dc54fe49e7eadc10584e6e3": {
      "model_module": "@jupyter-widgets/output",
      "model_module_version": "1.0.0",
      "model_name": "OutputModel",
      "state": {
       "layout": "IPY_MODEL_519a00c1c6074ba98bbfcfe05314e4f8",
       "outputs": [
        {
         "name": "stdout",
         "output_type": "stream",
         "text": "ID: 70e7bd2f-b69a-4208-945e-0d107daea485\n\nMetadata: {'filename': 'data/bbc/business/226.txt'}\n\nmcdonalds to sponsor mtv show mcdonalds the worlds largest restaurant chain is to sponsor programme on music channel mtv as part of its latest youth market promotion the show advance warning highlights new talent and mtv reckons it will give mcdonalds access to nearly million homes in countries mcdonalds golden arches name and im loving it catchphrase will be used throughout the half-hour programme the move comes amid growing concerns about obesity in europe and the us the european union has called on the food industry to reduce the number of adverts aimed at young children warning that legislation would be introduced unless voluntary steps were taken in the us food group kraft is among firms that already have cut back on promoting sugar and fattening products to the young mcdonalds has also been taking steps to improve its junk food reputation revamping its menu and providing clients with health-related products such as pedometers as well as burgers like the big mac and quarter pounder with cheese the company now sells healthier options such as salads and fresh fruit chief_executive jim skinner attributed an increase in january worldwide sales to the vitality of our menu among other things hooking up with mtv is expected to add extra momentum to mcdonalds recent revival mtv which played key role in the emergence of the music video is to show advance warning on all of its channels across the world the programme can at present only been seen in the us where it has featured artists like british stars joss_stone and franz_ferdinand mcdonalds has targeted the youth market in the past with its advertisements signing up stars like jelly-legged dancer justin_timberlake and all-woman singing group destinys child\n\n[(4, 0.2849612236022949),\n (1, 0.24935834109783173),\n (6, 0.19333449006080627),\n (9, 0.13949696719646454),\n (8, 0.12418993562459946),\n (5, 0.00836983323097229),\n (7, 9.747652075020596e-05),\n (10, 7.284103048732504e-05),\n (2, 6.673431198578328e-05),\n (3, 5.224308551987633e-05)]\n"
        }
       ]
      }
     },
     "10beea248e3742c6b7318631de3c5ad7": {
      "model_module": "@jupyter-widgets/controls",
      "model_module_version": "1.5.0",
      "model_name": "IntSliderModel",
      "state": {
       "description": "index",
       "layout": "IPY_MODEL_1a64e0ce6c304aaf9e2bc57296ddb455",
       "max": 370,
       "style": "IPY_MODEL_9aa7a1095dfa4ba1ac4da58f6ee815fa"
      }
     },
     "113de4bd821446a8ae532669209ad667": {
      "model_module": "@jupyter-widgets/controls",
      "model_module_version": "1.5.0",
      "model_name": "SliderStyleModel",
      "state": {
       "description_width": ""
      }
     },
     "13eb7efb1d294d8390b86540aaaeeb07": {
      "model_module": "@jupyter-widgets/base",
      "model_module_version": "1.2.0",
      "model_name": "LayoutModel",
      "state": {}
     },
     "1853fc5fe063493d8b639352ab0b91ed": {
      "model_module": "@jupyter-widgets/controls",
      "model_module_version": "1.5.0",
      "model_name": "SliderStyleModel",
      "state": {
       "description_width": ""
      }
     },
     "193999abd18c472290531634f97a9151": {
      "model_module": "@jupyter-widgets/controls",
      "model_module_version": "1.5.0",
      "model_name": "SliderStyleModel",
      "state": {
       "description_width": ""
      }
     },
     "1a64e0ce6c304aaf9e2bc57296ddb455": {
      "model_module": "@jupyter-widgets/base",
      "model_module_version": "1.2.0",
      "model_name": "LayoutModel",
      "state": {}
     },
     "1c90c756572546b39e4ed98007b8f9b7": {
      "model_module": "@jupyter-widgets/controls",
      "model_module_version": "1.5.0",
      "model_name": "IntSliderModel",
      "state": {
       "description": "index",
       "layout": "IPY_MODEL_db82671388d349079324a42ea2dc8935",
       "max": 370,
       "style": "IPY_MODEL_193999abd18c472290531634f97a9151"
      }
     },
     "1f898984afc444e49b13dc17023418de": {
      "model_module": "@jupyter-widgets/base",
      "model_module_version": "1.2.0",
      "model_name": "LayoutModel",
      "state": {}
     },
     "20e610f9f2ba427eaec9ddd66fabe88c": {
      "model_module": "@jupyter-widgets/output",
      "model_module_version": "1.0.0",
      "model_name": "OutputModel",
      "state": {
       "layout": "IPY_MODEL_c379bbdba72347b7907066413e2878ca",
       "outputs": [
        {
         "name": "stdout",
         "output_type": "stream",
         "text": "ID: 70e7bd2f-b69a-4208-945e-0d107daea485\n\nMetadata: {'filename': 'data/bbc/business/226.txt'}\n\nmcdonalds to sponsor mtv show mcdonalds the worlds largest restaurant chain is to sponsor programme on music channel mtv as part of its latest youth market promotion the show advance warning highlights new talent and mtv reckons it will give mcdonalds access to nearly million homes in countries mcdonalds golden arches name and im loving it catchphrase will be used throughout the half-hour programme the move comes amid growing concerns about obesity in europe and the us the european union has called on the food industry to reduce the number of adverts aimed at young children warning that legislation would be introduced unless voluntary steps were taken in the us food group kraft is among firms that already have cut back on promoting sugar and fattening products to the young mcdonalds has also been taking steps to improve its junk food reputation revamping its menu and providing clients with health-related products such as pedometers as well as burgers like the big mac and quarter pounder with cheese the company now sells healthier options such as salads and fresh fruit chief_executive jim skinner attributed an increase in january worldwide sales to the vitality of our menu among other things hooking up with mtv is expected to add extra momentum to mcdonalds recent revival mtv which played key role in the emergence of the music video is to show advance warning on all of its channels across the world the programme can at present only been seen in the us where it has featured artists like british stars joss_stone and franz_ferdinand mcdonalds has targeted the youth market in the past with its advertisements signing up stars like jelly-legged dancer justin_timberlake and all-woman singing group destinys child\n\n[(4, 0.2849612236022949),\n (1, 0.24935834109783173),\n (6, 0.19333449006080627),\n (9, 0.13949696719646454),\n (8, 0.12418993562459946),\n (5, 0.00836983323097229),\n (7, 9.747652075020596e-05),\n (10, 7.284103048732504e-05),\n (2, 6.673431198578328e-05),\n (3, 5.224308551987633e-05)]\n"
        }
       ]
      }
     },
     "23c2e3055cdd4b0fb5ade54f47417ae4": {
      "model_module": "@jupyter-widgets/controls",
      "model_module_version": "1.5.0",
      "model_name": "VBoxModel",
      "state": {
       "_dom_classes": [
        "widget-interact"
       ],
       "children": [
        "IPY_MODEL_9636b5d65c6c45df80d319d5ae4775a8",
        "IPY_MODEL_963c8fb4d7e24e14b38a4ef5f44001e5"
       ],
       "layout": "IPY_MODEL_b5cc154c0da84a9b95e463fe55e0d966"
      }
     },
     "2687dafe6bdd4989aefa5fbcbdadabbb": {
      "model_module": "@jupyter-widgets/controls",
      "model_module_version": "1.5.0",
      "model_name": "IntSliderModel",
      "state": {
       "description": "index",
       "layout": "IPY_MODEL_792266eafff642f08f0368a1d69f52af",
       "max": 370,
       "style": "IPY_MODEL_bb6adc68372249d19d80228eca6bc67f"
      }
     },
     "2896be96c96347bf817db5ecbe5c71de": {
      "model_module": "@jupyter-widgets/output",
      "model_module_version": "1.0.0",
      "model_name": "OutputModel",
      "state": {
       "layout": "IPY_MODEL_d7067719fd6141a4aea97be115bd8f95",
       "outputs": [
        {
         "name": "stdout",
         "output_type": "stream",
         "text": "ID: 70e7bd2f-b69a-4208-945e-0d107daea485\n\nMetadata: {'filename': 'data/bbc/business/226.txt'}\n\nmcdonalds to sponsor mtv show mcdonalds the worlds largest restaurant chain is to sponsor programme on music channel mtv as part of its latest youth market promotion the show advance warning highlights new talent and mtv reckons it will give mcdonalds access to nearly million homes in countries mcdonalds golden arches name and im loving it catchphrase will be used throughout the half-hour programme the move comes amid growing concerns about obesity in europe and the us the european union has called on the food industry to reduce the number of adverts aimed at young children warning that legislation would be introduced unless voluntary steps were taken in the us food group kraft is among firms that already have cut back on promoting sugar and fattening products to the young mcdonalds has also been taking steps to improve its junk food reputation revamping its menu and providing clients with health-related products such as pedometers as well as burgers like the big mac and quarter pounder with cheese the company now sells healthier options such as salads and fresh fruit chief_executive jim skinner attributed an increase in january worldwide sales to the vitality of our menu among other things hooking up with mtv is expected to add extra momentum to mcdonalds recent revival mtv which played key role in the emergence of the music video is to show advance warning on all of its channels across the world the programme can at present only been seen in the us where it has featured artists like british stars joss_stone and franz_ferdinand mcdonalds has targeted the youth market in the past with its advertisements signing up stars like jelly-legged dancer justin_timberlake and all-woman singing group destinys child\n\n[(4, 0.2849612236022949),\n (1, 0.24935834109783173),\n (6, 0.19333449006080627),\n (9, 0.13949696719646454),\n (8, 0.12418993562459946),\n (5, 0.00836983323097229),\n (7, 9.747652075020596e-05),\n (10, 7.284103048732504e-05),\n (2, 6.673431198578328e-05),\n (3, 5.224308551987633e-05)]\n"
        }
       ]
      }
     },
     "2a8c772c816c4759b5e483dc11a30e37": {
      "model_module": "@jupyter-widgets/base",
      "model_module_version": "1.2.0",
      "model_name": "LayoutModel",
      "state": {}
     },
     "2ad83e23142e41d698058fa3d8750f81": {
      "model_module": "@jupyter-widgets/controls",
      "model_module_version": "1.5.0",
      "model_name": "VBoxModel",
      "state": {
       "_dom_classes": [
        "widget-interact"
       ],
       "children": [
        "IPY_MODEL_2c9d67de255b46c98008b1ebe5572d21",
        "IPY_MODEL_77194e0350834514adcf86e232f0a31a"
       ],
       "layout": "IPY_MODEL_c7bc15d005d347e5923bea1b4d0a6350"
      }
     },
     "2c9d67de255b46c98008b1ebe5572d21": {
      "model_module": "@jupyter-widgets/controls",
      "model_module_version": "1.5.0",
      "model_name": "IntSliderModel",
      "state": {
       "description": "index",
       "layout": "IPY_MODEL_81a27238f01b4ef5ad29b75dce2d4e41",
       "max": 370,
       "style": "IPY_MODEL_f5312b7de1c04925b4cae035683b64fd"
      }
     },
     "2e381aa08f0f498f97bdc2a2aae009da": {
      "model_module": "@jupyter-widgets/controls",
      "model_module_version": "1.5.0",
      "model_name": "VBoxModel",
      "state": {
       "_dom_classes": [
        "widget-interact"
       ],
       "children": [
        "IPY_MODEL_3a292d4848e340bbb03efcb44b4c5546",
        "IPY_MODEL_5259f03c2a4f4730902ea770b0867c84"
       ],
       "layout": "IPY_MODEL_0c6041bc44c44b2793dab67ad5b0794b"
      }
     },
     "300ddb0791ce4396893229818dff50e8": {
      "model_module": "@jupyter-widgets/output",
      "model_module_version": "1.0.0",
      "model_name": "OutputModel",
      "state": {
       "layout": "IPY_MODEL_510ec16b4b0c460395beef57d1b19385",
       "outputs": [
        {
         "name": "stdout",
         "output_type": "stream",
         "text": "{'filename': 'data/bbc/business/001.txt'}\n\nAd sales boost Time Warner profit\n\nQuarterly profits at US media giant TimeWarner jumped 76% to $1.13bn (Â£600m) for the three months to December, from $639m year-earlier.\n\nThe firm, which is now one of the biggest investors in Google, benefited from sales of high-speed internet connections and higher advert sales. TimeWarner said fourth quarter sales rose 2% to $11.1bn from $10.9bn. Its profits were buoyed by one-off gains which offset a profit dip at Warner Bros, and less users for AOL.\n\nTime Warner said on Friday that it now owns 8% of search-engine Google. But its own internet business, AOL, had has mixed fortunes. It lost 464,000 subscribers in the fourth quarter profits were lower than in the preceding three quarters. However, the company said AOL's underlying profit before exceptional items rose 8% on the back of stronger internet advertising revenues. It hopes to increase subscribers by offering the online service free to TimeWarner internet customers and will try to sign up AOL's existing customers for high-speed broadband. TimeWarner also has to restate 2000 and 2003 results following a probe by the US Securities Exchange Commission (SEC), which is close to concluding.\n\nTime Warner's fourth quarter profits were slightly better than analysts' expectations. But its film division saw profits slump 27% to $284m, helped by box-office flops Alexander and Catwoman, a sharp contrast to year-earlier, when the third and final film in the Lord of the Rings trilogy boosted results. For the full-year, TimeWarner posted a profit of $3.36bn, up 27% from its 2003 performance, while revenues grew 6.4% to $42.09bn. \"Our financial performance was strong, meeting or exceeding all of our full-year objectives and greatly enhancing our flexibility,\" chairman and chief executive Richard Parsons said. For 2005, TimeWarner is projecting operating earnings growth of around 5%, and also expects higher revenue and wider profit margins.\n\nTimeWarner is to restate its accounts as part of efforts to resolve an inquiry into AOL by US market regulators. It has already offered to pay $300m to settle charges, in a deal that is under review by the SEC. The company said it was unable to estimate the amount it needed to set aside for legal reserves, which it previously set at $500m. It intends to adjust the way it accounts for a deal with German music publisher Bertelsmann's purchase of a stake in AOL Europe, which it had reported as advertising revenue. It will now book the sale of its stake in AOL Europe as a loss on the value of that stake.\n\n"
        }
       ]
      }
     },
     "363d527b513e4ffab5f46f0a9cc2737b": {
      "model_module": "@jupyter-widgets/base",
      "model_module_version": "1.2.0",
      "model_name": "LayoutModel",
      "state": {}
     },
     "3a292d4848e340bbb03efcb44b4c5546": {
      "model_module": "@jupyter-widgets/controls",
      "model_module_version": "1.5.0",
      "model_name": "IntSliderModel",
      "state": {
       "description": "doc_id",
       "layout": "IPY_MODEL_9ed5f929f05949ca81047f3a84ae1e84",
       "max": 2224,
       "style": "IPY_MODEL_5c718fb3a6c54077b79a5a284570c0e0"
      }
     },
     "48016a552ad042d2bb8d1559c5c18465": {
      "model_module": "@jupyter-widgets/output",
      "model_module_version": "1.0.0",
      "model_name": "OutputModel",
      "state": {
       "layout": "IPY_MODEL_68a3f95f1b4f4ef3912fa720b0495cb6",
       "outputs": [
        {
         "name": "stdout",
         "output_type": "stream",
         "text": "ID: 70e7bd2f-b69a-4208-945e-0d107daea485\n\nMetadata: {'filename': 'data/bbc/business/226.txt'}\n\nmcdonalds to sponsor mtv show mcdonalds the worlds largest restaurant chain is to sponsor programme on music channel mtv as part of its latest youth market promotion the show advance warning highlights new talent and mtv reckons it will give mcdonalds access to nearly million homes in countries mcdonalds golden arches name and im loving it catchphrase will be used throughout the half-hour programme the move comes amid growing concerns about obesity in europe and the us the european union has called on the food industry to reduce the number of adverts aimed at young children warning that legislation would be introduced unless voluntary steps were taken in the us food group kraft is among firms that already have cut back on promoting sugar and fattening products to the young mcdonalds has also been taking steps to improve its junk food reputation revamping its menu and providing clients with health-related products such as pedometers as well as burgers like the big mac and quarter pounder with cheese the company now sells healthier options such as salads and fresh fruit chief_executive jim skinner attributed an increase in january worldwide sales to the vitality of our menu among other things hooking up with mtv is expected to add extra momentum to mcdonalds recent revival mtv which played key role in the emergence of the music video is to show advance warning on all of its channels across the world the programme can at present only been seen in the us where it has featured artists like british stars joss_stone and franz_ferdinand mcdonalds has targeted the youth market in the past with its advertisements signing up stars like jelly-legged dancer justin_timberlake and all-woman singing group destinys child\n\n[(4, 0.2849612236022949),\n (1, 0.24935834109783173),\n (6, 0.19333449006080627),\n (9, 0.13949696719646454),\n (8, 0.12418993562459946),\n (5, 0.00836983323097229),\n (7, 9.747652075020596e-05),\n (10, 7.284103048732504e-05),\n (2, 6.673431198578328e-05),\n (3, 5.224308551987633e-05)]\n"
        }
       ]
      }
     },
     "490561ff95494471857a4a285be74ca2": {
      "model_module": "@jupyter-widgets/controls",
      "model_module_version": "1.5.0",
      "model_name": "VBoxModel",
      "state": {
       "_dom_classes": [
        "widget-interact"
       ],
       "children": [
        "IPY_MODEL_92ea53d097714c179d9aeebdc0d97c6b",
        "IPY_MODEL_853d9fa3e3f0408ea6ff1747246a44df"
       ],
       "layout": "IPY_MODEL_9ec89b76e50e4dd485f92e5910d6940c"
      }
     },
     "4a3ed32352254eeebe3368a117a9a382": {
      "model_module": "@jupyter-widgets/controls",
      "model_module_version": "1.5.0",
      "model_name": "SliderStyleModel",
      "state": {
       "description_width": ""
      }
     },
     "4a8c30b2cc3d46f0bf7c61fdcb53cf9a": {
      "model_module": "@jupyter-widgets/controls",
      "model_module_version": "1.5.0",
      "model_name": "SliderStyleModel",
      "state": {
       "description_width": ""
      }
     },
     "4df391293247441dba818e14d38af8ea": {
      "model_module": "@jupyter-widgets/base",
      "model_module_version": "1.2.0",
      "model_name": "LayoutModel",
      "state": {}
     },
     "510ec16b4b0c460395beef57d1b19385": {
      "model_module": "@jupyter-widgets/base",
      "model_module_version": "1.2.0",
      "model_name": "LayoutModel",
      "state": {}
     },
     "519a00c1c6074ba98bbfcfe05314e4f8": {
      "model_module": "@jupyter-widgets/base",
      "model_module_version": "1.2.0",
      "model_name": "LayoutModel",
      "state": {}
     },
     "5259f03c2a4f4730902ea770b0867c84": {
      "model_module": "@jupyter-widgets/output",
      "model_module_version": "1.0.0",
      "model_name": "OutputModel",
      "state": {
       "layout": "IPY_MODEL_1f898984afc444e49b13dc17023418de",
       "outputs": [
        {
         "name": "stdout",
         "output_type": "stream",
         "text": "{'filename': 'data/bbc/business/001.txt'}\n\nad sales boost time warner profit quarterly profits at us media giant timewarner jumped to $1.13bn â£600m for the three months to december from $639m year-earlier the firm which is now one of the biggest investors in google benefited from sales of high-speed internet connections and higher advert sales timewarner said fourth quarter sales rose to $11.1bn from $10.9bn its profits were buoyed by one-off gains which offset profit dip at warner bros and less users for aol time warner said on friday that it now owns of search-engine google but its own internet business aol had has mixed fortunes it lost subscribers in the fourth quarter profits were lower than in the preceding three quarters however the company said aols underlying profit before exceptional items rose on the back of stronger internet advertising revenues it hopes to increase subscribers by offering the online service free to timewarner internet customers and will try to sign up aols existing customers for high-speed broadband timewarner also has to restate and results following probe by the us securities exchange commission sec which is close to concluding time warners fourth quarter profits were slightly better than analysts expectations but its film division saw profits slump to $284m helped by box-office flops alexander and catwoman sharp contrast to year-earlier when the third and final film in the lord_of_the_rings trilogy boosted results for the full-year timewarner posted profit of $3.36bn up from its performance while revenues grew to $42.09bn our financial performance was strong meeting or exceeding all of our full-year objectives and greatly enhancing our flexibility chairman and chief_executive richard parsons said for timewarner is projecting operating earnings growth of around and also expects higher revenue and wider profit margins timewarner is to restate its accounts as part of efforts to resolve an inquiry into aol by us market regulators it has already offered to pay $300m to settle charges in deal that is under review by the sec the company said it was unable to estimate the amount it needed to set aside for legal reserves which it previously set at $500m it intends to adjust the way it accounts for deal with german music publisher bertelsmanns purchase of stake in aol europe which it had reported as advertising revenue it will now book the sale of its stake in aol europe as loss on the value of that stake\n"
        }
       ]
      }
     },
     "5398c3203f294e11b8a00519d052663f": {
      "model_module": "@jupyter-widgets/base",
      "model_module_version": "1.2.0",
      "model_name": "LayoutModel",
      "state": {}
     },
     "5406392c76344d5792e38f0ef963b0ce": {
      "model_module": "@jupyter-widgets/output",
      "model_module_version": "1.0.0",
      "model_name": "OutputModel",
      "state": {
       "layout": "IPY_MODEL_665de1677c814f52a4b084e82d8c2878",
       "outputs": [
        {
         "name": "stdout",
         "output_type": "stream",
         "text": "ID: 70e7bd2f-b69a-4208-945e-0d107daea485\n\nMetadata: {'filename': 'data/bbc/business/226.txt'}\n\nmcdonalds to sponsor mtv show mcdonalds the worlds largest restaurant chain is to sponsor programme on music channel mtv as part of its latest youth market promotion the show advance warning highlights new talent and mtv reckons it will give mcdonalds access to nearly million homes in countries mcdonalds golden arches name and im loving it catchphrase will be used throughout the half-hour programme the move comes amid growing concerns about obesity in europe and the us the european union has called on the food industry to reduce the number of adverts aimed at young children warning that legislation would be introduced unless voluntary steps were taken in the us food group kraft is among firms that already have cut back on promoting sugar and fattening products to the young mcdonalds has also been taking steps to improve its junk food reputation revamping its menu and providing clients with health-related products such as pedometers as well as burgers like the big mac and quarter pounder with cheese the company now sells healthier options such as salads and fresh fruit chief_executive jim skinner attributed an increase in january worldwide sales to the vitality of our menu among other things hooking up with mtv is expected to add extra momentum to mcdonalds recent revival mtv which played key role in the emergence of the music video is to show advance warning on all of its channels across the world the programme can at present only been seen in the us where it has featured artists like british stars joss_stone and franz_ferdinand mcdonalds has targeted the youth market in the past with its advertisements signing up stars like jelly-legged dancer justin_timberlake and all-woman singing group destinys child\n\n[(4, 0.2849612236022949),\n (1, 0.24935834109783173),\n (6, 0.19333449006080627),\n (9, 0.13949696719646454),\n (8, 0.12418993562459946),\n (5, 0.00836983323097229),\n (7, 9.747652075020596e-05),\n (10, 7.284103048732504e-05),\n (2, 6.673431198578328e-05),\n (3, 5.224308551987633e-05)]\n"
        }
       ]
      }
     },
     "596c9f0a5ee54976b5c305733046eb20": {
      "model_module": "@jupyter-widgets/controls",
      "model_module_version": "1.5.0",
      "model_name": "VBoxModel",
      "state": {
       "_dom_classes": [
        "widget-interact"
       ],
       "children": [
        "IPY_MODEL_72c64a752960491d904da0ddbdf4798b",
        "IPY_MODEL_972d09b6a6024423a6de54b5f13114a5"
       ],
       "layout": "IPY_MODEL_c8473dedaa18462dbd9ed2df63cffc33"
      }
     },
     "5a47d5a539584cd7bbb3169fda2e907a": {
      "model_module": "@jupyter-widgets/base",
      "model_module_version": "1.2.0",
      "model_name": "LayoutModel",
      "state": {}
     },
     "5c718fb3a6c54077b79a5a284570c0e0": {
      "model_module": "@jupyter-widgets/controls",
      "model_module_version": "1.5.0",
      "model_name": "SliderStyleModel",
      "state": {
       "description_width": ""
      }
     },
     "5dd47c85142c4e8db4b4e27838057f65": {
      "model_module": "@jupyter-widgets/base",
      "model_module_version": "1.2.0",
      "model_name": "LayoutModel",
      "state": {}
     },
     "665de1677c814f52a4b084e82d8c2878": {
      "model_module": "@jupyter-widgets/base",
      "model_module_version": "1.2.0",
      "model_name": "LayoutModel",
      "state": {}
     },
     "676a37b257694524bc023f19f0ddc486": {
      "model_module": "@jupyter-widgets/base",
      "model_module_version": "1.2.0",
      "model_name": "LayoutModel",
      "state": {}
     },
     "67accd8003464d898c0bab79dd90ddc2": {
      "model_module": "@jupyter-widgets/output",
      "model_module_version": "1.0.0",
      "model_name": "OutputModel",
      "state": {
       "layout": "IPY_MODEL_d01abdd844094c9ca7ce2f9f4e442cfb",
       "outputs": [
        {
         "name": "stdout",
         "output_type": "stream",
         "text": "ID: 70e7bd2f-b69a-4208-945e-0d107daea485\n\nMetadata: {'filename': 'data/bbc/business/226.txt'}\n\nmcdonalds to sponsor mtv show mcdonalds the worlds largest restaurant chain is to sponsor programme on music channel mtv as part of its latest youth market promotion the show advance warning highlights new talent and mtv reckons it will give mcdonalds access to nearly million homes in countries mcdonalds golden arches name and im loving it catchphrase will be used throughout the half-hour programme the move comes amid growing concerns about obesity in europe and the us the european union has called on the food industry to reduce the number of adverts aimed at young children warning that legislation would be introduced unless voluntary steps were taken in the us food group kraft is among firms that already have cut back on promoting sugar and fattening products to the young mcdonalds has also been taking steps to improve its junk food reputation revamping its menu and providing clients with health-related products such as pedometers as well as burgers like the big mac and quarter pounder with cheese the company now sells healthier options such as salads and fresh fruit chief_executive jim skinner attributed an increase in january worldwide sales to the vitality of our menu among other things hooking up with mtv is expected to add extra momentum to mcdonalds recent revival mtv which played key role in the emergence of the music video is to show advance warning on all of its channels across the world the programme can at present only been seen in the us where it has featured artists like british stars joss_stone and franz_ferdinand mcdonalds has targeted the youth market in the past with its advertisements signing up stars like jelly-legged dancer justin_timberlake and all-woman singing group destinys child\n\n[(4, 0.2849612236022949),\n (1, 0.24935834109783173),\n (6, 0.19333449006080627),\n (9, 0.13949696719646454),\n (8, 0.12418993562459946),\n (5, 0.00836983323097229),\n (7, 9.747652075020596e-05),\n (10, 7.284103048732504e-05),\n (2, 6.673431198578328e-05),\n (3, 5.224308551987633e-05)]\n"
        }
       ]
      }
     },
     "680aadc6311a4aab8a86f87343d9fe3d": {
      "model_module": "@jupyter-widgets/base",
      "model_module_version": "1.2.0",
      "model_name": "LayoutModel",
      "state": {}
     },
     "68a3f95f1b4f4ef3912fa720b0495cb6": {
      "model_module": "@jupyter-widgets/base",
      "model_module_version": "1.2.0",
      "model_name": "LayoutModel",
      "state": {}
     },
     "690e8ae07de54a8ea2a962a07894566e": {
      "model_module": "@jupyter-widgets/controls",
      "model_module_version": "1.5.0",
      "model_name": "IntSliderModel",
      "state": {
       "description": "index",
       "layout": "IPY_MODEL_6fd580fb594e4fd89ce9b0bb19665a69",
       "max": 370,
       "style": "IPY_MODEL_6bc797c38d5044058070673ad92b21bb"
      }
     },
     "6bc797c38d5044058070673ad92b21bb": {
      "model_module": "@jupyter-widgets/controls",
      "model_module_version": "1.5.0",
      "model_name": "SliderStyleModel",
      "state": {
       "description_width": ""
      }
     },
     "6c64328a7d6b4433b0dd606a8b9dc44c": {
      "model_module": "@jupyter-widgets/base",
      "model_module_version": "1.2.0",
      "model_name": "LayoutModel",
      "state": {}
     },
     "6e2d7a2b5ae14a82bc6493af5230b988": {
      "model_module": "@jupyter-widgets/base",
      "model_module_version": "1.2.0",
      "model_name": "LayoutModel",
      "state": {}
     },
     "6fd580fb594e4fd89ce9b0bb19665a69": {
      "model_module": "@jupyter-widgets/base",
      "model_module_version": "1.2.0",
      "model_name": "LayoutModel",
      "state": {}
     },
     "711ddd4ec3f34ce59dae8a3f421ed0dd": {
      "model_module": "@jupyter-widgets/output",
      "model_module_version": "1.0.0",
      "model_name": "OutputModel",
      "state": {
       "layout": "IPY_MODEL_a1f16a1df61940cbad034131f93a388e",
       "outputs": [
        {
         "name": "stdout",
         "output_type": "stream",
         "text": "ID: 70e7bd2f-b69a-4208-945e-0d107daea485\n\nMetadata: {'filename': 'data/bbc/business/226.txt'}\n\nmcdonalds to sponsor mtv show mcdonalds the worlds largest restaurant chain is to sponsor programme on music channel mtv as part of its latest youth market promotion the show advance warning highlights new talent and mtv reckons it will give mcdonalds access to nearly million homes in countries mcdonalds golden arches name and im loving it catchphrase will be used throughout the half-hour programme the move comes amid growing concerns about obesity in europe and the us the european union has called on the food industry to reduce the number of adverts aimed at young children warning that legislation would be introduced unless voluntary steps were taken in the us food group kraft is among firms that already have cut back on promoting sugar and fattening products to the young mcdonalds has also been taking steps to improve its junk food reputation revamping its menu and providing clients with health-related products such as pedometers as well as burgers like the big mac and quarter pounder with cheese the company now sells healthier options such as salads and fresh fruit chief_executive jim skinner attributed an increase in january worldwide sales to the vitality of our menu among other things hooking up with mtv is expected to add extra momentum to mcdonalds recent revival mtv which played key role in the emergence of the music video is to show advance warning on all of its channels across the world the programme can at present only been seen in the us where it has featured artists like british stars joss_stone and franz_ferdinand mcdonalds has targeted the youth market in the past with its advertisements signing up stars like jelly-legged dancer justin_timberlake and all-woman singing group destinys child\n\n[(4, 0.2849612236022949),\n (1, 0.24935834109783173),\n (6, 0.19333449006080627),\n (9, 0.13949696719646454),\n (8, 0.12418993562459946),\n (5, 0.00836983323097229),\n (7, 9.747652075020596e-05),\n (10, 7.284103048732504e-05),\n (2, 6.673431198578328e-05),\n (3, 5.224308551987633e-05)]\n"
        }
       ]
      }
     },
     "72c64a752960491d904da0ddbdf4798b": {
      "model_module": "@jupyter-widgets/controls",
      "model_module_version": "1.5.0",
      "model_name": "IntSliderModel",
      "state": {
       "description": "doc_id",
       "layout": "IPY_MODEL_4df391293247441dba818e14d38af8ea",
       "max": 2224,
       "style": "IPY_MODEL_4a3ed32352254eeebe3368a117a9a382"
      }
     },
     "74d79716b3b0483b8efc190a77f151de": {
      "model_module": "@jupyter-widgets/base",
      "model_module_version": "1.2.0",
      "model_name": "LayoutModel",
      "state": {}
     },
     "77194e0350834514adcf86e232f0a31a": {
      "model_module": "@jupyter-widgets/output",
      "model_module_version": "1.0.0",
      "model_name": "OutputModel",
      "state": {
       "layout": "IPY_MODEL_676a37b257694524bc023f19f0ddc486",
       "outputs": [
        {
         "name": "stdout",
         "output_type": "stream",
         "text": "ID: 70e7bd2f-b69a-4208-945e-0d107daea485\n\nMetadata: {'filename': 'data/bbc/business/226.txt'}\n\nmcdonalds to sponsor mtv show mcdonalds the worlds largest restaurant chain is to sponsor programme on music channel mtv as part of its latest youth market promotion the show advance warning highlights new talent and mtv reckons it will give mcdonalds access to nearly million homes in countries mcdonalds golden arches name and im loving it catchphrase will be used throughout the half-hour programme the move comes amid growing concerns about obesity in europe and the us the european union has called on the food industry to reduce the number of adverts aimed at young children warning that legislation would be introduced unless voluntary steps were taken in the us food group kraft is among firms that already have cut back on promoting sugar and fattening products to the young mcdonalds has also been taking steps to improve its junk food reputation revamping its menu and providing clients with health-related products such as pedometers as well as burgers like the big mac and quarter pounder with cheese the company now sells healthier options such as salads and fresh fruit chief_executive jim skinner attributed an increase in january worldwide sales to the vitality of our menu among other things hooking up with mtv is expected to add extra momentum to mcdonalds recent revival mtv which played key role in the emergence of the music video is to show advance warning on all of its channels across the world the programme can at present only been seen in the us where it has featured artists like british stars joss_stone and franz_ferdinand mcdonalds has targeted the youth market in the past with its advertisements signing up stars like jelly-legged dancer justin_timberlake and all-woman singing group destinys child\n\n[(4, 0.2849612236022949),\n (1, 0.24935834109783173),\n (6, 0.19333449006080627),\n (9, 0.13949696719646454),\n (8, 0.12418993562459946),\n (5, 0.00836983323097229),\n (7, 9.747652075020596e-05),\n (10, 7.284103048732504e-05),\n (2, 6.673431198578328e-05),\n (3, 5.224308551987633e-05)]\n"
        }
       ]
      }
     },
     "792266eafff642f08f0368a1d69f52af": {
      "model_module": "@jupyter-widgets/base",
      "model_module_version": "1.2.0",
      "model_name": "LayoutModel",
      "state": {}
     },
     "7ee0cce1eda8470caabe7835136e5f3a": {
      "model_module": "@jupyter-widgets/base",
      "model_module_version": "1.2.0",
      "model_name": "LayoutModel",
      "state": {}
     },
     "7f8e44ba6e234d9d99549134f6979904": {
      "model_module": "@jupyter-widgets/base",
      "model_module_version": "1.2.0",
      "model_name": "LayoutModel",
      "state": {}
     },
     "81a27238f01b4ef5ad29b75dce2d4e41": {
      "model_module": "@jupyter-widgets/base",
      "model_module_version": "1.2.0",
      "model_name": "LayoutModel",
      "state": {}
     },
     "853d9fa3e3f0408ea6ff1747246a44df": {
      "model_module": "@jupyter-widgets/output",
      "model_module_version": "1.0.0",
      "model_name": "OutputModel",
      "state": {
       "layout": "IPY_MODEL_6c64328a7d6b4433b0dd606a8b9dc44c",
       "outputs": [
        {
         "name": "stdout",
         "output_type": "stream",
         "text": "ID: 70e7bd2f-b69a-4208-945e-0d107daea485\n\nMetadata: {'filename': 'data/bbc/business/226.txt'}\n\nmcdonalds to sponsor mtv show mcdonalds the worlds largest restaurant chain is to sponsor programme on music channel mtv as part of its latest youth market promotion the show advance warning highlights new talent and mtv reckons it will give mcdonalds access to nearly million homes in countries mcdonalds golden arches name and im loving it catchphrase will be used throughout the half-hour programme the move comes amid growing concerns about obesity in europe and the us the european union has called on the food industry to reduce the number of adverts aimed at young children warning that legislation would be introduced unless voluntary steps were taken in the us food group kraft is among firms that already have cut back on promoting sugar and fattening products to the young mcdonalds has also been taking steps to improve its junk food reputation revamping its menu and providing clients with health-related products such as pedometers as well as burgers like the big mac and quarter pounder with cheese the company now sells healthier options such as salads and fresh fruit chief_executive jim skinner attributed an increase in january worldwide sales to the vitality of our menu among other things hooking up with mtv is expected to add extra momentum to mcdonalds recent revival mtv which played key role in the emergence of the music video is to show advance warning on all of its channels across the world the programme can at present only been seen in the us where it has featured artists like british stars joss_stone and franz_ferdinand mcdonalds has targeted the youth market in the past with its advertisements signing up stars like jelly-legged dancer justin_timberlake and all-woman singing group destinys child\n\n[(4, 0.2849612236022949),\n (1, 0.24935834109783173),\n (6, 0.19333449006080627),\n (9, 0.13949696719646454),\n (8, 0.12418993562459946),\n (5, 0.00836983323097229),\n (7, 9.747652075020596e-05),\n (10, 7.284103048732504e-05),\n (2, 6.673431198578328e-05),\n (3, 5.224308551987633e-05)]\n"
        }
       ]
      }
     },
     "86c381f1f5fd48baafaadd49828f41d8": {
      "model_module": "@jupyter-widgets/controls",
      "model_module_version": "1.5.0",
      "model_name": "IntSliderModel",
      "state": {
       "description": "index",
       "layout": "IPY_MODEL_2a8c772c816c4759b5e483dc11a30e37",
       "max": 370,
       "style": "IPY_MODEL_113de4bd821446a8ae532669209ad667"
      }
     },
     "8ccb4b4346004a5bbb8f5aabb1bcdef7": {
      "model_module": "@jupyter-widgets/base",
      "model_module_version": "1.2.0",
      "model_name": "LayoutModel",
      "state": {}
     },
     "8d795a6ebabf4a5ebdf4ddb9e6aa5cd0": {
      "model_module": "@jupyter-widgets/controls",
      "model_module_version": "1.5.0",
      "model_name": "SliderStyleModel",
      "state": {
       "description_width": ""
      }
     },
     "92ea53d097714c179d9aeebdc0d97c6b": {
      "model_module": "@jupyter-widgets/controls",
      "model_module_version": "1.5.0",
      "model_name": "IntSliderModel",
      "state": {
       "description": "index",
       "layout": "IPY_MODEL_cb6837459fd747f3a8d3429af143b519",
       "max": 370,
       "style": "IPY_MODEL_0300157e7e12417f9f4234fcd0e3219f"
      }
     },
     "9636b5d65c6c45df80d319d5ae4775a8": {
      "model_module": "@jupyter-widgets/controls",
      "model_module_version": "1.5.0",
      "model_name": "IntSliderModel",
      "state": {
       "description": "doc_id",
       "layout": "IPY_MODEL_13eb7efb1d294d8390b86540aaaeeb07",
       "max": 2224,
       "style": "IPY_MODEL_0176bce07868479ba1260626d7e96ae2"
      }
     },
     "963c8fb4d7e24e14b38a4ef5f44001e5": {
      "model_module": "@jupyter-widgets/output",
      "model_module_version": "1.0.0",
      "model_name": "OutputModel",
      "state": {
       "layout": "IPY_MODEL_c7609d692cbd4e8e967cb8cbd2357b69",
       "outputs": [
        {
         "name": "stdout",
         "output_type": "stream",
         "text": "{'filename': 'data/bbc/business/001.txt'}\n\nad sales boost time warner profit quarterly profits at us media giant timewarner jumped 76% to $1.13bn â£600m for the three months to december from $639m year-earlier the firm which is now one of the biggest investors in google benefited from sales of high-speed internet connections and higher advert sales timewarner said fourth quarter sales rose 2% to $11.1bn from $10.9bn its profits were buoyed by one-off gains which offset a profit dip at warner bros and less users for aol time warner said on friday that it now owns 8% of search-engine google but its own internet business aol had has mixed fortunes it lost 464,000 subscribers in the fourth quarter profits were lower than in the preceding three quarters however the company said aols underlying profit before exceptional items rose 8% on the back of stronger internet advertising revenues it hopes to increase subscribers by offering the online service free to timewarner internet customers and will try to sign up aols existing customers for high-speed broadband timewarner also has to restate 2000 and 2003 results following a probe by the us securities exchange commission sec which is close to concluding time warners fourth quarter profits were slightly better than analysts expectations but its film division saw profits slump 27% to $284m helped by box-office flops alexander and catwoman a sharp contrast to year-earlier when the third and final film in the lord_of_the_rings trilogy boosted results for the full-year timewarner posted a profit of $3.36bn up 27% from its 2003 performance while revenues grew 6.4% to $42.09bn our financial performance was strong meeting or exceeding all of our full-year objectives and greatly enhancing our flexibility chairman and chief_executive richard parsons said for 2005 timewarner is projecting operating earnings growth of around 5% and also expects higher revenue and wider profit margins timewarner is to restate its accounts as part of efforts to resolve an inquiry into aol by us market regulators it has already offered to pay $300m to settle charges in a deal that is under review by the sec the company said it was unable to estimate the amount it needed to set aside for legal reserves which it previously set at $500m it intends to adjust the way it accounts for a deal with german music publisher bertelsmanns purchase of a stake in aol europe which it had reported as advertising revenue it will now book the sale of its stake in aol europe as a loss on the value of that stake\n"
        }
       ]
      }
     },
     "972d09b6a6024423a6de54b5f13114a5": {
      "model_module": "@jupyter-widgets/output",
      "model_module_version": "1.0.0",
      "model_name": "OutputModel",
      "state": {
       "layout": "IPY_MODEL_6e2d7a2b5ae14a82bc6493af5230b988",
       "outputs": [
        {
         "name": "stdout",
         "output_type": "stream",
         "text": "{'filename': 'data/bbc/business/001.txt'}\n\nad sales boost time warner profit quarterly profits at us media giant timewarner jumped 76% to $1.13bn â£600m for the three months to december from $639m year-earlier the firm which is now one of the biggest investors in google benefited from sales of high-speed internet connections and higher advert sales timewarner said fourth quarter sales rose 2% to $11.1bn from $10.9bn its profits were buoyed by one-off gains which offset a profit dip at warner bros and less users for aol time warner said on friday that it now owns 8% of search-engine google but its own internet business aol had has mixed fortunes it lost 464,000 subscribers in the fourth quarter profits were lower than in the preceding three quarters however the company said aols underlying profit before exceptional items rose 8% on the back of stronger internet advertising revenues it hopes to increase subscribers by offering the online service free to timewarner internet customers and will try to sign up aols existing customers for high-speed broadband timewarner also has to restate 2000 and 2003 results following a probe by the us securities exchange commission sec which is close to concluding time warners fourth quarter profits were slightly better than analysts expectations but its film division saw profits slump 27% to $284m helped by box-office flops alexander and catwoman a sharp contrast to year-earlier when the third and final film in the lord of the rings trilogy boosted results for the full-year timewarner posted a profit of $3.36bn up 27% from its 2003 performance while revenues grew 6.4% to $42.09bn our financial performance was strong meeting or exceeding all of our full-year objectives and greatly enhancing our flexibility chairman and chief executive richard parsons said for 2005 timewarner is projecting operating earnings growth of around 5% and also expects higher revenue and wider profit margins timewarner is to restate its accounts as part of efforts to resolve an inquiry into aol by us market regulators it has already offered to pay $300m to settle charges in a deal that is under review by the sec the company said it was unable to estimate the amount it needed to set aside for legal reserves which it previously set at $500m it intends to adjust the way it accounts for a deal with german music publisher bertelsmanns purchase of a stake in aol europe which it had reported as advertising revenue it will now book the sale of its stake in aol europe as a loss on the value of that stake\n"
        }
       ]
      }
     },
     "99eddf6331cd43acadcbc4fb4e92c93c": {
      "model_module": "@jupyter-widgets/base",
      "model_module_version": "1.2.0",
      "model_name": "LayoutModel",
      "state": {}
     },
     "9aa7a1095dfa4ba1ac4da58f6ee815fa": {
      "model_module": "@jupyter-widgets/controls",
      "model_module_version": "1.5.0",
      "model_name": "SliderStyleModel",
      "state": {
       "description_width": ""
      }
     },
     "9ec89b76e50e4dd485f92e5910d6940c": {
      "model_module": "@jupyter-widgets/base",
      "model_module_version": "1.2.0",
      "model_name": "LayoutModel",
      "state": {}
     },
     "9ed5f929f05949ca81047f3a84ae1e84": {
      "model_module": "@jupyter-widgets/base",
      "model_module_version": "1.2.0",
      "model_name": "LayoutModel",
      "state": {}
     },
     "9ff4b57b808a4e0b9e7f60a8a6cb5aff": {
      "model_module": "@jupyter-widgets/controls",
      "model_module_version": "1.5.0",
      "model_name": "VBoxModel",
      "state": {
       "_dom_classes": [
        "widget-interact"
       ],
       "children": [
        "IPY_MODEL_2687dafe6bdd4989aefa5fbcbdadabbb",
        "IPY_MODEL_a6218002477e49109859d0f09dddf9ec"
       ],
       "layout": "IPY_MODEL_8ccb4b4346004a5bbb8f5aabb1bcdef7"
      }
     },
     "a1f16a1df61940cbad034131f93a388e": {
      "model_module": "@jupyter-widgets/base",
      "model_module_version": "1.2.0",
      "model_name": "LayoutModel",
      "state": {}
     },
     "a4811226021146e9b9cde3ad3284c05a": {
      "model_module": "@jupyter-widgets/controls",
      "model_module_version": "1.5.0",
      "model_name": "VBoxModel",
      "state": {
       "_dom_classes": [
        "widget-interact"
       ],
       "children": [
        "IPY_MODEL_aa3e4a64c9ec4283a5a18ac49a1fcea5",
        "IPY_MODEL_67accd8003464d898c0bab79dd90ddc2"
       ],
       "layout": "IPY_MODEL_5398c3203f294e11b8a00519d052663f"
      }
     },
     "a6218002477e49109859d0f09dddf9ec": {
      "model_module": "@jupyter-widgets/output",
      "model_module_version": "1.0.0",
      "model_name": "OutputModel",
      "state": {
       "layout": "IPY_MODEL_74d79716b3b0483b8efc190a77f151de",
       "outputs": [
        {
         "name": "stdout",
         "output_type": "stream",
         "text": "ID: 70e7bd2f-b69a-4208-945e-0d107daea485\n\nMetadata: {'filename': 'data/bbc/business/226.txt'}\n\nmcdonalds to sponsor mtv show mcdonalds the worlds largest restaurant chain is to sponsor programme on music channel mtv as part of its latest youth market promotion the show advance warning highlights new talent and mtv reckons it will give mcdonalds access to nearly million homes in countries mcdonalds golden arches name and im loving it catchphrase will be used throughout the half-hour programme the move comes amid growing concerns about obesity in europe and the us the european union has called on the food industry to reduce the number of adverts aimed at young children warning that legislation would be introduced unless voluntary steps were taken in the us food group kraft is among firms that already have cut back on promoting sugar and fattening products to the young mcdonalds has also been taking steps to improve its junk food reputation revamping its menu and providing clients with health-related products such as pedometers as well as burgers like the big mac and quarter pounder with cheese the company now sells healthier options such as salads and fresh fruit chief_executive jim skinner attributed an increase in january worldwide sales to the vitality of our menu among other things hooking up with mtv is expected to add extra momentum to mcdonalds recent revival mtv which played key role in the emergence of the music video is to show advance warning on all of its channels across the world the programme can at present only been seen in the us where it has featured artists like british stars joss_stone and franz_ferdinand mcdonalds has targeted the youth market in the past with its advertisements signing up stars like jelly-legged dancer justin_timberlake and all-woman singing group destinys child\n\n[(4, 0.2849612236022949),\n (1, 0.24935834109783173),\n (6, 0.19333449006080627),\n (9, 0.13949696719646454),\n (8, 0.12418993562459946),\n (5, 0.00836983323097229),\n (7, 9.747652075020596e-05),\n (10, 7.284103048732504e-05),\n (2, 6.673431198578328e-05),\n (3, 5.224308551987633e-05)]\n"
        }
       ]
      }
     },
     "a9701323f66e4b778123e91cd12c71a2": {
      "model_module": "@jupyter-widgets/output",
      "model_module_version": "1.0.0",
      "model_name": "OutputModel",
      "state": {
       "layout": "IPY_MODEL_99eddf6331cd43acadcbc4fb4e92c93c",
       "outputs": [
        {
         "name": "stdout",
         "output_type": "stream",
         "text": "ID: 70e7bd2f-b69a-4208-945e-0d107daea485\n\nMetadata: {'filename': 'data/bbc/business/226.txt'}\n\nmcdonalds to sponsor mtv show mcdonalds the worlds largest restaurant chain is to sponsor programme on music channel mtv as part of its latest youth market promotion the show advance warning highlights new talent and mtv reckons it will give mcdonalds access to nearly million homes in countries mcdonalds golden arches name and im loving it catchphrase will be used throughout the half-hour programme the move comes amid growing concerns about obesity in europe and the us the european union has called on the food industry to reduce the number of adverts aimed at young children warning that legislation would be introduced unless voluntary steps were taken in the us food group kraft is among firms that already have cut back on promoting sugar and fattening products to the young mcdonalds has also been taking steps to improve its junk food reputation revamping its menu and providing clients with health-related products such as pedometers as well as burgers like the big mac and quarter pounder with cheese the company now sells healthier options such as salads and fresh fruit chief_executive jim skinner attributed an increase in january worldwide sales to the vitality of our menu among other things hooking up with mtv is expected to add extra momentum to mcdonalds recent revival mtv which played key role in the emergence of the music video is to show advance warning on all of its channels across the world the programme can at present only been seen in the us where it has featured artists like british stars joss_stone and franz_ferdinand mcdonalds has targeted the youth market in the past with its advertisements signing up stars like jelly-legged dancer justin_timberlake and all-woman singing group destinys child\n\n[(4, 0.2849612236022949),\n (1, 0.24935834109783173),\n (6, 0.19333449006080627),\n (9, 0.13949696719646454),\n (8, 0.12418993562459946),\n (5, 0.00836983323097229),\n (7, 9.747652075020596e-05),\n (10, 7.284103048732504e-05),\n (2, 6.673431198578328e-05),\n (3, 5.224308551987633e-05)]\n"
        }
       ]
      }
     },
     "aa3e4a64c9ec4283a5a18ac49a1fcea5": {
      "model_module": "@jupyter-widgets/controls",
      "model_module_version": "1.5.0",
      "model_name": "IntSliderModel",
      "state": {
       "description": "index",
       "layout": "IPY_MODEL_bc0a346acaaf476abf6bddc9f382bb09",
       "max": 370,
       "style": "IPY_MODEL_8d795a6ebabf4a5ebdf4ddb9e6aa5cd0"
      }
     },
     "ac9870e55ac9466ab89e81e51cfb483e": {
      "model_module": "@jupyter-widgets/controls",
      "model_module_version": "1.5.0",
      "model_name": "VBoxModel",
      "state": {
       "_dom_classes": [
        "widget-interact"
       ],
       "children": [
        "IPY_MODEL_1c90c756572546b39e4ed98007b8f9b7",
        "IPY_MODEL_20e610f9f2ba427eaec9ddd66fabe88c"
       ],
       "layout": "IPY_MODEL_d1eb5380941e481b8566a93f262469a8"
      }
     },
     "b415818be16844599eff6bdc7ce5a552": {
      "model_module": "@jupyter-widgets/base",
      "model_module_version": "1.2.0",
      "model_name": "LayoutModel",
      "state": {}
     },
     "b5cc154c0da84a9b95e463fe55e0d966": {
      "model_module": "@jupyter-widgets/base",
      "model_module_version": "1.2.0",
      "model_name": "LayoutModel",
      "state": {}
     },
     "b9c33785b61548ef87e856bb3837a691": {
      "model_module": "@jupyter-widgets/controls",
      "model_module_version": "1.5.0",
      "model_name": "VBoxModel",
      "state": {
       "_dom_classes": [
        "widget-interact"
       ],
       "children": [
        "IPY_MODEL_e869e4e60b134cb5bb722830e5852d55",
        "IPY_MODEL_711ddd4ec3f34ce59dae8a3f421ed0dd"
       ],
       "layout": "IPY_MODEL_0f94827cc4b34197bced92a6a4c7117e"
      }
     },
     "bafdf5178bda4f7e8d6359d3f6585707": {
      "model_module": "@jupyter-widgets/controls",
      "model_module_version": "1.5.0",
      "model_name": "SliderStyleModel",
      "state": {
       "description_width": ""
      }
     },
     "bb6adc68372249d19d80228eca6bc67f": {
      "model_module": "@jupyter-widgets/controls",
      "model_module_version": "1.5.0",
      "model_name": "SliderStyleModel",
      "state": {
       "description_width": ""
      }
     },
     "bc0a346acaaf476abf6bddc9f382bb09": {
      "model_module": "@jupyter-widgets/base",
      "model_module_version": "1.2.0",
      "model_name": "LayoutModel",
      "state": {}
     },
     "bc3c0ab7399b4b16b5d34f7b6307998b": {
      "model_module": "@jupyter-widgets/controls",
      "model_module_version": "1.5.0",
      "model_name": "VBoxModel",
      "state": {
       "_dom_classes": [
        "widget-interact"
       ],
       "children": [
        "IPY_MODEL_e4e663e13b1c4bb4a38edf7e816b4937",
        "IPY_MODEL_300ddb0791ce4396893229818dff50e8"
       ],
       "layout": "IPY_MODEL_363d527b513e4ffab5f46f0a9cc2737b"
      }
     },
     "bc72a3b223dd433bac301f7650a3d020": {
      "model_module": "@jupyter-widgets/base",
      "model_module_version": "1.2.0",
      "model_name": "LayoutModel",
      "state": {}
     },
     "bcfcae1962bd4734bacbf0b83a089f98": {
      "model_module": "@jupyter-widgets/controls",
      "model_module_version": "1.5.0",
      "model_name": "IntSliderModel",
      "state": {
       "description": "index",
       "layout": "IPY_MODEL_fd4cb062a3384a66a2ce950974cee62d",
       "max": 370,
       "style": "IPY_MODEL_02c1b6343730431086b372ca058d19e7"
      }
     },
     "c379bbdba72347b7907066413e2878ca": {
      "model_module": "@jupyter-widgets/base",
      "model_module_version": "1.2.0",
      "model_name": "LayoutModel",
      "state": {}
     },
     "c5cdae633e8d419f8e138445d94e8bbc": {
      "model_module": "@jupyter-widgets/controls",
      "model_module_version": "1.5.0",
      "model_name": "SliderStyleModel",
      "state": {
       "description_width": ""
      }
     },
     "c7609d692cbd4e8e967cb8cbd2357b69": {
      "model_module": "@jupyter-widgets/base",
      "model_module_version": "1.2.0",
      "model_name": "LayoutModel",
      "state": {}
     },
     "c7bc15d005d347e5923bea1b4d0a6350": {
      "model_module": "@jupyter-widgets/base",
      "model_module_version": "1.2.0",
      "model_name": "LayoutModel",
      "state": {}
     },
     "c8473dedaa18462dbd9ed2df63cffc33": {
      "model_module": "@jupyter-widgets/base",
      "model_module_version": "1.2.0",
      "model_name": "LayoutModel",
      "state": {}
     },
     "cb6837459fd747f3a8d3429af143b519": {
      "model_module": "@jupyter-widgets/base",
      "model_module_version": "1.2.0",
      "model_name": "LayoutModel",
      "state": {}
     },
     "cb8ffac899fd49f4aec81b8369f050c7": {
      "model_module": "@jupyter-widgets/controls",
      "model_module_version": "1.5.0",
      "model_name": "VBoxModel",
      "state": {
       "_dom_classes": [
        "widget-interact"
       ],
       "children": [
        "IPY_MODEL_de5d3f08b9074881a025fa4f71dbbbdd",
        "IPY_MODEL_108053295dc54fe49e7eadc10584e6e3"
       ],
       "layout": "IPY_MODEL_d95bc8ea2fd64c45b0f88334689684fe"
      }
     },
     "d01abdd844094c9ca7ce2f9f4e442cfb": {
      "model_module": "@jupyter-widgets/base",
      "model_module_version": "1.2.0",
      "model_name": "LayoutModel",
      "state": {}
     },
     "d1eb5380941e481b8566a93f262469a8": {
      "model_module": "@jupyter-widgets/base",
      "model_module_version": "1.2.0",
      "model_name": "LayoutModel",
      "state": {}
     },
     "d4b17d6dfa9d4bd5bfa4d4cffcffbaac": {
      "model_module": "@jupyter-widgets/controls",
      "model_module_version": "1.5.0",
      "model_name": "VBoxModel",
      "state": {
       "_dom_classes": [
        "widget-interact"
       ],
       "children": [
        "IPY_MODEL_10beea248e3742c6b7318631de3c5ad7",
        "IPY_MODEL_2896be96c96347bf817db5ecbe5c71de"
       ],
       "layout": "IPY_MODEL_7ee0cce1eda8470caabe7835136e5f3a"
      }
     },
     "d7067719fd6141a4aea97be115bd8f95": {
      "model_module": "@jupyter-widgets/base",
      "model_module_version": "1.2.0",
      "model_name": "LayoutModel",
      "state": {}
     },
     "d95bc8ea2fd64c45b0f88334689684fe": {
      "model_module": "@jupyter-widgets/base",
      "model_module_version": "1.2.0",
      "model_name": "LayoutModel",
      "state": {}
     },
     "db82671388d349079324a42ea2dc8935": {
      "model_module": "@jupyter-widgets/base",
      "model_module_version": "1.2.0",
      "model_name": "LayoutModel",
      "state": {}
     },
     "de5d3f08b9074881a025fa4f71dbbbdd": {
      "model_module": "@jupyter-widgets/controls",
      "model_module_version": "1.5.0",
      "model_name": "IntSliderModel",
      "state": {
       "description": "index",
       "layout": "IPY_MODEL_08810c03c35340c0965aed0f2aefc885",
       "max": 370,
       "style": "IPY_MODEL_1853fc5fe063493d8b639352ab0b91ed"
      }
     },
     "e37ee7c75e744b6dbf4875ba5098d4c6": {
      "model_module": "@jupyter-widgets/controls",
      "model_module_version": "1.5.0",
      "model_name": "VBoxModel",
      "state": {
       "_dom_classes": [
        "widget-interact"
       ],
       "children": [
        "IPY_MODEL_86c381f1f5fd48baafaadd49828f41d8",
        "IPY_MODEL_fee91fba8f484fc38bf46d3fe1a51627"
       ],
       "layout": "IPY_MODEL_019fcbf53c834bf0b0154c872987adea"
      }
     },
     "e38c166b15e04cfc9569311a58384afa": {
      "model_module": "@jupyter-widgets/controls",
      "model_module_version": "1.5.0",
      "model_name": "VBoxModel",
      "state": {
       "_dom_classes": [
        "widget-interact"
       ],
       "children": [
        "IPY_MODEL_0272c9fb99e5482f81cfbf00b10d24d1",
        "IPY_MODEL_a9701323f66e4b778123e91cd12c71a2"
       ],
       "layout": "IPY_MODEL_5dd47c85142c4e8db4b4e27838057f65"
      }
     },
     "e4e663e13b1c4bb4a38edf7e816b4937": {
      "model_module": "@jupyter-widgets/controls",
      "model_module_version": "1.5.0",
      "model_name": "IntSliderModel",
      "state": {
       "description": "doc_id",
       "layout": "IPY_MODEL_0f6858aff9a6418893b5db2b75af667d",
       "max": 2224,
       "style": "IPY_MODEL_c5cdae633e8d419f8e138445d94e8bbc"
      }
     },
     "e869e4e60b134cb5bb722830e5852d55": {
      "model_module": "@jupyter-widgets/controls",
      "model_module_version": "1.5.0",
      "model_name": "IntSliderModel",
      "state": {
       "description": "index",
       "layout": "IPY_MODEL_5a47d5a539584cd7bbb3169fda2e907a",
       "max": 370,
       "style": "IPY_MODEL_4a8c30b2cc3d46f0bf7c61fdcb53cf9a"
      }
     },
     "f49a8783e5f04b40a0cddba92fe96f85": {
      "model_module": "@jupyter-widgets/controls",
      "model_module_version": "1.5.0",
      "model_name": "VBoxModel",
      "state": {
       "_dom_classes": [
        "widget-interact"
       ],
       "children": [
        "IPY_MODEL_690e8ae07de54a8ea2a962a07894566e",
        "IPY_MODEL_48016a552ad042d2bb8d1559c5c18465"
       ],
       "layout": "IPY_MODEL_b415818be16844599eff6bdc7ce5a552"
      }
     },
     "f5312b7de1c04925b4cae035683b64fd": {
      "model_module": "@jupyter-widgets/controls",
      "model_module_version": "1.5.0",
      "model_name": "SliderStyleModel",
      "state": {
       "description_width": ""
      }
     },
     "fd4cb062a3384a66a2ce950974cee62d": {
      "model_module": "@jupyter-widgets/base",
      "model_module_version": "1.2.0",
      "model_name": "LayoutModel",
      "state": {}
     },
     "fee91fba8f484fc38bf46d3fe1a51627": {
      "model_module": "@jupyter-widgets/output",
      "model_module_version": "1.0.0",
      "model_name": "OutputModel",
      "state": {
       "layout": "IPY_MODEL_bc72a3b223dd433bac301f7650a3d020",
       "outputs": [
        {
         "name": "stdout",
         "output_type": "stream",
         "text": "ID: 70e7bd2f-b69a-4208-945e-0d107daea485\n\nMetadata: {'filename': 'data/bbc/business/226.txt'}\n\nmcdonalds to sponsor mtv show mcdonalds the worlds largest restaurant chain is to sponsor programme on music channel mtv as part of its latest youth market promotion the show advance warning highlights new talent and mtv reckons it will give mcdonalds access to nearly million homes in countries mcdonalds golden arches name and im loving it catchphrase will be used throughout the half-hour programme the move comes amid growing concerns about obesity in europe and the us the european union has called on the food industry to reduce the number of adverts aimed at young children warning that legislation would be introduced unless voluntary steps were taken in the us food group kraft is among firms that already have cut back on promoting sugar and fattening products to the young mcdonalds has also been taking steps to improve its junk food reputation revamping its menu and providing clients with health-related products such as pedometers as well as burgers like the big mac and quarter pounder with cheese the company now sells healthier options such as salads and fresh fruit chief_executive jim skinner attributed an increase in january worldwide sales to the vitality of our menu among other things hooking up with mtv is expected to add extra momentum to mcdonalds recent revival mtv which played key role in the emergence of the music video is to show advance warning on all of its channels across the world the programme can at present only been seen in the us where it has featured artists like british stars joss_stone and franz_ferdinand mcdonalds has targeted the youth market in the past with its advertisements signing up stars like jelly-legged dancer justin_timberlake and all-woman singing group destinys child\n\n[(4, 0.2849612236022949),\n (1, 0.24935834109783173),\n (6, 0.19333449006080627),\n (9, 0.13949696719646454),\n (8, 0.12418993562459946),\n (5, 0.00836983323097229),\n (7, 9.747652075020596e-05),\n (10, 7.284103048732504e-05),\n (2, 6.673431198578328e-05),\n (3, 5.224308551987633e-05)]\n"
        }
       ]
      }
     }
    },
    "version_major": 2,
    "version_minor": 0
   }
  }
 },
 "nbformat": 4,
 "nbformat_minor": 4
}
