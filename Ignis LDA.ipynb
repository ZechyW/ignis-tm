{
 "cells": [
  {
   "cell_type": "markdown",
   "metadata": {},
   "source": [
    "Basic Text Pre-processing and Topic Modelling\n",
    "======"
   ]
  },
  {
   "cell_type": "code",
   "execution_count": 1,
   "metadata": {
    "ExecuteTime": {
     "end_time": "2020-06-05T09:47:06.064327Z",
     "start_time": "2020-06-05T09:47:02.567183Z"
    }
   },
   "outputs": [],
   "source": [
    "import glob\n",
    "import math\n",
    "import re\n",
    "import threading\n",
    "import time\n",
    "\n",
    "import gensim\n",
    "import nltk\n",
    "import pyLDAvis\n",
    "import tomotopy as tp\n",
    "import tqdm\n",
    "import pathlib"
   ]
  },
  {
   "cell_type": "code",
   "execution_count": 2,
   "metadata": {
    "ExecuteTime": {
     "end_time": "2020-06-05T09:47:06.119365Z",
     "start_time": "2020-06-05T09:47:06.066326Z"
    }
   },
   "outputs": [],
   "source": [
    "import ipywidgets as widgets"
   ]
  },
  {
   "cell_type": "markdown",
   "metadata": {},
   "source": [
    "Data ingestion\n",
    "--------------------\n",
    "\n",
    "We will track the contents and filename of each document, then tokenise them all and feed them into an `ignis.Corpus`.\n",
    "\n",
    "We should, by all accounts, actually be preparing a separate text cleaning function and running the raw text through it immediately, but this way we can see the effects of each step of the data cleaning."
   ]
  },
  {
   "cell_type": "code",
   "execution_count": 3,
   "metadata": {
    "ExecuteTime": {
     "end_time": "2020-06-05T09:47:06.138370Z",
     "start_time": "2020-06-05T09:47:06.120338Z"
    }
   },
   "outputs": [],
   "source": [
    "raw_files = glob.glob(\"./data/bbc/*/*.txt\")"
   ]
  },
  {
   "cell_type": "code",
   "execution_count": 4,
   "metadata": {
    "ExecuteTime": {
     "end_time": "2020-06-05T09:47:06.404403Z",
     "start_time": "2020-06-05T09:47:06.141344Z"
    }
   },
   "outputs": [
    {
     "name": "stderr",
     "output_type": "stream",
     "text": [
      "100%|██████████| 2225/2225 [00:00<00:00, 8827.59it/s]\n"
     ]
    }
   ],
   "source": [
    "raw_docs = []\n",
    "for file in tqdm.tqdm(raw_files):\n",
    "    filename = pathlib.Path(file).as_posix()\n",
    "    metadata = {\n",
    "        \"filename\": filename\n",
    "    }\n",
    "    \n",
    "    with open(file) as f:\n",
    "        text = f.read()\n",
    "    \n",
    "    raw_docs.append([metadata, text])"
   ]
  },
  {
   "cell_type": "code",
   "execution_count": 5,
   "metadata": {
    "ExecuteTime": {
     "end_time": "2020-06-05T09:47:06.443912Z",
     "start_time": "2020-06-05T09:47:06.406374Z"
    },
    "scrolled": false
   },
   "outputs": [
    {
     "data": {
      "application/vnd.jupyter.widget-view+json": {
       "model_id": "95e6e593018b4ec6b91896bd680ba3fd",
       "version_major": 2,
       "version_minor": 0
      },
      "text/plain": [
       "interactive(children=(IntSlider(value=0, description='doc_id', max=2224), Output()), _dom_classes=('widget-int…"
      ]
     },
     "metadata": {},
     "output_type": "display_data"
    },
    {
     "data": {
      "text/plain": [
       "<function __main__.show_raw_doc(doc_id=0)>"
      ]
     },
     "execution_count": 5,
     "metadata": {},
     "output_type": "execute_result"
    }
   ],
   "source": [
    "def show_raw_doc(doc_id=0):\n",
    "    print(raw_docs[doc_id][0])\n",
    "    print()\n",
    "    print(raw_docs[doc_id][1])\n",
    "\n",
    "widgets.interact(show_raw_doc, doc_id=(0, len(raw_docs) - 1))"
   ]
  },
  {
   "cell_type": "markdown",
   "metadata": {},
   "source": [
    "Text pre-processing and tokenisation\n",
    "------"
   ]
  },
  {
   "cell_type": "markdown",
   "metadata": {},
   "source": [
    "### Naive tokenisation (by whitespace)\n",
    "- Case folding\n",
    "- Strip leading/trailing non-informative punctuation from tokens\n",
    "- Remove single apostrophes\n",
    "- Remove single brackets within words\n",
    "  - For dealing with cases like \"the recipient(s)\" -- Which will get tokenised to \"the recipient(s\" otherwise"
   ]
  },
  {
   "cell_type": "code",
   "execution_count": 6,
   "metadata": {
    "ExecuteTime": {
     "end_time": "2020-06-05T09:47:06.454916Z",
     "start_time": "2020-06-05T09:47:06.445916Z"
    }
   },
   "outputs": [],
   "source": [
    "strip_punctuation = \"'\\\"()[]<>?!,.:;/|_\"\n",
    "bracket_pairs = [\n",
    "    [\"(\", \")\"],\n",
    "    [\"[\", \"]\"],\n",
    "]\n",
    "\n",
    "\n",
    "def naive_tokenise(doc):\n",
    "    \"\"\"\n",
    "    Naively tokenises a document.\n",
    "    \n",
    "    Returns\n",
    "    -------\n",
    "    str\n",
    "        The document as a string of space-separated tokens\n",
    "    \"\"\"\n",
    "    new_tokens = []\n",
    "    \n",
    "    tokens = doc.split()\n",
    "    for token in tokens:\n",
    "        token = token.casefold()\n",
    "        token = token.strip(strip_punctuation)\n",
    "        token = token.replace(\"'\", \"\")\n",
    "        \n",
    "        for bracket_pair in bracket_pairs:\n",
    "            if bracket_pair[0] in token and bracket_pair[1] not in token:\n",
    "                token = token.replace(bracket_pair[0], \"\")\n",
    "            if bracket_pair[1] in token and bracket_pair[0] not in token:\n",
    "                token = token.replace(bracket_pair[1], \"\")\n",
    "        \n",
    "        if token != \"\":\n",
    "            new_tokens.append(token)\n",
    "            \n",
    "    return new_tokens"
   ]
  },
  {
   "cell_type": "code",
   "execution_count": 7,
   "metadata": {
    "ExecuteTime": {
     "end_time": "2020-06-05T09:47:06.465930Z",
     "start_time": "2020-06-05T09:47:06.456906Z"
    }
   },
   "outputs": [
    {
     "data": {
      "text/plain": [
       "['this',\n",
       " 'is',\n",
       " 'a',\n",
       " 't(e)st',\n",
       " 'of',\n",
       " 'the',\n",
       " 'systems',\n",
       " 'tokenisation',\n",
       " 'operations']"
      ]
     },
     "execution_count": 7,
     "metadata": {},
     "output_type": "execute_result"
    }
   ],
   "source": [
    "naive_tokenise('This is a t(e)st of the system\\'s \"tokenisation\" operation(s).')"
   ]
  },
  {
   "cell_type": "code",
   "execution_count": 8,
   "metadata": {
    "ExecuteTime": {
     "end_time": "2020-06-05T09:47:07.071118Z",
     "start_time": "2020-06-05T09:47:06.468932Z"
    }
   },
   "outputs": [],
   "source": [
    "naive_docs = []\n",
    "for raw_doc in raw_docs:\n",
    "    naive_docs.append([raw_doc[0], naive_tokenise(raw_doc[1])])"
   ]
  },
  {
   "cell_type": "code",
   "execution_count": 9,
   "metadata": {
    "ExecuteTime": {
     "end_time": "2020-06-05T09:47:07.105656Z",
     "start_time": "2020-06-05T09:47:07.074051Z"
    }
   },
   "outputs": [
    {
     "data": {
      "application/vnd.jupyter.widget-view+json": {
       "model_id": "8befc135acfd4bf2979ce219d937c1d5",
       "version_major": 2,
       "version_minor": 0
      },
      "text/plain": [
       "interactive(children=(IntSlider(value=0, description='doc_id', max=2224), Output()), _dom_classes=('widget-int…"
      ]
     },
     "metadata": {},
     "output_type": "display_data"
    },
    {
     "data": {
      "text/plain": [
       "<function __main__.show_naive_doc(doc_id=0)>"
      ]
     },
     "execution_count": 9,
     "metadata": {},
     "output_type": "execute_result"
    }
   ],
   "source": [
    "def show_naive_doc(doc_id=0):\n",
    "    print(naive_docs[doc_id][0])\n",
    "    print()\n",
    "    print(\" \".join(naive_docs[doc_id][1]))\n",
    "\n",
    "widgets.interact(show_naive_doc, doc_id=(0, len(naive_docs) - 1))"
   ]
  },
  {
   "cell_type": "markdown",
   "metadata": {},
   "source": [
    "### Automated n-gram detection\n",
    "\n",
    "Chunk into significant bigrams/trigrams based on collocation frequency\n",
    "\n",
    "(N.B.: Gensim implies that the input to the Phraser should be a list of single sentences, but we will feed it a list of documents instead.)\n",
    "\n",
    "- Min count: How many documents the n-grams need to appear in\n",
    "\n",
    "- Scoring: \"default\" or \"npmi\"\n",
    "\n",
    "- Threshold: Intuitively, higher threshold means fewer phrases.\n",
    "  - With the default scorer, this is greater than or equal to 0; with the NPMI scorer, this is in the range -1 to 1.\n",
    "\n",
    "- Common terms: These terms will be ignored if they come between normal words.\n",
    "  - E.g., if `common_terms` includes the word \"of\", then when the phraser sees \"Wheel of Fortune\" it actually evaluates _\"Wheel Fortune\"_ as an n-gram, putting \"of\" back in only at the output level."
   ]
  },
  {
   "cell_type": "code",
   "execution_count": 10,
   "metadata": {
    "ExecuteTime": {
     "end_time": "2020-06-05T09:47:07.111616Z",
     "start_time": "2020-06-05T09:47:07.107660Z"
    }
   },
   "outputs": [],
   "source": [
    "min_count = 5\n",
    "scoring = \"npmi\"\n",
    "# We want a relatively high threshold so that we don't start littering spurious n-grams all over our corpus, diluting our results.\n",
    "# E.g., we want \"Lord_of_the_Rings\", but not \"slightly_better_than_analysts\"\n",
    "threshold = 0.7\n",
    "common_terms = [\"a\", \"an\", \"the\", \"of\", \"on\", \"in\", \"at\"]"
   ]
  },
  {
   "cell_type": "markdown",
   "metadata": {},
   "source": [
    "This could take a while, so set up a threaded function with a basic progress indicator in the main thread"
   ]
  },
  {
   "cell_type": "code",
   "execution_count": 11,
   "metadata": {
    "ExecuteTime": {
     "end_time": "2020-06-05T09:47:07.120616Z",
     "start_time": "2020-06-05T09:47:07.113630Z"
    }
   },
   "outputs": [],
   "source": [
    "def find_trigrams(docs, results):\n",
    "    # Build, finalise, and apply the bigram model\n",
    "    bigram_model = gensim.models.Phrases(\n",
    "        docs,\n",
    "        min_count=min_count,\n",
    "        threshold=threshold,\n",
    "        scoring=scoring,\n",
    "        common_terms=common_terms,\n",
    "    )\n",
    "    bigram_model = gensim.models.phrases.Phraser(bigram_model)\n",
    "    \n",
    "    bigram_docs = bigram_model[docs]\n",
    "    \n",
    "    # Repeat to get trigrams\n",
    "    trigram_model = gensim.models.Phrases(\n",
    "        bigram_docs,\n",
    "        min_count=min_count,\n",
    "        threshold=threshold,\n",
    "        scoring=scoring,\n",
    "        common_terms=common_terms,\n",
    "    )\n",
    "    trigram_model = gensim.models.phrases.Phraser(trigram_model)\n",
    "    \n",
    "    trigram_docs = trigram_model[docs]\n",
    "    \n",
    "    results[0] = trigram_docs"
   ]
  },
  {
   "cell_type": "code",
   "execution_count": 12,
   "metadata": {
    "ExecuteTime": {
     "end_time": "2020-06-05T09:47:07.129653Z",
     "start_time": "2020-06-05T09:47:07.123621Z"
    },
    "scrolled": true
   },
   "outputs": [],
   "source": [
    "# # Commenting out to save processing time, since we are loading the saved corpus/results directly\n",
    "\n",
    "# print(\"Finding trigrams\", flush=True, end=\"\")\n",
    "# start_time = time.perf_counter()\n",
    "\n",
    "# # Just send the textual content through the Phraser, not the document metadata\n",
    "# for_phrasing = [naive_doc[1] for naive_doc in naive_docs]\n",
    "\n",
    "# # Will contain the documents after trigram processing\n",
    "# results = [None]\n",
    "# t = threading.Thread(target=find_trigrams, args=(for_phrasing, results))\n",
    "# t.start()\n",
    "\n",
    "# progress_countdown = 1.0\n",
    "\n",
    "# while t.isAlive():\n",
    "#     time.sleep(0.1)\n",
    "#     progress_countdown -= 0.1\n",
    "#     if progress_countdown <= 0:\n",
    "#         print(\" .\", flush=True, end=\"\")\n",
    "#         progress_countdown = 1\n",
    "\n",
    "# elapsed = time.perf_counter() - start_time\n",
    "# print(f\" Done. ({elapsed:.3f}s)\")\n",
    "\n",
    "# after_phrasing = results[0]\n",
    "\n",
    "# # Put metadata back in\n",
    "# phrased_docs = []\n",
    "# for index, tokens in enumerate(after_phrasing):\n",
    "#     phrased_docs.append([naive_docs[index][0], tokens])"
   ]
  },
  {
   "cell_type": "code",
   "execution_count": 13,
   "metadata": {
    "ExecuteTime": {
     "end_time": "2020-06-05T09:47:07.136621Z",
     "start_time": "2020-06-05T09:47:07.131617Z"
    },
    "scrolled": false
   },
   "outputs": [],
   "source": [
    "# def show_phrased_doc(doc_id=0):\n",
    "#     print(phrased_docs[doc_id][0])\n",
    "#     print()\n",
    "#     print(\" \".join(phrased_docs[doc_id][1]))\n",
    "\n",
    "# widgets.interact(show_phrased_doc, doc_id=(0, len(phrased_docs) - 1))"
   ]
  },
  {
   "cell_type": "markdown",
   "metadata": {},
   "source": [
    "### Post-phrasing cleaning\n",
    "\n",
    "- Remove stop words (optional)\n",
    "- Remove purely numeric/non-alphabetic/single-character tokens\n",
    "  - Under the assumption that significant tokens, like the \"19\" in \"Covid 19\", would have been picked up by the phraser"
   ]
  },
  {
   "cell_type": "code",
   "execution_count": 14,
   "metadata": {
    "ExecuteTime": {
     "end_time": "2020-06-05T09:47:07.148638Z",
     "start_time": "2020-06-05T09:47:07.139627Z"
    }
   },
   "outputs": [],
   "source": [
    "# # stopset = set(nltk.corpus.stopwords.words(\"english\"))\n",
    "# # Not needed if using term weighting\n",
    "# stopset = []\n",
    "\n",
    "\n",
    "# def second_tokenise(tokens):\n",
    "#     new_tokens = []\n",
    "#     for token in tokens:\n",
    "#         if token in stopset or re.match(\"^[^a-z]+$\", token) or len(token) <= 1:\n",
    "#             continue\n",
    "#         new_tokens.append(token)\n",
    "\n",
    "#     return new_tokens"
   ]
  },
  {
   "cell_type": "code",
   "execution_count": 15,
   "metadata": {
    "ExecuteTime": {
     "end_time": "2020-06-05T09:47:07.159625Z",
     "start_time": "2020-06-05T09:47:07.152632Z"
    }
   },
   "outputs": [],
   "source": [
    "# final_docs = []\n",
    "# for phrased_doc in phrased_docs:\n",
    "#     final_docs.append([phrased_doc[0], second_tokenise(phrased_doc[1])])"
   ]
  },
  {
   "cell_type": "code",
   "execution_count": 16,
   "metadata": {
    "ExecuteTime": {
     "end_time": "2020-06-05T09:47:07.166658Z",
     "start_time": "2020-06-05T09:47:07.161625Z"
    }
   },
   "outputs": [],
   "source": [
    "# def show_final_doc(doc_id=0):\n",
    "#     print(final_docs[doc_id][0])\n",
    "#     print()\n",
    "#     print(\" \".join(final_docs[doc_id][1]))\n",
    "\n",
    "# widgets.interact(show_final_doc, doc_id=(0, len(final_docs) - 1))"
   ]
  },
  {
   "cell_type": "markdown",
   "metadata": {},
   "source": [
    "Model training (LDA)\n",
    "----"
   ]
  },
  {
   "cell_type": "markdown",
   "metadata": {},
   "source": [
    "Add processed docs to the LDA model and train it.\n",
    "\n",
    "The random seed and parallelisation can both affect results, so setting the seed and number of workers is necessary for reproducibility."
   ]
  },
  {
   "cell_type": "code",
   "execution_count": 17,
   "metadata": {
    "ExecuteTime": {
     "end_time": "2020-06-05T09:47:07.191679Z",
     "start_time": "2020-06-05T09:47:07.168624Z"
    }
   },
   "outputs": [],
   "source": [
    "import ignis"
   ]
  },
  {
   "cell_type": "code",
   "execution_count": 18,
   "metadata": {
    "ExecuteTime": {
     "end_time": "2020-06-05T09:47:07.196634Z",
     "start_time": "2020-06-05T09:47:07.193633Z"
    }
   },
   "outputs": [],
   "source": [
    "## Uncomment to perform actual model training instead of loading from file\n",
    "\n",
    "# corpus = ignis.Corpus()\n",
    "\n",
    "# for metadata, tokens in final_docs:\n",
    "#     corpus.add_doc(metadata, tokens)\n",
    "# corpus.save(\"bbc-full.corpus\")"
   ]
  },
  {
   "cell_type": "code",
   "execution_count": 19,
   "metadata": {
    "ExecuteTime": {
     "end_time": "2020-06-05T09:47:07.882818Z",
     "start_time": "2020-06-05T09:47:07.198632Z"
    }
   },
   "outputs": [],
   "source": [
    "corpus = ignis.load_corpus(\"bbc-full.corpus\")"
   ]
  },
  {
   "cell_type": "code",
   "execution_count": 20,
   "metadata": {
    "ExecuteTime": {
     "end_time": "2020-06-05T09:48:30.576349Z",
     "start_time": "2020-06-05T09:47:07.884800Z"
    }
   },
   "outputs": [],
   "source": [
    "model_options = {\"k\": 10, \"term_weighting\": \"idf\", \"until_max_ll\": True, \"verbose\": True}\n",
    "vis_options = {\"verbose\": True}\n",
    "results = ignis.train_model(corpus, model_type=\"lda\", model_options=model_options, vis_type=\"pyldavis\", vis_options=vis_options)\n",
    "results.save(\"bbc-full.aurum\")"
   ]
  },
  {
   "cell_type": "code",
   "execution_count": 21,
   "metadata": {
    "ExecuteTime": {
     "end_time": "2020-06-05T09:48:30.581359Z",
     "start_time": "2020-06-05T09:48:30.577399Z"
    }
   },
   "outputs": [],
   "source": [
    "# results = ignis.load_model(\"bbc-full.aurum\")"
   ]
  },
  {
   "cell_type": "code",
   "execution_count": 28,
   "metadata": {
    "ExecuteTime": {
     "end_time": "2020-06-05T09:49:00.150521Z",
     "start_time": "2020-06-05T09:48:56.647626Z"
    }
   },
   "outputs": [],
   "source": [
    "results.save(\"bbc-full.aurum\")"
   ]
  },
  {
   "cell_type": "markdown",
   "metadata": {
    "pycharm": {
     "name": "#%% md\n"
    }
   },
   "source": [
    "Topic labelling"
   ]
  },
  {
   "cell_type": "code",
   "execution_count": 23,
   "metadata": {
    "ExecuteTime": {
     "end_time": "2020-06-05T09:48:30.599362Z",
     "start_time": "2020-06-05T09:48:30.593367Z"
    },
    "pycharm": {
     "name": "#%%\n"
    }
   },
   "outputs": [],
   "source": [
    "# print(\"Extracting suggested topic labels...\", flush=True)\n",
    "# # extractor = tp.label.PMIExtractor(min_cf=10, min_df=5, max_len=5, max_cand=10000)\n",
    "# extractor = tp.label.PMIExtractor(min_cf=5, min_df=3, max_len=5, max_cand=20000)\n",
    "# candidates = extractor.extract(model)\n",
    "# # labeler = tp.label.FoRelevance(model, candidates, min_df=5, smoothing=1e-2,\n",
    "# # mu=0.25)\n",
    "# labeler = tp.label.FoRelevance(\n",
    "#     model, candidates, min_df=3, smoothing=1e-2, mu=0.25, workers=num_workers\n",
    "# )\n",
    "# print(\"Done.\")"
   ]
  },
  {
   "cell_type": "markdown",
   "metadata": {},
   "source": [
    "Print results\n",
    "------"
   ]
  },
  {
   "cell_type": "code",
   "execution_count": 24,
   "metadata": {
    "ExecuteTime": {
     "end_time": "2020-06-05T09:48:30.607354Z",
     "start_time": "2020-06-05T09:48:30.603364Z"
    }
   },
   "outputs": [],
   "source": [
    "# def print_topic(topic_id):\n",
    "#     # Labels\n",
    "#     labels = \", \".join(\n",
    "#         label for label, score in labeler.get_topic_labels(topic_id, top_n=10)\n",
    "#     )\n",
    "#     print(f\"Suggested labels: {labels}\")\n",
    "\n",
    "#     # Print this topic\n",
    "#     words_probs = model.get_topic_words(topic_id, top_n=10)\n",
    "#     words = [x[0] for x in words_probs]\n",
    "\n",
    "#     words = \", \".join(words)\n",
    "#     print(words)"
   ]
  },
  {
   "cell_type": "code",
   "execution_count": 25,
   "metadata": {
    "ExecuteTime": {
     "end_time": "2020-06-05T09:48:30.620385Z",
     "start_time": "2020-06-05T09:48:30.609384Z"
    },
    "scrolled": false
   },
   "outputs": [],
   "source": [
    "# for k in range(model.k):\n",
    "#     print(f\"[Topic {k+1}]\")\n",
    "#     print_topic(k)\n",
    "#     print()"
   ]
  },
  {
   "cell_type": "markdown",
   "metadata": {},
   "source": [
    "Visualise\n",
    "--------\n",
    "- Present as a pyLDAvis visualisation"
   ]
  },
  {
   "cell_type": "code",
   "execution_count": 26,
   "metadata": {
    "ExecuteTime": {
     "end_time": "2020-06-05T09:48:30.650385Z",
     "start_time": "2020-06-05T09:48:30.622374Z"
    }
   },
   "outputs": [
    {
     "data": {
      "text/html": [
       "\n",
       "<link rel=\"stylesheet\" type=\"text/css\" href=\"https://cdn.rawgit.com/bmabey/pyLDAvis/files/ldavis.v1.0.0.css\">\n",
       "\n",
       "\n",
       "<div id=\"ldavis_el498722402952729032252877718\"></div>\n",
       "<script type=\"text/javascript\">\n",
       "\n",
       "var ldavis_el498722402952729032252877718_data = {\"mdsDat\": {\"x\": [-0.0009490619104480996, 0.2804630217203777, 0.2558502738705303, 0.1006290150699267, -0.1540653624574111, 0.03691339624527928, 0.011933955324326184, -0.07071276372540428, -0.23905659065889845, -0.22100588347827763], \"y\": [-0.0070758760143607765, -0.1015062259633793, -0.09351308775134998, -0.10414085859639624, -0.2134874780418952, 0.2767473399481846, 0.247097561857673, 0.10291240609314045, -0.02401748520169045, -0.08301629632992664], \"topics\": [1, 2, 3, 4, 5, 6, 7, 8, 9, 10], \"cluster\": [1, 1, 1, 1, 1, 1, 1, 1, 1, 1], \"Freq\": [32.82488181616408, 4.610102271198305, 8.390287350323684, 9.26742654242856, 4.895314445692371, 5.622614331462289, 10.981260869030637, 11.563483181820754, 4.913824452954184, 6.930804738925139]}, \"tinfo\": {\"Term\": [\"mobile\", \"film\", \"labour\", \"mr\", \"music\", \"games\", \"you\", \"phone\", \"game\", \"software\", \"digital\", \"party\", \"election\", \"government\", \"people\", \"broadband\", \"users\", \"blair\", \"yukos\", \"best\", \"tv\", \"we\", \"club\", \"technology\", \"his\", \"her\", \"security\", \"wales\", \"awards\", \"growth\", \"far\", \"give\", \"look\", \"does\", \"given\", \"children\", \"must\", \"something\", \"might\", \"always\", \"having\", \"problems\", \"things\", \"done\", \"job\", \"doing\", \"possible\", \"thing\", \"within\", \"why\", \"wanted\", \"trying\", \"wants\", \"fact\", \"groups\", \"sure\", \"idea\", \"simply\", \"anything\", \"date\", \"if\", \"where\", \"do\", \"we\", \"you\", \"very\", \"going\", \"enough\", \"too\", \"no\", \"all\", \"so\", \"think\", \"what\", \"because\", \"work\", \"any\", \"there\", \"see\", \"even\", \"dont\", \"not\", \"our\", \"have\", \"them\", \"did\", \"they\", \"time\", \"get\", \"out\", \"when\", \"some\", \"make\", \"he\", \"are\", \"more\", \"about\", \"that\", \"or\", \"can\", \"their\", \"would\", \"but\", \"chelsea\", \"arsenal\", \"fiat\", \"ferguson\", \"manchester_united\", \"champions_league\", \"gerrard\", \"parry\", \"striker\", \"rangers\", \"glazer\", \"mourinho\", \"wenger\", \"southampton\", \"everton\", \"bellamy\", \"keeper\", \"defender\", \"benitez\", \"subs\", \"souness\", \"fa\", \"anfield\", \"ronaldo\", \"ac\", \"harriers\", \"charlton\", \"midfielder\", \"robben\", \"fa_cup\", \"liverpool\", \"barcelona\", \"club\", \"premiership\", \"football\", \"clubs\", \"goals\", \"united\", \"goal\", \"newcastle\", \"boss\", \"celtic\", \"manager\", \"spanish\", \"game\", \"season\", \"his\", \"madrid\", \"players\", \"minutes\", \"him\", \"side\", \"he\", \"rugby\", \"six_nations\", \"roddick\", \"tournament\", \"grand_slam\", \"tennis\", \"nadal\", \"indoor\", \"australian_open\", \"davis_cup\", \"championships\", \"marathon\", \"medal\", \"henman\", \"ogara\", \"wing\", \"wasps\", \"safin\", \"federer\", \"flanker\", \"radcliffe\", \"ulster\", \"fly-half\", \"moya\", \"stade\", \"mcilroy\", \"henson\", \"davenport\", \"1500m\", \"woodward\", \"ireland\", \"champion\", \"seed\", \"holmes\", \"lions\", \"robinson\", \"italy\", \"zealand\", \"victory\", \"wales\", \"williams\", \"injury\", \"england\", \"coach\", \"match\", \"squad\", \"captain\", \"france\", \"olympic\", \"win\", \"final\", \"game\", \"her\", \"beat\", \"title\", \"his\", \"team\", \"scotland\", \"she\", \"players\", \"world\", \"against\", \"first\", \"second\", \"actor\", \"festival\", \"actress\", \"rock\", \"singer\", \"comedy\", \"oscar\", \"aviator\", \"nominations\", \"box_office\", \"theatre\", \"nominated\", \"drama\", \"oscars\", \"starring\", \"angels\", \"documentary\", \"dance\", \"dollar_baby\", \"concert\", \"sideways\", \"musicians\", \"vera_drake\", \"nominees\", \"ballet\", \"bafta\", \"soul\", \"actors\", \"rapper\", \"celebrity\", \"film\", \"awards\", \"award\", \"album\", \"band\", \"song\", \"musical\", \"chart\", \"pop\", \"stars\", \"best\", \"ceremony\", \"films\", \"prize\", \"star\", \"music\", \"show\", \"her\", \"won\", \"director\", \"tv\", \"she\", \"his\", \"top\", \"gamers\", \"nintendo\", \"xbox\", \"console\", \"ds\", \"mac_mini\", \"consoles\", \"graphics\", \"psp\", \"laptop\", \"robot\", \"ea\", \"virtual\", \"computing\", \"blu-ray\", \"mouse\", \"silicon\", \"copy\", \"halo_2\", \"millan\", \"argonaut\", \"playstation\", \"star_wars\", \"hp\", \"half-life_2\", \"grid\", \"commodore\", \"toshiba\", \"brain\", \"prints\", \"gaming\", \"games\", \"gadgets\", \"sony\", \"dvds\", \"dvd\", \"gadget\", \"machine\", \"developers\", \"pc\", \"high-definition\", \"game\", \"apple\", \"computer\", \"titles\", \"video\", \"chip\", \"your\", \"technology\", \"you\", \"sale\", \"can\", \"players\", \"yukos\", \"gazprom\", \"ebbers\", \"yugansk\", \"rosneft\", \"thanou\", \"mci\", \"lawsuit\", \"worldcom\", \"kenteris\", \"lawyers\", \"marsh\", \"guilty\", \"sec\", \"prison\", \"jail\", \"prosecutors\", \"houston\", \"delta\", \"detainees\", \"doping\", \"khodorkovsky\", \"fosters\", \"balco\", \"baikal\", \"yuganskneftegas\", \"conte\", \"parmalat\", \"animals\", \"ukraine\", \"hunting\", \"charges\", \"iaaf\", \"lawyer\", \"drugs\", \"trial\", \"court\", \"fraud\", \"ruling\", \"russian\", \"investigation\", \"arrested\", \"ban\", \"auction\", \"case\", \"drug\", \"law\", \"police\", \"criminal\", \"legal\", \"greek\", \"company\", \"mr\", \"us\", \"oil\", \"she\", \"firm\", \"former\", \"tories\", \"mps\", \"lib\", \"tory\", \"ukip\", \"kilroy-silk\", \"immigration\", \"tony_blair\", \"labours\", \"conservative\", \"commons\", \"dems\", \"blunkett\", \"mp\", \"politics\", \"michael_howard\", \"asylum\", \"gordon_brown\", \"liberal_democrats\", \"lords\", \"pensions\", \"pension\", \"partys\", \"elections\", \"id_cards\", \"dem\", \"tory_leader\", \"parliamentary\", \"councils\", \"assembly\", \"labour\", \"blair\", \"election\", \"party\", \"chancellor\", \"secretary\", \"prime_minister\", \"lord\", \"ministers\", \"conservatives\", \"general_election\", \"brown\", \"parliament\", \"mr\", \"government\", \"tax\", \"howard\", \"political\", \"eu\", \"leader\", \"vote\", \"council\", \"public\", \"plans\", \"campaign\", \"britain\", \"he\", \"his\", \"shares\", \"debt\", \"lse\", \"exports\", \"profit\", \"takeover\", \"airlines\", \"inflation\", \"fuel\", \"indias\", \"unemployment\", \"interest_rates\", \"deutsche_boerse\", \"stock_market\", \"turkey\", \"economist\", \"sri\", \"japans\", \"imf\", \"reuters\", \"forecast\", \"creditors\", \"currency\", \"boeing\", \"stock_exchange\", \"forecasts\", \"euronext\", \"indonesia\", \"stock\", \"construction\", \"china\", \"dollar\", \"growth\", \"investors\", \"profits\", \"euros\", \"economy\", \"gm\", \"prices\", \"deficit\", \"economic\", \"india\", \"bank\", \"investment\", \"sales\", \"jobs\", \"rise\", \"rate\", \"rose\", \"oil\", \"market\", \"analysts\", \"fall\", \"demand\", \"quarter\", \"year\", \"financial\", \"price\", \"us\", \"trade\", \"business\", \"figures\", \"company\", \"countries\", \"its\", \"spam\", \"google\", \"programs\", \"blog\", \"blogs\", \"viruses\", \"spyware\", \"domain\", \"yahoo\", \"anti-virus\", \"malicious\", \"patents\", \"bittorrent\", \"browser\", \"patent\", \"file-sharing\", \"ask_jeeves\", \"spammers\", \"pirated\", \"copyright\", \"lycos\", \"screensaver\", \"peer-to-peer\", \"directive\", \"bloggers\", \"search_engine\", \"linux\", \"addresses\", \"exeem\", \"cabir\", \"e-mail\", \"program\", \"software\", \"virus\", \"sites\", \"site\", \"search\", \"windows\", \"e-mails\", \"microsoft\", \"security\", \"websites\", \"users\", \"web\", \"files\", \"information\", \"traffic\", \"net\", \"internet\", \"computer\", \"attacks\", \"online\", \"system\", \"messages\", \"use\", \"mobile\", \"broadband\", \"phones\", \"mobiles\", \"3g\", \"cameras\", \"handsets\", \"p2p\", \"multimedia\", \"wi-fi\", \"mp3\", \"connections\", \"satellite\", \"vodafone\", \"handset\", \"hd\", \"hdtv\", \"camera_phones\", \"itunes\", \"nokia\", \"broadcasters\", \"gartner\", \"high-speed\", \"uwb\", \"iptv\", \"photos\", \"subscribers\", \"shoppers\", \"downloading\", \"t-mobile\", \"phone\", \"digital\", \"bt\", \"operators\", \"content\", \"download\", \"customers\", \"technology\", \"tv\", \"wireless\", \"devices\", \"networks\", \"consumers\", \"music\", \"access\", \"network\", \"images\", \"services\", \"service\", \"video\", \"people\", \"radio\", \"net\", \"internet\", \"online\", \"users\", \"million\", \"uk\"], \"Freq\": [661.0, 743.0, 684.0, 1383.0, 780.0, 596.0, 944.0, 466.0, 656.0, 456.0, 480.0, 573.0, 517.0, 735.0, 912.0, 387.0, 459.0, 484.0, 350.0, 685.0, 507.0, 990.0, 373.0, 544.0, 1009.0, 696.0, 387.0, 460.0, 359.0, 451.0, 303.0774607259605, 298.1713883840148, 291.9736660202038, 291.20873513601117, 289.46417806694416, 287.3537925177906, 267.1486407816686, 262.990446822614, 259.0447627353741, 257.2983434346668, 256.7909545692275, 250.3363365811168, 249.19638918138915, 244.9412514446289, 244.11817584029464, 241.80457618718395, 235.2368545600259, 234.14058495695312, 233.08317597282092, 232.02311984949753, 221.88099079700982, 217.69914187901995, 216.59540795904172, 202.9247654874346, 201.62238839570728, 196.83299025264822, 187.8997727319566, 183.86981112023403, 183.62425817956174, 183.43741940176412, 645.2777918565928, 389.3966374808997, 525.2971929973794, 873.7302133536972, 833.2098997015768, 488.24783287731395, 417.70185045797075, 249.22289135398947, 360.1716051962624, 470.22737127182864, 541.4590858644464, 502.30164874684755, 421.1143514630013, 532.6016350079308, 444.9050224529184, 420.0988349956043, 433.5024396061268, 570.904015386083, 372.485881248917, 371.3606931892147, 353.8767697609602, 586.1812097108996, 428.42251793683334, 492.88460497758723, 464.591581153071, 362.6247644899883, 606.3992585554066, 435.55637337299356, 425.6533025359532, 439.9365268751616, 441.9922767026362, 433.87168474261125, 413.44931368936926, 608.2151344791947, 513.0497110382703, 484.11709529219604, 459.868930932525, 457.8675398005348, 455.1881424480259, 446.41567707182327, 441.54672623993093, 437.7193015570236, 432.54020451012485, 269.95335337861985, 202.5236263327339, 145.3507641732978, 142.83909839775671, 121.20255459408025, 118.3324598464537, 117.62755068748687, 116.28147939799749, 107.0585994401629, 105.08592590024051, 103.81421029291862, 95.47632722705856, 83.4098179568433, 80.02567471116237, 76.76426157110556, 71.44796863228353, 67.40326593364486, 66.0088504817323, 65.23123270541808, 64.66983433603927, 62.229403033216556, 60.62822690882106, 59.883476937827744, 58.967363057467054, 57.450425004159676, 56.81486548782835, 56.53428086276554, 56.48591508531846, 56.414352064237036, 55.14574037434516, 218.84260623418385, 89.2818158677526, 310.99945372101854, 122.066982629325, 176.62225675016958, 108.11587671851758, 94.3166379655325, 144.37508793311713, 134.37020234911947, 107.12896931192581, 115.76409354025515, 79.4009399987931, 127.79267276655544, 88.8660465603026, 152.98361703605724, 112.38691897827503, 144.6730121303412, 94.53948886179607, 116.43901833808745, 103.46939013987169, 108.62419291223742, 102.25529154022004, 99.41290725321521, 291.9818557230174, 210.33808513714777, 184.85385493139535, 125.4575901567171, 124.27110592308725, 121.7533389051639, 116.62876524761217, 115.29897734077066, 110.23651977523637, 103.81751599647029, 100.81484220423162, 98.98904609104989, 90.33107780692923, 82.88462901987094, 82.2533501396794, 81.44729648202419, 77.72269916157204, 77.02209730648933, 77.02209730648933, 72.61990350816271, 72.6210758067961, 70.79816716742947, 68.71896572281035, 66.86347662276683, 66.20059288613017, 65.31391812715731, 64.96453379552729, 62.77325981477865, 62.62724962660133, 60.6088070826288, 325.4440737988689, 199.95118879873314, 121.30246813009714, 107.1329653583178, 137.42646022812085, 134.38484094437027, 183.4263256425231, 144.01040406427182, 199.86475341090494, 331.5648573937427, 172.04067807511805, 184.86134505420733, 343.2114633576056, 190.37125877999705, 210.7423629423694, 152.4139914127233, 132.43961199055207, 218.82017715515593, 155.1601127630994, 243.09651490861106, 200.59936766190805, 232.639139032224, 236.16344637744012, 147.87486683979608, 149.3938983642811, 223.38023001241075, 158.92932824160485, 148.06795779993442, 183.85881729270668, 160.30367136429118, 162.42628719722597, 155.59362722417114, 153.16780303732014, 149.89471378179587, 249.88347120924564, 212.3634536612454, 212.01144474332523, 176.7757222659028, 173.22594705343155, 165.6405224715514, 160.53972154307374, 155.87632032961997, 154.38835136343897, 138.7547963579332, 137.99996639196203, 132.98980519621304, 127.20151536493911, 126.14980768569117, 115.03867999677203, 100.74064018647327, 92.03621900391488, 90.0063582664943, 89.18576017997754, 86.63849691070658, 84.3878854071524, 84.22754954245019, 82.55345192856232, 82.05122264439596, 80.38294752532384, 76.57086457625796, 76.48201504342786, 75.30309888789208, 72.67477693146613, 71.2866724416659, 695.948657532474, 357.2708542201027, 317.54385042821247, 261.9609939929259, 270.19846847184317, 235.23553422168374, 144.8240345995029, 155.53573045377127, 127.93488900299972, 163.30172189726562, 462.47683520309596, 133.89323044405646, 232.2757602301535, 177.76283501385907, 200.63149159973412, 353.95345738281503, 258.53542041613616, 276.18143819694143, 193.41670791918455, 175.3006844523872, 190.67966608008342, 196.28323509075517, 195.7309671123365, 152.92749610445964, 146.31868317037205, 144.72661233270824, 139.15137601457926, 131.8999074539802, 122.39383684414962, 121.6015426462688, 101.94911556071959, 83.41368392796383, 81.53832692179313, 80.61177109154761, 77.85501915294333, 71.53204359466505, 71.1192423244234, 71.08524082309252, 69.62974061673624, 68.14709704905022, 65.23544938216085, 65.19298308152472, 59.887353375541636, 59.435184361893256, 56.46364043614535, 55.3158889338154, 53.98868735857787, 53.56233047426437, 52.66802259148063, 49.08832139547244, 48.20652250298526, 47.93304154668878, 46.38001253011572, 45.11466274763263, 242.92249831166163, 422.16227328769526, 156.55620608546303, 172.16579177353594, 111.47966247743504, 178.48255185553475, 137.90219381515104, 118.64406846557004, 89.08897380664469, 151.06348778919497, 106.49125158446245, 252.26310137498587, 146.25221337973198, 160.35045597449167, 103.87907144050033, 123.7881692355695, 87.95479168975204, 103.50432504349114, 112.80354056314057, 111.3893039581699, 92.78761369571119, 86.89188097959128, 84.1473396516985, 350.83562593992457, 144.60862469955737, 127.54793973424619, 120.78321293290642, 113.14023106176597, 107.7730124687374, 106.90176977327387, 103.61751107131916, 100.94260133695246, 93.53936885367553, 89.41885551347627, 87.75467145433932, 85.57819390640992, 84.76135247290925, 83.89719596624955, 82.93171328664913, 77.48171176920896, 76.22296948584453, 75.56709104192174, 69.92883627206982, 69.05755139691101, 68.2895751403702, 67.72322837210079, 66.8151628026744, 66.47606968754742, 64.56146477764592, 63.379510629504146, 62.82006551387181, 62.61651684946605, 61.26149413920649, 154.54077244697888, 159.5150344540322, 110.66570651466046, 99.59538187031619, 168.1534044087131, 197.62245940128557, 270.4798688225598, 159.29345396990234, 123.55107617070455, 184.2372181767034, 103.74067578148127, 89.8076995791636, 142.46415626786919, 107.57986109921349, 166.984710502269, 98.14770091449203, 165.55858337072323, 153.8036400925977, 104.47984330615881, 138.93337833696157, 94.19640196675608, 143.84219854681743, 145.0677085027781, 135.37825217696454, 110.61095727021168, 110.59973747127226, 107.25973830203014, 107.05288907647021, 321.889456526062, 291.7861349206703, 278.865643542429, 270.12375259851024, 266.6118466936998, 234.81977293442623, 227.71852471584185, 210.84912659188691, 209.05054242497255, 192.73351715336054, 190.50975355478369, 177.36747688714675, 175.04844179179727, 173.5182901127632, 170.35241786311346, 168.08599215784304, 156.57736628446517, 153.15141273412522, 149.17874989858728, 147.90685688136224, 145.65738068794738, 141.68675673658163, 141.4255015328832, 136.851862141504, 131.32181101766227, 131.29944507613718, 125.4972235100995, 114.40825766476648, 112.41580444578358, 112.25788359899319, 668.6099273257425, 478.18815471220677, 505.042359928313, 547.1627412757756, 334.8808763597475, 314.25902518824455, 321.45706891803326, 260.6230878206976, 232.45450253638447, 170.49961912190773, 221.0504261125021, 363.46273728732393, 211.21425161702348, 873.1913180244626, 527.9547224115446, 407.44488761624876, 266.37492423393496, 242.59908400639182, 315.25505099853723, 225.0337467516673, 230.4413206616511, 229.01622300445817, 300.40009103148236, 281.83184930673275, 256.7476838791304, 252.377819633626, 310.32426706299844, 273.99905356612936, 321.45993790866993, 222.13431587057246, 160.55394871091855, 154.86126124391274, 147.7906756439893, 147.32172206256425, 145.0810070264934, 139.13742592355038, 128.70712318937075, 127.75463170893339, 126.9825086587916, 124.40452179057489, 123.8568128941783, 119.18902885768284, 115.24660046482052, 115.07450551729006, 109.14894607667429, 107.68989624649008, 107.56079521660554, 104.67217864881698, 103.90798209395872, 101.0910726579211, 100.43587354573035, 98.62755912856639, 93.26562663506704, 90.19811091210042, 89.45330228277832, 85.97973530279121, 85.80618192350204, 85.36971504504476, 318.51141178350593, 247.5022236651726, 415.86783648990917, 175.32424074503984, 222.47765998364687, 216.67236423549284, 404.61143246547647, 132.97615354931878, 300.5327975907078, 175.64991018326864, 350.82327643395155, 193.60893042671336, 319.24769753281043, 214.51824426280663, 359.49056830403777, 234.79250594736138, 245.8771511683865, 225.9455829953781, 180.82796099822087, 275.18345362637496, 307.57458322965584, 219.576801263772, 171.00015865245922, 180.10816799765266, 183.12910607288964, 251.09272000479015, 188.04136447691212, 180.28752799557975, 252.12680776020494, 186.5471496341363, 194.26226448119036, 190.5473731294079, 193.95459501857118, 187.51504952742988, 198.10376289033312, 193.92162956598142, 188.43455435890812, 180.67031667636854, 147.6914934565659, 137.73367901618005, 135.21690107832796, 128.4733122819908, 107.32886276470583, 106.43153737058627, 105.77426057322164, 102.46206362112238, 96.72700516427645, 96.38493960015064, 90.27232620778366, 88.9714486003695, 86.6275834320549, 85.62168876127804, 84.63158967153764, 77.21620946865704, 76.06377253892369, 75.71567074050448, 75.71567074050448, 73.41517891066606, 70.77701276195495, 70.49419905796566, 69.72548231679501, 65.92648380408906, 61.87441040886678, 60.06477962239267, 59.42243213732621, 224.81691980457518, 147.87423929784546, 385.11123184389555, 159.3192436337518, 230.97612739631228, 230.09105878327702, 200.59573255075793, 142.1269240599152, 113.35166989266186, 238.46116850762616, 271.87431491218246, 143.80050918416595, 284.6598885518414, 172.04862039292044, 135.08906193005615, 218.32311130486136, 112.54236293172742, 198.26393985103013, 170.49510564517155, 170.15125224981992, 132.84056926357727, 151.07183995461887, 145.78359185423275, 121.79352325666613, 123.94198953074722, 661.2267518106189, 387.6249701018592, 306.1160803991939, 204.5160038490721, 164.92603075750458, 138.03056242602392, 130.76754255267957, 125.91521293269857, 121.19277600013896, 116.20681016286792, 103.41928258505554, 100.98550073165175, 100.3162927741612, 92.86809815599496, 84.7733777317992, 84.24520856194657, 78.35748097246302, 76.36452575782731, 75.68371025807042, 74.91652060561513, 73.58810043531798, 73.1019549879144, 73.0779729996934, 71.48391168994989, 70.28022385513715, 68.23680247829653, 66.22996500706459, 66.08029530334062, 64.22312753583266, 63.52174861853342, 452.90721762806345, 442.26540208091563, 217.51259067217038, 151.23985453651974, 255.94945257725465, 163.81742598168188, 197.65361966187828, 339.9222348518679, 316.7820989068119, 142.6331544093165, 169.6495075594721, 190.26357974035201, 179.49032470003846, 391.6745595340004, 195.78999170567337, 181.91945963702543, 138.6421356215785, 239.98350566136824, 227.0860313912158, 182.70010259994618, 246.7771284839609, 167.89159532695362, 183.2375331067134, 164.8360690553487, 166.76548174997447, 170.08688963082633, 169.45941943169763, 153.73337038822686], \"Total\": [661.0, 743.0, 684.0, 1383.0, 780.0, 596.0, 944.0, 466.0, 656.0, 456.0, 480.0, 573.0, 517.0, 735.0, 912.0, 387.0, 459.0, 484.0, 350.0, 685.0, 507.0, 990.0, 373.0, 544.0, 1009.0, 696.0, 387.0, 460.0, 359.0, 451.0, 303.1155848717193, 298.20950134706385, 292.01177898325284, 291.246859634562, 289.5022910299932, 287.3919054808397, 267.1867585403214, 263.0285928785363, 259.08287569842315, 257.3364709358523, 256.82910058077476, 250.37446562281292, 249.2345021444383, 244.97937722175294, 244.15633372717934, 241.8426891502331, 235.27497479260643, 234.17871622075006, 233.12128893587007, 232.06123281254668, 221.9191070263635, 217.73726211160047, 216.63355301080966, 202.9628796965172, 201.6605208180002, 196.87110866745823, 187.93788569500575, 183.9079469512774, 183.66238652283315, 183.47553236481326, 659.2277969521245, 395.65277149724295, 557.3034513629548, 990.7407090330521, 944.6330952599737, 526.9150956728078, 443.2287037890626, 250.2792120163201, 378.51401480762905, 509.5031994057475, 607.7484578876872, 562.5917674512972, 457.3117544351473, 615.7966074394451, 492.50002773338014, 458.5484231017629, 478.79417508554525, 675.9562521609496, 399.0792643775448, 399.4595458828775, 381.12747483823847, 747.2585170725715, 490.55438570831853, 605.4697043800002, 557.4788849175113, 400.54087357728133, 876.8371729869067, 544.2734772855538, 525.0944004743329, 560.6724417775964, 568.841831336459, 560.9625581700145, 513.578064964018, 1172.6170554859293, 818.4486988729827, 730.5973401669378, 647.8959412007832, 675.6642439204638, 695.8274858123052, 723.2409404552354, 714.2481377862784, 758.5459854661924, 600.4635218917094, 269.99177660600753, 202.56204851622724, 145.3891940939129, 142.87753076431883, 121.24099116684437, 118.37088364602033, 117.66597287098018, 116.3199089520974, 107.09703174417925, 105.12437398808319, 103.85263247641193, 95.51474941055187, 83.44824330252565, 80.06409689465568, 76.80269523074129, 71.48639081577684, 67.44169809240569, 66.04728061311957, 65.26966657232101, 64.70826018352574, 62.26782521670985, 60.66666147086906, 59.92191401433623, 59.00578524096035, 57.48884718765297, 56.85329173524156, 56.57270940537563, 56.5243417683248, 56.452774642943936, 55.18416786003495, 231.16913652649637, 91.1642550280026, 373.5057040603975, 134.34307883747346, 216.51139658966915, 131.08191345703642, 113.28221248900905, 211.71682506117367, 201.83332449367418, 142.79096039236995, 183.10643766094805, 92.83207741608318, 242.46037485724437, 122.62065551345226, 656.0012454261696, 262.260482041869, 1009.4149965711425, 156.84443293378416, 464.66908153474486, 266.9136931483113, 468.7722521589608, 306.57666031823635, 1172.6170554859293, 292.02023713699987, 210.3764708291089, 184.8922276293621, 125.49596533583221, 124.30948531049465, 121.79171455022572, 116.66714442055452, 115.33735082173598, 110.2748924732031, 103.85589354411258, 100.85321881797724, 99.02743004001404, 90.36945637241799, 82.92300708958065, 82.29172910163493, 81.48566917999091, 77.76108083256652, 77.06047471987257, 77.06047471987257, 72.65827810103079, 72.65945305226086, 70.83654026941451, 68.75733922222017, 66.90184932073355, 66.23896883080712, 65.35229082512403, 65.00291023208473, 62.811635544587524, 62.66562717278802, 60.6471859364841, 329.6742368050948, 215.47956667952104, 124.88342565432231, 109.4966999170007, 144.70118571041516, 144.8337793985958, 208.138476313005, 159.87961815360637, 242.97850151049755, 460.00096715569936, 205.89600990371315, 228.44542056465204, 515.1309505820373, 253.9046895885757, 293.8168967590119, 190.27842689435536, 156.65753719354495, 332.7018606829163, 205.70748704833923, 456.1400811199595, 330.91667662337244, 656.0012454261696, 696.5296670294722, 222.37604353174544, 244.670268475992, 1009.4149965711425, 340.67871588985275, 270.79264218821913, 831.0770808143573, 464.66908153474486, 578.8617310060216, 541.8727712513081, 565.3895741743717, 397.743496833083, 249.92201462839475, 212.40200955031747, 212.04998999994902, 176.8142716174431, 173.26449047258066, 165.67907398648356, 160.57827047568597, 155.91486574928277, 154.42689779102366, 138.79334384652995, 138.0385284789525, 133.02834861536215, 127.24006025417417, 126.18835110484027, 115.07722341592113, 100.77918360562236, 92.07477098072486, 90.0449016856434, 89.22430923102895, 86.67704368877618, 84.42642882630149, 84.26610031342055, 82.59199534771142, 82.08977181324794, 80.42149094447294, 76.6094112690592, 76.52056134046441, 75.3416476010239, 72.71333142420997, 71.3252240847829, 743.2099439607545, 359.6827459322368, 321.13923762556067, 265.09034814122555, 279.1675076729359, 250.79377160346905, 149.93125743937057, 162.34220543301632, 131.41060314405652, 181.00242923080305, 685.0223716986399, 146.74605948997913, 297.8756531484772, 217.77542353150938, 261.4293197545804, 780.8309596338324, 476.22260370304053, 696.5296670294722, 420.39701367720545, 343.8433915032078, 507.495883879187, 831.0770808143573, 1009.4149965711425, 421.46487290609383, 146.35697009593204, 144.76489304806003, 139.18966447615097, 131.93820321160126, 122.43212245895822, 121.63982989422966, 101.98740559266307, 83.45197200685244, 81.57661413146727, 80.6500518068994, 77.89330428087868, 71.57032431001684, 71.15752303977519, 71.12352713566472, 69.66802133208803, 68.18538091347534, 65.27373009751264, 65.2312637968765, 59.9256404863411, 59.47346507724504, 56.50192115149713, 55.35416964916718, 54.02696958985074, 53.60061197775431, 52.70630728405849, 49.12660451673294, 48.244803613550644, 47.97132226204056, 46.4182932454675, 45.1529496644683, 250.68809887676932, 596.3440943276597, 182.34985959797018, 212.32688140639166, 124.35897099045712, 225.27510907254836, 191.35566273110646, 156.22202637506132, 106.44041726075454, 232.75700626560578, 144.3157583464536, 656.0012454261696, 286.035812347136, 364.0755004822786, 160.36998062043227, 363.6215236246072, 135.23022033516455, 337.1477399308643, 544.4493975139068, 944.6330952599737, 255.0112223122873, 723.2409404552354, 464.66908153474486, 350.8740357807175, 144.647044032367, 127.58634269284755, 120.82160964315109, 113.178637594738, 107.81141284055649, 106.9401798715199, 103.65591108009072, 100.98100122529367, 93.57776881713623, 89.45725222372094, 87.79307427696388, 85.61659261652991, 84.79974918315392, 83.93560590365801, 82.97012306180238, 77.52011050265601, 76.26136946207717, 75.60549264681273, 69.96723298231448, 69.09595212816498, 68.32797336653596, 67.7616254863638, 66.85356193896561, 66.51446639779209, 64.59986148789059, 63.41791195028085, 62.85846872210586, 62.65491355971073, 61.29989755295057, 158.80470112908324, 171.03255357623107, 114.60959518292023, 102.81776831933924, 186.94613461392748, 227.55059386341316, 353.23525561056323, 190.55987801427662, 142.74410949744944, 240.40470340474496, 116.31713178316795, 96.63873422021706, 201.05873489288928, 131.87287812895818, 302.6538448810191, 113.96095181708341, 378.7014441828693, 343.0879862023768, 133.09174840187706, 320.6625930010494, 106.31625522334494, 467.2827860275421, 1383.1165786580964, 792.5368172057955, 385.8285684462598, 831.0770808143573, 442.9816127047752, 356.490154635282, 321.92739381893284, 291.8240643140594, 278.90358806908523, 270.161681795598, 266.64977589078757, 234.85770852186494, 227.75646233872067, 210.88705578897466, 209.08847343043868, 192.7714463504483, 190.54768275187143, 177.40540951918103, 175.08638027288197, 173.55622111822933, 170.39035610330234, 168.12392787829322, 156.61530633292375, 153.18935378168032, 149.21668782296257, 147.94480392350826, 145.69531660515977, 141.7247019394331, 141.46343610981276, 136.88979676450063, 131.3597438318108, 131.3373778902857, 125.53515352647604, 114.44618686185422, 112.45374090860801, 112.29581279608092, 684.2055258488834, 484.1923720686882, 517.0299937115786, 573.317184434289, 345.15802519337103, 324.8282579318606, 333.9304767922934, 266.60121382848126, 242.6699158046144, 171.98592077726917, 229.76207790732255, 412.0939115903837, 220.40947133720377, 1383.1165786580964, 735.8074808699806, 527.9057856760445, 314.04978654291875, 280.11541375493823, 415.94153265714056, 253.8182043939196, 264.40043167578744, 269.8625090466211, 470.8330677784567, 443.53099149156156, 365.07081924161656, 354.87367763964374, 1172.6170554859293, 1009.4149965711425, 321.49823357063383, 222.17260226208487, 160.5922338484819, 154.89954229858338, 147.82894926058106, 147.35999567915601, 145.11928064308518, 139.17569954014215, 128.74540518551692, 127.79293828586881, 127.02078227538337, 124.44279540716666, 123.89509598965428, 119.22730963525775, 115.28487746151147, 115.11277913388183, 109.18723180287921, 107.72817867763004, 107.59907367212192, 104.71045226540875, 103.94625753546009, 101.12934627451287, 100.47414799026608, 98.66583558198182, 93.30390186773212, 90.23639157656864, 89.49157991012112, 86.01800891938298, 85.84445676178856, 85.40800026809636, 334.32988035882937, 252.99371944459094, 451.1662263492165, 177.94791548034678, 235.00910924729172, 228.48236363049855, 462.97593788356096, 135.31452892313402, 335.5700584238473, 185.6810637159369, 412.9480385868226, 207.77540292980473, 390.07986346257326, 244.5748100857404, 500.4502687665274, 289.5971721095522, 311.6783806873428, 282.7363385085355, 209.77184960011576, 385.8285684462598, 494.4862036498941, 288.9261134769114, 199.33074138731752, 233.40379644883816, 248.02378198163112, 614.3512370193346, 277.47764304559684, 249.8621923655059, 792.5368172057955, 280.4899671750111, 353.2202909335949, 329.33795001439023, 467.2827860275421, 345.61063741288484, 704.2198860066726, 193.95988052390533, 188.47279102566142, 180.7085525159524, 147.7297310462166, 137.77195092718733, 135.25514247706457, 128.51155657927185, 107.36710196435199, 106.4697930236021, 105.8125079013248, 102.5003014839086, 96.76524100386028, 96.42317543973448, 90.3105620473675, 89.00968443995333, 86.66582859759176, 85.65993014330044, 84.66982551112147, 77.25445174464124, 76.10201474425172, 75.7539110942929, 75.75391145079813, 73.45342646669559, 70.81524941664276, 70.53244177309926, 69.76372799487488, 65.96472115959398, 61.91264938726329, 60.103015461976504, 59.46066954377077, 245.57113887661245, 156.27038993225173, 456.82333805723584, 175.1186750679985, 267.66571919296035, 271.9230050553445, 237.66050365933395, 158.70046793820825, 121.08186706196143, 309.96239739856105, 387.84638823178653, 171.0735492161381, 459.0322367256979, 239.38028611220227, 174.37037646946823, 388.2731663262093, 138.49881130965554, 454.38380571495736, 344.73593806482313, 364.0755004822786, 212.41826908084363, 388.73757753224663, 428.9913804589818, 184.8511110661226, 467.32338970098414, 661.2648727034652, 387.66305737582854, 306.1541668607865, 204.5540951734762, 164.96411721909718, 138.06865288345014, 130.80563671497228, 125.95330417681284, 121.23086882084837, 116.24489662446054, 103.45737671266102, 101.02358880931769, 100.35438414738702, 92.90618793935269, 84.81146939346515, 84.28329502353918, 78.39557433832269, 76.40261857561299, 75.72179671966303, 74.95461069022292, 73.6261957983901, 73.14004474561149, 73.11606469684493, 71.5219981515425, 70.3183110746903, 68.2748967465126, 66.26805226560009, 66.11838176493323, 64.2612148104903, 63.55983671327831, 466.8167947976252, 480.039904266504, 221.23796953921746, 159.50788812218147, 302.6678877893092, 195.2148489775844, 249.20209164243926, 544.4493975139068, 507.495883879187, 172.4543900836871, 232.61290599637363, 275.2600551629948, 254.51345889985805, 780.8309596338324, 306.61059521571667, 271.2995442088609, 177.17550919727208, 444.35750754932735, 443.37701010368687, 363.6215236246072, 912.539329811322, 334.85888042730204, 454.38380571495736, 344.73593806482313, 388.73757753224663, 459.0322367256979, 460.0510487124079, 628.3895137514114], \"Category\": [\"Default\", \"Default\", \"Default\", \"Default\", \"Default\", \"Default\", \"Default\", \"Default\", \"Default\", \"Default\", \"Default\", \"Default\", \"Default\", \"Default\", \"Default\", \"Default\", \"Default\", \"Default\", \"Default\", \"Default\", \"Default\", \"Default\", \"Default\", \"Default\", \"Default\", \"Default\", \"Default\", \"Default\", \"Default\", \"Default\", \"Topic1\", \"Topic1\", \"Topic1\", \"Topic1\", \"Topic1\", \"Topic1\", \"Topic1\", \"Topic1\", \"Topic1\", \"Topic1\", \"Topic1\", \"Topic1\", \"Topic1\", \"Topic1\", \"Topic1\", \"Topic1\", \"Topic1\", \"Topic1\", \"Topic1\", \"Topic1\", \"Topic1\", \"Topic1\", \"Topic1\", \"Topic1\", \"Topic1\", \"Topic1\", \"Topic1\", \"Topic1\", \"Topic1\", \"Topic1\", \"Topic1\", \"Topic1\", \"Topic1\", \"Topic1\", \"Topic1\", \"Topic1\", \"Topic1\", \"Topic1\", \"Topic1\", \"Topic1\", \"Topic1\", \"Topic1\", \"Topic1\", \"Topic1\", \"Topic1\", \"Topic1\", \"Topic1\", \"Topic1\", \"Topic1\", \"Topic1\", \"Topic1\", \"Topic1\", \"Topic1\", \"Topic1\", \"Topic1\", \"Topic1\", \"Topic1\", \"Topic1\", \"Topic1\", \"Topic1\", \"Topic1\", \"Topic1\", \"Topic1\", \"Topic1\", \"Topic1\", \"Topic1\", \"Topic1\", \"Topic1\", \"Topic1\", \"Topic1\", \"Topic1\", \"Topic1\", \"Topic1\", \"Topic2\", \"Topic2\", \"Topic2\", \"Topic2\", \"Topic2\", \"Topic2\", \"Topic2\", \"Topic2\", \"Topic2\", \"Topic2\", \"Topic2\", \"Topic2\", \"Topic2\", \"Topic2\", \"Topic2\", \"Topic2\", \"Topic2\", \"Topic2\", \"Topic2\", \"Topic2\", \"Topic2\", \"Topic2\", \"Topic2\", \"Topic2\", \"Topic2\", \"Topic2\", \"Topic2\", \"Topic2\", \"Topic2\", \"Topic2\", \"Topic2\", \"Topic2\", \"Topic2\", \"Topic2\", \"Topic2\", \"Topic2\", \"Topic2\", \"Topic2\", \"Topic2\", \"Topic2\", \"Topic2\", \"Topic2\", \"Topic2\", \"Topic2\", \"Topic2\", \"Topic2\", \"Topic2\", \"Topic2\", \"Topic2\", \"Topic2\", \"Topic2\", \"Topic2\", \"Topic2\", \"Topic3\", \"Topic3\", \"Topic3\", \"Topic3\", \"Topic3\", \"Topic3\", \"Topic3\", \"Topic3\", \"Topic3\", \"Topic3\", \"Topic3\", \"Topic3\", \"Topic3\", \"Topic3\", \"Topic3\", \"Topic3\", \"Topic3\", \"Topic3\", \"Topic3\", \"Topic3\", \"Topic3\", \"Topic3\", \"Topic3\", \"Topic3\", \"Topic3\", \"Topic3\", \"Topic3\", \"Topic3\", \"Topic3\", \"Topic3\", \"Topic3\", \"Topic3\", \"Topic3\", \"Topic3\", \"Topic3\", \"Topic3\", \"Topic3\", \"Topic3\", \"Topic3\", \"Topic3\", \"Topic3\", \"Topic3\", \"Topic3\", \"Topic3\", \"Topic3\", \"Topic3\", \"Topic3\", \"Topic3\", \"Topic3\", \"Topic3\", \"Topic3\", \"Topic3\", \"Topic3\", \"Topic3\", \"Topic3\", \"Topic3\", \"Topic3\", \"Topic3\", \"Topic3\", \"Topic3\", \"Topic3\", \"Topic3\", \"Topic3\", \"Topic3\", \"Topic4\", \"Topic4\", \"Topic4\", \"Topic4\", \"Topic4\", \"Topic4\", \"Topic4\", \"Topic4\", \"Topic4\", \"Topic4\", \"Topic4\", \"Topic4\", \"Topic4\", \"Topic4\", \"Topic4\", \"Topic4\", \"Topic4\", \"Topic4\", \"Topic4\", \"Topic4\", \"Topic4\", \"Topic4\", \"Topic4\", \"Topic4\", \"Topic4\", \"Topic4\", \"Topic4\", \"Topic4\", \"Topic4\", \"Topic4\", \"Topic4\", \"Topic4\", \"Topic4\", \"Topic4\", \"Topic4\", \"Topic4\", \"Topic4\", \"Topic4\", \"Topic4\", \"Topic4\", \"Topic4\", \"Topic4\", \"Topic4\", \"Topic4\", \"Topic4\", \"Topic4\", \"Topic4\", \"Topic4\", \"Topic4\", \"Topic4\", \"Topic4\", \"Topic4\", \"Topic4\", \"Topic4\", \"Topic5\", \"Topic5\", \"Topic5\", \"Topic5\", \"Topic5\", \"Topic5\", \"Topic5\", \"Topic5\", \"Topic5\", \"Topic5\", \"Topic5\", \"Topic5\", \"Topic5\", \"Topic5\", \"Topic5\", \"Topic5\", \"Topic5\", \"Topic5\", \"Topic5\", \"Topic5\", \"Topic5\", \"Topic5\", \"Topic5\", \"Topic5\", \"Topic5\", \"Topic5\", \"Topic5\", \"Topic5\", \"Topic5\", \"Topic5\", \"Topic5\", \"Topic5\", \"Topic5\", \"Topic5\", \"Topic5\", \"Topic5\", \"Topic5\", \"Topic5\", \"Topic5\", \"Topic5\", \"Topic5\", \"Topic5\", \"Topic5\", \"Topic5\", \"Topic5\", \"Topic5\", \"Topic5\", \"Topic5\", \"Topic5\", \"Topic5\", \"Topic5\", \"Topic5\", \"Topic5\", \"Topic6\", \"Topic6\", \"Topic6\", \"Topic6\", \"Topic6\", \"Topic6\", \"Topic6\", \"Topic6\", \"Topic6\", \"Topic6\", \"Topic6\", \"Topic6\", \"Topic6\", \"Topic6\", \"Topic6\", \"Topic6\", \"Topic6\", \"Topic6\", \"Topic6\", \"Topic6\", \"Topic6\", \"Topic6\", \"Topic6\", \"Topic6\", \"Topic6\", \"Topic6\", \"Topic6\", \"Topic6\", \"Topic6\", \"Topic6\", \"Topic6\", \"Topic6\", \"Topic6\", \"Topic6\", \"Topic6\", \"Topic6\", \"Topic6\", \"Topic6\", \"Topic6\", \"Topic6\", \"Topic6\", \"Topic6\", \"Topic6\", \"Topic6\", \"Topic6\", \"Topic6\", \"Topic6\", \"Topic6\", \"Topic6\", \"Topic6\", \"Topic6\", \"Topic6\", \"Topic6\", \"Topic6\", \"Topic6\", \"Topic6\", \"Topic6\", \"Topic6\", \"Topic7\", \"Topic7\", \"Topic7\", \"Topic7\", \"Topic7\", \"Topic7\", \"Topic7\", \"Topic7\", \"Topic7\", \"Topic7\", \"Topic7\", \"Topic7\", \"Topic7\", \"Topic7\", \"Topic7\", \"Topic7\", \"Topic7\", \"Topic7\", \"Topic7\", \"Topic7\", \"Topic7\", \"Topic7\", \"Topic7\", \"Topic7\", \"Topic7\", \"Topic7\", \"Topic7\", \"Topic7\", \"Topic7\", \"Topic7\", \"Topic7\", \"Topic7\", \"Topic7\", \"Topic7\", \"Topic7\", \"Topic7\", \"Topic7\", \"Topic7\", \"Topic7\", \"Topic7\", \"Topic7\", \"Topic7\", \"Topic7\", \"Topic7\", \"Topic7\", \"Topic7\", \"Topic7\", \"Topic7\", \"Topic7\", \"Topic7\", \"Topic7\", \"Topic7\", \"Topic7\", \"Topic7\", \"Topic7\", \"Topic7\", \"Topic7\", \"Topic7\", \"Topic8\", \"Topic8\", \"Topic8\", \"Topic8\", \"Topic8\", \"Topic8\", \"Topic8\", \"Topic8\", \"Topic8\", \"Topic8\", \"Topic8\", \"Topic8\", \"Topic8\", \"Topic8\", \"Topic8\", \"Topic8\", \"Topic8\", \"Topic8\", \"Topic8\", \"Topic8\", \"Topic8\", \"Topic8\", \"Topic8\", \"Topic8\", \"Topic8\", \"Topic8\", \"Topic8\", \"Topic8\", \"Topic8\", \"Topic8\", \"Topic8\", \"Topic8\", \"Topic8\", \"Topic8\", \"Topic8\", \"Topic8\", \"Topic8\", \"Topic8\", \"Topic8\", \"Topic8\", \"Topic8\", \"Topic8\", \"Topic8\", \"Topic8\", \"Topic8\", \"Topic8\", \"Topic8\", \"Topic8\", \"Topic8\", \"Topic8\", \"Topic8\", \"Topic8\", \"Topic8\", \"Topic8\", \"Topic8\", \"Topic8\", \"Topic8\", \"Topic8\", \"Topic8\", \"Topic8\", \"Topic8\", \"Topic8\", \"Topic8\", \"Topic8\", \"Topic8\", \"Topic9\", \"Topic9\", \"Topic9\", \"Topic9\", \"Topic9\", \"Topic9\", \"Topic9\", \"Topic9\", \"Topic9\", \"Topic9\", \"Topic9\", \"Topic9\", \"Topic9\", \"Topic9\", \"Topic9\", \"Topic9\", \"Topic9\", \"Topic9\", \"Topic9\", \"Topic9\", \"Topic9\", \"Topic9\", \"Topic9\", \"Topic9\", \"Topic9\", \"Topic9\", \"Topic9\", \"Topic9\", \"Topic9\", \"Topic9\", \"Topic9\", \"Topic9\", \"Topic9\", \"Topic9\", \"Topic9\", \"Topic9\", \"Topic9\", \"Topic9\", \"Topic9\", \"Topic9\", \"Topic9\", \"Topic9\", \"Topic9\", \"Topic9\", \"Topic9\", \"Topic9\", \"Topic9\", \"Topic9\", \"Topic9\", \"Topic9\", \"Topic9\", \"Topic9\", \"Topic9\", \"Topic9\", \"Topic9\", \"Topic10\", \"Topic10\", \"Topic10\", \"Topic10\", \"Topic10\", \"Topic10\", \"Topic10\", \"Topic10\", \"Topic10\", \"Topic10\", \"Topic10\", \"Topic10\", \"Topic10\", \"Topic10\", \"Topic10\", \"Topic10\", \"Topic10\", \"Topic10\", \"Topic10\", \"Topic10\", \"Topic10\", \"Topic10\", \"Topic10\", \"Topic10\", \"Topic10\", \"Topic10\", \"Topic10\", \"Topic10\", \"Topic10\", \"Topic10\", \"Topic10\", \"Topic10\", \"Topic10\", \"Topic10\", \"Topic10\", \"Topic10\", \"Topic10\", \"Topic10\", \"Topic10\", \"Topic10\", \"Topic10\", \"Topic10\", \"Topic10\", \"Topic10\", \"Topic10\", \"Topic10\", \"Topic10\", \"Topic10\", \"Topic10\", \"Topic10\", \"Topic10\", \"Topic10\", \"Topic10\", \"Topic10\", \"Topic10\", \"Topic10\", \"Topic10\", \"Topic10\"], \"logprob\": [30.0, 29.0, 28.0, 27.0, 26.0, 25.0, 24.0, 23.0, 22.0, 21.0, 20.0, 19.0, 18.0, 17.0, 16.0, 15.0, 14.0, 13.0, 12.0, 11.0, 10.0, 9.0, 8.0, 7.0, 6.0, 5.0, 4.0, 3.0, 2.0, 1.0, -6.7712, -6.7876, -6.8086, -6.8112, -6.8172, -6.8245, -6.8974, -6.9131, -6.9282, -6.935, -6.937, -6.9624, -6.967, -6.9842, -6.9876, -6.9971, -7.0246, -7.0293, -7.0338, -7.0384, -7.0831, -7.1021, -7.1072, -7.1724, -7.1788, -7.2029, -7.2493, -7.271, -7.2723, -7.2734, -6.0156, -6.5206, -6.2213, -5.7125, -5.7599, -6.2944, -6.4505, -6.9669, -6.5987, -6.332, -6.191, -6.266, -6.4423, -6.2075, -6.3874, -6.4447, -6.4133, -6.138, -6.565, -6.5681, -6.6163, -6.1116, -6.4251, -6.285, -6.3441, -6.5919, -6.0777, -6.4086, -6.4316, -6.3986, -6.3939, -6.4125, -6.4607, -6.0747, -6.2449, -6.3029, -6.3543, -6.3587, -6.3645, -6.384, -6.395, -6.4037, -6.4156, -4.924, -5.2114, -5.5431, -5.5606, -5.7248, -5.7488, -5.7548, -5.7663, -5.8489, -5.8675, -5.8797, -5.9634, -6.0985, -6.1399, -6.1816, -6.2533, -6.3116, -6.3325, -6.3444, -6.353, -6.3915, -6.4175, -6.4299, -6.4453, -6.4714, -6.4825, -6.4874, -6.4883, -6.4896, -6.5123, -5.1339, -6.0305, -4.7825, -5.7177, -5.3483, -5.8391, -5.9756, -5.5499, -5.6217, -5.8483, -5.7707, -6.1478, -5.6719, -6.0352, -5.492, -5.8003, -5.5478, -5.9733, -5.7649, -5.883, -5.8344, -5.8948, -5.923, -5.4444, -5.7724, -5.9016, -6.2892, -6.2987, -6.3191, -6.3621, -6.3736, -6.4185, -6.4785, -6.5078, -6.5261, -6.6176, -6.7037, -6.7113, -6.7212, -6.768, -6.777, -6.777, -6.8359, -6.8359, -6.8613, -6.8911, -6.9185, -6.9284, -6.9419, -6.9473, -6.9816, -6.9839, -7.0167, -5.3359, -5.823, -6.3228, -6.4471, -6.198, -6.2204, -5.9093, -6.1512, -5.8235, -5.3173, -5.9734, -5.9015, -5.2828, -5.8721, -5.7705, -6.0945, -6.235, -5.7329, -6.0767, -5.6277, -5.8198, -5.6716, -5.6566, -6.1248, -6.1145, -5.7122, -6.0527, -6.1235, -5.907, -6.0441, -6.0309, -6.0739, -6.0896, -6.1112, -5.6996, -5.8623, -5.8639, -6.0457, -6.066, -6.1107, -6.142, -6.1715, -6.1811, -6.2878, -6.2933, -6.3303, -6.3748, -6.3831, -6.4753, -6.608, -6.6984, -6.7207, -6.7298, -6.7588, -6.7851, -6.787, -6.8071, -6.8132, -6.8338, -6.8823, -6.8835, -6.899, -6.9346, -6.9538, -4.6753, -5.3421, -5.4599, -5.6524, -5.6214, -5.76, -6.245, -6.1737, -6.369, -6.125, -5.084, -6.3235, -5.7726, -6.0401, -5.9191, -5.3514, -5.6655, -5.5995, -5.9557, -6.0541, -5.97, -5.941, -5.9438, -6.1906, -5.5965, -5.6075, -5.6468, -5.7003, -5.7751, -5.7816, -5.9579, -6.1585, -6.1813, -6.1927, -6.2275, -6.3122, -6.318, -6.3184, -6.3391, -6.3607, -6.4043, -6.405, -6.4899, -6.4974, -6.5487, -6.5693, -6.5936, -6.6015, -6.6183, -6.6887, -6.7068, -6.7125, -6.7455, -6.7731, -5.0896, -4.5369, -5.5289, -5.4339, -5.8685, -5.3978, -5.6558, -5.8062, -6.0927, -5.5646, -5.9143, -5.0519, -5.597, -5.505, -5.9391, -5.7638, -6.1055, -5.9427, -5.8567, -5.8693, -6.052, -6.1177, -6.1498, -4.8605, -5.7468, -5.8724, -5.9268, -5.9922, -6.0408, -6.0489, -6.0801, -6.1063, -6.1825, -6.2275, -6.2463, -6.2714, -6.281, -6.2913, -6.3028, -6.3708, -6.3872, -6.3958, -6.4734, -6.4859, -6.4971, -6.5054, -6.5189, -6.524, -6.5532, -6.5717, -6.5806, -6.5838, -6.6057, -5.6804, -5.6487, -6.0143, -6.1197, -5.596, -5.4345, -5.1206, -5.6501, -5.9042, -5.5046, -6.0789, -6.2232, -5.7618, -6.0426, -5.6029, -6.1344, -5.6115, -5.6852, -6.0718, -5.7868, -6.1755, -5.7521, -5.7436, -5.8128, -6.0148, -6.0149, -6.0456, -6.0475, -5.616, -5.7142, -5.7595, -5.7914, -5.8044, -5.9314, -5.9621, -6.0391, -6.0477, -6.1289, -6.1405, -6.212, -6.2252, -6.234, -6.2524, -6.2658, -6.3367, -6.3588, -6.3851, -6.3937, -6.409, -6.4366, -6.4385, -6.4713, -6.5126, -6.5128, -6.558, -6.6505, -6.668, -6.6694, -4.885, -5.2202, -5.1656, -5.0855, -5.5765, -5.64, -5.6174, -5.8272, -5.9415, -6.2515, -5.9918, -5.4946, -6.0374, -4.6181, -5.1212, -5.3803, -5.8053, -5.8988, -5.6369, -5.974, -5.9502, -5.9564, -5.6851, -5.7489, -5.8421, -5.8593, -5.6526, -5.7771, -5.669, -6.0386, -6.3633, -6.3994, -6.4461, -6.4493, -6.4646, -6.5064, -6.5844, -6.5918, -6.5978, -6.6184, -6.6228, -6.6612, -6.6948, -6.6963, -6.7492, -6.7626, -6.7638, -6.7911, -6.7984, -6.8259, -6.8324, -6.8505, -6.9064, -6.9399, -6.9482, -6.9878, -6.9898, -6.9949, -5.6782, -5.9305, -5.4115, -6.2753, -6.0371, -6.0635, -5.439, -6.5517, -5.7363, -6.2734, -5.5816, -6.1761, -5.6759, -6.0735, -5.5572, -5.9832, -5.9371, -6.0216, -6.2444, -5.8245, -5.7132, -6.0502, -6.3002, -6.2483, -6.2317, -5.9161, -6.2052, -6.2473, -5.912, -6.2132, -6.1727, -6.192, -6.1743, -6.208, -6.1531, -5.3186, -5.3473, -5.3894, -5.591, -5.6608, -5.6792, -5.7304, -5.9102, -5.9186, -5.9248, -5.9566, -6.0142, -6.0177, -6.0833, -6.0978, -6.1245, -6.1362, -6.1478, -6.2395, -6.2545, -6.2591, -6.2591, -6.29, -6.3266, -6.3306, -6.3415, -6.3976, -6.461, -6.4907, -6.5014, -5.1708, -5.5897, -4.6326, -5.5152, -5.1438, -5.1476, -5.2848, -5.6294, -5.8556, -5.1119, -4.9808, -5.6177, -4.9348, -5.4383, -5.6802, -5.2001, -5.8628, -5.2965, -5.4474, -5.4494, -5.6969, -5.5683, -5.604, -5.7838, -5.7663, -4.4359, -4.97, -5.2061, -5.6094, -5.8245, -6.0025, -6.0566, -6.0944, -6.1326, -6.1747, -6.2912, -6.315, -6.3217, -6.3988, -6.49, -6.4963, -6.5687, -6.5945, -6.6035, -6.6136, -6.6315, -6.6382, -6.6385, -6.6606, -6.6775, -6.707, -6.7369, -6.7392, -6.7677, -6.7786, -4.8143, -4.8381, -5.5478, -5.9112, -5.385, -5.8313, -5.6435, -5.1013, -5.1718, -5.9697, -5.7963, -5.6816, -5.7399, -4.9596, -5.653, -5.7265, -5.9981, -5.4495, -5.5047, -5.7222, -5.4215, -5.8067, -5.7192, -5.8251, -5.8134, -5.7937, -5.7974, -5.8948], \"loglift\": [30.0, 29.0, 28.0, 27.0, 26.0, 25.0, 24.0, 23.0, 22.0, 21.0, 20.0, 19.0, 18.0, 17.0, 16.0, 15.0, 14.0, 13.0, 12.0, 11.0, 10.0, 9.0, 8.0, 7.0, 6.0, 5.0, 4.0, 3.0, 2.0, 1.0, 1.1139, 1.1139, 1.1139, 1.1139, 1.1139, 1.1139, 1.1139, 1.1139, 1.1139, 1.1139, 1.1139, 1.1139, 1.1138, 1.1138, 1.1138, 1.1138, 1.1138, 1.1138, 1.1138, 1.1138, 1.1138, 1.1138, 1.1138, 1.1138, 1.1138, 1.1138, 1.1138, 1.1138, 1.1138, 1.1138, 1.0926, 1.0981, 1.0549, 0.9883, 0.9885, 1.0378, 1.0547, 1.1098, 1.0643, 1.0338, 0.9985, 1.0006, 1.0315, 0.9689, 1.0124, 1.0264, 1.0146, 0.9451, 1.045, 1.0411, 1.0398, 0.8712, 0.9786, 0.9083, 0.9317, 1.0146, 0.7452, 0.8912, 0.9041, 0.8715, 0.8617, 0.8571, 0.8971, 0.4575, 0.647, 0.7025, 0.7712, 0.7249, 0.6896, 0.6315, 0.6331, 0.5642, 0.786, 3.0768, 3.0767, 3.0767, 3.0767, 3.0766, 3.0766, 3.0766, 3.0766, 3.0766, 3.0766, 3.0766, 3.0765, 3.0765, 3.0765, 3.0764, 3.0764, 3.0764, 3.0764, 3.0764, 3.0763, 3.0763, 3.0763, 3.0763, 3.0763, 3.0763, 3.0763, 3.0763, 3.0763, 3.0763, 3.0762, 3.0221, 3.0561, 2.8938, 2.9811, 2.8733, 2.8843, 2.8937, 2.6941, 2.6701, 2.7896, 2.6184, 2.9207, 2.4365, 2.755, 1.6211, 2.2295, 1.1343, 2.5707, 1.693, 2.1293, 1.6147, 1.9789, 0.6092, 2.478, 2.4779, 2.4779, 2.4778, 2.4778, 2.4778, 2.4778, 2.4778, 2.4778, 2.4777, 2.4777, 2.4777, 2.4777, 2.4777, 2.4776, 2.4776, 2.4776, 2.4776, 2.4776, 2.4776, 2.4776, 2.4776, 2.4776, 2.4775, 2.4775, 2.4775, 2.4775, 2.4775, 2.4775, 2.4775, 2.4652, 2.4033, 2.449, 2.4563, 2.4265, 2.4032, 2.3517, 2.3736, 2.2828, 2.1507, 2.2985, 2.2664, 2.072, 2.1901, 2.1458, 2.2562, 2.3102, 2.0591, 2.1961, 1.8488, 1.9776, 1.4414, 1.3965, 2.0701, 1.9848, 0.9699, 1.7156, 1.8744, 0.9696, 1.4139, 1.2073, 1.2303, 1.1721, 1.5022, 2.3785, 2.3785, 2.3785, 2.3785, 2.3785, 2.3785, 2.3784, 2.3784, 2.3784, 2.3784, 2.3784, 2.3784, 2.3784, 2.3784, 2.3783, 2.3783, 2.3783, 2.3783, 2.3783, 2.3782, 2.3782, 2.3782, 2.3782, 2.3782, 2.3782, 2.3782, 2.3782, 2.3782, 2.3782, 2.3781, 2.313, 2.372, 2.3674, 2.3668, 2.346, 2.3146, 2.344, 2.3359, 2.3519, 2.2758, 1.9858, 2.287, 2.1299, 2.1757, 2.114, 1.5875, 1.7678, 1.4536, 1.6023, 1.705, 1.3998, 0.9355, 0.7383, 1.3649, 3.0166, 3.0166, 3.0166, 3.0166, 3.0166, 3.0166, 3.0165, 3.0165, 3.0164, 3.0164, 3.0164, 3.0164, 3.0164, 3.0164, 3.0164, 3.0163, 3.0163, 3.0163, 3.0163, 3.0163, 3.0162, 3.0162, 3.0162, 3.0162, 3.0162, 3.0161, 3.0161, 3.0161, 3.0161, 3.0161, 2.9854, 2.6715, 2.8644, 2.8072, 2.9076, 2.7841, 2.6893, 2.7418, 2.839, 2.5846, 2.713, 2.0612, 2.3461, 2.1969, 2.5827, 1.9394, 2.5868, 1.836, 1.4428, 0.8791, 2.0059, 0.8978, 1.3082, 2.8783, 2.8781, 2.8781, 2.8781, 2.8781, 2.878, 2.878, 2.878, 2.878, 2.878, 2.878, 2.878, 2.8779, 2.8779, 2.8779, 2.8779, 2.8779, 2.8779, 2.8779, 2.8778, 2.8778, 2.8778, 2.8778, 2.8778, 2.8778, 2.8778, 2.8778, 2.8778, 2.8778, 2.8778, 2.8512, 2.8087, 2.8434, 2.8466, 2.7724, 2.7374, 2.6115, 2.6992, 2.734, 2.6123, 2.764, 2.8051, 2.5339, 2.6748, 2.2837, 2.729, 2.051, 2.0761, 2.6363, 2.042, 2.7574, 1.7002, 0.6235, 1.1112, 1.629, 0.8616, 1.4601, 1.6754, 2.2089, 2.2089, 2.2089, 2.2089, 2.2089, 2.2088, 2.2088, 2.2088, 2.2088, 2.2088, 2.2088, 2.2088, 2.2088, 2.2088, 2.2088, 2.2088, 2.2088, 2.2088, 2.2087, 2.2087, 2.2087, 2.2087, 2.2087, 2.2087, 2.2087, 2.2087, 2.2087, 2.2087, 2.2087, 2.2087, 2.1859, 2.1965, 2.1855, 2.1623, 2.1788, 2.1759, 2.1709, 2.1863, 2.166, 2.2003, 2.1703, 2.0834, 2.1664, 1.7491, 1.877, 1.95, 2.0444, 2.0652, 1.9318, 2.0886, 2.0715, 2.0449, 1.7596, 1.7555, 1.857, 1.8682, 0.8796, 0.905, 2.1572, 2.1572, 2.1571, 2.1571, 2.1571, 2.1571, 2.1571, 2.1571, 2.157, 2.157, 2.157, 2.157, 2.157, 2.157, 2.157, 2.157, 2.157, 2.157, 2.157, 2.157, 2.157, 2.157, 2.157, 2.1569, 2.1569, 2.1569, 2.1569, 2.1569, 2.1569, 2.1569, 2.1089, 2.1354, 2.0759, 2.1425, 2.1025, 2.1043, 2.0226, 2.1399, 2.0471, 2.1018, 1.9943, 2.0867, 1.957, 2.0262, 1.8265, 1.9475, 1.9202, 1.9331, 2.0089, 1.8194, 1.6825, 1.8829, 2.004, 1.8981, 1.854, 1.2626, 1.7683, 1.831, 1.012, 1.7495, 1.5595, 1.6102, 1.278, 1.5459, 0.889, 3.0129, 3.0129, 3.0129, 3.0129, 3.0129, 3.0129, 3.0128, 3.0128, 3.0128, 3.0128, 3.0128, 3.0127, 3.0127, 3.0127, 3.0127, 3.0127, 3.0127, 3.0127, 3.0126, 3.0126, 3.0126, 3.0126, 3.0126, 3.0126, 3.0126, 3.0126, 3.0126, 3.0125, 3.0125, 3.0125, 2.9248, 2.9579, 2.8424, 2.9186, 2.8657, 2.8461, 2.8436, 2.9028, 2.9472, 2.7509, 2.6579, 2.8395, 2.5353, 2.6829, 2.7579, 2.4374, 2.8056, 2.1838, 2.3091, 2.2525, 2.5437, 2.068, 1.9338, 2.5959, 1.6859, 2.6692, 2.6691, 2.6691, 2.669, 2.669, 2.6689, 2.6689, 2.6689, 2.6689, 2.6689, 2.6688, 2.6688, 2.6688, 2.6688, 2.6688, 2.6688, 2.6687, 2.6687, 2.6687, 2.6687, 2.6687, 2.6687, 2.6687, 2.6687, 2.6687, 2.6687, 2.6686, 2.6686, 2.6686, 2.6686, 2.639, 2.5873, 2.6522, 2.616, 2.5016, 2.4939, 2.4375, 2.1982, 2.1979, 2.4794, 2.3536, 2.2999, 2.32, 1.9793, 2.2207, 2.2696, 2.424, 2.0532, 2.0001, 1.9809, 1.3615, 1.9788, 1.7611, 1.9314, 1.8229, 1.6764, 1.6705, 1.2613]}, \"token.table\": {\"Topic\": [3, 10, 1, 5, 7, 8, 9, 10, 2, 7, 8, 9, 10, 4, 4, 4, 9, 1, 2, 3, 6, 7, 8, 9, 8, 4, 10, 1, 3, 4, 5, 1, 5, 8, 10, 2, 4, 6, 9, 1, 6, 7, 1, 5, 9, 10, 1, 3, 4, 5, 7, 8, 9, 10, 5, 4, 6, 2, 9, 7, 7, 3, 4, 7, 8, 9, 6, 10, 3, 4, 2, 4, 3, 4, 4, 6, 6, 4, 2, 3, 6, 7, 4, 7, 10, 4, 6, 8, 9, 2, 3, 1, 3, 4, 8, 1, 3, 9, 2, 2, 1, 2, 3, 4, 8, 9, 3, 7, 9, 9, 9, 5, 7, 8, 1, 2, 6, 4, 5, 3, 4, 7, 10, 10, 10, 2, 4, 7, 9, 9, 10, 1, 6, 8, 9, 10, 1, 2, 3, 5, 7, 8, 10, 9, 10, 10, 1, 3, 7, 9, 1, 3, 5, 9, 10, 2, 3, 1, 6, 7, 4, 2, 3, 1, 4, 6, 3, 6, 2, 3, 7, 8, 1, 6, 10, 2, 4, 5, 2, 1, 8, 9, 3, 5, 10, 2, 3, 4, 8, 1, 2, 2, 3, 6, 4, 5, 7, 4, 5, 6, 8, 9, 10, 5, 9, 10, 5, 4, 10, 7, 1, 7, 5, 5, 8, 8, 9, 10, 6, 1, 9, 10, 5, 9, 1, 7, 7, 3, 4, 7, 8, 9, 10, 3, 4, 6, 7, 8, 6, 7, 9, 8, 8, 10, 4, 1, 3, 3, 8, 2, 3, 8, 6, 7, 1, 8, 10, 7, 6, 8, 5, 9, 5, 10, 1, 2, 6, 9, 5, 10, 9, 1, 4, 1, 7, 9, 10, 4, 1, 1, 4, 8, 4, 9, 1, 1, 2, 6, 9, 10, 10, 4, 4, 6, 1, 6, 5, 4, 5, 4, 5, 9, 10, 9, 10, 5, 6, 7, 8, 8, 7, 8, 7, 8, 7, 1, 2, 3, 7, 8, 1, 6, 7, 8, 8, 5, 8, 1, 3, 5, 2, 9, 8, 2, 2, 1, 1, 8, 1, 3, 2, 4, 2, 1, 7, 8, 10, 9, 6, 9, 10, 4, 5, 10, 4, 5, 9, 10, 1, 2, 3, 4, 8, 1, 6, 8, 9, 1, 2, 6, 8, 9, 10, 1, 2, 3, 4, 5, 7, 8, 9, 10, 3, 3, 1, 2, 8, 8, 1, 2, 3, 4, 6, 7, 6, 2, 3, 4, 8, 10, 6, 9, 8, 5, 10, 5, 10, 2, 3, 4, 5, 5, 2, 3, 5, 6, 10, 5, 8, 10, 10, 6, 7, 8, 2, 1, 3, 5, 9, 10, 1, 1, 2, 1, 8, 1, 2, 3, 2, 3, 8, 1, 3, 9, 7, 6, 7, 8, 10, 3, 5, 1, 6, 5, 1, 8, 10, 6, 5, 5, 10, 10, 2, 1, 2, 3, 5, 6, 8, 9, 10, 1, 10, 10, 1, 2, 3, 4, 6, 7, 3, 3, 1, 3, 4, 6, 5, 10, 10, 2, 3, 4, 5, 6, 7, 1, 2, 3, 4, 6, 7, 3, 7, 6, 2, 4, 7, 8, 5, 6, 9, 3, 6, 7, 1, 1, 3, 9, 10, 8, 7, 1, 8, 8, 8, 3, 8, 1, 6, 9, 10, 2, 3, 8, 6, 7, 9, 10, 4, 6, 7, 1, 8, 4, 8, 10, 3, 10, 2, 3, 8, 9, 1, 3, 4, 5, 6, 8, 9, 10, 10, 6, 8, 1, 5, 7, 8, 2, 6, 6, 7, 7, 8, 7, 5, 1, 6, 7, 9, 6, 6, 9, 6, 1, 5, 7, 6, 7, 9, 10, 7, 7, 9, 2, 3, 5, 2, 4, 7, 1, 4, 7, 7, 8, 9, 5, 4, 5, 9, 2, 3, 1, 3, 5, 9, 10, 9, 1, 2, 9, 2, 3, 5, 8, 9, 10, 6, 2, 3, 8, 10, 6, 3, 3, 9, 10, 7, 5, 9, 10, 2, 1, 5, 4, 5, 7, 8, 9, 10, 7, 8, 1, 2, 3, 10, 10, 1, 5, 8, 10, 2, 5, 3, 7, 10, 7, 4, 5, 6, 7, 8, 9, 10, 10, 4, 5, 10, 1, 4, 4, 1, 3, 2, 3, 8, 9, 10, 4, 8, 9, 10, 9, 10, 2, 3, 5, 1, 7, 8, 10, 4, 4, 4, 1, 2, 6, 7, 9, 10, 3, 6, 8, 3, 6, 5, 9, 10, 8, 10, 1, 4, 5, 7, 9, 10, 4, 4, 1, 7, 8, 1, 2, 3, 4, 10, 10, 6, 7, 7, 6, 2, 4, 6, 7, 10, 7, 9, 9, 5, 9, 10, 9, 7, 7, 1, 7, 9, 10, 1, 10, 10, 10, 9, 1, 7, 8, 10, 2, 3, 5, 10, 5, 4, 6, 7, 9, 6, 7, 8, 7, 4, 10, 1, 2, 3, 7, 1, 2, 5, 8, 10, 8, 10, 7, 8, 5, 6, 1, 4, 1, 8, 5, 8, 1, 9, 9, 6, 5, 1, 4, 6, 7, 8, 9, 3, 7, 8, 10, 3, 1, 4, 10, 2, 4, 1, 8, 9, 10, 8, 1, 8, 10, 2, 3, 6, 5, 4, 3, 2, 4, 8, 10, 6, 3, 6, 7, 3, 6, 9, 3, 2, 3, 4, 5, 6, 8, 4, 5, 8, 10, 10, 1, 2, 3, 7, 9, 1, 4, 9, 9, 1, 2, 3, 4, 6, 2, 3, 4, 5, 7, 8, 9, 10, 7, 8, 1, 6, 7, 9, 1, 10, 3, 5, 1, 3, 7, 8, 9, 10, 1, 7, 8, 9, 10, 8, 1, 3, 4, 6, 7, 10, 3, 4, 5, 7, 8, 9, 10, 1, 2, 3, 4, 5, 1, 4, 1, 5, 9, 9, 10, 3, 1, 3, 5, 10, 5, 9, 10, 1, 3, 5, 8, 9, 10, 1, 4, 10, 4, 5, 10, 4, 2, 2, 9, 9, 2, 3, 5, 9, 2, 3, 4, 8, 3, 2, 3, 4, 5, 6, 5, 4, 3, 4, 8, 8, 8, 2, 2, 10, 1, 1, 5, 7, 9, 10, 10, 8, 6, 7, 8, 1, 2, 3, 5, 5, 8, 9, 10, 3, 6, 1, 5, 6, 7, 8, 9, 10, 4, 1, 2, 3, 4, 6, 7, 9, 10, 1, 2, 9, 10, 1, 3, 7, 10, 1, 2, 6, 7, 9, 10, 1, 1, 1, 3, 1, 2, 3, 4, 5, 2, 3, 4, 5, 7, 2, 3, 5, 6, 7, 1, 5, 10, 1, 2, 3, 4, 5, 8, 7, 7, 7, 5, 3, 1, 8, 1, 9, 1, 6, 10, 1, 8, 4, 10, 1, 4, 5, 7, 8, 10, 7, 6, 3, 8, 2, 7, 8, 1, 3, 4, 5, 6, 8, 9, 10, 1, 5, 6, 9, 10, 5, 9, 10, 10, 4, 1, 3, 1, 2, 3, 3, 4, 5, 6, 10, 5, 3, 8, 9, 9, 10, 3, 4, 7, 1, 3, 7, 1, 1, 3, 1, 2, 3, 4, 9, 10, 4, 9, 10, 2, 1, 7, 10, 1, 2, 3, 4, 5, 10, 1, 10, 1, 10, 1, 3, 4, 2, 3, 4, 5, 6, 7, 9, 5, 9, 10, 3, 5, 10, 1, 2, 3, 4, 5, 6, 7, 8, 3, 1, 5, 10, 1, 3, 4, 5, 8, 10, 6, 1, 5, 6, 7, 8, 9, 10, 5, 9, 1, 3, 4, 5, 8, 10, 1, 5, 1, 5, 10, 6, 6, 6, 1, 3], \"Freq\": [1.0053358251133435, 1.0002175187035078, 0.7099905567357858, 0.0030869154640686338, 0.05865139381730404, 0.0818032597978188, 0.07562942886968153, 0.07099905567357857, 0.9914966604555959, 0.1924264879316724, 0.03913759076576388, 0.1304586358858796, 0.6392473158408101, 1.0003120388242757, 0.9954653553260063, 0.9997642537028696, 1.00141086859634, 0.12549071222562533, 0.14763613203014742, 0.2878904574587875, 0.16055429358278533, 0.1513270353309011, 0.08119987261658108, 0.04613629125942107, 0.9991780510311477, 0.9883422834407416, 0.011316896375275666, 0.8901709136051441, 0.060880450653216886, 0.021390428607887015, 0.027972098948775323, 0.9986924863987268, 0.03114983236265768, 0.7614403466427433, 0.20766554908438456, 1.0013031290296417, 1.0021910913194312, 1.0055077314879766, 1.0017719275574684, 0.906443776018073, 0.037594442323330216, 0.05639166348499532, 1.0018382287389307, 0.5104255960187701, 0.2901734552709447, 0.1992757463908897, 0.6267955471203136, 0.0012218236785971025, 0.020771002536150742, 0.028101944607733357, 0.06475665496564643, 0.056203889215466714, 0.06353483128704933, 0.1392878993600697, 0.9911167418511073, 0.07243472357624882, 0.9313035888374848, 1.0021620608943322, 1.0039699992298692, 0.9973657718064868, 1.0024562967444477, 0.03766154405935444, 0.04707693007419306, 0.21184618533386873, 0.07061539511128959, 0.6261231699867676, 0.8189705232215153, 0.18199344960478117, 0.9975072070619349, 1.00054603036284, 0.012455656398686128, 0.9902246836955473, 0.005560455770032389, 0.9925413549507814, 1.0050984431869476, 0.9922653457863541, 1.0021904301997862, 0.9947589762447459, 0.019894684019229177, 0.06465772306249483, 0.7062612826826358, 0.20392051119709906, 0.9671612654733577, 0.01791039380506218, 0.014328315044049744, 0.033326508793877545, 0.10510668158069073, 0.8177812542497644, 0.04358081919199371, 0.9762598287307036, 0.0219384231175439, 0.18437237819705618, 0.6655393164186418, 0.1439003927391658, 0.004496887273098931, 0.9035532486120087, 0.03451776455371719, 0.06294415889207251, 0.9931960361933744, 0.9958684242392718, 0.12992276409791992, 0.030655933101756384, 0.1313825704360988, 0.6744305282386405, 0.03211573943993526, 0.9956112683718971, 0.012391768945812372, 0.9872109260163856, 1.0018294824736318, 0.9924511081749854, 1.0016552648872135, 1.0047651513788445, 0.9995066419629709, 1.0033868300617645, 0.2184521773836627, 0.6335113144126219, 0.14745521973397233, 1.0014889485889076, 0.990988612113429, 0.10426245261721448, 0.10708035674200406, 0.7101118394469743, 0.07608341136931868, 1.0008691636145375, 1.0050770544037544, 0.06794567745963609, 0.05095925809472707, 0.880867175637425, 0.9965611768952937, 0.018080079148850375, 0.9853643136123454, 0.21799427149692238, 0.06794626644059919, 0.5492323203948434, 0.0736084553106491, 0.09059502192079891, 0.7211095832031065, 0.06494982389127286, 0.11657660698433592, 0.004996140299328682, 0.04996140299328682, 0.01998456119731473, 0.02164994129709096, 0.9922525335266926, 0.9947303039723104, 0.9995027627052456, 0.12600294949774005, 0.04382711286877915, 0.7039730004547651, 0.12600294949774005, 0.6166686301238292, 0.0387146225189848, 0.12029186282684562, 0.07328124976807837, 0.15071049480604795, 0.15320041684524144, 0.8426022926488279, 0.30067353030249594, 0.551785489676009, 0.14538060805834968, 0.995440265502758, 0.8509989456113715, 0.14003780117655482, 0.02044347909870017, 0.9131420664086075, 0.06814493032900057, 0.9281622526067934, 0.0696121689455095, 0.9968667662638269, 1.0014553941236886, 0.9705699289834558, 0.02897223668607331, 0.052621561286510306, 0.9354944228712943, 0.01754052042883677, 1.0075529455653711, 0.9609331078378558, 0.043118793300416604, 1.0000304579424448, 0.9986363377904329, 0.9541474416155202, 0.04785692497131136, 0.06655317116021653, 0.6507421180110061, 0.288397075027605, 0.8326512731107045, 0.08835206434936736, 0.018741346983199136, 0.05890137623291158, 0.17546280332212658, 0.8239122938604205, 0.20480125863078863, 0.7483122911509584, 0.043323343171897594, 1.0019370340852014, 0.9949258035018328, 1.0023737745933, 0.05350079383948562, 0.07276107962170043, 0.30816457251543716, 0.4151661601944084, 0.10272152417181238, 0.04922073033232677, 0.43946928532146046, 0.46693611565405174, 0.09338722313081034, 0.9982632029000883, 1.003725972846783, 0.9997665019665634, 1.0011856198305231, 0.0058144294339944995, 0.9884530037790649, 1.0004683767619575, 1.0001234898295897, 0.9952229268122934, 0.2121695262538044, 0.08251037132092394, 0.7033026888783517, 0.9934101906318125, 0.14537386282164474, 0.00991185428329396, 0.8458115655077513, 0.9964547092388607, 0.9986595000855818, 0.1519292181223917, 0.8485802670738464, 0.9959650883559599, 0.03182772406064231, 0.005786858920116784, 0.30091666384607274, 0.5439647384909777, 0.06076201866122623, 0.05786858920116784, 0.08209826040686063, 0.016985846980729788, 0.7643631141328404, 0.1358867758458383, 0.9987209817992716, 0.7814158371859907, 0.03756806909548032, 0.18032673165830554, 0.9952808956358404, 0.20866598533454833, 0.7945358672353956, 0.9995013411664311, 0.9974081973836831, 1.0029988783730805, 1.0013875616584649, 0.9992231163504074, 0.9992841398967428, 0.053855787983304766, 0.9478618685061638, 1.0052179721257843, 0.9974312119237866, 0.0985416704866734, 0.7711956820696179, 0.12853261367826965, 0.997714784908308, 1.0004683194731139, 1.000846716405583, 0.8361485447954462, 0.1597137669833998, 0.27083621921211093, 0.7308278931120453, 0.906274550105214, 0.032456113364649535, 0.0549257303094069, 0.007489872314919124, 0.07916008578091775, 0.9207567872412012, 1.0026089095905073, 0.4915028299981835, 0.5089526346135037, 0.94203615412043, 0.0017943545792770093, 0.014354836634216075, 0.03947580074409421, 0.9991879319391355, 0.9991524041327974, 1.000650467666894, 0.01976333646138227, 0.9802614884845605, 0.9974860076478916, 0.9965808710709742, 1.0000841816910506, 0.9288230929828605, 0.07084243929530291, 0.9986113205591697, 0.15879939544742103, 0.8401000275282918, 0.995935109361679, 0.9981133280376115, 0.1403989677594243, 0.8599436775264738, 0.10163355363959743, 0.8986545795501246, 0.9964705140262264, 0.20863379089459883, 0.7901449953029488, 0.10453608530580054, 0.8925773437649123, 0.916231447348752, 0.08551493508588352, 0.9332528704911225, 0.06607099968078743, 1.0060035453817697, 1.0032421754430902, 0.1501399551676632, 0.8499858752233836, 0.9990202726862266, 0.1252764890226046, 0.8747754836923253, 0.9767325032243884, 0.023209485225133983, 1.0008050507642214, 0.1048277140773358, 0.07376765064701409, 0.6658501097875218, 0.09706269821975537, 0.06017887289624833, 0.9948888603012036, 0.003995537591571099, 0.7573179768504955, 0.2428225894028573, 0.9945069702578184, 0.05252046507802409, 0.9497450768276022, 0.9287548734879354, 0.002503382408323276, 0.06759132502472845, 1.0025689823601365, 0.9982860184104794, 1.0006485345271259, 1.0054945916101055, 0.9966626685301833, 1.0001828920812432, 0.14047005396720763, 0.8578706867283038, 0.9996186772390202, 0.9992152303746842, 1.0008571623195475, 0.9981073175759091, 0.9973230878928905, 0.148783339417334, 0.13663776068938838, 0.579951384259404, 0.13663776068938838, 1.003855861160226, 0.05161427177153497, 0.7742140765730245, 0.17204757257178324, 0.9364783203664355, 0.03498338553093006, 0.02825581139036659, 0.7788484810618568, 0.16114106504728073, 0.020142633130910092, 0.040285266261820184, 0.2508184260972291, 0.05137244871870957, 0.6074036583800367, 0.054394357466868964, 0.03626290497791264, 0.03964283348836292, 0.187402485581352, 0.6775320632556573, 0.09730513674416354, 0.04740603085481888, 0.009029720162822644, 0.2415450143555057, 0.372475956716434, 0.22122814398915477, 0.10835664195387172, 0.05836683502377863, 0.07428506275753644, 0.2706098714738827, 0.17510050507133587, 0.08666590655045918, 0.10965890216588711, 0.11673367004755726, 0.031836455467515616, 0.07605375472795398, 1.0047031378653655, 1.0035292345591729, 0.18474778062518213, 0.8175089292664309, 1.0005170216399717, 0.9973803077401644, 0.12062044194177661, 0.12342556849856211, 0.12342556849856211, 0.12342556849856211, 0.30014854157604876, 0.2103844917589127, 1.0035178393659427, 0.033062634448214355, 0.6582469949235403, 0.024045552325974075, 0.16531317224107175, 0.11722206758912361, 0.8343834056615413, 0.1626785256321244, 1.0019775060252925, 0.7211701918323578, 0.2769711606312678, 0.8609822916570408, 0.14258305466931886, 0.23323126452390183, 0.3551822525102557, 0.027438972296929626, 0.38414561215701476, 0.997560962790511, 0.06875225291905492, 0.17942661127655793, 0.7076451398010042, 0.03353768435075849, 0.010061305305227548, 0.9693320149172755, 0.003989020637519653, 0.023934123825117913, 0.9980852521201131, 1.002440118773212, 0.9618645601261631, 0.03917095493726456, 1.0028387742086327, 0.8112826943406403, 0.05903700357877899, 0.028566292054247898, 0.05903700357877899, 0.04189722834623025, 0.9992974692418669, 0.9982649842659063, 1.0014190061443222, 0.014780378839703963, 0.9828951928403136, 0.22791082748796382, 0.6639141496388511, 0.10404624733146174, 0.8297860532086636, 0.1147576456565173, 0.052965067226084905, 0.9430797157914457, 0.05640428922197641, 0.9974914627035101, 0.9987639233601691, 0.07338876187580098, 0.7175790050078319, 0.2065757741689213, 0.0013590511458481665, 0.9975103644768407, 0.9945840464163588, 0.11287079266280475, 0.8841545425253039, 0.9974228929929441, 1.0016834191473014, 0.9220548341267089, 0.07757672883277598, 1.004478190170302, 1.0055722499085102, 1.0012408630605434, 1.0022229376272236, 1.0014858938032711, 1.0025804708976507, 0.8142438778251194, 0.026425764797569796, 0.03633542659665847, 0.008258051499240561, 0.02807737509741791, 0.02807737509741791, 0.024774154497721686, 0.03468381629681036, 1.000665420775289, 0.996638776124497, 0.994954124111451, 0.5184983427927768, 0.0844265393692186, 0.07163463946479154, 0.0417868730211284, 0.018761453193159687, 0.2643659313581592, 1.000928486714624, 0.9999552292032104, 0.12059787827593813, 0.33882261039430234, 0.3962501714780824, 0.14500459173654465, 0.7345005231204873, 0.26331150828847655, 0.9984125965022029, 0.23252229520410708, 0.2431884555345707, 0.16212563702304714, 0.008532928264370902, 0.05546403371841086, 0.29865248925298155, 0.12086208389455165, 0.14364755872713106, 0.2209200385941395, 0.1941718724863289, 0.04854296812158222, 0.2714443523533373, 0.9771984003271951, 0.018265390660321405, 0.9965727148106468, 0.04139471051104628, 0.10507888052804056, 0.8469994612260239, 0.003184208500849714, 1.0074511839978888, 0.9760416341453858, 0.025188171203751893, 0.034901091776965834, 0.9685052968108018, 0.9972613844902789, 1.0003305044364235, 0.9784174802429367, 0.02123696856341258, 0.21447659539496375, 0.7845328094710515, 1.003726113192199, 1.0010692897965596, 0.0673804492860485, 0.9337005115352435, 1.0016202907367855, 0.9997906378023717, 0.9970750947604355, 0.9987375702746767, 0.17770993718898762, 0.05666113939359026, 0.561460381263758, 0.20346500054971045, 0.19260618090415, 0.8098214424379034, 0.9964417754702644, 0.005801541931563648, 0.020305396760472768, 0.49313106418291003, 0.47862720935400094, 0.03438874341792215, 0.8941073288659759, 0.0687774868358443, 0.12266185544407833, 0.8790766306825614, 0.016858865651232263, 0.9834338296552153, 0.9954732832767812, 0.9858216497279458, 0.012133189535113179, 0.014413481126327208, 0.8792223487059597, 0.09128538046673898, 0.014413481126327208, 0.4288433286263923, 0.007100055109708481, 0.06248048496543464, 0.058220451899609546, 0.05964046292155124, 0.28116218234445584, 0.04544035270213428, 0.058220451899609546, 1.0036740184780206, 1.0003600927309142, 1.002523214684464, 0.9993596982523745, 0.07596759263822363, 0.11395138895733545, 0.8114720122719342, 0.9934506676892908, 1.0045120885889989, 0.9952000132540653, 1.000605862498747, 0.9777763767253733, 0.023384786289396074, 0.9995768612731868, 1.0043390944613213, 0.03960903828176774, 0.438340023651563, 0.45154303641215227, 0.07129626890718194, 1.0033195301292892, 0.9725945391988319, 0.029177836175964957, 0.9948885952524295, 0.07091689913645613, 0.0433381050278343, 0.8864612392057015, 0.433477440256167, 0.2681946752664055, 0.27443176073771725, 0.021829799149591145, 1.0003456819311012, 0.9985478311700655, 1.0005348137578065, 0.01382158681133769, 0.9467786965766317, 0.03455396702834423, 0.947358299168533, 0.008651673965009434, 0.04758420680755188, 0.9999596626434254, 0.02250552393906248, 0.9789902913492179, 1.0003730856037383, 1.002539139918203, 1.0032485306983132, 1.0029609553555239, 0.019203438014544334, 0.7617363745769252, 0.21763896416483577, 0.6056957089456063, 0.39529614689081677, 0.8041620703347899, 0.029206854854774453, 0.0214183602268346, 0.03699534948271431, 0.10709180113417299, 0.9951190242695321, 0.4289360686719759, 0.5279213152885858, 0.04124385275692076, 0.9980122962990897, 0.9997230056358833, 0.13751647568340516, 0.6228687428013058, 0.03033451669486879, 0.2123416168640815, 1.0023569709198623, 0.2212262150917511, 0.718134328990146, 0.04424524301835022, 0.01701740116090393, 1.0005593793516334, 0.9946093576724537, 0.9959117119074454, 0.6599906232446702, 0.3408148300361821, 0.9992628778077149, 0.19034566933012725, 0.7678350728910218, 0.03871437342307673, 0.990723611245684, 0.9996801189650233, 0.9920390534395449, 0.20649882282821927, 0.08912054458902095, 0.034778749107910616, 0.24997225921310756, 0.05216812366186592, 0.3673505374523059, 0.9560311554514846, 0.04120823945911572, 0.25101747014069925, 0.3858925287237615, 0.3596668228881661, 0.9995994453744649, 1.0021798870667713, 0.6624716151983369, 0.0848620664097043, 0.06569966431719043, 0.18751779190531434, 0.9946107861484375, 0.9972812220010828, 1.0014670846959088, 1.002556974788408, 0.9955790807074945, 1.0006028827209783, 0.020967140765629375, 0.05928639802695202, 0.10483570382814687, 0.6311832375308429, 0.07591550966865808, 0.04988733492511817, 0.05784038831897759, 0.998095626773165, 0.45336317116064007, 0.044824042346390966, 0.5020292742795788, 0.033348616461926946, 0.9671098773958814, 0.9968421427782843, 0.9993010187280923, 1.0028530361405403, 0.03521252253879195, 0.011003913293372485, 0.11223991559239935, 0.4357549664175504, 0.40274322653743294, 0.07740521666277876, 0.014743850792910239, 0.2395875753847914, 0.6708452110774159, 0.308798891832189, 0.6902563464484225, 0.7493471554920472, 0.2521167999786327, 1.001624060550799, 0.9224672201237959, 0.07458245609511542, 0.001962696213029353, 1.0006055572747174, 0.9997868979382424, 0.9972355995158216, 0.9989064190182894, 0.7841998272508006, 0.032117399068292175, 0.032117399068292175, 0.10705799689430724, 0.02676449922357681, 0.017396924495324928, 0.9964549401887688, 0.28769253776878023, 0.7127517827604916, 0.7534971246018699, 0.2479248603528733, 0.1826424922713071, 0.38843684976010384, 0.42959572125786316, 0.05015425941739056, 0.9466616465032468, 0.6538977106787259, 0.020119929559345412, 0.024431343036348, 0.048862686072696, 0.11640816387906988, 0.1365280934384153, 1.00262631751522, 0.9985073812028514, 0.8724822618434135, 0.06930933855765434, 0.057078278812185926, 0.7847719402883299, 0.03210430664815895, 0.1034472103107344, 0.03210430664815895, 0.04815645997223842, 1.000370739167919, 0.04083309099830346, 0.95730913340467, 0.9961013392050118, 1.0022515864730948, 0.9972497489468536, 0.022675057285833026, 0.0034884703516666195, 0.9540966411808204, 0.019186586934166406, 0.9967239866176232, 0.9998911979071237, 1.0024260673946996, 0.648745240466315, 0.2019273265027603, 0.14607508725731594, 0.9938270208960072, 1.0019424846678073, 1.0020912367119248, 0.4514873896834515, 0.166568163184186, 0.11177600424201954, 0.27067326517430224, 0.02999035200965572, 0.9704021043124315, 0.99949644042945, 0.9959736775943695, 0.9967063160905948, 0.19389851363213295, 0.6358067540030407, 0.11273169397217032, 0.05862048086552857, 0.24964002256587906, 0.34433106560810905, 0.18077380944425725, 0.22381519264527086, 0.9936017530131533, 0.046635267463320924, 0.4488644493344639, 0.4867556041484121, 0.020402929515202905, 0.12494849723128802, 0.867499566491514, 0.007139914127502173, 0.9977090481396396, 0.9740462104087773, 0.022829208056455715, 0.9988312620462554, 0.9081227038692038, 0.052105401041675624, 0.03721814360119687, 0.11206177187079493, 0.012006618414728028, 0.08004412276485352, 0.7203971048836817, 0.07203971048836817, 0.8969810996063808, 0.10430012786120707, 0.961277937502134, 0.03593562383185547, 0.996612631830149, 1.0007671845058925, 0.18367545497718893, 0.8173557746484907, 0.9985043777452248, 1.0011570855388916, 0.05106185048926264, 0.9446442340513589, 0.05119331949877554, 0.9470764107273476, 1.0016128040426968, 0.9932906377547257, 1.0051900397318576, 0.1316814901989279, 0.03610621505454474, 0.046725690070587314, 0.6371685009625543, 0.11256643517005126, 0.03610621505454474, 0.06450994284566218, 0.020159357139269432, 0.7378324712972611, 0.1733704713977171, 1.0046868911536424, 0.2986332626818599, 0.20008428599684613, 0.5017038813055246, 0.9988168872416088, 1.0039424486565964, 0.042442368969271116, 0.799331282254606, 0.060126689373134076, 0.09549533018086001, 1.0027652228438222, 0.15079647133802201, 0.789275147854328, 0.0609602756472855, 0.9919795856659362, 0.9251985314228371, 0.06904466652409233, 1.0013697675314501, 1.0010504151099224, 1.000582892921026, 0.9999019546822956, 0.07150625800646858, 0.8628421799447209, 0.06673917413937068, 0.9984216315151481, 0.9999306995391886, 0.8686873345356197, 0.13310531738852238, 0.20382296729654112, 0.7653760404604809, 0.03327721915045569, 0.9992152303746842, 0.03529256445419716, 0.05489954470652891, 0.05882094075699527, 0.36468983269337063, 0.2980260998354427, 0.1921484064728512, 0.0799280218164115, 0.04595861254443661, 0.7173539958022932, 0.1558596425420024, 0.9964686729892482, 0.07755011299532867, 0.08493583804250283, 0.5465436534908877, 0.2917361393633793, 1.0032485259769286, 0.13043816504081746, 0.02524609645951305, 0.8457442313936873, 1.0033867456902887, 0.05719504472505812, 0.42705633394710063, 0.46518636376380607, 0.04575603578004649, 1.0023614552964486, 0.08045386098023148, 0.3771274733448351, 0.1634219051160952, 0.04525529680138021, 0.08045386098023148, 0.14582262302666957, 0.017599282089425638, 0.09302477675839266, 0.9666646676591417, 0.033864048867039996, 0.0025783403696475198, 0.05414514776259792, 0.24236399474686687, 0.7013085805441254, 0.9321456492614791, 0.06765573260768801, 0.9689035944203546, 0.03202987088992908, 0.09923834343533122, 0.02255416896257528, 0.16013459963428447, 0.03608667034012045, 0.1691562672193146, 0.5119796354504588, 0.0360070432662238, 0.2993085471504854, 0.10126980918625444, 0.022504402041389877, 0.540105648993357, 0.9984502758690139, 0.3465382533685011, 0.22139943965209793, 0.23583853354245213, 0.13356161848577647, 0.06256940685820159, 0.9982095483619955, 0.016798866617823507, 0.543863306752036, 0.1427903662514998, 0.10289305803416897, 0.06299574981683814, 0.01259914996336763, 0.11969192465199248, 0.18592413375771066, 0.3327063446190612, 0.4827503823884417, 0.9949491073798843, 0.9958064278369918, 1.0005005387219454, 0.9984734871417723, 0.07722774318313329, 0.07722774318313329, 0.8458276634343169, 0.8630167534956988, 0.13823212068978724, 0.9982104898536172, 0.8922988729006908, 0.0355497558924578, 0.02310734133009757, 0.04799217045481803, 0.07442702061719121, 0.8427765569887827, 0.08099411067164926, 0.7736701740233879, 0.035653003411216036, 0.0017826501705608016, 0.07308865699299287, 0.04991420477570244, 0.06595805631074966, 0.999891293649016, 0.9370248650814158, 0.06379743762256448, 0.05651663096314268, 0.8100717104717118, 0.1318721389139996, 0.9931971050480372, 0.995698818518589, 0.9991994302422469, 1.0002068441988432, 1.0038995531983843, 0.7258157251511034, 0.12232849300299496, 0.15494942447046028, 0.9960193729428816, 0.17343006529227803, 0.7988293916492806, 0.026277282620042124, 0.9982852225504056, 0.9963923226006505, 0.03825125662793909, 0.14152964952337463, 0.7688502582215757, 0.019125628313969543, 0.03060100530235127, 0.9995008124635626, 0.9993289426558197, 0.09944617912861003, 0.9005403998868575, 1.001811919418898, 0.9967428814695989, 0.9980934767717804, 0.9990939828807672, 1.004508540573442, 0.995955030268194, 1.000654699073999, 0.2237807200165391, 0.048952032503617925, 0.2470912116849286, 0.34033317835848653, 0.14219399917717587, 1.0069251796335994, 0.9975570325073854, 0.12123375370482176, 0.7709709024666008, 0.10797381189335688, 0.22895471998085942, 0.26124320613200624, 0.46671539073021345, 0.044029753842472964, 0.20754913223522056, 0.018367179843824827, 0.1506108747193636, 0.6244841146900442, 1.001710177498884, 1.0017492318714198, 0.6778514685674468, 0.03404057593242637, 0.035520600972966644, 0.05032085137836941, 0.06364107674323191, 0.07548127706755411, 0.06512110178377219, 0.9997208860498802, 0.6188325549856146, 0.016800883845763292, 0.08400441922881646, 0.029401546730085763, 0.03920206230678101, 0.05180272519110349, 0.05320279884491709, 0.10640559768983418, 0.8341123091483632, 0.02152547894576421, 0.04843232762796948, 0.09686465525593896, 0.8447292234883289, 0.026628942246567287, 0.08876314082189095, 0.03994341336985093, 0.691120334161573, 0.021668789354900804, 0.027371102343032597, 0.10264163378637224, 0.060444517674196986, 0.09579885820061408, 0.9992368383274354, 0.9990591104264434, 0.920597373491967, 0.07872091554800668, 0.8010678789171497, 0.04960741452009872, 0.07532977760459435, 0.042258167924528536, 0.03307160968006581, 0.044958466218707575, 0.6089828605988572, 0.1389625319487325, 0.17165959828961075, 0.036784199633488016, 0.06859139071691402, 0.25565881994486134, 0.6485004213235508, 0.024942323897059644, 1.00053556729977, 0.9510876372251675, 0.042270561654451894, 0.00792573031020973, 0.25150375942153014, 0.02609944673242294, 0.16134203434588726, 0.36301957727824635, 0.13524258761346433, 0.06643495531889475, 1.0002255358893377, 0.9994015369073682, 0.9957370225674422, 1.0005978100374802, 0.9960479579203604, 0.33512785126231953, 0.666690512617593, 0.18772724295711982, 0.8158914790059438, 0.043946270718161616, 0.8701361602196, 0.08789254143632323, 1.001206673978774, 0.9975289260154128, 0.3763577322835369, 0.6246356080307917, 0.03660150192942067, 0.19096435789262958, 0.028644653683894437, 0.30713434227731257, 0.19096435789262958, 0.24507092596220795, 1.0013134236023356, 0.9951076989534686, 1.0023075623112563, 0.9998363868100079, 0.6801537854083751, 0.16059186599919967, 0.15586857582275263, 0.22207170213304886, 0.03785313104540605, 0.12996241658922744, 0.041638444149946656, 0.17033908970432723, 0.31796630078141086, 0.04542375725448727, 0.03406781794086545, 0.31455733489834015, 0.09415321588793855, 0.027817995603254573, 0.26534088113873594, 0.2995784141888954, 0.008713984944787798, 0.6208714273161307, 0.37034436015348143, 0.9927015720333137, 1.0049400023642834, 0.9261454150917467, 0.07401571964872566, 0.11523653255714189, 0.06173385672704029, 0.8231180896938706, 0.03300134678602928, 0.11000448928676425, 0.3410139167889692, 0.013750561160845531, 0.5032705384869465, 0.9977862770787126, 0.05139371912507506, 0.039972892652836156, 0.9079557045429927, 0.998113620876871, 1.0010097504022935, 0.003782142085252788, 0.124810688813342, 0.8698926796081412, 0.10652151516762935, 0.721737612972509, 0.17173876935189222, 1.0003645155873258, 1.0016915523200234, 1.003072477451129, 0.8821682525319977, 0.07973832030895632, 0.03532710393434774, 0.0020186916533912994, 0.7185219919044636, 0.27988938056743645, 0.04091807314499593, 0.8417432189827734, 0.1227542194349878, 0.9946284872540619, 0.8655455284436802, 0.0893152046236443, 0.04546955871749164, 0.7770173986001488, 0.05625465329231847, 0.10020360117694227, 0.01582162123846457, 0.03515915830769904, 0.01582162123846457, 0.9831853282056706, 0.015164812260241706, 0.9997361351062194, 0.9978932698847701, 0.08256595165661547, 0.8353731579375212, 0.08256595165661547, 0.17538471910553488, 0.5327310842830623, 0.14688470225088548, 0.01753847191055349, 0.01753847191055349, 0.094269286519225, 0.015346162921734303, 0.050409429184007745, 0.8947673680161374, 0.050409429184007745, 0.9940398209295167, 0.17395903917228128, 0.8292047533878741, 0.999479717461997, 0.061846300411552514, 0.3258824290916421, 0.4590898453626783, 0.02616574248181068, 0.0666037081355181, 0.04995278110163857, 0.009514815447931157, 1.0058174844894767, 0.9159338007510537, 0.032711921455394775, 0.05015827956493866, 0.44051970676456303, 0.27985957841513415, 0.06910113047287263, 0.09155899787655623, 0.07773877178198171, 0.04146067828372358, 1.0001881420710412, 0.5774204970985523, 0.01581973964653568, 0.023729609469803518, 0.2860736252748535, 0.04482259566518442, 0.017138051283746986, 0.03559441420470528, 0.9986373666689636, 0.9955875463804278, 0.3027584039749338, 0.07324800096167754, 0.09603626792753277, 0.03581013380348679, 0.40856107203069025, 0.08464213444460515, 0.8818238575166043, 0.11750594019729062, 0.5516869252575778, 0.30847010874617253, 0.14237081942131039, 1.0014764772409157, 1.006194107895795, 1.0003590012552572, 0.10007529530517015, 0.9006776577465313], \"Term\": [\"1500m\", \"3g\", \"about\", \"about\", \"about\", \"about\", \"about\", \"about\", \"ac\", \"access\", \"access\", \"access\", \"access\", \"actor\", \"actors\", \"actress\", \"addresses\", \"against\", \"against\", \"against\", \"against\", \"against\", \"against\", \"against\", \"airlines\", \"album\", \"album\", \"all\", \"all\", \"all\", \"all\", \"always\", \"analysts\", \"analysts\", \"analysts\", \"anfield\", \"angels\", \"animals\", \"anti-virus\", \"any\", \"any\", \"any\", \"anything\", \"apple\", \"apple\", \"apple\", \"are\", \"are\", \"are\", \"are\", \"are\", \"are\", \"are\", \"are\", \"argonaut\", \"arrested\", \"arrested\", \"arsenal\", \"ask_jeeves\", \"assembly\", \"asylum\", \"attacks\", \"attacks\", \"attacks\", \"attacks\", \"attacks\", \"auction\", \"auction\", \"australian_open\", \"aviator\", \"award\", \"award\", \"awards\", \"awards\", \"bafta\", \"baikal\", \"balco\", \"ballet\", \"ban\", \"ban\", \"ban\", \"ban\", \"band\", \"band\", \"band\", \"bank\", \"bank\", \"bank\", \"bank\", \"barcelona\", \"barcelona\", \"beat\", \"beat\", \"beat\", \"beat\", \"because\", \"because\", \"because\", \"bellamy\", \"benitez\", \"best\", \"best\", \"best\", \"best\", \"best\", \"bittorrent\", \"blair\", \"blair\", \"blog\", \"bloggers\", \"blogs\", \"blu-ray\", \"blunkett\", \"boeing\", \"boss\", \"boss\", \"boss\", \"box_office\", \"brain\", \"britain\", \"britain\", \"britain\", \"britain\", \"broadband\", \"broadcasters\", \"brown\", \"brown\", \"brown\", \"browser\", \"bt\", \"bt\", \"business\", \"business\", \"business\", \"business\", \"business\", \"but\", \"but\", \"but\", \"but\", \"but\", \"but\", \"but\", \"cabir\", \"camera_phones\", \"cameras\", \"campaign\", \"campaign\", \"campaign\", \"campaign\", \"can\", \"can\", \"can\", \"can\", \"can\", \"captain\", \"captain\", \"case\", \"case\", \"case\", \"celebrity\", \"celtic\", \"celtic\", \"ceremony\", \"ceremony\", \"ceremony\", \"champion\", \"champion\", \"champions_league\", \"championships\", \"chancellor\", \"chancellor\", \"charges\", \"charges\", \"charges\", \"charlton\", \"chart\", \"chart\", \"chelsea\", \"children\", \"china\", \"china\", \"chip\", \"chip\", \"chip\", \"club\", \"club\", \"club\", \"club\", \"clubs\", \"clubs\", \"coach\", \"coach\", \"coach\", \"comedy\", \"commodore\", \"commons\", \"company\", \"company\", \"company\", \"company\", \"company\", \"company\", \"computer\", \"computer\", \"computer\", \"computing\", \"concert\", \"connections\", \"conservative\", \"conservatives\", \"conservatives\", \"console\", \"consoles\", \"construction\", \"consumers\", \"consumers\", \"consumers\", \"conte\", \"content\", \"content\", \"content\", \"copy\", \"copyright\", \"council\", \"council\", \"councils\", \"countries\", \"countries\", \"countries\", \"countries\", \"countries\", \"countries\", \"court\", \"court\", \"court\", \"court\", \"creditors\", \"criminal\", \"criminal\", \"criminal\", \"currency\", \"customers\", \"customers\", \"dance\", \"date\", \"davenport\", \"davis_cup\", \"debt\", \"defender\", \"deficit\", \"deficit\", \"delta\", \"dem\", \"demand\", \"demand\", \"demand\", \"dems\", \"detainees\", \"deutsche_boerse\", \"developers\", \"developers\", \"devices\", \"devices\", \"did\", \"did\", \"did\", \"did\", \"digital\", \"digital\", \"directive\", \"director\", \"director\", \"do\", \"do\", \"do\", \"do\", \"documentary\", \"does\", \"doing\", \"dollar\", \"dollar\", \"dollar_baby\", \"domain\", \"done\", \"dont\", \"dont\", \"doping\", \"download\", \"download\", \"downloading\", \"drama\", \"drug\", \"drug\", \"drugs\", \"drugs\", \"ds\", \"dvd\", \"dvd\", \"dvds\", \"dvds\", \"e-mail\", \"e-mail\", \"e-mails\", \"e-mails\", \"ea\", \"ebbers\", \"economic\", \"economic\", \"economist\", \"economy\", \"economy\", \"election\", \"election\", \"elections\", \"england\", \"england\", \"england\", \"england\", \"england\", \"enough\", \"enough\", \"eu\", \"eu\", \"euronext\", \"euros\", \"euros\", \"even\", \"even\", \"even\", \"everton\", \"exeem\", \"exports\", \"fa\", \"fa_cup\", \"fact\", \"fall\", \"fall\", \"far\", \"federer\", \"ferguson\", \"festival\", \"fiat\", \"figures\", \"figures\", \"figures\", \"figures\", \"file-sharing\", \"files\", \"files\", \"files\", \"film\", \"film\", \"film\", \"films\", \"films\", \"films\", \"films\", \"final\", \"final\", \"final\", \"final\", \"final\", \"financial\", \"financial\", \"financial\", \"financial\", \"firm\", \"firm\", \"firm\", \"firm\", \"firm\", \"firm\", \"first\", \"first\", \"first\", \"first\", \"first\", \"first\", \"first\", \"first\", \"first\", \"flanker\", \"fly-half\", \"football\", \"football\", \"forecast\", \"forecasts\", \"former\", \"former\", \"former\", \"former\", \"former\", \"former\", \"fosters\", \"france\", \"france\", \"france\", \"france\", \"france\", \"fraud\", \"fraud\", \"fuel\", \"gadget\", \"gadget\", \"gadgets\", \"gadgets\", \"game\", \"game\", \"game\", \"game\", \"gamers\", \"games\", \"games\", \"games\", \"games\", \"games\", \"gaming\", \"gaming\", \"gaming\", \"gartner\", \"gazprom\", \"general_election\", \"general_election\", \"gerrard\", \"get\", \"get\", \"get\", \"get\", \"get\", \"give\", \"given\", \"glazer\", \"gm\", \"gm\", \"goal\", \"goal\", \"goal\", \"goals\", \"goals\", \"goals\", \"going\", \"going\", \"google\", \"gordon_brown\", \"government\", \"government\", \"government\", \"government\", \"grand_slam\", \"graphics\", \"greek\", \"greek\", \"grid\", \"groups\", \"growth\", \"growth\", \"guilty\", \"half-life_2\", \"halo_2\", \"handset\", \"handsets\", \"harriers\", \"have\", \"have\", \"have\", \"have\", \"have\", \"have\", \"have\", \"have\", \"having\", \"hd\", \"hdtv\", \"he\", \"he\", \"he\", \"he\", \"he\", \"he\", \"henman\", \"henson\", \"her\", \"her\", \"her\", \"her\", \"high-definition\", \"high-definition\", \"high-speed\", \"him\", \"him\", \"him\", \"him\", \"him\", \"him\", \"his\", \"his\", \"his\", \"his\", \"his\", \"his\", \"holmes\", \"holmes\", \"houston\", \"howard\", \"howard\", \"howard\", \"howard\", \"hp\", \"hunting\", \"hunting\", \"iaaf\", \"iaaf\", \"id_cards\", \"idea\", \"if\", \"if\", \"images\", \"images\", \"imf\", \"immigration\", \"india\", \"india\", \"indias\", \"indonesia\", \"indoor\", \"inflation\", \"information\", \"information\", \"information\", \"information\", \"injury\", \"injury\", \"interest_rates\", \"internet\", \"internet\", \"internet\", \"internet\", \"investigation\", \"investigation\", \"investigation\", \"investment\", \"investment\", \"investors\", \"investors\", \"iptv\", \"ireland\", \"ireland\", \"italy\", \"italy\", \"italy\", \"italy\", \"its\", \"its\", \"its\", \"its\", \"its\", \"its\", \"its\", \"its\", \"itunes\", \"jail\", \"japans\", \"job\", \"jobs\", \"jobs\", \"jobs\", \"keeper\", \"kenteris\", \"khodorkovsky\", \"kilroy-silk\", \"labour\", \"labour\", \"labours\", \"laptop\", \"law\", \"law\", \"law\", \"law\", \"lawsuit\", \"lawyer\", \"lawyer\", \"lawyers\", \"leader\", \"leader\", \"leader\", \"legal\", \"legal\", \"legal\", \"legal\", \"lib\", \"liberal_democrats\", \"linux\", \"lions\", \"lions\", \"lions\", \"liverpool\", \"liverpool\", \"liverpool\", \"look\", \"lord\", \"lord\", \"lords\", \"lse\", \"lycos\", \"mac_mini\", \"machine\", \"machine\", \"machine\", \"madrid\", \"madrid\", \"make\", \"make\", \"make\", \"make\", \"make\", \"malicious\", \"manager\", \"manager\", \"manager\", \"manchester_united\", \"marathon\", \"market\", \"market\", \"market\", \"market\", \"marsh\", \"match\", \"match\", \"match\", \"match\", \"mci\", \"mcilroy\", \"medal\", \"messages\", \"messages\", \"michael_howard\", \"microsoft\", \"microsoft\", \"microsoft\", \"midfielder\", \"might\", \"millan\", \"million\", \"million\", \"million\", \"million\", \"million\", \"million\", \"ministers\", \"ministers\", \"minutes\", \"minutes\", \"minutes\", \"mobile\", \"mobiles\", \"more\", \"more\", \"more\", \"more\", \"mourinho\", \"mouse\", \"moya\", \"mp\", \"mp3\", \"mps\", \"mr\", \"mr\", \"mr\", \"mr\", \"mr\", \"mr\", \"mr\", \"multimedia\", \"music\", \"music\", \"music\", \"musical\", \"musical\", \"musicians\", \"must\", \"nadal\", \"net\", \"net\", \"net\", \"net\", \"net\", \"network\", \"network\", \"network\", \"network\", \"networks\", \"networks\", \"newcastle\", \"newcastle\", \"nintendo\", \"no\", \"no\", \"no\", \"nokia\", \"nominated\", \"nominations\", \"nominees\", \"not\", \"not\", \"not\", \"not\", \"not\", \"not\", \"ogara\", \"oil\", \"oil\", \"olympic\", \"olympic\", \"online\", \"online\", \"online\", \"operators\", \"operators\", \"or\", \"or\", \"or\", \"or\", \"or\", \"or\", \"oscar\", \"oscars\", \"our\", \"our\", \"our\", \"out\", \"out\", \"out\", \"out\", \"out\", \"p2p\", \"parliament\", \"parliament\", \"parliamentary\", \"parmalat\", \"parry\", \"party\", \"party\", \"party\", \"party\", \"partys\", \"patent\", \"patents\", \"pc\", \"pc\", \"pc\", \"peer-to-peer\", \"pension\", \"pensions\", \"people\", \"people\", \"people\", \"people\", \"phone\", \"phone\", \"phones\", \"photos\", \"pirated\", \"plans\", \"plans\", \"plans\", \"plans\", \"players\", \"players\", \"players\", \"players\", \"playstation\", \"police\", \"police\", \"police\", \"police\", \"political\", \"political\", \"political\", \"politics\", \"pop\", \"pop\", \"possible\", \"premiership\", \"premiership\", \"premiership\", \"price\", \"price\", \"price\", \"price\", \"price\", \"prices\", \"prices\", \"prime_minister\", \"prime_minister\", \"prints\", \"prison\", \"prize\", \"prize\", \"problems\", \"profit\", \"profits\", \"profits\", \"program\", \"program\", \"programs\", \"prosecutors\", \"psp\", \"public\", \"public\", \"public\", \"public\", \"public\", \"public\", \"quarter\", \"quarter\", \"quarter\", \"quarter\", \"radcliffe\", \"radio\", \"radio\", \"radio\", \"rangers\", \"rapper\", \"rate\", \"rate\", \"rate\", \"rate\", \"reuters\", \"rise\", \"rise\", \"rise\", \"robben\", \"robinson\", \"robinson\", \"robot\", \"rock\", \"roddick\", \"ronaldo\", \"rose\", \"rose\", \"rose\", \"rosneft\", \"rugby\", \"ruling\", \"ruling\", \"russian\", \"russian\", \"russian\", \"safin\", \"sale\", \"sale\", \"sale\", \"sale\", \"sale\", \"sale\", \"sales\", \"sales\", \"sales\", \"sales\", \"satellite\", \"scotland\", \"scotland\", \"scotland\", \"scotland\", \"screensaver\", \"search\", \"search\", \"search\", \"search_engine\", \"season\", \"season\", \"season\", \"season\", \"sec\", \"second\", \"second\", \"second\", \"second\", \"second\", \"second\", \"second\", \"second\", \"secretary\", \"secretary\", \"security\", \"security\", \"security\", \"security\", \"see\", \"see\", \"seed\", \"seed\", \"service\", \"service\", \"service\", \"service\", \"service\", \"service\", \"services\", \"services\", \"services\", \"services\", \"services\", \"shares\", \"she\", \"she\", \"she\", \"she\", \"she\", \"shoppers\", \"show\", \"show\", \"show\", \"show\", \"show\", \"show\", \"show\", \"side\", \"side\", \"side\", \"sideways\", \"silicon\", \"simply\", \"singer\", \"site\", \"site\", \"site\", \"sites\", \"sites\", \"six_nations\", \"so\", \"so\", \"so\", \"so\", \"software\", \"software\", \"software\", \"some\", \"some\", \"some\", \"some\", \"some\", \"some\", \"something\", \"song\", \"song\", \"sony\", \"sony\", \"sony\", \"soul\", \"souness\", \"southampton\", \"spam\", \"spammers\", \"spanish\", \"spanish\", \"spanish\", \"spyware\", \"squad\", \"squad\", \"squad\", \"sri\", \"stade\", \"star\", \"star\", \"star\", \"star\", \"star\", \"star_wars\", \"starring\", \"stars\", \"stars\", \"stock\", \"stock_exchange\", \"stock_market\", \"striker\", \"subs\", \"subscribers\", \"sure\", \"system\", \"system\", \"system\", \"system\", \"system\", \"t-mobile\", \"takeover\", \"tax\", \"tax\", \"tax\", \"team\", \"team\", \"team\", \"team\", \"technology\", \"technology\", \"technology\", \"technology\", \"tennis\", \"thanou\", \"that\", \"that\", \"that\", \"that\", \"that\", \"that\", \"that\", \"theatre\", \"their\", \"their\", \"their\", \"their\", \"their\", \"their\", \"their\", \"their\", \"them\", \"them\", \"them\", \"them\", \"there\", \"there\", \"there\", \"there\", \"they\", \"they\", \"they\", \"they\", \"they\", \"they\", \"thing\", \"things\", \"think\", \"think\", \"time\", \"time\", \"time\", \"time\", \"time\", \"title\", \"title\", \"title\", \"title\", \"title\", \"titles\", \"titles\", \"titles\", \"titles\", \"tony_blair\", \"too\", \"too\", \"too\", \"top\", \"top\", \"top\", \"top\", \"top\", \"top\", \"tories\", \"tory\", \"tory_leader\", \"toshiba\", \"tournament\", \"trade\", \"trade\", \"traffic\", \"traffic\", \"trial\", \"trial\", \"trial\", \"trying\", \"turkey\", \"tv\", \"tv\", \"uk\", \"uk\", \"uk\", \"uk\", \"uk\", \"uk\", \"ukip\", \"ukraine\", \"ulster\", \"unemployment\", \"united\", \"united\", \"united\", \"us\", \"us\", \"us\", \"us\", \"us\", \"us\", \"us\", \"us\", \"use\", \"use\", \"use\", \"use\", \"use\", \"users\", \"users\", \"users\", \"uwb\", \"vera_drake\", \"very\", \"very\", \"victory\", \"victory\", \"victory\", \"video\", \"video\", \"video\", \"video\", \"video\", \"virtual\", \"virus\", \"virus\", \"virus\", \"viruses\", \"vodafone\", \"vote\", \"vote\", \"vote\", \"wales\", \"wales\", \"wales\", \"wanted\", \"wants\", \"wasps\", \"we\", \"we\", \"we\", \"we\", \"web\", \"web\", \"websites\", \"websites\", \"websites\", \"wenger\", \"what\", \"what\", \"what\", \"when\", \"when\", \"when\", \"when\", \"when\", \"when\", \"where\", \"where\", \"why\", \"wi-fi\", \"williams\", \"williams\", \"williams\", \"win\", \"win\", \"win\", \"win\", \"win\", \"win\", \"win\", \"windows\", \"windows\", \"windows\", \"wing\", \"wireless\", \"wireless\", \"within\", \"won\", \"won\", \"won\", \"won\", \"won\", \"won\", \"won\", \"woodward\", \"work\", \"work\", \"work\", \"world\", \"world\", \"world\", \"world\", \"world\", \"world\", \"worldcom\", \"would\", \"would\", \"would\", \"would\", \"would\", \"would\", \"would\", \"xbox\", \"yahoo\", \"year\", \"year\", \"year\", \"year\", \"year\", \"year\", \"you\", \"you\", \"your\", \"your\", \"your\", \"yugansk\", \"yuganskneftegas\", \"yukos\", \"zealand\", \"zealand\"]}, \"R\": 30, \"lambda.step\": 0.1, \"plot.opts\": {\"xlab\": \"PC1\", \"ylab\": \"PC2\"}, \"topic.order\": [1, 2, 3, 4, 5, 6, 7, 8, 9, 10]};\n",
       "\n",
       "function LDAvis_load_lib(url, callback){\n",
       "  var s = document.createElement('script');\n",
       "  s.src = url;\n",
       "  s.async = true;\n",
       "  s.onreadystatechange = s.onload = callback;\n",
       "  s.onerror = function(){console.warn(\"failed to load library \" + url);};\n",
       "  document.getElementsByTagName(\"head\")[0].appendChild(s);\n",
       "}\n",
       "\n",
       "if(typeof(LDAvis) !== \"undefined\"){\n",
       "   // already loaded: just create the visualization\n",
       "   !function(LDAvis){\n",
       "       new LDAvis(\"#\" + \"ldavis_el498722402952729032252877718\", ldavis_el498722402952729032252877718_data);\n",
       "   }(LDAvis);\n",
       "}else if(typeof define === \"function\" && define.amd){\n",
       "   // require.js is available: use it to load d3/LDAvis\n",
       "   require.config({paths: {d3: \"https://cdnjs.cloudflare.com/ajax/libs/d3/3.5.5/d3.min\"}});\n",
       "   require([\"d3\"], function(d3){\n",
       "      window.d3 = d3;\n",
       "      LDAvis_load_lib(\"https://cdn.rawgit.com/bmabey/pyLDAvis/files/ldavis.v1.0.0.js\", function(){\n",
       "        new LDAvis(\"#\" + \"ldavis_el498722402952729032252877718\", ldavis_el498722402952729032252877718_data);\n",
       "      });\n",
       "    });\n",
       "}else{\n",
       "    // require.js not available: dynamically load d3 & LDAvis\n",
       "    LDAvis_load_lib(\"https://cdnjs.cloudflare.com/ajax/libs/d3/3.5.5/d3.min.js\", function(){\n",
       "         LDAvis_load_lib(\"https://cdn.rawgit.com/bmabey/pyLDAvis/files/ldavis.v1.0.0.js\", function(){\n",
       "                 new LDAvis(\"#\" + \"ldavis_el498722402952729032252877718\", ldavis_el498722402952729032252877718_data);\n",
       "            })\n",
       "         });\n",
       "}\n",
       "</script>"
      ],
      "text/plain": [
       "<IPython.core.display.HTML object>"
      ]
     },
     "execution_count": 26,
     "metadata": {},
     "output_type": "execute_result"
    }
   ],
   "source": [
    "vis_data = results.get_vis_data()\n",
    "pyLDAvis.display(vis_data)"
   ]
  },
  {
   "cell_type": "markdown",
   "metadata": {},
   "source": [
    "Iterate\n",
    "--------\n",
    "- See what the main topics might be, slice initial corpus and re-run LDA to get sub-topics"
   ]
  }
 ],
 "metadata": {
  "kernelspec": {
   "display_name": "Python 3",
   "language": "python",
   "name": "python3"
  },
  "language_info": {
   "codemirror_mode": {
    "name": "ipython",
    "version": 3
   },
   "file_extension": ".py",
   "mimetype": "text/x-python",
   "name": "python",
   "nbconvert_exporter": "python",
   "pygments_lexer": "ipython3",
   "version": "3.7.6"
  },
  "widgets": {
   "application/vnd.jupyter.widget-state+json": {
    "state": {
     "0176bce07868479ba1260626d7e96ae2": {
      "model_module": "@jupyter-widgets/controls",
      "model_module_version": "1.5.0",
      "model_name": "SliderStyleModel",
      "state": {
       "description_width": ""
      }
     },
     "0c6041bc44c44b2793dab67ad5b0794b": {
      "model_module": "@jupyter-widgets/base",
      "model_module_version": "1.2.0",
      "model_name": "LayoutModel",
      "state": {}
     },
     "0f6858aff9a6418893b5db2b75af667d": {
      "model_module": "@jupyter-widgets/base",
      "model_module_version": "1.2.0",
      "model_name": "LayoutModel",
      "state": {}
     },
     "13eb7efb1d294d8390b86540aaaeeb07": {
      "model_module": "@jupyter-widgets/base",
      "model_module_version": "1.2.0",
      "model_name": "LayoutModel",
      "state": {}
     },
     "1f898984afc444e49b13dc17023418de": {
      "model_module": "@jupyter-widgets/base",
      "model_module_version": "1.2.0",
      "model_name": "LayoutModel",
      "state": {}
     },
     "23c2e3055cdd4b0fb5ade54f47417ae4": {
      "model_module": "@jupyter-widgets/controls",
      "model_module_version": "1.5.0",
      "model_name": "VBoxModel",
      "state": {
       "_dom_classes": [
        "widget-interact"
       ],
       "children": [
        "IPY_MODEL_9636b5d65c6c45df80d319d5ae4775a8",
        "IPY_MODEL_963c8fb4d7e24e14b38a4ef5f44001e5"
       ],
       "layout": "IPY_MODEL_b5cc154c0da84a9b95e463fe55e0d966"
      }
     },
     "2e381aa08f0f498f97bdc2a2aae009da": {
      "model_module": "@jupyter-widgets/controls",
      "model_module_version": "1.5.0",
      "model_name": "VBoxModel",
      "state": {
       "_dom_classes": [
        "widget-interact"
       ],
       "children": [
        "IPY_MODEL_3a292d4848e340bbb03efcb44b4c5546",
        "IPY_MODEL_5259f03c2a4f4730902ea770b0867c84"
       ],
       "layout": "IPY_MODEL_0c6041bc44c44b2793dab67ad5b0794b"
      }
     },
     "300ddb0791ce4396893229818dff50e8": {
      "model_module": "@jupyter-widgets/output",
      "model_module_version": "1.0.0",
      "model_name": "OutputModel",
      "state": {
       "layout": "IPY_MODEL_510ec16b4b0c460395beef57d1b19385",
       "outputs": [
        {
         "name": "stdout",
         "output_type": "stream",
         "text": "{'filename': 'data/bbc/business/001.txt'}\n\nAd sales boost Time Warner profit\n\nQuarterly profits at US media giant TimeWarner jumped 76% to $1.13bn (Â£600m) for the three months to December, from $639m year-earlier.\n\nThe firm, which is now one of the biggest investors in Google, benefited from sales of high-speed internet connections and higher advert sales. TimeWarner said fourth quarter sales rose 2% to $11.1bn from $10.9bn. Its profits were buoyed by one-off gains which offset a profit dip at Warner Bros, and less users for AOL.\n\nTime Warner said on Friday that it now owns 8% of search-engine Google. But its own internet business, AOL, had has mixed fortunes. It lost 464,000 subscribers in the fourth quarter profits were lower than in the preceding three quarters. However, the company said AOL's underlying profit before exceptional items rose 8% on the back of stronger internet advertising revenues. It hopes to increase subscribers by offering the online service free to TimeWarner internet customers and will try to sign up AOL's existing customers for high-speed broadband. TimeWarner also has to restate 2000 and 2003 results following a probe by the US Securities Exchange Commission (SEC), which is close to concluding.\n\nTime Warner's fourth quarter profits were slightly better than analysts' expectations. But its film division saw profits slump 27% to $284m, helped by box-office flops Alexander and Catwoman, a sharp contrast to year-earlier, when the third and final film in the Lord of the Rings trilogy boosted results. For the full-year, TimeWarner posted a profit of $3.36bn, up 27% from its 2003 performance, while revenues grew 6.4% to $42.09bn. \"Our financial performance was strong, meeting or exceeding all of our full-year objectives and greatly enhancing our flexibility,\" chairman and chief executive Richard Parsons said. For 2005, TimeWarner is projecting operating earnings growth of around 5%, and also expects higher revenue and wider profit margins.\n\nTimeWarner is to restate its accounts as part of efforts to resolve an inquiry into AOL by US market regulators. It has already offered to pay $300m to settle charges, in a deal that is under review by the SEC. The company said it was unable to estimate the amount it needed to set aside for legal reserves, which it previously set at $500m. It intends to adjust the way it accounts for a deal with German music publisher Bertelsmann's purchase of a stake in AOL Europe, which it had reported as advertising revenue. It will now book the sale of its stake in AOL Europe as a loss on the value of that stake.\n\n"
        }
       ]
      }
     },
     "363d527b513e4ffab5f46f0a9cc2737b": {
      "model_module": "@jupyter-widgets/base",
      "model_module_version": "1.2.0",
      "model_name": "LayoutModel",
      "state": {}
     },
     "3a292d4848e340bbb03efcb44b4c5546": {
      "model_module": "@jupyter-widgets/controls",
      "model_module_version": "1.5.0",
      "model_name": "IntSliderModel",
      "state": {
       "description": "doc_id",
       "layout": "IPY_MODEL_9ed5f929f05949ca81047f3a84ae1e84",
       "max": 2224,
       "style": "IPY_MODEL_5c718fb3a6c54077b79a5a284570c0e0"
      }
     },
     "4a3ed32352254eeebe3368a117a9a382": {
      "model_module": "@jupyter-widgets/controls",
      "model_module_version": "1.5.0",
      "model_name": "SliderStyleModel",
      "state": {
       "description_width": ""
      }
     },
     "4df391293247441dba818e14d38af8ea": {
      "model_module": "@jupyter-widgets/base",
      "model_module_version": "1.2.0",
      "model_name": "LayoutModel",
      "state": {}
     },
     "510ec16b4b0c460395beef57d1b19385": {
      "model_module": "@jupyter-widgets/base",
      "model_module_version": "1.2.0",
      "model_name": "LayoutModel",
      "state": {}
     },
     "5259f03c2a4f4730902ea770b0867c84": {
      "model_module": "@jupyter-widgets/output",
      "model_module_version": "1.0.0",
      "model_name": "OutputModel",
      "state": {
       "layout": "IPY_MODEL_1f898984afc444e49b13dc17023418de",
       "outputs": [
        {
         "name": "stdout",
         "output_type": "stream",
         "text": "{'filename': 'data/bbc/business/001.txt'}\n\nad sales boost time warner profit quarterly profits at us media giant timewarner jumped to $1.13bn â£600m for the three months to december from $639m year-earlier the firm which is now one of the biggest investors in google benefited from sales of high-speed internet connections and higher advert sales timewarner said fourth quarter sales rose to $11.1bn from $10.9bn its profits were buoyed by one-off gains which offset profit dip at warner bros and less users for aol time warner said on friday that it now owns of search-engine google but its own internet business aol had has mixed fortunes it lost subscribers in the fourth quarter profits were lower than in the preceding three quarters however the company said aols underlying profit before exceptional items rose on the back of stronger internet advertising revenues it hopes to increase subscribers by offering the online service free to timewarner internet customers and will try to sign up aols existing customers for high-speed broadband timewarner also has to restate and results following probe by the us securities exchange commission sec which is close to concluding time warners fourth quarter profits were slightly better than analysts expectations but its film division saw profits slump to $284m helped by box-office flops alexander and catwoman sharp contrast to year-earlier when the third and final film in the lord_of_the_rings trilogy boosted results for the full-year timewarner posted profit of $3.36bn up from its performance while revenues grew to $42.09bn our financial performance was strong meeting or exceeding all of our full-year objectives and greatly enhancing our flexibility chairman and chief_executive richard parsons said for timewarner is projecting operating earnings growth of around and also expects higher revenue and wider profit margins timewarner is to restate its accounts as part of efforts to resolve an inquiry into aol by us market regulators it has already offered to pay $300m to settle charges in deal that is under review by the sec the company said it was unable to estimate the amount it needed to set aside for legal reserves which it previously set at $500m it intends to adjust the way it accounts for deal with german music publisher bertelsmanns purchase of stake in aol europe which it had reported as advertising revenue it will now book the sale of its stake in aol europe as loss on the value of that stake\n"
        }
       ]
      }
     },
     "596c9f0a5ee54976b5c305733046eb20": {
      "model_module": "@jupyter-widgets/controls",
      "model_module_version": "1.5.0",
      "model_name": "VBoxModel",
      "state": {
       "_dom_classes": [
        "widget-interact"
       ],
       "children": [
        "IPY_MODEL_72c64a752960491d904da0ddbdf4798b",
        "IPY_MODEL_972d09b6a6024423a6de54b5f13114a5"
       ],
       "layout": "IPY_MODEL_c8473dedaa18462dbd9ed2df63cffc33"
      }
     },
     "5c718fb3a6c54077b79a5a284570c0e0": {
      "model_module": "@jupyter-widgets/controls",
      "model_module_version": "1.5.0",
      "model_name": "SliderStyleModel",
      "state": {
       "description_width": ""
      }
     },
     "6e2d7a2b5ae14a82bc6493af5230b988": {
      "model_module": "@jupyter-widgets/base",
      "model_module_version": "1.2.0",
      "model_name": "LayoutModel",
      "state": {}
     },
     "72c64a752960491d904da0ddbdf4798b": {
      "model_module": "@jupyter-widgets/controls",
      "model_module_version": "1.5.0",
      "model_name": "IntSliderModel",
      "state": {
       "description": "doc_id",
       "layout": "IPY_MODEL_4df391293247441dba818e14d38af8ea",
       "max": 2224,
       "style": "IPY_MODEL_4a3ed32352254eeebe3368a117a9a382"
      }
     },
     "9636b5d65c6c45df80d319d5ae4775a8": {
      "model_module": "@jupyter-widgets/controls",
      "model_module_version": "1.5.0",
      "model_name": "IntSliderModel",
      "state": {
       "description": "doc_id",
       "layout": "IPY_MODEL_13eb7efb1d294d8390b86540aaaeeb07",
       "max": 2224,
       "style": "IPY_MODEL_0176bce07868479ba1260626d7e96ae2"
      }
     },
     "963c8fb4d7e24e14b38a4ef5f44001e5": {
      "model_module": "@jupyter-widgets/output",
      "model_module_version": "1.0.0",
      "model_name": "OutputModel",
      "state": {
       "layout": "IPY_MODEL_c7609d692cbd4e8e967cb8cbd2357b69",
       "outputs": [
        {
         "name": "stdout",
         "output_type": "stream",
         "text": "{'filename': 'data/bbc/business/001.txt'}\n\nad sales boost time warner profit quarterly profits at us media giant timewarner jumped 76% to $1.13bn â£600m for the three months to december from $639m year-earlier the firm which is now one of the biggest investors in google benefited from sales of high-speed internet connections and higher advert sales timewarner said fourth quarter sales rose 2% to $11.1bn from $10.9bn its profits were buoyed by one-off gains which offset a profit dip at warner bros and less users for aol time warner said on friday that it now owns 8% of search-engine google but its own internet business aol had has mixed fortunes it lost 464,000 subscribers in the fourth quarter profits were lower than in the preceding three quarters however the company said aols underlying profit before exceptional items rose 8% on the back of stronger internet advertising revenues it hopes to increase subscribers by offering the online service free to timewarner internet customers and will try to sign up aols existing customers for high-speed broadband timewarner also has to restate 2000 and 2003 results following a probe by the us securities exchange commission sec which is close to concluding time warners fourth quarter profits were slightly better than analysts expectations but its film division saw profits slump 27% to $284m helped by box-office flops alexander and catwoman a sharp contrast to year-earlier when the third and final film in the lord_of_the_rings trilogy boosted results for the full-year timewarner posted a profit of $3.36bn up 27% from its 2003 performance while revenues grew 6.4% to $42.09bn our financial performance was strong meeting or exceeding all of our full-year objectives and greatly enhancing our flexibility chairman and chief_executive richard parsons said for 2005 timewarner is projecting operating earnings growth of around 5% and also expects higher revenue and wider profit margins timewarner is to restate its accounts as part of efforts to resolve an inquiry into aol by us market regulators it has already offered to pay $300m to settle charges in a deal that is under review by the sec the company said it was unable to estimate the amount it needed to set aside for legal reserves which it previously set at $500m it intends to adjust the way it accounts for a deal with german music publisher bertelsmanns purchase of a stake in aol europe which it had reported as advertising revenue it will now book the sale of its stake in aol europe as a loss on the value of that stake\n"
        }
       ]
      }
     },
     "972d09b6a6024423a6de54b5f13114a5": {
      "model_module": "@jupyter-widgets/output",
      "model_module_version": "1.0.0",
      "model_name": "OutputModel",
      "state": {
       "layout": "IPY_MODEL_6e2d7a2b5ae14a82bc6493af5230b988",
       "outputs": [
        {
         "name": "stdout",
         "output_type": "stream",
         "text": "{'filename': 'data/bbc/business/001.txt'}\n\nad sales boost time warner profit quarterly profits at us media giant timewarner jumped 76% to $1.13bn â£600m for the three months to december from $639m year-earlier the firm which is now one of the biggest investors in google benefited from sales of high-speed internet connections and higher advert sales timewarner said fourth quarter sales rose 2% to $11.1bn from $10.9bn its profits were buoyed by one-off gains which offset a profit dip at warner bros and less users for aol time warner said on friday that it now owns 8% of search-engine google but its own internet business aol had has mixed fortunes it lost 464,000 subscribers in the fourth quarter profits were lower than in the preceding three quarters however the company said aols underlying profit before exceptional items rose 8% on the back of stronger internet advertising revenues it hopes to increase subscribers by offering the online service free to timewarner internet customers and will try to sign up aols existing customers for high-speed broadband timewarner also has to restate 2000 and 2003 results following a probe by the us securities exchange commission sec which is close to concluding time warners fourth quarter profits were slightly better than analysts expectations but its film division saw profits slump 27% to $284m helped by box-office flops alexander and catwoman a sharp contrast to year-earlier when the third and final film in the lord of the rings trilogy boosted results for the full-year timewarner posted a profit of $3.36bn up 27% from its 2003 performance while revenues grew 6.4% to $42.09bn our financial performance was strong meeting or exceeding all of our full-year objectives and greatly enhancing our flexibility chairman and chief executive richard parsons said for 2005 timewarner is projecting operating earnings growth of around 5% and also expects higher revenue and wider profit margins timewarner is to restate its accounts as part of efforts to resolve an inquiry into aol by us market regulators it has already offered to pay $300m to settle charges in a deal that is under review by the sec the company said it was unable to estimate the amount it needed to set aside for legal reserves which it previously set at $500m it intends to adjust the way it accounts for a deal with german music publisher bertelsmanns purchase of a stake in aol europe which it had reported as advertising revenue it will now book the sale of its stake in aol europe as a loss on the value of that stake\n"
        }
       ]
      }
     },
     "9ed5f929f05949ca81047f3a84ae1e84": {
      "model_module": "@jupyter-widgets/base",
      "model_module_version": "1.2.0",
      "model_name": "LayoutModel",
      "state": {}
     },
     "b5cc154c0da84a9b95e463fe55e0d966": {
      "model_module": "@jupyter-widgets/base",
      "model_module_version": "1.2.0",
      "model_name": "LayoutModel",
      "state": {}
     },
     "bc3c0ab7399b4b16b5d34f7b6307998b": {
      "model_module": "@jupyter-widgets/controls",
      "model_module_version": "1.5.0",
      "model_name": "VBoxModel",
      "state": {
       "_dom_classes": [
        "widget-interact"
       ],
       "children": [
        "IPY_MODEL_e4e663e13b1c4bb4a38edf7e816b4937",
        "IPY_MODEL_300ddb0791ce4396893229818dff50e8"
       ],
       "layout": "IPY_MODEL_363d527b513e4ffab5f46f0a9cc2737b"
      }
     },
     "c5cdae633e8d419f8e138445d94e8bbc": {
      "model_module": "@jupyter-widgets/controls",
      "model_module_version": "1.5.0",
      "model_name": "SliderStyleModel",
      "state": {
       "description_width": ""
      }
     },
     "c7609d692cbd4e8e967cb8cbd2357b69": {
      "model_module": "@jupyter-widgets/base",
      "model_module_version": "1.2.0",
      "model_name": "LayoutModel",
      "state": {}
     },
     "c8473dedaa18462dbd9ed2df63cffc33": {
      "model_module": "@jupyter-widgets/base",
      "model_module_version": "1.2.0",
      "model_name": "LayoutModel",
      "state": {}
     },
     "e4e663e13b1c4bb4a38edf7e816b4937": {
      "model_module": "@jupyter-widgets/controls",
      "model_module_version": "1.5.0",
      "model_name": "IntSliderModel",
      "state": {
       "description": "doc_id",
       "layout": "IPY_MODEL_0f6858aff9a6418893b5db2b75af667d",
       "max": 2224,
       "style": "IPY_MODEL_c5cdae633e8d419f8e138445d94e8bbc"
      }
     }
    },
    "version_major": 2,
    "version_minor": 0
   }
  }
 },
 "nbformat": 4,
 "nbformat_minor": 4
}
