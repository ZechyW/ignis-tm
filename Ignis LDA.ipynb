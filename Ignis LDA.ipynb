{
 "cells": [
  {
   "cell_type": "markdown",
   "metadata": {},
   "source": [
    "Basic Text Pre-processing and Topic Modelling\n",
    "======"
   ]
  },
  {
   "cell_type": "code",
   "execution_count": 1,
   "metadata": {
    "ExecuteTime": {
     "end_time": "2020-06-04T15:19:20.904363Z",
     "start_time": "2020-06-04T15:19:17.103713Z"
    }
   },
   "outputs": [],
   "source": [
    "import glob\n",
    "import math\n",
    "import re\n",
    "import threading\n",
    "import time\n",
    "\n",
    "import gensim\n",
    "import nltk\n",
    "import pyLDAvis\n",
    "import tomotopy as tp\n",
    "import tqdm\n",
    "import pathlib"
   ]
  },
  {
   "cell_type": "code",
   "execution_count": 2,
   "metadata": {
    "ExecuteTime": {
     "end_time": "2020-06-04T15:19:20.954365Z",
     "start_time": "2020-06-04T15:19:20.906370Z"
    }
   },
   "outputs": [],
   "source": [
    "import ipywidgets as widgets"
   ]
  },
  {
   "cell_type": "markdown",
   "metadata": {},
   "source": [
    "Data ingestion\n",
    "--------------------\n",
    "\n",
    "We will track the contents and filename of each document, then tokenise them all and feed them into an Ignis.Corpus.\n",
    "\n",
    "We should, by all accounts, actually be preparing a separate text cleaning function and running the raw text through it immediately, but this way we can see the effects of each step of the data cleaning."
   ]
  },
  {
   "cell_type": "code",
   "execution_count": 3,
   "metadata": {
    "ExecuteTime": {
     "end_time": "2020-06-04T15:19:20.981363Z",
     "start_time": "2020-06-04T15:19:20.957365Z"
    }
   },
   "outputs": [],
   "source": [
    "raw_files = glob.glob(\"./data/bbc/*/*.txt\")"
   ]
  },
  {
   "cell_type": "code",
   "execution_count": 4,
   "metadata": {
    "ExecuteTime": {
     "end_time": "2020-06-04T15:19:21.298909Z",
     "start_time": "2020-06-04T15:19:20.983368Z"
    }
   },
   "outputs": [
    {
     "name": "stderr",
     "output_type": "stream",
     "text": [
      "100%|██████████| 2225/2225 [00:00<00:00, 7403.25it/s]\n"
     ]
    }
   ],
   "source": [
    "raw_docs = []\n",
    "for file in tqdm.tqdm(raw_files):\n",
    "    filename = pathlib.Path(file).as_posix()\n",
    "    metadata = {\n",
    "        \"filename\": filename\n",
    "    }\n",
    "    \n",
    "    with open(file) as f:\n",
    "        text = f.read()\n",
    "    \n",
    "    raw_docs.append([metadata, text])"
   ]
  },
  {
   "cell_type": "code",
   "execution_count": 5,
   "metadata": {
    "ExecuteTime": {
     "end_time": "2020-06-04T15:19:21.350909Z",
     "start_time": "2020-06-04T15:19:21.301909Z"
    },
    "scrolled": false
   },
   "outputs": [
    {
     "data": {
      "application/vnd.jupyter.widget-view+json": {
       "model_id": "626fb6d239484b8a9006fc78756a0376",
       "version_major": 2,
       "version_minor": 0
      },
      "text/plain": [
       "interactive(children=(IntSlider(value=0, description='doc_id', max=2224), Output()), _dom_classes=('widget-int…"
      ]
     },
     "metadata": {},
     "output_type": "display_data"
    },
    {
     "data": {
      "text/plain": [
       "<function __main__.show_raw_doc(doc_id=0)>"
      ]
     },
     "execution_count": 5,
     "metadata": {},
     "output_type": "execute_result"
    }
   ],
   "source": [
    "def show_raw_doc(doc_id=0):\n",
    "    print(raw_docs[doc_id][0])\n",
    "    print()\n",
    "    print(raw_docs[doc_id][1])\n",
    "\n",
    "widgets.interact(show_raw_doc, doc_id=(0, len(raw_docs) - 1))"
   ]
  },
  {
   "cell_type": "markdown",
   "metadata": {},
   "source": [
    "Text pre-processing and tokenisation\n",
    "------"
   ]
  },
  {
   "cell_type": "markdown",
   "metadata": {},
   "source": [
    "### Naive tokenisation (by whitespace)\n",
    "- Case folding\n",
    "- Strip leading/trailing non-informative punctuation from tokens\n",
    "- Remove single apostrophes\n",
    "- Remove single brackets within words\n",
    "  - For dealing with cases like \"the recipient(s)\" -- Which will get tokenised to \"the recipient(s\" otherwise"
   ]
  },
  {
   "cell_type": "code",
   "execution_count": 6,
   "metadata": {
    "ExecuteTime": {
     "end_time": "2020-06-04T15:19:21.362906Z",
     "start_time": "2020-06-04T15:19:21.352908Z"
    }
   },
   "outputs": [],
   "source": [
    "strip_punctuation = \"'\\\"()[]<>?!,.:;/|_\"\n",
    "bracket_pairs = [\n",
    "    [\"(\", \")\"],\n",
    "    [\"[\", \"]\"],\n",
    "]\n",
    "\n",
    "\n",
    "def naive_tokenise(doc):\n",
    "    \"\"\"\n",
    "    Naively tokenises a document.\n",
    "    \n",
    "    Returns\n",
    "    -------\n",
    "    str\n",
    "        The document as a string of space-separated tokens\n",
    "    \"\"\"\n",
    "    new_tokens = []\n",
    "    \n",
    "    tokens = doc.split()\n",
    "    for token in tokens:\n",
    "        token = token.casefold()\n",
    "        token = token.strip(strip_punctuation)\n",
    "        token = token.replace(\"'\", \"\")\n",
    "        \n",
    "        for bracket_pair in bracket_pairs:\n",
    "            if bracket_pair[0] in token and bracket_pair[1] not in token:\n",
    "                token = token.replace(bracket_pair[0], \"\")\n",
    "            if bracket_pair[1] in token and bracket_pair[0] not in token:\n",
    "                token = token.replace(bracket_pair[1], \"\")\n",
    "        \n",
    "        if token != \"\":\n",
    "            new_tokens.append(token)\n",
    "            \n",
    "    return new_tokens"
   ]
  },
  {
   "cell_type": "code",
   "execution_count": 7,
   "metadata": {
    "ExecuteTime": {
     "end_time": "2020-06-04T15:19:21.370907Z",
     "start_time": "2020-06-04T15:19:21.364908Z"
    }
   },
   "outputs": [
    {
     "data": {
      "text/plain": [
       "['this',\n",
       " 'is',\n",
       " 'a',\n",
       " 't(e)st',\n",
       " 'of',\n",
       " 'the',\n",
       " 'systems',\n",
       " 'tokenisation',\n",
       " 'operations']"
      ]
     },
     "execution_count": 7,
     "metadata": {},
     "output_type": "execute_result"
    }
   ],
   "source": [
    "naive_tokenise('This is a t(e)st of the system\\'s \"tokenisation\" operation(s).')"
   ]
  },
  {
   "cell_type": "code",
   "execution_count": 8,
   "metadata": {
    "ExecuteTime": {
     "end_time": "2020-06-04T15:19:22.398739Z",
     "start_time": "2020-06-04T15:19:21.373904Z"
    }
   },
   "outputs": [],
   "source": [
    "naive_docs = []\n",
    "for raw_doc in raw_docs:\n",
    "    naive_docs.append([raw_doc[0], naive_tokenise(raw_doc[1])])"
   ]
  },
  {
   "cell_type": "code",
   "execution_count": 9,
   "metadata": {
    "ExecuteTime": {
     "end_time": "2020-06-04T15:19:22.434738Z",
     "start_time": "2020-06-04T15:19:22.400740Z"
    }
   },
   "outputs": [
    {
     "data": {
      "application/vnd.jupyter.widget-view+json": {
       "model_id": "b928ec21ad314571ae81f127e9ce91b5",
       "version_major": 2,
       "version_minor": 0
      },
      "text/plain": [
       "interactive(children=(IntSlider(value=0, description='doc_id', max=2224), Output()), _dom_classes=('widget-int…"
      ]
     },
     "metadata": {},
     "output_type": "display_data"
    },
    {
     "data": {
      "text/plain": [
       "<function __main__.show_naive_doc(doc_id=0)>"
      ]
     },
     "execution_count": 9,
     "metadata": {},
     "output_type": "execute_result"
    }
   ],
   "source": [
    "def show_naive_doc(doc_id=0):\n",
    "    print(naive_docs[doc_id][0])\n",
    "    print()\n",
    "    print(\" \".join(naive_docs[doc_id][1]))\n",
    "\n",
    "widgets.interact(show_naive_doc, doc_id=(0, len(naive_docs) - 1))"
   ]
  },
  {
   "cell_type": "markdown",
   "metadata": {},
   "source": [
    "### Automated n-gram detection\n",
    "\n",
    "Chunk into significant bigrams/trigrams based on collocation frequency\n",
    "\n",
    "(N.B.: Gensim implies that the input to the Phraser should be a list of single sentences, but we will feed it a list of documents instead.)\n",
    "\n",
    "- Min count: How many documents the n-grams need to appear in\n",
    "\n",
    "- Scoring: \"default\" or \"npmi\"\n",
    "\n",
    "- Threshold: Intuitively, higher threshold means fewer phrases.\n",
    "  - With the default scorer, this is greater than or equal to 0; with the NPMI scorer, this is in the range -1 to 1.\n",
    "\n",
    "- Common terms: These terms will be ignored if they come between normal words.\n",
    "  - E.g., if `common_terms` includes the word \"of\", then when the phraser sees \"Wheel of Fortune\" it actually evaluates _\"Wheel Fortune\"_ as an n-gram, putting \"of\" back in only at the output level."
   ]
  },
  {
   "cell_type": "code",
   "execution_count": 10,
   "metadata": {
    "ExecuteTime": {
     "end_time": "2020-06-04T15:19:22.440738Z",
     "start_time": "2020-06-04T15:19:22.436734Z"
    }
   },
   "outputs": [],
   "source": [
    "min_count = 5\n",
    "scoring = \"npmi\"\n",
    "# We want a relatively high threshold so that we don't start littering spurious n-grams all over our corpus, diluting our results.\n",
    "# E.g., we want \"Lord_of_the_Rings\", but not \"slightly_better_than_analysts\"\n",
    "threshold = 0.7\n",
    "common_terms = [\"a\", \"an\", \"the\", \"of\", \"on\", \"in\", \"at\"]"
   ]
  },
  {
   "cell_type": "markdown",
   "metadata": {},
   "source": [
    "This could take a while, so set up a threaded function with a basic progress indicator in the main thread"
   ]
  },
  {
   "cell_type": "code",
   "execution_count": 11,
   "metadata": {
    "ExecuteTime": {
     "end_time": "2020-06-04T15:19:22.454736Z",
     "start_time": "2020-06-04T15:19:22.442736Z"
    }
   },
   "outputs": [],
   "source": [
    "def find_trigrams(docs, results):\n",
    "    # Build, finalise, and apply the bigram model\n",
    "    bigram_model = gensim.models.Phrases(\n",
    "        docs,\n",
    "        min_count=min_count,\n",
    "        threshold=threshold,\n",
    "        scoring=scoring,\n",
    "        common_terms=common_terms,\n",
    "    )\n",
    "    bigram_model = gensim.models.phrases.Phraser(bigram_model)\n",
    "    \n",
    "    bigram_docs = bigram_model[docs]\n",
    "    \n",
    "    # Repeat to get trigrams\n",
    "    trigram_model = gensim.models.Phrases(\n",
    "        bigram_docs,\n",
    "        min_count=min_count,\n",
    "        threshold=threshold,\n",
    "        scoring=scoring,\n",
    "        common_terms=common_terms,\n",
    "    )\n",
    "    trigram_model = gensim.models.phrases.Phraser(trigram_model)\n",
    "    \n",
    "    trigram_docs = trigram_model[docs]\n",
    "    \n",
    "    results[0] = trigram_docs"
   ]
  },
  {
   "cell_type": "code",
   "execution_count": 12,
   "metadata": {
    "ExecuteTime": {
     "end_time": "2020-06-04T15:19:48.900569Z",
     "start_time": "2020-06-04T15:19:22.457736Z"
    },
    "scrolled": true
   },
   "outputs": [
    {
     "name": "stdout",
     "output_type": "stream",
     "text": [
      "Finding trigrams . . . . . . . . . . . . . . . . . . . Done. (23.095s)\n"
     ]
    }
   ],
   "source": [
    "print(\"Finding trigrams\", flush=True, end=\"\")\n",
    "start_time = time.perf_counter()\n",
    "\n",
    "# Just send the textual content through the Phraser, not the document metadata\n",
    "for_phrasing = [naive_doc[1] for naive_doc in naive_docs]\n",
    "\n",
    "# Will contain the documents after trigram processing\n",
    "results = [None]\n",
    "t = threading.Thread(target=find_trigrams, args=(for_phrasing, results))\n",
    "t.start()\n",
    "\n",
    "progress_countdown = 1.0\n",
    "\n",
    "while t.isAlive():\n",
    "    time.sleep(0.1)\n",
    "    progress_countdown -= 0.1\n",
    "    if progress_countdown <= 0:\n",
    "        print(\" .\", flush=True, end=\"\")\n",
    "        progress_countdown = 1\n",
    "\n",
    "elapsed = time.perf_counter() - start_time\n",
    "print(f\" Done. ({elapsed:.3f}s)\")\n",
    "\n",
    "after_phrasing = results[0]\n",
    "\n",
    "# Put metadata back in\n",
    "phrased_docs = []\n",
    "for index, tokens in enumerate(after_phrasing):\n",
    "    phrased_docs.append([naive_docs[index][0], tokens])"
   ]
  },
  {
   "cell_type": "code",
   "execution_count": 13,
   "metadata": {
    "ExecuteTime": {
     "end_time": "2020-06-04T15:19:48.945569Z",
     "start_time": "2020-06-04T15:19:48.902566Z"
    },
    "scrolled": false
   },
   "outputs": [
    {
     "data": {
      "application/vnd.jupyter.widget-view+json": {
       "model_id": "93a88d6d72784b92b77aab57fc65e4a9",
       "version_major": 2,
       "version_minor": 0
      },
      "text/plain": [
       "interactive(children=(IntSlider(value=0, description='doc_id', max=2224), Output()), _dom_classes=('widget-int…"
      ]
     },
     "metadata": {},
     "output_type": "display_data"
    },
    {
     "data": {
      "text/plain": [
       "<function __main__.show_phrased_doc(doc_id=0)>"
      ]
     },
     "execution_count": 13,
     "metadata": {},
     "output_type": "execute_result"
    }
   ],
   "source": [
    "def show_phrased_doc(doc_id=0):\n",
    "    print(phrased_docs[doc_id][0])\n",
    "    print()\n",
    "    print(\" \".join(phrased_docs[doc_id][1]))\n",
    "\n",
    "widgets.interact(show_phrased_doc, doc_id=(0, len(phrased_docs) - 1))"
   ]
  },
  {
   "cell_type": "markdown",
   "metadata": {},
   "source": [
    "### Post-phrasing cleaning\n",
    "\n",
    "- Remove stop words (optional)\n",
    "- Remove purely numeric/non-alphabetic/single-character tokens\n",
    "  - Under the assumption that significant tokens, like the \"19\" in \"Covid 19\", would have been picked up by the phraser"
   ]
  },
  {
   "cell_type": "code",
   "execution_count": 14,
   "metadata": {
    "ExecuteTime": {
     "end_time": "2020-06-04T15:19:48.953567Z",
     "start_time": "2020-06-04T15:19:48.947568Z"
    }
   },
   "outputs": [],
   "source": [
    "# stopset = set(nltk.corpus.stopwords.words(\"english\"))\n",
    "# Not needed if using term weighting\n",
    "stopset = []\n",
    "\n",
    "\n",
    "def second_tokenise(tokens):\n",
    "    new_tokens = []\n",
    "    for token in tokens:\n",
    "        if token in stopset or re.match(\"^[^a-z]+$\", token) or len(token) <= 1:\n",
    "            continue\n",
    "        new_tokens.append(token)\n",
    "\n",
    "    return new_tokens"
   ]
  },
  {
   "cell_type": "code",
   "execution_count": 15,
   "metadata": {
    "ExecuteTime": {
     "end_time": "2020-06-04T15:19:50.506113Z",
     "start_time": "2020-06-04T15:19:48.955569Z"
    }
   },
   "outputs": [],
   "source": [
    "final_docs = []\n",
    "for phrased_doc in phrased_docs:\n",
    "    final_docs.append([phrased_doc[0], second_tokenise(phrased_doc[1])])"
   ]
  },
  {
   "cell_type": "code",
   "execution_count": 16,
   "metadata": {
    "ExecuteTime": {
     "end_time": "2020-06-04T15:19:50.553739Z",
     "start_time": "2020-06-04T15:19:50.508112Z"
    }
   },
   "outputs": [
    {
     "data": {
      "application/vnd.jupyter.widget-view+json": {
       "model_id": "7dd67d71476f4e8880c1051c1c7e346c",
       "version_major": 2,
       "version_minor": 0
      },
      "text/plain": [
       "interactive(children=(IntSlider(value=0, description='doc_id', max=2224), Output()), _dom_classes=('widget-int…"
      ]
     },
     "metadata": {},
     "output_type": "display_data"
    },
    {
     "data": {
      "text/plain": [
       "<function __main__.show_final_doc(doc_id=0)>"
      ]
     },
     "execution_count": 16,
     "metadata": {},
     "output_type": "execute_result"
    }
   ],
   "source": [
    "def show_final_doc(doc_id=0):\n",
    "    print(final_docs[doc_id][0])\n",
    "    print()\n",
    "    print(\" \".join(final_docs[doc_id][1]))\n",
    "\n",
    "widgets.interact(show_final_doc, doc_id=(0, len(final_docs) - 1))"
   ]
  },
  {
   "cell_type": "markdown",
   "metadata": {},
   "source": [
    "Model training (LDA)\n",
    "----"
   ]
  },
  {
   "cell_type": "markdown",
   "metadata": {},
   "source": [
    "Add processed docs to the LDA model and train it.\n",
    "\n",
    "The random seed and parallelisation can both affect results, so setting the seed and number of workers is necessary for reproducibility."
   ]
  },
  {
   "cell_type": "code",
   "execution_count": 47,
   "metadata": {
    "ExecuteTime": {
     "end_time": "2020-06-04T15:27:50.638603Z",
     "start_time": "2020-06-04T15:27:50.630602Z"
    }
   },
   "outputs": [
    {
     "data": {
      "text/plain": [
       "<module 'ignis.corpus' from 'E:\\\\Git\\\\topic-modelling\\\\ignis\\\\corpus.py'>"
      ]
     },
     "execution_count": 47,
     "metadata": {},
     "output_type": "execute_result"
    }
   ],
   "source": [
    "import ignis\n",
    "import importlib\n",
    "importlib.reload(ignis.corpus)"
   ]
  },
  {
   "cell_type": "code",
   "execution_count": 48,
   "metadata": {
    "ExecuteTime": {
     "end_time": "2020-06-04T15:27:51.006807Z",
     "start_time": "2020-06-04T15:27:50.984807Z"
    }
   },
   "outputs": [],
   "source": [
    "corpus = ignis.Corpus()\n",
    "\n",
    "for metadata, tokens in final_docs:\n",
    "    corpus.add_doc(metadata, tokens)"
   ]
  },
  {
   "cell_type": "code",
   "execution_count": 49,
   "metadata": {
    "ExecuteTime": {
     "end_time": "2020-06-04T15:27:51.340862Z",
     "start_time": "2020-06-04T15:27:51.335858Z"
    }
   },
   "outputs": [
    {
     "name": "stdout",
     "output_type": "stream",
     "text": [
      "ID: 359846c7-d193-4828-a375-2ce62cc5db6e\n",
      "\n",
      "Metadata: {'filename': 'data/bbc/business/001.txt'}\n",
      "\n",
      "ad sales boost time warner profit quarterly profits at us media giant timewarner jumped to $1.13bn â£600m for the three months to december from $639m year-earlier the firm which is now one of the biggest investors in google benefited from sales of high-speed internet connections and higher advert sales timewarner said fourth quarter sales rose to $11.1bn from $10.9bn its profits were buoyed by one-off gains which offset profit dip at warner bros and less users for aol time warner said on friday that it now owns of search-engine google but its own internet business aol had has mixed fortunes it lost subscribers in the fourth quarter profits were lower than in the preceding three quarters however the company said aols underlying profit before exceptional items rose on the back of stronger internet advertising revenues it hopes to increase subscribers by offering the online service free to timewarner internet customers and will try to sign up aols existing customers for high-speed broadband timewarner also has to restate and results following probe by the us securities exchange commission sec which is close to concluding time warners fourth quarter profits were slightly better than analysts expectations but its film division saw profits slump to $284m helped by box-office flops alexander and catwoman sharp contrast to year-earlier when the third and final film in the lord_of_the_rings trilogy boosted results for the full-year timewarner posted profit of $3.36bn up from its performance while revenues grew to $42.09bn our financial performance was strong meeting or exceeding all of our full-year objectives and greatly enhancing our flexibility chairman and chief_executive richard parsons said for timewarner is projecting operating earnings growth of around and also expects higher revenue and wider profit margins timewarner is to restate its accounts as part of efforts to resolve an inquiry into aol by us market regulators it has already offered to pay $300m to settle charges in deal that is under review by the sec the company said it was unable to estimate the amount it needed to set aside for legal reserves which it previously set at $500m it intends to adjust the way it accounts for deal with german music publisher bertelsmanns purchase of stake in aol europe which it had reported as advertising revenue it will now book the sale of its stake in aol europe as loss on the value of that stake\n"
     ]
    }
   ],
   "source": [
    "for doc_id in corpus.documents:\n",
    "    print(corpus.documents[doc_id])\n",
    "    break"
   ]
  },
  {
   "cell_type": "code",
   "execution_count": 40,
   "metadata": {
    "ExecuteTime": {
     "end_time": "2020-06-04T15:26:41.851572Z",
     "start_time": "2020-06-04T15:26:41.846571Z"
    }
   },
   "outputs": [],
   "source": [
    "# Persistence\n",
    "model_seed = 11399\n",
    "num_workers = 12\n",
    "\n",
    "# Model options\n",
    "model_file = \"model.bin\"\n",
    "num_topics = 20\n",
    "\n",
    "# Training iterations\n",
    "load_saved_model = False\n",
    "train_batch = 100\n",
    "train_total = 1000\n",
    "\n",
    "# Extended training\n",
    "train_until_min_ll = True\n",
    "max_iterations = 10000"
   ]
  },
  {
   "cell_type": "code",
   "execution_count": null,
   "metadata": {
    "ExecuteTime": {
     "end_time": "2020-05-29T09:26:12.680580Z",
     "start_time": "2020-05-29T09:25:58.518713Z"
    },
    "scrolled": false
   },
   "outputs": [],
   "source": [
    "if load_saved_model:\n",
    "    model = tp.LDAModel.load(model_file)\n",
    "    print(f\"Loaded from '{model_file}'.\")\n",
    "else:\n",
    "    model = tp.LDAModel(tw=tp.TermWeight.IDF, seed=model_seed, k=num_topics)\n",
    "\n",
    "    for doc in tqdm.tqdm(docs):\n",
    "        model.add_doc(doc)\n",
    "\n",
    "    model.train(0, workers=num_workers, parallel=tp.ParallelScheme.DEFAULT)\n",
    "    print(\n",
    "        f\"Num docs: {len(model.docs)}, Vocab size: {model.num_vocabs}, \"\n",
    "        f\"Num words: {model.num_words}\"\n",
    "    )\n",
    "    print(f\"Removed top words: {model.removed_top_words}\")\n",
    "\n",
    "    print(\"Training model...\", flush=True)\n",
    "\n",
    "    try:\n",
    "        for i in range(0, train_total, train_batch):\n",
    "            start_time = time.perf_counter()\n",
    "            model.train(\n",
    "                train_batch, workers=num_workers, parallel=tp.ParallelScheme.DEFAULT\n",
    "            )\n",
    "            elapsed = time.perf_counter() - start_time\n",
    "            print(\n",
    "                f\"Iteration: {i + train_batch}\\tLog-likelihood: {model.ll_per_word}\\t\"\n",
    "                f\"Time: {elapsed:.3f}s\",\n",
    "                flush=True,\n",
    "            )\n",
    "    except KeyboardInterrupt:\n",
    "        print(\"Stopping train sequence.\")\n",
    "    model.save(model_file)\n",
    "    print(f\"Saved to '{model_file}'.\")"
   ]
  },
  {
   "cell_type": "code",
   "execution_count": null,
   "metadata": {
    "ExecuteTime": {
     "end_time": "2020-05-29T09:27:38.955212Z",
     "start_time": "2020-05-29T09:26:12.682547Z"
    },
    "pycharm": {
     "name": "#%%\n"
    },
    "scrolled": false
   },
   "outputs": [],
   "source": [
    "if train_until_min_ll:\n",
    "    print(\"Continuing to train until minimum log-likelihood...\")\n",
    "    print(\"(N.B.: This may not correlate with increased human interpretability)\")\n",
    "    last_ll = model.ll_per_word\n",
    "    i = 0\n",
    "    consecutive_loss = 0\n",
    "\n",
    "    while True:\n",
    "        try:\n",
    "            start_time = time.perf_counter()\n",
    "            model.train(\n",
    "                train_batch, workers=num_workers, parallel=tp.ParallelScheme.DEFAULT\n",
    "            )\n",
    "            i += train_batch\n",
    "            elapsed = time.perf_counter() - start_time\n",
    "            print(\n",
    "                f\"Iteration: {i}\\tLog-likelihood: {model.ll_per_word}\\t\"\n",
    "                f\"Time: {elapsed:.3f}s\",\n",
    "                flush=True,\n",
    "            )\n",
    "\n",
    "            if model.ll_per_word < last_ll:\n",
    "                consecutive_loss += 1\n",
    "            else:\n",
    "                consecutive_loss = 0\n",
    "                model.save(model_file)\n",
    "            last_ll = model.ll_per_word\n",
    "\n",
    "            if consecutive_loss == 2 or i >= max_iterations:\n",
    "                break\n",
    "\n",
    "        except KeyboardInterrupt:\n",
    "            print(\"Stopping extended train sequence.\")\n",
    "            break\n",
    "\n",
    "    model = tp.LDAModel.load(model_file)\n",
    "    print(f\"Best recent model saved at '{model_file}' (LL: {model.ll_per_word}).\")"
   ]
  },
  {
   "cell_type": "markdown",
   "metadata": {
    "pycharm": {
     "name": "#%% md\n"
    }
   },
   "source": [
    "Topic labelling"
   ]
  },
  {
   "cell_type": "code",
   "execution_count": null,
   "metadata": {
    "pycharm": {
     "name": "#%%\n"
    }
   },
   "outputs": [],
   "source": [
    "print(\"Extracting suggested topic labels...\", flush=True)\n",
    "# extractor = tp.label.PMIExtractor(min_cf=10, min_df=5, max_len=5, max_cand=10000)\n",
    "extractor = tp.label.PMIExtractor(min_cf=5, min_df=3, max_len=5, max_cand=20000)\n",
    "candidates = extractor.extract(model)\n",
    "# labeler = tp.label.FoRelevance(model, candidates, min_df=5, smoothing=1e-2,\n",
    "# mu=0.25)\n",
    "labeler = tp.label.FoRelevance(\n",
    "    model, candidates, min_df=3, smoothing=1e-2, mu=0.25, workers=num_workers\n",
    ")\n",
    "print(\"Done.\")"
   ]
  },
  {
   "cell_type": "code",
   "execution_count": null,
   "metadata": {
    "ExecuteTime": {
     "end_time": "2020-05-29T09:27:43.132247Z",
     "start_time": "2020-05-29T09:27:38.975224Z"
    }
   },
   "outputs": [],
   "source": [
    "Print results\n",
    "------"
   ]
  },
  {
   "cell_type": "markdown",
   "metadata": {},
   "source": [
    "Print results\n",
    "------"
   ]
  },
  {
   "cell_type": "code",
   "execution_count": null,
   "metadata": {
    "ExecuteTime": {
     "end_time": "2020-05-29T09:27:43.144249Z",
     "start_time": "2020-05-29T09:27:43.134220Z"
    }
   },
   "outputs": [],
   "source": [
    "def print_topic(topic_id):\n",
    "    # Labels\n",
    "    labels = \", \".join(\n",
    "        label for label, score in labeler.get_topic_labels(topic_id, top_n=10)\n",
    "    )\n",
    "    print(f\"Suggested labels: {labels}\")\n",
    "\n",
    "    # Print this topic\n",
    "    words_probs = model.get_topic_words(topic_id, top_n=10)\n",
    "    words = [x[0] for x in words_probs]\n",
    "\n",
    "    words = \", \".join(words)\n",
    "    print(words)"
   ]
  },
  {
   "cell_type": "code",
   "execution_count": null,
   "metadata": {
    "ExecuteTime": {
     "end_time": "2020-05-29T09:27:43.346249Z",
     "start_time": "2020-05-29T09:27:43.146217Z"
    },
    "scrolled": false
   },
   "outputs": [],
   "source": [
    "for k in range(model.k):\n",
    "    print(f\"[Topic {k+1}]\")\n",
    "    print_topic(k)\n",
    "    print()"
   ]
  },
  {
   "cell_type": "markdown",
   "metadata": {},
   "source": [
    "Visualise\n",
    "--------\n",
    "- Present data in the format expected by pyLDAvis"
   ]
  },
  {
   "cell_type": "code",
   "execution_count": null,
   "metadata": {
    "ExecuteTime": {
     "end_time": "2020-05-29T09:27:43.446293Z",
     "start_time": "2020-05-29T09:27:43.348221Z"
    },
    "scrolled": false
   },
   "outputs": [],
   "source": [
    "model_data = {\n",
    "    \"topic_term_dists\": [model.get_topic_word_dist(k) for k in range(model.k)],\n",
    "    \"doc_topic_dists\": [model.docs[n].get_topic_dist() for n in range(len(model.docs))],\n",
    "    \"doc_lengths\": [len(model.docs[n].words) for n in range(len(model.docs))],\n",
    "    \"vocab\": model.vocabs,\n",
    "    \"term_frequency\": model.vocab_freq,\n",
    "}"
   ]
  },
  {
   "cell_type": "markdown",
   "metadata": {},
   "source": [
    "Again, this could take a while"
   ]
  },
  {
   "cell_type": "code",
   "execution_count": null,
   "metadata": {
    "ExecuteTime": {
     "end_time": "2020-05-29T09:27:43.454250Z",
     "start_time": "2020-05-29T09:27:43.447247Z"
    }
   },
   "outputs": [],
   "source": [
    "def prepare_vis(model_data, results):\n",
    "    vis_data = pyLDAvis.prepare(**model_data)\n",
    "    results[0] = vis_data"
   ]
  },
  {
   "cell_type": "code",
   "execution_count": null,
   "metadata": {
    "ExecuteTime": {
     "end_time": "2020-05-29T09:28:06.289854Z",
     "start_time": "2020-05-29T09:27:43.456218Z"
    }
   },
   "outputs": [],
   "source": [
    "print(\"Preparing LDA visualisation\", flush=True, end=\"\")\n",
    "\n",
    "results = [None]\n",
    "t = threading.Thread(target=prepare_vis, args=(model_data, results))\n",
    "t.start()\n",
    "\n",
    "progress_countdown = 1.0\n",
    "\n",
    "while t.isAlive():\n",
    "    time.sleep(0.1)\n",
    "    progress_countdown -= 0.1\n",
    "    if progress_countdown <= 0:\n",
    "        print(\" .\", flush=True, end=\"\")\n",
    "        progress_countdown = 1\n",
    "\n",
    "print(\" Done.\")\n",
    "\n",
    "vis_data = results[0]"
   ]
  },
  {
   "cell_type": "code",
   "execution_count": null,
   "metadata": {
    "ExecuteTime": {
     "end_time": "2020-05-29T09:28:06.323950Z",
     "start_time": "2020-05-29T09:28:06.293855Z"
    }
   },
   "outputs": [],
   "source": [
    "pyLDAvis.display(vis_data)"
   ]
  },
  {
   "cell_type": "markdown",
   "metadata": {},
   "source": [
    "Iterate\n",
    "--------\n",
    "- See what the main topics might be, slice initial corpus and re-run LDA to get sub-topics"
   ]
  }
 ],
 "metadata": {
  "kernelspec": {
   "display_name": "Python 3",
   "language": "python",
   "name": "python3"
  },
  "language_info": {
   "codemirror_mode": {
    "name": "ipython",
    "version": 3
   },
   "file_extension": ".py",
   "mimetype": "text/x-python",
   "name": "python",
   "nbconvert_exporter": "python",
   "pygments_lexer": "ipython3",
   "version": "3.7.7"
  }
 },
 "nbformat": 4,
 "nbformat_minor": 4
}
